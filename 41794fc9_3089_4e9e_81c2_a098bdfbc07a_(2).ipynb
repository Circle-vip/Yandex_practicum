{
  "cells": [
    {
      "cell_type": "markdown",
      "metadata": {
        "id": "view-in-github",
        "colab_type": "text"
      },
      "source": [
        "<a href=\"https://colab.research.google.com/github/Circle-vip/Yandex_practicum/blob/main/41794fc9_3089_4e9e_81c2_a098bdfbc07a_(2).ipynb\" target=\"_parent\"><img src=\"https://colab.research.google.com/assets/colab-badge.svg\" alt=\"Open In Colab\"/></a>"
      ]
    },
    {
      "cell_type": "markdown",
      "metadata": {
        "id": "2VIBrLd-94DL"
      },
      "source": [
        "# Исследование рынка общественного питания в Москве."
      ]
    },
    {
      "cell_type": "code",
      "source": [
        "from google.colab import drive\n",
        "drive.mount('/content/drive')"
      ],
      "metadata": {
        "id": "9_QYWQU3PBV3",
        "outputId": "6478a40b-e605-40a9-f95d-cca89520691b",
        "colab": {
          "base_uri": "https://localhost:8080/"
        }
      },
      "execution_count": 9,
      "outputs": [
        {
          "output_type": "stream",
          "name": "stdout",
          "text": [
            "Mounted at /content/drive\n"
          ]
        }
      ]
    },
    {
      "cell_type": "markdown",
      "metadata": {
        "id": "frO_ERdg94DM"
      },
      "source": [
        "## Описание проекта:\n",
        "\n",
        " - Исследовать соотношение видов объектов общественного питания по количеству.\n",
        " - Исследовать соотношение сетевых и несетевых заведений по количеству. \n",
        " - Выяснить, для какого вида объекта общественного питания характерно сетевое распространение?\n",
        " - Выяснить, что характерно для сетевых заведений: много заведений с небольшим числом посадочных мест в каждом или мало заведений с большим количеством посадочных мест?\n",
        " - Для каждого вида объекта общественного питания описать среднее количество посадочных мест. Какой вид предоставляет в среднем самое большое количество посадочных мест?\n",
        " - Выделить в отдельный столбец информацию об улице из столбца address .\n",
        "\n",
        " А также визуализировать результаты и подготовить презентацию.\n",
        "\n",
        "***Цель:*** Найти место для ресторана с роботами-официантами. Порекомендовать кол-во посадочных мест и вида заведения.\n",
        "\n",
        "\n",
        "**Данные:**\n",
        "\n",
        "/content/drive/MyDrive/Яндекс Практикум/Проект №7, общепиты, plotly/rest_data (1).csv\n",
        "\n",
        "Таблица rest_data:\n",
        "\n",
        "- id — идентификатор объекта;\n",
        "- object_name — название объекта общественного питания;\n",
        "- chain — сетевой ресторан;\n",
        "- object_type — тип объекта общественного питания;\n",
        "- address — адрес;\n",
        "- number — количество посадочных мест.\n",
        "\n",
        "\n",
        "\n",
        "\n",
        "\n",
        "\n"
      ]
    },
    {
      "cell_type": "markdown",
      "metadata": {
        "id": "E50zb2H394DO"
      },
      "source": [
        "## Обзор данных"
      ]
    },
    {
      "cell_type": "code",
      "execution_count": 10,
      "metadata": {
        "id": "29aGeVHH94DP"
      },
      "outputs": [],
      "source": [
        "import pandas as pd\n",
        "import numpy as np\n",
        "import seaborn as sns\n",
        "import matplotlib.pyplot as plt\n",
        "import plotly.express as px\n",
        "from plotly import graph_objects as go\n",
        "from scipy import stats\n",
        "from numpy import median\n",
        "import warnings\n",
        "from io import BytesIO\n",
        "import requests\n",
        "import plotly.io as pio"
      ]
    },
    {
      "cell_type": "code",
      "execution_count": 11,
      "metadata": {
        "id": "Ji5kY_6X94DR"
      },
      "outputs": [],
      "source": [
        "#Устанавливаем единую тему для всех графиков\n",
        "pio.templates.default = \"plotly_white\"\n",
        "\n",
        "px.defaults.template = \"plotly_white\"\n",
        "px.defaults.color_continuous_scale = px.colors.sequential.Agsunset\n",
        "px.defaults.width = 900\n",
        "px.defaults.height = 550"
      ]
    },
    {
      "cell_type": "code",
      "execution_count": 12,
      "metadata": {
        "id": "jxrfI1Dc94DS"
      },
      "outputs": [],
      "source": [
        "#Чтобы окна об ошибках не мешали\n",
        "warnings.filterwarnings('ignore')"
      ]
    },
    {
      "cell_type": "code",
      "execution_count": 13,
      "metadata": {
        "id": "y3mkBCGH94DU"
      },
      "outputs": [],
      "source": [
        "df = pd.read_csv('/content/drive/MyDrive/Яндекс Практикум/Проект №7, общепиты, plotly/rest_data (1).csv')"
      ]
    },
    {
      "cell_type": "code",
      "execution_count": 14,
      "metadata": {
        "id": "PWQGxf0b94DV"
      },
      "outputs": [],
      "source": [
        "# Фуникция первичного знакомства с данными\n",
        "# Функция, которая сразу выводит всю информацию, принимая на вход название датасета\n",
        "def data_view(data):\n",
        "    #Сразу приводим названия всех колонок к змеиному регистру.    \n",
        "    data.columns = data.columns. \\\n",
        "                                str.replace(r'([a-z0-9])([A-Z])' , r'\\1_\\2', regex = True). \\\n",
        "                                str.replace(r'(.)([A-Z][a-z]+)', r'\\1_\\2', regex = True). \\\n",
        "                                str.replace(r'([a-z0-9])([A-Z])', r'\\1_\\2', regex = True). \\\n",
        "                                str.replace(r'__([A-Z])', r'_\\1', regex = True). \\\n",
        "                                str.replace(r'__([a-z0-9])', r'_\\1', regex = True)\n",
        "    data.columns = data.columns.str.lower()\n",
        "    print()\n",
        "    print('------------------ Первые 5 строк данных -------------------')\n",
        "    display(data.head()) # Выводим первые 5 строк\n",
        "    print()\n",
        "    print('------------------ Последние 5 строк данных -----------------')\n",
        "    display(data.tail()) # Выводим последние 5 строк\n",
        "    print()\n",
        "    print('------------------ Информация по датасету --------------------')\n",
        "    print()\n",
        "    display(data.info()) # Выводим инфо по датасету\n",
        "    print()\n",
        "    # Уточняем количество пропусков по столбцам. Берем сумму пропусков и процентную долю пропусков\n",
        "    print('------------------ Пропуски и уникальные значения (без учета пропусков) ---------------' )\n",
        "    display(pd.concat([data.isna().sum().rename('nan_count'), \n",
        "                       data.isna().mean().rename('nan_percent'),\n",
        "                       data.nunique().rename('unique_values')], \n",
        "                      axis=1).style.format({'nan_percent' : '{:.2%}'})) \n",
        "    print()    \n",
        "    print('------------------ Дубликаты -----------------------')\n",
        "    print()\n",
        "    print('Количество явных дубликатов:', data.duplicated().sum())\n",
        "    print()"
      ]
    },
    {
      "cell_type": "code",
      "execution_count": 15,
      "metadata": {
        "colab": {
          "base_uri": "https://localhost:8080/",
          "height": 1000
        },
        "id": "f62niWXF94DY",
        "outputId": "92a8f463-33ba-4d20-ad25-025bade10a10"
      },
      "outputs": [
        {
          "output_type": "stream",
          "name": "stdout",
          "text": [
            "\n",
            "------------------ Первые 5 строк данных -------------------\n"
          ]
        },
        {
          "output_type": "display_data",
          "data": {
            "text/plain": [
              "       id             object_name chain object_type  \\\n",
              "0  151635                 СМЕТАНА   нет        кафе   \n",
              "1   77874                  Родник   нет        кафе   \n",
              "2   24309         Кафе «Академия»   нет        кафе   \n",
              "3   21894              ПИЦЦЕТОРИЯ    да        кафе   \n",
              "4  119365  Кафе «Вишневая метель»   нет        кафе   \n",
              "\n",
              "                                             address  number  \n",
              "0         город Москва, улица Егора Абакумова, дом 9      48  \n",
              "1  город Москва, улица Талалихина, дом 2/1, корпус 1      35  \n",
              "2          город Москва, Абельмановская улица, дом 6      95  \n",
              "3            город Москва, Абрамцевская улица, дом 1      40  \n",
              "4  город Москва, Абрамцевская улица, дом 9, корпус 1      50  "
            ],
            "text/html": [
              "\n",
              "  <div id=\"df-df2e1cf1-7b78-4a03-a55b-f2ffbefb4052\">\n",
              "    <div class=\"colab-df-container\">\n",
              "      <div>\n",
              "<style scoped>\n",
              "    .dataframe tbody tr th:only-of-type {\n",
              "        vertical-align: middle;\n",
              "    }\n",
              "\n",
              "    .dataframe tbody tr th {\n",
              "        vertical-align: top;\n",
              "    }\n",
              "\n",
              "    .dataframe thead th {\n",
              "        text-align: right;\n",
              "    }\n",
              "</style>\n",
              "<table border=\"1\" class=\"dataframe\">\n",
              "  <thead>\n",
              "    <tr style=\"text-align: right;\">\n",
              "      <th></th>\n",
              "      <th>id</th>\n",
              "      <th>object_name</th>\n",
              "      <th>chain</th>\n",
              "      <th>object_type</th>\n",
              "      <th>address</th>\n",
              "      <th>number</th>\n",
              "    </tr>\n",
              "  </thead>\n",
              "  <tbody>\n",
              "    <tr>\n",
              "      <th>0</th>\n",
              "      <td>151635</td>\n",
              "      <td>СМЕТАНА</td>\n",
              "      <td>нет</td>\n",
              "      <td>кафе</td>\n",
              "      <td>город Москва, улица Егора Абакумова, дом 9</td>\n",
              "      <td>48</td>\n",
              "    </tr>\n",
              "    <tr>\n",
              "      <th>1</th>\n",
              "      <td>77874</td>\n",
              "      <td>Родник</td>\n",
              "      <td>нет</td>\n",
              "      <td>кафе</td>\n",
              "      <td>город Москва, улица Талалихина, дом 2/1, корпус 1</td>\n",
              "      <td>35</td>\n",
              "    </tr>\n",
              "    <tr>\n",
              "      <th>2</th>\n",
              "      <td>24309</td>\n",
              "      <td>Кафе «Академия»</td>\n",
              "      <td>нет</td>\n",
              "      <td>кафе</td>\n",
              "      <td>город Москва, Абельмановская улица, дом 6</td>\n",
              "      <td>95</td>\n",
              "    </tr>\n",
              "    <tr>\n",
              "      <th>3</th>\n",
              "      <td>21894</td>\n",
              "      <td>ПИЦЦЕТОРИЯ</td>\n",
              "      <td>да</td>\n",
              "      <td>кафе</td>\n",
              "      <td>город Москва, Абрамцевская улица, дом 1</td>\n",
              "      <td>40</td>\n",
              "    </tr>\n",
              "    <tr>\n",
              "      <th>4</th>\n",
              "      <td>119365</td>\n",
              "      <td>Кафе «Вишневая метель»</td>\n",
              "      <td>нет</td>\n",
              "      <td>кафе</td>\n",
              "      <td>город Москва, Абрамцевская улица, дом 9, корпус 1</td>\n",
              "      <td>50</td>\n",
              "    </tr>\n",
              "  </tbody>\n",
              "</table>\n",
              "</div>\n",
              "      <button class=\"colab-df-convert\" onclick=\"convertToInteractive('df-df2e1cf1-7b78-4a03-a55b-f2ffbefb4052')\"\n",
              "              title=\"Convert this dataframe to an interactive table.\"\n",
              "              style=\"display:none;\">\n",
              "        \n",
              "  <svg xmlns=\"http://www.w3.org/2000/svg\" height=\"24px\"viewBox=\"0 0 24 24\"\n",
              "       width=\"24px\">\n",
              "    <path d=\"M0 0h24v24H0V0z\" fill=\"none\"/>\n",
              "    <path d=\"M18.56 5.44l.94 2.06.94-2.06 2.06-.94-2.06-.94-.94-2.06-.94 2.06-2.06.94zm-11 1L8.5 8.5l.94-2.06 2.06-.94-2.06-.94L8.5 2.5l-.94 2.06-2.06.94zm10 10l.94 2.06.94-2.06 2.06-.94-2.06-.94-.94-2.06-.94 2.06-2.06.94z\"/><path d=\"M17.41 7.96l-1.37-1.37c-.4-.4-.92-.59-1.43-.59-.52 0-1.04.2-1.43.59L10.3 9.45l-7.72 7.72c-.78.78-.78 2.05 0 2.83L4 21.41c.39.39.9.59 1.41.59.51 0 1.02-.2 1.41-.59l7.78-7.78 2.81-2.81c.8-.78.8-2.07 0-2.86zM5.41 20L4 18.59l7.72-7.72 1.47 1.35L5.41 20z\"/>\n",
              "  </svg>\n",
              "      </button>\n",
              "      \n",
              "  <style>\n",
              "    .colab-df-container {\n",
              "      display:flex;\n",
              "      flex-wrap:wrap;\n",
              "      gap: 12px;\n",
              "    }\n",
              "\n",
              "    .colab-df-convert {\n",
              "      background-color: #E8F0FE;\n",
              "      border: none;\n",
              "      border-radius: 50%;\n",
              "      cursor: pointer;\n",
              "      display: none;\n",
              "      fill: #1967D2;\n",
              "      height: 32px;\n",
              "      padding: 0 0 0 0;\n",
              "      width: 32px;\n",
              "    }\n",
              "\n",
              "    .colab-df-convert:hover {\n",
              "      background-color: #E2EBFA;\n",
              "      box-shadow: 0px 1px 2px rgba(60, 64, 67, 0.3), 0px 1px 3px 1px rgba(60, 64, 67, 0.15);\n",
              "      fill: #174EA6;\n",
              "    }\n",
              "\n",
              "    [theme=dark] .colab-df-convert {\n",
              "      background-color: #3B4455;\n",
              "      fill: #D2E3FC;\n",
              "    }\n",
              "\n",
              "    [theme=dark] .colab-df-convert:hover {\n",
              "      background-color: #434B5C;\n",
              "      box-shadow: 0px 1px 3px 1px rgba(0, 0, 0, 0.15);\n",
              "      filter: drop-shadow(0px 1px 2px rgba(0, 0, 0, 0.3));\n",
              "      fill: #FFFFFF;\n",
              "    }\n",
              "  </style>\n",
              "\n",
              "      <script>\n",
              "        const buttonEl =\n",
              "          document.querySelector('#df-df2e1cf1-7b78-4a03-a55b-f2ffbefb4052 button.colab-df-convert');\n",
              "        buttonEl.style.display =\n",
              "          google.colab.kernel.accessAllowed ? 'block' : 'none';\n",
              "\n",
              "        async function convertToInteractive(key) {\n",
              "          const element = document.querySelector('#df-df2e1cf1-7b78-4a03-a55b-f2ffbefb4052');\n",
              "          const dataTable =\n",
              "            await google.colab.kernel.invokeFunction('convertToInteractive',\n",
              "                                                     [key], {});\n",
              "          if (!dataTable) return;\n",
              "\n",
              "          const docLinkHtml = 'Like what you see? Visit the ' +\n",
              "            '<a target=\"_blank\" href=https://colab.research.google.com/notebooks/data_table.ipynb>data table notebook</a>'\n",
              "            + ' to learn more about interactive tables.';\n",
              "          element.innerHTML = '';\n",
              "          dataTable['output_type'] = 'display_data';\n",
              "          await google.colab.output.renderOutput(dataTable, element);\n",
              "          const docLink = document.createElement('div');\n",
              "          docLink.innerHTML = docLinkHtml;\n",
              "          element.appendChild(docLink);\n",
              "        }\n",
              "      </script>\n",
              "    </div>\n",
              "  </div>\n",
              "  "
            ]
          },
          "metadata": {}
        },
        {
          "output_type": "stream",
          "name": "stdout",
          "text": [
            "\n",
            "------------------ Последние 5 строк данных -----------------\n"
          ]
        },
        {
          "output_type": "display_data",
          "data": {
            "text/plain": [
              "           id  object_name chain object_type  \\\n",
              "15361  208537  Шоколадница    да        кафе   \n",
              "15362  209264  Шоколадница    да        кафе   \n",
              "15363  209186  Шоколадница    да        кафе   \n",
              "15364  221900  Шоколадница    да        кафе   \n",
              "15365  222535  Шоколадница    да        кафе   \n",
              "\n",
              "                                                 address  number  \n",
              "15361       город Москва, 3-й Крутицкий переулок, дом 18      50  \n",
              "15362           город Москва, улица Земляной Вал, дом 33      10  \n",
              "15363           город Москва, улица Земляной Вал, дом 33      20  \n",
              "15364  город Москва, поселение Московский, Киевское ш...      36  \n",
              "15365             город Москва, Ходынский бульвар, дом 4      10  "
            ],
            "text/html": [
              "\n",
              "  <div id=\"df-35bd2355-8243-4cb2-9a2b-d14384154fa1\">\n",
              "    <div class=\"colab-df-container\">\n",
              "      <div>\n",
              "<style scoped>\n",
              "    .dataframe tbody tr th:only-of-type {\n",
              "        vertical-align: middle;\n",
              "    }\n",
              "\n",
              "    .dataframe tbody tr th {\n",
              "        vertical-align: top;\n",
              "    }\n",
              "\n",
              "    .dataframe thead th {\n",
              "        text-align: right;\n",
              "    }\n",
              "</style>\n",
              "<table border=\"1\" class=\"dataframe\">\n",
              "  <thead>\n",
              "    <tr style=\"text-align: right;\">\n",
              "      <th></th>\n",
              "      <th>id</th>\n",
              "      <th>object_name</th>\n",
              "      <th>chain</th>\n",
              "      <th>object_type</th>\n",
              "      <th>address</th>\n",
              "      <th>number</th>\n",
              "    </tr>\n",
              "  </thead>\n",
              "  <tbody>\n",
              "    <tr>\n",
              "      <th>15361</th>\n",
              "      <td>208537</td>\n",
              "      <td>Шоколадница</td>\n",
              "      <td>да</td>\n",
              "      <td>кафе</td>\n",
              "      <td>город Москва, 3-й Крутицкий переулок, дом 18</td>\n",
              "      <td>50</td>\n",
              "    </tr>\n",
              "    <tr>\n",
              "      <th>15362</th>\n",
              "      <td>209264</td>\n",
              "      <td>Шоколадница</td>\n",
              "      <td>да</td>\n",
              "      <td>кафе</td>\n",
              "      <td>город Москва, улица Земляной Вал, дом 33</td>\n",
              "      <td>10</td>\n",
              "    </tr>\n",
              "    <tr>\n",
              "      <th>15363</th>\n",
              "      <td>209186</td>\n",
              "      <td>Шоколадница</td>\n",
              "      <td>да</td>\n",
              "      <td>кафе</td>\n",
              "      <td>город Москва, улица Земляной Вал, дом 33</td>\n",
              "      <td>20</td>\n",
              "    </tr>\n",
              "    <tr>\n",
              "      <th>15364</th>\n",
              "      <td>221900</td>\n",
              "      <td>Шоколадница</td>\n",
              "      <td>да</td>\n",
              "      <td>кафе</td>\n",
              "      <td>город Москва, поселение Московский, Киевское ш...</td>\n",
              "      <td>36</td>\n",
              "    </tr>\n",
              "    <tr>\n",
              "      <th>15365</th>\n",
              "      <td>222535</td>\n",
              "      <td>Шоколадница</td>\n",
              "      <td>да</td>\n",
              "      <td>кафе</td>\n",
              "      <td>город Москва, Ходынский бульвар, дом 4</td>\n",
              "      <td>10</td>\n",
              "    </tr>\n",
              "  </tbody>\n",
              "</table>\n",
              "</div>\n",
              "      <button class=\"colab-df-convert\" onclick=\"convertToInteractive('df-35bd2355-8243-4cb2-9a2b-d14384154fa1')\"\n",
              "              title=\"Convert this dataframe to an interactive table.\"\n",
              "              style=\"display:none;\">\n",
              "        \n",
              "  <svg xmlns=\"http://www.w3.org/2000/svg\" height=\"24px\"viewBox=\"0 0 24 24\"\n",
              "       width=\"24px\">\n",
              "    <path d=\"M0 0h24v24H0V0z\" fill=\"none\"/>\n",
              "    <path d=\"M18.56 5.44l.94 2.06.94-2.06 2.06-.94-2.06-.94-.94-2.06-.94 2.06-2.06.94zm-11 1L8.5 8.5l.94-2.06 2.06-.94-2.06-.94L8.5 2.5l-.94 2.06-2.06.94zm10 10l.94 2.06.94-2.06 2.06-.94-2.06-.94-.94-2.06-.94 2.06-2.06.94z\"/><path d=\"M17.41 7.96l-1.37-1.37c-.4-.4-.92-.59-1.43-.59-.52 0-1.04.2-1.43.59L10.3 9.45l-7.72 7.72c-.78.78-.78 2.05 0 2.83L4 21.41c.39.39.9.59 1.41.59.51 0 1.02-.2 1.41-.59l7.78-7.78 2.81-2.81c.8-.78.8-2.07 0-2.86zM5.41 20L4 18.59l7.72-7.72 1.47 1.35L5.41 20z\"/>\n",
              "  </svg>\n",
              "      </button>\n",
              "      \n",
              "  <style>\n",
              "    .colab-df-container {\n",
              "      display:flex;\n",
              "      flex-wrap:wrap;\n",
              "      gap: 12px;\n",
              "    }\n",
              "\n",
              "    .colab-df-convert {\n",
              "      background-color: #E8F0FE;\n",
              "      border: none;\n",
              "      border-radius: 50%;\n",
              "      cursor: pointer;\n",
              "      display: none;\n",
              "      fill: #1967D2;\n",
              "      height: 32px;\n",
              "      padding: 0 0 0 0;\n",
              "      width: 32px;\n",
              "    }\n",
              "\n",
              "    .colab-df-convert:hover {\n",
              "      background-color: #E2EBFA;\n",
              "      box-shadow: 0px 1px 2px rgba(60, 64, 67, 0.3), 0px 1px 3px 1px rgba(60, 64, 67, 0.15);\n",
              "      fill: #174EA6;\n",
              "    }\n",
              "\n",
              "    [theme=dark] .colab-df-convert {\n",
              "      background-color: #3B4455;\n",
              "      fill: #D2E3FC;\n",
              "    }\n",
              "\n",
              "    [theme=dark] .colab-df-convert:hover {\n",
              "      background-color: #434B5C;\n",
              "      box-shadow: 0px 1px 3px 1px rgba(0, 0, 0, 0.15);\n",
              "      filter: drop-shadow(0px 1px 2px rgba(0, 0, 0, 0.3));\n",
              "      fill: #FFFFFF;\n",
              "    }\n",
              "  </style>\n",
              "\n",
              "      <script>\n",
              "        const buttonEl =\n",
              "          document.querySelector('#df-35bd2355-8243-4cb2-9a2b-d14384154fa1 button.colab-df-convert');\n",
              "        buttonEl.style.display =\n",
              "          google.colab.kernel.accessAllowed ? 'block' : 'none';\n",
              "\n",
              "        async function convertToInteractive(key) {\n",
              "          const element = document.querySelector('#df-35bd2355-8243-4cb2-9a2b-d14384154fa1');\n",
              "          const dataTable =\n",
              "            await google.colab.kernel.invokeFunction('convertToInteractive',\n",
              "                                                     [key], {});\n",
              "          if (!dataTable) return;\n",
              "\n",
              "          const docLinkHtml = 'Like what you see? Visit the ' +\n",
              "            '<a target=\"_blank\" href=https://colab.research.google.com/notebooks/data_table.ipynb>data table notebook</a>'\n",
              "            + ' to learn more about interactive tables.';\n",
              "          element.innerHTML = '';\n",
              "          dataTable['output_type'] = 'display_data';\n",
              "          await google.colab.output.renderOutput(dataTable, element);\n",
              "          const docLink = document.createElement('div');\n",
              "          docLink.innerHTML = docLinkHtml;\n",
              "          element.appendChild(docLink);\n",
              "        }\n",
              "      </script>\n",
              "    </div>\n",
              "  </div>\n",
              "  "
            ]
          },
          "metadata": {}
        },
        {
          "output_type": "stream",
          "name": "stdout",
          "text": [
            "\n",
            "------------------ Информация по датасету --------------------\n",
            "\n",
            "<class 'pandas.core.frame.DataFrame'>\n",
            "RangeIndex: 15366 entries, 0 to 15365\n",
            "Data columns (total 6 columns):\n",
            " #   Column       Non-Null Count  Dtype \n",
            "---  ------       --------------  ----- \n",
            " 0   id           15366 non-null  int64 \n",
            " 1   object_name  15366 non-null  object\n",
            " 2   chain        15366 non-null  object\n",
            " 3   object_type  15366 non-null  object\n",
            " 4   address      15366 non-null  object\n",
            " 5   number       15366 non-null  int64 \n",
            "dtypes: int64(2), object(4)\n",
            "memory usage: 720.4+ KB\n"
          ]
        },
        {
          "output_type": "display_data",
          "data": {
            "text/plain": [
              "None"
            ]
          },
          "metadata": {}
        },
        {
          "output_type": "stream",
          "name": "stdout",
          "text": [
            "\n",
            "------------------ Пропуски и уникальные значения (без учета пропусков) ---------------\n"
          ]
        },
        {
          "output_type": "display_data",
          "data": {
            "text/plain": [
              "<pandas.io.formats.style.Styler at 0x7fe0da84c190>"
            ],
            "text/html": [
              "<style type=\"text/css\">\n",
              "</style>\n",
              "<table id=\"T_408a9_\" class=\"dataframe\">\n",
              "  <thead>\n",
              "    <tr>\n",
              "      <th class=\"blank level0\" >&nbsp;</th>\n",
              "      <th class=\"col_heading level0 col0\" >nan_count</th>\n",
              "      <th class=\"col_heading level0 col1\" >nan_percent</th>\n",
              "      <th class=\"col_heading level0 col2\" >unique_values</th>\n",
              "    </tr>\n",
              "  </thead>\n",
              "  <tbody>\n",
              "    <tr>\n",
              "      <th id=\"T_408a9_level0_row0\" class=\"row_heading level0 row0\" >id</th>\n",
              "      <td id=\"T_408a9_row0_col0\" class=\"data row0 col0\" >0</td>\n",
              "      <td id=\"T_408a9_row0_col1\" class=\"data row0 col1\" >0.00%</td>\n",
              "      <td id=\"T_408a9_row0_col2\" class=\"data row0 col2\" >15366</td>\n",
              "    </tr>\n",
              "    <tr>\n",
              "      <th id=\"T_408a9_level0_row1\" class=\"row_heading level0 row1\" >object_name</th>\n",
              "      <td id=\"T_408a9_row1_col0\" class=\"data row1 col0\" >0</td>\n",
              "      <td id=\"T_408a9_row1_col1\" class=\"data row1 col1\" >0.00%</td>\n",
              "      <td id=\"T_408a9_row1_col2\" class=\"data row1 col2\" >10393</td>\n",
              "    </tr>\n",
              "    <tr>\n",
              "      <th id=\"T_408a9_level0_row2\" class=\"row_heading level0 row2\" >chain</th>\n",
              "      <td id=\"T_408a9_row2_col0\" class=\"data row2 col0\" >0</td>\n",
              "      <td id=\"T_408a9_row2_col1\" class=\"data row2 col1\" >0.00%</td>\n",
              "      <td id=\"T_408a9_row2_col2\" class=\"data row2 col2\" >2</td>\n",
              "    </tr>\n",
              "    <tr>\n",
              "      <th id=\"T_408a9_level0_row3\" class=\"row_heading level0 row3\" >object_type</th>\n",
              "      <td id=\"T_408a9_row3_col0\" class=\"data row3 col0\" >0</td>\n",
              "      <td id=\"T_408a9_row3_col1\" class=\"data row3 col1\" >0.00%</td>\n",
              "      <td id=\"T_408a9_row3_col2\" class=\"data row3 col2\" >9</td>\n",
              "    </tr>\n",
              "    <tr>\n",
              "      <th id=\"T_408a9_level0_row4\" class=\"row_heading level0 row4\" >address</th>\n",
              "      <td id=\"T_408a9_row4_col0\" class=\"data row4 col0\" >0</td>\n",
              "      <td id=\"T_408a9_row4_col1\" class=\"data row4 col1\" >0.00%</td>\n",
              "      <td id=\"T_408a9_row4_col2\" class=\"data row4 col2\" >9108</td>\n",
              "    </tr>\n",
              "    <tr>\n",
              "      <th id=\"T_408a9_level0_row5\" class=\"row_heading level0 row5\" >number</th>\n",
              "      <td id=\"T_408a9_row5_col0\" class=\"data row5 col0\" >0</td>\n",
              "      <td id=\"T_408a9_row5_col1\" class=\"data row5 col1\" >0.00%</td>\n",
              "      <td id=\"T_408a9_row5_col2\" class=\"data row5 col2\" >315</td>\n",
              "    </tr>\n",
              "  </tbody>\n",
              "</table>\n"
            ]
          },
          "metadata": {}
        },
        {
          "output_type": "stream",
          "name": "stdout",
          "text": [
            "\n",
            "------------------ Дубликаты -----------------------\n",
            "\n",
            "Количество явных дубликатов: 0\n",
            "\n"
          ]
        }
      ],
      "source": [
        "data_view(df)"
      ]
    },
    {
      "cell_type": "markdown",
      "metadata": {
        "id": "Sue0DEDV94DZ"
      },
      "source": [
        "При первом взляде на данные дубликаты и пропуски не найдены. "
      ]
    },
    {
      "cell_type": "markdown",
      "metadata": {
        "id": "vroyYf4M94Da"
      },
      "source": [
        "### Предобработка данных"
      ]
    },
    {
      "cell_type": "code",
      "execution_count": 16,
      "metadata": {
        "colab": {
          "base_uri": "https://localhost:8080/",
          "height": 143
        },
        "id": "Wuuvohzi94Da",
        "outputId": "36a5186e-7486-457a-f09d-9d4c2516462c"
      },
      "outputs": [
        {
          "output_type": "execute_result",
          "data": {
            "text/plain": [
              "       id      object_name chain object_type  \\\n",
              "0  151635          сметана   нет        кафе   \n",
              "1   77874           родник   нет        кафе   \n",
              "2   24309  кафе «академия»   нет        кафе   \n",
              "\n",
              "                                             address  number  \n",
              "0         город москва, улица егора абакумова, дом 9      48  \n",
              "1  город москва, улица талалихина, дом 2/1, корпус 1      35  \n",
              "2          город москва, абельмановская улица, дом 6      95  "
            ],
            "text/html": [
              "\n",
              "  <div id=\"df-ffb64033-dc6b-4513-bf5a-3973d26d2507\">\n",
              "    <div class=\"colab-df-container\">\n",
              "      <div>\n",
              "<style scoped>\n",
              "    .dataframe tbody tr th:only-of-type {\n",
              "        vertical-align: middle;\n",
              "    }\n",
              "\n",
              "    .dataframe tbody tr th {\n",
              "        vertical-align: top;\n",
              "    }\n",
              "\n",
              "    .dataframe thead th {\n",
              "        text-align: right;\n",
              "    }\n",
              "</style>\n",
              "<table border=\"1\" class=\"dataframe\">\n",
              "  <thead>\n",
              "    <tr style=\"text-align: right;\">\n",
              "      <th></th>\n",
              "      <th>id</th>\n",
              "      <th>object_name</th>\n",
              "      <th>chain</th>\n",
              "      <th>object_type</th>\n",
              "      <th>address</th>\n",
              "      <th>number</th>\n",
              "    </tr>\n",
              "  </thead>\n",
              "  <tbody>\n",
              "    <tr>\n",
              "      <th>0</th>\n",
              "      <td>151635</td>\n",
              "      <td>сметана</td>\n",
              "      <td>нет</td>\n",
              "      <td>кафе</td>\n",
              "      <td>город москва, улица егора абакумова, дом 9</td>\n",
              "      <td>48</td>\n",
              "    </tr>\n",
              "    <tr>\n",
              "      <th>1</th>\n",
              "      <td>77874</td>\n",
              "      <td>родник</td>\n",
              "      <td>нет</td>\n",
              "      <td>кафе</td>\n",
              "      <td>город москва, улица талалихина, дом 2/1, корпус 1</td>\n",
              "      <td>35</td>\n",
              "    </tr>\n",
              "    <tr>\n",
              "      <th>2</th>\n",
              "      <td>24309</td>\n",
              "      <td>кафе «академия»</td>\n",
              "      <td>нет</td>\n",
              "      <td>кафе</td>\n",
              "      <td>город москва, абельмановская улица, дом 6</td>\n",
              "      <td>95</td>\n",
              "    </tr>\n",
              "  </tbody>\n",
              "</table>\n",
              "</div>\n",
              "      <button class=\"colab-df-convert\" onclick=\"convertToInteractive('df-ffb64033-dc6b-4513-bf5a-3973d26d2507')\"\n",
              "              title=\"Convert this dataframe to an interactive table.\"\n",
              "              style=\"display:none;\">\n",
              "        \n",
              "  <svg xmlns=\"http://www.w3.org/2000/svg\" height=\"24px\"viewBox=\"0 0 24 24\"\n",
              "       width=\"24px\">\n",
              "    <path d=\"M0 0h24v24H0V0z\" fill=\"none\"/>\n",
              "    <path d=\"M18.56 5.44l.94 2.06.94-2.06 2.06-.94-2.06-.94-.94-2.06-.94 2.06-2.06.94zm-11 1L8.5 8.5l.94-2.06 2.06-.94-2.06-.94L8.5 2.5l-.94 2.06-2.06.94zm10 10l.94 2.06.94-2.06 2.06-.94-2.06-.94-.94-2.06-.94 2.06-2.06.94z\"/><path d=\"M17.41 7.96l-1.37-1.37c-.4-.4-.92-.59-1.43-.59-.52 0-1.04.2-1.43.59L10.3 9.45l-7.72 7.72c-.78.78-.78 2.05 0 2.83L4 21.41c.39.39.9.59 1.41.59.51 0 1.02-.2 1.41-.59l7.78-7.78 2.81-2.81c.8-.78.8-2.07 0-2.86zM5.41 20L4 18.59l7.72-7.72 1.47 1.35L5.41 20z\"/>\n",
              "  </svg>\n",
              "      </button>\n",
              "      \n",
              "  <style>\n",
              "    .colab-df-container {\n",
              "      display:flex;\n",
              "      flex-wrap:wrap;\n",
              "      gap: 12px;\n",
              "    }\n",
              "\n",
              "    .colab-df-convert {\n",
              "      background-color: #E8F0FE;\n",
              "      border: none;\n",
              "      border-radius: 50%;\n",
              "      cursor: pointer;\n",
              "      display: none;\n",
              "      fill: #1967D2;\n",
              "      height: 32px;\n",
              "      padding: 0 0 0 0;\n",
              "      width: 32px;\n",
              "    }\n",
              "\n",
              "    .colab-df-convert:hover {\n",
              "      background-color: #E2EBFA;\n",
              "      box-shadow: 0px 1px 2px rgba(60, 64, 67, 0.3), 0px 1px 3px 1px rgba(60, 64, 67, 0.15);\n",
              "      fill: #174EA6;\n",
              "    }\n",
              "\n",
              "    [theme=dark] .colab-df-convert {\n",
              "      background-color: #3B4455;\n",
              "      fill: #D2E3FC;\n",
              "    }\n",
              "\n",
              "    [theme=dark] .colab-df-convert:hover {\n",
              "      background-color: #434B5C;\n",
              "      box-shadow: 0px 1px 3px 1px rgba(0, 0, 0, 0.15);\n",
              "      filter: drop-shadow(0px 1px 2px rgba(0, 0, 0, 0.3));\n",
              "      fill: #FFFFFF;\n",
              "    }\n",
              "  </style>\n",
              "\n",
              "      <script>\n",
              "        const buttonEl =\n",
              "          document.querySelector('#df-ffb64033-dc6b-4513-bf5a-3973d26d2507 button.colab-df-convert');\n",
              "        buttonEl.style.display =\n",
              "          google.colab.kernel.accessAllowed ? 'block' : 'none';\n",
              "\n",
              "        async function convertToInteractive(key) {\n",
              "          const element = document.querySelector('#df-ffb64033-dc6b-4513-bf5a-3973d26d2507');\n",
              "          const dataTable =\n",
              "            await google.colab.kernel.invokeFunction('convertToInteractive',\n",
              "                                                     [key], {});\n",
              "          if (!dataTable) return;\n",
              "\n",
              "          const docLinkHtml = 'Like what you see? Visit the ' +\n",
              "            '<a target=\"_blank\" href=https://colab.research.google.com/notebooks/data_table.ipynb>data table notebook</a>'\n",
              "            + ' to learn more about interactive tables.';\n",
              "          element.innerHTML = '';\n",
              "          dataTable['output_type'] = 'display_data';\n",
              "          await google.colab.output.renderOutput(dataTable, element);\n",
              "          const docLink = document.createElement('div');\n",
              "          docLink.innerHTML = docLinkHtml;\n",
              "          element.appendChild(docLink);\n",
              "        }\n",
              "      </script>\n",
              "    </div>\n",
              "  </div>\n",
              "  "
            ]
          },
          "metadata": {},
          "execution_count": 16
        }
      ],
      "source": [
        "#Приводим столбцы к нижнему регистру\n",
        "df['object_name'] = df['object_name'].str.lower()\n",
        "df['address'] = df['address'].str.lower()\n",
        "df.head(3)"
      ]
    },
    {
      "cell_type": "code",
      "execution_count": 17,
      "metadata": {
        "colab": {
          "base_uri": "https://localhost:8080/"
        },
        "id": "C3rJHDQ394Db",
        "outputId": "2a4452a7-b8cc-45b2-b1e2-2e15704022b5"
      },
      "outputs": [
        {
          "output_type": "execute_result",
          "data": {
            "text/plain": [
              "0"
            ]
          },
          "metadata": {},
          "execution_count": 17
        }
      ],
      "source": [
        "df.duplicated().sum()  #проверила на дубликаты после приведения к нижнему регистру"
      ]
    },
    {
      "cell_type": "code",
      "execution_count": 18,
      "metadata": {
        "colab": {
          "base_uri": "https://localhost:8080/"
        },
        "id": "qRw6UtGL94Dc",
        "outputId": "089fa088-0991-4a81-ea42-de1677874275"
      },
      "outputs": [
        {
          "output_type": "execute_result",
          "data": {
            "text/plain": [
              "array(['нет', 'да'], dtype=object)"
            ]
          },
          "metadata": {},
          "execution_count": 18
        }
      ],
      "source": [
        "df['chain'].unique()"
      ]
    },
    {
      "cell_type": "code",
      "execution_count": 19,
      "metadata": {
        "colab": {
          "base_uri": "https://localhost:8080/",
          "height": 466
        },
        "id": "5h10cNJq94Dc",
        "outputId": "fa3db30f-cd45-4e39-eb61-05a7d20fcf3a"
      },
      "outputs": [
        {
          "output_type": "stream",
          "name": "stdout",
          "text": [
            "<class 'pandas.core.frame.DataFrame'>\n",
            "RangeIndex: 15366 entries, 0 to 15365\n",
            "Data columns (total 6 columns):\n",
            " #   Column       Non-Null Count  Dtype \n",
            "---  ------       --------------  ----- \n",
            " 0   id           15366 non-null  int64 \n",
            " 1   object_name  15366 non-null  object\n",
            " 2   chain        15366 non-null  bool  \n",
            " 3   object_type  15366 non-null  object\n",
            " 4   address      15366 non-null  object\n",
            " 5   number       15366 non-null  int64 \n",
            "dtypes: bool(1), int64(2), object(3)\n",
            "memory usage: 615.4+ KB\n",
            "\n",
            "Типы данных выгружены корректно, пропусков не обнаружено, в столбце chain заменены значения на логические\n"
          ]
        },
        {
          "output_type": "execute_result",
          "data": {
            "text/plain": [
              "       id             object_name  chain object_type  \\\n",
              "0  151635                 сметана  False        кафе   \n",
              "1   77874                  родник  False        кафе   \n",
              "2   24309         кафе «академия»  False        кафе   \n",
              "3   21894              пиццетория   True        кафе   \n",
              "4  119365  кафе «вишневая метель»  False        кафе   \n",
              "\n",
              "                                             address  number  \n",
              "0         город москва, улица егора абакумова, дом 9      48  \n",
              "1  город москва, улица талалихина, дом 2/1, корпус 1      35  \n",
              "2          город москва, абельмановская улица, дом 6      95  \n",
              "3            город москва, абрамцевская улица, дом 1      40  \n",
              "4  город москва, абрамцевская улица, дом 9, корпус 1      50  "
            ],
            "text/html": [
              "\n",
              "  <div id=\"df-7b0f7a27-59aa-499c-85b7-51fc2362ff5d\">\n",
              "    <div class=\"colab-df-container\">\n",
              "      <div>\n",
              "<style scoped>\n",
              "    .dataframe tbody tr th:only-of-type {\n",
              "        vertical-align: middle;\n",
              "    }\n",
              "\n",
              "    .dataframe tbody tr th {\n",
              "        vertical-align: top;\n",
              "    }\n",
              "\n",
              "    .dataframe thead th {\n",
              "        text-align: right;\n",
              "    }\n",
              "</style>\n",
              "<table border=\"1\" class=\"dataframe\">\n",
              "  <thead>\n",
              "    <tr style=\"text-align: right;\">\n",
              "      <th></th>\n",
              "      <th>id</th>\n",
              "      <th>object_name</th>\n",
              "      <th>chain</th>\n",
              "      <th>object_type</th>\n",
              "      <th>address</th>\n",
              "      <th>number</th>\n",
              "    </tr>\n",
              "  </thead>\n",
              "  <tbody>\n",
              "    <tr>\n",
              "      <th>0</th>\n",
              "      <td>151635</td>\n",
              "      <td>сметана</td>\n",
              "      <td>False</td>\n",
              "      <td>кафе</td>\n",
              "      <td>город москва, улица егора абакумова, дом 9</td>\n",
              "      <td>48</td>\n",
              "    </tr>\n",
              "    <tr>\n",
              "      <th>1</th>\n",
              "      <td>77874</td>\n",
              "      <td>родник</td>\n",
              "      <td>False</td>\n",
              "      <td>кафе</td>\n",
              "      <td>город москва, улица талалихина, дом 2/1, корпус 1</td>\n",
              "      <td>35</td>\n",
              "    </tr>\n",
              "    <tr>\n",
              "      <th>2</th>\n",
              "      <td>24309</td>\n",
              "      <td>кафе «академия»</td>\n",
              "      <td>False</td>\n",
              "      <td>кафе</td>\n",
              "      <td>город москва, абельмановская улица, дом 6</td>\n",
              "      <td>95</td>\n",
              "    </tr>\n",
              "    <tr>\n",
              "      <th>3</th>\n",
              "      <td>21894</td>\n",
              "      <td>пиццетория</td>\n",
              "      <td>True</td>\n",
              "      <td>кафе</td>\n",
              "      <td>город москва, абрамцевская улица, дом 1</td>\n",
              "      <td>40</td>\n",
              "    </tr>\n",
              "    <tr>\n",
              "      <th>4</th>\n",
              "      <td>119365</td>\n",
              "      <td>кафе «вишневая метель»</td>\n",
              "      <td>False</td>\n",
              "      <td>кафе</td>\n",
              "      <td>город москва, абрамцевская улица, дом 9, корпус 1</td>\n",
              "      <td>50</td>\n",
              "    </tr>\n",
              "  </tbody>\n",
              "</table>\n",
              "</div>\n",
              "      <button class=\"colab-df-convert\" onclick=\"convertToInteractive('df-7b0f7a27-59aa-499c-85b7-51fc2362ff5d')\"\n",
              "              title=\"Convert this dataframe to an interactive table.\"\n",
              "              style=\"display:none;\">\n",
              "        \n",
              "  <svg xmlns=\"http://www.w3.org/2000/svg\" height=\"24px\"viewBox=\"0 0 24 24\"\n",
              "       width=\"24px\">\n",
              "    <path d=\"M0 0h24v24H0V0z\" fill=\"none\"/>\n",
              "    <path d=\"M18.56 5.44l.94 2.06.94-2.06 2.06-.94-2.06-.94-.94-2.06-.94 2.06-2.06.94zm-11 1L8.5 8.5l.94-2.06 2.06-.94-2.06-.94L8.5 2.5l-.94 2.06-2.06.94zm10 10l.94 2.06.94-2.06 2.06-.94-2.06-.94-.94-2.06-.94 2.06-2.06.94z\"/><path d=\"M17.41 7.96l-1.37-1.37c-.4-.4-.92-.59-1.43-.59-.52 0-1.04.2-1.43.59L10.3 9.45l-7.72 7.72c-.78.78-.78 2.05 0 2.83L4 21.41c.39.39.9.59 1.41.59.51 0 1.02-.2 1.41-.59l7.78-7.78 2.81-2.81c.8-.78.8-2.07 0-2.86zM5.41 20L4 18.59l7.72-7.72 1.47 1.35L5.41 20z\"/>\n",
              "  </svg>\n",
              "      </button>\n",
              "      \n",
              "  <style>\n",
              "    .colab-df-container {\n",
              "      display:flex;\n",
              "      flex-wrap:wrap;\n",
              "      gap: 12px;\n",
              "    }\n",
              "\n",
              "    .colab-df-convert {\n",
              "      background-color: #E8F0FE;\n",
              "      border: none;\n",
              "      border-radius: 50%;\n",
              "      cursor: pointer;\n",
              "      display: none;\n",
              "      fill: #1967D2;\n",
              "      height: 32px;\n",
              "      padding: 0 0 0 0;\n",
              "      width: 32px;\n",
              "    }\n",
              "\n",
              "    .colab-df-convert:hover {\n",
              "      background-color: #E2EBFA;\n",
              "      box-shadow: 0px 1px 2px rgba(60, 64, 67, 0.3), 0px 1px 3px 1px rgba(60, 64, 67, 0.15);\n",
              "      fill: #174EA6;\n",
              "    }\n",
              "\n",
              "    [theme=dark] .colab-df-convert {\n",
              "      background-color: #3B4455;\n",
              "      fill: #D2E3FC;\n",
              "    }\n",
              "\n",
              "    [theme=dark] .colab-df-convert:hover {\n",
              "      background-color: #434B5C;\n",
              "      box-shadow: 0px 1px 3px 1px rgba(0, 0, 0, 0.15);\n",
              "      filter: drop-shadow(0px 1px 2px rgba(0, 0, 0, 0.3));\n",
              "      fill: #FFFFFF;\n",
              "    }\n",
              "  </style>\n",
              "\n",
              "      <script>\n",
              "        const buttonEl =\n",
              "          document.querySelector('#df-7b0f7a27-59aa-499c-85b7-51fc2362ff5d button.colab-df-convert');\n",
              "        buttonEl.style.display =\n",
              "          google.colab.kernel.accessAllowed ? 'block' : 'none';\n",
              "\n",
              "        async function convertToInteractive(key) {\n",
              "          const element = document.querySelector('#df-7b0f7a27-59aa-499c-85b7-51fc2362ff5d');\n",
              "          const dataTable =\n",
              "            await google.colab.kernel.invokeFunction('convertToInteractive',\n",
              "                                                     [key], {});\n",
              "          if (!dataTable) return;\n",
              "\n",
              "          const docLinkHtml = 'Like what you see? Visit the ' +\n",
              "            '<a target=\"_blank\" href=https://colab.research.google.com/notebooks/data_table.ipynb>data table notebook</a>'\n",
              "            + ' to learn more about interactive tables.';\n",
              "          element.innerHTML = '';\n",
              "          dataTable['output_type'] = 'display_data';\n",
              "          await google.colab.output.renderOutput(dataTable, element);\n",
              "          const docLink = document.createElement('div');\n",
              "          docLink.innerHTML = docLinkHtml;\n",
              "          element.appendChild(docLink);\n",
              "        }\n",
              "      </script>\n",
              "    </div>\n",
              "  </div>\n",
              "  "
            ]
          },
          "metadata": {},
          "execution_count": 19
        }
      ],
      "source": [
        "#Функция для приведения значений  к bool\n",
        "def to_logical_values(x):\n",
        "    if x=='да':\n",
        "        return True\n",
        "    elif x=='нет':\n",
        "        return False\n",
        "df['chain'] = df['chain'].apply(to_logical_values)\n",
        "\n",
        "df.info()\n",
        "print('\\nТипы данных выгружены корректно, пропусков не обнаружено, в столбце chain заменены значения на логические')\n",
        "df.head(5)"
      ]
    },
    {
      "cell_type": "code",
      "execution_count": 20,
      "metadata": {
        "colab": {
          "base_uri": "https://localhost:8080/"
        },
        "id": "HdLxRB0294Dd",
        "outputId": "e1fb2a46-7791-4388-82ea-c0dc6b6c6959"
      },
      "outputs": [
        {
          "output_type": "execute_result",
          "data": {
            "text/plain": [
              "array(['кафе', 'столовая', 'закусочная',\n",
              "       'предприятие быстрого обслуживания', 'ресторан', 'кафетерий',\n",
              "       'буфет', 'бар', 'магазин (отдел кулинарии)'], dtype=object)"
            ]
          },
          "metadata": {},
          "execution_count": 20
        }
      ],
      "source": [
        "df['object_type'].unique() #посмотрела типы заведений"
      ]
    },
    {
      "cell_type": "code",
      "execution_count": 21,
      "metadata": {
        "id": "sQB6pgaD94De"
      },
      "outputs": [],
      "source": [
        "#Поменяла типы на более понятные и короткие\n",
        "df['object_type'] = df['object_type'].replace('предприятие быстрого обслуживания', 'фаст-фуд')\n",
        "df['object_type'] = df['object_type'].replace('магазин (отдел кулинарии)', 'кулинария в магазине')"
      ]
    },
    {
      "cell_type": "code",
      "execution_count": 22,
      "metadata": {
        "colab": {
          "base_uri": "https://localhost:8080/",
          "height": 143
        },
        "id": "l5wvOWZT94Df",
        "outputId": "bafa270f-59db-4483-b4c8-0ade7e26331d"
      },
      "outputs": [
        {
          "output_type": "execute_result",
          "data": {
            "text/plain": [
              "       id      object_name  chain object_type  \\\n",
              "0  151635          сметана  False        кафе   \n",
              "1   77874           родник  False        кафе   \n",
              "2   24309  кафе «академия»  False        кафе   \n",
              "\n",
              "                                             address  number  \\\n",
              "0         город москва, улица егора абакумова, дом 9      48   \n",
              "1  город москва, улица талалихина, дом 2/1, корпус 1      35   \n",
              "2          город москва, абельмановская улица, дом 6      95   \n",
              "\n",
              "                  street  \n",
              "0  улица егора абакумова  \n",
              "1       улица талалихина  \n",
              "2   абельмановская улица  "
            ],
            "text/html": [
              "\n",
              "  <div id=\"df-3cdf366a-e6b4-4cd1-a59a-41027b69123b\">\n",
              "    <div class=\"colab-df-container\">\n",
              "      <div>\n",
              "<style scoped>\n",
              "    .dataframe tbody tr th:only-of-type {\n",
              "        vertical-align: middle;\n",
              "    }\n",
              "\n",
              "    .dataframe tbody tr th {\n",
              "        vertical-align: top;\n",
              "    }\n",
              "\n",
              "    .dataframe thead th {\n",
              "        text-align: right;\n",
              "    }\n",
              "</style>\n",
              "<table border=\"1\" class=\"dataframe\">\n",
              "  <thead>\n",
              "    <tr style=\"text-align: right;\">\n",
              "      <th></th>\n",
              "      <th>id</th>\n",
              "      <th>object_name</th>\n",
              "      <th>chain</th>\n",
              "      <th>object_type</th>\n",
              "      <th>address</th>\n",
              "      <th>number</th>\n",
              "      <th>street</th>\n",
              "    </tr>\n",
              "  </thead>\n",
              "  <tbody>\n",
              "    <tr>\n",
              "      <th>0</th>\n",
              "      <td>151635</td>\n",
              "      <td>сметана</td>\n",
              "      <td>False</td>\n",
              "      <td>кафе</td>\n",
              "      <td>город москва, улица егора абакумова, дом 9</td>\n",
              "      <td>48</td>\n",
              "      <td>улица егора абакумова</td>\n",
              "    </tr>\n",
              "    <tr>\n",
              "      <th>1</th>\n",
              "      <td>77874</td>\n",
              "      <td>родник</td>\n",
              "      <td>False</td>\n",
              "      <td>кафе</td>\n",
              "      <td>город москва, улица талалихина, дом 2/1, корпус 1</td>\n",
              "      <td>35</td>\n",
              "      <td>улица талалихина</td>\n",
              "    </tr>\n",
              "    <tr>\n",
              "      <th>2</th>\n",
              "      <td>24309</td>\n",
              "      <td>кафе «академия»</td>\n",
              "      <td>False</td>\n",
              "      <td>кафе</td>\n",
              "      <td>город москва, абельмановская улица, дом 6</td>\n",
              "      <td>95</td>\n",
              "      <td>абельмановская улица</td>\n",
              "    </tr>\n",
              "  </tbody>\n",
              "</table>\n",
              "</div>\n",
              "      <button class=\"colab-df-convert\" onclick=\"convertToInteractive('df-3cdf366a-e6b4-4cd1-a59a-41027b69123b')\"\n",
              "              title=\"Convert this dataframe to an interactive table.\"\n",
              "              style=\"display:none;\">\n",
              "        \n",
              "  <svg xmlns=\"http://www.w3.org/2000/svg\" height=\"24px\"viewBox=\"0 0 24 24\"\n",
              "       width=\"24px\">\n",
              "    <path d=\"M0 0h24v24H0V0z\" fill=\"none\"/>\n",
              "    <path d=\"M18.56 5.44l.94 2.06.94-2.06 2.06-.94-2.06-.94-.94-2.06-.94 2.06-2.06.94zm-11 1L8.5 8.5l.94-2.06 2.06-.94-2.06-.94L8.5 2.5l-.94 2.06-2.06.94zm10 10l.94 2.06.94-2.06 2.06-.94-2.06-.94-.94-2.06-.94 2.06-2.06.94z\"/><path d=\"M17.41 7.96l-1.37-1.37c-.4-.4-.92-.59-1.43-.59-.52 0-1.04.2-1.43.59L10.3 9.45l-7.72 7.72c-.78.78-.78 2.05 0 2.83L4 21.41c.39.39.9.59 1.41.59.51 0 1.02-.2 1.41-.59l7.78-7.78 2.81-2.81c.8-.78.8-2.07 0-2.86zM5.41 20L4 18.59l7.72-7.72 1.47 1.35L5.41 20z\"/>\n",
              "  </svg>\n",
              "      </button>\n",
              "      \n",
              "  <style>\n",
              "    .colab-df-container {\n",
              "      display:flex;\n",
              "      flex-wrap:wrap;\n",
              "      gap: 12px;\n",
              "    }\n",
              "\n",
              "    .colab-df-convert {\n",
              "      background-color: #E8F0FE;\n",
              "      border: none;\n",
              "      border-radius: 50%;\n",
              "      cursor: pointer;\n",
              "      display: none;\n",
              "      fill: #1967D2;\n",
              "      height: 32px;\n",
              "      padding: 0 0 0 0;\n",
              "      width: 32px;\n",
              "    }\n",
              "\n",
              "    .colab-df-convert:hover {\n",
              "      background-color: #E2EBFA;\n",
              "      box-shadow: 0px 1px 2px rgba(60, 64, 67, 0.3), 0px 1px 3px 1px rgba(60, 64, 67, 0.15);\n",
              "      fill: #174EA6;\n",
              "    }\n",
              "\n",
              "    [theme=dark] .colab-df-convert {\n",
              "      background-color: #3B4455;\n",
              "      fill: #D2E3FC;\n",
              "    }\n",
              "\n",
              "    [theme=dark] .colab-df-convert:hover {\n",
              "      background-color: #434B5C;\n",
              "      box-shadow: 0px 1px 3px 1px rgba(0, 0, 0, 0.15);\n",
              "      filter: drop-shadow(0px 1px 2px rgba(0, 0, 0, 0.3));\n",
              "      fill: #FFFFFF;\n",
              "    }\n",
              "  </style>\n",
              "\n",
              "      <script>\n",
              "        const buttonEl =\n",
              "          document.querySelector('#df-3cdf366a-e6b4-4cd1-a59a-41027b69123b button.colab-df-convert');\n",
              "        buttonEl.style.display =\n",
              "          google.colab.kernel.accessAllowed ? 'block' : 'none';\n",
              "\n",
              "        async function convertToInteractive(key) {\n",
              "          const element = document.querySelector('#df-3cdf366a-e6b4-4cd1-a59a-41027b69123b');\n",
              "          const dataTable =\n",
              "            await google.colab.kernel.invokeFunction('convertToInteractive',\n",
              "                                                     [key], {});\n",
              "          if (!dataTable) return;\n",
              "\n",
              "          const docLinkHtml = 'Like what you see? Visit the ' +\n",
              "            '<a target=\"_blank\" href=https://colab.research.google.com/notebooks/data_table.ipynb>data table notebook</a>'\n",
              "            + ' to learn more about interactive tables.';\n",
              "          element.innerHTML = '';\n",
              "          dataTable['output_type'] = 'display_data';\n",
              "          await google.colab.output.renderOutput(dataTable, element);\n",
              "          const docLink = document.createElement('div');\n",
              "          docLink.innerHTML = docLinkHtml;\n",
              "          element.appendChild(docLink);\n",
              "        }\n",
              "      </script>\n",
              "    </div>\n",
              "  </div>\n",
              "  "
            ]
          },
          "metadata": {},
          "execution_count": 22
        }
      ],
      "source": [
        "street_types = ['улица', 'аллея', 'бульвар', 'линия', 'набережная', \n",
        "                'переулок', 'просека', 'проспект', 'тупик', 'шоссе',\n",
        "               'площадь', 'проезд']\n",
        "# определим функцию street_names() которая извлекает названия улиц из адресов\n",
        "def street_names(x, street_types):\n",
        "    # исходный адрес приведем к нижнему регистру и разделим в список по разделителю ','\n",
        "    address_list = x.lower().split(',')\n",
        "    # если в элементе списка встречается значение из street_types то этот элемент считаем названием улицы\n",
        "    # иначе названием улицы будет 2 элемент из списка address_list\n",
        "    for type_street in street_types:\n",
        "        for part in address_list:\n",
        "            if type_street in part:\n",
        "                return part\n",
        "    return address_list[1]\n",
        "# в датафрейм correct_data в столбец street запишем названия улиц, применив функцию street_names(топ-10 улиц)\n",
        "df['street'] = df['address'].apply(lambda x: street_names(x, street_types)).str.strip()\n",
        "\n",
        "df.head(3)"
      ]
    },
    {
      "cell_type": "code",
      "execution_count": 23,
      "metadata": {
        "colab": {
          "base_uri": "https://localhost:8080/",
          "height": 206
        },
        "id": "q1_vaDAI94Dg",
        "outputId": "30a74181-89e2-42aa-9d2b-97f46df2bf86"
      },
      "outputs": [
        {
          "output_type": "execute_result",
          "data": {
            "text/plain": [
              "                            street  areaid okrug           district\n",
              "0             выставочный переулок      17   ЦАО  пресненский район\n",
              "1                     улица гашека      17   ЦАО  пресненский район\n",
              "2          большая никитская улица      17   ЦАО  пресненский район\n",
              "3                глубокий переулок      17   ЦАО  пресненский район\n",
              "4  большой гнездниковский переулок      17   ЦАО  пресненский район"
            ],
            "text/html": [
              "\n",
              "  <div id=\"df-e541055d-944c-4a1d-b354-164ecbe41106\">\n",
              "    <div class=\"colab-df-container\">\n",
              "      <div>\n",
              "<style scoped>\n",
              "    .dataframe tbody tr th:only-of-type {\n",
              "        vertical-align: middle;\n",
              "    }\n",
              "\n",
              "    .dataframe tbody tr th {\n",
              "        vertical-align: top;\n",
              "    }\n",
              "\n",
              "    .dataframe thead th {\n",
              "        text-align: right;\n",
              "    }\n",
              "</style>\n",
              "<table border=\"1\" class=\"dataframe\">\n",
              "  <thead>\n",
              "    <tr style=\"text-align: right;\">\n",
              "      <th></th>\n",
              "      <th>street</th>\n",
              "      <th>areaid</th>\n",
              "      <th>okrug</th>\n",
              "      <th>district</th>\n",
              "    </tr>\n",
              "  </thead>\n",
              "  <tbody>\n",
              "    <tr>\n",
              "      <th>0</th>\n",
              "      <td>выставочный переулок</td>\n",
              "      <td>17</td>\n",
              "      <td>ЦАО</td>\n",
              "      <td>пресненский район</td>\n",
              "    </tr>\n",
              "    <tr>\n",
              "      <th>1</th>\n",
              "      <td>улица гашека</td>\n",
              "      <td>17</td>\n",
              "      <td>ЦАО</td>\n",
              "      <td>пресненский район</td>\n",
              "    </tr>\n",
              "    <tr>\n",
              "      <th>2</th>\n",
              "      <td>большая никитская улица</td>\n",
              "      <td>17</td>\n",
              "      <td>ЦАО</td>\n",
              "      <td>пресненский район</td>\n",
              "    </tr>\n",
              "    <tr>\n",
              "      <th>3</th>\n",
              "      <td>глубокий переулок</td>\n",
              "      <td>17</td>\n",
              "      <td>ЦАО</td>\n",
              "      <td>пресненский район</td>\n",
              "    </tr>\n",
              "    <tr>\n",
              "      <th>4</th>\n",
              "      <td>большой гнездниковский переулок</td>\n",
              "      <td>17</td>\n",
              "      <td>ЦАО</td>\n",
              "      <td>пресненский район</td>\n",
              "    </tr>\n",
              "  </tbody>\n",
              "</table>\n",
              "</div>\n",
              "      <button class=\"colab-df-convert\" onclick=\"convertToInteractive('df-e541055d-944c-4a1d-b354-164ecbe41106')\"\n",
              "              title=\"Convert this dataframe to an interactive table.\"\n",
              "              style=\"display:none;\">\n",
              "        \n",
              "  <svg xmlns=\"http://www.w3.org/2000/svg\" height=\"24px\"viewBox=\"0 0 24 24\"\n",
              "       width=\"24px\">\n",
              "    <path d=\"M0 0h24v24H0V0z\" fill=\"none\"/>\n",
              "    <path d=\"M18.56 5.44l.94 2.06.94-2.06 2.06-.94-2.06-.94-.94-2.06-.94 2.06-2.06.94zm-11 1L8.5 8.5l.94-2.06 2.06-.94-2.06-.94L8.5 2.5l-.94 2.06-2.06.94zm10 10l.94 2.06.94-2.06 2.06-.94-2.06-.94-.94-2.06-.94 2.06-2.06.94z\"/><path d=\"M17.41 7.96l-1.37-1.37c-.4-.4-.92-.59-1.43-.59-.52 0-1.04.2-1.43.59L10.3 9.45l-7.72 7.72c-.78.78-.78 2.05 0 2.83L4 21.41c.39.39.9.59 1.41.59.51 0 1.02-.2 1.41-.59l7.78-7.78 2.81-2.81c.8-.78.8-2.07 0-2.86zM5.41 20L4 18.59l7.72-7.72 1.47 1.35L5.41 20z\"/>\n",
              "  </svg>\n",
              "      </button>\n",
              "      \n",
              "  <style>\n",
              "    .colab-df-container {\n",
              "      display:flex;\n",
              "      flex-wrap:wrap;\n",
              "      gap: 12px;\n",
              "    }\n",
              "\n",
              "    .colab-df-convert {\n",
              "      background-color: #E8F0FE;\n",
              "      border: none;\n",
              "      border-radius: 50%;\n",
              "      cursor: pointer;\n",
              "      display: none;\n",
              "      fill: #1967D2;\n",
              "      height: 32px;\n",
              "      padding: 0 0 0 0;\n",
              "      width: 32px;\n",
              "    }\n",
              "\n",
              "    .colab-df-convert:hover {\n",
              "      background-color: #E2EBFA;\n",
              "      box-shadow: 0px 1px 2px rgba(60, 64, 67, 0.3), 0px 1px 3px 1px rgba(60, 64, 67, 0.15);\n",
              "      fill: #174EA6;\n",
              "    }\n",
              "\n",
              "    [theme=dark] .colab-df-convert {\n",
              "      background-color: #3B4455;\n",
              "      fill: #D2E3FC;\n",
              "    }\n",
              "\n",
              "    [theme=dark] .colab-df-convert:hover {\n",
              "      background-color: #434B5C;\n",
              "      box-shadow: 0px 1px 3px 1px rgba(0, 0, 0, 0.15);\n",
              "      filter: drop-shadow(0px 1px 2px rgba(0, 0, 0, 0.3));\n",
              "      fill: #FFFFFF;\n",
              "    }\n",
              "  </style>\n",
              "\n",
              "      <script>\n",
              "        const buttonEl =\n",
              "          document.querySelector('#df-e541055d-944c-4a1d-b354-164ecbe41106 button.colab-df-convert');\n",
              "        buttonEl.style.display =\n",
              "          google.colab.kernel.accessAllowed ? 'block' : 'none';\n",
              "\n",
              "        async function convertToInteractive(key) {\n",
              "          const element = document.querySelector('#df-e541055d-944c-4a1d-b354-164ecbe41106');\n",
              "          const dataTable =\n",
              "            await google.colab.kernel.invokeFunction('convertToInteractive',\n",
              "                                                     [key], {});\n",
              "          if (!dataTable) return;\n",
              "\n",
              "          const docLinkHtml = 'Like what you see? Visit the ' +\n",
              "            '<a target=\"_blank\" href=https://colab.research.google.com/notebooks/data_table.ipynb>data table notebook</a>'\n",
              "            + ' to learn more about interactive tables.';\n",
              "          element.innerHTML = '';\n",
              "          dataTable['output_type'] = 'display_data';\n",
              "          await google.colab.output.renderOutput(dataTable, element);\n",
              "          const docLink = document.createElement('div');\n",
              "          docLink.innerHTML = docLinkHtml;\n",
              "          element.appendChild(docLink);\n",
              "        }\n",
              "      </script>\n",
              "    </div>\n",
              "  </div>\n",
              "  "
            ]
          },
          "metadata": {},
          "execution_count": 23
        }
      ],
      "source": [
        "#вставила файл с данными улиц и  районов москвы\n",
        "spreadsheet_id_2 = '1SGsPtXKrEsdoeZcw0VZ8DtR8i8bZCIYxuBSk7ErL7Zs'\n",
        "file_name_2 = 'https://docs.google.com/spreadsheets/d/{}/export?format=csv'.format(spreadsheet_id_2)\n",
        "r_2 = requests.get(file_name_2)\n",
        "streets = pd.read_csv(BytesIO(r_2.content))\n",
        "\n",
        "#привела значения к нижнему регистру\n",
        "streets['streetname'] = streets['streetname'].str.lower()\n",
        "streets['area'] = streets['area'].str.lower()\n",
        "\n",
        "#переименовала колонки\n",
        "streets.rename(columns = {'streetname':'street', 'area':'district'}, inplace=True)\n",
        "streets.head()"
      ]
    },
    {
      "cell_type": "markdown",
      "metadata": {
        "id": "jp8gel4z94Dh"
      },
      "source": [
        "**Вывод по предобработке:** Дубликатов и пропусков нет. Данные приведены к нужным типам и названиям. После размышлений по поводу неявных дубликатов в названиях заведений, поняла, что лучше их не править, потому что заведения, например по франшизе, могут иметь одно название, но разных хозяев. Или одного хозяина, но разные названия  - макдональдс и макдональдс на выставочной."
      ]
    },
    {
      "cell_type": "markdown",
      "metadata": {
        "id": "0plLcR2X94Dh"
      },
      "source": [
        "## Анализ данных"
      ]
    },
    {
      "cell_type": "markdown",
      "metadata": {
        "id": "yVvVqwv094Dh"
      },
      "source": [
        "### Cоотношение видов объектов общественного питания по количеству. "
      ]
    },
    {
      "cell_type": "code",
      "execution_count": 24,
      "metadata": {
        "colab": {
          "base_uri": "https://localhost:8080/",
          "height": 332
        },
        "id": "FrhAxaFN94Di",
        "outputId": "dc18aaab-79c1-4c91-be22-ddc33df6424a"
      },
      "outputs": [
        {
          "output_type": "execute_result",
          "data": {
            "text/plain": [
              "            object_type  object_name percent\n",
              "3                  кафе         6099   39.7%\n",
              "7              столовая         2587   16.8%\n",
              "6              ресторан         2285   14.9%\n",
              "8              фаст-фуд         1923   12.5%\n",
              "0                   бар          856    5.6%\n",
              "1                 буфет          585    3.8%\n",
              "4             кафетерий          398    2.6%\n",
              "2            закусочная          360    2.3%\n",
              "5  кулинария в магазине          273    1.8%"
            ],
            "text/html": [
              "\n",
              "  <div id=\"df-a3986a4f-ecb6-4be5-ab39-3dc24e9fe9b9\">\n",
              "    <div class=\"colab-df-container\">\n",
              "      <div>\n",
              "<style scoped>\n",
              "    .dataframe tbody tr th:only-of-type {\n",
              "        vertical-align: middle;\n",
              "    }\n",
              "\n",
              "    .dataframe tbody tr th {\n",
              "        vertical-align: top;\n",
              "    }\n",
              "\n",
              "    .dataframe thead th {\n",
              "        text-align: right;\n",
              "    }\n",
              "</style>\n",
              "<table border=\"1\" class=\"dataframe\">\n",
              "  <thead>\n",
              "    <tr style=\"text-align: right;\">\n",
              "      <th></th>\n",
              "      <th>object_type</th>\n",
              "      <th>object_name</th>\n",
              "      <th>percent</th>\n",
              "    </tr>\n",
              "  </thead>\n",
              "  <tbody>\n",
              "    <tr>\n",
              "      <th>3</th>\n",
              "      <td>кафе</td>\n",
              "      <td>6099</td>\n",
              "      <td>39.7%</td>\n",
              "    </tr>\n",
              "    <tr>\n",
              "      <th>7</th>\n",
              "      <td>столовая</td>\n",
              "      <td>2587</td>\n",
              "      <td>16.8%</td>\n",
              "    </tr>\n",
              "    <tr>\n",
              "      <th>6</th>\n",
              "      <td>ресторан</td>\n",
              "      <td>2285</td>\n",
              "      <td>14.9%</td>\n",
              "    </tr>\n",
              "    <tr>\n",
              "      <th>8</th>\n",
              "      <td>фаст-фуд</td>\n",
              "      <td>1923</td>\n",
              "      <td>12.5%</td>\n",
              "    </tr>\n",
              "    <tr>\n",
              "      <th>0</th>\n",
              "      <td>бар</td>\n",
              "      <td>856</td>\n",
              "      <td>5.6%</td>\n",
              "    </tr>\n",
              "    <tr>\n",
              "      <th>1</th>\n",
              "      <td>буфет</td>\n",
              "      <td>585</td>\n",
              "      <td>3.8%</td>\n",
              "    </tr>\n",
              "    <tr>\n",
              "      <th>4</th>\n",
              "      <td>кафетерий</td>\n",
              "      <td>398</td>\n",
              "      <td>2.6%</td>\n",
              "    </tr>\n",
              "    <tr>\n",
              "      <th>2</th>\n",
              "      <td>закусочная</td>\n",
              "      <td>360</td>\n",
              "      <td>2.3%</td>\n",
              "    </tr>\n",
              "    <tr>\n",
              "      <th>5</th>\n",
              "      <td>кулинария в магазине</td>\n",
              "      <td>273</td>\n",
              "      <td>1.8%</td>\n",
              "    </tr>\n",
              "  </tbody>\n",
              "</table>\n",
              "</div>\n",
              "      <button class=\"colab-df-convert\" onclick=\"convertToInteractive('df-a3986a4f-ecb6-4be5-ab39-3dc24e9fe9b9')\"\n",
              "              title=\"Convert this dataframe to an interactive table.\"\n",
              "              style=\"display:none;\">\n",
              "        \n",
              "  <svg xmlns=\"http://www.w3.org/2000/svg\" height=\"24px\"viewBox=\"0 0 24 24\"\n",
              "       width=\"24px\">\n",
              "    <path d=\"M0 0h24v24H0V0z\" fill=\"none\"/>\n",
              "    <path d=\"M18.56 5.44l.94 2.06.94-2.06 2.06-.94-2.06-.94-.94-2.06-.94 2.06-2.06.94zm-11 1L8.5 8.5l.94-2.06 2.06-.94-2.06-.94L8.5 2.5l-.94 2.06-2.06.94zm10 10l.94 2.06.94-2.06 2.06-.94-2.06-.94-.94-2.06-.94 2.06-2.06.94z\"/><path d=\"M17.41 7.96l-1.37-1.37c-.4-.4-.92-.59-1.43-.59-.52 0-1.04.2-1.43.59L10.3 9.45l-7.72 7.72c-.78.78-.78 2.05 0 2.83L4 21.41c.39.39.9.59 1.41.59.51 0 1.02-.2 1.41-.59l7.78-7.78 2.81-2.81c.8-.78.8-2.07 0-2.86zM5.41 20L4 18.59l7.72-7.72 1.47 1.35L5.41 20z\"/>\n",
              "  </svg>\n",
              "      </button>\n",
              "      \n",
              "  <style>\n",
              "    .colab-df-container {\n",
              "      display:flex;\n",
              "      flex-wrap:wrap;\n",
              "      gap: 12px;\n",
              "    }\n",
              "\n",
              "    .colab-df-convert {\n",
              "      background-color: #E8F0FE;\n",
              "      border: none;\n",
              "      border-radius: 50%;\n",
              "      cursor: pointer;\n",
              "      display: none;\n",
              "      fill: #1967D2;\n",
              "      height: 32px;\n",
              "      padding: 0 0 0 0;\n",
              "      width: 32px;\n",
              "    }\n",
              "\n",
              "    .colab-df-convert:hover {\n",
              "      background-color: #E2EBFA;\n",
              "      box-shadow: 0px 1px 2px rgba(60, 64, 67, 0.3), 0px 1px 3px 1px rgba(60, 64, 67, 0.15);\n",
              "      fill: #174EA6;\n",
              "    }\n",
              "\n",
              "    [theme=dark] .colab-df-convert {\n",
              "      background-color: #3B4455;\n",
              "      fill: #D2E3FC;\n",
              "    }\n",
              "\n",
              "    [theme=dark] .colab-df-convert:hover {\n",
              "      background-color: #434B5C;\n",
              "      box-shadow: 0px 1px 3px 1px rgba(0, 0, 0, 0.15);\n",
              "      filter: drop-shadow(0px 1px 2px rgba(0, 0, 0, 0.3));\n",
              "      fill: #FFFFFF;\n",
              "    }\n",
              "  </style>\n",
              "\n",
              "      <script>\n",
              "        const buttonEl =\n",
              "          document.querySelector('#df-a3986a4f-ecb6-4be5-ab39-3dc24e9fe9b9 button.colab-df-convert');\n",
              "        buttonEl.style.display =\n",
              "          google.colab.kernel.accessAllowed ? 'block' : 'none';\n",
              "\n",
              "        async function convertToInteractive(key) {\n",
              "          const element = document.querySelector('#df-a3986a4f-ecb6-4be5-ab39-3dc24e9fe9b9');\n",
              "          const dataTable =\n",
              "            await google.colab.kernel.invokeFunction('convertToInteractive',\n",
              "                                                     [key], {});\n",
              "          if (!dataTable) return;\n",
              "\n",
              "          const docLinkHtml = 'Like what you see? Visit the ' +\n",
              "            '<a target=\"_blank\" href=https://colab.research.google.com/notebooks/data_table.ipynb>data table notebook</a>'\n",
              "            + ' to learn more about interactive tables.';\n",
              "          element.innerHTML = '';\n",
              "          dataTable['output_type'] = 'display_data';\n",
              "          await google.colab.output.renderOutput(dataTable, element);\n",
              "          const docLink = document.createElement('div');\n",
              "          docLink.innerHTML = docLinkHtml;\n",
              "          element.appendChild(docLink);\n",
              "        }\n",
              "      </script>\n",
              "    </div>\n",
              "  </div>\n",
              "  "
            ]
          },
          "metadata": {},
          "execution_count": 24
        }
      ],
      "source": [
        "object_types = (\n",
        "    df.groupby('object_type', as_index=False)\n",
        "    .agg({'object_name':'count'})\n",
        "    .sort_values(by='object_name', ascending=False)\n",
        ")\n",
        "#Добавила столбец с соотношением в процентах\n",
        "object_types['percent'] = (object_types['object_name']/object_types['object_name'].sum()*100).round(1).astype('str') + '%'\n",
        "object_types"
      ]
    },
    {
      "cell_type": "code",
      "execution_count": 25,
      "metadata": {
        "colab": {
          "base_uri": "https://localhost:8080/",
          "height": 567
        },
        "id": "qja8pXW-94Di",
        "outputId": "9df7def7-7c16-415f-8ec5-2f5f29695956"
      },
      "outputs": [
        {
          "output_type": "display_data",
          "data": {
            "text/html": [
              "<html>\n",
              "<head><meta charset=\"utf-8\" /></head>\n",
              "<body>\n",
              "    <div>            <script src=\"https://cdnjs.cloudflare.com/ajax/libs/mathjax/2.7.5/MathJax.js?config=TeX-AMS-MML_SVG\"></script><script type=\"text/javascript\">if (window.MathJax) {MathJax.Hub.Config({SVG: {font: \"STIX-Web\"}});}</script>                <script type=\"text/javascript\">window.PlotlyConfig = {MathJaxConfig: 'local'};</script>\n",
              "        <script src=\"https://cdn.plot.ly/plotly-2.8.3.min.js\"></script>                <div id=\"86d5b6de-291f-4c51-b957-d05d3aef79cd\" class=\"plotly-graph-div\" style=\"height:550px; width:900px;\"></div>            <script type=\"text/javascript\">                                    window.PLOTLYENV=window.PLOTLYENV || {};                                    if (document.getElementById(\"86d5b6de-291f-4c51-b957-d05d3aef79cd\")) {                    Plotly.newPlot(                        \"86d5b6de-291f-4c51-b957-d05d3aef79cd\",                        [{\"alignmentgroup\":\"True\",\"hovertemplate\":\"\\u0422\\u0438\\u043f \\u043e\\u0431\\u044a\\u0435\\u043a\\u0442\\u0430=%{x}<br>object_name=%{y}<br>percent=%{text}<extra></extra>\",\"legendgroup\":\"\\u043a\\u0430\\u0444\\u0435\",\"marker\":{\"color\":\"#636efa\",\"pattern\":{\"shape\":\"\"}},\"name\":\"\\u043a\\u0430\\u0444\\u0435\",\"offsetgroup\":\"\\u043a\\u0430\\u0444\\u0435\",\"orientation\":\"v\",\"showlegend\":true,\"text\":[\"39.7%\"],\"textposition\":\"outside\",\"x\":[\"\\u043a\\u0430\\u0444\\u0435\"],\"xaxis\":\"x\",\"y\":[6099],\"yaxis\":\"y\",\"type\":\"bar\"},{\"alignmentgroup\":\"True\",\"hovertemplate\":\"\\u0422\\u0438\\u043f \\u043e\\u0431\\u044a\\u0435\\u043a\\u0442\\u0430=%{x}<br>object_name=%{y}<br>percent=%{text}<extra></extra>\",\"legendgroup\":\"\\u0441\\u0442\\u043e\\u043b\\u043e\\u0432\\u0430\\u044f\",\"marker\":{\"color\":\"#EF553B\",\"pattern\":{\"shape\":\"\"}},\"name\":\"\\u0441\\u0442\\u043e\\u043b\\u043e\\u0432\\u0430\\u044f\",\"offsetgroup\":\"\\u0441\\u0442\\u043e\\u043b\\u043e\\u0432\\u0430\\u044f\",\"orientation\":\"v\",\"showlegend\":true,\"text\":[\"16.8%\"],\"textposition\":\"outside\",\"x\":[\"\\u0441\\u0442\\u043e\\u043b\\u043e\\u0432\\u0430\\u044f\"],\"xaxis\":\"x\",\"y\":[2587],\"yaxis\":\"y\",\"type\":\"bar\"},{\"alignmentgroup\":\"True\",\"hovertemplate\":\"\\u0422\\u0438\\u043f \\u043e\\u0431\\u044a\\u0435\\u043a\\u0442\\u0430=%{x}<br>object_name=%{y}<br>percent=%{text}<extra></extra>\",\"legendgroup\":\"\\u0440\\u0435\\u0441\\u0442\\u043e\\u0440\\u0430\\u043d\",\"marker\":{\"color\":\"#00cc96\",\"pattern\":{\"shape\":\"\"}},\"name\":\"\\u0440\\u0435\\u0441\\u0442\\u043e\\u0440\\u0430\\u043d\",\"offsetgroup\":\"\\u0440\\u0435\\u0441\\u0442\\u043e\\u0440\\u0430\\u043d\",\"orientation\":\"v\",\"showlegend\":true,\"text\":[\"14.9%\"],\"textposition\":\"outside\",\"x\":[\"\\u0440\\u0435\\u0441\\u0442\\u043e\\u0440\\u0430\\u043d\"],\"xaxis\":\"x\",\"y\":[2285],\"yaxis\":\"y\",\"type\":\"bar\"},{\"alignmentgroup\":\"True\",\"hovertemplate\":\"\\u0422\\u0438\\u043f \\u043e\\u0431\\u044a\\u0435\\u043a\\u0442\\u0430=%{x}<br>object_name=%{y}<br>percent=%{text}<extra></extra>\",\"legendgroup\":\"\\u0444\\u0430\\u0441\\u0442-\\u0444\\u0443\\u0434\",\"marker\":{\"color\":\"#ab63fa\",\"pattern\":{\"shape\":\"\"}},\"name\":\"\\u0444\\u0430\\u0441\\u0442-\\u0444\\u0443\\u0434\",\"offsetgroup\":\"\\u0444\\u0430\\u0441\\u0442-\\u0444\\u0443\\u0434\",\"orientation\":\"v\",\"showlegend\":true,\"text\":[\"12.5%\"],\"textposition\":\"outside\",\"x\":[\"\\u0444\\u0430\\u0441\\u0442-\\u0444\\u0443\\u0434\"],\"xaxis\":\"x\",\"y\":[1923],\"yaxis\":\"y\",\"type\":\"bar\"},{\"alignmentgroup\":\"True\",\"hovertemplate\":\"\\u0422\\u0438\\u043f \\u043e\\u0431\\u044a\\u0435\\u043a\\u0442\\u0430=%{x}<br>object_name=%{y}<br>percent=%{text}<extra></extra>\",\"legendgroup\":\"\\u0431\\u0430\\u0440\",\"marker\":{\"color\":\"#FFA15A\",\"pattern\":{\"shape\":\"\"}},\"name\":\"\\u0431\\u0430\\u0440\",\"offsetgroup\":\"\\u0431\\u0430\\u0440\",\"orientation\":\"v\",\"showlegend\":true,\"text\":[\"5.6%\"],\"textposition\":\"outside\",\"x\":[\"\\u0431\\u0430\\u0440\"],\"xaxis\":\"x\",\"y\":[856],\"yaxis\":\"y\",\"type\":\"bar\"},{\"alignmentgroup\":\"True\",\"hovertemplate\":\"\\u0422\\u0438\\u043f \\u043e\\u0431\\u044a\\u0435\\u043a\\u0442\\u0430=%{x}<br>object_name=%{y}<br>percent=%{text}<extra></extra>\",\"legendgroup\":\"\\u0431\\u0443\\u0444\\u0435\\u0442\",\"marker\":{\"color\":\"#19d3f3\",\"pattern\":{\"shape\":\"\"}},\"name\":\"\\u0431\\u0443\\u0444\\u0435\\u0442\",\"offsetgroup\":\"\\u0431\\u0443\\u0444\\u0435\\u0442\",\"orientation\":\"v\",\"showlegend\":true,\"text\":[\"3.8%\"],\"textposition\":\"outside\",\"x\":[\"\\u0431\\u0443\\u0444\\u0435\\u0442\"],\"xaxis\":\"x\",\"y\":[585],\"yaxis\":\"y\",\"type\":\"bar\"},{\"alignmentgroup\":\"True\",\"hovertemplate\":\"\\u0422\\u0438\\u043f \\u043e\\u0431\\u044a\\u0435\\u043a\\u0442\\u0430=%{x}<br>object_name=%{y}<br>percent=%{text}<extra></extra>\",\"legendgroup\":\"\\u043a\\u0430\\u0444\\u0435\\u0442\\u0435\\u0440\\u0438\\u0439\",\"marker\":{\"color\":\"#FF6692\",\"pattern\":{\"shape\":\"\"}},\"name\":\"\\u043a\\u0430\\u0444\\u0435\\u0442\\u0435\\u0440\\u0438\\u0439\",\"offsetgroup\":\"\\u043a\\u0430\\u0444\\u0435\\u0442\\u0435\\u0440\\u0438\\u0439\",\"orientation\":\"v\",\"showlegend\":true,\"text\":[\"2.6%\"],\"textposition\":\"outside\",\"x\":[\"\\u043a\\u0430\\u0444\\u0435\\u0442\\u0435\\u0440\\u0438\\u0439\"],\"xaxis\":\"x\",\"y\":[398],\"yaxis\":\"y\",\"type\":\"bar\"},{\"alignmentgroup\":\"True\",\"hovertemplate\":\"\\u0422\\u0438\\u043f \\u043e\\u0431\\u044a\\u0435\\u043a\\u0442\\u0430=%{x}<br>object_name=%{y}<br>percent=%{text}<extra></extra>\",\"legendgroup\":\"\\u0437\\u0430\\u043a\\u0443\\u0441\\u043e\\u0447\\u043d\\u0430\\u044f\",\"marker\":{\"color\":\"#B6E880\",\"pattern\":{\"shape\":\"\"}},\"name\":\"\\u0437\\u0430\\u043a\\u0443\\u0441\\u043e\\u0447\\u043d\\u0430\\u044f\",\"offsetgroup\":\"\\u0437\\u0430\\u043a\\u0443\\u0441\\u043e\\u0447\\u043d\\u0430\\u044f\",\"orientation\":\"v\",\"showlegend\":true,\"text\":[\"2.3%\"],\"textposition\":\"outside\",\"x\":[\"\\u0437\\u0430\\u043a\\u0443\\u0441\\u043e\\u0447\\u043d\\u0430\\u044f\"],\"xaxis\":\"x\",\"y\":[360],\"yaxis\":\"y\",\"type\":\"bar\"},{\"alignmentgroup\":\"True\",\"hovertemplate\":\"\\u0422\\u0438\\u043f \\u043e\\u0431\\u044a\\u0435\\u043a\\u0442\\u0430=%{x}<br>object_name=%{y}<br>percent=%{text}<extra></extra>\",\"legendgroup\":\"\\u043a\\u0443\\u043b\\u0438\\u043d\\u0430\\u0440\\u0438\\u044f \\u0432 \\u043c\\u0430\\u0433\\u0430\\u0437\\u0438\\u043d\\u0435\",\"marker\":{\"color\":\"#FF97FF\",\"pattern\":{\"shape\":\"\"}},\"name\":\"\\u043a\\u0443\\u043b\\u0438\\u043d\\u0430\\u0440\\u0438\\u044f \\u0432 \\u043c\\u0430\\u0433\\u0430\\u0437\\u0438\\u043d\\u0435\",\"offsetgroup\":\"\\u043a\\u0443\\u043b\\u0438\\u043d\\u0430\\u0440\\u0438\\u044f \\u0432 \\u043c\\u0430\\u0433\\u0430\\u0437\\u0438\\u043d\\u0435\",\"orientation\":\"v\",\"showlegend\":true,\"text\":[\"1.8%\"],\"textposition\":\"outside\",\"x\":[\"\\u043a\\u0443\\u043b\\u0438\\u043d\\u0430\\u0440\\u0438\\u044f \\u0432 \\u043c\\u0430\\u0433\\u0430\\u0437\\u0438\\u043d\\u0435\"],\"xaxis\":\"x\",\"y\":[273],\"yaxis\":\"y\",\"type\":\"bar\"}],                        {\"template\":{\"data\":{\"bar\":[{\"error_x\":{\"color\":\"#2a3f5f\"},\"error_y\":{\"color\":\"#2a3f5f\"},\"marker\":{\"line\":{\"color\":\"white\",\"width\":0.5},\"pattern\":{\"fillmode\":\"overlay\",\"size\":10,\"solidity\":0.2}},\"type\":\"bar\"}],\"barpolar\":[{\"marker\":{\"line\":{\"color\":\"white\",\"width\":0.5},\"pattern\":{\"fillmode\":\"overlay\",\"size\":10,\"solidity\":0.2}},\"type\":\"barpolar\"}],\"carpet\":[{\"aaxis\":{\"endlinecolor\":\"#2a3f5f\",\"gridcolor\":\"#C8D4E3\",\"linecolor\":\"#C8D4E3\",\"minorgridcolor\":\"#C8D4E3\",\"startlinecolor\":\"#2a3f5f\"},\"baxis\":{\"endlinecolor\":\"#2a3f5f\",\"gridcolor\":\"#C8D4E3\",\"linecolor\":\"#C8D4E3\",\"minorgridcolor\":\"#C8D4E3\",\"startlinecolor\":\"#2a3f5f\"},\"type\":\"carpet\"}],\"choropleth\":[{\"colorbar\":{\"outlinewidth\":0,\"ticks\":\"\"},\"type\":\"choropleth\"}],\"contour\":[{\"colorbar\":{\"outlinewidth\":0,\"ticks\":\"\"},\"colorscale\":[[0.0,\"#0d0887\"],[0.1111111111111111,\"#46039f\"],[0.2222222222222222,\"#7201a8\"],[0.3333333333333333,\"#9c179e\"],[0.4444444444444444,\"#bd3786\"],[0.5555555555555556,\"#d8576b\"],[0.6666666666666666,\"#ed7953\"],[0.7777777777777778,\"#fb9f3a\"],[0.8888888888888888,\"#fdca26\"],[1.0,\"#f0f921\"]],\"type\":\"contour\"}],\"contourcarpet\":[{\"colorbar\":{\"outlinewidth\":0,\"ticks\":\"\"},\"type\":\"contourcarpet\"}],\"heatmap\":[{\"colorbar\":{\"outlinewidth\":0,\"ticks\":\"\"},\"colorscale\":[[0.0,\"#0d0887\"],[0.1111111111111111,\"#46039f\"],[0.2222222222222222,\"#7201a8\"],[0.3333333333333333,\"#9c179e\"],[0.4444444444444444,\"#bd3786\"],[0.5555555555555556,\"#d8576b\"],[0.6666666666666666,\"#ed7953\"],[0.7777777777777778,\"#fb9f3a\"],[0.8888888888888888,\"#fdca26\"],[1.0,\"#f0f921\"]],\"type\":\"heatmap\"}],\"heatmapgl\":[{\"colorbar\":{\"outlinewidth\":0,\"ticks\":\"\"},\"colorscale\":[[0.0,\"#0d0887\"],[0.1111111111111111,\"#46039f\"],[0.2222222222222222,\"#7201a8\"],[0.3333333333333333,\"#9c179e\"],[0.4444444444444444,\"#bd3786\"],[0.5555555555555556,\"#d8576b\"],[0.6666666666666666,\"#ed7953\"],[0.7777777777777778,\"#fb9f3a\"],[0.8888888888888888,\"#fdca26\"],[1.0,\"#f0f921\"]],\"type\":\"heatmapgl\"}],\"histogram\":[{\"marker\":{\"pattern\":{\"fillmode\":\"overlay\",\"size\":10,\"solidity\":0.2}},\"type\":\"histogram\"}],\"histogram2d\":[{\"colorbar\":{\"outlinewidth\":0,\"ticks\":\"\"},\"colorscale\":[[0.0,\"#0d0887\"],[0.1111111111111111,\"#46039f\"],[0.2222222222222222,\"#7201a8\"],[0.3333333333333333,\"#9c179e\"],[0.4444444444444444,\"#bd3786\"],[0.5555555555555556,\"#d8576b\"],[0.6666666666666666,\"#ed7953\"],[0.7777777777777778,\"#fb9f3a\"],[0.8888888888888888,\"#fdca26\"],[1.0,\"#f0f921\"]],\"type\":\"histogram2d\"}],\"histogram2dcontour\":[{\"colorbar\":{\"outlinewidth\":0,\"ticks\":\"\"},\"colorscale\":[[0.0,\"#0d0887\"],[0.1111111111111111,\"#46039f\"],[0.2222222222222222,\"#7201a8\"],[0.3333333333333333,\"#9c179e\"],[0.4444444444444444,\"#bd3786\"],[0.5555555555555556,\"#d8576b\"],[0.6666666666666666,\"#ed7953\"],[0.7777777777777778,\"#fb9f3a\"],[0.8888888888888888,\"#fdca26\"],[1.0,\"#f0f921\"]],\"type\":\"histogram2dcontour\"}],\"mesh3d\":[{\"colorbar\":{\"outlinewidth\":0,\"ticks\":\"\"},\"type\":\"mesh3d\"}],\"parcoords\":[{\"line\":{\"colorbar\":{\"outlinewidth\":0,\"ticks\":\"\"}},\"type\":\"parcoords\"}],\"pie\":[{\"automargin\":true,\"type\":\"pie\"}],\"scatter\":[{\"marker\":{\"colorbar\":{\"outlinewidth\":0,\"ticks\":\"\"}},\"type\":\"scatter\"}],\"scatter3d\":[{\"line\":{\"colorbar\":{\"outlinewidth\":0,\"ticks\":\"\"}},\"marker\":{\"colorbar\":{\"outlinewidth\":0,\"ticks\":\"\"}},\"type\":\"scatter3d\"}],\"scattercarpet\":[{\"marker\":{\"colorbar\":{\"outlinewidth\":0,\"ticks\":\"\"}},\"type\":\"scattercarpet\"}],\"scattergeo\":[{\"marker\":{\"colorbar\":{\"outlinewidth\":0,\"ticks\":\"\"}},\"type\":\"scattergeo\"}],\"scattergl\":[{\"marker\":{\"colorbar\":{\"outlinewidth\":0,\"ticks\":\"\"}},\"type\":\"scattergl\"}],\"scattermapbox\":[{\"marker\":{\"colorbar\":{\"outlinewidth\":0,\"ticks\":\"\"}},\"type\":\"scattermapbox\"}],\"scatterpolar\":[{\"marker\":{\"colorbar\":{\"outlinewidth\":0,\"ticks\":\"\"}},\"type\":\"scatterpolar\"}],\"scatterpolargl\":[{\"marker\":{\"colorbar\":{\"outlinewidth\":0,\"ticks\":\"\"}},\"type\":\"scatterpolargl\"}],\"scatterternary\":[{\"marker\":{\"colorbar\":{\"outlinewidth\":0,\"ticks\":\"\"}},\"type\":\"scatterternary\"}],\"surface\":[{\"colorbar\":{\"outlinewidth\":0,\"ticks\":\"\"},\"colorscale\":[[0.0,\"#0d0887\"],[0.1111111111111111,\"#46039f\"],[0.2222222222222222,\"#7201a8\"],[0.3333333333333333,\"#9c179e\"],[0.4444444444444444,\"#bd3786\"],[0.5555555555555556,\"#d8576b\"],[0.6666666666666666,\"#ed7953\"],[0.7777777777777778,\"#fb9f3a\"],[0.8888888888888888,\"#fdca26\"],[1.0,\"#f0f921\"]],\"type\":\"surface\"}],\"table\":[{\"cells\":{\"fill\":{\"color\":\"#EBF0F8\"},\"line\":{\"color\":\"white\"}},\"header\":{\"fill\":{\"color\":\"#C8D4E3\"},\"line\":{\"color\":\"white\"}},\"type\":\"table\"}]},\"layout\":{\"annotationdefaults\":{\"arrowcolor\":\"#2a3f5f\",\"arrowhead\":0,\"arrowwidth\":1},\"autotypenumbers\":\"strict\",\"coloraxis\":{\"colorbar\":{\"outlinewidth\":0,\"ticks\":\"\"}},\"colorscale\":{\"diverging\":[[0,\"#8e0152\"],[0.1,\"#c51b7d\"],[0.2,\"#de77ae\"],[0.3,\"#f1b6da\"],[0.4,\"#fde0ef\"],[0.5,\"#f7f7f7\"],[0.6,\"#e6f5d0\"],[0.7,\"#b8e186\"],[0.8,\"#7fbc41\"],[0.9,\"#4d9221\"],[1,\"#276419\"]],\"sequential\":[[0.0,\"#0d0887\"],[0.1111111111111111,\"#46039f\"],[0.2222222222222222,\"#7201a8\"],[0.3333333333333333,\"#9c179e\"],[0.4444444444444444,\"#bd3786\"],[0.5555555555555556,\"#d8576b\"],[0.6666666666666666,\"#ed7953\"],[0.7777777777777778,\"#fb9f3a\"],[0.8888888888888888,\"#fdca26\"],[1.0,\"#f0f921\"]],\"sequentialminus\":[[0.0,\"#0d0887\"],[0.1111111111111111,\"#46039f\"],[0.2222222222222222,\"#7201a8\"],[0.3333333333333333,\"#9c179e\"],[0.4444444444444444,\"#bd3786\"],[0.5555555555555556,\"#d8576b\"],[0.6666666666666666,\"#ed7953\"],[0.7777777777777778,\"#fb9f3a\"],[0.8888888888888888,\"#fdca26\"],[1.0,\"#f0f921\"]]},\"colorway\":[\"#636efa\",\"#EF553B\",\"#00cc96\",\"#ab63fa\",\"#FFA15A\",\"#19d3f3\",\"#FF6692\",\"#B6E880\",\"#FF97FF\",\"#FECB52\"],\"font\":{\"color\":\"#2a3f5f\"},\"geo\":{\"bgcolor\":\"white\",\"lakecolor\":\"white\",\"landcolor\":\"white\",\"showlakes\":true,\"showland\":true,\"subunitcolor\":\"#C8D4E3\"},\"hoverlabel\":{\"align\":\"left\"},\"hovermode\":\"closest\",\"mapbox\":{\"style\":\"light\"},\"paper_bgcolor\":\"white\",\"plot_bgcolor\":\"white\",\"polar\":{\"angularaxis\":{\"gridcolor\":\"#EBF0F8\",\"linecolor\":\"#EBF0F8\",\"ticks\":\"\"},\"bgcolor\":\"white\",\"radialaxis\":{\"gridcolor\":\"#EBF0F8\",\"linecolor\":\"#EBF0F8\",\"ticks\":\"\"}},\"scene\":{\"xaxis\":{\"backgroundcolor\":\"white\",\"gridcolor\":\"#DFE8F3\",\"gridwidth\":2,\"linecolor\":\"#EBF0F8\",\"showbackground\":true,\"ticks\":\"\",\"zerolinecolor\":\"#EBF0F8\"},\"yaxis\":{\"backgroundcolor\":\"white\",\"gridcolor\":\"#DFE8F3\",\"gridwidth\":2,\"linecolor\":\"#EBF0F8\",\"showbackground\":true,\"ticks\":\"\",\"zerolinecolor\":\"#EBF0F8\"},\"zaxis\":{\"backgroundcolor\":\"white\",\"gridcolor\":\"#DFE8F3\",\"gridwidth\":2,\"linecolor\":\"#EBF0F8\",\"showbackground\":true,\"ticks\":\"\",\"zerolinecolor\":\"#EBF0F8\"}},\"shapedefaults\":{\"line\":{\"color\":\"#2a3f5f\"}},\"ternary\":{\"aaxis\":{\"gridcolor\":\"#DFE8F3\",\"linecolor\":\"#A2B1C6\",\"ticks\":\"\"},\"baxis\":{\"gridcolor\":\"#DFE8F3\",\"linecolor\":\"#A2B1C6\",\"ticks\":\"\"},\"bgcolor\":\"white\",\"caxis\":{\"gridcolor\":\"#DFE8F3\",\"linecolor\":\"#A2B1C6\",\"ticks\":\"\"}},\"title\":{\"x\":0.05},\"xaxis\":{\"automargin\":true,\"gridcolor\":\"#EBF0F8\",\"linecolor\":\"#EBF0F8\",\"ticks\":\"\",\"title\":{\"standoff\":15},\"zerolinecolor\":\"#EBF0F8\",\"zerolinewidth\":2},\"yaxis\":{\"automargin\":true,\"gridcolor\":\"#EBF0F8\",\"linecolor\":\"#EBF0F8\",\"ticks\":\"\",\"title\":{\"standoff\":15},\"zerolinecolor\":\"#EBF0F8\",\"zerolinewidth\":2}}},\"xaxis\":{\"anchor\":\"y\",\"domain\":[0.0,1.0],\"title\":{\"text\":\"\"},\"categoryorder\":\"array\",\"categoryarray\":[\"\\u043a\\u0430\\u0444\\u0435\",\"\\u0441\\u0442\\u043e\\u043b\\u043e\\u0432\\u0430\\u044f\",\"\\u0440\\u0435\\u0441\\u0442\\u043e\\u0440\\u0430\\u043d\",\"\\u0444\\u0430\\u0441\\u0442-\\u0444\\u0443\\u0434\",\"\\u0431\\u0430\\u0440\",\"\\u0431\\u0443\\u0444\\u0435\\u0442\",\"\\u043a\\u0430\\u0444\\u0435\\u0442\\u0435\\u0440\\u0438\\u0439\",\"\\u0437\\u0430\\u043a\\u0443\\u0441\\u043e\\u0447\\u043d\\u0430\\u044f\",\"\\u043a\\u0443\\u043b\\u0438\\u043d\\u0430\\u0440\\u0438\\u044f \\u0432 \\u043c\\u0430\\u0433\\u0430\\u0437\\u0438\\u043d\\u0435\"],\"tickangle\":45},\"yaxis\":{\"anchor\":\"x\",\"domain\":[0.0,1.0],\"title\":{\"text\":\"\\u041a\\u043e\\u043b\\u0438\\u0447\\u0435\\u0441\\u0442\\u0432\\u043e\"}},\"legend\":{\"title\":{\"text\":\"\\u0422\\u0438\\u043f \\u043e\\u0431\\u044a\\u0435\\u043a\\u0442\\u0430\"},\"tracegroupgap\":0},\"margin\":{\"t\":60},\"barmode\":\"relative\",\"height\":550,\"width\":900,\"title\":{\"text\":\"\\u0421\\u043e\\u043e\\u0442\\u043d\\u043e\\u0448\\u0435\\u043d\\u0438\\u0435 \\u0432\\u0438\\u0434\\u043e\\u0432 \\u0437\\u0430\\u0432\\u0435\\u0434\\u0435\\u043d\\u0438\\u0439 \\u043e\\u0431\\u0449\\u0435\\u043f\\u0438\\u0442\\u0430 \\u043f\\u043e \\u043a\\u043e\\u043b\\u0438\\u0447\\u0435\\u0441\\u0442\\u0432\\u0443\"}},                        {\"responsive\": true}                    ).then(function(){\n",
              "                            \n",
              "var gd = document.getElementById('86d5b6de-291f-4c51-b957-d05d3aef79cd');\n",
              "var x = new MutationObserver(function (mutations, observer) {{\n",
              "        var display = window.getComputedStyle(gd).display;\n",
              "        if (!display || display === 'none') {{\n",
              "            console.log([gd, 'removed!']);\n",
              "            Plotly.purge(gd);\n",
              "            observer.disconnect();\n",
              "        }}\n",
              "}});\n",
              "\n",
              "// Listen for the removal of the full notebook cells\n",
              "var notebookContainer = gd.closest('#notebook-container');\n",
              "if (notebookContainer) {{\n",
              "    x.observe(notebookContainer, {childList: true});\n",
              "}}\n",
              "\n",
              "// Listen for the clearing of the current output cell\n",
              "var outputEl = gd.closest('.output');\n",
              "if (outputEl) {{\n",
              "    x.observe(outputEl, {childList: true});\n",
              "}}\n",
              "\n",
              "                        })                };                            </script>        </div>\n",
              "</body>\n",
              "</html>"
            ]
          },
          "metadata": {}
        }
      ],
      "source": [
        "fig = px.bar(\n",
        "    object_types,\n",
        "    x='object_type',\n",
        "    y='object_name',\n",
        "    text = 'percent',\n",
        "    labels = ({'object_type':'Тип объекта'}),\n",
        "    color='object_type'\n",
        ")\n",
        "#добавляем подписи\n",
        "fig.update_layout(\n",
        "    title='Соотношение видов заведений общепита по количеству',\n",
        "    xaxis_title=\"\",\n",
        "    yaxis_title=\"Количество\")\n",
        "\n",
        "#Вынгсим значения из столбцов\n",
        "fig.update_xaxes(tickangle=45)\n",
        "fig.update_traces(\n",
        "    textposition = 'outside'\n",
        ")\n",
        "\n",
        "fig.show()"
      ]
    },
    {
      "cell_type": "markdown",
      "metadata": {
        "id": "-yONXNLl94Dj"
      },
      "source": [
        "Итак, лидирует, с большим отрывом, кафе. "
      ]
    },
    {
      "cell_type": "markdown",
      "metadata": {
        "id": "3OSwx_Je94Dj"
      },
      "source": [
        "### Соотношение сетевых и несетевых заведений по количеству."
      ]
    },
    {
      "cell_type": "code",
      "execution_count": 26,
      "metadata": {
        "colab": {
          "base_uri": "https://localhost:8080/",
          "height": 614
        },
        "id": "zL5VPQjD94Dk",
        "outputId": "ef14f3a6-7259-4f6a-b6af-ff5d8b33947e"
      },
      "outputs": [
        {
          "output_type": "execute_result",
          "data": {
            "text/plain": [
              "             object_type  chain  count\n",
              "6                   кафе  False   4703\n",
              "14              столовая  False   2584\n",
              "12              ресторан  False   1741\n",
              "7                   кафе   True   1396\n",
              "16              фаст-фуд  False   1132\n",
              "0                    бар  False    819\n",
              "17              фаст-фуд   True    791\n",
              "2                  буфет  False    574\n",
              "13              ресторан   True    544\n",
              "8              кафетерий  False    346\n",
              "4             закусочная  False    304\n",
              "10  кулинария в магазине  False    195\n",
              "11  кулинария в магазине   True     78\n",
              "5             закусочная   True     56\n",
              "9              кафетерий   True     52\n",
              "1                    бар   True     37\n",
              "3                  буфет   True     11\n",
              "15              столовая   True      3"
            ],
            "text/html": [
              "\n",
              "  <div id=\"df-247be046-c84d-4aa4-9e93-2a3a40c42cb0\">\n",
              "    <div class=\"colab-df-container\">\n",
              "      <div>\n",
              "<style scoped>\n",
              "    .dataframe tbody tr th:only-of-type {\n",
              "        vertical-align: middle;\n",
              "    }\n",
              "\n",
              "    .dataframe tbody tr th {\n",
              "        vertical-align: top;\n",
              "    }\n",
              "\n",
              "    .dataframe thead th {\n",
              "        text-align: right;\n",
              "    }\n",
              "</style>\n",
              "<table border=\"1\" class=\"dataframe\">\n",
              "  <thead>\n",
              "    <tr style=\"text-align: right;\">\n",
              "      <th></th>\n",
              "      <th>object_type</th>\n",
              "      <th>chain</th>\n",
              "      <th>count</th>\n",
              "    </tr>\n",
              "  </thead>\n",
              "  <tbody>\n",
              "    <tr>\n",
              "      <th>6</th>\n",
              "      <td>кафе</td>\n",
              "      <td>False</td>\n",
              "      <td>4703</td>\n",
              "    </tr>\n",
              "    <tr>\n",
              "      <th>14</th>\n",
              "      <td>столовая</td>\n",
              "      <td>False</td>\n",
              "      <td>2584</td>\n",
              "    </tr>\n",
              "    <tr>\n",
              "      <th>12</th>\n",
              "      <td>ресторан</td>\n",
              "      <td>False</td>\n",
              "      <td>1741</td>\n",
              "    </tr>\n",
              "    <tr>\n",
              "      <th>7</th>\n",
              "      <td>кафе</td>\n",
              "      <td>True</td>\n",
              "      <td>1396</td>\n",
              "    </tr>\n",
              "    <tr>\n",
              "      <th>16</th>\n",
              "      <td>фаст-фуд</td>\n",
              "      <td>False</td>\n",
              "      <td>1132</td>\n",
              "    </tr>\n",
              "    <tr>\n",
              "      <th>0</th>\n",
              "      <td>бар</td>\n",
              "      <td>False</td>\n",
              "      <td>819</td>\n",
              "    </tr>\n",
              "    <tr>\n",
              "      <th>17</th>\n",
              "      <td>фаст-фуд</td>\n",
              "      <td>True</td>\n",
              "      <td>791</td>\n",
              "    </tr>\n",
              "    <tr>\n",
              "      <th>2</th>\n",
              "      <td>буфет</td>\n",
              "      <td>False</td>\n",
              "      <td>574</td>\n",
              "    </tr>\n",
              "    <tr>\n",
              "      <th>13</th>\n",
              "      <td>ресторан</td>\n",
              "      <td>True</td>\n",
              "      <td>544</td>\n",
              "    </tr>\n",
              "    <tr>\n",
              "      <th>8</th>\n",
              "      <td>кафетерий</td>\n",
              "      <td>False</td>\n",
              "      <td>346</td>\n",
              "    </tr>\n",
              "    <tr>\n",
              "      <th>4</th>\n",
              "      <td>закусочная</td>\n",
              "      <td>False</td>\n",
              "      <td>304</td>\n",
              "    </tr>\n",
              "    <tr>\n",
              "      <th>10</th>\n",
              "      <td>кулинария в магазине</td>\n",
              "      <td>False</td>\n",
              "      <td>195</td>\n",
              "    </tr>\n",
              "    <tr>\n",
              "      <th>11</th>\n",
              "      <td>кулинария в магазине</td>\n",
              "      <td>True</td>\n",
              "      <td>78</td>\n",
              "    </tr>\n",
              "    <tr>\n",
              "      <th>5</th>\n",
              "      <td>закусочная</td>\n",
              "      <td>True</td>\n",
              "      <td>56</td>\n",
              "    </tr>\n",
              "    <tr>\n",
              "      <th>9</th>\n",
              "      <td>кафетерий</td>\n",
              "      <td>True</td>\n",
              "      <td>52</td>\n",
              "    </tr>\n",
              "    <tr>\n",
              "      <th>1</th>\n",
              "      <td>бар</td>\n",
              "      <td>True</td>\n",
              "      <td>37</td>\n",
              "    </tr>\n",
              "    <tr>\n",
              "      <th>3</th>\n",
              "      <td>буфет</td>\n",
              "      <td>True</td>\n",
              "      <td>11</td>\n",
              "    </tr>\n",
              "    <tr>\n",
              "      <th>15</th>\n",
              "      <td>столовая</td>\n",
              "      <td>True</td>\n",
              "      <td>3</td>\n",
              "    </tr>\n",
              "  </tbody>\n",
              "</table>\n",
              "</div>\n",
              "      <button class=\"colab-df-convert\" onclick=\"convertToInteractive('df-247be046-c84d-4aa4-9e93-2a3a40c42cb0')\"\n",
              "              title=\"Convert this dataframe to an interactive table.\"\n",
              "              style=\"display:none;\">\n",
              "        \n",
              "  <svg xmlns=\"http://www.w3.org/2000/svg\" height=\"24px\"viewBox=\"0 0 24 24\"\n",
              "       width=\"24px\">\n",
              "    <path d=\"M0 0h24v24H0V0z\" fill=\"none\"/>\n",
              "    <path d=\"M18.56 5.44l.94 2.06.94-2.06 2.06-.94-2.06-.94-.94-2.06-.94 2.06-2.06.94zm-11 1L8.5 8.5l.94-2.06 2.06-.94-2.06-.94L8.5 2.5l-.94 2.06-2.06.94zm10 10l.94 2.06.94-2.06 2.06-.94-2.06-.94-.94-2.06-.94 2.06-2.06.94z\"/><path d=\"M17.41 7.96l-1.37-1.37c-.4-.4-.92-.59-1.43-.59-.52 0-1.04.2-1.43.59L10.3 9.45l-7.72 7.72c-.78.78-.78 2.05 0 2.83L4 21.41c.39.39.9.59 1.41.59.51 0 1.02-.2 1.41-.59l7.78-7.78 2.81-2.81c.8-.78.8-2.07 0-2.86zM5.41 20L4 18.59l7.72-7.72 1.47 1.35L5.41 20z\"/>\n",
              "  </svg>\n",
              "      </button>\n",
              "      \n",
              "  <style>\n",
              "    .colab-df-container {\n",
              "      display:flex;\n",
              "      flex-wrap:wrap;\n",
              "      gap: 12px;\n",
              "    }\n",
              "\n",
              "    .colab-df-convert {\n",
              "      background-color: #E8F0FE;\n",
              "      border: none;\n",
              "      border-radius: 50%;\n",
              "      cursor: pointer;\n",
              "      display: none;\n",
              "      fill: #1967D2;\n",
              "      height: 32px;\n",
              "      padding: 0 0 0 0;\n",
              "      width: 32px;\n",
              "    }\n",
              "\n",
              "    .colab-df-convert:hover {\n",
              "      background-color: #E2EBFA;\n",
              "      box-shadow: 0px 1px 2px rgba(60, 64, 67, 0.3), 0px 1px 3px 1px rgba(60, 64, 67, 0.15);\n",
              "      fill: #174EA6;\n",
              "    }\n",
              "\n",
              "    [theme=dark] .colab-df-convert {\n",
              "      background-color: #3B4455;\n",
              "      fill: #D2E3FC;\n",
              "    }\n",
              "\n",
              "    [theme=dark] .colab-df-convert:hover {\n",
              "      background-color: #434B5C;\n",
              "      box-shadow: 0px 1px 3px 1px rgba(0, 0, 0, 0.15);\n",
              "      filter: drop-shadow(0px 1px 2px rgba(0, 0, 0, 0.3));\n",
              "      fill: #FFFFFF;\n",
              "    }\n",
              "  </style>\n",
              "\n",
              "      <script>\n",
              "        const buttonEl =\n",
              "          document.querySelector('#df-247be046-c84d-4aa4-9e93-2a3a40c42cb0 button.colab-df-convert');\n",
              "        buttonEl.style.display =\n",
              "          google.colab.kernel.accessAllowed ? 'block' : 'none';\n",
              "\n",
              "        async function convertToInteractive(key) {\n",
              "          const element = document.querySelector('#df-247be046-c84d-4aa4-9e93-2a3a40c42cb0');\n",
              "          const dataTable =\n",
              "            await google.colab.kernel.invokeFunction('convertToInteractive',\n",
              "                                                     [key], {});\n",
              "          if (!dataTable) return;\n",
              "\n",
              "          const docLinkHtml = 'Like what you see? Visit the ' +\n",
              "            '<a target=\"_blank\" href=https://colab.research.google.com/notebooks/data_table.ipynb>data table notebook</a>'\n",
              "            + ' to learn more about interactive tables.';\n",
              "          element.innerHTML = '';\n",
              "          dataTable['output_type'] = 'display_data';\n",
              "          await google.colab.output.renderOutput(dataTable, element);\n",
              "          const docLink = document.createElement('div');\n",
              "          docLink.innerHTML = docLinkHtml;\n",
              "          element.appendChild(docLink);\n",
              "        }\n",
              "      </script>\n",
              "    </div>\n",
              "  </div>\n",
              "  "
            ]
          },
          "metadata": {},
          "execution_count": 26
        }
      ],
      "source": [
        "chain= (\n",
        "    df.groupby(['object_type', 'chain'],as_index=False)\n",
        "    .agg({'id':'count'})\n",
        "    .sort_values(by='id', ascending=False)\n",
        ")\n",
        "chain.rename(columns = {'id':'count'}, inplace=True)\n",
        "chain"
      ]
    },
    {
      "cell_type": "code",
      "execution_count": 27,
      "metadata": {
        "colab": {
          "base_uri": "https://localhost:8080/",
          "height": 542
        },
        "id": "LXIxWPTp94Dk",
        "outputId": "f967bcaa-6a21-45c6-950b-ad36a15deaa3"
      },
      "outputs": [
        {
          "output_type": "display_data",
          "data": {
            "text/html": [
              "<html>\n",
              "<head><meta charset=\"utf-8\" /></head>\n",
              "<body>\n",
              "    <div>            <script src=\"https://cdnjs.cloudflare.com/ajax/libs/mathjax/2.7.5/MathJax.js?config=TeX-AMS-MML_SVG\"></script><script type=\"text/javascript\">if (window.MathJax) {MathJax.Hub.Config({SVG: {font: \"STIX-Web\"}});}</script>                <script type=\"text/javascript\">window.PlotlyConfig = {MathJaxConfig: 'local'};</script>\n",
              "        <script src=\"https://cdn.plot.ly/plotly-2.8.3.min.js\"></script>                <div id=\"a2e89383-1908-4829-a510-5d155294068c\" class=\"plotly-graph-div\" style=\"height:525px; width:100%;\"></div>            <script type=\"text/javascript\">                                    window.PLOTLYENV=window.PLOTLYENV || {};                                    if (document.getElementById(\"a2e89383-1908-4829-a510-5d155294068c\")) {                    Plotly.newPlot(                        \"a2e89383-1908-4829-a510-5d155294068c\",                        [{\"labels\":[\"\\u041d\\u0435\\u0441\\u0435\\u0442\\u0435\\u0432\\u044b\\u0435\",\"\\u0421\\u0435\\u0442\\u0435\\u0432\\u044b\\u0435\"],\"values\":[12398,2968],\"type\":\"pie\"}],                        {\"template\":{\"data\":{\"bar\":[{\"error_x\":{\"color\":\"#2a3f5f\"},\"error_y\":{\"color\":\"#2a3f5f\"},\"marker\":{\"line\":{\"color\":\"white\",\"width\":0.5},\"pattern\":{\"fillmode\":\"overlay\",\"size\":10,\"solidity\":0.2}},\"type\":\"bar\"}],\"barpolar\":[{\"marker\":{\"line\":{\"color\":\"white\",\"width\":0.5},\"pattern\":{\"fillmode\":\"overlay\",\"size\":10,\"solidity\":0.2}},\"type\":\"barpolar\"}],\"carpet\":[{\"aaxis\":{\"endlinecolor\":\"#2a3f5f\",\"gridcolor\":\"#C8D4E3\",\"linecolor\":\"#C8D4E3\",\"minorgridcolor\":\"#C8D4E3\",\"startlinecolor\":\"#2a3f5f\"},\"baxis\":{\"endlinecolor\":\"#2a3f5f\",\"gridcolor\":\"#C8D4E3\",\"linecolor\":\"#C8D4E3\",\"minorgridcolor\":\"#C8D4E3\",\"startlinecolor\":\"#2a3f5f\"},\"type\":\"carpet\"}],\"choropleth\":[{\"colorbar\":{\"outlinewidth\":0,\"ticks\":\"\"},\"type\":\"choropleth\"}],\"contour\":[{\"colorbar\":{\"outlinewidth\":0,\"ticks\":\"\"},\"colorscale\":[[0.0,\"#0d0887\"],[0.1111111111111111,\"#46039f\"],[0.2222222222222222,\"#7201a8\"],[0.3333333333333333,\"#9c179e\"],[0.4444444444444444,\"#bd3786\"],[0.5555555555555556,\"#d8576b\"],[0.6666666666666666,\"#ed7953\"],[0.7777777777777778,\"#fb9f3a\"],[0.8888888888888888,\"#fdca26\"],[1.0,\"#f0f921\"]],\"type\":\"contour\"}],\"contourcarpet\":[{\"colorbar\":{\"outlinewidth\":0,\"ticks\":\"\"},\"type\":\"contourcarpet\"}],\"heatmap\":[{\"colorbar\":{\"outlinewidth\":0,\"ticks\":\"\"},\"colorscale\":[[0.0,\"#0d0887\"],[0.1111111111111111,\"#46039f\"],[0.2222222222222222,\"#7201a8\"],[0.3333333333333333,\"#9c179e\"],[0.4444444444444444,\"#bd3786\"],[0.5555555555555556,\"#d8576b\"],[0.6666666666666666,\"#ed7953\"],[0.7777777777777778,\"#fb9f3a\"],[0.8888888888888888,\"#fdca26\"],[1.0,\"#f0f921\"]],\"type\":\"heatmap\"}],\"heatmapgl\":[{\"colorbar\":{\"outlinewidth\":0,\"ticks\":\"\"},\"colorscale\":[[0.0,\"#0d0887\"],[0.1111111111111111,\"#46039f\"],[0.2222222222222222,\"#7201a8\"],[0.3333333333333333,\"#9c179e\"],[0.4444444444444444,\"#bd3786\"],[0.5555555555555556,\"#d8576b\"],[0.6666666666666666,\"#ed7953\"],[0.7777777777777778,\"#fb9f3a\"],[0.8888888888888888,\"#fdca26\"],[1.0,\"#f0f921\"]],\"type\":\"heatmapgl\"}],\"histogram\":[{\"marker\":{\"pattern\":{\"fillmode\":\"overlay\",\"size\":10,\"solidity\":0.2}},\"type\":\"histogram\"}],\"histogram2d\":[{\"colorbar\":{\"outlinewidth\":0,\"ticks\":\"\"},\"colorscale\":[[0.0,\"#0d0887\"],[0.1111111111111111,\"#46039f\"],[0.2222222222222222,\"#7201a8\"],[0.3333333333333333,\"#9c179e\"],[0.4444444444444444,\"#bd3786\"],[0.5555555555555556,\"#d8576b\"],[0.6666666666666666,\"#ed7953\"],[0.7777777777777778,\"#fb9f3a\"],[0.8888888888888888,\"#fdca26\"],[1.0,\"#f0f921\"]],\"type\":\"histogram2d\"}],\"histogram2dcontour\":[{\"colorbar\":{\"outlinewidth\":0,\"ticks\":\"\"},\"colorscale\":[[0.0,\"#0d0887\"],[0.1111111111111111,\"#46039f\"],[0.2222222222222222,\"#7201a8\"],[0.3333333333333333,\"#9c179e\"],[0.4444444444444444,\"#bd3786\"],[0.5555555555555556,\"#d8576b\"],[0.6666666666666666,\"#ed7953\"],[0.7777777777777778,\"#fb9f3a\"],[0.8888888888888888,\"#fdca26\"],[1.0,\"#f0f921\"]],\"type\":\"histogram2dcontour\"}],\"mesh3d\":[{\"colorbar\":{\"outlinewidth\":0,\"ticks\":\"\"},\"type\":\"mesh3d\"}],\"parcoords\":[{\"line\":{\"colorbar\":{\"outlinewidth\":0,\"ticks\":\"\"}},\"type\":\"parcoords\"}],\"pie\":[{\"automargin\":true,\"type\":\"pie\"}],\"scatter\":[{\"marker\":{\"colorbar\":{\"outlinewidth\":0,\"ticks\":\"\"}},\"type\":\"scatter\"}],\"scatter3d\":[{\"line\":{\"colorbar\":{\"outlinewidth\":0,\"ticks\":\"\"}},\"marker\":{\"colorbar\":{\"outlinewidth\":0,\"ticks\":\"\"}},\"type\":\"scatter3d\"}],\"scattercarpet\":[{\"marker\":{\"colorbar\":{\"outlinewidth\":0,\"ticks\":\"\"}},\"type\":\"scattercarpet\"}],\"scattergeo\":[{\"marker\":{\"colorbar\":{\"outlinewidth\":0,\"ticks\":\"\"}},\"type\":\"scattergeo\"}],\"scattergl\":[{\"marker\":{\"colorbar\":{\"outlinewidth\":0,\"ticks\":\"\"}},\"type\":\"scattergl\"}],\"scattermapbox\":[{\"marker\":{\"colorbar\":{\"outlinewidth\":0,\"ticks\":\"\"}},\"type\":\"scattermapbox\"}],\"scatterpolar\":[{\"marker\":{\"colorbar\":{\"outlinewidth\":0,\"ticks\":\"\"}},\"type\":\"scatterpolar\"}],\"scatterpolargl\":[{\"marker\":{\"colorbar\":{\"outlinewidth\":0,\"ticks\":\"\"}},\"type\":\"scatterpolargl\"}],\"scatterternary\":[{\"marker\":{\"colorbar\":{\"outlinewidth\":0,\"ticks\":\"\"}},\"type\":\"scatterternary\"}],\"surface\":[{\"colorbar\":{\"outlinewidth\":0,\"ticks\":\"\"},\"colorscale\":[[0.0,\"#0d0887\"],[0.1111111111111111,\"#46039f\"],[0.2222222222222222,\"#7201a8\"],[0.3333333333333333,\"#9c179e\"],[0.4444444444444444,\"#bd3786\"],[0.5555555555555556,\"#d8576b\"],[0.6666666666666666,\"#ed7953\"],[0.7777777777777778,\"#fb9f3a\"],[0.8888888888888888,\"#fdca26\"],[1.0,\"#f0f921\"]],\"type\":\"surface\"}],\"table\":[{\"cells\":{\"fill\":{\"color\":\"#EBF0F8\"},\"line\":{\"color\":\"white\"}},\"header\":{\"fill\":{\"color\":\"#C8D4E3\"},\"line\":{\"color\":\"white\"}},\"type\":\"table\"}]},\"layout\":{\"annotationdefaults\":{\"arrowcolor\":\"#2a3f5f\",\"arrowhead\":0,\"arrowwidth\":1},\"autotypenumbers\":\"strict\",\"coloraxis\":{\"colorbar\":{\"outlinewidth\":0,\"ticks\":\"\"}},\"colorscale\":{\"diverging\":[[0,\"#8e0152\"],[0.1,\"#c51b7d\"],[0.2,\"#de77ae\"],[0.3,\"#f1b6da\"],[0.4,\"#fde0ef\"],[0.5,\"#f7f7f7\"],[0.6,\"#e6f5d0\"],[0.7,\"#b8e186\"],[0.8,\"#7fbc41\"],[0.9,\"#4d9221\"],[1,\"#276419\"]],\"sequential\":[[0.0,\"#0d0887\"],[0.1111111111111111,\"#46039f\"],[0.2222222222222222,\"#7201a8\"],[0.3333333333333333,\"#9c179e\"],[0.4444444444444444,\"#bd3786\"],[0.5555555555555556,\"#d8576b\"],[0.6666666666666666,\"#ed7953\"],[0.7777777777777778,\"#fb9f3a\"],[0.8888888888888888,\"#fdca26\"],[1.0,\"#f0f921\"]],\"sequentialminus\":[[0.0,\"#0d0887\"],[0.1111111111111111,\"#46039f\"],[0.2222222222222222,\"#7201a8\"],[0.3333333333333333,\"#9c179e\"],[0.4444444444444444,\"#bd3786\"],[0.5555555555555556,\"#d8576b\"],[0.6666666666666666,\"#ed7953\"],[0.7777777777777778,\"#fb9f3a\"],[0.8888888888888888,\"#fdca26\"],[1.0,\"#f0f921\"]]},\"colorway\":[\"#636efa\",\"#EF553B\",\"#00cc96\",\"#ab63fa\",\"#FFA15A\",\"#19d3f3\",\"#FF6692\",\"#B6E880\",\"#FF97FF\",\"#FECB52\"],\"font\":{\"color\":\"#2a3f5f\"},\"geo\":{\"bgcolor\":\"white\",\"lakecolor\":\"white\",\"landcolor\":\"white\",\"showlakes\":true,\"showland\":true,\"subunitcolor\":\"#C8D4E3\"},\"hoverlabel\":{\"align\":\"left\"},\"hovermode\":\"closest\",\"mapbox\":{\"style\":\"light\"},\"paper_bgcolor\":\"white\",\"plot_bgcolor\":\"white\",\"polar\":{\"angularaxis\":{\"gridcolor\":\"#EBF0F8\",\"linecolor\":\"#EBF0F8\",\"ticks\":\"\"},\"bgcolor\":\"white\",\"radialaxis\":{\"gridcolor\":\"#EBF0F8\",\"linecolor\":\"#EBF0F8\",\"ticks\":\"\"}},\"scene\":{\"xaxis\":{\"backgroundcolor\":\"white\",\"gridcolor\":\"#DFE8F3\",\"gridwidth\":2,\"linecolor\":\"#EBF0F8\",\"showbackground\":true,\"ticks\":\"\",\"zerolinecolor\":\"#EBF0F8\"},\"yaxis\":{\"backgroundcolor\":\"white\",\"gridcolor\":\"#DFE8F3\",\"gridwidth\":2,\"linecolor\":\"#EBF0F8\",\"showbackground\":true,\"ticks\":\"\",\"zerolinecolor\":\"#EBF0F8\"},\"zaxis\":{\"backgroundcolor\":\"white\",\"gridcolor\":\"#DFE8F3\",\"gridwidth\":2,\"linecolor\":\"#EBF0F8\",\"showbackground\":true,\"ticks\":\"\",\"zerolinecolor\":\"#EBF0F8\"}},\"shapedefaults\":{\"line\":{\"color\":\"#2a3f5f\"}},\"ternary\":{\"aaxis\":{\"gridcolor\":\"#DFE8F3\",\"linecolor\":\"#A2B1C6\",\"ticks\":\"\"},\"baxis\":{\"gridcolor\":\"#DFE8F3\",\"linecolor\":\"#A2B1C6\",\"ticks\":\"\"},\"bgcolor\":\"white\",\"caxis\":{\"gridcolor\":\"#DFE8F3\",\"linecolor\":\"#A2B1C6\",\"ticks\":\"\"}},\"title\":{\"x\":0.05},\"xaxis\":{\"automargin\":true,\"gridcolor\":\"#EBF0F8\",\"linecolor\":\"#EBF0F8\",\"ticks\":\"\",\"title\":{\"standoff\":15},\"zerolinecolor\":\"#EBF0F8\",\"zerolinewidth\":2},\"yaxis\":{\"automargin\":true,\"gridcolor\":\"#EBF0F8\",\"linecolor\":\"#EBF0F8\",\"ticks\":\"\",\"title\":{\"standoff\":15},\"zerolinecolor\":\"#EBF0F8\",\"zerolinewidth\":2}}},\"legend\":{\"orientation\":\"h\",\"x\":0.5,\"xanchor\":\"center\"},\"title\":{\"text\":\"\\u0421\\u043e\\u043e\\u0442\\u043d\\u043e\\u0448\\u0435\\u043d\\u0438\\u0435 \\u0441\\u0435\\u0442\\u0435\\u0432\\u044b\\u0445 \\u0438 \\u043d\\u0435\\u0441\\u0435\\u0442\\u0435\\u0432\\u044b\\u0445 \\u0437\\u0430\\u0432\\u0435\\u0434\\u0435\\u043d\\u0438\\u0439 \\u043f\\u043e \\u043a\\u043e\\u043b\\u0438\\u0447\\u0435\\u0441\\u0442\\u0432\\u0443\",\"y\":0.9,\"x\":0.48}},                        {\"responsive\": true}                    ).then(function(){\n",
              "                            \n",
              "var gd = document.getElementById('a2e89383-1908-4829-a510-5d155294068c');\n",
              "var x = new MutationObserver(function (mutations, observer) {{\n",
              "        var display = window.getComputedStyle(gd).display;\n",
              "        if (!display || display === 'none') {{\n",
              "            console.log([gd, 'removed!']);\n",
              "            Plotly.purge(gd);\n",
              "            observer.disconnect();\n",
              "        }}\n",
              "}});\n",
              "\n",
              "// Listen for the removal of the full notebook cells\n",
              "var notebookContainer = gd.closest('#notebook-container');\n",
              "if (notebookContainer) {{\n",
              "    x.observe(notebookContainer, {childList: true});\n",
              "}}\n",
              "\n",
              "// Listen for the clearing of the current output cell\n",
              "var outputEl = gd.closest('.output');\n",
              "if (outputEl) {{\n",
              "    x.observe(outputEl, {childList: true});\n",
              "}}\n",
              "\n",
              "                        })                };                            </script>        </div>\n",
              "</body>\n",
              "</html>"
            ]
          },
          "metadata": {}
        }
      ],
      "source": [
        "fig = go.Figure(\n",
        "    data=go.Pie(labels=['Несетевые', 'Сетевые'], values=df['chain'].value_counts())\n",
        ")\n",
        "fig.update_layout(\n",
        "    legend_orientation=\"h\",\n",
        "    legend=dict(x=.5, xanchor=\"center\"),\n",
        "    title={\n",
        "        'text':'Соотношение сетевых и несетевых заведений по количеству',\n",
        "        'y':0.9,\n",
        "        'x':0.48},\n",
        ")"
      ]
    },
    {
      "cell_type": "markdown",
      "metadata": {
        "id": "3-WuVAL694Dl"
      },
      "source": [
        "Как видно из графика - сетевых заведений всего 19% от общего количества, остальные - несетевые."
      ]
    },
    {
      "cell_type": "markdown",
      "metadata": {
        "id": "xkof3OKc94Dl"
      },
      "source": [
        "### Для какого вида объекта общественного питания характерно сетевое распространение?"
      ]
    },
    {
      "cell_type": "code",
      "execution_count": 28,
      "metadata": {
        "colab": {
          "base_uri": "https://localhost:8080/",
          "height": 332
        },
        "id": "BoR4MR2F94Dl",
        "outputId": "0ca251ad-5d55-4af3-e64d-99616b4470d7"
      },
      "outputs": [
        {
          "output_type": "execute_result",
          "data": {
            "text/plain": [
              "            object_type  chain_objects  sum_objects percent  percent_of_type  \\\n",
              "0                  кафе           1396         6099   47.0%            22.89   \n",
              "1              фаст-фуд            791         1923   26.7%            41.13   \n",
              "2              ресторан            544         2285   18.3%            23.81   \n",
              "3  кулинария в магазине             78          273    2.6%            28.57   \n",
              "4            закусочная             56          360    1.9%            15.56   \n",
              "5             кафетерий             52          398    1.8%            13.07   \n",
              "6                   бар             37          856    1.2%             4.32   \n",
              "7                 буфет             11          585    0.4%             1.88   \n",
              "8              столовая              3         2587    0.1%             0.12   \n",
              "\n",
              "  percent_of_type_text  \n",
              "0               22.89%  \n",
              "1               41.13%  \n",
              "2               23.81%  \n",
              "3               28.57%  \n",
              "4               15.56%  \n",
              "5               13.07%  \n",
              "6                4.32%  \n",
              "7                1.88%  \n",
              "8                0.12%  "
            ],
            "text/html": [
              "\n",
              "  <div id=\"df-d6649adf-e51e-465d-b0d9-6e016fa5db4b\">\n",
              "    <div class=\"colab-df-container\">\n",
              "      <div>\n",
              "<style scoped>\n",
              "    .dataframe tbody tr th:only-of-type {\n",
              "        vertical-align: middle;\n",
              "    }\n",
              "\n",
              "    .dataframe tbody tr th {\n",
              "        vertical-align: top;\n",
              "    }\n",
              "\n",
              "    .dataframe thead th {\n",
              "        text-align: right;\n",
              "    }\n",
              "</style>\n",
              "<table border=\"1\" class=\"dataframe\">\n",
              "  <thead>\n",
              "    <tr style=\"text-align: right;\">\n",
              "      <th></th>\n",
              "      <th>object_type</th>\n",
              "      <th>chain_objects</th>\n",
              "      <th>sum_objects</th>\n",
              "      <th>percent</th>\n",
              "      <th>percent_of_type</th>\n",
              "      <th>percent_of_type_text</th>\n",
              "    </tr>\n",
              "  </thead>\n",
              "  <tbody>\n",
              "    <tr>\n",
              "      <th>0</th>\n",
              "      <td>кафе</td>\n",
              "      <td>1396</td>\n",
              "      <td>6099</td>\n",
              "      <td>47.0%</td>\n",
              "      <td>22.89</td>\n",
              "      <td>22.89%</td>\n",
              "    </tr>\n",
              "    <tr>\n",
              "      <th>1</th>\n",
              "      <td>фаст-фуд</td>\n",
              "      <td>791</td>\n",
              "      <td>1923</td>\n",
              "      <td>26.7%</td>\n",
              "      <td>41.13</td>\n",
              "      <td>41.13%</td>\n",
              "    </tr>\n",
              "    <tr>\n",
              "      <th>2</th>\n",
              "      <td>ресторан</td>\n",
              "      <td>544</td>\n",
              "      <td>2285</td>\n",
              "      <td>18.3%</td>\n",
              "      <td>23.81</td>\n",
              "      <td>23.81%</td>\n",
              "    </tr>\n",
              "    <tr>\n",
              "      <th>3</th>\n",
              "      <td>кулинария в магазине</td>\n",
              "      <td>78</td>\n",
              "      <td>273</td>\n",
              "      <td>2.6%</td>\n",
              "      <td>28.57</td>\n",
              "      <td>28.57%</td>\n",
              "    </tr>\n",
              "    <tr>\n",
              "      <th>4</th>\n",
              "      <td>закусочная</td>\n",
              "      <td>56</td>\n",
              "      <td>360</td>\n",
              "      <td>1.9%</td>\n",
              "      <td>15.56</td>\n",
              "      <td>15.56%</td>\n",
              "    </tr>\n",
              "    <tr>\n",
              "      <th>5</th>\n",
              "      <td>кафетерий</td>\n",
              "      <td>52</td>\n",
              "      <td>398</td>\n",
              "      <td>1.8%</td>\n",
              "      <td>13.07</td>\n",
              "      <td>13.07%</td>\n",
              "    </tr>\n",
              "    <tr>\n",
              "      <th>6</th>\n",
              "      <td>бар</td>\n",
              "      <td>37</td>\n",
              "      <td>856</td>\n",
              "      <td>1.2%</td>\n",
              "      <td>4.32</td>\n",
              "      <td>4.32%</td>\n",
              "    </tr>\n",
              "    <tr>\n",
              "      <th>7</th>\n",
              "      <td>буфет</td>\n",
              "      <td>11</td>\n",
              "      <td>585</td>\n",
              "      <td>0.4%</td>\n",
              "      <td>1.88</td>\n",
              "      <td>1.88%</td>\n",
              "    </tr>\n",
              "    <tr>\n",
              "      <th>8</th>\n",
              "      <td>столовая</td>\n",
              "      <td>3</td>\n",
              "      <td>2587</td>\n",
              "      <td>0.1%</td>\n",
              "      <td>0.12</td>\n",
              "      <td>0.12%</td>\n",
              "    </tr>\n",
              "  </tbody>\n",
              "</table>\n",
              "</div>\n",
              "      <button class=\"colab-df-convert\" onclick=\"convertToInteractive('df-d6649adf-e51e-465d-b0d9-6e016fa5db4b')\"\n",
              "              title=\"Convert this dataframe to an interactive table.\"\n",
              "              style=\"display:none;\">\n",
              "        \n",
              "  <svg xmlns=\"http://www.w3.org/2000/svg\" height=\"24px\"viewBox=\"0 0 24 24\"\n",
              "       width=\"24px\">\n",
              "    <path d=\"M0 0h24v24H0V0z\" fill=\"none\"/>\n",
              "    <path d=\"M18.56 5.44l.94 2.06.94-2.06 2.06-.94-2.06-.94-.94-2.06-.94 2.06-2.06.94zm-11 1L8.5 8.5l.94-2.06 2.06-.94-2.06-.94L8.5 2.5l-.94 2.06-2.06.94zm10 10l.94 2.06.94-2.06 2.06-.94-2.06-.94-.94-2.06-.94 2.06-2.06.94z\"/><path d=\"M17.41 7.96l-1.37-1.37c-.4-.4-.92-.59-1.43-.59-.52 0-1.04.2-1.43.59L10.3 9.45l-7.72 7.72c-.78.78-.78 2.05 0 2.83L4 21.41c.39.39.9.59 1.41.59.51 0 1.02-.2 1.41-.59l7.78-7.78 2.81-2.81c.8-.78.8-2.07 0-2.86zM5.41 20L4 18.59l7.72-7.72 1.47 1.35L5.41 20z\"/>\n",
              "  </svg>\n",
              "      </button>\n",
              "      \n",
              "  <style>\n",
              "    .colab-df-container {\n",
              "      display:flex;\n",
              "      flex-wrap:wrap;\n",
              "      gap: 12px;\n",
              "    }\n",
              "\n",
              "    .colab-df-convert {\n",
              "      background-color: #E8F0FE;\n",
              "      border: none;\n",
              "      border-radius: 50%;\n",
              "      cursor: pointer;\n",
              "      display: none;\n",
              "      fill: #1967D2;\n",
              "      height: 32px;\n",
              "      padding: 0 0 0 0;\n",
              "      width: 32px;\n",
              "    }\n",
              "\n",
              "    .colab-df-convert:hover {\n",
              "      background-color: #E2EBFA;\n",
              "      box-shadow: 0px 1px 2px rgba(60, 64, 67, 0.3), 0px 1px 3px 1px rgba(60, 64, 67, 0.15);\n",
              "      fill: #174EA6;\n",
              "    }\n",
              "\n",
              "    [theme=dark] .colab-df-convert {\n",
              "      background-color: #3B4455;\n",
              "      fill: #D2E3FC;\n",
              "    }\n",
              "\n",
              "    [theme=dark] .colab-df-convert:hover {\n",
              "      background-color: #434B5C;\n",
              "      box-shadow: 0px 1px 3px 1px rgba(0, 0, 0, 0.15);\n",
              "      filter: drop-shadow(0px 1px 2px rgba(0, 0, 0, 0.3));\n",
              "      fill: #FFFFFF;\n",
              "    }\n",
              "  </style>\n",
              "\n",
              "      <script>\n",
              "        const buttonEl =\n",
              "          document.querySelector('#df-d6649adf-e51e-465d-b0d9-6e016fa5db4b button.colab-df-convert');\n",
              "        buttonEl.style.display =\n",
              "          google.colab.kernel.accessAllowed ? 'block' : 'none';\n",
              "\n",
              "        async function convertToInteractive(key) {\n",
              "          const element = document.querySelector('#df-d6649adf-e51e-465d-b0d9-6e016fa5db4b');\n",
              "          const dataTable =\n",
              "            await google.colab.kernel.invokeFunction('convertToInteractive',\n",
              "                                                     [key], {});\n",
              "          if (!dataTable) return;\n",
              "\n",
              "          const docLinkHtml = 'Like what you see? Visit the ' +\n",
              "            '<a target=\"_blank\" href=https://colab.research.google.com/notebooks/data_table.ipynb>data table notebook</a>'\n",
              "            + ' to learn more about interactive tables.';\n",
              "          element.innerHTML = '';\n",
              "          dataTable['output_type'] = 'display_data';\n",
              "          await google.colab.output.renderOutput(dataTable, element);\n",
              "          const docLink = document.createElement('div');\n",
              "          docLink.innerHTML = docLinkHtml;\n",
              "          element.appendChild(docLink);\n",
              "        }\n",
              "      </script>\n",
              "    </div>\n",
              "  </div>\n",
              "  "
            ]
          },
          "metadata": {},
          "execution_count": 28
        }
      ],
      "source": [
        "chain_types = (\n",
        "    df[df['chain']==True].groupby('object_type',as_index=False)\n",
        "    .agg({'object_name':'count'})\n",
        "    .sort_values(by='object_name', ascending=False)\n",
        ")\n",
        "chain_types = chain_types.merge(\n",
        "    object_types[['object_type', 'object_name']],\n",
        "    left_on='object_type',\n",
        "    right_on='object_type'\n",
        ")\n",
        "#Переименовала столбцы\n",
        "chain_types.columns=['object_type', 'chain_objects', 'sum_objects']\n",
        "\n",
        "#Создала столбец для соотношения\n",
        "chain_types['percent'] = (chain_types['chain_objects'] / chain_types['chain_objects'].sum()*100).round(1).astype('str')+'%'\n",
        "\n",
        "#Столбец для отношения к типу заведения\n",
        "chain_types['percent_of_type'] = (chain_types['chain_objects'] / chain_types['sum_objects']*100).round(2)\n",
        "\n",
        "#Столбец для графика\n",
        "chain_types['percent_of_type_text'] = chain_types['percent_of_type'].astype('str')+'%'\n",
        "\n",
        "chain_types"
      ]
    },
    {
      "cell_type": "code",
      "execution_count": 29,
      "metadata": {
        "scrolled": false,
        "colab": {
          "base_uri": "https://localhost:8080/",
          "height": 567
        },
        "id": "DVwBFP4z94Dm",
        "outputId": "7dbe3939-d77f-43f4-f460-54be70cfd6f0"
      },
      "outputs": [
        {
          "output_type": "display_data",
          "data": {
            "text/html": [
              "<html>\n",
              "<head><meta charset=\"utf-8\" /></head>\n",
              "<body>\n",
              "    <div>            <script src=\"https://cdnjs.cloudflare.com/ajax/libs/mathjax/2.7.5/MathJax.js?config=TeX-AMS-MML_SVG\"></script><script type=\"text/javascript\">if (window.MathJax) {MathJax.Hub.Config({SVG: {font: \"STIX-Web\"}});}</script>                <script type=\"text/javascript\">window.PlotlyConfig = {MathJaxConfig: 'local'};</script>\n",
              "        <script src=\"https://cdn.plot.ly/plotly-2.8.3.min.js\"></script>                <div id=\"3ef90cf0-15a3-4e60-bca2-40c335d0b1e1\" class=\"plotly-graph-div\" style=\"height:550px; width:900px;\"></div>            <script type=\"text/javascript\">                                    window.PLOTLYENV=window.PLOTLYENV || {};                                    if (document.getElementById(\"3ef90cf0-15a3-4e60-bca2-40c335d0b1e1\")) {                    Plotly.newPlot(                        \"3ef90cf0-15a3-4e60-bca2-40c335d0b1e1\",                        [{\"alignmentgroup\":\"True\",\"hovertemplate\":\"\\u0422\\u0438\\u043f \\u043e\\u0431\\u044a\\u0435\\u043a\\u0442\\u0430=%{x}<br>chain_objects=%{text}<extra></extra>\",\"legendgroup\":\"\\u043a\\u0430\\u0444\\u0435\",\"marker\":{\"color\":\"#636efa\",\"pattern\":{\"shape\":\"\"}},\"name\":\"\\u043a\\u0430\\u0444\\u0435\",\"offsetgroup\":\"\\u043a\\u0430\\u0444\\u0435\",\"orientation\":\"v\",\"showlegend\":true,\"text\":[1396.0],\"textposition\":\"outside\",\"x\":[\"\\u043a\\u0430\\u0444\\u0435\"],\"xaxis\":\"x\",\"y\":[1396],\"yaxis\":\"y\",\"type\":\"bar\"},{\"alignmentgroup\":\"True\",\"hovertemplate\":\"\\u0422\\u0438\\u043f \\u043e\\u0431\\u044a\\u0435\\u043a\\u0442\\u0430=%{x}<br>chain_objects=%{text}<extra></extra>\",\"legendgroup\":\"\\u0444\\u0430\\u0441\\u0442-\\u0444\\u0443\\u0434\",\"marker\":{\"color\":\"#EF553B\",\"pattern\":{\"shape\":\"\"}},\"name\":\"\\u0444\\u0430\\u0441\\u0442-\\u0444\\u0443\\u0434\",\"offsetgroup\":\"\\u0444\\u0430\\u0441\\u0442-\\u0444\\u0443\\u0434\",\"orientation\":\"v\",\"showlegend\":true,\"text\":[791.0],\"textposition\":\"outside\",\"x\":[\"\\u0444\\u0430\\u0441\\u0442-\\u0444\\u0443\\u0434\"],\"xaxis\":\"x\",\"y\":[791],\"yaxis\":\"y\",\"type\":\"bar\"},{\"alignmentgroup\":\"True\",\"hovertemplate\":\"\\u0422\\u0438\\u043f \\u043e\\u0431\\u044a\\u0435\\u043a\\u0442\\u0430=%{x}<br>chain_objects=%{text}<extra></extra>\",\"legendgroup\":\"\\u0440\\u0435\\u0441\\u0442\\u043e\\u0440\\u0430\\u043d\",\"marker\":{\"color\":\"#00cc96\",\"pattern\":{\"shape\":\"\"}},\"name\":\"\\u0440\\u0435\\u0441\\u0442\\u043e\\u0440\\u0430\\u043d\",\"offsetgroup\":\"\\u0440\\u0435\\u0441\\u0442\\u043e\\u0440\\u0430\\u043d\",\"orientation\":\"v\",\"showlegend\":true,\"text\":[544.0],\"textposition\":\"outside\",\"x\":[\"\\u0440\\u0435\\u0441\\u0442\\u043e\\u0440\\u0430\\u043d\"],\"xaxis\":\"x\",\"y\":[544],\"yaxis\":\"y\",\"type\":\"bar\"},{\"alignmentgroup\":\"True\",\"hovertemplate\":\"\\u0422\\u0438\\u043f \\u043e\\u0431\\u044a\\u0435\\u043a\\u0442\\u0430=%{x}<br>chain_objects=%{text}<extra></extra>\",\"legendgroup\":\"\\u043a\\u0443\\u043b\\u0438\\u043d\\u0430\\u0440\\u0438\\u044f \\u0432 \\u043c\\u0430\\u0433\\u0430\\u0437\\u0438\\u043d\\u0435\",\"marker\":{\"color\":\"#ab63fa\",\"pattern\":{\"shape\":\"\"}},\"name\":\"\\u043a\\u0443\\u043b\\u0438\\u043d\\u0430\\u0440\\u0438\\u044f \\u0432 \\u043c\\u0430\\u0433\\u0430\\u0437\\u0438\\u043d\\u0435\",\"offsetgroup\":\"\\u043a\\u0443\\u043b\\u0438\\u043d\\u0430\\u0440\\u0438\\u044f \\u0432 \\u043c\\u0430\\u0433\\u0430\\u0437\\u0438\\u043d\\u0435\",\"orientation\":\"v\",\"showlegend\":true,\"text\":[78.0],\"textposition\":\"outside\",\"x\":[\"\\u043a\\u0443\\u043b\\u0438\\u043d\\u0430\\u0440\\u0438\\u044f \\u0432 \\u043c\\u0430\\u0433\\u0430\\u0437\\u0438\\u043d\\u0435\"],\"xaxis\":\"x\",\"y\":[78],\"yaxis\":\"y\",\"type\":\"bar\"},{\"alignmentgroup\":\"True\",\"hovertemplate\":\"\\u0422\\u0438\\u043f \\u043e\\u0431\\u044a\\u0435\\u043a\\u0442\\u0430=%{x}<br>chain_objects=%{text}<extra></extra>\",\"legendgroup\":\"\\u0437\\u0430\\u043a\\u0443\\u0441\\u043e\\u0447\\u043d\\u0430\\u044f\",\"marker\":{\"color\":\"#FFA15A\",\"pattern\":{\"shape\":\"\"}},\"name\":\"\\u0437\\u0430\\u043a\\u0443\\u0441\\u043e\\u0447\\u043d\\u0430\\u044f\",\"offsetgroup\":\"\\u0437\\u0430\\u043a\\u0443\\u0441\\u043e\\u0447\\u043d\\u0430\\u044f\",\"orientation\":\"v\",\"showlegend\":true,\"text\":[56.0],\"textposition\":\"outside\",\"x\":[\"\\u0437\\u0430\\u043a\\u0443\\u0441\\u043e\\u0447\\u043d\\u0430\\u044f\"],\"xaxis\":\"x\",\"y\":[56],\"yaxis\":\"y\",\"type\":\"bar\"},{\"alignmentgroup\":\"True\",\"hovertemplate\":\"\\u0422\\u0438\\u043f \\u043e\\u0431\\u044a\\u0435\\u043a\\u0442\\u0430=%{x}<br>chain_objects=%{text}<extra></extra>\",\"legendgroup\":\"\\u043a\\u0430\\u0444\\u0435\\u0442\\u0435\\u0440\\u0438\\u0439\",\"marker\":{\"color\":\"#19d3f3\",\"pattern\":{\"shape\":\"\"}},\"name\":\"\\u043a\\u0430\\u0444\\u0435\\u0442\\u0435\\u0440\\u0438\\u0439\",\"offsetgroup\":\"\\u043a\\u0430\\u0444\\u0435\\u0442\\u0435\\u0440\\u0438\\u0439\",\"orientation\":\"v\",\"showlegend\":true,\"text\":[52.0],\"textposition\":\"outside\",\"x\":[\"\\u043a\\u0430\\u0444\\u0435\\u0442\\u0435\\u0440\\u0438\\u0439\"],\"xaxis\":\"x\",\"y\":[52],\"yaxis\":\"y\",\"type\":\"bar\"},{\"alignmentgroup\":\"True\",\"hovertemplate\":\"\\u0422\\u0438\\u043f \\u043e\\u0431\\u044a\\u0435\\u043a\\u0442\\u0430=%{x}<br>chain_objects=%{text}<extra></extra>\",\"legendgroup\":\"\\u0431\\u0430\\u0440\",\"marker\":{\"color\":\"#FF6692\",\"pattern\":{\"shape\":\"\"}},\"name\":\"\\u0431\\u0430\\u0440\",\"offsetgroup\":\"\\u0431\\u0430\\u0440\",\"orientation\":\"v\",\"showlegend\":true,\"text\":[37.0],\"textposition\":\"outside\",\"x\":[\"\\u0431\\u0430\\u0440\"],\"xaxis\":\"x\",\"y\":[37],\"yaxis\":\"y\",\"type\":\"bar\"},{\"alignmentgroup\":\"True\",\"hovertemplate\":\"\\u0422\\u0438\\u043f \\u043e\\u0431\\u044a\\u0435\\u043a\\u0442\\u0430=%{x}<br>chain_objects=%{text}<extra></extra>\",\"legendgroup\":\"\\u0431\\u0443\\u0444\\u0435\\u0442\",\"marker\":{\"color\":\"#B6E880\",\"pattern\":{\"shape\":\"\"}},\"name\":\"\\u0431\\u0443\\u0444\\u0435\\u0442\",\"offsetgroup\":\"\\u0431\\u0443\\u0444\\u0435\\u0442\",\"orientation\":\"v\",\"showlegend\":true,\"text\":[11.0],\"textposition\":\"outside\",\"x\":[\"\\u0431\\u0443\\u0444\\u0435\\u0442\"],\"xaxis\":\"x\",\"y\":[11],\"yaxis\":\"y\",\"type\":\"bar\"},{\"alignmentgroup\":\"True\",\"hovertemplate\":\"\\u0422\\u0438\\u043f \\u043e\\u0431\\u044a\\u0435\\u043a\\u0442\\u0430=%{x}<br>chain_objects=%{text}<extra></extra>\",\"legendgroup\":\"\\u0441\\u0442\\u043e\\u043b\\u043e\\u0432\\u0430\\u044f\",\"marker\":{\"color\":\"#FF97FF\",\"pattern\":{\"shape\":\"\"}},\"name\":\"\\u0441\\u0442\\u043e\\u043b\\u043e\\u0432\\u0430\\u044f\",\"offsetgroup\":\"\\u0441\\u0442\\u043e\\u043b\\u043e\\u0432\\u0430\\u044f\",\"orientation\":\"v\",\"showlegend\":true,\"text\":[3.0],\"textposition\":\"outside\",\"x\":[\"\\u0441\\u0442\\u043e\\u043b\\u043e\\u0432\\u0430\\u044f\"],\"xaxis\":\"x\",\"y\":[3],\"yaxis\":\"y\",\"type\":\"bar\"}],                        {\"template\":{\"data\":{\"bar\":[{\"error_x\":{\"color\":\"#2a3f5f\"},\"error_y\":{\"color\":\"#2a3f5f\"},\"marker\":{\"line\":{\"color\":\"white\",\"width\":0.5},\"pattern\":{\"fillmode\":\"overlay\",\"size\":10,\"solidity\":0.2}},\"type\":\"bar\"}],\"barpolar\":[{\"marker\":{\"line\":{\"color\":\"white\",\"width\":0.5},\"pattern\":{\"fillmode\":\"overlay\",\"size\":10,\"solidity\":0.2}},\"type\":\"barpolar\"}],\"carpet\":[{\"aaxis\":{\"endlinecolor\":\"#2a3f5f\",\"gridcolor\":\"#C8D4E3\",\"linecolor\":\"#C8D4E3\",\"minorgridcolor\":\"#C8D4E3\",\"startlinecolor\":\"#2a3f5f\"},\"baxis\":{\"endlinecolor\":\"#2a3f5f\",\"gridcolor\":\"#C8D4E3\",\"linecolor\":\"#C8D4E3\",\"minorgridcolor\":\"#C8D4E3\",\"startlinecolor\":\"#2a3f5f\"},\"type\":\"carpet\"}],\"choropleth\":[{\"colorbar\":{\"outlinewidth\":0,\"ticks\":\"\"},\"type\":\"choropleth\"}],\"contour\":[{\"colorbar\":{\"outlinewidth\":0,\"ticks\":\"\"},\"colorscale\":[[0.0,\"#0d0887\"],[0.1111111111111111,\"#46039f\"],[0.2222222222222222,\"#7201a8\"],[0.3333333333333333,\"#9c179e\"],[0.4444444444444444,\"#bd3786\"],[0.5555555555555556,\"#d8576b\"],[0.6666666666666666,\"#ed7953\"],[0.7777777777777778,\"#fb9f3a\"],[0.8888888888888888,\"#fdca26\"],[1.0,\"#f0f921\"]],\"type\":\"contour\"}],\"contourcarpet\":[{\"colorbar\":{\"outlinewidth\":0,\"ticks\":\"\"},\"type\":\"contourcarpet\"}],\"heatmap\":[{\"colorbar\":{\"outlinewidth\":0,\"ticks\":\"\"},\"colorscale\":[[0.0,\"#0d0887\"],[0.1111111111111111,\"#46039f\"],[0.2222222222222222,\"#7201a8\"],[0.3333333333333333,\"#9c179e\"],[0.4444444444444444,\"#bd3786\"],[0.5555555555555556,\"#d8576b\"],[0.6666666666666666,\"#ed7953\"],[0.7777777777777778,\"#fb9f3a\"],[0.8888888888888888,\"#fdca26\"],[1.0,\"#f0f921\"]],\"type\":\"heatmap\"}],\"heatmapgl\":[{\"colorbar\":{\"outlinewidth\":0,\"ticks\":\"\"},\"colorscale\":[[0.0,\"#0d0887\"],[0.1111111111111111,\"#46039f\"],[0.2222222222222222,\"#7201a8\"],[0.3333333333333333,\"#9c179e\"],[0.4444444444444444,\"#bd3786\"],[0.5555555555555556,\"#d8576b\"],[0.6666666666666666,\"#ed7953\"],[0.7777777777777778,\"#fb9f3a\"],[0.8888888888888888,\"#fdca26\"],[1.0,\"#f0f921\"]],\"type\":\"heatmapgl\"}],\"histogram\":[{\"marker\":{\"pattern\":{\"fillmode\":\"overlay\",\"size\":10,\"solidity\":0.2}},\"type\":\"histogram\"}],\"histogram2d\":[{\"colorbar\":{\"outlinewidth\":0,\"ticks\":\"\"},\"colorscale\":[[0.0,\"#0d0887\"],[0.1111111111111111,\"#46039f\"],[0.2222222222222222,\"#7201a8\"],[0.3333333333333333,\"#9c179e\"],[0.4444444444444444,\"#bd3786\"],[0.5555555555555556,\"#d8576b\"],[0.6666666666666666,\"#ed7953\"],[0.7777777777777778,\"#fb9f3a\"],[0.8888888888888888,\"#fdca26\"],[1.0,\"#f0f921\"]],\"type\":\"histogram2d\"}],\"histogram2dcontour\":[{\"colorbar\":{\"outlinewidth\":0,\"ticks\":\"\"},\"colorscale\":[[0.0,\"#0d0887\"],[0.1111111111111111,\"#46039f\"],[0.2222222222222222,\"#7201a8\"],[0.3333333333333333,\"#9c179e\"],[0.4444444444444444,\"#bd3786\"],[0.5555555555555556,\"#d8576b\"],[0.6666666666666666,\"#ed7953\"],[0.7777777777777778,\"#fb9f3a\"],[0.8888888888888888,\"#fdca26\"],[1.0,\"#f0f921\"]],\"type\":\"histogram2dcontour\"}],\"mesh3d\":[{\"colorbar\":{\"outlinewidth\":0,\"ticks\":\"\"},\"type\":\"mesh3d\"}],\"parcoords\":[{\"line\":{\"colorbar\":{\"outlinewidth\":0,\"ticks\":\"\"}},\"type\":\"parcoords\"}],\"pie\":[{\"automargin\":true,\"type\":\"pie\"}],\"scatter\":[{\"marker\":{\"colorbar\":{\"outlinewidth\":0,\"ticks\":\"\"}},\"type\":\"scatter\"}],\"scatter3d\":[{\"line\":{\"colorbar\":{\"outlinewidth\":0,\"ticks\":\"\"}},\"marker\":{\"colorbar\":{\"outlinewidth\":0,\"ticks\":\"\"}},\"type\":\"scatter3d\"}],\"scattercarpet\":[{\"marker\":{\"colorbar\":{\"outlinewidth\":0,\"ticks\":\"\"}},\"type\":\"scattercarpet\"}],\"scattergeo\":[{\"marker\":{\"colorbar\":{\"outlinewidth\":0,\"ticks\":\"\"}},\"type\":\"scattergeo\"}],\"scattergl\":[{\"marker\":{\"colorbar\":{\"outlinewidth\":0,\"ticks\":\"\"}},\"type\":\"scattergl\"}],\"scattermapbox\":[{\"marker\":{\"colorbar\":{\"outlinewidth\":0,\"ticks\":\"\"}},\"type\":\"scattermapbox\"}],\"scatterpolar\":[{\"marker\":{\"colorbar\":{\"outlinewidth\":0,\"ticks\":\"\"}},\"type\":\"scatterpolar\"}],\"scatterpolargl\":[{\"marker\":{\"colorbar\":{\"outlinewidth\":0,\"ticks\":\"\"}},\"type\":\"scatterpolargl\"}],\"scatterternary\":[{\"marker\":{\"colorbar\":{\"outlinewidth\":0,\"ticks\":\"\"}},\"type\":\"scatterternary\"}],\"surface\":[{\"colorbar\":{\"outlinewidth\":0,\"ticks\":\"\"},\"colorscale\":[[0.0,\"#0d0887\"],[0.1111111111111111,\"#46039f\"],[0.2222222222222222,\"#7201a8\"],[0.3333333333333333,\"#9c179e\"],[0.4444444444444444,\"#bd3786\"],[0.5555555555555556,\"#d8576b\"],[0.6666666666666666,\"#ed7953\"],[0.7777777777777778,\"#fb9f3a\"],[0.8888888888888888,\"#fdca26\"],[1.0,\"#f0f921\"]],\"type\":\"surface\"}],\"table\":[{\"cells\":{\"fill\":{\"color\":\"#EBF0F8\"},\"line\":{\"color\":\"white\"}},\"header\":{\"fill\":{\"color\":\"#C8D4E3\"},\"line\":{\"color\":\"white\"}},\"type\":\"table\"}]},\"layout\":{\"annotationdefaults\":{\"arrowcolor\":\"#2a3f5f\",\"arrowhead\":0,\"arrowwidth\":1},\"autotypenumbers\":\"strict\",\"coloraxis\":{\"colorbar\":{\"outlinewidth\":0,\"ticks\":\"\"}},\"colorscale\":{\"diverging\":[[0,\"#8e0152\"],[0.1,\"#c51b7d\"],[0.2,\"#de77ae\"],[0.3,\"#f1b6da\"],[0.4,\"#fde0ef\"],[0.5,\"#f7f7f7\"],[0.6,\"#e6f5d0\"],[0.7,\"#b8e186\"],[0.8,\"#7fbc41\"],[0.9,\"#4d9221\"],[1,\"#276419\"]],\"sequential\":[[0.0,\"#0d0887\"],[0.1111111111111111,\"#46039f\"],[0.2222222222222222,\"#7201a8\"],[0.3333333333333333,\"#9c179e\"],[0.4444444444444444,\"#bd3786\"],[0.5555555555555556,\"#d8576b\"],[0.6666666666666666,\"#ed7953\"],[0.7777777777777778,\"#fb9f3a\"],[0.8888888888888888,\"#fdca26\"],[1.0,\"#f0f921\"]],\"sequentialminus\":[[0.0,\"#0d0887\"],[0.1111111111111111,\"#46039f\"],[0.2222222222222222,\"#7201a8\"],[0.3333333333333333,\"#9c179e\"],[0.4444444444444444,\"#bd3786\"],[0.5555555555555556,\"#d8576b\"],[0.6666666666666666,\"#ed7953\"],[0.7777777777777778,\"#fb9f3a\"],[0.8888888888888888,\"#fdca26\"],[1.0,\"#f0f921\"]]},\"colorway\":[\"#636efa\",\"#EF553B\",\"#00cc96\",\"#ab63fa\",\"#FFA15A\",\"#19d3f3\",\"#FF6692\",\"#B6E880\",\"#FF97FF\",\"#FECB52\"],\"font\":{\"color\":\"#2a3f5f\"},\"geo\":{\"bgcolor\":\"white\",\"lakecolor\":\"white\",\"landcolor\":\"white\",\"showlakes\":true,\"showland\":true,\"subunitcolor\":\"#C8D4E3\"},\"hoverlabel\":{\"align\":\"left\"},\"hovermode\":\"closest\",\"mapbox\":{\"style\":\"light\"},\"paper_bgcolor\":\"white\",\"plot_bgcolor\":\"white\",\"polar\":{\"angularaxis\":{\"gridcolor\":\"#EBF0F8\",\"linecolor\":\"#EBF0F8\",\"ticks\":\"\"},\"bgcolor\":\"white\",\"radialaxis\":{\"gridcolor\":\"#EBF0F8\",\"linecolor\":\"#EBF0F8\",\"ticks\":\"\"}},\"scene\":{\"xaxis\":{\"backgroundcolor\":\"white\",\"gridcolor\":\"#DFE8F3\",\"gridwidth\":2,\"linecolor\":\"#EBF0F8\",\"showbackground\":true,\"ticks\":\"\",\"zerolinecolor\":\"#EBF0F8\"},\"yaxis\":{\"backgroundcolor\":\"white\",\"gridcolor\":\"#DFE8F3\",\"gridwidth\":2,\"linecolor\":\"#EBF0F8\",\"showbackground\":true,\"ticks\":\"\",\"zerolinecolor\":\"#EBF0F8\"},\"zaxis\":{\"backgroundcolor\":\"white\",\"gridcolor\":\"#DFE8F3\",\"gridwidth\":2,\"linecolor\":\"#EBF0F8\",\"showbackground\":true,\"ticks\":\"\",\"zerolinecolor\":\"#EBF0F8\"}},\"shapedefaults\":{\"line\":{\"color\":\"#2a3f5f\"}},\"ternary\":{\"aaxis\":{\"gridcolor\":\"#DFE8F3\",\"linecolor\":\"#A2B1C6\",\"ticks\":\"\"},\"baxis\":{\"gridcolor\":\"#DFE8F3\",\"linecolor\":\"#A2B1C6\",\"ticks\":\"\"},\"bgcolor\":\"white\",\"caxis\":{\"gridcolor\":\"#DFE8F3\",\"linecolor\":\"#A2B1C6\",\"ticks\":\"\"}},\"title\":{\"x\":0.05},\"xaxis\":{\"automargin\":true,\"gridcolor\":\"#EBF0F8\",\"linecolor\":\"#EBF0F8\",\"ticks\":\"\",\"title\":{\"standoff\":15},\"zerolinecolor\":\"#EBF0F8\",\"zerolinewidth\":2},\"yaxis\":{\"automargin\":true,\"gridcolor\":\"#EBF0F8\",\"linecolor\":\"#EBF0F8\",\"ticks\":\"\",\"title\":{\"standoff\":15},\"zerolinecolor\":\"#EBF0F8\",\"zerolinewidth\":2}}},\"xaxis\":{\"anchor\":\"y\",\"domain\":[0.0,1.0],\"title\":{\"text\":\"\"},\"categoryorder\":\"array\",\"categoryarray\":[\"\\u043a\\u0430\\u0444\\u0435\",\"\\u0444\\u0430\\u0441\\u0442-\\u0444\\u0443\\u0434\",\"\\u0440\\u0435\\u0441\\u0442\\u043e\\u0440\\u0430\\u043d\",\"\\u043a\\u0443\\u043b\\u0438\\u043d\\u0430\\u0440\\u0438\\u044f \\u0432 \\u043c\\u0430\\u0433\\u0430\\u0437\\u0438\\u043d\\u0435\",\"\\u0437\\u0430\\u043a\\u0443\\u0441\\u043e\\u0447\\u043d\\u0430\\u044f\",\"\\u043a\\u0430\\u0444\\u0435\\u0442\\u0435\\u0440\\u0438\\u0439\",\"\\u0431\\u0430\\u0440\",\"\\u0431\\u0443\\u0444\\u0435\\u0442\",\"\\u0441\\u0442\\u043e\\u043b\\u043e\\u0432\\u0430\\u044f\"],\"tickangle\":45},\"yaxis\":{\"anchor\":\"x\",\"domain\":[0.0,1.0],\"title\":{\"text\":\"\\u041a\\u043e\\u043b\\u0438\\u0447\\u0435\\u0441\\u0442\\u0432\\u043e\"}},\"legend\":{\"title\":{\"text\":\"\\u0422\\u0438\\u043f \\u043e\\u0431\\u044a\\u0435\\u043a\\u0442\\u0430\"},\"tracegroupgap\":0},\"margin\":{\"t\":60},\"barmode\":\"relative\",\"height\":550,\"width\":900,\"title\":{\"text\":\"\\u0421\\u043e\\u043e\\u0442\\u043d\\u043e\\u0448\\u0435\\u043d\\u0438\\u0435 \\u0441\\u0435\\u0442\\u0435\\u0432\\u044b\\u0445 \\u0438 \\u043d\\u0435\\u0441\\u0435\\u0442\\u0435\\u0432\\u044b\\u0445 \\u043f\\u043e \\u0442\\u0438\\u043f\\u0430\\u043c \\u0437\\u0430\\u0432\\u0435\\u0434\\u0435\\u043d\\u0438\\u0439\"}},                        {\"responsive\": true}                    ).then(function(){\n",
              "                            \n",
              "var gd = document.getElementById('3ef90cf0-15a3-4e60-bca2-40c335d0b1e1');\n",
              "var x = new MutationObserver(function (mutations, observer) {{\n",
              "        var display = window.getComputedStyle(gd).display;\n",
              "        if (!display || display === 'none') {{\n",
              "            console.log([gd, 'removed!']);\n",
              "            Plotly.purge(gd);\n",
              "            observer.disconnect();\n",
              "        }}\n",
              "}});\n",
              "\n",
              "// Listen for the removal of the full notebook cells\n",
              "var notebookContainer = gd.closest('#notebook-container');\n",
              "if (notebookContainer) {{\n",
              "    x.observe(notebookContainer, {childList: true});\n",
              "}}\n",
              "\n",
              "// Listen for the clearing of the current output cell\n",
              "var outputEl = gd.closest('.output');\n",
              "if (outputEl) {{\n",
              "    x.observe(outputEl, {childList: true});\n",
              "}}\n",
              "\n",
              "                        })                };                            </script>        </div>\n",
              "</body>\n",
              "</html>"
            ]
          },
          "metadata": {}
        }
      ],
      "source": [
        "fig = px.bar(\n",
        "    chain_types,\n",
        "    x='object_type',\n",
        "    y='chain_objects',\n",
        "    color='object_type',\n",
        "    labels = ({'object_type':'Тип объекта'}),\n",
        "    text = 'chain_objects'\n",
        ")\n",
        "fig.update_xaxes(tickangle=45)\n",
        "\n",
        "fig.update_layout(\n",
        "    title='Соотношение сетевых и несетевых по типам заведений',\n",
        "    xaxis_title=\"\",\n",
        "    yaxis_title=\"Количество\")\n",
        "\n",
        "\n",
        "fig.update_traces(\n",
        "    textposition = 'outside'\n",
        ")\n",
        "\n",
        "fig.show()\n"
      ]
    },
    {
      "cell_type": "code",
      "execution_count": 30,
      "metadata": {
        "colab": {
          "base_uri": "https://localhost:8080/",
          "height": 614
        },
        "id": "sP93ngsV94Dm",
        "outputId": "9558ccd0-25ba-4e71-cb04-ff5a319b937c"
      },
      "outputs": [
        {
          "output_type": "execute_result",
          "data": {
            "text/plain": [
              "             object_type  chain  object_name\n",
              "6                   кафе  False         4703\n",
              "14              столовая  False         2584\n",
              "12              ресторан  False         1741\n",
              "7                   кафе   True         1396\n",
              "16              фаст-фуд  False         1132\n",
              "0                    бар  False          819\n",
              "17              фаст-фуд   True          791\n",
              "2                  буфет  False          574\n",
              "13              ресторан   True          544\n",
              "8              кафетерий  False          346\n",
              "4             закусочная  False          304\n",
              "10  кулинария в магазине  False          195\n",
              "11  кулинария в магазине   True           78\n",
              "5             закусочная   True           56\n",
              "9              кафетерий   True           52\n",
              "1                    бар   True           37\n",
              "3                  буфет   True           11\n",
              "15              столовая   True            3"
            ],
            "text/html": [
              "\n",
              "  <div id=\"df-e361a321-2d00-4f46-9602-07e7ce0a3c9d\">\n",
              "    <div class=\"colab-df-container\">\n",
              "      <div>\n",
              "<style scoped>\n",
              "    .dataframe tbody tr th:only-of-type {\n",
              "        vertical-align: middle;\n",
              "    }\n",
              "\n",
              "    .dataframe tbody tr th {\n",
              "        vertical-align: top;\n",
              "    }\n",
              "\n",
              "    .dataframe thead th {\n",
              "        text-align: right;\n",
              "    }\n",
              "</style>\n",
              "<table border=\"1\" class=\"dataframe\">\n",
              "  <thead>\n",
              "    <tr style=\"text-align: right;\">\n",
              "      <th></th>\n",
              "      <th>object_type</th>\n",
              "      <th>chain</th>\n",
              "      <th>object_name</th>\n",
              "    </tr>\n",
              "  </thead>\n",
              "  <tbody>\n",
              "    <tr>\n",
              "      <th>6</th>\n",
              "      <td>кафе</td>\n",
              "      <td>False</td>\n",
              "      <td>4703</td>\n",
              "    </tr>\n",
              "    <tr>\n",
              "      <th>14</th>\n",
              "      <td>столовая</td>\n",
              "      <td>False</td>\n",
              "      <td>2584</td>\n",
              "    </tr>\n",
              "    <tr>\n",
              "      <th>12</th>\n",
              "      <td>ресторан</td>\n",
              "      <td>False</td>\n",
              "      <td>1741</td>\n",
              "    </tr>\n",
              "    <tr>\n",
              "      <th>7</th>\n",
              "      <td>кафе</td>\n",
              "      <td>True</td>\n",
              "      <td>1396</td>\n",
              "    </tr>\n",
              "    <tr>\n",
              "      <th>16</th>\n",
              "      <td>фаст-фуд</td>\n",
              "      <td>False</td>\n",
              "      <td>1132</td>\n",
              "    </tr>\n",
              "    <tr>\n",
              "      <th>0</th>\n",
              "      <td>бар</td>\n",
              "      <td>False</td>\n",
              "      <td>819</td>\n",
              "    </tr>\n",
              "    <tr>\n",
              "      <th>17</th>\n",
              "      <td>фаст-фуд</td>\n",
              "      <td>True</td>\n",
              "      <td>791</td>\n",
              "    </tr>\n",
              "    <tr>\n",
              "      <th>2</th>\n",
              "      <td>буфет</td>\n",
              "      <td>False</td>\n",
              "      <td>574</td>\n",
              "    </tr>\n",
              "    <tr>\n",
              "      <th>13</th>\n",
              "      <td>ресторан</td>\n",
              "      <td>True</td>\n",
              "      <td>544</td>\n",
              "    </tr>\n",
              "    <tr>\n",
              "      <th>8</th>\n",
              "      <td>кафетерий</td>\n",
              "      <td>False</td>\n",
              "      <td>346</td>\n",
              "    </tr>\n",
              "    <tr>\n",
              "      <th>4</th>\n",
              "      <td>закусочная</td>\n",
              "      <td>False</td>\n",
              "      <td>304</td>\n",
              "    </tr>\n",
              "    <tr>\n",
              "      <th>10</th>\n",
              "      <td>кулинария в магазине</td>\n",
              "      <td>False</td>\n",
              "      <td>195</td>\n",
              "    </tr>\n",
              "    <tr>\n",
              "      <th>11</th>\n",
              "      <td>кулинария в магазине</td>\n",
              "      <td>True</td>\n",
              "      <td>78</td>\n",
              "    </tr>\n",
              "    <tr>\n",
              "      <th>5</th>\n",
              "      <td>закусочная</td>\n",
              "      <td>True</td>\n",
              "      <td>56</td>\n",
              "    </tr>\n",
              "    <tr>\n",
              "      <th>9</th>\n",
              "      <td>кафетерий</td>\n",
              "      <td>True</td>\n",
              "      <td>52</td>\n",
              "    </tr>\n",
              "    <tr>\n",
              "      <th>1</th>\n",
              "      <td>бар</td>\n",
              "      <td>True</td>\n",
              "      <td>37</td>\n",
              "    </tr>\n",
              "    <tr>\n",
              "      <th>3</th>\n",
              "      <td>буфет</td>\n",
              "      <td>True</td>\n",
              "      <td>11</td>\n",
              "    </tr>\n",
              "    <tr>\n",
              "      <th>15</th>\n",
              "      <td>столовая</td>\n",
              "      <td>True</td>\n",
              "      <td>3</td>\n",
              "    </tr>\n",
              "  </tbody>\n",
              "</table>\n",
              "</div>\n",
              "      <button class=\"colab-df-convert\" onclick=\"convertToInteractive('df-e361a321-2d00-4f46-9602-07e7ce0a3c9d')\"\n",
              "              title=\"Convert this dataframe to an interactive table.\"\n",
              "              style=\"display:none;\">\n",
              "        \n",
              "  <svg xmlns=\"http://www.w3.org/2000/svg\" height=\"24px\"viewBox=\"0 0 24 24\"\n",
              "       width=\"24px\">\n",
              "    <path d=\"M0 0h24v24H0V0z\" fill=\"none\"/>\n",
              "    <path d=\"M18.56 5.44l.94 2.06.94-2.06 2.06-.94-2.06-.94-.94-2.06-.94 2.06-2.06.94zm-11 1L8.5 8.5l.94-2.06 2.06-.94-2.06-.94L8.5 2.5l-.94 2.06-2.06.94zm10 10l.94 2.06.94-2.06 2.06-.94-2.06-.94-.94-2.06-.94 2.06-2.06.94z\"/><path d=\"M17.41 7.96l-1.37-1.37c-.4-.4-.92-.59-1.43-.59-.52 0-1.04.2-1.43.59L10.3 9.45l-7.72 7.72c-.78.78-.78 2.05 0 2.83L4 21.41c.39.39.9.59 1.41.59.51 0 1.02-.2 1.41-.59l7.78-7.78 2.81-2.81c.8-.78.8-2.07 0-2.86zM5.41 20L4 18.59l7.72-7.72 1.47 1.35L5.41 20z\"/>\n",
              "  </svg>\n",
              "      </button>\n",
              "      \n",
              "  <style>\n",
              "    .colab-df-container {\n",
              "      display:flex;\n",
              "      flex-wrap:wrap;\n",
              "      gap: 12px;\n",
              "    }\n",
              "\n",
              "    .colab-df-convert {\n",
              "      background-color: #E8F0FE;\n",
              "      border: none;\n",
              "      border-radius: 50%;\n",
              "      cursor: pointer;\n",
              "      display: none;\n",
              "      fill: #1967D2;\n",
              "      height: 32px;\n",
              "      padding: 0 0 0 0;\n",
              "      width: 32px;\n",
              "    }\n",
              "\n",
              "    .colab-df-convert:hover {\n",
              "      background-color: #E2EBFA;\n",
              "      box-shadow: 0px 1px 2px rgba(60, 64, 67, 0.3), 0px 1px 3px 1px rgba(60, 64, 67, 0.15);\n",
              "      fill: #174EA6;\n",
              "    }\n",
              "\n",
              "    [theme=dark] .colab-df-convert {\n",
              "      background-color: #3B4455;\n",
              "      fill: #D2E3FC;\n",
              "    }\n",
              "\n",
              "    [theme=dark] .colab-df-convert:hover {\n",
              "      background-color: #434B5C;\n",
              "      box-shadow: 0px 1px 3px 1px rgba(0, 0, 0, 0.15);\n",
              "      filter: drop-shadow(0px 1px 2px rgba(0, 0, 0, 0.3));\n",
              "      fill: #FFFFFF;\n",
              "    }\n",
              "  </style>\n",
              "\n",
              "      <script>\n",
              "        const buttonEl =\n",
              "          document.querySelector('#df-e361a321-2d00-4f46-9602-07e7ce0a3c9d button.colab-df-convert');\n",
              "        buttonEl.style.display =\n",
              "          google.colab.kernel.accessAllowed ? 'block' : 'none';\n",
              "\n",
              "        async function convertToInteractive(key) {\n",
              "          const element = document.querySelector('#df-e361a321-2d00-4f46-9602-07e7ce0a3c9d');\n",
              "          const dataTable =\n",
              "            await google.colab.kernel.invokeFunction('convertToInteractive',\n",
              "                                                     [key], {});\n",
              "          if (!dataTable) return;\n",
              "\n",
              "          const docLinkHtml = 'Like what you see? Visit the ' +\n",
              "            '<a target=\"_blank\" href=https://colab.research.google.com/notebooks/data_table.ipynb>data table notebook</a>'\n",
              "            + ' to learn more about interactive tables.';\n",
              "          element.innerHTML = '';\n",
              "          dataTable['output_type'] = 'display_data';\n",
              "          await google.colab.output.renderOutput(dataTable, element);\n",
              "          const docLink = document.createElement('div');\n",
              "          docLink.innerHTML = docLinkHtml;\n",
              "          element.appendChild(docLink);\n",
              "        }\n",
              "      </script>\n",
              "    </div>\n",
              "  </div>\n",
              "  "
            ]
          },
          "metadata": {},
          "execution_count": 30
        }
      ],
      "source": [
        "chain_tp = (\n",
        "    df.groupby(['object_type', 'chain'],as_index=False)\n",
        "    .agg({'object_name':'count'})\n",
        "    .sort_values(by='object_name', ascending=False)\n",
        ")\n",
        "\n",
        "chain_tp"
      ]
    },
    {
      "cell_type": "code",
      "execution_count": 31,
      "metadata": {
        "colab": {
          "base_uri": "https://localhost:8080/",
          "height": 567
        },
        "id": "LbsbTqR-94Dn",
        "outputId": "89b89e96-ccf1-4eaa-fab0-ce77ede1700a"
      },
      "outputs": [
        {
          "output_type": "display_data",
          "data": {
            "text/html": [
              "<html>\n",
              "<head><meta charset=\"utf-8\" /></head>\n",
              "<body>\n",
              "    <div>            <script src=\"https://cdnjs.cloudflare.com/ajax/libs/mathjax/2.7.5/MathJax.js?config=TeX-AMS-MML_SVG\"></script><script type=\"text/javascript\">if (window.MathJax) {MathJax.Hub.Config({SVG: {font: \"STIX-Web\"}});}</script>                <script type=\"text/javascript\">window.PlotlyConfig = {MathJaxConfig: 'local'};</script>\n",
              "        <script src=\"https://cdn.plot.ly/plotly-2.8.3.min.js\"></script>                <div id=\"77073d97-cdcc-4fc7-a7f0-a206a516b6d4\" class=\"plotly-graph-div\" style=\"height:550px; width:900px;\"></div>            <script type=\"text/javascript\">                                    window.PLOTLYENV=window.PLOTLYENV || {};                                    if (document.getElementById(\"77073d97-cdcc-4fc7-a7f0-a206a516b6d4\")) {                    Plotly.newPlot(                        \"77073d97-cdcc-4fc7-a7f0-a206a516b6d4\",                        [{\"alignmentgroup\":\"True\",\"hovertemplate\":\"\\u0421\\u0435\\u0442\\u0435\\u0432\\u044b\\u0435 \\u0438 \\u043d\\u0435\\u0441\\u0435\\u0442\\u0435\\u0432\\u044b\\u0435=False<br>object_type=%{x}<br>object_name=%{y}<extra></extra>\",\"legendgroup\":\"False\",\"marker\":{\"color\":\"#636efa\",\"pattern\":{\"shape\":\"\"}},\"name\":\"False\",\"offsetgroup\":\"False\",\"orientation\":\"v\",\"showlegend\":true,\"textposition\":\"outside\",\"x\":[\"\\u043a\\u0430\\u0444\\u0435\",\"\\u0441\\u0442\\u043e\\u043b\\u043e\\u0432\\u0430\\u044f\",\"\\u0440\\u0435\\u0441\\u0442\\u043e\\u0440\\u0430\\u043d\",\"\\u0444\\u0430\\u0441\\u0442-\\u0444\\u0443\\u0434\",\"\\u0431\\u0430\\u0440\",\"\\u0431\\u0443\\u0444\\u0435\\u0442\",\"\\u043a\\u0430\\u0444\\u0435\\u0442\\u0435\\u0440\\u0438\\u0439\",\"\\u0437\\u0430\\u043a\\u0443\\u0441\\u043e\\u0447\\u043d\\u0430\\u044f\",\"\\u043a\\u0443\\u043b\\u0438\\u043d\\u0430\\u0440\\u0438\\u044f \\u0432 \\u043c\\u0430\\u0433\\u0430\\u0437\\u0438\\u043d\\u0435\"],\"xaxis\":\"x\",\"y\":[4703,2584,1741,1132,819,574,346,304,195],\"yaxis\":\"y\",\"type\":\"bar\"},{\"alignmentgroup\":\"True\",\"hovertemplate\":\"\\u0421\\u0435\\u0442\\u0435\\u0432\\u044b\\u0435 \\u0438 \\u043d\\u0435\\u0441\\u0435\\u0442\\u0435\\u0432\\u044b\\u0435=True<br>object_type=%{x}<br>object_name=%{y}<extra></extra>\",\"legendgroup\":\"True\",\"marker\":{\"color\":\"#EF553B\",\"pattern\":{\"shape\":\"\"}},\"name\":\"True\",\"offsetgroup\":\"True\",\"orientation\":\"v\",\"showlegend\":true,\"textposition\":\"outside\",\"x\":[\"\\u043a\\u0430\\u0444\\u0435\",\"\\u0444\\u0430\\u0441\\u0442-\\u0444\\u0443\\u0434\",\"\\u0440\\u0435\\u0441\\u0442\\u043e\\u0440\\u0430\\u043d\",\"\\u043a\\u0443\\u043b\\u0438\\u043d\\u0430\\u0440\\u0438\\u044f \\u0432 \\u043c\\u0430\\u0433\\u0430\\u0437\\u0438\\u043d\\u0435\",\"\\u0437\\u0430\\u043a\\u0443\\u0441\\u043e\\u0447\\u043d\\u0430\\u044f\",\"\\u043a\\u0430\\u0444\\u0435\\u0442\\u0435\\u0440\\u0438\\u0439\",\"\\u0431\\u0430\\u0440\",\"\\u0431\\u0443\\u0444\\u0435\\u0442\",\"\\u0441\\u0442\\u043e\\u043b\\u043e\\u0432\\u0430\\u044f\"],\"xaxis\":\"x\",\"y\":[1396,791,544,78,56,52,37,11,3],\"yaxis\":\"y\",\"type\":\"bar\"}],                        {\"template\":{\"data\":{\"bar\":[{\"error_x\":{\"color\":\"#2a3f5f\"},\"error_y\":{\"color\":\"#2a3f5f\"},\"marker\":{\"line\":{\"color\":\"white\",\"width\":0.5},\"pattern\":{\"fillmode\":\"overlay\",\"size\":10,\"solidity\":0.2}},\"type\":\"bar\"}],\"barpolar\":[{\"marker\":{\"line\":{\"color\":\"white\",\"width\":0.5},\"pattern\":{\"fillmode\":\"overlay\",\"size\":10,\"solidity\":0.2}},\"type\":\"barpolar\"}],\"carpet\":[{\"aaxis\":{\"endlinecolor\":\"#2a3f5f\",\"gridcolor\":\"#C8D4E3\",\"linecolor\":\"#C8D4E3\",\"minorgridcolor\":\"#C8D4E3\",\"startlinecolor\":\"#2a3f5f\"},\"baxis\":{\"endlinecolor\":\"#2a3f5f\",\"gridcolor\":\"#C8D4E3\",\"linecolor\":\"#C8D4E3\",\"minorgridcolor\":\"#C8D4E3\",\"startlinecolor\":\"#2a3f5f\"},\"type\":\"carpet\"}],\"choropleth\":[{\"colorbar\":{\"outlinewidth\":0,\"ticks\":\"\"},\"type\":\"choropleth\"}],\"contour\":[{\"colorbar\":{\"outlinewidth\":0,\"ticks\":\"\"},\"colorscale\":[[0.0,\"#0d0887\"],[0.1111111111111111,\"#46039f\"],[0.2222222222222222,\"#7201a8\"],[0.3333333333333333,\"#9c179e\"],[0.4444444444444444,\"#bd3786\"],[0.5555555555555556,\"#d8576b\"],[0.6666666666666666,\"#ed7953\"],[0.7777777777777778,\"#fb9f3a\"],[0.8888888888888888,\"#fdca26\"],[1.0,\"#f0f921\"]],\"type\":\"contour\"}],\"contourcarpet\":[{\"colorbar\":{\"outlinewidth\":0,\"ticks\":\"\"},\"type\":\"contourcarpet\"}],\"heatmap\":[{\"colorbar\":{\"outlinewidth\":0,\"ticks\":\"\"},\"colorscale\":[[0.0,\"#0d0887\"],[0.1111111111111111,\"#46039f\"],[0.2222222222222222,\"#7201a8\"],[0.3333333333333333,\"#9c179e\"],[0.4444444444444444,\"#bd3786\"],[0.5555555555555556,\"#d8576b\"],[0.6666666666666666,\"#ed7953\"],[0.7777777777777778,\"#fb9f3a\"],[0.8888888888888888,\"#fdca26\"],[1.0,\"#f0f921\"]],\"type\":\"heatmap\"}],\"heatmapgl\":[{\"colorbar\":{\"outlinewidth\":0,\"ticks\":\"\"},\"colorscale\":[[0.0,\"#0d0887\"],[0.1111111111111111,\"#46039f\"],[0.2222222222222222,\"#7201a8\"],[0.3333333333333333,\"#9c179e\"],[0.4444444444444444,\"#bd3786\"],[0.5555555555555556,\"#d8576b\"],[0.6666666666666666,\"#ed7953\"],[0.7777777777777778,\"#fb9f3a\"],[0.8888888888888888,\"#fdca26\"],[1.0,\"#f0f921\"]],\"type\":\"heatmapgl\"}],\"histogram\":[{\"marker\":{\"pattern\":{\"fillmode\":\"overlay\",\"size\":10,\"solidity\":0.2}},\"type\":\"histogram\"}],\"histogram2d\":[{\"colorbar\":{\"outlinewidth\":0,\"ticks\":\"\"},\"colorscale\":[[0.0,\"#0d0887\"],[0.1111111111111111,\"#46039f\"],[0.2222222222222222,\"#7201a8\"],[0.3333333333333333,\"#9c179e\"],[0.4444444444444444,\"#bd3786\"],[0.5555555555555556,\"#d8576b\"],[0.6666666666666666,\"#ed7953\"],[0.7777777777777778,\"#fb9f3a\"],[0.8888888888888888,\"#fdca26\"],[1.0,\"#f0f921\"]],\"type\":\"histogram2d\"}],\"histogram2dcontour\":[{\"colorbar\":{\"outlinewidth\":0,\"ticks\":\"\"},\"colorscale\":[[0.0,\"#0d0887\"],[0.1111111111111111,\"#46039f\"],[0.2222222222222222,\"#7201a8\"],[0.3333333333333333,\"#9c179e\"],[0.4444444444444444,\"#bd3786\"],[0.5555555555555556,\"#d8576b\"],[0.6666666666666666,\"#ed7953\"],[0.7777777777777778,\"#fb9f3a\"],[0.8888888888888888,\"#fdca26\"],[1.0,\"#f0f921\"]],\"type\":\"histogram2dcontour\"}],\"mesh3d\":[{\"colorbar\":{\"outlinewidth\":0,\"ticks\":\"\"},\"type\":\"mesh3d\"}],\"parcoords\":[{\"line\":{\"colorbar\":{\"outlinewidth\":0,\"ticks\":\"\"}},\"type\":\"parcoords\"}],\"pie\":[{\"automargin\":true,\"type\":\"pie\"}],\"scatter\":[{\"marker\":{\"colorbar\":{\"outlinewidth\":0,\"ticks\":\"\"}},\"type\":\"scatter\"}],\"scatter3d\":[{\"line\":{\"colorbar\":{\"outlinewidth\":0,\"ticks\":\"\"}},\"marker\":{\"colorbar\":{\"outlinewidth\":0,\"ticks\":\"\"}},\"type\":\"scatter3d\"}],\"scattercarpet\":[{\"marker\":{\"colorbar\":{\"outlinewidth\":0,\"ticks\":\"\"}},\"type\":\"scattercarpet\"}],\"scattergeo\":[{\"marker\":{\"colorbar\":{\"outlinewidth\":0,\"ticks\":\"\"}},\"type\":\"scattergeo\"}],\"scattergl\":[{\"marker\":{\"colorbar\":{\"outlinewidth\":0,\"ticks\":\"\"}},\"type\":\"scattergl\"}],\"scattermapbox\":[{\"marker\":{\"colorbar\":{\"outlinewidth\":0,\"ticks\":\"\"}},\"type\":\"scattermapbox\"}],\"scatterpolar\":[{\"marker\":{\"colorbar\":{\"outlinewidth\":0,\"ticks\":\"\"}},\"type\":\"scatterpolar\"}],\"scatterpolargl\":[{\"marker\":{\"colorbar\":{\"outlinewidth\":0,\"ticks\":\"\"}},\"type\":\"scatterpolargl\"}],\"scatterternary\":[{\"marker\":{\"colorbar\":{\"outlinewidth\":0,\"ticks\":\"\"}},\"type\":\"scatterternary\"}],\"surface\":[{\"colorbar\":{\"outlinewidth\":0,\"ticks\":\"\"},\"colorscale\":[[0.0,\"#0d0887\"],[0.1111111111111111,\"#46039f\"],[0.2222222222222222,\"#7201a8\"],[0.3333333333333333,\"#9c179e\"],[0.4444444444444444,\"#bd3786\"],[0.5555555555555556,\"#d8576b\"],[0.6666666666666666,\"#ed7953\"],[0.7777777777777778,\"#fb9f3a\"],[0.8888888888888888,\"#fdca26\"],[1.0,\"#f0f921\"]],\"type\":\"surface\"}],\"table\":[{\"cells\":{\"fill\":{\"color\":\"#EBF0F8\"},\"line\":{\"color\":\"white\"}},\"header\":{\"fill\":{\"color\":\"#C8D4E3\"},\"line\":{\"color\":\"white\"}},\"type\":\"table\"}]},\"layout\":{\"annotationdefaults\":{\"arrowcolor\":\"#2a3f5f\",\"arrowhead\":0,\"arrowwidth\":1},\"autotypenumbers\":\"strict\",\"coloraxis\":{\"colorbar\":{\"outlinewidth\":0,\"ticks\":\"\"}},\"colorscale\":{\"diverging\":[[0,\"#8e0152\"],[0.1,\"#c51b7d\"],[0.2,\"#de77ae\"],[0.3,\"#f1b6da\"],[0.4,\"#fde0ef\"],[0.5,\"#f7f7f7\"],[0.6,\"#e6f5d0\"],[0.7,\"#b8e186\"],[0.8,\"#7fbc41\"],[0.9,\"#4d9221\"],[1,\"#276419\"]],\"sequential\":[[0.0,\"#0d0887\"],[0.1111111111111111,\"#46039f\"],[0.2222222222222222,\"#7201a8\"],[0.3333333333333333,\"#9c179e\"],[0.4444444444444444,\"#bd3786\"],[0.5555555555555556,\"#d8576b\"],[0.6666666666666666,\"#ed7953\"],[0.7777777777777778,\"#fb9f3a\"],[0.8888888888888888,\"#fdca26\"],[1.0,\"#f0f921\"]],\"sequentialminus\":[[0.0,\"#0d0887\"],[0.1111111111111111,\"#46039f\"],[0.2222222222222222,\"#7201a8\"],[0.3333333333333333,\"#9c179e\"],[0.4444444444444444,\"#bd3786\"],[0.5555555555555556,\"#d8576b\"],[0.6666666666666666,\"#ed7953\"],[0.7777777777777778,\"#fb9f3a\"],[0.8888888888888888,\"#fdca26\"],[1.0,\"#f0f921\"]]},\"colorway\":[\"#636efa\",\"#EF553B\",\"#00cc96\",\"#ab63fa\",\"#FFA15A\",\"#19d3f3\",\"#FF6692\",\"#B6E880\",\"#FF97FF\",\"#FECB52\"],\"font\":{\"color\":\"#2a3f5f\"},\"geo\":{\"bgcolor\":\"white\",\"lakecolor\":\"white\",\"landcolor\":\"white\",\"showlakes\":true,\"showland\":true,\"subunitcolor\":\"#C8D4E3\"},\"hoverlabel\":{\"align\":\"left\"},\"hovermode\":\"closest\",\"mapbox\":{\"style\":\"light\"},\"paper_bgcolor\":\"white\",\"plot_bgcolor\":\"white\",\"polar\":{\"angularaxis\":{\"gridcolor\":\"#EBF0F8\",\"linecolor\":\"#EBF0F8\",\"ticks\":\"\"},\"bgcolor\":\"white\",\"radialaxis\":{\"gridcolor\":\"#EBF0F8\",\"linecolor\":\"#EBF0F8\",\"ticks\":\"\"}},\"scene\":{\"xaxis\":{\"backgroundcolor\":\"white\",\"gridcolor\":\"#DFE8F3\",\"gridwidth\":2,\"linecolor\":\"#EBF0F8\",\"showbackground\":true,\"ticks\":\"\",\"zerolinecolor\":\"#EBF0F8\"},\"yaxis\":{\"backgroundcolor\":\"white\",\"gridcolor\":\"#DFE8F3\",\"gridwidth\":2,\"linecolor\":\"#EBF0F8\",\"showbackground\":true,\"ticks\":\"\",\"zerolinecolor\":\"#EBF0F8\"},\"zaxis\":{\"backgroundcolor\":\"white\",\"gridcolor\":\"#DFE8F3\",\"gridwidth\":2,\"linecolor\":\"#EBF0F8\",\"showbackground\":true,\"ticks\":\"\",\"zerolinecolor\":\"#EBF0F8\"}},\"shapedefaults\":{\"line\":{\"color\":\"#2a3f5f\"}},\"ternary\":{\"aaxis\":{\"gridcolor\":\"#DFE8F3\",\"linecolor\":\"#A2B1C6\",\"ticks\":\"\"},\"baxis\":{\"gridcolor\":\"#DFE8F3\",\"linecolor\":\"#A2B1C6\",\"ticks\":\"\"},\"bgcolor\":\"white\",\"caxis\":{\"gridcolor\":\"#DFE8F3\",\"linecolor\":\"#A2B1C6\",\"ticks\":\"\"}},\"title\":{\"x\":0.05},\"xaxis\":{\"automargin\":true,\"gridcolor\":\"#EBF0F8\",\"linecolor\":\"#EBF0F8\",\"ticks\":\"\",\"title\":{\"standoff\":15},\"zerolinecolor\":\"#EBF0F8\",\"zerolinewidth\":2},\"yaxis\":{\"automargin\":true,\"gridcolor\":\"#EBF0F8\",\"linecolor\":\"#EBF0F8\",\"ticks\":\"\",\"title\":{\"standoff\":15},\"zerolinecolor\":\"#EBF0F8\",\"zerolinewidth\":2}}},\"xaxis\":{\"anchor\":\"y\",\"domain\":[0.0,1.0],\"title\":{\"text\":\"\"},\"tickangle\":30},\"yaxis\":{\"anchor\":\"x\",\"domain\":[0.0,1.0],\"title\":{\"text\":\"\\u041a\\u043e\\u043b-\\u0432\\u043e \\u0437\\u0430\\u0432\\u0435\\u0434\\u0435\\u043d\\u0438\\u0439\"}},\"legend\":{\"title\":{\"text\":\"\\u0421\\u0435\\u0442\\u0435\\u0432\\u044b\\u0435 \\u0438 \\u043d\\u0435\\u0441\\u0435\\u0442\\u0435\\u0432\\u044b\\u0435\"},\"tracegroupgap\":0},\"margin\":{\"t\":60},\"barmode\":\"relative\",\"height\":550,\"width\":900,\"title\":{\"text\":\"\\u0414\\u043e\\u043b\\u044f \\u0441\\u0435\\u0442\\u0435\\u0432\\u044b\\u0445 \\u043e\\u0431\\u044a\\u0435\\u043a\\u0442\\u043e\\u0432 \\u043f\\u043e \\u0442\\u0438\\u043f\\u0430\\u043c \\u0437\\u0430\\u0432\\u0435\\u0434\\u0435\\u043d\\u0438\\u0439 \\u043e\\u0431\\u0449\\u0435\\u043f\\u0438\\u0442\\u0430\"}},                        {\"responsive\": true}                    ).then(function(){\n",
              "                            \n",
              "var gd = document.getElementById('77073d97-cdcc-4fc7-a7f0-a206a516b6d4');\n",
              "var x = new MutationObserver(function (mutations, observer) {{\n",
              "        var display = window.getComputedStyle(gd).display;\n",
              "        if (!display || display === 'none') {{\n",
              "            console.log([gd, 'removed!']);\n",
              "            Plotly.purge(gd);\n",
              "            observer.disconnect();\n",
              "        }}\n",
              "}});\n",
              "\n",
              "// Listen for the removal of the full notebook cells\n",
              "var notebookContainer = gd.closest('#notebook-container');\n",
              "if (notebookContainer) {{\n",
              "    x.observe(notebookContainer, {childList: true});\n",
              "}}\n",
              "\n",
              "// Listen for the clearing of the current output cell\n",
              "var outputEl = gd.closest('.output');\n",
              "if (outputEl) {{\n",
              "    x.observe(outputEl, {childList: true});\n",
              "}}\n",
              "\n",
              "                        })                };                            </script>        </div>\n",
              "</body>\n",
              "</html>"
            ]
          },
          "metadata": {}
        }
      ],
      "source": [
        "fig = px.bar(\n",
        "    chain_tp,\n",
        "    x='object_type',\n",
        "    y='object_name',\n",
        "    color='chain',\n",
        "    labels = ({'chain':'Сетевые и несетевые'}),\n",
        ")\n",
        "fig.update_xaxes(tickangle=30)\n",
        "fig.update_layout(\n",
        "    title='Доля сетевых объектов по типам заведений общепита',\n",
        "    xaxis_title=\"\",\n",
        "    yaxis_title=\"Кол-во заведений\",\n",
        "    \n",
        ")\n",
        "fig.update_traces(textposition='outside')"
      ]
    },
    {
      "cell_type": "code",
      "execution_count": 32,
      "metadata": {
        "colab": {
          "base_uri": "https://localhost:8080/",
          "height": 567
        },
        "id": "OodT4OH994Dn",
        "outputId": "8ca69a33-7562-4c27-d10c-ffcc41a9057e"
      },
      "outputs": [
        {
          "output_type": "display_data",
          "data": {
            "text/html": [
              "<html>\n",
              "<head><meta charset=\"utf-8\" /></head>\n",
              "<body>\n",
              "    <div>            <script src=\"https://cdnjs.cloudflare.com/ajax/libs/mathjax/2.7.5/MathJax.js?config=TeX-AMS-MML_SVG\"></script><script type=\"text/javascript\">if (window.MathJax) {MathJax.Hub.Config({SVG: {font: \"STIX-Web\"}});}</script>                <script type=\"text/javascript\">window.PlotlyConfig = {MathJaxConfig: 'local'};</script>\n",
              "        <script src=\"https://cdn.plot.ly/plotly-2.8.3.min.js\"></script>                <div id=\"ecaf037e-2920-4095-a6cf-f7894faaae50\" class=\"plotly-graph-div\" style=\"height:550px; width:900px;\"></div>            <script type=\"text/javascript\">                                    window.PLOTLYENV=window.PLOTLYENV || {};                                    if (document.getElementById(\"ecaf037e-2920-4095-a6cf-f7894faaae50\")) {                    Plotly.newPlot(                        \"ecaf037e-2920-4095-a6cf-f7894faaae50\",                        [{\"alignmentgroup\":\"True\",\"hovertemplate\":\"\\u0422\\u0438\\u043f \\u043e\\u0431\\u044a\\u0435\\u043a\\u0442\\u0430=%{x}<br>percent_of_type=%{y}<br>percent_of_type_text=%{text}<extra></extra>\",\"legendgroup\":\"\\u0444\\u0430\\u0441\\u0442-\\u0444\\u0443\\u0434\",\"marker\":{\"color\":\"#636efa\",\"pattern\":{\"shape\":\"\"}},\"name\":\"\\u0444\\u0430\\u0441\\u0442-\\u0444\\u0443\\u0434\",\"offsetgroup\":\"\\u0444\\u0430\\u0441\\u0442-\\u0444\\u0443\\u0434\",\"orientation\":\"v\",\"showlegend\":true,\"text\":[\"41.13%\"],\"textposition\":\"outside\",\"x\":[\"\\u0444\\u0430\\u0441\\u0442-\\u0444\\u0443\\u0434\"],\"xaxis\":\"x\",\"y\":[41.13],\"yaxis\":\"y\",\"type\":\"bar\"},{\"alignmentgroup\":\"True\",\"hovertemplate\":\"\\u0422\\u0438\\u043f \\u043e\\u0431\\u044a\\u0435\\u043a\\u0442\\u0430=%{x}<br>percent_of_type=%{y}<br>percent_of_type_text=%{text}<extra></extra>\",\"legendgroup\":\"\\u043a\\u0443\\u043b\\u0438\\u043d\\u0430\\u0440\\u0438\\u044f \\u0432 \\u043c\\u0430\\u0433\\u0430\\u0437\\u0438\\u043d\\u0435\",\"marker\":{\"color\":\"#EF553B\",\"pattern\":{\"shape\":\"\"}},\"name\":\"\\u043a\\u0443\\u043b\\u0438\\u043d\\u0430\\u0440\\u0438\\u044f \\u0432 \\u043c\\u0430\\u0433\\u0430\\u0437\\u0438\\u043d\\u0435\",\"offsetgroup\":\"\\u043a\\u0443\\u043b\\u0438\\u043d\\u0430\\u0440\\u0438\\u044f \\u0432 \\u043c\\u0430\\u0433\\u0430\\u0437\\u0438\\u043d\\u0435\",\"orientation\":\"v\",\"showlegend\":true,\"text\":[\"28.57%\"],\"textposition\":\"outside\",\"x\":[\"\\u043a\\u0443\\u043b\\u0438\\u043d\\u0430\\u0440\\u0438\\u044f \\u0432 \\u043c\\u0430\\u0433\\u0430\\u0437\\u0438\\u043d\\u0435\"],\"xaxis\":\"x\",\"y\":[28.57],\"yaxis\":\"y\",\"type\":\"bar\"},{\"alignmentgroup\":\"True\",\"hovertemplate\":\"\\u0422\\u0438\\u043f \\u043e\\u0431\\u044a\\u0435\\u043a\\u0442\\u0430=%{x}<br>percent_of_type=%{y}<br>percent_of_type_text=%{text}<extra></extra>\",\"legendgroup\":\"\\u0440\\u0435\\u0441\\u0442\\u043e\\u0440\\u0430\\u043d\",\"marker\":{\"color\":\"#00cc96\",\"pattern\":{\"shape\":\"\"}},\"name\":\"\\u0440\\u0435\\u0441\\u0442\\u043e\\u0440\\u0430\\u043d\",\"offsetgroup\":\"\\u0440\\u0435\\u0441\\u0442\\u043e\\u0440\\u0430\\u043d\",\"orientation\":\"v\",\"showlegend\":true,\"text\":[\"23.81%\"],\"textposition\":\"outside\",\"x\":[\"\\u0440\\u0435\\u0441\\u0442\\u043e\\u0440\\u0430\\u043d\"],\"xaxis\":\"x\",\"y\":[23.81],\"yaxis\":\"y\",\"type\":\"bar\"},{\"alignmentgroup\":\"True\",\"hovertemplate\":\"\\u0422\\u0438\\u043f \\u043e\\u0431\\u044a\\u0435\\u043a\\u0442\\u0430=%{x}<br>percent_of_type=%{y}<br>percent_of_type_text=%{text}<extra></extra>\",\"legendgroup\":\"\\u043a\\u0430\\u0444\\u0435\",\"marker\":{\"color\":\"#ab63fa\",\"pattern\":{\"shape\":\"\"}},\"name\":\"\\u043a\\u0430\\u0444\\u0435\",\"offsetgroup\":\"\\u043a\\u0430\\u0444\\u0435\",\"orientation\":\"v\",\"showlegend\":true,\"text\":[\"22.89%\"],\"textposition\":\"outside\",\"x\":[\"\\u043a\\u0430\\u0444\\u0435\"],\"xaxis\":\"x\",\"y\":[22.89],\"yaxis\":\"y\",\"type\":\"bar\"},{\"alignmentgroup\":\"True\",\"hovertemplate\":\"\\u0422\\u0438\\u043f \\u043e\\u0431\\u044a\\u0435\\u043a\\u0442\\u0430=%{x}<br>percent_of_type=%{y}<br>percent_of_type_text=%{text}<extra></extra>\",\"legendgroup\":\"\\u0437\\u0430\\u043a\\u0443\\u0441\\u043e\\u0447\\u043d\\u0430\\u044f\",\"marker\":{\"color\":\"#FFA15A\",\"pattern\":{\"shape\":\"\"}},\"name\":\"\\u0437\\u0430\\u043a\\u0443\\u0441\\u043e\\u0447\\u043d\\u0430\\u044f\",\"offsetgroup\":\"\\u0437\\u0430\\u043a\\u0443\\u0441\\u043e\\u0447\\u043d\\u0430\\u044f\",\"orientation\":\"v\",\"showlegend\":true,\"text\":[\"15.56%\"],\"textposition\":\"outside\",\"x\":[\"\\u0437\\u0430\\u043a\\u0443\\u0441\\u043e\\u0447\\u043d\\u0430\\u044f\"],\"xaxis\":\"x\",\"y\":[15.56],\"yaxis\":\"y\",\"type\":\"bar\"},{\"alignmentgroup\":\"True\",\"hovertemplate\":\"\\u0422\\u0438\\u043f \\u043e\\u0431\\u044a\\u0435\\u043a\\u0442\\u0430=%{x}<br>percent_of_type=%{y}<br>percent_of_type_text=%{text}<extra></extra>\",\"legendgroup\":\"\\u043a\\u0430\\u0444\\u0435\\u0442\\u0435\\u0440\\u0438\\u0439\",\"marker\":{\"color\":\"#19d3f3\",\"pattern\":{\"shape\":\"\"}},\"name\":\"\\u043a\\u0430\\u0444\\u0435\\u0442\\u0435\\u0440\\u0438\\u0439\",\"offsetgroup\":\"\\u043a\\u0430\\u0444\\u0435\\u0442\\u0435\\u0440\\u0438\\u0439\",\"orientation\":\"v\",\"showlegend\":true,\"text\":[\"13.07%\"],\"textposition\":\"outside\",\"x\":[\"\\u043a\\u0430\\u0444\\u0435\\u0442\\u0435\\u0440\\u0438\\u0439\"],\"xaxis\":\"x\",\"y\":[13.07],\"yaxis\":\"y\",\"type\":\"bar\"},{\"alignmentgroup\":\"True\",\"hovertemplate\":\"\\u0422\\u0438\\u043f \\u043e\\u0431\\u044a\\u0435\\u043a\\u0442\\u0430=%{x}<br>percent_of_type=%{y}<br>percent_of_type_text=%{text}<extra></extra>\",\"legendgroup\":\"\\u0431\\u0430\\u0440\",\"marker\":{\"color\":\"#FF6692\",\"pattern\":{\"shape\":\"\"}},\"name\":\"\\u0431\\u0430\\u0440\",\"offsetgroup\":\"\\u0431\\u0430\\u0440\",\"orientation\":\"v\",\"showlegend\":true,\"text\":[\"4.32%\"],\"textposition\":\"outside\",\"x\":[\"\\u0431\\u0430\\u0440\"],\"xaxis\":\"x\",\"y\":[4.32],\"yaxis\":\"y\",\"type\":\"bar\"},{\"alignmentgroup\":\"True\",\"hovertemplate\":\"\\u0422\\u0438\\u043f \\u043e\\u0431\\u044a\\u0435\\u043a\\u0442\\u0430=%{x}<br>percent_of_type=%{y}<br>percent_of_type_text=%{text}<extra></extra>\",\"legendgroup\":\"\\u0431\\u0443\\u0444\\u0435\\u0442\",\"marker\":{\"color\":\"#B6E880\",\"pattern\":{\"shape\":\"\"}},\"name\":\"\\u0431\\u0443\\u0444\\u0435\\u0442\",\"offsetgroup\":\"\\u0431\\u0443\\u0444\\u0435\\u0442\",\"orientation\":\"v\",\"showlegend\":true,\"text\":[\"1.88%\"],\"textposition\":\"outside\",\"x\":[\"\\u0431\\u0443\\u0444\\u0435\\u0442\"],\"xaxis\":\"x\",\"y\":[1.88],\"yaxis\":\"y\",\"type\":\"bar\"},{\"alignmentgroup\":\"True\",\"hovertemplate\":\"\\u0422\\u0438\\u043f \\u043e\\u0431\\u044a\\u0435\\u043a\\u0442\\u0430=%{x}<br>percent_of_type=%{y}<br>percent_of_type_text=%{text}<extra></extra>\",\"legendgroup\":\"\\u0441\\u0442\\u043e\\u043b\\u043e\\u0432\\u0430\\u044f\",\"marker\":{\"color\":\"#FF97FF\",\"pattern\":{\"shape\":\"\"}},\"name\":\"\\u0441\\u0442\\u043e\\u043b\\u043e\\u0432\\u0430\\u044f\",\"offsetgroup\":\"\\u0441\\u0442\\u043e\\u043b\\u043e\\u0432\\u0430\\u044f\",\"orientation\":\"v\",\"showlegend\":true,\"text\":[\"0.12%\"],\"textposition\":\"outside\",\"x\":[\"\\u0441\\u0442\\u043e\\u043b\\u043e\\u0432\\u0430\\u044f\"],\"xaxis\":\"x\",\"y\":[0.12],\"yaxis\":\"y\",\"type\":\"bar\"}],                        {\"template\":{\"data\":{\"bar\":[{\"error_x\":{\"color\":\"#2a3f5f\"},\"error_y\":{\"color\":\"#2a3f5f\"},\"marker\":{\"line\":{\"color\":\"white\",\"width\":0.5},\"pattern\":{\"fillmode\":\"overlay\",\"size\":10,\"solidity\":0.2}},\"type\":\"bar\"}],\"barpolar\":[{\"marker\":{\"line\":{\"color\":\"white\",\"width\":0.5},\"pattern\":{\"fillmode\":\"overlay\",\"size\":10,\"solidity\":0.2}},\"type\":\"barpolar\"}],\"carpet\":[{\"aaxis\":{\"endlinecolor\":\"#2a3f5f\",\"gridcolor\":\"#C8D4E3\",\"linecolor\":\"#C8D4E3\",\"minorgridcolor\":\"#C8D4E3\",\"startlinecolor\":\"#2a3f5f\"},\"baxis\":{\"endlinecolor\":\"#2a3f5f\",\"gridcolor\":\"#C8D4E3\",\"linecolor\":\"#C8D4E3\",\"minorgridcolor\":\"#C8D4E3\",\"startlinecolor\":\"#2a3f5f\"},\"type\":\"carpet\"}],\"choropleth\":[{\"colorbar\":{\"outlinewidth\":0,\"ticks\":\"\"},\"type\":\"choropleth\"}],\"contour\":[{\"colorbar\":{\"outlinewidth\":0,\"ticks\":\"\"},\"colorscale\":[[0.0,\"#0d0887\"],[0.1111111111111111,\"#46039f\"],[0.2222222222222222,\"#7201a8\"],[0.3333333333333333,\"#9c179e\"],[0.4444444444444444,\"#bd3786\"],[0.5555555555555556,\"#d8576b\"],[0.6666666666666666,\"#ed7953\"],[0.7777777777777778,\"#fb9f3a\"],[0.8888888888888888,\"#fdca26\"],[1.0,\"#f0f921\"]],\"type\":\"contour\"}],\"contourcarpet\":[{\"colorbar\":{\"outlinewidth\":0,\"ticks\":\"\"},\"type\":\"contourcarpet\"}],\"heatmap\":[{\"colorbar\":{\"outlinewidth\":0,\"ticks\":\"\"},\"colorscale\":[[0.0,\"#0d0887\"],[0.1111111111111111,\"#46039f\"],[0.2222222222222222,\"#7201a8\"],[0.3333333333333333,\"#9c179e\"],[0.4444444444444444,\"#bd3786\"],[0.5555555555555556,\"#d8576b\"],[0.6666666666666666,\"#ed7953\"],[0.7777777777777778,\"#fb9f3a\"],[0.8888888888888888,\"#fdca26\"],[1.0,\"#f0f921\"]],\"type\":\"heatmap\"}],\"heatmapgl\":[{\"colorbar\":{\"outlinewidth\":0,\"ticks\":\"\"},\"colorscale\":[[0.0,\"#0d0887\"],[0.1111111111111111,\"#46039f\"],[0.2222222222222222,\"#7201a8\"],[0.3333333333333333,\"#9c179e\"],[0.4444444444444444,\"#bd3786\"],[0.5555555555555556,\"#d8576b\"],[0.6666666666666666,\"#ed7953\"],[0.7777777777777778,\"#fb9f3a\"],[0.8888888888888888,\"#fdca26\"],[1.0,\"#f0f921\"]],\"type\":\"heatmapgl\"}],\"histogram\":[{\"marker\":{\"pattern\":{\"fillmode\":\"overlay\",\"size\":10,\"solidity\":0.2}},\"type\":\"histogram\"}],\"histogram2d\":[{\"colorbar\":{\"outlinewidth\":0,\"ticks\":\"\"},\"colorscale\":[[0.0,\"#0d0887\"],[0.1111111111111111,\"#46039f\"],[0.2222222222222222,\"#7201a8\"],[0.3333333333333333,\"#9c179e\"],[0.4444444444444444,\"#bd3786\"],[0.5555555555555556,\"#d8576b\"],[0.6666666666666666,\"#ed7953\"],[0.7777777777777778,\"#fb9f3a\"],[0.8888888888888888,\"#fdca26\"],[1.0,\"#f0f921\"]],\"type\":\"histogram2d\"}],\"histogram2dcontour\":[{\"colorbar\":{\"outlinewidth\":0,\"ticks\":\"\"},\"colorscale\":[[0.0,\"#0d0887\"],[0.1111111111111111,\"#46039f\"],[0.2222222222222222,\"#7201a8\"],[0.3333333333333333,\"#9c179e\"],[0.4444444444444444,\"#bd3786\"],[0.5555555555555556,\"#d8576b\"],[0.6666666666666666,\"#ed7953\"],[0.7777777777777778,\"#fb9f3a\"],[0.8888888888888888,\"#fdca26\"],[1.0,\"#f0f921\"]],\"type\":\"histogram2dcontour\"}],\"mesh3d\":[{\"colorbar\":{\"outlinewidth\":0,\"ticks\":\"\"},\"type\":\"mesh3d\"}],\"parcoords\":[{\"line\":{\"colorbar\":{\"outlinewidth\":0,\"ticks\":\"\"}},\"type\":\"parcoords\"}],\"pie\":[{\"automargin\":true,\"type\":\"pie\"}],\"scatter\":[{\"marker\":{\"colorbar\":{\"outlinewidth\":0,\"ticks\":\"\"}},\"type\":\"scatter\"}],\"scatter3d\":[{\"line\":{\"colorbar\":{\"outlinewidth\":0,\"ticks\":\"\"}},\"marker\":{\"colorbar\":{\"outlinewidth\":0,\"ticks\":\"\"}},\"type\":\"scatter3d\"}],\"scattercarpet\":[{\"marker\":{\"colorbar\":{\"outlinewidth\":0,\"ticks\":\"\"}},\"type\":\"scattercarpet\"}],\"scattergeo\":[{\"marker\":{\"colorbar\":{\"outlinewidth\":0,\"ticks\":\"\"}},\"type\":\"scattergeo\"}],\"scattergl\":[{\"marker\":{\"colorbar\":{\"outlinewidth\":0,\"ticks\":\"\"}},\"type\":\"scattergl\"}],\"scattermapbox\":[{\"marker\":{\"colorbar\":{\"outlinewidth\":0,\"ticks\":\"\"}},\"type\":\"scattermapbox\"}],\"scatterpolar\":[{\"marker\":{\"colorbar\":{\"outlinewidth\":0,\"ticks\":\"\"}},\"type\":\"scatterpolar\"}],\"scatterpolargl\":[{\"marker\":{\"colorbar\":{\"outlinewidth\":0,\"ticks\":\"\"}},\"type\":\"scatterpolargl\"}],\"scatterternary\":[{\"marker\":{\"colorbar\":{\"outlinewidth\":0,\"ticks\":\"\"}},\"type\":\"scatterternary\"}],\"surface\":[{\"colorbar\":{\"outlinewidth\":0,\"ticks\":\"\"},\"colorscale\":[[0.0,\"#0d0887\"],[0.1111111111111111,\"#46039f\"],[0.2222222222222222,\"#7201a8\"],[0.3333333333333333,\"#9c179e\"],[0.4444444444444444,\"#bd3786\"],[0.5555555555555556,\"#d8576b\"],[0.6666666666666666,\"#ed7953\"],[0.7777777777777778,\"#fb9f3a\"],[0.8888888888888888,\"#fdca26\"],[1.0,\"#f0f921\"]],\"type\":\"surface\"}],\"table\":[{\"cells\":{\"fill\":{\"color\":\"#EBF0F8\"},\"line\":{\"color\":\"white\"}},\"header\":{\"fill\":{\"color\":\"#C8D4E3\"},\"line\":{\"color\":\"white\"}},\"type\":\"table\"}]},\"layout\":{\"annotationdefaults\":{\"arrowcolor\":\"#2a3f5f\",\"arrowhead\":0,\"arrowwidth\":1},\"autotypenumbers\":\"strict\",\"coloraxis\":{\"colorbar\":{\"outlinewidth\":0,\"ticks\":\"\"}},\"colorscale\":{\"diverging\":[[0,\"#8e0152\"],[0.1,\"#c51b7d\"],[0.2,\"#de77ae\"],[0.3,\"#f1b6da\"],[0.4,\"#fde0ef\"],[0.5,\"#f7f7f7\"],[0.6,\"#e6f5d0\"],[0.7,\"#b8e186\"],[0.8,\"#7fbc41\"],[0.9,\"#4d9221\"],[1,\"#276419\"]],\"sequential\":[[0.0,\"#0d0887\"],[0.1111111111111111,\"#46039f\"],[0.2222222222222222,\"#7201a8\"],[0.3333333333333333,\"#9c179e\"],[0.4444444444444444,\"#bd3786\"],[0.5555555555555556,\"#d8576b\"],[0.6666666666666666,\"#ed7953\"],[0.7777777777777778,\"#fb9f3a\"],[0.8888888888888888,\"#fdca26\"],[1.0,\"#f0f921\"]],\"sequentialminus\":[[0.0,\"#0d0887\"],[0.1111111111111111,\"#46039f\"],[0.2222222222222222,\"#7201a8\"],[0.3333333333333333,\"#9c179e\"],[0.4444444444444444,\"#bd3786\"],[0.5555555555555556,\"#d8576b\"],[0.6666666666666666,\"#ed7953\"],[0.7777777777777778,\"#fb9f3a\"],[0.8888888888888888,\"#fdca26\"],[1.0,\"#f0f921\"]]},\"colorway\":[\"#636efa\",\"#EF553B\",\"#00cc96\",\"#ab63fa\",\"#FFA15A\",\"#19d3f3\",\"#FF6692\",\"#B6E880\",\"#FF97FF\",\"#FECB52\"],\"font\":{\"color\":\"#2a3f5f\"},\"geo\":{\"bgcolor\":\"white\",\"lakecolor\":\"white\",\"landcolor\":\"white\",\"showlakes\":true,\"showland\":true,\"subunitcolor\":\"#C8D4E3\"},\"hoverlabel\":{\"align\":\"left\"},\"hovermode\":\"closest\",\"mapbox\":{\"style\":\"light\"},\"paper_bgcolor\":\"white\",\"plot_bgcolor\":\"white\",\"polar\":{\"angularaxis\":{\"gridcolor\":\"#EBF0F8\",\"linecolor\":\"#EBF0F8\",\"ticks\":\"\"},\"bgcolor\":\"white\",\"radialaxis\":{\"gridcolor\":\"#EBF0F8\",\"linecolor\":\"#EBF0F8\",\"ticks\":\"\"}},\"scene\":{\"xaxis\":{\"backgroundcolor\":\"white\",\"gridcolor\":\"#DFE8F3\",\"gridwidth\":2,\"linecolor\":\"#EBF0F8\",\"showbackground\":true,\"ticks\":\"\",\"zerolinecolor\":\"#EBF0F8\"},\"yaxis\":{\"backgroundcolor\":\"white\",\"gridcolor\":\"#DFE8F3\",\"gridwidth\":2,\"linecolor\":\"#EBF0F8\",\"showbackground\":true,\"ticks\":\"\",\"zerolinecolor\":\"#EBF0F8\"},\"zaxis\":{\"backgroundcolor\":\"white\",\"gridcolor\":\"#DFE8F3\",\"gridwidth\":2,\"linecolor\":\"#EBF0F8\",\"showbackground\":true,\"ticks\":\"\",\"zerolinecolor\":\"#EBF0F8\"}},\"shapedefaults\":{\"line\":{\"color\":\"#2a3f5f\"}},\"ternary\":{\"aaxis\":{\"gridcolor\":\"#DFE8F3\",\"linecolor\":\"#A2B1C6\",\"ticks\":\"\"},\"baxis\":{\"gridcolor\":\"#DFE8F3\",\"linecolor\":\"#A2B1C6\",\"ticks\":\"\"},\"bgcolor\":\"white\",\"caxis\":{\"gridcolor\":\"#DFE8F3\",\"linecolor\":\"#A2B1C6\",\"ticks\":\"\"}},\"title\":{\"x\":0.05},\"xaxis\":{\"automargin\":true,\"gridcolor\":\"#EBF0F8\",\"linecolor\":\"#EBF0F8\",\"ticks\":\"\",\"title\":{\"standoff\":15},\"zerolinecolor\":\"#EBF0F8\",\"zerolinewidth\":2},\"yaxis\":{\"automargin\":true,\"gridcolor\":\"#EBF0F8\",\"linecolor\":\"#EBF0F8\",\"ticks\":\"\",\"title\":{\"standoff\":15},\"zerolinecolor\":\"#EBF0F8\",\"zerolinewidth\":2}}},\"xaxis\":{\"anchor\":\"y\",\"domain\":[0.0,1.0],\"title\":{\"text\":\"\"},\"categoryorder\":\"array\",\"categoryarray\":[\"\\u0444\\u0430\\u0441\\u0442-\\u0444\\u0443\\u0434\",\"\\u043a\\u0443\\u043b\\u0438\\u043d\\u0430\\u0440\\u0438\\u044f \\u0432 \\u043c\\u0430\\u0433\\u0430\\u0437\\u0438\\u043d\\u0435\",\"\\u0440\\u0435\\u0441\\u0442\\u043e\\u0440\\u0430\\u043d\",\"\\u043a\\u0430\\u0444\\u0435\",\"\\u0437\\u0430\\u043a\\u0443\\u0441\\u043e\\u0447\\u043d\\u0430\\u044f\",\"\\u043a\\u0430\\u0444\\u0435\\u0442\\u0435\\u0440\\u0438\\u0439\",\"\\u0431\\u0430\\u0440\",\"\\u0431\\u0443\\u0444\\u0435\\u0442\",\"\\u0441\\u0442\\u043e\\u043b\\u043e\\u0432\\u0430\\u044f\"],\"tickangle\":30},\"yaxis\":{\"anchor\":\"x\",\"domain\":[0.0,1.0],\"title\":{\"text\":\"% \\u0437\\u0430\\u0432\\u0435\\u0434\\u0435\\u043d\\u0438\\u0439\"}},\"legend\":{\"title\":{\"text\":\"\\u0422\\u0438\\u043f \\u043e\\u0431\\u044a\\u0435\\u043a\\u0442\\u0430\"},\"tracegroupgap\":0},\"margin\":{\"t\":60},\"barmode\":\"relative\",\"height\":550,\"width\":900,\"title\":{\"text\":\"\\u0414\\u043e\\u043b\\u044f \\u0441\\u0435\\u0442\\u0435\\u0432\\u044b\\u0445 \\u043e\\u0431\\u044a\\u0435\\u043a\\u0442\\u043e\\u0432 \\u043f\\u043e \\u0442\\u0438\\u043f\\u0430\\u043c \\u0437\\u0430\\u0432\\u0435\\u0434\\u0435\\u043d\\u0438\\u0439 \\u043e\\u0431\\u0449\\u0435\\u043f\\u0438\\u0442\\u0430\"}},                        {\"responsive\": true}                    ).then(function(){\n",
              "                            \n",
              "var gd = document.getElementById('ecaf037e-2920-4095-a6cf-f7894faaae50');\n",
              "var x = new MutationObserver(function (mutations, observer) {{\n",
              "        var display = window.getComputedStyle(gd).display;\n",
              "        if (!display || display === 'none') {{\n",
              "            console.log([gd, 'removed!']);\n",
              "            Plotly.purge(gd);\n",
              "            observer.disconnect();\n",
              "        }}\n",
              "}});\n",
              "\n",
              "// Listen for the removal of the full notebook cells\n",
              "var notebookContainer = gd.closest('#notebook-container');\n",
              "if (notebookContainer) {{\n",
              "    x.observe(notebookContainer, {childList: true});\n",
              "}}\n",
              "\n",
              "// Listen for the clearing of the current output cell\n",
              "var outputEl = gd.closest('.output');\n",
              "if (outputEl) {{\n",
              "    x.observe(outputEl, {childList: true});\n",
              "}}\n",
              "\n",
              "                        })                };                            </script>        </div>\n",
              "</body>\n",
              "</html>"
            ]
          },
          "metadata": {}
        }
      ],
      "source": [
        "#строим график, чтобы было нагляднее\n",
        "fig = px.bar(\n",
        "    chain_types.sort_values(by='percent_of_type', ascending = False),\n",
        "    x='object_type',\n",
        "    y='percent_of_type',\n",
        "    color='object_type',\n",
        "    labels = ({'object_type':'Тип объекта'}),\n",
        "    text='percent_of_type_text'\n",
        ")\n",
        "fig.update_xaxes(tickangle=30)\n",
        "fig.update_layout(\n",
        "    title='Доля сетевых объектов по типам заведений общепита',\n",
        "    xaxis_title=\"\",\n",
        "    yaxis_title=\"% заведений\"\n",
        ")\n",
        "fig.update_traces(textposition='outside')"
      ]
    },
    {
      "cell_type": "markdown",
      "metadata": {
        "id": "nJPdnZva94Do"
      },
      "source": [
        "Итак, больше всего сетевых заведений у таких типов, как - кафе, фаст-фуд, ресторан. Однако, в разрезе самих типов заведений, у фастфуда более 40% от всех заведений  - сетевые, то есть почти половина. Затем, видно, что среди кулинарий развиваться по сети тоже распространено. "
      ]
    },
    {
      "cell_type": "markdown",
      "metadata": {
        "id": "f0pklCvE94Do"
      },
      "source": [
        "### Что характерно для сетевых заведений: много заведений с небольшим числом посадочных мест в каждом или мало заведений с большим количеством посадочных мест?"
      ]
    },
    {
      "cell_type": "code",
      "execution_count": 33,
      "metadata": {
        "colab": {
          "base_uri": "https://localhost:8080/",
          "height": 398
        },
        "id": "V_Erj6Jj94Dp",
        "outputId": "ec67ad80-b77d-4aa2-da5b-0a6e1219423b"
      },
      "outputs": [
        {
          "output_type": "display_data",
          "data": {
            "text/plain": [
              "         object_name  objects  seat_median\n",
              "563      шоколадница      157         50.0\n",
              "25               kfc      155         45.0\n",
              "330       макдоналдс      151         76.0\n",
              "109      бургер кинг      137         45.0\n",
              "521          теремок       94         23.0\n",
              "311  крошка картошка       90         15.0\n",
              "159   домино'с пицца       90         16.0\n",
              "339            милти       72          0.0\n",
              "505         суши wok       72          6.0\n",
              "367       папа джонс       51         20.0"
            ],
            "text/html": [
              "\n",
              "  <div id=\"df-102178d2-d839-43a5-9248-7d5bdc6aa2b8\">\n",
              "    <div class=\"colab-df-container\">\n",
              "      <div>\n",
              "<style scoped>\n",
              "    .dataframe tbody tr th:only-of-type {\n",
              "        vertical-align: middle;\n",
              "    }\n",
              "\n",
              "    .dataframe tbody tr th {\n",
              "        vertical-align: top;\n",
              "    }\n",
              "\n",
              "    .dataframe thead th {\n",
              "        text-align: right;\n",
              "    }\n",
              "</style>\n",
              "<table border=\"1\" class=\"dataframe\">\n",
              "  <thead>\n",
              "    <tr style=\"text-align: right;\">\n",
              "      <th></th>\n",
              "      <th>object_name</th>\n",
              "      <th>objects</th>\n",
              "      <th>seat_median</th>\n",
              "    </tr>\n",
              "  </thead>\n",
              "  <tbody>\n",
              "    <tr>\n",
              "      <th>563</th>\n",
              "      <td>шоколадница</td>\n",
              "      <td>157</td>\n",
              "      <td>50.0</td>\n",
              "    </tr>\n",
              "    <tr>\n",
              "      <th>25</th>\n",
              "      <td>kfc</td>\n",
              "      <td>155</td>\n",
              "      <td>45.0</td>\n",
              "    </tr>\n",
              "    <tr>\n",
              "      <th>330</th>\n",
              "      <td>макдоналдс</td>\n",
              "      <td>151</td>\n",
              "      <td>76.0</td>\n",
              "    </tr>\n",
              "    <tr>\n",
              "      <th>109</th>\n",
              "      <td>бургер кинг</td>\n",
              "      <td>137</td>\n",
              "      <td>45.0</td>\n",
              "    </tr>\n",
              "    <tr>\n",
              "      <th>521</th>\n",
              "      <td>теремок</td>\n",
              "      <td>94</td>\n",
              "      <td>23.0</td>\n",
              "    </tr>\n",
              "    <tr>\n",
              "      <th>311</th>\n",
              "      <td>крошка картошка</td>\n",
              "      <td>90</td>\n",
              "      <td>15.0</td>\n",
              "    </tr>\n",
              "    <tr>\n",
              "      <th>159</th>\n",
              "      <td>домино'с пицца</td>\n",
              "      <td>90</td>\n",
              "      <td>16.0</td>\n",
              "    </tr>\n",
              "    <tr>\n",
              "      <th>339</th>\n",
              "      <td>милти</td>\n",
              "      <td>72</td>\n",
              "      <td>0.0</td>\n",
              "    </tr>\n",
              "    <tr>\n",
              "      <th>505</th>\n",
              "      <td>суши wok</td>\n",
              "      <td>72</td>\n",
              "      <td>6.0</td>\n",
              "    </tr>\n",
              "    <tr>\n",
              "      <th>367</th>\n",
              "      <td>папа джонс</td>\n",
              "      <td>51</td>\n",
              "      <td>20.0</td>\n",
              "    </tr>\n",
              "  </tbody>\n",
              "</table>\n",
              "</div>\n",
              "      <button class=\"colab-df-convert\" onclick=\"convertToInteractive('df-102178d2-d839-43a5-9248-7d5bdc6aa2b8')\"\n",
              "              title=\"Convert this dataframe to an interactive table.\"\n",
              "              style=\"display:none;\">\n",
              "        \n",
              "  <svg xmlns=\"http://www.w3.org/2000/svg\" height=\"24px\"viewBox=\"0 0 24 24\"\n",
              "       width=\"24px\">\n",
              "    <path d=\"M0 0h24v24H0V0z\" fill=\"none\"/>\n",
              "    <path d=\"M18.56 5.44l.94 2.06.94-2.06 2.06-.94-2.06-.94-.94-2.06-.94 2.06-2.06.94zm-11 1L8.5 8.5l.94-2.06 2.06-.94-2.06-.94L8.5 2.5l-.94 2.06-2.06.94zm10 10l.94 2.06.94-2.06 2.06-.94-2.06-.94-.94-2.06-.94 2.06-2.06.94z\"/><path d=\"M17.41 7.96l-1.37-1.37c-.4-.4-.92-.59-1.43-.59-.52 0-1.04.2-1.43.59L10.3 9.45l-7.72 7.72c-.78.78-.78 2.05 0 2.83L4 21.41c.39.39.9.59 1.41.59.51 0 1.02-.2 1.41-.59l7.78-7.78 2.81-2.81c.8-.78.8-2.07 0-2.86zM5.41 20L4 18.59l7.72-7.72 1.47 1.35L5.41 20z\"/>\n",
              "  </svg>\n",
              "      </button>\n",
              "      \n",
              "  <style>\n",
              "    .colab-df-container {\n",
              "      display:flex;\n",
              "      flex-wrap:wrap;\n",
              "      gap: 12px;\n",
              "    }\n",
              "\n",
              "    .colab-df-convert {\n",
              "      background-color: #E8F0FE;\n",
              "      border: none;\n",
              "      border-radius: 50%;\n",
              "      cursor: pointer;\n",
              "      display: none;\n",
              "      fill: #1967D2;\n",
              "      height: 32px;\n",
              "      padding: 0 0 0 0;\n",
              "      width: 32px;\n",
              "    }\n",
              "\n",
              "    .colab-df-convert:hover {\n",
              "      background-color: #E2EBFA;\n",
              "      box-shadow: 0px 1px 2px rgba(60, 64, 67, 0.3), 0px 1px 3px 1px rgba(60, 64, 67, 0.15);\n",
              "      fill: #174EA6;\n",
              "    }\n",
              "\n",
              "    [theme=dark] .colab-df-convert {\n",
              "      background-color: #3B4455;\n",
              "      fill: #D2E3FC;\n",
              "    }\n",
              "\n",
              "    [theme=dark] .colab-df-convert:hover {\n",
              "      background-color: #434B5C;\n",
              "      box-shadow: 0px 1px 3px 1px rgba(0, 0, 0, 0.15);\n",
              "      filter: drop-shadow(0px 1px 2px rgba(0, 0, 0, 0.3));\n",
              "      fill: #FFFFFF;\n",
              "    }\n",
              "  </style>\n",
              "\n",
              "      <script>\n",
              "        const buttonEl =\n",
              "          document.querySelector('#df-102178d2-d839-43a5-9248-7d5bdc6aa2b8 button.colab-df-convert');\n",
              "        buttonEl.style.display =\n",
              "          google.colab.kernel.accessAllowed ? 'block' : 'none';\n",
              "\n",
              "        async function convertToInteractive(key) {\n",
              "          const element = document.querySelector('#df-102178d2-d839-43a5-9248-7d5bdc6aa2b8');\n",
              "          const dataTable =\n",
              "            await google.colab.kernel.invokeFunction('convertToInteractive',\n",
              "                                                     [key], {});\n",
              "          if (!dataTable) return;\n",
              "\n",
              "          const docLinkHtml = 'Like what you see? Visit the ' +\n",
              "            '<a target=\"_blank\" href=https://colab.research.google.com/notebooks/data_table.ipynb>data table notebook</a>'\n",
              "            + ' to learn more about interactive tables.';\n",
              "          element.innerHTML = '';\n",
              "          dataTable['output_type'] = 'display_data';\n",
              "          await google.colab.output.renderOutput(dataTable, element);\n",
              "          const docLink = document.createElement('div');\n",
              "          docLink.innerHTML = docLinkHtml;\n",
              "          element.appendChild(docLink);\n",
              "        }\n",
              "      </script>\n",
              "    </div>\n",
              "  </div>\n",
              "  "
            ]
          },
          "metadata": {}
        },
        {
          "output_type": "stream",
          "name": "stdout",
          "text": [
            "Среднее кол-во объектов: 106.9\n",
            "Среднее кол-во посадочных мест: 29.6\n"
          ]
        }
      ],
      "source": [
        "#Отделяем сетевые заведения\n",
        "chain_df = df.query('chain == True')\n",
        "\n",
        "chain_df = (\n",
        "    chain_df.groupby('object_name', as_index=False)\n",
        "    .agg({'id': 'count', 'number': 'median'})\n",
        "    .sort_values(by='id', ascending=False)    \n",
        ")\n",
        "\n",
        "chain_df.columns = ['object_name','objects', 'seat_median']\n",
        "\n",
        "#Узнать как обстоят дела у самых топовых сетевых заведений\n",
        "chain_top10 = chain_df.head(10)\n",
        "display(chain_top10)\n",
        "print('Среднее кол-во объектов:', chain_top10['objects'].mean())\n",
        "print('Среднее кол-во посадочных мест:', chain_top10['seat_median'].mean())"
      ]
    },
    {
      "cell_type": "code",
      "execution_count": 34,
      "metadata": {
        "colab": {
          "base_uri": "https://localhost:8080/",
          "height": 1000
        },
        "id": "vuMTeMGL94Dp",
        "outputId": "29fee0b4-28e7-4db8-f906-d44d928326cd"
      },
      "outputs": [
        {
          "output_type": "display_data",
          "data": {
            "text/html": [
              "<html>\n",
              "<head><meta charset=\"utf-8\" /></head>\n",
              "<body>\n",
              "    <div>            <script src=\"https://cdnjs.cloudflare.com/ajax/libs/mathjax/2.7.5/MathJax.js?config=TeX-AMS-MML_SVG\"></script><script type=\"text/javascript\">if (window.MathJax) {MathJax.Hub.Config({SVG: {font: \"STIX-Web\"}});}</script>                <script type=\"text/javascript\">window.PlotlyConfig = {MathJaxConfig: 'local'};</script>\n",
              "        <script src=\"https://cdn.plot.ly/plotly-2.8.3.min.js\"></script>                <div id=\"dae34c0f-7ab2-4f20-bbe9-a2380e8cc2df\" class=\"plotly-graph-div\" style=\"height:550px; width:900px;\"></div>            <script type=\"text/javascript\">                                    window.PLOTLYENV=window.PLOTLYENV || {};                                    if (document.getElementById(\"dae34c0f-7ab2-4f20-bbe9-a2380e8cc2df\")) {                    Plotly.newPlot(                        \"dae34c0f-7ab2-4f20-bbe9-a2380e8cc2df\",                        [{\"hovertemplate\":\"object_name=\\u0448\\u043e\\u043a\\u043e\\u043b\\u0430\\u0434\\u043d\\u0438\\u0446\\u0430<br>\\u043a\\u043e\\u043b\\u0438\\u0447\\u0435\\u0441\\u0442\\u0432\\u043e \\u0437\\u0430\\u0432\\u0435\\u0434\\u0435\\u043d\\u0438\\u0439 \\u0432 \\u0441\\u0435\\u0442\\u0438=%{marker.size}<br>\\u0441\\u0440\\u0435\\u0434\\u043d\\u0435\\u0435 \\u0447\\u0438\\u0441\\u043b\\u043e \\u043f\\u043e\\u0441\\u0430\\u0434\\u043e\\u0447\\u043d\\u044b\\u0445 \\u043c\\u0435\\u0441\\u0442=%{y}<extra></extra>\",\"legendgroup\":\"\\u0448\\u043e\\u043a\\u043e\\u043b\\u0430\\u0434\\u043d\\u0438\\u0446\\u0430\",\"marker\":{\"color\":\"#636efa\",\"size\":[157],\"sizemode\":\"area\",\"sizeref\":0.0628,\"symbol\":\"circle\"},\"mode\":\"markers\",\"name\":\"\\u0448\\u043e\\u043a\\u043e\\u043b\\u0430\\u0434\\u043d\\u0438\\u0446\\u0430\",\"orientation\":\"v\",\"showlegend\":true,\"x\":[157],\"xaxis\":\"x\",\"y\":[50.0],\"yaxis\":\"y\",\"type\":\"scatter\"},{\"hovertemplate\":\"object_name=kfc<br>\\u043a\\u043e\\u043b\\u0438\\u0447\\u0435\\u0441\\u0442\\u0432\\u043e \\u0437\\u0430\\u0432\\u0435\\u0434\\u0435\\u043d\\u0438\\u0439 \\u0432 \\u0441\\u0435\\u0442\\u0438=%{marker.size}<br>\\u0441\\u0440\\u0435\\u0434\\u043d\\u0435\\u0435 \\u0447\\u0438\\u0441\\u043b\\u043e \\u043f\\u043e\\u0441\\u0430\\u0434\\u043e\\u0447\\u043d\\u044b\\u0445 \\u043c\\u0435\\u0441\\u0442=%{y}<extra></extra>\",\"legendgroup\":\"kfc\",\"marker\":{\"color\":\"#EF553B\",\"size\":[155],\"sizemode\":\"area\",\"sizeref\":0.0628,\"symbol\":\"circle\"},\"mode\":\"markers\",\"name\":\"kfc\",\"orientation\":\"v\",\"showlegend\":true,\"x\":[155],\"xaxis\":\"x\",\"y\":[45.0],\"yaxis\":\"y\",\"type\":\"scatter\"},{\"hovertemplate\":\"object_name=\\u043c\\u0430\\u043a\\u0434\\u043e\\u043d\\u0430\\u043b\\u0434\\u0441<br>\\u043a\\u043e\\u043b\\u0438\\u0447\\u0435\\u0441\\u0442\\u0432\\u043e \\u0437\\u0430\\u0432\\u0435\\u0434\\u0435\\u043d\\u0438\\u0439 \\u0432 \\u0441\\u0435\\u0442\\u0438=%{marker.size}<br>\\u0441\\u0440\\u0435\\u0434\\u043d\\u0435\\u0435 \\u0447\\u0438\\u0441\\u043b\\u043e \\u043f\\u043e\\u0441\\u0430\\u0434\\u043e\\u0447\\u043d\\u044b\\u0445 \\u043c\\u0435\\u0441\\u0442=%{y}<extra></extra>\",\"legendgroup\":\"\\u043c\\u0430\\u043a\\u0434\\u043e\\u043d\\u0430\\u043b\\u0434\\u0441\",\"marker\":{\"color\":\"#00cc96\",\"size\":[151],\"sizemode\":\"area\",\"sizeref\":0.0628,\"symbol\":\"circle\"},\"mode\":\"markers\",\"name\":\"\\u043c\\u0430\\u043a\\u0434\\u043e\\u043d\\u0430\\u043b\\u0434\\u0441\",\"orientation\":\"v\",\"showlegend\":true,\"x\":[151],\"xaxis\":\"x\",\"y\":[76.0],\"yaxis\":\"y\",\"type\":\"scatter\"},{\"hovertemplate\":\"object_name=\\u0431\\u0443\\u0440\\u0433\\u0435\\u0440 \\u043a\\u0438\\u043d\\u0433<br>\\u043a\\u043e\\u043b\\u0438\\u0447\\u0435\\u0441\\u0442\\u0432\\u043e \\u0437\\u0430\\u0432\\u0435\\u0434\\u0435\\u043d\\u0438\\u0439 \\u0432 \\u0441\\u0435\\u0442\\u0438=%{marker.size}<br>\\u0441\\u0440\\u0435\\u0434\\u043d\\u0435\\u0435 \\u0447\\u0438\\u0441\\u043b\\u043e \\u043f\\u043e\\u0441\\u0430\\u0434\\u043e\\u0447\\u043d\\u044b\\u0445 \\u043c\\u0435\\u0441\\u0442=%{y}<extra></extra>\",\"legendgroup\":\"\\u0431\\u0443\\u0440\\u0433\\u0435\\u0440 \\u043a\\u0438\\u043d\\u0433\",\"marker\":{\"color\":\"#ab63fa\",\"size\":[137],\"sizemode\":\"area\",\"sizeref\":0.0628,\"symbol\":\"circle\"},\"mode\":\"markers\",\"name\":\"\\u0431\\u0443\\u0440\\u0433\\u0435\\u0440 \\u043a\\u0438\\u043d\\u0433\",\"orientation\":\"v\",\"showlegend\":true,\"x\":[137],\"xaxis\":\"x\",\"y\":[45.0],\"yaxis\":\"y\",\"type\":\"scatter\"},{\"hovertemplate\":\"object_name=\\u0442\\u0435\\u0440\\u0435\\u043c\\u043e\\u043a<br>\\u043a\\u043e\\u043b\\u0438\\u0447\\u0435\\u0441\\u0442\\u0432\\u043e \\u0437\\u0430\\u0432\\u0435\\u0434\\u0435\\u043d\\u0438\\u0439 \\u0432 \\u0441\\u0435\\u0442\\u0438=%{marker.size}<br>\\u0441\\u0440\\u0435\\u0434\\u043d\\u0435\\u0435 \\u0447\\u0438\\u0441\\u043b\\u043e \\u043f\\u043e\\u0441\\u0430\\u0434\\u043e\\u0447\\u043d\\u044b\\u0445 \\u043c\\u0435\\u0441\\u0442=%{y}<extra></extra>\",\"legendgroup\":\"\\u0442\\u0435\\u0440\\u0435\\u043c\\u043e\\u043a\",\"marker\":{\"color\":\"#FFA15A\",\"size\":[94],\"sizemode\":\"area\",\"sizeref\":0.0628,\"symbol\":\"circle\"},\"mode\":\"markers\",\"name\":\"\\u0442\\u0435\\u0440\\u0435\\u043c\\u043e\\u043a\",\"orientation\":\"v\",\"showlegend\":true,\"x\":[94],\"xaxis\":\"x\",\"y\":[23.0],\"yaxis\":\"y\",\"type\":\"scatter\"},{\"hovertemplate\":\"object_name=\\u043a\\u0440\\u043e\\u0448\\u043a\\u0430 \\u043a\\u0430\\u0440\\u0442\\u043e\\u0448\\u043a\\u0430<br>\\u043a\\u043e\\u043b\\u0438\\u0447\\u0435\\u0441\\u0442\\u0432\\u043e \\u0437\\u0430\\u0432\\u0435\\u0434\\u0435\\u043d\\u0438\\u0439 \\u0432 \\u0441\\u0435\\u0442\\u0438=%{marker.size}<br>\\u0441\\u0440\\u0435\\u0434\\u043d\\u0435\\u0435 \\u0447\\u0438\\u0441\\u043b\\u043e \\u043f\\u043e\\u0441\\u0430\\u0434\\u043e\\u0447\\u043d\\u044b\\u0445 \\u043c\\u0435\\u0441\\u0442=%{y}<extra></extra>\",\"legendgroup\":\"\\u043a\\u0440\\u043e\\u0448\\u043a\\u0430 \\u043a\\u0430\\u0440\\u0442\\u043e\\u0448\\u043a\\u0430\",\"marker\":{\"color\":\"#19d3f3\",\"size\":[90],\"sizemode\":\"area\",\"sizeref\":0.0628,\"symbol\":\"circle\"},\"mode\":\"markers\",\"name\":\"\\u043a\\u0440\\u043e\\u0448\\u043a\\u0430 \\u043a\\u0430\\u0440\\u0442\\u043e\\u0448\\u043a\\u0430\",\"orientation\":\"v\",\"showlegend\":true,\"x\":[90],\"xaxis\":\"x\",\"y\":[15.0],\"yaxis\":\"y\",\"type\":\"scatter\"},{\"hovertemplate\":\"object_name=\\u0434\\u043e\\u043c\\u0438\\u043d\\u043e'\\u0441 \\u043f\\u0438\\u0446\\u0446\\u0430<br>\\u043a\\u043e\\u043b\\u0438\\u0447\\u0435\\u0441\\u0442\\u0432\\u043e \\u0437\\u0430\\u0432\\u0435\\u0434\\u0435\\u043d\\u0438\\u0439 \\u0432 \\u0441\\u0435\\u0442\\u0438=%{marker.size}<br>\\u0441\\u0440\\u0435\\u0434\\u043d\\u0435\\u0435 \\u0447\\u0438\\u0441\\u043b\\u043e \\u043f\\u043e\\u0441\\u0430\\u0434\\u043e\\u0447\\u043d\\u044b\\u0445 \\u043c\\u0435\\u0441\\u0442=%{y}<extra></extra>\",\"legendgroup\":\"\\u0434\\u043e\\u043c\\u0438\\u043d\\u043e'\\u0441 \\u043f\\u0438\\u0446\\u0446\\u0430\",\"marker\":{\"color\":\"#FF6692\",\"size\":[90],\"sizemode\":\"area\",\"sizeref\":0.0628,\"symbol\":\"circle\"},\"mode\":\"markers\",\"name\":\"\\u0434\\u043e\\u043c\\u0438\\u043d\\u043e'\\u0441 \\u043f\\u0438\\u0446\\u0446\\u0430\",\"orientation\":\"v\",\"showlegend\":true,\"x\":[90],\"xaxis\":\"x\",\"y\":[16.0],\"yaxis\":\"y\",\"type\":\"scatter\"},{\"hovertemplate\":\"object_name=\\u043c\\u0438\\u043b\\u0442\\u0438<br>\\u043a\\u043e\\u043b\\u0438\\u0447\\u0435\\u0441\\u0442\\u0432\\u043e \\u0437\\u0430\\u0432\\u0435\\u0434\\u0435\\u043d\\u0438\\u0439 \\u0432 \\u0441\\u0435\\u0442\\u0438=%{marker.size}<br>\\u0441\\u0440\\u0435\\u0434\\u043d\\u0435\\u0435 \\u0447\\u0438\\u0441\\u043b\\u043e \\u043f\\u043e\\u0441\\u0430\\u0434\\u043e\\u0447\\u043d\\u044b\\u0445 \\u043c\\u0435\\u0441\\u0442=%{y}<extra></extra>\",\"legendgroup\":\"\\u043c\\u0438\\u043b\\u0442\\u0438\",\"marker\":{\"color\":\"#B6E880\",\"size\":[72],\"sizemode\":\"area\",\"sizeref\":0.0628,\"symbol\":\"circle\"},\"mode\":\"markers\",\"name\":\"\\u043c\\u0438\\u043b\\u0442\\u0438\",\"orientation\":\"v\",\"showlegend\":true,\"x\":[72],\"xaxis\":\"x\",\"y\":[0.0],\"yaxis\":\"y\",\"type\":\"scatter\"},{\"hovertemplate\":\"object_name=\\u0441\\u0443\\u0448\\u0438 wok<br>\\u043a\\u043e\\u043b\\u0438\\u0447\\u0435\\u0441\\u0442\\u0432\\u043e \\u0437\\u0430\\u0432\\u0435\\u0434\\u0435\\u043d\\u0438\\u0439 \\u0432 \\u0441\\u0435\\u0442\\u0438=%{marker.size}<br>\\u0441\\u0440\\u0435\\u0434\\u043d\\u0435\\u0435 \\u0447\\u0438\\u0441\\u043b\\u043e \\u043f\\u043e\\u0441\\u0430\\u0434\\u043e\\u0447\\u043d\\u044b\\u0445 \\u043c\\u0435\\u0441\\u0442=%{y}<extra></extra>\",\"legendgroup\":\"\\u0441\\u0443\\u0448\\u0438 wok\",\"marker\":{\"color\":\"#FF97FF\",\"size\":[72],\"sizemode\":\"area\",\"sizeref\":0.0628,\"symbol\":\"circle\"},\"mode\":\"markers\",\"name\":\"\\u0441\\u0443\\u0448\\u0438 wok\",\"orientation\":\"v\",\"showlegend\":true,\"x\":[72],\"xaxis\":\"x\",\"y\":[6.0],\"yaxis\":\"y\",\"type\":\"scatter\"},{\"hovertemplate\":\"object_name=\\u043f\\u0430\\u043f\\u0430 \\u0434\\u0436\\u043e\\u043d\\u0441<br>\\u043a\\u043e\\u043b\\u0438\\u0447\\u0435\\u0441\\u0442\\u0432\\u043e \\u0437\\u0430\\u0432\\u0435\\u0434\\u0435\\u043d\\u0438\\u0439 \\u0432 \\u0441\\u0435\\u0442\\u0438=%{marker.size}<br>\\u0441\\u0440\\u0435\\u0434\\u043d\\u0435\\u0435 \\u0447\\u0438\\u0441\\u043b\\u043e \\u043f\\u043e\\u0441\\u0430\\u0434\\u043e\\u0447\\u043d\\u044b\\u0445 \\u043c\\u0435\\u0441\\u0442=%{y}<extra></extra>\",\"legendgroup\":\"\\u043f\\u0430\\u043f\\u0430 \\u0434\\u0436\\u043e\\u043d\\u0441\",\"marker\":{\"color\":\"#FECB52\",\"size\":[51],\"sizemode\":\"area\",\"sizeref\":0.0628,\"symbol\":\"circle\"},\"mode\":\"markers\",\"name\":\"\\u043f\\u0430\\u043f\\u0430 \\u0434\\u0436\\u043e\\u043d\\u0441\",\"orientation\":\"v\",\"showlegend\":true,\"x\":[51],\"xaxis\":\"x\",\"y\":[20.0],\"yaxis\":\"y\",\"type\":\"scatter\"},{\"hovertemplate\":\"object_name=\\u0434\\u043e\\u0434\\u043e \\u043f\\u0438\\u0446\\u0446\\u0430<br>\\u043a\\u043e\\u043b\\u0438\\u0447\\u0435\\u0441\\u0442\\u0432\\u043e \\u0437\\u0430\\u0432\\u0435\\u0434\\u0435\\u043d\\u0438\\u0439 \\u0432 \\u0441\\u0435\\u0442\\u0438=%{marker.size}<br>\\u0441\\u0440\\u0435\\u0434\\u043d\\u0435\\u0435 \\u0447\\u0438\\u0441\\u043b\\u043e \\u043f\\u043e\\u0441\\u0430\\u0434\\u043e\\u0447\\u043d\\u044b\\u0445 \\u043c\\u0435\\u0441\\u0442=%{y}<extra></extra>\",\"legendgroup\":\"\\u0434\\u043e\\u0434\\u043e \\u043f\\u0438\\u0446\\u0446\\u0430\",\"marker\":{\"color\":\"#636efa\",\"size\":[49],\"sizemode\":\"area\",\"sizeref\":0.0628,\"symbol\":\"circle\"},\"mode\":\"markers\",\"name\":\"\\u0434\\u043e\\u0434\\u043e \\u043f\\u0438\\u0446\\u0446\\u0430\",\"orientation\":\"v\",\"showlegend\":true,\"x\":[49],\"xaxis\":\"x\",\"y\":[30.0],\"yaxis\":\"y\",\"type\":\"scatter\"},{\"hovertemplate\":\"object_name=\\u043a\\u043e\\u0444\\u0435 \\u0441 \\u0441\\u043e\\u0431\\u043e\\u0439<br>\\u043a\\u043e\\u043b\\u0438\\u0447\\u0435\\u0441\\u0442\\u0432\\u043e \\u0437\\u0430\\u0432\\u0435\\u0434\\u0435\\u043d\\u0438\\u0439 \\u0432 \\u0441\\u0435\\u0442\\u0438=%{marker.size}<br>\\u0441\\u0440\\u0435\\u0434\\u043d\\u0435\\u0435 \\u0447\\u0438\\u0441\\u043b\\u043e \\u043f\\u043e\\u0441\\u0430\\u0434\\u043e\\u0447\\u043d\\u044b\\u0445 \\u043c\\u0435\\u0441\\u0442=%{y}<extra></extra>\",\"legendgroup\":\"\\u043a\\u043e\\u0444\\u0435 \\u0441 \\u0441\\u043e\\u0431\\u043e\\u0439\",\"marker\":{\"color\":\"#EF553B\",\"size\":[46],\"sizemode\":\"area\",\"sizeref\":0.0628,\"symbol\":\"circle\"},\"mode\":\"markers\",\"name\":\"\\u043a\\u043e\\u0444\\u0435 \\u0441 \\u0441\\u043e\\u0431\\u043e\\u0439\",\"orientation\":\"v\",\"showlegend\":true,\"x\":[46],\"xaxis\":\"x\",\"y\":[0.0],\"yaxis\":\"y\",\"type\":\"scatter\"},{\"hovertemplate\":\"object_name=\\u0447\\u0430\\u0439\\u0445\\u043e\\u043d\\u0430 \\u21161<br>\\u043a\\u043e\\u043b\\u0438\\u0447\\u0435\\u0441\\u0442\\u0432\\u043e \\u0437\\u0430\\u0432\\u0435\\u0434\\u0435\\u043d\\u0438\\u0439 \\u0432 \\u0441\\u0435\\u0442\\u0438=%{marker.size}<br>\\u0441\\u0440\\u0435\\u0434\\u043d\\u0435\\u0435 \\u0447\\u0438\\u0441\\u043b\\u043e \\u043f\\u043e\\u0441\\u0430\\u0434\\u043e\\u0447\\u043d\\u044b\\u0445 \\u043c\\u0435\\u0441\\u0442=%{y}<extra></extra>\",\"legendgroup\":\"\\u0447\\u0430\\u0439\\u0445\\u043e\\u043d\\u0430 \\u21161\",\"marker\":{\"color\":\"#00cc96\",\"size\":[43],\"sizemode\":\"area\",\"sizeref\":0.0628,\"symbol\":\"circle\"},\"mode\":\"markers\",\"name\":\"\\u0447\\u0430\\u0439\\u0445\\u043e\\u043d\\u0430 \\u21161\",\"orientation\":\"v\",\"showlegend\":true,\"x\":[43],\"xaxis\":\"x\",\"y\":[100.0],\"yaxis\":\"y\",\"type\":\"scatter\"},{\"hovertemplate\":\"object_name=\\u044f\\u043a\\u0438\\u0442\\u043e\\u0440\\u0438\\u044f<br>\\u043a\\u043e\\u043b\\u0438\\u0447\\u0435\\u0441\\u0442\\u0432\\u043e \\u0437\\u0430\\u0432\\u0435\\u0434\\u0435\\u043d\\u0438\\u0439 \\u0432 \\u0441\\u0435\\u0442\\u0438=%{marker.size}<br>\\u0441\\u0440\\u0435\\u0434\\u043d\\u0435\\u0435 \\u0447\\u0438\\u0441\\u043b\\u043e \\u043f\\u043e\\u0441\\u0430\\u0434\\u043e\\u0447\\u043d\\u044b\\u0445 \\u043c\\u0435\\u0441\\u0442=%{y}<extra></extra>\",\"legendgroup\":\"\\u044f\\u043a\\u0438\\u0442\\u043e\\u0440\\u0438\\u044f\",\"marker\":{\"color\":\"#ab63fa\",\"size\":[38],\"sizemode\":\"area\",\"sizeref\":0.0628,\"symbol\":\"circle\"},\"mode\":\"markers\",\"name\":\"\\u044f\\u043a\\u0438\\u0442\\u043e\\u0440\\u0438\\u044f\",\"orientation\":\"v\",\"showlegend\":true,\"x\":[38],\"xaxis\":\"x\",\"y\":[98.0],\"yaxis\":\"y\",\"type\":\"scatter\"},{\"hovertemplate\":\"object_name=\\u0445\\u0438\\u043d\\u043a\\u0430\\u043b\\u044c\\u043d\\u0430\\u044f<br>\\u043a\\u043e\\u043b\\u0438\\u0447\\u0435\\u0441\\u0442\\u0432\\u043e \\u0437\\u0430\\u0432\\u0435\\u0434\\u0435\\u043d\\u0438\\u0439 \\u0432 \\u0441\\u0435\\u0442\\u0438=%{marker.size}<br>\\u0441\\u0440\\u0435\\u0434\\u043d\\u0435\\u0435 \\u0447\\u0438\\u0441\\u043b\\u043e \\u043f\\u043e\\u0441\\u0430\\u0434\\u043e\\u0447\\u043d\\u044b\\u0445 \\u043c\\u0435\\u0441\\u0442=%{y}<extra></extra>\",\"legendgroup\":\"\\u0445\\u0438\\u043d\\u043a\\u0430\\u043b\\u044c\\u043d\\u0430\\u044f\",\"marker\":{\"color\":\"#FFA15A\",\"size\":[38],\"sizemode\":\"area\",\"sizeref\":0.0628,\"symbol\":\"circle\"},\"mode\":\"markers\",\"name\":\"\\u0445\\u0438\\u043d\\u043a\\u0430\\u043b\\u044c\\u043d\\u0430\\u044f\",\"orientation\":\"v\",\"showlegend\":true,\"x\":[38],\"xaxis\":\"x\",\"y\":[46.5],\"yaxis\":\"y\",\"type\":\"scatter\"},{\"hovertemplate\":\"object_name=\\u043a\\u043e\\u0444\\u0435 \\u0445\\u0430\\u0443\\u0441<br>\\u043a\\u043e\\u043b\\u0438\\u0447\\u0435\\u0441\\u0442\\u0432\\u043e \\u0437\\u0430\\u0432\\u0435\\u0434\\u0435\\u043d\\u0438\\u0439 \\u0432 \\u0441\\u0435\\u0442\\u0438=%{marker.size}<br>\\u0441\\u0440\\u0435\\u0434\\u043d\\u0435\\u0435 \\u0447\\u0438\\u0441\\u043b\\u043e \\u043f\\u043e\\u0441\\u0430\\u0434\\u043e\\u0447\\u043d\\u044b\\u0445 \\u043c\\u0435\\u0441\\u0442=%{y}<extra></extra>\",\"legendgroup\":\"\\u043a\\u043e\\u0444\\u0435 \\u0445\\u0430\\u0443\\u0441\",\"marker\":{\"color\":\"#19d3f3\",\"size\":[35],\"sizemode\":\"area\",\"sizeref\":0.0628,\"symbol\":\"circle\"},\"mode\":\"markers\",\"name\":\"\\u043a\\u043e\\u0444\\u0435 \\u0445\\u0430\\u0443\\u0441\",\"orientation\":\"v\",\"showlegend\":true,\"x\":[35],\"xaxis\":\"x\",\"y\":[50.0],\"yaxis\":\"y\",\"type\":\"scatter\"},{\"hovertemplate\":\"object_name=subway<br>\\u043a\\u043e\\u043b\\u0438\\u0447\\u0435\\u0441\\u0442\\u0432\\u043e \\u0437\\u0430\\u0432\\u0435\\u0434\\u0435\\u043d\\u0438\\u0439 \\u0432 \\u0441\\u0435\\u0442\\u0438=%{marker.size}<br>\\u0441\\u0440\\u0435\\u0434\\u043d\\u0435\\u0435 \\u0447\\u0438\\u0441\\u043b\\u043e \\u043f\\u043e\\u0441\\u0430\\u0434\\u043e\\u0447\\u043d\\u044b\\u0445 \\u043c\\u0435\\u0441\\u0442=%{y}<extra></extra>\",\"legendgroup\":\"subway\",\"marker\":{\"color\":\"#FF6692\",\"size\":[34],\"sizemode\":\"area\",\"sizeref\":0.0628,\"symbol\":\"circle\"},\"mode\":\"markers\",\"name\":\"subway\",\"orientation\":\"v\",\"showlegend\":true,\"x\":[34],\"xaxis\":\"x\",\"y\":[15.0],\"yaxis\":\"y\",\"type\":\"scatter\"},{\"hovertemplate\":\"object_name=\\u0442\\u0430\\u043d\\u0443\\u043a\\u0438<br>\\u043a\\u043e\\u043b\\u0438\\u0447\\u0435\\u0441\\u0442\\u0432\\u043e \\u0437\\u0430\\u0432\\u0435\\u0434\\u0435\\u043d\\u0438\\u0439 \\u0432 \\u0441\\u0435\\u0442\\u0438=%{marker.size}<br>\\u0441\\u0440\\u0435\\u0434\\u043d\\u0435\\u0435 \\u0447\\u0438\\u0441\\u043b\\u043e \\u043f\\u043e\\u0441\\u0430\\u0434\\u043e\\u0447\\u043d\\u044b\\u0445 \\u043c\\u0435\\u0441\\u0442=%{y}<extra></extra>\",\"legendgroup\":\"\\u0442\\u0430\\u043d\\u0443\\u043a\\u0438\",\"marker\":{\"color\":\"#B6E880\",\"size\":[32],\"sizemode\":\"area\",\"sizeref\":0.0628,\"symbol\":\"circle\"},\"mode\":\"markers\",\"name\":\"\\u0442\\u0430\\u043d\\u0443\\u043a\\u0438\",\"orientation\":\"v\",\"showlegend\":true,\"x\":[32],\"xaxis\":\"x\",\"y\":[99.0],\"yaxis\":\"y\",\"type\":\"scatter\"},{\"hovertemplate\":\"object_name=\\u0445\\u043b\\u0435\\u0431 \\u043d\\u0430\\u0441\\u0443\\u0449\\u043d\\u044b\\u0439<br>\\u043a\\u043e\\u043b\\u0438\\u0447\\u0435\\u0441\\u0442\\u0432\\u043e \\u0437\\u0430\\u0432\\u0435\\u0434\\u0435\\u043d\\u0438\\u0439 \\u0432 \\u0441\\u0435\\u0442\\u0438=%{marker.size}<br>\\u0441\\u0440\\u0435\\u0434\\u043d\\u0435\\u0435 \\u0447\\u0438\\u0441\\u043b\\u043e \\u043f\\u043e\\u0441\\u0430\\u0434\\u043e\\u0447\\u043d\\u044b\\u0445 \\u043c\\u0435\\u0441\\u0442=%{y}<extra></extra>\",\"legendgroup\":\"\\u0445\\u043b\\u0435\\u0431 \\u043d\\u0430\\u0441\\u0443\\u0449\\u043d\\u044b\\u0439\",\"marker\":{\"color\":\"#FF97FF\",\"size\":[32],\"sizemode\":\"area\",\"sizeref\":0.0628,\"symbol\":\"circle\"},\"mode\":\"markers\",\"name\":\"\\u0445\\u043b\\u0435\\u0431 \\u043d\\u0430\\u0441\\u0443\\u0449\\u043d\\u044b\\u0439\",\"orientation\":\"v\",\"showlegend\":true,\"x\":[32],\"xaxis\":\"x\",\"y\":[40.0],\"yaxis\":\"y\",\"type\":\"scatter\"},{\"hovertemplate\":\"object_name=starbucks<br>\\u043a\\u043e\\u043b\\u0438\\u0447\\u0435\\u0441\\u0442\\u0432\\u043e \\u0437\\u0430\\u0432\\u0435\\u0434\\u0435\\u043d\\u0438\\u0439 \\u0432 \\u0441\\u0435\\u0442\\u0438=%{marker.size}<br>\\u0441\\u0440\\u0435\\u0434\\u043d\\u0435\\u0435 \\u0447\\u0438\\u0441\\u043b\\u043e \\u043f\\u043e\\u0441\\u0430\\u0434\\u043e\\u0447\\u043d\\u044b\\u0445 \\u043c\\u0435\\u0441\\u0442=%{y}<extra></extra>\",\"legendgroup\":\"starbucks\",\"marker\":{\"color\":\"#FECB52\",\"size\":[30],\"sizemode\":\"area\",\"sizeref\":0.0628,\"symbol\":\"circle\"},\"mode\":\"markers\",\"name\":\"starbucks\",\"orientation\":\"v\",\"showlegend\":true,\"x\":[30],\"xaxis\":\"x\",\"y\":[42.0],\"yaxis\":\"y\",\"type\":\"scatter\"},{\"hovertemplate\":\"object_name=\\u043f\\u0440\\u0430\\u0439\\u043c \\u0441\\u0442\\u0430\\u0440<br>\\u043a\\u043e\\u043b\\u0438\\u0447\\u0435\\u0441\\u0442\\u0432\\u043e \\u0437\\u0430\\u0432\\u0435\\u0434\\u0435\\u043d\\u0438\\u0439 \\u0432 \\u0441\\u0435\\u0442\\u0438=%{marker.size}<br>\\u0441\\u0440\\u0435\\u0434\\u043d\\u0435\\u0435 \\u0447\\u0438\\u0441\\u043b\\u043e \\u043f\\u043e\\u0441\\u0430\\u0434\\u043e\\u0447\\u043d\\u044b\\u0445 \\u043c\\u0435\\u0441\\u0442=%{y}<extra></extra>\",\"legendgroup\":\"\\u043f\\u0440\\u0430\\u0439\\u043c \\u0441\\u0442\\u0430\\u0440\",\"marker\":{\"color\":\"#636efa\",\"size\":[26],\"sizemode\":\"area\",\"sizeref\":0.0628,\"symbol\":\"circle\"},\"mode\":\"markers\",\"name\":\"\\u043f\\u0440\\u0430\\u0439\\u043c \\u0441\\u0442\\u0430\\u0440\",\"orientation\":\"v\",\"showlegend\":true,\"x\":[26],\"xaxis\":\"x\",\"y\":[30.0],\"yaxis\":\"y\",\"type\":\"scatter\"},{\"hovertemplate\":\"object_name=\\u0438\\u043b\\u044c \\u043f\\u0430\\u0442\\u0438\\u043e<br>\\u043a\\u043e\\u043b\\u0438\\u0447\\u0435\\u0441\\u0442\\u0432\\u043e \\u0437\\u0430\\u0432\\u0435\\u0434\\u0435\\u043d\\u0438\\u0439 \\u0432 \\u0441\\u0435\\u0442\\u0438=%{marker.size}<br>\\u0441\\u0440\\u0435\\u0434\\u043d\\u0435\\u0435 \\u0447\\u0438\\u0441\\u043b\\u043e \\u043f\\u043e\\u0441\\u0430\\u0434\\u043e\\u0447\\u043d\\u044b\\u0445 \\u043c\\u0435\\u0441\\u0442=%{y}<extra></extra>\",\"legendgroup\":\"\\u0438\\u043b\\u044c \\u043f\\u0430\\u0442\\u0438\\u043e\",\"marker\":{\"color\":\"#EF553B\",\"size\":[25],\"sizemode\":\"area\",\"sizeref\":0.0628,\"symbol\":\"circle\"},\"mode\":\"markers\",\"name\":\"\\u0438\\u043b\\u044c \\u043f\\u0430\\u0442\\u0438\\u043e\",\"orientation\":\"v\",\"showlegend\":true,\"x\":[25],\"xaxis\":\"x\",\"y\":[96.0],\"yaxis\":\"y\",\"type\":\"scatter\"},{\"hovertemplate\":\"object_name=cofix<br>\\u043a\\u043e\\u043b\\u0438\\u0447\\u0435\\u0441\\u0442\\u0432\\u043e \\u0437\\u0430\\u0432\\u0435\\u0434\\u0435\\u043d\\u0438\\u0439 \\u0432 \\u0441\\u0435\\u0442\\u0438=%{marker.size}<br>\\u0441\\u0440\\u0435\\u0434\\u043d\\u0435\\u0435 \\u0447\\u0438\\u0441\\u043b\\u043e \\u043f\\u043e\\u0441\\u0430\\u0434\\u043e\\u0447\\u043d\\u044b\\u0445 \\u043c\\u0435\\u0441\\u0442=%{y}<extra></extra>\",\"legendgroup\":\"cofix\",\"marker\":{\"color\":\"#00cc96\",\"size\":[25],\"sizemode\":\"area\",\"sizeref\":0.0628,\"symbol\":\"circle\"},\"mode\":\"markers\",\"name\":\"cofix\",\"orientation\":\"v\",\"showlegend\":true,\"x\":[25],\"xaxis\":\"x\",\"y\":[10.0],\"yaxis\":\"y\",\"type\":\"scatter\"},{\"hovertemplate\":\"object_name=\\u043c\\u044f\\u0442\\u0430 lounge<br>\\u043a\\u043e\\u043b\\u0438\\u0447\\u0435\\u0441\\u0442\\u0432\\u043e \\u0437\\u0430\\u0432\\u0435\\u0434\\u0435\\u043d\\u0438\\u0439 \\u0432 \\u0441\\u0435\\u0442\\u0438=%{marker.size}<br>\\u0441\\u0440\\u0435\\u0434\\u043d\\u0435\\u0435 \\u0447\\u0438\\u0441\\u043b\\u043e \\u043f\\u043e\\u0441\\u0430\\u0434\\u043e\\u0447\\u043d\\u044b\\u0445 \\u043c\\u0435\\u0441\\u0442=%{y}<extra></extra>\",\"legendgroup\":\"\\u043c\\u044f\\u0442\\u0430 lounge\",\"marker\":{\"color\":\"#ab63fa\",\"size\":[24],\"sizemode\":\"area\",\"sizeref\":0.0628,\"symbol\":\"circle\"},\"mode\":\"markers\",\"name\":\"\\u043c\\u044f\\u0442\\u0430 lounge\",\"orientation\":\"v\",\"showlegend\":true,\"x\":[24],\"xaxis\":\"x\",\"y\":[42.5],\"yaxis\":\"y\",\"type\":\"scatter\"},{\"hovertemplate\":\"object_name=\\u043c\\u0443-\\u043c\\u0443<br>\\u043a\\u043e\\u043b\\u0438\\u0447\\u0435\\u0441\\u0442\\u0432\\u043e \\u0437\\u0430\\u0432\\u0435\\u0434\\u0435\\u043d\\u0438\\u0439 \\u0432 \\u0441\\u0435\\u0442\\u0438=%{marker.size}<br>\\u0441\\u0440\\u0435\\u0434\\u043d\\u0435\\u0435 \\u0447\\u0438\\u0441\\u043b\\u043e \\u043f\\u043e\\u0441\\u0430\\u0434\\u043e\\u0447\\u043d\\u044b\\u0445 \\u043c\\u0435\\u0441\\u0442=%{y}<extra></extra>\",\"legendgroup\":\"\\u043c\\u0443-\\u043c\\u0443\",\"marker\":{\"color\":\"#FFA15A\",\"size\":[24],\"sizemode\":\"area\",\"sizeref\":0.0628,\"symbol\":\"circle\"},\"mode\":\"markers\",\"name\":\"\\u043c\\u0443-\\u043c\\u0443\",\"orientation\":\"v\",\"showlegend\":true,\"x\":[24],\"xaxis\":\"x\",\"y\":[140.0],\"yaxis\":\"y\",\"type\":\"scatter\"},{\"hovertemplate\":\"object_name=\\u0441\\u0442\\u0430\\u0440\\u0431\\u0430\\u043a\\u0441<br>\\u043a\\u043e\\u043b\\u0438\\u0447\\u0435\\u0441\\u0442\\u0432\\u043e \\u0437\\u0430\\u0432\\u0435\\u0434\\u0435\\u043d\\u0438\\u0439 \\u0432 \\u0441\\u0435\\u0442\\u0438=%{marker.size}<br>\\u0441\\u0440\\u0435\\u0434\\u043d\\u0435\\u0435 \\u0447\\u0438\\u0441\\u043b\\u043e \\u043f\\u043e\\u0441\\u0430\\u0434\\u043e\\u0447\\u043d\\u044b\\u0445 \\u043c\\u0435\\u0441\\u0442=%{y}<extra></extra>\",\"legendgroup\":\"\\u0441\\u0442\\u0430\\u0440\\u0431\\u0430\\u043a\\u0441\",\"marker\":{\"color\":\"#19d3f3\",\"size\":[21],\"sizemode\":\"area\",\"sizeref\":0.0628,\"symbol\":\"circle\"},\"mode\":\"markers\",\"name\":\"\\u0441\\u0442\\u0430\\u0440\\u0431\\u0430\\u043a\\u0441\",\"orientation\":\"v\",\"showlegend\":true,\"x\":[21],\"xaxis\":\"x\",\"y\":[41.0],\"yaxis\":\"y\",\"type\":\"scatter\"},{\"hovertemplate\":\"object_name=\\u0441\\u0430\\u0431\\u0432\\u0435\\u0439<br>\\u043a\\u043e\\u043b\\u0438\\u0447\\u0435\\u0441\\u0442\\u0432\\u043e \\u0437\\u0430\\u0432\\u0435\\u0434\\u0435\\u043d\\u0438\\u0439 \\u0432 \\u0441\\u0435\\u0442\\u0438=%{marker.size}<br>\\u0441\\u0440\\u0435\\u0434\\u043d\\u0435\\u0435 \\u0447\\u0438\\u0441\\u043b\\u043e \\u043f\\u043e\\u0441\\u0430\\u0434\\u043e\\u0447\\u043d\\u044b\\u0445 \\u043c\\u0435\\u0441\\u0442=%{y}<extra></extra>\",\"legendgroup\":\"\\u0441\\u0430\\u0431\\u0432\\u0435\\u0439\",\"marker\":{\"color\":\"#FF6692\",\"size\":[19],\"sizemode\":\"area\",\"sizeref\":0.0628,\"symbol\":\"circle\"},\"mode\":\"markers\",\"name\":\"\\u0441\\u0430\\u0431\\u0432\\u0435\\u0439\",\"orientation\":\"v\",\"showlegend\":true,\"x\":[19],\"xaxis\":\"x\",\"y\":[10.0],\"yaxis\":\"y\",\"type\":\"scatter\"},{\"hovertemplate\":\"object_name=\\u0430\\u043d\\u0434\\u0435\\u0440\\u0441\\u043e\\u043d<br>\\u043a\\u043e\\u043b\\u0438\\u0447\\u0435\\u0441\\u0442\\u0432\\u043e \\u0437\\u0430\\u0432\\u0435\\u0434\\u0435\\u043d\\u0438\\u0439 \\u0432 \\u0441\\u0435\\u0442\\u0438=%{marker.size}<br>\\u0441\\u0440\\u0435\\u0434\\u043d\\u0435\\u0435 \\u0447\\u0438\\u0441\\u043b\\u043e \\u043f\\u043e\\u0441\\u0430\\u0434\\u043e\\u0447\\u043d\\u044b\\u0445 \\u043c\\u0435\\u0441\\u0442=%{y}<extra></extra>\",\"legendgroup\":\"\\u0430\\u043d\\u0434\\u0435\\u0440\\u0441\\u043e\\u043d\",\"marker\":{\"color\":\"#B6E880\",\"size\":[19],\"sizemode\":\"area\",\"sizeref\":0.0628,\"symbol\":\"circle\"},\"mode\":\"markers\",\"name\":\"\\u0430\\u043d\\u0434\\u0435\\u0440\\u0441\\u043e\\u043d\",\"orientation\":\"v\",\"showlegend\":true,\"x\":[19],\"xaxis\":\"x\",\"y\":[56.0],\"yaxis\":\"y\",\"type\":\"scatter\"},{\"hovertemplate\":\"object_name=\\u043f\\u0438\\u0446\\u0446\\u0430 \\u0445\\u0430\\u0442<br>\\u043a\\u043e\\u043b\\u0438\\u0447\\u0435\\u0441\\u0442\\u0432\\u043e \\u0437\\u0430\\u0432\\u0435\\u0434\\u0435\\u043d\\u0438\\u0439 \\u0432 \\u0441\\u0435\\u0442\\u0438=%{marker.size}<br>\\u0441\\u0440\\u0435\\u0434\\u043d\\u0435\\u0435 \\u0447\\u0438\\u0441\\u043b\\u043e \\u043f\\u043e\\u0441\\u0430\\u0434\\u043e\\u0447\\u043d\\u044b\\u0445 \\u043c\\u0435\\u0441\\u0442=%{y}<extra></extra>\",\"legendgroup\":\"\\u043f\\u0438\\u0446\\u0446\\u0430 \\u0445\\u0430\\u0442\",\"marker\":{\"color\":\"#FF97FF\",\"size\":[18],\"sizemode\":\"area\",\"sizeref\":0.0628,\"symbol\":\"circle\"},\"mode\":\"markers\",\"name\":\"\\u043f\\u0438\\u0446\\u0446\\u0430 \\u0445\\u0430\\u0442\",\"orientation\":\"v\",\"showlegend\":true,\"x\":[18],\"xaxis\":\"x\",\"y\":[19.0],\"yaxis\":\"y\",\"type\":\"scatter\"},{\"hovertemplate\":\"object_name=\\u043a\\u0430\\u0444\\u0435 \\u00ab\\u0448\\u043e\\u043a\\u043e\\u043b\\u0430\\u0434\\u043d\\u0438\\u0446\\u0430\\u00bb<br>\\u043a\\u043e\\u043b\\u0438\\u0447\\u0435\\u0441\\u0442\\u0432\\u043e \\u0437\\u0430\\u0432\\u0435\\u0434\\u0435\\u043d\\u0438\\u0439 \\u0432 \\u0441\\u0435\\u0442\\u0438=%{marker.size}<br>\\u0441\\u0440\\u0435\\u0434\\u043d\\u0435\\u0435 \\u0447\\u0438\\u0441\\u043b\\u043e \\u043f\\u043e\\u0441\\u0430\\u0434\\u043e\\u0447\\u043d\\u044b\\u0445 \\u043c\\u0435\\u0441\\u0442=%{y}<extra></extra>\",\"legendgroup\":\"\\u043a\\u0430\\u0444\\u0435 \\u00ab\\u0448\\u043e\\u043a\\u043e\\u043b\\u0430\\u0434\\u043d\\u0438\\u0446\\u0430\\u00bb\",\"marker\":{\"color\":\"#FECB52\",\"size\":[16],\"sizemode\":\"area\",\"sizeref\":0.0628,\"symbol\":\"circle\"},\"mode\":\"markers\",\"name\":\"\\u043a\\u0430\\u0444\\u0435 \\u00ab\\u0448\\u043e\\u043a\\u043e\\u043b\\u0430\\u0434\\u043d\\u0438\\u0446\\u0430\\u00bb\",\"orientation\":\"v\",\"showlegend\":true,\"x\":[16],\"xaxis\":\"x\",\"y\":[60.0],\"yaxis\":\"y\",\"type\":\"scatter\"},{\"hovertemplate\":\"object_name=\\u043a\\u0443\\u043b\\u0438\\u043d\\u0430\\u0440\\u043d\\u0430\\u044f \\u043b\\u0430\\u0432\\u043a\\u0430 \\u0431\\u0440\\u0430\\u0442\\u044c\\u0435\\u0432 \\u043a\\u0430\\u0440\\u0430\\u0432\\u0430\\u0435\\u0432\\u044b\\u0445<br>\\u043a\\u043e\\u043b\\u0438\\u0447\\u0435\\u0441\\u0442\\u0432\\u043e \\u0437\\u0430\\u0432\\u0435\\u0434\\u0435\\u043d\\u0438\\u0439 \\u0432 \\u0441\\u0435\\u0442\\u0438=%{marker.size}<br>\\u0441\\u0440\\u0435\\u0434\\u043d\\u0435\\u0435 \\u0447\\u0438\\u0441\\u043b\\u043e \\u043f\\u043e\\u0441\\u0430\\u0434\\u043e\\u0447\\u043d\\u044b\\u0445 \\u043c\\u0435\\u0441\\u0442=%{y}<extra></extra>\",\"legendgroup\":\"\\u043a\\u0443\\u043b\\u0438\\u043d\\u0430\\u0440\\u043d\\u0430\\u044f \\u043b\\u0430\\u0432\\u043a\\u0430 \\u0431\\u0440\\u0430\\u0442\\u044c\\u0435\\u0432 \\u043a\\u0430\\u0440\\u0430\\u0432\\u0430\\u0435\\u0432\\u044b\\u0445\",\"marker\":{\"color\":\"#636efa\",\"size\":[16],\"sizemode\":\"area\",\"sizeref\":0.0628,\"symbol\":\"circle\"},\"mode\":\"markers\",\"name\":\"\\u043a\\u0443\\u043b\\u0438\\u043d\\u0430\\u0440\\u043d\\u0430\\u044f \\u043b\\u0430\\u0432\\u043a\\u0430 \\u0431\\u0440\\u0430\\u0442\\u044c\\u0435\\u0432 \\u043a\\u0430\\u0440\\u0430\\u0432\\u0430\\u0435\\u0432\\u044b\\u0445\",\"orientation\":\"v\",\"showlegend\":true,\"x\":[16],\"xaxis\":\"x\",\"y\":[31.5],\"yaxis\":\"y\",\"type\":\"scatter\"},{\"hovertemplate\":\"object_name=\\u0430\\u043b\\u043b\\u043e \\u043f\\u0438\\u0446\\u0446\\u0430<br>\\u043a\\u043e\\u043b\\u0438\\u0447\\u0435\\u0441\\u0442\\u0432\\u043e \\u0437\\u0430\\u0432\\u0435\\u0434\\u0435\\u043d\\u0438\\u0439 \\u0432 \\u0441\\u0435\\u0442\\u0438=%{marker.size}<br>\\u0441\\u0440\\u0435\\u0434\\u043d\\u0435\\u0435 \\u0447\\u0438\\u0441\\u043b\\u043e \\u043f\\u043e\\u0441\\u0430\\u0434\\u043e\\u0447\\u043d\\u044b\\u0445 \\u043c\\u0435\\u0441\\u0442=%{y}<extra></extra>\",\"legendgroup\":\"\\u0430\\u043b\\u043b\\u043e \\u043f\\u0438\\u0446\\u0446\\u0430\",\"marker\":{\"color\":\"#EF553B\",\"size\":[15],\"sizemode\":\"area\",\"sizeref\":0.0628,\"symbol\":\"circle\"},\"mode\":\"markers\",\"name\":\"\\u0430\\u043b\\u043b\\u043e \\u043f\\u0438\\u0446\\u0446\\u0430\",\"orientation\":\"v\",\"showlegend\":true,\"x\":[15],\"xaxis\":\"x\",\"y\":[32.0],\"yaxis\":\"y\",\"type\":\"scatter\"},{\"hovertemplate\":\"object_name=\\u0441\\u0443\\u0448\\u0438\\u0448\\u043e\\u043f<br>\\u043a\\u043e\\u043b\\u0438\\u0447\\u0435\\u0441\\u0442\\u0432\\u043e \\u0437\\u0430\\u0432\\u0435\\u0434\\u0435\\u043d\\u0438\\u0439 \\u0432 \\u0441\\u0435\\u0442\\u0438=%{marker.size}<br>\\u0441\\u0440\\u0435\\u0434\\u043d\\u0435\\u0435 \\u0447\\u0438\\u0441\\u043b\\u043e \\u043f\\u043e\\u0441\\u0430\\u0434\\u043e\\u0447\\u043d\\u044b\\u0445 \\u043c\\u0435\\u0441\\u0442=%{y}<extra></extra>\",\"legendgroup\":\"\\u0441\\u0443\\u0448\\u0438\\u0448\\u043e\\u043f\",\"marker\":{\"color\":\"#00cc96\",\"size\":[15],\"sizemode\":\"area\",\"sizeref\":0.0628,\"symbol\":\"circle\"},\"mode\":\"markers\",\"name\":\"\\u0441\\u0443\\u0448\\u0438\\u0448\\u043e\\u043f\",\"orientation\":\"v\",\"showlegend\":true,\"x\":[15],\"xaxis\":\"x\",\"y\":[6.0],\"yaxis\":\"y\",\"type\":\"scatter\"},{\"hovertemplate\":\"object_name=\\u043a\\u043e\\u0444\\u0435\\u043c\\u0430\\u043d\\u0438\\u044f<br>\\u043a\\u043e\\u043b\\u0438\\u0447\\u0435\\u0441\\u0442\\u0432\\u043e \\u0437\\u0430\\u0432\\u0435\\u0434\\u0435\\u043d\\u0438\\u0439 \\u0432 \\u0441\\u0435\\u0442\\u0438=%{marker.size}<br>\\u0441\\u0440\\u0435\\u0434\\u043d\\u0435\\u0435 \\u0447\\u0438\\u0441\\u043b\\u043e \\u043f\\u043e\\u0441\\u0430\\u0434\\u043e\\u0447\\u043d\\u044b\\u0445 \\u043c\\u0435\\u0441\\u0442=%{y}<extra></extra>\",\"legendgroup\":\"\\u043a\\u043e\\u0444\\u0435\\u043c\\u0430\\u043d\\u0438\\u044f\",\"marker\":{\"color\":\"#ab63fa\",\"size\":[15],\"sizemode\":\"area\",\"sizeref\":0.0628,\"symbol\":\"circle\"},\"mode\":\"markers\",\"name\":\"\\u043a\\u043e\\u0444\\u0435\\u043c\\u0430\\u043d\\u0438\\u044f\",\"orientation\":\"v\",\"showlegend\":true,\"x\":[15],\"xaxis\":\"x\",\"y\":[65.0],\"yaxis\":\"y\",\"type\":\"scatter\"},{\"hovertemplate\":\"object_name=\\u043f\\u0438\\u0446\\u0446\\u0430 \\u043f\\u0430\\u043e\\u043b\\u043e<br>\\u043a\\u043e\\u043b\\u0438\\u0447\\u0435\\u0441\\u0442\\u0432\\u043e \\u0437\\u0430\\u0432\\u0435\\u0434\\u0435\\u043d\\u0438\\u0439 \\u0432 \\u0441\\u0435\\u0442\\u0438=%{marker.size}<br>\\u0441\\u0440\\u0435\\u0434\\u043d\\u0435\\u0435 \\u0447\\u0438\\u0441\\u043b\\u043e \\u043f\\u043e\\u0441\\u0430\\u0434\\u043e\\u0447\\u043d\\u044b\\u0445 \\u043c\\u0435\\u0441\\u0442=%{y}<extra></extra>\",\"legendgroup\":\"\\u043f\\u0438\\u0446\\u0446\\u0430 \\u043f\\u0430\\u043e\\u043b\\u043e\",\"marker\":{\"color\":\"#FFA15A\",\"size\":[15],\"sizemode\":\"area\",\"sizeref\":0.0628,\"symbol\":\"circle\"},\"mode\":\"markers\",\"name\":\"\\u043f\\u0438\\u0446\\u0446\\u0430 \\u043f\\u0430\\u043e\\u043b\\u043e\",\"orientation\":\"v\",\"showlegend\":true,\"x\":[15],\"xaxis\":\"x\",\"y\":[0.0],\"yaxis\":\"y\",\"type\":\"scatter\"},{\"hovertemplate\":\"object_name=\\u0441\\u0442\\u0430\\u0440\\u0434\\u043e\\u0433s<br>\\u043a\\u043e\\u043b\\u0438\\u0447\\u0435\\u0441\\u0442\\u0432\\u043e \\u0437\\u0430\\u0432\\u0435\\u0434\\u0435\\u043d\\u0438\\u0439 \\u0432 \\u0441\\u0435\\u0442\\u0438=%{marker.size}<br>\\u0441\\u0440\\u0435\\u0434\\u043d\\u0435\\u0435 \\u0447\\u0438\\u0441\\u043b\\u043e \\u043f\\u043e\\u0441\\u0430\\u0434\\u043e\\u0447\\u043d\\u044b\\u0445 \\u043c\\u0435\\u0441\\u0442=%{y}<extra></extra>\",\"legendgroup\":\"\\u0441\\u0442\\u0430\\u0440\\u0434\\u043e\\u0433s\",\"marker\":{\"color\":\"#19d3f3\",\"size\":[14],\"sizemode\":\"area\",\"sizeref\":0.0628,\"symbol\":\"circle\"},\"mode\":\"markers\",\"name\":\"\\u0441\\u0442\\u0430\\u0440\\u0434\\u043e\\u0433s\",\"orientation\":\"v\",\"showlegend\":true,\"x\":[14],\"xaxis\":\"x\",\"y\":[0.0],\"yaxis\":\"y\",\"type\":\"scatter\"},{\"hovertemplate\":\"object_name=\\u043a\\u0440\\u0443\\u0436\\u043a\\u0430<br>\\u043a\\u043e\\u043b\\u0438\\u0447\\u0435\\u0441\\u0442\\u0432\\u043e \\u0437\\u0430\\u0432\\u0435\\u0434\\u0435\\u043d\\u0438\\u0439 \\u0432 \\u0441\\u0435\\u0442\\u0438=%{marker.size}<br>\\u0441\\u0440\\u0435\\u0434\\u043d\\u0435\\u0435 \\u0447\\u0438\\u0441\\u043b\\u043e \\u043f\\u043e\\u0441\\u0430\\u0434\\u043e\\u0447\\u043d\\u044b\\u0445 \\u043c\\u0435\\u0441\\u0442=%{y}<extra></extra>\",\"legendgroup\":\"\\u043a\\u0440\\u0443\\u0436\\u043a\\u0430\",\"marker\":{\"color\":\"#FF6692\",\"size\":[14],\"sizemode\":\"area\",\"sizeref\":0.0628,\"symbol\":\"circle\"},\"mode\":\"markers\",\"name\":\"\\u043a\\u0440\\u0443\\u0436\\u043a\\u0430\",\"orientation\":\"v\",\"showlegend\":true,\"x\":[14],\"xaxis\":\"x\",\"y\":[90.0],\"yaxis\":\"y\",\"type\":\"scatter\"},{\"hovertemplate\":\"object_name=\\u0448\\u0442\\u043e\\u043b\\u043b\\u0435<br>\\u043a\\u043e\\u043b\\u0438\\u0447\\u0435\\u0441\\u0442\\u0432\\u043e \\u0437\\u0430\\u0432\\u0435\\u0434\\u0435\\u043d\\u0438\\u0439 \\u0432 \\u0441\\u0435\\u0442\\u0438=%{marker.size}<br>\\u0441\\u0440\\u0435\\u0434\\u043d\\u0435\\u0435 \\u0447\\u0438\\u0441\\u043b\\u043e \\u043f\\u043e\\u0441\\u0430\\u0434\\u043e\\u0447\\u043d\\u044b\\u0445 \\u043c\\u0435\\u0441\\u0442=%{y}<extra></extra>\",\"legendgroup\":\"\\u0448\\u0442\\u043e\\u043b\\u043b\\u0435\",\"marker\":{\"color\":\"#B6E880\",\"size\":[13],\"sizemode\":\"area\",\"sizeref\":0.0628,\"symbol\":\"circle\"},\"mode\":\"markers\",\"name\":\"\\u0448\\u0442\\u043e\\u043b\\u043b\\u0435\",\"orientation\":\"v\",\"showlegend\":true,\"x\":[13],\"xaxis\":\"x\",\"y\":[25.0],\"yaxis\":\"y\",\"type\":\"scatter\"},{\"hovertemplate\":\"object_name=\\u0441\\u0443\\u0448\\u0438 \\u0441\\u0435\\u0442<br>\\u043a\\u043e\\u043b\\u0438\\u0447\\u0435\\u0441\\u0442\\u0432\\u043e \\u0437\\u0430\\u0432\\u0435\\u0434\\u0435\\u043d\\u0438\\u0439 \\u0432 \\u0441\\u0435\\u0442\\u0438=%{marker.size}<br>\\u0441\\u0440\\u0435\\u0434\\u043d\\u0435\\u0435 \\u0447\\u0438\\u0441\\u043b\\u043e \\u043f\\u043e\\u0441\\u0430\\u0434\\u043e\\u0447\\u043d\\u044b\\u0445 \\u043c\\u0435\\u0441\\u0442=%{y}<extra></extra>\",\"legendgroup\":\"\\u0441\\u0443\\u0448\\u0438 \\u0441\\u0435\\u0442\",\"marker\":{\"color\":\"#FF97FF\",\"size\":[13],\"sizemode\":\"area\",\"sizeref\":0.0628,\"symbol\":\"circle\"},\"mode\":\"markers\",\"name\":\"\\u0441\\u0443\\u0448\\u0438 \\u0441\\u0435\\u0442\",\"orientation\":\"v\",\"showlegend\":true,\"x\":[13],\"xaxis\":\"x\",\"y\":[5.0],\"yaxis\":\"y\",\"type\":\"scatter\"},{\"hovertemplate\":\"object_name=\\u0441\\u0443\\u0448\\u0438 \\u0432\\u043e\\u043a<br>\\u043a\\u043e\\u043b\\u0438\\u0447\\u0435\\u0441\\u0442\\u0432\\u043e \\u0437\\u0430\\u0432\\u0435\\u0434\\u0435\\u043d\\u0438\\u0439 \\u0432 \\u0441\\u0435\\u0442\\u0438=%{marker.size}<br>\\u0441\\u0440\\u0435\\u0434\\u043d\\u0435\\u0435 \\u0447\\u0438\\u0441\\u043b\\u043e \\u043f\\u043e\\u0441\\u0430\\u0434\\u043e\\u0447\\u043d\\u044b\\u0445 \\u043c\\u0435\\u0441\\u0442=%{y}<extra></extra>\",\"legendgroup\":\"\\u0441\\u0443\\u0448\\u0438 \\u0432\\u043e\\u043a\",\"marker\":{\"color\":\"#FECB52\",\"size\":[13],\"sizemode\":\"area\",\"sizeref\":0.0628,\"symbol\":\"circle\"},\"mode\":\"markers\",\"name\":\"\\u0441\\u0443\\u0448\\u0438 \\u0432\\u043e\\u043a\",\"orientation\":\"v\",\"showlegend\":true,\"x\":[13],\"xaxis\":\"x\",\"y\":[6.0],\"yaxis\":\"y\",\"type\":\"scatter\"},{\"hovertemplate\":\"object_name=\\u0432\\u043e\\u043b\\u043a\\u043e\\u043d\\u0441\\u043a\\u0438\\u0439<br>\\u043a\\u043e\\u043b\\u0438\\u0447\\u0435\\u0441\\u0442\\u0432\\u043e \\u0437\\u0430\\u0432\\u0435\\u0434\\u0435\\u043d\\u0438\\u0439 \\u0432 \\u0441\\u0435\\u0442\\u0438=%{marker.size}<br>\\u0441\\u0440\\u0435\\u0434\\u043d\\u0435\\u0435 \\u0447\\u0438\\u0441\\u043b\\u043e \\u043f\\u043e\\u0441\\u0430\\u0434\\u043e\\u0447\\u043d\\u044b\\u0445 \\u043c\\u0435\\u0441\\u0442=%{y}<extra></extra>\",\"legendgroup\":\"\\u0432\\u043e\\u043b\\u043a\\u043e\\u043d\\u0441\\u043a\\u0438\\u0439\",\"marker\":{\"color\":\"#636efa\",\"size\":[12],\"sizemode\":\"area\",\"sizeref\":0.0628,\"symbol\":\"circle\"},\"mode\":\"markers\",\"name\":\"\\u0432\\u043e\\u043b\\u043a\\u043e\\u043d\\u0441\\u043a\\u0438\\u0439\",\"orientation\":\"v\",\"showlegend\":true,\"x\":[12],\"xaxis\":\"x\",\"y\":[17.0],\"yaxis\":\"y\",\"type\":\"scatter\"},{\"hovertemplate\":\"object_name=\\u0431\\u0430\\u0441\\u043a\\u0438\\u043d \\u0440\\u043e\\u0431\\u0431\\u0438\\u043d\\u0441<br>\\u043a\\u043e\\u043b\\u0438\\u0447\\u0435\\u0441\\u0442\\u0432\\u043e \\u0437\\u0430\\u0432\\u0435\\u0434\\u0435\\u043d\\u0438\\u0439 \\u0432 \\u0441\\u0435\\u0442\\u0438=%{marker.size}<br>\\u0441\\u0440\\u0435\\u0434\\u043d\\u0435\\u0435 \\u0447\\u0438\\u0441\\u043b\\u043e \\u043f\\u043e\\u0441\\u0430\\u0434\\u043e\\u0447\\u043d\\u044b\\u0445 \\u043c\\u0435\\u0441\\u0442=%{y}<extra></extra>\",\"legendgroup\":\"\\u0431\\u0430\\u0441\\u043a\\u0438\\u043d \\u0440\\u043e\\u0431\\u0431\\u0438\\u043d\\u0441\",\"marker\":{\"color\":\"#EF553B\",\"size\":[12],\"sizemode\":\"area\",\"sizeref\":0.0628,\"symbol\":\"circle\"},\"mode\":\"markers\",\"name\":\"\\u0431\\u0430\\u0441\\u043a\\u0438\\u043d \\u0440\\u043e\\u0431\\u0431\\u0438\\u043d\\u0441\",\"orientation\":\"v\",\"showlegend\":true,\"x\":[12],\"xaxis\":\"x\",\"y\":[2.5],\"yaxis\":\"y\",\"type\":\"scatter\"},{\"hovertemplate\":\"object_name=\\u043a\\u0430\\u0444\\u0435 \\u00abkfc\\u00bb<br>\\u043a\\u043e\\u043b\\u0438\\u0447\\u0435\\u0441\\u0442\\u0432\\u043e \\u0437\\u0430\\u0432\\u0435\\u0434\\u0435\\u043d\\u0438\\u0439 \\u0432 \\u0441\\u0435\\u0442\\u0438=%{marker.size}<br>\\u0441\\u0440\\u0435\\u0434\\u043d\\u0435\\u0435 \\u0447\\u0438\\u0441\\u043b\\u043e \\u043f\\u043e\\u0441\\u0430\\u0434\\u043e\\u0447\\u043d\\u044b\\u0445 \\u043c\\u0435\\u0441\\u0442=%{y}<extra></extra>\",\"legendgroup\":\"\\u043a\\u0430\\u0444\\u0435 \\u00abkfc\\u00bb\",\"marker\":{\"color\":\"#00cc96\",\"size\":[11],\"sizemode\":\"area\",\"sizeref\":0.0628,\"symbol\":\"circle\"},\"mode\":\"markers\",\"name\":\"\\u043a\\u0430\\u0444\\u0435 \\u00abkfc\\u00bb\",\"orientation\":\"v\",\"showlegend\":true,\"x\":[11],\"xaxis\":\"x\",\"y\":[60.0],\"yaxis\":\"y\",\"type\":\"scatter\"},{\"hovertemplate\":\"object_name=\\u0432\\u0430\\u0431\\u0438-\\u0441\\u0430\\u0431\\u0438<br>\\u043a\\u043e\\u043b\\u0438\\u0447\\u0435\\u0441\\u0442\\u0432\\u043e \\u0437\\u0430\\u0432\\u0435\\u0434\\u0435\\u043d\\u0438\\u0439 \\u0432 \\u0441\\u0435\\u0442\\u0438=%{marker.size}<br>\\u0441\\u0440\\u0435\\u0434\\u043d\\u0435\\u0435 \\u0447\\u0438\\u0441\\u043b\\u043e \\u043f\\u043e\\u0441\\u0430\\u0434\\u043e\\u0447\\u043d\\u044b\\u0445 \\u043c\\u0435\\u0441\\u0442=%{y}<extra></extra>\",\"legendgroup\":\"\\u0432\\u0430\\u0431\\u0438-\\u0441\\u0430\\u0431\\u0438\",\"marker\":{\"color\":\"#ab63fa\",\"size\":[11],\"sizemode\":\"area\",\"sizeref\":0.0628,\"symbol\":\"circle\"},\"mode\":\"markers\",\"name\":\"\\u0432\\u0430\\u0431\\u0438-\\u0441\\u0430\\u0431\\u0438\",\"orientation\":\"v\",\"showlegend\":true,\"x\":[11],\"xaxis\":\"x\",\"y\":[60.0],\"yaxis\":\"y\",\"type\":\"scatter\"},{\"hovertemplate\":\"object_name=\\u0440\\u0435\\u0441\\u0442\\u043e\\u0440\\u0430\\u043d \\u00ab\\u0442\\u0430\\u043d\\u0443\\u043a\\u0438\\u00bb<br>\\u043a\\u043e\\u043b\\u0438\\u0447\\u0435\\u0441\\u0442\\u0432\\u043e \\u0437\\u0430\\u0432\\u0435\\u0434\\u0435\\u043d\\u0438\\u0439 \\u0432 \\u0441\\u0435\\u0442\\u0438=%{marker.size}<br>\\u0441\\u0440\\u0435\\u0434\\u043d\\u0435\\u0435 \\u0447\\u0438\\u0441\\u043b\\u043e \\u043f\\u043e\\u0441\\u0430\\u0434\\u043e\\u0447\\u043d\\u044b\\u0445 \\u043c\\u0435\\u0441\\u0442=%{y}<extra></extra>\",\"legendgroup\":\"\\u0440\\u0435\\u0441\\u0442\\u043e\\u0440\\u0430\\u043d \\u00ab\\u0442\\u0430\\u043d\\u0443\\u043a\\u0438\\u00bb\",\"marker\":{\"color\":\"#FFA15A\",\"size\":[11],\"sizemode\":\"area\",\"sizeref\":0.0628,\"symbol\":\"circle\"},\"mode\":\"markers\",\"name\":\"\\u0440\\u0435\\u0441\\u0442\\u043e\\u0440\\u0430\\u043d \\u00ab\\u0442\\u0430\\u043d\\u0443\\u043a\\u0438\\u00bb\",\"orientation\":\"v\",\"showlegend\":true,\"x\":[11],\"xaxis\":\"x\",\"y\":[98.0],\"yaxis\":\"y\",\"type\":\"scatter\"},{\"hovertemplate\":\"object_name=\\u043f\\u0440\\u0430\\u0439\\u043c<br>\\u043a\\u043e\\u043b\\u0438\\u0447\\u0435\\u0441\\u0442\\u0432\\u043e \\u0437\\u0430\\u0432\\u0435\\u0434\\u0435\\u043d\\u0438\\u0439 \\u0432 \\u0441\\u0435\\u0442\\u0438=%{marker.size}<br>\\u0441\\u0440\\u0435\\u0434\\u043d\\u0435\\u0435 \\u0447\\u0438\\u0441\\u043b\\u043e \\u043f\\u043e\\u0441\\u0430\\u0434\\u043e\\u0447\\u043d\\u044b\\u0445 \\u043c\\u0435\\u0441\\u0442=%{y}<extra></extra>\",\"legendgroup\":\"\\u043f\\u0440\\u0430\\u0439\\u043c\",\"marker\":{\"color\":\"#19d3f3\",\"size\":[10],\"sizemode\":\"area\",\"sizeref\":0.0628,\"symbol\":\"circle\"},\"mode\":\"markers\",\"name\":\"\\u043f\\u0440\\u0430\\u0439\\u043c\",\"orientation\":\"v\",\"showlegend\":true,\"x\":[10],\"xaxis\":\"x\",\"y\":[33.5],\"yaxis\":\"y\",\"type\":\"scatter\"},{\"hovertemplate\":\"object_name=\\u043f\\u0438\\u0446\\u0446\\u0435\\u0440\\u0438\\u044f \\u00ab\\u043f\\u0430\\u043f\\u0430 \\u0434\\u0436\\u043e\\u043d\\u0441\\u00bb<br>\\u043a\\u043e\\u043b\\u0438\\u0447\\u0435\\u0441\\u0442\\u0432\\u043e \\u0437\\u0430\\u0432\\u0435\\u0434\\u0435\\u043d\\u0438\\u0439 \\u0432 \\u0441\\u0435\\u0442\\u0438=%{marker.size}<br>\\u0441\\u0440\\u0435\\u0434\\u043d\\u0435\\u0435 \\u0447\\u0438\\u0441\\u043b\\u043e \\u043f\\u043e\\u0441\\u0430\\u0434\\u043e\\u0447\\u043d\\u044b\\u0445 \\u043c\\u0435\\u0441\\u0442=%{y}<extra></extra>\",\"legendgroup\":\"\\u043f\\u0438\\u0446\\u0446\\u0435\\u0440\\u0438\\u044f \\u00ab\\u043f\\u0430\\u043f\\u0430 \\u0434\\u0436\\u043e\\u043d\\u0441\\u00bb\",\"marker\":{\"color\":\"#FF6692\",\"size\":[10],\"sizemode\":\"area\",\"sizeref\":0.0628,\"symbol\":\"circle\"},\"mode\":\"markers\",\"name\":\"\\u043f\\u0438\\u0446\\u0446\\u0435\\u0440\\u0438\\u044f \\u00ab\\u043f\\u0430\\u043f\\u0430 \\u0434\\u0436\\u043e\\u043d\\u0441\\u00bb\",\"orientation\":\"v\",\"showlegend\":true,\"x\":[10],\"xaxis\":\"x\",\"y\":[18.5],\"yaxis\":\"y\",\"type\":\"scatter\"},{\"hovertemplate\":\"object_name=\\u0432\\u0430\\u0440\\u0435\\u043d\\u0438\\u0447\\u043d\\u0430\\u044f \\u21161<br>\\u043a\\u043e\\u043b\\u0438\\u0447\\u0435\\u0441\\u0442\\u0432\\u043e \\u0437\\u0430\\u0432\\u0435\\u0434\\u0435\\u043d\\u0438\\u0439 \\u0432 \\u0441\\u0435\\u0442\\u0438=%{marker.size}<br>\\u0441\\u0440\\u0435\\u0434\\u043d\\u0435\\u0435 \\u0447\\u0438\\u0441\\u043b\\u043e \\u043f\\u043e\\u0441\\u0430\\u0434\\u043e\\u0447\\u043d\\u044b\\u0445 \\u043c\\u0435\\u0441\\u0442=%{y}<extra></extra>\",\"legendgroup\":\"\\u0432\\u0430\\u0440\\u0435\\u043d\\u0438\\u0447\\u043d\\u0430\\u044f \\u21161\",\"marker\":{\"color\":\"#B6E880\",\"size\":[10],\"sizemode\":\"area\",\"sizeref\":0.0628,\"symbol\":\"circle\"},\"mode\":\"markers\",\"name\":\"\\u0432\\u0430\\u0440\\u0435\\u043d\\u0438\\u0447\\u043d\\u0430\\u044f \\u21161\",\"orientation\":\"v\",\"showlegend\":true,\"x\":[10],\"xaxis\":\"x\",\"y\":[75.0],\"yaxis\":\"y\",\"type\":\"scatter\"},{\"hovertemplate\":\"object_name=\\u0434\\u0436\\u043e\\u043d \\u0434\\u0436\\u043e\\u043b\\u0438<br>\\u043a\\u043e\\u043b\\u0438\\u0447\\u0435\\u0441\\u0442\\u0432\\u043e \\u0437\\u0430\\u0432\\u0435\\u0434\\u0435\\u043d\\u0438\\u0439 \\u0432 \\u0441\\u0435\\u0442\\u0438=%{marker.size}<br>\\u0441\\u0440\\u0435\\u0434\\u043d\\u0435\\u0435 \\u0447\\u0438\\u0441\\u043b\\u043e \\u043f\\u043e\\u0441\\u0430\\u0434\\u043e\\u0447\\u043d\\u044b\\u0445 \\u043c\\u0435\\u0441\\u0442=%{y}<extra></extra>\",\"legendgroup\":\"\\u0434\\u0436\\u043e\\u043d \\u0434\\u0436\\u043e\\u043b\\u0438\",\"marker\":{\"color\":\"#FF97FF\",\"size\":[10],\"sizemode\":\"area\",\"sizeref\":0.0628,\"symbol\":\"circle\"},\"mode\":\"markers\",\"name\":\"\\u0434\\u0436\\u043e\\u043d \\u0434\\u0436\\u043e\\u043b\\u0438\",\"orientation\":\"v\",\"showlegend\":true,\"x\":[10],\"xaxis\":\"x\",\"y\":[96.0],\"yaxis\":\"y\",\"type\":\"scatter\"},{\"hovertemplate\":\"object_name=\\u0433\\u0440\\u0430\\u0431\\u043b\\u0438<br>\\u043a\\u043e\\u043b\\u0438\\u0447\\u0435\\u0441\\u0442\\u0432\\u043e \\u0437\\u0430\\u0432\\u0435\\u0434\\u0435\\u043d\\u0438\\u0439 \\u0432 \\u0441\\u0435\\u0442\\u0438=%{marker.size}<br>\\u0441\\u0440\\u0435\\u0434\\u043d\\u0435\\u0435 \\u0447\\u0438\\u0441\\u043b\\u043e \\u043f\\u043e\\u0441\\u0430\\u0434\\u043e\\u0447\\u043d\\u044b\\u0445 \\u043c\\u0435\\u0441\\u0442=%{y}<extra></extra>\",\"legendgroup\":\"\\u0433\\u0440\\u0430\\u0431\\u043b\\u0438\",\"marker\":{\"color\":\"#FECB52\",\"size\":[10],\"sizemode\":\"area\",\"sizeref\":0.0628,\"symbol\":\"circle\"},\"mode\":\"markers\",\"name\":\"\\u0433\\u0440\\u0430\\u0431\\u043b\\u0438\",\"orientation\":\"v\",\"showlegend\":true,\"x\":[10],\"xaxis\":\"x\",\"y\":[110.0],\"yaxis\":\"y\",\"type\":\"scatter\"},{\"hovertemplate\":\"object_name=\\u043f\\u0438\\u0446\\u0446\\u0430 \\u044d\\u043a\\u0441\\u043f\\u0440\\u0435\\u0441\\u0441<br>\\u043a\\u043e\\u043b\\u0438\\u0447\\u0435\\u0441\\u0442\\u0432\\u043e \\u0437\\u0430\\u0432\\u0435\\u0434\\u0435\\u043d\\u0438\\u0439 \\u0432 \\u0441\\u0435\\u0442\\u0438=%{marker.size}<br>\\u0441\\u0440\\u0435\\u0434\\u043d\\u0435\\u0435 \\u0447\\u0438\\u0441\\u043b\\u043e \\u043f\\u043e\\u0441\\u0430\\u0434\\u043e\\u0447\\u043d\\u044b\\u0445 \\u043c\\u0435\\u0441\\u0442=%{y}<extra></extra>\",\"legendgroup\":\"\\u043f\\u0438\\u0446\\u0446\\u0430 \\u044d\\u043a\\u0441\\u043f\\u0440\\u0435\\u0441\\u0441\",\"marker\":{\"color\":\"#636efa\",\"size\":[9],\"sizemode\":\"area\",\"sizeref\":0.0628,\"symbol\":\"circle\"},\"mode\":\"markers\",\"name\":\"\\u043f\\u0438\\u0446\\u0446\\u0430 \\u044d\\u043a\\u0441\\u043f\\u0440\\u0435\\u0441\\u0441\",\"orientation\":\"v\",\"showlegend\":true,\"x\":[9],\"xaxis\":\"x\",\"y\":[20.0],\"yaxis\":\"y\",\"type\":\"scatter\"},{\"hovertemplate\":\"object_name=\\u0442\\u043e \\u0434\\u0430 \\u0441\\u0451<br>\\u043a\\u043e\\u043b\\u0438\\u0447\\u0435\\u0441\\u0442\\u0432\\u043e \\u0437\\u0430\\u0432\\u0435\\u0434\\u0435\\u043d\\u0438\\u0439 \\u0432 \\u0441\\u0435\\u0442\\u0438=%{marker.size}<br>\\u0441\\u0440\\u0435\\u0434\\u043d\\u0435\\u0435 \\u0447\\u0438\\u0441\\u043b\\u043e \\u043f\\u043e\\u0441\\u0430\\u0434\\u043e\\u0447\\u043d\\u044b\\u0445 \\u043c\\u0435\\u0441\\u0442=%{y}<extra></extra>\",\"legendgroup\":\"\\u0442\\u043e \\u0434\\u0430 \\u0441\\u0451\",\"marker\":{\"color\":\"#EF553B\",\"size\":[9],\"sizemode\":\"area\",\"sizeref\":0.0628,\"symbol\":\"circle\"},\"mode\":\"markers\",\"name\":\"\\u0442\\u043e \\u0434\\u0430 \\u0441\\u0451\",\"orientation\":\"v\",\"showlegend\":true,\"x\":[9],\"xaxis\":\"x\",\"y\":[90.0],\"yaxis\":\"y\",\"type\":\"scatter\"},{\"hovertemplate\":\"object_name=\\u043a\\u043e\\u0440\\u0447\\u043c\\u0430 \\u0442\\u0430\\u0440\\u0430\\u0441 \\u0431\\u0443\\u043b\\u044c\\u0431\\u0430<br>\\u043a\\u043e\\u043b\\u0438\\u0447\\u0435\\u0441\\u0442\\u0432\\u043e \\u0437\\u0430\\u0432\\u0435\\u0434\\u0435\\u043d\\u0438\\u0439 \\u0432 \\u0441\\u0435\\u0442\\u0438=%{marker.size}<br>\\u0441\\u0440\\u0435\\u0434\\u043d\\u0435\\u0435 \\u0447\\u0438\\u0441\\u043b\\u043e \\u043f\\u043e\\u0441\\u0430\\u0434\\u043e\\u0447\\u043d\\u044b\\u0445 \\u043c\\u0435\\u0441\\u0442=%{y}<extra></extra>\",\"legendgroup\":\"\\u043a\\u043e\\u0440\\u0447\\u043c\\u0430 \\u0442\\u0430\\u0440\\u0430\\u0441 \\u0431\\u0443\\u043b\\u044c\\u0431\\u0430\",\"marker\":{\"color\":\"#00cc96\",\"size\":[9],\"sizemode\":\"area\",\"sizeref\":0.0628,\"symbol\":\"circle\"},\"mode\":\"markers\",\"name\":\"\\u043a\\u043e\\u0440\\u0447\\u043c\\u0430 \\u0442\\u0430\\u0440\\u0430\\u0441 \\u0431\\u0443\\u043b\\u044c\\u0431\\u0430\",\"orientation\":\"v\",\"showlegend\":true,\"x\":[9],\"xaxis\":\"x\",\"y\":[110.0],\"yaxis\":\"y\",\"type\":\"scatter\"},{\"hovertemplate\":\"object_name=\\u0432\\u043e\\u043a\\u043a\\u0435\\u0440<br>\\u043a\\u043e\\u043b\\u0438\\u0447\\u0435\\u0441\\u0442\\u0432\\u043e \\u0437\\u0430\\u0432\\u0435\\u0434\\u0435\\u043d\\u0438\\u0439 \\u0432 \\u0441\\u0435\\u0442\\u0438=%{marker.size}<br>\\u0441\\u0440\\u0435\\u0434\\u043d\\u0435\\u0435 \\u0447\\u0438\\u0441\\u043b\\u043e \\u043f\\u043e\\u0441\\u0430\\u0434\\u043e\\u0447\\u043d\\u044b\\u0445 \\u043c\\u0435\\u0441\\u0442=%{y}<extra></extra>\",\"legendgroup\":\"\\u0432\\u043e\\u043a\\u043a\\u0435\\u0440\",\"marker\":{\"color\":\"#ab63fa\",\"size\":[9],\"sizemode\":\"area\",\"sizeref\":0.0628,\"symbol\":\"circle\"},\"mode\":\"markers\",\"name\":\"\\u0432\\u043e\\u043a\\u043a\\u0435\\u0440\",\"orientation\":\"v\",\"showlegend\":true,\"x\":[9],\"xaxis\":\"x\",\"y\":[30.0],\"yaxis\":\"y\",\"type\":\"scatter\"},{\"hovertemplate\":\"object_name=\\u0444\\u0440\\u0430\\u043d\\u0446\\u0443\\u0437\\u0441\\u043a\\u0430\\u044f \\u0432\\u044b\\u043f\\u0435\\u0447\\u043a\\u0430<br>\\u043a\\u043e\\u043b\\u0438\\u0447\\u0435\\u0441\\u0442\\u0432\\u043e \\u0437\\u0430\\u0432\\u0435\\u0434\\u0435\\u043d\\u0438\\u0439 \\u0432 \\u0441\\u0435\\u0442\\u0438=%{marker.size}<br>\\u0441\\u0440\\u0435\\u0434\\u043d\\u0435\\u0435 \\u0447\\u0438\\u0441\\u043b\\u043e \\u043f\\u043e\\u0441\\u0430\\u0434\\u043e\\u0447\\u043d\\u044b\\u0445 \\u043c\\u0435\\u0441\\u0442=%{y}<extra></extra>\",\"legendgroup\":\"\\u0444\\u0440\\u0430\\u043d\\u0446\\u0443\\u0437\\u0441\\u043a\\u0430\\u044f \\u0432\\u044b\\u043f\\u0435\\u0447\\u043a\\u0430\",\"marker\":{\"color\":\"#FFA15A\",\"size\":[9],\"sizemode\":\"area\",\"sizeref\":0.0628,\"symbol\":\"circle\"},\"mode\":\"markers\",\"name\":\"\\u0444\\u0440\\u0430\\u043d\\u0446\\u0443\\u0437\\u0441\\u043a\\u0430\\u044f \\u0432\\u044b\\u043f\\u0435\\u0447\\u043a\\u0430\",\"orientation\":\"v\",\"showlegend\":true,\"x\":[9],\"xaxis\":\"x\",\"y\":[24.0],\"yaxis\":\"y\",\"type\":\"scatter\"},{\"hovertemplate\":\"object_name=\\u043a\\u0430\\u0444\\u0435 \\u00ab\\u0442\\u0435\\u0440\\u0435\\u043c\\u043e\\u043a\\u00bb<br>\\u043a\\u043e\\u043b\\u0438\\u0447\\u0435\\u0441\\u0442\\u0432\\u043e \\u0437\\u0430\\u0432\\u0435\\u0434\\u0435\\u043d\\u0438\\u0439 \\u0432 \\u0441\\u0435\\u0442\\u0438=%{marker.size}<br>\\u0441\\u0440\\u0435\\u0434\\u043d\\u0435\\u0435 \\u0447\\u0438\\u0441\\u043b\\u043e \\u043f\\u043e\\u0441\\u0430\\u0434\\u043e\\u0447\\u043d\\u044b\\u0445 \\u043c\\u0435\\u0441\\u0442=%{y}<extra></extra>\",\"legendgroup\":\"\\u043a\\u0430\\u0444\\u0435 \\u00ab\\u0442\\u0435\\u0440\\u0435\\u043c\\u043e\\u043a\\u00bb\",\"marker\":{\"color\":\"#19d3f3\",\"size\":[9],\"sizemode\":\"area\",\"sizeref\":0.0628,\"symbol\":\"circle\"},\"mode\":\"markers\",\"name\":\"\\u043a\\u0430\\u0444\\u0435 \\u00ab\\u0442\\u0435\\u0440\\u0435\\u043c\\u043e\\u043a\\u00bb\",\"orientation\":\"v\",\"showlegend\":true,\"x\":[9],\"xaxis\":\"x\",\"y\":[40.0],\"yaxis\":\"y\",\"type\":\"scatter\"},{\"hovertemplate\":\"object_name=\\u0431\\u0440\\u0430\\u0442\\u044c\\u044f \\u043a\\u0430\\u0440\\u0430\\u0432\\u0430\\u0435\\u0432\\u044b<br>\\u043a\\u043e\\u043b\\u0438\\u0447\\u0435\\u0441\\u0442\\u0432\\u043e \\u0437\\u0430\\u0432\\u0435\\u0434\\u0435\\u043d\\u0438\\u0439 \\u0432 \\u0441\\u0435\\u0442\\u0438=%{marker.size}<br>\\u0441\\u0440\\u0435\\u0434\\u043d\\u0435\\u0435 \\u0447\\u0438\\u0441\\u043b\\u043e \\u043f\\u043e\\u0441\\u0430\\u0434\\u043e\\u0447\\u043d\\u044b\\u0445 \\u043c\\u0435\\u0441\\u0442=%{y}<extra></extra>\",\"legendgroup\":\"\\u0431\\u0440\\u0430\\u0442\\u044c\\u044f \\u043a\\u0430\\u0440\\u0430\\u0432\\u0430\\u0435\\u0432\\u044b\",\"marker\":{\"color\":\"#FF6692\",\"size\":[9],\"sizemode\":\"area\",\"sizeref\":0.0628,\"symbol\":\"circle\"},\"mode\":\"markers\",\"name\":\"\\u0431\\u0440\\u0430\\u0442\\u044c\\u044f \\u043a\\u0430\\u0440\\u0430\\u0432\\u0430\\u0435\\u0432\\u044b\",\"orientation\":\"v\",\"showlegend\":true,\"x\":[9],\"xaxis\":\"x\",\"y\":[25.0],\"yaxis\":\"y\",\"type\":\"scatter\"},{\"hovertemplate\":\"object_name=\\u0438\\u043b\\u044c \\u043f\\u0430\\u0442\\u0438\\u043e \\u043f\\u043b\\u0430\\u043d\\u0435\\u0442\\u0430 \\u0441\\u0443\\u0448\\u0438<br>\\u043a\\u043e\\u043b\\u0438\\u0447\\u0435\\u0441\\u0442\\u0432\\u043e \\u0437\\u0430\\u0432\\u0435\\u0434\\u0435\\u043d\\u0438\\u0439 \\u0432 \\u0441\\u0435\\u0442\\u0438=%{marker.size}<br>\\u0441\\u0440\\u0435\\u0434\\u043d\\u0435\\u0435 \\u0447\\u0438\\u0441\\u043b\\u043e \\u043f\\u043e\\u0441\\u0430\\u0434\\u043e\\u0447\\u043d\\u044b\\u0445 \\u043c\\u0435\\u0441\\u0442=%{y}<extra></extra>\",\"legendgroup\":\"\\u0438\\u043b\\u044c \\u043f\\u0430\\u0442\\u0438\\u043e \\u043f\\u043b\\u0430\\u043d\\u0435\\u0442\\u0430 \\u0441\\u0443\\u0448\\u0438\",\"marker\":{\"color\":\"#B6E880\",\"size\":[9],\"sizemode\":\"area\",\"sizeref\":0.0628,\"symbol\":\"circle\"},\"mode\":\"markers\",\"name\":\"\\u0438\\u043b\\u044c \\u043f\\u0430\\u0442\\u0438\\u043e \\u043f\\u043b\\u0430\\u043d\\u0435\\u0442\\u0430 \\u0441\\u0443\\u0448\\u0438\",\"orientation\":\"v\",\"showlegend\":true,\"x\":[9],\"xaxis\":\"x\",\"y\":[90.0],\"yaxis\":\"y\",\"type\":\"scatter\"},{\"hovertemplate\":\"object_name=\\u0440\\u043e\\u0441\\u0442\\u0438\\u043a\\u0441 kfc<br>\\u043a\\u043e\\u043b\\u0438\\u0447\\u0435\\u0441\\u0442\\u0432\\u043e \\u0437\\u0430\\u0432\\u0435\\u0434\\u0435\\u043d\\u0438\\u0439 \\u0432 \\u0441\\u0435\\u0442\\u0438=%{marker.size}<br>\\u0441\\u0440\\u0435\\u0434\\u043d\\u0435\\u0435 \\u0447\\u0438\\u0441\\u043b\\u043e \\u043f\\u043e\\u0441\\u0430\\u0434\\u043e\\u0447\\u043d\\u044b\\u0445 \\u043c\\u0435\\u0441\\u0442=%{y}<extra></extra>\",\"legendgroup\":\"\\u0440\\u043e\\u0441\\u0442\\u0438\\u043a\\u0441 kfc\",\"marker\":{\"color\":\"#FF97FF\",\"size\":[8],\"sizemode\":\"area\",\"sizeref\":0.0628,\"symbol\":\"circle\"},\"mode\":\"markers\",\"name\":\"\\u0440\\u043e\\u0441\\u0442\\u0438\\u043a\\u0441 kfc\",\"orientation\":\"v\",\"showlegend\":true,\"x\":[8],\"xaxis\":\"x\",\"y\":[65.0],\"yaxis\":\"y\",\"type\":\"scatter\"},{\"hovertemplate\":\"object_name=\\u0431\\u0440\\u0443\\u0441\\u043d\\u0438\\u043a\\u0430<br>\\u043a\\u043e\\u043b\\u0438\\u0447\\u0435\\u0441\\u0442\\u0432\\u043e \\u0437\\u0430\\u0432\\u0435\\u0434\\u0435\\u043d\\u0438\\u0439 \\u0432 \\u0441\\u0435\\u0442\\u0438=%{marker.size}<br>\\u0441\\u0440\\u0435\\u0434\\u043d\\u0435\\u0435 \\u0447\\u0438\\u0441\\u043b\\u043e \\u043f\\u043e\\u0441\\u0430\\u0434\\u043e\\u0447\\u043d\\u044b\\u0445 \\u043c\\u0435\\u0441\\u0442=%{y}<extra></extra>\",\"legendgroup\":\"\\u0431\\u0440\\u0443\\u0441\\u043d\\u0438\\u043a\\u0430\",\"marker\":{\"color\":\"#FECB52\",\"size\":[8],\"sizemode\":\"area\",\"sizeref\":0.0628,\"symbol\":\"circle\"},\"mode\":\"markers\",\"name\":\"\\u0431\\u0440\\u0443\\u0441\\u043d\\u0438\\u043a\\u0430\",\"orientation\":\"v\",\"showlegend\":true,\"x\":[8],\"xaxis\":\"x\",\"y\":[33.0],\"yaxis\":\"y\",\"type\":\"scatter\"},{\"hovertemplate\":\"object_name=\\u0440\\u0435\\u0441\\u0442\\u043e\\u0440\\u0430\\u043d \\u00ab\\u043c\\u0430\\u043a\\u0434\\u043e\\u043d\\u0430\\u043b\\u0434\\u0441\\u00bb<br>\\u043a\\u043e\\u043b\\u0438\\u0447\\u0435\\u0441\\u0442\\u0432\\u043e \\u0437\\u0430\\u0432\\u0435\\u0434\\u0435\\u043d\\u0438\\u0439 \\u0432 \\u0441\\u0435\\u0442\\u0438=%{marker.size}<br>\\u0441\\u0440\\u0435\\u0434\\u043d\\u0435\\u0435 \\u0447\\u0438\\u0441\\u043b\\u043e \\u043f\\u043e\\u0441\\u0430\\u0434\\u043e\\u0447\\u043d\\u044b\\u0445 \\u043c\\u0435\\u0441\\u0442=%{y}<extra></extra>\",\"legendgroup\":\"\\u0440\\u0435\\u0441\\u0442\\u043e\\u0440\\u0430\\u043d \\u00ab\\u043c\\u0430\\u043a\\u0434\\u043e\\u043d\\u0430\\u043b\\u0434\\u0441\\u00bb\",\"marker\":{\"color\":\"#636efa\",\"size\":[8],\"sizemode\":\"area\",\"sizeref\":0.0628,\"symbol\":\"circle\"},\"mode\":\"markers\",\"name\":\"\\u0440\\u0435\\u0441\\u0442\\u043e\\u0440\\u0430\\u043d \\u00ab\\u043c\\u0430\\u043a\\u0434\\u043e\\u043d\\u0430\\u043b\\u0434\\u0441\\u00bb\",\"orientation\":\"v\",\"showlegend\":true,\"x\":[8],\"xaxis\":\"x\",\"y\":[121.0],\"yaxis\":\"y\",\"type\":\"scatter\"},{\"hovertemplate\":\"object_name=\\u043a\\u043e\\u043b\\u0431\\u0430\\u0441\\u043e\\u0444\\u0444<br>\\u043a\\u043e\\u043b\\u0438\\u0447\\u0435\\u0441\\u0442\\u0432\\u043e \\u0437\\u0430\\u0432\\u0435\\u0434\\u0435\\u043d\\u0438\\u0439 \\u0432 \\u0441\\u0435\\u0442\\u0438=%{marker.size}<br>\\u0441\\u0440\\u0435\\u0434\\u043d\\u0435\\u0435 \\u0447\\u0438\\u0441\\u043b\\u043e \\u043f\\u043e\\u0441\\u0430\\u0434\\u043e\\u0447\\u043d\\u044b\\u0445 \\u043c\\u0435\\u0441\\u0442=%{y}<extra></extra>\",\"legendgroup\":\"\\u043a\\u043e\\u043b\\u0431\\u0430\\u0441\\u043e\\u0444\\u0444\",\"marker\":{\"color\":\"#EF553B\",\"size\":[7],\"sizemode\":\"area\",\"sizeref\":0.0628,\"symbol\":\"circle\"},\"mode\":\"markers\",\"name\":\"\\u043a\\u043e\\u043b\\u0431\\u0430\\u0441\\u043e\\u0444\\u0444\",\"orientation\":\"v\",\"showlegend\":true,\"x\":[7],\"xaxis\":\"x\",\"y\":[150.0],\"yaxis\":\"y\",\"type\":\"scatter\"},{\"hovertemplate\":\"object_name=\\u0430\\u0437\\u0431\\u0443\\u043a\\u0430 \\u0432\\u043a\\u0443\\u0441\\u0430<br>\\u043a\\u043e\\u043b\\u0438\\u0447\\u0435\\u0441\\u0442\\u0432\\u043e \\u0437\\u0430\\u0432\\u0435\\u0434\\u0435\\u043d\\u0438\\u0439 \\u0432 \\u0441\\u0435\\u0442\\u0438=%{marker.size}<br>\\u0441\\u0440\\u0435\\u0434\\u043d\\u0435\\u0435 \\u0447\\u0438\\u0441\\u043b\\u043e \\u043f\\u043e\\u0441\\u0430\\u0434\\u043e\\u0447\\u043d\\u044b\\u0445 \\u043c\\u0435\\u0441\\u0442=%{y}<extra></extra>\",\"legendgroup\":\"\\u0430\\u0437\\u0431\\u0443\\u043a\\u0430 \\u0432\\u043a\\u0443\\u0441\\u0430\",\"marker\":{\"color\":\"#00cc96\",\"size\":[7],\"sizemode\":\"area\",\"sizeref\":0.0628,\"symbol\":\"circle\"},\"mode\":\"markers\",\"name\":\"\\u0430\\u0437\\u0431\\u0443\\u043a\\u0430 \\u0432\\u043a\\u0443\\u0441\\u0430\",\"orientation\":\"v\",\"showlegend\":true,\"x\":[7],\"xaxis\":\"x\",\"y\":[10.0],\"yaxis\":\"y\",\"type\":\"scatter\"},{\"hovertemplate\":\"object_name=\\u0443\\u0440\\u044e\\u043a<br>\\u043a\\u043e\\u043b\\u0438\\u0447\\u0435\\u0441\\u0442\\u0432\\u043e \\u0437\\u0430\\u0432\\u0435\\u0434\\u0435\\u043d\\u0438\\u0439 \\u0432 \\u0441\\u0435\\u0442\\u0438=%{marker.size}<br>\\u0441\\u0440\\u0435\\u0434\\u043d\\u0435\\u0435 \\u0447\\u0438\\u0441\\u043b\\u043e \\u043f\\u043e\\u0441\\u0430\\u0434\\u043e\\u0447\\u043d\\u044b\\u0445 \\u043c\\u0435\\u0441\\u0442=%{y}<extra></extra>\",\"legendgroup\":\"\\u0443\\u0440\\u044e\\u043a\",\"marker\":{\"color\":\"#ab63fa\",\"size\":[7],\"sizemode\":\"area\",\"sizeref\":0.0628,\"symbol\":\"circle\"},\"mode\":\"markers\",\"name\":\"\\u0443\\u0440\\u044e\\u043a\",\"orientation\":\"v\",\"showlegend\":true,\"x\":[7],\"xaxis\":\"x\",\"y\":[160.0],\"yaxis\":\"y\",\"type\":\"scatter\"},{\"hovertemplate\":\"object_name=\\u0431\\u0443\\u0440\\u0433\\u0435\\u0440 \\u043a\\u0438\\u043d\\u0433 burger king<br>\\u043a\\u043e\\u043b\\u0438\\u0447\\u0435\\u0441\\u0442\\u0432\\u043e \\u0437\\u0430\\u0432\\u0435\\u0434\\u0435\\u043d\\u0438\\u0439 \\u0432 \\u0441\\u0435\\u0442\\u0438=%{marker.size}<br>\\u0441\\u0440\\u0435\\u0434\\u043d\\u0435\\u0435 \\u0447\\u0438\\u0441\\u043b\\u043e \\u043f\\u043e\\u0441\\u0430\\u0434\\u043e\\u0447\\u043d\\u044b\\u0445 \\u043c\\u0435\\u0441\\u0442=%{y}<extra></extra>\",\"legendgroup\":\"\\u0431\\u0443\\u0440\\u0433\\u0435\\u0440 \\u043a\\u0438\\u043d\\u0433 burger king\",\"marker\":{\"color\":\"#FFA15A\",\"size\":[7],\"sizemode\":\"area\",\"sizeref\":0.0628,\"symbol\":\"circle\"},\"mode\":\"markers\",\"name\":\"\\u0431\\u0443\\u0440\\u0433\\u0435\\u0440 \\u043a\\u0438\\u043d\\u0433 burger king\",\"orientation\":\"v\",\"showlegend\":true,\"x\":[7],\"xaxis\":\"x\",\"y\":[75.0],\"yaxis\":\"y\",\"type\":\"scatter\"},{\"hovertemplate\":\"object_name=\\u0442\\u0430\\u0448\\u0438\\u0440 \\u043f\\u0438\\u0446\\u0446\\u0430<br>\\u043a\\u043e\\u043b\\u0438\\u0447\\u0435\\u0441\\u0442\\u0432\\u043e \\u0437\\u0430\\u0432\\u0435\\u0434\\u0435\\u043d\\u0438\\u0439 \\u0432 \\u0441\\u0435\\u0442\\u0438=%{marker.size}<br>\\u0441\\u0440\\u0435\\u0434\\u043d\\u0435\\u0435 \\u0447\\u0438\\u0441\\u043b\\u043e \\u043f\\u043e\\u0441\\u0430\\u0434\\u043e\\u0447\\u043d\\u044b\\u0445 \\u043c\\u0435\\u0441\\u0442=%{y}<extra></extra>\",\"legendgroup\":\"\\u0442\\u0430\\u0448\\u0438\\u0440 \\u043f\\u0438\\u0446\\u0446\\u0430\",\"marker\":{\"color\":\"#19d3f3\",\"size\":[7],\"sizemode\":\"area\",\"sizeref\":0.0628,\"symbol\":\"circle\"},\"mode\":\"markers\",\"name\":\"\\u0442\\u0430\\u0448\\u0438\\u0440 \\u043f\\u0438\\u0446\\u0446\\u0430\",\"orientation\":\"v\",\"showlegend\":true,\"x\":[7],\"xaxis\":\"x\",\"y\":[6.0],\"yaxis\":\"y\",\"type\":\"scatter\"},{\"hovertemplate\":\"object_name=\\u043f\\u0440\\u0430\\u0439\\u043c-\\u043a\\u0430\\u0444\\u0435<br>\\u043a\\u043e\\u043b\\u0438\\u0447\\u0435\\u0441\\u0442\\u0432\\u043e \\u0437\\u0430\\u0432\\u0435\\u0434\\u0435\\u043d\\u0438\\u0439 \\u0432 \\u0441\\u0435\\u0442\\u0438=%{marker.size}<br>\\u0441\\u0440\\u0435\\u0434\\u043d\\u0435\\u0435 \\u0447\\u0438\\u0441\\u043b\\u043e \\u043f\\u043e\\u0441\\u0430\\u0434\\u043e\\u0447\\u043d\\u044b\\u0445 \\u043c\\u0435\\u0441\\u0442=%{y}<extra></extra>\",\"legendgroup\":\"\\u043f\\u0440\\u0430\\u0439\\u043c-\\u043a\\u0430\\u0444\\u0435\",\"marker\":{\"color\":\"#FF6692\",\"size\":[7],\"sizemode\":\"area\",\"sizeref\":0.0628,\"symbol\":\"circle\"},\"mode\":\"markers\",\"name\":\"\\u043f\\u0440\\u0430\\u0439\\u043c-\\u043a\\u0430\\u0444\\u0435\",\"orientation\":\"v\",\"showlegend\":true,\"x\":[7],\"xaxis\":\"x\",\"y\":[36.0],\"yaxis\":\"y\",\"type\":\"scatter\"},{\"hovertemplate\":\"object_name=krispy creme<br>\\u043a\\u043e\\u043b\\u0438\\u0447\\u0435\\u0441\\u0442\\u0432\\u043e \\u0437\\u0430\\u0432\\u0435\\u0434\\u0435\\u043d\\u0438\\u0439 \\u0432 \\u0441\\u0435\\u0442\\u0438=%{marker.size}<br>\\u0441\\u0440\\u0435\\u0434\\u043d\\u0435\\u0435 \\u0447\\u0438\\u0441\\u043b\\u043e \\u043f\\u043e\\u0441\\u0430\\u0434\\u043e\\u0447\\u043d\\u044b\\u0445 \\u043c\\u0435\\u0441\\u0442=%{y}<extra></extra>\",\"legendgroup\":\"krispy creme\",\"marker\":{\"color\":\"#B6E880\",\"size\":[7],\"sizemode\":\"area\",\"sizeref\":0.0628,\"symbol\":\"circle\"},\"mode\":\"markers\",\"name\":\"krispy creme\",\"orientation\":\"v\",\"showlegend\":true,\"x\":[7],\"xaxis\":\"x\",\"y\":[27.0],\"yaxis\":\"y\",\"type\":\"scatter\"},{\"hovertemplate\":\"object_name=\\u0434\\u0436\\u0430\\u0433\\u0430\\u043d\\u043d\\u0430\\u0442<br>\\u043a\\u043e\\u043b\\u0438\\u0447\\u0435\\u0441\\u0442\\u0432\\u043e \\u0437\\u0430\\u0432\\u0435\\u0434\\u0435\\u043d\\u0438\\u0439 \\u0432 \\u0441\\u0435\\u0442\\u0438=%{marker.size}<br>\\u0441\\u0440\\u0435\\u0434\\u043d\\u0435\\u0435 \\u0447\\u0438\\u0441\\u043b\\u043e \\u043f\\u043e\\u0441\\u0430\\u0434\\u043e\\u0447\\u043d\\u044b\\u0445 \\u043c\\u0435\\u0441\\u0442=%{y}<extra></extra>\",\"legendgroup\":\"\\u0434\\u0436\\u0430\\u0433\\u0430\\u043d\\u043d\\u0430\\u0442\",\"marker\":{\"color\":\"#FF97FF\",\"size\":[7],\"sizemode\":\"area\",\"sizeref\":0.0628,\"symbol\":\"circle\"},\"mode\":\"markers\",\"name\":\"\\u0434\\u0436\\u0430\\u0433\\u0430\\u043d\\u043d\\u0430\\u0442\",\"orientation\":\"v\",\"showlegend\":true,\"x\":[7],\"xaxis\":\"x\",\"y\":[45.0],\"yaxis\":\"y\",\"type\":\"scatter\"},{\"hovertemplate\":\"object_name=\\u043c\\u0430\\u043a\\u0438-\\u043c\\u0430\\u043a\\u0438<br>\\u043a\\u043e\\u043b\\u0438\\u0447\\u0435\\u0441\\u0442\\u0432\\u043e \\u0437\\u0430\\u0432\\u0435\\u0434\\u0435\\u043d\\u0438\\u0439 \\u0432 \\u0441\\u0435\\u0442\\u0438=%{marker.size}<br>\\u0441\\u0440\\u0435\\u0434\\u043d\\u0435\\u0435 \\u0447\\u0438\\u0441\\u043b\\u043e \\u043f\\u043e\\u0441\\u0430\\u0434\\u043e\\u0447\\u043d\\u044b\\u0445 \\u043c\\u0435\\u0441\\u0442=%{y}<extra></extra>\",\"legendgroup\":\"\\u043c\\u0430\\u043a\\u0438-\\u043c\\u0430\\u043a\\u0438\",\"marker\":{\"color\":\"#FECB52\",\"size\":[6],\"sizemode\":\"area\",\"sizeref\":0.0628,\"symbol\":\"circle\"},\"mode\":\"markers\",\"name\":\"\\u043c\\u0430\\u043a\\u0438-\\u043c\\u0430\\u043a\\u0438\",\"orientation\":\"v\",\"showlegend\":true,\"x\":[6],\"xaxis\":\"x\",\"y\":[70.0],\"yaxis\":\"y\",\"type\":\"scatter\"},{\"hovertemplate\":\"object_name=\\u0447\\u0435\\u0431\\u0443\\u0440\\u0435\\u0447\\u043d\\u0430\\u044f \\u0441\\u0441\\u0441\\u0440<br>\\u043a\\u043e\\u043b\\u0438\\u0447\\u0435\\u0441\\u0442\\u0432\\u043e \\u0437\\u0430\\u0432\\u0435\\u0434\\u0435\\u043d\\u0438\\u0439 \\u0432 \\u0441\\u0435\\u0442\\u0438=%{marker.size}<br>\\u0441\\u0440\\u0435\\u0434\\u043d\\u0435\\u0435 \\u0447\\u0438\\u0441\\u043b\\u043e \\u043f\\u043e\\u0441\\u0430\\u0434\\u043e\\u0447\\u043d\\u044b\\u0445 \\u043c\\u0435\\u0441\\u0442=%{y}<extra></extra>\",\"legendgroup\":\"\\u0447\\u0435\\u0431\\u0443\\u0440\\u0435\\u0447\\u043d\\u0430\\u044f \\u0441\\u0441\\u0441\\u0440\",\"marker\":{\"color\":\"#636efa\",\"size\":[6],\"sizemode\":\"area\",\"sizeref\":0.0628,\"symbol\":\"circle\"},\"mode\":\"markers\",\"name\":\"\\u0447\\u0435\\u0431\\u0443\\u0440\\u0435\\u0447\\u043d\\u0430\\u044f \\u0441\\u0441\\u0441\\u0440\",\"orientation\":\"v\",\"showlegend\":true,\"x\":[6],\"xaxis\":\"x\",\"y\":[49.5],\"yaxis\":\"y\",\"type\":\"scatter\"},{\"hovertemplate\":\"object_name=\\u043d\\u0438\\u044f\\u043c\\u0430<br>\\u043a\\u043e\\u043b\\u0438\\u0447\\u0435\\u0441\\u0442\\u0432\\u043e \\u0437\\u0430\\u0432\\u0435\\u0434\\u0435\\u043d\\u0438\\u0439 \\u0432 \\u0441\\u0435\\u0442\\u0438=%{marker.size}<br>\\u0441\\u0440\\u0435\\u0434\\u043d\\u0435\\u0435 \\u0447\\u0438\\u0441\\u043b\\u043e \\u043f\\u043e\\u0441\\u0430\\u0434\\u043e\\u0447\\u043d\\u044b\\u0445 \\u043c\\u0435\\u0441\\u0442=%{y}<extra></extra>\",\"legendgroup\":\"\\u043d\\u0438\\u044f\\u043c\\u0430\",\"marker\":{\"color\":\"#EF553B\",\"size\":[6],\"sizemode\":\"area\",\"sizeref\":0.0628,\"symbol\":\"circle\"},\"mode\":\"markers\",\"name\":\"\\u043d\\u0438\\u044f\\u043c\\u0430\",\"orientation\":\"v\",\"showlegend\":true,\"x\":[6],\"xaxis\":\"x\",\"y\":[84.0],\"yaxis\":\"y\",\"type\":\"scatter\"},{\"hovertemplate\":\"object_name=\\u043a\\u0430\\u0444\\u0435 \\u00ab\\u043c\\u0443-\\u043c\\u0443\\u00bb<br>\\u043a\\u043e\\u043b\\u0438\\u0447\\u0435\\u0441\\u0442\\u0432\\u043e \\u0437\\u0430\\u0432\\u0435\\u0434\\u0435\\u043d\\u0438\\u0439 \\u0432 \\u0441\\u0435\\u0442\\u0438=%{marker.size}<br>\\u0441\\u0440\\u0435\\u0434\\u043d\\u0435\\u0435 \\u0447\\u0438\\u0441\\u043b\\u043e \\u043f\\u043e\\u0441\\u0430\\u0434\\u043e\\u0447\\u043d\\u044b\\u0445 \\u043c\\u0435\\u0441\\u0442=%{y}<extra></extra>\",\"legendgroup\":\"\\u043a\\u0430\\u0444\\u0435 \\u00ab\\u043c\\u0443-\\u043c\\u0443\\u00bb\",\"marker\":{\"color\":\"#00cc96\",\"size\":[6],\"sizemode\":\"area\",\"sizeref\":0.0628,\"symbol\":\"circle\"},\"mode\":\"markers\",\"name\":\"\\u043a\\u0430\\u0444\\u0435 \\u00ab\\u043c\\u0443-\\u043c\\u0443\\u00bb\",\"orientation\":\"v\",\"showlegend\":true,\"x\":[6],\"xaxis\":\"x\",\"y\":[165.0],\"yaxis\":\"y\",\"type\":\"scatter\"},{\"hovertemplate\":\"object_name=dunkin donuts<br>\\u043a\\u043e\\u043b\\u0438\\u0447\\u0435\\u0441\\u0442\\u0432\\u043e \\u0437\\u0430\\u0432\\u0435\\u0434\\u0435\\u043d\\u0438\\u0439 \\u0432 \\u0441\\u0435\\u0442\\u0438=%{marker.size}<br>\\u0441\\u0440\\u0435\\u0434\\u043d\\u0435\\u0435 \\u0447\\u0438\\u0441\\u043b\\u043e \\u043f\\u043e\\u0441\\u0430\\u0434\\u043e\\u0447\\u043d\\u044b\\u0445 \\u043c\\u0435\\u0441\\u0442=%{y}<extra></extra>\",\"legendgroup\":\"dunkin donuts\",\"marker\":{\"color\":\"#ab63fa\",\"size\":[6],\"sizemode\":\"area\",\"sizeref\":0.0628,\"symbol\":\"circle\"},\"mode\":\"markers\",\"name\":\"dunkin donuts\",\"orientation\":\"v\",\"showlegend\":true,\"x\":[6],\"xaxis\":\"x\",\"y\":[10.0],\"yaxis\":\"y\",\"type\":\"scatter\"},{\"hovertemplate\":\"object_name=\\u0440\\u0443\\u043a\\u043a\\u043e\\u043b\\u0430<br>\\u043a\\u043e\\u043b\\u0438\\u0447\\u0435\\u0441\\u0442\\u0432\\u043e \\u0437\\u0430\\u0432\\u0435\\u0434\\u0435\\u043d\\u0438\\u0439 \\u0432 \\u0441\\u0435\\u0442\\u0438=%{marker.size}<br>\\u0441\\u0440\\u0435\\u0434\\u043d\\u0435\\u0435 \\u0447\\u0438\\u0441\\u043b\\u043e \\u043f\\u043e\\u0441\\u0430\\u0434\\u043e\\u0447\\u043d\\u044b\\u0445 \\u043c\\u0435\\u0441\\u0442=%{y}<extra></extra>\",\"legendgroup\":\"\\u0440\\u0443\\u043a\\u043a\\u043e\\u043b\\u0430\",\"marker\":{\"color\":\"#FFA15A\",\"size\":[6],\"sizemode\":\"area\",\"sizeref\":0.0628,\"symbol\":\"circle\"},\"mode\":\"markers\",\"name\":\"\\u0440\\u0443\\u043a\\u043a\\u043e\\u043b\\u0430\",\"orientation\":\"v\",\"showlegend\":true,\"x\":[6],\"xaxis\":\"x\",\"y\":[103.5],\"yaxis\":\"y\",\"type\":\"scatter\"},{\"hovertemplate\":\"object_name=\\u043f\\u0440\\u0430\\u0432d\\u0430 \\u043a\\u043e\\u0444\\u0435<br>\\u043a\\u043e\\u043b\\u0438\\u0447\\u0435\\u0441\\u0442\\u0432\\u043e \\u0437\\u0430\\u0432\\u0435\\u0434\\u0435\\u043d\\u0438\\u0439 \\u0432 \\u0441\\u0435\\u0442\\u0438=%{marker.size}<br>\\u0441\\u0440\\u0435\\u0434\\u043d\\u0435\\u0435 \\u0447\\u0438\\u0441\\u043b\\u043e \\u043f\\u043e\\u0441\\u0430\\u0434\\u043e\\u0447\\u043d\\u044b\\u0445 \\u043c\\u0435\\u0441\\u0442=%{y}<extra></extra>\",\"legendgroup\":\"\\u043f\\u0440\\u0430\\u0432d\\u0430 \\u043a\\u043e\\u0444\\u0435\",\"marker\":{\"color\":\"#19d3f3\",\"size\":[6],\"sizemode\":\"area\",\"sizeref\":0.0628,\"symbol\":\"circle\"},\"mode\":\"markers\",\"name\":\"\\u043f\\u0440\\u0430\\u0432d\\u0430 \\u043a\\u043e\\u0444\\u0435\",\"orientation\":\"v\",\"showlegend\":true,\"x\":[6],\"xaxis\":\"x\",\"y\":[3.5],\"yaxis\":\"y\",\"type\":\"scatter\"},{\"hovertemplate\":\"object_name=\\u043c\\u0438\\u043c\\u0438\\u043d\\u043e<br>\\u043a\\u043e\\u043b\\u0438\\u0447\\u0435\\u0441\\u0442\\u0432\\u043e \\u0437\\u0430\\u0432\\u0435\\u0434\\u0435\\u043d\\u0438\\u0439 \\u0432 \\u0441\\u0435\\u0442\\u0438=%{marker.size}<br>\\u0441\\u0440\\u0435\\u0434\\u043d\\u0435\\u0435 \\u0447\\u0438\\u0441\\u043b\\u043e \\u043f\\u043e\\u0441\\u0430\\u0434\\u043e\\u0447\\u043d\\u044b\\u0445 \\u043c\\u0435\\u0441\\u0442=%{y}<extra></extra>\",\"legendgroup\":\"\\u043c\\u0438\\u043c\\u0438\\u043d\\u043e\",\"marker\":{\"color\":\"#FF6692\",\"size\":[6],\"sizemode\":\"area\",\"sizeref\":0.0628,\"symbol\":\"circle\"},\"mode\":\"markers\",\"name\":\"\\u043c\\u0438\\u043c\\u0438\\u043d\\u043e\",\"orientation\":\"v\",\"showlegend\":true,\"x\":[6],\"xaxis\":\"x\",\"y\":[54.0],\"yaxis\":\"y\",\"type\":\"scatter\"},{\"hovertemplate\":\"object_name=\\u043c\\u0435\\u043d\\u0437\\u0430<br>\\u043a\\u043e\\u043b\\u0438\\u0447\\u0435\\u0441\\u0442\\u0432\\u043e \\u0437\\u0430\\u0432\\u0435\\u0434\\u0435\\u043d\\u0438\\u0439 \\u0432 \\u0441\\u0435\\u0442\\u0438=%{marker.size}<br>\\u0441\\u0440\\u0435\\u0434\\u043d\\u0435\\u0435 \\u0447\\u0438\\u0441\\u043b\\u043e \\u043f\\u043e\\u0441\\u0430\\u0434\\u043e\\u0447\\u043d\\u044b\\u0445 \\u043c\\u0435\\u0441\\u0442=%{y}<extra></extra>\",\"legendgroup\":\"\\u043c\\u0435\\u043d\\u0437\\u0430\",\"marker\":{\"color\":\"#B6E880\",\"size\":[6],\"sizemode\":\"area\",\"sizeref\":0.0628,\"symbol\":\"circle\"},\"mode\":\"markers\",\"name\":\"\\u043c\\u0435\\u043d\\u0437\\u0430\",\"orientation\":\"v\",\"showlegend\":true,\"x\":[6],\"xaxis\":\"x\",\"y\":[58.0],\"yaxis\":\"y\",\"type\":\"scatter\"},{\"hovertemplate\":\"object_name=\\u0448\\u0430\\u043d\\u0442\\u0438\\u043c\\u0435\\u043b\\u044c<br>\\u043a\\u043e\\u043b\\u0438\\u0447\\u0435\\u0441\\u0442\\u0432\\u043e \\u0437\\u0430\\u0432\\u0435\\u0434\\u0435\\u043d\\u0438\\u0439 \\u0432 \\u0441\\u0435\\u0442\\u0438=%{marker.size}<br>\\u0441\\u0440\\u0435\\u0434\\u043d\\u0435\\u0435 \\u0447\\u0438\\u0441\\u043b\\u043e \\u043f\\u043e\\u0441\\u0430\\u0434\\u043e\\u0447\\u043d\\u044b\\u0445 \\u043c\\u0435\\u0441\\u0442=%{y}<extra></extra>\",\"legendgroup\":\"\\u0448\\u0430\\u043d\\u0442\\u0438\\u043c\\u0435\\u043b\\u044c\",\"marker\":{\"color\":\"#FF97FF\",\"size\":[6],\"sizemode\":\"area\",\"sizeref\":0.0628,\"symbol\":\"circle\"},\"mode\":\"markers\",\"name\":\"\\u0448\\u0430\\u043d\\u0442\\u0438\\u043c\\u0435\\u043b\\u044c\",\"orientation\":\"v\",\"showlegend\":true,\"x\":[6],\"xaxis\":\"x\",\"y\":[17.0],\"yaxis\":\"y\",\"type\":\"scatter\"},{\"hovertemplate\":\"object_name=\\u0432\\u044c\\u0435\\u0442\\u043a\\u0430\\u0444\\u0435<br>\\u043a\\u043e\\u043b\\u0438\\u0447\\u0435\\u0441\\u0442\\u0432\\u043e \\u0437\\u0430\\u0432\\u0435\\u0434\\u0435\\u043d\\u0438\\u0439 \\u0432 \\u0441\\u0435\\u0442\\u0438=%{marker.size}<br>\\u0441\\u0440\\u0435\\u0434\\u043d\\u0435\\u0435 \\u0447\\u0438\\u0441\\u043b\\u043e \\u043f\\u043e\\u0441\\u0430\\u0434\\u043e\\u0447\\u043d\\u044b\\u0445 \\u043c\\u0435\\u0441\\u0442=%{y}<extra></extra>\",\"legendgroup\":\"\\u0432\\u044c\\u0435\\u0442\\u043a\\u0430\\u0444\\u0435\",\"marker\":{\"color\":\"#FECB52\",\"size\":[6],\"sizemode\":\"area\",\"sizeref\":0.0628,\"symbol\":\"circle\"},\"mode\":\"markers\",\"name\":\"\\u0432\\u044c\\u0435\\u0442\\u043a\\u0430\\u0444\\u0435\",\"orientation\":\"v\",\"showlegend\":true,\"x\":[6],\"xaxis\":\"x\",\"y\":[50.0],\"yaxis\":\"y\",\"type\":\"scatter\"},{\"hovertemplate\":\"object_name=\\u0433\\u0430\\u043c\\u0431\\u0440\\u0438\\u043d\\u0443\\u0441<br>\\u043a\\u043e\\u043b\\u0438\\u0447\\u0435\\u0441\\u0442\\u0432\\u043e \\u0437\\u0430\\u0432\\u0435\\u0434\\u0435\\u043d\\u0438\\u0439 \\u0432 \\u0441\\u0435\\u0442\\u0438=%{marker.size}<br>\\u0441\\u0440\\u0435\\u0434\\u043d\\u0435\\u0435 \\u0447\\u0438\\u0441\\u043b\\u043e \\u043f\\u043e\\u0441\\u0430\\u0434\\u043e\\u0447\\u043d\\u044b\\u0445 \\u043c\\u0435\\u0441\\u0442=%{y}<extra></extra>\",\"legendgroup\":\"\\u0433\\u0430\\u043c\\u0431\\u0440\\u0438\\u043d\\u0443\\u0441\",\"marker\":{\"color\":\"#636efa\",\"size\":[6],\"sizemode\":\"area\",\"sizeref\":0.0628,\"symbol\":\"circle\"},\"mode\":\"markers\",\"name\":\"\\u0433\\u0430\\u043c\\u0431\\u0440\\u0438\\u043d\\u0443\\u0441\",\"orientation\":\"v\",\"showlegend\":true,\"x\":[6],\"xaxis\":\"x\",\"y\":[75.0],\"yaxis\":\"y\",\"type\":\"scatter\"},{\"hovertemplate\":\"object_name=\\u0442\\u0438\\u0440\\u043e\\u043b\\u044c\\u0441\\u043a\\u0438\\u0435 \\u043f\\u0438\\u0440\\u043e\\u0433\\u0438<br>\\u043a\\u043e\\u043b\\u0438\\u0447\\u0435\\u0441\\u0442\\u0432\\u043e \\u0437\\u0430\\u0432\\u0435\\u0434\\u0435\\u043d\\u0438\\u0439 \\u0432 \\u0441\\u0435\\u0442\\u0438=%{marker.size}<br>\\u0441\\u0440\\u0435\\u0434\\u043d\\u0435\\u0435 \\u0447\\u0438\\u0441\\u043b\\u043e \\u043f\\u043e\\u0441\\u0430\\u0434\\u043e\\u0447\\u043d\\u044b\\u0445 \\u043c\\u0435\\u0441\\u0442=%{y}<extra></extra>\",\"legendgroup\":\"\\u0442\\u0438\\u0440\\u043e\\u043b\\u044c\\u0441\\u043a\\u0438\\u0435 \\u043f\\u0438\\u0440\\u043e\\u0433\\u0438\",\"marker\":{\"color\":\"#EF553B\",\"size\":[6],\"sizemode\":\"area\",\"sizeref\":0.0628,\"symbol\":\"circle\"},\"mode\":\"markers\",\"name\":\"\\u0442\\u0438\\u0440\\u043e\\u043b\\u044c\\u0441\\u043a\\u0438\\u0435 \\u043f\\u0438\\u0440\\u043e\\u0433\\u0438\",\"orientation\":\"v\",\"showlegend\":true,\"x\":[6],\"xaxis\":\"x\",\"y\":[18.0],\"yaxis\":\"y\",\"type\":\"scatter\"},{\"hovertemplate\":\"object_name=\\u043f\\u0440\\u0435\\u0434\\u043f\\u0440\\u0438\\u044f\\u0442\\u0438\\u0435 \\u0431\\u044b\\u0441\\u0442\\u0440\\u043e\\u0433\\u043e \\u043e\\u0431\\u0441\\u043b\\u0443\\u0436\\u0438\\u0432\\u0430\\u043d\\u0438\\u044f \\u00ab\\u043c\\u0430\\u043a\\u0434\\u043e\\u043d\\u0430\\u043b\\u0434\\u0441\\u00bb<br>\\u043a\\u043e\\u043b\\u0438\\u0447\\u0435\\u0441\\u0442\\u0432\\u043e \\u0437\\u0430\\u0432\\u0435\\u0434\\u0435\\u043d\\u0438\\u0439 \\u0432 \\u0441\\u0435\\u0442\\u0438=%{marker.size}<br>\\u0441\\u0440\\u0435\\u0434\\u043d\\u0435\\u0435 \\u0447\\u0438\\u0441\\u043b\\u043e \\u043f\\u043e\\u0441\\u0430\\u0434\\u043e\\u0447\\u043d\\u044b\\u0445 \\u043c\\u0435\\u0441\\u0442=%{y}<extra></extra>\",\"legendgroup\":\"\\u043f\\u0440\\u0435\\u0434\\u043f\\u0440\\u0438\\u044f\\u0442\\u0438\\u0435 \\u0431\\u044b\\u0441\\u0442\\u0440\\u043e\\u0433\\u043e \\u043e\\u0431\\u0441\\u043b\\u0443\\u0436\\u0438\\u0432\\u0430\\u043d\\u0438\\u044f \\u00ab\\u043c\\u0430\\u043a\\u0434\\u043e\\u043d\\u0430\\u043b\\u0434\\u0441\\u00bb\",\"marker\":{\"color\":\"#00cc96\",\"size\":[6],\"sizemode\":\"area\",\"sizeref\":0.0628,\"symbol\":\"circle\"},\"mode\":\"markers\",\"name\":\"\\u043f\\u0440\\u0435\\u0434\\u043f\\u0440\\u0438\\u044f\\u0442\\u0438\\u0435 \\u0431\\u044b\\u0441\\u0442\\u0440\\u043e\\u0433\\u043e \\u043e\\u0431\\u0441\\u043b\\u0443\\u0436\\u0438\\u0432\\u0430\\u043d\\u0438\\u044f \\u00ab\\u043c\\u0430\\u043a\\u0434\\u043e\\u043d\\u0430\\u043b\\u0434\\u0441\\u00bb\",\"orientation\":\"v\",\"showlegend\":true,\"x\":[6],\"xaxis\":\"x\",\"y\":[46.0],\"yaxis\":\"y\",\"type\":\"scatter\"},{\"hovertemplate\":\"object_name=\\u043a\\u0430\\u0444\\u0435 \\u00ab\\u0430\\u043d\\u0434\\u0435\\u0440\\u0441\\u043e\\u043d\\u00bb<br>\\u043a\\u043e\\u043b\\u0438\\u0447\\u0435\\u0441\\u0442\\u0432\\u043e \\u0437\\u0430\\u0432\\u0435\\u0434\\u0435\\u043d\\u0438\\u0439 \\u0432 \\u0441\\u0435\\u0442\\u0438=%{marker.size}<br>\\u0441\\u0440\\u0435\\u0434\\u043d\\u0435\\u0435 \\u0447\\u0438\\u0441\\u043b\\u043e \\u043f\\u043e\\u0441\\u0430\\u0434\\u043e\\u0447\\u043d\\u044b\\u0445 \\u043c\\u0435\\u0441\\u0442=%{y}<extra></extra>\",\"legendgroup\":\"\\u043a\\u0430\\u0444\\u0435 \\u00ab\\u0430\\u043d\\u0434\\u0435\\u0440\\u0441\\u043e\\u043d\\u00bb\",\"marker\":{\"color\":\"#ab63fa\",\"size\":[6],\"sizemode\":\"area\",\"sizeref\":0.0628,\"symbol\":\"circle\"},\"mode\":\"markers\",\"name\":\"\\u043a\\u0430\\u0444\\u0435 \\u00ab\\u0430\\u043d\\u0434\\u0435\\u0440\\u0441\\u043e\\u043d\\u00bb\",\"orientation\":\"v\",\"showlegend\":true,\"x\":[6],\"xaxis\":\"x\",\"y\":[91.5],\"yaxis\":\"y\",\"type\":\"scatter\"},{\"hovertemplate\":\"object_name=\\u0441\\u0438\\u0442\\u0438 \\u043f\\u0438\\u0446\\u0446\\u0430<br>\\u043a\\u043e\\u043b\\u0438\\u0447\\u0435\\u0441\\u0442\\u0432\\u043e \\u0437\\u0430\\u0432\\u0435\\u0434\\u0435\\u043d\\u0438\\u0439 \\u0432 \\u0441\\u0435\\u0442\\u0438=%{marker.size}<br>\\u0441\\u0440\\u0435\\u0434\\u043d\\u0435\\u0435 \\u0447\\u0438\\u0441\\u043b\\u043e \\u043f\\u043e\\u0441\\u0430\\u0434\\u043e\\u0447\\u043d\\u044b\\u0445 \\u043c\\u0435\\u0441\\u0442=%{y}<extra></extra>\",\"legendgroup\":\"\\u0441\\u0438\\u0442\\u0438 \\u043f\\u0438\\u0446\\u0446\\u0430\",\"marker\":{\"color\":\"#FFA15A\",\"size\":[6],\"sizemode\":\"area\",\"sizeref\":0.0628,\"symbol\":\"circle\"},\"mode\":\"markers\",\"name\":\"\\u0441\\u0438\\u0442\\u0438 \\u043f\\u0438\\u0446\\u0446\\u0430\",\"orientation\":\"v\",\"showlegend\":true,\"x\":[6],\"xaxis\":\"x\",\"y\":[12.0],\"yaxis\":\"y\",\"type\":\"scatter\"},{\"hovertemplate\":\"object_name=\\u0434\\u0432\\u0435 \\u043f\\u0430\\u043b\\u043e\\u0447\\u043a\\u0438<br>\\u043a\\u043e\\u043b\\u0438\\u0447\\u0435\\u0441\\u0442\\u0432\\u043e \\u0437\\u0430\\u0432\\u0435\\u0434\\u0435\\u043d\\u0438\\u0439 \\u0432 \\u0441\\u0435\\u0442\\u0438=%{marker.size}<br>\\u0441\\u0440\\u0435\\u0434\\u043d\\u0435\\u0435 \\u0447\\u0438\\u0441\\u043b\\u043e \\u043f\\u043e\\u0441\\u0430\\u0434\\u043e\\u0447\\u043d\\u044b\\u0445 \\u043c\\u0435\\u0441\\u0442=%{y}<extra></extra>\",\"legendgroup\":\"\\u0434\\u0432\\u0435 \\u043f\\u0430\\u043b\\u043e\\u0447\\u043a\\u0438\",\"marker\":{\"color\":\"#19d3f3\",\"size\":[6],\"sizemode\":\"area\",\"sizeref\":0.0628,\"symbol\":\"circle\"},\"mode\":\"markers\",\"name\":\"\\u0434\\u0432\\u0435 \\u043f\\u0430\\u043b\\u043e\\u0447\\u043a\\u0438\",\"orientation\":\"v\",\"showlegend\":true,\"x\":[6],\"xaxis\":\"x\",\"y\":[115.0],\"yaxis\":\"y\",\"type\":\"scatter\"},{\"hovertemplate\":\"object_name=\\u043a\\u043e\\u0444\\u0435\\u0439\\u043d\\u044f \\u00ab\\u0448\\u043e\\u043a\\u043e\\u043b\\u0430\\u0434\\u043d\\u0438\\u0446\\u0430\\u00bb<br>\\u043a\\u043e\\u043b\\u0438\\u0447\\u0435\\u0441\\u0442\\u0432\\u043e \\u0437\\u0430\\u0432\\u0435\\u0434\\u0435\\u043d\\u0438\\u0439 \\u0432 \\u0441\\u0435\\u0442\\u0438=%{marker.size}<br>\\u0441\\u0440\\u0435\\u0434\\u043d\\u0435\\u0435 \\u0447\\u0438\\u0441\\u043b\\u043e \\u043f\\u043e\\u0441\\u0430\\u0434\\u043e\\u0447\\u043d\\u044b\\u0445 \\u043c\\u0435\\u0441\\u0442=%{y}<extra></extra>\",\"legendgroup\":\"\\u043a\\u043e\\u0444\\u0435\\u0439\\u043d\\u044f \\u00ab\\u0448\\u043e\\u043a\\u043e\\u043b\\u0430\\u0434\\u043d\\u0438\\u0446\\u0430\\u00bb\",\"marker\":{\"color\":\"#FF6692\",\"size\":[6],\"sizemode\":\"area\",\"sizeref\":0.0628,\"symbol\":\"circle\"},\"mode\":\"markers\",\"name\":\"\\u043a\\u043e\\u0444\\u0435\\u0439\\u043d\\u044f \\u00ab\\u0448\\u043e\\u043a\\u043e\\u043b\\u0430\\u0434\\u043d\\u0438\\u0446\\u0430\\u00bb\",\"orientation\":\"v\",\"showlegend\":true,\"x\":[6],\"xaxis\":\"x\",\"y\":[57.5],\"yaxis\":\"y\",\"type\":\"scatter\"},{\"hovertemplate\":\"object_name=\\u043a\\u0430\\u0444\\u0435 \\u00ab\\u044f\\u043a\\u0438\\u0442\\u043e\\u0440\\u0438\\u044f\\u00bb<br>\\u043a\\u043e\\u043b\\u0438\\u0447\\u0435\\u0441\\u0442\\u0432\\u043e \\u0437\\u0430\\u0432\\u0435\\u0434\\u0435\\u043d\\u0438\\u0439 \\u0432 \\u0441\\u0435\\u0442\\u0438=%{marker.size}<br>\\u0441\\u0440\\u0435\\u0434\\u043d\\u0435\\u0435 \\u0447\\u0438\\u0441\\u043b\\u043e \\u043f\\u043e\\u0441\\u0430\\u0434\\u043e\\u0447\\u043d\\u044b\\u0445 \\u043c\\u0435\\u0441\\u0442=%{y}<extra></extra>\",\"legendgroup\":\"\\u043a\\u0430\\u0444\\u0435 \\u00ab\\u044f\\u043a\\u0438\\u0442\\u043e\\u0440\\u0438\\u044f\\u00bb\",\"marker\":{\"color\":\"#B6E880\",\"size\":[6],\"sizemode\":\"area\",\"sizeref\":0.0628,\"symbol\":\"circle\"},\"mode\":\"markers\",\"name\":\"\\u043a\\u0430\\u0444\\u0435 \\u00ab\\u044f\\u043a\\u0438\\u0442\\u043e\\u0440\\u0438\\u044f\\u00bb\",\"orientation\":\"v\",\"showlegend\":true,\"x\":[6],\"xaxis\":\"x\",\"y\":[103.5],\"yaxis\":\"y\",\"type\":\"scatter\"},{\"hovertemplate\":\"object_name=\\u043a\\u0443\\u043b\\u0438\\u043d\\u0430\\u0440\\u043d\\u0430\\u044f \\u043b\\u0430\\u0432\\u043a\\u0430 \\u0431\\u0440\\u0430\\u0442\\u044c\\u0435\\u0432 \\u043a\\u0430\\u0440\\u0430\\u0432\\u0430\\u0435\\u0432\\u044b\\u0445 \\u0431\\u0440\\u0430\\u0442\\u044c\\u044f \\u043a\\u0430\\u0440\\u0430\\u0432\\u0430\\u0435\\u0432\\u044b<br>\\u043a\\u043e\\u043b\\u0438\\u0447\\u0435\\u0441\\u0442\\u0432\\u043e \\u0437\\u0430\\u0432\\u0435\\u0434\\u0435\\u043d\\u0438\\u0439 \\u0432 \\u0441\\u0435\\u0442\\u0438=%{marker.size}<br>\\u0441\\u0440\\u0435\\u0434\\u043d\\u0435\\u0435 \\u0447\\u0438\\u0441\\u043b\\u043e \\u043f\\u043e\\u0441\\u0430\\u0434\\u043e\\u0447\\u043d\\u044b\\u0445 \\u043c\\u0435\\u0441\\u0442=%{y}<extra></extra>\",\"legendgroup\":\"\\u043a\\u0443\\u043b\\u0438\\u043d\\u0430\\u0440\\u043d\\u0430\\u044f \\u043b\\u0430\\u0432\\u043a\\u0430 \\u0431\\u0440\\u0430\\u0442\\u044c\\u0435\\u0432 \\u043a\\u0430\\u0440\\u0430\\u0432\\u0430\\u0435\\u0432\\u044b\\u0445 \\u0431\\u0440\\u0430\\u0442\\u044c\\u044f \\u043a\\u0430\\u0440\\u0430\\u0432\\u0430\\u0435\\u0432\\u044b\",\"marker\":{\"color\":\"#FF97FF\",\"size\":[6],\"sizemode\":\"area\",\"sizeref\":0.0628,\"symbol\":\"circle\"},\"mode\":\"markers\",\"name\":\"\\u043a\\u0443\\u043b\\u0438\\u043d\\u0430\\u0440\\u043d\\u0430\\u044f \\u043b\\u0430\\u0432\\u043a\\u0430 \\u0431\\u0440\\u0430\\u0442\\u044c\\u0435\\u0432 \\u043a\\u0430\\u0440\\u0430\\u0432\\u0430\\u0435\\u0432\\u044b\\u0445 \\u0431\\u0440\\u0430\\u0442\\u044c\\u044f \\u043a\\u0430\\u0440\\u0430\\u0432\\u0430\\u0435\\u0432\\u044b\",\"orientation\":\"v\",\"showlegend\":true,\"x\":[6],\"xaxis\":\"x\",\"y\":[47.5],\"yaxis\":\"y\",\"type\":\"scatter\"},{\"hovertemplate\":\"object_name=\\u0434\\u0430\\u0431\\u043b \\u0431\\u0438<br>\\u043a\\u043e\\u043b\\u0438\\u0447\\u0435\\u0441\\u0442\\u0432\\u043e \\u0437\\u0430\\u0432\\u0435\\u0434\\u0435\\u043d\\u0438\\u0439 \\u0432 \\u0441\\u0435\\u0442\\u0438=%{marker.size}<br>\\u0441\\u0440\\u0435\\u0434\\u043d\\u0435\\u0435 \\u0447\\u0438\\u0441\\u043b\\u043e \\u043f\\u043e\\u0441\\u0430\\u0434\\u043e\\u0447\\u043d\\u044b\\u0445 \\u043c\\u0435\\u0441\\u0442=%{y}<extra></extra>\",\"legendgroup\":\"\\u0434\\u0430\\u0431\\u043b \\u0431\\u0438\",\"marker\":{\"color\":\"#FECB52\",\"size\":[6],\"sizemode\":\"area\",\"sizeref\":0.0628,\"symbol\":\"circle\"},\"mode\":\"markers\",\"name\":\"\\u0434\\u0430\\u0431\\u043b \\u0431\\u0438\",\"orientation\":\"v\",\"showlegend\":true,\"x\":[6],\"xaxis\":\"x\",\"y\":[17.5],\"yaxis\":\"y\",\"type\":\"scatter\"},{\"hovertemplate\":\"object_name=\\u043b\\u0438\\u0432\\u0430\\u043d-\\u0445\\u0430\\u0443\\u0441<br>\\u043a\\u043e\\u043b\\u0438\\u0447\\u0435\\u0441\\u0442\\u0432\\u043e \\u0437\\u0430\\u0432\\u0435\\u0434\\u0435\\u043d\\u0438\\u0439 \\u0432 \\u0441\\u0435\\u0442\\u0438=%{marker.size}<br>\\u0441\\u0440\\u0435\\u0434\\u043d\\u0435\\u0435 \\u0447\\u0438\\u0441\\u043b\\u043e \\u043f\\u043e\\u0441\\u0430\\u0434\\u043e\\u0447\\u043d\\u044b\\u0445 \\u043c\\u0435\\u0441\\u0442=%{y}<extra></extra>\",\"legendgroup\":\"\\u043b\\u0438\\u0432\\u0430\\u043d-\\u0445\\u0430\\u0443\\u0441\",\"marker\":{\"color\":\"#636efa\",\"size\":[6],\"sizemode\":\"area\",\"sizeref\":0.0628,\"symbol\":\"circle\"},\"mode\":\"markers\",\"name\":\"\\u043b\\u0438\\u0432\\u0430\\u043d-\\u0445\\u0430\\u0443\\u0441\",\"orientation\":\"v\",\"showlegend\":true,\"x\":[6],\"xaxis\":\"x\",\"y\":[16.0],\"yaxis\":\"y\",\"type\":\"scatter\"},{\"hovertemplate\":\"object_name=\\u0430\\u043a\\u0430\\u0434\\u0435\\u043c\\u0438\\u044f<br>\\u043a\\u043e\\u043b\\u0438\\u0447\\u0435\\u0441\\u0442\\u0432\\u043e \\u0437\\u0430\\u0432\\u0435\\u0434\\u0435\\u043d\\u0438\\u0439 \\u0432 \\u0441\\u0435\\u0442\\u0438=%{marker.size}<br>\\u0441\\u0440\\u0435\\u0434\\u043d\\u0435\\u0435 \\u0447\\u0438\\u0441\\u043b\\u043e \\u043f\\u043e\\u0441\\u0430\\u0434\\u043e\\u0447\\u043d\\u044b\\u0445 \\u043c\\u0435\\u0441\\u0442=%{y}<extra></extra>\",\"legendgroup\":\"\\u0430\\u043a\\u0430\\u0434\\u0435\\u043c\\u0438\\u044f\",\"marker\":{\"color\":\"#EF553B\",\"size\":[6],\"sizemode\":\"area\",\"sizeref\":0.0628,\"symbol\":\"circle\"},\"mode\":\"markers\",\"name\":\"\\u0430\\u043a\\u0430\\u0434\\u0435\\u043c\\u0438\\u044f\",\"orientation\":\"v\",\"showlegend\":true,\"x\":[6],\"xaxis\":\"x\",\"y\":[55.0],\"yaxis\":\"y\",\"type\":\"scatter\"},{\"hovertemplate\":\"object_name=\\u043f\\u0430\\u043d\\u0447\\u043e \\u043f\\u0438\\u0446\\u0446\\u0430<br>\\u043a\\u043e\\u043b\\u0438\\u0447\\u0435\\u0441\\u0442\\u0432\\u043e \\u0437\\u0430\\u0432\\u0435\\u0434\\u0435\\u043d\\u0438\\u0439 \\u0432 \\u0441\\u0435\\u0442\\u0438=%{marker.size}<br>\\u0441\\u0440\\u0435\\u0434\\u043d\\u0435\\u0435 \\u0447\\u0438\\u0441\\u043b\\u043e \\u043f\\u043e\\u0441\\u0430\\u0434\\u043e\\u0447\\u043d\\u044b\\u0445 \\u043c\\u0435\\u0441\\u0442=%{y}<extra></extra>\",\"legendgroup\":\"\\u043f\\u0430\\u043d\\u0447\\u043e \\u043f\\u0438\\u0446\\u0446\\u0430\",\"marker\":{\"color\":\"#00cc96\",\"size\":[5],\"sizemode\":\"area\",\"sizeref\":0.0628,\"symbol\":\"circle\"},\"mode\":\"markers\",\"name\":\"\\u043f\\u0430\\u043d\\u0447\\u043e \\u043f\\u0438\\u0446\\u0446\\u0430\",\"orientation\":\"v\",\"showlegend\":true,\"x\":[5],\"xaxis\":\"x\",\"y\":[50.0],\"yaxis\":\"y\",\"type\":\"scatter\"},{\"hovertemplate\":\"object_name=\\u0440\\u0435\\u0441\\u0442\\u043e\\u0440\\u0430\\u043d \\u00ab\\u0447\\u0430\\u0439\\u0445\\u043e\\u043d\\u0430 \\u21161\\u00bb<br>\\u043a\\u043e\\u043b\\u0438\\u0447\\u0435\\u0441\\u0442\\u0432\\u043e \\u0437\\u0430\\u0432\\u0435\\u0434\\u0435\\u043d\\u0438\\u0439 \\u0432 \\u0441\\u0435\\u0442\\u0438=%{marker.size}<br>\\u0441\\u0440\\u0435\\u0434\\u043d\\u0435\\u0435 \\u0447\\u0438\\u0441\\u043b\\u043e \\u043f\\u043e\\u0441\\u0430\\u0434\\u043e\\u0447\\u043d\\u044b\\u0445 \\u043c\\u0435\\u0441\\u0442=%{y}<extra></extra>\",\"legendgroup\":\"\\u0440\\u0435\\u0441\\u0442\\u043e\\u0440\\u0430\\u043d \\u00ab\\u0447\\u0430\\u0439\\u0445\\u043e\\u043d\\u0430 \\u21161\\u00bb\",\"marker\":{\"color\":\"#ab63fa\",\"size\":[5],\"sizemode\":\"area\",\"sizeref\":0.0628,\"symbol\":\"circle\"},\"mode\":\"markers\",\"name\":\"\\u0440\\u0435\\u0441\\u0442\\u043e\\u0440\\u0430\\u043d \\u00ab\\u0447\\u0430\\u0439\\u0445\\u043e\\u043d\\u0430 \\u21161\\u00bb\",\"orientation\":\"v\",\"showlegend\":true,\"x\":[5],\"xaxis\":\"x\",\"y\":[160.0],\"yaxis\":\"y\",\"type\":\"scatter\"},{\"hovertemplate\":\"object_name=\\u0431\\u0443\\u0440\\u0433\\u0435\\u0440 \\u043a\\u043b\\u0430\\u0431<br>\\u043a\\u043e\\u043b\\u0438\\u0447\\u0435\\u0441\\u0442\\u0432\\u043e \\u0437\\u0430\\u0432\\u0435\\u0434\\u0435\\u043d\\u0438\\u0439 \\u0432 \\u0441\\u0435\\u0442\\u0438=%{marker.size}<br>\\u0441\\u0440\\u0435\\u0434\\u043d\\u0435\\u0435 \\u0447\\u0438\\u0441\\u043b\\u043e \\u043f\\u043e\\u0441\\u0430\\u0434\\u043e\\u0447\\u043d\\u044b\\u0445 \\u043c\\u0435\\u0441\\u0442=%{y}<extra></extra>\",\"legendgroup\":\"\\u0431\\u0443\\u0440\\u0433\\u0435\\u0440 \\u043a\\u043b\\u0430\\u0431\",\"marker\":{\"color\":\"#FFA15A\",\"size\":[5],\"sizemode\":\"area\",\"sizeref\":0.0628,\"symbol\":\"circle\"},\"mode\":\"markers\",\"name\":\"\\u0431\\u0443\\u0440\\u0433\\u0435\\u0440 \\u043a\\u043b\\u0430\\u0431\",\"orientation\":\"v\",\"showlegend\":true,\"x\":[5],\"xaxis\":\"x\",\"y\":[16.0],\"yaxis\":\"y\",\"type\":\"scatter\"},{\"hovertemplate\":\"object_name=\\u043a\\u0430\\u0444\\u0435 \\u00ab\\u043c\\u0430\\u043a\\u0434\\u043e\\u043d\\u0430\\u043b\\u0434\\u0441\\u00bb<br>\\u043a\\u043e\\u043b\\u0438\\u0447\\u0435\\u0441\\u0442\\u0432\\u043e \\u0437\\u0430\\u0432\\u0435\\u0434\\u0435\\u043d\\u0438\\u0439 \\u0432 \\u0441\\u0435\\u0442\\u0438=%{marker.size}<br>\\u0441\\u0440\\u0435\\u0434\\u043d\\u0435\\u0435 \\u0447\\u0438\\u0441\\u043b\\u043e \\u043f\\u043e\\u0441\\u0430\\u0434\\u043e\\u0447\\u043d\\u044b\\u0445 \\u043c\\u0435\\u0441\\u0442=%{y}<extra></extra>\",\"legendgroup\":\"\\u043a\\u0430\\u0444\\u0435 \\u00ab\\u043c\\u0430\\u043a\\u0434\\u043e\\u043d\\u0430\\u043b\\u0434\\u0441\\u00bb\",\"marker\":{\"color\":\"#19d3f3\",\"size\":[5],\"sizemode\":\"area\",\"sizeref\":0.0628,\"symbol\":\"circle\"},\"mode\":\"markers\",\"name\":\"\\u043a\\u0430\\u0444\\u0435 \\u00ab\\u043c\\u0430\\u043a\\u0434\\u043e\\u043d\\u0430\\u043b\\u0434\\u0441\\u00bb\",\"orientation\":\"v\",\"showlegend\":true,\"x\":[5],\"xaxis\":\"x\",\"y\":[40.0],\"yaxis\":\"y\",\"type\":\"scatter\"},{\"hovertemplate\":\"object_name=costa coffee<br>\\u043a\\u043e\\u043b\\u0438\\u0447\\u0435\\u0441\\u0442\\u0432\\u043e \\u0437\\u0430\\u0432\\u0435\\u0434\\u0435\\u043d\\u0438\\u0439 \\u0432 \\u0441\\u0435\\u0442\\u0438=%{marker.size}<br>\\u0441\\u0440\\u0435\\u0434\\u043d\\u0435\\u0435 \\u0447\\u0438\\u0441\\u043b\\u043e \\u043f\\u043e\\u0441\\u0430\\u0434\\u043e\\u0447\\u043d\\u044b\\u0445 \\u043c\\u0435\\u0441\\u0442=%{y}<extra></extra>\",\"legendgroup\":\"costa coffee\",\"marker\":{\"color\":\"#FF6692\",\"size\":[5],\"sizemode\":\"area\",\"sizeref\":0.0628,\"symbol\":\"circle\"},\"mode\":\"markers\",\"name\":\"costa coffee\",\"orientation\":\"v\",\"showlegend\":true,\"x\":[5],\"xaxis\":\"x\",\"y\":[15.0],\"yaxis\":\"y\",\"type\":\"scatter\"},{\"hovertemplate\":\"object_name=\\u043c\\u0441\\u043a \\u043c\\u043e\\u0441\\u043a\\u043e\\u0432\\u0441\\u043a\\u0430\\u044f \\u0441\\u0435\\u0442\\u044c \\u043a\\u0430\\u043b\\u044c\\u044f\\u043d\\u043d\\u044b\\u0445<br>\\u043a\\u043e\\u043b\\u0438\\u0447\\u0435\\u0441\\u0442\\u0432\\u043e \\u0437\\u0430\\u0432\\u0435\\u0434\\u0435\\u043d\\u0438\\u0439 \\u0432 \\u0441\\u0435\\u0442\\u0438=%{marker.size}<br>\\u0441\\u0440\\u0435\\u0434\\u043d\\u0435\\u0435 \\u0447\\u0438\\u0441\\u043b\\u043e \\u043f\\u043e\\u0441\\u0430\\u0434\\u043e\\u0447\\u043d\\u044b\\u0445 \\u043c\\u0435\\u0441\\u0442=%{y}<extra></extra>\",\"legendgroup\":\"\\u043c\\u0441\\u043a \\u043c\\u043e\\u0441\\u043a\\u043e\\u0432\\u0441\\u043a\\u0430\\u044f \\u0441\\u0435\\u0442\\u044c \\u043a\\u0430\\u043b\\u044c\\u044f\\u043d\\u043d\\u044b\\u0445\",\"marker\":{\"color\":\"#B6E880\",\"size\":[5],\"sizemode\":\"area\",\"sizeref\":0.0628,\"symbol\":\"circle\"},\"mode\":\"markers\",\"name\":\"\\u043c\\u0441\\u043a \\u043c\\u043e\\u0441\\u043a\\u043e\\u0432\\u0441\\u043a\\u0430\\u044f \\u0441\\u0435\\u0442\\u044c \\u043a\\u0430\\u043b\\u044c\\u044f\\u043d\\u043d\\u044b\\u0445\",\"orientation\":\"v\",\"showlegend\":true,\"x\":[5],\"xaxis\":\"x\",\"y\":[45.0],\"yaxis\":\"y\",\"type\":\"scatter\"},{\"hovertemplate\":\"object_name=jeffreys coffee<br>\\u043a\\u043e\\u043b\\u0438\\u0447\\u0435\\u0441\\u0442\\u0432\\u043e \\u0437\\u0430\\u0432\\u0435\\u0434\\u0435\\u043d\\u0438\\u0439 \\u0432 \\u0441\\u0435\\u0442\\u0438=%{marker.size}<br>\\u0441\\u0440\\u0435\\u0434\\u043d\\u0435\\u0435 \\u0447\\u0438\\u0441\\u043b\\u043e \\u043f\\u043e\\u0441\\u0430\\u0434\\u043e\\u0447\\u043d\\u044b\\u0445 \\u043c\\u0435\\u0441\\u0442=%{y}<extra></extra>\",\"legendgroup\":\"jeffreys coffee\",\"marker\":{\"color\":\"#FF97FF\",\"size\":[5],\"sizemode\":\"area\",\"sizeref\":0.0628,\"symbol\":\"circle\"},\"mode\":\"markers\",\"name\":\"jeffreys coffee\",\"orientation\":\"v\",\"showlegend\":true,\"x\":[5],\"xaxis\":\"x\",\"y\":[30.0],\"yaxis\":\"y\",\"type\":\"scatter\"},{\"hovertemplate\":\"object_name=\\u043c\\u0430\\u0433\\u0431\\u0443\\u0440\\u0433\\u0435\\u0440<br>\\u043a\\u043e\\u043b\\u0438\\u0447\\u0435\\u0441\\u0442\\u0432\\u043e \\u0437\\u0430\\u0432\\u0435\\u0434\\u0435\\u043d\\u0438\\u0439 \\u0432 \\u0441\\u0435\\u0442\\u0438=%{marker.size}<br>\\u0441\\u0440\\u0435\\u0434\\u043d\\u0435\\u0435 \\u0447\\u0438\\u0441\\u043b\\u043e \\u043f\\u043e\\u0441\\u0430\\u0434\\u043e\\u0447\\u043d\\u044b\\u0445 \\u043c\\u0435\\u0441\\u0442=%{y}<extra></extra>\",\"legendgroup\":\"\\u043c\\u0430\\u0433\\u0431\\u0443\\u0440\\u0433\\u0435\\u0440\",\"marker\":{\"color\":\"#FECB52\",\"size\":[5],\"sizemode\":\"area\",\"sizeref\":0.0628,\"symbol\":\"circle\"},\"mode\":\"markers\",\"name\":\"\\u043c\\u0430\\u0433\\u0431\\u0443\\u0440\\u0433\\u0435\\u0440\",\"orientation\":\"v\",\"showlegend\":true,\"x\":[5],\"xaxis\":\"x\",\"y\":[10.0],\"yaxis\":\"y\",\"type\":\"scatter\"}],                        {\"template\":{\"data\":{\"bar\":[{\"error_x\":{\"color\":\"#2a3f5f\"},\"error_y\":{\"color\":\"#2a3f5f\"},\"marker\":{\"line\":{\"color\":\"white\",\"width\":0.5},\"pattern\":{\"fillmode\":\"overlay\",\"size\":10,\"solidity\":0.2}},\"type\":\"bar\"}],\"barpolar\":[{\"marker\":{\"line\":{\"color\":\"white\",\"width\":0.5},\"pattern\":{\"fillmode\":\"overlay\",\"size\":10,\"solidity\":0.2}},\"type\":\"barpolar\"}],\"carpet\":[{\"aaxis\":{\"endlinecolor\":\"#2a3f5f\",\"gridcolor\":\"#C8D4E3\",\"linecolor\":\"#C8D4E3\",\"minorgridcolor\":\"#C8D4E3\",\"startlinecolor\":\"#2a3f5f\"},\"baxis\":{\"endlinecolor\":\"#2a3f5f\",\"gridcolor\":\"#C8D4E3\",\"linecolor\":\"#C8D4E3\",\"minorgridcolor\":\"#C8D4E3\",\"startlinecolor\":\"#2a3f5f\"},\"type\":\"carpet\"}],\"choropleth\":[{\"colorbar\":{\"outlinewidth\":0,\"ticks\":\"\"},\"type\":\"choropleth\"}],\"contour\":[{\"colorbar\":{\"outlinewidth\":0,\"ticks\":\"\"},\"colorscale\":[[0.0,\"#0d0887\"],[0.1111111111111111,\"#46039f\"],[0.2222222222222222,\"#7201a8\"],[0.3333333333333333,\"#9c179e\"],[0.4444444444444444,\"#bd3786\"],[0.5555555555555556,\"#d8576b\"],[0.6666666666666666,\"#ed7953\"],[0.7777777777777778,\"#fb9f3a\"],[0.8888888888888888,\"#fdca26\"],[1.0,\"#f0f921\"]],\"type\":\"contour\"}],\"contourcarpet\":[{\"colorbar\":{\"outlinewidth\":0,\"ticks\":\"\"},\"type\":\"contourcarpet\"}],\"heatmap\":[{\"colorbar\":{\"outlinewidth\":0,\"ticks\":\"\"},\"colorscale\":[[0.0,\"#0d0887\"],[0.1111111111111111,\"#46039f\"],[0.2222222222222222,\"#7201a8\"],[0.3333333333333333,\"#9c179e\"],[0.4444444444444444,\"#bd3786\"],[0.5555555555555556,\"#d8576b\"],[0.6666666666666666,\"#ed7953\"],[0.7777777777777778,\"#fb9f3a\"],[0.8888888888888888,\"#fdca26\"],[1.0,\"#f0f921\"]],\"type\":\"heatmap\"}],\"heatmapgl\":[{\"colorbar\":{\"outlinewidth\":0,\"ticks\":\"\"},\"colorscale\":[[0.0,\"#0d0887\"],[0.1111111111111111,\"#46039f\"],[0.2222222222222222,\"#7201a8\"],[0.3333333333333333,\"#9c179e\"],[0.4444444444444444,\"#bd3786\"],[0.5555555555555556,\"#d8576b\"],[0.6666666666666666,\"#ed7953\"],[0.7777777777777778,\"#fb9f3a\"],[0.8888888888888888,\"#fdca26\"],[1.0,\"#f0f921\"]],\"type\":\"heatmapgl\"}],\"histogram\":[{\"marker\":{\"pattern\":{\"fillmode\":\"overlay\",\"size\":10,\"solidity\":0.2}},\"type\":\"histogram\"}],\"histogram2d\":[{\"colorbar\":{\"outlinewidth\":0,\"ticks\":\"\"},\"colorscale\":[[0.0,\"#0d0887\"],[0.1111111111111111,\"#46039f\"],[0.2222222222222222,\"#7201a8\"],[0.3333333333333333,\"#9c179e\"],[0.4444444444444444,\"#bd3786\"],[0.5555555555555556,\"#d8576b\"],[0.6666666666666666,\"#ed7953\"],[0.7777777777777778,\"#fb9f3a\"],[0.8888888888888888,\"#fdca26\"],[1.0,\"#f0f921\"]],\"type\":\"histogram2d\"}],\"histogram2dcontour\":[{\"colorbar\":{\"outlinewidth\":0,\"ticks\":\"\"},\"colorscale\":[[0.0,\"#0d0887\"],[0.1111111111111111,\"#46039f\"],[0.2222222222222222,\"#7201a8\"],[0.3333333333333333,\"#9c179e\"],[0.4444444444444444,\"#bd3786\"],[0.5555555555555556,\"#d8576b\"],[0.6666666666666666,\"#ed7953\"],[0.7777777777777778,\"#fb9f3a\"],[0.8888888888888888,\"#fdca26\"],[1.0,\"#f0f921\"]],\"type\":\"histogram2dcontour\"}],\"mesh3d\":[{\"colorbar\":{\"outlinewidth\":0,\"ticks\":\"\"},\"type\":\"mesh3d\"}],\"parcoords\":[{\"line\":{\"colorbar\":{\"outlinewidth\":0,\"ticks\":\"\"}},\"type\":\"parcoords\"}],\"pie\":[{\"automargin\":true,\"type\":\"pie\"}],\"scatter\":[{\"marker\":{\"colorbar\":{\"outlinewidth\":0,\"ticks\":\"\"}},\"type\":\"scatter\"}],\"scatter3d\":[{\"line\":{\"colorbar\":{\"outlinewidth\":0,\"ticks\":\"\"}},\"marker\":{\"colorbar\":{\"outlinewidth\":0,\"ticks\":\"\"}},\"type\":\"scatter3d\"}],\"scattercarpet\":[{\"marker\":{\"colorbar\":{\"outlinewidth\":0,\"ticks\":\"\"}},\"type\":\"scattercarpet\"}],\"scattergeo\":[{\"marker\":{\"colorbar\":{\"outlinewidth\":0,\"ticks\":\"\"}},\"type\":\"scattergeo\"}],\"scattergl\":[{\"marker\":{\"colorbar\":{\"outlinewidth\":0,\"ticks\":\"\"}},\"type\":\"scattergl\"}],\"scattermapbox\":[{\"marker\":{\"colorbar\":{\"outlinewidth\":0,\"ticks\":\"\"}},\"type\":\"scattermapbox\"}],\"scatterpolar\":[{\"marker\":{\"colorbar\":{\"outlinewidth\":0,\"ticks\":\"\"}},\"type\":\"scatterpolar\"}],\"scatterpolargl\":[{\"marker\":{\"colorbar\":{\"outlinewidth\":0,\"ticks\":\"\"}},\"type\":\"scatterpolargl\"}],\"scatterternary\":[{\"marker\":{\"colorbar\":{\"outlinewidth\":0,\"ticks\":\"\"}},\"type\":\"scatterternary\"}],\"surface\":[{\"colorbar\":{\"outlinewidth\":0,\"ticks\":\"\"},\"colorscale\":[[0.0,\"#0d0887\"],[0.1111111111111111,\"#46039f\"],[0.2222222222222222,\"#7201a8\"],[0.3333333333333333,\"#9c179e\"],[0.4444444444444444,\"#bd3786\"],[0.5555555555555556,\"#d8576b\"],[0.6666666666666666,\"#ed7953\"],[0.7777777777777778,\"#fb9f3a\"],[0.8888888888888888,\"#fdca26\"],[1.0,\"#f0f921\"]],\"type\":\"surface\"}],\"table\":[{\"cells\":{\"fill\":{\"color\":\"#EBF0F8\"},\"line\":{\"color\":\"white\"}},\"header\":{\"fill\":{\"color\":\"#C8D4E3\"},\"line\":{\"color\":\"white\"}},\"type\":\"table\"}]},\"layout\":{\"annotationdefaults\":{\"arrowcolor\":\"#2a3f5f\",\"arrowhead\":0,\"arrowwidth\":1},\"autotypenumbers\":\"strict\",\"coloraxis\":{\"colorbar\":{\"outlinewidth\":0,\"ticks\":\"\"}},\"colorscale\":{\"diverging\":[[0,\"#8e0152\"],[0.1,\"#c51b7d\"],[0.2,\"#de77ae\"],[0.3,\"#f1b6da\"],[0.4,\"#fde0ef\"],[0.5,\"#f7f7f7\"],[0.6,\"#e6f5d0\"],[0.7,\"#b8e186\"],[0.8,\"#7fbc41\"],[0.9,\"#4d9221\"],[1,\"#276419\"]],\"sequential\":[[0.0,\"#0d0887\"],[0.1111111111111111,\"#46039f\"],[0.2222222222222222,\"#7201a8\"],[0.3333333333333333,\"#9c179e\"],[0.4444444444444444,\"#bd3786\"],[0.5555555555555556,\"#d8576b\"],[0.6666666666666666,\"#ed7953\"],[0.7777777777777778,\"#fb9f3a\"],[0.8888888888888888,\"#fdca26\"],[1.0,\"#f0f921\"]],\"sequentialminus\":[[0.0,\"#0d0887\"],[0.1111111111111111,\"#46039f\"],[0.2222222222222222,\"#7201a8\"],[0.3333333333333333,\"#9c179e\"],[0.4444444444444444,\"#bd3786\"],[0.5555555555555556,\"#d8576b\"],[0.6666666666666666,\"#ed7953\"],[0.7777777777777778,\"#fb9f3a\"],[0.8888888888888888,\"#fdca26\"],[1.0,\"#f0f921\"]]},\"colorway\":[\"#636efa\",\"#EF553B\",\"#00cc96\",\"#ab63fa\",\"#FFA15A\",\"#19d3f3\",\"#FF6692\",\"#B6E880\",\"#FF97FF\",\"#FECB52\"],\"font\":{\"color\":\"#2a3f5f\"},\"geo\":{\"bgcolor\":\"white\",\"lakecolor\":\"white\",\"landcolor\":\"white\",\"showlakes\":true,\"showland\":true,\"subunitcolor\":\"#C8D4E3\"},\"hoverlabel\":{\"align\":\"left\"},\"hovermode\":\"closest\",\"mapbox\":{\"style\":\"light\"},\"paper_bgcolor\":\"white\",\"plot_bgcolor\":\"white\",\"polar\":{\"angularaxis\":{\"gridcolor\":\"#EBF0F8\",\"linecolor\":\"#EBF0F8\",\"ticks\":\"\"},\"bgcolor\":\"white\",\"radialaxis\":{\"gridcolor\":\"#EBF0F8\",\"linecolor\":\"#EBF0F8\",\"ticks\":\"\"}},\"scene\":{\"xaxis\":{\"backgroundcolor\":\"white\",\"gridcolor\":\"#DFE8F3\",\"gridwidth\":2,\"linecolor\":\"#EBF0F8\",\"showbackground\":true,\"ticks\":\"\",\"zerolinecolor\":\"#EBF0F8\"},\"yaxis\":{\"backgroundcolor\":\"white\",\"gridcolor\":\"#DFE8F3\",\"gridwidth\":2,\"linecolor\":\"#EBF0F8\",\"showbackground\":true,\"ticks\":\"\",\"zerolinecolor\":\"#EBF0F8\"},\"zaxis\":{\"backgroundcolor\":\"white\",\"gridcolor\":\"#DFE8F3\",\"gridwidth\":2,\"linecolor\":\"#EBF0F8\",\"showbackground\":true,\"ticks\":\"\",\"zerolinecolor\":\"#EBF0F8\"}},\"shapedefaults\":{\"line\":{\"color\":\"#2a3f5f\"}},\"ternary\":{\"aaxis\":{\"gridcolor\":\"#DFE8F3\",\"linecolor\":\"#A2B1C6\",\"ticks\":\"\"},\"baxis\":{\"gridcolor\":\"#DFE8F3\",\"linecolor\":\"#A2B1C6\",\"ticks\":\"\"},\"bgcolor\":\"white\",\"caxis\":{\"gridcolor\":\"#DFE8F3\",\"linecolor\":\"#A2B1C6\",\"ticks\":\"\"}},\"title\":{\"x\":0.05},\"xaxis\":{\"automargin\":true,\"gridcolor\":\"#EBF0F8\",\"linecolor\":\"#EBF0F8\",\"ticks\":\"\",\"title\":{\"standoff\":15},\"zerolinecolor\":\"#EBF0F8\",\"zerolinewidth\":2},\"yaxis\":{\"automargin\":true,\"gridcolor\":\"#EBF0F8\",\"linecolor\":\"#EBF0F8\",\"ticks\":\"\",\"title\":{\"standoff\":15},\"zerolinecolor\":\"#EBF0F8\",\"zerolinewidth\":2}}},\"xaxis\":{\"anchor\":\"y\",\"domain\":[0.0,1.0],\"title\":{\"text\":\"\\u043a\\u043e\\u043b\\u0438\\u0447\\u0435\\u0441\\u0442\\u0432\\u043e \\u0437\\u0430\\u0432\\u0435\\u0434\\u0435\\u043d\\u0438\\u0439 \\u0432 \\u0441\\u0435\\u0442\\u0438\"}},\"yaxis\":{\"anchor\":\"x\",\"domain\":[0.0,1.0],\"title\":{\"text\":\"\\u0441\\u0440\\u0435\\u0434\\u043d\\u0435\\u0435 \\u0447\\u0438\\u0441\\u043b\\u043e \\u043f\\u043e\\u0441\\u0430\\u0434\\u043e\\u0447\\u043d\\u044b\\u0445 \\u043c\\u0435\\u0441\\u0442\"}},\"legend\":{\"title\":{\"text\":\"object_name\"},\"tracegroupgap\":0,\"itemsizing\":\"constant\"},\"title\":{\"text\":\"\\u0420\\u0430\\u0441\\u043f\\u0440\\u0435\\u0434\\u0435\\u043b\\u0435\\u043d\\u0438\\u0435 \\u043f\\u043e\\u0441\\u0430\\u0434\\u043e\\u0447\\u043d\\u044b\\u0445 \\u043c\\u0435\\u0441\\u0442 \\u0434\\u043b\\u044f \\u0441\\u0435\\u0442\\u0435\\u0432\\u044b\\u0445 \\u0437\\u0430\\u0432\\u0435\\u0434\\u0435\\u043d\\u0438\\u0439\"},\"height\":550,\"width\":900,\"showlegend\":false},                        {\"responsive\": true}                    ).then(function(){\n",
              "                            \n",
              "var gd = document.getElementById('dae34c0f-7ab2-4f20-bbe9-a2380e8cc2df');\n",
              "var x = new MutationObserver(function (mutations, observer) {{\n",
              "        var display = window.getComputedStyle(gd).display;\n",
              "        if (!display || display === 'none') {{\n",
              "            console.log([gd, 'removed!']);\n",
              "            Plotly.purge(gd);\n",
              "            observer.disconnect();\n",
              "        }}\n",
              "}});\n",
              "\n",
              "// Listen for the removal of the full notebook cells\n",
              "var notebookContainer = gd.closest('#notebook-container');\n",
              "if (notebookContainer) {{\n",
              "    x.observe(notebookContainer, {childList: true});\n",
              "}}\n",
              "\n",
              "// Listen for the clearing of the current output cell\n",
              "var outputEl = gd.closest('.output');\n",
              "if (outputEl) {{\n",
              "    x.observe(outputEl, {childList: true});\n",
              "}}\n",
              "\n",
              "                        })                };                            </script>        </div>\n",
              "</body>\n",
              "</html>"
            ]
          },
          "metadata": {}
        },
        {
          "output_type": "display_data",
          "data": {
            "text/html": [
              "<html>\n",
              "<head><meta charset=\"utf-8\" /></head>\n",
              "<body>\n",
              "    <div>            <script src=\"https://cdnjs.cloudflare.com/ajax/libs/mathjax/2.7.5/MathJax.js?config=TeX-AMS-MML_SVG\"></script><script type=\"text/javascript\">if (window.MathJax) {MathJax.Hub.Config({SVG: {font: \"STIX-Web\"}});}</script>                <script type=\"text/javascript\">window.PlotlyConfig = {MathJaxConfig: 'local'};</script>\n",
              "        <script src=\"https://cdn.plot.ly/plotly-2.8.3.min.js\"></script>                <div id=\"bdb3f56c-4d8a-4e92-8786-637db4e23283\" class=\"plotly-graph-div\" style=\"height:550px; width:900px;\"></div>            <script type=\"text/javascript\">                                    window.PLOTLYENV=window.PLOTLYENV || {};                                    if (document.getElementById(\"bdb3f56c-4d8a-4e92-8786-637db4e23283\")) {                    Plotly.newPlot(                        \"bdb3f56c-4d8a-4e92-8786-637db4e23283\",                        [{\"hovertemplate\":\"<b>%{hovertext}</b><br><br>\\u041d\\u0430\\u0437\\u0432\\u0430\\u043d\\u0438\\u0435 \\u0441\\u0435\\u0442\\u0438:=\\u0448\\u043e\\u043a\\u043e\\u043b\\u0430\\u0434\\u043d\\u0438\\u0446\\u0430<br>\\u043a\\u043e\\u043b\\u0438\\u0447\\u0435\\u0441\\u0442\\u0432\\u043e \\u0437\\u0430\\u0432\\u0435\\u0434\\u0435\\u043d\\u0438\\u0439 \\u0432 \\u0441\\u0435\\u0442\\u0438=%{marker.size}<br>\\u0441\\u0440\\u0435\\u0434\\u043d\\u0435\\u0435 \\u0447\\u0438\\u0441\\u043b\\u043e \\u043f\\u043e\\u0441\\u0430\\u0434\\u043e\\u0447\\u043d\\u044b\\u0445 \\u043c\\u0435\\u0441\\u0442=%{text}<extra></extra>\",\"hovertext\":[\"\\u0448\\u043e\\u043a\\u043e\\u043b\\u0430\\u0434\\u043d\\u0438\\u0446\\u0430\"],\"legendgroup\":\"\\u0448\\u043e\\u043a\\u043e\\u043b\\u0430\\u0434\\u043d\\u0438\\u0446\\u0430\",\"marker\":{\"color\":\"#636efa\",\"opacity\":0.7,\"size\":[157],\"sizemode\":\"area\",\"sizeref\":0.043611111111111114,\"symbol\":\"circle\"},\"mode\":\"markers+text\",\"name\":\"\\u0448\\u043e\\u043a\\u043e\\u043b\\u0430\\u0434\\u043d\\u0438\\u0446\\u0430\",\"orientation\":\"v\",\"showlegend\":true,\"text\":[50.0],\"x\":[157],\"xaxis\":\"x\",\"y\":[50.0],\"yaxis\":\"y\",\"type\":\"scatter\"},{\"hovertemplate\":\"<b>%{hovertext}</b><br><br>\\u041d\\u0430\\u0437\\u0432\\u0430\\u043d\\u0438\\u0435 \\u0441\\u0435\\u0442\\u0438:=kfc<br>\\u043a\\u043e\\u043b\\u0438\\u0447\\u0435\\u0441\\u0442\\u0432\\u043e \\u0437\\u0430\\u0432\\u0435\\u0434\\u0435\\u043d\\u0438\\u0439 \\u0432 \\u0441\\u0435\\u0442\\u0438=%{marker.size}<br>\\u0441\\u0440\\u0435\\u0434\\u043d\\u0435\\u0435 \\u0447\\u0438\\u0441\\u043b\\u043e \\u043f\\u043e\\u0441\\u0430\\u0434\\u043e\\u0447\\u043d\\u044b\\u0445 \\u043c\\u0435\\u0441\\u0442=%{text}<extra></extra>\",\"hovertext\":[\"kfc\"],\"legendgroup\":\"kfc\",\"marker\":{\"color\":\"#EF553B\",\"opacity\":0.7,\"size\":[155],\"sizemode\":\"area\",\"sizeref\":0.043611111111111114,\"symbol\":\"circle\"},\"mode\":\"markers+text\",\"name\":\"kfc\",\"orientation\":\"v\",\"showlegend\":true,\"text\":[45.0],\"x\":[155],\"xaxis\":\"x\",\"y\":[45.0],\"yaxis\":\"y\",\"type\":\"scatter\"},{\"hovertemplate\":\"<b>%{hovertext}</b><br><br>\\u041d\\u0430\\u0437\\u0432\\u0430\\u043d\\u0438\\u0435 \\u0441\\u0435\\u0442\\u0438:=\\u043c\\u0430\\u043a\\u0434\\u043e\\u043d\\u0430\\u043b\\u0434\\u0441<br>\\u043a\\u043e\\u043b\\u0438\\u0447\\u0435\\u0441\\u0442\\u0432\\u043e \\u0437\\u0430\\u0432\\u0435\\u0434\\u0435\\u043d\\u0438\\u0439 \\u0432 \\u0441\\u0435\\u0442\\u0438=%{marker.size}<br>\\u0441\\u0440\\u0435\\u0434\\u043d\\u0435\\u0435 \\u0447\\u0438\\u0441\\u043b\\u043e \\u043f\\u043e\\u0441\\u0430\\u0434\\u043e\\u0447\\u043d\\u044b\\u0445 \\u043c\\u0435\\u0441\\u0442=%{text}<extra></extra>\",\"hovertext\":[\"\\u043c\\u0430\\u043a\\u0434\\u043e\\u043d\\u0430\\u043b\\u0434\\u0441\"],\"legendgroup\":\"\\u043c\\u0430\\u043a\\u0434\\u043e\\u043d\\u0430\\u043b\\u0434\\u0441\",\"marker\":{\"color\":\"#00cc96\",\"opacity\":0.7,\"size\":[151],\"sizemode\":\"area\",\"sizeref\":0.043611111111111114,\"symbol\":\"circle\"},\"mode\":\"markers+text\",\"name\":\"\\u043c\\u0430\\u043a\\u0434\\u043e\\u043d\\u0430\\u043b\\u0434\\u0441\",\"orientation\":\"v\",\"showlegend\":true,\"text\":[76.0],\"x\":[151],\"xaxis\":\"x\",\"y\":[76.0],\"yaxis\":\"y\",\"type\":\"scatter\"},{\"hovertemplate\":\"<b>%{hovertext}</b><br><br>\\u041d\\u0430\\u0437\\u0432\\u0430\\u043d\\u0438\\u0435 \\u0441\\u0435\\u0442\\u0438:=\\u0431\\u0443\\u0440\\u0433\\u0435\\u0440 \\u043a\\u0438\\u043d\\u0433<br>\\u043a\\u043e\\u043b\\u0438\\u0447\\u0435\\u0441\\u0442\\u0432\\u043e \\u0437\\u0430\\u0432\\u0435\\u0434\\u0435\\u043d\\u0438\\u0439 \\u0432 \\u0441\\u0435\\u0442\\u0438=%{marker.size}<br>\\u0441\\u0440\\u0435\\u0434\\u043d\\u0435\\u0435 \\u0447\\u0438\\u0441\\u043b\\u043e \\u043f\\u043e\\u0441\\u0430\\u0434\\u043e\\u0447\\u043d\\u044b\\u0445 \\u043c\\u0435\\u0441\\u0442=%{text}<extra></extra>\",\"hovertext\":[\"\\u0431\\u0443\\u0440\\u0433\\u0435\\u0440 \\u043a\\u0438\\u043d\\u0433\"],\"legendgroup\":\"\\u0431\\u0443\\u0440\\u0433\\u0435\\u0440 \\u043a\\u0438\\u043d\\u0433\",\"marker\":{\"color\":\"#ab63fa\",\"opacity\":0.7,\"size\":[137],\"sizemode\":\"area\",\"sizeref\":0.043611111111111114,\"symbol\":\"circle\"},\"mode\":\"markers+text\",\"name\":\"\\u0431\\u0443\\u0440\\u0433\\u0435\\u0440 \\u043a\\u0438\\u043d\\u0433\",\"orientation\":\"v\",\"showlegend\":true,\"text\":[45.0],\"x\":[137],\"xaxis\":\"x\",\"y\":[45.0],\"yaxis\":\"y\",\"type\":\"scatter\"},{\"hovertemplate\":\"<b>%{hovertext}</b><br><br>\\u041d\\u0430\\u0437\\u0432\\u0430\\u043d\\u0438\\u0435 \\u0441\\u0435\\u0442\\u0438:=\\u0442\\u0435\\u0440\\u0435\\u043c\\u043e\\u043a<br>\\u043a\\u043e\\u043b\\u0438\\u0447\\u0435\\u0441\\u0442\\u0432\\u043e \\u0437\\u0430\\u0432\\u0435\\u0434\\u0435\\u043d\\u0438\\u0439 \\u0432 \\u0441\\u0435\\u0442\\u0438=%{marker.size}<br>\\u0441\\u0440\\u0435\\u0434\\u043d\\u0435\\u0435 \\u0447\\u0438\\u0441\\u043b\\u043e \\u043f\\u043e\\u0441\\u0430\\u0434\\u043e\\u0447\\u043d\\u044b\\u0445 \\u043c\\u0435\\u0441\\u0442=%{text}<extra></extra>\",\"hovertext\":[\"\\u0442\\u0435\\u0440\\u0435\\u043c\\u043e\\u043a\"],\"legendgroup\":\"\\u0442\\u0435\\u0440\\u0435\\u043c\\u043e\\u043a\",\"marker\":{\"color\":\"#FFA15A\",\"opacity\":0.7,\"size\":[94],\"sizemode\":\"area\",\"sizeref\":0.043611111111111114,\"symbol\":\"circle\"},\"mode\":\"markers+text\",\"name\":\"\\u0442\\u0435\\u0440\\u0435\\u043c\\u043e\\u043a\",\"orientation\":\"v\",\"showlegend\":true,\"text\":[23.0],\"x\":[94],\"xaxis\":\"x\",\"y\":[23.0],\"yaxis\":\"y\",\"type\":\"scatter\"},{\"hovertemplate\":\"<b>%{hovertext}</b><br><br>\\u041d\\u0430\\u0437\\u0432\\u0430\\u043d\\u0438\\u0435 \\u0441\\u0435\\u0442\\u0438:=\\u043a\\u0440\\u043e\\u0448\\u043a\\u0430 \\u043a\\u0430\\u0440\\u0442\\u043e\\u0448\\u043a\\u0430<br>\\u043a\\u043e\\u043b\\u0438\\u0447\\u0435\\u0441\\u0442\\u0432\\u043e \\u0437\\u0430\\u0432\\u0435\\u0434\\u0435\\u043d\\u0438\\u0439 \\u0432 \\u0441\\u0435\\u0442\\u0438=%{marker.size}<br>\\u0441\\u0440\\u0435\\u0434\\u043d\\u0435\\u0435 \\u0447\\u0438\\u0441\\u043b\\u043e \\u043f\\u043e\\u0441\\u0430\\u0434\\u043e\\u0447\\u043d\\u044b\\u0445 \\u043c\\u0435\\u0441\\u0442=%{text}<extra></extra>\",\"hovertext\":[\"\\u043a\\u0440\\u043e\\u0448\\u043a\\u0430 \\u043a\\u0430\\u0440\\u0442\\u043e\\u0448\\u043a\\u0430\"],\"legendgroup\":\"\\u043a\\u0440\\u043e\\u0448\\u043a\\u0430 \\u043a\\u0430\\u0440\\u0442\\u043e\\u0448\\u043a\\u0430\",\"marker\":{\"color\":\"#19d3f3\",\"opacity\":0.7,\"size\":[90],\"sizemode\":\"area\",\"sizeref\":0.043611111111111114,\"symbol\":\"circle\"},\"mode\":\"markers+text\",\"name\":\"\\u043a\\u0440\\u043e\\u0448\\u043a\\u0430 \\u043a\\u0430\\u0440\\u0442\\u043e\\u0448\\u043a\\u0430\",\"orientation\":\"v\",\"showlegend\":true,\"text\":[15.0],\"x\":[90],\"xaxis\":\"x\",\"y\":[15.0],\"yaxis\":\"y\",\"type\":\"scatter\"},{\"hovertemplate\":\"<b>%{hovertext}</b><br><br>\\u041d\\u0430\\u0437\\u0432\\u0430\\u043d\\u0438\\u0435 \\u0441\\u0435\\u0442\\u0438:=\\u0434\\u043e\\u043c\\u0438\\u043d\\u043e'\\u0441 \\u043f\\u0438\\u0446\\u0446\\u0430<br>\\u043a\\u043e\\u043b\\u0438\\u0447\\u0435\\u0441\\u0442\\u0432\\u043e \\u0437\\u0430\\u0432\\u0435\\u0434\\u0435\\u043d\\u0438\\u0439 \\u0432 \\u0441\\u0435\\u0442\\u0438=%{marker.size}<br>\\u0441\\u0440\\u0435\\u0434\\u043d\\u0435\\u0435 \\u0447\\u0438\\u0441\\u043b\\u043e \\u043f\\u043e\\u0441\\u0430\\u0434\\u043e\\u0447\\u043d\\u044b\\u0445 \\u043c\\u0435\\u0441\\u0442=%{text}<extra></extra>\",\"hovertext\":[\"\\u0434\\u043e\\u043c\\u0438\\u043d\\u043e'\\u0441 \\u043f\\u0438\\u0446\\u0446\\u0430\"],\"legendgroup\":\"\\u0434\\u043e\\u043c\\u0438\\u043d\\u043e'\\u0441 \\u043f\\u0438\\u0446\\u0446\\u0430\",\"marker\":{\"color\":\"#FF6692\",\"opacity\":0.7,\"size\":[90],\"sizemode\":\"area\",\"sizeref\":0.043611111111111114,\"symbol\":\"circle\"},\"mode\":\"markers+text\",\"name\":\"\\u0434\\u043e\\u043c\\u0438\\u043d\\u043e'\\u0441 \\u043f\\u0438\\u0446\\u0446\\u0430\",\"orientation\":\"v\",\"showlegend\":true,\"text\":[16.0],\"x\":[90],\"xaxis\":\"x\",\"y\":[16.0],\"yaxis\":\"y\",\"type\":\"scatter\"},{\"hovertemplate\":\"<b>%{hovertext}</b><br><br>\\u041d\\u0430\\u0437\\u0432\\u0430\\u043d\\u0438\\u0435 \\u0441\\u0435\\u0442\\u0438:=\\u043c\\u0438\\u043b\\u0442\\u0438<br>\\u043a\\u043e\\u043b\\u0438\\u0447\\u0435\\u0441\\u0442\\u0432\\u043e \\u0437\\u0430\\u0432\\u0435\\u0434\\u0435\\u043d\\u0438\\u0439 \\u0432 \\u0441\\u0435\\u0442\\u0438=%{marker.size}<br>\\u0441\\u0440\\u0435\\u0434\\u043d\\u0435\\u0435 \\u0447\\u0438\\u0441\\u043b\\u043e \\u043f\\u043e\\u0441\\u0430\\u0434\\u043e\\u0447\\u043d\\u044b\\u0445 \\u043c\\u0435\\u0441\\u0442=%{text}<extra></extra>\",\"hovertext\":[\"\\u043c\\u0438\\u043b\\u0442\\u0438\"],\"legendgroup\":\"\\u043c\\u0438\\u043b\\u0442\\u0438\",\"marker\":{\"color\":\"#B6E880\",\"opacity\":0.7,\"size\":[72],\"sizemode\":\"area\",\"sizeref\":0.043611111111111114,\"symbol\":\"circle\"},\"mode\":\"markers+text\",\"name\":\"\\u043c\\u0438\\u043b\\u0442\\u0438\",\"orientation\":\"v\",\"showlegend\":true,\"text\":[0.0],\"x\":[72],\"xaxis\":\"x\",\"y\":[0.0],\"yaxis\":\"y\",\"type\":\"scatter\"},{\"hovertemplate\":\"<b>%{hovertext}</b><br><br>\\u041d\\u0430\\u0437\\u0432\\u0430\\u043d\\u0438\\u0435 \\u0441\\u0435\\u0442\\u0438:=\\u0441\\u0443\\u0448\\u0438 wok<br>\\u043a\\u043e\\u043b\\u0438\\u0447\\u0435\\u0441\\u0442\\u0432\\u043e \\u0437\\u0430\\u0432\\u0435\\u0434\\u0435\\u043d\\u0438\\u0439 \\u0432 \\u0441\\u0435\\u0442\\u0438=%{marker.size}<br>\\u0441\\u0440\\u0435\\u0434\\u043d\\u0435\\u0435 \\u0447\\u0438\\u0441\\u043b\\u043e \\u043f\\u043e\\u0441\\u0430\\u0434\\u043e\\u0447\\u043d\\u044b\\u0445 \\u043c\\u0435\\u0441\\u0442=%{text}<extra></extra>\",\"hovertext\":[\"\\u0441\\u0443\\u0448\\u0438 wok\"],\"legendgroup\":\"\\u0441\\u0443\\u0448\\u0438 wok\",\"marker\":{\"color\":\"#FF97FF\",\"opacity\":0.7,\"size\":[72],\"sizemode\":\"area\",\"sizeref\":0.043611111111111114,\"symbol\":\"circle\"},\"mode\":\"markers+text\",\"name\":\"\\u0441\\u0443\\u0448\\u0438 wok\",\"orientation\":\"v\",\"showlegend\":true,\"text\":[6.0],\"x\":[72],\"xaxis\":\"x\",\"y\":[6.0],\"yaxis\":\"y\",\"type\":\"scatter\"},{\"hovertemplate\":\"<b>%{hovertext}</b><br><br>\\u041d\\u0430\\u0437\\u0432\\u0430\\u043d\\u0438\\u0435 \\u0441\\u0435\\u0442\\u0438:=\\u043f\\u0430\\u043f\\u0430 \\u0434\\u0436\\u043e\\u043d\\u0441<br>\\u043a\\u043e\\u043b\\u0438\\u0447\\u0435\\u0441\\u0442\\u0432\\u043e \\u0437\\u0430\\u0432\\u0435\\u0434\\u0435\\u043d\\u0438\\u0439 \\u0432 \\u0441\\u0435\\u0442\\u0438=%{marker.size}<br>\\u0441\\u0440\\u0435\\u0434\\u043d\\u0435\\u0435 \\u0447\\u0438\\u0441\\u043b\\u043e \\u043f\\u043e\\u0441\\u0430\\u0434\\u043e\\u0447\\u043d\\u044b\\u0445 \\u043c\\u0435\\u0441\\u0442=%{text}<extra></extra>\",\"hovertext\":[\"\\u043f\\u0430\\u043f\\u0430 \\u0434\\u0436\\u043e\\u043d\\u0441\"],\"legendgroup\":\"\\u043f\\u0430\\u043f\\u0430 \\u0434\\u0436\\u043e\\u043d\\u0441\",\"marker\":{\"color\":\"#FECB52\",\"opacity\":0.7,\"size\":[51],\"sizemode\":\"area\",\"sizeref\":0.043611111111111114,\"symbol\":\"circle\"},\"mode\":\"markers+text\",\"name\":\"\\u043f\\u0430\\u043f\\u0430 \\u0434\\u0436\\u043e\\u043d\\u0441\",\"orientation\":\"v\",\"showlegend\":true,\"text\":[20.0],\"x\":[51],\"xaxis\":\"x\",\"y\":[20.0],\"yaxis\":\"y\",\"type\":\"scatter\"}],                        {\"template\":{\"data\":{\"bar\":[{\"error_x\":{\"color\":\"#2a3f5f\"},\"error_y\":{\"color\":\"#2a3f5f\"},\"marker\":{\"line\":{\"color\":\"white\",\"width\":0.5},\"pattern\":{\"fillmode\":\"overlay\",\"size\":10,\"solidity\":0.2}},\"type\":\"bar\"}],\"barpolar\":[{\"marker\":{\"line\":{\"color\":\"white\",\"width\":0.5},\"pattern\":{\"fillmode\":\"overlay\",\"size\":10,\"solidity\":0.2}},\"type\":\"barpolar\"}],\"carpet\":[{\"aaxis\":{\"endlinecolor\":\"#2a3f5f\",\"gridcolor\":\"#C8D4E3\",\"linecolor\":\"#C8D4E3\",\"minorgridcolor\":\"#C8D4E3\",\"startlinecolor\":\"#2a3f5f\"},\"baxis\":{\"endlinecolor\":\"#2a3f5f\",\"gridcolor\":\"#C8D4E3\",\"linecolor\":\"#C8D4E3\",\"minorgridcolor\":\"#C8D4E3\",\"startlinecolor\":\"#2a3f5f\"},\"type\":\"carpet\"}],\"choropleth\":[{\"colorbar\":{\"outlinewidth\":0,\"ticks\":\"\"},\"type\":\"choropleth\"}],\"contour\":[{\"colorbar\":{\"outlinewidth\":0,\"ticks\":\"\"},\"colorscale\":[[0.0,\"#0d0887\"],[0.1111111111111111,\"#46039f\"],[0.2222222222222222,\"#7201a8\"],[0.3333333333333333,\"#9c179e\"],[0.4444444444444444,\"#bd3786\"],[0.5555555555555556,\"#d8576b\"],[0.6666666666666666,\"#ed7953\"],[0.7777777777777778,\"#fb9f3a\"],[0.8888888888888888,\"#fdca26\"],[1.0,\"#f0f921\"]],\"type\":\"contour\"}],\"contourcarpet\":[{\"colorbar\":{\"outlinewidth\":0,\"ticks\":\"\"},\"type\":\"contourcarpet\"}],\"heatmap\":[{\"colorbar\":{\"outlinewidth\":0,\"ticks\":\"\"},\"colorscale\":[[0.0,\"#0d0887\"],[0.1111111111111111,\"#46039f\"],[0.2222222222222222,\"#7201a8\"],[0.3333333333333333,\"#9c179e\"],[0.4444444444444444,\"#bd3786\"],[0.5555555555555556,\"#d8576b\"],[0.6666666666666666,\"#ed7953\"],[0.7777777777777778,\"#fb9f3a\"],[0.8888888888888888,\"#fdca26\"],[1.0,\"#f0f921\"]],\"type\":\"heatmap\"}],\"heatmapgl\":[{\"colorbar\":{\"outlinewidth\":0,\"ticks\":\"\"},\"colorscale\":[[0.0,\"#0d0887\"],[0.1111111111111111,\"#46039f\"],[0.2222222222222222,\"#7201a8\"],[0.3333333333333333,\"#9c179e\"],[0.4444444444444444,\"#bd3786\"],[0.5555555555555556,\"#d8576b\"],[0.6666666666666666,\"#ed7953\"],[0.7777777777777778,\"#fb9f3a\"],[0.8888888888888888,\"#fdca26\"],[1.0,\"#f0f921\"]],\"type\":\"heatmapgl\"}],\"histogram\":[{\"marker\":{\"pattern\":{\"fillmode\":\"overlay\",\"size\":10,\"solidity\":0.2}},\"type\":\"histogram\"}],\"histogram2d\":[{\"colorbar\":{\"outlinewidth\":0,\"ticks\":\"\"},\"colorscale\":[[0.0,\"#0d0887\"],[0.1111111111111111,\"#46039f\"],[0.2222222222222222,\"#7201a8\"],[0.3333333333333333,\"#9c179e\"],[0.4444444444444444,\"#bd3786\"],[0.5555555555555556,\"#d8576b\"],[0.6666666666666666,\"#ed7953\"],[0.7777777777777778,\"#fb9f3a\"],[0.8888888888888888,\"#fdca26\"],[1.0,\"#f0f921\"]],\"type\":\"histogram2d\"}],\"histogram2dcontour\":[{\"colorbar\":{\"outlinewidth\":0,\"ticks\":\"\"},\"colorscale\":[[0.0,\"#0d0887\"],[0.1111111111111111,\"#46039f\"],[0.2222222222222222,\"#7201a8\"],[0.3333333333333333,\"#9c179e\"],[0.4444444444444444,\"#bd3786\"],[0.5555555555555556,\"#d8576b\"],[0.6666666666666666,\"#ed7953\"],[0.7777777777777778,\"#fb9f3a\"],[0.8888888888888888,\"#fdca26\"],[1.0,\"#f0f921\"]],\"type\":\"histogram2dcontour\"}],\"mesh3d\":[{\"colorbar\":{\"outlinewidth\":0,\"ticks\":\"\"},\"type\":\"mesh3d\"}],\"parcoords\":[{\"line\":{\"colorbar\":{\"outlinewidth\":0,\"ticks\":\"\"}},\"type\":\"parcoords\"}],\"pie\":[{\"automargin\":true,\"type\":\"pie\"}],\"scatter\":[{\"marker\":{\"colorbar\":{\"outlinewidth\":0,\"ticks\":\"\"}},\"type\":\"scatter\"}],\"scatter3d\":[{\"line\":{\"colorbar\":{\"outlinewidth\":0,\"ticks\":\"\"}},\"marker\":{\"colorbar\":{\"outlinewidth\":0,\"ticks\":\"\"}},\"type\":\"scatter3d\"}],\"scattercarpet\":[{\"marker\":{\"colorbar\":{\"outlinewidth\":0,\"ticks\":\"\"}},\"type\":\"scattercarpet\"}],\"scattergeo\":[{\"marker\":{\"colorbar\":{\"outlinewidth\":0,\"ticks\":\"\"}},\"type\":\"scattergeo\"}],\"scattergl\":[{\"marker\":{\"colorbar\":{\"outlinewidth\":0,\"ticks\":\"\"}},\"type\":\"scattergl\"}],\"scattermapbox\":[{\"marker\":{\"colorbar\":{\"outlinewidth\":0,\"ticks\":\"\"}},\"type\":\"scattermapbox\"}],\"scatterpolar\":[{\"marker\":{\"colorbar\":{\"outlinewidth\":0,\"ticks\":\"\"}},\"type\":\"scatterpolar\"}],\"scatterpolargl\":[{\"marker\":{\"colorbar\":{\"outlinewidth\":0,\"ticks\":\"\"}},\"type\":\"scatterpolargl\"}],\"scatterternary\":[{\"marker\":{\"colorbar\":{\"outlinewidth\":0,\"ticks\":\"\"}},\"type\":\"scatterternary\"}],\"surface\":[{\"colorbar\":{\"outlinewidth\":0,\"ticks\":\"\"},\"colorscale\":[[0.0,\"#0d0887\"],[0.1111111111111111,\"#46039f\"],[0.2222222222222222,\"#7201a8\"],[0.3333333333333333,\"#9c179e\"],[0.4444444444444444,\"#bd3786\"],[0.5555555555555556,\"#d8576b\"],[0.6666666666666666,\"#ed7953\"],[0.7777777777777778,\"#fb9f3a\"],[0.8888888888888888,\"#fdca26\"],[1.0,\"#f0f921\"]],\"type\":\"surface\"}],\"table\":[{\"cells\":{\"fill\":{\"color\":\"#EBF0F8\"},\"line\":{\"color\":\"white\"}},\"header\":{\"fill\":{\"color\":\"#C8D4E3\"},\"line\":{\"color\":\"white\"}},\"type\":\"table\"}]},\"layout\":{\"annotationdefaults\":{\"arrowcolor\":\"#2a3f5f\",\"arrowhead\":0,\"arrowwidth\":1},\"autotypenumbers\":\"strict\",\"coloraxis\":{\"colorbar\":{\"outlinewidth\":0,\"ticks\":\"\"}},\"colorscale\":{\"diverging\":[[0,\"#8e0152\"],[0.1,\"#c51b7d\"],[0.2,\"#de77ae\"],[0.3,\"#f1b6da\"],[0.4,\"#fde0ef\"],[0.5,\"#f7f7f7\"],[0.6,\"#e6f5d0\"],[0.7,\"#b8e186\"],[0.8,\"#7fbc41\"],[0.9,\"#4d9221\"],[1,\"#276419\"]],\"sequential\":[[0.0,\"#0d0887\"],[0.1111111111111111,\"#46039f\"],[0.2222222222222222,\"#7201a8\"],[0.3333333333333333,\"#9c179e\"],[0.4444444444444444,\"#bd3786\"],[0.5555555555555556,\"#d8576b\"],[0.6666666666666666,\"#ed7953\"],[0.7777777777777778,\"#fb9f3a\"],[0.8888888888888888,\"#fdca26\"],[1.0,\"#f0f921\"]],\"sequentialminus\":[[0.0,\"#0d0887\"],[0.1111111111111111,\"#46039f\"],[0.2222222222222222,\"#7201a8\"],[0.3333333333333333,\"#9c179e\"],[0.4444444444444444,\"#bd3786\"],[0.5555555555555556,\"#d8576b\"],[0.6666666666666666,\"#ed7953\"],[0.7777777777777778,\"#fb9f3a\"],[0.8888888888888888,\"#fdca26\"],[1.0,\"#f0f921\"]]},\"colorway\":[\"#636efa\",\"#EF553B\",\"#00cc96\",\"#ab63fa\",\"#FFA15A\",\"#19d3f3\",\"#FF6692\",\"#B6E880\",\"#FF97FF\",\"#FECB52\"],\"font\":{\"color\":\"#2a3f5f\"},\"geo\":{\"bgcolor\":\"white\",\"lakecolor\":\"white\",\"landcolor\":\"white\",\"showlakes\":true,\"showland\":true,\"subunitcolor\":\"#C8D4E3\"},\"hoverlabel\":{\"align\":\"left\"},\"hovermode\":\"closest\",\"mapbox\":{\"style\":\"light\"},\"paper_bgcolor\":\"white\",\"plot_bgcolor\":\"white\",\"polar\":{\"angularaxis\":{\"gridcolor\":\"#EBF0F8\",\"linecolor\":\"#EBF0F8\",\"ticks\":\"\"},\"bgcolor\":\"white\",\"radialaxis\":{\"gridcolor\":\"#EBF0F8\",\"linecolor\":\"#EBF0F8\",\"ticks\":\"\"}},\"scene\":{\"xaxis\":{\"backgroundcolor\":\"white\",\"gridcolor\":\"#DFE8F3\",\"gridwidth\":2,\"linecolor\":\"#EBF0F8\",\"showbackground\":true,\"ticks\":\"\",\"zerolinecolor\":\"#EBF0F8\"},\"yaxis\":{\"backgroundcolor\":\"white\",\"gridcolor\":\"#DFE8F3\",\"gridwidth\":2,\"linecolor\":\"#EBF0F8\",\"showbackground\":true,\"ticks\":\"\",\"zerolinecolor\":\"#EBF0F8\"},\"zaxis\":{\"backgroundcolor\":\"white\",\"gridcolor\":\"#DFE8F3\",\"gridwidth\":2,\"linecolor\":\"#EBF0F8\",\"showbackground\":true,\"ticks\":\"\",\"zerolinecolor\":\"#EBF0F8\"}},\"shapedefaults\":{\"line\":{\"color\":\"#2a3f5f\"}},\"ternary\":{\"aaxis\":{\"gridcolor\":\"#DFE8F3\",\"linecolor\":\"#A2B1C6\",\"ticks\":\"\"},\"baxis\":{\"gridcolor\":\"#DFE8F3\",\"linecolor\":\"#A2B1C6\",\"ticks\":\"\"},\"bgcolor\":\"white\",\"caxis\":{\"gridcolor\":\"#DFE8F3\",\"linecolor\":\"#A2B1C6\",\"ticks\":\"\"}},\"title\":{\"x\":0.05},\"xaxis\":{\"automargin\":true,\"gridcolor\":\"#EBF0F8\",\"linecolor\":\"#EBF0F8\",\"ticks\":\"\",\"title\":{\"standoff\":15},\"zerolinecolor\":\"#EBF0F8\",\"zerolinewidth\":2},\"yaxis\":{\"automargin\":true,\"gridcolor\":\"#EBF0F8\",\"linecolor\":\"#EBF0F8\",\"ticks\":\"\",\"title\":{\"standoff\":15},\"zerolinecolor\":\"#EBF0F8\",\"zerolinewidth\":2}}},\"xaxis\":{\"anchor\":\"y\",\"domain\":[0.0,1.0],\"title\":{\"text\":\"\\u043a\\u043e\\u043b\\u0438\\u0447\\u0435\\u0441\\u0442\\u0432\\u043e \\u0437\\u0430\\u0432\\u0435\\u0434\\u0435\\u043d\\u0438\\u0439 \\u0432 \\u0441\\u0435\\u0442\\u0438\"}},\"yaxis\":{\"anchor\":\"x\",\"domain\":[0.0,1.0],\"title\":{\"text\":\"\\u0441\\u0440\\u0435\\u0434\\u043d\\u0435\\u0435 \\u0447\\u0438\\u0441\\u043b\\u043e \\u043f\\u043e\\u0441\\u0430\\u0434\\u043e\\u0447\\u043d\\u044b\\u0445 \\u043c\\u0435\\u0441\\u0442\"}},\"legend\":{\"title\":{\"text\":\"\\u041d\\u0430\\u0437\\u0432\\u0430\\u043d\\u0438\\u0435 \\u0441\\u0435\\u0442\\u0438:\"},\"tracegroupgap\":0,\"itemsizing\":\"constant\"},\"title\":{\"text\":\"\\u0420\\u0430\\u0441\\u043f\\u0440\\u0435\\u0434\\u0435\\u043b\\u0435\\u043d\\u0438\\u0435 \\u043f\\u043e\\u0441\\u0430\\u0434\\u043e\\u0447\\u043d\\u044b\\u0445 \\u043c\\u0435\\u0441\\u0442 \\u0432 \\u0442\\u043e\\u043f-10 \\u0441\\u0435\\u0442\\u044f\\u0445\"},\"height\":550,\"width\":900},                        {\"responsive\": true}                    ).then(function(){\n",
              "                            \n",
              "var gd = document.getElementById('bdb3f56c-4d8a-4e92-8786-637db4e23283');\n",
              "var x = new MutationObserver(function (mutations, observer) {{\n",
              "        var display = window.getComputedStyle(gd).display;\n",
              "        if (!display || display === 'none') {{\n",
              "            console.log([gd, 'removed!']);\n",
              "            Plotly.purge(gd);\n",
              "            observer.disconnect();\n",
              "        }}\n",
              "}});\n",
              "\n",
              "// Listen for the removal of the full notebook cells\n",
              "var notebookContainer = gd.closest('#notebook-container');\n",
              "if (notebookContainer) {{\n",
              "    x.observe(notebookContainer, {childList: true});\n",
              "}}\n",
              "\n",
              "// Listen for the clearing of the current output cell\n",
              "var outputEl = gd.closest('.output');\n",
              "if (outputEl) {{\n",
              "    x.observe(outputEl, {childList: true});\n",
              "}}\n",
              "\n",
              "                        })                };                            </script>        </div>\n",
              "</body>\n",
              "</html>"
            ]
          },
          "metadata": {}
        }
      ],
      "source": [
        "fig = px.scatter(\n",
        "    chain_df.head(100),\n",
        "    y='seat_median',\n",
        "    x='objects',\n",
        "    color='object_name',\n",
        "    size='objects',\n",
        "    size_max=50,\n",
        "    labels={'seat_median': 'среднее число посадочных мест', 'objects': 'количество заведений в сети'},\n",
        "    template='plotly_white',\n",
        "    title='Распределение посадочных мест для сетевых заведений'\n",
        ")\n",
        "fig.update_layout(showlegend=False)\n",
        "\n",
        "fig.show()\n",
        "\n",
        "fig = px.scatter(\n",
        "    chain_df.head(10),\n",
        "    y='seat_median',\n",
        "    x='objects',\n",
        "    color='object_name',\n",
        "    size='objects',\n",
        "    size_max=60,\n",
        "    hover_name=\"object_name\", \n",
        "    text='seat_median', \n",
        "    opacity=.7,\n",
        "    labels={'seat_median': 'среднее число посадочных мест', 'objects': 'количество заведений в сети', 'object_name':'Название сети:'},\n",
        "    template='plotly_white',\n",
        "    title='Распределение посадочных мест в топ-10 сетях'\n",
        ")\n",
        "\n",
        "\n",
        "fig.show()"
      ]
    },
    {
      "cell_type": "code",
      "execution_count": 35,
      "metadata": {
        "scrolled": false,
        "colab": {
          "base_uri": "https://localhost:8080/",
          "height": 602
        },
        "id": "3Ies3tHU94Dq",
        "outputId": "9de781b3-a35e-409f-db73-2f2b20698be6"
      },
      "outputs": [
        {
          "output_type": "display_data",
          "data": {
            "text/html": [
              "<html>\n",
              "<head><meta charset=\"utf-8\" /></head>\n",
              "<body>\n",
              "    <div>            <script src=\"https://cdnjs.cloudflare.com/ajax/libs/mathjax/2.7.5/MathJax.js?config=TeX-AMS-MML_SVG\"></script><script type=\"text/javascript\">if (window.MathJax) {MathJax.Hub.Config({SVG: {font: \"STIX-Web\"}});}</script>                <script type=\"text/javascript\">window.PlotlyConfig = {MathJaxConfig: 'local'};</script>\n",
              "        <script src=\"https://cdn.plot.ly/plotly-2.8.3.min.js\"></script>                <div id=\"a63a7381-c827-4f67-b60b-6de029d223b2\" class=\"plotly-graph-div\" style=\"height:550px; width:900px;\"></div>            <script type=\"text/javascript\">                                    window.PLOTLYENV=window.PLOTLYENV || {};                                    if (document.getElementById(\"a63a7381-c827-4f67-b60b-6de029d223b2\")) {                    Plotly.newPlot(                        \"a63a7381-c827-4f67-b60b-6de029d223b2\",                        [{\"hovertemplate\":\"\\u041c\\u0435\\u0434\\u0438\\u0430\\u043d\\u043d\\u043e\\u0435 \\u043a\\u043e\\u043b-\\u0432\\u043e \\u043f\\u043e\\u0441\\u0430\\u0434\\u043e\\u0447\\u043d\\u044b\\u0445 \\u043c\\u0435\\u0441\\u0442=%{marker.color}<br>\\u041a\\u043e\\u043b-\\u0432\\u043e \\u043e\\u0431\\u044a\\u0435\\u043a\\u0442\\u043e\\u0432 \\u0432 \\u0441\\u0435\\u0442\\u0438=%{y}<extra></extra>\",\"legendgroup\":\"\",\"marker\":{\"color\":[50.0,45.0,76.0,45.0,23.0,15.0,16.0,0.0,6.0,20.0,30.0,0.0,100.0,98.0,46.5,50.0,15.0,99.0,40.0,42.0,30.0,96.0,10.0,42.5,140.0,41.0,10.0,56.0,19.0,60.0,31.5,32.0,6.0,65.0,0.0,0.0,90.0,25.0,5.0,6.0,17.0,2.5,60.0,60.0,98.0,33.5,18.5,75.0,96.0,110.0,20.0,90.0,110.0,30.0,24.0,40.0,25.0,90.0,65.0,33.0,121.0,150.0,10.0,160.0,75.0,6.0,36.0,27.0,45.0,70.0,49.5,84.0,165.0,10.0,103.5,3.5,54.0,58.0,17.0,50.0,75.0,18.0,46.0,91.5,12.0,115.0,57.5,103.5,47.5,17.5,16.0,55.0,50.0,160.0,16.0,40.0,15.0,45.0,30.0,10.0,36.0,15.0,40.0,136.0,16.0,10.0,64.0,24.0,36.0,130.0,55.5,110.0,130.0,134.0,125.0,104.0,9.5,75.0,47.0,37.5,85.0,75.0,50.0,26.0,20.0,145.0,60.0,20.0,90.0,130.0,30.0,80.0,27.0,22.0,24.0,80.0,20.0,98.0,80.0,67.0,32.0,49.0,95.0,20.0,54.0,200.0,124.0,50.0,68.0,128.0,0.0,25.0,42.0,36.0,200.0,90.0,41.0,81.0,25.0,85.0,220.0,0.0,50.0,240.0,15.0,145.0,45.0,120.0,15.0,54.0,38.0,35.0,63.0,85.0,89.0,10.0,22.0,43.5,139.0,13.5,27.5,38.0,43.0,7.5,18.5,18.0,135.0,23.5,24.5,32.5,72.5,125.0,45.0,17.5,17.5,22.0,17.5,121.5,35.0,42.0,30.0,48.0,245.0,99.0,85.0,0.0,110.0,70.0,215.0,49.0,25.0,97.5,10.0,26.0,55.0,83.5,18.0,22.5,93.0,2.0,98.0,0.0,97.5,43.5,12.0,16.5,39.0,11.0,90.0,38.0,0.0,62.5,21.5,105.0,123.0,47.5,113.0,18.0,94.0,21.0,3.0,20.5,17.5,72.0,20.0,94.0,150.0,40.0,50.0,30.0,43.0,250.0,306.0,149.0,60.0,100.0,0.0,63.0,180.0,40.0,170.0,25.0,48.0,130.0,20.0,55.0,28.0,25.0,45.0,99.0,80.0,0.0,20.0,96.0,30.0,155.0,300.0,60.0,40.0,2.0,60.0,60.0,1.0,282.0,99.0,12.0,48.0,48.0,25.0,20.0,60.0,25.0,45.0,50.0,22.0,100.0,11.0,10.0,85.0,0.0,70.0,32.0,30.0,40.0,120.0,80.0,82.0,60.0,280.0,20.0,0.0,16.0,10.0,50.0,150.0,10.0,95.0,70.0,35.0,200.0,20.0,98.0,120.0,100.0,48.0,8.0,80.0,16.0,24.0,20.0,95.0,98.0,80.0,80.0,16.0,90.0,48.0,135.0,96.0,200.0,70.0,28.0,0.0,12.0,96.0,50.0,92.0,266.0,8.0,6.0,24.0,160.0,20.0,22.0,20.0,4.0,32.0,40.0,10.0,35.0,24.0,120.0,0.0,180.0,88.0,42.0,65.0,143.0,144.0,120.0,17.0,50.0,98.0,42.0,96.0,0.0,15.0,40.0,46.0,85.0,190.0,48.0,50.0,10.0,80.0,80.0,90.0,1.0,35.0,25.0,5.0,0.0,1.0,36.0,32.0,35.0,60.0,10.0,0.0,0.0,20.0,10.0,2.0,10.0,40.0,4.0,70.0,7.0,80.0,45.0,41.0,40.0,80.0,98.0,120.0,12.0,90.0,45.0,43.0,65.0,5.0,6.0,20.0,35.0,10.0,0.0,65.0,0.0,90.0,150.0,146.0,82.0,96.0,45.0,65.0,50.0,70.0,80.0,40.0,4.0,0.0,6.0,46.0,40.0,33.0,28.0,34.0,8.0,39.0,6.0,0.0,70.0,150.0,60.0,0.0,40.0,20.0,10.0,150.0,40.0,48.0,20.0,20.0,40.0,0.0,20.0,90.0,50.0,45.0,100.0,45.0,60.0,22.0,225.0,35.0,70.0,85.0,65.0,90.0,42.0,23.0,40.0,10.0,50.0,130.0,20.0,6.0,75.0,2.0,20.0,50.0,18.0,87.0,3.0,84.0,100.0,15.0,45.0,53.0,17.0,70.0,60.0,215.0,99.0,60.0,48.0,48.0,40.0,35.0,22.0,70.0,250.0,10.0,12.0,70.0,20.0,80.0,20.0,170.0,75.0,20.0,25.0,16.0,90.0,15.0,30.0,8.0,90.0,50.0,3.0,165.0,60.0,40.0,18.0,10.0,60.0,75.0,60.0,10.0,80.0,98.0,40.0,2.0,19.0,12.0,23.0,40.0,9.0,40.0,40.0,15.0,16.0,7.0,175.0,35.0,17.0,4.0,12.0,16.0,80.0,75.0,300.0,12.0,122.0,48.0,150.0,68.0,10.0,176.0,22.0,225.0,102.0,38.0,50.0,80.0,70.0,4.0],\"coloraxis\":\"coloraxis\",\"symbol\":\"circle\"},\"mode\":\"markers\",\"name\":\"\",\"orientation\":\"v\",\"showlegend\":false,\"x\":[50.0,45.0,76.0,45.0,23.0,15.0,16.0,0.0,6.0,20.0,30.0,0.0,100.0,98.0,46.5,50.0,15.0,99.0,40.0,42.0,30.0,96.0,10.0,42.5,140.0,41.0,10.0,56.0,19.0,60.0,31.5,32.0,6.0,65.0,0.0,0.0,90.0,25.0,5.0,6.0,17.0,2.5,60.0,60.0,98.0,33.5,18.5,75.0,96.0,110.0,20.0,90.0,110.0,30.0,24.0,40.0,25.0,90.0,65.0,33.0,121.0,150.0,10.0,160.0,75.0,6.0,36.0,27.0,45.0,70.0,49.5,84.0,165.0,10.0,103.5,3.5,54.0,58.0,17.0,50.0,75.0,18.0,46.0,91.5,12.0,115.0,57.5,103.5,47.5,17.5,16.0,55.0,50.0,160.0,16.0,40.0,15.0,45.0,30.0,10.0,36.0,15.0,40.0,136.0,16.0,10.0,64.0,24.0,36.0,130.0,55.5,110.0,130.0,134.0,125.0,104.0,9.5,75.0,47.0,37.5,85.0,75.0,50.0,26.0,20.0,145.0,60.0,20.0,90.0,130.0,30.0,80.0,27.0,22.0,24.0,80.0,20.0,98.0,80.0,67.0,32.0,49.0,95.0,20.0,54.0,200.0,124.0,50.0,68.0,128.0,0.0,25.0,42.0,36.0,200.0,90.0,41.0,81.0,25.0,85.0,220.0,0.0,50.0,240.0,15.0,145.0,45.0,120.0,15.0,54.0,38.0,35.0,63.0,85.0,89.0,10.0,22.0,43.5,139.0,13.5,27.5,38.0,43.0,7.5,18.5,18.0,135.0,23.5,24.5,32.5,72.5,125.0,45.0,17.5,17.5,22.0,17.5,121.5,35.0,42.0,30.0,48.0,245.0,99.0,85.0,0.0,110.0,70.0,215.0,49.0,25.0,97.5,10.0,26.0,55.0,83.5,18.0,22.5,93.0,2.0,98.0,0.0,97.5,43.5,12.0,16.5,39.0,11.0,90.0,38.0,0.0,62.5,21.5,105.0,123.0,47.5,113.0,18.0,94.0,21.0,3.0,20.5,17.5,72.0,20.0,94.0,150.0,40.0,50.0,30.0,43.0,250.0,306.0,149.0,60.0,100.0,0.0,63.0,180.0,40.0,170.0,25.0,48.0,130.0,20.0,55.0,28.0,25.0,45.0,99.0,80.0,0.0,20.0,96.0,30.0,155.0,300.0,60.0,40.0,2.0,60.0,60.0,1.0,282.0,99.0,12.0,48.0,48.0,25.0,20.0,60.0,25.0,45.0,50.0,22.0,100.0,11.0,10.0,85.0,0.0,70.0,32.0,30.0,40.0,120.0,80.0,82.0,60.0,280.0,20.0,0.0,16.0,10.0,50.0,150.0,10.0,95.0,70.0,35.0,200.0,20.0,98.0,120.0,100.0,48.0,8.0,80.0,16.0,24.0,20.0,95.0,98.0,80.0,80.0,16.0,90.0,48.0,135.0,96.0,200.0,70.0,28.0,0.0,12.0,96.0,50.0,92.0,266.0,8.0,6.0,24.0,160.0,20.0,22.0,20.0,4.0,32.0,40.0,10.0,35.0,24.0,120.0,0.0,180.0,88.0,42.0,65.0,143.0,144.0,120.0,17.0,50.0,98.0,42.0,96.0,0.0,15.0,40.0,46.0,85.0,190.0,48.0,50.0,10.0,80.0,80.0,90.0,1.0,35.0,25.0,5.0,0.0,1.0,36.0,32.0,35.0,60.0,10.0,0.0,0.0,20.0,10.0,2.0,10.0,40.0,4.0,70.0,7.0,80.0,45.0,41.0,40.0,80.0,98.0,120.0,12.0,90.0,45.0,43.0,65.0,5.0,6.0,20.0,35.0,10.0,0.0,65.0,0.0,90.0,150.0,146.0,82.0,96.0,45.0,65.0,50.0,70.0,80.0,40.0,4.0,0.0,6.0,46.0,40.0,33.0,28.0,34.0,8.0,39.0,6.0,0.0,70.0,150.0,60.0,0.0,40.0,20.0,10.0,150.0,40.0,48.0,20.0,20.0,40.0,0.0,20.0,90.0,50.0,45.0,100.0,45.0,60.0,22.0,225.0,35.0,70.0,85.0,65.0,90.0,42.0,23.0,40.0,10.0,50.0,130.0,20.0,6.0,75.0,2.0,20.0,50.0,18.0,87.0,3.0,84.0,100.0,15.0,45.0,53.0,17.0,70.0,60.0,215.0,99.0,60.0,48.0,48.0,40.0,35.0,22.0,70.0,250.0,10.0,12.0,70.0,20.0,80.0,20.0,170.0,75.0,20.0,25.0,16.0,90.0,15.0,30.0,8.0,90.0,50.0,3.0,165.0,60.0,40.0,18.0,10.0,60.0,75.0,60.0,10.0,80.0,98.0,40.0,2.0,19.0,12.0,23.0,40.0,9.0,40.0,40.0,15.0,16.0,7.0,175.0,35.0,17.0,4.0,12.0,16.0,80.0,75.0,300.0,12.0,122.0,48.0,150.0,68.0,10.0,176.0,22.0,225.0,102.0,38.0,50.0,80.0,70.0,4.0],\"xaxis\":\"x\",\"y\":[157,155,151,137,94,90,90,72,72,51,49,46,43,38,38,35,34,32,32,30,26,25,25,24,24,21,19,19,18,16,16,15,15,15,15,14,14,13,13,13,12,12,11,11,11,10,10,10,10,10,9,9,9,9,9,9,9,9,8,8,8,7,7,7,7,7,7,7,7,6,6,6,6,6,6,6,6,6,6,6,6,6,6,6,6,6,6,6,6,6,6,6,5,5,5,5,5,5,5,5,5,5,5,5,5,5,5,5,5,4,4,4,4,4,4,4,4,4,4,4,4,4,4,4,3,3,3,3,3,3,3,3,3,3,3,3,3,3,3,3,3,3,3,3,3,3,3,3,3,3,3,3,3,3,3,3,3,3,3,3,3,3,3,3,3,3,3,3,3,2,2,2,2,2,2,2,2,2,2,2,2,2,2,2,2,2,2,2,2,2,2,2,2,2,2,2,2,2,2,2,2,2,2,2,2,2,2,2,2,2,2,2,2,2,2,2,2,2,2,2,2,2,2,2,2,2,2,2,2,2,2,2,2,2,2,2,2,2,2,2,2,2,2,2,2,2,1,1,1,1,1,1,1,1,1,1,1,1,1,1,1,1,1,1,1,1,1,1,1,1,1,1,1,1,1,1,1,1,1,1,1,1,1,1,1,1,1,1,1,1,1,1,1,1,1,1,1,1,1,1,1,1,1,1,1,1,1,1,1,1,1,1,1,1,1,1,1,1,1,1,1,1,1,1,1,1,1,1,1,1,1,1,1,1,1,1,1,1,1,1,1,1,1,1,1,1,1,1,1,1,1,1,1,1,1,1,1,1,1,1,1,1,1,1,1,1,1,1,1,1,1,1,1,1,1,1,1,1,1,1,1,1,1,1,1,1,1,1,1,1,1,1,1,1,1,1,1,1,1,1,1,1,1,1,1,1,1,1,1,1,1,1,1,1,1,1,1,1,1,1,1,1,1,1,1,1,1,1,1,1,1,1,1,1,1,1,1,1,1,1,1,1,1,1,1,1,1,1,1,1,1,1,1,1,1,1,1,1,1,1,1,1,1,1,1,1,1,1,1,1,1,1,1,1,1,1,1,1,1,1,1,1,1,1,1,1,1,1,1,1,1,1,1,1,1,1,1,1,1,1,1,1,1,1,1,1,1,1,1,1,1,1,1,1,1,1,1,1,1,1,1,1,1,1,1,1,1,1,1,1,1,1,1,1,1,1,1,1,1,1,1,1,1,1,1,1,1,1,1,1,1,1,1,1,1,1,1,1,1,1,1,1,1,1,1,1,1,1,1,1,1,1,1,1,1,1,1],\"yaxis\":\"y\",\"type\":\"scatter\"}],                        {\"template\":{\"data\":{\"bar\":[{\"error_x\":{\"color\":\"#2a3f5f\"},\"error_y\":{\"color\":\"#2a3f5f\"},\"marker\":{\"line\":{\"color\":\"white\",\"width\":0.5},\"pattern\":{\"fillmode\":\"overlay\",\"size\":10,\"solidity\":0.2}},\"type\":\"bar\"}],\"barpolar\":[{\"marker\":{\"line\":{\"color\":\"white\",\"width\":0.5},\"pattern\":{\"fillmode\":\"overlay\",\"size\":10,\"solidity\":0.2}},\"type\":\"barpolar\"}],\"carpet\":[{\"aaxis\":{\"endlinecolor\":\"#2a3f5f\",\"gridcolor\":\"#C8D4E3\",\"linecolor\":\"#C8D4E3\",\"minorgridcolor\":\"#C8D4E3\",\"startlinecolor\":\"#2a3f5f\"},\"baxis\":{\"endlinecolor\":\"#2a3f5f\",\"gridcolor\":\"#C8D4E3\",\"linecolor\":\"#C8D4E3\",\"minorgridcolor\":\"#C8D4E3\",\"startlinecolor\":\"#2a3f5f\"},\"type\":\"carpet\"}],\"choropleth\":[{\"colorbar\":{\"outlinewidth\":0,\"ticks\":\"\"},\"type\":\"choropleth\"}],\"contour\":[{\"colorbar\":{\"outlinewidth\":0,\"ticks\":\"\"},\"colorscale\":[[0.0,\"#0d0887\"],[0.1111111111111111,\"#46039f\"],[0.2222222222222222,\"#7201a8\"],[0.3333333333333333,\"#9c179e\"],[0.4444444444444444,\"#bd3786\"],[0.5555555555555556,\"#d8576b\"],[0.6666666666666666,\"#ed7953\"],[0.7777777777777778,\"#fb9f3a\"],[0.8888888888888888,\"#fdca26\"],[1.0,\"#f0f921\"]],\"type\":\"contour\"}],\"contourcarpet\":[{\"colorbar\":{\"outlinewidth\":0,\"ticks\":\"\"},\"type\":\"contourcarpet\"}],\"heatmap\":[{\"colorbar\":{\"outlinewidth\":0,\"ticks\":\"\"},\"colorscale\":[[0.0,\"#0d0887\"],[0.1111111111111111,\"#46039f\"],[0.2222222222222222,\"#7201a8\"],[0.3333333333333333,\"#9c179e\"],[0.4444444444444444,\"#bd3786\"],[0.5555555555555556,\"#d8576b\"],[0.6666666666666666,\"#ed7953\"],[0.7777777777777778,\"#fb9f3a\"],[0.8888888888888888,\"#fdca26\"],[1.0,\"#f0f921\"]],\"type\":\"heatmap\"}],\"heatmapgl\":[{\"colorbar\":{\"outlinewidth\":0,\"ticks\":\"\"},\"colorscale\":[[0.0,\"#0d0887\"],[0.1111111111111111,\"#46039f\"],[0.2222222222222222,\"#7201a8\"],[0.3333333333333333,\"#9c179e\"],[0.4444444444444444,\"#bd3786\"],[0.5555555555555556,\"#d8576b\"],[0.6666666666666666,\"#ed7953\"],[0.7777777777777778,\"#fb9f3a\"],[0.8888888888888888,\"#fdca26\"],[1.0,\"#f0f921\"]],\"type\":\"heatmapgl\"}],\"histogram\":[{\"marker\":{\"pattern\":{\"fillmode\":\"overlay\",\"size\":10,\"solidity\":0.2}},\"type\":\"histogram\"}],\"histogram2d\":[{\"colorbar\":{\"outlinewidth\":0,\"ticks\":\"\"},\"colorscale\":[[0.0,\"#0d0887\"],[0.1111111111111111,\"#46039f\"],[0.2222222222222222,\"#7201a8\"],[0.3333333333333333,\"#9c179e\"],[0.4444444444444444,\"#bd3786\"],[0.5555555555555556,\"#d8576b\"],[0.6666666666666666,\"#ed7953\"],[0.7777777777777778,\"#fb9f3a\"],[0.8888888888888888,\"#fdca26\"],[1.0,\"#f0f921\"]],\"type\":\"histogram2d\"}],\"histogram2dcontour\":[{\"colorbar\":{\"outlinewidth\":0,\"ticks\":\"\"},\"colorscale\":[[0.0,\"#0d0887\"],[0.1111111111111111,\"#46039f\"],[0.2222222222222222,\"#7201a8\"],[0.3333333333333333,\"#9c179e\"],[0.4444444444444444,\"#bd3786\"],[0.5555555555555556,\"#d8576b\"],[0.6666666666666666,\"#ed7953\"],[0.7777777777777778,\"#fb9f3a\"],[0.8888888888888888,\"#fdca26\"],[1.0,\"#f0f921\"]],\"type\":\"histogram2dcontour\"}],\"mesh3d\":[{\"colorbar\":{\"outlinewidth\":0,\"ticks\":\"\"},\"type\":\"mesh3d\"}],\"parcoords\":[{\"line\":{\"colorbar\":{\"outlinewidth\":0,\"ticks\":\"\"}},\"type\":\"parcoords\"}],\"pie\":[{\"automargin\":true,\"type\":\"pie\"}],\"scatter\":[{\"marker\":{\"colorbar\":{\"outlinewidth\":0,\"ticks\":\"\"}},\"type\":\"scatter\"}],\"scatter3d\":[{\"line\":{\"colorbar\":{\"outlinewidth\":0,\"ticks\":\"\"}},\"marker\":{\"colorbar\":{\"outlinewidth\":0,\"ticks\":\"\"}},\"type\":\"scatter3d\"}],\"scattercarpet\":[{\"marker\":{\"colorbar\":{\"outlinewidth\":0,\"ticks\":\"\"}},\"type\":\"scattercarpet\"}],\"scattergeo\":[{\"marker\":{\"colorbar\":{\"outlinewidth\":0,\"ticks\":\"\"}},\"type\":\"scattergeo\"}],\"scattergl\":[{\"marker\":{\"colorbar\":{\"outlinewidth\":0,\"ticks\":\"\"}},\"type\":\"scattergl\"}],\"scattermapbox\":[{\"marker\":{\"colorbar\":{\"outlinewidth\":0,\"ticks\":\"\"}},\"type\":\"scattermapbox\"}],\"scatterpolar\":[{\"marker\":{\"colorbar\":{\"outlinewidth\":0,\"ticks\":\"\"}},\"type\":\"scatterpolar\"}],\"scatterpolargl\":[{\"marker\":{\"colorbar\":{\"outlinewidth\":0,\"ticks\":\"\"}},\"type\":\"scatterpolargl\"}],\"scatterternary\":[{\"marker\":{\"colorbar\":{\"outlinewidth\":0,\"ticks\":\"\"}},\"type\":\"scatterternary\"}],\"surface\":[{\"colorbar\":{\"outlinewidth\":0,\"ticks\":\"\"},\"colorscale\":[[0.0,\"#0d0887\"],[0.1111111111111111,\"#46039f\"],[0.2222222222222222,\"#7201a8\"],[0.3333333333333333,\"#9c179e\"],[0.4444444444444444,\"#bd3786\"],[0.5555555555555556,\"#d8576b\"],[0.6666666666666666,\"#ed7953\"],[0.7777777777777778,\"#fb9f3a\"],[0.8888888888888888,\"#fdca26\"],[1.0,\"#f0f921\"]],\"type\":\"surface\"}],\"table\":[{\"cells\":{\"fill\":{\"color\":\"#EBF0F8\"},\"line\":{\"color\":\"white\"}},\"header\":{\"fill\":{\"color\":\"#C8D4E3\"},\"line\":{\"color\":\"white\"}},\"type\":\"table\"}]},\"layout\":{\"annotationdefaults\":{\"arrowcolor\":\"#2a3f5f\",\"arrowhead\":0,\"arrowwidth\":1},\"autotypenumbers\":\"strict\",\"coloraxis\":{\"colorbar\":{\"outlinewidth\":0,\"ticks\":\"\"}},\"colorscale\":{\"diverging\":[[0,\"#8e0152\"],[0.1,\"#c51b7d\"],[0.2,\"#de77ae\"],[0.3,\"#f1b6da\"],[0.4,\"#fde0ef\"],[0.5,\"#f7f7f7\"],[0.6,\"#e6f5d0\"],[0.7,\"#b8e186\"],[0.8,\"#7fbc41\"],[0.9,\"#4d9221\"],[1,\"#276419\"]],\"sequential\":[[0.0,\"#0d0887\"],[0.1111111111111111,\"#46039f\"],[0.2222222222222222,\"#7201a8\"],[0.3333333333333333,\"#9c179e\"],[0.4444444444444444,\"#bd3786\"],[0.5555555555555556,\"#d8576b\"],[0.6666666666666666,\"#ed7953\"],[0.7777777777777778,\"#fb9f3a\"],[0.8888888888888888,\"#fdca26\"],[1.0,\"#f0f921\"]],\"sequentialminus\":[[0.0,\"#0d0887\"],[0.1111111111111111,\"#46039f\"],[0.2222222222222222,\"#7201a8\"],[0.3333333333333333,\"#9c179e\"],[0.4444444444444444,\"#bd3786\"],[0.5555555555555556,\"#d8576b\"],[0.6666666666666666,\"#ed7953\"],[0.7777777777777778,\"#fb9f3a\"],[0.8888888888888888,\"#fdca26\"],[1.0,\"#f0f921\"]]},\"colorway\":[\"#636efa\",\"#EF553B\",\"#00cc96\",\"#ab63fa\",\"#FFA15A\",\"#19d3f3\",\"#FF6692\",\"#B6E880\",\"#FF97FF\",\"#FECB52\"],\"font\":{\"color\":\"#2a3f5f\"},\"geo\":{\"bgcolor\":\"white\",\"lakecolor\":\"white\",\"landcolor\":\"white\",\"showlakes\":true,\"showland\":true,\"subunitcolor\":\"#C8D4E3\"},\"hoverlabel\":{\"align\":\"left\"},\"hovermode\":\"closest\",\"mapbox\":{\"style\":\"light\"},\"paper_bgcolor\":\"white\",\"plot_bgcolor\":\"white\",\"polar\":{\"angularaxis\":{\"gridcolor\":\"#EBF0F8\",\"linecolor\":\"#EBF0F8\",\"ticks\":\"\"},\"bgcolor\":\"white\",\"radialaxis\":{\"gridcolor\":\"#EBF0F8\",\"linecolor\":\"#EBF0F8\",\"ticks\":\"\"}},\"scene\":{\"xaxis\":{\"backgroundcolor\":\"white\",\"gridcolor\":\"#DFE8F3\",\"gridwidth\":2,\"linecolor\":\"#EBF0F8\",\"showbackground\":true,\"ticks\":\"\",\"zerolinecolor\":\"#EBF0F8\"},\"yaxis\":{\"backgroundcolor\":\"white\",\"gridcolor\":\"#DFE8F3\",\"gridwidth\":2,\"linecolor\":\"#EBF0F8\",\"showbackground\":true,\"ticks\":\"\",\"zerolinecolor\":\"#EBF0F8\"},\"zaxis\":{\"backgroundcolor\":\"white\",\"gridcolor\":\"#DFE8F3\",\"gridwidth\":2,\"linecolor\":\"#EBF0F8\",\"showbackground\":true,\"ticks\":\"\",\"zerolinecolor\":\"#EBF0F8\"}},\"shapedefaults\":{\"line\":{\"color\":\"#2a3f5f\"}},\"ternary\":{\"aaxis\":{\"gridcolor\":\"#DFE8F3\",\"linecolor\":\"#A2B1C6\",\"ticks\":\"\"},\"baxis\":{\"gridcolor\":\"#DFE8F3\",\"linecolor\":\"#A2B1C6\",\"ticks\":\"\"},\"bgcolor\":\"white\",\"caxis\":{\"gridcolor\":\"#DFE8F3\",\"linecolor\":\"#A2B1C6\",\"ticks\":\"\"}},\"title\":{\"x\":0.05},\"xaxis\":{\"automargin\":true,\"gridcolor\":\"#EBF0F8\",\"linecolor\":\"#EBF0F8\",\"ticks\":\"\",\"title\":{\"standoff\":15},\"zerolinecolor\":\"#EBF0F8\",\"zerolinewidth\":2},\"yaxis\":{\"automargin\":true,\"gridcolor\":\"#EBF0F8\",\"linecolor\":\"#EBF0F8\",\"ticks\":\"\",\"title\":{\"standoff\":15},\"zerolinecolor\":\"#EBF0F8\",\"zerolinewidth\":2}}},\"xaxis\":{\"anchor\":\"y\",\"domain\":[0.0,1.0],\"title\":{\"text\":\"\\u041c\\u0435\\u0434\\u0438\\u0430\\u043d\\u043d\\u043e\\u0435 \\u043a\\u043e\\u043b-\\u0432\\u043e \\u043f\\u043e\\u0441\\u0430\\u0434\\u043e\\u0447\\u043d\\u044b\\u0445 \\u043c\\u0435\\u0441\\u0442\"}},\"yaxis\":{\"anchor\":\"x\",\"domain\":[0.0,1.0],\"title\":{\"text\":\"\\u041a\\u043e\\u043b-\\u0432\\u043e \\u043e\\u0431\\u044a\\u0435\\u043a\\u0442\\u043e\\u0432 \\u0432 \\u0441\\u0435\\u0442\\u0438\"}},\"coloraxis\":{\"colorbar\":{\"title\":{\"text\":\"\\u041c\\u0435\\u0434\\u0438\\u0430\\u043d\\u043d\\u043e\\u0435 \\u043a\\u043e\\u043b-\\u0432\\u043e \\u043f\\u043e\\u0441\\u0430\\u0434\\u043e\\u0447\\u043d\\u044b\\u0445 \\u043c\\u0435\\u0441\\u0442\"}},\"colorscale\":[[0.0,\"rgb(75, 41, 145)\"],[0.16666666666666666,\"rgb(135, 44, 162)\"],[0.3333333333333333,\"rgb(192, 54, 157)\"],[0.5,\"rgb(234, 79, 136)\"],[0.6666666666666666,\"rgb(250, 120, 118)\"],[0.8333333333333334,\"rgb(246, 169, 122)\"],[1.0,\"rgb(237, 217, 163)\"]]},\"legend\":{\"tracegroupgap\":0},\"margin\":{\"t\":60},\"height\":550,\"width\":900,\"shapes\":[{\"line\":{\"color\":\"green\",\"dash\":\"dash\",\"width\":3},\"type\":\"line\",\"x0\":125.0,\"x1\":125.0,\"xref\":\"x\",\"y0\":0,\"y1\":1,\"yref\":\"y domain\"},{\"line\":{\"color\":\"green\",\"dash\":\"dash\",\"width\":3},\"type\":\"line\",\"x0\":0,\"x1\":1,\"xref\":\"x domain\",\"y0\":8.399999999999977,\"y1\":8.399999999999977,\"yref\":\"y\"}]},                        {\"responsive\": true}                    ).then(function(){\n",
              "                            \n",
              "var gd = document.getElementById('a63a7381-c827-4f67-b60b-6de029d223b2');\n",
              "var x = new MutationObserver(function (mutations, observer) {{\n",
              "        var display = window.getComputedStyle(gd).display;\n",
              "        if (!display || display === 'none') {{\n",
              "            console.log([gd, 'removed!']);\n",
              "            Plotly.purge(gd);\n",
              "            observer.disconnect();\n",
              "        }}\n",
              "}});\n",
              "\n",
              "// Listen for the removal of the full notebook cells\n",
              "var notebookContainer = gd.closest('#notebook-container');\n",
              "if (notebookContainer) {{\n",
              "    x.observe(notebookContainer, {childList: true});\n",
              "}}\n",
              "\n",
              "// Listen for the clearing of the current output cell\n",
              "var outputEl = gd.closest('.output');\n",
              "if (outputEl) {{\n",
              "    x.observe(outputEl, {childList: true});\n",
              "}}\n",
              "\n",
              "                        })                };                            </script>        </div>\n",
              "</body>\n",
              "</html>"
            ]
          },
          "metadata": {}
        },
        {
          "output_type": "stream",
          "name": "stdout",
          "text": [
            "90% сетевых заведений имеют не более 125.0 посадочных мест\n",
            "90% сетей имеют не более 8.0 объектов\n"
          ]
        }
      ],
      "source": [
        "#Строим еще один scatter для наглядности\n",
        "median_90 = np.percentile(chain_df['seat_median'], 90)\n",
        "object_90 = np.percentile(chain_df['objects'], 90)\n",
        "fig = px.scatter(chain_df, y=\"objects\", x=\"seat_median\",color=\"seat_median\", \n",
        "                 labels={\n",
        "                     \"seat_median\": \"Медианное кол-во посадочных мест\",\n",
        "                     \"objects\": \"Кол-во объектов в сети\"\n",
        "                 },\n",
        "                 render_mode='markers')\n",
        "\n",
        "fig.add_vline(x=median_90, line_width=3, line_dash=\"dash\", line_color=\"green\")\n",
        "fig.add_hline(y=object_90, line_width=3, line_dash=\"dash\", line_color=\"green\")\n",
        "fig.show()\n",
        "print('90% сетевых заведений имеют не более', median_90, 'посадочных мест')\n",
        "print('90% сетей имеют не более', object_90.round(0), 'объектов')\n"
      ]
    },
    {
      "cell_type": "markdown",
      "metadata": {
        "id": "tvDJ316E94Dq"
      },
      "source": [
        "**Вывод:** Топовые сетевые заведения имеют в среднем 30-50 посадочных мест и более 90 заведений в сети. Отсюда делаем вывод, что для сетевых заведений характерно много заведений с небольшим числом посадочных мест. "
      ]
    },
    {
      "cell_type": "markdown",
      "metadata": {
        "id": "xIfTU9qJ94Dq"
      },
      "source": [
        "### Для каждого вида объекта общественного питания опишите среднее количество посадочных мест. Какой вид предоставляет в среднем самое большое количество посадочных мест? "
      ]
    },
    {
      "cell_type": "code",
      "execution_count": 36,
      "metadata": {
        "colab": {
          "base_uri": "https://localhost:8080/",
          "height": 332
        },
        "id": "hCCEKyHV94Dr",
        "outputId": "0fa94167-7593-4de9-e804-c5f63992391e"
      },
      "outputs": [
        {
          "output_type": "execute_result",
          "data": {
            "text/plain": [
              "            object_type  seat_median\n",
              "7              столовая        103.0\n",
              "6              ресторан         80.0\n",
              "0                   бар         35.0\n",
              "1                 буфет         32.0\n",
              "3                  кафе         30.0\n",
              "4             кафетерий          6.0\n",
              "8              фаст-фуд          5.0\n",
              "2            закусочная          0.0\n",
              "5  кулинария в магазине          0.0"
            ],
            "text/html": [
              "\n",
              "  <div id=\"df-aa0f21d6-f8e1-4d27-bc2f-661d18489f8f\">\n",
              "    <div class=\"colab-df-container\">\n",
              "      <div>\n",
              "<style scoped>\n",
              "    .dataframe tbody tr th:only-of-type {\n",
              "        vertical-align: middle;\n",
              "    }\n",
              "\n",
              "    .dataframe tbody tr th {\n",
              "        vertical-align: top;\n",
              "    }\n",
              "\n",
              "    .dataframe thead th {\n",
              "        text-align: right;\n",
              "    }\n",
              "</style>\n",
              "<table border=\"1\" class=\"dataframe\">\n",
              "  <thead>\n",
              "    <tr style=\"text-align: right;\">\n",
              "      <th></th>\n",
              "      <th>object_type</th>\n",
              "      <th>seat_median</th>\n",
              "    </tr>\n",
              "  </thead>\n",
              "  <tbody>\n",
              "    <tr>\n",
              "      <th>7</th>\n",
              "      <td>столовая</td>\n",
              "      <td>103.0</td>\n",
              "    </tr>\n",
              "    <tr>\n",
              "      <th>6</th>\n",
              "      <td>ресторан</td>\n",
              "      <td>80.0</td>\n",
              "    </tr>\n",
              "    <tr>\n",
              "      <th>0</th>\n",
              "      <td>бар</td>\n",
              "      <td>35.0</td>\n",
              "    </tr>\n",
              "    <tr>\n",
              "      <th>1</th>\n",
              "      <td>буфет</td>\n",
              "      <td>32.0</td>\n",
              "    </tr>\n",
              "    <tr>\n",
              "      <th>3</th>\n",
              "      <td>кафе</td>\n",
              "      <td>30.0</td>\n",
              "    </tr>\n",
              "    <tr>\n",
              "      <th>4</th>\n",
              "      <td>кафетерий</td>\n",
              "      <td>6.0</td>\n",
              "    </tr>\n",
              "    <tr>\n",
              "      <th>8</th>\n",
              "      <td>фаст-фуд</td>\n",
              "      <td>5.0</td>\n",
              "    </tr>\n",
              "    <tr>\n",
              "      <th>2</th>\n",
              "      <td>закусочная</td>\n",
              "      <td>0.0</td>\n",
              "    </tr>\n",
              "    <tr>\n",
              "      <th>5</th>\n",
              "      <td>кулинария в магазине</td>\n",
              "      <td>0.0</td>\n",
              "    </tr>\n",
              "  </tbody>\n",
              "</table>\n",
              "</div>\n",
              "      <button class=\"colab-df-convert\" onclick=\"convertToInteractive('df-aa0f21d6-f8e1-4d27-bc2f-661d18489f8f')\"\n",
              "              title=\"Convert this dataframe to an interactive table.\"\n",
              "              style=\"display:none;\">\n",
              "        \n",
              "  <svg xmlns=\"http://www.w3.org/2000/svg\" height=\"24px\"viewBox=\"0 0 24 24\"\n",
              "       width=\"24px\">\n",
              "    <path d=\"M0 0h24v24H0V0z\" fill=\"none\"/>\n",
              "    <path d=\"M18.56 5.44l.94 2.06.94-2.06 2.06-.94-2.06-.94-.94-2.06-.94 2.06-2.06.94zm-11 1L8.5 8.5l.94-2.06 2.06-.94-2.06-.94L8.5 2.5l-.94 2.06-2.06.94zm10 10l.94 2.06.94-2.06 2.06-.94-2.06-.94-.94-2.06-.94 2.06-2.06.94z\"/><path d=\"M17.41 7.96l-1.37-1.37c-.4-.4-.92-.59-1.43-.59-.52 0-1.04.2-1.43.59L10.3 9.45l-7.72 7.72c-.78.78-.78 2.05 0 2.83L4 21.41c.39.39.9.59 1.41.59.51 0 1.02-.2 1.41-.59l7.78-7.78 2.81-2.81c.8-.78.8-2.07 0-2.86zM5.41 20L4 18.59l7.72-7.72 1.47 1.35L5.41 20z\"/>\n",
              "  </svg>\n",
              "      </button>\n",
              "      \n",
              "  <style>\n",
              "    .colab-df-container {\n",
              "      display:flex;\n",
              "      flex-wrap:wrap;\n",
              "      gap: 12px;\n",
              "    }\n",
              "\n",
              "    .colab-df-convert {\n",
              "      background-color: #E8F0FE;\n",
              "      border: none;\n",
              "      border-radius: 50%;\n",
              "      cursor: pointer;\n",
              "      display: none;\n",
              "      fill: #1967D2;\n",
              "      height: 32px;\n",
              "      padding: 0 0 0 0;\n",
              "      width: 32px;\n",
              "    }\n",
              "\n",
              "    .colab-df-convert:hover {\n",
              "      background-color: #E2EBFA;\n",
              "      box-shadow: 0px 1px 2px rgba(60, 64, 67, 0.3), 0px 1px 3px 1px rgba(60, 64, 67, 0.15);\n",
              "      fill: #174EA6;\n",
              "    }\n",
              "\n",
              "    [theme=dark] .colab-df-convert {\n",
              "      background-color: #3B4455;\n",
              "      fill: #D2E3FC;\n",
              "    }\n",
              "\n",
              "    [theme=dark] .colab-df-convert:hover {\n",
              "      background-color: #434B5C;\n",
              "      box-shadow: 0px 1px 3px 1px rgba(0, 0, 0, 0.15);\n",
              "      filter: drop-shadow(0px 1px 2px rgba(0, 0, 0, 0.3));\n",
              "      fill: #FFFFFF;\n",
              "    }\n",
              "  </style>\n",
              "\n",
              "      <script>\n",
              "        const buttonEl =\n",
              "          document.querySelector('#df-aa0f21d6-f8e1-4d27-bc2f-661d18489f8f button.colab-df-convert');\n",
              "        buttonEl.style.display =\n",
              "          google.colab.kernel.accessAllowed ? 'block' : 'none';\n",
              "\n",
              "        async function convertToInteractive(key) {\n",
              "          const element = document.querySelector('#df-aa0f21d6-f8e1-4d27-bc2f-661d18489f8f');\n",
              "          const dataTable =\n",
              "            await google.colab.kernel.invokeFunction('convertToInteractive',\n",
              "                                                     [key], {});\n",
              "          if (!dataTable) return;\n",
              "\n",
              "          const docLinkHtml = 'Like what you see? Visit the ' +\n",
              "            '<a target=\"_blank\" href=https://colab.research.google.com/notebooks/data_table.ipynb>data table notebook</a>'\n",
              "            + ' to learn more about interactive tables.';\n",
              "          element.innerHTML = '';\n",
              "          dataTable['output_type'] = 'display_data';\n",
              "          await google.colab.output.renderOutput(dataTable, element);\n",
              "          const docLink = document.createElement('div');\n",
              "          docLink.innerHTML = docLinkHtml;\n",
              "          element.appendChild(docLink);\n",
              "        }\n",
              "      </script>\n",
              "    </div>\n",
              "  </div>\n",
              "  "
            ]
          },
          "metadata": {},
          "execution_count": 36
        }
      ],
      "source": [
        "object_types_seats = (\n",
        "    df.groupby('object_type',as_index=False)\n",
        "    .agg({'number': 'median'})\n",
        "    .round(0)\n",
        "    .sort_values(by='number', ascending=False)\n",
        ")   \n",
        "object_types_seats.columns = ['object_type','seat_median']\n",
        "\n",
        "object_types_seats"
      ]
    },
    {
      "cell_type": "code",
      "execution_count": 37,
      "metadata": {
        "colab": {
          "base_uri": "https://localhost:8080/",
          "height": 567
        },
        "id": "L5-P1gJm94Dr",
        "outputId": "0b27662a-2997-41f9-820e-f645808d5e4a"
      },
      "outputs": [
        {
          "output_type": "display_data",
          "data": {
            "text/html": [
              "<html>\n",
              "<head><meta charset=\"utf-8\" /></head>\n",
              "<body>\n",
              "    <div>            <script src=\"https://cdnjs.cloudflare.com/ajax/libs/mathjax/2.7.5/MathJax.js?config=TeX-AMS-MML_SVG\"></script><script type=\"text/javascript\">if (window.MathJax) {MathJax.Hub.Config({SVG: {font: \"STIX-Web\"}});}</script>                <script type=\"text/javascript\">window.PlotlyConfig = {MathJaxConfig: 'local'};</script>\n",
              "        <script src=\"https://cdn.plot.ly/plotly-2.8.3.min.js\"></script>                <div id=\"88894e37-28e9-4b5f-adeb-c9d53bc859d6\" class=\"plotly-graph-div\" style=\"height:550px; width:900px;\"></div>            <script type=\"text/javascript\">                                    window.PLOTLYENV=window.PLOTLYENV || {};                                    if (document.getElementById(\"88894e37-28e9-4b5f-adeb-c9d53bc859d6\")) {                    Plotly.newPlot(                        \"88894e37-28e9-4b5f-adeb-c9d53bc859d6\",                        [{\"alignmentgroup\":\"True\",\"hovertemplate\":\"object_type=%{x}<br>\\u041f\\u043e\\u0441\\u0430\\u0434\\u043e\\u0447\\u043d\\u044b\\u0435 \\u043c\\u0435\\u0441\\u0442\\u0430=%{marker.color}<extra></extra>\",\"legendgroup\":\"\",\"marker\":{\"color\":[103.0,80.0,35.0,32.0,30.0,6.0,5.0,0.0,0.0],\"coloraxis\":\"coloraxis\",\"pattern\":{\"shape\":\"\"}},\"name\":\"\",\"offsetgroup\":\"\",\"orientation\":\"v\",\"showlegend\":false,\"text\":[103.0,80.0,35.0,32.0,30.0,6.0,5.0,0.0,0.0],\"textposition\":\"outside\",\"x\":[\"\\u0441\\u0442\\u043e\\u043b\\u043e\\u0432\\u0430\\u044f\",\"\\u0440\\u0435\\u0441\\u0442\\u043e\\u0440\\u0430\\u043d\",\"\\u0431\\u0430\\u0440\",\"\\u0431\\u0443\\u0444\\u0435\\u0442\",\"\\u043a\\u0430\\u0444\\u0435\",\"\\u043a\\u0430\\u0444\\u0435\\u0442\\u0435\\u0440\\u0438\\u0439\",\"\\u0444\\u0430\\u0441\\u0442-\\u0444\\u0443\\u0434\",\"\\u0437\\u0430\\u043a\\u0443\\u0441\\u043e\\u0447\\u043d\\u0430\\u044f\",\"\\u043a\\u0443\\u043b\\u0438\\u043d\\u0430\\u0440\\u0438\\u044f \\u0432 \\u043c\\u0430\\u0433\\u0430\\u0437\\u0438\\u043d\\u0435\"],\"xaxis\":\"x\",\"y\":[103.0,80.0,35.0,32.0,30.0,6.0,5.0,0.0,0.0],\"yaxis\":\"y\",\"type\":\"bar\"}],                        {\"template\":{\"data\":{\"bar\":[{\"error_x\":{\"color\":\"#2a3f5f\"},\"error_y\":{\"color\":\"#2a3f5f\"},\"marker\":{\"line\":{\"color\":\"white\",\"width\":0.5},\"pattern\":{\"fillmode\":\"overlay\",\"size\":10,\"solidity\":0.2}},\"type\":\"bar\"}],\"barpolar\":[{\"marker\":{\"line\":{\"color\":\"white\",\"width\":0.5},\"pattern\":{\"fillmode\":\"overlay\",\"size\":10,\"solidity\":0.2}},\"type\":\"barpolar\"}],\"carpet\":[{\"aaxis\":{\"endlinecolor\":\"#2a3f5f\",\"gridcolor\":\"#C8D4E3\",\"linecolor\":\"#C8D4E3\",\"minorgridcolor\":\"#C8D4E3\",\"startlinecolor\":\"#2a3f5f\"},\"baxis\":{\"endlinecolor\":\"#2a3f5f\",\"gridcolor\":\"#C8D4E3\",\"linecolor\":\"#C8D4E3\",\"minorgridcolor\":\"#C8D4E3\",\"startlinecolor\":\"#2a3f5f\"},\"type\":\"carpet\"}],\"choropleth\":[{\"colorbar\":{\"outlinewidth\":0,\"ticks\":\"\"},\"type\":\"choropleth\"}],\"contour\":[{\"colorbar\":{\"outlinewidth\":0,\"ticks\":\"\"},\"colorscale\":[[0.0,\"#0d0887\"],[0.1111111111111111,\"#46039f\"],[0.2222222222222222,\"#7201a8\"],[0.3333333333333333,\"#9c179e\"],[0.4444444444444444,\"#bd3786\"],[0.5555555555555556,\"#d8576b\"],[0.6666666666666666,\"#ed7953\"],[0.7777777777777778,\"#fb9f3a\"],[0.8888888888888888,\"#fdca26\"],[1.0,\"#f0f921\"]],\"type\":\"contour\"}],\"contourcarpet\":[{\"colorbar\":{\"outlinewidth\":0,\"ticks\":\"\"},\"type\":\"contourcarpet\"}],\"heatmap\":[{\"colorbar\":{\"outlinewidth\":0,\"ticks\":\"\"},\"colorscale\":[[0.0,\"#0d0887\"],[0.1111111111111111,\"#46039f\"],[0.2222222222222222,\"#7201a8\"],[0.3333333333333333,\"#9c179e\"],[0.4444444444444444,\"#bd3786\"],[0.5555555555555556,\"#d8576b\"],[0.6666666666666666,\"#ed7953\"],[0.7777777777777778,\"#fb9f3a\"],[0.8888888888888888,\"#fdca26\"],[1.0,\"#f0f921\"]],\"type\":\"heatmap\"}],\"heatmapgl\":[{\"colorbar\":{\"outlinewidth\":0,\"ticks\":\"\"},\"colorscale\":[[0.0,\"#0d0887\"],[0.1111111111111111,\"#46039f\"],[0.2222222222222222,\"#7201a8\"],[0.3333333333333333,\"#9c179e\"],[0.4444444444444444,\"#bd3786\"],[0.5555555555555556,\"#d8576b\"],[0.6666666666666666,\"#ed7953\"],[0.7777777777777778,\"#fb9f3a\"],[0.8888888888888888,\"#fdca26\"],[1.0,\"#f0f921\"]],\"type\":\"heatmapgl\"}],\"histogram\":[{\"marker\":{\"pattern\":{\"fillmode\":\"overlay\",\"size\":10,\"solidity\":0.2}},\"type\":\"histogram\"}],\"histogram2d\":[{\"colorbar\":{\"outlinewidth\":0,\"ticks\":\"\"},\"colorscale\":[[0.0,\"#0d0887\"],[0.1111111111111111,\"#46039f\"],[0.2222222222222222,\"#7201a8\"],[0.3333333333333333,\"#9c179e\"],[0.4444444444444444,\"#bd3786\"],[0.5555555555555556,\"#d8576b\"],[0.6666666666666666,\"#ed7953\"],[0.7777777777777778,\"#fb9f3a\"],[0.8888888888888888,\"#fdca26\"],[1.0,\"#f0f921\"]],\"type\":\"histogram2d\"}],\"histogram2dcontour\":[{\"colorbar\":{\"outlinewidth\":0,\"ticks\":\"\"},\"colorscale\":[[0.0,\"#0d0887\"],[0.1111111111111111,\"#46039f\"],[0.2222222222222222,\"#7201a8\"],[0.3333333333333333,\"#9c179e\"],[0.4444444444444444,\"#bd3786\"],[0.5555555555555556,\"#d8576b\"],[0.6666666666666666,\"#ed7953\"],[0.7777777777777778,\"#fb9f3a\"],[0.8888888888888888,\"#fdca26\"],[1.0,\"#f0f921\"]],\"type\":\"histogram2dcontour\"}],\"mesh3d\":[{\"colorbar\":{\"outlinewidth\":0,\"ticks\":\"\"},\"type\":\"mesh3d\"}],\"parcoords\":[{\"line\":{\"colorbar\":{\"outlinewidth\":0,\"ticks\":\"\"}},\"type\":\"parcoords\"}],\"pie\":[{\"automargin\":true,\"type\":\"pie\"}],\"scatter\":[{\"marker\":{\"colorbar\":{\"outlinewidth\":0,\"ticks\":\"\"}},\"type\":\"scatter\"}],\"scatter3d\":[{\"line\":{\"colorbar\":{\"outlinewidth\":0,\"ticks\":\"\"}},\"marker\":{\"colorbar\":{\"outlinewidth\":0,\"ticks\":\"\"}},\"type\":\"scatter3d\"}],\"scattercarpet\":[{\"marker\":{\"colorbar\":{\"outlinewidth\":0,\"ticks\":\"\"}},\"type\":\"scattercarpet\"}],\"scattergeo\":[{\"marker\":{\"colorbar\":{\"outlinewidth\":0,\"ticks\":\"\"}},\"type\":\"scattergeo\"}],\"scattergl\":[{\"marker\":{\"colorbar\":{\"outlinewidth\":0,\"ticks\":\"\"}},\"type\":\"scattergl\"}],\"scattermapbox\":[{\"marker\":{\"colorbar\":{\"outlinewidth\":0,\"ticks\":\"\"}},\"type\":\"scattermapbox\"}],\"scatterpolar\":[{\"marker\":{\"colorbar\":{\"outlinewidth\":0,\"ticks\":\"\"}},\"type\":\"scatterpolar\"}],\"scatterpolargl\":[{\"marker\":{\"colorbar\":{\"outlinewidth\":0,\"ticks\":\"\"}},\"type\":\"scatterpolargl\"}],\"scatterternary\":[{\"marker\":{\"colorbar\":{\"outlinewidth\":0,\"ticks\":\"\"}},\"type\":\"scatterternary\"}],\"surface\":[{\"colorbar\":{\"outlinewidth\":0,\"ticks\":\"\"},\"colorscale\":[[0.0,\"#0d0887\"],[0.1111111111111111,\"#46039f\"],[0.2222222222222222,\"#7201a8\"],[0.3333333333333333,\"#9c179e\"],[0.4444444444444444,\"#bd3786\"],[0.5555555555555556,\"#d8576b\"],[0.6666666666666666,\"#ed7953\"],[0.7777777777777778,\"#fb9f3a\"],[0.8888888888888888,\"#fdca26\"],[1.0,\"#f0f921\"]],\"type\":\"surface\"}],\"table\":[{\"cells\":{\"fill\":{\"color\":\"#EBF0F8\"},\"line\":{\"color\":\"white\"}},\"header\":{\"fill\":{\"color\":\"#C8D4E3\"},\"line\":{\"color\":\"white\"}},\"type\":\"table\"}]},\"layout\":{\"annotationdefaults\":{\"arrowcolor\":\"#2a3f5f\",\"arrowhead\":0,\"arrowwidth\":1},\"autotypenumbers\":\"strict\",\"coloraxis\":{\"colorbar\":{\"outlinewidth\":0,\"ticks\":\"\"}},\"colorscale\":{\"diverging\":[[0,\"#8e0152\"],[0.1,\"#c51b7d\"],[0.2,\"#de77ae\"],[0.3,\"#f1b6da\"],[0.4,\"#fde0ef\"],[0.5,\"#f7f7f7\"],[0.6,\"#e6f5d0\"],[0.7,\"#b8e186\"],[0.8,\"#7fbc41\"],[0.9,\"#4d9221\"],[1,\"#276419\"]],\"sequential\":[[0.0,\"#0d0887\"],[0.1111111111111111,\"#46039f\"],[0.2222222222222222,\"#7201a8\"],[0.3333333333333333,\"#9c179e\"],[0.4444444444444444,\"#bd3786\"],[0.5555555555555556,\"#d8576b\"],[0.6666666666666666,\"#ed7953\"],[0.7777777777777778,\"#fb9f3a\"],[0.8888888888888888,\"#fdca26\"],[1.0,\"#f0f921\"]],\"sequentialminus\":[[0.0,\"#0d0887\"],[0.1111111111111111,\"#46039f\"],[0.2222222222222222,\"#7201a8\"],[0.3333333333333333,\"#9c179e\"],[0.4444444444444444,\"#bd3786\"],[0.5555555555555556,\"#d8576b\"],[0.6666666666666666,\"#ed7953\"],[0.7777777777777778,\"#fb9f3a\"],[0.8888888888888888,\"#fdca26\"],[1.0,\"#f0f921\"]]},\"colorway\":[\"#636efa\",\"#EF553B\",\"#00cc96\",\"#ab63fa\",\"#FFA15A\",\"#19d3f3\",\"#FF6692\",\"#B6E880\",\"#FF97FF\",\"#FECB52\"],\"font\":{\"color\":\"#2a3f5f\"},\"geo\":{\"bgcolor\":\"white\",\"lakecolor\":\"white\",\"landcolor\":\"white\",\"showlakes\":true,\"showland\":true,\"subunitcolor\":\"#C8D4E3\"},\"hoverlabel\":{\"align\":\"left\"},\"hovermode\":\"closest\",\"mapbox\":{\"style\":\"light\"},\"paper_bgcolor\":\"white\",\"plot_bgcolor\":\"white\",\"polar\":{\"angularaxis\":{\"gridcolor\":\"#EBF0F8\",\"linecolor\":\"#EBF0F8\",\"ticks\":\"\"},\"bgcolor\":\"white\",\"radialaxis\":{\"gridcolor\":\"#EBF0F8\",\"linecolor\":\"#EBF0F8\",\"ticks\":\"\"}},\"scene\":{\"xaxis\":{\"backgroundcolor\":\"white\",\"gridcolor\":\"#DFE8F3\",\"gridwidth\":2,\"linecolor\":\"#EBF0F8\",\"showbackground\":true,\"ticks\":\"\",\"zerolinecolor\":\"#EBF0F8\"},\"yaxis\":{\"backgroundcolor\":\"white\",\"gridcolor\":\"#DFE8F3\",\"gridwidth\":2,\"linecolor\":\"#EBF0F8\",\"showbackground\":true,\"ticks\":\"\",\"zerolinecolor\":\"#EBF0F8\"},\"zaxis\":{\"backgroundcolor\":\"white\",\"gridcolor\":\"#DFE8F3\",\"gridwidth\":2,\"linecolor\":\"#EBF0F8\",\"showbackground\":true,\"ticks\":\"\",\"zerolinecolor\":\"#EBF0F8\"}},\"shapedefaults\":{\"line\":{\"color\":\"#2a3f5f\"}},\"ternary\":{\"aaxis\":{\"gridcolor\":\"#DFE8F3\",\"linecolor\":\"#A2B1C6\",\"ticks\":\"\"},\"baxis\":{\"gridcolor\":\"#DFE8F3\",\"linecolor\":\"#A2B1C6\",\"ticks\":\"\"},\"bgcolor\":\"white\",\"caxis\":{\"gridcolor\":\"#DFE8F3\",\"linecolor\":\"#A2B1C6\",\"ticks\":\"\"}},\"title\":{\"x\":0.05},\"xaxis\":{\"automargin\":true,\"gridcolor\":\"#EBF0F8\",\"linecolor\":\"#EBF0F8\",\"ticks\":\"\",\"title\":{\"standoff\":15},\"zerolinecolor\":\"#EBF0F8\",\"zerolinewidth\":2},\"yaxis\":{\"automargin\":true,\"gridcolor\":\"#EBF0F8\",\"linecolor\":\"#EBF0F8\",\"ticks\":\"\",\"title\":{\"standoff\":15},\"zerolinecolor\":\"#EBF0F8\",\"zerolinewidth\":2}}},\"xaxis\":{\"anchor\":\"y\",\"domain\":[0.0,1.0],\"title\":{\"text\":\"\"},\"tickangle\":30},\"yaxis\":{\"anchor\":\"x\",\"domain\":[0.0,1.0],\"title\":{\"text\":\"\\u0427\\u0438\\u0441\\u043b\\u043e \\u043f\\u043e\\u0441\\u0430\\u0434\\u043e\\u0447\\u043d\\u044b\\u0445 \\u043c\\u0435\\u0441\\u0442\"}},\"coloraxis\":{\"colorbar\":{\"title\":{\"text\":\"\\u041f\\u043e\\u0441\\u0430\\u0434\\u043e\\u0447\\u043d\\u044b\\u0435 \\u043c\\u0435\\u0441\\u0442\\u0430\"}},\"colorscale\":[[0.0,\"rgb(75, 41, 145)\"],[0.16666666666666666,\"rgb(135, 44, 162)\"],[0.3333333333333333,\"rgb(192, 54, 157)\"],[0.5,\"rgb(234, 79, 136)\"],[0.6666666666666666,\"rgb(250, 120, 118)\"],[0.8333333333333334,\"rgb(246, 169, 122)\"],[1.0,\"rgb(237, 217, 163)\"]]},\"legend\":{\"tracegroupgap\":0},\"margin\":{\"t\":60},\"barmode\":\"relative\",\"height\":550,\"width\":900,\"title\":{\"text\":\"\\u0421\\u0440\\u0435\\u0434\\u043d\\u0435\\u0435 \\u043a\\u043e\\u043b\\u0438\\u0447\\u0435\\u0441\\u0442\\u0432\\u043e \\u043f\\u043e\\u0441\\u0430\\u0434\\u043e\\u0447\\u043d\\u044b\\u0445 \\u043c\\u0435\\u0441\\u0442 \\u043f\\u043e \\u0442\\u0438\\u043f\\u0430\\u043c \\u0437\\u0430\\u0432\\u0435\\u0434\\u0435\\u043d\\u0438\\u0439\"}},                        {\"responsive\": true}                    ).then(function(){\n",
              "                            \n",
              "var gd = document.getElementById('88894e37-28e9-4b5f-adeb-c9d53bc859d6');\n",
              "var x = new MutationObserver(function (mutations, observer) {{\n",
              "        var display = window.getComputedStyle(gd).display;\n",
              "        if (!display || display === 'none') {{\n",
              "            console.log([gd, 'removed!']);\n",
              "            Plotly.purge(gd);\n",
              "            observer.disconnect();\n",
              "        }}\n",
              "}});\n",
              "\n",
              "// Listen for the removal of the full notebook cells\n",
              "var notebookContainer = gd.closest('#notebook-container');\n",
              "if (notebookContainer) {{\n",
              "    x.observe(notebookContainer, {childList: true});\n",
              "}}\n",
              "\n",
              "// Listen for the clearing of the current output cell\n",
              "var outputEl = gd.closest('.output');\n",
              "if (outputEl) {{\n",
              "    x.observe(outputEl, {childList: true});\n",
              "}}\n",
              "\n",
              "                        })                };                            </script>        </div>\n",
              "</body>\n",
              "</html>"
            ]
          },
          "metadata": {}
        }
      ],
      "source": [
        "fig = px.bar(\n",
        "    object_types_seats,\n",
        "    x='object_type',\n",
        "    y='seat_median',\n",
        "    color='seat_median', \n",
        "    text='seat_median',\n",
        "    labels = ({'seat_median':'Посадочные места'})\n",
        ")\n",
        "fig.update_xaxes(tickangle=30)\n",
        "fig.update_layout(\n",
        "    title='Среднее количество посадочных мест по типам заведений',\n",
        "    xaxis_title=\"\",\n",
        "    yaxis_title=\"Число посадочных мест\"\n",
        ")\n",
        "fig.update_traces(textposition='outside')"
      ]
    },
    {
      "cell_type": "markdown",
      "metadata": {
        "id": "UFwnTL1S94Dr"
      },
      "source": [
        "**Вывод:**  График нам показывает, что посадочных мест больше всего в столовых - в среднем 103 мест. Затем идут рестораны с 80 посад.мест."
      ]
    },
    {
      "cell_type": "markdown",
      "metadata": {
        "id": "63rCDfwv94Ds"
      },
      "source": [
        "### Постройте график топ-10 улиц по количеству объектов общественного питания. В каких районах находятся эти улицы?\n"
      ]
    },
    {
      "cell_type": "code",
      "execution_count": 38,
      "metadata": {
        "colab": {
          "base_uri": "https://localhost:8080/",
          "height": 424
        },
        "id": "IUtLqbiV94Ds",
        "outputId": "1143d076-bece-4029-b0d4-c880cf186d20"
      },
      "outputs": [
        {
          "output_type": "execute_result",
          "data": {
            "text/plain": [
              "                        street   id\n",
              "0                проспект мира  204\n",
              "1            профсоюзная улица  183\n",
              "2       ленинградский проспект  173\n",
              "3       пресненская набережная  167\n",
              "4             варшавское шоссе  165\n",
              "...                        ...  ...\n",
              "1944  стрельбищенский переулок    1\n",
              "1945          стрелецкая улица    1\n",
              "1946            улица клочкова    1\n",
              "1947         докучаев переулок    1\n",
              "1948           яхромская улица    1\n",
              "\n",
              "[1949 rows x 2 columns]"
            ],
            "text/html": [
              "\n",
              "  <div id=\"df-27e2b584-071f-4943-bbab-ee9ae112cded\">\n",
              "    <div class=\"colab-df-container\">\n",
              "      <div>\n",
              "<style scoped>\n",
              "    .dataframe tbody tr th:only-of-type {\n",
              "        vertical-align: middle;\n",
              "    }\n",
              "\n",
              "    .dataframe tbody tr th {\n",
              "        vertical-align: top;\n",
              "    }\n",
              "\n",
              "    .dataframe thead th {\n",
              "        text-align: right;\n",
              "    }\n",
              "</style>\n",
              "<table border=\"1\" class=\"dataframe\">\n",
              "  <thead>\n",
              "    <tr style=\"text-align: right;\">\n",
              "      <th></th>\n",
              "      <th>street</th>\n",
              "      <th>id</th>\n",
              "    </tr>\n",
              "  </thead>\n",
              "  <tbody>\n",
              "    <tr>\n",
              "      <th>0</th>\n",
              "      <td>проспект мира</td>\n",
              "      <td>204</td>\n",
              "    </tr>\n",
              "    <tr>\n",
              "      <th>1</th>\n",
              "      <td>профсоюзная улица</td>\n",
              "      <td>183</td>\n",
              "    </tr>\n",
              "    <tr>\n",
              "      <th>2</th>\n",
              "      <td>ленинградский проспект</td>\n",
              "      <td>173</td>\n",
              "    </tr>\n",
              "    <tr>\n",
              "      <th>3</th>\n",
              "      <td>пресненская набережная</td>\n",
              "      <td>167</td>\n",
              "    </tr>\n",
              "    <tr>\n",
              "      <th>4</th>\n",
              "      <td>варшавское шоссе</td>\n",
              "      <td>165</td>\n",
              "    </tr>\n",
              "    <tr>\n",
              "      <th>...</th>\n",
              "      <td>...</td>\n",
              "      <td>...</td>\n",
              "    </tr>\n",
              "    <tr>\n",
              "      <th>1944</th>\n",
              "      <td>стрельбищенский переулок</td>\n",
              "      <td>1</td>\n",
              "    </tr>\n",
              "    <tr>\n",
              "      <th>1945</th>\n",
              "      <td>стрелецкая улица</td>\n",
              "      <td>1</td>\n",
              "    </tr>\n",
              "    <tr>\n",
              "      <th>1946</th>\n",
              "      <td>улица клочкова</td>\n",
              "      <td>1</td>\n",
              "    </tr>\n",
              "    <tr>\n",
              "      <th>1947</th>\n",
              "      <td>докучаев переулок</td>\n",
              "      <td>1</td>\n",
              "    </tr>\n",
              "    <tr>\n",
              "      <th>1948</th>\n",
              "      <td>яхромская улица</td>\n",
              "      <td>1</td>\n",
              "    </tr>\n",
              "  </tbody>\n",
              "</table>\n",
              "<p>1949 rows × 2 columns</p>\n",
              "</div>\n",
              "      <button class=\"colab-df-convert\" onclick=\"convertToInteractive('df-27e2b584-071f-4943-bbab-ee9ae112cded')\"\n",
              "              title=\"Convert this dataframe to an interactive table.\"\n",
              "              style=\"display:none;\">\n",
              "        \n",
              "  <svg xmlns=\"http://www.w3.org/2000/svg\" height=\"24px\"viewBox=\"0 0 24 24\"\n",
              "       width=\"24px\">\n",
              "    <path d=\"M0 0h24v24H0V0z\" fill=\"none\"/>\n",
              "    <path d=\"M18.56 5.44l.94 2.06.94-2.06 2.06-.94-2.06-.94-.94-2.06-.94 2.06-2.06.94zm-11 1L8.5 8.5l.94-2.06 2.06-.94-2.06-.94L8.5 2.5l-.94 2.06-2.06.94zm10 10l.94 2.06.94-2.06 2.06-.94-2.06-.94-.94-2.06-.94 2.06-2.06.94z\"/><path d=\"M17.41 7.96l-1.37-1.37c-.4-.4-.92-.59-1.43-.59-.52 0-1.04.2-1.43.59L10.3 9.45l-7.72 7.72c-.78.78-.78 2.05 0 2.83L4 21.41c.39.39.9.59 1.41.59.51 0 1.02-.2 1.41-.59l7.78-7.78 2.81-2.81c.8-.78.8-2.07 0-2.86zM5.41 20L4 18.59l7.72-7.72 1.47 1.35L5.41 20z\"/>\n",
              "  </svg>\n",
              "      </button>\n",
              "      \n",
              "  <style>\n",
              "    .colab-df-container {\n",
              "      display:flex;\n",
              "      flex-wrap:wrap;\n",
              "      gap: 12px;\n",
              "    }\n",
              "\n",
              "    .colab-df-convert {\n",
              "      background-color: #E8F0FE;\n",
              "      border: none;\n",
              "      border-radius: 50%;\n",
              "      cursor: pointer;\n",
              "      display: none;\n",
              "      fill: #1967D2;\n",
              "      height: 32px;\n",
              "      padding: 0 0 0 0;\n",
              "      width: 32px;\n",
              "    }\n",
              "\n",
              "    .colab-df-convert:hover {\n",
              "      background-color: #E2EBFA;\n",
              "      box-shadow: 0px 1px 2px rgba(60, 64, 67, 0.3), 0px 1px 3px 1px rgba(60, 64, 67, 0.15);\n",
              "      fill: #174EA6;\n",
              "    }\n",
              "\n",
              "    [theme=dark] .colab-df-convert {\n",
              "      background-color: #3B4455;\n",
              "      fill: #D2E3FC;\n",
              "    }\n",
              "\n",
              "    [theme=dark] .colab-df-convert:hover {\n",
              "      background-color: #434B5C;\n",
              "      box-shadow: 0px 1px 3px 1px rgba(0, 0, 0, 0.15);\n",
              "      filter: drop-shadow(0px 1px 2px rgba(0, 0, 0, 0.3));\n",
              "      fill: #FFFFFF;\n",
              "    }\n",
              "  </style>\n",
              "\n",
              "      <script>\n",
              "        const buttonEl =\n",
              "          document.querySelector('#df-27e2b584-071f-4943-bbab-ee9ae112cded button.colab-df-convert');\n",
              "        buttonEl.style.display =\n",
              "          google.colab.kernel.accessAllowed ? 'block' : 'none';\n",
              "\n",
              "        async function convertToInteractive(key) {\n",
              "          const element = document.querySelector('#df-27e2b584-071f-4943-bbab-ee9ae112cded');\n",
              "          const dataTable =\n",
              "            await google.colab.kernel.invokeFunction('convertToInteractive',\n",
              "                                                     [key], {});\n",
              "          if (!dataTable) return;\n",
              "\n",
              "          const docLinkHtml = 'Like what you see? Visit the ' +\n",
              "            '<a target=\"_blank\" href=https://colab.research.google.com/notebooks/data_table.ipynb>data table notebook</a>'\n",
              "            + ' to learn more about interactive tables.';\n",
              "          element.innerHTML = '';\n",
              "          dataTable['output_type'] = 'display_data';\n",
              "          await google.colab.output.renderOutput(dataTable, element);\n",
              "          const docLink = document.createElement('div');\n",
              "          docLink.innerHTML = docLinkHtml;\n",
              "          element.appendChild(docLink);\n",
              "        }\n",
              "      </script>\n",
              "    </div>\n",
              "  </div>\n",
              "  "
            ]
          },
          "metadata": {},
          "execution_count": 38
        }
      ],
      "source": [
        "# сгруппируем по улице\n",
        "top_streets = (df\n",
        " .groupby('street')\n",
        " .agg({'id':'count'})\n",
        " .reset_index()\n",
        " .sort_values(by = 'id', ascending = False)             \n",
        ")\n",
        "#убираем Зеленоград и Сосенское поселение, потому что нас интересует чисто Москва\n",
        "top_streets['street'] = top_streets['street'].str.strip()\n",
        "top_streets = top_streets.query('street != \"город зеленоград\"').reset_index(drop = True)\n",
        "df = df.query('address != \"город зеленоград\"')\n",
        "\n",
        "top_streets = top_streets.query('street != \"поселение сосенское\"').reset_index(drop = True)\n",
        "df = df.query('address != \"поселение сосенское\"')\n",
        "\n",
        "top_streets"
      ]
    },
    {
      "cell_type": "code",
      "execution_count": 39,
      "metadata": {
        "colab": {
          "base_uri": "https://localhost:8080/",
          "height": 567
        },
        "id": "7Dw078PD94Ds",
        "outputId": "dcd3f14e-2513-4e6d-9023-200aabf1e0cb"
      },
      "outputs": [
        {
          "output_type": "display_data",
          "data": {
            "text/html": [
              "<html>\n",
              "<head><meta charset=\"utf-8\" /></head>\n",
              "<body>\n",
              "    <div>            <script src=\"https://cdnjs.cloudflare.com/ajax/libs/mathjax/2.7.5/MathJax.js?config=TeX-AMS-MML_SVG\"></script><script type=\"text/javascript\">if (window.MathJax) {MathJax.Hub.Config({SVG: {font: \"STIX-Web\"}});}</script>                <script type=\"text/javascript\">window.PlotlyConfig = {MathJaxConfig: 'local'};</script>\n",
              "        <script src=\"https://cdn.plot.ly/plotly-2.8.3.min.js\"></script>                <div id=\"fd037ebf-b77c-48a0-8275-7cb2f61c52ac\" class=\"plotly-graph-div\" style=\"height:550px; width:900px;\"></div>            <script type=\"text/javascript\">                                    window.PLOTLYENV=window.PLOTLYENV || {};                                    if (document.getElementById(\"fd037ebf-b77c-48a0-8275-7cb2f61c52ac\")) {                    Plotly.newPlot(                        \"fd037ebf-b77c-48a0-8275-7cb2f61c52ac\",                        [{\"alignmentgroup\":\"True\",\"hovertemplate\":\"\\u0427\\u0438\\u0441\\u043b\\u043e \\u043e\\u0431\\u044a\\u0435\\u043a\\u0442\\u043e\\u0432=%{marker.color}<br>street=%{y}<extra></extra>\",\"legendgroup\":\"\",\"marker\":{\"color\":[204,183,173,167,165,148,132,114,112,110],\"coloraxis\":\"coloraxis\",\"pattern\":{\"shape\":\"\"}},\"name\":\"\",\"offsetgroup\":\"\",\"orientation\":\"h\",\"showlegend\":false,\"text\":[204.0,183.0,173.0,167.0,165.0,148.0,132.0,114.0,112.0,110.0],\"textposition\":\"outside\",\"x\":[204,183,173,167,165,148,132,114,112,110],\"xaxis\":\"x\",\"y\":[\"\\u043f\\u0440\\u043e\\u0441\\u043f\\u0435\\u043a\\u0442 \\u043c\\u0438\\u0440\\u0430\",\"\\u043f\\u0440\\u043e\\u0444\\u0441\\u043e\\u044e\\u0437\\u043d\\u0430\\u044f \\u0443\\u043b\\u0438\\u0446\\u0430\",\"\\u043b\\u0435\\u043d\\u0438\\u043d\\u0433\\u0440\\u0430\\u0434\\u0441\\u043a\\u0438\\u0439 \\u043f\\u0440\\u043e\\u0441\\u043f\\u0435\\u043a\\u0442\",\"\\u043f\\u0440\\u0435\\u0441\\u043d\\u0435\\u043d\\u0441\\u043a\\u0430\\u044f \\u043d\\u0430\\u0431\\u0435\\u0440\\u0435\\u0436\\u043d\\u0430\\u044f\",\"\\u0432\\u0430\\u0440\\u0448\\u0430\\u0432\\u0441\\u043a\\u043e\\u0435 \\u0448\\u043e\\u0441\\u0441\\u0435\",\"\\u043b\\u0435\\u043d\\u0438\\u043d\\u0441\\u043a\\u0438\\u0439 \\u043f\\u0440\\u043e\\u0441\\u043f\\u0435\\u043a\\u0442\",\"\\u043f\\u0440\\u043e\\u0441\\u043f\\u0435\\u043a\\u0442 \\u0432\\u0435\\u0440\\u043d\\u0430\\u0434\\u0441\\u043a\\u043e\\u0433\\u043e\",\"\\u043a\\u0443\\u0442\\u0443\\u0437\\u043e\\u0432\\u0441\\u043a\\u0438\\u0439 \\u043f\\u0440\\u043e\\u0441\\u043f\\u0435\\u043a\\u0442\",\"\\u043a\\u0430\\u0448\\u0438\\u0440\\u0441\\u043a\\u043e\\u0435 \\u0448\\u043e\\u0441\\u0441\\u0435\",\"\\u043a\\u0438\\u0440\\u043e\\u0432\\u043e\\u0433\\u0440\\u0430\\u0434\\u0441\\u043a\\u0430\\u044f \\u0443\\u043b\\u0438\\u0446\\u0430\"],\"yaxis\":\"y\",\"type\":\"bar\"}],                        {\"template\":{\"data\":{\"bar\":[{\"error_x\":{\"color\":\"#2a3f5f\"},\"error_y\":{\"color\":\"#2a3f5f\"},\"marker\":{\"line\":{\"color\":\"white\",\"width\":0.5},\"pattern\":{\"fillmode\":\"overlay\",\"size\":10,\"solidity\":0.2}},\"type\":\"bar\"}],\"barpolar\":[{\"marker\":{\"line\":{\"color\":\"white\",\"width\":0.5},\"pattern\":{\"fillmode\":\"overlay\",\"size\":10,\"solidity\":0.2}},\"type\":\"barpolar\"}],\"carpet\":[{\"aaxis\":{\"endlinecolor\":\"#2a3f5f\",\"gridcolor\":\"#C8D4E3\",\"linecolor\":\"#C8D4E3\",\"minorgridcolor\":\"#C8D4E3\",\"startlinecolor\":\"#2a3f5f\"},\"baxis\":{\"endlinecolor\":\"#2a3f5f\",\"gridcolor\":\"#C8D4E3\",\"linecolor\":\"#C8D4E3\",\"minorgridcolor\":\"#C8D4E3\",\"startlinecolor\":\"#2a3f5f\"},\"type\":\"carpet\"}],\"choropleth\":[{\"colorbar\":{\"outlinewidth\":0,\"ticks\":\"\"},\"type\":\"choropleth\"}],\"contour\":[{\"colorbar\":{\"outlinewidth\":0,\"ticks\":\"\"},\"colorscale\":[[0.0,\"#0d0887\"],[0.1111111111111111,\"#46039f\"],[0.2222222222222222,\"#7201a8\"],[0.3333333333333333,\"#9c179e\"],[0.4444444444444444,\"#bd3786\"],[0.5555555555555556,\"#d8576b\"],[0.6666666666666666,\"#ed7953\"],[0.7777777777777778,\"#fb9f3a\"],[0.8888888888888888,\"#fdca26\"],[1.0,\"#f0f921\"]],\"type\":\"contour\"}],\"contourcarpet\":[{\"colorbar\":{\"outlinewidth\":0,\"ticks\":\"\"},\"type\":\"contourcarpet\"}],\"heatmap\":[{\"colorbar\":{\"outlinewidth\":0,\"ticks\":\"\"},\"colorscale\":[[0.0,\"#0d0887\"],[0.1111111111111111,\"#46039f\"],[0.2222222222222222,\"#7201a8\"],[0.3333333333333333,\"#9c179e\"],[0.4444444444444444,\"#bd3786\"],[0.5555555555555556,\"#d8576b\"],[0.6666666666666666,\"#ed7953\"],[0.7777777777777778,\"#fb9f3a\"],[0.8888888888888888,\"#fdca26\"],[1.0,\"#f0f921\"]],\"type\":\"heatmap\"}],\"heatmapgl\":[{\"colorbar\":{\"outlinewidth\":0,\"ticks\":\"\"},\"colorscale\":[[0.0,\"#0d0887\"],[0.1111111111111111,\"#46039f\"],[0.2222222222222222,\"#7201a8\"],[0.3333333333333333,\"#9c179e\"],[0.4444444444444444,\"#bd3786\"],[0.5555555555555556,\"#d8576b\"],[0.6666666666666666,\"#ed7953\"],[0.7777777777777778,\"#fb9f3a\"],[0.8888888888888888,\"#fdca26\"],[1.0,\"#f0f921\"]],\"type\":\"heatmapgl\"}],\"histogram\":[{\"marker\":{\"pattern\":{\"fillmode\":\"overlay\",\"size\":10,\"solidity\":0.2}},\"type\":\"histogram\"}],\"histogram2d\":[{\"colorbar\":{\"outlinewidth\":0,\"ticks\":\"\"},\"colorscale\":[[0.0,\"#0d0887\"],[0.1111111111111111,\"#46039f\"],[0.2222222222222222,\"#7201a8\"],[0.3333333333333333,\"#9c179e\"],[0.4444444444444444,\"#bd3786\"],[0.5555555555555556,\"#d8576b\"],[0.6666666666666666,\"#ed7953\"],[0.7777777777777778,\"#fb9f3a\"],[0.8888888888888888,\"#fdca26\"],[1.0,\"#f0f921\"]],\"type\":\"histogram2d\"}],\"histogram2dcontour\":[{\"colorbar\":{\"outlinewidth\":0,\"ticks\":\"\"},\"colorscale\":[[0.0,\"#0d0887\"],[0.1111111111111111,\"#46039f\"],[0.2222222222222222,\"#7201a8\"],[0.3333333333333333,\"#9c179e\"],[0.4444444444444444,\"#bd3786\"],[0.5555555555555556,\"#d8576b\"],[0.6666666666666666,\"#ed7953\"],[0.7777777777777778,\"#fb9f3a\"],[0.8888888888888888,\"#fdca26\"],[1.0,\"#f0f921\"]],\"type\":\"histogram2dcontour\"}],\"mesh3d\":[{\"colorbar\":{\"outlinewidth\":0,\"ticks\":\"\"},\"type\":\"mesh3d\"}],\"parcoords\":[{\"line\":{\"colorbar\":{\"outlinewidth\":0,\"ticks\":\"\"}},\"type\":\"parcoords\"}],\"pie\":[{\"automargin\":true,\"type\":\"pie\"}],\"scatter\":[{\"marker\":{\"colorbar\":{\"outlinewidth\":0,\"ticks\":\"\"}},\"type\":\"scatter\"}],\"scatter3d\":[{\"line\":{\"colorbar\":{\"outlinewidth\":0,\"ticks\":\"\"}},\"marker\":{\"colorbar\":{\"outlinewidth\":0,\"ticks\":\"\"}},\"type\":\"scatter3d\"}],\"scattercarpet\":[{\"marker\":{\"colorbar\":{\"outlinewidth\":0,\"ticks\":\"\"}},\"type\":\"scattercarpet\"}],\"scattergeo\":[{\"marker\":{\"colorbar\":{\"outlinewidth\":0,\"ticks\":\"\"}},\"type\":\"scattergeo\"}],\"scattergl\":[{\"marker\":{\"colorbar\":{\"outlinewidth\":0,\"ticks\":\"\"}},\"type\":\"scattergl\"}],\"scattermapbox\":[{\"marker\":{\"colorbar\":{\"outlinewidth\":0,\"ticks\":\"\"}},\"type\":\"scattermapbox\"}],\"scatterpolar\":[{\"marker\":{\"colorbar\":{\"outlinewidth\":0,\"ticks\":\"\"}},\"type\":\"scatterpolar\"}],\"scatterpolargl\":[{\"marker\":{\"colorbar\":{\"outlinewidth\":0,\"ticks\":\"\"}},\"type\":\"scatterpolargl\"}],\"scatterternary\":[{\"marker\":{\"colorbar\":{\"outlinewidth\":0,\"ticks\":\"\"}},\"type\":\"scatterternary\"}],\"surface\":[{\"colorbar\":{\"outlinewidth\":0,\"ticks\":\"\"},\"colorscale\":[[0.0,\"#0d0887\"],[0.1111111111111111,\"#46039f\"],[0.2222222222222222,\"#7201a8\"],[0.3333333333333333,\"#9c179e\"],[0.4444444444444444,\"#bd3786\"],[0.5555555555555556,\"#d8576b\"],[0.6666666666666666,\"#ed7953\"],[0.7777777777777778,\"#fb9f3a\"],[0.8888888888888888,\"#fdca26\"],[1.0,\"#f0f921\"]],\"type\":\"surface\"}],\"table\":[{\"cells\":{\"fill\":{\"color\":\"#EBF0F8\"},\"line\":{\"color\":\"white\"}},\"header\":{\"fill\":{\"color\":\"#C8D4E3\"},\"line\":{\"color\":\"white\"}},\"type\":\"table\"}]},\"layout\":{\"annotationdefaults\":{\"arrowcolor\":\"#2a3f5f\",\"arrowhead\":0,\"arrowwidth\":1},\"autotypenumbers\":\"strict\",\"coloraxis\":{\"colorbar\":{\"outlinewidth\":0,\"ticks\":\"\"}},\"colorscale\":{\"diverging\":[[0,\"#8e0152\"],[0.1,\"#c51b7d\"],[0.2,\"#de77ae\"],[0.3,\"#f1b6da\"],[0.4,\"#fde0ef\"],[0.5,\"#f7f7f7\"],[0.6,\"#e6f5d0\"],[0.7,\"#b8e186\"],[0.8,\"#7fbc41\"],[0.9,\"#4d9221\"],[1,\"#276419\"]],\"sequential\":[[0.0,\"#0d0887\"],[0.1111111111111111,\"#46039f\"],[0.2222222222222222,\"#7201a8\"],[0.3333333333333333,\"#9c179e\"],[0.4444444444444444,\"#bd3786\"],[0.5555555555555556,\"#d8576b\"],[0.6666666666666666,\"#ed7953\"],[0.7777777777777778,\"#fb9f3a\"],[0.8888888888888888,\"#fdca26\"],[1.0,\"#f0f921\"]],\"sequentialminus\":[[0.0,\"#0d0887\"],[0.1111111111111111,\"#46039f\"],[0.2222222222222222,\"#7201a8\"],[0.3333333333333333,\"#9c179e\"],[0.4444444444444444,\"#bd3786\"],[0.5555555555555556,\"#d8576b\"],[0.6666666666666666,\"#ed7953\"],[0.7777777777777778,\"#fb9f3a\"],[0.8888888888888888,\"#fdca26\"],[1.0,\"#f0f921\"]]},\"colorway\":[\"#636efa\",\"#EF553B\",\"#00cc96\",\"#ab63fa\",\"#FFA15A\",\"#19d3f3\",\"#FF6692\",\"#B6E880\",\"#FF97FF\",\"#FECB52\"],\"font\":{\"color\":\"#2a3f5f\"},\"geo\":{\"bgcolor\":\"white\",\"lakecolor\":\"white\",\"landcolor\":\"white\",\"showlakes\":true,\"showland\":true,\"subunitcolor\":\"#C8D4E3\"},\"hoverlabel\":{\"align\":\"left\"},\"hovermode\":\"closest\",\"mapbox\":{\"style\":\"light\"},\"paper_bgcolor\":\"white\",\"plot_bgcolor\":\"white\",\"polar\":{\"angularaxis\":{\"gridcolor\":\"#EBF0F8\",\"linecolor\":\"#EBF0F8\",\"ticks\":\"\"},\"bgcolor\":\"white\",\"radialaxis\":{\"gridcolor\":\"#EBF0F8\",\"linecolor\":\"#EBF0F8\",\"ticks\":\"\"}},\"scene\":{\"xaxis\":{\"backgroundcolor\":\"white\",\"gridcolor\":\"#DFE8F3\",\"gridwidth\":2,\"linecolor\":\"#EBF0F8\",\"showbackground\":true,\"ticks\":\"\",\"zerolinecolor\":\"#EBF0F8\"},\"yaxis\":{\"backgroundcolor\":\"white\",\"gridcolor\":\"#DFE8F3\",\"gridwidth\":2,\"linecolor\":\"#EBF0F8\",\"showbackground\":true,\"ticks\":\"\",\"zerolinecolor\":\"#EBF0F8\"},\"zaxis\":{\"backgroundcolor\":\"white\",\"gridcolor\":\"#DFE8F3\",\"gridwidth\":2,\"linecolor\":\"#EBF0F8\",\"showbackground\":true,\"ticks\":\"\",\"zerolinecolor\":\"#EBF0F8\"}},\"shapedefaults\":{\"line\":{\"color\":\"#2a3f5f\"}},\"ternary\":{\"aaxis\":{\"gridcolor\":\"#DFE8F3\",\"linecolor\":\"#A2B1C6\",\"ticks\":\"\"},\"baxis\":{\"gridcolor\":\"#DFE8F3\",\"linecolor\":\"#A2B1C6\",\"ticks\":\"\"},\"bgcolor\":\"white\",\"caxis\":{\"gridcolor\":\"#DFE8F3\",\"linecolor\":\"#A2B1C6\",\"ticks\":\"\"}},\"title\":{\"x\":0.05},\"xaxis\":{\"automargin\":true,\"gridcolor\":\"#EBF0F8\",\"linecolor\":\"#EBF0F8\",\"ticks\":\"\",\"title\":{\"standoff\":15},\"zerolinecolor\":\"#EBF0F8\",\"zerolinewidth\":2},\"yaxis\":{\"automargin\":true,\"gridcolor\":\"#EBF0F8\",\"linecolor\":\"#EBF0F8\",\"ticks\":\"\",\"title\":{\"standoff\":15},\"zerolinecolor\":\"#EBF0F8\",\"zerolinewidth\":2}}},\"xaxis\":{\"anchor\":\"y\",\"domain\":[0.0,1.0],\"title\":{\"text\":\"\\u0427\\u0438\\u0441\\u043b\\u043e \\u043e\\u0431\\u044a\\u0435\\u043a\\u0442\\u043e\\u0432\"}},\"yaxis\":{\"anchor\":\"x\",\"domain\":[0.0,1.0],\"title\":{\"text\":\"\"}},\"coloraxis\":{\"colorbar\":{\"title\":{\"text\":\"\\u0427\\u0438\\u0441\\u043b\\u043e \\u043e\\u0431\\u044a\\u0435\\u043a\\u0442\\u043e\\u0432\"}},\"colorscale\":[[0.0,\"rgb(75, 41, 145)\"],[0.16666666666666666,\"rgb(135, 44, 162)\"],[0.3333333333333333,\"rgb(192, 54, 157)\"],[0.5,\"rgb(234, 79, 136)\"],[0.6666666666666666,\"rgb(250, 120, 118)\"],[0.8333333333333334,\"rgb(246, 169, 122)\"],[1.0,\"rgb(237, 217, 163)\"]]},\"legend\":{\"tracegroupgap\":0},\"margin\":{\"t\":60},\"barmode\":\"relative\",\"height\":550,\"width\":900,\"title\":{\"text\":\"\\u0422\\u043e\\u043f-10 \\u0443\\u043b\\u0438\\u0446 \\u043f\\u043e \\u043a\\u043e\\u043b\\u0438\\u0447\\u0435\\u0441\\u0442\\u0432\\u0443 \\u043e\\u0431\\u044a\\u0435\\u043a\\u0442\\u043e\\u0432 \\u043e\\u0431\\u0449\\u0435\\u0441\\u0442\\u0432\\u0435\\u043d\\u043d\\u043e\\u0433\\u043e \\u043f\\u0438\\u0442\\u0430\\u043d\\u0438\\u044f\",\"y\":0.94,\"x\":0.56,\"xanchor\":\"center\",\"yanchor\":\"top\"},\"showlegend\":false},                        {\"responsive\": true}                    ).then(function(){\n",
              "                            \n",
              "var gd = document.getElementById('fd037ebf-b77c-48a0-8275-7cb2f61c52ac');\n",
              "var x = new MutationObserver(function (mutations, observer) {{\n",
              "        var display = window.getComputedStyle(gd).display;\n",
              "        if (!display || display === 'none') {{\n",
              "            console.log([gd, 'removed!']);\n",
              "            Plotly.purge(gd);\n",
              "            observer.disconnect();\n",
              "        }}\n",
              "}});\n",
              "\n",
              "// Listen for the removal of the full notebook cells\n",
              "var notebookContainer = gd.closest('#notebook-container');\n",
              "if (notebookContainer) {{\n",
              "    x.observe(notebookContainer, {childList: true});\n",
              "}}\n",
              "\n",
              "// Listen for the clearing of the current output cell\n",
              "var outputEl = gd.closest('.output');\n",
              "if (outputEl) {{\n",
              "    x.observe(outputEl, {childList: true});\n",
              "}}\n",
              "\n",
              "                        })                };                            </script>        </div>\n",
              "</body>\n",
              "</html>"
            ]
          },
          "metadata": {}
        }
      ],
      "source": [
        "fig = px.bar(\n",
        "    top_streets.head(10), \n",
        "    y = 'street', \n",
        "    x = 'id', \n",
        "    color = 'id', \n",
        "    text = 'id',\n",
        "    labels = ({'id':'Число объектов'}),\n",
        "    orientation='h'\n",
        ")\n",
        "\n",
        "# добавим подписи\n",
        "fig.update_layout(\n",
        "    xaxis_title = 'Число объектов',\n",
        "    yaxis_title = '',\n",
        "    showlegend=False,\n",
        "    title={\n",
        "        'text': 'Топ-10 улиц по количеству объектов общественного питания',\n",
        "        'y':0.94,\n",
        "        'x':0.56,\n",
        "        'xanchor': 'center',\n",
        "        'yanchor': 'top'},\n",
        ")\n",
        "\n",
        "# вынесем значения из столбцов\n",
        "fig.update_traces(\n",
        "    textposition = 'outside'\n",
        ")\n",
        "fig.show()\n"
      ]
    },
    {
      "cell_type": "code",
      "execution_count": 40,
      "metadata": {
        "colab": {
          "base_uri": "https://localhost:8080/",
          "height": 1000
        },
        "id": "aMR7yfaF94Dt",
        "outputId": "765b344b-b8b0-42db-e05c-e47a3b58dc43"
      },
      "outputs": [
        {
          "output_type": "execute_result",
          "data": {
            "text/plain": [
              "                    street   id okrug                         district\n",
              "0            проспект мира  204  СВАО               алексеевский район\n",
              "1            проспект мира  204  СВАО                ярославский район\n",
              "2            проспект мира  204  СВАО               район марьина роща\n",
              "3            проспект мира  204  СВАО               останкинский район\n",
              "4            проспект мира  204  СВАО                  район ростокино\n",
              "5            проспект мира  204  СВАО                   район свиблово\n",
              "6            проспект мира  204   ЦАО                  мещанский район\n",
              "7        профсоюзная улица  183  ЮЗАО              академический район\n",
              "8        профсоюзная улица  183  ЮЗАО                  район черемушки\n",
              "9        профсоюзная улица  183  ЮЗАО                    район ясенево\n",
              "10       профсоюзная улица  183  ЮЗАО                   район коньково\n",
              "11       профсоюзная улица  183  ЮЗАО                обручевский район\n",
              "12       профсоюзная улица  183  ЮЗАО                район теплый стан\n",
              "13  ленинградский проспект  173   САО                   район аэропорт\n",
              "14  ленинградский проспект  173   САО                    район беговой\n",
              "15  ленинградский проспект  173   САО                хорошевский район\n",
              "16  ленинградский проспект  173   САО                      район сокол\n",
              "17  пресненская набережная  167   ЦАО                пресненский район\n",
              "18        варшавское шоссе  165   ЮАО      район чертаново центральное\n",
              "19        варшавское шоссе  165   ЮАО         район чертаново северное\n",
              "20        варшавское шоссе  165   ЮАО            район чертаново южное\n",
              "21        варшавское шоссе  165   ЮАО                    донской район\n",
              "22        варшавское шоссе  165   ЮАО         район нагатино-садовники\n",
              "23        варшавское шоссе  165   ЮАО                   нагорный район\n",
              "24        варшавское шоссе  165  ЮЗАО            район северное бутово\n",
              "25        варшавское шоссе  165  ЮЗАО               район южное бутово\n",
              "26      ленинский проспект  148   ЗАО       район проспект вернадского\n",
              "27      ленинский проспект  148   ЗАО         район тропарево-никулино\n",
              "28      ленинский проспект  148   ЮАО                    донской район\n",
              "29      ленинский проспект  148  ЮЗАО                район гагаринский\n",
              "30      ленинский проспект  148  ЮЗАО              ломоносовский район\n",
              "31      ленинский проспект  148  ЮЗАО                обручевский район\n",
              "32      ленинский проспект  148  ЮЗАО                район теплый стан\n",
              "33      ленинский проспект  148   ЦАО                   район якиманка\n",
              "34    проспект вернадского  132   ЗАО       район проспект вернадского\n",
              "35    проспект вернадского  132   ЗАО                    район раменки\n",
              "36    проспект вернадского  132   ЗАО         район тропарево-никулино\n",
              "37    проспект вернадского  132  ЮЗАО                район гагаринский\n",
              "38    проспект вернадского  132  ЮЗАО              ломоносовский район\n",
              "39    кутузовский проспект  114   ЗАО               район дорогомилово\n",
              "40    кутузовский проспект  114   ЗАО             район фили-давыдково\n",
              "41         каширское шоссе  112   ЮАО       район москворечье-сабурово\n",
              "42         каширское шоссе  112   ЮАО         район нагатино-садовники\n",
              "43         каширское шоссе  112   ЮАО     район орехово-борисово южное\n",
              "44         каширское шоссе  112   ЮАО  район орехово-борисово северное\n",
              "45    кировоградская улица  110   ЮАО      район чертаново центральное\n",
              "46    кировоградская улица  110   ЮАО         район чертаново северное\n",
              "47    кировоградская улица  110   ЮАО            район чертаново южное"
            ],
            "text/html": [
              "\n",
              "  <div id=\"df-67af1c81-86b2-4dfd-bbe0-a9f89f32cca1\">\n",
              "    <div class=\"colab-df-container\">\n",
              "      <div>\n",
              "<style scoped>\n",
              "    .dataframe tbody tr th:only-of-type {\n",
              "        vertical-align: middle;\n",
              "    }\n",
              "\n",
              "    .dataframe tbody tr th {\n",
              "        vertical-align: top;\n",
              "    }\n",
              "\n",
              "    .dataframe thead th {\n",
              "        text-align: right;\n",
              "    }\n",
              "</style>\n",
              "<table border=\"1\" class=\"dataframe\">\n",
              "  <thead>\n",
              "    <tr style=\"text-align: right;\">\n",
              "      <th></th>\n",
              "      <th>street</th>\n",
              "      <th>id</th>\n",
              "      <th>okrug</th>\n",
              "      <th>district</th>\n",
              "    </tr>\n",
              "  </thead>\n",
              "  <tbody>\n",
              "    <tr>\n",
              "      <th>0</th>\n",
              "      <td>проспект мира</td>\n",
              "      <td>204</td>\n",
              "      <td>СВАО</td>\n",
              "      <td>алексеевский район</td>\n",
              "    </tr>\n",
              "    <tr>\n",
              "      <th>1</th>\n",
              "      <td>проспект мира</td>\n",
              "      <td>204</td>\n",
              "      <td>СВАО</td>\n",
              "      <td>ярославский район</td>\n",
              "    </tr>\n",
              "    <tr>\n",
              "      <th>2</th>\n",
              "      <td>проспект мира</td>\n",
              "      <td>204</td>\n",
              "      <td>СВАО</td>\n",
              "      <td>район марьина роща</td>\n",
              "    </tr>\n",
              "    <tr>\n",
              "      <th>3</th>\n",
              "      <td>проспект мира</td>\n",
              "      <td>204</td>\n",
              "      <td>СВАО</td>\n",
              "      <td>останкинский район</td>\n",
              "    </tr>\n",
              "    <tr>\n",
              "      <th>4</th>\n",
              "      <td>проспект мира</td>\n",
              "      <td>204</td>\n",
              "      <td>СВАО</td>\n",
              "      <td>район ростокино</td>\n",
              "    </tr>\n",
              "    <tr>\n",
              "      <th>5</th>\n",
              "      <td>проспект мира</td>\n",
              "      <td>204</td>\n",
              "      <td>СВАО</td>\n",
              "      <td>район свиблово</td>\n",
              "    </tr>\n",
              "    <tr>\n",
              "      <th>6</th>\n",
              "      <td>проспект мира</td>\n",
              "      <td>204</td>\n",
              "      <td>ЦАО</td>\n",
              "      <td>мещанский район</td>\n",
              "    </tr>\n",
              "    <tr>\n",
              "      <th>7</th>\n",
              "      <td>профсоюзная улица</td>\n",
              "      <td>183</td>\n",
              "      <td>ЮЗАО</td>\n",
              "      <td>академический район</td>\n",
              "    </tr>\n",
              "    <tr>\n",
              "      <th>8</th>\n",
              "      <td>профсоюзная улица</td>\n",
              "      <td>183</td>\n",
              "      <td>ЮЗАО</td>\n",
              "      <td>район черемушки</td>\n",
              "    </tr>\n",
              "    <tr>\n",
              "      <th>9</th>\n",
              "      <td>профсоюзная улица</td>\n",
              "      <td>183</td>\n",
              "      <td>ЮЗАО</td>\n",
              "      <td>район ясенево</td>\n",
              "    </tr>\n",
              "    <tr>\n",
              "      <th>10</th>\n",
              "      <td>профсоюзная улица</td>\n",
              "      <td>183</td>\n",
              "      <td>ЮЗАО</td>\n",
              "      <td>район коньково</td>\n",
              "    </tr>\n",
              "    <tr>\n",
              "      <th>11</th>\n",
              "      <td>профсоюзная улица</td>\n",
              "      <td>183</td>\n",
              "      <td>ЮЗАО</td>\n",
              "      <td>обручевский район</td>\n",
              "    </tr>\n",
              "    <tr>\n",
              "      <th>12</th>\n",
              "      <td>профсоюзная улица</td>\n",
              "      <td>183</td>\n",
              "      <td>ЮЗАО</td>\n",
              "      <td>район теплый стан</td>\n",
              "    </tr>\n",
              "    <tr>\n",
              "      <th>13</th>\n",
              "      <td>ленинградский проспект</td>\n",
              "      <td>173</td>\n",
              "      <td>САО</td>\n",
              "      <td>район аэропорт</td>\n",
              "    </tr>\n",
              "    <tr>\n",
              "      <th>14</th>\n",
              "      <td>ленинградский проспект</td>\n",
              "      <td>173</td>\n",
              "      <td>САО</td>\n",
              "      <td>район беговой</td>\n",
              "    </tr>\n",
              "    <tr>\n",
              "      <th>15</th>\n",
              "      <td>ленинградский проспект</td>\n",
              "      <td>173</td>\n",
              "      <td>САО</td>\n",
              "      <td>хорошевский район</td>\n",
              "    </tr>\n",
              "    <tr>\n",
              "      <th>16</th>\n",
              "      <td>ленинградский проспект</td>\n",
              "      <td>173</td>\n",
              "      <td>САО</td>\n",
              "      <td>район сокол</td>\n",
              "    </tr>\n",
              "    <tr>\n",
              "      <th>17</th>\n",
              "      <td>пресненская набережная</td>\n",
              "      <td>167</td>\n",
              "      <td>ЦАО</td>\n",
              "      <td>пресненский район</td>\n",
              "    </tr>\n",
              "    <tr>\n",
              "      <th>18</th>\n",
              "      <td>варшавское шоссе</td>\n",
              "      <td>165</td>\n",
              "      <td>ЮАО</td>\n",
              "      <td>район чертаново центральное</td>\n",
              "    </tr>\n",
              "    <tr>\n",
              "      <th>19</th>\n",
              "      <td>варшавское шоссе</td>\n",
              "      <td>165</td>\n",
              "      <td>ЮАО</td>\n",
              "      <td>район чертаново северное</td>\n",
              "    </tr>\n",
              "    <tr>\n",
              "      <th>20</th>\n",
              "      <td>варшавское шоссе</td>\n",
              "      <td>165</td>\n",
              "      <td>ЮАО</td>\n",
              "      <td>район чертаново южное</td>\n",
              "    </tr>\n",
              "    <tr>\n",
              "      <th>21</th>\n",
              "      <td>варшавское шоссе</td>\n",
              "      <td>165</td>\n",
              "      <td>ЮАО</td>\n",
              "      <td>донской район</td>\n",
              "    </tr>\n",
              "    <tr>\n",
              "      <th>22</th>\n",
              "      <td>варшавское шоссе</td>\n",
              "      <td>165</td>\n",
              "      <td>ЮАО</td>\n",
              "      <td>район нагатино-садовники</td>\n",
              "    </tr>\n",
              "    <tr>\n",
              "      <th>23</th>\n",
              "      <td>варшавское шоссе</td>\n",
              "      <td>165</td>\n",
              "      <td>ЮАО</td>\n",
              "      <td>нагорный район</td>\n",
              "    </tr>\n",
              "    <tr>\n",
              "      <th>24</th>\n",
              "      <td>варшавское шоссе</td>\n",
              "      <td>165</td>\n",
              "      <td>ЮЗАО</td>\n",
              "      <td>район северное бутово</td>\n",
              "    </tr>\n",
              "    <tr>\n",
              "      <th>25</th>\n",
              "      <td>варшавское шоссе</td>\n",
              "      <td>165</td>\n",
              "      <td>ЮЗАО</td>\n",
              "      <td>район южное бутово</td>\n",
              "    </tr>\n",
              "    <tr>\n",
              "      <th>26</th>\n",
              "      <td>ленинский проспект</td>\n",
              "      <td>148</td>\n",
              "      <td>ЗАО</td>\n",
              "      <td>район проспект вернадского</td>\n",
              "    </tr>\n",
              "    <tr>\n",
              "      <th>27</th>\n",
              "      <td>ленинский проспект</td>\n",
              "      <td>148</td>\n",
              "      <td>ЗАО</td>\n",
              "      <td>район тропарево-никулино</td>\n",
              "    </tr>\n",
              "    <tr>\n",
              "      <th>28</th>\n",
              "      <td>ленинский проспект</td>\n",
              "      <td>148</td>\n",
              "      <td>ЮАО</td>\n",
              "      <td>донской район</td>\n",
              "    </tr>\n",
              "    <tr>\n",
              "      <th>29</th>\n",
              "      <td>ленинский проспект</td>\n",
              "      <td>148</td>\n",
              "      <td>ЮЗАО</td>\n",
              "      <td>район гагаринский</td>\n",
              "    </tr>\n",
              "    <tr>\n",
              "      <th>30</th>\n",
              "      <td>ленинский проспект</td>\n",
              "      <td>148</td>\n",
              "      <td>ЮЗАО</td>\n",
              "      <td>ломоносовский район</td>\n",
              "    </tr>\n",
              "    <tr>\n",
              "      <th>31</th>\n",
              "      <td>ленинский проспект</td>\n",
              "      <td>148</td>\n",
              "      <td>ЮЗАО</td>\n",
              "      <td>обручевский район</td>\n",
              "    </tr>\n",
              "    <tr>\n",
              "      <th>32</th>\n",
              "      <td>ленинский проспект</td>\n",
              "      <td>148</td>\n",
              "      <td>ЮЗАО</td>\n",
              "      <td>район теплый стан</td>\n",
              "    </tr>\n",
              "    <tr>\n",
              "      <th>33</th>\n",
              "      <td>ленинский проспект</td>\n",
              "      <td>148</td>\n",
              "      <td>ЦАО</td>\n",
              "      <td>район якиманка</td>\n",
              "    </tr>\n",
              "    <tr>\n",
              "      <th>34</th>\n",
              "      <td>проспект вернадского</td>\n",
              "      <td>132</td>\n",
              "      <td>ЗАО</td>\n",
              "      <td>район проспект вернадского</td>\n",
              "    </tr>\n",
              "    <tr>\n",
              "      <th>35</th>\n",
              "      <td>проспект вернадского</td>\n",
              "      <td>132</td>\n",
              "      <td>ЗАО</td>\n",
              "      <td>район раменки</td>\n",
              "    </tr>\n",
              "    <tr>\n",
              "      <th>36</th>\n",
              "      <td>проспект вернадского</td>\n",
              "      <td>132</td>\n",
              "      <td>ЗАО</td>\n",
              "      <td>район тропарево-никулино</td>\n",
              "    </tr>\n",
              "    <tr>\n",
              "      <th>37</th>\n",
              "      <td>проспект вернадского</td>\n",
              "      <td>132</td>\n",
              "      <td>ЮЗАО</td>\n",
              "      <td>район гагаринский</td>\n",
              "    </tr>\n",
              "    <tr>\n",
              "      <th>38</th>\n",
              "      <td>проспект вернадского</td>\n",
              "      <td>132</td>\n",
              "      <td>ЮЗАО</td>\n",
              "      <td>ломоносовский район</td>\n",
              "    </tr>\n",
              "    <tr>\n",
              "      <th>39</th>\n",
              "      <td>кутузовский проспект</td>\n",
              "      <td>114</td>\n",
              "      <td>ЗАО</td>\n",
              "      <td>район дорогомилово</td>\n",
              "    </tr>\n",
              "    <tr>\n",
              "      <th>40</th>\n",
              "      <td>кутузовский проспект</td>\n",
              "      <td>114</td>\n",
              "      <td>ЗАО</td>\n",
              "      <td>район фили-давыдково</td>\n",
              "    </tr>\n",
              "    <tr>\n",
              "      <th>41</th>\n",
              "      <td>каширское шоссе</td>\n",
              "      <td>112</td>\n",
              "      <td>ЮАО</td>\n",
              "      <td>район москворечье-сабурово</td>\n",
              "    </tr>\n",
              "    <tr>\n",
              "      <th>42</th>\n",
              "      <td>каширское шоссе</td>\n",
              "      <td>112</td>\n",
              "      <td>ЮАО</td>\n",
              "      <td>район нагатино-садовники</td>\n",
              "    </tr>\n",
              "    <tr>\n",
              "      <th>43</th>\n",
              "      <td>каширское шоссе</td>\n",
              "      <td>112</td>\n",
              "      <td>ЮАО</td>\n",
              "      <td>район орехово-борисово южное</td>\n",
              "    </tr>\n",
              "    <tr>\n",
              "      <th>44</th>\n",
              "      <td>каширское шоссе</td>\n",
              "      <td>112</td>\n",
              "      <td>ЮАО</td>\n",
              "      <td>район орехово-борисово северное</td>\n",
              "    </tr>\n",
              "    <tr>\n",
              "      <th>45</th>\n",
              "      <td>кировоградская улица</td>\n",
              "      <td>110</td>\n",
              "      <td>ЮАО</td>\n",
              "      <td>район чертаново центральное</td>\n",
              "    </tr>\n",
              "    <tr>\n",
              "      <th>46</th>\n",
              "      <td>кировоградская улица</td>\n",
              "      <td>110</td>\n",
              "      <td>ЮАО</td>\n",
              "      <td>район чертаново северное</td>\n",
              "    </tr>\n",
              "    <tr>\n",
              "      <th>47</th>\n",
              "      <td>кировоградская улица</td>\n",
              "      <td>110</td>\n",
              "      <td>ЮАО</td>\n",
              "      <td>район чертаново южное</td>\n",
              "    </tr>\n",
              "  </tbody>\n",
              "</table>\n",
              "</div>\n",
              "      <button class=\"colab-df-convert\" onclick=\"convertToInteractive('df-67af1c81-86b2-4dfd-bbe0-a9f89f32cca1')\"\n",
              "              title=\"Convert this dataframe to an interactive table.\"\n",
              "              style=\"display:none;\">\n",
              "        \n",
              "  <svg xmlns=\"http://www.w3.org/2000/svg\" height=\"24px\"viewBox=\"0 0 24 24\"\n",
              "       width=\"24px\">\n",
              "    <path d=\"M0 0h24v24H0V0z\" fill=\"none\"/>\n",
              "    <path d=\"M18.56 5.44l.94 2.06.94-2.06 2.06-.94-2.06-.94-.94-2.06-.94 2.06-2.06.94zm-11 1L8.5 8.5l.94-2.06 2.06-.94-2.06-.94L8.5 2.5l-.94 2.06-2.06.94zm10 10l.94 2.06.94-2.06 2.06-.94-2.06-.94-.94-2.06-.94 2.06-2.06.94z\"/><path d=\"M17.41 7.96l-1.37-1.37c-.4-.4-.92-.59-1.43-.59-.52 0-1.04.2-1.43.59L10.3 9.45l-7.72 7.72c-.78.78-.78 2.05 0 2.83L4 21.41c.39.39.9.59 1.41.59.51 0 1.02-.2 1.41-.59l7.78-7.78 2.81-2.81c.8-.78.8-2.07 0-2.86zM5.41 20L4 18.59l7.72-7.72 1.47 1.35L5.41 20z\"/>\n",
              "  </svg>\n",
              "      </button>\n",
              "      \n",
              "  <style>\n",
              "    .colab-df-container {\n",
              "      display:flex;\n",
              "      flex-wrap:wrap;\n",
              "      gap: 12px;\n",
              "    }\n",
              "\n",
              "    .colab-df-convert {\n",
              "      background-color: #E8F0FE;\n",
              "      border: none;\n",
              "      border-radius: 50%;\n",
              "      cursor: pointer;\n",
              "      display: none;\n",
              "      fill: #1967D2;\n",
              "      height: 32px;\n",
              "      padding: 0 0 0 0;\n",
              "      width: 32px;\n",
              "    }\n",
              "\n",
              "    .colab-df-convert:hover {\n",
              "      background-color: #E2EBFA;\n",
              "      box-shadow: 0px 1px 2px rgba(60, 64, 67, 0.3), 0px 1px 3px 1px rgba(60, 64, 67, 0.15);\n",
              "      fill: #174EA6;\n",
              "    }\n",
              "\n",
              "    [theme=dark] .colab-df-convert {\n",
              "      background-color: #3B4455;\n",
              "      fill: #D2E3FC;\n",
              "    }\n",
              "\n",
              "    [theme=dark] .colab-df-convert:hover {\n",
              "      background-color: #434B5C;\n",
              "      box-shadow: 0px 1px 3px 1px rgba(0, 0, 0, 0.15);\n",
              "      filter: drop-shadow(0px 1px 2px rgba(0, 0, 0, 0.3));\n",
              "      fill: #FFFFFF;\n",
              "    }\n",
              "  </style>\n",
              "\n",
              "      <script>\n",
              "        const buttonEl =\n",
              "          document.querySelector('#df-67af1c81-86b2-4dfd-bbe0-a9f89f32cca1 button.colab-df-convert');\n",
              "        buttonEl.style.display =\n",
              "          google.colab.kernel.accessAllowed ? 'block' : 'none';\n",
              "\n",
              "        async function convertToInteractive(key) {\n",
              "          const element = document.querySelector('#df-67af1c81-86b2-4dfd-bbe0-a9f89f32cca1');\n",
              "          const dataTable =\n",
              "            await google.colab.kernel.invokeFunction('convertToInteractive',\n",
              "                                                     [key], {});\n",
              "          if (!dataTable) return;\n",
              "\n",
              "          const docLinkHtml = 'Like what you see? Visit the ' +\n",
              "            '<a target=\"_blank\" href=https://colab.research.google.com/notebooks/data_table.ipynb>data table notebook</a>'\n",
              "            + ' to learn more about interactive tables.';\n",
              "          element.innerHTML = '';\n",
              "          dataTable['output_type'] = 'display_data';\n",
              "          await google.colab.output.renderOutput(dataTable, element);\n",
              "          const docLink = document.createElement('div');\n",
              "          docLink.innerHTML = docLinkHtml;\n",
              "          element.appendChild(docLink);\n",
              "        }\n",
              "      </script>\n",
              "    </div>\n",
              "  </div>\n",
              "  "
            ]
          },
          "metadata": {},
          "execution_count": 40
        }
      ],
      "source": [
        "#Соединяем топ 10 улиц с дф с улицами и районами Москвы\n",
        "district = top_streets.head(10).merge(streets[['street', 'okrug', 'district']], left_on='street', right_on='street')\n",
        "district"
      ]
    },
    {
      "cell_type": "code",
      "execution_count": 41,
      "metadata": {
        "colab": {
          "base_uri": "https://localhost:8080/",
          "height": 567
        },
        "id": "fEjn5Dp_94Dt",
        "outputId": "1e072ac8-974a-4d36-e07c-795d87a41cfe"
      },
      "outputs": [
        {
          "output_type": "display_data",
          "data": {
            "text/html": [
              "<html>\n",
              "<head><meta charset=\"utf-8\" /></head>\n",
              "<body>\n",
              "    <div>            <script src=\"https://cdnjs.cloudflare.com/ajax/libs/mathjax/2.7.5/MathJax.js?config=TeX-AMS-MML_SVG\"></script><script type=\"text/javascript\">if (window.MathJax) {MathJax.Hub.Config({SVG: {font: \"STIX-Web\"}});}</script>                <script type=\"text/javascript\">window.PlotlyConfig = {MathJaxConfig: 'local'};</script>\n",
              "        <script src=\"https://cdn.plot.ly/plotly-2.8.3.min.js\"></script>                <div id=\"81f15431-e43d-400b-a760-ea2f2ac4ba09\" class=\"plotly-graph-div\" style=\"height:550px; width:900px;\"></div>            <script type=\"text/javascript\">                                    window.PLOTLYENV=window.PLOTLYENV || {};                                    if (document.getElementById(\"81f15431-e43d-400b-a760-ea2f2ac4ba09\")) {                    Plotly.newPlot(                        \"81f15431-e43d-400b-a760-ea2f2ac4ba09\",                        [{\"alignmentgroup\":\"True\",\"hovertemplate\":\"district=\\u0430\\u043b\\u0435\\u043a\\u0441\\u0435\\u0435\\u0432\\u0441\\u043a\\u0438\\u0439 \\u0440\\u0430\\u0439\\u043e\\u043d<br>street=%{x}<br>count=%{y}<extra></extra>\",\"legendgroup\":\"\\u0430\\u043b\\u0435\\u043a\\u0441\\u0435\\u0435\\u0432\\u0441\\u043a\\u0438\\u0439 \\u0440\\u0430\\u0439\\u043e\\u043d\",\"marker\":{\"color\":\"#636efa\",\"pattern\":{\"shape\":\"\"}},\"name\":\"\\u0430\\u043b\\u0435\\u043a\\u0441\\u0435\\u0435\\u0432\\u0441\\u043a\\u0438\\u0439 \\u0440\\u0430\\u0439\\u043e\\u043d\",\"offsetgroup\":\"\\u0430\\u043b\\u0435\\u043a\\u0441\\u0435\\u0435\\u0432\\u0441\\u043a\\u0438\\u0439 \\u0440\\u0430\\u0439\\u043e\\u043d\",\"orientation\":\"v\",\"showlegend\":true,\"textposition\":\"auto\",\"x\":[\"\\u043f\\u0440\\u043e\\u0441\\u043f\\u0435\\u043a\\u0442 \\u043c\\u0438\\u0440\\u0430\"],\"xaxis\":\"x\",\"y\":[1],\"yaxis\":\"y\",\"type\":\"bar\"},{\"alignmentgroup\":\"True\",\"hovertemplate\":\"district=\\u044f\\u0440\\u043e\\u0441\\u043b\\u0430\\u0432\\u0441\\u043a\\u0438\\u0439 \\u0440\\u0430\\u0439\\u043e\\u043d<br>street=%{x}<br>count=%{y}<extra></extra>\",\"legendgroup\":\"\\u044f\\u0440\\u043e\\u0441\\u043b\\u0430\\u0432\\u0441\\u043a\\u0438\\u0439 \\u0440\\u0430\\u0439\\u043e\\u043d\",\"marker\":{\"color\":\"#EF553B\",\"pattern\":{\"shape\":\"\"}},\"name\":\"\\u044f\\u0440\\u043e\\u0441\\u043b\\u0430\\u0432\\u0441\\u043a\\u0438\\u0439 \\u0440\\u0430\\u0439\\u043e\\u043d\",\"offsetgroup\":\"\\u044f\\u0440\\u043e\\u0441\\u043b\\u0430\\u0432\\u0441\\u043a\\u0438\\u0439 \\u0440\\u0430\\u0439\\u043e\\u043d\",\"orientation\":\"v\",\"showlegend\":true,\"textposition\":\"auto\",\"x\":[\"\\u043f\\u0440\\u043e\\u0441\\u043f\\u0435\\u043a\\u0442 \\u043c\\u0438\\u0440\\u0430\"],\"xaxis\":\"x\",\"y\":[1],\"yaxis\":\"y\",\"type\":\"bar\"},{\"alignmentgroup\":\"True\",\"hovertemplate\":\"district=\\u0440\\u0430\\u0439\\u043e\\u043d \\u043c\\u0430\\u0440\\u044c\\u0438\\u043d\\u0430 \\u0440\\u043e\\u0449\\u0430<br>street=%{x}<br>count=%{y}<extra></extra>\",\"legendgroup\":\"\\u0440\\u0430\\u0439\\u043e\\u043d \\u043c\\u0430\\u0440\\u044c\\u0438\\u043d\\u0430 \\u0440\\u043e\\u0449\\u0430\",\"marker\":{\"color\":\"#00cc96\",\"pattern\":{\"shape\":\"\"}},\"name\":\"\\u0440\\u0430\\u0439\\u043e\\u043d \\u043c\\u0430\\u0440\\u044c\\u0438\\u043d\\u0430 \\u0440\\u043e\\u0449\\u0430\",\"offsetgroup\":\"\\u0440\\u0430\\u0439\\u043e\\u043d \\u043c\\u0430\\u0440\\u044c\\u0438\\u043d\\u0430 \\u0440\\u043e\\u0449\\u0430\",\"orientation\":\"v\",\"showlegend\":true,\"textposition\":\"auto\",\"x\":[\"\\u043f\\u0440\\u043e\\u0441\\u043f\\u0435\\u043a\\u0442 \\u043c\\u0438\\u0440\\u0430\"],\"xaxis\":\"x\",\"y\":[1],\"yaxis\":\"y\",\"type\":\"bar\"},{\"alignmentgroup\":\"True\",\"hovertemplate\":\"district=\\u043e\\u0441\\u0442\\u0430\\u043d\\u043a\\u0438\\u043d\\u0441\\u043a\\u0438\\u0439 \\u0440\\u0430\\u0439\\u043e\\u043d<br>street=%{x}<br>count=%{y}<extra></extra>\",\"legendgroup\":\"\\u043e\\u0441\\u0442\\u0430\\u043d\\u043a\\u0438\\u043d\\u0441\\u043a\\u0438\\u0439 \\u0440\\u0430\\u0439\\u043e\\u043d\",\"marker\":{\"color\":\"#ab63fa\",\"pattern\":{\"shape\":\"\"}},\"name\":\"\\u043e\\u0441\\u0442\\u0430\\u043d\\u043a\\u0438\\u043d\\u0441\\u043a\\u0438\\u0439 \\u0440\\u0430\\u0439\\u043e\\u043d\",\"offsetgroup\":\"\\u043e\\u0441\\u0442\\u0430\\u043d\\u043a\\u0438\\u043d\\u0441\\u043a\\u0438\\u0439 \\u0440\\u0430\\u0439\\u043e\\u043d\",\"orientation\":\"v\",\"showlegend\":true,\"textposition\":\"auto\",\"x\":[\"\\u043f\\u0440\\u043e\\u0441\\u043f\\u0435\\u043a\\u0442 \\u043c\\u0438\\u0440\\u0430\"],\"xaxis\":\"x\",\"y\":[1],\"yaxis\":\"y\",\"type\":\"bar\"},{\"alignmentgroup\":\"True\",\"hovertemplate\":\"district=\\u0440\\u0430\\u0439\\u043e\\u043d \\u0440\\u043e\\u0441\\u0442\\u043e\\u043a\\u0438\\u043d\\u043e<br>street=%{x}<br>count=%{y}<extra></extra>\",\"legendgroup\":\"\\u0440\\u0430\\u0439\\u043e\\u043d \\u0440\\u043e\\u0441\\u0442\\u043e\\u043a\\u0438\\u043d\\u043e\",\"marker\":{\"color\":\"#FFA15A\",\"pattern\":{\"shape\":\"\"}},\"name\":\"\\u0440\\u0430\\u0439\\u043e\\u043d \\u0440\\u043e\\u0441\\u0442\\u043e\\u043a\\u0438\\u043d\\u043e\",\"offsetgroup\":\"\\u0440\\u0430\\u0439\\u043e\\u043d \\u0440\\u043e\\u0441\\u0442\\u043e\\u043a\\u0438\\u043d\\u043e\",\"orientation\":\"v\",\"showlegend\":true,\"textposition\":\"auto\",\"x\":[\"\\u043f\\u0440\\u043e\\u0441\\u043f\\u0435\\u043a\\u0442 \\u043c\\u0438\\u0440\\u0430\"],\"xaxis\":\"x\",\"y\":[1],\"yaxis\":\"y\",\"type\":\"bar\"},{\"alignmentgroup\":\"True\",\"hovertemplate\":\"district=\\u0440\\u0430\\u0439\\u043e\\u043d \\u0441\\u0432\\u0438\\u0431\\u043b\\u043e\\u0432\\u043e<br>street=%{x}<br>count=%{y}<extra></extra>\",\"legendgroup\":\"\\u0440\\u0430\\u0439\\u043e\\u043d \\u0441\\u0432\\u0438\\u0431\\u043b\\u043e\\u0432\\u043e\",\"marker\":{\"color\":\"#19d3f3\",\"pattern\":{\"shape\":\"\"}},\"name\":\"\\u0440\\u0430\\u0439\\u043e\\u043d \\u0441\\u0432\\u0438\\u0431\\u043b\\u043e\\u0432\\u043e\",\"offsetgroup\":\"\\u0440\\u0430\\u0439\\u043e\\u043d \\u0441\\u0432\\u0438\\u0431\\u043b\\u043e\\u0432\\u043e\",\"orientation\":\"v\",\"showlegend\":true,\"textposition\":\"auto\",\"x\":[\"\\u043f\\u0440\\u043e\\u0441\\u043f\\u0435\\u043a\\u0442 \\u043c\\u0438\\u0440\\u0430\"],\"xaxis\":\"x\",\"y\":[1],\"yaxis\":\"y\",\"type\":\"bar\"},{\"alignmentgroup\":\"True\",\"hovertemplate\":\"district=\\u043c\\u0435\\u0449\\u0430\\u043d\\u0441\\u043a\\u0438\\u0439 \\u0440\\u0430\\u0439\\u043e\\u043d<br>street=%{x}<br>count=%{y}<extra></extra>\",\"legendgroup\":\"\\u043c\\u0435\\u0449\\u0430\\u043d\\u0441\\u043a\\u0438\\u0439 \\u0440\\u0430\\u0439\\u043e\\u043d\",\"marker\":{\"color\":\"#FF6692\",\"pattern\":{\"shape\":\"\"}},\"name\":\"\\u043c\\u0435\\u0449\\u0430\\u043d\\u0441\\u043a\\u0438\\u0439 \\u0440\\u0430\\u0439\\u043e\\u043d\",\"offsetgroup\":\"\\u043c\\u0435\\u0449\\u0430\\u043d\\u0441\\u043a\\u0438\\u0439 \\u0440\\u0430\\u0439\\u043e\\u043d\",\"orientation\":\"v\",\"showlegend\":true,\"textposition\":\"auto\",\"x\":[\"\\u043f\\u0440\\u043e\\u0441\\u043f\\u0435\\u043a\\u0442 \\u043c\\u0438\\u0440\\u0430\"],\"xaxis\":\"x\",\"y\":[1],\"yaxis\":\"y\",\"type\":\"bar\"},{\"alignmentgroup\":\"True\",\"hovertemplate\":\"district=\\u0430\\u043a\\u0430\\u0434\\u0435\\u043c\\u0438\\u0447\\u0435\\u0441\\u043a\\u0438\\u0439 \\u0440\\u0430\\u0439\\u043e\\u043d<br>street=%{x}<br>count=%{y}<extra></extra>\",\"legendgroup\":\"\\u0430\\u043a\\u0430\\u0434\\u0435\\u043c\\u0438\\u0447\\u0435\\u0441\\u043a\\u0438\\u0439 \\u0440\\u0430\\u0439\\u043e\\u043d\",\"marker\":{\"color\":\"#B6E880\",\"pattern\":{\"shape\":\"\"}},\"name\":\"\\u0430\\u043a\\u0430\\u0434\\u0435\\u043c\\u0438\\u0447\\u0435\\u0441\\u043a\\u0438\\u0439 \\u0440\\u0430\\u0439\\u043e\\u043d\",\"offsetgroup\":\"\\u0430\\u043a\\u0430\\u0434\\u0435\\u043c\\u0438\\u0447\\u0435\\u0441\\u043a\\u0438\\u0439 \\u0440\\u0430\\u0439\\u043e\\u043d\",\"orientation\":\"v\",\"showlegend\":true,\"textposition\":\"auto\",\"x\":[\"\\u043f\\u0440\\u043e\\u0444\\u0441\\u043e\\u044e\\u0437\\u043d\\u0430\\u044f \\u0443\\u043b\\u0438\\u0446\\u0430\"],\"xaxis\":\"x\",\"y\":[1],\"yaxis\":\"y\",\"type\":\"bar\"},{\"alignmentgroup\":\"True\",\"hovertemplate\":\"district=\\u0440\\u0430\\u0439\\u043e\\u043d \\u0447\\u0435\\u0440\\u0435\\u043c\\u0443\\u0448\\u043a\\u0438<br>street=%{x}<br>count=%{y}<extra></extra>\",\"legendgroup\":\"\\u0440\\u0430\\u0439\\u043e\\u043d \\u0447\\u0435\\u0440\\u0435\\u043c\\u0443\\u0448\\u043a\\u0438\",\"marker\":{\"color\":\"#FF97FF\",\"pattern\":{\"shape\":\"\"}},\"name\":\"\\u0440\\u0430\\u0439\\u043e\\u043d \\u0447\\u0435\\u0440\\u0435\\u043c\\u0443\\u0448\\u043a\\u0438\",\"offsetgroup\":\"\\u0440\\u0430\\u0439\\u043e\\u043d \\u0447\\u0435\\u0440\\u0435\\u043c\\u0443\\u0448\\u043a\\u0438\",\"orientation\":\"v\",\"showlegend\":true,\"textposition\":\"auto\",\"x\":[\"\\u043f\\u0440\\u043e\\u0444\\u0441\\u043e\\u044e\\u0437\\u043d\\u0430\\u044f \\u0443\\u043b\\u0438\\u0446\\u0430\"],\"xaxis\":\"x\",\"y\":[1],\"yaxis\":\"y\",\"type\":\"bar\"},{\"alignmentgroup\":\"True\",\"hovertemplate\":\"district=\\u0440\\u0430\\u0439\\u043e\\u043d \\u044f\\u0441\\u0435\\u043d\\u0435\\u0432\\u043e<br>street=%{x}<br>count=%{y}<extra></extra>\",\"legendgroup\":\"\\u0440\\u0430\\u0439\\u043e\\u043d \\u044f\\u0441\\u0435\\u043d\\u0435\\u0432\\u043e\",\"marker\":{\"color\":\"#FECB52\",\"pattern\":{\"shape\":\"\"}},\"name\":\"\\u0440\\u0430\\u0439\\u043e\\u043d \\u044f\\u0441\\u0435\\u043d\\u0435\\u0432\\u043e\",\"offsetgroup\":\"\\u0440\\u0430\\u0439\\u043e\\u043d \\u044f\\u0441\\u0435\\u043d\\u0435\\u0432\\u043e\",\"orientation\":\"v\",\"showlegend\":true,\"textposition\":\"auto\",\"x\":[\"\\u043f\\u0440\\u043e\\u0444\\u0441\\u043e\\u044e\\u0437\\u043d\\u0430\\u044f \\u0443\\u043b\\u0438\\u0446\\u0430\"],\"xaxis\":\"x\",\"y\":[1],\"yaxis\":\"y\",\"type\":\"bar\"},{\"alignmentgroup\":\"True\",\"hovertemplate\":\"district=\\u0440\\u0430\\u0439\\u043e\\u043d \\u043a\\u043e\\u043d\\u044c\\u043a\\u043e\\u0432\\u043e<br>street=%{x}<br>count=%{y}<extra></extra>\",\"legendgroup\":\"\\u0440\\u0430\\u0439\\u043e\\u043d \\u043a\\u043e\\u043d\\u044c\\u043a\\u043e\\u0432\\u043e\",\"marker\":{\"color\":\"#636efa\",\"pattern\":{\"shape\":\"\"}},\"name\":\"\\u0440\\u0430\\u0439\\u043e\\u043d \\u043a\\u043e\\u043d\\u044c\\u043a\\u043e\\u0432\\u043e\",\"offsetgroup\":\"\\u0440\\u0430\\u0439\\u043e\\u043d \\u043a\\u043e\\u043d\\u044c\\u043a\\u043e\\u0432\\u043e\",\"orientation\":\"v\",\"showlegend\":true,\"textposition\":\"auto\",\"x\":[\"\\u043f\\u0440\\u043e\\u0444\\u0441\\u043e\\u044e\\u0437\\u043d\\u0430\\u044f \\u0443\\u043b\\u0438\\u0446\\u0430\"],\"xaxis\":\"x\",\"y\":[1],\"yaxis\":\"y\",\"type\":\"bar\"},{\"alignmentgroup\":\"True\",\"hovertemplate\":\"district=\\u043e\\u0431\\u0440\\u0443\\u0447\\u0435\\u0432\\u0441\\u043a\\u0438\\u0439 \\u0440\\u0430\\u0439\\u043e\\u043d<br>street=%{x}<br>count=%{y}<extra></extra>\",\"legendgroup\":\"\\u043e\\u0431\\u0440\\u0443\\u0447\\u0435\\u0432\\u0441\\u043a\\u0438\\u0439 \\u0440\\u0430\\u0439\\u043e\\u043d\",\"marker\":{\"color\":\"#EF553B\",\"pattern\":{\"shape\":\"\"}},\"name\":\"\\u043e\\u0431\\u0440\\u0443\\u0447\\u0435\\u0432\\u0441\\u043a\\u0438\\u0439 \\u0440\\u0430\\u0439\\u043e\\u043d\",\"offsetgroup\":\"\\u043e\\u0431\\u0440\\u0443\\u0447\\u0435\\u0432\\u0441\\u043a\\u0438\\u0439 \\u0440\\u0430\\u0439\\u043e\\u043d\",\"orientation\":\"v\",\"showlegend\":true,\"textposition\":\"auto\",\"x\":[\"\\u043f\\u0440\\u043e\\u0444\\u0441\\u043e\\u044e\\u0437\\u043d\\u0430\\u044f \\u0443\\u043b\\u0438\\u0446\\u0430\",\"\\u043b\\u0435\\u043d\\u0438\\u043d\\u0441\\u043a\\u0438\\u0439 \\u043f\\u0440\\u043e\\u0441\\u043f\\u0435\\u043a\\u0442\"],\"xaxis\":\"x\",\"y\":[1,1],\"yaxis\":\"y\",\"type\":\"bar\"},{\"alignmentgroup\":\"True\",\"hovertemplate\":\"district=\\u0440\\u0430\\u0439\\u043e\\u043d \\u0442\\u0435\\u043f\\u043b\\u044b\\u0439 \\u0441\\u0442\\u0430\\u043d<br>street=%{x}<br>count=%{y}<extra></extra>\",\"legendgroup\":\"\\u0440\\u0430\\u0439\\u043e\\u043d \\u0442\\u0435\\u043f\\u043b\\u044b\\u0439 \\u0441\\u0442\\u0430\\u043d\",\"marker\":{\"color\":\"#00cc96\",\"pattern\":{\"shape\":\"\"}},\"name\":\"\\u0440\\u0430\\u0439\\u043e\\u043d \\u0442\\u0435\\u043f\\u043b\\u044b\\u0439 \\u0441\\u0442\\u0430\\u043d\",\"offsetgroup\":\"\\u0440\\u0430\\u0439\\u043e\\u043d \\u0442\\u0435\\u043f\\u043b\\u044b\\u0439 \\u0441\\u0442\\u0430\\u043d\",\"orientation\":\"v\",\"showlegend\":true,\"textposition\":\"auto\",\"x\":[\"\\u043f\\u0440\\u043e\\u0444\\u0441\\u043e\\u044e\\u0437\\u043d\\u0430\\u044f \\u0443\\u043b\\u0438\\u0446\\u0430\",\"\\u043b\\u0435\\u043d\\u0438\\u043d\\u0441\\u043a\\u0438\\u0439 \\u043f\\u0440\\u043e\\u0441\\u043f\\u0435\\u043a\\u0442\"],\"xaxis\":\"x\",\"y\":[1,1],\"yaxis\":\"y\",\"type\":\"bar\"},{\"alignmentgroup\":\"True\",\"hovertemplate\":\"district=\\u0440\\u0430\\u0439\\u043e\\u043d \\u0430\\u044d\\u0440\\u043e\\u043f\\u043e\\u0440\\u0442<br>street=%{x}<br>count=%{y}<extra></extra>\",\"legendgroup\":\"\\u0440\\u0430\\u0439\\u043e\\u043d \\u0430\\u044d\\u0440\\u043e\\u043f\\u043e\\u0440\\u0442\",\"marker\":{\"color\":\"#ab63fa\",\"pattern\":{\"shape\":\"\"}},\"name\":\"\\u0440\\u0430\\u0439\\u043e\\u043d \\u0430\\u044d\\u0440\\u043e\\u043f\\u043e\\u0440\\u0442\",\"offsetgroup\":\"\\u0440\\u0430\\u0439\\u043e\\u043d \\u0430\\u044d\\u0440\\u043e\\u043f\\u043e\\u0440\\u0442\",\"orientation\":\"v\",\"showlegend\":true,\"textposition\":\"auto\",\"x\":[\"\\u043b\\u0435\\u043d\\u0438\\u043d\\u0433\\u0440\\u0430\\u0434\\u0441\\u043a\\u0438\\u0439 \\u043f\\u0440\\u043e\\u0441\\u043f\\u0435\\u043a\\u0442\"],\"xaxis\":\"x\",\"y\":[1],\"yaxis\":\"y\",\"type\":\"bar\"},{\"alignmentgroup\":\"True\",\"hovertemplate\":\"district=\\u0440\\u0430\\u0439\\u043e\\u043d \\u0431\\u0435\\u0433\\u043e\\u0432\\u043e\\u0439<br>street=%{x}<br>count=%{y}<extra></extra>\",\"legendgroup\":\"\\u0440\\u0430\\u0439\\u043e\\u043d \\u0431\\u0435\\u0433\\u043e\\u0432\\u043e\\u0439\",\"marker\":{\"color\":\"#FFA15A\",\"pattern\":{\"shape\":\"\"}},\"name\":\"\\u0440\\u0430\\u0439\\u043e\\u043d \\u0431\\u0435\\u0433\\u043e\\u0432\\u043e\\u0439\",\"offsetgroup\":\"\\u0440\\u0430\\u0439\\u043e\\u043d \\u0431\\u0435\\u0433\\u043e\\u0432\\u043e\\u0439\",\"orientation\":\"v\",\"showlegend\":true,\"textposition\":\"auto\",\"x\":[\"\\u043b\\u0435\\u043d\\u0438\\u043d\\u0433\\u0440\\u0430\\u0434\\u0441\\u043a\\u0438\\u0439 \\u043f\\u0440\\u043e\\u0441\\u043f\\u0435\\u043a\\u0442\"],\"xaxis\":\"x\",\"y\":[1],\"yaxis\":\"y\",\"type\":\"bar\"},{\"alignmentgroup\":\"True\",\"hovertemplate\":\"district=\\u0445\\u043e\\u0440\\u043e\\u0448\\u0435\\u0432\\u0441\\u043a\\u0438\\u0439 \\u0440\\u0430\\u0439\\u043e\\u043d<br>street=%{x}<br>count=%{y}<extra></extra>\",\"legendgroup\":\"\\u0445\\u043e\\u0440\\u043e\\u0448\\u0435\\u0432\\u0441\\u043a\\u0438\\u0439 \\u0440\\u0430\\u0439\\u043e\\u043d\",\"marker\":{\"color\":\"#19d3f3\",\"pattern\":{\"shape\":\"\"}},\"name\":\"\\u0445\\u043e\\u0440\\u043e\\u0448\\u0435\\u0432\\u0441\\u043a\\u0438\\u0439 \\u0440\\u0430\\u0439\\u043e\\u043d\",\"offsetgroup\":\"\\u0445\\u043e\\u0440\\u043e\\u0448\\u0435\\u0432\\u0441\\u043a\\u0438\\u0439 \\u0440\\u0430\\u0439\\u043e\\u043d\",\"orientation\":\"v\",\"showlegend\":true,\"textposition\":\"auto\",\"x\":[\"\\u043b\\u0435\\u043d\\u0438\\u043d\\u0433\\u0440\\u0430\\u0434\\u0441\\u043a\\u0438\\u0439 \\u043f\\u0440\\u043e\\u0441\\u043f\\u0435\\u043a\\u0442\"],\"xaxis\":\"x\",\"y\":[1],\"yaxis\":\"y\",\"type\":\"bar\"},{\"alignmentgroup\":\"True\",\"hovertemplate\":\"district=\\u0440\\u0430\\u0439\\u043e\\u043d \\u0441\\u043e\\u043a\\u043e\\u043b<br>street=%{x}<br>count=%{y}<extra></extra>\",\"legendgroup\":\"\\u0440\\u0430\\u0439\\u043e\\u043d \\u0441\\u043e\\u043a\\u043e\\u043b\",\"marker\":{\"color\":\"#FF6692\",\"pattern\":{\"shape\":\"\"}},\"name\":\"\\u0440\\u0430\\u0439\\u043e\\u043d \\u0441\\u043e\\u043a\\u043e\\u043b\",\"offsetgroup\":\"\\u0440\\u0430\\u0439\\u043e\\u043d \\u0441\\u043e\\u043a\\u043e\\u043b\",\"orientation\":\"v\",\"showlegend\":true,\"textposition\":\"auto\",\"x\":[\"\\u043b\\u0435\\u043d\\u0438\\u043d\\u0433\\u0440\\u0430\\u0434\\u0441\\u043a\\u0438\\u0439 \\u043f\\u0440\\u043e\\u0441\\u043f\\u0435\\u043a\\u0442\"],\"xaxis\":\"x\",\"y\":[1],\"yaxis\":\"y\",\"type\":\"bar\"},{\"alignmentgroup\":\"True\",\"hovertemplate\":\"district=\\u043f\\u0440\\u0435\\u0441\\u043d\\u0435\\u043d\\u0441\\u043a\\u0438\\u0439 \\u0440\\u0430\\u0439\\u043e\\u043d<br>street=%{x}<br>count=%{y}<extra></extra>\",\"legendgroup\":\"\\u043f\\u0440\\u0435\\u0441\\u043d\\u0435\\u043d\\u0441\\u043a\\u0438\\u0439 \\u0440\\u0430\\u0439\\u043e\\u043d\",\"marker\":{\"color\":\"#B6E880\",\"pattern\":{\"shape\":\"\"}},\"name\":\"\\u043f\\u0440\\u0435\\u0441\\u043d\\u0435\\u043d\\u0441\\u043a\\u0438\\u0439 \\u0440\\u0430\\u0439\\u043e\\u043d\",\"offsetgroup\":\"\\u043f\\u0440\\u0435\\u0441\\u043d\\u0435\\u043d\\u0441\\u043a\\u0438\\u0439 \\u0440\\u0430\\u0439\\u043e\\u043d\",\"orientation\":\"v\",\"showlegend\":true,\"textposition\":\"auto\",\"x\":[\"\\u043f\\u0440\\u0435\\u0441\\u043d\\u0435\\u043d\\u0441\\u043a\\u0430\\u044f \\u043d\\u0430\\u0431\\u0435\\u0440\\u0435\\u0436\\u043d\\u0430\\u044f\"],\"xaxis\":\"x\",\"y\":[1],\"yaxis\":\"y\",\"type\":\"bar\"},{\"alignmentgroup\":\"True\",\"hovertemplate\":\"district=\\u0440\\u0430\\u0439\\u043e\\u043d \\u0447\\u0435\\u0440\\u0442\\u0430\\u043d\\u043e\\u0432\\u043e \\u0446\\u0435\\u043d\\u0442\\u0440\\u0430\\u043b\\u044c\\u043d\\u043e\\u0435<br>street=%{x}<br>count=%{y}<extra></extra>\",\"legendgroup\":\"\\u0440\\u0430\\u0439\\u043e\\u043d \\u0447\\u0435\\u0440\\u0442\\u0430\\u043d\\u043e\\u0432\\u043e \\u0446\\u0435\\u043d\\u0442\\u0440\\u0430\\u043b\\u044c\\u043d\\u043e\\u0435\",\"marker\":{\"color\":\"#FF97FF\",\"pattern\":{\"shape\":\"\"}},\"name\":\"\\u0440\\u0430\\u0439\\u043e\\u043d \\u0447\\u0435\\u0440\\u0442\\u0430\\u043d\\u043e\\u0432\\u043e \\u0446\\u0435\\u043d\\u0442\\u0440\\u0430\\u043b\\u044c\\u043d\\u043e\\u0435\",\"offsetgroup\":\"\\u0440\\u0430\\u0439\\u043e\\u043d \\u0447\\u0435\\u0440\\u0442\\u0430\\u043d\\u043e\\u0432\\u043e \\u0446\\u0435\\u043d\\u0442\\u0440\\u0430\\u043b\\u044c\\u043d\\u043e\\u0435\",\"orientation\":\"v\",\"showlegend\":true,\"textposition\":\"auto\",\"x\":[\"\\u0432\\u0430\\u0440\\u0448\\u0430\\u0432\\u0441\\u043a\\u043e\\u0435 \\u0448\\u043e\\u0441\\u0441\\u0435\",\"\\u043a\\u0438\\u0440\\u043e\\u0432\\u043e\\u0433\\u0440\\u0430\\u0434\\u0441\\u043a\\u0430\\u044f \\u0443\\u043b\\u0438\\u0446\\u0430\"],\"xaxis\":\"x\",\"y\":[1,1],\"yaxis\":\"y\",\"type\":\"bar\"},{\"alignmentgroup\":\"True\",\"hovertemplate\":\"district=\\u0440\\u0430\\u0439\\u043e\\u043d \\u0447\\u0435\\u0440\\u0442\\u0430\\u043d\\u043e\\u0432\\u043e \\u0441\\u0435\\u0432\\u0435\\u0440\\u043d\\u043e\\u0435<br>street=%{x}<br>count=%{y}<extra></extra>\",\"legendgroup\":\"\\u0440\\u0430\\u0439\\u043e\\u043d \\u0447\\u0435\\u0440\\u0442\\u0430\\u043d\\u043e\\u0432\\u043e \\u0441\\u0435\\u0432\\u0435\\u0440\\u043d\\u043e\\u0435\",\"marker\":{\"color\":\"#FECB52\",\"pattern\":{\"shape\":\"\"}},\"name\":\"\\u0440\\u0430\\u0439\\u043e\\u043d \\u0447\\u0435\\u0440\\u0442\\u0430\\u043d\\u043e\\u0432\\u043e \\u0441\\u0435\\u0432\\u0435\\u0440\\u043d\\u043e\\u0435\",\"offsetgroup\":\"\\u0440\\u0430\\u0439\\u043e\\u043d \\u0447\\u0435\\u0440\\u0442\\u0430\\u043d\\u043e\\u0432\\u043e \\u0441\\u0435\\u0432\\u0435\\u0440\\u043d\\u043e\\u0435\",\"orientation\":\"v\",\"showlegend\":true,\"textposition\":\"auto\",\"x\":[\"\\u0432\\u0430\\u0440\\u0448\\u0430\\u0432\\u0441\\u043a\\u043e\\u0435 \\u0448\\u043e\\u0441\\u0441\\u0435\",\"\\u043a\\u0438\\u0440\\u043e\\u0432\\u043e\\u0433\\u0440\\u0430\\u0434\\u0441\\u043a\\u0430\\u044f \\u0443\\u043b\\u0438\\u0446\\u0430\"],\"xaxis\":\"x\",\"y\":[1,1],\"yaxis\":\"y\",\"type\":\"bar\"},{\"alignmentgroup\":\"True\",\"hovertemplate\":\"district=\\u0440\\u0430\\u0439\\u043e\\u043d \\u0447\\u0435\\u0440\\u0442\\u0430\\u043d\\u043e\\u0432\\u043e \\u044e\\u0436\\u043d\\u043e\\u0435<br>street=%{x}<br>count=%{y}<extra></extra>\",\"legendgroup\":\"\\u0440\\u0430\\u0439\\u043e\\u043d \\u0447\\u0435\\u0440\\u0442\\u0430\\u043d\\u043e\\u0432\\u043e \\u044e\\u0436\\u043d\\u043e\\u0435\",\"marker\":{\"color\":\"#636efa\",\"pattern\":{\"shape\":\"\"}},\"name\":\"\\u0440\\u0430\\u0439\\u043e\\u043d \\u0447\\u0435\\u0440\\u0442\\u0430\\u043d\\u043e\\u0432\\u043e \\u044e\\u0436\\u043d\\u043e\\u0435\",\"offsetgroup\":\"\\u0440\\u0430\\u0439\\u043e\\u043d \\u0447\\u0435\\u0440\\u0442\\u0430\\u043d\\u043e\\u0432\\u043e \\u044e\\u0436\\u043d\\u043e\\u0435\",\"orientation\":\"v\",\"showlegend\":true,\"textposition\":\"auto\",\"x\":[\"\\u0432\\u0430\\u0440\\u0448\\u0430\\u0432\\u0441\\u043a\\u043e\\u0435 \\u0448\\u043e\\u0441\\u0441\\u0435\",\"\\u043a\\u0438\\u0440\\u043e\\u0432\\u043e\\u0433\\u0440\\u0430\\u0434\\u0441\\u043a\\u0430\\u044f \\u0443\\u043b\\u0438\\u0446\\u0430\"],\"xaxis\":\"x\",\"y\":[1,1],\"yaxis\":\"y\",\"type\":\"bar\"},{\"alignmentgroup\":\"True\",\"hovertemplate\":\"district=\\u0434\\u043e\\u043d\\u0441\\u043a\\u043e\\u0439 \\u0440\\u0430\\u0439\\u043e\\u043d<br>street=%{x}<br>count=%{y}<extra></extra>\",\"legendgroup\":\"\\u0434\\u043e\\u043d\\u0441\\u043a\\u043e\\u0439 \\u0440\\u0430\\u0439\\u043e\\u043d\",\"marker\":{\"color\":\"#EF553B\",\"pattern\":{\"shape\":\"\"}},\"name\":\"\\u0434\\u043e\\u043d\\u0441\\u043a\\u043e\\u0439 \\u0440\\u0430\\u0439\\u043e\\u043d\",\"offsetgroup\":\"\\u0434\\u043e\\u043d\\u0441\\u043a\\u043e\\u0439 \\u0440\\u0430\\u0439\\u043e\\u043d\",\"orientation\":\"v\",\"showlegend\":true,\"textposition\":\"auto\",\"x\":[\"\\u0432\\u0430\\u0440\\u0448\\u0430\\u0432\\u0441\\u043a\\u043e\\u0435 \\u0448\\u043e\\u0441\\u0441\\u0435\",\"\\u043b\\u0435\\u043d\\u0438\\u043d\\u0441\\u043a\\u0438\\u0439 \\u043f\\u0440\\u043e\\u0441\\u043f\\u0435\\u043a\\u0442\"],\"xaxis\":\"x\",\"y\":[1,1],\"yaxis\":\"y\",\"type\":\"bar\"},{\"alignmentgroup\":\"True\",\"hovertemplate\":\"district=\\u0440\\u0430\\u0439\\u043e\\u043d \\u043d\\u0430\\u0433\\u0430\\u0442\\u0438\\u043d\\u043e-\\u0441\\u0430\\u0434\\u043e\\u0432\\u043d\\u0438\\u043a\\u0438<br>street=%{x}<br>count=%{y}<extra></extra>\",\"legendgroup\":\"\\u0440\\u0430\\u0439\\u043e\\u043d \\u043d\\u0430\\u0433\\u0430\\u0442\\u0438\\u043d\\u043e-\\u0441\\u0430\\u0434\\u043e\\u0432\\u043d\\u0438\\u043a\\u0438\",\"marker\":{\"color\":\"#00cc96\",\"pattern\":{\"shape\":\"\"}},\"name\":\"\\u0440\\u0430\\u0439\\u043e\\u043d \\u043d\\u0430\\u0433\\u0430\\u0442\\u0438\\u043d\\u043e-\\u0441\\u0430\\u0434\\u043e\\u0432\\u043d\\u0438\\u043a\\u0438\",\"offsetgroup\":\"\\u0440\\u0430\\u0439\\u043e\\u043d \\u043d\\u0430\\u0433\\u0430\\u0442\\u0438\\u043d\\u043e-\\u0441\\u0430\\u0434\\u043e\\u0432\\u043d\\u0438\\u043a\\u0438\",\"orientation\":\"v\",\"showlegend\":true,\"textposition\":\"auto\",\"x\":[\"\\u0432\\u0430\\u0440\\u0448\\u0430\\u0432\\u0441\\u043a\\u043e\\u0435 \\u0448\\u043e\\u0441\\u0441\\u0435\",\"\\u043a\\u0430\\u0448\\u0438\\u0440\\u0441\\u043a\\u043e\\u0435 \\u0448\\u043e\\u0441\\u0441\\u0435\"],\"xaxis\":\"x\",\"y\":[1,1],\"yaxis\":\"y\",\"type\":\"bar\"},{\"alignmentgroup\":\"True\",\"hovertemplate\":\"district=\\u043d\\u0430\\u0433\\u043e\\u0440\\u043d\\u044b\\u0439 \\u0440\\u0430\\u0439\\u043e\\u043d<br>street=%{x}<br>count=%{y}<extra></extra>\",\"legendgroup\":\"\\u043d\\u0430\\u0433\\u043e\\u0440\\u043d\\u044b\\u0439 \\u0440\\u0430\\u0439\\u043e\\u043d\",\"marker\":{\"color\":\"#ab63fa\",\"pattern\":{\"shape\":\"\"}},\"name\":\"\\u043d\\u0430\\u0433\\u043e\\u0440\\u043d\\u044b\\u0439 \\u0440\\u0430\\u0439\\u043e\\u043d\",\"offsetgroup\":\"\\u043d\\u0430\\u0433\\u043e\\u0440\\u043d\\u044b\\u0439 \\u0440\\u0430\\u0439\\u043e\\u043d\",\"orientation\":\"v\",\"showlegend\":true,\"textposition\":\"auto\",\"x\":[\"\\u0432\\u0430\\u0440\\u0448\\u0430\\u0432\\u0441\\u043a\\u043e\\u0435 \\u0448\\u043e\\u0441\\u0441\\u0435\"],\"xaxis\":\"x\",\"y\":[1],\"yaxis\":\"y\",\"type\":\"bar\"},{\"alignmentgroup\":\"True\",\"hovertemplate\":\"district=\\u0440\\u0430\\u0439\\u043e\\u043d \\u0441\\u0435\\u0432\\u0435\\u0440\\u043d\\u043e\\u0435 \\u0431\\u0443\\u0442\\u043e\\u0432\\u043e<br>street=%{x}<br>count=%{y}<extra></extra>\",\"legendgroup\":\"\\u0440\\u0430\\u0439\\u043e\\u043d \\u0441\\u0435\\u0432\\u0435\\u0440\\u043d\\u043e\\u0435 \\u0431\\u0443\\u0442\\u043e\\u0432\\u043e\",\"marker\":{\"color\":\"#FFA15A\",\"pattern\":{\"shape\":\"\"}},\"name\":\"\\u0440\\u0430\\u0439\\u043e\\u043d \\u0441\\u0435\\u0432\\u0435\\u0440\\u043d\\u043e\\u0435 \\u0431\\u0443\\u0442\\u043e\\u0432\\u043e\",\"offsetgroup\":\"\\u0440\\u0430\\u0439\\u043e\\u043d \\u0441\\u0435\\u0432\\u0435\\u0440\\u043d\\u043e\\u0435 \\u0431\\u0443\\u0442\\u043e\\u0432\\u043e\",\"orientation\":\"v\",\"showlegend\":true,\"textposition\":\"auto\",\"x\":[\"\\u0432\\u0430\\u0440\\u0448\\u0430\\u0432\\u0441\\u043a\\u043e\\u0435 \\u0448\\u043e\\u0441\\u0441\\u0435\"],\"xaxis\":\"x\",\"y\":[1],\"yaxis\":\"y\",\"type\":\"bar\"},{\"alignmentgroup\":\"True\",\"hovertemplate\":\"district=\\u0440\\u0430\\u0439\\u043e\\u043d \\u044e\\u0436\\u043d\\u043e\\u0435 \\u0431\\u0443\\u0442\\u043e\\u0432\\u043e<br>street=%{x}<br>count=%{y}<extra></extra>\",\"legendgroup\":\"\\u0440\\u0430\\u0439\\u043e\\u043d \\u044e\\u0436\\u043d\\u043e\\u0435 \\u0431\\u0443\\u0442\\u043e\\u0432\\u043e\",\"marker\":{\"color\":\"#19d3f3\",\"pattern\":{\"shape\":\"\"}},\"name\":\"\\u0440\\u0430\\u0439\\u043e\\u043d \\u044e\\u0436\\u043d\\u043e\\u0435 \\u0431\\u0443\\u0442\\u043e\\u0432\\u043e\",\"offsetgroup\":\"\\u0440\\u0430\\u0439\\u043e\\u043d \\u044e\\u0436\\u043d\\u043e\\u0435 \\u0431\\u0443\\u0442\\u043e\\u0432\\u043e\",\"orientation\":\"v\",\"showlegend\":true,\"textposition\":\"auto\",\"x\":[\"\\u0432\\u0430\\u0440\\u0448\\u0430\\u0432\\u0441\\u043a\\u043e\\u0435 \\u0448\\u043e\\u0441\\u0441\\u0435\"],\"xaxis\":\"x\",\"y\":[1],\"yaxis\":\"y\",\"type\":\"bar\"},{\"alignmentgroup\":\"True\",\"hovertemplate\":\"district=\\u0440\\u0430\\u0439\\u043e\\u043d \\u043f\\u0440\\u043e\\u0441\\u043f\\u0435\\u043a\\u0442 \\u0432\\u0435\\u0440\\u043d\\u0430\\u0434\\u0441\\u043a\\u043e\\u0433\\u043e<br>street=%{x}<br>count=%{y}<extra></extra>\",\"legendgroup\":\"\\u0440\\u0430\\u0439\\u043e\\u043d \\u043f\\u0440\\u043e\\u0441\\u043f\\u0435\\u043a\\u0442 \\u0432\\u0435\\u0440\\u043d\\u0430\\u0434\\u0441\\u043a\\u043e\\u0433\\u043e\",\"marker\":{\"color\":\"#FF6692\",\"pattern\":{\"shape\":\"\"}},\"name\":\"\\u0440\\u0430\\u0439\\u043e\\u043d \\u043f\\u0440\\u043e\\u0441\\u043f\\u0435\\u043a\\u0442 \\u0432\\u0435\\u0440\\u043d\\u0430\\u0434\\u0441\\u043a\\u043e\\u0433\\u043e\",\"offsetgroup\":\"\\u0440\\u0430\\u0439\\u043e\\u043d \\u043f\\u0440\\u043e\\u0441\\u043f\\u0435\\u043a\\u0442 \\u0432\\u0435\\u0440\\u043d\\u0430\\u0434\\u0441\\u043a\\u043e\\u0433\\u043e\",\"orientation\":\"v\",\"showlegend\":true,\"textposition\":\"auto\",\"x\":[\"\\u043b\\u0435\\u043d\\u0438\\u043d\\u0441\\u043a\\u0438\\u0439 \\u043f\\u0440\\u043e\\u0441\\u043f\\u0435\\u043a\\u0442\",\"\\u043f\\u0440\\u043e\\u0441\\u043f\\u0435\\u043a\\u0442 \\u0432\\u0435\\u0440\\u043d\\u0430\\u0434\\u0441\\u043a\\u043e\\u0433\\u043e\"],\"xaxis\":\"x\",\"y\":[1,1],\"yaxis\":\"y\",\"type\":\"bar\"},{\"alignmentgroup\":\"True\",\"hovertemplate\":\"district=\\u0440\\u0430\\u0439\\u043e\\u043d \\u0442\\u0440\\u043e\\u043f\\u0430\\u0440\\u0435\\u0432\\u043e-\\u043d\\u0438\\u043a\\u0443\\u043b\\u0438\\u043d\\u043e<br>street=%{x}<br>count=%{y}<extra></extra>\",\"legendgroup\":\"\\u0440\\u0430\\u0439\\u043e\\u043d \\u0442\\u0440\\u043e\\u043f\\u0430\\u0440\\u0435\\u0432\\u043e-\\u043d\\u0438\\u043a\\u0443\\u043b\\u0438\\u043d\\u043e\",\"marker\":{\"color\":\"#B6E880\",\"pattern\":{\"shape\":\"\"}},\"name\":\"\\u0440\\u0430\\u0439\\u043e\\u043d \\u0442\\u0440\\u043e\\u043f\\u0430\\u0440\\u0435\\u0432\\u043e-\\u043d\\u0438\\u043a\\u0443\\u043b\\u0438\\u043d\\u043e\",\"offsetgroup\":\"\\u0440\\u0430\\u0439\\u043e\\u043d \\u0442\\u0440\\u043e\\u043f\\u0430\\u0440\\u0435\\u0432\\u043e-\\u043d\\u0438\\u043a\\u0443\\u043b\\u0438\\u043d\\u043e\",\"orientation\":\"v\",\"showlegend\":true,\"textposition\":\"auto\",\"x\":[\"\\u043b\\u0435\\u043d\\u0438\\u043d\\u0441\\u043a\\u0438\\u0439 \\u043f\\u0440\\u043e\\u0441\\u043f\\u0435\\u043a\\u0442\",\"\\u043f\\u0440\\u043e\\u0441\\u043f\\u0435\\u043a\\u0442 \\u0432\\u0435\\u0440\\u043d\\u0430\\u0434\\u0441\\u043a\\u043e\\u0433\\u043e\"],\"xaxis\":\"x\",\"y\":[1,1],\"yaxis\":\"y\",\"type\":\"bar\"},{\"alignmentgroup\":\"True\",\"hovertemplate\":\"district=\\u0440\\u0430\\u0439\\u043e\\u043d \\u0433\\u0430\\u0433\\u0430\\u0440\\u0438\\u043d\\u0441\\u043a\\u0438\\u0439<br>street=%{x}<br>count=%{y}<extra></extra>\",\"legendgroup\":\"\\u0440\\u0430\\u0439\\u043e\\u043d \\u0433\\u0430\\u0433\\u0430\\u0440\\u0438\\u043d\\u0441\\u043a\\u0438\\u0439\",\"marker\":{\"color\":\"#FF97FF\",\"pattern\":{\"shape\":\"\"}},\"name\":\"\\u0440\\u0430\\u0439\\u043e\\u043d \\u0433\\u0430\\u0433\\u0430\\u0440\\u0438\\u043d\\u0441\\u043a\\u0438\\u0439\",\"offsetgroup\":\"\\u0440\\u0430\\u0439\\u043e\\u043d \\u0433\\u0430\\u0433\\u0430\\u0440\\u0438\\u043d\\u0441\\u043a\\u0438\\u0439\",\"orientation\":\"v\",\"showlegend\":true,\"textposition\":\"auto\",\"x\":[\"\\u043b\\u0435\\u043d\\u0438\\u043d\\u0441\\u043a\\u0438\\u0439 \\u043f\\u0440\\u043e\\u0441\\u043f\\u0435\\u043a\\u0442\",\"\\u043f\\u0440\\u043e\\u0441\\u043f\\u0435\\u043a\\u0442 \\u0432\\u0435\\u0440\\u043d\\u0430\\u0434\\u0441\\u043a\\u043e\\u0433\\u043e\"],\"xaxis\":\"x\",\"y\":[1,1],\"yaxis\":\"y\",\"type\":\"bar\"},{\"alignmentgroup\":\"True\",\"hovertemplate\":\"district=\\u043b\\u043e\\u043c\\u043e\\u043d\\u043e\\u0441\\u043e\\u0432\\u0441\\u043a\\u0438\\u0439 \\u0440\\u0430\\u0439\\u043e\\u043d<br>street=%{x}<br>count=%{y}<extra></extra>\",\"legendgroup\":\"\\u043b\\u043e\\u043c\\u043e\\u043d\\u043e\\u0441\\u043e\\u0432\\u0441\\u043a\\u0438\\u0439 \\u0440\\u0430\\u0439\\u043e\\u043d\",\"marker\":{\"color\":\"#FECB52\",\"pattern\":{\"shape\":\"\"}},\"name\":\"\\u043b\\u043e\\u043c\\u043e\\u043d\\u043e\\u0441\\u043e\\u0432\\u0441\\u043a\\u0438\\u0439 \\u0440\\u0430\\u0439\\u043e\\u043d\",\"offsetgroup\":\"\\u043b\\u043e\\u043c\\u043e\\u043d\\u043e\\u0441\\u043e\\u0432\\u0441\\u043a\\u0438\\u0439 \\u0440\\u0430\\u0439\\u043e\\u043d\",\"orientation\":\"v\",\"showlegend\":true,\"textposition\":\"auto\",\"x\":[\"\\u043b\\u0435\\u043d\\u0438\\u043d\\u0441\\u043a\\u0438\\u0439 \\u043f\\u0440\\u043e\\u0441\\u043f\\u0435\\u043a\\u0442\",\"\\u043f\\u0440\\u043e\\u0441\\u043f\\u0435\\u043a\\u0442 \\u0432\\u0435\\u0440\\u043d\\u0430\\u0434\\u0441\\u043a\\u043e\\u0433\\u043e\"],\"xaxis\":\"x\",\"y\":[1,1],\"yaxis\":\"y\",\"type\":\"bar\"},{\"alignmentgroup\":\"True\",\"hovertemplate\":\"district=\\u0440\\u0430\\u0439\\u043e\\u043d \\u044f\\u043a\\u0438\\u043c\\u0430\\u043d\\u043a\\u0430<br>street=%{x}<br>count=%{y}<extra></extra>\",\"legendgroup\":\"\\u0440\\u0430\\u0439\\u043e\\u043d \\u044f\\u043a\\u0438\\u043c\\u0430\\u043d\\u043a\\u0430\",\"marker\":{\"color\":\"#636efa\",\"pattern\":{\"shape\":\"\"}},\"name\":\"\\u0440\\u0430\\u0439\\u043e\\u043d \\u044f\\u043a\\u0438\\u043c\\u0430\\u043d\\u043a\\u0430\",\"offsetgroup\":\"\\u0440\\u0430\\u0439\\u043e\\u043d \\u044f\\u043a\\u0438\\u043c\\u0430\\u043d\\u043a\\u0430\",\"orientation\":\"v\",\"showlegend\":true,\"textposition\":\"auto\",\"x\":[\"\\u043b\\u0435\\u043d\\u0438\\u043d\\u0441\\u043a\\u0438\\u0439 \\u043f\\u0440\\u043e\\u0441\\u043f\\u0435\\u043a\\u0442\"],\"xaxis\":\"x\",\"y\":[1],\"yaxis\":\"y\",\"type\":\"bar\"},{\"alignmentgroup\":\"True\",\"hovertemplate\":\"district=\\u0440\\u0430\\u0439\\u043e\\u043d \\u0440\\u0430\\u043c\\u0435\\u043d\\u043a\\u0438<br>street=%{x}<br>count=%{y}<extra></extra>\",\"legendgroup\":\"\\u0440\\u0430\\u0439\\u043e\\u043d \\u0440\\u0430\\u043c\\u0435\\u043d\\u043a\\u0438\",\"marker\":{\"color\":\"#EF553B\",\"pattern\":{\"shape\":\"\"}},\"name\":\"\\u0440\\u0430\\u0439\\u043e\\u043d \\u0440\\u0430\\u043c\\u0435\\u043d\\u043a\\u0438\",\"offsetgroup\":\"\\u0440\\u0430\\u0439\\u043e\\u043d \\u0440\\u0430\\u043c\\u0435\\u043d\\u043a\\u0438\",\"orientation\":\"v\",\"showlegend\":true,\"textposition\":\"auto\",\"x\":[\"\\u043f\\u0440\\u043e\\u0441\\u043f\\u0435\\u043a\\u0442 \\u0432\\u0435\\u0440\\u043d\\u0430\\u0434\\u0441\\u043a\\u043e\\u0433\\u043e\"],\"xaxis\":\"x\",\"y\":[1],\"yaxis\":\"y\",\"type\":\"bar\"},{\"alignmentgroup\":\"True\",\"hovertemplate\":\"district=\\u0440\\u0430\\u0439\\u043e\\u043d \\u0434\\u043e\\u0440\\u043e\\u0433\\u043e\\u043c\\u0438\\u043b\\u043e\\u0432\\u043e<br>street=%{x}<br>count=%{y}<extra></extra>\",\"legendgroup\":\"\\u0440\\u0430\\u0439\\u043e\\u043d \\u0434\\u043e\\u0440\\u043e\\u0433\\u043e\\u043c\\u0438\\u043b\\u043e\\u0432\\u043e\",\"marker\":{\"color\":\"#00cc96\",\"pattern\":{\"shape\":\"\"}},\"name\":\"\\u0440\\u0430\\u0439\\u043e\\u043d \\u0434\\u043e\\u0440\\u043e\\u0433\\u043e\\u043c\\u0438\\u043b\\u043e\\u0432\\u043e\",\"offsetgroup\":\"\\u0440\\u0430\\u0439\\u043e\\u043d \\u0434\\u043e\\u0440\\u043e\\u0433\\u043e\\u043c\\u0438\\u043b\\u043e\\u0432\\u043e\",\"orientation\":\"v\",\"showlegend\":true,\"textposition\":\"auto\",\"x\":[\"\\u043a\\u0443\\u0442\\u0443\\u0437\\u043e\\u0432\\u0441\\u043a\\u0438\\u0439 \\u043f\\u0440\\u043e\\u0441\\u043f\\u0435\\u043a\\u0442\"],\"xaxis\":\"x\",\"y\":[1],\"yaxis\":\"y\",\"type\":\"bar\"},{\"alignmentgroup\":\"True\",\"hovertemplate\":\"district=\\u0440\\u0430\\u0439\\u043e\\u043d \\u0444\\u0438\\u043b\\u0438-\\u0434\\u0430\\u0432\\u044b\\u0434\\u043a\\u043e\\u0432\\u043e<br>street=%{x}<br>count=%{y}<extra></extra>\",\"legendgroup\":\"\\u0440\\u0430\\u0439\\u043e\\u043d \\u0444\\u0438\\u043b\\u0438-\\u0434\\u0430\\u0432\\u044b\\u0434\\u043a\\u043e\\u0432\\u043e\",\"marker\":{\"color\":\"#ab63fa\",\"pattern\":{\"shape\":\"\"}},\"name\":\"\\u0440\\u0430\\u0439\\u043e\\u043d \\u0444\\u0438\\u043b\\u0438-\\u0434\\u0430\\u0432\\u044b\\u0434\\u043a\\u043e\\u0432\\u043e\",\"offsetgroup\":\"\\u0440\\u0430\\u0439\\u043e\\u043d \\u0444\\u0438\\u043b\\u0438-\\u0434\\u0430\\u0432\\u044b\\u0434\\u043a\\u043e\\u0432\\u043e\",\"orientation\":\"v\",\"showlegend\":true,\"textposition\":\"auto\",\"x\":[\"\\u043a\\u0443\\u0442\\u0443\\u0437\\u043e\\u0432\\u0441\\u043a\\u0438\\u0439 \\u043f\\u0440\\u043e\\u0441\\u043f\\u0435\\u043a\\u0442\"],\"xaxis\":\"x\",\"y\":[1],\"yaxis\":\"y\",\"type\":\"bar\"},{\"alignmentgroup\":\"True\",\"hovertemplate\":\"district=\\u0440\\u0430\\u0439\\u043e\\u043d \\u043c\\u043e\\u0441\\u043a\\u0432\\u043e\\u0440\\u0435\\u0447\\u044c\\u0435-\\u0441\\u0430\\u0431\\u0443\\u0440\\u043e\\u0432\\u043e<br>street=%{x}<br>count=%{y}<extra></extra>\",\"legendgroup\":\"\\u0440\\u0430\\u0439\\u043e\\u043d \\u043c\\u043e\\u0441\\u043a\\u0432\\u043e\\u0440\\u0435\\u0447\\u044c\\u0435-\\u0441\\u0430\\u0431\\u0443\\u0440\\u043e\\u0432\\u043e\",\"marker\":{\"color\":\"#FFA15A\",\"pattern\":{\"shape\":\"\"}},\"name\":\"\\u0440\\u0430\\u0439\\u043e\\u043d \\u043c\\u043e\\u0441\\u043a\\u0432\\u043e\\u0440\\u0435\\u0447\\u044c\\u0435-\\u0441\\u0430\\u0431\\u0443\\u0440\\u043e\\u0432\\u043e\",\"offsetgroup\":\"\\u0440\\u0430\\u0439\\u043e\\u043d \\u043c\\u043e\\u0441\\u043a\\u0432\\u043e\\u0440\\u0435\\u0447\\u044c\\u0435-\\u0441\\u0430\\u0431\\u0443\\u0440\\u043e\\u0432\\u043e\",\"orientation\":\"v\",\"showlegend\":true,\"textposition\":\"auto\",\"x\":[\"\\u043a\\u0430\\u0448\\u0438\\u0440\\u0441\\u043a\\u043e\\u0435 \\u0448\\u043e\\u0441\\u0441\\u0435\"],\"xaxis\":\"x\",\"y\":[1],\"yaxis\":\"y\",\"type\":\"bar\"},{\"alignmentgroup\":\"True\",\"hovertemplate\":\"district=\\u0440\\u0430\\u0439\\u043e\\u043d \\u043e\\u0440\\u0435\\u0445\\u043e\\u0432\\u043e-\\u0431\\u043e\\u0440\\u0438\\u0441\\u043e\\u0432\\u043e \\u044e\\u0436\\u043d\\u043e\\u0435<br>street=%{x}<br>count=%{y}<extra></extra>\",\"legendgroup\":\"\\u0440\\u0430\\u0439\\u043e\\u043d \\u043e\\u0440\\u0435\\u0445\\u043e\\u0432\\u043e-\\u0431\\u043e\\u0440\\u0438\\u0441\\u043e\\u0432\\u043e \\u044e\\u0436\\u043d\\u043e\\u0435\",\"marker\":{\"color\":\"#19d3f3\",\"pattern\":{\"shape\":\"\"}},\"name\":\"\\u0440\\u0430\\u0439\\u043e\\u043d \\u043e\\u0440\\u0435\\u0445\\u043e\\u0432\\u043e-\\u0431\\u043e\\u0440\\u0438\\u0441\\u043e\\u0432\\u043e \\u044e\\u0436\\u043d\\u043e\\u0435\",\"offsetgroup\":\"\\u0440\\u0430\\u0439\\u043e\\u043d \\u043e\\u0440\\u0435\\u0445\\u043e\\u0432\\u043e-\\u0431\\u043e\\u0440\\u0438\\u0441\\u043e\\u0432\\u043e \\u044e\\u0436\\u043d\\u043e\\u0435\",\"orientation\":\"v\",\"showlegend\":true,\"textposition\":\"auto\",\"x\":[\"\\u043a\\u0430\\u0448\\u0438\\u0440\\u0441\\u043a\\u043e\\u0435 \\u0448\\u043e\\u0441\\u0441\\u0435\"],\"xaxis\":\"x\",\"y\":[1],\"yaxis\":\"y\",\"type\":\"bar\"},{\"alignmentgroup\":\"True\",\"hovertemplate\":\"district=\\u0440\\u0430\\u0439\\u043e\\u043d \\u043e\\u0440\\u0435\\u0445\\u043e\\u0432\\u043e-\\u0431\\u043e\\u0440\\u0438\\u0441\\u043e\\u0432\\u043e \\u0441\\u0435\\u0432\\u0435\\u0440\\u043d\\u043e\\u0435<br>street=%{x}<br>count=%{y}<extra></extra>\",\"legendgroup\":\"\\u0440\\u0430\\u0439\\u043e\\u043d \\u043e\\u0440\\u0435\\u0445\\u043e\\u0432\\u043e-\\u0431\\u043e\\u0440\\u0438\\u0441\\u043e\\u0432\\u043e \\u0441\\u0435\\u0432\\u0435\\u0440\\u043d\\u043e\\u0435\",\"marker\":{\"color\":\"#FF6692\",\"pattern\":{\"shape\":\"\"}},\"name\":\"\\u0440\\u0430\\u0439\\u043e\\u043d \\u043e\\u0440\\u0435\\u0445\\u043e\\u0432\\u043e-\\u0431\\u043e\\u0440\\u0438\\u0441\\u043e\\u0432\\u043e \\u0441\\u0435\\u0432\\u0435\\u0440\\u043d\\u043e\\u0435\",\"offsetgroup\":\"\\u0440\\u0430\\u0439\\u043e\\u043d \\u043e\\u0440\\u0435\\u0445\\u043e\\u0432\\u043e-\\u0431\\u043e\\u0440\\u0438\\u0441\\u043e\\u0432\\u043e \\u0441\\u0435\\u0432\\u0435\\u0440\\u043d\\u043e\\u0435\",\"orientation\":\"v\",\"showlegend\":true,\"textposition\":\"auto\",\"x\":[\"\\u043a\\u0430\\u0448\\u0438\\u0440\\u0441\\u043a\\u043e\\u0435 \\u0448\\u043e\\u0441\\u0441\\u0435\"],\"xaxis\":\"x\",\"y\":[1],\"yaxis\":\"y\",\"type\":\"bar\"}],                        {\"template\":{\"data\":{\"bar\":[{\"error_x\":{\"color\":\"#2a3f5f\"},\"error_y\":{\"color\":\"#2a3f5f\"},\"marker\":{\"line\":{\"color\":\"white\",\"width\":0.5},\"pattern\":{\"fillmode\":\"overlay\",\"size\":10,\"solidity\":0.2}},\"type\":\"bar\"}],\"barpolar\":[{\"marker\":{\"line\":{\"color\":\"white\",\"width\":0.5},\"pattern\":{\"fillmode\":\"overlay\",\"size\":10,\"solidity\":0.2}},\"type\":\"barpolar\"}],\"carpet\":[{\"aaxis\":{\"endlinecolor\":\"#2a3f5f\",\"gridcolor\":\"#C8D4E3\",\"linecolor\":\"#C8D4E3\",\"minorgridcolor\":\"#C8D4E3\",\"startlinecolor\":\"#2a3f5f\"},\"baxis\":{\"endlinecolor\":\"#2a3f5f\",\"gridcolor\":\"#C8D4E3\",\"linecolor\":\"#C8D4E3\",\"minorgridcolor\":\"#C8D4E3\",\"startlinecolor\":\"#2a3f5f\"},\"type\":\"carpet\"}],\"choropleth\":[{\"colorbar\":{\"outlinewidth\":0,\"ticks\":\"\"},\"type\":\"choropleth\"}],\"contour\":[{\"colorbar\":{\"outlinewidth\":0,\"ticks\":\"\"},\"colorscale\":[[0.0,\"#0d0887\"],[0.1111111111111111,\"#46039f\"],[0.2222222222222222,\"#7201a8\"],[0.3333333333333333,\"#9c179e\"],[0.4444444444444444,\"#bd3786\"],[0.5555555555555556,\"#d8576b\"],[0.6666666666666666,\"#ed7953\"],[0.7777777777777778,\"#fb9f3a\"],[0.8888888888888888,\"#fdca26\"],[1.0,\"#f0f921\"]],\"type\":\"contour\"}],\"contourcarpet\":[{\"colorbar\":{\"outlinewidth\":0,\"ticks\":\"\"},\"type\":\"contourcarpet\"}],\"heatmap\":[{\"colorbar\":{\"outlinewidth\":0,\"ticks\":\"\"},\"colorscale\":[[0.0,\"#0d0887\"],[0.1111111111111111,\"#46039f\"],[0.2222222222222222,\"#7201a8\"],[0.3333333333333333,\"#9c179e\"],[0.4444444444444444,\"#bd3786\"],[0.5555555555555556,\"#d8576b\"],[0.6666666666666666,\"#ed7953\"],[0.7777777777777778,\"#fb9f3a\"],[0.8888888888888888,\"#fdca26\"],[1.0,\"#f0f921\"]],\"type\":\"heatmap\"}],\"heatmapgl\":[{\"colorbar\":{\"outlinewidth\":0,\"ticks\":\"\"},\"colorscale\":[[0.0,\"#0d0887\"],[0.1111111111111111,\"#46039f\"],[0.2222222222222222,\"#7201a8\"],[0.3333333333333333,\"#9c179e\"],[0.4444444444444444,\"#bd3786\"],[0.5555555555555556,\"#d8576b\"],[0.6666666666666666,\"#ed7953\"],[0.7777777777777778,\"#fb9f3a\"],[0.8888888888888888,\"#fdca26\"],[1.0,\"#f0f921\"]],\"type\":\"heatmapgl\"}],\"histogram\":[{\"marker\":{\"pattern\":{\"fillmode\":\"overlay\",\"size\":10,\"solidity\":0.2}},\"type\":\"histogram\"}],\"histogram2d\":[{\"colorbar\":{\"outlinewidth\":0,\"ticks\":\"\"},\"colorscale\":[[0.0,\"#0d0887\"],[0.1111111111111111,\"#46039f\"],[0.2222222222222222,\"#7201a8\"],[0.3333333333333333,\"#9c179e\"],[0.4444444444444444,\"#bd3786\"],[0.5555555555555556,\"#d8576b\"],[0.6666666666666666,\"#ed7953\"],[0.7777777777777778,\"#fb9f3a\"],[0.8888888888888888,\"#fdca26\"],[1.0,\"#f0f921\"]],\"type\":\"histogram2d\"}],\"histogram2dcontour\":[{\"colorbar\":{\"outlinewidth\":0,\"ticks\":\"\"},\"colorscale\":[[0.0,\"#0d0887\"],[0.1111111111111111,\"#46039f\"],[0.2222222222222222,\"#7201a8\"],[0.3333333333333333,\"#9c179e\"],[0.4444444444444444,\"#bd3786\"],[0.5555555555555556,\"#d8576b\"],[0.6666666666666666,\"#ed7953\"],[0.7777777777777778,\"#fb9f3a\"],[0.8888888888888888,\"#fdca26\"],[1.0,\"#f0f921\"]],\"type\":\"histogram2dcontour\"}],\"mesh3d\":[{\"colorbar\":{\"outlinewidth\":0,\"ticks\":\"\"},\"type\":\"mesh3d\"}],\"parcoords\":[{\"line\":{\"colorbar\":{\"outlinewidth\":0,\"ticks\":\"\"}},\"type\":\"parcoords\"}],\"pie\":[{\"automargin\":true,\"type\":\"pie\"}],\"scatter\":[{\"marker\":{\"colorbar\":{\"outlinewidth\":0,\"ticks\":\"\"}},\"type\":\"scatter\"}],\"scatter3d\":[{\"line\":{\"colorbar\":{\"outlinewidth\":0,\"ticks\":\"\"}},\"marker\":{\"colorbar\":{\"outlinewidth\":0,\"ticks\":\"\"}},\"type\":\"scatter3d\"}],\"scattercarpet\":[{\"marker\":{\"colorbar\":{\"outlinewidth\":0,\"ticks\":\"\"}},\"type\":\"scattercarpet\"}],\"scattergeo\":[{\"marker\":{\"colorbar\":{\"outlinewidth\":0,\"ticks\":\"\"}},\"type\":\"scattergeo\"}],\"scattergl\":[{\"marker\":{\"colorbar\":{\"outlinewidth\":0,\"ticks\":\"\"}},\"type\":\"scattergl\"}],\"scattermapbox\":[{\"marker\":{\"colorbar\":{\"outlinewidth\":0,\"ticks\":\"\"}},\"type\":\"scattermapbox\"}],\"scatterpolar\":[{\"marker\":{\"colorbar\":{\"outlinewidth\":0,\"ticks\":\"\"}},\"type\":\"scatterpolar\"}],\"scatterpolargl\":[{\"marker\":{\"colorbar\":{\"outlinewidth\":0,\"ticks\":\"\"}},\"type\":\"scatterpolargl\"}],\"scatterternary\":[{\"marker\":{\"colorbar\":{\"outlinewidth\":0,\"ticks\":\"\"}},\"type\":\"scatterternary\"}],\"surface\":[{\"colorbar\":{\"outlinewidth\":0,\"ticks\":\"\"},\"colorscale\":[[0.0,\"#0d0887\"],[0.1111111111111111,\"#46039f\"],[0.2222222222222222,\"#7201a8\"],[0.3333333333333333,\"#9c179e\"],[0.4444444444444444,\"#bd3786\"],[0.5555555555555556,\"#d8576b\"],[0.6666666666666666,\"#ed7953\"],[0.7777777777777778,\"#fb9f3a\"],[0.8888888888888888,\"#fdca26\"],[1.0,\"#f0f921\"]],\"type\":\"surface\"}],\"table\":[{\"cells\":{\"fill\":{\"color\":\"#EBF0F8\"},\"line\":{\"color\":\"white\"}},\"header\":{\"fill\":{\"color\":\"#C8D4E3\"},\"line\":{\"color\":\"white\"}},\"type\":\"table\"}]},\"layout\":{\"annotationdefaults\":{\"arrowcolor\":\"#2a3f5f\",\"arrowhead\":0,\"arrowwidth\":1},\"autotypenumbers\":\"strict\",\"coloraxis\":{\"colorbar\":{\"outlinewidth\":0,\"ticks\":\"\"}},\"colorscale\":{\"diverging\":[[0,\"#8e0152\"],[0.1,\"#c51b7d\"],[0.2,\"#de77ae\"],[0.3,\"#f1b6da\"],[0.4,\"#fde0ef\"],[0.5,\"#f7f7f7\"],[0.6,\"#e6f5d0\"],[0.7,\"#b8e186\"],[0.8,\"#7fbc41\"],[0.9,\"#4d9221\"],[1,\"#276419\"]],\"sequential\":[[0.0,\"#0d0887\"],[0.1111111111111111,\"#46039f\"],[0.2222222222222222,\"#7201a8\"],[0.3333333333333333,\"#9c179e\"],[0.4444444444444444,\"#bd3786\"],[0.5555555555555556,\"#d8576b\"],[0.6666666666666666,\"#ed7953\"],[0.7777777777777778,\"#fb9f3a\"],[0.8888888888888888,\"#fdca26\"],[1.0,\"#f0f921\"]],\"sequentialminus\":[[0.0,\"#0d0887\"],[0.1111111111111111,\"#46039f\"],[0.2222222222222222,\"#7201a8\"],[0.3333333333333333,\"#9c179e\"],[0.4444444444444444,\"#bd3786\"],[0.5555555555555556,\"#d8576b\"],[0.6666666666666666,\"#ed7953\"],[0.7777777777777778,\"#fb9f3a\"],[0.8888888888888888,\"#fdca26\"],[1.0,\"#f0f921\"]]},\"colorway\":[\"#636efa\",\"#EF553B\",\"#00cc96\",\"#ab63fa\",\"#FFA15A\",\"#19d3f3\",\"#FF6692\",\"#B6E880\",\"#FF97FF\",\"#FECB52\"],\"font\":{\"color\":\"#2a3f5f\"},\"geo\":{\"bgcolor\":\"white\",\"lakecolor\":\"white\",\"landcolor\":\"white\",\"showlakes\":true,\"showland\":true,\"subunitcolor\":\"#C8D4E3\"},\"hoverlabel\":{\"align\":\"left\"},\"hovermode\":\"closest\",\"mapbox\":{\"style\":\"light\"},\"paper_bgcolor\":\"white\",\"plot_bgcolor\":\"white\",\"polar\":{\"angularaxis\":{\"gridcolor\":\"#EBF0F8\",\"linecolor\":\"#EBF0F8\",\"ticks\":\"\"},\"bgcolor\":\"white\",\"radialaxis\":{\"gridcolor\":\"#EBF0F8\",\"linecolor\":\"#EBF0F8\",\"ticks\":\"\"}},\"scene\":{\"xaxis\":{\"backgroundcolor\":\"white\",\"gridcolor\":\"#DFE8F3\",\"gridwidth\":2,\"linecolor\":\"#EBF0F8\",\"showbackground\":true,\"ticks\":\"\",\"zerolinecolor\":\"#EBF0F8\"},\"yaxis\":{\"backgroundcolor\":\"white\",\"gridcolor\":\"#DFE8F3\",\"gridwidth\":2,\"linecolor\":\"#EBF0F8\",\"showbackground\":true,\"ticks\":\"\",\"zerolinecolor\":\"#EBF0F8\"},\"zaxis\":{\"backgroundcolor\":\"white\",\"gridcolor\":\"#DFE8F3\",\"gridwidth\":2,\"linecolor\":\"#EBF0F8\",\"showbackground\":true,\"ticks\":\"\",\"zerolinecolor\":\"#EBF0F8\"}},\"shapedefaults\":{\"line\":{\"color\":\"#2a3f5f\"}},\"ternary\":{\"aaxis\":{\"gridcolor\":\"#DFE8F3\",\"linecolor\":\"#A2B1C6\",\"ticks\":\"\"},\"baxis\":{\"gridcolor\":\"#DFE8F3\",\"linecolor\":\"#A2B1C6\",\"ticks\":\"\"},\"bgcolor\":\"white\",\"caxis\":{\"gridcolor\":\"#DFE8F3\",\"linecolor\":\"#A2B1C6\",\"ticks\":\"\"}},\"title\":{\"x\":0.05},\"xaxis\":{\"automargin\":true,\"gridcolor\":\"#EBF0F8\",\"linecolor\":\"#EBF0F8\",\"ticks\":\"\",\"title\":{\"standoff\":15},\"zerolinecolor\":\"#EBF0F8\",\"zerolinewidth\":2},\"yaxis\":{\"automargin\":true,\"gridcolor\":\"#EBF0F8\",\"linecolor\":\"#EBF0F8\",\"ticks\":\"\",\"title\":{\"standoff\":15},\"zerolinecolor\":\"#EBF0F8\",\"zerolinewidth\":2}}},\"xaxis\":{\"anchor\":\"y\",\"domain\":[0.0,1.0],\"title\":{\"text\":\"\\u041d\\u0430\\u0437\\u0432\\u0430\\u043d\\u0438\\u044f \\u0443\\u043b\\u0438\\u0446\"},\"tickangle\":45},\"yaxis\":{\"anchor\":\"x\",\"domain\":[0.0,1.0],\"title\":{\"text\":\"\\u041d\\u0430\\u0437\\u0432\\u0430\\u043d\\u0438\\u0435 \\u0440\\u0430\\u0439\\u043e\\u043d\\u043e\\u0432\"}},\"legend\":{\"title\":{\"text\":\"district\"},\"tracegroupgap\":0},\"margin\":{\"t\":60},\"barmode\":\"relative\",\"height\":550,\"width\":900,\"title\":{\"text\":\"\\u0422\\u043e\\u043f-10 \\u0443\\u043b\\u0438\\u0446 \\u043f\\u043e \\u0440\\u0430\\u0439\\u043e\\u043d\\u0430\\u043c\",\"y\":0.94,\"x\":0.56,\"xanchor\":\"center\",\"yanchor\":\"top\"}},                        {\"responsive\": true}                    ).then(function(){\n",
              "                            \n",
              "var gd = document.getElementById('81f15431-e43d-400b-a760-ea2f2ac4ba09');\n",
              "var x = new MutationObserver(function (mutations, observer) {{\n",
              "        var display = window.getComputedStyle(gd).display;\n",
              "        if (!display || display === 'none') {{\n",
              "            console.log([gd, 'removed!']);\n",
              "            Plotly.purge(gd);\n",
              "            observer.disconnect();\n",
              "        }}\n",
              "}});\n",
              "\n",
              "// Listen for the removal of the full notebook cells\n",
              "var notebookContainer = gd.closest('#notebook-container');\n",
              "if (notebookContainer) {{\n",
              "    x.observe(notebookContainer, {childList: true});\n",
              "}}\n",
              "\n",
              "// Listen for the clearing of the current output cell\n",
              "var outputEl = gd.closest('.output');\n",
              "if (outputEl) {{\n",
              "    x.observe(outputEl, {childList: true});\n",
              "}}\n",
              "\n",
              "                        })                };                            </script>        </div>\n",
              "</body>\n",
              "</html>"
            ]
          },
          "metadata": {}
        }
      ],
      "source": [
        "fig = px.bar(\n",
        "    district,\n",
        "    x='street',\n",
        "    color='district'\n",
        ")\n",
        "\n",
        "fig.update_layout(\n",
        "    xaxis_title = 'Названия улиц',\n",
        "    yaxis_title = 'Название районов',   \n",
        "    title={\n",
        "        'text': 'Топ-10 улиц по районам',\n",
        "        'y':0.94,\n",
        "        'x':0.56,\n",
        "        'xanchor': 'center',\n",
        "        'yanchor': 'top'},\n",
        ")\n",
        "fig.update_xaxes(tickangle=45)\n",
        "fig.show()\n"
      ]
    },
    {
      "cell_type": "markdown",
      "metadata": {
        "id": "qUNd4NPw94Du"
      },
      "source": [
        "**Вывод:** Лидером по кол-ву заведений общепита является проспект Мира.\n",
        "\n",
        "проспект Мира находится в:\n",
        "- Алексеевский район\n",
        "- Ярославский Район\n",
        "- Район Марьина роща\n",
        "- Останкинский район\n",
        "- Район Ростокино\n",
        "- Район Свиблово\n",
        "- Мещанский район\n",
        "\n",
        "Профсоюзная улица находится в:\n",
        "- Академический район\n",
        "- Район Черемушки\n",
        "- Район Ясенево\n",
        "- Район Коньково\n",
        "- Обручевский район\n",
        "- Район Теплый Стан\n",
        "\n",
        "Ленинградский проспект находится в:\n",
        "- Район Аэропорт\n",
        "- Район Беговой\n",
        "- Хорошевский район\n",
        "- Район Сокол\n",
        "\n",
        "Пресненская набережная находится в:\n",
        "- Пресненский район\n",
        "\n",
        "Варшавское шоссе находится в:\n",
        "- Район Чертаново Центральное\n",
        "- Район Чертаново Северное\n",
        "- Район Чертаново Южное\n",
        "- Донской район\n",
        "- Район Нагатино-Садовники\n",
        "- Нагорный район\n",
        "- Район Северное Бутово\n",
        "- Район Южное Бутово\n",
        "\n",
        "Ленинский проспект находится в:\n",
        "- Район Проспект Вернадского\n",
        "- Район Тропарево-Никулино\n",
        "- Донской район\n",
        "- Район Гагаринский\n",
        "- Ломоносовский район\n",
        "- Обручевский район\n",
        "- Район Теплый Стан\n",
        "- Район Якиманка\n",
        "\n",
        "проспект Вернадского находится в:\n",
        "- Район Проспект Вернадского\n",
        "- Район Раменки\n",
        "- Район Тропарево-Никулино\n",
        "- Район Гагаринский\n",
        "- Ломоносовский район\n",
        "\n",
        "Кутузовский проспект находится в:\n",
        "- Район Дорогомилово\n",
        "- Район Фили-Давыдково\n",
        "\n",
        "Каширское шоссе находится в:\n",
        "- Район Москворечье-Сабурово\n",
        "- Район Нагатино-Садовники\n",
        "- Район Орехово-Борисово Южное\n",
        "- Район Орехово-Борисово Северное\n",
        "\n",
        "Кировоградская улица находится в:\n",
        "- Район Чертаново Центральное\n",
        "- Район Чертаново Северное\n",
        "- Район Чертаново Южное"
      ]
    },
    {
      "cell_type": "markdown",
      "metadata": {
        "id": "pWN1BI0z94Du"
      },
      "source": [
        "\n",
        "<div class=\"alert alert-info\"> <b>Комментарий студента:</b> Я очень много времени убила на то, чтобы выяснить, как сделать график с картой москвы и нанести на нее маркеры, но в итоге не поняла как это правильно сделать. Я нашла как сделать карту, нашла что импортировать и методы, но вот с маркерами беда. У меня получилось это сделать в power bi, но в итоге и тут засада, потому что я не знаю как в юпитер загрузить документ из power bi. В итоге сделала bar, но мне не нравится как он выглядит, если честно. Если у вас есть какая то подсказка по этому поводу или код для примера, то буду очень благодарна. </div>"
      ]
    },
    {
      "cell_type": "markdown",
      "metadata": {
        "id": "3PCb7FJK94Dv"
      },
      "source": [
        "### Найдите число улиц с одним объектом общественного питания. В каких районах Москвы находятся эти улицы?"
      ]
    },
    {
      "cell_type": "code",
      "execution_count": null,
      "metadata": {
        "colab": {
          "base_uri": "https://localhost:8080/"
        },
        "id": "XwKw5y2U94Dv",
        "outputId": "926d8fa8-919f-462d-9fa3-5ba54e6c392f"
      },
      "outputs": [
        {
          "output_type": "stream",
          "name": "stdout",
          "text": [
            "Количество улиц с 1 объектом общепита:  571\n"
          ]
        }
      ],
      "source": [
        "streets_1_object = top_streets[top_streets['id']==1]\n",
        "print('Количество улиц с 1 объектом общепита: ', len(streets_1_object))"
      ]
    },
    {
      "cell_type": "code",
      "execution_count": null,
      "metadata": {
        "colab": {
          "base_uri": "https://localhost:8080/",
          "height": 363
        },
        "id": "Sur7oq-A94Dv",
        "outputId": "0c32ef1e-d1ab-404a-8eef-26c8a94fb965"
      },
      "outputs": [
        {
          "output_type": "execute_result",
          "data": {
            "text/plain": [
              "               district  count_streets\n",
              "95      таганский район             27\n",
              "81      район хамовники             26\n",
              "3       басманный район             25\n",
              "96       тверской район             20\n",
              "21    пресненский район             20\n",
              "22          район арбат             18\n",
              "52   район марьина роща             18\n",
              "13      мещанский район             16\n",
              "75     район сокольники             15\n",
              "34  район замоскворечье             14"
            ],
            "text/html": [
              "\n",
              "  <div id=\"df-f61da77f-a491-4737-94bd-df2abb97f1ed\">\n",
              "    <div class=\"colab-df-container\">\n",
              "      <div>\n",
              "<style scoped>\n",
              "    .dataframe tbody tr th:only-of-type {\n",
              "        vertical-align: middle;\n",
              "    }\n",
              "\n",
              "    .dataframe tbody tr th {\n",
              "        vertical-align: top;\n",
              "    }\n",
              "\n",
              "    .dataframe thead th {\n",
              "        text-align: right;\n",
              "    }\n",
              "</style>\n",
              "<table border=\"1\" class=\"dataframe\">\n",
              "  <thead>\n",
              "    <tr style=\"text-align: right;\">\n",
              "      <th></th>\n",
              "      <th>district</th>\n",
              "      <th>count_streets</th>\n",
              "    </tr>\n",
              "  </thead>\n",
              "  <tbody>\n",
              "    <tr>\n",
              "      <th>95</th>\n",
              "      <td>таганский район</td>\n",
              "      <td>27</td>\n",
              "    </tr>\n",
              "    <tr>\n",
              "      <th>81</th>\n",
              "      <td>район хамовники</td>\n",
              "      <td>26</td>\n",
              "    </tr>\n",
              "    <tr>\n",
              "      <th>3</th>\n",
              "      <td>басманный район</td>\n",
              "      <td>25</td>\n",
              "    </tr>\n",
              "    <tr>\n",
              "      <th>96</th>\n",
              "      <td>тверской район</td>\n",
              "      <td>20</td>\n",
              "    </tr>\n",
              "    <tr>\n",
              "      <th>21</th>\n",
              "      <td>пресненский район</td>\n",
              "      <td>20</td>\n",
              "    </tr>\n",
              "    <tr>\n",
              "      <th>22</th>\n",
              "      <td>район арбат</td>\n",
              "      <td>18</td>\n",
              "    </tr>\n",
              "    <tr>\n",
              "      <th>52</th>\n",
              "      <td>район марьина роща</td>\n",
              "      <td>18</td>\n",
              "    </tr>\n",
              "    <tr>\n",
              "      <th>13</th>\n",
              "      <td>мещанский район</td>\n",
              "      <td>16</td>\n",
              "    </tr>\n",
              "    <tr>\n",
              "      <th>75</th>\n",
              "      <td>район сокольники</td>\n",
              "      <td>15</td>\n",
              "    </tr>\n",
              "    <tr>\n",
              "      <th>34</th>\n",
              "      <td>район замоскворечье</td>\n",
              "      <td>14</td>\n",
              "    </tr>\n",
              "  </tbody>\n",
              "</table>\n",
              "</div>\n",
              "      <button class=\"colab-df-convert\" onclick=\"convertToInteractive('df-f61da77f-a491-4737-94bd-df2abb97f1ed')\"\n",
              "              title=\"Convert this dataframe to an interactive table.\"\n",
              "              style=\"display:none;\">\n",
              "        \n",
              "  <svg xmlns=\"http://www.w3.org/2000/svg\" height=\"24px\"viewBox=\"0 0 24 24\"\n",
              "       width=\"24px\">\n",
              "    <path d=\"M0 0h24v24H0V0z\" fill=\"none\"/>\n",
              "    <path d=\"M18.56 5.44l.94 2.06.94-2.06 2.06-.94-2.06-.94-.94-2.06-.94 2.06-2.06.94zm-11 1L8.5 8.5l.94-2.06 2.06-.94-2.06-.94L8.5 2.5l-.94 2.06-2.06.94zm10 10l.94 2.06.94-2.06 2.06-.94-2.06-.94-.94-2.06-.94 2.06-2.06.94z\"/><path d=\"M17.41 7.96l-1.37-1.37c-.4-.4-.92-.59-1.43-.59-.52 0-1.04.2-1.43.59L10.3 9.45l-7.72 7.72c-.78.78-.78 2.05 0 2.83L4 21.41c.39.39.9.59 1.41.59.51 0 1.02-.2 1.41-.59l7.78-7.78 2.81-2.81c.8-.78.8-2.07 0-2.86zM5.41 20L4 18.59l7.72-7.72 1.47 1.35L5.41 20z\"/>\n",
              "  </svg>\n",
              "      </button>\n",
              "      \n",
              "  <style>\n",
              "    .colab-df-container {\n",
              "      display:flex;\n",
              "      flex-wrap:wrap;\n",
              "      gap: 12px;\n",
              "    }\n",
              "\n",
              "    .colab-df-convert {\n",
              "      background-color: #E8F0FE;\n",
              "      border: none;\n",
              "      border-radius: 50%;\n",
              "      cursor: pointer;\n",
              "      display: none;\n",
              "      fill: #1967D2;\n",
              "      height: 32px;\n",
              "      padding: 0 0 0 0;\n",
              "      width: 32px;\n",
              "    }\n",
              "\n",
              "    .colab-df-convert:hover {\n",
              "      background-color: #E2EBFA;\n",
              "      box-shadow: 0px 1px 2px rgba(60, 64, 67, 0.3), 0px 1px 3px 1px rgba(60, 64, 67, 0.15);\n",
              "      fill: #174EA6;\n",
              "    }\n",
              "\n",
              "    [theme=dark] .colab-df-convert {\n",
              "      background-color: #3B4455;\n",
              "      fill: #D2E3FC;\n",
              "    }\n",
              "\n",
              "    [theme=dark] .colab-df-convert:hover {\n",
              "      background-color: #434B5C;\n",
              "      box-shadow: 0px 1px 3px 1px rgba(0, 0, 0, 0.15);\n",
              "      filter: drop-shadow(0px 1px 2px rgba(0, 0, 0, 0.3));\n",
              "      fill: #FFFFFF;\n",
              "    }\n",
              "  </style>\n",
              "\n",
              "      <script>\n",
              "        const buttonEl =\n",
              "          document.querySelector('#df-f61da77f-a491-4737-94bd-df2abb97f1ed button.colab-df-convert');\n",
              "        buttonEl.style.display =\n",
              "          google.colab.kernel.accessAllowed ? 'block' : 'none';\n",
              "\n",
              "        async function convertToInteractive(key) {\n",
              "          const element = document.querySelector('#df-f61da77f-a491-4737-94bd-df2abb97f1ed');\n",
              "          const dataTable =\n",
              "            await google.colab.kernel.invokeFunction('convertToInteractive',\n",
              "                                                     [key], {});\n",
              "          if (!dataTable) return;\n",
              "\n",
              "          const docLinkHtml = 'Like what you see? Visit the ' +\n",
              "            '<a target=\"_blank\" href=https://colab.research.google.com/notebooks/data_table.ipynb>data table notebook</a>'\n",
              "            + ' to learn more about interactive tables.';\n",
              "          element.innerHTML = '';\n",
              "          dataTable['output_type'] = 'display_data';\n",
              "          await google.colab.output.renderOutput(dataTable, element);\n",
              "          const docLink = document.createElement('div');\n",
              "          docLink.innerHTML = docLinkHtml;\n",
              "          element.appendChild(docLink);\n",
              "        }\n",
              "      </script>\n",
              "    </div>\n",
              "  </div>\n",
              "  "
            ]
          },
          "metadata": {},
          "execution_count": 37
        }
      ],
      "source": [
        "#Соединяем получившуюся таблицу с дф с улицами и районами Москвы\n",
        "streets_1_object_merged = streets_1_object.merge(\n",
        "    streets[['street', 'district']],\n",
        "    left_on='street',\n",
        "    right_on='street'\n",
        ")\n",
        "#Группируем по району и оставляем топ-10 районов\n",
        "districts_streets_1_object = streets_1_object_merged.groupby('district', as_index=False).agg({'street':'nunique'}).rename(columns={'street':'count_streets'})\n",
        "districts_streets_1_object.sort_values('count_streets', ascending=False).head(10)"
      ]
    },
    {
      "cell_type": "code",
      "execution_count": null,
      "metadata": {
        "scrolled": false,
        "colab": {
          "base_uri": "https://localhost:8080/",
          "height": 567
        },
        "id": "5bzEcsfe94Dw",
        "outputId": "4be1d9b6-c320-44ca-cda5-530687e9ec49"
      },
      "outputs": [
        {
          "output_type": "display_data",
          "data": {
            "text/html": [
              "<html>\n",
              "<head><meta charset=\"utf-8\" /></head>\n",
              "<body>\n",
              "    <div>            <script src=\"https://cdnjs.cloudflare.com/ajax/libs/mathjax/2.7.5/MathJax.js?config=TeX-AMS-MML_SVG\"></script><script type=\"text/javascript\">if (window.MathJax) {MathJax.Hub.Config({SVG: {font: \"STIX-Web\"}});}</script>                <script type=\"text/javascript\">window.PlotlyConfig = {MathJaxConfig: 'local'};</script>\n",
              "        <script src=\"https://cdn.plot.ly/plotly-2.8.3.min.js\"></script>                <div id=\"a550f8db-a65b-4211-b3b9-daf176fdb2dd\" class=\"plotly-graph-div\" style=\"height:550px; width:900px;\"></div>            <script type=\"text/javascript\">                                    window.PLOTLYENV=window.PLOTLYENV || {};                                    if (document.getElementById(\"a550f8db-a65b-4211-b3b9-daf176fdb2dd\")) {                    Plotly.newPlot(                        \"a550f8db-a65b-4211-b3b9-daf176fdb2dd\",                        [{\"alignmentgroup\":\"True\",\"hovertemplate\":\"district=%{x}<br>\\u0427\\u0438\\u0441\\u043b\\u043e \\u0443\\u043b\\u0438\\u0446=%{marker.color}<extra></extra>\",\"legendgroup\":\"\",\"marker\":{\"color\":[27,26,25,20,20,18,18,16,15,14],\"coloraxis\":\"coloraxis\",\"pattern\":{\"shape\":\"\"}},\"name\":\"\",\"offsetgroup\":\"\",\"orientation\":\"v\",\"showlegend\":false,\"textposition\":\"auto\",\"x\":[\"\\u0442\\u0430\\u0433\\u0430\\u043d\\u0441\\u043a\\u0438\\u0439 \\u0440\\u0430\\u0439\\u043e\\u043d\",\"\\u0440\\u0430\\u0439\\u043e\\u043d \\u0445\\u0430\\u043c\\u043e\\u0432\\u043d\\u0438\\u043a\\u0438\",\"\\u0431\\u0430\\u0441\\u043c\\u0430\\u043d\\u043d\\u044b\\u0439 \\u0440\\u0430\\u0439\\u043e\\u043d\",\"\\u0442\\u0432\\u0435\\u0440\\u0441\\u043a\\u043e\\u0439 \\u0440\\u0430\\u0439\\u043e\\u043d\",\"\\u043f\\u0440\\u0435\\u0441\\u043d\\u0435\\u043d\\u0441\\u043a\\u0438\\u0439 \\u0440\\u0430\\u0439\\u043e\\u043d\",\"\\u0440\\u0430\\u0439\\u043e\\u043d \\u0430\\u0440\\u0431\\u0430\\u0442\",\"\\u0440\\u0430\\u0439\\u043e\\u043d \\u043c\\u0430\\u0440\\u044c\\u0438\\u043d\\u0430 \\u0440\\u043e\\u0449\\u0430\",\"\\u043c\\u0435\\u0449\\u0430\\u043d\\u0441\\u043a\\u0438\\u0439 \\u0440\\u0430\\u0439\\u043e\\u043d\",\"\\u0440\\u0430\\u0439\\u043e\\u043d \\u0441\\u043e\\u043a\\u043e\\u043b\\u044c\\u043d\\u0438\\u043a\\u0438\",\"\\u0440\\u0430\\u0439\\u043e\\u043d \\u0437\\u0430\\u043c\\u043e\\u0441\\u043a\\u0432\\u043e\\u0440\\u0435\\u0447\\u044c\\u0435\"],\"xaxis\":\"x\",\"y\":[27,26,25,20,20,18,18,16,15,14],\"yaxis\":\"y\",\"type\":\"bar\"}],                        {\"template\":{\"data\":{\"bar\":[{\"error_x\":{\"color\":\"#2a3f5f\"},\"error_y\":{\"color\":\"#2a3f5f\"},\"marker\":{\"line\":{\"color\":\"white\",\"width\":0.5},\"pattern\":{\"fillmode\":\"overlay\",\"size\":10,\"solidity\":0.2}},\"type\":\"bar\"}],\"barpolar\":[{\"marker\":{\"line\":{\"color\":\"white\",\"width\":0.5},\"pattern\":{\"fillmode\":\"overlay\",\"size\":10,\"solidity\":0.2}},\"type\":\"barpolar\"}],\"carpet\":[{\"aaxis\":{\"endlinecolor\":\"#2a3f5f\",\"gridcolor\":\"#C8D4E3\",\"linecolor\":\"#C8D4E3\",\"minorgridcolor\":\"#C8D4E3\",\"startlinecolor\":\"#2a3f5f\"},\"baxis\":{\"endlinecolor\":\"#2a3f5f\",\"gridcolor\":\"#C8D4E3\",\"linecolor\":\"#C8D4E3\",\"minorgridcolor\":\"#C8D4E3\",\"startlinecolor\":\"#2a3f5f\"},\"type\":\"carpet\"}],\"choropleth\":[{\"colorbar\":{\"outlinewidth\":0,\"ticks\":\"\"},\"type\":\"choropleth\"}],\"contour\":[{\"colorbar\":{\"outlinewidth\":0,\"ticks\":\"\"},\"colorscale\":[[0.0,\"#0d0887\"],[0.1111111111111111,\"#46039f\"],[0.2222222222222222,\"#7201a8\"],[0.3333333333333333,\"#9c179e\"],[0.4444444444444444,\"#bd3786\"],[0.5555555555555556,\"#d8576b\"],[0.6666666666666666,\"#ed7953\"],[0.7777777777777778,\"#fb9f3a\"],[0.8888888888888888,\"#fdca26\"],[1.0,\"#f0f921\"]],\"type\":\"contour\"}],\"contourcarpet\":[{\"colorbar\":{\"outlinewidth\":0,\"ticks\":\"\"},\"type\":\"contourcarpet\"}],\"heatmap\":[{\"colorbar\":{\"outlinewidth\":0,\"ticks\":\"\"},\"colorscale\":[[0.0,\"#0d0887\"],[0.1111111111111111,\"#46039f\"],[0.2222222222222222,\"#7201a8\"],[0.3333333333333333,\"#9c179e\"],[0.4444444444444444,\"#bd3786\"],[0.5555555555555556,\"#d8576b\"],[0.6666666666666666,\"#ed7953\"],[0.7777777777777778,\"#fb9f3a\"],[0.8888888888888888,\"#fdca26\"],[1.0,\"#f0f921\"]],\"type\":\"heatmap\"}],\"heatmapgl\":[{\"colorbar\":{\"outlinewidth\":0,\"ticks\":\"\"},\"colorscale\":[[0.0,\"#0d0887\"],[0.1111111111111111,\"#46039f\"],[0.2222222222222222,\"#7201a8\"],[0.3333333333333333,\"#9c179e\"],[0.4444444444444444,\"#bd3786\"],[0.5555555555555556,\"#d8576b\"],[0.6666666666666666,\"#ed7953\"],[0.7777777777777778,\"#fb9f3a\"],[0.8888888888888888,\"#fdca26\"],[1.0,\"#f0f921\"]],\"type\":\"heatmapgl\"}],\"histogram\":[{\"marker\":{\"pattern\":{\"fillmode\":\"overlay\",\"size\":10,\"solidity\":0.2}},\"type\":\"histogram\"}],\"histogram2d\":[{\"colorbar\":{\"outlinewidth\":0,\"ticks\":\"\"},\"colorscale\":[[0.0,\"#0d0887\"],[0.1111111111111111,\"#46039f\"],[0.2222222222222222,\"#7201a8\"],[0.3333333333333333,\"#9c179e\"],[0.4444444444444444,\"#bd3786\"],[0.5555555555555556,\"#d8576b\"],[0.6666666666666666,\"#ed7953\"],[0.7777777777777778,\"#fb9f3a\"],[0.8888888888888888,\"#fdca26\"],[1.0,\"#f0f921\"]],\"type\":\"histogram2d\"}],\"histogram2dcontour\":[{\"colorbar\":{\"outlinewidth\":0,\"ticks\":\"\"},\"colorscale\":[[0.0,\"#0d0887\"],[0.1111111111111111,\"#46039f\"],[0.2222222222222222,\"#7201a8\"],[0.3333333333333333,\"#9c179e\"],[0.4444444444444444,\"#bd3786\"],[0.5555555555555556,\"#d8576b\"],[0.6666666666666666,\"#ed7953\"],[0.7777777777777778,\"#fb9f3a\"],[0.8888888888888888,\"#fdca26\"],[1.0,\"#f0f921\"]],\"type\":\"histogram2dcontour\"}],\"mesh3d\":[{\"colorbar\":{\"outlinewidth\":0,\"ticks\":\"\"},\"type\":\"mesh3d\"}],\"parcoords\":[{\"line\":{\"colorbar\":{\"outlinewidth\":0,\"ticks\":\"\"}},\"type\":\"parcoords\"}],\"pie\":[{\"automargin\":true,\"type\":\"pie\"}],\"scatter\":[{\"marker\":{\"colorbar\":{\"outlinewidth\":0,\"ticks\":\"\"}},\"type\":\"scatter\"}],\"scatter3d\":[{\"line\":{\"colorbar\":{\"outlinewidth\":0,\"ticks\":\"\"}},\"marker\":{\"colorbar\":{\"outlinewidth\":0,\"ticks\":\"\"}},\"type\":\"scatter3d\"}],\"scattercarpet\":[{\"marker\":{\"colorbar\":{\"outlinewidth\":0,\"ticks\":\"\"}},\"type\":\"scattercarpet\"}],\"scattergeo\":[{\"marker\":{\"colorbar\":{\"outlinewidth\":0,\"ticks\":\"\"}},\"type\":\"scattergeo\"}],\"scattergl\":[{\"marker\":{\"colorbar\":{\"outlinewidth\":0,\"ticks\":\"\"}},\"type\":\"scattergl\"}],\"scattermapbox\":[{\"marker\":{\"colorbar\":{\"outlinewidth\":0,\"ticks\":\"\"}},\"type\":\"scattermapbox\"}],\"scatterpolar\":[{\"marker\":{\"colorbar\":{\"outlinewidth\":0,\"ticks\":\"\"}},\"type\":\"scatterpolar\"}],\"scatterpolargl\":[{\"marker\":{\"colorbar\":{\"outlinewidth\":0,\"ticks\":\"\"}},\"type\":\"scatterpolargl\"}],\"scatterternary\":[{\"marker\":{\"colorbar\":{\"outlinewidth\":0,\"ticks\":\"\"}},\"type\":\"scatterternary\"}],\"surface\":[{\"colorbar\":{\"outlinewidth\":0,\"ticks\":\"\"},\"colorscale\":[[0.0,\"#0d0887\"],[0.1111111111111111,\"#46039f\"],[0.2222222222222222,\"#7201a8\"],[0.3333333333333333,\"#9c179e\"],[0.4444444444444444,\"#bd3786\"],[0.5555555555555556,\"#d8576b\"],[0.6666666666666666,\"#ed7953\"],[0.7777777777777778,\"#fb9f3a\"],[0.8888888888888888,\"#fdca26\"],[1.0,\"#f0f921\"]],\"type\":\"surface\"}],\"table\":[{\"cells\":{\"fill\":{\"color\":\"#EBF0F8\"},\"line\":{\"color\":\"white\"}},\"header\":{\"fill\":{\"color\":\"#C8D4E3\"},\"line\":{\"color\":\"white\"}},\"type\":\"table\"}]},\"layout\":{\"annotationdefaults\":{\"arrowcolor\":\"#2a3f5f\",\"arrowhead\":0,\"arrowwidth\":1},\"autotypenumbers\":\"strict\",\"coloraxis\":{\"colorbar\":{\"outlinewidth\":0,\"ticks\":\"\"}},\"colorscale\":{\"diverging\":[[0,\"#8e0152\"],[0.1,\"#c51b7d\"],[0.2,\"#de77ae\"],[0.3,\"#f1b6da\"],[0.4,\"#fde0ef\"],[0.5,\"#f7f7f7\"],[0.6,\"#e6f5d0\"],[0.7,\"#b8e186\"],[0.8,\"#7fbc41\"],[0.9,\"#4d9221\"],[1,\"#276419\"]],\"sequential\":[[0.0,\"#0d0887\"],[0.1111111111111111,\"#46039f\"],[0.2222222222222222,\"#7201a8\"],[0.3333333333333333,\"#9c179e\"],[0.4444444444444444,\"#bd3786\"],[0.5555555555555556,\"#d8576b\"],[0.6666666666666666,\"#ed7953\"],[0.7777777777777778,\"#fb9f3a\"],[0.8888888888888888,\"#fdca26\"],[1.0,\"#f0f921\"]],\"sequentialminus\":[[0.0,\"#0d0887\"],[0.1111111111111111,\"#46039f\"],[0.2222222222222222,\"#7201a8\"],[0.3333333333333333,\"#9c179e\"],[0.4444444444444444,\"#bd3786\"],[0.5555555555555556,\"#d8576b\"],[0.6666666666666666,\"#ed7953\"],[0.7777777777777778,\"#fb9f3a\"],[0.8888888888888888,\"#fdca26\"],[1.0,\"#f0f921\"]]},\"colorway\":[\"#636efa\",\"#EF553B\",\"#00cc96\",\"#ab63fa\",\"#FFA15A\",\"#19d3f3\",\"#FF6692\",\"#B6E880\",\"#FF97FF\",\"#FECB52\"],\"font\":{\"color\":\"#2a3f5f\"},\"geo\":{\"bgcolor\":\"white\",\"lakecolor\":\"white\",\"landcolor\":\"white\",\"showlakes\":true,\"showland\":true,\"subunitcolor\":\"#C8D4E3\"},\"hoverlabel\":{\"align\":\"left\"},\"hovermode\":\"closest\",\"mapbox\":{\"style\":\"light\"},\"paper_bgcolor\":\"white\",\"plot_bgcolor\":\"white\",\"polar\":{\"angularaxis\":{\"gridcolor\":\"#EBF0F8\",\"linecolor\":\"#EBF0F8\",\"ticks\":\"\"},\"bgcolor\":\"white\",\"radialaxis\":{\"gridcolor\":\"#EBF0F8\",\"linecolor\":\"#EBF0F8\",\"ticks\":\"\"}},\"scene\":{\"xaxis\":{\"backgroundcolor\":\"white\",\"gridcolor\":\"#DFE8F3\",\"gridwidth\":2,\"linecolor\":\"#EBF0F8\",\"showbackground\":true,\"ticks\":\"\",\"zerolinecolor\":\"#EBF0F8\"},\"yaxis\":{\"backgroundcolor\":\"white\",\"gridcolor\":\"#DFE8F3\",\"gridwidth\":2,\"linecolor\":\"#EBF0F8\",\"showbackground\":true,\"ticks\":\"\",\"zerolinecolor\":\"#EBF0F8\"},\"zaxis\":{\"backgroundcolor\":\"white\",\"gridcolor\":\"#DFE8F3\",\"gridwidth\":2,\"linecolor\":\"#EBF0F8\",\"showbackground\":true,\"ticks\":\"\",\"zerolinecolor\":\"#EBF0F8\"}},\"shapedefaults\":{\"line\":{\"color\":\"#2a3f5f\"}},\"ternary\":{\"aaxis\":{\"gridcolor\":\"#DFE8F3\",\"linecolor\":\"#A2B1C6\",\"ticks\":\"\"},\"baxis\":{\"gridcolor\":\"#DFE8F3\",\"linecolor\":\"#A2B1C6\",\"ticks\":\"\"},\"bgcolor\":\"white\",\"caxis\":{\"gridcolor\":\"#DFE8F3\",\"linecolor\":\"#A2B1C6\",\"ticks\":\"\"}},\"title\":{\"x\":0.05},\"xaxis\":{\"automargin\":true,\"gridcolor\":\"#EBF0F8\",\"linecolor\":\"#EBF0F8\",\"ticks\":\"\",\"title\":{\"standoff\":15},\"zerolinecolor\":\"#EBF0F8\",\"zerolinewidth\":2},\"yaxis\":{\"automargin\":true,\"gridcolor\":\"#EBF0F8\",\"linecolor\":\"#EBF0F8\",\"ticks\":\"\",\"title\":{\"standoff\":15},\"zerolinecolor\":\"#EBF0F8\",\"zerolinewidth\":2}}},\"xaxis\":{\"anchor\":\"y\",\"domain\":[0.0,1.0],\"title\":{\"text\":\"\"},\"tickangle\":45},\"yaxis\":{\"anchor\":\"x\",\"domain\":[0.0,1.0],\"title\":{\"text\":\"\\u0427\\u0438\\u0441\\u043b\\u043e \\u0443\\u043b\\u0438\\u0446\"}},\"coloraxis\":{\"colorbar\":{\"title\":{\"text\":\"\\u0427\\u0438\\u0441\\u043b\\u043e \\u0443\\u043b\\u0438\\u0446\"}},\"colorscale\":[[0.0,\"rgb(75, 41, 145)\"],[0.16666666666666666,\"rgb(135, 44, 162)\"],[0.3333333333333333,\"rgb(192, 54, 157)\"],[0.5,\"rgb(234, 79, 136)\"],[0.6666666666666666,\"rgb(250, 120, 118)\"],[0.8333333333333334,\"rgb(246, 169, 122)\"],[1.0,\"rgb(237, 217, 163)\"]]},\"legend\":{\"tracegroupgap\":0},\"margin\":{\"t\":60},\"barmode\":\"relative\",\"height\":550,\"width\":900,\"title\":{\"text\":\"\\u0422\\u043e\\u043f-10 \\u0440\\u0430\\u0439\\u043e\\u043d\\u043e\\u0432 \\u0441 1 \\u0437\\u0430\\u0432\\u0435\\u0434\\u0435\\u043d\\u0438\\u0435\\u043c \\u043e\\u0431\\u0449\\u0435\\u043f\\u0438\\u0442\\u0430 \\u043d\\u0430 \\u0443\\u043b\\u0438\\u0446\\u0435.\",\"y\":0.9,\"x\":0.5,\"xanchor\":\"center\",\"yanchor\":\"top\"}},                        {\"responsive\": true}                    ).then(function(){\n",
              "                            \n",
              "var gd = document.getElementById('a550f8db-a65b-4211-b3b9-daf176fdb2dd');\n",
              "var x = new MutationObserver(function (mutations, observer) {{\n",
              "        var display = window.getComputedStyle(gd).display;\n",
              "        if (!display || display === 'none') {{\n",
              "            console.log([gd, 'removed!']);\n",
              "            Plotly.purge(gd);\n",
              "            observer.disconnect();\n",
              "        }}\n",
              "}});\n",
              "\n",
              "// Listen for the removal of the full notebook cells\n",
              "var notebookContainer = gd.closest('#notebook-container');\n",
              "if (notebookContainer) {{\n",
              "    x.observe(notebookContainer, {childList: true});\n",
              "}}\n",
              "\n",
              "// Listen for the clearing of the current output cell\n",
              "var outputEl = gd.closest('.output');\n",
              "if (outputEl) {{\n",
              "    x.observe(outputEl, {childList: true});\n",
              "}}\n",
              "\n",
              "                        })                };                            </script>        </div>\n",
              "</body>\n",
              "</html>"
            ]
          },
          "metadata": {}
        }
      ],
      "source": [
        "fig = px.bar(\n",
        "    districts_streets_1_object.sort_values('count_streets', ascending=False).head(10),\n",
        "    x='district',\n",
        "    y='count_streets',\n",
        "    color='count_streets',\n",
        "    labels = ({'count_streets':'Число улиц'})\n",
        ")\n",
        "\n",
        "fig.update_layout(\n",
        "    xaxis_title = '',\n",
        "    yaxis_title = 'Число улиц',   \n",
        "    title={\n",
        "        'text': 'Топ-10 районов с 1 заведением общепита на улице.',\n",
        "        'y':0.90,\n",
        "        'x':0.50,\n",
        "        'xanchor': 'center',\n",
        "        'yanchor': 'top'}\n",
        ")\n",
        "fig.update_xaxes(tickangle=45)\n",
        "fig.show()"
      ]
    },
    {
      "cell_type": "markdown",
      "metadata": {
        "id": "--zkmb_Q94Dw"
      },
      "source": [
        "**Вывод:** Все эти районы находятся в пределах 3-го Транспортного кольца Москвы. "
      ]
    },
    {
      "cell_type": "markdown",
      "metadata": {
        "id": "BRZvnk4f94Dx"
      },
      "source": [
        "## Общий вывод:"
      ]
    },
    {
      "cell_type": "markdown",
      "metadata": {
        "id": "KgZg0Q0f94Dx"
      },
      "source": [
        "Целью было найти место для ресторана с роботами-официантами. А так же порекомендовать кол-во посадочных мест и тип заведения.\n",
        "\n",
        "- По типу заведения в Москве лидирует, с большим отрывом, тип \"кафе\".\n",
        "- Несетевых заведений значительно больше - 80% рынка.\n",
        "- Больше всех по сети развиваются - кафе, рестораны быстрого питания(фаст-фуд) и рестораны.\n",
        "- В разрезе самих типов заведений у фаст-фуда более 40% от всех заведений именно сетевые.\n",
        "- Для сетевых заведений характерно небольшое кол-во посадочных мест(30-50) и много самих заведений.\n",
        "- В среднем, больше всего посадочных мест имеют столовые(более 100 мест), затем идут рестораны(до 100) и буфет(50).\n",
        "- Улица, с самым большим кол-во заведений общепита - Проспект Мира.\n",
        "- Так же, было обнаружено 557 улиц имеющих всего 1 заведение. \n",
        "\n",
        "По итогам анализа, могу рекомендовать открывать \"кафе\", не более 100 посадочных мест. На одной из топ-10 улиц по кол-ву объектов общепита, потому что конкуренция полезна для бизнеса и это, очевидно, самые оживленные улицы в городе. Если планируете создавать сеть и развиваться по ней, рекомендую уменьшить кол-во посадочных мест до 30-50 мест."
      ]
    },
    {
      "cell_type": "markdown",
      "metadata": {
        "id": "HPE0TuBa94Dy"
      },
      "source": [
        "Презентация: <https://disk.yandex.ru/i/FJl_RDqiY4tfYA>"
      ]
    },
    {
      "cell_type": "code",
      "execution_count": null,
      "metadata": {
        "id": "1h85vAr_94Dz"
      },
      "outputs": [],
      "source": []
    }
  ],
  "metadata": {
    "ExecuteTimeLog": [
      {
        "duration": 1575,
        "start_time": "2022-06-22T17:23:03.695Z"
      },
      {
        "duration": 12,
        "start_time": "2022-06-22T17:23:24.985Z"
      },
      {
        "duration": 10,
        "start_time": "2022-06-22T17:23:32.360Z"
      },
      {
        "duration": 3,
        "start_time": "2022-06-22T17:23:37.908Z"
      },
      {
        "duration": 3,
        "start_time": "2022-06-22T17:23:49.491Z"
      },
      {
        "duration": 1187,
        "start_time": "2022-06-22T17:24:25.643Z"
      },
      {
        "duration": 240,
        "start_time": "2022-06-22T17:25:18.020Z"
      },
      {
        "duration": 71,
        "start_time": "2022-06-22T17:25:22.979Z"
      },
      {
        "duration": 3,
        "start_time": "2022-06-22T17:25:55.444Z"
      },
      {
        "duration": 69,
        "start_time": "2022-06-22T17:25:57.914Z"
      },
      {
        "duration": 8,
        "start_time": "2022-06-22T17:26:24.396Z"
      },
      {
        "duration": 108,
        "start_time": "2022-06-22T17:26:42.656Z"
      },
      {
        "duration": 94,
        "start_time": "2022-06-22T17:26:51.235Z"
      },
      {
        "duration": 10,
        "start_time": "2022-06-22T17:27:56.530Z"
      },
      {
        "duration": 98,
        "start_time": "2022-06-22T17:32:22.066Z"
      },
      {
        "duration": 11,
        "start_time": "2022-06-22T17:32:28.105Z"
      },
      {
        "duration": 17,
        "start_time": "2022-06-22T17:33:12.800Z"
      },
      {
        "duration": 27,
        "start_time": "2022-06-22T17:33:46.938Z"
      },
      {
        "duration": 29,
        "start_time": "2022-06-22T17:33:53.808Z"
      },
      {
        "duration": 11,
        "start_time": "2022-06-22T17:34:39.574Z"
      },
      {
        "duration": 19,
        "start_time": "2022-06-22T17:34:46.092Z"
      },
      {
        "duration": 16,
        "start_time": "2022-06-22T17:34:53.218Z"
      },
      {
        "duration": 16,
        "start_time": "2022-06-22T17:35:00.560Z"
      },
      {
        "duration": 10,
        "start_time": "2022-06-22T17:35:10.266Z"
      },
      {
        "duration": 17,
        "start_time": "2022-06-22T17:35:23.903Z"
      },
      {
        "duration": 22,
        "start_time": "2022-06-22T17:35:29.194Z"
      },
      {
        "duration": 16,
        "start_time": "2022-06-22T17:35:49.569Z"
      },
      {
        "duration": 6,
        "start_time": "2022-06-22T17:36:12.413Z"
      },
      {
        "duration": 6,
        "start_time": "2022-06-22T17:36:26.815Z"
      },
      {
        "duration": 57,
        "start_time": "2022-06-22T17:36:54.094Z"
      },
      {
        "duration": 49,
        "start_time": "2022-06-22T17:37:05.864Z"
      },
      {
        "duration": 45,
        "start_time": "2022-06-22T17:37:10.912Z"
      },
      {
        "duration": 20,
        "start_time": "2022-06-22T17:38:35.551Z"
      },
      {
        "duration": 19,
        "start_time": "2022-06-22T17:38:48.928Z"
      },
      {
        "duration": 20,
        "start_time": "2022-06-22T17:39:01.042Z"
      },
      {
        "duration": 17,
        "start_time": "2022-06-22T17:39:08.973Z"
      },
      {
        "duration": 8,
        "start_time": "2022-06-22T17:39:21.583Z"
      },
      {
        "duration": 9,
        "start_time": "2022-06-22T17:39:37.579Z"
      },
      {
        "duration": 24,
        "start_time": "2022-06-22T17:39:44.162Z"
      },
      {
        "duration": 5,
        "start_time": "2022-06-22T17:43:36.628Z"
      },
      {
        "duration": 6,
        "start_time": "2022-06-22T17:44:28.162Z"
      },
      {
        "duration": 47,
        "start_time": "2022-06-22T17:44:40.734Z"
      },
      {
        "duration": 20,
        "start_time": "2022-06-22T18:17:28.375Z"
      },
      {
        "duration": 24,
        "start_time": "2022-06-22T18:17:36.175Z"
      },
      {
        "duration": 29,
        "start_time": "2022-06-22T18:17:41.450Z"
      },
      {
        "duration": 9,
        "start_time": "2022-06-22T18:18:33.202Z"
      },
      {
        "duration": 20,
        "start_time": "2022-06-22T18:19:00.644Z"
      },
      {
        "duration": 12,
        "start_time": "2022-06-22T18:19:15.296Z"
      },
      {
        "duration": 7,
        "start_time": "2022-06-22T18:19:22.168Z"
      },
      {
        "duration": 10,
        "start_time": "2022-06-22T18:20:12.973Z"
      },
      {
        "duration": 49,
        "start_time": "2022-06-22T18:22:10.595Z"
      },
      {
        "duration": 14,
        "start_time": "2022-06-22T18:22:16.855Z"
      },
      {
        "duration": 38,
        "start_time": "2022-06-22T18:22:45.974Z"
      },
      {
        "duration": 45,
        "start_time": "2022-06-22T18:22:55.116Z"
      },
      {
        "duration": 43,
        "start_time": "2022-06-22T18:23:15.541Z"
      },
      {
        "duration": 1266,
        "start_time": "2022-06-22T18:23:55.403Z"
      },
      {
        "duration": 2,
        "start_time": "2022-06-22T18:23:57.542Z"
      },
      {
        "duration": 71,
        "start_time": "2022-06-22T18:23:58.978Z"
      },
      {
        "duration": 6,
        "start_time": "2022-06-22T18:24:00.010Z"
      },
      {
        "duration": 119,
        "start_time": "2022-06-22T18:24:03.648Z"
      },
      {
        "duration": 37,
        "start_time": "2022-06-22T18:24:07.606Z"
      },
      {
        "duration": 20,
        "start_time": "2022-06-22T18:24:08.492Z"
      },
      {
        "duration": 23,
        "start_time": "2022-06-22T18:24:45.730Z"
      },
      {
        "duration": 6,
        "start_time": "2022-06-22T18:28:49.239Z"
      },
      {
        "duration": 8,
        "start_time": "2022-06-22T18:29:12.202Z"
      },
      {
        "duration": 52,
        "start_time": "2022-06-22T18:30:14.046Z"
      },
      {
        "duration": 1282,
        "start_time": "2022-06-22T18:36:56.878Z"
      },
      {
        "duration": 740,
        "start_time": "2022-06-22T18:41:26.757Z"
      },
      {
        "duration": 968,
        "start_time": "2022-06-22T18:42:33.874Z"
      },
      {
        "duration": 750,
        "start_time": "2022-06-22T18:43:07.504Z"
      },
      {
        "duration": 1048,
        "start_time": "2022-06-22T18:43:30.509Z"
      },
      {
        "duration": 1621,
        "start_time": "2022-06-22T19:16:19.785Z"
      },
      {
        "duration": 1815,
        "start_time": "2022-06-22T19:17:20.477Z"
      },
      {
        "duration": 1393,
        "start_time": "2022-06-22T19:18:27.345Z"
      },
      {
        "duration": 4,
        "start_time": "2022-06-22T20:21:49.620Z"
      },
      {
        "duration": 1372,
        "start_time": "2022-06-22T20:22:01.395Z"
      },
      {
        "duration": 48,
        "start_time": "2022-06-22T20:26:13.970Z"
      },
      {
        "duration": 964,
        "start_time": "2022-06-22T20:26:27.009Z"
      },
      {
        "duration": 1177,
        "start_time": "2022-06-22T20:32:06.673Z"
      },
      {
        "duration": 973,
        "start_time": "2022-06-22T20:32:20.227Z"
      },
      {
        "duration": 1344,
        "start_time": "2022-06-22T20:32:42.306Z"
      },
      {
        "duration": 3,
        "start_time": "2022-06-22T20:32:44.200Z"
      },
      {
        "duration": 74,
        "start_time": "2022-06-22T20:32:44.965Z"
      },
      {
        "duration": 6,
        "start_time": "2022-06-22T20:32:45.603Z"
      },
      {
        "duration": 126,
        "start_time": "2022-06-22T20:32:46.260Z"
      },
      {
        "duration": 30,
        "start_time": "2022-06-22T20:32:47.966Z"
      },
      {
        "duration": 28,
        "start_time": "2022-06-22T20:32:48.495Z"
      },
      {
        "duration": 7,
        "start_time": "2022-06-22T20:32:49.093Z"
      },
      {
        "duration": 47,
        "start_time": "2022-06-22T20:32:49.674Z"
      },
      {
        "duration": 769,
        "start_time": "2022-06-22T20:32:52.458Z"
      },
      {
        "duration": 12,
        "start_time": "2022-06-22T20:33:15.994Z"
      },
      {
        "duration": 1116,
        "start_time": "2022-06-22T20:33:50.157Z"
      },
      {
        "duration": 27,
        "start_time": "2022-06-22T20:34:47.594Z"
      },
      {
        "duration": 35,
        "start_time": "2022-06-22T20:34:57.823Z"
      },
      {
        "duration": 21,
        "start_time": "2022-06-22T20:36:40.596Z"
      },
      {
        "duration": 28,
        "start_time": "2022-06-22T20:36:50.895Z"
      },
      {
        "duration": 20,
        "start_time": "2022-06-22T20:37:07.359Z"
      },
      {
        "duration": 39,
        "start_time": "2022-06-22T20:38:02.121Z"
      },
      {
        "duration": 145,
        "start_time": "2022-06-22T20:39:07.022Z"
      },
      {
        "duration": 13,
        "start_time": "2022-06-22T20:39:38.310Z"
      },
      {
        "duration": 41,
        "start_time": "2022-06-22T20:42:52.528Z"
      },
      {
        "duration": 13,
        "start_time": "2022-06-22T20:44:36.167Z"
      },
      {
        "duration": 14,
        "start_time": "2022-06-22T20:45:17.266Z"
      },
      {
        "duration": 35,
        "start_time": "2022-06-22T20:45:34.154Z"
      },
      {
        "duration": 38,
        "start_time": "2022-06-22T20:45:48.955Z"
      },
      {
        "duration": 14,
        "start_time": "2022-06-22T20:45:59.510Z"
      },
      {
        "duration": 15,
        "start_time": "2022-06-22T20:46:05.864Z"
      },
      {
        "duration": 28,
        "start_time": "2022-06-22T20:46:15.198Z"
      },
      {
        "duration": 42,
        "start_time": "2022-06-22T20:49:35.323Z"
      },
      {
        "duration": 18,
        "start_time": "2022-06-22T20:54:03.048Z"
      },
      {
        "duration": 17,
        "start_time": "2022-06-22T20:56:01.961Z"
      },
      {
        "duration": 22,
        "start_time": "2022-06-22T20:56:56.553Z"
      },
      {
        "duration": 25,
        "start_time": "2022-06-22T20:57:05.276Z"
      },
      {
        "duration": 17,
        "start_time": "2022-06-22T20:57:53.469Z"
      },
      {
        "duration": 33,
        "start_time": "2022-06-22T20:58:14.110Z"
      },
      {
        "duration": 35,
        "start_time": "2022-06-22T20:58:35.323Z"
      },
      {
        "duration": 27,
        "start_time": "2022-06-22T20:58:50.766Z"
      },
      {
        "duration": 27,
        "start_time": "2022-06-22T20:59:17.324Z"
      },
      {
        "duration": 23,
        "start_time": "2022-06-22T20:59:23.996Z"
      },
      {
        "duration": 7,
        "start_time": "2022-06-22T21:00:10.156Z"
      },
      {
        "duration": 9,
        "start_time": "2022-06-22T21:00:23.585Z"
      },
      {
        "duration": 9,
        "start_time": "2022-06-22T21:00:45.507Z"
      },
      {
        "duration": 30,
        "start_time": "2022-06-22T21:02:15.858Z"
      },
      {
        "duration": 9,
        "start_time": "2022-06-22T21:02:33.659Z"
      },
      {
        "duration": 7,
        "start_time": "2022-06-22T21:02:46.214Z"
      },
      {
        "duration": 9,
        "start_time": "2022-06-22T21:03:41.456Z"
      },
      {
        "duration": 16,
        "start_time": "2022-06-22T21:05:02.977Z"
      },
      {
        "duration": 502,
        "start_time": "2022-06-22T21:05:15.661Z"
      },
      {
        "duration": 12,
        "start_time": "2022-06-22T21:08:37.998Z"
      },
      {
        "duration": 12,
        "start_time": "2022-06-22T21:08:53.677Z"
      },
      {
        "duration": 13,
        "start_time": "2022-06-22T21:09:04.755Z"
      },
      {
        "duration": 60,
        "start_time": "2022-06-22T21:09:04.916Z"
      },
      {
        "duration": 59,
        "start_time": "2022-06-22T21:11:34.338Z"
      },
      {
        "duration": 54,
        "start_time": "2022-06-22T21:11:51.168Z"
      },
      {
        "duration": 62,
        "start_time": "2022-06-22T21:12:34.882Z"
      },
      {
        "duration": 15,
        "start_time": "2022-06-22T21:12:56.292Z"
      },
      {
        "duration": 13,
        "start_time": "2022-06-22T21:14:08.003Z"
      },
      {
        "duration": 56,
        "start_time": "2022-06-22T21:14:15.788Z"
      },
      {
        "duration": 14,
        "start_time": "2022-06-22T21:14:23.462Z"
      },
      {
        "duration": 50,
        "start_time": "2022-06-22T21:14:27.888Z"
      },
      {
        "duration": 91,
        "start_time": "2022-06-22T21:15:59.476Z"
      },
      {
        "duration": 18,
        "start_time": "2022-06-22T21:20:28.923Z"
      },
      {
        "duration": 13,
        "start_time": "2022-06-22T21:20:57.464Z"
      },
      {
        "duration": 12,
        "start_time": "2022-06-22T21:22:38.309Z"
      },
      {
        "duration": 19,
        "start_time": "2022-06-22T21:22:48.318Z"
      },
      {
        "duration": 10,
        "start_time": "2022-06-22T21:23:19.074Z"
      },
      {
        "duration": 21,
        "start_time": "2022-06-22T21:23:31.722Z"
      },
      {
        "duration": 16,
        "start_time": "2022-06-22T21:24:03.752Z"
      },
      {
        "duration": 11,
        "start_time": "2022-06-22T21:24:17.797Z"
      },
      {
        "duration": 15,
        "start_time": "2022-06-22T21:24:28.262Z"
      },
      {
        "duration": 20,
        "start_time": "2022-06-22T21:24:46.876Z"
      },
      {
        "duration": 20,
        "start_time": "2022-06-22T21:24:58.148Z"
      },
      {
        "duration": 56,
        "start_time": "2022-06-22T21:25:21.782Z"
      },
      {
        "duration": 47,
        "start_time": "2022-06-22T21:26:05.673Z"
      },
      {
        "duration": 17,
        "start_time": "2022-06-22T21:27:04.356Z"
      },
      {
        "duration": 52,
        "start_time": "2022-06-22T21:27:23.766Z"
      },
      {
        "duration": 68,
        "start_time": "2022-06-22T21:27:32.994Z"
      },
      {
        "duration": 51,
        "start_time": "2022-06-22T21:27:52.788Z"
      },
      {
        "duration": 16,
        "start_time": "2022-06-22T21:27:57.875Z"
      },
      {
        "duration": 33,
        "start_time": "2022-06-22T21:28:08.123Z"
      },
      {
        "duration": 53,
        "start_time": "2022-06-22T21:28:21.175Z"
      },
      {
        "duration": 4,
        "start_time": "2022-06-22T21:33:57.206Z"
      },
      {
        "duration": 5,
        "start_time": "2022-06-22T21:33:59.662Z"
      },
      {
        "duration": 5,
        "start_time": "2022-06-22T21:35:09.398Z"
      },
      {
        "duration": 6,
        "start_time": "2022-06-22T21:35:12.096Z"
      },
      {
        "duration": 22,
        "start_time": "2022-06-22T21:35:17.917Z"
      },
      {
        "duration": 46,
        "start_time": "2022-06-22T21:35:18.849Z"
      },
      {
        "duration": 9,
        "start_time": "2022-06-22T21:35:39.157Z"
      },
      {
        "duration": 30,
        "start_time": "2022-06-22T21:35:39.826Z"
      },
      {
        "duration": 47,
        "start_time": "2022-06-22T21:35:40.362Z"
      },
      {
        "duration": 1347,
        "start_time": "2022-06-22T21:36:00.948Z"
      },
      {
        "duration": 3,
        "start_time": "2022-06-22T21:36:02.817Z"
      },
      {
        "duration": 71,
        "start_time": "2022-06-22T21:36:03.250Z"
      },
      {
        "duration": 7,
        "start_time": "2022-06-22T21:36:03.595Z"
      },
      {
        "duration": 116,
        "start_time": "2022-06-22T21:36:03.955Z"
      },
      {
        "duration": 33,
        "start_time": "2022-06-22T21:36:04.986Z"
      },
      {
        "duration": 20,
        "start_time": "2022-06-22T21:36:05.352Z"
      },
      {
        "duration": 6,
        "start_time": "2022-06-22T21:36:05.749Z"
      },
      {
        "duration": 6,
        "start_time": "2022-06-22T21:36:06.147Z"
      },
      {
        "duration": 50,
        "start_time": "2022-06-22T21:36:06.570Z"
      },
      {
        "duration": 1219,
        "start_time": "2022-06-22T21:36:06.960Z"
      },
      {
        "duration": 13,
        "start_time": "2022-06-22T21:36:08.257Z"
      },
      {
        "duration": 151,
        "start_time": "2022-06-22T21:36:08.759Z"
      },
      {
        "duration": 902,
        "start_time": "2022-06-22T21:36:09.453Z"
      },
      {
        "duration": 759,
        "start_time": "2022-06-22T21:36:25.388Z"
      },
      {
        "duration": 9,
        "start_time": "2022-06-22T21:36:27.862Z"
      },
      {
        "duration": 18,
        "start_time": "2022-06-22T21:36:28.650Z"
      },
      {
        "duration": 1095,
        "start_time": "2022-06-22T21:36:47.477Z"
      },
      {
        "duration": 1088,
        "start_time": "2022-06-22T21:36:48.583Z"
      },
      {
        "duration": 871,
        "start_time": "2022-06-22T21:38:15.222Z"
      },
      {
        "duration": 46,
        "start_time": "2022-06-22T21:39:10.278Z"
      },
      {
        "duration": 64,
        "start_time": "2022-06-22T21:39:19.157Z"
      },
      {
        "duration": 20,
        "start_time": "2022-06-22T21:39:27.730Z"
      },
      {
        "duration": 17,
        "start_time": "2022-06-22T21:39:57.150Z"
      },
      {
        "duration": 1058,
        "start_time": "2022-06-22T21:40:00.994Z"
      },
      {
        "duration": 35,
        "start_time": "2022-06-22T21:40:10.235Z"
      },
      {
        "duration": 510,
        "start_time": "2022-06-22T21:40:21.542Z"
      },
      {
        "duration": 74,
        "start_time": "2022-06-22T21:45:03.364Z"
      },
      {
        "duration": 5,
        "start_time": "2022-06-22T21:45:56.540Z"
      },
      {
        "duration": 6,
        "start_time": "2022-06-22T21:46:54.368Z"
      },
      {
        "duration": 4,
        "start_time": "2022-06-22T21:46:56.093Z"
      },
      {
        "duration": 7,
        "start_time": "2022-06-22T21:47:21.261Z"
      },
      {
        "duration": 19,
        "start_time": "2022-06-22T21:47:26.074Z"
      },
      {
        "duration": 23,
        "start_time": "2022-06-22T21:47:32.950Z"
      },
      {
        "duration": 1269,
        "start_time": "2022-06-22T21:47:49.063Z"
      },
      {
        "duration": 3,
        "start_time": "2022-06-22T21:47:50.938Z"
      },
      {
        "duration": 70,
        "start_time": "2022-06-22T21:47:51.902Z"
      },
      {
        "duration": 10,
        "start_time": "2022-06-22T21:47:52.879Z"
      },
      {
        "duration": 106,
        "start_time": "2022-06-22T21:47:53.987Z"
      },
      {
        "duration": 28,
        "start_time": "2022-06-22T21:47:56.968Z"
      },
      {
        "duration": 32,
        "start_time": "2022-06-22T21:47:57.763Z"
      },
      {
        "duration": 5,
        "start_time": "2022-06-22T21:47:58.527Z"
      },
      {
        "duration": 6,
        "start_time": "2022-06-22T21:47:59.252Z"
      },
      {
        "duration": 5,
        "start_time": "2022-06-22T21:48:00.078Z"
      },
      {
        "duration": 6,
        "start_time": "2022-06-22T21:48:00.787Z"
      },
      {
        "duration": 5,
        "start_time": "2022-06-22T21:48:06.543Z"
      },
      {
        "duration": 54,
        "start_time": "2022-06-22T21:48:07.205Z"
      },
      {
        "duration": 1045,
        "start_time": "2022-06-22T21:48:08.699Z"
      },
      {
        "duration": 12,
        "start_time": "2022-06-22T21:48:11.320Z"
      },
      {
        "duration": 19,
        "start_time": "2022-06-22T21:48:17.405Z"
      },
      {
        "duration": 445,
        "start_time": "2022-06-22T21:48:18.468Z"
      },
      {
        "duration": 171,
        "start_time": "2022-06-22T21:48:22.993Z"
      },
      {
        "duration": 22,
        "start_time": "2022-06-22T21:49:32.640Z"
      },
      {
        "duration": 12,
        "start_time": "2022-06-22T21:50:01.181Z"
      },
      {
        "duration": 15,
        "start_time": "2022-06-22T21:50:13.781Z"
      },
      {
        "duration": 19,
        "start_time": "2022-06-22T21:51:53.001Z"
      },
      {
        "duration": 64,
        "start_time": "2022-06-22T21:52:56.497Z"
      },
      {
        "duration": 22,
        "start_time": "2022-06-22T21:53:06.267Z"
      },
      {
        "duration": 16,
        "start_time": "2022-06-22T21:53:13.271Z"
      },
      {
        "duration": 24,
        "start_time": "2022-06-22T21:54:09.214Z"
      },
      {
        "duration": 53,
        "start_time": "2022-06-22T21:54:10.118Z"
      },
      {
        "duration": 52,
        "start_time": "2022-06-22T21:55:57.498Z"
      },
      {
        "duration": 188,
        "start_time": "2022-06-22T21:56:02.246Z"
      },
      {
        "duration": 34,
        "start_time": "2022-06-22T21:57:45.508Z"
      },
      {
        "duration": 27,
        "start_time": "2022-06-22T21:57:59.163Z"
      },
      {
        "duration": 28,
        "start_time": "2022-06-22T21:58:06.638Z"
      },
      {
        "duration": 18,
        "start_time": "2022-06-22T22:02:31.203Z"
      },
      {
        "duration": 24,
        "start_time": "2022-06-22T22:02:44.072Z"
      },
      {
        "duration": 9,
        "start_time": "2022-06-22T22:03:23.310Z"
      },
      {
        "duration": 11,
        "start_time": "2022-06-22T22:05:25.647Z"
      },
      {
        "duration": 14,
        "start_time": "2022-06-22T22:05:30.051Z"
      },
      {
        "duration": 16,
        "start_time": "2022-06-22T22:05:33.688Z"
      },
      {
        "duration": 32,
        "start_time": "2022-06-22T22:05:57.825Z"
      },
      {
        "duration": 25,
        "start_time": "2022-06-22T22:06:10.098Z"
      },
      {
        "duration": 21,
        "start_time": "2022-06-22T22:06:43.185Z"
      },
      {
        "duration": 13,
        "start_time": "2022-06-22T22:07:03.757Z"
      },
      {
        "duration": 56,
        "start_time": "2022-06-22T22:08:53.147Z"
      },
      {
        "duration": 49,
        "start_time": "2022-06-22T22:09:04.339Z"
      },
      {
        "duration": 44,
        "start_time": "2022-06-22T22:09:22.938Z"
      },
      {
        "duration": 56,
        "start_time": "2022-06-22T22:09:33.949Z"
      },
      {
        "duration": 121,
        "start_time": "2022-06-22T22:09:42.106Z"
      },
      {
        "duration": 14,
        "start_time": "2022-06-22T22:10:02.639Z"
      },
      {
        "duration": 14,
        "start_time": "2022-06-22T22:10:10.391Z"
      },
      {
        "duration": 19,
        "start_time": "2022-06-22T22:10:34.669Z"
      },
      {
        "duration": 15,
        "start_time": "2022-06-22T22:11:03.259Z"
      },
      {
        "duration": 6,
        "start_time": "2022-06-22T22:11:35.967Z"
      },
      {
        "duration": 22,
        "start_time": "2022-06-22T22:11:39.164Z"
      },
      {
        "duration": 15,
        "start_time": "2022-06-22T22:11:48.238Z"
      },
      {
        "duration": 25,
        "start_time": "2022-06-22T22:12:14.217Z"
      },
      {
        "duration": 29,
        "start_time": "2022-06-22T22:12:23.975Z"
      },
      {
        "duration": 21,
        "start_time": "2022-06-22T22:12:31.942Z"
      },
      {
        "duration": 11,
        "start_time": "2022-06-22T22:13:16.140Z"
      },
      {
        "duration": 20,
        "start_time": "2022-06-22T22:14:00.151Z"
      },
      {
        "duration": 15,
        "start_time": "2022-06-22T22:14:08.438Z"
      },
      {
        "duration": 5,
        "start_time": "2022-06-22T22:16:12.048Z"
      },
      {
        "duration": 1219,
        "start_time": "2022-06-22T22:16:35.678Z"
      },
      {
        "duration": 3,
        "start_time": "2022-06-22T22:16:36.899Z"
      },
      {
        "duration": 82,
        "start_time": "2022-06-22T22:16:37.314Z"
      },
      {
        "duration": 12,
        "start_time": "2022-06-22T22:16:38.257Z"
      },
      {
        "duration": 122,
        "start_time": "2022-06-22T22:16:39.439Z"
      },
      {
        "duration": 36,
        "start_time": "2022-06-22T22:16:42.326Z"
      },
      {
        "duration": 23,
        "start_time": "2022-06-22T22:16:43.042Z"
      },
      {
        "duration": 5,
        "start_time": "2022-06-22T22:16:45.449Z"
      },
      {
        "duration": 16,
        "start_time": "2022-06-22T22:16:49.620Z"
      },
      {
        "duration": 15,
        "start_time": "2022-06-22T22:16:52.322Z"
      },
      {
        "duration": 14,
        "start_time": "2022-06-22T22:16:54.905Z"
      },
      {
        "duration": 5,
        "start_time": "2022-06-22T22:17:00.509Z"
      },
      {
        "duration": 5,
        "start_time": "2022-06-22T22:17:03.011Z"
      },
      {
        "duration": 13,
        "start_time": "2022-06-22T22:17:05.712Z"
      },
      {
        "duration": 7,
        "start_time": "2022-06-22T22:17:11.067Z"
      },
      {
        "duration": 4,
        "start_time": "2022-06-22T22:18:31.902Z"
      },
      {
        "duration": 3,
        "start_time": "2022-06-22T22:18:32.578Z"
      },
      {
        "duration": 80,
        "start_time": "2022-06-22T22:18:33.116Z"
      },
      {
        "duration": 16,
        "start_time": "2022-06-22T22:18:33.921Z"
      },
      {
        "duration": 72,
        "start_time": "2022-06-22T22:18:34.779Z"
      },
      {
        "duration": 29,
        "start_time": "2022-06-22T22:18:37.165Z"
      },
      {
        "duration": 21,
        "start_time": "2022-06-22T22:18:38.109Z"
      },
      {
        "duration": 6,
        "start_time": "2022-06-22T22:18:39.113Z"
      },
      {
        "duration": 4,
        "start_time": "2022-06-22T22:18:48.490Z"
      },
      {
        "duration": 4,
        "start_time": "2022-06-22T22:18:54.352Z"
      },
      {
        "duration": 12,
        "start_time": "2022-06-22T22:20:09.024Z"
      },
      {
        "duration": 3,
        "start_time": "2022-06-22T22:20:09.645Z"
      },
      {
        "duration": 72,
        "start_time": "2022-06-22T22:20:10.211Z"
      },
      {
        "duration": 7,
        "start_time": "2022-06-22T22:20:10.780Z"
      },
      {
        "duration": 64,
        "start_time": "2022-06-22T22:20:11.359Z"
      },
      {
        "duration": 28,
        "start_time": "2022-06-22T22:20:13.738Z"
      },
      {
        "duration": 20,
        "start_time": "2022-06-22T22:20:14.582Z"
      },
      {
        "duration": 5,
        "start_time": "2022-06-22T22:20:16.556Z"
      },
      {
        "duration": 6,
        "start_time": "2022-06-22T22:20:19.495Z"
      },
      {
        "duration": 5,
        "start_time": "2022-06-22T22:20:22.638Z"
      },
      {
        "duration": 5,
        "start_time": "2022-06-22T22:20:24.613Z"
      },
      {
        "duration": 5,
        "start_time": "2022-06-22T22:20:27.801Z"
      },
      {
        "duration": 3,
        "start_time": "2022-06-22T22:20:52.786Z"
      },
      {
        "duration": 2,
        "start_time": "2022-06-22T22:20:53.299Z"
      },
      {
        "duration": 65,
        "start_time": "2022-06-22T22:20:53.744Z"
      },
      {
        "duration": 6,
        "start_time": "2022-06-22T22:20:54.192Z"
      },
      {
        "duration": 68,
        "start_time": "2022-06-22T22:20:54.625Z"
      },
      {
        "duration": 35,
        "start_time": "2022-06-22T22:20:56.019Z"
      },
      {
        "duration": 20,
        "start_time": "2022-06-22T22:20:56.665Z"
      },
      {
        "duration": 6,
        "start_time": "2022-06-22T22:20:58.478Z"
      },
      {
        "duration": 6,
        "start_time": "2022-06-22T22:21:00.710Z"
      },
      {
        "duration": 15,
        "start_time": "2022-06-22T22:21:03.223Z"
      },
      {
        "duration": 5,
        "start_time": "2022-06-22T22:21:08.838Z"
      },
      {
        "duration": 14,
        "start_time": "2022-06-22T22:21:17.504Z"
      },
      {
        "duration": 7,
        "start_time": "2022-06-22T22:21:21.566Z"
      },
      {
        "duration": 14,
        "start_time": "2022-06-22T22:21:22.538Z"
      },
      {
        "duration": 7,
        "start_time": "2022-06-22T22:21:25.639Z"
      },
      {
        "duration": 5,
        "start_time": "2022-06-22T22:21:28.413Z"
      },
      {
        "duration": 4,
        "start_time": "2022-06-22T22:21:48.906Z"
      },
      {
        "duration": 3,
        "start_time": "2022-06-22T22:21:49.738Z"
      },
      {
        "duration": 74,
        "start_time": "2022-06-22T22:21:50.288Z"
      },
      {
        "duration": 6,
        "start_time": "2022-06-22T22:21:50.892Z"
      },
      {
        "duration": 85,
        "start_time": "2022-06-22T22:21:51.453Z"
      },
      {
        "duration": 29,
        "start_time": "2022-06-22T22:21:53.138Z"
      },
      {
        "duration": 20,
        "start_time": "2022-06-22T22:21:53.788Z"
      },
      {
        "duration": 5,
        "start_time": "2022-06-22T22:21:54.750Z"
      },
      {
        "duration": 5,
        "start_time": "2022-06-22T22:21:57.602Z"
      },
      {
        "duration": 13,
        "start_time": "2022-06-22T22:21:59.640Z"
      },
      {
        "duration": 6,
        "start_time": "2022-06-22T22:22:03.459Z"
      },
      {
        "duration": 11,
        "start_time": "2022-06-22T22:22:07.021Z"
      },
      {
        "duration": 17,
        "start_time": "2022-06-22T22:22:11.701Z"
      },
      {
        "duration": 6,
        "start_time": "2022-06-22T22:22:28.192Z"
      },
      {
        "duration": 7,
        "start_time": "2022-06-22T22:22:28.812Z"
      },
      {
        "duration": 9,
        "start_time": "2022-06-22T22:22:29.406Z"
      },
      {
        "duration": 15,
        "start_time": "2022-06-22T22:22:30.839Z"
      },
      {
        "duration": 127,
        "start_time": "2022-06-22T22:22:46.858Z"
      },
      {
        "duration": 17,
        "start_time": "2022-06-22T22:23:03.790Z"
      },
      {
        "duration": 5,
        "start_time": "2022-06-22T22:23:30.052Z"
      },
      {
        "duration": 1311,
        "start_time": "2022-06-22T22:23:42.865Z"
      },
      {
        "duration": 2,
        "start_time": "2022-06-22T22:23:44.759Z"
      },
      {
        "duration": 81,
        "start_time": "2022-06-22T22:23:45.274Z"
      },
      {
        "duration": 7,
        "start_time": "2022-06-22T22:23:45.736Z"
      },
      {
        "duration": 129,
        "start_time": "2022-06-22T22:23:46.226Z"
      },
      {
        "duration": 39,
        "start_time": "2022-06-22T22:23:47.610Z"
      },
      {
        "duration": 21,
        "start_time": "2022-06-22T22:23:48.070Z"
      },
      {
        "duration": 5,
        "start_time": "2022-06-22T22:23:48.565Z"
      },
      {
        "duration": 6,
        "start_time": "2022-06-22T22:23:49.650Z"
      },
      {
        "duration": 15,
        "start_time": "2022-06-22T22:23:50.891Z"
      },
      {
        "duration": 7,
        "start_time": "2022-06-22T22:23:52.916Z"
      },
      {
        "duration": 5,
        "start_time": "2022-06-22T22:25:11.061Z"
      },
      {
        "duration": 12,
        "start_time": "2022-06-22T22:25:12.149Z"
      },
      {
        "duration": 9,
        "start_time": "2022-06-22T22:25:15.832Z"
      },
      {
        "duration": 7,
        "start_time": "2022-06-22T22:25:23.654Z"
      },
      {
        "duration": 7,
        "start_time": "2022-06-22T22:25:24.410Z"
      },
      {
        "duration": 52,
        "start_time": "2022-06-22T22:25:25.091Z"
      },
      {
        "duration": 1154,
        "start_time": "2022-06-22T22:25:25.655Z"
      },
      {
        "duration": 9,
        "start_time": "2022-06-22T22:25:28.005Z"
      },
      {
        "duration": 25,
        "start_time": "2022-06-22T22:25:28.510Z"
      },
      {
        "duration": 494,
        "start_time": "2022-06-22T22:25:29.183Z"
      },
      {
        "duration": 16,
        "start_time": "2022-06-22T22:25:34.742Z"
      },
      {
        "duration": 14,
        "start_time": "2022-06-22T22:27:07.885Z"
      },
      {
        "duration": 182,
        "start_time": "2022-06-22T22:28:01.259Z"
      },
      {
        "duration": 159,
        "start_time": "2022-06-22T22:28:17.266Z"
      },
      {
        "duration": 22,
        "start_time": "2022-06-22T22:28:36.485Z"
      },
      {
        "duration": 50,
        "start_time": "2022-06-22T22:28:49.267Z"
      },
      {
        "duration": 11,
        "start_time": "2022-06-22T22:29:01.676Z"
      },
      {
        "duration": 92,
        "start_time": "2022-06-22T22:29:39.346Z"
      },
      {
        "duration": 61,
        "start_time": "2022-06-22T22:29:59.790Z"
      },
      {
        "duration": 57,
        "start_time": "2022-06-22T22:30:03.882Z"
      },
      {
        "duration": 4,
        "start_time": "2022-06-22T22:30:23.073Z"
      },
      {
        "duration": 6,
        "start_time": "2022-06-22T22:30:26.011Z"
      },
      {
        "duration": 8,
        "start_time": "2022-06-22T22:30:33.553Z"
      },
      {
        "duration": 26,
        "start_time": "2022-06-22T22:32:37.520Z"
      },
      {
        "duration": 15,
        "start_time": "2022-06-22T22:33:08.892Z"
      },
      {
        "duration": 14,
        "start_time": "2022-06-22T22:33:34.961Z"
      },
      {
        "duration": 17,
        "start_time": "2022-06-22T22:33:50.644Z"
      },
      {
        "duration": 24,
        "start_time": "2022-06-22T22:34:10.943Z"
      },
      {
        "duration": 19,
        "start_time": "2022-06-22T22:34:44.309Z"
      },
      {
        "duration": 18,
        "start_time": "2022-06-22T22:35:01.498Z"
      },
      {
        "duration": 12,
        "start_time": "2022-06-22T22:36:42.146Z"
      },
      {
        "duration": 12,
        "start_time": "2022-06-22T22:37:27.407Z"
      },
      {
        "duration": 15,
        "start_time": "2022-06-22T22:37:41.491Z"
      },
      {
        "duration": 13,
        "start_time": "2022-06-22T22:37:42.609Z"
      },
      {
        "duration": 16,
        "start_time": "2022-06-22T22:38:45.144Z"
      },
      {
        "duration": 16,
        "start_time": "2022-06-22T22:39:01.955Z"
      },
      {
        "duration": 17,
        "start_time": "2022-06-22T22:39:23.181Z"
      },
      {
        "duration": 1187,
        "start_time": "2022-06-22T22:40:58.377Z"
      },
      {
        "duration": 3,
        "start_time": "2022-06-22T22:41:00.069Z"
      },
      {
        "duration": 77,
        "start_time": "2022-06-22T22:41:00.513Z"
      },
      {
        "duration": 6,
        "start_time": "2022-06-22T22:41:00.898Z"
      },
      {
        "duration": 119,
        "start_time": "2022-06-22T22:41:01.290Z"
      },
      {
        "duration": 36,
        "start_time": "2022-06-22T22:41:02.504Z"
      },
      {
        "duration": 26,
        "start_time": "2022-06-22T22:41:02.887Z"
      },
      {
        "duration": 5,
        "start_time": "2022-06-22T22:41:03.268Z"
      },
      {
        "duration": 6,
        "start_time": "2022-06-22T22:41:03.665Z"
      },
      {
        "duration": 5,
        "start_time": "2022-06-22T22:41:04.038Z"
      },
      {
        "duration": 22,
        "start_time": "2022-06-22T22:41:04.417Z"
      },
      {
        "duration": 5,
        "start_time": "2022-06-22T22:41:04.785Z"
      },
      {
        "duration": 6,
        "start_time": "2022-06-22T22:41:05.173Z"
      },
      {
        "duration": 52,
        "start_time": "2022-06-22T22:41:05.607Z"
      },
      {
        "duration": 1002,
        "start_time": "2022-06-22T22:41:06.038Z"
      },
      {
        "duration": 22,
        "start_time": "2022-06-22T22:41:07.222Z"
      },
      {
        "duration": 22,
        "start_time": "2022-06-22T22:41:07.685Z"
      },
      {
        "duration": 452,
        "start_time": "2022-06-22T22:41:08.553Z"
      },
      {
        "duration": 15,
        "start_time": "2022-06-22T22:41:09.765Z"
      },
      {
        "duration": 167,
        "start_time": "2022-06-22T22:41:11.625Z"
      },
      {
        "duration": 15,
        "start_time": "2022-06-22T22:42:02.780Z"
      },
      {
        "duration": 22,
        "start_time": "2022-06-22T22:42:24.174Z"
      },
      {
        "duration": 15,
        "start_time": "2022-06-22T22:42:30.985Z"
      },
      {
        "duration": 50,
        "start_time": "2022-06-22T22:42:58.575Z"
      },
      {
        "duration": 16,
        "start_time": "2022-06-22T22:43:04.189Z"
      },
      {
        "duration": 22,
        "start_time": "2022-06-22T22:45:37.529Z"
      },
      {
        "duration": 50,
        "start_time": "2022-06-22T22:46:29.775Z"
      },
      {
        "duration": 16,
        "start_time": "2022-06-22T22:46:34.965Z"
      },
      {
        "duration": 65,
        "start_time": "2022-06-22T22:46:42.374Z"
      },
      {
        "duration": 24,
        "start_time": "2022-06-22T22:46:48.114Z"
      },
      {
        "duration": 17,
        "start_time": "2022-06-22T22:46:55.751Z"
      },
      {
        "duration": 19,
        "start_time": "2022-06-22T22:48:03.337Z"
      },
      {
        "duration": 14,
        "start_time": "2022-06-22T22:48:37.345Z"
      },
      {
        "duration": 12,
        "start_time": "2022-06-22T22:50:40.860Z"
      },
      {
        "duration": 12,
        "start_time": "2022-06-22T22:50:58.181Z"
      },
      {
        "duration": 12,
        "start_time": "2022-06-22T22:51:07.276Z"
      },
      {
        "duration": 16,
        "start_time": "2022-06-22T22:51:17.075Z"
      },
      {
        "duration": 19,
        "start_time": "2022-06-22T22:51:46.150Z"
      },
      {
        "duration": 28,
        "start_time": "2022-06-22T22:52:09.689Z"
      },
      {
        "duration": 17,
        "start_time": "2022-06-22T22:52:16.859Z"
      },
      {
        "duration": 19,
        "start_time": "2022-06-22T22:52:37.275Z"
      },
      {
        "duration": 59,
        "start_time": "2022-06-22T22:52:52.911Z"
      },
      {
        "duration": 51,
        "start_time": "2022-06-22T22:54:27.725Z"
      },
      {
        "duration": 12,
        "start_time": "2022-06-22T22:54:46.168Z"
      },
      {
        "duration": 15,
        "start_time": "2022-06-22T22:54:54.238Z"
      },
      {
        "duration": 54,
        "start_time": "2022-06-22T22:54:59.122Z"
      },
      {
        "duration": 6,
        "start_time": "2022-06-22T22:56:18.352Z"
      },
      {
        "duration": 9,
        "start_time": "2022-06-22T22:56:23.041Z"
      },
      {
        "duration": 21,
        "start_time": "2022-06-22T22:57:12.089Z"
      },
      {
        "duration": 10,
        "start_time": "2022-06-22T22:57:26.646Z"
      },
      {
        "duration": 19,
        "start_time": "2022-06-22T22:57:38.893Z"
      },
      {
        "duration": 11,
        "start_time": "2022-06-22T22:57:55.879Z"
      },
      {
        "duration": 11,
        "start_time": "2022-06-22T22:58:08.050Z"
      },
      {
        "duration": 12,
        "start_time": "2022-06-22T22:58:36.384Z"
      },
      {
        "duration": 18,
        "start_time": "2022-06-22T22:59:58.438Z"
      },
      {
        "duration": 14,
        "start_time": "2022-06-22T23:00:12.715Z"
      },
      {
        "duration": 12,
        "start_time": "2022-06-22T23:01:08.145Z"
      },
      {
        "duration": 17,
        "start_time": "2022-06-22T23:01:23.074Z"
      },
      {
        "duration": 14,
        "start_time": "2022-06-22T23:04:43.519Z"
      },
      {
        "duration": 103,
        "start_time": "2022-06-22T23:04:51.469Z"
      },
      {
        "duration": 22,
        "start_time": "2022-06-22T23:06:08.980Z"
      },
      {
        "duration": 6,
        "start_time": "2022-06-22T23:07:32.505Z"
      },
      {
        "duration": 5,
        "start_time": "2022-06-22T23:07:33.026Z"
      },
      {
        "duration": 71,
        "start_time": "2022-06-22T23:07:33.449Z"
      },
      {
        "duration": 6,
        "start_time": "2022-06-22T23:07:33.816Z"
      },
      {
        "duration": 73,
        "start_time": "2022-06-22T23:07:34.182Z"
      },
      {
        "duration": 30,
        "start_time": "2022-06-22T23:07:35.334Z"
      },
      {
        "duration": 21,
        "start_time": "2022-06-22T23:07:35.715Z"
      },
      {
        "duration": 9,
        "start_time": "2022-06-22T23:07:36.125Z"
      },
      {
        "duration": 6,
        "start_time": "2022-06-22T23:07:36.489Z"
      },
      {
        "duration": 6,
        "start_time": "2022-06-22T23:07:36.840Z"
      },
      {
        "duration": 13,
        "start_time": "2022-06-22T23:07:37.183Z"
      },
      {
        "duration": 6,
        "start_time": "2022-06-22T23:07:37.565Z"
      },
      {
        "duration": 6,
        "start_time": "2022-06-22T23:07:37.963Z"
      },
      {
        "duration": 56,
        "start_time": "2022-06-22T23:07:38.312Z"
      },
      {
        "duration": 1584,
        "start_time": "2022-06-22T23:07:38.671Z"
      },
      {
        "duration": 9,
        "start_time": "2022-06-22T23:07:40.256Z"
      },
      {
        "duration": 33,
        "start_time": "2022-06-22T23:07:40.266Z"
      },
      {
        "duration": 45,
        "start_time": "2022-06-22T23:07:40.457Z"
      },
      {
        "duration": 50,
        "start_time": "2022-06-22T23:07:41.148Z"
      },
      {
        "duration": 56,
        "start_time": "2022-06-22T23:07:41.510Z"
      },
      {
        "duration": 14,
        "start_time": "2022-06-22T23:07:41.900Z"
      },
      {
        "duration": 25,
        "start_time": "2022-06-22T23:07:42.290Z"
      },
      {
        "duration": 27,
        "start_time": "2022-06-22T23:07:42.671Z"
      },
      {
        "duration": 19,
        "start_time": "2022-06-22T23:07:47.503Z"
      },
      {
        "duration": 13,
        "start_time": "2022-06-22T23:10:12.338Z"
      },
      {
        "duration": 49,
        "start_time": "2022-06-22T23:10:22.569Z"
      },
      {
        "duration": 19,
        "start_time": "2022-06-22T23:11:04.987Z"
      },
      {
        "duration": 13,
        "start_time": "2022-06-22T23:11:15.762Z"
      },
      {
        "duration": 13,
        "start_time": "2022-06-22T23:13:21.684Z"
      },
      {
        "duration": 62,
        "start_time": "2022-06-22T23:14:25.788Z"
      },
      {
        "duration": 13,
        "start_time": "2022-06-22T23:15:02.838Z"
      },
      {
        "duration": 59,
        "start_time": "2022-06-22T23:15:05.457Z"
      },
      {
        "duration": 13,
        "start_time": "2022-06-22T23:16:10.502Z"
      },
      {
        "duration": 63,
        "start_time": "2022-06-22T23:16:21.588Z"
      },
      {
        "duration": 17,
        "start_time": "2022-06-22T23:17:33.386Z"
      },
      {
        "duration": 18,
        "start_time": "2022-06-22T23:17:43.285Z"
      },
      {
        "duration": 13,
        "start_time": "2022-06-22T23:18:02.480Z"
      },
      {
        "duration": 70,
        "start_time": "2022-06-22T23:18:05.917Z"
      },
      {
        "duration": 49,
        "start_time": "2022-06-22T23:19:57.760Z"
      },
      {
        "duration": 17,
        "start_time": "2022-06-22T23:21:00.198Z"
      },
      {
        "duration": 16,
        "start_time": "2022-06-22T23:21:44.184Z"
      },
      {
        "duration": 907,
        "start_time": "2022-06-22T23:22:29.568Z"
      },
      {
        "duration": 1248,
        "start_time": "2022-06-22T23:24:07.404Z"
      },
      {
        "duration": 2,
        "start_time": "2022-06-22T23:24:08.654Z"
      },
      {
        "duration": 66,
        "start_time": "2022-06-22T23:24:09.653Z"
      },
      {
        "duration": 6,
        "start_time": "2022-06-22T23:24:10.119Z"
      },
      {
        "duration": 109,
        "start_time": "2022-06-22T23:24:10.566Z"
      },
      {
        "duration": 40,
        "start_time": "2022-06-22T23:24:12.117Z"
      },
      {
        "duration": 20,
        "start_time": "2022-06-22T23:24:12.685Z"
      },
      {
        "duration": 10,
        "start_time": "2022-06-22T23:24:13.429Z"
      },
      {
        "duration": 109,
        "start_time": "2022-06-22T23:24:15.038Z"
      },
      {
        "duration": 26,
        "start_time": "2022-06-22T23:24:32.779Z"
      },
      {
        "duration": 13,
        "start_time": "2022-06-22T23:24:47.527Z"
      },
      {
        "duration": 4,
        "start_time": "2022-06-22T23:24:52.653Z"
      },
      {
        "duration": 5,
        "start_time": "2022-06-22T23:25:03.242Z"
      },
      {
        "duration": 6,
        "start_time": "2022-06-22T23:25:03.676Z"
      },
      {
        "duration": 43,
        "start_time": "2022-06-22T23:25:04.077Z"
      },
      {
        "duration": 1064,
        "start_time": "2022-06-22T23:25:04.484Z"
      },
      {
        "duration": 10,
        "start_time": "2022-06-22T23:25:05.705Z"
      },
      {
        "duration": 21,
        "start_time": "2022-06-22T23:25:06.102Z"
      },
      {
        "duration": 464,
        "start_time": "2022-06-22T23:25:06.549Z"
      },
      {
        "duration": 78,
        "start_time": "2022-06-22T23:25:07.392Z"
      },
      {
        "duration": 56,
        "start_time": "2022-06-22T23:25:07.861Z"
      },
      {
        "duration": 14,
        "start_time": "2022-06-22T23:25:08.968Z"
      },
      {
        "duration": 54,
        "start_time": "2022-06-22T23:25:15.261Z"
      },
      {
        "duration": 56,
        "start_time": "2022-06-22T23:26:17.615Z"
      },
      {
        "duration": 46,
        "start_time": "2022-06-22T23:26:35.841Z"
      },
      {
        "duration": 14,
        "start_time": "2022-06-22T23:28:39.151Z"
      },
      {
        "duration": 50,
        "start_time": "2022-06-22T23:28:58.068Z"
      },
      {
        "duration": 15,
        "start_time": "2022-06-22T23:29:07.839Z"
      },
      {
        "duration": 19,
        "start_time": "2022-06-22T23:29:10.458Z"
      },
      {
        "duration": 61,
        "start_time": "2022-06-22T23:29:18.392Z"
      },
      {
        "duration": 54,
        "start_time": "2022-06-22T23:33:54.138Z"
      },
      {
        "duration": 77,
        "start_time": "2022-06-22T23:34:01.505Z"
      },
      {
        "duration": 53,
        "start_time": "2022-06-22T23:35:13.826Z"
      },
      {
        "duration": 60,
        "start_time": "2022-06-22T23:35:55.587Z"
      },
      {
        "duration": 59,
        "start_time": "2022-06-22T23:36:56.292Z"
      },
      {
        "duration": 20,
        "start_time": "2022-06-22T23:38:53.366Z"
      },
      {
        "duration": 848,
        "start_time": "2022-06-22T23:39:05.086Z"
      },
      {
        "duration": 18,
        "start_time": "2022-06-22T23:41:52.153Z"
      },
      {
        "duration": 27,
        "start_time": "2022-06-22T23:42:42.551Z"
      },
      {
        "duration": 65,
        "start_time": "2022-06-22T23:42:44.482Z"
      },
      {
        "duration": 15,
        "start_time": "2022-06-22T23:44:23.992Z"
      },
      {
        "duration": 18,
        "start_time": "2022-06-22T23:46:18.722Z"
      },
      {
        "duration": 12,
        "start_time": "2022-06-22T23:47:26.250Z"
      },
      {
        "duration": 11,
        "start_time": "2022-06-22T23:47:33.138Z"
      },
      {
        "duration": 12,
        "start_time": "2022-06-22T23:47:33.838Z"
      },
      {
        "duration": 16,
        "start_time": "2022-06-22T23:47:56.796Z"
      },
      {
        "duration": 27,
        "start_time": "2022-06-22T23:48:09.120Z"
      },
      {
        "duration": 31,
        "start_time": "2022-06-22T23:50:34.938Z"
      },
      {
        "duration": 48,
        "start_time": "2022-06-22T23:50:48.989Z"
      },
      {
        "duration": 50,
        "start_time": "2022-06-22T23:51:03.823Z"
      },
      {
        "duration": 12,
        "start_time": "2022-06-22T23:52:07.611Z"
      },
      {
        "duration": 14,
        "start_time": "2022-06-22T23:52:20.257Z"
      },
      {
        "duration": 12,
        "start_time": "2022-06-22T23:53:20.838Z"
      },
      {
        "duration": 11,
        "start_time": "2022-06-22T23:53:46.282Z"
      },
      {
        "duration": 56,
        "start_time": "2022-06-22T23:54:22.395Z"
      },
      {
        "duration": 53,
        "start_time": "2022-06-22T23:54:28.368Z"
      },
      {
        "duration": 23,
        "start_time": "2022-06-22T23:57:14.040Z"
      },
      {
        "duration": 27,
        "start_time": "2022-06-22T23:57:25.538Z"
      },
      {
        "duration": 38,
        "start_time": "2022-06-22T23:57:38.100Z"
      },
      {
        "duration": 8,
        "start_time": "2022-06-22T23:58:05.360Z"
      },
      {
        "duration": 18,
        "start_time": "2022-06-22T23:58:29.818Z"
      },
      {
        "duration": 19,
        "start_time": "2022-06-22T23:59:13.219Z"
      },
      {
        "duration": 49,
        "start_time": "2022-06-23T00:01:29.371Z"
      },
      {
        "duration": 78,
        "start_time": "2022-06-23T00:01:34.483Z"
      },
      {
        "duration": 80,
        "start_time": "2022-06-23T00:02:05.479Z"
      },
      {
        "duration": 88,
        "start_time": "2022-06-23T00:02:21.257Z"
      },
      {
        "duration": 87,
        "start_time": "2022-06-23T00:03:01.053Z"
      },
      {
        "duration": 72,
        "start_time": "2022-06-23T00:03:13.101Z"
      },
      {
        "duration": 75,
        "start_time": "2022-06-23T00:04:33.722Z"
      },
      {
        "duration": 73,
        "start_time": "2022-06-23T00:04:40.438Z"
      },
      {
        "duration": 9,
        "start_time": "2022-06-23T00:05:12.544Z"
      },
      {
        "duration": 47,
        "start_time": "2022-06-23T00:05:15.070Z"
      },
      {
        "duration": 22,
        "start_time": "2022-06-23T00:05:18.519Z"
      },
      {
        "duration": 23,
        "start_time": "2022-06-23T00:06:30.791Z"
      },
      {
        "duration": 10,
        "start_time": "2022-06-23T00:06:34.838Z"
      },
      {
        "duration": 27,
        "start_time": "2022-06-23T00:08:21.484Z"
      },
      {
        "duration": 78,
        "start_time": "2022-06-23T00:11:58.893Z"
      },
      {
        "duration": 86,
        "start_time": "2022-06-23T00:12:49.556Z"
      },
      {
        "duration": 76,
        "start_time": "2022-06-23T00:13:19.874Z"
      },
      {
        "duration": 90,
        "start_time": "2022-06-23T00:13:32.962Z"
      },
      {
        "duration": 72,
        "start_time": "2022-06-23T00:13:43.938Z"
      },
      {
        "duration": 75,
        "start_time": "2022-06-23T00:13:55.302Z"
      },
      {
        "duration": 76,
        "start_time": "2022-06-23T00:16:10.214Z"
      },
      {
        "duration": 68,
        "start_time": "2022-06-23T00:16:22.746Z"
      },
      {
        "duration": 193,
        "start_time": "2022-06-23T00:16:24.460Z"
      },
      {
        "duration": 78,
        "start_time": "2022-06-23T00:16:55.491Z"
      },
      {
        "duration": 74,
        "start_time": "2022-06-23T00:18:00.350Z"
      },
      {
        "duration": 1429,
        "start_time": "2022-06-23T11:20:55.182Z"
      },
      {
        "duration": 3,
        "start_time": "2022-06-23T11:20:56.613Z"
      },
      {
        "duration": 270,
        "start_time": "2022-06-23T11:20:56.617Z"
      },
      {
        "duration": 6,
        "start_time": "2022-06-23T11:20:56.889Z"
      },
      {
        "duration": 145,
        "start_time": "2022-06-23T11:20:56.897Z"
      },
      {
        "duration": 29,
        "start_time": "2022-06-23T11:20:57.043Z"
      },
      {
        "duration": 22,
        "start_time": "2022-06-23T11:20:57.073Z"
      },
      {
        "duration": 4,
        "start_time": "2022-06-23T11:20:57.097Z"
      },
      {
        "duration": 44,
        "start_time": "2022-06-23T11:20:57.103Z"
      },
      {
        "duration": 5,
        "start_time": "2022-06-23T11:20:57.149Z"
      },
      {
        "duration": 10,
        "start_time": "2022-06-23T11:20:57.156Z"
      },
      {
        "duration": 61,
        "start_time": "2022-06-23T11:20:57.167Z"
      },
      {
        "duration": 1225,
        "start_time": "2022-06-23T11:20:57.237Z"
      },
      {
        "duration": 27,
        "start_time": "2022-06-23T11:20:58.464Z"
      },
      {
        "duration": 473,
        "start_time": "2022-06-23T11:20:58.492Z"
      },
      {
        "duration": 10,
        "start_time": "2022-06-23T11:20:58.967Z"
      },
      {
        "duration": 16,
        "start_time": "2022-06-23T11:20:58.979Z"
      },
      {
        "duration": 58,
        "start_time": "2022-06-23T11:20:58.997Z"
      },
      {
        "duration": 141,
        "start_time": "2022-06-23T11:20:59.057Z"
      },
      {
        "duration": 80,
        "start_time": "2022-06-23T11:20:59.227Z"
      },
      {
        "duration": 23,
        "start_time": "2022-06-23T11:39:59.101Z"
      },
      {
        "duration": 76,
        "start_time": "2022-06-23T11:40:35.734Z"
      },
      {
        "duration": 75,
        "start_time": "2022-06-23T11:42:55.672Z"
      },
      {
        "duration": 69,
        "start_time": "2022-06-23T11:43:57.409Z"
      },
      {
        "duration": 70,
        "start_time": "2022-06-23T11:44:14.925Z"
      },
      {
        "duration": 75,
        "start_time": "2022-06-23T11:44:25.569Z"
      },
      {
        "duration": 75,
        "start_time": "2022-06-23T11:44:35.251Z"
      },
      {
        "duration": 73,
        "start_time": "2022-06-23T11:45:28.378Z"
      },
      {
        "duration": 53,
        "start_time": "2022-06-23T11:50:18.371Z"
      },
      {
        "duration": 74,
        "start_time": "2022-06-23T11:53:34.987Z"
      },
      {
        "duration": 90,
        "start_time": "2022-06-23T11:54:50.113Z"
      },
      {
        "duration": 7,
        "start_time": "2022-06-23T12:03:46.983Z"
      },
      {
        "duration": 15,
        "start_time": "2022-06-23T12:03:59.882Z"
      },
      {
        "duration": 18,
        "start_time": "2022-06-23T12:06:12.729Z"
      },
      {
        "duration": 221,
        "start_time": "2022-06-23T12:06:40.945Z"
      },
      {
        "duration": 18,
        "start_time": "2022-06-23T12:07:07.648Z"
      },
      {
        "duration": 20,
        "start_time": "2022-06-23T12:07:31.101Z"
      },
      {
        "duration": 17,
        "start_time": "2022-06-23T12:07:39.006Z"
      },
      {
        "duration": 18,
        "start_time": "2022-06-23T12:08:33.506Z"
      },
      {
        "duration": 171,
        "start_time": "2022-06-23T12:09:43.509Z"
      },
      {
        "duration": 26,
        "start_time": "2022-06-23T12:10:30.388Z"
      },
      {
        "duration": 21,
        "start_time": "2022-06-23T12:10:52.978Z"
      },
      {
        "duration": 18,
        "start_time": "2022-06-23T12:11:03.292Z"
      },
      {
        "duration": 19,
        "start_time": "2022-06-23T12:11:33.000Z"
      },
      {
        "duration": 18,
        "start_time": "2022-06-23T12:14:14.940Z"
      },
      {
        "duration": 20,
        "start_time": "2022-06-23T12:14:54.921Z"
      },
      {
        "duration": 22,
        "start_time": "2022-06-23T12:17:07.505Z"
      },
      {
        "duration": 19,
        "start_time": "2022-06-23T12:17:54.887Z"
      },
      {
        "duration": 268,
        "start_time": "2022-06-23T12:18:25.441Z"
      },
      {
        "duration": 290,
        "start_time": "2022-06-23T12:20:16.917Z"
      },
      {
        "duration": 342,
        "start_time": "2022-06-23T12:20:35.317Z"
      },
      {
        "duration": 1272,
        "start_time": "2022-06-23T12:20:55.880Z"
      },
      {
        "duration": 3,
        "start_time": "2022-06-23T12:20:57.758Z"
      },
      {
        "duration": 71,
        "start_time": "2022-06-23T12:20:58.242Z"
      },
      {
        "duration": 6,
        "start_time": "2022-06-23T12:20:58.728Z"
      },
      {
        "duration": 115,
        "start_time": "2022-06-23T12:20:59.194Z"
      },
      {
        "duration": 66,
        "start_time": "2022-06-23T12:21:00.576Z"
      },
      {
        "duration": 23,
        "start_time": "2022-06-23T12:21:00.996Z"
      },
      {
        "duration": 7,
        "start_time": "2022-06-23T12:21:01.430Z"
      },
      {
        "duration": 35,
        "start_time": "2022-06-23T12:21:01.875Z"
      },
      {
        "duration": 10,
        "start_time": "2022-06-23T12:21:02.331Z"
      },
      {
        "duration": 6,
        "start_time": "2022-06-23T12:21:02.781Z"
      },
      {
        "duration": 58,
        "start_time": "2022-06-23T12:21:03.215Z"
      },
      {
        "duration": 1112,
        "start_time": "2022-06-23T12:21:03.646Z"
      },
      {
        "duration": 25,
        "start_time": "2022-06-23T12:21:05.412Z"
      },
      {
        "duration": 546,
        "start_time": "2022-06-23T12:21:05.847Z"
      },
      {
        "duration": 15,
        "start_time": "2022-06-23T12:21:07.146Z"
      },
      {
        "duration": 19,
        "start_time": "2022-06-23T12:21:08.211Z"
      },
      {
        "duration": 26,
        "start_time": "2022-06-23T12:21:09.869Z"
      },
      {
        "duration": 95,
        "start_time": "2022-06-23T12:21:10.419Z"
      },
      {
        "duration": 93,
        "start_time": "2022-06-23T12:21:11.289Z"
      },
      {
        "duration": 487,
        "start_time": "2022-06-23T12:21:13.998Z"
      },
      {
        "duration": 472,
        "start_time": "2022-06-23T12:21:45.476Z"
      },
      {
        "duration": 22,
        "start_time": "2022-06-23T12:22:14.791Z"
      },
      {
        "duration": 11,
        "start_time": "2022-06-23T12:22:29.082Z"
      },
      {
        "duration": 335,
        "start_time": "2022-06-23T12:22:35.435Z"
      },
      {
        "duration": 352,
        "start_time": "2022-06-23T12:23:52.393Z"
      },
      {
        "duration": 363,
        "start_time": "2022-06-23T12:26:08.494Z"
      },
      {
        "duration": 346,
        "start_time": "2022-06-23T12:26:21.787Z"
      },
      {
        "duration": 332,
        "start_time": "2022-06-23T12:26:26.066Z"
      },
      {
        "duration": 69,
        "start_time": "2022-06-23T12:28:15.726Z"
      },
      {
        "duration": 54,
        "start_time": "2022-06-23T12:30:15.616Z"
      },
      {
        "duration": 21,
        "start_time": "2022-06-23T12:32:05.040Z"
      },
      {
        "duration": 60,
        "start_time": "2022-06-23T12:38:15.985Z"
      },
      {
        "duration": 58,
        "start_time": "2022-06-23T12:38:38.134Z"
      },
      {
        "duration": 16,
        "start_time": "2022-06-23T12:39:05.293Z"
      },
      {
        "duration": 55,
        "start_time": "2022-06-23T12:39:17.020Z"
      },
      {
        "duration": 63,
        "start_time": "2022-06-23T12:39:33.427Z"
      },
      {
        "duration": 57,
        "start_time": "2022-06-23T12:39:59.635Z"
      },
      {
        "duration": 59,
        "start_time": "2022-06-23T12:40:21.883Z"
      },
      {
        "duration": 160,
        "start_time": "2022-06-23T12:40:41.582Z"
      },
      {
        "duration": 47,
        "start_time": "2022-06-23T12:41:13.445Z"
      },
      {
        "duration": 29,
        "start_time": "2022-06-23T12:41:45.192Z"
      },
      {
        "duration": 13,
        "start_time": "2022-06-23T12:41:57.635Z"
      },
      {
        "duration": 335,
        "start_time": "2022-06-23T12:42:08.910Z"
      },
      {
        "duration": 19,
        "start_time": "2022-06-23T12:46:14.794Z"
      },
      {
        "duration": 28,
        "start_time": "2022-06-23T12:48:47.239Z"
      },
      {
        "duration": 27,
        "start_time": "2022-06-23T12:49:08.374Z"
      },
      {
        "duration": 20,
        "start_time": "2022-06-23T12:50:08.090Z"
      },
      {
        "duration": 20,
        "start_time": "2022-06-23T12:50:25.594Z"
      },
      {
        "duration": 25,
        "start_time": "2022-06-23T12:51:45.006Z"
      },
      {
        "duration": 24,
        "start_time": "2022-06-23T12:52:04.520Z"
      },
      {
        "duration": 1319,
        "start_time": "2022-06-23T13:17:46.417Z"
      },
      {
        "duration": 4,
        "start_time": "2022-06-23T13:17:47.738Z"
      },
      {
        "duration": 101,
        "start_time": "2022-06-23T13:17:47.744Z"
      },
      {
        "duration": 7,
        "start_time": "2022-06-23T13:17:47.848Z"
      },
      {
        "duration": 189,
        "start_time": "2022-06-23T13:17:47.857Z"
      },
      {
        "duration": 42,
        "start_time": "2022-06-23T13:17:48.050Z"
      },
      {
        "duration": 26,
        "start_time": "2022-06-23T13:17:48.094Z"
      },
      {
        "duration": 17,
        "start_time": "2022-06-23T13:17:48.128Z"
      },
      {
        "duration": 42,
        "start_time": "2022-06-23T13:17:48.147Z"
      },
      {
        "duration": 6,
        "start_time": "2022-06-23T13:17:48.192Z"
      },
      {
        "duration": 13,
        "start_time": "2022-06-23T13:17:48.200Z"
      },
      {
        "duration": 61,
        "start_time": "2022-06-23T13:17:48.214Z"
      },
      {
        "duration": 1138,
        "start_time": "2022-06-23T13:17:48.278Z"
      },
      {
        "duration": 24,
        "start_time": "2022-06-23T13:17:49.418Z"
      },
      {
        "duration": 521,
        "start_time": "2022-06-23T13:17:49.443Z"
      },
      {
        "duration": 16,
        "start_time": "2022-06-23T13:17:49.966Z"
      },
      {
        "duration": 53,
        "start_time": "2022-06-23T13:17:49.984Z"
      },
      {
        "duration": 34,
        "start_time": "2022-06-23T13:17:50.039Z"
      },
      {
        "duration": 135,
        "start_time": "2022-06-23T13:17:50.075Z"
      },
      {
        "duration": 100,
        "start_time": "2022-06-23T13:17:50.212Z"
      },
      {
        "duration": 37,
        "start_time": "2022-06-23T13:17:50.327Z"
      },
      {
        "duration": 399,
        "start_time": "2022-06-23T13:17:50.367Z"
      },
      {
        "duration": 102,
        "start_time": "2022-06-23T13:17:50.768Z"
      },
      {
        "duration": 80,
        "start_time": "2022-06-23T13:29:26.988Z"
      },
      {
        "duration": 18,
        "start_time": "2022-06-23T13:29:34.079Z"
      },
      {
        "duration": 22,
        "start_time": "2022-06-23T13:29:49.355Z"
      },
      {
        "duration": 544,
        "start_time": "2022-06-23T13:30:04.846Z"
      },
      {
        "duration": 17,
        "start_time": "2022-06-23T13:30:14.519Z"
      },
      {
        "duration": 13,
        "start_time": "2022-06-23T13:32:52.818Z"
      },
      {
        "duration": 16,
        "start_time": "2022-06-23T13:37:36.303Z"
      },
      {
        "duration": 18,
        "start_time": "2022-06-23T13:38:05.988Z"
      },
      {
        "duration": 25,
        "start_time": "2022-06-23T13:41:10.457Z"
      },
      {
        "duration": 14,
        "start_time": "2022-06-23T13:41:18.099Z"
      },
      {
        "duration": 18,
        "start_time": "2022-06-23T13:41:44.058Z"
      },
      {
        "duration": 15,
        "start_time": "2022-06-23T13:41:55.102Z"
      },
      {
        "duration": 36,
        "start_time": "2022-06-23T13:42:05.506Z"
      },
      {
        "duration": 276,
        "start_time": "2022-06-23T13:47:54.565Z"
      },
      {
        "duration": 89,
        "start_time": "2022-06-23T13:50:47.725Z"
      },
      {
        "duration": 6,
        "start_time": "2022-06-23T14:06:42.313Z"
      },
      {
        "duration": 23,
        "start_time": "2022-06-23T14:11:02.818Z"
      },
      {
        "duration": 21,
        "start_time": "2022-06-23T14:12:38.232Z"
      },
      {
        "duration": 102,
        "start_time": "2022-06-23T14:13:28.868Z"
      },
      {
        "duration": 24,
        "start_time": "2022-06-23T14:13:37.081Z"
      },
      {
        "duration": 22,
        "start_time": "2022-06-23T14:13:48.587Z"
      },
      {
        "duration": 82,
        "start_time": "2022-06-23T14:13:55.218Z"
      },
      {
        "duration": 26,
        "start_time": "2022-06-23T14:14:01.542Z"
      },
      {
        "duration": 18,
        "start_time": "2022-06-23T14:15:26.883Z"
      },
      {
        "duration": 6,
        "start_time": "2022-06-23T14:16:17.243Z"
      },
      {
        "duration": 7,
        "start_time": "2022-06-23T14:18:52.305Z"
      },
      {
        "duration": 7,
        "start_time": "2022-06-23T14:20:26.068Z"
      },
      {
        "duration": 4,
        "start_time": "2022-06-23T14:20:53.776Z"
      },
      {
        "duration": 18,
        "start_time": "2022-06-23T14:24:46.849Z"
      },
      {
        "duration": 10,
        "start_time": "2022-06-23T14:26:39.653Z"
      },
      {
        "duration": 5,
        "start_time": "2022-06-23T14:26:40.695Z"
      },
      {
        "duration": 11,
        "start_time": "2022-06-23T14:27:15.651Z"
      },
      {
        "duration": 4,
        "start_time": "2022-06-23T14:27:16.307Z"
      },
      {
        "duration": 1431,
        "start_time": "2022-06-23T14:37:46.585Z"
      },
      {
        "duration": 3,
        "start_time": "2022-06-23T14:37:48.507Z"
      },
      {
        "duration": 75,
        "start_time": "2022-06-23T14:37:48.941Z"
      },
      {
        "duration": 6,
        "start_time": "2022-06-23T14:37:49.385Z"
      },
      {
        "duration": 136,
        "start_time": "2022-06-23T14:37:49.809Z"
      },
      {
        "duration": 39,
        "start_time": "2022-06-23T14:37:51.139Z"
      },
      {
        "duration": 26,
        "start_time": "2022-06-23T14:37:52.030Z"
      },
      {
        "duration": 5,
        "start_time": "2022-06-23T14:37:52.470Z"
      },
      {
        "duration": 26,
        "start_time": "2022-06-23T14:37:52.885Z"
      },
      {
        "duration": 5,
        "start_time": "2022-06-23T14:37:53.344Z"
      },
      {
        "duration": 6,
        "start_time": "2022-06-23T14:37:53.788Z"
      },
      {
        "duration": 53,
        "start_time": "2022-06-23T14:37:54.241Z"
      },
      {
        "duration": 1054,
        "start_time": "2022-06-23T14:37:54.645Z"
      },
      {
        "duration": 17,
        "start_time": "2022-06-23T14:37:56.392Z"
      },
      {
        "duration": 508,
        "start_time": "2022-06-23T14:37:56.815Z"
      },
      {
        "duration": 12,
        "start_time": "2022-06-23T14:37:58.084Z"
      },
      {
        "duration": 16,
        "start_time": "2022-06-23T14:37:58.509Z"
      },
      {
        "duration": 29,
        "start_time": "2022-06-23T14:37:59.888Z"
      },
      {
        "duration": 84,
        "start_time": "2022-06-23T14:38:00.355Z"
      },
      {
        "duration": 90,
        "start_time": "2022-06-23T14:38:00.809Z"
      },
      {
        "duration": 28,
        "start_time": "2022-06-23T14:38:02.121Z"
      },
      {
        "duration": 355,
        "start_time": "2022-06-23T14:38:02.600Z"
      },
      {
        "duration": 75,
        "start_time": "2022-06-23T14:38:03.013Z"
      },
      {
        "duration": 21,
        "start_time": "2022-06-23T14:38:05.224Z"
      },
      {
        "duration": 113,
        "start_time": "2022-06-23T14:38:06.627Z"
      },
      {
        "duration": 12,
        "start_time": "2022-06-23T14:38:18.058Z"
      },
      {
        "duration": 22,
        "start_time": "2022-06-23T14:38:19.012Z"
      },
      {
        "duration": 4,
        "start_time": "2022-06-23T14:39:10.541Z"
      },
      {
        "duration": 180,
        "start_time": "2022-06-23T14:41:42.227Z"
      },
      {
        "duration": 19,
        "start_time": "2022-06-23T14:41:56.890Z"
      },
      {
        "duration": 18,
        "start_time": "2022-06-23T14:42:07.295Z"
      },
      {
        "duration": 1040,
        "start_time": "2022-06-23T14:43:06.545Z"
      },
      {
        "duration": 968,
        "start_time": "2022-06-23T14:44:05.642Z"
      },
      {
        "duration": 71,
        "start_time": "2022-06-23T14:44:32.874Z"
      },
      {
        "duration": 22,
        "start_time": "2022-06-23T14:44:43.642Z"
      },
      {
        "duration": 43,
        "start_time": "2022-06-23T14:44:55.009Z"
      },
      {
        "duration": 18,
        "start_time": "2022-06-23T14:45:42.960Z"
      },
      {
        "duration": 62,
        "start_time": "2022-06-23T14:46:36.193Z"
      },
      {
        "duration": 30,
        "start_time": "2022-06-23T14:46:53.248Z"
      },
      {
        "duration": 18,
        "start_time": "2022-06-23T14:47:03.741Z"
      },
      {
        "duration": 18,
        "start_time": "2022-06-23T14:47:13.397Z"
      },
      {
        "duration": 4,
        "start_time": "2022-06-23T14:47:40.091Z"
      },
      {
        "duration": 28,
        "start_time": "2022-06-23T14:47:53.073Z"
      },
      {
        "duration": 24,
        "start_time": "2022-06-23T14:48:10.065Z"
      },
      {
        "duration": 24,
        "start_time": "2022-06-23T14:49:17.959Z"
      },
      {
        "duration": 6,
        "start_time": "2022-06-23T14:50:04.488Z"
      },
      {
        "duration": 5,
        "start_time": "2022-06-23T14:52:40.311Z"
      },
      {
        "duration": 1086,
        "start_time": "2022-06-23T14:54:15.592Z"
      },
      {
        "duration": 5,
        "start_time": "2022-06-23T14:57:00.399Z"
      },
      {
        "duration": 6,
        "start_time": "2022-06-23T14:57:02.454Z"
      },
      {
        "duration": 1156,
        "start_time": "2022-06-23T14:57:02.463Z"
      },
      {
        "duration": 30,
        "start_time": "2022-06-23T15:04:13.850Z"
      },
      {
        "duration": 33,
        "start_time": "2022-06-23T15:04:28.742Z"
      },
      {
        "duration": 29,
        "start_time": "2022-06-23T15:07:00.789Z"
      },
      {
        "duration": 39,
        "start_time": "2022-06-23T15:07:14.696Z"
      },
      {
        "duration": 29,
        "start_time": "2022-06-23T15:07:34.688Z"
      },
      {
        "duration": 33,
        "start_time": "2022-06-23T15:07:43.372Z"
      },
      {
        "duration": 6,
        "start_time": "2022-06-23T15:12:21.541Z"
      },
      {
        "duration": 6,
        "start_time": "2022-06-23T15:12:22.368Z"
      },
      {
        "duration": 1046,
        "start_time": "2022-06-23T15:12:23.193Z"
      },
      {
        "duration": 12,
        "start_time": "2022-06-23T15:15:02.749Z"
      },
      {
        "duration": 11,
        "start_time": "2022-06-23T15:15:11.097Z"
      },
      {
        "duration": 5399,
        "start_time": "2022-06-23T15:15:35.868Z"
      },
      {
        "duration": 21,
        "start_time": "2022-06-23T15:15:50.044Z"
      },
      {
        "duration": 1772,
        "start_time": "2022-06-23T15:16:52.698Z"
      },
      {
        "duration": 45,
        "start_time": "2022-06-23T15:17:02.419Z"
      },
      {
        "duration": 7,
        "start_time": "2022-06-23T15:25:07.830Z"
      },
      {
        "duration": 51,
        "start_time": "2022-06-23T15:25:22.734Z"
      },
      {
        "duration": 0,
        "start_time": "2022-06-23T15:25:22.787Z"
      },
      {
        "duration": 0,
        "start_time": "2022-06-23T15:25:22.788Z"
      },
      {
        "duration": 0,
        "start_time": "2022-06-23T15:25:22.789Z"
      },
      {
        "duration": 0,
        "start_time": "2022-06-23T15:25:22.791Z"
      },
      {
        "duration": 0,
        "start_time": "2022-06-23T15:25:22.792Z"
      },
      {
        "duration": 0,
        "start_time": "2022-06-23T15:25:22.793Z"
      },
      {
        "duration": 0,
        "start_time": "2022-06-23T15:25:22.794Z"
      },
      {
        "duration": 0,
        "start_time": "2022-06-23T15:25:22.795Z"
      },
      {
        "duration": 0,
        "start_time": "2022-06-23T15:25:22.797Z"
      },
      {
        "duration": 0,
        "start_time": "2022-06-23T15:25:22.798Z"
      },
      {
        "duration": 0,
        "start_time": "2022-06-23T15:25:22.800Z"
      },
      {
        "duration": 0,
        "start_time": "2022-06-23T15:25:22.801Z"
      },
      {
        "duration": 0,
        "start_time": "2022-06-23T15:25:22.826Z"
      },
      {
        "duration": 0,
        "start_time": "2022-06-23T15:25:22.828Z"
      },
      {
        "duration": 0,
        "start_time": "2022-06-23T15:25:22.829Z"
      },
      {
        "duration": 0,
        "start_time": "2022-06-23T15:25:22.830Z"
      },
      {
        "duration": 0,
        "start_time": "2022-06-23T15:25:22.831Z"
      },
      {
        "duration": 0,
        "start_time": "2022-06-23T15:25:22.832Z"
      },
      {
        "duration": 0,
        "start_time": "2022-06-23T15:25:22.833Z"
      },
      {
        "duration": 8,
        "start_time": "2022-06-23T15:25:22.836Z"
      },
      {
        "duration": 0,
        "start_time": "2022-06-23T15:25:22.845Z"
      },
      {
        "duration": 0,
        "start_time": "2022-06-23T15:25:22.846Z"
      },
      {
        "duration": 0,
        "start_time": "2022-06-23T15:25:22.847Z"
      },
      {
        "duration": 0,
        "start_time": "2022-06-23T15:25:22.848Z"
      },
      {
        "duration": 0,
        "start_time": "2022-06-23T15:25:22.849Z"
      },
      {
        "duration": 7,
        "start_time": "2022-06-23T15:25:25.929Z"
      },
      {
        "duration": 1216,
        "start_time": "2022-06-23T15:26:15.854Z"
      },
      {
        "duration": 1233,
        "start_time": "2022-06-23T15:26:25.415Z"
      },
      {
        "duration": 103,
        "start_time": "2022-06-23T15:26:26.650Z"
      },
      {
        "duration": 0,
        "start_time": "2022-06-23T15:26:26.756Z"
      },
      {
        "duration": 0,
        "start_time": "2022-06-23T15:26:26.757Z"
      },
      {
        "duration": 0,
        "start_time": "2022-06-23T15:26:26.758Z"
      },
      {
        "duration": 0,
        "start_time": "2022-06-23T15:26:26.759Z"
      },
      {
        "duration": 0,
        "start_time": "2022-06-23T15:26:26.760Z"
      },
      {
        "duration": 0,
        "start_time": "2022-06-23T15:26:26.761Z"
      },
      {
        "duration": 0,
        "start_time": "2022-06-23T15:26:26.762Z"
      },
      {
        "duration": 0,
        "start_time": "2022-06-23T15:26:26.763Z"
      },
      {
        "duration": 0,
        "start_time": "2022-06-23T15:26:26.764Z"
      },
      {
        "duration": 0,
        "start_time": "2022-06-23T15:26:26.765Z"
      },
      {
        "duration": 0,
        "start_time": "2022-06-23T15:26:26.766Z"
      },
      {
        "duration": 0,
        "start_time": "2022-06-23T15:26:26.767Z"
      },
      {
        "duration": 0,
        "start_time": "2022-06-23T15:26:26.768Z"
      },
      {
        "duration": 0,
        "start_time": "2022-06-23T15:26:26.769Z"
      },
      {
        "duration": 0,
        "start_time": "2022-06-23T15:26:26.769Z"
      },
      {
        "duration": 0,
        "start_time": "2022-06-23T15:26:26.770Z"
      },
      {
        "duration": 0,
        "start_time": "2022-06-23T15:26:26.771Z"
      },
      {
        "duration": 0,
        "start_time": "2022-06-23T15:26:26.772Z"
      },
      {
        "duration": 0,
        "start_time": "2022-06-23T15:26:26.773Z"
      },
      {
        "duration": 0,
        "start_time": "2022-06-23T15:26:26.774Z"
      },
      {
        "duration": 0,
        "start_time": "2022-06-23T15:26:26.775Z"
      },
      {
        "duration": 0,
        "start_time": "2022-06-23T15:26:26.776Z"
      },
      {
        "duration": 0,
        "start_time": "2022-06-23T15:26:26.777Z"
      },
      {
        "duration": 0,
        "start_time": "2022-06-23T15:26:26.778Z"
      },
      {
        "duration": 0,
        "start_time": "2022-06-23T15:26:26.779Z"
      },
      {
        "duration": 3,
        "start_time": "2022-06-23T15:26:33.085Z"
      },
      {
        "duration": 9,
        "start_time": "2022-06-23T15:26:33.889Z"
      },
      {
        "duration": 4,
        "start_time": "2022-06-23T15:26:59.453Z"
      },
      {
        "duration": 3,
        "start_time": "2022-06-23T15:27:00.409Z"
      },
      {
        "duration": 69,
        "start_time": "2022-06-23T15:27:01.621Z"
      },
      {
        "duration": 7,
        "start_time": "2022-06-23T15:27:02.288Z"
      },
      {
        "duration": 107,
        "start_time": "2022-06-23T15:27:02.809Z"
      },
      {
        "duration": 45,
        "start_time": "2022-06-23T15:27:04.368Z"
      },
      {
        "duration": 21,
        "start_time": "2022-06-23T15:27:05.289Z"
      },
      {
        "duration": 5,
        "start_time": "2022-06-23T15:27:05.747Z"
      },
      {
        "duration": 15,
        "start_time": "2022-06-23T15:27:09.550Z"
      },
      {
        "duration": 6,
        "start_time": "2022-06-23T15:27:09.967Z"
      },
      {
        "duration": 25,
        "start_time": "2022-06-23T15:27:10.389Z"
      },
      {
        "duration": 5,
        "start_time": "2022-06-23T15:27:10.790Z"
      },
      {
        "duration": 6,
        "start_time": "2022-06-23T15:27:11.219Z"
      },
      {
        "duration": 50,
        "start_time": "2022-06-23T15:27:11.610Z"
      },
      {
        "duration": 11,
        "start_time": "2022-06-23T15:27:11.953Z"
      },
      {
        "duration": 1214,
        "start_time": "2022-06-23T15:27:55.385Z"
      },
      {
        "duration": 3,
        "start_time": "2022-06-23T15:27:56.601Z"
      },
      {
        "duration": 98,
        "start_time": "2022-06-23T15:27:56.605Z"
      },
      {
        "duration": 6,
        "start_time": "2022-06-23T15:27:56.705Z"
      },
      {
        "duration": 124,
        "start_time": "2022-06-23T15:27:56.713Z"
      },
      {
        "duration": 28,
        "start_time": "2022-06-23T15:27:56.839Z"
      },
      {
        "duration": 39,
        "start_time": "2022-06-23T15:27:56.868Z"
      },
      {
        "duration": 5,
        "start_time": "2022-06-23T15:27:56.908Z"
      },
      {
        "duration": 38,
        "start_time": "2022-06-23T15:27:56.915Z"
      },
      {
        "duration": 5,
        "start_time": "2022-06-23T15:27:56.954Z"
      },
      {
        "duration": 9,
        "start_time": "2022-06-23T15:27:56.961Z"
      },
      {
        "duration": 63,
        "start_time": "2022-06-23T15:27:56.971Z"
      },
      {
        "duration": 1452,
        "start_time": "2022-06-23T15:27:57.036Z"
      },
      {
        "duration": 16,
        "start_time": "2022-06-23T15:27:58.492Z"
      },
      {
        "duration": 456,
        "start_time": "2022-06-23T15:27:58.510Z"
      },
      {
        "duration": 13,
        "start_time": "2022-06-23T15:27:58.968Z"
      },
      {
        "duration": 17,
        "start_time": "2022-06-23T15:27:58.983Z"
      },
      {
        "duration": 58,
        "start_time": "2022-06-23T15:27:59.002Z"
      },
      {
        "duration": 133,
        "start_time": "2022-06-23T15:27:59.061Z"
      },
      {
        "duration": 100,
        "start_time": "2022-06-23T15:27:59.196Z"
      },
      {
        "duration": 43,
        "start_time": "2022-06-23T15:27:59.298Z"
      },
      {
        "duration": 329,
        "start_time": "2022-06-23T15:27:59.343Z"
      },
      {
        "duration": 86,
        "start_time": "2022-06-23T15:27:59.674Z"
      },
      {
        "duration": 17,
        "start_time": "2022-06-23T15:27:59.762Z"
      },
      {
        "duration": 108,
        "start_time": "2022-06-23T15:27:59.781Z"
      },
      {
        "duration": 46,
        "start_time": "2022-06-23T15:27:59.891Z"
      },
      {
        "duration": 91,
        "start_time": "2022-06-23T15:27:59.938Z"
      },
      {
        "duration": 4,
        "start_time": "2022-06-23T15:28:04.386Z"
      },
      {
        "duration": 2,
        "start_time": "2022-06-23T15:28:04.795Z"
      },
      {
        "duration": 74,
        "start_time": "2022-06-23T15:28:05.185Z"
      },
      {
        "duration": 7,
        "start_time": "2022-06-23T15:28:05.545Z"
      },
      {
        "duration": 70,
        "start_time": "2022-06-23T15:28:05.947Z"
      },
      {
        "duration": 32,
        "start_time": "2022-06-23T15:28:07.175Z"
      },
      {
        "duration": 20,
        "start_time": "2022-06-23T15:28:07.583Z"
      },
      {
        "duration": 5,
        "start_time": "2022-06-23T15:28:08.031Z"
      },
      {
        "duration": 25,
        "start_time": "2022-06-23T15:28:08.471Z"
      },
      {
        "duration": 5,
        "start_time": "2022-06-23T15:28:08.873Z"
      },
      {
        "duration": 7,
        "start_time": "2022-06-23T15:28:09.261Z"
      },
      {
        "duration": 45,
        "start_time": "2022-06-23T15:28:09.713Z"
      },
      {
        "duration": 1052,
        "start_time": "2022-06-23T15:28:10.087Z"
      },
      {
        "duration": 15,
        "start_time": "2022-06-23T15:28:11.886Z"
      },
      {
        "duration": 75,
        "start_time": "2022-06-23T15:28:16.076Z"
      },
      {
        "duration": 11,
        "start_time": "2022-06-23T15:28:17.751Z"
      },
      {
        "duration": 14,
        "start_time": "2022-06-23T15:28:18.187Z"
      },
      {
        "duration": 25,
        "start_time": "2022-06-23T15:28:19.589Z"
      },
      {
        "duration": 82,
        "start_time": "2022-06-23T15:28:20.328Z"
      },
      {
        "duration": 74,
        "start_time": "2022-06-23T15:28:20.895Z"
      },
      {
        "duration": 21,
        "start_time": "2022-06-23T15:28:22.971Z"
      },
      {
        "duration": 332,
        "start_time": "2022-06-23T15:28:23.526Z"
      },
      {
        "duration": 69,
        "start_time": "2022-06-23T15:28:24.243Z"
      },
      {
        "duration": 15,
        "start_time": "2022-06-23T15:28:29.615Z"
      },
      {
        "duration": 181,
        "start_time": "2022-06-23T15:28:30.371Z"
      },
      {
        "duration": 33,
        "start_time": "2022-06-23T15:28:32.876Z"
      },
      {
        "duration": 81,
        "start_time": "2022-06-23T15:28:35.749Z"
      },
      {
        "duration": 93,
        "start_time": "2022-06-23T15:29:20.556Z"
      },
      {
        "duration": 84,
        "start_time": "2022-06-23T15:29:55.125Z"
      },
      {
        "duration": 80,
        "start_time": "2022-06-23T15:30:09.470Z"
      },
      {
        "duration": 146,
        "start_time": "2022-06-23T15:34:53.089Z"
      },
      {
        "duration": 17,
        "start_time": "2022-06-23T15:36:19.598Z"
      },
      {
        "duration": 91,
        "start_time": "2022-06-23T15:36:22.019Z"
      },
      {
        "duration": 20,
        "start_time": "2022-06-23T15:36:38.305Z"
      },
      {
        "duration": 93,
        "start_time": "2022-06-23T15:36:41.242Z"
      },
      {
        "duration": 108,
        "start_time": "2022-06-23T15:40:15.039Z"
      },
      {
        "duration": 24,
        "start_time": "2022-06-23T15:40:22.925Z"
      },
      {
        "duration": 82,
        "start_time": "2022-06-23T15:40:23.967Z"
      },
      {
        "duration": 19,
        "start_time": "2022-06-23T15:40:41.542Z"
      },
      {
        "duration": 81,
        "start_time": "2022-06-23T15:40:42.100Z"
      },
      {
        "duration": 18,
        "start_time": "2022-06-23T15:41:01.699Z"
      },
      {
        "duration": 86,
        "start_time": "2022-06-23T15:41:02.391Z"
      },
      {
        "duration": 23,
        "start_time": "2022-06-23T15:42:23.431Z"
      },
      {
        "duration": 91,
        "start_time": "2022-06-23T15:42:24.120Z"
      },
      {
        "duration": 16,
        "start_time": "2022-06-23T15:42:44.765Z"
      },
      {
        "duration": 83,
        "start_time": "2022-06-23T15:42:45.351Z"
      },
      {
        "duration": 17,
        "start_time": "2022-06-23T15:43:02.604Z"
      },
      {
        "duration": 84,
        "start_time": "2022-06-23T15:43:03.209Z"
      },
      {
        "duration": 16,
        "start_time": "2022-06-23T15:43:21.866Z"
      },
      {
        "duration": 101,
        "start_time": "2022-06-23T15:43:22.366Z"
      },
      {
        "duration": 21,
        "start_time": "2022-06-23T15:43:32.696Z"
      },
      {
        "duration": 101,
        "start_time": "2022-06-23T15:43:33.298Z"
      },
      {
        "duration": 16,
        "start_time": "2022-06-23T15:43:55.247Z"
      },
      {
        "duration": 103,
        "start_time": "2022-06-23T15:43:55.828Z"
      },
      {
        "duration": 17,
        "start_time": "2022-06-23T15:44:02.648Z"
      },
      {
        "duration": 87,
        "start_time": "2022-06-23T15:44:06.145Z"
      },
      {
        "duration": 16,
        "start_time": "2022-06-23T15:44:36.038Z"
      },
      {
        "duration": 86,
        "start_time": "2022-06-23T15:44:36.496Z"
      },
      {
        "duration": 16,
        "start_time": "2022-06-23T15:44:53.401Z"
      },
      {
        "duration": 86,
        "start_time": "2022-06-23T15:44:53.948Z"
      },
      {
        "duration": 369,
        "start_time": "2022-06-23T15:46:07.531Z"
      },
      {
        "duration": 62,
        "start_time": "2022-06-23T15:46:21.893Z"
      },
      {
        "duration": 84,
        "start_time": "2022-06-23T15:46:39.386Z"
      },
      {
        "duration": 85,
        "start_time": "2022-06-23T15:47:09.409Z"
      },
      {
        "duration": 13,
        "start_time": "2022-06-23T15:47:19.646Z"
      },
      {
        "duration": 79,
        "start_time": "2022-06-23T15:47:38.452Z"
      },
      {
        "duration": 63,
        "start_time": "2022-06-23T15:48:10.483Z"
      },
      {
        "duration": 102,
        "start_time": "2022-06-23T15:48:24.438Z"
      },
      {
        "duration": 212,
        "start_time": "2022-06-23T15:48:42.414Z"
      },
      {
        "duration": 12,
        "start_time": "2022-06-23T15:49:11.098Z"
      },
      {
        "duration": 43,
        "start_time": "2022-06-23T15:51:00.294Z"
      },
      {
        "duration": 99,
        "start_time": "2022-06-23T15:51:07.113Z"
      },
      {
        "duration": 187,
        "start_time": "2022-06-23T15:53:55.614Z"
      },
      {
        "duration": 8,
        "start_time": "2022-06-23T15:54:10.575Z"
      },
      {
        "duration": 21,
        "start_time": "2022-06-23T15:54:17.297Z"
      },
      {
        "duration": 19,
        "start_time": "2022-06-23T15:59:49.388Z"
      },
      {
        "duration": 68,
        "start_time": "2022-06-23T16:00:47.203Z"
      },
      {
        "duration": 338,
        "start_time": "2022-06-23T16:00:54.952Z"
      },
      {
        "duration": 363,
        "start_time": "2022-06-23T16:01:50.297Z"
      },
      {
        "duration": 169,
        "start_time": "2022-06-23T16:24:51.949Z"
      },
      {
        "duration": 3790,
        "start_time": "2022-06-23T16:54:19.382Z"
      },
      {
        "duration": 241,
        "start_time": "2022-06-23T16:54:43.546Z"
      },
      {
        "duration": 9,
        "start_time": "2022-06-23T16:56:03.182Z"
      },
      {
        "duration": 13,
        "start_time": "2022-06-23T16:57:47.157Z"
      },
      {
        "duration": 7,
        "start_time": "2022-06-23T17:00:30.009Z"
      },
      {
        "duration": 6,
        "start_time": "2022-06-23T17:01:33.353Z"
      },
      {
        "duration": 952,
        "start_time": "2022-06-23T17:01:56.013Z"
      },
      {
        "duration": 53,
        "start_time": "2022-06-23T17:03:46.563Z"
      },
      {
        "duration": 12,
        "start_time": "2022-06-23T17:04:00.253Z"
      },
      {
        "duration": 9,
        "start_time": "2022-06-23T17:05:55.158Z"
      },
      {
        "duration": 6,
        "start_time": "2022-06-23T17:05:56.343Z"
      },
      {
        "duration": 1091,
        "start_time": "2022-06-23T17:05:57.198Z"
      },
      {
        "duration": 6,
        "start_time": "2022-06-23T17:06:21.570Z"
      },
      {
        "duration": 5,
        "start_time": "2022-06-23T17:06:22.443Z"
      },
      {
        "duration": 1358,
        "start_time": "2022-06-23T17:06:23.026Z"
      },
      {
        "duration": 8,
        "start_time": "2022-06-23T17:08:13.942Z"
      },
      {
        "duration": 5,
        "start_time": "2022-06-23T17:08:15.341Z"
      },
      {
        "duration": 1403,
        "start_time": "2022-06-23T17:08:15.806Z"
      },
      {
        "duration": 7,
        "start_time": "2022-06-23T17:09:02.773Z"
      },
      {
        "duration": 6,
        "start_time": "2022-06-23T17:09:03.436Z"
      },
      {
        "duration": 144,
        "start_time": "2022-06-23T17:09:03.891Z"
      },
      {
        "duration": 6,
        "start_time": "2022-06-23T17:13:15.795Z"
      },
      {
        "duration": 6,
        "start_time": "2022-06-23T17:13:16.285Z"
      },
      {
        "duration": 1054,
        "start_time": "2022-06-23T17:13:16.755Z"
      },
      {
        "duration": 6,
        "start_time": "2022-06-23T17:13:24.110Z"
      },
      {
        "duration": 5,
        "start_time": "2022-06-23T17:13:24.600Z"
      },
      {
        "duration": 1229,
        "start_time": "2022-06-23T17:13:24.983Z"
      },
      {
        "duration": 13,
        "start_time": "2022-06-23T17:14:28.653Z"
      },
      {
        "duration": 15,
        "start_time": "2022-06-23T17:14:29.426Z"
      },
      {
        "duration": 5,
        "start_time": "2022-06-23T17:14:37.481Z"
      },
      {
        "duration": 99,
        "start_time": "2022-06-23T17:14:38.201Z"
      },
      {
        "duration": 7,
        "start_time": "2022-06-23T17:15:16.213Z"
      },
      {
        "duration": 11,
        "start_time": "2022-06-23T17:15:16.747Z"
      },
      {
        "duration": 61,
        "start_time": "2022-06-23T17:15:17.251Z"
      },
      {
        "duration": 18,
        "start_time": "2022-06-23T17:26:38.055Z"
      },
      {
        "duration": 21,
        "start_time": "2022-06-23T17:29:26.264Z"
      },
      {
        "duration": 17,
        "start_time": "2022-06-23T17:29:34.155Z"
      },
      {
        "duration": 10,
        "start_time": "2022-06-23T17:36:10.503Z"
      },
      {
        "duration": 15,
        "start_time": "2022-06-23T17:36:32.257Z"
      },
      {
        "duration": 196,
        "start_time": "2022-06-23T17:37:47.014Z"
      },
      {
        "duration": 174,
        "start_time": "2022-06-23T17:43:02.524Z"
      },
      {
        "duration": 15,
        "start_time": "2022-06-23T17:43:43.207Z"
      },
      {
        "duration": 164,
        "start_time": "2022-06-23T17:43:55.801Z"
      },
      {
        "duration": 185,
        "start_time": "2022-06-23T17:45:47.912Z"
      },
      {
        "duration": 237,
        "start_time": "2022-06-23T17:46:29.323Z"
      },
      {
        "duration": 11,
        "start_time": "2022-06-23T17:47:06.070Z"
      },
      {
        "duration": 194,
        "start_time": "2022-06-23T17:47:06.850Z"
      },
      {
        "duration": 22,
        "start_time": "2022-06-23T17:48:02.349Z"
      },
      {
        "duration": 219,
        "start_time": "2022-06-23T17:48:14.225Z"
      },
      {
        "duration": 202,
        "start_time": "2022-06-23T17:49:23.314Z"
      },
      {
        "duration": 1364,
        "start_time": "2022-06-23T18:20:36.081Z"
      },
      {
        "duration": 202,
        "start_time": "2022-06-23T18:20:37.449Z"
      },
      {
        "duration": 5,
        "start_time": "2022-06-23T18:20:37.653Z"
      },
      {
        "duration": 86,
        "start_time": "2022-06-23T18:20:37.660Z"
      },
      {
        "duration": 8,
        "start_time": "2022-06-23T18:20:37.749Z"
      },
      {
        "duration": 130,
        "start_time": "2022-06-23T18:20:37.759Z"
      },
      {
        "duration": 55,
        "start_time": "2022-06-23T18:20:37.891Z"
      },
      {
        "duration": 22,
        "start_time": "2022-06-23T18:20:37.949Z"
      },
      {
        "duration": 4,
        "start_time": "2022-06-23T18:20:37.974Z"
      },
      {
        "duration": 27,
        "start_time": "2022-06-23T18:20:37.981Z"
      },
      {
        "duration": 11,
        "start_time": "2022-06-23T18:20:38.029Z"
      },
      {
        "duration": 23,
        "start_time": "2022-06-23T18:20:38.042Z"
      },
      {
        "duration": 53,
        "start_time": "2022-06-23T18:20:38.066Z"
      },
      {
        "duration": 1355,
        "start_time": "2022-06-23T18:20:38.120Z"
      },
      {
        "duration": 16,
        "start_time": "2022-06-23T18:20:39.477Z"
      },
      {
        "duration": 375,
        "start_time": "2022-06-23T18:20:39.495Z"
      },
      {
        "duration": 10,
        "start_time": "2022-06-23T18:20:39.872Z"
      },
      {
        "duration": 20,
        "start_time": "2022-06-23T18:20:39.884Z"
      },
      {
        "duration": 41,
        "start_time": "2022-06-23T18:20:39.926Z"
      },
      {
        "duration": 126,
        "start_time": "2022-06-23T18:20:39.969Z"
      },
      {
        "duration": 114,
        "start_time": "2022-06-23T18:20:40.096Z"
      },
      {
        "duration": 39,
        "start_time": "2022-06-23T18:20:40.211Z"
      },
      {
        "duration": 377,
        "start_time": "2022-06-23T18:20:40.252Z"
      },
      {
        "duration": 121,
        "start_time": "2022-06-23T18:20:40.633Z"
      },
      {
        "duration": 17,
        "start_time": "2022-06-23T18:20:40.756Z"
      },
      {
        "duration": 101,
        "start_time": "2022-06-23T18:20:40.775Z"
      },
      {
        "duration": 32,
        "start_time": "2022-06-23T18:20:40.877Z"
      },
      {
        "duration": 110,
        "start_time": "2022-06-23T18:20:40.927Z"
      },
      {
        "duration": 18,
        "start_time": "2022-06-23T18:20:41.050Z"
      },
      {
        "duration": 196,
        "start_time": "2022-06-23T18:20:41.070Z"
      },
      {
        "duration": 3,
        "start_time": "2022-06-23T18:20:45.757Z"
      },
      {
        "duration": 17,
        "start_time": "2022-06-23T18:20:46.565Z"
      },
      {
        "duration": 4,
        "start_time": "2022-06-23T18:20:47.092Z"
      },
      {
        "duration": 83,
        "start_time": "2022-06-23T18:20:47.582Z"
      },
      {
        "duration": 9,
        "start_time": "2022-06-23T18:20:48.026Z"
      },
      {
        "duration": 94,
        "start_time": "2022-06-23T18:20:48.443Z"
      },
      {
        "duration": 41,
        "start_time": "2022-06-23T18:20:49.910Z"
      },
      {
        "duration": 24,
        "start_time": "2022-06-23T18:20:50.387Z"
      },
      {
        "duration": 6,
        "start_time": "2022-06-23T18:20:50.873Z"
      },
      {
        "duration": 27,
        "start_time": "2022-06-23T18:20:51.346Z"
      },
      {
        "duration": 6,
        "start_time": "2022-06-23T18:20:51.798Z"
      },
      {
        "duration": 8,
        "start_time": "2022-06-23T18:20:52.276Z"
      },
      {
        "duration": 64,
        "start_time": "2022-06-23T18:20:52.720Z"
      },
      {
        "duration": 829,
        "start_time": "2022-06-23T18:20:53.154Z"
      },
      {
        "duration": 21,
        "start_time": "2022-06-23T18:20:55.413Z"
      },
      {
        "duration": 77,
        "start_time": "2022-06-23T18:20:56.246Z"
      },
      {
        "duration": 13,
        "start_time": "2022-06-23T18:20:57.715Z"
      },
      {
        "duration": 13,
        "start_time": "2022-06-23T18:20:58.104Z"
      },
      {
        "duration": 26,
        "start_time": "2022-06-23T18:20:59.253Z"
      },
      {
        "duration": 81,
        "start_time": "2022-06-23T18:20:59.685Z"
      },
      {
        "duration": 205,
        "start_time": "2022-06-23T18:21:00.101Z"
      },
      {
        "duration": 23,
        "start_time": "2022-06-23T18:21:01.269Z"
      },
      {
        "duration": 367,
        "start_time": "2022-06-23T18:21:01.706Z"
      },
      {
        "duration": 56,
        "start_time": "2022-06-23T18:21:02.169Z"
      },
      {
        "duration": 16,
        "start_time": "2022-06-23T18:21:03.680Z"
      },
      {
        "duration": 98,
        "start_time": "2022-06-23T18:21:04.157Z"
      },
      {
        "duration": 32,
        "start_time": "2022-06-23T18:21:05.687Z"
      },
      {
        "duration": 90,
        "start_time": "2022-06-23T18:21:06.246Z"
      },
      {
        "duration": 17,
        "start_time": "2022-06-23T18:21:06.966Z"
      },
      {
        "duration": 179,
        "start_time": "2022-06-23T18:21:07.748Z"
      },
      {
        "duration": 229,
        "start_time": "2022-06-23T18:27:06.750Z"
      },
      {
        "duration": 26,
        "start_time": "2022-06-23T18:27:23.442Z"
      },
      {
        "duration": 28,
        "start_time": "2022-06-23T18:28:17.629Z"
      },
      {
        "duration": 1957,
        "start_time": "2022-06-23T18:28:47.266Z"
      },
      {
        "duration": 408,
        "start_time": "2022-06-23T18:29:00.672Z"
      },
      {
        "duration": 384,
        "start_time": "2022-06-23T18:29:44.810Z"
      },
      {
        "duration": 496,
        "start_time": "2022-06-23T18:31:07.852Z"
      },
      {
        "duration": 615,
        "start_time": "2022-06-23T18:31:48.870Z"
      },
      {
        "duration": 88,
        "start_time": "2022-06-23T18:33:49.065Z"
      },
      {
        "duration": 460,
        "start_time": "2022-06-23T18:34:19.825Z"
      },
      {
        "duration": 512,
        "start_time": "2022-06-23T18:34:55.586Z"
      },
      {
        "duration": 437,
        "start_time": "2022-06-23T18:36:16.459Z"
      },
      {
        "duration": 19,
        "start_time": "2022-06-23T18:50:47.425Z"
      },
      {
        "duration": 24,
        "start_time": "2022-06-23T18:51:26.924Z"
      },
      {
        "duration": 9,
        "start_time": "2022-06-23T18:51:38.885Z"
      },
      {
        "duration": 7,
        "start_time": "2022-06-23T18:51:59.003Z"
      },
      {
        "duration": 88,
        "start_time": "2022-06-23T18:52:17.902Z"
      },
      {
        "duration": 7,
        "start_time": "2022-06-23T18:52:28.538Z"
      },
      {
        "duration": 5,
        "start_time": "2022-06-23T18:53:37.103Z"
      },
      {
        "duration": 9,
        "start_time": "2022-06-23T18:54:30.922Z"
      },
      {
        "duration": 907,
        "start_time": "2022-06-23T18:57:17.399Z"
      },
      {
        "duration": 7,
        "start_time": "2022-06-23T18:57:26.621Z"
      },
      {
        "duration": 4,
        "start_time": "2022-06-23T18:57:41.685Z"
      },
      {
        "duration": 16,
        "start_time": "2022-06-23T18:57:42.495Z"
      },
      {
        "duration": 3,
        "start_time": "2022-06-23T18:57:43.096Z"
      },
      {
        "duration": 94,
        "start_time": "2022-06-23T18:57:43.705Z"
      },
      {
        "duration": 6,
        "start_time": "2022-06-23T18:57:44.769Z"
      },
      {
        "duration": 68,
        "start_time": "2022-06-23T18:57:45.330Z"
      },
      {
        "duration": 28,
        "start_time": "2022-06-23T18:57:47.830Z"
      },
      {
        "duration": 31,
        "start_time": "2022-06-23T18:57:48.329Z"
      },
      {
        "duration": 6,
        "start_time": "2022-06-23T18:57:48.767Z"
      },
      {
        "duration": 24,
        "start_time": "2022-06-23T18:57:49.201Z"
      },
      {
        "duration": 6,
        "start_time": "2022-06-23T18:57:49.563Z"
      },
      {
        "duration": 6,
        "start_time": "2022-06-23T18:57:49.925Z"
      },
      {
        "duration": 49,
        "start_time": "2022-06-23T18:57:50.313Z"
      },
      {
        "duration": 1002,
        "start_time": "2022-06-23T18:57:50.708Z"
      },
      {
        "duration": 15,
        "start_time": "2022-06-23T18:57:53.394Z"
      },
      {
        "duration": 76,
        "start_time": "2022-06-23T18:57:54.093Z"
      },
      {
        "duration": 10,
        "start_time": "2022-06-23T18:57:56.161Z"
      },
      {
        "duration": 12,
        "start_time": "2022-06-23T18:57:56.790Z"
      },
      {
        "duration": 25,
        "start_time": "2022-06-23T18:57:58.563Z"
      },
      {
        "duration": 71,
        "start_time": "2022-06-23T18:57:59.094Z"
      },
      {
        "duration": 73,
        "start_time": "2022-06-23T18:57:59.604Z"
      },
      {
        "duration": 23,
        "start_time": "2022-06-23T18:58:01.215Z"
      },
      {
        "duration": 429,
        "start_time": "2022-06-23T18:58:01.760Z"
      },
      {
        "duration": 64,
        "start_time": "2022-06-23T18:58:02.318Z"
      },
      {
        "duration": 17,
        "start_time": "2022-06-23T18:58:05.241Z"
      },
      {
        "duration": 76,
        "start_time": "2022-06-23T18:58:05.851Z"
      },
      {
        "duration": 34,
        "start_time": "2022-06-23T18:58:07.493Z"
      },
      {
        "duration": 187,
        "start_time": "2022-06-23T18:58:07.991Z"
      },
      {
        "duration": 18,
        "start_time": "2022-06-23T18:58:08.451Z"
      },
      {
        "duration": 158,
        "start_time": "2022-06-23T18:58:08.958Z"
      },
      {
        "duration": 8,
        "start_time": "2022-06-23T18:58:12.060Z"
      },
      {
        "duration": 35,
        "start_time": "2022-06-23T19:00:05.013Z"
      },
      {
        "duration": 33,
        "start_time": "2022-06-23T19:00:17.763Z"
      },
      {
        "duration": 84,
        "start_time": "2022-06-23T19:00:51.408Z"
      },
      {
        "duration": 17,
        "start_time": "2022-06-23T19:01:17.888Z"
      },
      {
        "duration": 35,
        "start_time": "2022-06-23T19:01:34.622Z"
      },
      {
        "duration": 77,
        "start_time": "2022-06-23T19:01:35.406Z"
      },
      {
        "duration": 17,
        "start_time": "2022-06-23T19:01:35.955Z"
      },
      {
        "duration": 11,
        "start_time": "2022-06-23T19:01:46.250Z"
      },
      {
        "duration": 6,
        "start_time": "2022-06-23T19:02:05.483Z"
      },
      {
        "duration": 5,
        "start_time": "2022-06-23T19:02:55.452Z"
      },
      {
        "duration": 19,
        "start_time": "2022-06-23T19:04:54.462Z"
      },
      {
        "duration": 18,
        "start_time": "2022-06-23T19:05:13.254Z"
      },
      {
        "duration": 15,
        "start_time": "2022-06-23T19:05:36.025Z"
      },
      {
        "duration": 11,
        "start_time": "2022-06-23T19:05:44.049Z"
      },
      {
        "duration": 17,
        "start_time": "2022-06-23T19:05:56.136Z"
      },
      {
        "duration": 39,
        "start_time": "2022-06-23T19:06:10.206Z"
      },
      {
        "duration": 13,
        "start_time": "2022-06-23T19:06:43.007Z"
      },
      {
        "duration": 78,
        "start_time": "2022-06-23T19:13:36.613Z"
      },
      {
        "duration": 12,
        "start_time": "2022-06-23T19:14:04.965Z"
      },
      {
        "duration": 18,
        "start_time": "2022-06-23T19:14:10.560Z"
      },
      {
        "duration": 58,
        "start_time": "2022-06-23T19:14:11.956Z"
      },
      {
        "duration": 54,
        "start_time": "2022-06-23T19:14:53.330Z"
      },
      {
        "duration": 18,
        "start_time": "2022-06-23T19:14:58.991Z"
      },
      {
        "duration": 51,
        "start_time": "2022-06-23T19:14:59.492Z"
      },
      {
        "duration": 66,
        "start_time": "2022-06-23T19:15:34.308Z"
      },
      {
        "duration": 50,
        "start_time": "2022-06-23T19:15:40.092Z"
      },
      {
        "duration": 53,
        "start_time": "2022-06-23T19:16:12.716Z"
      },
      {
        "duration": 52,
        "start_time": "2022-06-23T19:16:21.313Z"
      },
      {
        "duration": 55,
        "start_time": "2022-06-23T19:16:35.015Z"
      },
      {
        "duration": 26,
        "start_time": "2022-06-23T19:17:58.450Z"
      },
      {
        "duration": 23,
        "start_time": "2022-06-23T19:18:14.715Z"
      },
      {
        "duration": 18,
        "start_time": "2022-06-23T19:18:22.186Z"
      },
      {
        "duration": 14,
        "start_time": "2022-06-23T19:18:42.939Z"
      },
      {
        "duration": 53,
        "start_time": "2022-06-23T19:18:52.487Z"
      },
      {
        "duration": 51,
        "start_time": "2022-06-23T19:19:09.644Z"
      },
      {
        "duration": 94,
        "start_time": "2022-06-23T19:20:03.708Z"
      },
      {
        "duration": 63,
        "start_time": "2022-06-23T19:20:16.508Z"
      },
      {
        "duration": 64,
        "start_time": "2022-06-23T19:20:21.555Z"
      },
      {
        "duration": 57,
        "start_time": "2022-06-23T19:21:11.572Z"
      },
      {
        "duration": 133,
        "start_time": "2022-06-23T19:22:03.460Z"
      },
      {
        "duration": 54,
        "start_time": "2022-06-23T19:22:17.695Z"
      },
      {
        "duration": 60,
        "start_time": "2022-06-23T19:22:29.953Z"
      },
      {
        "duration": 54,
        "start_time": "2022-06-23T19:23:28.666Z"
      },
      {
        "duration": 48,
        "start_time": "2022-06-23T19:23:57.361Z"
      },
      {
        "duration": 54,
        "start_time": "2022-06-23T19:30:07.934Z"
      },
      {
        "duration": 373,
        "start_time": "2022-06-23T19:30:45.312Z"
      },
      {
        "duration": 404,
        "start_time": "2022-06-23T19:31:09.961Z"
      },
      {
        "duration": 336,
        "start_time": "2022-06-23T19:31:28.495Z"
      },
      {
        "duration": 429,
        "start_time": "2022-06-23T19:31:32.815Z"
      },
      {
        "duration": 25,
        "start_time": "2022-06-23T19:32:27.268Z"
      },
      {
        "duration": 18,
        "start_time": "2022-06-23T19:32:34.480Z"
      },
      {
        "duration": 199,
        "start_time": "2022-06-23T19:33:23.162Z"
      },
      {
        "duration": 159,
        "start_time": "2022-06-23T19:33:36.412Z"
      },
      {
        "duration": 1720,
        "start_time": "2022-06-24T16:13:53.619Z"
      },
      {
        "duration": 234,
        "start_time": "2022-06-24T16:13:55.341Z"
      },
      {
        "duration": 3,
        "start_time": "2022-06-24T16:13:55.577Z"
      },
      {
        "duration": 281,
        "start_time": "2022-06-24T16:13:55.582Z"
      },
      {
        "duration": 9,
        "start_time": "2022-06-24T16:13:55.866Z"
      },
      {
        "duration": 188,
        "start_time": "2022-06-24T16:13:55.877Z"
      },
      {
        "duration": 49,
        "start_time": "2022-06-24T16:13:56.067Z"
      },
      {
        "duration": 43,
        "start_time": "2022-06-24T16:13:56.119Z"
      },
      {
        "duration": 7,
        "start_time": "2022-06-24T16:13:56.164Z"
      },
      {
        "duration": 39,
        "start_time": "2022-06-24T16:13:56.174Z"
      },
      {
        "duration": 7,
        "start_time": "2022-06-24T16:13:56.215Z"
      },
      {
        "duration": 33,
        "start_time": "2022-06-24T16:13:56.224Z"
      },
      {
        "duration": 54,
        "start_time": "2022-06-24T16:13:56.258Z"
      },
      {
        "duration": 1105,
        "start_time": "2022-06-24T16:13:56.314Z"
      },
      {
        "duration": 18,
        "start_time": "2022-06-24T16:13:57.421Z"
      },
      {
        "duration": 439,
        "start_time": "2022-06-24T16:13:57.441Z"
      },
      {
        "duration": 13,
        "start_time": "2022-06-24T16:13:57.881Z"
      },
      {
        "duration": 18,
        "start_time": "2022-06-24T16:13:57.896Z"
      },
      {
        "duration": 65,
        "start_time": "2022-06-24T16:13:57.916Z"
      },
      {
        "duration": 185,
        "start_time": "2022-06-24T16:13:57.983Z"
      },
      {
        "duration": 103,
        "start_time": "2022-06-24T16:13:58.170Z"
      },
      {
        "duration": 22,
        "start_time": "2022-06-24T16:13:58.275Z"
      },
      {
        "duration": 432,
        "start_time": "2022-06-24T16:13:58.299Z"
      },
      {
        "duration": 108,
        "start_time": "2022-06-24T16:13:58.733Z"
      },
      {
        "duration": 21,
        "start_time": "2022-06-24T16:13:58.843Z"
      },
      {
        "duration": 70,
        "start_time": "2022-06-24T16:13:58.866Z"
      },
      {
        "duration": 42,
        "start_time": "2022-06-24T16:13:58.951Z"
      },
      {
        "duration": 97,
        "start_time": "2022-06-24T16:13:58.997Z"
      },
      {
        "duration": 21,
        "start_time": "2022-06-24T16:13:59.097Z"
      },
      {
        "duration": 196,
        "start_time": "2022-06-24T16:13:59.120Z"
      },
      {
        "duration": 6,
        "start_time": "2022-06-24T16:13:59.318Z"
      },
      {
        "duration": 38,
        "start_time": "2022-06-24T16:13:59.326Z"
      },
      {
        "duration": 53,
        "start_time": "2022-06-24T16:13:59.366Z"
      },
      {
        "duration": 57,
        "start_time": "2022-06-24T16:14:45.575Z"
      },
      {
        "duration": 4,
        "start_time": "2022-06-24T16:16:56.194Z"
      },
      {
        "duration": 17,
        "start_time": "2022-06-24T16:16:57.095Z"
      },
      {
        "duration": 4,
        "start_time": "2022-06-24T16:16:57.860Z"
      },
      {
        "duration": 68,
        "start_time": "2022-06-24T16:16:58.524Z"
      },
      {
        "duration": 6,
        "start_time": "2022-06-24T16:16:59.203Z"
      },
      {
        "duration": 91,
        "start_time": "2022-06-24T16:16:59.799Z"
      },
      {
        "duration": 32,
        "start_time": "2022-06-24T16:17:01.465Z"
      },
      {
        "duration": 21,
        "start_time": "2022-06-24T16:17:02.106Z"
      },
      {
        "duration": 6,
        "start_time": "2022-06-24T16:17:02.659Z"
      },
      {
        "duration": 32,
        "start_time": "2022-06-24T16:17:03.157Z"
      },
      {
        "duration": 8,
        "start_time": "2022-06-24T16:17:03.692Z"
      },
      {
        "duration": 7,
        "start_time": "2022-06-24T16:17:04.196Z"
      },
      {
        "duration": 52,
        "start_time": "2022-06-24T16:17:04.733Z"
      },
      {
        "duration": 881,
        "start_time": "2022-06-24T16:17:05.280Z"
      },
      {
        "duration": 17,
        "start_time": "2022-06-24T16:17:07.353Z"
      },
      {
        "duration": 98,
        "start_time": "2022-06-24T16:17:07.876Z"
      },
      {
        "duration": 9,
        "start_time": "2022-06-24T16:17:09.529Z"
      },
      {
        "duration": 11,
        "start_time": "2022-06-24T16:17:10.037Z"
      },
      {
        "duration": 25,
        "start_time": "2022-06-24T16:17:11.671Z"
      },
      {
        "duration": 68,
        "start_time": "2022-06-24T16:17:12.244Z"
      },
      {
        "duration": 197,
        "start_time": "2022-06-24T16:17:12.793Z"
      },
      {
        "duration": 25,
        "start_time": "2022-06-24T16:17:14.461Z"
      },
      {
        "duration": 421,
        "start_time": "2022-06-24T16:17:15.033Z"
      },
      {
        "duration": 58,
        "start_time": "2022-06-24T16:17:15.514Z"
      },
      {
        "duration": 65,
        "start_time": "2022-06-24T16:19:12.301Z"
      },
      {
        "duration": 13,
        "start_time": "2022-06-24T16:19:21.968Z"
      },
      {
        "duration": 65,
        "start_time": "2022-06-24T16:19:22.504Z"
      },
      {
        "duration": 44,
        "start_time": "2022-06-24T16:19:24.375Z"
      },
      {
        "duration": 52,
        "start_time": "2022-06-24T16:19:24.890Z"
      },
      {
        "duration": 27,
        "start_time": "2022-06-24T16:19:25.427Z"
      },
      {
        "duration": 158,
        "start_time": "2022-06-24T16:19:25.983Z"
      },
      {
        "duration": 5,
        "start_time": "2022-06-24T16:19:28.610Z"
      },
      {
        "duration": 18,
        "start_time": "2022-06-24T16:19:29.108Z"
      },
      {
        "duration": 53,
        "start_time": "2022-06-24T16:19:29.587Z"
      },
      {
        "duration": 84,
        "start_time": "2022-06-24T17:15:11.490Z"
      },
      {
        "duration": 20,
        "start_time": "2022-06-24T17:20:03.087Z"
      },
      {
        "duration": 63,
        "start_time": "2022-06-24T17:20:48.583Z"
      },
      {
        "duration": 68,
        "start_time": "2022-06-24T17:20:52.189Z"
      },
      {
        "duration": 78,
        "start_time": "2022-06-24T17:28:47.329Z"
      },
      {
        "duration": 67,
        "start_time": "2022-06-24T17:32:55.577Z"
      },
      {
        "duration": 66,
        "start_time": "2022-06-24T17:33:06.682Z"
      },
      {
        "duration": 80,
        "start_time": "2022-06-24T17:33:16.112Z"
      },
      {
        "duration": 79,
        "start_time": "2022-06-24T17:34:22.647Z"
      },
      {
        "duration": 12,
        "start_time": "2022-06-24T17:39:48.107Z"
      },
      {
        "duration": 13,
        "start_time": "2022-06-24T17:40:14.118Z"
      },
      {
        "duration": 163,
        "start_time": "2022-06-24T17:40:28.930Z"
      },
      {
        "duration": 22,
        "start_time": "2022-06-24T17:40:59.970Z"
      },
      {
        "duration": 44,
        "start_time": "2022-06-24T17:43:33.589Z"
      },
      {
        "duration": 44,
        "start_time": "2022-06-24T17:44:17.392Z"
      },
      {
        "duration": 44,
        "start_time": "2022-06-24T17:44:56.381Z"
      },
      {
        "duration": 25,
        "start_time": "2022-06-24T17:47:21.133Z"
      },
      {
        "duration": 4,
        "start_time": "2022-06-24T17:47:53.583Z"
      },
      {
        "duration": 14,
        "start_time": "2022-06-24T17:48:00.406Z"
      },
      {
        "duration": 12,
        "start_time": "2022-06-24T17:49:10.813Z"
      },
      {
        "duration": 13,
        "start_time": "2022-06-24T17:49:26.808Z"
      },
      {
        "duration": 1204,
        "start_time": "2022-06-24T17:50:05.336Z"
      },
      {
        "duration": 13,
        "start_time": "2022-06-24T17:50:22.758Z"
      },
      {
        "duration": 58,
        "start_time": "2022-06-24T17:50:46.944Z"
      },
      {
        "duration": 61,
        "start_time": "2022-06-24T17:51:06.211Z"
      },
      {
        "duration": 46,
        "start_time": "2022-06-24T17:51:49.072Z"
      },
      {
        "duration": 58,
        "start_time": "2022-06-24T17:52:30.033Z"
      },
      {
        "duration": 62,
        "start_time": "2022-06-24T17:52:56.529Z"
      },
      {
        "duration": 16,
        "start_time": "2022-06-24T17:53:07.098Z"
      },
      {
        "duration": 59,
        "start_time": "2022-06-24T17:53:13.441Z"
      },
      {
        "duration": 62,
        "start_time": "2022-06-24T17:53:45.020Z"
      },
      {
        "duration": 66,
        "start_time": "2022-06-24T17:55:28.725Z"
      },
      {
        "duration": 14,
        "start_time": "2022-06-24T17:56:54.941Z"
      },
      {
        "duration": 18,
        "start_time": "2022-06-24T17:56:55.571Z"
      },
      {
        "duration": 44,
        "start_time": "2022-06-24T17:57:02.587Z"
      },
      {
        "duration": 10,
        "start_time": "2022-06-24T18:02:31.796Z"
      },
      {
        "duration": 10,
        "start_time": "2022-06-24T18:02:47.896Z"
      },
      {
        "duration": 10,
        "start_time": "2022-06-24T18:02:51.710Z"
      },
      {
        "duration": 43,
        "start_time": "2022-06-24T18:03:50.593Z"
      },
      {
        "duration": 46,
        "start_time": "2022-06-24T18:04:00.066Z"
      },
      {
        "duration": 44,
        "start_time": "2022-06-24T18:04:13.695Z"
      },
      {
        "duration": 81,
        "start_time": "2022-06-24T18:06:05.212Z"
      },
      {
        "duration": 77,
        "start_time": "2022-06-24T18:06:19.002Z"
      },
      {
        "duration": 131,
        "start_time": "2022-06-24T18:06:52.795Z"
      },
      {
        "duration": 45,
        "start_time": "2022-06-24T18:08:53.072Z"
      },
      {
        "duration": 29,
        "start_time": "2022-06-24T18:17:04.219Z"
      },
      {
        "duration": 12,
        "start_time": "2022-06-24T18:38:21.030Z"
      },
      {
        "duration": 20,
        "start_time": "2022-06-24T18:38:33.085Z"
      },
      {
        "duration": 19,
        "start_time": "2022-06-24T18:38:39.382Z"
      },
      {
        "duration": 17,
        "start_time": "2022-06-24T18:39:05.344Z"
      },
      {
        "duration": 14,
        "start_time": "2022-06-24T18:39:17.987Z"
      },
      {
        "duration": 1529,
        "start_time": "2022-06-25T17:32:33.038Z"
      },
      {
        "duration": 237,
        "start_time": "2022-06-25T17:32:34.572Z"
      },
      {
        "duration": 3,
        "start_time": "2022-06-25T17:32:34.811Z"
      },
      {
        "duration": 560,
        "start_time": "2022-06-25T17:32:34.816Z"
      },
      {
        "duration": 9,
        "start_time": "2022-06-25T17:32:35.379Z"
      },
      {
        "duration": 127,
        "start_time": "2022-06-25T17:32:35.390Z"
      },
      {
        "duration": 46,
        "start_time": "2022-06-25T17:32:35.519Z"
      },
      {
        "duration": 21,
        "start_time": "2022-06-25T17:32:35.566Z"
      },
      {
        "duration": 17,
        "start_time": "2022-06-25T17:32:35.589Z"
      },
      {
        "duration": 41,
        "start_time": "2022-06-25T17:32:35.607Z"
      },
      {
        "duration": 5,
        "start_time": "2022-06-25T17:32:35.649Z"
      },
      {
        "duration": 12,
        "start_time": "2022-06-25T17:32:35.656Z"
      },
      {
        "duration": 73,
        "start_time": "2022-06-25T17:32:35.669Z"
      },
      {
        "duration": 1150,
        "start_time": "2022-06-25T17:32:35.745Z"
      },
      {
        "duration": 17,
        "start_time": "2022-06-25T17:32:36.897Z"
      },
      {
        "duration": 352,
        "start_time": "2022-06-25T17:32:36.916Z"
      },
      {
        "duration": 14,
        "start_time": "2022-06-25T17:32:37.271Z"
      },
      {
        "duration": 46,
        "start_time": "2022-06-25T17:32:37.287Z"
      },
      {
        "duration": 32,
        "start_time": "2022-06-25T17:32:37.342Z"
      },
      {
        "duration": 162,
        "start_time": "2022-06-25T17:32:37.375Z"
      },
      {
        "duration": 16,
        "start_time": "2022-06-25T17:32:37.539Z"
      },
      {
        "duration": 53,
        "start_time": "2022-06-25T17:32:37.557Z"
      },
      {
        "duration": 98,
        "start_time": "2022-06-25T17:32:37.612Z"
      },
      {
        "duration": 38,
        "start_time": "2022-06-25T17:32:37.711Z"
      },
      {
        "duration": 494,
        "start_time": "2022-06-25T17:32:37.751Z"
      },
      {
        "duration": 128,
        "start_time": "2022-06-25T17:32:38.246Z"
      },
      {
        "duration": 14,
        "start_time": "2022-06-25T17:32:38.376Z"
      },
      {
        "duration": 57,
        "start_time": "2022-06-25T17:32:38.392Z"
      },
      {
        "duration": 32,
        "start_time": "2022-06-25T17:32:38.451Z"
      },
      {
        "duration": 81,
        "start_time": "2022-06-25T17:32:38.485Z"
      },
      {
        "duration": 19,
        "start_time": "2022-06-25T17:32:38.567Z"
      },
      {
        "duration": 165,
        "start_time": "2022-06-25T17:32:38.587Z"
      },
      {
        "duration": 4,
        "start_time": "2022-06-25T17:32:38.754Z"
      },
      {
        "duration": 18,
        "start_time": "2022-06-25T17:32:38.760Z"
      },
      {
        "duration": 78,
        "start_time": "2022-06-25T17:32:38.779Z"
      },
      {
        "duration": 111,
        "start_time": "2022-06-26T16:19:22.622Z"
      },
      {
        "duration": 1336,
        "start_time": "2022-06-26T16:19:32.858Z"
      },
      {
        "duration": 188,
        "start_time": "2022-06-26T16:19:34.196Z"
      },
      {
        "duration": 3,
        "start_time": "2022-06-26T16:19:34.386Z"
      },
      {
        "duration": 98,
        "start_time": "2022-06-26T16:19:34.390Z"
      },
      {
        "duration": 8,
        "start_time": "2022-06-26T16:19:34.490Z"
      },
      {
        "duration": 158,
        "start_time": "2022-06-26T16:19:34.499Z"
      },
      {
        "duration": 40,
        "start_time": "2022-06-26T16:19:34.659Z"
      },
      {
        "duration": 27,
        "start_time": "2022-06-26T16:19:34.701Z"
      },
      {
        "duration": 5,
        "start_time": "2022-06-26T16:19:34.729Z"
      },
      {
        "duration": 30,
        "start_time": "2022-06-26T16:19:34.752Z"
      },
      {
        "duration": 5,
        "start_time": "2022-06-26T16:19:34.784Z"
      },
      {
        "duration": 6,
        "start_time": "2022-06-26T16:19:34.791Z"
      },
      {
        "duration": 77,
        "start_time": "2022-06-26T16:19:34.798Z"
      },
      {
        "duration": 981,
        "start_time": "2022-06-26T16:19:34.879Z"
      },
      {
        "duration": 19,
        "start_time": "2022-06-26T16:19:35.861Z"
      },
      {
        "duration": 350,
        "start_time": "2022-06-26T16:19:35.881Z"
      },
      {
        "duration": 10,
        "start_time": "2022-06-26T16:19:36.233Z"
      },
      {
        "duration": 26,
        "start_time": "2022-06-26T16:19:36.245Z"
      },
      {
        "duration": 26,
        "start_time": "2022-06-26T16:19:36.273Z"
      },
      {
        "duration": 178,
        "start_time": "2022-06-26T16:19:36.301Z"
      },
      {
        "duration": 17,
        "start_time": "2022-06-26T16:19:36.481Z"
      },
      {
        "duration": 76,
        "start_time": "2022-06-26T16:19:36.503Z"
      },
      {
        "duration": 102,
        "start_time": "2022-06-26T16:19:36.580Z"
      },
      {
        "duration": 20,
        "start_time": "2022-06-26T16:19:36.684Z"
      },
      {
        "duration": 493,
        "start_time": "2022-06-26T16:19:36.706Z"
      },
      {
        "duration": 78,
        "start_time": "2022-06-26T16:19:37.200Z"
      },
      {
        "duration": 17,
        "start_time": "2022-06-26T16:19:37.279Z"
      },
      {
        "duration": 77,
        "start_time": "2022-06-26T16:19:37.298Z"
      },
      {
        "duration": 33,
        "start_time": "2022-06-26T16:19:37.377Z"
      },
      {
        "duration": 90,
        "start_time": "2022-06-26T16:19:37.412Z"
      },
      {
        "duration": 16,
        "start_time": "2022-06-26T16:19:37.503Z"
      },
      {
        "duration": 174,
        "start_time": "2022-06-26T16:19:37.520Z"
      },
      {
        "duration": 6,
        "start_time": "2022-06-26T16:19:37.695Z"
      },
      {
        "duration": 26,
        "start_time": "2022-06-26T16:19:37.703Z"
      },
      {
        "duration": 88,
        "start_time": "2022-06-26T16:19:37.730Z"
      },
      {
        "duration": 53,
        "start_time": "2022-06-26T16:55:46.520Z"
      },
      {
        "duration": 128,
        "start_time": "2022-06-26T16:55:53.101Z"
      },
      {
        "duration": 6,
        "start_time": "2022-06-26T16:56:18.218Z"
      },
      {
        "duration": 17,
        "start_time": "2022-06-26T16:57:22.059Z"
      },
      {
        "duration": 13,
        "start_time": "2022-06-26T16:57:40.173Z"
      },
      {
        "duration": 11,
        "start_time": "2022-06-26T16:58:25.474Z"
      },
      {
        "duration": 1514,
        "start_time": "2022-06-27T17:00:21.318Z"
      },
      {
        "duration": 181,
        "start_time": "2022-06-27T17:00:23.603Z"
      },
      {
        "duration": 2,
        "start_time": "2022-06-27T17:00:24.265Z"
      },
      {
        "duration": 243,
        "start_time": "2022-06-27T17:00:24.829Z"
      },
      {
        "duration": 7,
        "start_time": "2022-06-27T17:00:25.424Z"
      },
      {
        "duration": 127,
        "start_time": "2022-06-27T17:00:26.592Z"
      },
      {
        "duration": 31,
        "start_time": "2022-06-27T17:00:28.486Z"
      },
      {
        "duration": 20,
        "start_time": "2022-06-27T17:00:29.134Z"
      },
      {
        "duration": 5,
        "start_time": "2022-06-27T17:00:29.756Z"
      },
      {
        "duration": 25,
        "start_time": "2022-06-27T17:00:30.322Z"
      },
      {
        "duration": 5,
        "start_time": "2022-06-27T17:00:30.828Z"
      },
      {
        "duration": 6,
        "start_time": "2022-06-27T17:00:31.463Z"
      },
      {
        "duration": 51,
        "start_time": "2022-06-27T17:00:31.997Z"
      },
      {
        "duration": 161,
        "start_time": "2022-06-27T17:02:37.955Z"
      },
      {
        "duration": 55,
        "start_time": "2022-06-27T17:02:49.856Z"
      },
      {
        "duration": 2,
        "start_time": "2022-06-27T17:03:15.965Z"
      },
      {
        "duration": 55,
        "start_time": "2022-06-27T17:03:16.728Z"
      },
      {
        "duration": 4,
        "start_time": "2022-06-27T17:03:25.981Z"
      },
      {
        "duration": 17,
        "start_time": "2022-06-27T17:03:26.604Z"
      },
      {
        "duration": 3,
        "start_time": "2022-06-27T17:03:27.114Z"
      },
      {
        "duration": 66,
        "start_time": "2022-06-27T17:03:27.591Z"
      },
      {
        "duration": 7,
        "start_time": "2022-06-27T17:03:28.070Z"
      },
      {
        "duration": 77,
        "start_time": "2022-06-27T17:03:30.146Z"
      },
      {
        "duration": 31,
        "start_time": "2022-06-27T17:03:31.762Z"
      },
      {
        "duration": 22,
        "start_time": "2022-06-27T17:03:32.312Z"
      },
      {
        "duration": 5,
        "start_time": "2022-06-27T17:03:32.826Z"
      },
      {
        "duration": 27,
        "start_time": "2022-06-27T17:03:33.347Z"
      },
      {
        "duration": 6,
        "start_time": "2022-06-27T17:03:33.892Z"
      },
      {
        "duration": 6,
        "start_time": "2022-06-27T17:03:34.989Z"
      },
      {
        "duration": 2,
        "start_time": "2022-06-27T17:03:35.503Z"
      },
      {
        "duration": 57,
        "start_time": "2022-06-27T17:03:36.063Z"
      },
      {
        "duration": 1150,
        "start_time": "2022-06-27T17:04:12.100Z"
      },
      {
        "duration": 17,
        "start_time": "2022-06-27T17:04:20.656Z"
      },
      {
        "duration": 339,
        "start_time": "2022-06-27T17:04:21.175Z"
      },
      {
        "duration": 12,
        "start_time": "2022-06-27T17:04:23.474Z"
      },
      {
        "duration": 18,
        "start_time": "2022-06-27T17:04:29.405Z"
      },
      {
        "duration": 29,
        "start_time": "2022-06-27T17:04:32.050Z"
      },
      {
        "duration": 84,
        "start_time": "2022-06-27T17:04:33.530Z"
      },
      {
        "duration": 16,
        "start_time": "2022-06-27T17:04:34.266Z"
      },
      {
        "duration": 58,
        "start_time": "2022-06-27T17:04:35.008Z"
      },
      {
        "duration": 115,
        "start_time": "2022-06-27T17:04:36.658Z"
      },
      {
        "duration": 22,
        "start_time": "2022-06-27T17:04:46.481Z"
      },
      {
        "duration": 501,
        "start_time": "2022-06-27T17:04:47.215Z"
      },
      {
        "duration": 82,
        "start_time": "2022-06-27T17:04:49.578Z"
      },
      {
        "duration": 15,
        "start_time": "2022-06-27T17:05:36.972Z"
      },
      {
        "duration": 54,
        "start_time": "2022-06-27T17:05:38.327Z"
      },
      {
        "duration": 38,
        "start_time": "2022-06-27T17:06:17.318Z"
      },
      {
        "duration": 62,
        "start_time": "2022-06-27T17:06:17.830Z"
      },
      {
        "duration": 18,
        "start_time": "2022-06-27T17:06:18.423Z"
      },
      {
        "duration": 172,
        "start_time": "2022-06-27T17:06:18.943Z"
      },
      {
        "duration": 6,
        "start_time": "2022-06-27T17:06:24.151Z"
      },
      {
        "duration": 19,
        "start_time": "2022-06-27T17:06:24.798Z"
      },
      {
        "duration": 56,
        "start_time": "2022-06-27T17:06:25.443Z"
      },
      {
        "duration": 32,
        "start_time": "2022-06-27T17:14:14.354Z"
      },
      {
        "duration": 3166,
        "start_time": "2022-06-27T17:14:35.588Z"
      },
      {
        "duration": 223,
        "start_time": "2022-06-27T17:14:42.115Z"
      },
      {
        "duration": 11,
        "start_time": "2022-06-27T17:15:01.189Z"
      },
      {
        "duration": 85,
        "start_time": "2022-06-27T17:25:11.019Z"
      },
      {
        "duration": 17,
        "start_time": "2022-06-27T17:25:45.917Z"
      },
      {
        "duration": 6,
        "start_time": "2022-06-27T17:26:38.041Z"
      },
      {
        "duration": 6,
        "start_time": "2022-06-27T17:26:44.976Z"
      },
      {
        "duration": 8,
        "start_time": "2022-06-27T17:27:27.508Z"
      },
      {
        "duration": 14,
        "start_time": "2022-06-27T17:28:07.018Z"
      },
      {
        "duration": 12,
        "start_time": "2022-06-27T17:28:13.726Z"
      },
      {
        "duration": 73,
        "start_time": "2022-06-27T17:31:28.925Z"
      },
      {
        "duration": 99,
        "start_time": "2022-06-27T17:36:47.887Z"
      },
      {
        "duration": 1360,
        "start_time": "2022-06-27T17:42:05.006Z"
      },
      {
        "duration": 179,
        "start_time": "2022-06-27T17:42:06.368Z"
      },
      {
        "duration": 4,
        "start_time": "2022-06-27T17:42:06.549Z"
      },
      {
        "duration": 72,
        "start_time": "2022-06-27T17:42:06.556Z"
      },
      {
        "duration": 7,
        "start_time": "2022-06-27T17:42:06.629Z"
      },
      {
        "duration": 141,
        "start_time": "2022-06-27T17:42:06.638Z"
      },
      {
        "duration": 46,
        "start_time": "2022-06-27T17:42:06.781Z"
      },
      {
        "duration": 38,
        "start_time": "2022-06-27T17:42:06.829Z"
      },
      {
        "duration": 13,
        "start_time": "2022-06-27T17:42:06.869Z"
      },
      {
        "duration": 43,
        "start_time": "2022-06-27T17:42:06.886Z"
      },
      {
        "duration": 6,
        "start_time": "2022-06-27T17:42:06.943Z"
      },
      {
        "duration": 25,
        "start_time": "2022-06-27T17:42:06.952Z"
      },
      {
        "duration": 10,
        "start_time": "2022-06-27T17:42:06.979Z"
      },
      {
        "duration": 77,
        "start_time": "2022-06-27T17:42:06.992Z"
      },
      {
        "duration": 1243,
        "start_time": "2022-06-27T17:42:07.071Z"
      },
      {
        "duration": 17,
        "start_time": "2022-06-27T17:42:08.316Z"
      },
      {
        "duration": 279,
        "start_time": "2022-06-27T17:42:08.335Z"
      },
      {
        "duration": 11,
        "start_time": "2022-06-27T17:42:08.616Z"
      },
      {
        "duration": 20,
        "start_time": "2022-06-27T17:42:08.629Z"
      },
      {
        "duration": 168,
        "start_time": "2022-06-27T17:42:08.651Z"
      },
      {
        "duration": 99,
        "start_time": "2022-06-27T17:42:08.821Z"
      },
      {
        "duration": 36,
        "start_time": "2022-06-27T17:42:08.922Z"
      },
      {
        "duration": 83,
        "start_time": "2022-06-27T17:42:08.960Z"
      },
      {
        "duration": 79,
        "start_time": "2022-06-27T17:42:09.045Z"
      },
      {
        "duration": 39,
        "start_time": "2022-06-27T17:42:09.126Z"
      },
      {
        "duration": 498,
        "start_time": "2022-06-27T17:42:09.167Z"
      },
      {
        "duration": 76,
        "start_time": "2022-06-27T17:42:09.666Z"
      },
      {
        "duration": 18,
        "start_time": "2022-06-27T17:42:09.746Z"
      },
      {
        "duration": 76,
        "start_time": "2022-06-27T17:42:09.766Z"
      },
      {
        "duration": 42,
        "start_time": "2022-06-27T17:42:09.844Z"
      },
      {
        "duration": 85,
        "start_time": "2022-06-27T17:42:09.888Z"
      },
      {
        "duration": 20,
        "start_time": "2022-06-27T17:42:09.975Z"
      },
      {
        "duration": 207,
        "start_time": "2022-06-27T17:42:09.997Z"
      },
      {
        "duration": 5,
        "start_time": "2022-06-27T17:42:10.205Z"
      },
      {
        "duration": 37,
        "start_time": "2022-06-27T17:42:10.212Z"
      },
      {
        "duration": 54,
        "start_time": "2022-06-27T17:42:10.251Z"
      },
      {
        "duration": 52,
        "start_time": "2022-06-28T09:47:37.529Z"
      },
      {
        "duration": 1377,
        "start_time": "2022-06-28T09:47:43.291Z"
      },
      {
        "duration": 153,
        "start_time": "2022-06-28T09:47:44.670Z"
      },
      {
        "duration": 2,
        "start_time": "2022-06-28T09:47:44.825Z"
      },
      {
        "duration": 236,
        "start_time": "2022-06-28T09:47:44.829Z"
      },
      {
        "duration": 6,
        "start_time": "2022-06-28T09:47:45.067Z"
      },
      {
        "duration": 110,
        "start_time": "2022-06-28T09:47:45.074Z"
      },
      {
        "duration": 33,
        "start_time": "2022-06-28T09:47:45.185Z"
      },
      {
        "duration": 35,
        "start_time": "2022-06-28T09:47:45.220Z"
      },
      {
        "duration": 5,
        "start_time": "2022-06-28T09:47:45.256Z"
      },
      {
        "duration": 30,
        "start_time": "2022-06-28T09:47:45.263Z"
      },
      {
        "duration": 4,
        "start_time": "2022-06-28T09:47:45.295Z"
      },
      {
        "duration": 5,
        "start_time": "2022-06-28T09:47:45.300Z"
      },
      {
        "duration": 5,
        "start_time": "2022-06-28T09:47:45.306Z"
      },
      {
        "duration": 69,
        "start_time": "2022-06-28T09:47:45.312Z"
      },
      {
        "duration": 13,
        "start_time": "2022-06-28T09:47:45.383Z"
      },
      {
        "duration": 1227,
        "start_time": "2022-06-28T09:47:45.397Z"
      },
      {
        "duration": 15,
        "start_time": "2022-06-28T09:47:46.626Z"
      },
      {
        "duration": 255,
        "start_time": "2022-06-28T09:47:46.642Z"
      },
      {
        "duration": 12,
        "start_time": "2022-06-28T09:47:46.899Z"
      },
      {
        "duration": 22,
        "start_time": "2022-06-28T09:47:46.913Z"
      },
      {
        "duration": 133,
        "start_time": "2022-06-28T09:47:46.952Z"
      },
      {
        "duration": 80,
        "start_time": "2022-06-28T09:47:47.087Z"
      },
      {
        "duration": 15,
        "start_time": "2022-06-28T09:47:47.169Z"
      },
      {
        "duration": 76,
        "start_time": "2022-06-28T09:47:47.186Z"
      },
      {
        "duration": 74,
        "start_time": "2022-06-28T09:47:47.264Z"
      },
      {
        "duration": 19,
        "start_time": "2022-06-28T09:47:47.354Z"
      },
      {
        "duration": 415,
        "start_time": "2022-06-28T09:47:47.375Z"
      },
      {
        "duration": 69,
        "start_time": "2022-06-28T09:47:47.793Z"
      },
      {
        "duration": 14,
        "start_time": "2022-06-28T09:47:47.863Z"
      },
      {
        "duration": 48,
        "start_time": "2022-06-28T09:47:47.878Z"
      },
      {
        "duration": 43,
        "start_time": "2022-06-28T09:47:47.928Z"
      },
      {
        "duration": 53,
        "start_time": "2022-06-28T09:47:47.973Z"
      },
      {
        "duration": 17,
        "start_time": "2022-06-28T09:47:48.028Z"
      },
      {
        "duration": 213,
        "start_time": "2022-06-28T09:47:48.052Z"
      },
      {
        "duration": 5,
        "start_time": "2022-06-28T09:47:48.267Z"
      },
      {
        "duration": 26,
        "start_time": "2022-06-28T09:47:48.273Z"
      },
      {
        "duration": 102,
        "start_time": "2022-06-28T09:47:48.301Z"
      },
      {
        "duration": 12,
        "start_time": "2022-06-28T09:48:32.038Z"
      },
      {
        "duration": 1131,
        "start_time": "2022-07-04T18:02:32.809Z"
      },
      {
        "duration": 146,
        "start_time": "2022-07-04T18:02:33.942Z"
      },
      {
        "duration": 2,
        "start_time": "2022-07-04T18:02:34.090Z"
      },
      {
        "duration": 231,
        "start_time": "2022-07-04T18:02:34.094Z"
      },
      {
        "duration": 6,
        "start_time": "2022-07-04T18:02:34.327Z"
      },
      {
        "duration": 98,
        "start_time": "2022-07-04T18:02:34.335Z"
      },
      {
        "duration": 24,
        "start_time": "2022-07-04T18:02:34.434Z"
      },
      {
        "duration": 15,
        "start_time": "2022-07-04T18:02:34.460Z"
      },
      {
        "duration": 4,
        "start_time": "2022-07-04T18:02:34.491Z"
      },
      {
        "duration": 25,
        "start_time": "2022-07-04T18:02:34.497Z"
      },
      {
        "duration": 4,
        "start_time": "2022-07-04T18:02:34.523Z"
      },
      {
        "duration": 5,
        "start_time": "2022-07-04T18:02:34.528Z"
      },
      {
        "duration": 4,
        "start_time": "2022-07-04T18:02:34.534Z"
      },
      {
        "duration": 62,
        "start_time": "2022-07-04T18:02:34.539Z"
      },
      {
        "duration": 1041,
        "start_time": "2022-07-04T18:02:34.603Z"
      },
      {
        "duration": 13,
        "start_time": "2022-07-04T18:02:35.646Z"
      },
      {
        "duration": 208,
        "start_time": "2022-07-04T18:02:35.660Z"
      },
      {
        "duration": 9,
        "start_time": "2022-07-04T18:02:35.869Z"
      },
      {
        "duration": 22,
        "start_time": "2022-07-04T18:02:35.879Z"
      },
      {
        "duration": 127,
        "start_time": "2022-07-04T18:02:35.902Z"
      },
      {
        "duration": 77,
        "start_time": "2022-07-04T18:02:36.031Z"
      },
      {
        "duration": 13,
        "start_time": "2022-07-04T18:02:36.109Z"
      },
      {
        "duration": 44,
        "start_time": "2022-07-04T18:02:36.123Z"
      },
      {
        "duration": 88,
        "start_time": "2022-07-04T18:02:36.169Z"
      },
      {
        "duration": 16,
        "start_time": "2022-07-04T18:02:36.259Z"
      },
      {
        "duration": 366,
        "start_time": "2022-07-04T18:02:36.290Z"
      },
      {
        "duration": 70,
        "start_time": "2022-07-04T18:02:36.658Z"
      },
      {
        "duration": 13,
        "start_time": "2022-07-04T18:02:36.730Z"
      },
      {
        "duration": 49,
        "start_time": "2022-07-04T18:02:36.744Z"
      },
      {
        "duration": 27,
        "start_time": "2022-07-04T18:02:36.795Z"
      },
      {
        "duration": 46,
        "start_time": "2022-07-04T18:02:36.823Z"
      },
      {
        "duration": 31,
        "start_time": "2022-07-04T18:02:36.871Z"
      },
      {
        "duration": 149,
        "start_time": "2022-07-04T18:02:36.903Z"
      },
      {
        "duration": 4,
        "start_time": "2022-07-04T18:02:37.054Z"
      },
      {
        "duration": 34,
        "start_time": "2022-07-04T18:02:37.060Z"
      },
      {
        "duration": 53,
        "start_time": "2022-07-04T18:02:37.096Z"
      },
      {
        "duration": 1230,
        "start_time": "2022-07-05T07:25:00.914Z"
      },
      {
        "duration": 158,
        "start_time": "2022-07-05T07:25:02.146Z"
      },
      {
        "duration": 3,
        "start_time": "2022-07-05T07:25:02.305Z"
      },
      {
        "duration": 235,
        "start_time": "2022-07-05T07:25:02.310Z"
      },
      {
        "duration": 6,
        "start_time": "2022-07-05T07:25:02.547Z"
      },
      {
        "duration": 104,
        "start_time": "2022-07-05T07:25:02.555Z"
      },
      {
        "duration": 28,
        "start_time": "2022-07-05T07:25:02.660Z"
      },
      {
        "duration": 19,
        "start_time": "2022-07-05T07:25:02.690Z"
      },
      {
        "duration": 20,
        "start_time": "2022-07-05T07:25:02.710Z"
      },
      {
        "duration": 23,
        "start_time": "2022-07-05T07:25:02.732Z"
      },
      {
        "duration": 7,
        "start_time": "2022-07-05T07:25:02.756Z"
      },
      {
        "duration": 6,
        "start_time": "2022-07-05T07:25:02.764Z"
      },
      {
        "duration": 5,
        "start_time": "2022-07-05T07:25:02.771Z"
      },
      {
        "duration": 77,
        "start_time": "2022-07-05T07:25:02.777Z"
      },
      {
        "duration": 1228,
        "start_time": "2022-07-05T07:25:02.856Z"
      },
      {
        "duration": 16,
        "start_time": "2022-07-05T07:25:04.085Z"
      },
      {
        "duration": 246,
        "start_time": "2022-07-05T07:25:04.102Z"
      },
      {
        "duration": 15,
        "start_time": "2022-07-05T07:25:04.349Z"
      },
      {
        "duration": 14,
        "start_time": "2022-07-05T07:25:04.366Z"
      },
      {
        "duration": 58,
        "start_time": "2022-07-05T07:25:04.381Z"
      },
      {
        "duration": 176,
        "start_time": "2022-07-05T07:25:04.441Z"
      },
      {
        "duration": 20,
        "start_time": "2022-07-05T07:25:04.619Z"
      },
      {
        "duration": 47,
        "start_time": "2022-07-05T07:25:04.640Z"
      },
      {
        "duration": 94,
        "start_time": "2022-07-05T07:25:04.689Z"
      },
      {
        "duration": 18,
        "start_time": "2022-07-05T07:25:04.785Z"
      },
      {
        "duration": 430,
        "start_time": "2022-07-05T07:25:04.805Z"
      },
      {
        "duration": 61,
        "start_time": "2022-07-05T07:25:05.236Z"
      },
      {
        "duration": 33,
        "start_time": "2022-07-05T07:25:05.300Z"
      },
      {
        "duration": 50,
        "start_time": "2022-07-05T07:25:05.334Z"
      },
      {
        "duration": 50,
        "start_time": "2022-07-05T07:25:05.385Z"
      },
      {
        "duration": 48,
        "start_time": "2022-07-05T07:25:05.436Z"
      },
      {
        "duration": 16,
        "start_time": "2022-07-05T07:25:05.485Z"
      },
      {
        "duration": 180,
        "start_time": "2022-07-05T07:25:05.503Z"
      },
      {
        "duration": 5,
        "start_time": "2022-07-05T07:25:05.684Z"
      },
      {
        "duration": 19,
        "start_time": "2022-07-05T07:25:05.690Z"
      },
      {
        "duration": 67,
        "start_time": "2022-07-05T07:25:05.711Z"
      }
    ],
    "kernelspec": {
      "display_name": "Python 3 (ipykernel)",
      "language": "python",
      "name": "python3"
    },
    "language_info": {
      "codemirror_mode": {
        "name": "ipython",
        "version": 3
      },
      "file_extension": ".py",
      "mimetype": "text/x-python",
      "name": "python",
      "nbconvert_exporter": "python",
      "pygments_lexer": "ipython3",
      "version": "3.9.5"
    },
    "toc": {
      "base_numbering": 1,
      "nav_menu": {},
      "number_sections": true,
      "sideBar": true,
      "skip_h1_title": true,
      "title_cell": "Table of Contents",
      "title_sidebar": "Contents",
      "toc_cell": false,
      "toc_position": {},
      "toc_section_display": true,
      "toc_window_display": false
    },
    "colab": {
      "provenance": [],
      "collapsed_sections": [],
      "include_colab_link": true
    }
  },
  "nbformat": 4,
  "nbformat_minor": 0
}