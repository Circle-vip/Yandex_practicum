{
  "cells": [
    {
      "cell_type": "markdown",
      "metadata": {
        "id": "view-in-github",
        "colab_type": "text"
      },
      "source": [
        "<a href=\"https://colab.research.google.com/github/Circle-vip/Yandex_practicum/blob/main/%D0%90_%D0%92_%D1%82%D0%B5%D1%81%D1%82%D1%8B.ipynb\" target=\"_parent\"><img src=\"https://colab.research.google.com/assets/colab-badge.svg\" alt=\"Open In Colab\"/></a>"
      ]
    },
    {
      "cell_type": "markdown",
      "metadata": {
        "id": "H_QZExdhAWCy"
      },
      "source": [
        "# Тестирование гипотез по увеличению выручки для интеренет-магазина. "
      ]
    },
    {
      "cell_type": "markdown",
      "metadata": {
        "id": "Sc8voSw8AWC0"
      },
      "source": [
        "## Описание данных:\n"
      ]
    },
    {
      "cell_type": "markdown",
      "metadata": {
        "id": "UebZv9ryAWC1"
      },
      "source": [
        "***Hypothesis***\n",
        "\n",
        "Файл /content/hypothesis.csv\n",
        "\n",
        "- Hypothesis — краткое описание гипотезы;\n",
        "- Reach — охват пользователей по 10-балльной шкале;\n",
        "- Impact — влияние на пользователей по 10-балльной шкале;\n",
        "- Confidence — уверенность в гипотезе по 10-балльной шкале;\n",
        "- Efforts — затраты ресурсов на проверку гипотезы по 10-балльной шкале. Чем больше значение Efforts, тем дороже проверка гипотезы.\n",
        "\n",
        "**ГИПОТЕЗЫ:**\n",
        "\n",
        "1) Запустить акцию, дающую скидку на товар в день рождения.\t\n",
        "2) Добавить два новых канала привлечения трафика, что позволит привлекать на 30% больше пользователей.\t\n",
        "3)\tДобавить форму подписки на все основные страницы, чтобы собрать базу клиентов для email-рассылок.\t\n",
        "4)\tПоказать на главной странице баннеры с актуальными акциями и распродажами, чтобы увеличить конверсию.\t\n",
        "5)\tДобавить блоки рекомендаций товаров на сайт интернет магазина, чтобы повысить конверсию и средний чек заказа.\t\n",
        "6)\tЗапустить собственную службу доставки, что сократит срок доставки заказов.\t\n",
        "7)\tДобавить страницу отзывов клиентов о магазине, что позволит увеличить количество заказов.\t\n",
        "8)\tИзменить структура категорий, что увеличит конверсию, т.к. пользователи быстрее найдут нужный товар.\t\n",
        "9)\tИзменить цвет фона главной страницы, чтобы увеличить вовлеченность пользователей.\t\n",
        "\n",
        "***Orders***\n",
        "\n",
        "Файл /content/orders.csv \n",
        "\n",
        "- transactionId — идентификатор заказа;\n",
        "- visitorId — идентификатор пользователя, совершившего заказ;\n",
        "- date — дата, когда был совершён заказ;\n",
        "- revenue — выручка заказа;\n",
        "- group — группа A/B-теста, в которую попал заказ.\n",
        "\n",
        "***Visitors***\n",
        "\n",
        "Файл /content/visitors.csv\n",
        "\n",
        "- date — дата;\n",
        "- group — группа A/B-теста;\n",
        "- visitors — количество пользователей в указанную дату в указанной группе A/B-теста\n",
        "\n",
        "**Цели:** \n",
        "\n",
        "1. Приоритезировать гипотезы.\n",
        "\n",
        "2. Проанализировать А\\В тест."
      ]
    },
    {
      "cell_type": "markdown",
      "metadata": {
        "id": "2tf7T9gZAWC4"
      },
      "source": [
        "## Обзор данных."
      ]
    },
    {
      "cell_type": "code",
      "execution_count": null,
      "metadata": {
        "id": "TkxnuSF4AWC4"
      },
      "outputs": [],
      "source": [
        "import pandas as pd\n",
        "import numpy as np\n",
        "import warnings\n",
        "import datetime as dt\n",
        "import math as mth\n",
        "from scipy import stats as st\n",
        "import seaborn as sns\n",
        "import matplotlib.pyplot as plt"
      ]
    },
    {
      "cell_type": "code",
      "execution_count": null,
      "metadata": {
        "id": "DM9FH1zuAWC7"
      },
      "outputs": [],
      "source": [
        "hypothesis = pd.read_csv('/content/hypothesis.csv')\n",
        "visitors = pd.read_csv('/content/orders.csv')\n",
        "orders = pd.read_csv('/content/orders.csv')"
      ]
    },
    {
      "cell_type": "code",
      "execution_count": null,
      "metadata": {
        "id": "xeYX3yCAAWC8"
      },
      "outputs": [],
      "source": [
        "#Чтобы окна об ошибках не мешали\n",
        "warnings.filterwarnings('ignore')"
      ]
    },
    {
      "cell_type": "code",
      "execution_count": null,
      "metadata": {
        "id": "PAdvFyWMAWC9"
      },
      "outputs": [],
      "source": [
        "# Фуникция первичного знакомства с данными\n",
        "# Функция, которая сразу выводит всю информацию, принимая на вход название датасета\n",
        "def data_view(data):\n",
        "    #Сразу приводим названия всех колонок к змеиному регистру.    \n",
        "    data.columns = data.columns. \\\n",
        "                                str.replace(r'([a-z0-9])([A-Z])' , r'\\1_\\2', regex = True). \\\n",
        "                                str.replace(r'(.)([A-Z][a-z]+)', r'\\1_\\2', regex = True). \\\n",
        "                                str.replace(r'([a-z0-9])([A-Z])', r'\\1_\\2', regex = True). \\\n",
        "                                str.replace(r'__([A-Z])', r'_\\1', regex = True). \\\n",
        "                                str.replace(r'__([a-z0-9])', r'_\\1', regex = True)\n",
        "    data.columns = data.columns.str.lower()\n",
        "    print()\n",
        "    print('------------------ Первые 5 строк данных -------------------')\n",
        "    display(data.head()) # Выводим первые 5 строк\n",
        "    print()\n",
        "    print('------------------ Последние 5 строк данных -----------------')\n",
        "    display(data.tail()) # Выводим последние 5 строк\n",
        "    print()\n",
        "    print('------------------ Информация по датасету --------------------')\n",
        "    print()\n",
        "    display(data.info()) # Выводим инфо по датасету\n",
        "    print()\n",
        "    # Уточняем количество пропусков по столбцам. Берем сумму пропусков и процентную долю пропусков\n",
        "    print('------------------ Пропуски и уникальные значения (без учета пропусков) ---------------' )\n",
        "    display(pd.concat([data.isna().sum().rename('nan_count'), \n",
        "                       data.isna().mean().rename('nan_percent'),\n",
        "                       data.nunique().rename('unique_values')], \n",
        "                      axis=1).style.format({'nan_percent' : '{:.2%}'})) \n",
        "    print()    \n",
        "    print('------------------ Дубликаты -----------------------')\n",
        "    print()\n",
        "    print('Количество явных дубликатов:', data.duplicated().sum())\n",
        "    print()"
      ]
    },
    {
      "cell_type": "code",
      "execution_count": null,
      "metadata": {
        "colab": {
          "base_uri": "https://localhost:8080/",
          "height": 1000
        },
        "id": "9Ks_39PnAWC-",
        "outputId": "a276af6e-4142-4746-94eb-3beb3251b29f"
      },
      "outputs": [
        {
          "output_type": "stream",
          "name": "stdout",
          "text": [
            "\n",
            "------------------ Первые 5 строк данных -------------------\n"
          ]
        },
        {
          "output_type": "display_data",
          "data": {
            "text/plain": [
              "                                          hypothesis  reach  impact  \\\n",
              "0  Добавить два новых канала привлечения трафика,...      3      10   \n",
              "1  Запустить собственную службу доставки, что сок...      2       5   \n",
              "2  Добавить блоки рекомендаций товаров на сайт ин...      8       3   \n",
              "3  Изменить структура категорий, что увеличит кон...      8       3   \n",
              "4  Изменить цвет фона главной страницы, чтобы уве...      3       1   \n",
              "\n",
              "   confidence  efforts  \n",
              "0           8        6  \n",
              "1           4       10  \n",
              "2           7        3  \n",
              "3           3        8  \n",
              "4           1        1  "
            ],
            "text/html": [
              "\n",
              "  <div id=\"df-b611842b-5b9d-4948-9c1c-d3a5d0459b8e\">\n",
              "    <div class=\"colab-df-container\">\n",
              "      <div>\n",
              "<style scoped>\n",
              "    .dataframe tbody tr th:only-of-type {\n",
              "        vertical-align: middle;\n",
              "    }\n",
              "\n",
              "    .dataframe tbody tr th {\n",
              "        vertical-align: top;\n",
              "    }\n",
              "\n",
              "    .dataframe thead th {\n",
              "        text-align: right;\n",
              "    }\n",
              "</style>\n",
              "<table border=\"1\" class=\"dataframe\">\n",
              "  <thead>\n",
              "    <tr style=\"text-align: right;\">\n",
              "      <th></th>\n",
              "      <th>hypothesis</th>\n",
              "      <th>reach</th>\n",
              "      <th>impact</th>\n",
              "      <th>confidence</th>\n",
              "      <th>efforts</th>\n",
              "    </tr>\n",
              "  </thead>\n",
              "  <tbody>\n",
              "    <tr>\n",
              "      <th>0</th>\n",
              "      <td>Добавить два новых канала привлечения трафика,...</td>\n",
              "      <td>3</td>\n",
              "      <td>10</td>\n",
              "      <td>8</td>\n",
              "      <td>6</td>\n",
              "    </tr>\n",
              "    <tr>\n",
              "      <th>1</th>\n",
              "      <td>Запустить собственную службу доставки, что сок...</td>\n",
              "      <td>2</td>\n",
              "      <td>5</td>\n",
              "      <td>4</td>\n",
              "      <td>10</td>\n",
              "    </tr>\n",
              "    <tr>\n",
              "      <th>2</th>\n",
              "      <td>Добавить блоки рекомендаций товаров на сайт ин...</td>\n",
              "      <td>8</td>\n",
              "      <td>3</td>\n",
              "      <td>7</td>\n",
              "      <td>3</td>\n",
              "    </tr>\n",
              "    <tr>\n",
              "      <th>3</th>\n",
              "      <td>Изменить структура категорий, что увеличит кон...</td>\n",
              "      <td>8</td>\n",
              "      <td>3</td>\n",
              "      <td>3</td>\n",
              "      <td>8</td>\n",
              "    </tr>\n",
              "    <tr>\n",
              "      <th>4</th>\n",
              "      <td>Изменить цвет фона главной страницы, чтобы уве...</td>\n",
              "      <td>3</td>\n",
              "      <td>1</td>\n",
              "      <td>1</td>\n",
              "      <td>1</td>\n",
              "    </tr>\n",
              "  </tbody>\n",
              "</table>\n",
              "</div>\n",
              "      <button class=\"colab-df-convert\" onclick=\"convertToInteractive('df-b611842b-5b9d-4948-9c1c-d3a5d0459b8e')\"\n",
              "              title=\"Convert this dataframe to an interactive table.\"\n",
              "              style=\"display:none;\">\n",
              "        \n",
              "  <svg xmlns=\"http://www.w3.org/2000/svg\" height=\"24px\"viewBox=\"0 0 24 24\"\n",
              "       width=\"24px\">\n",
              "    <path d=\"M0 0h24v24H0V0z\" fill=\"none\"/>\n",
              "    <path d=\"M18.56 5.44l.94 2.06.94-2.06 2.06-.94-2.06-.94-.94-2.06-.94 2.06-2.06.94zm-11 1L8.5 8.5l.94-2.06 2.06-.94-2.06-.94L8.5 2.5l-.94 2.06-2.06.94zm10 10l.94 2.06.94-2.06 2.06-.94-2.06-.94-.94-2.06-.94 2.06-2.06.94z\"/><path d=\"M17.41 7.96l-1.37-1.37c-.4-.4-.92-.59-1.43-.59-.52 0-1.04.2-1.43.59L10.3 9.45l-7.72 7.72c-.78.78-.78 2.05 0 2.83L4 21.41c.39.39.9.59 1.41.59.51 0 1.02-.2 1.41-.59l7.78-7.78 2.81-2.81c.8-.78.8-2.07 0-2.86zM5.41 20L4 18.59l7.72-7.72 1.47 1.35L5.41 20z\"/>\n",
              "  </svg>\n",
              "      </button>\n",
              "      \n",
              "  <style>\n",
              "    .colab-df-container {\n",
              "      display:flex;\n",
              "      flex-wrap:wrap;\n",
              "      gap: 12px;\n",
              "    }\n",
              "\n",
              "    .colab-df-convert {\n",
              "      background-color: #E8F0FE;\n",
              "      border: none;\n",
              "      border-radius: 50%;\n",
              "      cursor: pointer;\n",
              "      display: none;\n",
              "      fill: #1967D2;\n",
              "      height: 32px;\n",
              "      padding: 0 0 0 0;\n",
              "      width: 32px;\n",
              "    }\n",
              "\n",
              "    .colab-df-convert:hover {\n",
              "      background-color: #E2EBFA;\n",
              "      box-shadow: 0px 1px 2px rgba(60, 64, 67, 0.3), 0px 1px 3px 1px rgba(60, 64, 67, 0.15);\n",
              "      fill: #174EA6;\n",
              "    }\n",
              "\n",
              "    [theme=dark] .colab-df-convert {\n",
              "      background-color: #3B4455;\n",
              "      fill: #D2E3FC;\n",
              "    }\n",
              "\n",
              "    [theme=dark] .colab-df-convert:hover {\n",
              "      background-color: #434B5C;\n",
              "      box-shadow: 0px 1px 3px 1px rgba(0, 0, 0, 0.15);\n",
              "      filter: drop-shadow(0px 1px 2px rgba(0, 0, 0, 0.3));\n",
              "      fill: #FFFFFF;\n",
              "    }\n",
              "  </style>\n",
              "\n",
              "      <script>\n",
              "        const buttonEl =\n",
              "          document.querySelector('#df-b611842b-5b9d-4948-9c1c-d3a5d0459b8e button.colab-df-convert');\n",
              "        buttonEl.style.display =\n",
              "          google.colab.kernel.accessAllowed ? 'block' : 'none';\n",
              "\n",
              "        async function convertToInteractive(key) {\n",
              "          const element = document.querySelector('#df-b611842b-5b9d-4948-9c1c-d3a5d0459b8e');\n",
              "          const dataTable =\n",
              "            await google.colab.kernel.invokeFunction('convertToInteractive',\n",
              "                                                     [key], {});\n",
              "          if (!dataTable) return;\n",
              "\n",
              "          const docLinkHtml = 'Like what you see? Visit the ' +\n",
              "            '<a target=\"_blank\" href=https://colab.research.google.com/notebooks/data_table.ipynb>data table notebook</a>'\n",
              "            + ' to learn more about interactive tables.';\n",
              "          element.innerHTML = '';\n",
              "          dataTable['output_type'] = 'display_data';\n",
              "          await google.colab.output.renderOutput(dataTable, element);\n",
              "          const docLink = document.createElement('div');\n",
              "          docLink.innerHTML = docLinkHtml;\n",
              "          element.appendChild(docLink);\n",
              "        }\n",
              "      </script>\n",
              "    </div>\n",
              "  </div>\n",
              "  "
            ]
          },
          "metadata": {}
        },
        {
          "output_type": "stream",
          "name": "stdout",
          "text": [
            "\n",
            "------------------ Последние 5 строк данных -----------------\n"
          ]
        },
        {
          "output_type": "display_data",
          "data": {
            "text/plain": [
              "                                          hypothesis  reach  impact  \\\n",
              "4  Изменить цвет фона главной страницы, чтобы уве...      3       1   \n",
              "5  Добавить страницу отзывов клиентов о магазине,...      3       2   \n",
              "6  Показать на главной странице баннеры с актуаль...      5       3   \n",
              "7  Добавить форму подписки на все основные страни...     10       7   \n",
              "8  Запустить акцию, дающую скидку на товар в день...      1       9   \n",
              "\n",
              "   confidence  efforts  \n",
              "4           1        1  \n",
              "5           2        3  \n",
              "6           8        3  \n",
              "7           8        5  \n",
              "8           9        5  "
            ],
            "text/html": [
              "\n",
              "  <div id=\"df-58085e19-c8e1-4fb8-be12-8ca758194490\">\n",
              "    <div class=\"colab-df-container\">\n",
              "      <div>\n",
              "<style scoped>\n",
              "    .dataframe tbody tr th:only-of-type {\n",
              "        vertical-align: middle;\n",
              "    }\n",
              "\n",
              "    .dataframe tbody tr th {\n",
              "        vertical-align: top;\n",
              "    }\n",
              "\n",
              "    .dataframe thead th {\n",
              "        text-align: right;\n",
              "    }\n",
              "</style>\n",
              "<table border=\"1\" class=\"dataframe\">\n",
              "  <thead>\n",
              "    <tr style=\"text-align: right;\">\n",
              "      <th></th>\n",
              "      <th>hypothesis</th>\n",
              "      <th>reach</th>\n",
              "      <th>impact</th>\n",
              "      <th>confidence</th>\n",
              "      <th>efforts</th>\n",
              "    </tr>\n",
              "  </thead>\n",
              "  <tbody>\n",
              "    <tr>\n",
              "      <th>4</th>\n",
              "      <td>Изменить цвет фона главной страницы, чтобы уве...</td>\n",
              "      <td>3</td>\n",
              "      <td>1</td>\n",
              "      <td>1</td>\n",
              "      <td>1</td>\n",
              "    </tr>\n",
              "    <tr>\n",
              "      <th>5</th>\n",
              "      <td>Добавить страницу отзывов клиентов о магазине,...</td>\n",
              "      <td>3</td>\n",
              "      <td>2</td>\n",
              "      <td>2</td>\n",
              "      <td>3</td>\n",
              "    </tr>\n",
              "    <tr>\n",
              "      <th>6</th>\n",
              "      <td>Показать на главной странице баннеры с актуаль...</td>\n",
              "      <td>5</td>\n",
              "      <td>3</td>\n",
              "      <td>8</td>\n",
              "      <td>3</td>\n",
              "    </tr>\n",
              "    <tr>\n",
              "      <th>7</th>\n",
              "      <td>Добавить форму подписки на все основные страни...</td>\n",
              "      <td>10</td>\n",
              "      <td>7</td>\n",
              "      <td>8</td>\n",
              "      <td>5</td>\n",
              "    </tr>\n",
              "    <tr>\n",
              "      <th>8</th>\n",
              "      <td>Запустить акцию, дающую скидку на товар в день...</td>\n",
              "      <td>1</td>\n",
              "      <td>9</td>\n",
              "      <td>9</td>\n",
              "      <td>5</td>\n",
              "    </tr>\n",
              "  </tbody>\n",
              "</table>\n",
              "</div>\n",
              "      <button class=\"colab-df-convert\" onclick=\"convertToInteractive('df-58085e19-c8e1-4fb8-be12-8ca758194490')\"\n",
              "              title=\"Convert this dataframe to an interactive table.\"\n",
              "              style=\"display:none;\">\n",
              "        \n",
              "  <svg xmlns=\"http://www.w3.org/2000/svg\" height=\"24px\"viewBox=\"0 0 24 24\"\n",
              "       width=\"24px\">\n",
              "    <path d=\"M0 0h24v24H0V0z\" fill=\"none\"/>\n",
              "    <path d=\"M18.56 5.44l.94 2.06.94-2.06 2.06-.94-2.06-.94-.94-2.06-.94 2.06-2.06.94zm-11 1L8.5 8.5l.94-2.06 2.06-.94-2.06-.94L8.5 2.5l-.94 2.06-2.06.94zm10 10l.94 2.06.94-2.06 2.06-.94-2.06-.94-.94-2.06-.94 2.06-2.06.94z\"/><path d=\"M17.41 7.96l-1.37-1.37c-.4-.4-.92-.59-1.43-.59-.52 0-1.04.2-1.43.59L10.3 9.45l-7.72 7.72c-.78.78-.78 2.05 0 2.83L4 21.41c.39.39.9.59 1.41.59.51 0 1.02-.2 1.41-.59l7.78-7.78 2.81-2.81c.8-.78.8-2.07 0-2.86zM5.41 20L4 18.59l7.72-7.72 1.47 1.35L5.41 20z\"/>\n",
              "  </svg>\n",
              "      </button>\n",
              "      \n",
              "  <style>\n",
              "    .colab-df-container {\n",
              "      display:flex;\n",
              "      flex-wrap:wrap;\n",
              "      gap: 12px;\n",
              "    }\n",
              "\n",
              "    .colab-df-convert {\n",
              "      background-color: #E8F0FE;\n",
              "      border: none;\n",
              "      border-radius: 50%;\n",
              "      cursor: pointer;\n",
              "      display: none;\n",
              "      fill: #1967D2;\n",
              "      height: 32px;\n",
              "      padding: 0 0 0 0;\n",
              "      width: 32px;\n",
              "    }\n",
              "\n",
              "    .colab-df-convert:hover {\n",
              "      background-color: #E2EBFA;\n",
              "      box-shadow: 0px 1px 2px rgba(60, 64, 67, 0.3), 0px 1px 3px 1px rgba(60, 64, 67, 0.15);\n",
              "      fill: #174EA6;\n",
              "    }\n",
              "\n",
              "    [theme=dark] .colab-df-convert {\n",
              "      background-color: #3B4455;\n",
              "      fill: #D2E3FC;\n",
              "    }\n",
              "\n",
              "    [theme=dark] .colab-df-convert:hover {\n",
              "      background-color: #434B5C;\n",
              "      box-shadow: 0px 1px 3px 1px rgba(0, 0, 0, 0.15);\n",
              "      filter: drop-shadow(0px 1px 2px rgba(0, 0, 0, 0.3));\n",
              "      fill: #FFFFFF;\n",
              "    }\n",
              "  </style>\n",
              "\n",
              "      <script>\n",
              "        const buttonEl =\n",
              "          document.querySelector('#df-58085e19-c8e1-4fb8-be12-8ca758194490 button.colab-df-convert');\n",
              "        buttonEl.style.display =\n",
              "          google.colab.kernel.accessAllowed ? 'block' : 'none';\n",
              "\n",
              "        async function convertToInteractive(key) {\n",
              "          const element = document.querySelector('#df-58085e19-c8e1-4fb8-be12-8ca758194490');\n",
              "          const dataTable =\n",
              "            await google.colab.kernel.invokeFunction('convertToInteractive',\n",
              "                                                     [key], {});\n",
              "          if (!dataTable) return;\n",
              "\n",
              "          const docLinkHtml = 'Like what you see? Visit the ' +\n",
              "            '<a target=\"_blank\" href=https://colab.research.google.com/notebooks/data_table.ipynb>data table notebook</a>'\n",
              "            + ' to learn more about interactive tables.';\n",
              "          element.innerHTML = '';\n",
              "          dataTable['output_type'] = 'display_data';\n",
              "          await google.colab.output.renderOutput(dataTable, element);\n",
              "          const docLink = document.createElement('div');\n",
              "          docLink.innerHTML = docLinkHtml;\n",
              "          element.appendChild(docLink);\n",
              "        }\n",
              "      </script>\n",
              "    </div>\n",
              "  </div>\n",
              "  "
            ]
          },
          "metadata": {}
        },
        {
          "output_type": "stream",
          "name": "stdout",
          "text": [
            "\n",
            "------------------ Информация по датасету --------------------\n",
            "\n",
            "<class 'pandas.core.frame.DataFrame'>\n",
            "RangeIndex: 9 entries, 0 to 8\n",
            "Data columns (total 5 columns):\n",
            " #   Column      Non-Null Count  Dtype \n",
            "---  ------      --------------  ----- \n",
            " 0   hypothesis  9 non-null      object\n",
            " 1   reach       9 non-null      int64 \n",
            " 2   impact      9 non-null      int64 \n",
            " 3   confidence  9 non-null      int64 \n",
            " 4   efforts     9 non-null      int64 \n",
            "dtypes: int64(4), object(1)\n",
            "memory usage: 488.0+ bytes\n"
          ]
        },
        {
          "output_type": "display_data",
          "data": {
            "text/plain": [
              "None"
            ]
          },
          "metadata": {}
        },
        {
          "output_type": "stream",
          "name": "stdout",
          "text": [
            "\n",
            "------------------ Пропуски и уникальные значения (без учета пропусков) ---------------\n"
          ]
        },
        {
          "output_type": "display_data",
          "data": {
            "text/plain": [
              "<pandas.io.formats.style.Styler at 0x7fe5505aa2d0>"
            ],
            "text/html": [
              "<style type=\"text/css\">\n",
              "</style>\n",
              "<table id=\"T_504f7_\" class=\"dataframe\">\n",
              "  <thead>\n",
              "    <tr>\n",
              "      <th class=\"blank level0\" >&nbsp;</th>\n",
              "      <th class=\"col_heading level0 col0\" >nan_count</th>\n",
              "      <th class=\"col_heading level0 col1\" >nan_percent</th>\n",
              "      <th class=\"col_heading level0 col2\" >unique_values</th>\n",
              "    </tr>\n",
              "  </thead>\n",
              "  <tbody>\n",
              "    <tr>\n",
              "      <th id=\"T_504f7_level0_row0\" class=\"row_heading level0 row0\" >hypothesis</th>\n",
              "      <td id=\"T_504f7_row0_col0\" class=\"data row0 col0\" >0</td>\n",
              "      <td id=\"T_504f7_row0_col1\" class=\"data row0 col1\" >0.00%</td>\n",
              "      <td id=\"T_504f7_row0_col2\" class=\"data row0 col2\" >9</td>\n",
              "    </tr>\n",
              "    <tr>\n",
              "      <th id=\"T_504f7_level0_row1\" class=\"row_heading level0 row1\" >reach</th>\n",
              "      <td id=\"T_504f7_row1_col0\" class=\"data row1 col0\" >0</td>\n",
              "      <td id=\"T_504f7_row1_col1\" class=\"data row1 col1\" >0.00%</td>\n",
              "      <td id=\"T_504f7_row1_col2\" class=\"data row1 col2\" >6</td>\n",
              "    </tr>\n",
              "    <tr>\n",
              "      <th id=\"T_504f7_level0_row2\" class=\"row_heading level0 row2\" >impact</th>\n",
              "      <td id=\"T_504f7_row2_col0\" class=\"data row2 col0\" >0</td>\n",
              "      <td id=\"T_504f7_row2_col1\" class=\"data row2 col1\" >0.00%</td>\n",
              "      <td id=\"T_504f7_row2_col2\" class=\"data row2 col2\" >7</td>\n",
              "    </tr>\n",
              "    <tr>\n",
              "      <th id=\"T_504f7_level0_row3\" class=\"row_heading level0 row3\" >confidence</th>\n",
              "      <td id=\"T_504f7_row3_col0\" class=\"data row3 col0\" >0</td>\n",
              "      <td id=\"T_504f7_row3_col1\" class=\"data row3 col1\" >0.00%</td>\n",
              "      <td id=\"T_504f7_row3_col2\" class=\"data row3 col2\" >7</td>\n",
              "    </tr>\n",
              "    <tr>\n",
              "      <th id=\"T_504f7_level0_row4\" class=\"row_heading level0 row4\" >efforts</th>\n",
              "      <td id=\"T_504f7_row4_col0\" class=\"data row4 col0\" >0</td>\n",
              "      <td id=\"T_504f7_row4_col1\" class=\"data row4 col1\" >0.00%</td>\n",
              "      <td id=\"T_504f7_row4_col2\" class=\"data row4 col2\" >6</td>\n",
              "    </tr>\n",
              "  </tbody>\n",
              "</table>\n"
            ]
          },
          "metadata": {}
        },
        {
          "output_type": "stream",
          "name": "stdout",
          "text": [
            "\n",
            "------------------ Дубликаты -----------------------\n",
            "\n",
            "Количество явных дубликатов: 0\n",
            "\n"
          ]
        },
        {
          "output_type": "display_data",
          "data": {
            "text/plain": [
              "None"
            ]
          },
          "metadata": {}
        }
      ],
      "source": [
        "display(data_view(hypothesis))"
      ]
    },
    {
      "cell_type": "code",
      "execution_count": null,
      "metadata": {
        "colab": {
          "base_uri": "https://localhost:8080/",
          "height": 1000
        },
        "id": "WRPEsAbGAWDB",
        "outputId": "511a6fe2-389b-4406-b56b-02f1ed660dfc"
      },
      "outputs": [
        {
          "output_type": "stream",
          "name": "stdout",
          "text": [
            "\n",
            "------------------ Первые 5 строк данных -------------------\n"
          ]
        },
        {
          "output_type": "display_data",
          "data": {
            "text/plain": [
              "   transaction_id  visitor_id        date  revenue group\n",
              "0      3667963787  3312258926  2019-08-15     1650     B\n",
              "1      2804400009  3642806036  2019-08-15      730     B\n",
              "2      2961555356  4069496402  2019-08-15      400     A\n",
              "3      3797467345  1196621759  2019-08-15     9759     B\n",
              "4      2282983706  2322279887  2019-08-15     2308     B"
            ],
            "text/html": [
              "\n",
              "  <div id=\"df-cd2ca12d-1bfe-4373-8d72-343d87a2cc94\">\n",
              "    <div class=\"colab-df-container\">\n",
              "      <div>\n",
              "<style scoped>\n",
              "    .dataframe tbody tr th:only-of-type {\n",
              "        vertical-align: middle;\n",
              "    }\n",
              "\n",
              "    .dataframe tbody tr th {\n",
              "        vertical-align: top;\n",
              "    }\n",
              "\n",
              "    .dataframe thead th {\n",
              "        text-align: right;\n",
              "    }\n",
              "</style>\n",
              "<table border=\"1\" class=\"dataframe\">\n",
              "  <thead>\n",
              "    <tr style=\"text-align: right;\">\n",
              "      <th></th>\n",
              "      <th>transaction_id</th>\n",
              "      <th>visitor_id</th>\n",
              "      <th>date</th>\n",
              "      <th>revenue</th>\n",
              "      <th>group</th>\n",
              "    </tr>\n",
              "  </thead>\n",
              "  <tbody>\n",
              "    <tr>\n",
              "      <th>0</th>\n",
              "      <td>3667963787</td>\n",
              "      <td>3312258926</td>\n",
              "      <td>2019-08-15</td>\n",
              "      <td>1650</td>\n",
              "      <td>B</td>\n",
              "    </tr>\n",
              "    <tr>\n",
              "      <th>1</th>\n",
              "      <td>2804400009</td>\n",
              "      <td>3642806036</td>\n",
              "      <td>2019-08-15</td>\n",
              "      <td>730</td>\n",
              "      <td>B</td>\n",
              "    </tr>\n",
              "    <tr>\n",
              "      <th>2</th>\n",
              "      <td>2961555356</td>\n",
              "      <td>4069496402</td>\n",
              "      <td>2019-08-15</td>\n",
              "      <td>400</td>\n",
              "      <td>A</td>\n",
              "    </tr>\n",
              "    <tr>\n",
              "      <th>3</th>\n",
              "      <td>3797467345</td>\n",
              "      <td>1196621759</td>\n",
              "      <td>2019-08-15</td>\n",
              "      <td>9759</td>\n",
              "      <td>B</td>\n",
              "    </tr>\n",
              "    <tr>\n",
              "      <th>4</th>\n",
              "      <td>2282983706</td>\n",
              "      <td>2322279887</td>\n",
              "      <td>2019-08-15</td>\n",
              "      <td>2308</td>\n",
              "      <td>B</td>\n",
              "    </tr>\n",
              "  </tbody>\n",
              "</table>\n",
              "</div>\n",
              "      <button class=\"colab-df-convert\" onclick=\"convertToInteractive('df-cd2ca12d-1bfe-4373-8d72-343d87a2cc94')\"\n",
              "              title=\"Convert this dataframe to an interactive table.\"\n",
              "              style=\"display:none;\">\n",
              "        \n",
              "  <svg xmlns=\"http://www.w3.org/2000/svg\" height=\"24px\"viewBox=\"0 0 24 24\"\n",
              "       width=\"24px\">\n",
              "    <path d=\"M0 0h24v24H0V0z\" fill=\"none\"/>\n",
              "    <path d=\"M18.56 5.44l.94 2.06.94-2.06 2.06-.94-2.06-.94-.94-2.06-.94 2.06-2.06.94zm-11 1L8.5 8.5l.94-2.06 2.06-.94-2.06-.94L8.5 2.5l-.94 2.06-2.06.94zm10 10l.94 2.06.94-2.06 2.06-.94-2.06-.94-.94-2.06-.94 2.06-2.06.94z\"/><path d=\"M17.41 7.96l-1.37-1.37c-.4-.4-.92-.59-1.43-.59-.52 0-1.04.2-1.43.59L10.3 9.45l-7.72 7.72c-.78.78-.78 2.05 0 2.83L4 21.41c.39.39.9.59 1.41.59.51 0 1.02-.2 1.41-.59l7.78-7.78 2.81-2.81c.8-.78.8-2.07 0-2.86zM5.41 20L4 18.59l7.72-7.72 1.47 1.35L5.41 20z\"/>\n",
              "  </svg>\n",
              "      </button>\n",
              "      \n",
              "  <style>\n",
              "    .colab-df-container {\n",
              "      display:flex;\n",
              "      flex-wrap:wrap;\n",
              "      gap: 12px;\n",
              "    }\n",
              "\n",
              "    .colab-df-convert {\n",
              "      background-color: #E8F0FE;\n",
              "      border: none;\n",
              "      border-radius: 50%;\n",
              "      cursor: pointer;\n",
              "      display: none;\n",
              "      fill: #1967D2;\n",
              "      height: 32px;\n",
              "      padding: 0 0 0 0;\n",
              "      width: 32px;\n",
              "    }\n",
              "\n",
              "    .colab-df-convert:hover {\n",
              "      background-color: #E2EBFA;\n",
              "      box-shadow: 0px 1px 2px rgba(60, 64, 67, 0.3), 0px 1px 3px 1px rgba(60, 64, 67, 0.15);\n",
              "      fill: #174EA6;\n",
              "    }\n",
              "\n",
              "    [theme=dark] .colab-df-convert {\n",
              "      background-color: #3B4455;\n",
              "      fill: #D2E3FC;\n",
              "    }\n",
              "\n",
              "    [theme=dark] .colab-df-convert:hover {\n",
              "      background-color: #434B5C;\n",
              "      box-shadow: 0px 1px 3px 1px rgba(0, 0, 0, 0.15);\n",
              "      filter: drop-shadow(0px 1px 2px rgba(0, 0, 0, 0.3));\n",
              "      fill: #FFFFFF;\n",
              "    }\n",
              "  </style>\n",
              "\n",
              "      <script>\n",
              "        const buttonEl =\n",
              "          document.querySelector('#df-cd2ca12d-1bfe-4373-8d72-343d87a2cc94 button.colab-df-convert');\n",
              "        buttonEl.style.display =\n",
              "          google.colab.kernel.accessAllowed ? 'block' : 'none';\n",
              "\n",
              "        async function convertToInteractive(key) {\n",
              "          const element = document.querySelector('#df-cd2ca12d-1bfe-4373-8d72-343d87a2cc94');\n",
              "          const dataTable =\n",
              "            await google.colab.kernel.invokeFunction('convertToInteractive',\n",
              "                                                     [key], {});\n",
              "          if (!dataTable) return;\n",
              "\n",
              "          const docLinkHtml = 'Like what you see? Visit the ' +\n",
              "            '<a target=\"_blank\" href=https://colab.research.google.com/notebooks/data_table.ipynb>data table notebook</a>'\n",
              "            + ' to learn more about interactive tables.';\n",
              "          element.innerHTML = '';\n",
              "          dataTable['output_type'] = 'display_data';\n",
              "          await google.colab.output.renderOutput(dataTable, element);\n",
              "          const docLink = document.createElement('div');\n",
              "          docLink.innerHTML = docLinkHtml;\n",
              "          element.appendChild(docLink);\n",
              "        }\n",
              "      </script>\n",
              "    </div>\n",
              "  </div>\n",
              "  "
            ]
          },
          "metadata": {}
        },
        {
          "output_type": "stream",
          "name": "stdout",
          "text": [
            "\n",
            "------------------ Последние 5 строк данных -----------------\n"
          ]
        },
        {
          "output_type": "display_data",
          "data": {
            "text/plain": [
              "      transaction_id  visitor_id        date  revenue group\n",
              "1192      2662137336  3733762160  2019-08-14     6490     B\n",
              "1193      2203539145   370388673  2019-08-14     3190     A\n",
              "1194      1807773912   573423106  2019-08-14    10550     A\n",
              "1195      1947021204  1614305549  2019-08-14      100     A\n",
              "1196      3936777065  2108080724  2019-08-15   202740     B"
            ],
            "text/html": [
              "\n",
              "  <div id=\"df-f1ebb5df-ff34-4b3c-b3bd-667723d2b27c\">\n",
              "    <div class=\"colab-df-container\">\n",
              "      <div>\n",
              "<style scoped>\n",
              "    .dataframe tbody tr th:only-of-type {\n",
              "        vertical-align: middle;\n",
              "    }\n",
              "\n",
              "    .dataframe tbody tr th {\n",
              "        vertical-align: top;\n",
              "    }\n",
              "\n",
              "    .dataframe thead th {\n",
              "        text-align: right;\n",
              "    }\n",
              "</style>\n",
              "<table border=\"1\" class=\"dataframe\">\n",
              "  <thead>\n",
              "    <tr style=\"text-align: right;\">\n",
              "      <th></th>\n",
              "      <th>transaction_id</th>\n",
              "      <th>visitor_id</th>\n",
              "      <th>date</th>\n",
              "      <th>revenue</th>\n",
              "      <th>group</th>\n",
              "    </tr>\n",
              "  </thead>\n",
              "  <tbody>\n",
              "    <tr>\n",
              "      <th>1192</th>\n",
              "      <td>2662137336</td>\n",
              "      <td>3733762160</td>\n",
              "      <td>2019-08-14</td>\n",
              "      <td>6490</td>\n",
              "      <td>B</td>\n",
              "    </tr>\n",
              "    <tr>\n",
              "      <th>1193</th>\n",
              "      <td>2203539145</td>\n",
              "      <td>370388673</td>\n",
              "      <td>2019-08-14</td>\n",
              "      <td>3190</td>\n",
              "      <td>A</td>\n",
              "    </tr>\n",
              "    <tr>\n",
              "      <th>1194</th>\n",
              "      <td>1807773912</td>\n",
              "      <td>573423106</td>\n",
              "      <td>2019-08-14</td>\n",
              "      <td>10550</td>\n",
              "      <td>A</td>\n",
              "    </tr>\n",
              "    <tr>\n",
              "      <th>1195</th>\n",
              "      <td>1947021204</td>\n",
              "      <td>1614305549</td>\n",
              "      <td>2019-08-14</td>\n",
              "      <td>100</td>\n",
              "      <td>A</td>\n",
              "    </tr>\n",
              "    <tr>\n",
              "      <th>1196</th>\n",
              "      <td>3936777065</td>\n",
              "      <td>2108080724</td>\n",
              "      <td>2019-08-15</td>\n",
              "      <td>202740</td>\n",
              "      <td>B</td>\n",
              "    </tr>\n",
              "  </tbody>\n",
              "</table>\n",
              "</div>\n",
              "      <button class=\"colab-df-convert\" onclick=\"convertToInteractive('df-f1ebb5df-ff34-4b3c-b3bd-667723d2b27c')\"\n",
              "              title=\"Convert this dataframe to an interactive table.\"\n",
              "              style=\"display:none;\">\n",
              "        \n",
              "  <svg xmlns=\"http://www.w3.org/2000/svg\" height=\"24px\"viewBox=\"0 0 24 24\"\n",
              "       width=\"24px\">\n",
              "    <path d=\"M0 0h24v24H0V0z\" fill=\"none\"/>\n",
              "    <path d=\"M18.56 5.44l.94 2.06.94-2.06 2.06-.94-2.06-.94-.94-2.06-.94 2.06-2.06.94zm-11 1L8.5 8.5l.94-2.06 2.06-.94-2.06-.94L8.5 2.5l-.94 2.06-2.06.94zm10 10l.94 2.06.94-2.06 2.06-.94-2.06-.94-.94-2.06-.94 2.06-2.06.94z\"/><path d=\"M17.41 7.96l-1.37-1.37c-.4-.4-.92-.59-1.43-.59-.52 0-1.04.2-1.43.59L10.3 9.45l-7.72 7.72c-.78.78-.78 2.05 0 2.83L4 21.41c.39.39.9.59 1.41.59.51 0 1.02-.2 1.41-.59l7.78-7.78 2.81-2.81c.8-.78.8-2.07 0-2.86zM5.41 20L4 18.59l7.72-7.72 1.47 1.35L5.41 20z\"/>\n",
              "  </svg>\n",
              "      </button>\n",
              "      \n",
              "  <style>\n",
              "    .colab-df-container {\n",
              "      display:flex;\n",
              "      flex-wrap:wrap;\n",
              "      gap: 12px;\n",
              "    }\n",
              "\n",
              "    .colab-df-convert {\n",
              "      background-color: #E8F0FE;\n",
              "      border: none;\n",
              "      border-radius: 50%;\n",
              "      cursor: pointer;\n",
              "      display: none;\n",
              "      fill: #1967D2;\n",
              "      height: 32px;\n",
              "      padding: 0 0 0 0;\n",
              "      width: 32px;\n",
              "    }\n",
              "\n",
              "    .colab-df-convert:hover {\n",
              "      background-color: #E2EBFA;\n",
              "      box-shadow: 0px 1px 2px rgba(60, 64, 67, 0.3), 0px 1px 3px 1px rgba(60, 64, 67, 0.15);\n",
              "      fill: #174EA6;\n",
              "    }\n",
              "\n",
              "    [theme=dark] .colab-df-convert {\n",
              "      background-color: #3B4455;\n",
              "      fill: #D2E3FC;\n",
              "    }\n",
              "\n",
              "    [theme=dark] .colab-df-convert:hover {\n",
              "      background-color: #434B5C;\n",
              "      box-shadow: 0px 1px 3px 1px rgba(0, 0, 0, 0.15);\n",
              "      filter: drop-shadow(0px 1px 2px rgba(0, 0, 0, 0.3));\n",
              "      fill: #FFFFFF;\n",
              "    }\n",
              "  </style>\n",
              "\n",
              "      <script>\n",
              "        const buttonEl =\n",
              "          document.querySelector('#df-f1ebb5df-ff34-4b3c-b3bd-667723d2b27c button.colab-df-convert');\n",
              "        buttonEl.style.display =\n",
              "          google.colab.kernel.accessAllowed ? 'block' : 'none';\n",
              "\n",
              "        async function convertToInteractive(key) {\n",
              "          const element = document.querySelector('#df-f1ebb5df-ff34-4b3c-b3bd-667723d2b27c');\n",
              "          const dataTable =\n",
              "            await google.colab.kernel.invokeFunction('convertToInteractive',\n",
              "                                                     [key], {});\n",
              "          if (!dataTable) return;\n",
              "\n",
              "          const docLinkHtml = 'Like what you see? Visit the ' +\n",
              "            '<a target=\"_blank\" href=https://colab.research.google.com/notebooks/data_table.ipynb>data table notebook</a>'\n",
              "            + ' to learn more about interactive tables.';\n",
              "          element.innerHTML = '';\n",
              "          dataTable['output_type'] = 'display_data';\n",
              "          await google.colab.output.renderOutput(dataTable, element);\n",
              "          const docLink = document.createElement('div');\n",
              "          docLink.innerHTML = docLinkHtml;\n",
              "          element.appendChild(docLink);\n",
              "        }\n",
              "      </script>\n",
              "    </div>\n",
              "  </div>\n",
              "  "
            ]
          },
          "metadata": {}
        },
        {
          "output_type": "stream",
          "name": "stdout",
          "text": [
            "\n",
            "------------------ Информация по датасету --------------------\n",
            "\n",
            "<class 'pandas.core.frame.DataFrame'>\n",
            "RangeIndex: 1197 entries, 0 to 1196\n",
            "Data columns (total 5 columns):\n",
            " #   Column          Non-Null Count  Dtype \n",
            "---  ------          --------------  ----- \n",
            " 0   transaction_id  1197 non-null   int64 \n",
            " 1   visitor_id      1197 non-null   int64 \n",
            " 2   date            1197 non-null   object\n",
            " 3   revenue         1197 non-null   int64 \n",
            " 4   group           1197 non-null   object\n",
            "dtypes: int64(3), object(2)\n",
            "memory usage: 46.9+ KB\n"
          ]
        },
        {
          "output_type": "display_data",
          "data": {
            "text/plain": [
              "None"
            ]
          },
          "metadata": {}
        },
        {
          "output_type": "stream",
          "name": "stdout",
          "text": [
            "\n",
            "------------------ Пропуски и уникальные значения (без учета пропусков) ---------------\n"
          ]
        },
        {
          "output_type": "display_data",
          "data": {
            "text/plain": [
              "<pandas.io.formats.style.Styler at 0x7fe54fdeca10>"
            ],
            "text/html": [
              "<style type=\"text/css\">\n",
              "</style>\n",
              "<table id=\"T_53ce5_\" class=\"dataframe\">\n",
              "  <thead>\n",
              "    <tr>\n",
              "      <th class=\"blank level0\" >&nbsp;</th>\n",
              "      <th class=\"col_heading level0 col0\" >nan_count</th>\n",
              "      <th class=\"col_heading level0 col1\" >nan_percent</th>\n",
              "      <th class=\"col_heading level0 col2\" >unique_values</th>\n",
              "    </tr>\n",
              "  </thead>\n",
              "  <tbody>\n",
              "    <tr>\n",
              "      <th id=\"T_53ce5_level0_row0\" class=\"row_heading level0 row0\" >transaction_id</th>\n",
              "      <td id=\"T_53ce5_row0_col0\" class=\"data row0 col0\" >0</td>\n",
              "      <td id=\"T_53ce5_row0_col1\" class=\"data row0 col1\" >0.00%</td>\n",
              "      <td id=\"T_53ce5_row0_col2\" class=\"data row0 col2\" >1197</td>\n",
              "    </tr>\n",
              "    <tr>\n",
              "      <th id=\"T_53ce5_level0_row1\" class=\"row_heading level0 row1\" >visitor_id</th>\n",
              "      <td id=\"T_53ce5_row1_col0\" class=\"data row1 col0\" >0</td>\n",
              "      <td id=\"T_53ce5_row1_col1\" class=\"data row1 col1\" >0.00%</td>\n",
              "      <td id=\"T_53ce5_row1_col2\" class=\"data row1 col2\" >1031</td>\n",
              "    </tr>\n",
              "    <tr>\n",
              "      <th id=\"T_53ce5_level0_row2\" class=\"row_heading level0 row2\" >date</th>\n",
              "      <td id=\"T_53ce5_row2_col0\" class=\"data row2 col0\" >0</td>\n",
              "      <td id=\"T_53ce5_row2_col1\" class=\"data row2 col1\" >0.00%</td>\n",
              "      <td id=\"T_53ce5_row2_col2\" class=\"data row2 col2\" >31</td>\n",
              "    </tr>\n",
              "    <tr>\n",
              "      <th id=\"T_53ce5_level0_row3\" class=\"row_heading level0 row3\" >revenue</th>\n",
              "      <td id=\"T_53ce5_row3_col0\" class=\"data row3 col0\" >0</td>\n",
              "      <td id=\"T_53ce5_row3_col1\" class=\"data row3 col1\" >0.00%</td>\n",
              "      <td id=\"T_53ce5_row3_col2\" class=\"data row3 col2\" >713</td>\n",
              "    </tr>\n",
              "    <tr>\n",
              "      <th id=\"T_53ce5_level0_row4\" class=\"row_heading level0 row4\" >group</th>\n",
              "      <td id=\"T_53ce5_row4_col0\" class=\"data row4 col0\" >0</td>\n",
              "      <td id=\"T_53ce5_row4_col1\" class=\"data row4 col1\" >0.00%</td>\n",
              "      <td id=\"T_53ce5_row4_col2\" class=\"data row4 col2\" >2</td>\n",
              "    </tr>\n",
              "  </tbody>\n",
              "</table>\n"
            ]
          },
          "metadata": {}
        },
        {
          "output_type": "stream",
          "name": "stdout",
          "text": [
            "\n",
            "------------------ Дубликаты -----------------------\n",
            "\n",
            "Количество явных дубликатов: 0\n",
            "\n"
          ]
        },
        {
          "output_type": "display_data",
          "data": {
            "text/plain": [
              "None"
            ]
          },
          "metadata": {}
        }
      ],
      "source": [
        "display(data_view(orders))"
      ]
    },
    {
      "cell_type": "code",
      "execution_count": null,
      "metadata": {
        "colab": {
          "base_uri": "https://localhost:8080/",
          "height": 1000
        },
        "id": "wNh_hOe_AWDC",
        "outputId": "3562a908-3761-4de4-f82e-3154ecb80913"
      },
      "outputs": [
        {
          "output_type": "stream",
          "name": "stdout",
          "text": [
            "\n",
            "------------------ Первые 5 строк данных -------------------\n"
          ]
        },
        {
          "output_type": "display_data",
          "data": {
            "text/plain": [
              "   transaction_id  visitor_id        date  revenue group\n",
              "0      3667963787  3312258926  2019-08-15     1650     B\n",
              "1      2804400009  3642806036  2019-08-15      730     B\n",
              "2      2961555356  4069496402  2019-08-15      400     A\n",
              "3      3797467345  1196621759  2019-08-15     9759     B\n",
              "4      2282983706  2322279887  2019-08-15     2308     B"
            ],
            "text/html": [
              "\n",
              "  <div id=\"df-b0d0c66c-ffa4-4f4d-ad3d-3b0bdb2183ad\">\n",
              "    <div class=\"colab-df-container\">\n",
              "      <div>\n",
              "<style scoped>\n",
              "    .dataframe tbody tr th:only-of-type {\n",
              "        vertical-align: middle;\n",
              "    }\n",
              "\n",
              "    .dataframe tbody tr th {\n",
              "        vertical-align: top;\n",
              "    }\n",
              "\n",
              "    .dataframe thead th {\n",
              "        text-align: right;\n",
              "    }\n",
              "</style>\n",
              "<table border=\"1\" class=\"dataframe\">\n",
              "  <thead>\n",
              "    <tr style=\"text-align: right;\">\n",
              "      <th></th>\n",
              "      <th>transaction_id</th>\n",
              "      <th>visitor_id</th>\n",
              "      <th>date</th>\n",
              "      <th>revenue</th>\n",
              "      <th>group</th>\n",
              "    </tr>\n",
              "  </thead>\n",
              "  <tbody>\n",
              "    <tr>\n",
              "      <th>0</th>\n",
              "      <td>3667963787</td>\n",
              "      <td>3312258926</td>\n",
              "      <td>2019-08-15</td>\n",
              "      <td>1650</td>\n",
              "      <td>B</td>\n",
              "    </tr>\n",
              "    <tr>\n",
              "      <th>1</th>\n",
              "      <td>2804400009</td>\n",
              "      <td>3642806036</td>\n",
              "      <td>2019-08-15</td>\n",
              "      <td>730</td>\n",
              "      <td>B</td>\n",
              "    </tr>\n",
              "    <tr>\n",
              "      <th>2</th>\n",
              "      <td>2961555356</td>\n",
              "      <td>4069496402</td>\n",
              "      <td>2019-08-15</td>\n",
              "      <td>400</td>\n",
              "      <td>A</td>\n",
              "    </tr>\n",
              "    <tr>\n",
              "      <th>3</th>\n",
              "      <td>3797467345</td>\n",
              "      <td>1196621759</td>\n",
              "      <td>2019-08-15</td>\n",
              "      <td>9759</td>\n",
              "      <td>B</td>\n",
              "    </tr>\n",
              "    <tr>\n",
              "      <th>4</th>\n",
              "      <td>2282983706</td>\n",
              "      <td>2322279887</td>\n",
              "      <td>2019-08-15</td>\n",
              "      <td>2308</td>\n",
              "      <td>B</td>\n",
              "    </tr>\n",
              "  </tbody>\n",
              "</table>\n",
              "</div>\n",
              "      <button class=\"colab-df-convert\" onclick=\"convertToInteractive('df-b0d0c66c-ffa4-4f4d-ad3d-3b0bdb2183ad')\"\n",
              "              title=\"Convert this dataframe to an interactive table.\"\n",
              "              style=\"display:none;\">\n",
              "        \n",
              "  <svg xmlns=\"http://www.w3.org/2000/svg\" height=\"24px\"viewBox=\"0 0 24 24\"\n",
              "       width=\"24px\">\n",
              "    <path d=\"M0 0h24v24H0V0z\" fill=\"none\"/>\n",
              "    <path d=\"M18.56 5.44l.94 2.06.94-2.06 2.06-.94-2.06-.94-.94-2.06-.94 2.06-2.06.94zm-11 1L8.5 8.5l.94-2.06 2.06-.94-2.06-.94L8.5 2.5l-.94 2.06-2.06.94zm10 10l.94 2.06.94-2.06 2.06-.94-2.06-.94-.94-2.06-.94 2.06-2.06.94z\"/><path d=\"M17.41 7.96l-1.37-1.37c-.4-.4-.92-.59-1.43-.59-.52 0-1.04.2-1.43.59L10.3 9.45l-7.72 7.72c-.78.78-.78 2.05 0 2.83L4 21.41c.39.39.9.59 1.41.59.51 0 1.02-.2 1.41-.59l7.78-7.78 2.81-2.81c.8-.78.8-2.07 0-2.86zM5.41 20L4 18.59l7.72-7.72 1.47 1.35L5.41 20z\"/>\n",
              "  </svg>\n",
              "      </button>\n",
              "      \n",
              "  <style>\n",
              "    .colab-df-container {\n",
              "      display:flex;\n",
              "      flex-wrap:wrap;\n",
              "      gap: 12px;\n",
              "    }\n",
              "\n",
              "    .colab-df-convert {\n",
              "      background-color: #E8F0FE;\n",
              "      border: none;\n",
              "      border-radius: 50%;\n",
              "      cursor: pointer;\n",
              "      display: none;\n",
              "      fill: #1967D2;\n",
              "      height: 32px;\n",
              "      padding: 0 0 0 0;\n",
              "      width: 32px;\n",
              "    }\n",
              "\n",
              "    .colab-df-convert:hover {\n",
              "      background-color: #E2EBFA;\n",
              "      box-shadow: 0px 1px 2px rgba(60, 64, 67, 0.3), 0px 1px 3px 1px rgba(60, 64, 67, 0.15);\n",
              "      fill: #174EA6;\n",
              "    }\n",
              "\n",
              "    [theme=dark] .colab-df-convert {\n",
              "      background-color: #3B4455;\n",
              "      fill: #D2E3FC;\n",
              "    }\n",
              "\n",
              "    [theme=dark] .colab-df-convert:hover {\n",
              "      background-color: #434B5C;\n",
              "      box-shadow: 0px 1px 3px 1px rgba(0, 0, 0, 0.15);\n",
              "      filter: drop-shadow(0px 1px 2px rgba(0, 0, 0, 0.3));\n",
              "      fill: #FFFFFF;\n",
              "    }\n",
              "  </style>\n",
              "\n",
              "      <script>\n",
              "        const buttonEl =\n",
              "          document.querySelector('#df-b0d0c66c-ffa4-4f4d-ad3d-3b0bdb2183ad button.colab-df-convert');\n",
              "        buttonEl.style.display =\n",
              "          google.colab.kernel.accessAllowed ? 'block' : 'none';\n",
              "\n",
              "        async function convertToInteractive(key) {\n",
              "          const element = document.querySelector('#df-b0d0c66c-ffa4-4f4d-ad3d-3b0bdb2183ad');\n",
              "          const dataTable =\n",
              "            await google.colab.kernel.invokeFunction('convertToInteractive',\n",
              "                                                     [key], {});\n",
              "          if (!dataTable) return;\n",
              "\n",
              "          const docLinkHtml = 'Like what you see? Visit the ' +\n",
              "            '<a target=\"_blank\" href=https://colab.research.google.com/notebooks/data_table.ipynb>data table notebook</a>'\n",
              "            + ' to learn more about interactive tables.';\n",
              "          element.innerHTML = '';\n",
              "          dataTable['output_type'] = 'display_data';\n",
              "          await google.colab.output.renderOutput(dataTable, element);\n",
              "          const docLink = document.createElement('div');\n",
              "          docLink.innerHTML = docLinkHtml;\n",
              "          element.appendChild(docLink);\n",
              "        }\n",
              "      </script>\n",
              "    </div>\n",
              "  </div>\n",
              "  "
            ]
          },
          "metadata": {}
        },
        {
          "output_type": "stream",
          "name": "stdout",
          "text": [
            "\n",
            "------------------ Последние 5 строк данных -----------------\n"
          ]
        },
        {
          "output_type": "display_data",
          "data": {
            "text/plain": [
              "      transaction_id  visitor_id        date  revenue group\n",
              "1192      2662137336  3733762160  2019-08-14     6490     B\n",
              "1193      2203539145   370388673  2019-08-14     3190     A\n",
              "1194      1807773912   573423106  2019-08-14    10550     A\n",
              "1195      1947021204  1614305549  2019-08-14      100     A\n",
              "1196      3936777065  2108080724  2019-08-15   202740     B"
            ],
            "text/html": [
              "\n",
              "  <div id=\"df-62afeffe-8bd8-43bd-8b39-1f34e7fd0355\">\n",
              "    <div class=\"colab-df-container\">\n",
              "      <div>\n",
              "<style scoped>\n",
              "    .dataframe tbody tr th:only-of-type {\n",
              "        vertical-align: middle;\n",
              "    }\n",
              "\n",
              "    .dataframe tbody tr th {\n",
              "        vertical-align: top;\n",
              "    }\n",
              "\n",
              "    .dataframe thead th {\n",
              "        text-align: right;\n",
              "    }\n",
              "</style>\n",
              "<table border=\"1\" class=\"dataframe\">\n",
              "  <thead>\n",
              "    <tr style=\"text-align: right;\">\n",
              "      <th></th>\n",
              "      <th>transaction_id</th>\n",
              "      <th>visitor_id</th>\n",
              "      <th>date</th>\n",
              "      <th>revenue</th>\n",
              "      <th>group</th>\n",
              "    </tr>\n",
              "  </thead>\n",
              "  <tbody>\n",
              "    <tr>\n",
              "      <th>1192</th>\n",
              "      <td>2662137336</td>\n",
              "      <td>3733762160</td>\n",
              "      <td>2019-08-14</td>\n",
              "      <td>6490</td>\n",
              "      <td>B</td>\n",
              "    </tr>\n",
              "    <tr>\n",
              "      <th>1193</th>\n",
              "      <td>2203539145</td>\n",
              "      <td>370388673</td>\n",
              "      <td>2019-08-14</td>\n",
              "      <td>3190</td>\n",
              "      <td>A</td>\n",
              "    </tr>\n",
              "    <tr>\n",
              "      <th>1194</th>\n",
              "      <td>1807773912</td>\n",
              "      <td>573423106</td>\n",
              "      <td>2019-08-14</td>\n",
              "      <td>10550</td>\n",
              "      <td>A</td>\n",
              "    </tr>\n",
              "    <tr>\n",
              "      <th>1195</th>\n",
              "      <td>1947021204</td>\n",
              "      <td>1614305549</td>\n",
              "      <td>2019-08-14</td>\n",
              "      <td>100</td>\n",
              "      <td>A</td>\n",
              "    </tr>\n",
              "    <tr>\n",
              "      <th>1196</th>\n",
              "      <td>3936777065</td>\n",
              "      <td>2108080724</td>\n",
              "      <td>2019-08-15</td>\n",
              "      <td>202740</td>\n",
              "      <td>B</td>\n",
              "    </tr>\n",
              "  </tbody>\n",
              "</table>\n",
              "</div>\n",
              "      <button class=\"colab-df-convert\" onclick=\"convertToInteractive('df-62afeffe-8bd8-43bd-8b39-1f34e7fd0355')\"\n",
              "              title=\"Convert this dataframe to an interactive table.\"\n",
              "              style=\"display:none;\">\n",
              "        \n",
              "  <svg xmlns=\"http://www.w3.org/2000/svg\" height=\"24px\"viewBox=\"0 0 24 24\"\n",
              "       width=\"24px\">\n",
              "    <path d=\"M0 0h24v24H0V0z\" fill=\"none\"/>\n",
              "    <path d=\"M18.56 5.44l.94 2.06.94-2.06 2.06-.94-2.06-.94-.94-2.06-.94 2.06-2.06.94zm-11 1L8.5 8.5l.94-2.06 2.06-.94-2.06-.94L8.5 2.5l-.94 2.06-2.06.94zm10 10l.94 2.06.94-2.06 2.06-.94-2.06-.94-.94-2.06-.94 2.06-2.06.94z\"/><path d=\"M17.41 7.96l-1.37-1.37c-.4-.4-.92-.59-1.43-.59-.52 0-1.04.2-1.43.59L10.3 9.45l-7.72 7.72c-.78.78-.78 2.05 0 2.83L4 21.41c.39.39.9.59 1.41.59.51 0 1.02-.2 1.41-.59l7.78-7.78 2.81-2.81c.8-.78.8-2.07 0-2.86zM5.41 20L4 18.59l7.72-7.72 1.47 1.35L5.41 20z\"/>\n",
              "  </svg>\n",
              "      </button>\n",
              "      \n",
              "  <style>\n",
              "    .colab-df-container {\n",
              "      display:flex;\n",
              "      flex-wrap:wrap;\n",
              "      gap: 12px;\n",
              "    }\n",
              "\n",
              "    .colab-df-convert {\n",
              "      background-color: #E8F0FE;\n",
              "      border: none;\n",
              "      border-radius: 50%;\n",
              "      cursor: pointer;\n",
              "      display: none;\n",
              "      fill: #1967D2;\n",
              "      height: 32px;\n",
              "      padding: 0 0 0 0;\n",
              "      width: 32px;\n",
              "    }\n",
              "\n",
              "    .colab-df-convert:hover {\n",
              "      background-color: #E2EBFA;\n",
              "      box-shadow: 0px 1px 2px rgba(60, 64, 67, 0.3), 0px 1px 3px 1px rgba(60, 64, 67, 0.15);\n",
              "      fill: #174EA6;\n",
              "    }\n",
              "\n",
              "    [theme=dark] .colab-df-convert {\n",
              "      background-color: #3B4455;\n",
              "      fill: #D2E3FC;\n",
              "    }\n",
              "\n",
              "    [theme=dark] .colab-df-convert:hover {\n",
              "      background-color: #434B5C;\n",
              "      box-shadow: 0px 1px 3px 1px rgba(0, 0, 0, 0.15);\n",
              "      filter: drop-shadow(0px 1px 2px rgba(0, 0, 0, 0.3));\n",
              "      fill: #FFFFFF;\n",
              "    }\n",
              "  </style>\n",
              "\n",
              "      <script>\n",
              "        const buttonEl =\n",
              "          document.querySelector('#df-62afeffe-8bd8-43bd-8b39-1f34e7fd0355 button.colab-df-convert');\n",
              "        buttonEl.style.display =\n",
              "          google.colab.kernel.accessAllowed ? 'block' : 'none';\n",
              "\n",
              "        async function convertToInteractive(key) {\n",
              "          const element = document.querySelector('#df-62afeffe-8bd8-43bd-8b39-1f34e7fd0355');\n",
              "          const dataTable =\n",
              "            await google.colab.kernel.invokeFunction('convertToInteractive',\n",
              "                                                     [key], {});\n",
              "          if (!dataTable) return;\n",
              "\n",
              "          const docLinkHtml = 'Like what you see? Visit the ' +\n",
              "            '<a target=\"_blank\" href=https://colab.research.google.com/notebooks/data_table.ipynb>data table notebook</a>'\n",
              "            + ' to learn more about interactive tables.';\n",
              "          element.innerHTML = '';\n",
              "          dataTable['output_type'] = 'display_data';\n",
              "          await google.colab.output.renderOutput(dataTable, element);\n",
              "          const docLink = document.createElement('div');\n",
              "          docLink.innerHTML = docLinkHtml;\n",
              "          element.appendChild(docLink);\n",
              "        }\n",
              "      </script>\n",
              "    </div>\n",
              "  </div>\n",
              "  "
            ]
          },
          "metadata": {}
        },
        {
          "output_type": "stream",
          "name": "stdout",
          "text": [
            "\n",
            "------------------ Информация по датасету --------------------\n",
            "\n",
            "<class 'pandas.core.frame.DataFrame'>\n",
            "RangeIndex: 1197 entries, 0 to 1196\n",
            "Data columns (total 5 columns):\n",
            " #   Column          Non-Null Count  Dtype \n",
            "---  ------          --------------  ----- \n",
            " 0   transaction_id  1197 non-null   int64 \n",
            " 1   visitor_id      1197 non-null   int64 \n",
            " 2   date            1197 non-null   object\n",
            " 3   revenue         1197 non-null   int64 \n",
            " 4   group           1197 non-null   object\n",
            "dtypes: int64(3), object(2)\n",
            "memory usage: 46.9+ KB\n"
          ]
        },
        {
          "output_type": "display_data",
          "data": {
            "text/plain": [
              "None"
            ]
          },
          "metadata": {}
        },
        {
          "output_type": "stream",
          "name": "stdout",
          "text": [
            "\n",
            "------------------ Пропуски и уникальные значения (без учета пропусков) ---------------\n"
          ]
        },
        {
          "output_type": "display_data",
          "data": {
            "text/plain": [
              "<pandas.io.formats.style.Styler at 0x7fe54fe23f90>"
            ],
            "text/html": [
              "<style type=\"text/css\">\n",
              "</style>\n",
              "<table id=\"T_4147b_\" class=\"dataframe\">\n",
              "  <thead>\n",
              "    <tr>\n",
              "      <th class=\"blank level0\" >&nbsp;</th>\n",
              "      <th class=\"col_heading level0 col0\" >nan_count</th>\n",
              "      <th class=\"col_heading level0 col1\" >nan_percent</th>\n",
              "      <th class=\"col_heading level0 col2\" >unique_values</th>\n",
              "    </tr>\n",
              "  </thead>\n",
              "  <tbody>\n",
              "    <tr>\n",
              "      <th id=\"T_4147b_level0_row0\" class=\"row_heading level0 row0\" >transaction_id</th>\n",
              "      <td id=\"T_4147b_row0_col0\" class=\"data row0 col0\" >0</td>\n",
              "      <td id=\"T_4147b_row0_col1\" class=\"data row0 col1\" >0.00%</td>\n",
              "      <td id=\"T_4147b_row0_col2\" class=\"data row0 col2\" >1197</td>\n",
              "    </tr>\n",
              "    <tr>\n",
              "      <th id=\"T_4147b_level0_row1\" class=\"row_heading level0 row1\" >visitor_id</th>\n",
              "      <td id=\"T_4147b_row1_col0\" class=\"data row1 col0\" >0</td>\n",
              "      <td id=\"T_4147b_row1_col1\" class=\"data row1 col1\" >0.00%</td>\n",
              "      <td id=\"T_4147b_row1_col2\" class=\"data row1 col2\" >1031</td>\n",
              "    </tr>\n",
              "    <tr>\n",
              "      <th id=\"T_4147b_level0_row2\" class=\"row_heading level0 row2\" >date</th>\n",
              "      <td id=\"T_4147b_row2_col0\" class=\"data row2 col0\" >0</td>\n",
              "      <td id=\"T_4147b_row2_col1\" class=\"data row2 col1\" >0.00%</td>\n",
              "      <td id=\"T_4147b_row2_col2\" class=\"data row2 col2\" >31</td>\n",
              "    </tr>\n",
              "    <tr>\n",
              "      <th id=\"T_4147b_level0_row3\" class=\"row_heading level0 row3\" >revenue</th>\n",
              "      <td id=\"T_4147b_row3_col0\" class=\"data row3 col0\" >0</td>\n",
              "      <td id=\"T_4147b_row3_col1\" class=\"data row3 col1\" >0.00%</td>\n",
              "      <td id=\"T_4147b_row3_col2\" class=\"data row3 col2\" >713</td>\n",
              "    </tr>\n",
              "    <tr>\n",
              "      <th id=\"T_4147b_level0_row4\" class=\"row_heading level0 row4\" >group</th>\n",
              "      <td id=\"T_4147b_row4_col0\" class=\"data row4 col0\" >0</td>\n",
              "      <td id=\"T_4147b_row4_col1\" class=\"data row4 col1\" >0.00%</td>\n",
              "      <td id=\"T_4147b_row4_col2\" class=\"data row4 col2\" >2</td>\n",
              "    </tr>\n",
              "  </tbody>\n",
              "</table>\n"
            ]
          },
          "metadata": {}
        },
        {
          "output_type": "stream",
          "name": "stdout",
          "text": [
            "\n",
            "------------------ Дубликаты -----------------------\n",
            "\n",
            "Количество явных дубликатов: 0\n",
            "\n"
          ]
        },
        {
          "output_type": "display_data",
          "data": {
            "text/plain": [
              "None"
            ]
          },
          "metadata": {}
        }
      ],
      "source": [
        "display(data_view(visitors))"
      ]
    },
    {
      "cell_type": "code",
      "execution_count": null,
      "metadata": {
        "colab": {
          "base_uri": "https://localhost:8080/"
        },
        "id": "Wm_4ly4sAWDD",
        "outputId": "99046fcc-e5ec-4f62-d7a4-e152ccf0f8e8"
      },
      "outputs": [
        {
          "output_type": "stream",
          "name": "stdout",
          "text": [
            "Начало теста:  2019-08-01 00:00:00\n",
            "Конец  теста:  2019-08-31 00:00:00\n",
            "Продолжительность теста:  30 days 00:00:00\n"
          ]
        }
      ],
      "source": [
        "#Перевод столбцов с датой к нужному типу\n",
        "visitors['date'] = pd.to_datetime(visitors['date'])\n",
        "orders['date'] = pd.to_datetime(orders['date'])\n",
        "\n",
        "#Узнаем период исследования\n",
        "print('Начало теста: ', visitors['date'].min())\n",
        "print('Конец  теста: ', visitors['date'].max())\n",
        "print('Продолжительность теста: ', visitors['date'].max() - visitors['date'].min())\n",
        "\n"
      ]
    },
    {
      "cell_type": "code",
      "execution_count": null,
      "metadata": {
        "colab": {
          "base_uri": "https://localhost:8080/"
        },
        "id": "WOyxr-0rAWDD",
        "outputId": "cddb4387-ade7-4d5f-ccd1-9a4f68dfcb85"
      },
      "outputs": [
        {
          "output_type": "stream",
          "name": "stdout",
          "text": [
            "Кол-во групп в тесте:  ['B' 'A']\n"
          ]
        }
      ],
      "source": [
        "print('Кол-во групп в тесте: ', visitors['group'].unique())"
      ]
    },
    {
      "cell_type": "code",
      "execution_count": null,
      "metadata": {
        "colab": {
          "base_uri": "https://localhost:8080/"
        },
        "id": "ip5J4AgHAWDE",
        "outputId": "bb06dd0c-923f-4331-aadd-74566c88a2fb"
      },
      "outputs": [
        {
          "output_type": "stream",
          "name": "stdout",
          "text": [
            "Кол-во пользователей в группе А:  503\n",
            "Кол-во пользователей в группе B:  586\n"
          ]
        }
      ],
      "source": [
        "print('Кол-во пользователей в группе А: ', visitors.query('group == \"A\"')['visitor_id'].nunique())\n",
        "print('Кол-во пользователей в группе B: ', visitors.query('group == \"B\"')['visitor_id'].nunique())"
      ]
    },
    {
      "cell_type": "code",
      "source": [],
      "metadata": {
        "id": "9jaJjrA7B-OU"
      },
      "execution_count": null,
      "outputs": []
    },
    {
      "cell_type": "code",
      "execution_count": null,
      "metadata": {
        "scrolled": true,
        "id": "-zt2Rfzqwu5Y",
        "colab": {
          "base_uri": "https://localhost:8080/"
        },
        "outputId": "3cd237fd-f4f4-4311-a101-6273d1c4b03f"
      },
      "outputs": [
        {
          "output_type": "stream",
          "name": "stdout",
          "text": [
            "\n",
            "Обнаружены пересечения по пользователям в группах A/B теста в количестве: 58 шт.\n"
          ]
        }
      ],
      "source": [
        "#Функция по поиску пересечений в группах\n",
        "\n",
        "def check_ab_crossing(data, col_ab, col_id):\n",
        "    # Получаем все уникальные значения групп A/B теста (0)\n",
        "    test_groups = data[col_ab].unique()\n",
        "    # Задаем переменную, в которой будем копить дубли\n",
        "    dubl_id = []\n",
        "    # Будем сравнивать попарно. Для этого запускаем два цикла по уникальным значениям групп\n",
        "    for i in test_groups:\n",
        "        for j in test_groups:\n",
        "            if i != j: # нам неинтересно сравнивать группу саму с сабой. Берем только отличия\n",
        "                # выполняем merge inner для данных по каждой группе (важно, работаем с парами групп). Сохраняем в dubl\n",
        "                dubl = (data.loc[data[col_ab] == i]).merge(data.loc[data[col_ab] == j], on=col_id, how='inner')\n",
        "                # в виде списка отбираем значения в столбце с id пользователя для получившегося датафрейма дублей, если есть\n",
        "                dubl_id += dubl[col_id].to_list() # накапливаем в переменной дубли старые и новые\n",
        "                dubl_id = list(set(dubl_id)) # отбираем только уникальные значения\n",
        "    # Выводим информацию о результате\n",
        "    if len(dubl_id) != 0:\n",
        "        print()\n",
        "        print('Обнаружены пересечения по пользователям в группах A/B теста в количестве: ' \n",
        "              +'{}'.format(len(dubl_id)) \n",
        "              + ' шт.')\n",
        "    else:\n",
        "        print()\n",
        "        print('Пересечения по пользователям в группах A/B теста не обнаружены.' )\n",
        "    return dubl_id\n",
        "\n",
        "dubl_id = check_ab_crossing(orders, 'group', 'visitor_id')"
      ]
    },
    {
      "cell_type": "markdown",
      "metadata": {
        "id": "QnUrg-IsAWDG"
      },
      "source": [
        "Данные приведены к нужным типам. Дубликатов и пропусков не обнаружено. В тесте две группы - А и В. В группе А - 18736 пользователей, в группе В - 18916, что на 0.9%, больше группы А, но процент слишком маленький, можно допустить такую погрешность.\n",
        "\n",
        " - Дата начала теста - 2019-08-01, \n",
        " - Конец  теста - 2019-08-31.\n",
        "\n",
        "58 пользователей вошли в обе группы тестирования. Удалять не буду, их слишком мало, оставлю как есть."
      ]
    },
    {
      "cell_type": "markdown",
      "metadata": {
        "id": "Q-M0xR3rAWDJ"
      },
      "source": [
        "## Часть 1. Приоритизация гипотез."
      ]
    },
    {
      "cell_type": "code",
      "execution_count": null,
      "metadata": {
        "id": "I8-JsRGUAWDJ"
      },
      "outputs": [],
      "source": [
        "# приоритизируем гипотезы по двум методам\n",
        "hypothesis['ICE'] = hypothesis['impact'] * hypothesis['confidence'] / hypothesis['efforts']\n",
        "hypothesis['RICE'] = (hypothesis['reach'] * hypothesis['impact'] * hypothesis['confidence']) / hypothesis['efforts']"
      ]
    },
    {
      "cell_type": "code",
      "execution_count": null,
      "metadata": {
        "scrolled": true,
        "colab": {
          "base_uri": "https://localhost:8080/",
          "height": 332
        },
        "id": "fpxppGsSAWDJ",
        "outputId": "670a745b-f1cf-4bea-c5db-356440151280"
      },
      "outputs": [
        {
          "output_type": "display_data",
          "data": {
            "text/plain": [
              "<pandas.io.formats.style.Styler at 0x7fe54fac3610>"
            ],
            "text/html": [
              "<style type=\"text/css\">\n",
              "#T_b33b0_row0_col1, #T_b33b0_row2_col2 {\n",
              "  width: 10em;\n",
              "  height: 80%;\n",
              "  background: linear-gradient(90deg,darkblue 100.0%, transparent 100.0%);\n",
              "  text-align: center;\n",
              "}\n",
              "#T_b33b0_row0_col2 {\n",
              "  width: 10em;\n",
              "  height: 80%;\n",
              "  background: linear-gradient(90deg,darkblue 14.5%, transparent 14.5%);\n",
              "  text-align: center;\n",
              "}\n",
              "#T_b33b0_row1_col1 {\n",
              "  width: 10em;\n",
              "  height: 80%;\n",
              "  background: linear-gradient(90deg,darkblue 82.3%, transparent 82.3%);\n",
              "  text-align: center;\n",
              "}\n",
              "#T_b33b0_row1_col2, #T_b33b0_row3_col2 {\n",
              "  width: 10em;\n",
              "  height: 80%;\n",
              "  background: linear-gradient(90deg,darkblue 35.7%, transparent 35.7%);\n",
              "  text-align: center;\n",
              "}\n",
              "#T_b33b0_row2_col1 {\n",
              "  width: 10em;\n",
              "  height: 80%;\n",
              "  background: linear-gradient(90deg,darkblue 69.1%, transparent 69.1%);\n",
              "  text-align: center;\n",
              "}\n",
              "#T_b33b0_row3_col1 {\n",
              "  width: 10em;\n",
              "  height: 80%;\n",
              "  background: linear-gradient(90deg,darkblue 49.4%, transparent 49.4%);\n",
              "  text-align: center;\n",
              "}\n",
              "#T_b33b0_row4_col1 {\n",
              "  width: 10em;\n",
              "  height: 80%;\n",
              "  background: linear-gradient(90deg,darkblue 43.2%, transparent 43.2%);\n",
              "  text-align: center;\n",
              "}\n",
              "#T_b33b0_row4_col2 {\n",
              "  width: 10em;\n",
              "  height: 80%;\n",
              "  background: linear-gradient(90deg,darkblue 50.0%, transparent 50.0%);\n",
              "  text-align: center;\n",
              "}\n",
              "#T_b33b0_row5_col1 {\n",
              "  width: 10em;\n",
              "  height: 80%;\n",
              "  background: linear-gradient(90deg,darkblue 12.3%, transparent 12.3%);\n",
              "  text-align: center;\n",
              "}\n",
              "#T_b33b0_row5_col2, #T_b33b0_row6_col2 {\n",
              "  width: 10em;\n",
              "  height: 80%;\n",
              "  background: linear-gradient(90deg,darkblue 3.6%, transparent 3.6%);\n",
              "  text-align: center;\n",
              "}\n",
              "#T_b33b0_row6_col1 {\n",
              "  width: 10em;\n",
              "  height: 80%;\n",
              "  background: linear-gradient(90deg,darkblue 8.2%, transparent 8.2%);\n",
              "  text-align: center;\n",
              "}\n",
              "#T_b33b0_row7_col1 {\n",
              "  width: 10em;\n",
              "  height: 80%;\n",
              "  background: linear-gradient(90deg,darkblue 6.9%, transparent 6.9%);\n",
              "  text-align: center;\n",
              "}\n",
              "#T_b33b0_row7_col2 {\n",
              "  width: 10em;\n",
              "  height: 80%;\n",
              "  background: linear-gradient(90deg,darkblue 8.0%, transparent 8.0%);\n",
              "  text-align: center;\n",
              "}\n",
              "#T_b33b0_row8_col1 {\n",
              "  width: 10em;\n",
              "  height: 80%;\n",
              "  background: linear-gradient(90deg,darkblue 6.2%, transparent 6.2%);\n",
              "  text-align: center;\n",
              "}\n",
              "#T_b33b0_row8_col2 {\n",
              "  width: 10em;\n",
              "  height: 80%;\n",
              "  background: linear-gradient(90deg,darkblue 2.7%, transparent 2.7%);\n",
              "  text-align: center;\n",
              "}\n",
              "</style>\n",
              "<table id=\"T_b33b0_\" class=\"dataframe\">\n",
              "  <thead>\n",
              "    <tr>\n",
              "      <th class=\"blank level0\" >&nbsp;</th>\n",
              "      <th class=\"col_heading level0 col0\" >hypothesis</th>\n",
              "      <th class=\"col_heading level0 col1\" >ICE</th>\n",
              "      <th class=\"col_heading level0 col2\" >RICE</th>\n",
              "    </tr>\n",
              "  </thead>\n",
              "  <tbody>\n",
              "    <tr>\n",
              "      <th id=\"T_b33b0_level0_row0\" class=\"row_heading level0 row0\" >0</th>\n",
              "      <td id=\"T_b33b0_row0_col0\" class=\"data row0 col0\" >Запустить акцию, дающую скидку на товар в день рождения</td>\n",
              "      <td id=\"T_b33b0_row0_col1\" class=\"data row0 col1\" >16.20</td>\n",
              "      <td id=\"T_b33b0_row0_col2\" class=\"data row0 col2\" >16.20</td>\n",
              "    </tr>\n",
              "    <tr>\n",
              "      <th id=\"T_b33b0_level0_row1\" class=\"row_heading level0 row1\" >1</th>\n",
              "      <td id=\"T_b33b0_row1_col0\" class=\"data row1 col0\" >Добавить два новых канала привлечения трафика, что позволит привлекать на 30% больше пользователей</td>\n",
              "      <td id=\"T_b33b0_row1_col1\" class=\"data row1 col1\" >13.33</td>\n",
              "      <td id=\"T_b33b0_row1_col2\" class=\"data row1 col2\" >40.00</td>\n",
              "    </tr>\n",
              "    <tr>\n",
              "      <th id=\"T_b33b0_level0_row2\" class=\"row_heading level0 row2\" >2</th>\n",
              "      <td id=\"T_b33b0_row2_col0\" class=\"data row2 col0\" >Добавить форму подписки на все основные страницы, чтобы собрать базу клиентов для email-рассылок</td>\n",
              "      <td id=\"T_b33b0_row2_col1\" class=\"data row2 col1\" >11.20</td>\n",
              "      <td id=\"T_b33b0_row2_col2\" class=\"data row2 col2\" >112.00</td>\n",
              "    </tr>\n",
              "    <tr>\n",
              "      <th id=\"T_b33b0_level0_row3\" class=\"row_heading level0 row3\" >3</th>\n",
              "      <td id=\"T_b33b0_row3_col0\" class=\"data row3 col0\" >Показать на главной странице баннеры с актуальными акциями и распродажами, чтобы увеличить конверсию</td>\n",
              "      <td id=\"T_b33b0_row3_col1\" class=\"data row3 col1\" >8.00</td>\n",
              "      <td id=\"T_b33b0_row3_col2\" class=\"data row3 col2\" >40.00</td>\n",
              "    </tr>\n",
              "    <tr>\n",
              "      <th id=\"T_b33b0_level0_row4\" class=\"row_heading level0 row4\" >4</th>\n",
              "      <td id=\"T_b33b0_row4_col0\" class=\"data row4 col0\" >Добавить блоки рекомендаций товаров на сайт интернет магазина, чтобы повысить конверсию и средний чек заказа</td>\n",
              "      <td id=\"T_b33b0_row4_col1\" class=\"data row4 col1\" >7.00</td>\n",
              "      <td id=\"T_b33b0_row4_col2\" class=\"data row4 col2\" >56.00</td>\n",
              "    </tr>\n",
              "    <tr>\n",
              "      <th id=\"T_b33b0_level0_row5\" class=\"row_heading level0 row5\" >5</th>\n",
              "      <td id=\"T_b33b0_row5_col0\" class=\"data row5 col0\" >Запустить собственную службу доставки, что сократит срок доставки заказов</td>\n",
              "      <td id=\"T_b33b0_row5_col1\" class=\"data row5 col1\" >2.00</td>\n",
              "      <td id=\"T_b33b0_row5_col2\" class=\"data row5 col2\" >4.00</td>\n",
              "    </tr>\n",
              "    <tr>\n",
              "      <th id=\"T_b33b0_level0_row6\" class=\"row_heading level0 row6\" >6</th>\n",
              "      <td id=\"T_b33b0_row6_col0\" class=\"data row6 col0\" >Добавить страницу отзывов клиентов о магазине, что позволит увеличить количество заказов</td>\n",
              "      <td id=\"T_b33b0_row6_col1\" class=\"data row6 col1\" >1.33</td>\n",
              "      <td id=\"T_b33b0_row6_col2\" class=\"data row6 col2\" >4.00</td>\n",
              "    </tr>\n",
              "    <tr>\n",
              "      <th id=\"T_b33b0_level0_row7\" class=\"row_heading level0 row7\" >7</th>\n",
              "      <td id=\"T_b33b0_row7_col0\" class=\"data row7 col0\" >Изменить структура категорий, что увеличит конверсию, т.к. пользователи быстрее найдут нужный товар</td>\n",
              "      <td id=\"T_b33b0_row7_col1\" class=\"data row7 col1\" >1.12</td>\n",
              "      <td id=\"T_b33b0_row7_col2\" class=\"data row7 col2\" >9.00</td>\n",
              "    </tr>\n",
              "    <tr>\n",
              "      <th id=\"T_b33b0_level0_row8\" class=\"row_heading level0 row8\" >8</th>\n",
              "      <td id=\"T_b33b0_row8_col0\" class=\"data row8 col0\" >Изменить цвет фона главной страницы, чтобы увеличить вовлеченность пользователей</td>\n",
              "      <td id=\"T_b33b0_row8_col1\" class=\"data row8 col1\" >1.00</td>\n",
              "      <td id=\"T_b33b0_row8_col2\" class=\"data row8 col2\" >3.00</td>\n",
              "    </tr>\n",
              "  </tbody>\n",
              "</table>\n"
            ]
          },
          "metadata": {}
        }
      ],
      "source": [
        "display(hypothesis[['hypothesis', 'ICE', 'RICE']].sort_values(by=['ICE', 'RICE'], ascending=False).\n",
        "       reset_index(drop=True).style.\n",
        "       format({'ICE':'{:.2f}', 'RICE':'{:.2f}'}).\n",
        "       bar(subset=['RICE', 'ICE'],\n",
        "          align='mid',\n",
        "          color=['darkblue']).\n",
        "        set_properties(**{'text-align':'center'}, subset=['ICE', 'RICE']))"
      ]
    },
    {
      "cell_type": "markdown",
      "metadata": {
        "id": "cWPTHPv9AWDK"
      },
      "source": [
        "- По методу ICE приоритетной для поверки гипотезой являяется \"Запустить акцию, дающую скидку на товар в день рождения\". \n",
        "- По методу RICE - \"Добавить форму подписки на все основные страницы, чтобы собрать базу клиентов для email-рассылок\".\t\n",
        "\n",
        "Приоритезация изменилась потому, что добавился Reach(охват), и все показатели с высокой оценкой, а Efforts(цена теста) на среднем уровне."
      ]
    },
    {
      "cell_type": "markdown",
      "metadata": {
        "id": "w_rwdwmfAWDL"
      },
      "source": [
        "## Часть 2. Анализ A/B-теста."
      ]
    },
    {
      "cell_type": "markdown",
      "metadata": {
        "id": "7ONmY5m0AWDL"
      },
      "source": [
        "### График кумулятивной выручки по группам."
      ]
    },
    {
      "cell_type": "code",
      "execution_count": null,
      "metadata": {
        "colab": {
          "base_uri": "https://localhost:8080/",
          "height": 333
        },
        "id": "h_CWiY7iAWDL",
        "outputId": "7eb0c053-6466-4b41-8f1b-c4d617efa1fc"
      },
      "outputs": [
        {
          "output_type": "display_data",
          "data": {
            "text/plain": [
              "<Figure size 432x288 with 1 Axes>"
            ],
            "image/png": "[encoded data removed]"
          },
          "metadata": {
            "needs_background": "light"
          }
        }
      ],
      "source": [
        "# создаем массив уникальных пар значений дат и групп теста\n",
        "dates_groups = orders[['date','group']].drop_duplicates()\n",
        "\n",
        "# получаем агрегированные кумулятивные по дням данные о заказах \n",
        "orders_aggregated = dates_groups.apply(lambda x: orders[np.logical_and(orders['date'] <= x['date'], orders['group'] == x['group'])].agg({'date' : 'max', 'group' : 'max', 'transaction_id' : 'nunique', 'visitor_id' : 'nunique', 'revenue' : 'sum'}), axis=1).sort_values(by=['date','group'])\n",
        "\n",
        "# получаем агрегированные кумулятивные по дням данные о посетителях интернет-магазина \n",
        "visitors_aggregated = dates_groups.apply(lambda x: visitors[np.logical_and(visitors['date'] <= x['date'], visitors['group'] == x['group'])].agg({'date' : 'max', 'group' : 'max', 'visitor_id' : 'sum'}), axis=1).sort_values(by=['date','group'])\n",
        "\n",
        "# объединяем кумулятивные данные в одной таблице и присваиваем ее столбцам понятные названия\n",
        "cumulative_data = orders_aggregated.merge(visitors_aggregated, left_on=['date', 'group'], right_on=['date', 'group'])\n",
        "cumulative_data.columns = ['date', 'group', 'orders', 'buyers', 'revenue', 'visitors']\n",
        "\n",
        "\n",
        "# датафрейм с кумулятивным количеством заказов и кумулятивной выручкой по дням в группе А\n",
        "cumulative_revenue_a = cumulative_data[cumulative_data['group']=='A'][['date','revenue', 'orders']]\n",
        "\n",
        "# датафрейм с кумулятивным количеством заказов и кумулятивной выручкой по дням в группе B\n",
        "cumulative_revenue_b = cumulative_data[cumulative_data['group']=='B'][['date','revenue', 'orders']]\n",
        "\n",
        "# Строим график выручки группы А\n",
        "plt.plot(cumulative_revenue_a['date'], cumulative_revenue_a['revenue'], label='A')\n",
        "\n",
        "# Строим график выручки группы B\n",
        "plt.plot(cumulative_revenue_b['date'], cumulative_revenue_b['revenue'], label='B')\n",
        "plt.title('Кумулятивные выручки по группам А и В')\n",
        "plt.xlabel(\"Дата\")\n",
        "plt.ylabel(\"Выручка\")\n",
        "plt.grid(True)\n",
        "plt.xticks(rotation=45, ha='right')\n",
        "plt.legend()\n",
        "plt.show()\n"
      ]
    },
    {
      "cell_type": "markdown",
      "metadata": {
        "id": "l5sDwKw1AWDM"
      },
      "source": [
        "Выручки в обоих группах стабильно растут. Группа В показывает лучший результат и наблюдается резкий скачок вверх после 18.08.2019. Это либо увеличение числа заказов, либо появление очень дорогих заказов."
      ]
    },
    {
      "cell_type": "markdown",
      "metadata": {
        "id": "VT6xZOmuAWDN"
      },
      "source": [
        "### График кумулятивного среднего чека по группам. "
      ]
    },
    {
      "cell_type": "code",
      "execution_count": null,
      "metadata": {
        "colab": {
          "base_uri": "https://localhost:8080/",
          "height": 333
        },
        "id": "7ybl-u6CAWDO",
        "outputId": "5a605c7e-cb3b-4d07-d1bb-0961aa438e9d"
      },
      "outputs": [
        {
          "output_type": "display_data",
          "data": {
            "text/plain": [
              "<Figure size 432x288 with 1 Axes>"
            ],
            "image/png": "[encoded data removed]"
          },
          "metadata": {
            "needs_background": "light"
          }
        }
      ],
      "source": [
        "plt.plot(cumulative_revenue_a['date'], cumulative_revenue_a['revenue']/cumulative_revenue_a['orders'], label='A')\n",
        "plt.plot(cumulative_revenue_b['date'], cumulative_revenue_b['revenue']/cumulative_revenue_b['orders'], label='B')\n",
        "plt.title('Кумулятивный средний чек по группам А и В')\n",
        "plt.xlabel(\"Дата\")\n",
        "plt.ylabel(\"Средний чек\")\n",
        "plt.grid(True)\n",
        "plt.xticks(rotation=45, ha='right')\n",
        "plt.legend()\n",
        "plt.show()"
      ]
    },
    {
      "cell_type": "markdown",
      "metadata": {
        "id": "pVuY1O4xAWDP"
      },
      "source": [
        "Средний чек группы В стабильно растет и так же виден скачок 18.08.2019 как и на прошлом графике. Однако уже через  несколько дней наблюдается снижение среднего чека. Значит был какой-то крупный заказ судя по всему.  Средний чек группы А сначала проседал, но потом быстро пошел вверх и стабилизировался на отметке 7000-7500р."
      ]
    },
    {
      "cell_type": "markdown",
      "metadata": {
        "id": "O2xjl_gRAWDP"
      },
      "source": [
        "### График относительного изменения кумулятивного среднего чека группы B к группе A."
      ]
    },
    {
      "cell_type": "code",
      "execution_count": null,
      "metadata": {
        "colab": {
          "base_uri": "https://localhost:8080/",
          "height": 333
        },
        "id": "sBSRYxWqAWDQ",
        "outputId": "727898cd-653f-4727-9adf-f48739622041"
      },
      "outputs": [
        {
          "output_type": "display_data",
          "data": {
            "text/plain": [
              "<Figure size 432x288 with 1 Axes>"
            ],
            "image/png": "[encoded data removed]"
          },
          "metadata": {
            "needs_background": "light"
          }
        }
      ],
      "source": [
        "# собираем данные в одном датафрейме\n",
        "merged_cumulative_revenue = cumulative_revenue_a.merge(\n",
        "    cumulative_revenue_b,\n",
        "    left_on='date',\n",
        "    right_on='date',\n",
        "    how='left', \n",
        "    suffixes=['A', 'B']\n",
        ")\n",
        "\n",
        "# cтроим отношение средних чеков\n",
        "plt.plot(merged_cumulative_revenue['date'], (merged_cumulative_revenue['revenueB']/merged_cumulative_revenue['ordersB'])/(merged_cumulative_revenue['revenueA']/merged_cumulative_revenue['ordersA'])-1)\n",
        "plt.title('График относительного различия среднего чека')\n",
        "plt.xlabel(\"Дата\")\n",
        "plt.xticks(rotation=45, ha='right')\n",
        "\n",
        "\n",
        "# добавляем ось X\n",
        "plt.axhline(y=0, color='black', linestyle='--')\n",
        "plt.show()"
      ]
    },
    {
      "cell_type": "markdown",
      "metadata": {
        "id": "TjXB_qrEAWDQ"
      },
      "source": [
        "График неравномерный, скачет. Определенно были какие-то выбросы в заказах."
      ]
    },
    {
      "cell_type": "markdown",
      "metadata": {
        "id": "YoCunSHsAWDR"
      },
      "source": [
        "### График кумулятивной конверсии по группам."
      ]
    },
    {
      "cell_type": "code",
      "execution_count": null,
      "metadata": {
        "colab": {
          "base_uri": "https://localhost:8080/",
          "height": 333
        },
        "id": "527HlyJjAWDR",
        "outputId": "feaa00cd-2b27-40b3-804d-b28f455db42d"
      },
      "outputs": [
        {
          "output_type": "display_data",
          "data": {
            "text/plain": [
              "<Figure size 432x288 with 1 Axes>"
            ],
            "image/png": "[encoded data removed]"
          },
          "metadata": {
            "needs_background": "light"
          }
        }
      ],
      "source": [
        "cumulative_data['conversion'] = cumulative_data['orders']/cumulative_data['visitors']\n",
        "\n",
        "# отделяем данные по группе A\n",
        "cumulative_data_a = cumulative_data[cumulative_data['group']=='A']\n",
        "\n",
        "# отделяем данные по группе B\n",
        "cumulative_data_b = cumulative_data[cumulative_data['group']=='B']\n",
        "\n",
        "# строим графики\n",
        "plt.plot(cumulative_data_a['date'], cumulative_data_a['conversion'], label='A')\n",
        "plt.plot(cumulative_data_b['date'], cumulative_data_b['conversion'], label='B')\n",
        "plt.title('График кумулятивной конверсии по группам А и В')\n",
        "plt.xlabel(\"Дата\")\n",
        "plt.ylabel('Конверсия')\n",
        "plt.xticks(rotation=45, ha='right')\n",
        "#plt.axis([dt.datetime(2019, 8, 1), dt.datetime(2019, 8, 31),0, 0.050]) \n",
        "plt.legend()\n",
        "plt.show()"
      ]
    },
    {
      "cell_type": "markdown",
      "metadata": {
        "id": "qSjY7UARAWDR"
      },
      "source": [
        "Заметно небольшое колебание в начале теста, но затем данные стабилизировались. Группа В стабильно лучше группы А по конверсии. "
      ]
    },
    {
      "cell_type": "markdown",
      "metadata": {
        "id": "w1gZhzfpAWDS"
      },
      "source": [
        "### График относительного изменения кумулятивной конверсии группы B к группе A. "
      ]
    },
    {
      "cell_type": "code",
      "execution_count": null,
      "metadata": {
        "colab": {
          "base_uri": "https://localhost:8080/",
          "height": 333
        },
        "id": "VuL7BznlAWDS",
        "outputId": "2923032d-d2d3-4ad9-de17-94082e88e78d"
      },
      "outputs": [
        {
          "output_type": "display_data",
          "data": {
            "text/plain": [
              "<Figure size 432x288 with 1 Axes>"
            ],
            "image/png": "[encoded data removed]"
          },
          "metadata": {
            "needs_background": "light"
          }
        }
      ],
      "source": [
        "merged_cumulative_conversions = cumulative_data_a[['date','conversion']].merge(cumulative_data_b[['date','conversion']], left_on='date', right_on='date', how='left', suffixes=['A', 'B'])\n",
        "\n",
        "\n",
        "plt.plot(merged_cumulative_conversions['date'], merged_cumulative_conversions['conversionB']/merged_cumulative_conversions['conversionA']-1)\n",
        "plt.axhline(y=0, color='black', linestyle='--')\n",
        "plt.axhline(y=0.1, color='grey', linestyle='--')\n",
        "plt.title('Относительное различие кумулятивных конверсий')\n",
        "plt.xlabel('Дата')\n",
        "plt.grid(True)\n",
        "plt.xticks(rotation=45, ha='right')\n",
        "plt.show()\n"
      ]
    },
    {
      "cell_type": "markdown",
      "metadata": {
        "id": "umaBzatgAWDT"
      },
      "source": [
        "В начале, группа В немного проигрывала группе А, но затем резко подскочила и постепенно стабилизировалась."
      ]
    },
    {
      "cell_type": "markdown",
      "metadata": {
        "id": "StJ0FxWZAWDT"
      },
      "source": [
        "### Точечный график количества заказов по пользователям."
      ]
    },
    {
      "cell_type": "code",
      "execution_count": null,
      "metadata": {
        "colab": {
          "base_uri": "https://localhost:8080/",
          "height": 295
        },
        "id": "SVdkPGyCAWDU",
        "outputId": "b468cb59-ce20-4cb5-a559-c38d5e511b55"
      },
      "outputs": [
        {
          "output_type": "display_data",
          "data": {
            "text/plain": [
              "<Figure size 432x288 with 1 Axes>"
            ],
            "image/png": "[encoded data removed]"
          },
          "metadata": {
            "needs_background": "light"
          }
        }
      ],
      "source": [
        "orders_by_users = (\n",
        "    orders\n",
        "    .groupby('visitor_id', as_index=False)\n",
        "    .agg({'transaction_id': 'nunique'})\n",
        ")\n",
        "\n",
        "orders_by_users.columns = ['user_id', 'orders']\n",
        "\n",
        "x_values = pd.Series(range(0,len(orders_by_users)))\n",
        "\n",
        "plt.scatter(x_values, orders_by_users['orders'])\n",
        "plt.title('Кол-во заказов по пользователям')\n",
        "plt.ylabel(\"Заказы\")\n",
        "plt.xlabel(\"Пользователи\");"
      ]
    },
    {
      "cell_type": "code",
      "execution_count": null,
      "metadata": {
        "colab": {
          "base_uri": "https://localhost:8080/"
        },
        "id": "C5PjTZYJAWDU",
        "outputId": "d6fd0791-bb8b-471a-a533-afd87ccdc7da"
      },
      "outputs": [
        {
          "output_type": "stream",
          "name": "stdout",
          "text": [
            "95-й и 99-й прецентили: [2. 4.]\n"
          ]
        }
      ],
      "source": [
        "print('95-й и 99-й прецентили:', np.percentile(orders_by_users['orders'], [95, 99]))"
      ]
    },
    {
      "cell_type": "markdown",
      "metadata": {
        "id": "wXDLIhZ0AWDU"
      },
      "source": [
        "Не более 5% пользователей делали заказы более 2 раз и не более 1% пользователей делали заказ более 4 раз. Граница - не более 4 заказов на пользователя."
      ]
    },
    {
      "cell_type": "markdown",
      "metadata": {
        "id": "B94HxDwMAWDV"
      },
      "source": [
        "### Точечный график стоимостей заказов. "
      ]
    },
    {
      "cell_type": "code",
      "execution_count": null,
      "metadata": {
        "colab": {
          "base_uri": "https://localhost:8080/",
          "height": 295
        },
        "id": "J89ZfKT6AWDV",
        "outputId": "d5cf87d7-22cc-4e30-a301-a98a417ede8e"
      },
      "outputs": [
        {
          "output_type": "display_data",
          "data": {
            "text/plain": [
              "<Figure size 432x288 with 1 Axes>"
            ],
            "image/png": "[encoded data removed]"
          },
          "metadata": {
            "needs_background": "light"
          }
        }
      ],
      "source": [
        "x_values = pd.Series(range(0, len(orders['revenue'])))\n",
        "plt.scatter(x_values, orders['revenue'])\n",
        "plt.title('График стоимостей зказов')\n",
        "plt.ylabel('Стоимость')\n",
        "plt.xlabel(\"Пользователи\");"
      ]
    },
    {
      "cell_type": "code",
      "execution_count": null,
      "metadata": {
        "colab": {
          "base_uri": "https://localhost:8080/"
        },
        "id": "3G2QU4BIAWDW",
        "outputId": "7c7d08c4-061a-4f9d-f667-31b2057d709a"
      },
      "outputs": [
        {
          "output_type": "stream",
          "name": "stdout",
          "text": [
            "95-й и 99-й прецентили: [28000.  58233.2]\n"
          ]
        }
      ],
      "source": [
        "print('95-й и 99-й прецентили:', np.percentile(orders['revenue'], [95, 99]))"
      ]
    },
    {
      "cell_type": "markdown",
      "metadata": {
        "id": "eoWvwupZAWDW"
      },
      "source": [
        "Не более 5% заказов дороже 28000 и не более 1% заказов дороже 58233. Граница - не более 28000."
      ]
    },
    {
      "cell_type": "markdown",
      "metadata": {
        "id": "pPshZlMbAWDX"
      },
      "source": [
        "### Стистическая значимость различий в конверсии между группами по «сырым» данным."
      ]
    },
    {
      "cell_type": "code",
      "execution_count": null,
      "metadata": {
        "colab": {
          "base_uri": "https://localhost:8080/",
          "height": 143
        },
        "id": "O8-mJaJKAWDX",
        "outputId": "e7139b7f-10dd-4efd-f81b-b46f3bb8ddf0"
      },
      "outputs": [
        {
          "output_type": "execute_result",
          "data": {
            "text/plain": [
              "        date  visitors_per_date_a  visitors_per_date_b\n",
              "0 2019-08-15           4069496402           3312258926\n",
              "1 2019-08-15           4069496402           3642806036\n",
              "2 2019-08-15           4069496402           1196621759"
            ],
            "text/html": [
              "\n",
              "  <div id=\"df-886a242f-a0f0-400c-8e81-81ed62dd9aa2\">\n",
              "    <div class=\"colab-df-container\">\n",
              "      <div>\n",
              "<style scoped>\n",
              "    .dataframe tbody tr th:only-of-type {\n",
              "        vertical-align: middle;\n",
              "    }\n",
              "\n",
              "    .dataframe tbody tr th {\n",
              "        vertical-align: top;\n",
              "    }\n",
              "\n",
              "    .dataframe thead th {\n",
              "        text-align: right;\n",
              "    }\n",
              "</style>\n",
              "<table border=\"1\" class=\"dataframe\">\n",
              "  <thead>\n",
              "    <tr style=\"text-align: right;\">\n",
              "      <th></th>\n",
              "      <th>date</th>\n",
              "      <th>visitors_per_date_a</th>\n",
              "      <th>visitors_per_date_b</th>\n",
              "    </tr>\n",
              "  </thead>\n",
              "  <tbody>\n",
              "    <tr>\n",
              "      <th>0</th>\n",
              "      <td>2019-08-15</td>\n",
              "      <td>4069496402</td>\n",
              "      <td>3312258926</td>\n",
              "    </tr>\n",
              "    <tr>\n",
              "      <th>1</th>\n",
              "      <td>2019-08-15</td>\n",
              "      <td>4069496402</td>\n",
              "      <td>3642806036</td>\n",
              "    </tr>\n",
              "    <tr>\n",
              "      <th>2</th>\n",
              "      <td>2019-08-15</td>\n",
              "      <td>4069496402</td>\n",
              "      <td>1196621759</td>\n",
              "    </tr>\n",
              "  </tbody>\n",
              "</table>\n",
              "</div>\n",
              "      <button class=\"colab-df-convert\" onclick=\"convertToInteractive('df-886a242f-a0f0-400c-8e81-81ed62dd9aa2')\"\n",
              "              title=\"Convert this dataframe to an interactive table.\"\n",
              "              style=\"display:none;\">\n",
              "        \n",
              "  <svg xmlns=\"http://www.w3.org/2000/svg\" height=\"24px\"viewBox=\"0 0 24 24\"\n",
              "       width=\"24px\">\n",
              "    <path d=\"M0 0h24v24H0V0z\" fill=\"none\"/>\n",
              "    <path d=\"M18.56 5.44l.94 2.06.94-2.06 2.06-.94-2.06-.94-.94-2.06-.94 2.06-2.06.94zm-11 1L8.5 8.5l.94-2.06 2.06-.94-2.06-.94L8.5 2.5l-.94 2.06-2.06.94zm10 10l.94 2.06.94-2.06 2.06-.94-2.06-.94-.94-2.06-.94 2.06-2.06.94z\"/><path d=\"M17.41 7.96l-1.37-1.37c-.4-.4-.92-.59-1.43-.59-.52 0-1.04.2-1.43.59L10.3 9.45l-7.72 7.72c-.78.78-.78 2.05 0 2.83L4 21.41c.39.39.9.59 1.41.59.51 0 1.02-.2 1.41-.59l7.78-7.78 2.81-2.81c.8-.78.8-2.07 0-2.86zM5.41 20L4 18.59l7.72-7.72 1.47 1.35L5.41 20z\"/>\n",
              "  </svg>\n",
              "      </button>\n",
              "      \n",
              "  <style>\n",
              "    .colab-df-container {\n",
              "      display:flex;\n",
              "      flex-wrap:wrap;\n",
              "      gap: 12px;\n",
              "    }\n",
              "\n",
              "    .colab-df-convert {\n",
              "      background-color: #E8F0FE;\n",
              "      border: none;\n",
              "      border-radius: 50%;\n",
              "      cursor: pointer;\n",
              "      display: none;\n",
              "      fill: #1967D2;\n",
              "      height: 32px;\n",
              "      padding: 0 0 0 0;\n",
              "      width: 32px;\n",
              "    }\n",
              "\n",
              "    .colab-df-convert:hover {\n",
              "      background-color: #E2EBFA;\n",
              "      box-shadow: 0px 1px 2px rgba(60, 64, 67, 0.3), 0px 1px 3px 1px rgba(60, 64, 67, 0.15);\n",
              "      fill: #174EA6;\n",
              "    }\n",
              "\n",
              "    [theme=dark] .colab-df-convert {\n",
              "      background-color: #3B4455;\n",
              "      fill: #D2E3FC;\n",
              "    }\n",
              "\n",
              "    [theme=dark] .colab-df-convert:hover {\n",
              "      background-color: #434B5C;\n",
              "      box-shadow: 0px 1px 3px 1px rgba(0, 0, 0, 0.15);\n",
              "      filter: drop-shadow(0px 1px 2px rgba(0, 0, 0, 0.3));\n",
              "      fill: #FFFFFF;\n",
              "    }\n",
              "  </style>\n",
              "\n",
              "      <script>\n",
              "        const buttonEl =\n",
              "          document.querySelector('#df-886a242f-a0f0-400c-8e81-81ed62dd9aa2 button.colab-df-convert');\n",
              "        buttonEl.style.display =\n",
              "          google.colab.kernel.accessAllowed ? 'block' : 'none';\n",
              "\n",
              "        async function convertToInteractive(key) {\n",
              "          const element = document.querySelector('#df-886a242f-a0f0-400c-8e81-81ed62dd9aa2');\n",
              "          const dataTable =\n",
              "            await google.colab.kernel.invokeFunction('convertToInteractive',\n",
              "                                                     [key], {});\n",
              "          if (!dataTable) return;\n",
              "\n",
              "          const docLinkHtml = 'Like what you see? Visit the ' +\n",
              "            '<a target=\"_blank\" href=https://colab.research.google.com/notebooks/data_table.ipynb>data table notebook</a>'\n",
              "            + ' to learn more about interactive tables.';\n",
              "          element.innerHTML = '';\n",
              "          dataTable['output_type'] = 'display_data';\n",
              "          await google.colab.output.renderOutput(dataTable, element);\n",
              "          const docLink = document.createElement('div');\n",
              "          docLink.innerHTML = docLinkHtml;\n",
              "          element.appendChild(docLink);\n",
              "        }\n",
              "      </script>\n",
              "    </div>\n",
              "  </div>\n",
              "  "
            ]
          },
          "metadata": {},
          "execution_count": 24
        }
      ],
      "source": [
        "visitors_a_daily = visitors[visitors['group'] == 'A'][['date', 'visitor_id']]\n",
        "visitors_a_daily.columns = ['date', 'visitors_per_date_a']\n",
        "\n",
        "visitors_b_daily = visitors[visitors['group'] == 'B'][['date', 'visitor_id']]\n",
        "visitors_b_daily.columns = ['date', 'visitors_per_date_b']\n",
        "\n",
        "data = visitors_a_daily.merge(visitors_b_daily, left_on='date', right_on='date', how='left')\n",
        "    \n",
        "data.head(3)"
      ]
    },
    {
      "cell_type": "code",
      "execution_count": null,
      "metadata": {
        "id": "HE7NTOnKAWDY"
      },
      "outputs": [],
      "source": [
        "# создаем переменные, в которых собраны пользователи с числом совершенных заказов\n",
        "orders_by_users_a = (\n",
        "    orders[orders['group'] == 'A']\n",
        "    .groupby('visitor_id', as_index=False)\n",
        "    .agg({'transaction_id': pd.Series.nunique})\n",
        ")\n",
        "orders_by_users_a.columns = ['user_id', 'orders']\n",
        "\n",
        "orders_by_users_b = (\n",
        "    orders[orders['group'] == 'B']\n",
        "    .groupby('visitor_id', as_index=False)\n",
        "    .agg({'transaction_id': pd.Series.nunique})\n",
        ")\n",
        "orders_by_users_b.columns = ['user_id', 'orders']\n"
      ]
    },
    {
      "cell_type": "markdown",
      "metadata": {
        "id": "oPUec1_8AWDY"
      },
      "source": [
        "- Нулевая гипотеза: различий в конверсии между группами нет.\n",
        "- Альтернативная гипотеза: различия в конверсии между группами есть."
      ]
    },
    {
      "cell_type": "code",
      "execution_count": null,
      "metadata": {
        "colab": {
          "base_uri": "https://localhost:8080/"
        },
        "id": "SFB7K69oAWDY",
        "outputId": "9dcc5e1e-de43-4fdc-f96b-eac77548585b"
      },
      "outputs": [
        {
          "output_type": "stream",
          "name": "stdout",
          "text": [
            "p_value = 0.296\n",
            "Относительный прирост конверсии группы B: 0.000\n"
          ]
        }
      ],
      "source": [
        "# создаем переменные, в которых пользователям из разных групп будет соответствовать количество заказов. \n",
        "# Тем, кто ничего не заказал, будут соответствовать нули.\n",
        "sample_a = pd.concat(\n",
        "    [\n",
        "        orders_by_users_a['orders'],\n",
        "        pd.Series(\n",
        "            0,\n",
        "            index=np.arange(\n",
        "                visitors_a_daily['visitors_per_date_a'].count() - len(orders_by_users_a['orders'])\n",
        "            ),\n",
        "            name='orders',\n",
        "        ),\n",
        "    ],\n",
        "    axis=0,\n",
        ")\n",
        "\n",
        "sample_b = pd.concat(\n",
        "    [\n",
        "        orders_by_users_b['orders'],\n",
        "        pd.Series(\n",
        "            0,\n",
        "            index=np.arange(\n",
        "                visitors_b_daily['visitors_per_date_b'].count() - len(orders_by_users_b['orders'])\n",
        "            ),\n",
        "            name='orders',\n",
        "        ),\n",
        "    ],\n",
        "    axis=0,\n",
        ")\n",
        "\n",
        "# расчитываем статистическую значимость различий по методу Манна-Уитни\n",
        "print('p_value = '\"{0:.3f}\".format(st.mannwhitneyu(sample_a, sample_b)[1]))\n",
        "\n",
        "print('Относительный прирост конверсии группы B: '\"{0:.3f}\".format(sample_b.mean() / sample_a.mean() - 1))\n"
      ]
    },
    {
      "cell_type": "markdown",
      "metadata": {
        "id": "8bE4bj-UAWDZ"
      },
      "source": [
        "p-value меньше 0.05, а значит нулевую гипотезу о том, статистически значимых различий в конверсии между группами нет - отвергаем. Конверсия группы В относительно А увеличилась на 13.8%."
      ]
    },
    {
      "cell_type": "markdown",
      "metadata": {
        "id": "LHgdqbWIAWDZ"
      },
      "source": [
        "### Статистическая значимость различий в среднем чеке заказа между группами по «сырым» данным."
      ]
    },
    {
      "cell_type": "markdown",
      "metadata": {
        "id": "IRS-kXcGAWDa"
      },
      "source": [
        " - Нулевая гипотеза: различий в среднем чеке между группами нет. \n",
        " \n",
        " - Альтернативная гипотеза: различия в среднем чеке между группами есть."
      ]
    },
    {
      "cell_type": "code",
      "execution_count": null,
      "metadata": {
        "colab": {
          "base_uri": "https://localhost:8080/"
        },
        "id": "0BfjO1rpAWDa",
        "outputId": "35fe87a5-315b-434f-ab48-cbb1ab90f760"
      },
      "outputs": [
        {
          "output_type": "stream",
          "name": "stdout",
          "text": [
            "p_value = 0.365\n",
            "Относительные различия в среднем чеке между группами: 0.259\n"
          ]
        }
      ],
      "source": [
        "print('p_value = ''{0:.3f}'.format(st.mannwhitneyu(orders[orders['group']=='A']['revenue'], orders[orders['group']=='B']['revenue'])[1]))\n",
        "print('Относительные различия в среднем чеке между группами: ''{0:.3f}'.format(orders[orders['group']=='B']['revenue'].mean()/orders[orders['group']=='A']['revenue'].mean()-1))"
      ]
    },
    {
      "cell_type": "markdown",
      "metadata": {
        "id": "F-qWvKp4AWDa"
      },
      "source": [
        "p-value больше 0.05, значит Нулевую гипотезу, о том, что различий в среднем чеке между группами нет - не отвергаем. Хотя средний чек группы В значительно выше, чем в группе А."
      ]
    },
    {
      "cell_type": "markdown",
      "metadata": {
        "id": "Myo36926AWDa"
      },
      "source": [
        "<div class=\"alert alert-success\">\n",
        "<h2> Комментарий ревьюера <a class=\"tocSkip\"> </h2>\n",
        "<b>Все отлично!👍:</b> \n",
        "\n",
        "Верно сформулированы гипотезы, выбран тест и подсчитан p-значение. Верный выводы об отвержении гипотез"
      ]
    },
    {
      "cell_type": "markdown",
      "metadata": {
        "id": "nu_9kFQ8AWDb"
      },
      "source": [
        "### Статистическая значимость различий в конверсии между группами по «очищенным» данным."
      ]
    },
    {
      "cell_type": "markdown",
      "metadata": {
        "id": "agszaqe2AWDb"
      },
      "source": [
        "- Нулевая гипотеза: различий в конверсии между группами нет. \n",
        " \n",
        "- Альтернативная гипотеза: различия в конверсии между группами есть."
      ]
    },
    {
      "cell_type": "code",
      "execution_count": null,
      "metadata": {
        "colab": {
          "base_uri": "https://localhost:8080/"
        },
        "id": "_11ywX-xAWDb",
        "outputId": "954f7902-b1a7-4b8e-be46-da21dd78eef2"
      },
      "outputs": [
        {
          "output_type": "stream",
          "name": "stdout",
          "text": [
            "Кол-во аномальных пользователей:  59\n"
          ]
        }
      ],
      "source": [
        "# делаем срезы пользователей\n",
        "users_with_many_orders = pd.concat(\n",
        "    [\n",
        "        orders_by_users_a[orders_by_users_a['orders'] > 4]['user_id'],\n",
        "        orders_by_users_b[orders_by_users_b['orders'] > 4]['user_id'],\n",
        "    ],\n",
        "    axis=0,\n",
        ")\n",
        "users_with_expensive_orders = orders[orders['revenue'] > 28000]['visitor_id']\n",
        "ab_normal_users = (\n",
        "    pd.concat([users_with_many_orders, users_with_expensive_orders], axis=0)\n",
        "    .drop_duplicates()\n",
        "    .sort_values()\n",
        ")\n",
        "\n",
        "print('Кол-во аномальных пользователей: ', ab_normal_users.shape[0])"
      ]
    },
    {
      "cell_type": "code",
      "execution_count": null,
      "metadata": {
        "colab": {
          "base_uri": "https://localhost:8080/"
        },
        "id": "ehBug6IPAWDb",
        "outputId": "d306e1a0-304e-4838-f8a6-f418d6635cd9"
      },
      "outputs": [
        {
          "output_type": "stream",
          "name": "stdout",
          "text": [
            "p_value = 0.293\n",
            "Относительный прирост конверсии в группе B: 0.005\n"
          ]
        }
      ],
      "source": [
        "# создаем новые переменные для отфильтрованных данных \n",
        "sample_a_filtered = pd.concat(\n",
        "    [\n",
        "        orders_by_users_a[\n",
        "            np.logical_not(orders_by_users_a['user_id'].isin(ab_normal_users))\n",
        "        ]['orders'],\n",
        "        pd.Series(\n",
        "            0,\n",
        "            index=np.arange(\n",
        "                visitors_a_daily['visitors_per_date_a'].count() - len(orders_by_users_a['orders'])\n",
        "            ),\n",
        "            name='orders',\n",
        "        ),\n",
        "    ],\n",
        "    axis=0,\n",
        ")\n",
        "\n",
        "sample_b_filtered = pd.concat(\n",
        "    [\n",
        "        orders_by_users_b[\n",
        "            np.logical_not(orders_by_users_b['user_id'].isin(ab_normal_users))\n",
        "        ]['orders'],\n",
        "        pd.Series(\n",
        "            0,\n",
        "            index=np.arange(\n",
        "                visitors_b_daily['visitors_per_date_b'].count() - len(orders_by_users_b['orders'])\n",
        "            ),\n",
        "            name='orders',\n",
        "        ),\n",
        "    ],\n",
        "    axis=0,\n",
        ")\n",
        "\n",
        "print('p_value = ''{0:.3f}'.format(st.mannwhitneyu(sample_a_filtered, sample_b_filtered)[1]))\n",
        "print('Относительный прирост конверсии в группе B: ''{0:.3f}'.format(sample_b_filtered.mean()/sample_a_filtered.mean()-1))"
      ]
    },
    {
      "cell_type": "markdown",
      "metadata": {
        "id": "R2JKLiBxAWDc"
      },
      "source": [
        "p-value почти не изменился, относительно сырых данных. Нулевую гипотезу все так же отвергаем. Конверсия в группе В немного увеличилась - 14.5%. Группа В все так же показывает лучший результат по конверсии относительно группы А."
      ]
    },
    {
      "cell_type": "markdown",
      "metadata": {
        "id": "aIEcHpaNAWDc"
      },
      "source": [
        "### Статистическая значимость различий в среднем чеке заказа между группами по «очищенным» данным. "
      ]
    },
    {
      "cell_type": "markdown",
      "metadata": {
        "id": "bpDZtfOMAWDd"
      },
      "source": [
        " - Нулевая гипотеза: различий в среднем чеке между группами нет. \n",
        " \n",
        " - Альтернативная гипотеза: различия в среднем чеке между группами есть."
      ]
    },
    {
      "cell_type": "code",
      "execution_count": null,
      "metadata": {
        "colab": {
          "base_uri": "https://localhost:8080/"
        },
        "id": "K7wBi6GhAWDd",
        "outputId": "1f6a4c34-fcf8-486e-c1a7-d6c7e731328a"
      },
      "outputs": [
        {
          "output_type": "stream",
          "name": "stdout",
          "text": [
            "p_value = 0.481\n",
            "Относительная разница в среднем чеке между группами: -0.014\n"
          ]
        }
      ],
      "source": [
        "print('p_value = '\n",
        "    '{0:.3f}'.format(\n",
        "        st.mannwhitneyu(\n",
        "            orders[\n",
        "                np.logical_and(\n",
        "                    orders['group'] == 'A',\n",
        "                    np.logical_not(orders['visitor_id'].isin(ab_normal_users)),\n",
        "                )\n",
        "            ]['revenue'],\n",
        "            orders[\n",
        "                np.logical_and(\n",
        "                    orders['group'] == 'B',\n",
        "                    np.logical_not(orders['visitor_id'].isin(ab_normal_users)),\n",
        "                )\n",
        "            ]['revenue'],\n",
        "        )[1]\n",
        "    )\n",
        ")\n",
        "\n",
        "print('Относительная разница в среднем чеке между группами: '\n",
        "    \"{0:.3f}\".format(\n",
        "        orders[\n",
        "            np.logical_and(\n",
        "                orders['group'] == 'B',\n",
        "                np.logical_not(orders['visitor_id'].isin(ab_normal_users)),\n",
        "            )\n",
        "        ]['revenue'].mean()\n",
        "        / orders[\n",
        "            np.logical_and(\n",
        "                orders['group'] == 'A',\n",
        "                np.logical_not(orders['visitor_id'].isin(ab_normal_users)),\n",
        "            )\n",
        "        ]['revenue'].mean()\n",
        "        - 1\n",
        "    )\n",
        ")"
      ]
    },
    {
      "cell_type": "markdown",
      "metadata": {
        "id": "r5f51i3SAWDd"
      },
      "source": [
        "p-value значительно увеличился в сравнение с \"сырыми данными\". Нулевую гипотезу не отвергаем. И разница ммежду группами значительно сократилась - с 25% до 1%. Тут видно, как выбросы повлияли."
      ]
    },
    {
      "cell_type": "markdown",
      "metadata": {
        "id": "WAAjIsCXAWDe"
      },
      "source": [
        "**ОБЩИЙ ВЫВОД:** \n",
        "\n",
        "- Есть статистически значимое различие по конверсии между группами. \n",
        "\n",
        "- Разница между средними чеками групп значитильно снизилась после фильтрации данных. \n",
        "\n",
        "- График различия конверсий между группами говорит о том, что группа В стабильно лучше группы А по конверсии.\n",
        "\n",
        "- График различия среднего чека очень неравномерный, по нему нельзя судить, повлияли выбросы.\n",
        "\n",
        "По итогу теста могу сказать,  что результаты группы В уверенно показывают лучший результат, тест можно считать успешным. Тест можно закончить, так как показатели стабилизировались и уже хорошо видно, что вариант В можно выбрать как рабочий."
      ]
    }
  ],
  "metadata": {
    "ExecuteTimeLog": [
      {
        "duration": 1409,
        "start_time": "2022-05-24T05:01:39.213Z"
      },
      {
        "duration": 217,
        "start_time": "2022-05-24T05:03:11.975Z"
      },
      {
        "duration": 7,
        "start_time": "2022-05-24T05:03:23.795Z"
      },
      {
        "duration": 128,
        "start_time": "2022-05-24T05:04:25.874Z"
      },
      {
        "duration": 4,
        "start_time": "2022-05-24T05:09:41.953Z"
      },
      {
        "duration": 69,
        "start_time": "2022-05-24T05:09:43.109Z"
      },
      {
        "duration": 6,
        "start_time": "2022-05-24T05:09:43.851Z"
      },
      {
        "duration": 15,
        "start_time": "2022-05-24T05:09:44.566Z"
      },
      {
        "duration": 7,
        "start_time": "2022-05-24T05:13:46.007Z"
      },
      {
        "duration": 15,
        "start_time": "2022-05-24T05:13:47.454Z"
      },
      {
        "duration": 3,
        "start_time": "2022-05-24T05:14:15.345Z"
      },
      {
        "duration": 69,
        "start_time": "2022-05-24T05:14:16.817Z"
      },
      {
        "duration": 6,
        "start_time": "2022-05-24T05:16:07.439Z"
      },
      {
        "duration": 290,
        "start_time": "2022-05-24T05:16:08.233Z"
      },
      {
        "duration": 38,
        "start_time": "2022-05-24T05:17:36.045Z"
      },
      {
        "duration": 47,
        "start_time": "2022-05-24T05:18:38.102Z"
      },
      {
        "duration": 3,
        "start_time": "2022-05-24T05:19:37.741Z"
      },
      {
        "duration": 68,
        "start_time": "2022-05-24T05:19:38.223Z"
      },
      {
        "duration": 7,
        "start_time": "2022-05-24T05:19:38.785Z"
      },
      {
        "duration": 32,
        "start_time": "2022-05-24T05:19:39.508Z"
      },
      {
        "duration": 34,
        "start_time": "2022-05-24T05:19:40.102Z"
      },
      {
        "duration": 34,
        "start_time": "2022-05-24T05:19:40.683Z"
      },
      {
        "duration": 2,
        "start_time": "2022-05-24T05:20:20.356Z"
      },
      {
        "duration": 6,
        "start_time": "2022-05-24T05:23:46.077Z"
      },
      {
        "duration": 11,
        "start_time": "2022-05-24T05:24:37.103Z"
      },
      {
        "duration": 17,
        "start_time": "2022-05-24T05:24:45.262Z"
      },
      {
        "duration": 37,
        "start_time": "2022-05-24T05:57:01.343Z"
      },
      {
        "duration": 13,
        "start_time": "2022-05-24T05:57:10.203Z"
      },
      {
        "duration": 9,
        "start_time": "2022-05-24T05:57:51.097Z"
      },
      {
        "duration": 38,
        "start_time": "2022-05-24T05:59:01.234Z"
      },
      {
        "duration": 9,
        "start_time": "2022-05-24T05:59:10.006Z"
      },
      {
        "duration": 18,
        "start_time": "2022-05-24T06:04:52.294Z"
      },
      {
        "duration": 17,
        "start_time": "2022-05-24T06:05:03.193Z"
      },
      {
        "duration": 18,
        "start_time": "2022-05-24T06:05:09.177Z"
      },
      {
        "duration": 6,
        "start_time": "2022-05-24T06:05:52.283Z"
      },
      {
        "duration": 22,
        "start_time": "2022-05-24T06:05:57.917Z"
      },
      {
        "duration": 10,
        "start_time": "2022-05-24T06:06:16.433Z"
      },
      {
        "duration": 17,
        "start_time": "2022-05-24T06:06:44.049Z"
      },
      {
        "duration": 17,
        "start_time": "2022-05-24T06:06:54.916Z"
      },
      {
        "duration": 19,
        "start_time": "2022-05-24T06:07:03.103Z"
      },
      {
        "duration": 10,
        "start_time": "2022-05-24T06:10:13.289Z"
      },
      {
        "duration": 18,
        "start_time": "2022-05-24T06:15:07.813Z"
      },
      {
        "duration": 94,
        "start_time": "2022-05-24T06:15:13.802Z"
      },
      {
        "duration": 22,
        "start_time": "2022-05-24T06:15:20.585Z"
      },
      {
        "duration": 17,
        "start_time": "2022-05-24T06:15:32.210Z"
      },
      {
        "duration": 21,
        "start_time": "2022-05-24T06:15:37.730Z"
      },
      {
        "duration": 18,
        "start_time": "2022-05-24T06:20:08.085Z"
      },
      {
        "duration": 11,
        "start_time": "2022-05-24T06:20:14.520Z"
      },
      {
        "duration": 31,
        "start_time": "2022-05-24T07:08:24.146Z"
      },
      {
        "duration": 13,
        "start_time": "2022-05-24T07:08:56.003Z"
      },
      {
        "duration": 11,
        "start_time": "2022-05-24T07:10:05.491Z"
      },
      {
        "duration": 942,
        "start_time": "2022-05-24T07:10:17.462Z"
      },
      {
        "duration": 497,
        "start_time": "2022-05-24T07:11:31.486Z"
      },
      {
        "duration": 158,
        "start_time": "2022-05-24T07:13:33.115Z"
      },
      {
        "duration": 314,
        "start_time": "2022-05-24T07:16:39.177Z"
      },
      {
        "duration": 14,
        "start_time": "2022-05-24T07:19:12.850Z"
      },
      {
        "duration": 240,
        "start_time": "2022-05-24T07:19:41.070Z"
      },
      {
        "duration": 228,
        "start_time": "2022-05-24T07:20:16.148Z"
      },
      {
        "duration": 295,
        "start_time": "2022-05-24T07:22:45.025Z"
      },
      {
        "duration": 291,
        "start_time": "2022-05-24T07:22:54.417Z"
      },
      {
        "duration": 322,
        "start_time": "2022-05-24T07:23:05.974Z"
      },
      {
        "duration": 33,
        "start_time": "2022-05-24T07:29:24.938Z"
      },
      {
        "duration": 227,
        "start_time": "2022-05-24T07:29:32.685Z"
      },
      {
        "duration": 494,
        "start_time": "2022-05-24T07:29:57.720Z"
      },
      {
        "duration": 10,
        "start_time": "2022-05-24T07:33:03.993Z"
      },
      {
        "duration": 19,
        "start_time": "2022-05-24T07:34:34.115Z"
      },
      {
        "duration": 178,
        "start_time": "2022-05-24T07:35:08.148Z"
      },
      {
        "duration": 167,
        "start_time": "2022-05-24T07:35:24.555Z"
      },
      {
        "duration": 6,
        "start_time": "2022-05-24T07:38:08.119Z"
      },
      {
        "duration": 149,
        "start_time": "2022-05-24T07:43:48.558Z"
      },
      {
        "duration": 5,
        "start_time": "2022-05-24T07:44:38.250Z"
      },
      {
        "duration": 12,
        "start_time": "2022-05-24T07:50:54.649Z"
      },
      {
        "duration": 89,
        "start_time": "2022-05-24T07:51:50.198Z"
      },
      {
        "duration": 143,
        "start_time": "2022-05-24T07:52:17.086Z"
      },
      {
        "duration": 44,
        "start_time": "2022-05-24T08:06:31.003Z"
      },
      {
        "duration": 92,
        "start_time": "2022-05-24T08:07:01.675Z"
      },
      {
        "duration": 115,
        "start_time": "2022-05-24T08:07:45.208Z"
      },
      {
        "duration": 142,
        "start_time": "2022-05-24T08:07:57.642Z"
      },
      {
        "duration": 243,
        "start_time": "2022-05-24T08:08:31.960Z"
      },
      {
        "duration": 158,
        "start_time": "2022-05-24T08:08:56.128Z"
      },
      {
        "duration": 642,
        "start_time": "2022-05-24T08:10:34.086Z"
      },
      {
        "duration": 692,
        "start_time": "2022-05-24T08:11:06.752Z"
      },
      {
        "duration": 1178,
        "start_time": "2022-05-24T08:12:44.093Z"
      },
      {
        "duration": 104,
        "start_time": "2022-05-24T08:12:45.273Z"
      },
      {
        "duration": 3,
        "start_time": "2022-05-24T08:12:45.379Z"
      },
      {
        "duration": 9,
        "start_time": "2022-05-24T08:12:45.384Z"
      },
      {
        "duration": 117,
        "start_time": "2022-05-24T08:12:45.395Z"
      },
      {
        "duration": 74,
        "start_time": "2022-05-24T08:12:45.515Z"
      },
      {
        "duration": 43,
        "start_time": "2022-05-24T08:12:45.591Z"
      },
      {
        "duration": 6,
        "start_time": "2022-05-24T08:12:45.635Z"
      },
      {
        "duration": 49,
        "start_time": "2022-05-24T08:12:45.642Z"
      },
      {
        "duration": 26,
        "start_time": "2022-05-24T08:12:45.695Z"
      },
      {
        "duration": 18,
        "start_time": "2022-05-24T08:12:45.724Z"
      },
      {
        "duration": 42,
        "start_time": "2022-05-24T08:12:45.744Z"
      },
      {
        "duration": 687,
        "start_time": "2022-05-24T08:12:45.788Z"
      },
      {
        "duration": 217,
        "start_time": "2022-05-24T08:12:46.484Z"
      },
      {
        "duration": 327,
        "start_time": "2022-05-24T08:12:46.703Z"
      },
      {
        "duration": 200,
        "start_time": "2022-05-24T08:12:47.032Z"
      },
      {
        "duration": 311,
        "start_time": "2022-05-24T08:12:47.234Z"
      },
      {
        "duration": 129,
        "start_time": "2022-05-24T08:12:47.547Z"
      },
      {
        "duration": 7,
        "start_time": "2022-05-24T08:12:47.677Z"
      },
      {
        "duration": 181,
        "start_time": "2022-05-24T08:12:47.687Z"
      },
      {
        "duration": 24,
        "start_time": "2022-05-24T08:12:47.870Z"
      },
      {
        "duration": 330,
        "start_time": "2022-05-24T08:12:47.896Z"
      },
      {
        "duration": 201,
        "start_time": "2022-05-24T08:12:48.229Z"
      },
      {
        "duration": 159,
        "start_time": "2022-05-24T08:12:48.432Z"
      },
      {
        "duration": 0,
        "start_time": "2022-05-24T08:12:48.593Z"
      },
      {
        "duration": 284,
        "start_time": "2022-05-24T08:12:56.716Z"
      },
      {
        "duration": 422,
        "start_time": "2022-05-24T08:15:47.674Z"
      },
      {
        "duration": 337,
        "start_time": "2022-05-24T08:16:03.977Z"
      },
      {
        "duration": 323,
        "start_time": "2022-05-24T08:17:10.585Z"
      },
      {
        "duration": 308,
        "start_time": "2022-05-24T08:18:17.626Z"
      },
      {
        "duration": 354,
        "start_time": "2022-05-24T08:18:31.838Z"
      },
      {
        "duration": 338,
        "start_time": "2022-05-24T08:19:12.178Z"
      },
      {
        "duration": 331,
        "start_time": "2022-05-24T08:20:12.647Z"
      },
      {
        "duration": 332,
        "start_time": "2022-05-24T08:20:32.572Z"
      },
      {
        "duration": 239,
        "start_time": "2022-05-24T08:20:39.915Z"
      },
      {
        "duration": 22,
        "start_time": "2022-05-24T08:20:40.800Z"
      },
      {
        "duration": 50,
        "start_time": "2022-05-24T08:20:57.270Z"
      },
      {
        "duration": 56,
        "start_time": "2022-05-24T09:49:20.245Z"
      },
      {
        "duration": 11,
        "start_time": "2022-05-24T09:49:25.012Z"
      },
      {
        "duration": 27,
        "start_time": "2022-05-24T09:49:42.524Z"
      },
      {
        "duration": 9,
        "start_time": "2022-05-24T09:50:19.629Z"
      },
      {
        "duration": 504,
        "start_time": "2022-05-24T09:53:45.277Z"
      },
      {
        "duration": 9,
        "start_time": "2022-05-24T09:54:41.719Z"
      },
      {
        "duration": 9,
        "start_time": "2022-05-24T09:54:51.247Z"
      },
      {
        "duration": 9,
        "start_time": "2022-05-24T09:55:01.139Z"
      },
      {
        "duration": 8,
        "start_time": "2022-05-24T09:55:55.526Z"
      },
      {
        "duration": 9,
        "start_time": "2022-05-24T09:56:47.539Z"
      },
      {
        "duration": 14,
        "start_time": "2022-05-24T10:02:16.763Z"
      },
      {
        "duration": 17,
        "start_time": "2022-05-24T10:02:21.564Z"
      },
      {
        "duration": 35,
        "start_time": "2022-05-24T10:02:52.055Z"
      },
      {
        "duration": 31,
        "start_time": "2022-05-24T10:02:57.089Z"
      },
      {
        "duration": 8,
        "start_time": "2022-05-24T10:04:04.002Z"
      },
      {
        "duration": 11,
        "start_time": "2022-05-24T10:09:13.038Z"
      },
      {
        "duration": 589,
        "start_time": "2022-05-24T10:09:21.194Z"
      },
      {
        "duration": 13,
        "start_time": "2022-05-24T10:09:32.900Z"
      },
      {
        "duration": 12,
        "start_time": "2022-05-24T10:09:44.207Z"
      },
      {
        "duration": 275,
        "start_time": "2022-05-24T10:12:22.528Z"
      },
      {
        "duration": 9,
        "start_time": "2022-05-24T10:12:49.436Z"
      },
      {
        "duration": 263,
        "start_time": "2022-05-24T10:15:18.243Z"
      },
      {
        "duration": 253,
        "start_time": "2022-05-24T10:15:46.378Z"
      },
      {
        "duration": 187,
        "start_time": "2022-05-24T10:21:58.372Z"
      },
      {
        "duration": 353,
        "start_time": "2022-05-24T10:23:11.877Z"
      },
      {
        "duration": 286,
        "start_time": "2022-05-24T10:23:37.704Z"
      },
      {
        "duration": 163,
        "start_time": "2022-05-24T10:24:36.006Z"
      },
      {
        "duration": 252,
        "start_time": "2022-05-24T10:25:05.697Z"
      },
      {
        "duration": 390,
        "start_time": "2022-05-24T10:26:15.288Z"
      },
      {
        "duration": 271,
        "start_time": "2022-05-24T10:26:33.853Z"
      },
      {
        "duration": 282,
        "start_time": "2022-05-24T10:27:06.038Z"
      },
      {
        "duration": 258,
        "start_time": "2022-05-24T10:28:10.531Z"
      },
      {
        "duration": 327,
        "start_time": "2022-05-24T10:29:17.618Z"
      },
      {
        "duration": 282,
        "start_time": "2022-05-24T10:30:22.857Z"
      },
      {
        "duration": 103,
        "start_time": "2022-05-24T10:30:29.445Z"
      },
      {
        "duration": 41,
        "start_time": "2022-05-24T10:31:38.986Z"
      },
      {
        "duration": 291,
        "start_time": "2022-05-24T10:31:49.827Z"
      },
      {
        "duration": 132,
        "start_time": "2022-05-24T10:32:41.562Z"
      },
      {
        "duration": 191,
        "start_time": "2022-05-24T10:33:22.299Z"
      },
      {
        "duration": 148,
        "start_time": "2022-05-24T10:36:02.099Z"
      },
      {
        "duration": 42,
        "start_time": "2022-05-24T10:38:35.960Z"
      },
      {
        "duration": 29,
        "start_time": "2022-05-24T10:39:21.440Z"
      },
      {
        "duration": 3,
        "start_time": "2022-05-24T10:42:41.557Z"
      },
      {
        "duration": 78,
        "start_time": "2022-05-24T10:42:47.305Z"
      },
      {
        "duration": 3,
        "start_time": "2022-05-24T10:42:48.478Z"
      },
      {
        "duration": 9,
        "start_time": "2022-05-24T10:42:55.479Z"
      },
      {
        "duration": 33,
        "start_time": "2022-05-24T10:43:00.164Z"
      },
      {
        "duration": 34,
        "start_time": "2022-05-24T10:43:00.777Z"
      },
      {
        "duration": 26,
        "start_time": "2022-05-24T10:43:01.531Z"
      },
      {
        "duration": 6,
        "start_time": "2022-05-24T10:44:33.133Z"
      },
      {
        "duration": 16,
        "start_time": "2022-05-24T10:44:42.107Z"
      },
      {
        "duration": 9,
        "start_time": "2022-05-24T10:46:50.671Z"
      },
      {
        "duration": 16,
        "start_time": "2022-05-24T10:48:27.997Z"
      },
      {
        "duration": 12,
        "start_time": "2022-05-24T10:48:35.282Z"
      },
      {
        "duration": 5,
        "start_time": "2022-05-24T10:48:38.094Z"
      },
      {
        "duration": 16,
        "start_time": "2022-05-24T10:48:38.803Z"
      },
      {
        "duration": 380,
        "start_time": "2022-05-24T10:48:41.603Z"
      },
      {
        "duration": 8,
        "start_time": "2022-05-24T10:49:20.487Z"
      },
      {
        "duration": 137,
        "start_time": "2022-05-24T10:49:31.075Z"
      },
      {
        "duration": 11,
        "start_time": "2022-05-24T10:51:54.242Z"
      },
      {
        "duration": 4,
        "start_time": "2022-05-24T10:54:33.557Z"
      },
      {
        "duration": 79,
        "start_time": "2022-05-24T10:54:34.550Z"
      },
      {
        "duration": 3,
        "start_time": "2022-05-24T10:54:35.104Z"
      },
      {
        "duration": 5,
        "start_time": "2022-05-24T10:54:35.720Z"
      },
      {
        "duration": 34,
        "start_time": "2022-05-24T10:54:36.177Z"
      },
      {
        "duration": 32,
        "start_time": "2022-05-24T10:54:36.729Z"
      },
      {
        "duration": 27,
        "start_time": "2022-05-24T10:54:37.310Z"
      },
      {
        "duration": 11,
        "start_time": "2022-05-24T10:54:37.996Z"
      },
      {
        "duration": 5,
        "start_time": "2022-05-24T10:54:40.935Z"
      },
      {
        "duration": 16,
        "start_time": "2022-05-24T10:54:41.812Z"
      },
      {
        "duration": 390,
        "start_time": "2022-05-24T10:54:44.975Z"
      },
      {
        "duration": 155,
        "start_time": "2022-05-24T10:54:47.647Z"
      },
      {
        "duration": 286,
        "start_time": "2022-05-24T10:57:21.348Z"
      },
      {
        "duration": 159,
        "start_time": "2022-05-24T10:57:30.821Z"
      },
      {
        "duration": 133,
        "start_time": "2022-05-24T10:57:55.268Z"
      },
      {
        "duration": 221,
        "start_time": "2022-05-24T10:58:37.297Z"
      },
      {
        "duration": 287,
        "start_time": "2022-05-24T10:59:06.339Z"
      },
      {
        "duration": 174,
        "start_time": "2022-05-24T10:59:20.758Z"
      },
      {
        "duration": 259,
        "start_time": "2022-05-24T10:59:31.470Z"
      },
      {
        "duration": 112,
        "start_time": "2022-05-24T11:00:25.237Z"
      },
      {
        "duration": 119,
        "start_time": "2022-05-24T11:00:47.276Z"
      },
      {
        "duration": 135,
        "start_time": "2022-05-24T11:02:38.319Z"
      },
      {
        "duration": 10,
        "start_time": "2022-05-24T11:03:15.511Z"
      },
      {
        "duration": 13,
        "start_time": "2022-05-24T11:03:35.853Z"
      },
      {
        "duration": 117,
        "start_time": "2022-05-24T11:04:38.143Z"
      },
      {
        "duration": 126,
        "start_time": "2022-05-24T11:04:57.712Z"
      },
      {
        "duration": 1711,
        "start_time": "2022-05-24T18:59:12.358Z"
      },
      {
        "duration": 179,
        "start_time": "2022-05-24T18:59:15.073Z"
      },
      {
        "duration": 2,
        "start_time": "2022-05-24T18:59:17.105Z"
      },
      {
        "duration": 6,
        "start_time": "2022-05-24T18:59:17.576Z"
      },
      {
        "duration": 80,
        "start_time": "2022-05-24T18:59:18.655Z"
      },
      {
        "duration": 47,
        "start_time": "2022-05-24T18:59:19.214Z"
      },
      {
        "duration": 29,
        "start_time": "2022-05-24T18:59:19.810Z"
      },
      {
        "duration": 8,
        "start_time": "2022-05-24T18:59:32.912Z"
      },
      {
        "duration": 7,
        "start_time": "2022-05-24T18:59:51.543Z"
      },
      {
        "duration": 20,
        "start_time": "2022-05-24T18:59:52.292Z"
      },
      {
        "duration": 783,
        "start_time": "2022-05-24T19:00:02.515Z"
      },
      {
        "duration": 466,
        "start_time": "2022-05-24T19:00:21.152Z"
      },
      {
        "duration": 446,
        "start_time": "2022-05-24T19:06:00.333Z"
      },
      {
        "duration": 444,
        "start_time": "2022-05-24T19:06:43.117Z"
      },
      {
        "duration": 178,
        "start_time": "2022-05-24T19:06:51.150Z"
      },
      {
        "duration": 200,
        "start_time": "2022-05-24T19:07:06.006Z"
      },
      {
        "duration": 500,
        "start_time": "2022-05-24T19:09:07.856Z"
      },
      {
        "duration": 345,
        "start_time": "2022-05-24T19:09:36.060Z"
      },
      {
        "duration": 327,
        "start_time": "2022-05-24T19:09:47.389Z"
      },
      {
        "duration": 286,
        "start_time": "2022-05-24T19:11:00.994Z"
      },
      {
        "duration": 187,
        "start_time": "2022-05-24T19:11:10.482Z"
      },
      {
        "duration": 215,
        "start_time": "2022-05-24T19:11:58.687Z"
      },
      {
        "duration": 200,
        "start_time": "2022-05-24T19:16:57.139Z"
      },
      {
        "duration": 186,
        "start_time": "2022-05-24T19:17:10.698Z"
      },
      {
        "duration": 286,
        "start_time": "2022-05-24T19:17:15.228Z"
      },
      {
        "duration": 213,
        "start_time": "2022-05-24T19:17:54.390Z"
      },
      {
        "duration": 182,
        "start_time": "2022-05-24T19:18:03.994Z"
      },
      {
        "duration": 182,
        "start_time": "2022-05-24T19:18:11.259Z"
      },
      {
        "duration": 181,
        "start_time": "2022-05-24T19:18:19.947Z"
      },
      {
        "duration": 254,
        "start_time": "2022-05-24T19:20:53.972Z"
      },
      {
        "duration": 129,
        "start_time": "2022-05-24T19:23:13.356Z"
      },
      {
        "duration": 10,
        "start_time": "2022-05-24T19:23:45.198Z"
      },
      {
        "duration": 276,
        "start_time": "2022-05-24T19:28:04.436Z"
      },
      {
        "duration": 265,
        "start_time": "2022-05-24T19:32:21.136Z"
      },
      {
        "duration": 284,
        "start_time": "2022-05-24T19:33:24.299Z"
      },
      {
        "duration": 167,
        "start_time": "2022-05-24T19:34:34.078Z"
      },
      {
        "duration": 238,
        "start_time": "2022-05-24T19:37:09.569Z"
      },
      {
        "duration": 118,
        "start_time": "2022-05-24T19:40:41.367Z"
      },
      {
        "duration": 133,
        "start_time": "2022-05-24T19:40:48.925Z"
      },
      {
        "duration": 5,
        "start_time": "2022-05-24T19:40:49.332Z"
      },
      {
        "duration": 128,
        "start_time": "2022-05-24T19:40:50.656Z"
      },
      {
        "duration": 5,
        "start_time": "2022-05-24T19:40:51.312Z"
      },
      {
        "duration": 235,
        "start_time": "2022-05-24T19:41:05.438Z"
      },
      {
        "duration": 136,
        "start_time": "2022-05-24T19:41:07.481Z"
      },
      {
        "duration": 34,
        "start_time": "2022-05-24T19:41:09.563Z"
      },
      {
        "duration": 13,
        "start_time": "2022-05-24T19:45:29.316Z"
      },
      {
        "duration": 12,
        "start_time": "2022-05-24T19:54:48.797Z"
      },
      {
        "duration": 11,
        "start_time": "2022-05-24T19:54:54.448Z"
      },
      {
        "duration": 11,
        "start_time": "2022-05-24T19:55:02.449Z"
      },
      {
        "duration": 42,
        "start_time": "2022-05-24T19:55:03.399Z"
      },
      {
        "duration": 15,
        "start_time": "2022-05-24T19:55:05.350Z"
      },
      {
        "duration": 231,
        "start_time": "2022-05-24T20:11:05.659Z"
      },
      {
        "duration": 1362,
        "start_time": "2022-05-25T16:14:18.308Z"
      },
      {
        "duration": 191,
        "start_time": "2022-05-25T16:14:19.672Z"
      },
      {
        "duration": 2,
        "start_time": "2022-05-25T16:14:19.865Z"
      },
      {
        "duration": 8,
        "start_time": "2022-05-25T16:14:19.868Z"
      },
      {
        "duration": 82,
        "start_time": "2022-05-25T16:14:19.878Z"
      },
      {
        "duration": 39,
        "start_time": "2022-05-25T16:14:19.961Z"
      },
      {
        "duration": 35,
        "start_time": "2022-05-25T16:14:20.027Z"
      },
      {
        "duration": 8,
        "start_time": "2022-05-25T16:14:20.063Z"
      },
      {
        "duration": 14,
        "start_time": "2022-05-25T16:14:20.073Z"
      },
      {
        "duration": 49,
        "start_time": "2022-05-25T16:14:20.088Z"
      },
      {
        "duration": 677,
        "start_time": "2022-05-25T16:14:20.139Z"
      },
      {
        "duration": 208,
        "start_time": "2022-05-25T16:14:20.818Z"
      },
      {
        "duration": 325,
        "start_time": "2022-05-25T16:14:21.028Z"
      },
      {
        "duration": 202,
        "start_time": "2022-05-25T16:14:21.356Z"
      },
      {
        "duration": 278,
        "start_time": "2022-05-25T16:14:21.560Z"
      },
      {
        "duration": 143,
        "start_time": "2022-05-25T16:14:21.840Z"
      },
      {
        "duration": 4,
        "start_time": "2022-05-25T16:14:21.985Z"
      },
      {
        "duration": 159,
        "start_time": "2022-05-25T16:14:21.991Z"
      },
      {
        "duration": 6,
        "start_time": "2022-05-25T16:14:22.152Z"
      },
      {
        "duration": 244,
        "start_time": "2022-05-25T16:14:22.160Z"
      },
      {
        "duration": 138,
        "start_time": "2022-05-25T16:14:22.405Z"
      },
      {
        "duration": 31,
        "start_time": "2022-05-25T16:14:22.545Z"
      },
      {
        "duration": 11,
        "start_time": "2022-05-25T16:14:22.578Z"
      },
      {
        "duration": 8,
        "start_time": "2022-05-25T16:14:22.590Z"
      },
      {
        "duration": 33,
        "start_time": "2022-05-25T16:14:22.625Z"
      },
      {
        "duration": 14,
        "start_time": "2022-05-25T16:14:22.660Z"
      },
      {
        "duration": 11,
        "start_time": "2022-05-25T16:19:08.631Z"
      },
      {
        "duration": 18,
        "start_time": "2022-05-25T16:19:14.612Z"
      },
      {
        "duration": 18,
        "start_time": "2022-05-25T16:19:19.432Z"
      },
      {
        "duration": 37,
        "start_time": "2022-05-25T16:21:03.895Z"
      },
      {
        "duration": 13,
        "start_time": "2022-05-25T16:21:11.705Z"
      },
      {
        "duration": 10,
        "start_time": "2022-05-25T16:21:18.707Z"
      },
      {
        "duration": 12,
        "start_time": "2022-05-25T16:21:27.493Z"
      },
      {
        "duration": 5,
        "start_time": "2022-05-25T16:29:41.593Z"
      },
      {
        "duration": 5,
        "start_time": "2022-05-25T16:29:43.939Z"
      },
      {
        "duration": 5,
        "start_time": "2022-05-25T16:30:50.897Z"
      },
      {
        "duration": 6,
        "start_time": "2022-05-25T16:34:16.013Z"
      },
      {
        "duration": 5,
        "start_time": "2022-05-25T16:36:19.261Z"
      },
      {
        "duration": 256,
        "start_time": "2022-05-25T16:37:30.666Z"
      },
      {
        "duration": 236,
        "start_time": "2022-05-25T16:37:33.135Z"
      },
      {
        "duration": 50,
        "start_time": "2022-05-25T16:41:13.972Z"
      },
      {
        "duration": 1393,
        "start_time": "2022-05-26T03:31:20.867Z"
      },
      {
        "duration": 276,
        "start_time": "2022-05-26T03:31:22.262Z"
      },
      {
        "duration": 3,
        "start_time": "2022-05-26T03:31:22.540Z"
      },
      {
        "duration": 7,
        "start_time": "2022-05-26T03:31:22.906Z"
      },
      {
        "duration": 83,
        "start_time": "2022-05-26T03:31:23.535Z"
      },
      {
        "duration": 40,
        "start_time": "2022-05-26T03:31:24.573Z"
      },
      {
        "duration": 30,
        "start_time": "2022-05-26T03:31:25.103Z"
      },
      {
        "duration": 8,
        "start_time": "2022-05-26T03:33:55.609Z"
      },
      {
        "duration": 7,
        "start_time": "2022-05-26T03:34:06.578Z"
      },
      {
        "duration": 5,
        "start_time": "2022-05-26T03:34:41.584Z"
      },
      {
        "duration": 46,
        "start_time": "2022-05-26T03:35:20.671Z"
      },
      {
        "duration": 3,
        "start_time": "2022-05-26T03:35:24.913Z"
      },
      {
        "duration": 163,
        "start_time": "2022-05-26T03:36:44.877Z"
      },
      {
        "duration": 13,
        "start_time": "2022-05-26T03:37:12.775Z"
      },
      {
        "duration": 10,
        "start_time": "2022-05-26T03:37:18.471Z"
      },
      {
        "duration": 9,
        "start_time": "2022-05-26T03:37:52.834Z"
      },
      {
        "duration": 11,
        "start_time": "2022-05-26T03:38:00.975Z"
      },
      {
        "duration": 10,
        "start_time": "2022-05-26T03:38:06.329Z"
      },
      {
        "duration": 12,
        "start_time": "2022-05-26T03:38:53.576Z"
      },
      {
        "duration": 6,
        "start_time": "2022-05-26T03:39:25.900Z"
      },
      {
        "duration": 14,
        "start_time": "2022-05-26T03:39:45.364Z"
      },
      {
        "duration": 8,
        "start_time": "2022-05-26T03:40:39.644Z"
      },
      {
        "duration": 5,
        "start_time": "2022-05-26T03:46:29.737Z"
      },
      {
        "duration": 6,
        "start_time": "2022-05-26T03:46:42.439Z"
      },
      {
        "duration": 6,
        "start_time": "2022-05-26T03:47:04.201Z"
      },
      {
        "duration": 12,
        "start_time": "2022-05-26T03:47:48.377Z"
      },
      {
        "duration": 5,
        "start_time": "2022-05-26T03:49:53.809Z"
      },
      {
        "duration": 8,
        "start_time": "2022-05-26T03:50:05.130Z"
      },
      {
        "duration": 6,
        "start_time": "2022-05-26T03:50:29.632Z"
      },
      {
        "duration": 9,
        "start_time": "2022-05-26T03:50:46.287Z"
      },
      {
        "duration": 117,
        "start_time": "2022-05-26T03:51:13.189Z"
      },
      {
        "duration": 41,
        "start_time": "2022-05-26T03:51:20.746Z"
      },
      {
        "duration": 9,
        "start_time": "2022-05-26T03:51:25.311Z"
      },
      {
        "duration": 26,
        "start_time": "2022-05-26T03:59:46.452Z"
      },
      {
        "duration": 7,
        "start_time": "2022-05-26T03:59:56.436Z"
      },
      {
        "duration": 8,
        "start_time": "2022-05-26T04:00:15.198Z"
      },
      {
        "duration": 19,
        "start_time": "2022-05-26T04:00:28.004Z"
      },
      {
        "duration": 13,
        "start_time": "2022-05-26T04:00:46.947Z"
      },
      {
        "duration": 7,
        "start_time": "2022-05-26T04:00:47.909Z"
      },
      {
        "duration": 9,
        "start_time": "2022-05-26T04:01:02.378Z"
      },
      {
        "duration": 8,
        "start_time": "2022-05-26T04:02:00.496Z"
      },
      {
        "duration": 3,
        "start_time": "2022-05-26T04:02:07.942Z"
      },
      {
        "duration": 85,
        "start_time": "2022-05-26T04:02:08.448Z"
      },
      {
        "duration": 3,
        "start_time": "2022-05-26T04:02:08.983Z"
      },
      {
        "duration": 15,
        "start_time": "2022-05-26T04:02:09.467Z"
      },
      {
        "duration": 59,
        "start_time": "2022-05-26T04:02:09.944Z"
      },
      {
        "duration": 37,
        "start_time": "2022-05-26T04:02:10.896Z"
      },
      {
        "duration": 58,
        "start_time": "2022-05-26T04:02:11.422Z"
      },
      {
        "duration": 9,
        "start_time": "2022-05-26T04:02:11.983Z"
      },
      {
        "duration": 12,
        "start_time": "2022-05-26T04:02:12.601Z"
      },
      {
        "duration": 9,
        "start_time": "2022-05-26T04:02:13.078Z"
      },
      {
        "duration": 4,
        "start_time": "2022-05-26T04:02:13.736Z"
      },
      {
        "duration": 12,
        "start_time": "2022-05-26T04:02:14.509Z"
      },
      {
        "duration": 9,
        "start_time": "2022-05-26T04:02:16.907Z"
      },
      {
        "duration": 11,
        "start_time": "2022-05-26T04:02:19.014Z"
      },
      {
        "duration": 10,
        "start_time": "2022-05-26T04:02:25.384Z"
      },
      {
        "duration": 10,
        "start_time": "2022-05-26T04:02:57.927Z"
      },
      {
        "duration": 7,
        "start_time": "2022-05-26T04:03:17.279Z"
      },
      {
        "duration": 4,
        "start_time": "2022-05-26T04:03:18.423Z"
      },
      {
        "duration": 14,
        "start_time": "2022-05-26T04:03:50.180Z"
      },
      {
        "duration": 31,
        "start_time": "2022-05-26T04:05:36.749Z"
      },
      {
        "duration": 4,
        "start_time": "2022-05-26T04:05:50.085Z"
      },
      {
        "duration": 4,
        "start_time": "2022-05-26T04:05:51.032Z"
      },
      {
        "duration": 16,
        "start_time": "2022-05-26T04:06:06.569Z"
      },
      {
        "duration": 6,
        "start_time": "2022-05-26T04:10:16.279Z"
      },
      {
        "duration": 20,
        "start_time": "2022-05-26T04:10:17.801Z"
      },
      {
        "duration": 47,
        "start_time": "2022-05-26T04:10:33.069Z"
      },
      {
        "duration": 68,
        "start_time": "2022-05-26T04:11:30.431Z"
      },
      {
        "duration": 6,
        "start_time": "2022-05-26T04:11:35.233Z"
      },
      {
        "duration": 23,
        "start_time": "2022-05-26T04:11:35.798Z"
      },
      {
        "duration": 22,
        "start_time": "2022-05-26T04:11:43.750Z"
      },
      {
        "duration": 13,
        "start_time": "2022-05-26T04:12:17.472Z"
      },
      {
        "duration": 28,
        "start_time": "2022-05-26T04:13:27.281Z"
      },
      {
        "duration": 20,
        "start_time": "2022-05-26T04:13:49.965Z"
      },
      {
        "duration": 17,
        "start_time": "2022-05-26T04:14:02.378Z"
      },
      {
        "duration": 956,
        "start_time": "2022-05-26T04:14:18.884Z"
      },
      {
        "duration": 209,
        "start_time": "2022-05-26T04:14:22.613Z"
      },
      {
        "duration": 326,
        "start_time": "2022-05-26T04:14:24.548Z"
      },
      {
        "duration": 200,
        "start_time": "2022-05-26T04:14:28.999Z"
      },
      {
        "duration": 342,
        "start_time": "2022-05-26T04:14:35.103Z"
      },
      {
        "duration": 316,
        "start_time": "2022-05-26T04:15:07.627Z"
      },
      {
        "duration": 6,
        "start_time": "2022-05-26T04:15:19.266Z"
      },
      {
        "duration": 285,
        "start_time": "2022-05-26T04:15:33.683Z"
      },
      {
        "duration": 145,
        "start_time": "2022-05-26T04:15:52.724Z"
      },
      {
        "duration": 4,
        "start_time": "2022-05-26T04:15:56.364Z"
      },
      {
        "duration": 137,
        "start_time": "2022-05-26T04:15:58.465Z"
      },
      {
        "duration": 5,
        "start_time": "2022-05-26T04:16:08.675Z"
      },
      {
        "duration": 234,
        "start_time": "2022-05-26T04:16:11.240Z"
      },
      {
        "duration": 235,
        "start_time": "2022-05-26T04:16:16.259Z"
      },
      {
        "duration": 251,
        "start_time": "2022-05-26T04:16:38.110Z"
      },
      {
        "duration": 22,
        "start_time": "2022-05-26T04:21:39.497Z"
      },
      {
        "duration": 15,
        "start_time": "2022-05-26T04:22:03.585Z"
      },
      {
        "duration": 14,
        "start_time": "2022-05-26T04:22:11.396Z"
      },
      {
        "duration": 138,
        "start_time": "2022-05-26T04:22:13.349Z"
      },
      {
        "duration": 44,
        "start_time": "2022-05-26T04:22:16.352Z"
      },
      {
        "duration": 33,
        "start_time": "2022-05-26T04:22:22.795Z"
      },
      {
        "duration": 11,
        "start_time": "2022-05-26T04:22:51.780Z"
      },
      {
        "duration": 9,
        "start_time": "2022-05-26T04:22:57.784Z"
      },
      {
        "duration": 37,
        "start_time": "2022-05-26T04:22:59.761Z"
      },
      {
        "duration": 7,
        "start_time": "2022-05-26T04:23:27.531Z"
      },
      {
        "duration": 11,
        "start_time": "2022-05-26T04:23:40.850Z"
      },
      {
        "duration": 7,
        "start_time": "2022-05-26T04:23:54.623Z"
      },
      {
        "duration": 11,
        "start_time": "2022-05-26T04:24:05.863Z"
      },
      {
        "duration": 7,
        "start_time": "2022-05-26T04:24:17.925Z"
      },
      {
        "duration": 12,
        "start_time": "2022-05-26T04:25:14.649Z"
      },
      {
        "duration": 5,
        "start_time": "2022-05-26T04:25:40.008Z"
      },
      {
        "duration": 10,
        "start_time": "2022-05-26T04:25:44.334Z"
      },
      {
        "duration": 3,
        "start_time": "2022-05-26T04:25:52.115Z"
      },
      {
        "duration": 81,
        "start_time": "2022-05-26T04:25:52.537Z"
      },
      {
        "duration": 3,
        "start_time": "2022-05-26T04:25:52.968Z"
      },
      {
        "duration": 8,
        "start_time": "2022-05-26T04:25:53.448Z"
      },
      {
        "duration": 31,
        "start_time": "2022-05-26T04:25:53.897Z"
      },
      {
        "duration": 37,
        "start_time": "2022-05-26T04:25:54.771Z"
      },
      {
        "duration": 42,
        "start_time": "2022-05-26T04:25:55.202Z"
      },
      {
        "duration": 9,
        "start_time": "2022-05-26T04:25:55.617Z"
      },
      {
        "duration": 10,
        "start_time": "2022-05-26T04:25:56.184Z"
      },
      {
        "duration": 8,
        "start_time": "2022-05-26T04:25:56.764Z"
      },
      {
        "duration": 4,
        "start_time": "2022-05-26T04:26:03.965Z"
      },
      {
        "duration": 9,
        "start_time": "2022-05-26T04:26:04.828Z"
      },
      {
        "duration": 6,
        "start_time": "2022-05-26T04:26:10.220Z"
      },
      {
        "duration": 17,
        "start_time": "2022-05-26T04:26:12.262Z"
      },
      {
        "duration": 9,
        "start_time": "2022-05-26T04:26:24.749Z"
      },
      {
        "duration": 6,
        "start_time": "2022-05-26T04:27:09.370Z"
      },
      {
        "duration": 9,
        "start_time": "2022-05-26T04:27:15.160Z"
      },
      {
        "duration": 8,
        "start_time": "2022-05-26T04:27:55.237Z"
      },
      {
        "duration": 10,
        "start_time": "2022-05-26T04:28:17.571Z"
      },
      {
        "duration": 6,
        "start_time": "2022-05-26T04:28:26.895Z"
      },
      {
        "duration": 6,
        "start_time": "2022-05-26T04:37:19.646Z"
      },
      {
        "duration": 27,
        "start_time": "2022-05-26T04:37:20.338Z"
      },
      {
        "duration": 498,
        "start_time": "2022-05-26T04:37:23.236Z"
      },
      {
        "duration": 300,
        "start_time": "2022-05-26T04:37:25.808Z"
      },
      {
        "duration": 341,
        "start_time": "2022-05-26T04:37:28.225Z"
      },
      {
        "duration": 194,
        "start_time": "2022-05-26T04:37:30.350Z"
      },
      {
        "duration": 291,
        "start_time": "2022-05-26T04:37:32.779Z"
      },
      {
        "duration": 148,
        "start_time": "2022-05-26T04:37:36.267Z"
      },
      {
        "duration": 6,
        "start_time": "2022-05-26T04:37:36.881Z"
      },
      {
        "duration": 154,
        "start_time": "2022-05-26T04:37:39.087Z"
      },
      {
        "duration": 5,
        "start_time": "2022-05-26T04:37:40.725Z"
      },
      {
        "duration": 20,
        "start_time": "2022-05-26T04:37:43.348Z"
      },
      {
        "duration": 153,
        "start_time": "2022-05-26T04:37:46.355Z"
      },
      {
        "duration": 42,
        "start_time": "2022-05-26T04:37:49.221Z"
      },
      {
        "duration": 12,
        "start_time": "2022-05-26T04:37:53.877Z"
      },
      {
        "duration": 10,
        "start_time": "2022-05-26T04:37:57.219Z"
      },
      {
        "duration": 42,
        "start_time": "2022-05-26T04:37:58.921Z"
      },
      {
        "duration": 16,
        "start_time": "2022-05-26T04:38:03.059Z"
      },
      {
        "duration": 78,
        "start_time": "2022-05-26T12:24:47.272Z"
      },
      {
        "duration": 1519,
        "start_time": "2022-05-26T12:24:49.044Z"
      },
      {
        "duration": 274,
        "start_time": "2022-05-26T12:24:50.565Z"
      },
      {
        "duration": 2,
        "start_time": "2022-05-26T12:24:50.841Z"
      },
      {
        "duration": 13,
        "start_time": "2022-05-26T12:24:55.479Z"
      },
      {
        "duration": 5,
        "start_time": "2022-05-26T12:24:55.938Z"
      },
      {
        "duration": 15,
        "start_time": "2022-05-26T12:24:56.421Z"
      },
      {
        "duration": 126,
        "start_time": "2022-05-26T12:24:56.813Z"
      },
      {
        "duration": 4,
        "start_time": "2022-05-26T12:25:05.144Z"
      },
      {
        "duration": 95,
        "start_time": "2022-05-26T12:25:05.335Z"
      },
      {
        "duration": 5,
        "start_time": "2022-05-26T12:25:05.487Z"
      },
      {
        "duration": 9,
        "start_time": "2022-05-26T12:25:05.643Z"
      },
      {
        "duration": 92,
        "start_time": "2022-05-26T12:25:05.790Z"
      },
      {
        "duration": 41,
        "start_time": "2022-05-26T12:25:06.124Z"
      },
      {
        "duration": 54,
        "start_time": "2022-05-26T12:25:06.274Z"
      },
      {
        "duration": 10,
        "start_time": "2022-05-26T12:25:09.979Z"
      },
      {
        "duration": 4,
        "start_time": "2022-05-26T12:25:10.275Z"
      },
      {
        "duration": 9,
        "start_time": "2022-05-26T12:25:10.524Z"
      },
      {
        "duration": 9,
        "start_time": "2022-05-26T12:25:11.573Z"
      },
      {
        "duration": 23,
        "start_time": "2022-05-26T12:25:12.186Z"
      },
      {
        "duration": 6,
        "start_time": "2022-05-26T12:25:12.646Z"
      },
      {
        "duration": 6,
        "start_time": "2022-05-26T12:27:49.664Z"
      },
      {
        "duration": 7,
        "start_time": "2022-05-26T12:27:57.076Z"
      },
      {
        "duration": 69,
        "start_time": "2022-05-26T12:28:10.954Z"
      },
      {
        "duration": 12,
        "start_time": "2022-05-26T12:28:21.628Z"
      },
      {
        "duration": 11,
        "start_time": "2022-05-26T12:28:33.428Z"
      },
      {
        "duration": 14,
        "start_time": "2022-05-26T12:28:40.160Z"
      },
      {
        "duration": 23,
        "start_time": "2022-05-26T12:28:44.222Z"
      },
      {
        "duration": 13,
        "start_time": "2022-05-26T12:28:46.266Z"
      },
      {
        "duration": 33,
        "start_time": "2022-05-26T12:28:51.082Z"
      },
      {
        "duration": 8,
        "start_time": "2022-05-26T12:28:56.782Z"
      },
      {
        "duration": 11,
        "start_time": "2022-05-26T12:32:16.322Z"
      },
      {
        "duration": 58,
        "start_time": "2022-05-26T12:32:26.667Z"
      },
      {
        "duration": 17,
        "start_time": "2022-05-26T12:32:30.740Z"
      }
    ],
    "kernelspec": {
      "display_name": "Python 3 (ipykernel)",
      "language": "python",
      "name": "python3"
    },
    "language_info": {
      "codemirror_mode": {
        "name": "ipython",
        "version": 3
      },
      "file_extension": ".py",
      "mimetype": "text/x-python",
      "name": "python",
      "nbconvert_exporter": "python",
      "pygments_lexer": "ipython3",
      "version": "3.9.5"
    },
    "toc": {
      "base_numbering": 1,
      "nav_menu": {},
      "number_sections": true,
      "sideBar": true,
      "skip_h1_title": true,
      "title_cell": "Table of Contents",
      "title_sidebar": "Contents",
      "toc_cell": false,
      "toc_position": {},
      "toc_section_display": true,
      "toc_window_display": false
    },
    "colab": {
      "provenance": [],
      "collapsed_sections": [],
      "include_colab_link": true
    }
  },
  "nbformat": 4,
  "nbformat_minor": 0
}