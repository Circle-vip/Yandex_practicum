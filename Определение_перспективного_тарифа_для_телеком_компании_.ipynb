{
  "cells": [
    {
      "cell_type": "markdown",
      "metadata": {
        "id": "view-in-github",
        "colab_type": "text"
      },
      "source": [
        "<a href=\"https://colab.research.google.com/github/Circle-vip/Yandex_practicum/blob/main/%D0%9E%D0%BF%D1%80%D0%B5%D0%B4%D0%B5%D0%BB%D0%B5%D0%BD%D0%B8%D0%B5_%D0%BF%D0%B5%D1%80%D1%81%D0%BF%D0%B5%D0%BA%D1%82%D0%B8%D0%B2%D0%BD%D0%BE%D0%B3%D0%BE_%D1%82%D0%B0%D1%80%D0%B8%D1%84%D0%B0_%D0%B4%D0%BB%D1%8F_%D1%82%D0%B5%D0%BB%D0%B5%D0%BA%D0%BE%D0%BC_%D0%BA%D0%BE%D0%BC%D0%BF%D0%B0%D0%BD%D0%B8%D0%B8_.ipynb\" target=\"_parent\"><img src=\"https://colab.research.google.com/assets/colab-badge.svg\" alt=\"Open In Colab\"/></a>"
      ]
    },
    {
      "cell_type": "code",
      "source": [
        "from google.colab import drive\n",
        "drive.mount('/content/drive')"
      ],
      "metadata": {
        "colab": {
          "base_uri": "https://localhost:8080/"
        },
        "id": "8r4Xz_IRRfPw",
        "outputId": "bfb92ab4-aef5-41b7-be51-5548d3673a12"
      },
      "execution_count": null,
      "outputs": [
        {
          "output_type": "stream",
          "name": "stdout",
          "text": [
            "Drive already mounted at /content/drive; to attempt to forcibly remount, call drive.mount(\"/content/drive\", force_remount=True).\n"
          ]
        }
      ]
    },
    {
      "cell_type": "markdown",
      "metadata": {
        "id": "zOwRyOQDRXt0"
      },
      "source": [
        "# Определение перспективного тарифа для телеком-компании. Проект №4"
      ]
    },
    {
      "cell_type": "markdown",
      "metadata": {
        "id": "zz2SddxwRXt1"
      },
      "source": [
        "**Цель:** Проанализировать поведение клиентов и сделать вывод - какой тарифный план выгоднее. \n"
      ]
    },
    {
      "cell_type": "markdown",
      "metadata": {
        "id": "yozCeArPRXt2"
      },
      "source": [
        "**Данные:** Выборка из 500 пользавателей двух тарифных планов - \"Смарт\" и \"Ультра\" - за 2018 год. Кто они, откуда, каким тарифом пользуются, сколько звонков,  сообщений каждый отправил, и сколько интернета понадобилось."
      ]
    },
    {
      "cell_type": "markdown",
      "metadata": {
        "id": "1Nm68p49RXt2"
      },
      "source": [
        "**Примечание:** «Мегалайн» всегда округляет секунды до минут, а мегабайты — до гигабайт. Каждый звонок округляется отдельно:\n",
        "1) Даже если он длился всего 1 секунду, будет засчитан как 1 минута.\n",
        "\n",
        "2) Для веб-трафика отдельные сессии не считаются. Вместо этого общая сумма за месяц округляется в бо́льшую сторону. Если абонент использует 1025 мегабайт в этом месяце, с него возьмут плату за 2 гигабайта."
      ]
    },
    {
      "cell_type": "code",
      "execution_count": null,
      "metadata": {
        "id": "WCacImyWRXt3"
      },
      "outputs": [],
      "source": [
        "#Импортируем библиотеки, которые возможно понадобятся\n",
        "import pandas as pd\n",
        "import numpy as np\n",
        "import warnings \n",
        "from scipy import stats as st\n",
        "import seaborn as sns\n",
        "import matplotlib.pyplot as plt"
      ]
    },
    {
      "cell_type": "code",
      "execution_count": null,
      "metadata": {
        "id": "ByE8QrqMRXt5"
      },
      "outputs": [],
      "source": [
        "#Чтобы окна об ошибках не мешали\n",
        "warnings.filterwarnings('ignore')"
      ]
    },
    {
      "cell_type": "code",
      "execution_count": null,
      "metadata": {
        "id": "p2bO0s81RXt6"
      },
      "outputs": [],
      "source": [
        "#Создали переменные с таблицами\n",
        "calls = pd.read_csv('/content/drive/MyDrive/Яндекс Практикум/Проект №4/calls.csv')\n",
        "\n",
        "internet = pd.read_csv('/content/drive/MyDrive/Яндекс Практикум/Проект №4/internet.csv')\n",
        "\n",
        "messages = pd.read_csv('/content/drive/MyDrive/Яндекс Практикум/Проект №4/messages.csv')\n",
        "\n",
        "tariffs = pd.read_csv('/content/drive/MyDrive/Яндекс Практикум/Проект №4/tariffs.csv')\n",
        "\n",
        "users = pd.read_csv('/content/drive/MyDrive/Яндекс Практикум/Проект №4/users.csv')\n"
      ]
    },
    {
      "cell_type": "code",
      "execution_count": null,
      "metadata": {
        "colab": {
          "base_uri": "https://localhost:8080/",
          "height": 397
        },
        "id": "Z63QoD4NRXt6",
        "outputId": "e74ba6cc-86cc-45ab-d257-a8202dfa1262"
      },
      "outputs": [
        {
          "output_type": "stream",
          "name": "stdout",
          "text": [
            "<class 'pandas.core.frame.DataFrame'>\n",
            "RangeIndex: 202607 entries, 0 to 202606\n",
            "Data columns (total 4 columns):\n",
            " #   Column     Non-Null Count   Dtype  \n",
            "---  ------     --------------   -----  \n",
            " 0   id         202607 non-null  object \n",
            " 1   call_date  202607 non-null  object \n",
            " 2   duration   202607 non-null  float64\n",
            " 3   user_id    202607 non-null  int64  \n",
            "dtypes: float64(1), int64(1), object(2)\n",
            "memory usage: 6.2+ MB\n"
          ]
        },
        {
          "output_type": "execute_result",
          "data": {
            "text/plain": [
              "       id   call_date  duration  user_id\n",
              "0  1000_0  2018-07-25      0.00     1000\n",
              "1  1000_1  2018-08-17      0.00     1000\n",
              "2  1000_2  2018-06-11      2.85     1000\n",
              "3  1000_3  2018-09-21     13.80     1000\n",
              "4  1000_4  2018-12-15      5.18     1000"
            ],
            "text/html": [
              "\n",
              "  <div id=\"df-70858d58-2dee-4bcf-98cc-0c7bc19e74cb\">\n",
              "    <div class=\"colab-df-container\">\n",
              "      <div>\n",
              "<style scoped>\n",
              "    .dataframe tbody tr th:only-of-type {\n",
              "        vertical-align: middle;\n",
              "    }\n",
              "\n",
              "    .dataframe tbody tr th {\n",
              "        vertical-align: top;\n",
              "    }\n",
              "\n",
              "    .dataframe thead th {\n",
              "        text-align: right;\n",
              "    }\n",
              "</style>\n",
              "<table border=\"1\" class=\"dataframe\">\n",
              "  <thead>\n",
              "    <tr style=\"text-align: right;\">\n",
              "      <th></th>\n",
              "      <th>id</th>\n",
              "      <th>call_date</th>\n",
              "      <th>duration</th>\n",
              "      <th>user_id</th>\n",
              "    </tr>\n",
              "  </thead>\n",
              "  <tbody>\n",
              "    <tr>\n",
              "      <th>0</th>\n",
              "      <td>1000_0</td>\n",
              "      <td>2018-07-25</td>\n",
              "      <td>0.00</td>\n",
              "      <td>1000</td>\n",
              "    </tr>\n",
              "    <tr>\n",
              "      <th>1</th>\n",
              "      <td>1000_1</td>\n",
              "      <td>2018-08-17</td>\n",
              "      <td>0.00</td>\n",
              "      <td>1000</td>\n",
              "    </tr>\n",
              "    <tr>\n",
              "      <th>2</th>\n",
              "      <td>1000_2</td>\n",
              "      <td>2018-06-11</td>\n",
              "      <td>2.85</td>\n",
              "      <td>1000</td>\n",
              "    </tr>\n",
              "    <tr>\n",
              "      <th>3</th>\n",
              "      <td>1000_3</td>\n",
              "      <td>2018-09-21</td>\n",
              "      <td>13.80</td>\n",
              "      <td>1000</td>\n",
              "    </tr>\n",
              "    <tr>\n",
              "      <th>4</th>\n",
              "      <td>1000_4</td>\n",
              "      <td>2018-12-15</td>\n",
              "      <td>5.18</td>\n",
              "      <td>1000</td>\n",
              "    </tr>\n",
              "  </tbody>\n",
              "</table>\n",
              "</div>\n",
              "      <button class=\"colab-df-convert\" onclick=\"convertToInteractive('df-70858d58-2dee-4bcf-98cc-0c7bc19e74cb')\"\n",
              "              title=\"Convert this dataframe to an interactive table.\"\n",
              "              style=\"display:none;\">\n",
              "        \n",
              "  <svg xmlns=\"http://www.w3.org/2000/svg\" height=\"24px\"viewBox=\"0 0 24 24\"\n",
              "       width=\"24px\">\n",
              "    <path d=\"M0 0h24v24H0V0z\" fill=\"none\"/>\n",
              "    <path d=\"M18.56 5.44l.94 2.06.94-2.06 2.06-.94-2.06-.94-.94-2.06-.94 2.06-2.06.94zm-11 1L8.5 8.5l.94-2.06 2.06-.94-2.06-.94L8.5 2.5l-.94 2.06-2.06.94zm10 10l.94 2.06.94-2.06 2.06-.94-2.06-.94-.94-2.06-.94 2.06-2.06.94z\"/><path d=\"M17.41 7.96l-1.37-1.37c-.4-.4-.92-.59-1.43-.59-.52 0-1.04.2-1.43.59L10.3 9.45l-7.72 7.72c-.78.78-.78 2.05 0 2.83L4 21.41c.39.39.9.59 1.41.59.51 0 1.02-.2 1.41-.59l7.78-7.78 2.81-2.81c.8-.78.8-2.07 0-2.86zM5.41 20L4 18.59l7.72-7.72 1.47 1.35L5.41 20z\"/>\n",
              "  </svg>\n",
              "      </button>\n",
              "      \n",
              "  <style>\n",
              "    .colab-df-container {\n",
              "      display:flex;\n",
              "      flex-wrap:wrap;\n",
              "      gap: 12px;\n",
              "    }\n",
              "\n",
              "    .colab-df-convert {\n",
              "      background-color: #E8F0FE;\n",
              "      border: none;\n",
              "      border-radius: 50%;\n",
              "      cursor: pointer;\n",
              "      display: none;\n",
              "      fill: #1967D2;\n",
              "      height: 32px;\n",
              "      padding: 0 0 0 0;\n",
              "      width: 32px;\n",
              "    }\n",
              "\n",
              "    .colab-df-convert:hover {\n",
              "      background-color: #E2EBFA;\n",
              "      box-shadow: 0px 1px 2px rgba(60, 64, 67, 0.3), 0px 1px 3px 1px rgba(60, 64, 67, 0.15);\n",
              "      fill: #174EA6;\n",
              "    }\n",
              "\n",
              "    [theme=dark] .colab-df-convert {\n",
              "      background-color: #3B4455;\n",
              "      fill: #D2E3FC;\n",
              "    }\n",
              "\n",
              "    [theme=dark] .colab-df-convert:hover {\n",
              "      background-color: #434B5C;\n",
              "      box-shadow: 0px 1px 3px 1px rgba(0, 0, 0, 0.15);\n",
              "      filter: drop-shadow(0px 1px 2px rgba(0, 0, 0, 0.3));\n",
              "      fill: #FFFFFF;\n",
              "    }\n",
              "  </style>\n",
              "\n",
              "      <script>\n",
              "        const buttonEl =\n",
              "          document.querySelector('#df-70858d58-2dee-4bcf-98cc-0c7bc19e74cb button.colab-df-convert');\n",
              "        buttonEl.style.display =\n",
              "          google.colab.kernel.accessAllowed ? 'block' : 'none';\n",
              "\n",
              "        async function convertToInteractive(key) {\n",
              "          const element = document.querySelector('#df-70858d58-2dee-4bcf-98cc-0c7bc19e74cb');\n",
              "          const dataTable =\n",
              "            await google.colab.kernel.invokeFunction('convertToInteractive',\n",
              "                                                     [key], {});\n",
              "          if (!dataTable) return;\n",
              "\n",
              "          const docLinkHtml = 'Like what you see? Visit the ' +\n",
              "            '<a target=\"_blank\" href=https://colab.research.google.com/notebooks/data_table.ipynb>data table notebook</a>'\n",
              "            + ' to learn more about interactive tables.';\n",
              "          element.innerHTML = '';\n",
              "          dataTable['output_type'] = 'display_data';\n",
              "          await google.colab.output.renderOutput(dataTable, element);\n",
              "          const docLink = document.createElement('div');\n",
              "          docLink.innerHTML = docLinkHtml;\n",
              "          element.appendChild(docLink);\n",
              "        }\n",
              "      </script>\n",
              "    </div>\n",
              "  </div>\n",
              "  "
            ]
          },
          "metadata": {},
          "execution_count": 99
        }
      ],
      "source": [
        "calls.info()\n",
        "\n",
        "calls.head()"
      ]
    },
    {
      "cell_type": "code",
      "execution_count": null,
      "metadata": {
        "colab": {
          "base_uri": "https://localhost:8080/",
          "height": 414
        },
        "id": "ySeOogWoRXt7",
        "outputId": "7bb5d05a-3481-42e9-857f-f49c71c21abd"
      },
      "outputs": [
        {
          "output_type": "stream",
          "name": "stdout",
          "text": [
            "<class 'pandas.core.frame.DataFrame'>\n",
            "RangeIndex: 149396 entries, 0 to 149395\n",
            "Data columns (total 5 columns):\n",
            " #   Column        Non-Null Count   Dtype  \n",
            "---  ------        --------------   -----  \n",
            " 0   Unnamed: 0    149396 non-null  int64  \n",
            " 1   id            149396 non-null  object \n",
            " 2   mb_used       149396 non-null  float64\n",
            " 3   session_date  149396 non-null  object \n",
            " 4   user_id       149396 non-null  int64  \n",
            "dtypes: float64(1), int64(2), object(2)\n",
            "memory usage: 5.7+ MB\n"
          ]
        },
        {
          "output_type": "execute_result",
          "data": {
            "text/plain": [
              "   Unnamed: 0      id  mb_used session_date  user_id\n",
              "0           0  1000_0   112.95   2018-11-25     1000\n",
              "1           1  1000_1  1052.81   2018-09-07     1000\n",
              "2           2  1000_2  1197.26   2018-06-25     1000\n",
              "3           3  1000_3   550.27   2018-08-22     1000\n",
              "4           4  1000_4   302.56   2018-09-24     1000"
            ],
            "text/html": [
              "\n",
              "  <div id=\"df-3f842864-8364-4430-bd12-d5f30d347eda\">\n",
              "    <div class=\"colab-df-container\">\n",
              "      <div>\n",
              "<style scoped>\n",
              "    .dataframe tbody tr th:only-of-type {\n",
              "        vertical-align: middle;\n",
              "    }\n",
              "\n",
              "    .dataframe tbody tr th {\n",
              "        vertical-align: top;\n",
              "    }\n",
              "\n",
              "    .dataframe thead th {\n",
              "        text-align: right;\n",
              "    }\n",
              "</style>\n",
              "<table border=\"1\" class=\"dataframe\">\n",
              "  <thead>\n",
              "    <tr style=\"text-align: right;\">\n",
              "      <th></th>\n",
              "      <th>Unnamed: 0</th>\n",
              "      <th>id</th>\n",
              "      <th>mb_used</th>\n",
              "      <th>session_date</th>\n",
              "      <th>user_id</th>\n",
              "    </tr>\n",
              "  </thead>\n",
              "  <tbody>\n",
              "    <tr>\n",
              "      <th>0</th>\n",
              "      <td>0</td>\n",
              "      <td>1000_0</td>\n",
              "      <td>112.95</td>\n",
              "      <td>2018-11-25</td>\n",
              "      <td>1000</td>\n",
              "    </tr>\n",
              "    <tr>\n",
              "      <th>1</th>\n",
              "      <td>1</td>\n",
              "      <td>1000_1</td>\n",
              "      <td>1052.81</td>\n",
              "      <td>2018-09-07</td>\n",
              "      <td>1000</td>\n",
              "    </tr>\n",
              "    <tr>\n",
              "      <th>2</th>\n",
              "      <td>2</td>\n",
              "      <td>1000_2</td>\n",
              "      <td>1197.26</td>\n",
              "      <td>2018-06-25</td>\n",
              "      <td>1000</td>\n",
              "    </tr>\n",
              "    <tr>\n",
              "      <th>3</th>\n",
              "      <td>3</td>\n",
              "      <td>1000_3</td>\n",
              "      <td>550.27</td>\n",
              "      <td>2018-08-22</td>\n",
              "      <td>1000</td>\n",
              "    </tr>\n",
              "    <tr>\n",
              "      <th>4</th>\n",
              "      <td>4</td>\n",
              "      <td>1000_4</td>\n",
              "      <td>302.56</td>\n",
              "      <td>2018-09-24</td>\n",
              "      <td>1000</td>\n",
              "    </tr>\n",
              "  </tbody>\n",
              "</table>\n",
              "</div>\n",
              "      <button class=\"colab-df-convert\" onclick=\"convertToInteractive('df-3f842864-8364-4430-bd12-d5f30d347eda')\"\n",
              "              title=\"Convert this dataframe to an interactive table.\"\n",
              "              style=\"display:none;\">\n",
              "        \n",
              "  <svg xmlns=\"http://www.w3.org/2000/svg\" height=\"24px\"viewBox=\"0 0 24 24\"\n",
              "       width=\"24px\">\n",
              "    <path d=\"M0 0h24v24H0V0z\" fill=\"none\"/>\n",
              "    <path d=\"M18.56 5.44l.94 2.06.94-2.06 2.06-.94-2.06-.94-.94-2.06-.94 2.06-2.06.94zm-11 1L8.5 8.5l.94-2.06 2.06-.94-2.06-.94L8.5 2.5l-.94 2.06-2.06.94zm10 10l.94 2.06.94-2.06 2.06-.94-2.06-.94-.94-2.06-.94 2.06-2.06.94z\"/><path d=\"M17.41 7.96l-1.37-1.37c-.4-.4-.92-.59-1.43-.59-.52 0-1.04.2-1.43.59L10.3 9.45l-7.72 7.72c-.78.78-.78 2.05 0 2.83L4 21.41c.39.39.9.59 1.41.59.51 0 1.02-.2 1.41-.59l7.78-7.78 2.81-2.81c.8-.78.8-2.07 0-2.86zM5.41 20L4 18.59l7.72-7.72 1.47 1.35L5.41 20z\"/>\n",
              "  </svg>\n",
              "      </button>\n",
              "      \n",
              "  <style>\n",
              "    .colab-df-container {\n",
              "      display:flex;\n",
              "      flex-wrap:wrap;\n",
              "      gap: 12px;\n",
              "    }\n",
              "\n",
              "    .colab-df-convert {\n",
              "      background-color: #E8F0FE;\n",
              "      border: none;\n",
              "      border-radius: 50%;\n",
              "      cursor: pointer;\n",
              "      display: none;\n",
              "      fill: #1967D2;\n",
              "      height: 32px;\n",
              "      padding: 0 0 0 0;\n",
              "      width: 32px;\n",
              "    }\n",
              "\n",
              "    .colab-df-convert:hover {\n",
              "      background-color: #E2EBFA;\n",
              "      box-shadow: 0px 1px 2px rgba(60, 64, 67, 0.3), 0px 1px 3px 1px rgba(60, 64, 67, 0.15);\n",
              "      fill: #174EA6;\n",
              "    }\n",
              "\n",
              "    [theme=dark] .colab-df-convert {\n",
              "      background-color: #3B4455;\n",
              "      fill: #D2E3FC;\n",
              "    }\n",
              "\n",
              "    [theme=dark] .colab-df-convert:hover {\n",
              "      background-color: #434B5C;\n",
              "      box-shadow: 0px 1px 3px 1px rgba(0, 0, 0, 0.15);\n",
              "      filter: drop-shadow(0px 1px 2px rgba(0, 0, 0, 0.3));\n",
              "      fill: #FFFFFF;\n",
              "    }\n",
              "  </style>\n",
              "\n",
              "      <script>\n",
              "        const buttonEl =\n",
              "          document.querySelector('#df-3f842864-8364-4430-bd12-d5f30d347eda button.colab-df-convert');\n",
              "        buttonEl.style.display =\n",
              "          google.colab.kernel.accessAllowed ? 'block' : 'none';\n",
              "\n",
              "        async function convertToInteractive(key) {\n",
              "          const element = document.querySelector('#df-3f842864-8364-4430-bd12-d5f30d347eda');\n",
              "          const dataTable =\n",
              "            await google.colab.kernel.invokeFunction('convertToInteractive',\n",
              "                                                     [key], {});\n",
              "          if (!dataTable) return;\n",
              "\n",
              "          const docLinkHtml = 'Like what you see? Visit the ' +\n",
              "            '<a target=\"_blank\" href=https://colab.research.google.com/notebooks/data_table.ipynb>data table notebook</a>'\n",
              "            + ' to learn more about interactive tables.';\n",
              "          element.innerHTML = '';\n",
              "          dataTable['output_type'] = 'display_data';\n",
              "          await google.colab.output.renderOutput(dataTable, element);\n",
              "          const docLink = document.createElement('div');\n",
              "          docLink.innerHTML = docLinkHtml;\n",
              "          element.appendChild(docLink);\n",
              "        }\n",
              "      </script>\n",
              "    </div>\n",
              "  </div>\n",
              "  "
            ]
          },
          "metadata": {},
          "execution_count": 100
        }
      ],
      "source": [
        "internet.info()\n",
        "\n",
        "internet.head()"
      ]
    },
    {
      "cell_type": "code",
      "execution_count": null,
      "metadata": {
        "colab": {
          "base_uri": "https://localhost:8080/",
          "height": 380
        },
        "id": "FR5wSE8MRXt8",
        "outputId": "34436722-d2d3-47aa-d67a-9f99ce8bb466"
      },
      "outputs": [
        {
          "output_type": "stream",
          "name": "stdout",
          "text": [
            "<class 'pandas.core.frame.DataFrame'>\n",
            "RangeIndex: 123036 entries, 0 to 123035\n",
            "Data columns (total 3 columns):\n",
            " #   Column        Non-Null Count   Dtype \n",
            "---  ------        --------------   ----- \n",
            " 0   id            123036 non-null  object\n",
            " 1   message_date  123036 non-null  object\n",
            " 2   user_id       123036 non-null  int64 \n",
            "dtypes: int64(1), object(2)\n",
            "memory usage: 2.8+ MB\n"
          ]
        },
        {
          "output_type": "execute_result",
          "data": {
            "text/plain": [
              "       id message_date  user_id\n",
              "0  1000_0   2018-06-27     1000\n",
              "1  1000_1   2018-10-08     1000\n",
              "2  1000_2   2018-08-04     1000\n",
              "3  1000_3   2018-06-16     1000\n",
              "4  1000_4   2018-12-05     1000"
            ],
            "text/html": [
              "\n",
              "  <div id=\"df-456ec6c0-b56e-49d2-9bc4-3db1fc66458e\">\n",
              "    <div class=\"colab-df-container\">\n",
              "      <div>\n",
              "<style scoped>\n",
              "    .dataframe tbody tr th:only-of-type {\n",
              "        vertical-align: middle;\n",
              "    }\n",
              "\n",
              "    .dataframe tbody tr th {\n",
              "        vertical-align: top;\n",
              "    }\n",
              "\n",
              "    .dataframe thead th {\n",
              "        text-align: right;\n",
              "    }\n",
              "</style>\n",
              "<table border=\"1\" class=\"dataframe\">\n",
              "  <thead>\n",
              "    <tr style=\"text-align: right;\">\n",
              "      <th></th>\n",
              "      <th>id</th>\n",
              "      <th>message_date</th>\n",
              "      <th>user_id</th>\n",
              "    </tr>\n",
              "  </thead>\n",
              "  <tbody>\n",
              "    <tr>\n",
              "      <th>0</th>\n",
              "      <td>1000_0</td>\n",
              "      <td>2018-06-27</td>\n",
              "      <td>1000</td>\n",
              "    </tr>\n",
              "    <tr>\n",
              "      <th>1</th>\n",
              "      <td>1000_1</td>\n",
              "      <td>2018-10-08</td>\n",
              "      <td>1000</td>\n",
              "    </tr>\n",
              "    <tr>\n",
              "      <th>2</th>\n",
              "      <td>1000_2</td>\n",
              "      <td>2018-08-04</td>\n",
              "      <td>1000</td>\n",
              "    </tr>\n",
              "    <tr>\n",
              "      <th>3</th>\n",
              "      <td>1000_3</td>\n",
              "      <td>2018-06-16</td>\n",
              "      <td>1000</td>\n",
              "    </tr>\n",
              "    <tr>\n",
              "      <th>4</th>\n",
              "      <td>1000_4</td>\n",
              "      <td>2018-12-05</td>\n",
              "      <td>1000</td>\n",
              "    </tr>\n",
              "  </tbody>\n",
              "</table>\n",
              "</div>\n",
              "      <button class=\"colab-df-convert\" onclick=\"convertToInteractive('df-456ec6c0-b56e-49d2-9bc4-3db1fc66458e')\"\n",
              "              title=\"Convert this dataframe to an interactive table.\"\n",
              "              style=\"display:none;\">\n",
              "        \n",
              "  <svg xmlns=\"http://www.w3.org/2000/svg\" height=\"24px\"viewBox=\"0 0 24 24\"\n",
              "       width=\"24px\">\n",
              "    <path d=\"M0 0h24v24H0V0z\" fill=\"none\"/>\n",
              "    <path d=\"M18.56 5.44l.94 2.06.94-2.06 2.06-.94-2.06-.94-.94-2.06-.94 2.06-2.06.94zm-11 1L8.5 8.5l.94-2.06 2.06-.94-2.06-.94L8.5 2.5l-.94 2.06-2.06.94zm10 10l.94 2.06.94-2.06 2.06-.94-2.06-.94-.94-2.06-.94 2.06-2.06.94z\"/><path d=\"M17.41 7.96l-1.37-1.37c-.4-.4-.92-.59-1.43-.59-.52 0-1.04.2-1.43.59L10.3 9.45l-7.72 7.72c-.78.78-.78 2.05 0 2.83L4 21.41c.39.39.9.59 1.41.59.51 0 1.02-.2 1.41-.59l7.78-7.78 2.81-2.81c.8-.78.8-2.07 0-2.86zM5.41 20L4 18.59l7.72-7.72 1.47 1.35L5.41 20z\"/>\n",
              "  </svg>\n",
              "      </button>\n",
              "      \n",
              "  <style>\n",
              "    .colab-df-container {\n",
              "      display:flex;\n",
              "      flex-wrap:wrap;\n",
              "      gap: 12px;\n",
              "    }\n",
              "\n",
              "    .colab-df-convert {\n",
              "      background-color: #E8F0FE;\n",
              "      border: none;\n",
              "      border-radius: 50%;\n",
              "      cursor: pointer;\n",
              "      display: none;\n",
              "      fill: #1967D2;\n",
              "      height: 32px;\n",
              "      padding: 0 0 0 0;\n",
              "      width: 32px;\n",
              "    }\n",
              "\n",
              "    .colab-df-convert:hover {\n",
              "      background-color: #E2EBFA;\n",
              "      box-shadow: 0px 1px 2px rgba(60, 64, 67, 0.3), 0px 1px 3px 1px rgba(60, 64, 67, 0.15);\n",
              "      fill: #174EA6;\n",
              "    }\n",
              "\n",
              "    [theme=dark] .colab-df-convert {\n",
              "      background-color: #3B4455;\n",
              "      fill: #D2E3FC;\n",
              "    }\n",
              "\n",
              "    [theme=dark] .colab-df-convert:hover {\n",
              "      background-color: #434B5C;\n",
              "      box-shadow: 0px 1px 3px 1px rgba(0, 0, 0, 0.15);\n",
              "      filter: drop-shadow(0px 1px 2px rgba(0, 0, 0, 0.3));\n",
              "      fill: #FFFFFF;\n",
              "    }\n",
              "  </style>\n",
              "\n",
              "      <script>\n",
              "        const buttonEl =\n",
              "          document.querySelector('#df-456ec6c0-b56e-49d2-9bc4-3db1fc66458e button.colab-df-convert');\n",
              "        buttonEl.style.display =\n",
              "          google.colab.kernel.accessAllowed ? 'block' : 'none';\n",
              "\n",
              "        async function convertToInteractive(key) {\n",
              "          const element = document.querySelector('#df-456ec6c0-b56e-49d2-9bc4-3db1fc66458e');\n",
              "          const dataTable =\n",
              "            await google.colab.kernel.invokeFunction('convertToInteractive',\n",
              "                                                     [key], {});\n",
              "          if (!dataTable) return;\n",
              "\n",
              "          const docLinkHtml = 'Like what you see? Visit the ' +\n",
              "            '<a target=\"_blank\" href=https://colab.research.google.com/notebooks/data_table.ipynb>data table notebook</a>'\n",
              "            + ' to learn more about interactive tables.';\n",
              "          element.innerHTML = '';\n",
              "          dataTable['output_type'] = 'display_data';\n",
              "          await google.colab.output.renderOutput(dataTable, element);\n",
              "          const docLink = document.createElement('div');\n",
              "          docLink.innerHTML = docLinkHtml;\n",
              "          element.appendChild(docLink);\n",
              "        }\n",
              "      </script>\n",
              "    </div>\n",
              "  </div>\n",
              "  "
            ]
          },
          "metadata": {},
          "execution_count": 101
        }
      ],
      "source": [
        "messages.info()\n",
        "\n",
        "messages.head()"
      ]
    },
    {
      "cell_type": "code",
      "execution_count": null,
      "metadata": {
        "colab": {
          "base_uri": "https://localhost:8080/",
          "height": 466
        },
        "id": "5vyhS4iORXt8",
        "outputId": "be7ab1cc-939c-4955-9c05-ae41c85e41bb"
      },
      "outputs": [
        {
          "output_type": "stream",
          "name": "stdout",
          "text": [
            "<class 'pandas.core.frame.DataFrame'>\n",
            "RangeIndex: 500 entries, 0 to 499\n",
            "Data columns (total 8 columns):\n",
            " #   Column      Non-Null Count  Dtype \n",
            "---  ------      --------------  ----- \n",
            " 0   user_id     500 non-null    int64 \n",
            " 1   age         500 non-null    int64 \n",
            " 2   churn_date  38 non-null     object\n",
            " 3   city        500 non-null    object\n",
            " 4   first_name  500 non-null    object\n",
            " 5   last_name   500 non-null    object\n",
            " 6   reg_date    500 non-null    object\n",
            " 7   tariff      500 non-null    object\n",
            "dtypes: int64(2), object(6)\n",
            "memory usage: 31.4+ KB\n"
          ]
        },
        {
          "output_type": "execute_result",
          "data": {
            "text/plain": [
              "   user_id  age churn_date         city first_name  last_name    reg_date  \\\n",
              "0     1000   52        NaN    Краснодар     Рафаил  Верещагин  2018-05-25   \n",
              "1     1001   41        NaN       Москва       Иван       Ежов  2018-11-01   \n",
              "2     1002   59        NaN  Стерлитамак    Евгений  Абрамович  2018-06-17   \n",
              "3     1003   23        NaN       Москва      Белла   Белякова  2018-08-17   \n",
              "4     1004   68        NaN  Новокузнецк    Татьяна   Авдеенко  2018-05-14   \n",
              "\n",
              "  tariff  \n",
              "0  ultra  \n",
              "1  smart  \n",
              "2  smart  \n",
              "3  ultra  \n",
              "4  ultra  "
            ],
            "text/html": [
              "\n",
              "  <div id=\"df-5db2d52c-5293-41ee-8701-5be594491ddc\">\n",
              "    <div class=\"colab-df-container\">\n",
              "      <div>\n",
              "<style scoped>\n",
              "    .dataframe tbody tr th:only-of-type {\n",
              "        vertical-align: middle;\n",
              "    }\n",
              "\n",
              "    .dataframe tbody tr th {\n",
              "        vertical-align: top;\n",
              "    }\n",
              "\n",
              "    .dataframe thead th {\n",
              "        text-align: right;\n",
              "    }\n",
              "</style>\n",
              "<table border=\"1\" class=\"dataframe\">\n",
              "  <thead>\n",
              "    <tr style=\"text-align: right;\">\n",
              "      <th></th>\n",
              "      <th>user_id</th>\n",
              "      <th>age</th>\n",
              "      <th>churn_date</th>\n",
              "      <th>city</th>\n",
              "      <th>first_name</th>\n",
              "      <th>last_name</th>\n",
              "      <th>reg_date</th>\n",
              "      <th>tariff</th>\n",
              "    </tr>\n",
              "  </thead>\n",
              "  <tbody>\n",
              "    <tr>\n",
              "      <th>0</th>\n",
              "      <td>1000</td>\n",
              "      <td>52</td>\n",
              "      <td>NaN</td>\n",
              "      <td>Краснодар</td>\n",
              "      <td>Рафаил</td>\n",
              "      <td>Верещагин</td>\n",
              "      <td>2018-05-25</td>\n",
              "      <td>ultra</td>\n",
              "    </tr>\n",
              "    <tr>\n",
              "      <th>1</th>\n",
              "      <td>1001</td>\n",
              "      <td>41</td>\n",
              "      <td>NaN</td>\n",
              "      <td>Москва</td>\n",
              "      <td>Иван</td>\n",
              "      <td>Ежов</td>\n",
              "      <td>2018-11-01</td>\n",
              "      <td>smart</td>\n",
              "    </tr>\n",
              "    <tr>\n",
              "      <th>2</th>\n",
              "      <td>1002</td>\n",
              "      <td>59</td>\n",
              "      <td>NaN</td>\n",
              "      <td>Стерлитамак</td>\n",
              "      <td>Евгений</td>\n",
              "      <td>Абрамович</td>\n",
              "      <td>2018-06-17</td>\n",
              "      <td>smart</td>\n",
              "    </tr>\n",
              "    <tr>\n",
              "      <th>3</th>\n",
              "      <td>1003</td>\n",
              "      <td>23</td>\n",
              "      <td>NaN</td>\n",
              "      <td>Москва</td>\n",
              "      <td>Белла</td>\n",
              "      <td>Белякова</td>\n",
              "      <td>2018-08-17</td>\n",
              "      <td>ultra</td>\n",
              "    </tr>\n",
              "    <tr>\n",
              "      <th>4</th>\n",
              "      <td>1004</td>\n",
              "      <td>68</td>\n",
              "      <td>NaN</td>\n",
              "      <td>Новокузнецк</td>\n",
              "      <td>Татьяна</td>\n",
              "      <td>Авдеенко</td>\n",
              "      <td>2018-05-14</td>\n",
              "      <td>ultra</td>\n",
              "    </tr>\n",
              "  </tbody>\n",
              "</table>\n",
              "</div>\n",
              "      <button class=\"colab-df-convert\" onclick=\"convertToInteractive('df-5db2d52c-5293-41ee-8701-5be594491ddc')\"\n",
              "              title=\"Convert this dataframe to an interactive table.\"\n",
              "              style=\"display:none;\">\n",
              "        \n",
              "  <svg xmlns=\"http://www.w3.org/2000/svg\" height=\"24px\"viewBox=\"0 0 24 24\"\n",
              "       width=\"24px\">\n",
              "    <path d=\"M0 0h24v24H0V0z\" fill=\"none\"/>\n",
              "    <path d=\"M18.56 5.44l.94 2.06.94-2.06 2.06-.94-2.06-.94-.94-2.06-.94 2.06-2.06.94zm-11 1L8.5 8.5l.94-2.06 2.06-.94-2.06-.94L8.5 2.5l-.94 2.06-2.06.94zm10 10l.94 2.06.94-2.06 2.06-.94-2.06-.94-.94-2.06-.94 2.06-2.06.94z\"/><path d=\"M17.41 7.96l-1.37-1.37c-.4-.4-.92-.59-1.43-.59-.52 0-1.04.2-1.43.59L10.3 9.45l-7.72 7.72c-.78.78-.78 2.05 0 2.83L4 21.41c.39.39.9.59 1.41.59.51 0 1.02-.2 1.41-.59l7.78-7.78 2.81-2.81c.8-.78.8-2.07 0-2.86zM5.41 20L4 18.59l7.72-7.72 1.47 1.35L5.41 20z\"/>\n",
              "  </svg>\n",
              "      </button>\n",
              "      \n",
              "  <style>\n",
              "    .colab-df-container {\n",
              "      display:flex;\n",
              "      flex-wrap:wrap;\n",
              "      gap: 12px;\n",
              "    }\n",
              "\n",
              "    .colab-df-convert {\n",
              "      background-color: #E8F0FE;\n",
              "      border: none;\n",
              "      border-radius: 50%;\n",
              "      cursor: pointer;\n",
              "      display: none;\n",
              "      fill: #1967D2;\n",
              "      height: 32px;\n",
              "      padding: 0 0 0 0;\n",
              "      width: 32px;\n",
              "    }\n",
              "\n",
              "    .colab-df-convert:hover {\n",
              "      background-color: #E2EBFA;\n",
              "      box-shadow: 0px 1px 2px rgba(60, 64, 67, 0.3), 0px 1px 3px 1px rgba(60, 64, 67, 0.15);\n",
              "      fill: #174EA6;\n",
              "    }\n",
              "\n",
              "    [theme=dark] .colab-df-convert {\n",
              "      background-color: #3B4455;\n",
              "      fill: #D2E3FC;\n",
              "    }\n",
              "\n",
              "    [theme=dark] .colab-df-convert:hover {\n",
              "      background-color: #434B5C;\n",
              "      box-shadow: 0px 1px 3px 1px rgba(0, 0, 0, 0.15);\n",
              "      filter: drop-shadow(0px 1px 2px rgba(0, 0, 0, 0.3));\n",
              "      fill: #FFFFFF;\n",
              "    }\n",
              "  </style>\n",
              "\n",
              "      <script>\n",
              "        const buttonEl =\n",
              "          document.querySelector('#df-5db2d52c-5293-41ee-8701-5be594491ddc button.colab-df-convert');\n",
              "        buttonEl.style.display =\n",
              "          google.colab.kernel.accessAllowed ? 'block' : 'none';\n",
              "\n",
              "        async function convertToInteractive(key) {\n",
              "          const element = document.querySelector('#df-5db2d52c-5293-41ee-8701-5be594491ddc');\n",
              "          const dataTable =\n",
              "            await google.colab.kernel.invokeFunction('convertToInteractive',\n",
              "                                                     [key], {});\n",
              "          if (!dataTable) return;\n",
              "\n",
              "          const docLinkHtml = 'Like what you see? Visit the ' +\n",
              "            '<a target=\"_blank\" href=https://colab.research.google.com/notebooks/data_table.ipynb>data table notebook</a>'\n",
              "            + ' to learn more about interactive tables.';\n",
              "          element.innerHTML = '';\n",
              "          dataTable['output_type'] = 'display_data';\n",
              "          await google.colab.output.renderOutput(dataTable, element);\n",
              "          const docLink = document.createElement('div');\n",
              "          docLink.innerHTML = docLinkHtml;\n",
              "          element.appendChild(docLink);\n",
              "        }\n",
              "      </script>\n",
              "    </div>\n",
              "  </div>\n",
              "  "
            ]
          },
          "metadata": {},
          "execution_count": 102
        }
      ],
      "source": [
        "users.info()\n",
        "\n",
        "users.head(5)"
      ]
    },
    {
      "cell_type": "code",
      "execution_count": null,
      "metadata": {
        "colab": {
          "base_uri": "https://localhost:8080/",
          "height": 372
        },
        "id": "Ua6nAW79RXt9",
        "outputId": "48b0f4fb-8649-4dd5-c98e-45a479773dd6"
      },
      "outputs": [
        {
          "output_type": "stream",
          "name": "stdout",
          "text": [
            "<class 'pandas.core.frame.DataFrame'>\n",
            "RangeIndex: 2 entries, 0 to 1\n",
            "Data columns (total 8 columns):\n",
            " #   Column                 Non-Null Count  Dtype \n",
            "---  ------                 --------------  ----- \n",
            " 0   messages_included      2 non-null      int64 \n",
            " 1   mb_per_month_included  2 non-null      int64 \n",
            " 2   minutes_included       2 non-null      int64 \n",
            " 3   rub_monthly_fee        2 non-null      int64 \n",
            " 4   rub_per_gb             2 non-null      int64 \n",
            " 5   rub_per_message        2 non-null      int64 \n",
            " 6   rub_per_minute         2 non-null      int64 \n",
            " 7   tariff_name            2 non-null      object\n",
            "dtypes: int64(7), object(1)\n",
            "memory usage: 256.0+ bytes\n"
          ]
        },
        {
          "output_type": "execute_result",
          "data": {
            "text/plain": [
              "   messages_included  mb_per_month_included  minutes_included  \\\n",
              "0                 50                  15360               500   \n",
              "1               1000                  30720              3000   \n",
              "\n",
              "   rub_monthly_fee  rub_per_gb  rub_per_message  rub_per_minute tariff_name  \n",
              "0              550         200                3               3       smart  \n",
              "1             1950         150                1               1       ultra  "
            ],
            "text/html": [
              "\n",
              "  <div id=\"df-1b5ce91b-9455-4029-9e4d-d4766964d90a\">\n",
              "    <div class=\"colab-df-container\">\n",
              "      <div>\n",
              "<style scoped>\n",
              "    .dataframe tbody tr th:only-of-type {\n",
              "        vertical-align: middle;\n",
              "    }\n",
              "\n",
              "    .dataframe tbody tr th {\n",
              "        vertical-align: top;\n",
              "    }\n",
              "\n",
              "    .dataframe thead th {\n",
              "        text-align: right;\n",
              "    }\n",
              "</style>\n",
              "<table border=\"1\" class=\"dataframe\">\n",
              "  <thead>\n",
              "    <tr style=\"text-align: right;\">\n",
              "      <th></th>\n",
              "      <th>messages_included</th>\n",
              "      <th>mb_per_month_included</th>\n",
              "      <th>minutes_included</th>\n",
              "      <th>rub_monthly_fee</th>\n",
              "      <th>rub_per_gb</th>\n",
              "      <th>rub_per_message</th>\n",
              "      <th>rub_per_minute</th>\n",
              "      <th>tariff_name</th>\n",
              "    </tr>\n",
              "  </thead>\n",
              "  <tbody>\n",
              "    <tr>\n",
              "      <th>0</th>\n",
              "      <td>50</td>\n",
              "      <td>15360</td>\n",
              "      <td>500</td>\n",
              "      <td>550</td>\n",
              "      <td>200</td>\n",
              "      <td>3</td>\n",
              "      <td>3</td>\n",
              "      <td>smart</td>\n",
              "    </tr>\n",
              "    <tr>\n",
              "      <th>1</th>\n",
              "      <td>1000</td>\n",
              "      <td>30720</td>\n",
              "      <td>3000</td>\n",
              "      <td>1950</td>\n",
              "      <td>150</td>\n",
              "      <td>1</td>\n",
              "      <td>1</td>\n",
              "      <td>ultra</td>\n",
              "    </tr>\n",
              "  </tbody>\n",
              "</table>\n",
              "</div>\n",
              "      <button class=\"colab-df-convert\" onclick=\"convertToInteractive('df-1b5ce91b-9455-4029-9e4d-d4766964d90a')\"\n",
              "              title=\"Convert this dataframe to an interactive table.\"\n",
              "              style=\"display:none;\">\n",
              "        \n",
              "  <svg xmlns=\"http://www.w3.org/2000/svg\" height=\"24px\"viewBox=\"0 0 24 24\"\n",
              "       width=\"24px\">\n",
              "    <path d=\"M0 0h24v24H0V0z\" fill=\"none\"/>\n",
              "    <path d=\"M18.56 5.44l.94 2.06.94-2.06 2.06-.94-2.06-.94-.94-2.06-.94 2.06-2.06.94zm-11 1L8.5 8.5l.94-2.06 2.06-.94-2.06-.94L8.5 2.5l-.94 2.06-2.06.94zm10 10l.94 2.06.94-2.06 2.06-.94-2.06-.94-.94-2.06-.94 2.06-2.06.94z\"/><path d=\"M17.41 7.96l-1.37-1.37c-.4-.4-.92-.59-1.43-.59-.52 0-1.04.2-1.43.59L10.3 9.45l-7.72 7.72c-.78.78-.78 2.05 0 2.83L4 21.41c.39.39.9.59 1.41.59.51 0 1.02-.2 1.41-.59l7.78-7.78 2.81-2.81c.8-.78.8-2.07 0-2.86zM5.41 20L4 18.59l7.72-7.72 1.47 1.35L5.41 20z\"/>\n",
              "  </svg>\n",
              "      </button>\n",
              "      \n",
              "  <style>\n",
              "    .colab-df-container {\n",
              "      display:flex;\n",
              "      flex-wrap:wrap;\n",
              "      gap: 12px;\n",
              "    }\n",
              "\n",
              "    .colab-df-convert {\n",
              "      background-color: #E8F0FE;\n",
              "      border: none;\n",
              "      border-radius: 50%;\n",
              "      cursor: pointer;\n",
              "      display: none;\n",
              "      fill: #1967D2;\n",
              "      height: 32px;\n",
              "      padding: 0 0 0 0;\n",
              "      width: 32px;\n",
              "    }\n",
              "\n",
              "    .colab-df-convert:hover {\n",
              "      background-color: #E2EBFA;\n",
              "      box-shadow: 0px 1px 2px rgba(60, 64, 67, 0.3), 0px 1px 3px 1px rgba(60, 64, 67, 0.15);\n",
              "      fill: #174EA6;\n",
              "    }\n",
              "\n",
              "    [theme=dark] .colab-df-convert {\n",
              "      background-color: #3B4455;\n",
              "      fill: #D2E3FC;\n",
              "    }\n",
              "\n",
              "    [theme=dark] .colab-df-convert:hover {\n",
              "      background-color: #434B5C;\n",
              "      box-shadow: 0px 1px 3px 1px rgba(0, 0, 0, 0.15);\n",
              "      filter: drop-shadow(0px 1px 2px rgba(0, 0, 0, 0.3));\n",
              "      fill: #FFFFFF;\n",
              "    }\n",
              "  </style>\n",
              "\n",
              "      <script>\n",
              "        const buttonEl =\n",
              "          document.querySelector('#df-1b5ce91b-9455-4029-9e4d-d4766964d90a button.colab-df-convert');\n",
              "        buttonEl.style.display =\n",
              "          google.colab.kernel.accessAllowed ? 'block' : 'none';\n",
              "\n",
              "        async function convertToInteractive(key) {\n",
              "          const element = document.querySelector('#df-1b5ce91b-9455-4029-9e4d-d4766964d90a');\n",
              "          const dataTable =\n",
              "            await google.colab.kernel.invokeFunction('convertToInteractive',\n",
              "                                                     [key], {});\n",
              "          if (!dataTable) return;\n",
              "\n",
              "          const docLinkHtml = 'Like what you see? Visit the ' +\n",
              "            '<a target=\"_blank\" href=https://colab.research.google.com/notebooks/data_table.ipynb>data table notebook</a>'\n",
              "            + ' to learn more about interactive tables.';\n",
              "          element.innerHTML = '';\n",
              "          dataTable['output_type'] = 'display_data';\n",
              "          await google.colab.output.renderOutput(dataTable, element);\n",
              "          const docLink = document.createElement('div');\n",
              "          docLink.innerHTML = docLinkHtml;\n",
              "          element.appendChild(docLink);\n",
              "        }\n",
              "      </script>\n",
              "    </div>\n",
              "  </div>\n",
              "  "
            ]
          },
          "metadata": {},
          "execution_count": 103
        }
      ],
      "source": [
        "tariffs.info()\n",
        "\n",
        "tariffs.head()"
      ]
    },
    {
      "cell_type": "code",
      "execution_count": null,
      "metadata": {
        "id": "DwGiqgioRXt9"
      },
      "outputs": [],
      "source": [
        "tariffs = tariffs.rename(columns={'tariff_name':'tariff'})"
      ]
    },
    {
      "cell_type": "code",
      "execution_count": null,
      "metadata": {
        "colab": {
          "base_uri": "https://localhost:8080/"
        },
        "id": "m3hq2zoqRXt9",
        "outputId": "74c6e683-7d72-4662-8105-f0dbf893077f"
      },
      "outputs": [
        {
          "output_type": "execute_result",
          "data": {
            "text/plain": [
              "id           0\n",
              "call_date    0\n",
              "duration     0\n",
              "user_id      0\n",
              "dtype: int64"
            ]
          },
          "metadata": {},
          "execution_count": 105
        }
      ],
      "source": [
        "calls.isna().sum()"
      ]
    },
    {
      "cell_type": "code",
      "execution_count": null,
      "metadata": {
        "colab": {
          "base_uri": "https://localhost:8080/"
        },
        "id": "0PHHXYmwRXt-",
        "outputId": "bf35118e-53f6-43d5-f3ae-d3e9baf39937"
      },
      "outputs": [
        {
          "output_type": "execute_result",
          "data": {
            "text/plain": [
              "id              0\n",
              "message_date    0\n",
              "user_id         0\n",
              "dtype: int64"
            ]
          },
          "metadata": {},
          "execution_count": 106
        }
      ],
      "source": [
        "messages.isna().sum()"
      ]
    },
    {
      "cell_type": "code",
      "execution_count": null,
      "metadata": {
        "colab": {
          "base_uri": "https://localhost:8080/"
        },
        "id": "5uTDFyLsRXt-",
        "outputId": "3e5ee257-e9f0-40de-f533-cb2538ac6db6"
      },
      "outputs": [
        {
          "output_type": "execute_result",
          "data": {
            "text/plain": [
              "Unnamed: 0      0\n",
              "id              0\n",
              "mb_used         0\n",
              "session_date    0\n",
              "user_id         0\n",
              "dtype: int64"
            ]
          },
          "metadata": {},
          "execution_count": 107
        }
      ],
      "source": [
        "internet.isna().sum()"
      ]
    },
    {
      "cell_type": "code",
      "execution_count": null,
      "metadata": {
        "colab": {
          "base_uri": "https://localhost:8080/"
        },
        "id": "Ckv80h0WRXt-",
        "outputId": "06153a46-8b68-4364-a414-7d5c9537622e"
      },
      "outputs": [
        {
          "output_type": "execute_result",
          "data": {
            "text/plain": [
              "messages_included        0\n",
              "mb_per_month_included    0\n",
              "minutes_included         0\n",
              "rub_monthly_fee          0\n",
              "rub_per_gb               0\n",
              "rub_per_message          0\n",
              "rub_per_minute           0\n",
              "tariff                   0\n",
              "dtype: int64"
            ]
          },
          "metadata": {},
          "execution_count": 108
        }
      ],
      "source": [
        "tariffs.isna().sum()"
      ]
    },
    {
      "cell_type": "code",
      "execution_count": null,
      "metadata": {
        "colab": {
          "base_uri": "https://localhost:8080/"
        },
        "id": "ygBFQfNNRXt_",
        "outputId": "91b608bc-be91-4664-d687-39b3a8380df4"
      },
      "outputs": [
        {
          "output_type": "execute_result",
          "data": {
            "text/plain": [
              "user_id         0\n",
              "age             0\n",
              "churn_date    462\n",
              "city            0\n",
              "first_name      0\n",
              "last_name       0\n",
              "reg_date        0\n",
              "tariff          0\n",
              "dtype: int64"
            ]
          },
          "metadata": {},
          "execution_count": 109
        }
      ],
      "source": [
        "users.isna().sum()"
      ]
    },
    {
      "cell_type": "markdown",
      "metadata": {
        "id": "NHY4eeRYRXt_"
      },
      "source": [
        "Данный прочитаны, просмотрены на наличие неправильных типов и пропусков. Пропуски обнаружены только в таблице users в столбце churn_date - это пропуск, по причине того, что пользователи на момент взятия выборки пользуются тарифом, поэтому оставлю как есть. Неправильные типы данных поменяю в следующем этапе."
      ]
    },
    {
      "cell_type": "markdown",
      "metadata": {
        "id": "Z1iJCtmsRXuA"
      },
      "source": [
        "## Подготовка данных"
      ]
    },
    {
      "cell_type": "markdown",
      "metadata": {
        "id": "E9RGUq3SRXuA"
      },
      "source": [
        "### Звонки"
      ]
    },
    {
      "cell_type": "code",
      "execution_count": null,
      "metadata": {
        "colab": {
          "base_uri": "https://localhost:8080/"
        },
        "id": "lt2trHH1RXuA",
        "outputId": "652d9e80-678f-40cd-c81e-b6c0d4dd9f63"
      },
      "outputs": [
        {
          "output_type": "execute_result",
          "data": {
            "text/plain": [
              "0"
            ]
          },
          "metadata": {},
          "execution_count": 110
        }
      ],
      "source": [
        "#Привела данные к нужному типу\n",
        "calls['call_date'] = pd.to_datetime(calls['call_date'], format='%Y-%m-%d')  \n",
        "\n",
        "#Создала столбец для номера месяца\n",
        "calls['month'] = pd.DatetimeIndex(calls['call_date']).month \n",
        " \n",
        "#Округлила время звонка до целого числа вверх, по условиям тарифов(т.к лишние секунды считаются за минуту.)\n",
        "calls['duration'] = np.ceil(calls['duration']).astype('int')  \n",
        "\n",
        "#Проверила на анличие дубликатов\n",
        "calls.duplicated().sum()"
      ]
    },
    {
      "cell_type": "code",
      "execution_count": null,
      "metadata": {
        "colab": {
          "base_uri": "https://localhost:8080/",
          "height": 753
        },
        "id": "LB2vwHyzRXuB",
        "outputId": "45c626ec-6ef9-4965-db10-3d7d5ced1507"
      },
      "outputs": [
        {
          "output_type": "display_data",
          "data": {
            "text/plain": [
              "            duration        user_id          month\n",
              "count  202607.000000  202607.000000  202607.000000\n",
              "mean        7.158198    1253.940619       8.574067\n",
              "std         5.959173     144.722751       2.787093\n",
              "min         0.000000    1000.000000       1.000000\n",
              "25%         2.000000    1126.000000       7.000000\n",
              "50%         6.000000    1260.000000       9.000000\n",
              "75%        11.000000    1379.000000      11.000000\n",
              "max        38.000000    1499.000000      12.000000"
            ],
            "text/html": [
              "\n",
              "  <div id=\"df-97836766-5fae-42e8-bf57-c072136ce7f0\">\n",
              "    <div class=\"colab-df-container\">\n",
              "      <div>\n",
              "<style scoped>\n",
              "    .dataframe tbody tr th:only-of-type {\n",
              "        vertical-align: middle;\n",
              "    }\n",
              "\n",
              "    .dataframe tbody tr th {\n",
              "        vertical-align: top;\n",
              "    }\n",
              "\n",
              "    .dataframe thead th {\n",
              "        text-align: right;\n",
              "    }\n",
              "</style>\n",
              "<table border=\"1\" class=\"dataframe\">\n",
              "  <thead>\n",
              "    <tr style=\"text-align: right;\">\n",
              "      <th></th>\n",
              "      <th>duration</th>\n",
              "      <th>user_id</th>\n",
              "      <th>month</th>\n",
              "    </tr>\n",
              "  </thead>\n",
              "  <tbody>\n",
              "    <tr>\n",
              "      <th>count</th>\n",
              "      <td>202607.000000</td>\n",
              "      <td>202607.000000</td>\n",
              "      <td>202607.000000</td>\n",
              "    </tr>\n",
              "    <tr>\n",
              "      <th>mean</th>\n",
              "      <td>7.158198</td>\n",
              "      <td>1253.940619</td>\n",
              "      <td>8.574067</td>\n",
              "    </tr>\n",
              "    <tr>\n",
              "      <th>std</th>\n",
              "      <td>5.959173</td>\n",
              "      <td>144.722751</td>\n",
              "      <td>2.787093</td>\n",
              "    </tr>\n",
              "    <tr>\n",
              "      <th>min</th>\n",
              "      <td>0.000000</td>\n",
              "      <td>1000.000000</td>\n",
              "      <td>1.000000</td>\n",
              "    </tr>\n",
              "    <tr>\n",
              "      <th>25%</th>\n",
              "      <td>2.000000</td>\n",
              "      <td>1126.000000</td>\n",
              "      <td>7.000000</td>\n",
              "    </tr>\n",
              "    <tr>\n",
              "      <th>50%</th>\n",
              "      <td>6.000000</td>\n",
              "      <td>1260.000000</td>\n",
              "      <td>9.000000</td>\n",
              "    </tr>\n",
              "    <tr>\n",
              "      <th>75%</th>\n",
              "      <td>11.000000</td>\n",
              "      <td>1379.000000</td>\n",
              "      <td>11.000000</td>\n",
              "    </tr>\n",
              "    <tr>\n",
              "      <th>max</th>\n",
              "      <td>38.000000</td>\n",
              "      <td>1499.000000</td>\n",
              "      <td>12.000000</td>\n",
              "    </tr>\n",
              "  </tbody>\n",
              "</table>\n",
              "</div>\n",
              "      <button class=\"colab-df-convert\" onclick=\"convertToInteractive('df-97836766-5fae-42e8-bf57-c072136ce7f0')\"\n",
              "              title=\"Convert this dataframe to an interactive table.\"\n",
              "              style=\"display:none;\">\n",
              "        \n",
              "  <svg xmlns=\"http://www.w3.org/2000/svg\" height=\"24px\"viewBox=\"0 0 24 24\"\n",
              "       width=\"24px\">\n",
              "    <path d=\"M0 0h24v24H0V0z\" fill=\"none\"/>\n",
              "    <path d=\"M18.56 5.44l.94 2.06.94-2.06 2.06-.94-2.06-.94-.94-2.06-.94 2.06-2.06.94zm-11 1L8.5 8.5l.94-2.06 2.06-.94-2.06-.94L8.5 2.5l-.94 2.06-2.06.94zm10 10l.94 2.06.94-2.06 2.06-.94-2.06-.94-.94-2.06-.94 2.06-2.06.94z\"/><path d=\"M17.41 7.96l-1.37-1.37c-.4-.4-.92-.59-1.43-.59-.52 0-1.04.2-1.43.59L10.3 9.45l-7.72 7.72c-.78.78-.78 2.05 0 2.83L4 21.41c.39.39.9.59 1.41.59.51 0 1.02-.2 1.41-.59l7.78-7.78 2.81-2.81c.8-.78.8-2.07 0-2.86zM5.41 20L4 18.59l7.72-7.72 1.47 1.35L5.41 20z\"/>\n",
              "  </svg>\n",
              "      </button>\n",
              "      \n",
              "  <style>\n",
              "    .colab-df-container {\n",
              "      display:flex;\n",
              "      flex-wrap:wrap;\n",
              "      gap: 12px;\n",
              "    }\n",
              "\n",
              "    .colab-df-convert {\n",
              "      background-color: #E8F0FE;\n",
              "      border: none;\n",
              "      border-radius: 50%;\n",
              "      cursor: pointer;\n",
              "      display: none;\n",
              "      fill: #1967D2;\n",
              "      height: 32px;\n",
              "      padding: 0 0 0 0;\n",
              "      width: 32px;\n",
              "    }\n",
              "\n",
              "    .colab-df-convert:hover {\n",
              "      background-color: #E2EBFA;\n",
              "      box-shadow: 0px 1px 2px rgba(60, 64, 67, 0.3), 0px 1px 3px 1px rgba(60, 64, 67, 0.15);\n",
              "      fill: #174EA6;\n",
              "    }\n",
              "\n",
              "    [theme=dark] .colab-df-convert {\n",
              "      background-color: #3B4455;\n",
              "      fill: #D2E3FC;\n",
              "    }\n",
              "\n",
              "    [theme=dark] .colab-df-convert:hover {\n",
              "      background-color: #434B5C;\n",
              "      box-shadow: 0px 1px 3px 1px rgba(0, 0, 0, 0.15);\n",
              "      filter: drop-shadow(0px 1px 2px rgba(0, 0, 0, 0.3));\n",
              "      fill: #FFFFFF;\n",
              "    }\n",
              "  </style>\n",
              "\n",
              "      <script>\n",
              "        const buttonEl =\n",
              "          document.querySelector('#df-97836766-5fae-42e8-bf57-c072136ce7f0 button.colab-df-convert');\n",
              "        buttonEl.style.display =\n",
              "          google.colab.kernel.accessAllowed ? 'block' : 'none';\n",
              "\n",
              "        async function convertToInteractive(key) {\n",
              "          const element = document.querySelector('#df-97836766-5fae-42e8-bf57-c072136ce7f0');\n",
              "          const dataTable =\n",
              "            await google.colab.kernel.invokeFunction('convertToInteractive',\n",
              "                                                     [key], {});\n",
              "          if (!dataTable) return;\n",
              "\n",
              "          const docLinkHtml = 'Like what you see? Visit the ' +\n",
              "            '<a target=\"_blank\" href=https://colab.research.google.com/notebooks/data_table.ipynb>data table notebook</a>'\n",
              "            + ' to learn more about interactive tables.';\n",
              "          element.innerHTML = '';\n",
              "          dataTable['output_type'] = 'display_data';\n",
              "          await google.colab.output.renderOutput(dataTable, element);\n",
              "          const docLink = document.createElement('div');\n",
              "          docLink.innerHTML = docLinkHtml;\n",
              "          element.appendChild(docLink);\n",
              "        }\n",
              "      </script>\n",
              "    </div>\n",
              "  </div>\n",
              "  "
            ]
          },
          "metadata": {}
        },
        {
          "output_type": "display_data",
          "data": {
            "text/plain": [
              "       id  call_date  duration  user_id  month\n",
              "0  1000_0 2018-07-25         0     1000      7\n",
              "1  1000_1 2018-08-17         0     1000      8\n",
              "2  1000_2 2018-06-11         3     1000      6\n",
              "3  1000_3 2018-09-21        14     1000      9\n",
              "4  1000_4 2018-12-15         6     1000     12"
            ],
            "text/html": [
              "\n",
              "  <div id=\"df-33290daa-fc72-48b9-bbdc-e838b49d70de\">\n",
              "    <div class=\"colab-df-container\">\n",
              "      <div>\n",
              "<style scoped>\n",
              "    .dataframe tbody tr th:only-of-type {\n",
              "        vertical-align: middle;\n",
              "    }\n",
              "\n",
              "    .dataframe tbody tr th {\n",
              "        vertical-align: top;\n",
              "    }\n",
              "\n",
              "    .dataframe thead th {\n",
              "        text-align: right;\n",
              "    }\n",
              "</style>\n",
              "<table border=\"1\" class=\"dataframe\">\n",
              "  <thead>\n",
              "    <tr style=\"text-align: right;\">\n",
              "      <th></th>\n",
              "      <th>id</th>\n",
              "      <th>call_date</th>\n",
              "      <th>duration</th>\n",
              "      <th>user_id</th>\n",
              "      <th>month</th>\n",
              "    </tr>\n",
              "  </thead>\n",
              "  <tbody>\n",
              "    <tr>\n",
              "      <th>0</th>\n",
              "      <td>1000_0</td>\n",
              "      <td>2018-07-25</td>\n",
              "      <td>0</td>\n",
              "      <td>1000</td>\n",
              "      <td>7</td>\n",
              "    </tr>\n",
              "    <tr>\n",
              "      <th>1</th>\n",
              "      <td>1000_1</td>\n",
              "      <td>2018-08-17</td>\n",
              "      <td>0</td>\n",
              "      <td>1000</td>\n",
              "      <td>8</td>\n",
              "    </tr>\n",
              "    <tr>\n",
              "      <th>2</th>\n",
              "      <td>1000_2</td>\n",
              "      <td>2018-06-11</td>\n",
              "      <td>3</td>\n",
              "      <td>1000</td>\n",
              "      <td>6</td>\n",
              "    </tr>\n",
              "    <tr>\n",
              "      <th>3</th>\n",
              "      <td>1000_3</td>\n",
              "      <td>2018-09-21</td>\n",
              "      <td>14</td>\n",
              "      <td>1000</td>\n",
              "      <td>9</td>\n",
              "    </tr>\n",
              "    <tr>\n",
              "      <th>4</th>\n",
              "      <td>1000_4</td>\n",
              "      <td>2018-12-15</td>\n",
              "      <td>6</td>\n",
              "      <td>1000</td>\n",
              "      <td>12</td>\n",
              "    </tr>\n",
              "  </tbody>\n",
              "</table>\n",
              "</div>\n",
              "      <button class=\"colab-df-convert\" onclick=\"convertToInteractive('df-33290daa-fc72-48b9-bbdc-e838b49d70de')\"\n",
              "              title=\"Convert this dataframe to an interactive table.\"\n",
              "              style=\"display:none;\">\n",
              "        \n",
              "  <svg xmlns=\"http://www.w3.org/2000/svg\" height=\"24px\"viewBox=\"0 0 24 24\"\n",
              "       width=\"24px\">\n",
              "    <path d=\"M0 0h24v24H0V0z\" fill=\"none\"/>\n",
              "    <path d=\"M18.56 5.44l.94 2.06.94-2.06 2.06-.94-2.06-.94-.94-2.06-.94 2.06-2.06.94zm-11 1L8.5 8.5l.94-2.06 2.06-.94-2.06-.94L8.5 2.5l-.94 2.06-2.06.94zm10 10l.94 2.06.94-2.06 2.06-.94-2.06-.94-.94-2.06-.94 2.06-2.06.94z\"/><path d=\"M17.41 7.96l-1.37-1.37c-.4-.4-.92-.59-1.43-.59-.52 0-1.04.2-1.43.59L10.3 9.45l-7.72 7.72c-.78.78-.78 2.05 0 2.83L4 21.41c.39.39.9.59 1.41.59.51 0 1.02-.2 1.41-.59l7.78-7.78 2.81-2.81c.8-.78.8-2.07 0-2.86zM5.41 20L4 18.59l7.72-7.72 1.47 1.35L5.41 20z\"/>\n",
              "  </svg>\n",
              "      </button>\n",
              "      \n",
              "  <style>\n",
              "    .colab-df-container {\n",
              "      display:flex;\n",
              "      flex-wrap:wrap;\n",
              "      gap: 12px;\n",
              "    }\n",
              "\n",
              "    .colab-df-convert {\n",
              "      background-color: #E8F0FE;\n",
              "      border: none;\n",
              "      border-radius: 50%;\n",
              "      cursor: pointer;\n",
              "      display: none;\n",
              "      fill: #1967D2;\n",
              "      height: 32px;\n",
              "      padding: 0 0 0 0;\n",
              "      width: 32px;\n",
              "    }\n",
              "\n",
              "    .colab-df-convert:hover {\n",
              "      background-color: #E2EBFA;\n",
              "      box-shadow: 0px 1px 2px rgba(60, 64, 67, 0.3), 0px 1px 3px 1px rgba(60, 64, 67, 0.15);\n",
              "      fill: #174EA6;\n",
              "    }\n",
              "\n",
              "    [theme=dark] .colab-df-convert {\n",
              "      background-color: #3B4455;\n",
              "      fill: #D2E3FC;\n",
              "    }\n",
              "\n",
              "    [theme=dark] .colab-df-convert:hover {\n",
              "      background-color: #434B5C;\n",
              "      box-shadow: 0px 1px 3px 1px rgba(0, 0, 0, 0.15);\n",
              "      filter: drop-shadow(0px 1px 2px rgba(0, 0, 0, 0.3));\n",
              "      fill: #FFFFFF;\n",
              "    }\n",
              "  </style>\n",
              "\n",
              "      <script>\n",
              "        const buttonEl =\n",
              "          document.querySelector('#df-33290daa-fc72-48b9-bbdc-e838b49d70de button.colab-df-convert');\n",
              "        buttonEl.style.display =\n",
              "          google.colab.kernel.accessAllowed ? 'block' : 'none';\n",
              "\n",
              "        async function convertToInteractive(key) {\n",
              "          const element = document.querySelector('#df-33290daa-fc72-48b9-bbdc-e838b49d70de');\n",
              "          const dataTable =\n",
              "            await google.colab.kernel.invokeFunction('convertToInteractive',\n",
              "                                                     [key], {});\n",
              "          if (!dataTable) return;\n",
              "\n",
              "          const docLinkHtml = 'Like what you see? Visit the ' +\n",
              "            '<a target=\"_blank\" href=https://colab.research.google.com/notebooks/data_table.ipynb>data table notebook</a>'\n",
              "            + ' to learn more about interactive tables.';\n",
              "          element.innerHTML = '';\n",
              "          dataTable['output_type'] = 'display_data';\n",
              "          await google.colab.output.renderOutput(dataTable, element);\n",
              "          const docLink = document.createElement('div');\n",
              "          docLink.innerHTML = docLinkHtml;\n",
              "          element.appendChild(docLink);\n",
              "        }\n",
              "      </script>\n",
              "    </div>\n",
              "  </div>\n",
              "  "
            ]
          },
          "metadata": {}
        },
        {
          "output_type": "display_data",
          "data": {
            "text/plain": [
              "<Figure size 432x288 with 1 Axes>"
            ],
            "image/png": "[encoded data removed]"
          },
          "metadata": {
            "needs_background": "light"
          }
        }
      ],
      "source": [
        "display(calls.describe())\n",
        "\n",
        "display(calls.head())\n",
        "\n",
        "calls.hist('duration', bins=15);"
      ]
    },
    {
      "cell_type": "markdown",
      "metadata": {
        "id": "vMK_gkcoRXuB"
      },
      "source": [
        "###  Интренет"
      ]
    },
    {
      "cell_type": "code",
      "execution_count": null,
      "metadata": {
        "colab": {
          "base_uri": "https://localhost:8080/"
        },
        "id": "E2VhQNbXRXuB",
        "outputId": "02de1a25-84be-4fc3-b59a-d963df29ceb5"
      },
      "outputs": [
        {
          "output_type": "execute_result",
          "data": {
            "text/plain": [
              "0"
            ]
          },
          "metadata": {},
          "execution_count": 112
        }
      ],
      "source": [
        "#Привожу к типу datetime:\n",
        "internet['session_date'] = pd.to_datetime(internet['session_date'], format='%Y-%m-%d')\n",
        "\n",
        " #Создала столбец для номера месяца\n",
        "internet['month'] = pd.DatetimeIndex(internet['session_date']).month \n",
        "\n",
        "#Проверила на дубликаты\n",
        "internet.duplicated().sum()"
      ]
    },
    {
      "cell_type": "code",
      "execution_count": null,
      "metadata": {
        "colab": {
          "base_uri": "https://localhost:8080/",
          "height": 489
        },
        "id": "rsvltrryRXuB",
        "outputId": "3ad9782a-42a2-48f6-c52f-7c74fd421e9b"
      },
      "outputs": [
        {
          "output_type": "display_data",
          "data": {
            "text/plain": [
              "          Unnamed: 0        mb_used        user_id          month\n",
              "count  149396.000000  149396.000000  149396.000000  149396.000000\n",
              "mean    74697.500000     370.192426    1252.099842       8.563315\n",
              "std     43127.054745     278.300951     144.050823       2.788717\n",
              "min         0.000000       0.000000    1000.000000       1.000000\n",
              "25%     37348.750000     138.187500    1130.000000       7.000000\n",
              "50%     74697.500000     348.015000    1251.000000       9.000000\n",
              "75%    112046.250000     559.552500    1380.000000      11.000000\n",
              "max    149395.000000    1724.830000    1499.000000      12.000000"
            ],
            "text/html": [
              "\n",
              "  <div id=\"df-dbd59b79-7cfb-468c-9e33-23db137d0b74\">\n",
              "    <div class=\"colab-df-container\">\n",
              "      <div>\n",
              "<style scoped>\n",
              "    .dataframe tbody tr th:only-of-type {\n",
              "        vertical-align: middle;\n",
              "    }\n",
              "\n",
              "    .dataframe tbody tr th {\n",
              "        vertical-align: top;\n",
              "    }\n",
              "\n",
              "    .dataframe thead th {\n",
              "        text-align: right;\n",
              "    }\n",
              "</style>\n",
              "<table border=\"1\" class=\"dataframe\">\n",
              "  <thead>\n",
              "    <tr style=\"text-align: right;\">\n",
              "      <th></th>\n",
              "      <th>Unnamed: 0</th>\n",
              "      <th>mb_used</th>\n",
              "      <th>user_id</th>\n",
              "      <th>month</th>\n",
              "    </tr>\n",
              "  </thead>\n",
              "  <tbody>\n",
              "    <tr>\n",
              "      <th>count</th>\n",
              "      <td>149396.000000</td>\n",
              "      <td>149396.000000</td>\n",
              "      <td>149396.000000</td>\n",
              "      <td>149396.000000</td>\n",
              "    </tr>\n",
              "    <tr>\n",
              "      <th>mean</th>\n",
              "      <td>74697.500000</td>\n",
              "      <td>370.192426</td>\n",
              "      <td>1252.099842</td>\n",
              "      <td>8.563315</td>\n",
              "    </tr>\n",
              "    <tr>\n",
              "      <th>std</th>\n",
              "      <td>43127.054745</td>\n",
              "      <td>278.300951</td>\n",
              "      <td>144.050823</td>\n",
              "      <td>2.788717</td>\n",
              "    </tr>\n",
              "    <tr>\n",
              "      <th>min</th>\n",
              "      <td>0.000000</td>\n",
              "      <td>0.000000</td>\n",
              "      <td>1000.000000</td>\n",
              "      <td>1.000000</td>\n",
              "    </tr>\n",
              "    <tr>\n",
              "      <th>25%</th>\n",
              "      <td>37348.750000</td>\n",
              "      <td>138.187500</td>\n",
              "      <td>1130.000000</td>\n",
              "      <td>7.000000</td>\n",
              "    </tr>\n",
              "    <tr>\n",
              "      <th>50%</th>\n",
              "      <td>74697.500000</td>\n",
              "      <td>348.015000</td>\n",
              "      <td>1251.000000</td>\n",
              "      <td>9.000000</td>\n",
              "    </tr>\n",
              "    <tr>\n",
              "      <th>75%</th>\n",
              "      <td>112046.250000</td>\n",
              "      <td>559.552500</td>\n",
              "      <td>1380.000000</td>\n",
              "      <td>11.000000</td>\n",
              "    </tr>\n",
              "    <tr>\n",
              "      <th>max</th>\n",
              "      <td>149395.000000</td>\n",
              "      <td>1724.830000</td>\n",
              "      <td>1499.000000</td>\n",
              "      <td>12.000000</td>\n",
              "    </tr>\n",
              "  </tbody>\n",
              "</table>\n",
              "</div>\n",
              "      <button class=\"colab-df-convert\" onclick=\"convertToInteractive('df-dbd59b79-7cfb-468c-9e33-23db137d0b74')\"\n",
              "              title=\"Convert this dataframe to an interactive table.\"\n",
              "              style=\"display:none;\">\n",
              "        \n",
              "  <svg xmlns=\"http://www.w3.org/2000/svg\" height=\"24px\"viewBox=\"0 0 24 24\"\n",
              "       width=\"24px\">\n",
              "    <path d=\"M0 0h24v24H0V0z\" fill=\"none\"/>\n",
              "    <path d=\"M18.56 5.44l.94 2.06.94-2.06 2.06-.94-2.06-.94-.94-2.06-.94 2.06-2.06.94zm-11 1L8.5 8.5l.94-2.06 2.06-.94-2.06-.94L8.5 2.5l-.94 2.06-2.06.94zm10 10l.94 2.06.94-2.06 2.06-.94-2.06-.94-.94-2.06-.94 2.06-2.06.94z\"/><path d=\"M17.41 7.96l-1.37-1.37c-.4-.4-.92-.59-1.43-.59-.52 0-1.04.2-1.43.59L10.3 9.45l-7.72 7.72c-.78.78-.78 2.05 0 2.83L4 21.41c.39.39.9.59 1.41.59.51 0 1.02-.2 1.41-.59l7.78-7.78 2.81-2.81c.8-.78.8-2.07 0-2.86zM5.41 20L4 18.59l7.72-7.72 1.47 1.35L5.41 20z\"/>\n",
              "  </svg>\n",
              "      </button>\n",
              "      \n",
              "  <style>\n",
              "    .colab-df-container {\n",
              "      display:flex;\n",
              "      flex-wrap:wrap;\n",
              "      gap: 12px;\n",
              "    }\n",
              "\n",
              "    .colab-df-convert {\n",
              "      background-color: #E8F0FE;\n",
              "      border: none;\n",
              "      border-radius: 50%;\n",
              "      cursor: pointer;\n",
              "      display: none;\n",
              "      fill: #1967D2;\n",
              "      height: 32px;\n",
              "      padding: 0 0 0 0;\n",
              "      width: 32px;\n",
              "    }\n",
              "\n",
              "    .colab-df-convert:hover {\n",
              "      background-color: #E2EBFA;\n",
              "      box-shadow: 0px 1px 2px rgba(60, 64, 67, 0.3), 0px 1px 3px 1px rgba(60, 64, 67, 0.15);\n",
              "      fill: #174EA6;\n",
              "    }\n",
              "\n",
              "    [theme=dark] .colab-df-convert {\n",
              "      background-color: #3B4455;\n",
              "      fill: #D2E3FC;\n",
              "    }\n",
              "\n",
              "    [theme=dark] .colab-df-convert:hover {\n",
              "      background-color: #434B5C;\n",
              "      box-shadow: 0px 1px 3px 1px rgba(0, 0, 0, 0.15);\n",
              "      filter: drop-shadow(0px 1px 2px rgba(0, 0, 0, 0.3));\n",
              "      fill: #FFFFFF;\n",
              "    }\n",
              "  </style>\n",
              "\n",
              "      <script>\n",
              "        const buttonEl =\n",
              "          document.querySelector('#df-dbd59b79-7cfb-468c-9e33-23db137d0b74 button.colab-df-convert');\n",
              "        buttonEl.style.display =\n",
              "          google.colab.kernel.accessAllowed ? 'block' : 'none';\n",
              "\n",
              "        async function convertToInteractive(key) {\n",
              "          const element = document.querySelector('#df-dbd59b79-7cfb-468c-9e33-23db137d0b74');\n",
              "          const dataTable =\n",
              "            await google.colab.kernel.invokeFunction('convertToInteractive',\n",
              "                                                     [key], {});\n",
              "          if (!dataTable) return;\n",
              "\n",
              "          const docLinkHtml = 'Like what you see? Visit the ' +\n",
              "            '<a target=\"_blank\" href=https://colab.research.google.com/notebooks/data_table.ipynb>data table notebook</a>'\n",
              "            + ' to learn more about interactive tables.';\n",
              "          element.innerHTML = '';\n",
              "          dataTable['output_type'] = 'display_data';\n",
              "          await google.colab.output.renderOutput(dataTable, element);\n",
              "          const docLink = document.createElement('div');\n",
              "          docLink.innerHTML = docLinkHtml;\n",
              "          element.appendChild(docLink);\n",
              "        }\n",
              "      </script>\n",
              "    </div>\n",
              "  </div>\n",
              "  "
            ]
          },
          "metadata": {}
        },
        {
          "output_type": "display_data",
          "data": {
            "text/plain": [
              "   Unnamed: 0      id  mb_used session_date  user_id  month\n",
              "0           0  1000_0   112.95   2018-11-25     1000     11\n",
              "1           1  1000_1  1052.81   2018-09-07     1000      9\n",
              "2           2  1000_2  1197.26   2018-06-25     1000      6\n",
              "3           3  1000_3   550.27   2018-08-22     1000      8\n",
              "4           4  1000_4   302.56   2018-09-24     1000      9"
            ],
            "text/html": [
              "\n",
              "  <div id=\"df-2e275d91-e6db-4c5b-9436-c11197e9e894\">\n",
              "    <div class=\"colab-df-container\">\n",
              "      <div>\n",
              "<style scoped>\n",
              "    .dataframe tbody tr th:only-of-type {\n",
              "        vertical-align: middle;\n",
              "    }\n",
              "\n",
              "    .dataframe tbody tr th {\n",
              "        vertical-align: top;\n",
              "    }\n",
              "\n",
              "    .dataframe thead th {\n",
              "        text-align: right;\n",
              "    }\n",
              "</style>\n",
              "<table border=\"1\" class=\"dataframe\">\n",
              "  <thead>\n",
              "    <tr style=\"text-align: right;\">\n",
              "      <th></th>\n",
              "      <th>Unnamed: 0</th>\n",
              "      <th>id</th>\n",
              "      <th>mb_used</th>\n",
              "      <th>session_date</th>\n",
              "      <th>user_id</th>\n",
              "      <th>month</th>\n",
              "    </tr>\n",
              "  </thead>\n",
              "  <tbody>\n",
              "    <tr>\n",
              "      <th>0</th>\n",
              "      <td>0</td>\n",
              "      <td>1000_0</td>\n",
              "      <td>112.95</td>\n",
              "      <td>2018-11-25</td>\n",
              "      <td>1000</td>\n",
              "      <td>11</td>\n",
              "    </tr>\n",
              "    <tr>\n",
              "      <th>1</th>\n",
              "      <td>1</td>\n",
              "      <td>1000_1</td>\n",
              "      <td>1052.81</td>\n",
              "      <td>2018-09-07</td>\n",
              "      <td>1000</td>\n",
              "      <td>9</td>\n",
              "    </tr>\n",
              "    <tr>\n",
              "      <th>2</th>\n",
              "      <td>2</td>\n",
              "      <td>1000_2</td>\n",
              "      <td>1197.26</td>\n",
              "      <td>2018-06-25</td>\n",
              "      <td>1000</td>\n",
              "      <td>6</td>\n",
              "    </tr>\n",
              "    <tr>\n",
              "      <th>3</th>\n",
              "      <td>3</td>\n",
              "      <td>1000_3</td>\n",
              "      <td>550.27</td>\n",
              "      <td>2018-08-22</td>\n",
              "      <td>1000</td>\n",
              "      <td>8</td>\n",
              "    </tr>\n",
              "    <tr>\n",
              "      <th>4</th>\n",
              "      <td>4</td>\n",
              "      <td>1000_4</td>\n",
              "      <td>302.56</td>\n",
              "      <td>2018-09-24</td>\n",
              "      <td>1000</td>\n",
              "      <td>9</td>\n",
              "    </tr>\n",
              "  </tbody>\n",
              "</table>\n",
              "</div>\n",
              "      <button class=\"colab-df-convert\" onclick=\"convertToInteractive('df-2e275d91-e6db-4c5b-9436-c11197e9e894')\"\n",
              "              title=\"Convert this dataframe to an interactive table.\"\n",
              "              style=\"display:none;\">\n",
              "        \n",
              "  <svg xmlns=\"http://www.w3.org/2000/svg\" height=\"24px\"viewBox=\"0 0 24 24\"\n",
              "       width=\"24px\">\n",
              "    <path d=\"M0 0h24v24H0V0z\" fill=\"none\"/>\n",
              "    <path d=\"M18.56 5.44l.94 2.06.94-2.06 2.06-.94-2.06-.94-.94-2.06-.94 2.06-2.06.94zm-11 1L8.5 8.5l.94-2.06 2.06-.94-2.06-.94L8.5 2.5l-.94 2.06-2.06.94zm10 10l.94 2.06.94-2.06 2.06-.94-2.06-.94-.94-2.06-.94 2.06-2.06.94z\"/><path d=\"M17.41 7.96l-1.37-1.37c-.4-.4-.92-.59-1.43-.59-.52 0-1.04.2-1.43.59L10.3 9.45l-7.72 7.72c-.78.78-.78 2.05 0 2.83L4 21.41c.39.39.9.59 1.41.59.51 0 1.02-.2 1.41-.59l7.78-7.78 2.81-2.81c.8-.78.8-2.07 0-2.86zM5.41 20L4 18.59l7.72-7.72 1.47 1.35L5.41 20z\"/>\n",
              "  </svg>\n",
              "      </button>\n",
              "      \n",
              "  <style>\n",
              "    .colab-df-container {\n",
              "      display:flex;\n",
              "      flex-wrap:wrap;\n",
              "      gap: 12px;\n",
              "    }\n",
              "\n",
              "    .colab-df-convert {\n",
              "      background-color: #E8F0FE;\n",
              "      border: none;\n",
              "      border-radius: 50%;\n",
              "      cursor: pointer;\n",
              "      display: none;\n",
              "      fill: #1967D2;\n",
              "      height: 32px;\n",
              "      padding: 0 0 0 0;\n",
              "      width: 32px;\n",
              "    }\n",
              "\n",
              "    .colab-df-convert:hover {\n",
              "      background-color: #E2EBFA;\n",
              "      box-shadow: 0px 1px 2px rgba(60, 64, 67, 0.3), 0px 1px 3px 1px rgba(60, 64, 67, 0.15);\n",
              "      fill: #174EA6;\n",
              "    }\n",
              "\n",
              "    [theme=dark] .colab-df-convert {\n",
              "      background-color: #3B4455;\n",
              "      fill: #D2E3FC;\n",
              "    }\n",
              "\n",
              "    [theme=dark] .colab-df-convert:hover {\n",
              "      background-color: #434B5C;\n",
              "      box-shadow: 0px 1px 3px 1px rgba(0, 0, 0, 0.15);\n",
              "      filter: drop-shadow(0px 1px 2px rgba(0, 0, 0, 0.3));\n",
              "      fill: #FFFFFF;\n",
              "    }\n",
              "  </style>\n",
              "\n",
              "      <script>\n",
              "        const buttonEl =\n",
              "          document.querySelector('#df-2e275d91-e6db-4c5b-9436-c11197e9e894 button.colab-df-convert');\n",
              "        buttonEl.style.display =\n",
              "          google.colab.kernel.accessAllowed ? 'block' : 'none';\n",
              "\n",
              "        async function convertToInteractive(key) {\n",
              "          const element = document.querySelector('#df-2e275d91-e6db-4c5b-9436-c11197e9e894');\n",
              "          const dataTable =\n",
              "            await google.colab.kernel.invokeFunction('convertToInteractive',\n",
              "                                                     [key], {});\n",
              "          if (!dataTable) return;\n",
              "\n",
              "          const docLinkHtml = 'Like what you see? Visit the ' +\n",
              "            '<a target=\"_blank\" href=https://colab.research.google.com/notebooks/data_table.ipynb>data table notebook</a>'\n",
              "            + ' to learn more about interactive tables.';\n",
              "          element.innerHTML = '';\n",
              "          dataTable['output_type'] = 'display_data';\n",
              "          await google.colab.output.renderOutput(dataTable, element);\n",
              "          const docLink = document.createElement('div');\n",
              "          docLink.innerHTML = docLinkHtml;\n",
              "          element.appendChild(docLink);\n",
              "        }\n",
              "      </script>\n",
              "    </div>\n",
              "  </div>\n",
              "  "
            ]
          },
          "metadata": {}
        }
      ],
      "source": [
        "display(internet.describe())\n",
        "\n",
        "display(internet.head())"
      ]
    },
    {
      "cell_type": "markdown",
      "metadata": {
        "id": "aqtabrKYRXuC"
      },
      "source": [
        "### Сообщения"
      ]
    },
    {
      "cell_type": "code",
      "execution_count": null,
      "metadata": {
        "colab": {
          "base_uri": "https://localhost:8080/"
        },
        "id": "lh-uxkhhRXuC",
        "outputId": "1ae18993-5ed1-4384-a66f-ccb9da6e4d6e"
      },
      "outputs": [
        {
          "output_type": "execute_result",
          "data": {
            "text/plain": [
              "0"
            ]
          },
          "metadata": {},
          "execution_count": 114
        }
      ],
      "source": [
        "#Привела к типу datetime\n",
        "messages['message_date'] = pd.to_datetime(messages['message_date'], format='%Y-%m-%d')\n",
        "\n",
        "#Создала 2 новых столбца\n",
        "messages['month'] = pd.DatetimeIndex(messages['message_date']).month \n",
        "\n",
        "#проверила на дубликаты\n",
        "messages.duplicated().sum()"
      ]
    },
    {
      "cell_type": "code",
      "execution_count": null,
      "metadata": {
        "colab": {
          "base_uri": "https://localhost:8080/",
          "height": 489
        },
        "id": "14VJRbtaRXuC",
        "outputId": "f0106cab-66e5-4046-fd0e-b8045f133bc2"
      },
      "outputs": [
        {
          "output_type": "display_data",
          "data": {
            "text/plain": [
              "       id message_date  user_id  month\n",
              "0  1000_0   2018-06-27     1000      6\n",
              "1  1000_1   2018-10-08     1000     10\n",
              "2  1000_2   2018-08-04     1000      8\n",
              "3  1000_3   2018-06-16     1000      6\n",
              "4  1000_4   2018-12-05     1000     12"
            ],
            "text/html": [
              "\n",
              "  <div id=\"df-939cf715-c883-4750-9f68-57f8991a4f65\">\n",
              "    <div class=\"colab-df-container\">\n",
              "      <div>\n",
              "<style scoped>\n",
              "    .dataframe tbody tr th:only-of-type {\n",
              "        vertical-align: middle;\n",
              "    }\n",
              "\n",
              "    .dataframe tbody tr th {\n",
              "        vertical-align: top;\n",
              "    }\n",
              "\n",
              "    .dataframe thead th {\n",
              "        text-align: right;\n",
              "    }\n",
              "</style>\n",
              "<table border=\"1\" class=\"dataframe\">\n",
              "  <thead>\n",
              "    <tr style=\"text-align: right;\">\n",
              "      <th></th>\n",
              "      <th>id</th>\n",
              "      <th>message_date</th>\n",
              "      <th>user_id</th>\n",
              "      <th>month</th>\n",
              "    </tr>\n",
              "  </thead>\n",
              "  <tbody>\n",
              "    <tr>\n",
              "      <th>0</th>\n",
              "      <td>1000_0</td>\n",
              "      <td>2018-06-27</td>\n",
              "      <td>1000</td>\n",
              "      <td>6</td>\n",
              "    </tr>\n",
              "    <tr>\n",
              "      <th>1</th>\n",
              "      <td>1000_1</td>\n",
              "      <td>2018-10-08</td>\n",
              "      <td>1000</td>\n",
              "      <td>10</td>\n",
              "    </tr>\n",
              "    <tr>\n",
              "      <th>2</th>\n",
              "      <td>1000_2</td>\n",
              "      <td>2018-08-04</td>\n",
              "      <td>1000</td>\n",
              "      <td>8</td>\n",
              "    </tr>\n",
              "    <tr>\n",
              "      <th>3</th>\n",
              "      <td>1000_3</td>\n",
              "      <td>2018-06-16</td>\n",
              "      <td>1000</td>\n",
              "      <td>6</td>\n",
              "    </tr>\n",
              "    <tr>\n",
              "      <th>4</th>\n",
              "      <td>1000_4</td>\n",
              "      <td>2018-12-05</td>\n",
              "      <td>1000</td>\n",
              "      <td>12</td>\n",
              "    </tr>\n",
              "  </tbody>\n",
              "</table>\n",
              "</div>\n",
              "      <button class=\"colab-df-convert\" onclick=\"convertToInteractive('df-939cf715-c883-4750-9f68-57f8991a4f65')\"\n",
              "              title=\"Convert this dataframe to an interactive table.\"\n",
              "              style=\"display:none;\">\n",
              "        \n",
              "  <svg xmlns=\"http://www.w3.org/2000/svg\" height=\"24px\"viewBox=\"0 0 24 24\"\n",
              "       width=\"24px\">\n",
              "    <path d=\"M0 0h24v24H0V0z\" fill=\"none\"/>\n",
              "    <path d=\"M18.56 5.44l.94 2.06.94-2.06 2.06-.94-2.06-.94-.94-2.06-.94 2.06-2.06.94zm-11 1L8.5 8.5l.94-2.06 2.06-.94-2.06-.94L8.5 2.5l-.94 2.06-2.06.94zm10 10l.94 2.06.94-2.06 2.06-.94-2.06-.94-.94-2.06-.94 2.06-2.06.94z\"/><path d=\"M17.41 7.96l-1.37-1.37c-.4-.4-.92-.59-1.43-.59-.52 0-1.04.2-1.43.59L10.3 9.45l-7.72 7.72c-.78.78-.78 2.05 0 2.83L4 21.41c.39.39.9.59 1.41.59.51 0 1.02-.2 1.41-.59l7.78-7.78 2.81-2.81c.8-.78.8-2.07 0-2.86zM5.41 20L4 18.59l7.72-7.72 1.47 1.35L5.41 20z\"/>\n",
              "  </svg>\n",
              "      </button>\n",
              "      \n",
              "  <style>\n",
              "    .colab-df-container {\n",
              "      display:flex;\n",
              "      flex-wrap:wrap;\n",
              "      gap: 12px;\n",
              "    }\n",
              "\n",
              "    .colab-df-convert {\n",
              "      background-color: #E8F0FE;\n",
              "      border: none;\n",
              "      border-radius: 50%;\n",
              "      cursor: pointer;\n",
              "      display: none;\n",
              "      fill: #1967D2;\n",
              "      height: 32px;\n",
              "      padding: 0 0 0 0;\n",
              "      width: 32px;\n",
              "    }\n",
              "\n",
              "    .colab-df-convert:hover {\n",
              "      background-color: #E2EBFA;\n",
              "      box-shadow: 0px 1px 2px rgba(60, 64, 67, 0.3), 0px 1px 3px 1px rgba(60, 64, 67, 0.15);\n",
              "      fill: #174EA6;\n",
              "    }\n",
              "\n",
              "    [theme=dark] .colab-df-convert {\n",
              "      background-color: #3B4455;\n",
              "      fill: #D2E3FC;\n",
              "    }\n",
              "\n",
              "    [theme=dark] .colab-df-convert:hover {\n",
              "      background-color: #434B5C;\n",
              "      box-shadow: 0px 1px 3px 1px rgba(0, 0, 0, 0.15);\n",
              "      filter: drop-shadow(0px 1px 2px rgba(0, 0, 0, 0.3));\n",
              "      fill: #FFFFFF;\n",
              "    }\n",
              "  </style>\n",
              "\n",
              "      <script>\n",
              "        const buttonEl =\n",
              "          document.querySelector('#df-939cf715-c883-4750-9f68-57f8991a4f65 button.colab-df-convert');\n",
              "        buttonEl.style.display =\n",
              "          google.colab.kernel.accessAllowed ? 'block' : 'none';\n",
              "\n",
              "        async function convertToInteractive(key) {\n",
              "          const element = document.querySelector('#df-939cf715-c883-4750-9f68-57f8991a4f65');\n",
              "          const dataTable =\n",
              "            await google.colab.kernel.invokeFunction('convertToInteractive',\n",
              "                                                     [key], {});\n",
              "          if (!dataTable) return;\n",
              "\n",
              "          const docLinkHtml = 'Like what you see? Visit the ' +\n",
              "            '<a target=\"_blank\" href=https://colab.research.google.com/notebooks/data_table.ipynb>data table notebook</a>'\n",
              "            + ' to learn more about interactive tables.';\n",
              "          element.innerHTML = '';\n",
              "          dataTable['output_type'] = 'display_data';\n",
              "          await google.colab.output.renderOutput(dataTable, element);\n",
              "          const docLink = document.createElement('div');\n",
              "          docLink.innerHTML = docLinkHtml;\n",
              "          element.appendChild(docLink);\n",
              "        }\n",
              "      </script>\n",
              "    </div>\n",
              "  </div>\n",
              "  "
            ]
          },
          "metadata": {}
        },
        {
          "output_type": "display_data",
          "data": {
            "text/plain": [
              "             user_id          month\n",
              "count  123036.000000  123036.000000\n",
              "mean     1256.989410       8.632262\n",
              "std       143.523967       2.747328\n",
              "min      1000.000000       1.000000\n",
              "25%      1134.000000       7.000000\n",
              "50%      1271.000000       9.000000\n",
              "75%      1381.000000      11.000000\n",
              "max      1499.000000      12.000000"
            ],
            "text/html": [
              "\n",
              "  <div id=\"df-3b501218-7512-46b7-961a-61eb39be575b\">\n",
              "    <div class=\"colab-df-container\">\n",
              "      <div>\n",
              "<style scoped>\n",
              "    .dataframe tbody tr th:only-of-type {\n",
              "        vertical-align: middle;\n",
              "    }\n",
              "\n",
              "    .dataframe tbody tr th {\n",
              "        vertical-align: top;\n",
              "    }\n",
              "\n",
              "    .dataframe thead th {\n",
              "        text-align: right;\n",
              "    }\n",
              "</style>\n",
              "<table border=\"1\" class=\"dataframe\">\n",
              "  <thead>\n",
              "    <tr style=\"text-align: right;\">\n",
              "      <th></th>\n",
              "      <th>user_id</th>\n",
              "      <th>month</th>\n",
              "    </tr>\n",
              "  </thead>\n",
              "  <tbody>\n",
              "    <tr>\n",
              "      <th>count</th>\n",
              "      <td>123036.000000</td>\n",
              "      <td>123036.000000</td>\n",
              "    </tr>\n",
              "    <tr>\n",
              "      <th>mean</th>\n",
              "      <td>1256.989410</td>\n",
              "      <td>8.632262</td>\n",
              "    </tr>\n",
              "    <tr>\n",
              "      <th>std</th>\n",
              "      <td>143.523967</td>\n",
              "      <td>2.747328</td>\n",
              "    </tr>\n",
              "    <tr>\n",
              "      <th>min</th>\n",
              "      <td>1000.000000</td>\n",
              "      <td>1.000000</td>\n",
              "    </tr>\n",
              "    <tr>\n",
              "      <th>25%</th>\n",
              "      <td>1134.000000</td>\n",
              "      <td>7.000000</td>\n",
              "    </tr>\n",
              "    <tr>\n",
              "      <th>50%</th>\n",
              "      <td>1271.000000</td>\n",
              "      <td>9.000000</td>\n",
              "    </tr>\n",
              "    <tr>\n",
              "      <th>75%</th>\n",
              "      <td>1381.000000</td>\n",
              "      <td>11.000000</td>\n",
              "    </tr>\n",
              "    <tr>\n",
              "      <th>max</th>\n",
              "      <td>1499.000000</td>\n",
              "      <td>12.000000</td>\n",
              "    </tr>\n",
              "  </tbody>\n",
              "</table>\n",
              "</div>\n",
              "      <button class=\"colab-df-convert\" onclick=\"convertToInteractive('df-3b501218-7512-46b7-961a-61eb39be575b')\"\n",
              "              title=\"Convert this dataframe to an interactive table.\"\n",
              "              style=\"display:none;\">\n",
              "        \n",
              "  <svg xmlns=\"http://www.w3.org/2000/svg\" height=\"24px\"viewBox=\"0 0 24 24\"\n",
              "       width=\"24px\">\n",
              "    <path d=\"M0 0h24v24H0V0z\" fill=\"none\"/>\n",
              "    <path d=\"M18.56 5.44l.94 2.06.94-2.06 2.06-.94-2.06-.94-.94-2.06-.94 2.06-2.06.94zm-11 1L8.5 8.5l.94-2.06 2.06-.94-2.06-.94L8.5 2.5l-.94 2.06-2.06.94zm10 10l.94 2.06.94-2.06 2.06-.94-2.06-.94-.94-2.06-.94 2.06-2.06.94z\"/><path d=\"M17.41 7.96l-1.37-1.37c-.4-.4-.92-.59-1.43-.59-.52 0-1.04.2-1.43.59L10.3 9.45l-7.72 7.72c-.78.78-.78 2.05 0 2.83L4 21.41c.39.39.9.59 1.41.59.51 0 1.02-.2 1.41-.59l7.78-7.78 2.81-2.81c.8-.78.8-2.07 0-2.86zM5.41 20L4 18.59l7.72-7.72 1.47 1.35L5.41 20z\"/>\n",
              "  </svg>\n",
              "      </button>\n",
              "      \n",
              "  <style>\n",
              "    .colab-df-container {\n",
              "      display:flex;\n",
              "      flex-wrap:wrap;\n",
              "      gap: 12px;\n",
              "    }\n",
              "\n",
              "    .colab-df-convert {\n",
              "      background-color: #E8F0FE;\n",
              "      border: none;\n",
              "      border-radius: 50%;\n",
              "      cursor: pointer;\n",
              "      display: none;\n",
              "      fill: #1967D2;\n",
              "      height: 32px;\n",
              "      padding: 0 0 0 0;\n",
              "      width: 32px;\n",
              "    }\n",
              "\n",
              "    .colab-df-convert:hover {\n",
              "      background-color: #E2EBFA;\n",
              "      box-shadow: 0px 1px 2px rgba(60, 64, 67, 0.3), 0px 1px 3px 1px rgba(60, 64, 67, 0.15);\n",
              "      fill: #174EA6;\n",
              "    }\n",
              "\n",
              "    [theme=dark] .colab-df-convert {\n",
              "      background-color: #3B4455;\n",
              "      fill: #D2E3FC;\n",
              "    }\n",
              "\n",
              "    [theme=dark] .colab-df-convert:hover {\n",
              "      background-color: #434B5C;\n",
              "      box-shadow: 0px 1px 3px 1px rgba(0, 0, 0, 0.15);\n",
              "      filter: drop-shadow(0px 1px 2px rgba(0, 0, 0, 0.3));\n",
              "      fill: #FFFFFF;\n",
              "    }\n",
              "  </style>\n",
              "\n",
              "      <script>\n",
              "        const buttonEl =\n",
              "          document.querySelector('#df-3b501218-7512-46b7-961a-61eb39be575b button.colab-df-convert');\n",
              "        buttonEl.style.display =\n",
              "          google.colab.kernel.accessAllowed ? 'block' : 'none';\n",
              "\n",
              "        async function convertToInteractive(key) {\n",
              "          const element = document.querySelector('#df-3b501218-7512-46b7-961a-61eb39be575b');\n",
              "          const dataTable =\n",
              "            await google.colab.kernel.invokeFunction('convertToInteractive',\n",
              "                                                     [key], {});\n",
              "          if (!dataTable) return;\n",
              "\n",
              "          const docLinkHtml = 'Like what you see? Visit the ' +\n",
              "            '<a target=\"_blank\" href=https://colab.research.google.com/notebooks/data_table.ipynb>data table notebook</a>'\n",
              "            + ' to learn more about interactive tables.';\n",
              "          element.innerHTML = '';\n",
              "          dataTable['output_type'] = 'display_data';\n",
              "          await google.colab.output.renderOutput(dataTable, element);\n",
              "          const docLink = document.createElement('div');\n",
              "          docLink.innerHTML = docLinkHtml;\n",
              "          element.appendChild(docLink);\n",
              "        }\n",
              "      </script>\n",
              "    </div>\n",
              "  </div>\n",
              "  "
            ]
          },
          "metadata": {}
        }
      ],
      "source": [
        "display(messages.head())\n",
        "\n",
        "display(messages.describe())"
      ]
    },
    {
      "cell_type": "markdown",
      "metadata": {
        "id": "qLndt0agRXuC"
      },
      "source": [
        "### Пользователи"
      ]
    },
    {
      "cell_type": "code",
      "execution_count": null,
      "metadata": {
        "colab": {
          "base_uri": "https://localhost:8080/"
        },
        "id": "QTJHmm9SRXuD",
        "outputId": "717cd3b2-4dcd-4df1-ada4-014fed04193e"
      },
      "outputs": [
        {
          "output_type": "execute_result",
          "data": {
            "text/plain": [
              "0"
            ]
          },
          "metadata": {},
          "execution_count": 116
        }
      ],
      "source": [
        "#Привела к типу datetime\n",
        "users['reg_date'] = pd.to_datetime(users['reg_date'], format='%Y-%m-%d') \n",
        "users['churn_date'] = pd.to_datetime(users['churn_date'], format='%Y-%m-%d')\n",
        "\n",
        "#Добавила 2 столбца для удобства анализа\n",
        "users['month'] = pd.DatetimeIndex(users['reg_date']).month \n",
        "\n",
        "\n",
        "#Проверка на дубликаты\n",
        "users.duplicated().sum()"
      ]
    },
    {
      "cell_type": "code",
      "execution_count": null,
      "metadata": {
        "colab": {
          "base_uri": "https://localhost:8080/",
          "height": 489
        },
        "id": "ab1qLqrQRXuD",
        "outputId": "a04acc5a-d3be-44ba-b07d-7f4e3fd098a0"
      },
      "outputs": [
        {
          "output_type": "display_data",
          "data": {
            "text/plain": [
              "   user_id  age churn_date         city first_name  last_name   reg_date  \\\n",
              "0     1000   52        NaT    Краснодар     Рафаил  Верещагин 2018-05-25   \n",
              "1     1001   41        NaT       Москва       Иван       Ежов 2018-11-01   \n",
              "2     1002   59        NaT  Стерлитамак    Евгений  Абрамович 2018-06-17   \n",
              "3     1003   23        NaT       Москва      Белла   Белякова 2018-08-17   \n",
              "4     1004   68        NaT  Новокузнецк    Татьяна   Авдеенко 2018-05-14   \n",
              "\n",
              "  tariff  month  \n",
              "0  ultra      5  \n",
              "1  smart     11  \n",
              "2  smart      6  \n",
              "3  ultra      8  \n",
              "4  ultra      5  "
            ],
            "text/html": [
              "\n",
              "  <div id=\"df-f06a1930-0200-4f79-9ab3-ae74042de173\">\n",
              "    <div class=\"colab-df-container\">\n",
              "      <div>\n",
              "<style scoped>\n",
              "    .dataframe tbody tr th:only-of-type {\n",
              "        vertical-align: middle;\n",
              "    }\n",
              "\n",
              "    .dataframe tbody tr th {\n",
              "        vertical-align: top;\n",
              "    }\n",
              "\n",
              "    .dataframe thead th {\n",
              "        text-align: right;\n",
              "    }\n",
              "</style>\n",
              "<table border=\"1\" class=\"dataframe\">\n",
              "  <thead>\n",
              "    <tr style=\"text-align: right;\">\n",
              "      <th></th>\n",
              "      <th>user_id</th>\n",
              "      <th>age</th>\n",
              "      <th>churn_date</th>\n",
              "      <th>city</th>\n",
              "      <th>first_name</th>\n",
              "      <th>last_name</th>\n",
              "      <th>reg_date</th>\n",
              "      <th>tariff</th>\n",
              "      <th>month</th>\n",
              "    </tr>\n",
              "  </thead>\n",
              "  <tbody>\n",
              "    <tr>\n",
              "      <th>0</th>\n",
              "      <td>1000</td>\n",
              "      <td>52</td>\n",
              "      <td>NaT</td>\n",
              "      <td>Краснодар</td>\n",
              "      <td>Рафаил</td>\n",
              "      <td>Верещагин</td>\n",
              "      <td>2018-05-25</td>\n",
              "      <td>ultra</td>\n",
              "      <td>5</td>\n",
              "    </tr>\n",
              "    <tr>\n",
              "      <th>1</th>\n",
              "      <td>1001</td>\n",
              "      <td>41</td>\n",
              "      <td>NaT</td>\n",
              "      <td>Москва</td>\n",
              "      <td>Иван</td>\n",
              "      <td>Ежов</td>\n",
              "      <td>2018-11-01</td>\n",
              "      <td>smart</td>\n",
              "      <td>11</td>\n",
              "    </tr>\n",
              "    <tr>\n",
              "      <th>2</th>\n",
              "      <td>1002</td>\n",
              "      <td>59</td>\n",
              "      <td>NaT</td>\n",
              "      <td>Стерлитамак</td>\n",
              "      <td>Евгений</td>\n",
              "      <td>Абрамович</td>\n",
              "      <td>2018-06-17</td>\n",
              "      <td>smart</td>\n",
              "      <td>6</td>\n",
              "    </tr>\n",
              "    <tr>\n",
              "      <th>3</th>\n",
              "      <td>1003</td>\n",
              "      <td>23</td>\n",
              "      <td>NaT</td>\n",
              "      <td>Москва</td>\n",
              "      <td>Белла</td>\n",
              "      <td>Белякова</td>\n",
              "      <td>2018-08-17</td>\n",
              "      <td>ultra</td>\n",
              "      <td>8</td>\n",
              "    </tr>\n",
              "    <tr>\n",
              "      <th>4</th>\n",
              "      <td>1004</td>\n",
              "      <td>68</td>\n",
              "      <td>NaT</td>\n",
              "      <td>Новокузнецк</td>\n",
              "      <td>Татьяна</td>\n",
              "      <td>Авдеенко</td>\n",
              "      <td>2018-05-14</td>\n",
              "      <td>ultra</td>\n",
              "      <td>5</td>\n",
              "    </tr>\n",
              "  </tbody>\n",
              "</table>\n",
              "</div>\n",
              "      <button class=\"colab-df-convert\" onclick=\"convertToInteractive('df-f06a1930-0200-4f79-9ab3-ae74042de173')\"\n",
              "              title=\"Convert this dataframe to an interactive table.\"\n",
              "              style=\"display:none;\">\n",
              "        \n",
              "  <svg xmlns=\"http://www.w3.org/2000/svg\" height=\"24px\"viewBox=\"0 0 24 24\"\n",
              "       width=\"24px\">\n",
              "    <path d=\"M0 0h24v24H0V0z\" fill=\"none\"/>\n",
              "    <path d=\"M18.56 5.44l.94 2.06.94-2.06 2.06-.94-2.06-.94-.94-2.06-.94 2.06-2.06.94zm-11 1L8.5 8.5l.94-2.06 2.06-.94-2.06-.94L8.5 2.5l-.94 2.06-2.06.94zm10 10l.94 2.06.94-2.06 2.06-.94-2.06-.94-.94-2.06-.94 2.06-2.06.94z\"/><path d=\"M17.41 7.96l-1.37-1.37c-.4-.4-.92-.59-1.43-.59-.52 0-1.04.2-1.43.59L10.3 9.45l-7.72 7.72c-.78.78-.78 2.05 0 2.83L4 21.41c.39.39.9.59 1.41.59.51 0 1.02-.2 1.41-.59l7.78-7.78 2.81-2.81c.8-.78.8-2.07 0-2.86zM5.41 20L4 18.59l7.72-7.72 1.47 1.35L5.41 20z\"/>\n",
              "  </svg>\n",
              "      </button>\n",
              "      \n",
              "  <style>\n",
              "    .colab-df-container {\n",
              "      display:flex;\n",
              "      flex-wrap:wrap;\n",
              "      gap: 12px;\n",
              "    }\n",
              "\n",
              "    .colab-df-convert {\n",
              "      background-color: #E8F0FE;\n",
              "      border: none;\n",
              "      border-radius: 50%;\n",
              "      cursor: pointer;\n",
              "      display: none;\n",
              "      fill: #1967D2;\n",
              "      height: 32px;\n",
              "      padding: 0 0 0 0;\n",
              "      width: 32px;\n",
              "    }\n",
              "\n",
              "    .colab-df-convert:hover {\n",
              "      background-color: #E2EBFA;\n",
              "      box-shadow: 0px 1px 2px rgba(60, 64, 67, 0.3), 0px 1px 3px 1px rgba(60, 64, 67, 0.15);\n",
              "      fill: #174EA6;\n",
              "    }\n",
              "\n",
              "    [theme=dark] .colab-df-convert {\n",
              "      background-color: #3B4455;\n",
              "      fill: #D2E3FC;\n",
              "    }\n",
              "\n",
              "    [theme=dark] .colab-df-convert:hover {\n",
              "      background-color: #434B5C;\n",
              "      box-shadow: 0px 1px 3px 1px rgba(0, 0, 0, 0.15);\n",
              "      filter: drop-shadow(0px 1px 2px rgba(0, 0, 0, 0.3));\n",
              "      fill: #FFFFFF;\n",
              "    }\n",
              "  </style>\n",
              "\n",
              "      <script>\n",
              "        const buttonEl =\n",
              "          document.querySelector('#df-f06a1930-0200-4f79-9ab3-ae74042de173 button.colab-df-convert');\n",
              "        buttonEl.style.display =\n",
              "          google.colab.kernel.accessAllowed ? 'block' : 'none';\n",
              "\n",
              "        async function convertToInteractive(key) {\n",
              "          const element = document.querySelector('#df-f06a1930-0200-4f79-9ab3-ae74042de173');\n",
              "          const dataTable =\n",
              "            await google.colab.kernel.invokeFunction('convertToInteractive',\n",
              "                                                     [key], {});\n",
              "          if (!dataTable) return;\n",
              "\n",
              "          const docLinkHtml = 'Like what you see? Visit the ' +\n",
              "            '<a target=\"_blank\" href=https://colab.research.google.com/notebooks/data_table.ipynb>data table notebook</a>'\n",
              "            + ' to learn more about interactive tables.';\n",
              "          element.innerHTML = '';\n",
              "          dataTable['output_type'] = 'display_data';\n",
              "          await google.colab.output.renderOutput(dataTable, element);\n",
              "          const docLink = document.createElement('div');\n",
              "          docLink.innerHTML = docLinkHtml;\n",
              "          element.appendChild(docLink);\n",
              "        }\n",
              "      </script>\n",
              "    </div>\n",
              "  </div>\n",
              "  "
            ]
          },
          "metadata": {}
        },
        {
          "output_type": "display_data",
          "data": {
            "text/plain": [
              "           user_id        age       month\n",
              "count   500.000000  500.00000  500.000000\n",
              "mean   1249.500000   46.58800    6.482000\n",
              "std     144.481833   16.66763    3.394218\n",
              "min    1000.000000   18.00000    1.000000\n",
              "25%    1124.750000   32.00000    4.000000\n",
              "50%    1249.500000   46.00000    7.000000\n",
              "75%    1374.250000   62.00000    9.000000\n",
              "max    1499.000000   75.00000   12.000000"
            ],
            "text/html": [
              "\n",
              "  <div id=\"df-77f95c1a-4dff-4895-baa7-a16f544ac3ce\">\n",
              "    <div class=\"colab-df-container\">\n",
              "      <div>\n",
              "<style scoped>\n",
              "    .dataframe tbody tr th:only-of-type {\n",
              "        vertical-align: middle;\n",
              "    }\n",
              "\n",
              "    .dataframe tbody tr th {\n",
              "        vertical-align: top;\n",
              "    }\n",
              "\n",
              "    .dataframe thead th {\n",
              "        text-align: right;\n",
              "    }\n",
              "</style>\n",
              "<table border=\"1\" class=\"dataframe\">\n",
              "  <thead>\n",
              "    <tr style=\"text-align: right;\">\n",
              "      <th></th>\n",
              "      <th>user_id</th>\n",
              "      <th>age</th>\n",
              "      <th>month</th>\n",
              "    </tr>\n",
              "  </thead>\n",
              "  <tbody>\n",
              "    <tr>\n",
              "      <th>count</th>\n",
              "      <td>500.000000</td>\n",
              "      <td>500.00000</td>\n",
              "      <td>500.000000</td>\n",
              "    </tr>\n",
              "    <tr>\n",
              "      <th>mean</th>\n",
              "      <td>1249.500000</td>\n",
              "      <td>46.58800</td>\n",
              "      <td>6.482000</td>\n",
              "    </tr>\n",
              "    <tr>\n",
              "      <th>std</th>\n",
              "      <td>144.481833</td>\n",
              "      <td>16.66763</td>\n",
              "      <td>3.394218</td>\n",
              "    </tr>\n",
              "    <tr>\n",
              "      <th>min</th>\n",
              "      <td>1000.000000</td>\n",
              "      <td>18.00000</td>\n",
              "      <td>1.000000</td>\n",
              "    </tr>\n",
              "    <tr>\n",
              "      <th>25%</th>\n",
              "      <td>1124.750000</td>\n",
              "      <td>32.00000</td>\n",
              "      <td>4.000000</td>\n",
              "    </tr>\n",
              "    <tr>\n",
              "      <th>50%</th>\n",
              "      <td>1249.500000</td>\n",
              "      <td>46.00000</td>\n",
              "      <td>7.000000</td>\n",
              "    </tr>\n",
              "    <tr>\n",
              "      <th>75%</th>\n",
              "      <td>1374.250000</td>\n",
              "      <td>62.00000</td>\n",
              "      <td>9.000000</td>\n",
              "    </tr>\n",
              "    <tr>\n",
              "      <th>max</th>\n",
              "      <td>1499.000000</td>\n",
              "      <td>75.00000</td>\n",
              "      <td>12.000000</td>\n",
              "    </tr>\n",
              "  </tbody>\n",
              "</table>\n",
              "</div>\n",
              "      <button class=\"colab-df-convert\" onclick=\"convertToInteractive('df-77f95c1a-4dff-4895-baa7-a16f544ac3ce')\"\n",
              "              title=\"Convert this dataframe to an interactive table.\"\n",
              "              style=\"display:none;\">\n",
              "        \n",
              "  <svg xmlns=\"http://www.w3.org/2000/svg\" height=\"24px\"viewBox=\"0 0 24 24\"\n",
              "       width=\"24px\">\n",
              "    <path d=\"M0 0h24v24H0V0z\" fill=\"none\"/>\n",
              "    <path d=\"M18.56 5.44l.94 2.06.94-2.06 2.06-.94-2.06-.94-.94-2.06-.94 2.06-2.06.94zm-11 1L8.5 8.5l.94-2.06 2.06-.94-2.06-.94L8.5 2.5l-.94 2.06-2.06.94zm10 10l.94 2.06.94-2.06 2.06-.94-2.06-.94-.94-2.06-.94 2.06-2.06.94z\"/><path d=\"M17.41 7.96l-1.37-1.37c-.4-.4-.92-.59-1.43-.59-.52 0-1.04.2-1.43.59L10.3 9.45l-7.72 7.72c-.78.78-.78 2.05 0 2.83L4 21.41c.39.39.9.59 1.41.59.51 0 1.02-.2 1.41-.59l7.78-7.78 2.81-2.81c.8-.78.8-2.07 0-2.86zM5.41 20L4 18.59l7.72-7.72 1.47 1.35L5.41 20z\"/>\n",
              "  </svg>\n",
              "      </button>\n",
              "      \n",
              "  <style>\n",
              "    .colab-df-container {\n",
              "      display:flex;\n",
              "      flex-wrap:wrap;\n",
              "      gap: 12px;\n",
              "    }\n",
              "\n",
              "    .colab-df-convert {\n",
              "      background-color: #E8F0FE;\n",
              "      border: none;\n",
              "      border-radius: 50%;\n",
              "      cursor: pointer;\n",
              "      display: none;\n",
              "      fill: #1967D2;\n",
              "      height: 32px;\n",
              "      padding: 0 0 0 0;\n",
              "      width: 32px;\n",
              "    }\n",
              "\n",
              "    .colab-df-convert:hover {\n",
              "      background-color: #E2EBFA;\n",
              "      box-shadow: 0px 1px 2px rgba(60, 64, 67, 0.3), 0px 1px 3px 1px rgba(60, 64, 67, 0.15);\n",
              "      fill: #174EA6;\n",
              "    }\n",
              "\n",
              "    [theme=dark] .colab-df-convert {\n",
              "      background-color: #3B4455;\n",
              "      fill: #D2E3FC;\n",
              "    }\n",
              "\n",
              "    [theme=dark] .colab-df-convert:hover {\n",
              "      background-color: #434B5C;\n",
              "      box-shadow: 0px 1px 3px 1px rgba(0, 0, 0, 0.15);\n",
              "      filter: drop-shadow(0px 1px 2px rgba(0, 0, 0, 0.3));\n",
              "      fill: #FFFFFF;\n",
              "    }\n",
              "  </style>\n",
              "\n",
              "      <script>\n",
              "        const buttonEl =\n",
              "          document.querySelector('#df-77f95c1a-4dff-4895-baa7-a16f544ac3ce button.colab-df-convert');\n",
              "        buttonEl.style.display =\n",
              "          google.colab.kernel.accessAllowed ? 'block' : 'none';\n",
              "\n",
              "        async function convertToInteractive(key) {\n",
              "          const element = document.querySelector('#df-77f95c1a-4dff-4895-baa7-a16f544ac3ce');\n",
              "          const dataTable =\n",
              "            await google.colab.kernel.invokeFunction('convertToInteractive',\n",
              "                                                     [key], {});\n",
              "          if (!dataTable) return;\n",
              "\n",
              "          const docLinkHtml = 'Like what you see? Visit the ' +\n",
              "            '<a target=\"_blank\" href=https://colab.research.google.com/notebooks/data_table.ipynb>data table notebook</a>'\n",
              "            + ' to learn more about interactive tables.';\n",
              "          element.innerHTML = '';\n",
              "          dataTable['output_type'] = 'display_data';\n",
              "          await google.colab.output.renderOutput(dataTable, element);\n",
              "          const docLink = document.createElement('div');\n",
              "          docLink.innerHTML = docLinkHtml;\n",
              "          element.appendChild(docLink);\n",
              "        }\n",
              "      </script>\n",
              "    </div>\n",
              "  </div>\n",
              "  "
            ]
          },
          "metadata": {}
        }
      ],
      "source": [
        "display(users.head())\n",
        "\n",
        "display(users.describe())"
      ]
    },
    {
      "cell_type": "code",
      "execution_count": null,
      "metadata": {
        "colab": {
          "base_uri": "https://localhost:8080/"
        },
        "id": "mCgPG95ARXuD",
        "outputId": "596a1ee3-6557-4831-ca07-259fc2ee390c"
      },
      "outputs": [
        {
          "output_type": "execute_result",
          "data": {
            "text/plain": [
              "smart    351\n",
              "ultra    149\n",
              "Name: tariff, dtype: int64"
            ]
          },
          "metadata": {},
          "execution_count": 118
        }
      ],
      "source": [
        "users['tariff'].value_counts()"
      ]
    },
    {
      "cell_type": "markdown",
      "metadata": {
        "id": "X-v99tHHRXuD"
      },
      "source": [
        "### Вывод по таблицам:"
      ]
    },
    {
      "cell_type": "markdown",
      "metadata": {
        "id": "MPRIyEMNRXuE"
      },
      "source": [
        "Данные приведены к корректным типам. Дубликатов и пропусков нет. Из выборки видно, что 351 пользователь на тарифе Smart, и 149 пользователей на Ultra. Заметила также, что есть звонки по 0 минут, что, скорее всего, означает пропущенные звонки."
      ]
    },
    {
      "cell_type": "markdown",
      "metadata": {
        "id": "FTIeQj2TRXuE"
      },
      "source": [
        "## Расчет для каждого пользователя: минуты, сообщения, интернет-трафик. По  месяцам."
      ]
    },
    {
      "cell_type": "code",
      "execution_count": null,
      "metadata": {
        "colab": {
          "base_uri": "https://localhost:8080/",
          "height": 363
        },
        "id": "sX_Z4rMlRXuE",
        "outputId": "14699067-413e-42b0-9cb4-37ac71a6dc1f"
      },
      "outputs": [
        {
          "output_type": "execute_result",
          "data": {
            "text/plain": [
              "      user_id  month  calls_duration  calls_count\n",
              "1550     1248     10             727          113\n",
              "2947     1464      9             542           74\n",
              "2561     1403      9              65           10\n",
              "186      1029      9             422           57\n",
              "254      1040     10             287           43\n",
              "2092     1334     11             116           24\n",
              "65       1009      5             170           28\n",
              "1162     1184     10             319           42\n",
              "782      1124     10            1225          152\n",
              "1788     1285      9             315           36"
            ],
            "text/html": [
              "\n",
              "  <div id=\"df-7755443b-afea-47eb-888e-25432494a26b\">\n",
              "    <div class=\"colab-df-container\">\n",
              "      <div>\n",
              "<style scoped>\n",
              "    .dataframe tbody tr th:only-of-type {\n",
              "        vertical-align: middle;\n",
              "    }\n",
              "\n",
              "    .dataframe tbody tr th {\n",
              "        vertical-align: top;\n",
              "    }\n",
              "\n",
              "    .dataframe thead th {\n",
              "        text-align: right;\n",
              "    }\n",
              "</style>\n",
              "<table border=\"1\" class=\"dataframe\">\n",
              "  <thead>\n",
              "    <tr style=\"text-align: right;\">\n",
              "      <th></th>\n",
              "      <th>user_id</th>\n",
              "      <th>month</th>\n",
              "      <th>calls_duration</th>\n",
              "      <th>calls_count</th>\n",
              "    </tr>\n",
              "  </thead>\n",
              "  <tbody>\n",
              "    <tr>\n",
              "      <th>1550</th>\n",
              "      <td>1248</td>\n",
              "      <td>10</td>\n",
              "      <td>727</td>\n",
              "      <td>113</td>\n",
              "    </tr>\n",
              "    <tr>\n",
              "      <th>2947</th>\n",
              "      <td>1464</td>\n",
              "      <td>9</td>\n",
              "      <td>542</td>\n",
              "      <td>74</td>\n",
              "    </tr>\n",
              "    <tr>\n",
              "      <th>2561</th>\n",
              "      <td>1403</td>\n",
              "      <td>9</td>\n",
              "      <td>65</td>\n",
              "      <td>10</td>\n",
              "    </tr>\n",
              "    <tr>\n",
              "      <th>186</th>\n",
              "      <td>1029</td>\n",
              "      <td>9</td>\n",
              "      <td>422</td>\n",
              "      <td>57</td>\n",
              "    </tr>\n",
              "    <tr>\n",
              "      <th>254</th>\n",
              "      <td>1040</td>\n",
              "      <td>10</td>\n",
              "      <td>287</td>\n",
              "      <td>43</td>\n",
              "    </tr>\n",
              "    <tr>\n",
              "      <th>2092</th>\n",
              "      <td>1334</td>\n",
              "      <td>11</td>\n",
              "      <td>116</td>\n",
              "      <td>24</td>\n",
              "    </tr>\n",
              "    <tr>\n",
              "      <th>65</th>\n",
              "      <td>1009</td>\n",
              "      <td>5</td>\n",
              "      <td>170</td>\n",
              "      <td>28</td>\n",
              "    </tr>\n",
              "    <tr>\n",
              "      <th>1162</th>\n",
              "      <td>1184</td>\n",
              "      <td>10</td>\n",
              "      <td>319</td>\n",
              "      <td>42</td>\n",
              "    </tr>\n",
              "    <tr>\n",
              "      <th>782</th>\n",
              "      <td>1124</td>\n",
              "      <td>10</td>\n",
              "      <td>1225</td>\n",
              "      <td>152</td>\n",
              "    </tr>\n",
              "    <tr>\n",
              "      <th>1788</th>\n",
              "      <td>1285</td>\n",
              "      <td>9</td>\n",
              "      <td>315</td>\n",
              "      <td>36</td>\n",
              "    </tr>\n",
              "  </tbody>\n",
              "</table>\n",
              "</div>\n",
              "      <button class=\"colab-df-convert\" onclick=\"convertToInteractive('df-7755443b-afea-47eb-888e-25432494a26b')\"\n",
              "              title=\"Convert this dataframe to an interactive table.\"\n",
              "              style=\"display:none;\">\n",
              "        \n",
              "  <svg xmlns=\"http://www.w3.org/2000/svg\" height=\"24px\"viewBox=\"0 0 24 24\"\n",
              "       width=\"24px\">\n",
              "    <path d=\"M0 0h24v24H0V0z\" fill=\"none\"/>\n",
              "    <path d=\"M18.56 5.44l.94 2.06.94-2.06 2.06-.94-2.06-.94-.94-2.06-.94 2.06-2.06.94zm-11 1L8.5 8.5l.94-2.06 2.06-.94-2.06-.94L8.5 2.5l-.94 2.06-2.06.94zm10 10l.94 2.06.94-2.06 2.06-.94-2.06-.94-.94-2.06-.94 2.06-2.06.94z\"/><path d=\"M17.41 7.96l-1.37-1.37c-.4-.4-.92-.59-1.43-.59-.52 0-1.04.2-1.43.59L10.3 9.45l-7.72 7.72c-.78.78-.78 2.05 0 2.83L4 21.41c.39.39.9.59 1.41.59.51 0 1.02-.2 1.41-.59l7.78-7.78 2.81-2.81c.8-.78.8-2.07 0-2.86zM5.41 20L4 18.59l7.72-7.72 1.47 1.35L5.41 20z\"/>\n",
              "  </svg>\n",
              "      </button>\n",
              "      \n",
              "  <style>\n",
              "    .colab-df-container {\n",
              "      display:flex;\n",
              "      flex-wrap:wrap;\n",
              "      gap: 12px;\n",
              "    }\n",
              "\n",
              "    .colab-df-convert {\n",
              "      background-color: #E8F0FE;\n",
              "      border: none;\n",
              "      border-radius: 50%;\n",
              "      cursor: pointer;\n",
              "      display: none;\n",
              "      fill: #1967D2;\n",
              "      height: 32px;\n",
              "      padding: 0 0 0 0;\n",
              "      width: 32px;\n",
              "    }\n",
              "\n",
              "    .colab-df-convert:hover {\n",
              "      background-color: #E2EBFA;\n",
              "      box-shadow: 0px 1px 2px rgba(60, 64, 67, 0.3), 0px 1px 3px 1px rgba(60, 64, 67, 0.15);\n",
              "      fill: #174EA6;\n",
              "    }\n",
              "\n",
              "    [theme=dark] .colab-df-convert {\n",
              "      background-color: #3B4455;\n",
              "      fill: #D2E3FC;\n",
              "    }\n",
              "\n",
              "    [theme=dark] .colab-df-convert:hover {\n",
              "      background-color: #434B5C;\n",
              "      box-shadow: 0px 1px 3px 1px rgba(0, 0, 0, 0.15);\n",
              "      filter: drop-shadow(0px 1px 2px rgba(0, 0, 0, 0.3));\n",
              "      fill: #FFFFFF;\n",
              "    }\n",
              "  </style>\n",
              "\n",
              "      <script>\n",
              "        const buttonEl =\n",
              "          document.querySelector('#df-7755443b-afea-47eb-888e-25432494a26b button.colab-df-convert');\n",
              "        buttonEl.style.display =\n",
              "          google.colab.kernel.accessAllowed ? 'block' : 'none';\n",
              "\n",
              "        async function convertToInteractive(key) {\n",
              "          const element = document.querySelector('#df-7755443b-afea-47eb-888e-25432494a26b');\n",
              "          const dataTable =\n",
              "            await google.colab.kernel.invokeFunction('convertToInteractive',\n",
              "                                                     [key], {});\n",
              "          if (!dataTable) return;\n",
              "\n",
              "          const docLinkHtml = 'Like what you see? Visit the ' +\n",
              "            '<a target=\"_blank\" href=https://colab.research.google.com/notebooks/data_table.ipynb>data table notebook</a>'\n",
              "            + ' to learn more about interactive tables.';\n",
              "          element.innerHTML = '';\n",
              "          dataTable['output_type'] = 'display_data';\n",
              "          await google.colab.output.renderOutput(dataTable, element);\n",
              "          const docLink = document.createElement('div');\n",
              "          docLink.innerHTML = docLinkHtml;\n",
              "          element.appendChild(docLink);\n",
              "        }\n",
              "      </script>\n",
              "    </div>\n",
              "  </div>\n",
              "  "
            ]
          },
          "metadata": {},
          "execution_count": 119
        }
      ],
      "source": [
        "#Посчитала кол-во звонков и израсходованных минут для каждого пользователя по месяцам\n",
        "call_per_month = calls.groupby(['user_id', 'month']).agg(\n",
        "           calls_duration = pd.NamedAgg(column = 'duration', aggfunc = 'sum'),\n",
        "           calls_count = ('id', 'count')).reset_index()\n",
        "call_per_month.sample(10)"
      ]
    },
    {
      "cell_type": "code",
      "execution_count": null,
      "metadata": {
        "colab": {
          "base_uri": "https://localhost:8080/",
          "height": 363
        },
        "id": "83qFexvVRXuF",
        "outputId": "1877078c-8e91-40e8-d4ba-3efc26a9a416"
      },
      "outputs": [
        {
          "output_type": "execute_result",
          "data": {
            "text/plain": [
              "      user_id  month  sms_count\n",
              "1310     1256     10        103\n",
              "1474     1284      5         36\n",
              "1622     1314      3         31\n",
              "193      1035      4         50\n",
              "227      1043     12          6\n",
              "2447     1454      4         30\n",
              "866      1165     12        224\n",
              "2627     1482      8         71\n",
              "1548     1299     12         41\n",
              "530      1097      6          9"
            ],
            "text/html": [
              "\n",
              "  <div id=\"df-193e38b7-0573-4b9b-9b5b-44d694fff09c\">\n",
              "    <div class=\"colab-df-container\">\n",
              "      <div>\n",
              "<style scoped>\n",
              "    .dataframe tbody tr th:only-of-type {\n",
              "        vertical-align: middle;\n",
              "    }\n",
              "\n",
              "    .dataframe tbody tr th {\n",
              "        vertical-align: top;\n",
              "    }\n",
              "\n",
              "    .dataframe thead th {\n",
              "        text-align: right;\n",
              "    }\n",
              "</style>\n",
              "<table border=\"1\" class=\"dataframe\">\n",
              "  <thead>\n",
              "    <tr style=\"text-align: right;\">\n",
              "      <th></th>\n",
              "      <th>user_id</th>\n",
              "      <th>month</th>\n",
              "      <th>sms_count</th>\n",
              "    </tr>\n",
              "  </thead>\n",
              "  <tbody>\n",
              "    <tr>\n",
              "      <th>1310</th>\n",
              "      <td>1256</td>\n",
              "      <td>10</td>\n",
              "      <td>103</td>\n",
              "    </tr>\n",
              "    <tr>\n",
              "      <th>1474</th>\n",
              "      <td>1284</td>\n",
              "      <td>5</td>\n",
              "      <td>36</td>\n",
              "    </tr>\n",
              "    <tr>\n",
              "      <th>1622</th>\n",
              "      <td>1314</td>\n",
              "      <td>3</td>\n",
              "      <td>31</td>\n",
              "    </tr>\n",
              "    <tr>\n",
              "      <th>193</th>\n",
              "      <td>1035</td>\n",
              "      <td>4</td>\n",
              "      <td>50</td>\n",
              "    </tr>\n",
              "    <tr>\n",
              "      <th>227</th>\n",
              "      <td>1043</td>\n",
              "      <td>12</td>\n",
              "      <td>6</td>\n",
              "    </tr>\n",
              "    <tr>\n",
              "      <th>2447</th>\n",
              "      <td>1454</td>\n",
              "      <td>4</td>\n",
              "      <td>30</td>\n",
              "    </tr>\n",
              "    <tr>\n",
              "      <th>866</th>\n",
              "      <td>1165</td>\n",
              "      <td>12</td>\n",
              "      <td>224</td>\n",
              "    </tr>\n",
              "    <tr>\n",
              "      <th>2627</th>\n",
              "      <td>1482</td>\n",
              "      <td>8</td>\n",
              "      <td>71</td>\n",
              "    </tr>\n",
              "    <tr>\n",
              "      <th>1548</th>\n",
              "      <td>1299</td>\n",
              "      <td>12</td>\n",
              "      <td>41</td>\n",
              "    </tr>\n",
              "    <tr>\n",
              "      <th>530</th>\n",
              "      <td>1097</td>\n",
              "      <td>6</td>\n",
              "      <td>9</td>\n",
              "    </tr>\n",
              "  </tbody>\n",
              "</table>\n",
              "</div>\n",
              "      <button class=\"colab-df-convert\" onclick=\"convertToInteractive('df-193e38b7-0573-4b9b-9b5b-44d694fff09c')\"\n",
              "              title=\"Convert this dataframe to an interactive table.\"\n",
              "              style=\"display:none;\">\n",
              "        \n",
              "  <svg xmlns=\"http://www.w3.org/2000/svg\" height=\"24px\"viewBox=\"0 0 24 24\"\n",
              "       width=\"24px\">\n",
              "    <path d=\"M0 0h24v24H0V0z\" fill=\"none\"/>\n",
              "    <path d=\"M18.56 5.44l.94 2.06.94-2.06 2.06-.94-2.06-.94-.94-2.06-.94 2.06-2.06.94zm-11 1L8.5 8.5l.94-2.06 2.06-.94-2.06-.94L8.5 2.5l-.94 2.06-2.06.94zm10 10l.94 2.06.94-2.06 2.06-.94-2.06-.94-.94-2.06-.94 2.06-2.06.94z\"/><path d=\"M17.41 7.96l-1.37-1.37c-.4-.4-.92-.59-1.43-.59-.52 0-1.04.2-1.43.59L10.3 9.45l-7.72 7.72c-.78.78-.78 2.05 0 2.83L4 21.41c.39.39.9.59 1.41.59.51 0 1.02-.2 1.41-.59l7.78-7.78 2.81-2.81c.8-.78.8-2.07 0-2.86zM5.41 20L4 18.59l7.72-7.72 1.47 1.35L5.41 20z\"/>\n",
              "  </svg>\n",
              "      </button>\n",
              "      \n",
              "  <style>\n",
              "    .colab-df-container {\n",
              "      display:flex;\n",
              "      flex-wrap:wrap;\n",
              "      gap: 12px;\n",
              "    }\n",
              "\n",
              "    .colab-df-convert {\n",
              "      background-color: #E8F0FE;\n",
              "      border: none;\n",
              "      border-radius: 50%;\n",
              "      cursor: pointer;\n",
              "      display: none;\n",
              "      fill: #1967D2;\n",
              "      height: 32px;\n",
              "      padding: 0 0 0 0;\n",
              "      width: 32px;\n",
              "    }\n",
              "\n",
              "    .colab-df-convert:hover {\n",
              "      background-color: #E2EBFA;\n",
              "      box-shadow: 0px 1px 2px rgba(60, 64, 67, 0.3), 0px 1px 3px 1px rgba(60, 64, 67, 0.15);\n",
              "      fill: #174EA6;\n",
              "    }\n",
              "\n",
              "    [theme=dark] .colab-df-convert {\n",
              "      background-color: #3B4455;\n",
              "      fill: #D2E3FC;\n",
              "    }\n",
              "\n",
              "    [theme=dark] .colab-df-convert:hover {\n",
              "      background-color: #434B5C;\n",
              "      box-shadow: 0px 1px 3px 1px rgba(0, 0, 0, 0.15);\n",
              "      filter: drop-shadow(0px 1px 2px rgba(0, 0, 0, 0.3));\n",
              "      fill: #FFFFFF;\n",
              "    }\n",
              "  </style>\n",
              "\n",
              "      <script>\n",
              "        const buttonEl =\n",
              "          document.querySelector('#df-193e38b7-0573-4b9b-9b5b-44d694fff09c button.colab-df-convert');\n",
              "        buttonEl.style.display =\n",
              "          google.colab.kernel.accessAllowed ? 'block' : 'none';\n",
              "\n",
              "        async function convertToInteractive(key) {\n",
              "          const element = document.querySelector('#df-193e38b7-0573-4b9b-9b5b-44d694fff09c');\n",
              "          const dataTable =\n",
              "            await google.colab.kernel.invokeFunction('convertToInteractive',\n",
              "                                                     [key], {});\n",
              "          if (!dataTable) return;\n",
              "\n",
              "          const docLinkHtml = 'Like what you see? Visit the ' +\n",
              "            '<a target=\"_blank\" href=https://colab.research.google.com/notebooks/data_table.ipynb>data table notebook</a>'\n",
              "            + ' to learn more about interactive tables.';\n",
              "          element.innerHTML = '';\n",
              "          dataTable['output_type'] = 'display_data';\n",
              "          await google.colab.output.renderOutput(dataTable, element);\n",
              "          const docLink = document.createElement('div');\n",
              "          docLink.innerHTML = docLinkHtml;\n",
              "          element.appendChild(docLink);\n",
              "        }\n",
              "      </script>\n",
              "    </div>\n",
              "  </div>\n",
              "  "
            ]
          },
          "metadata": {},
          "execution_count": 120
        }
      ],
      "source": [
        "#Посчитала кол-во сообщений по месяцам для каждого пользователя\n",
        "sms_per_month = messages.groupby(['user_id', 'month']).agg(\n",
        "      sms_count = pd.NamedAgg(column = 'id', aggfunc = 'count')).reset_index()\n",
        "sms_per_month.sample(10)"
      ]
    },
    {
      "cell_type": "code",
      "execution_count": null,
      "metadata": {
        "colab": {
          "base_uri": "https://localhost:8080/",
          "height": 363
        },
        "id": "fZakqeU9RXuF",
        "outputId": "23d3b72e-2ba0-4d0b-8d31-362fa020e613"
      },
      "outputs": [
        {
          "output_type": "execute_result",
          "data": {
            "text/plain": [
              "      user_id  month  mb_count  gb_used\n",
              "2417     1381      4  28356.29       28\n",
              "1375     1216     11   5051.80        5\n",
              "19       1003     10  14768.14       15\n",
              "2929     1458      3  13313.08       14\n",
              "2409     1380      8  33044.80       33\n",
              "102      1014      7  27823.59       28\n",
              "2732     1427      5  11682.70       12\n",
              "1793     1284      8  14037.82       14\n",
              "2862     1449      9  12617.63       13\n",
              "2891     1453     11  24046.84       24"
            ],
            "text/html": [
              "\n",
              "  <div id=\"df-20ec798a-9767-43ee-ac49-af4acc902236\">\n",
              "    <div class=\"colab-df-container\">\n",
              "      <div>\n",
              "<style scoped>\n",
              "    .dataframe tbody tr th:only-of-type {\n",
              "        vertical-align: middle;\n",
              "    }\n",
              "\n",
              "    .dataframe tbody tr th {\n",
              "        vertical-align: top;\n",
              "    }\n",
              "\n",
              "    .dataframe thead th {\n",
              "        text-align: right;\n",
              "    }\n",
              "</style>\n",
              "<table border=\"1\" class=\"dataframe\">\n",
              "  <thead>\n",
              "    <tr style=\"text-align: right;\">\n",
              "      <th></th>\n",
              "      <th>user_id</th>\n",
              "      <th>month</th>\n",
              "      <th>mb_count</th>\n",
              "      <th>gb_used</th>\n",
              "    </tr>\n",
              "  </thead>\n",
              "  <tbody>\n",
              "    <tr>\n",
              "      <th>2417</th>\n",
              "      <td>1381</td>\n",
              "      <td>4</td>\n",
              "      <td>28356.29</td>\n",
              "      <td>28</td>\n",
              "    </tr>\n",
              "    <tr>\n",
              "      <th>1375</th>\n",
              "      <td>1216</td>\n",
              "      <td>11</td>\n",
              "      <td>5051.80</td>\n",
              "      <td>5</td>\n",
              "    </tr>\n",
              "    <tr>\n",
              "      <th>19</th>\n",
              "      <td>1003</td>\n",
              "      <td>10</td>\n",
              "      <td>14768.14</td>\n",
              "      <td>15</td>\n",
              "    </tr>\n",
              "    <tr>\n",
              "      <th>2929</th>\n",
              "      <td>1458</td>\n",
              "      <td>3</td>\n",
              "      <td>13313.08</td>\n",
              "      <td>14</td>\n",
              "    </tr>\n",
              "    <tr>\n",
              "      <th>2409</th>\n",
              "      <td>1380</td>\n",
              "      <td>8</td>\n",
              "      <td>33044.80</td>\n",
              "      <td>33</td>\n",
              "    </tr>\n",
              "    <tr>\n",
              "      <th>102</th>\n",
              "      <td>1014</td>\n",
              "      <td>7</td>\n",
              "      <td>27823.59</td>\n",
              "      <td>28</td>\n",
              "    </tr>\n",
              "    <tr>\n",
              "      <th>2732</th>\n",
              "      <td>1427</td>\n",
              "      <td>5</td>\n",
              "      <td>11682.70</td>\n",
              "      <td>12</td>\n",
              "    </tr>\n",
              "    <tr>\n",
              "      <th>1793</th>\n",
              "      <td>1284</td>\n",
              "      <td>8</td>\n",
              "      <td>14037.82</td>\n",
              "      <td>14</td>\n",
              "    </tr>\n",
              "    <tr>\n",
              "      <th>2862</th>\n",
              "      <td>1449</td>\n",
              "      <td>9</td>\n",
              "      <td>12617.63</td>\n",
              "      <td>13</td>\n",
              "    </tr>\n",
              "    <tr>\n",
              "      <th>2891</th>\n",
              "      <td>1453</td>\n",
              "      <td>11</td>\n",
              "      <td>24046.84</td>\n",
              "      <td>24</td>\n",
              "    </tr>\n",
              "  </tbody>\n",
              "</table>\n",
              "</div>\n",
              "      <button class=\"colab-df-convert\" onclick=\"convertToInteractive('df-20ec798a-9767-43ee-ac49-af4acc902236')\"\n",
              "              title=\"Convert this dataframe to an interactive table.\"\n",
              "              style=\"display:none;\">\n",
              "        \n",
              "  <svg xmlns=\"http://www.w3.org/2000/svg\" height=\"24px\"viewBox=\"0 0 24 24\"\n",
              "       width=\"24px\">\n",
              "    <path d=\"M0 0h24v24H0V0z\" fill=\"none\"/>\n",
              "    <path d=\"M18.56 5.44l.94 2.06.94-2.06 2.06-.94-2.06-.94-.94-2.06-.94 2.06-2.06.94zm-11 1L8.5 8.5l.94-2.06 2.06-.94-2.06-.94L8.5 2.5l-.94 2.06-2.06.94zm10 10l.94 2.06.94-2.06 2.06-.94-2.06-.94-.94-2.06-.94 2.06-2.06.94z\"/><path d=\"M17.41 7.96l-1.37-1.37c-.4-.4-.92-.59-1.43-.59-.52 0-1.04.2-1.43.59L10.3 9.45l-7.72 7.72c-.78.78-.78 2.05 0 2.83L4 21.41c.39.39.9.59 1.41.59.51 0 1.02-.2 1.41-.59l7.78-7.78 2.81-2.81c.8-.78.8-2.07 0-2.86zM5.41 20L4 18.59l7.72-7.72 1.47 1.35L5.41 20z\"/>\n",
              "  </svg>\n",
              "      </button>\n",
              "      \n",
              "  <style>\n",
              "    .colab-df-container {\n",
              "      display:flex;\n",
              "      flex-wrap:wrap;\n",
              "      gap: 12px;\n",
              "    }\n",
              "\n",
              "    .colab-df-convert {\n",
              "      background-color: #E8F0FE;\n",
              "      border: none;\n",
              "      border-radius: 50%;\n",
              "      cursor: pointer;\n",
              "      display: none;\n",
              "      fill: #1967D2;\n",
              "      height: 32px;\n",
              "      padding: 0 0 0 0;\n",
              "      width: 32px;\n",
              "    }\n",
              "\n",
              "    .colab-df-convert:hover {\n",
              "      background-color: #E2EBFA;\n",
              "      box-shadow: 0px 1px 2px rgba(60, 64, 67, 0.3), 0px 1px 3px 1px rgba(60, 64, 67, 0.15);\n",
              "      fill: #174EA6;\n",
              "    }\n",
              "\n",
              "    [theme=dark] .colab-df-convert {\n",
              "      background-color: #3B4455;\n",
              "      fill: #D2E3FC;\n",
              "    }\n",
              "\n",
              "    [theme=dark] .colab-df-convert:hover {\n",
              "      background-color: #434B5C;\n",
              "      box-shadow: 0px 1px 3px 1px rgba(0, 0, 0, 0.15);\n",
              "      filter: drop-shadow(0px 1px 2px rgba(0, 0, 0, 0.3));\n",
              "      fill: #FFFFFF;\n",
              "    }\n",
              "  </style>\n",
              "\n",
              "      <script>\n",
              "        const buttonEl =\n",
              "          document.querySelector('#df-20ec798a-9767-43ee-ac49-af4acc902236 button.colab-df-convert');\n",
              "        buttonEl.style.display =\n",
              "          google.colab.kernel.accessAllowed ? 'block' : 'none';\n",
              "\n",
              "        async function convertToInteractive(key) {\n",
              "          const element = document.querySelector('#df-20ec798a-9767-43ee-ac49-af4acc902236');\n",
              "          const dataTable =\n",
              "            await google.colab.kernel.invokeFunction('convertToInteractive',\n",
              "                                                     [key], {});\n",
              "          if (!dataTable) return;\n",
              "\n",
              "          const docLinkHtml = 'Like what you see? Visit the ' +\n",
              "            '<a target=\"_blank\" href=https://colab.research.google.com/notebooks/data_table.ipynb>data table notebook</a>'\n",
              "            + ' to learn more about interactive tables.';\n",
              "          element.innerHTML = '';\n",
              "          dataTable['output_type'] = 'display_data';\n",
              "          await google.colab.output.renderOutput(dataTable, element);\n",
              "          const docLink = document.createElement('div');\n",
              "          docLink.innerHTML = docLinkHtml;\n",
              "          element.appendChild(docLink);\n",
              "        }\n",
              "      </script>\n",
              "    </div>\n",
              "  </div>\n",
              "  "
            ]
          },
          "metadata": {},
          "execution_count": 121
        }
      ],
      "source": [
        "#Посчитала объем использованного интернет-трафика для каждого пользователя по месяцам\n",
        "internet_per_month = internet.groupby(['user_id', 'month']).agg(\n",
        "                mb_count = pd.NamedAgg(column = 'mb_used', aggfunc = 'sum')).reset_index()\n",
        "\n",
        "#Создала столбец для гигабайтов, который пригодится в дальнейшем\n",
        "internet_per_month['gb_used'] = np.ceil(internet_per_month['mb_count']/1024).astype('int')    \n",
        "\n",
        "internet_per_month.sample(10)"
      ]
    },
    {
      "cell_type": "markdown",
      "metadata": {
        "id": "YjNNqIwiRXuG"
      },
      "source": [
        "### Объединение таблиц"
      ]
    },
    {
      "cell_type": "code",
      "execution_count": null,
      "metadata": {
        "colab": {
          "base_uri": "https://localhost:8080/",
          "height": 81
        },
        "id": "6KPmWjg5RXuG",
        "outputId": "b99adc18-6017-47f0-f1a3-38ba40761cd9"
      },
      "outputs": [
        {
          "output_type": "execute_result",
          "data": {
            "text/plain": [
              "   user_id  month  calls_duration  calls_count  sms_count\n",
              "0     1000      5           159.0         22.0       22.0"
            ],
            "text/html": [
              "\n",
              "  <div id=\"df-037c74cf-2d43-4be8-a96e-a0df63dddad2\">\n",
              "    <div class=\"colab-df-container\">\n",
              "      <div>\n",
              "<style scoped>\n",
              "    .dataframe tbody tr th:only-of-type {\n",
              "        vertical-align: middle;\n",
              "    }\n",
              "\n",
              "    .dataframe tbody tr th {\n",
              "        vertical-align: top;\n",
              "    }\n",
              "\n",
              "    .dataframe thead th {\n",
              "        text-align: right;\n",
              "    }\n",
              "</style>\n",
              "<table border=\"1\" class=\"dataframe\">\n",
              "  <thead>\n",
              "    <tr style=\"text-align: right;\">\n",
              "      <th></th>\n",
              "      <th>user_id</th>\n",
              "      <th>month</th>\n",
              "      <th>calls_duration</th>\n",
              "      <th>calls_count</th>\n",
              "      <th>sms_count</th>\n",
              "    </tr>\n",
              "  </thead>\n",
              "  <tbody>\n",
              "    <tr>\n",
              "      <th>0</th>\n",
              "      <td>1000</td>\n",
              "      <td>5</td>\n",
              "      <td>159.0</td>\n",
              "      <td>22.0</td>\n",
              "      <td>22.0</td>\n",
              "    </tr>\n",
              "  </tbody>\n",
              "</table>\n",
              "</div>\n",
              "      <button class=\"colab-df-convert\" onclick=\"convertToInteractive('df-037c74cf-2d43-4be8-a96e-a0df63dddad2')\"\n",
              "              title=\"Convert this dataframe to an interactive table.\"\n",
              "              style=\"display:none;\">\n",
              "        \n",
              "  <svg xmlns=\"http://www.w3.org/2000/svg\" height=\"24px\"viewBox=\"0 0 24 24\"\n",
              "       width=\"24px\">\n",
              "    <path d=\"M0 0h24v24H0V0z\" fill=\"none\"/>\n",
              "    <path d=\"M18.56 5.44l.94 2.06.94-2.06 2.06-.94-2.06-.94-.94-2.06-.94 2.06-2.06.94zm-11 1L8.5 8.5l.94-2.06 2.06-.94-2.06-.94L8.5 2.5l-.94 2.06-2.06.94zm10 10l.94 2.06.94-2.06 2.06-.94-2.06-.94-.94-2.06-.94 2.06-2.06.94z\"/><path d=\"M17.41 7.96l-1.37-1.37c-.4-.4-.92-.59-1.43-.59-.52 0-1.04.2-1.43.59L10.3 9.45l-7.72 7.72c-.78.78-.78 2.05 0 2.83L4 21.41c.39.39.9.59 1.41.59.51 0 1.02-.2 1.41-.59l7.78-7.78 2.81-2.81c.8-.78.8-2.07 0-2.86zM5.41 20L4 18.59l7.72-7.72 1.47 1.35L5.41 20z\"/>\n",
              "  </svg>\n",
              "      </button>\n",
              "      \n",
              "  <style>\n",
              "    .colab-df-container {\n",
              "      display:flex;\n",
              "      flex-wrap:wrap;\n",
              "      gap: 12px;\n",
              "    }\n",
              "\n",
              "    .colab-df-convert {\n",
              "      background-color: #E8F0FE;\n",
              "      border: none;\n",
              "      border-radius: 50%;\n",
              "      cursor: pointer;\n",
              "      display: none;\n",
              "      fill: #1967D2;\n",
              "      height: 32px;\n",
              "      padding: 0 0 0 0;\n",
              "      width: 32px;\n",
              "    }\n",
              "\n",
              "    .colab-df-convert:hover {\n",
              "      background-color: #E2EBFA;\n",
              "      box-shadow: 0px 1px 2px rgba(60, 64, 67, 0.3), 0px 1px 3px 1px rgba(60, 64, 67, 0.15);\n",
              "      fill: #174EA6;\n",
              "    }\n",
              "\n",
              "    [theme=dark] .colab-df-convert {\n",
              "      background-color: #3B4455;\n",
              "      fill: #D2E3FC;\n",
              "    }\n",
              "\n",
              "    [theme=dark] .colab-df-convert:hover {\n",
              "      background-color: #434B5C;\n",
              "      box-shadow: 0px 1px 3px 1px rgba(0, 0, 0, 0.15);\n",
              "      filter: drop-shadow(0px 1px 2px rgba(0, 0, 0, 0.3));\n",
              "      fill: #FFFFFF;\n",
              "    }\n",
              "  </style>\n",
              "\n",
              "      <script>\n",
              "        const buttonEl =\n",
              "          document.querySelector('#df-037c74cf-2d43-4be8-a96e-a0df63dddad2 button.colab-df-convert');\n",
              "        buttonEl.style.display =\n",
              "          google.colab.kernel.accessAllowed ? 'block' : 'none';\n",
              "\n",
              "        async function convertToInteractive(key) {\n",
              "          const element = document.querySelector('#df-037c74cf-2d43-4be8-a96e-a0df63dddad2');\n",
              "          const dataTable =\n",
              "            await google.colab.kernel.invokeFunction('convertToInteractive',\n",
              "                                                     [key], {});\n",
              "          if (!dataTable) return;\n",
              "\n",
              "          const docLinkHtml = 'Like what you see? Visit the ' +\n",
              "            '<a target=\"_blank\" href=https://colab.research.google.com/notebooks/data_table.ipynb>data table notebook</a>'\n",
              "            + ' to learn more about interactive tables.';\n",
              "          element.innerHTML = '';\n",
              "          dataTable['output_type'] = 'display_data';\n",
              "          await google.colab.output.renderOutput(dataTable, element);\n",
              "          const docLink = document.createElement('div');\n",
              "          docLink.innerHTML = docLinkHtml;\n",
              "          element.appendChild(docLink);\n",
              "        }\n",
              "      </script>\n",
              "    </div>\n",
              "  </div>\n",
              "  "
            ]
          },
          "metadata": {},
          "execution_count": 122
        }
      ],
      "source": [
        "#Объединила звонки и смс\n",
        "df = call_per_month.merge(sms_per_month, how='outer', on=['user_id', 'month'])\n",
        "df.head(1)"
      ]
    },
    {
      "cell_type": "code",
      "execution_count": null,
      "metadata": {
        "colab": {
          "base_uri": "https://localhost:8080/",
          "height": 81
        },
        "id": "5opuzIf_RXuG",
        "outputId": "3353d6e6-25e7-465a-f7e0-4d782c56f893"
      },
      "outputs": [
        {
          "output_type": "execute_result",
          "data": {
            "text/plain": [
              "   user_id  month  calls_duration  calls_count  sms_count  mb_count  gb_used\n",
              "0     1000      5           159.0         22.0       22.0   2253.49      3.0"
            ],
            "text/html": [
              "\n",
              "  <div id=\"df-6d6c125d-5ca4-4c13-834c-b2f3a13f71b3\">\n",
              "    <div class=\"colab-df-container\">\n",
              "      <div>\n",
              "<style scoped>\n",
              "    .dataframe tbody tr th:only-of-type {\n",
              "        vertical-align: middle;\n",
              "    }\n",
              "\n",
              "    .dataframe tbody tr th {\n",
              "        vertical-align: top;\n",
              "    }\n",
              "\n",
              "    .dataframe thead th {\n",
              "        text-align: right;\n",
              "    }\n",
              "</style>\n",
              "<table border=\"1\" class=\"dataframe\">\n",
              "  <thead>\n",
              "    <tr style=\"text-align: right;\">\n",
              "      <th></th>\n",
              "      <th>user_id</th>\n",
              "      <th>month</th>\n",
              "      <th>calls_duration</th>\n",
              "      <th>calls_count</th>\n",
              "      <th>sms_count</th>\n",
              "      <th>mb_count</th>\n",
              "      <th>gb_used</th>\n",
              "    </tr>\n",
              "  </thead>\n",
              "  <tbody>\n",
              "    <tr>\n",
              "      <th>0</th>\n",
              "      <td>1000</td>\n",
              "      <td>5</td>\n",
              "      <td>159.0</td>\n",
              "      <td>22.0</td>\n",
              "      <td>22.0</td>\n",
              "      <td>2253.49</td>\n",
              "      <td>3.0</td>\n",
              "    </tr>\n",
              "  </tbody>\n",
              "</table>\n",
              "</div>\n",
              "      <button class=\"colab-df-convert\" onclick=\"convertToInteractive('df-6d6c125d-5ca4-4c13-834c-b2f3a13f71b3')\"\n",
              "              title=\"Convert this dataframe to an interactive table.\"\n",
              "              style=\"display:none;\">\n",
              "        \n",
              "  <svg xmlns=\"http://www.w3.org/2000/svg\" height=\"24px\"viewBox=\"0 0 24 24\"\n",
              "       width=\"24px\">\n",
              "    <path d=\"M0 0h24v24H0V0z\" fill=\"none\"/>\n",
              "    <path d=\"M18.56 5.44l.94 2.06.94-2.06 2.06-.94-2.06-.94-.94-2.06-.94 2.06-2.06.94zm-11 1L8.5 8.5l.94-2.06 2.06-.94-2.06-.94L8.5 2.5l-.94 2.06-2.06.94zm10 10l.94 2.06.94-2.06 2.06-.94-2.06-.94-.94-2.06-.94 2.06-2.06.94z\"/><path d=\"M17.41 7.96l-1.37-1.37c-.4-.4-.92-.59-1.43-.59-.52 0-1.04.2-1.43.59L10.3 9.45l-7.72 7.72c-.78.78-.78 2.05 0 2.83L4 21.41c.39.39.9.59 1.41.59.51 0 1.02-.2 1.41-.59l7.78-7.78 2.81-2.81c.8-.78.8-2.07 0-2.86zM5.41 20L4 18.59l7.72-7.72 1.47 1.35L5.41 20z\"/>\n",
              "  </svg>\n",
              "      </button>\n",
              "      \n",
              "  <style>\n",
              "    .colab-df-container {\n",
              "      display:flex;\n",
              "      flex-wrap:wrap;\n",
              "      gap: 12px;\n",
              "    }\n",
              "\n",
              "    .colab-df-convert {\n",
              "      background-color: #E8F0FE;\n",
              "      border: none;\n",
              "      border-radius: 50%;\n",
              "      cursor: pointer;\n",
              "      display: none;\n",
              "      fill: #1967D2;\n",
              "      height: 32px;\n",
              "      padding: 0 0 0 0;\n",
              "      width: 32px;\n",
              "    }\n",
              "\n",
              "    .colab-df-convert:hover {\n",
              "      background-color: #E2EBFA;\n",
              "      box-shadow: 0px 1px 2px rgba(60, 64, 67, 0.3), 0px 1px 3px 1px rgba(60, 64, 67, 0.15);\n",
              "      fill: #174EA6;\n",
              "    }\n",
              "\n",
              "    [theme=dark] .colab-df-convert {\n",
              "      background-color: #3B4455;\n",
              "      fill: #D2E3FC;\n",
              "    }\n",
              "\n",
              "    [theme=dark] .colab-df-convert:hover {\n",
              "      background-color: #434B5C;\n",
              "      box-shadow: 0px 1px 3px 1px rgba(0, 0, 0, 0.15);\n",
              "      filter: drop-shadow(0px 1px 2px rgba(0, 0, 0, 0.3));\n",
              "      fill: #FFFFFF;\n",
              "    }\n",
              "  </style>\n",
              "\n",
              "      <script>\n",
              "        const buttonEl =\n",
              "          document.querySelector('#df-6d6c125d-5ca4-4c13-834c-b2f3a13f71b3 button.colab-df-convert');\n",
              "        buttonEl.style.display =\n",
              "          google.colab.kernel.accessAllowed ? 'block' : 'none';\n",
              "\n",
              "        async function convertToInteractive(key) {\n",
              "          const element = document.querySelector('#df-6d6c125d-5ca4-4c13-834c-b2f3a13f71b3');\n",
              "          const dataTable =\n",
              "            await google.colab.kernel.invokeFunction('convertToInteractive',\n",
              "                                                     [key], {});\n",
              "          if (!dataTable) return;\n",
              "\n",
              "          const docLinkHtml = 'Like what you see? Visit the ' +\n",
              "            '<a target=\"_blank\" href=https://colab.research.google.com/notebooks/data_table.ipynb>data table notebook</a>'\n",
              "            + ' to learn more about interactive tables.';\n",
              "          element.innerHTML = '';\n",
              "          dataTable['output_type'] = 'display_data';\n",
              "          await google.colab.output.renderOutput(dataTable, element);\n",
              "          const docLink = document.createElement('div');\n",
              "          docLink.innerHTML = docLinkHtml;\n",
              "          element.appendChild(docLink);\n",
              "        }\n",
              "      </script>\n",
              "    </div>\n",
              "  </div>\n",
              "  "
            ]
          },
          "metadata": {},
          "execution_count": 123
        }
      ],
      "source": [
        "#Добавила интернет_трафик\n",
        "df = df.merge(internet_per_month, how='outer', on=['user_id', 'month'])\n",
        "df.head(1)"
      ]
    },
    {
      "cell_type": "code",
      "execution_count": null,
      "metadata": {
        "colab": {
          "base_uri": "https://localhost:8080/",
          "height": 81
        },
        "id": "viYqkEITRXuG",
        "outputId": "c2542059-6221-45fb-b0e1-a441146ccc56"
      },
      "outputs": [
        {
          "output_type": "execute_result",
          "data": {
            "text/plain": [
              "   user_id  month  calls_duration  calls_count  sms_count  mb_count  gb_used\n",
              "0     1000      5           159.0         22.0       22.0   2253.49      3.0"
            ],
            "text/html": [
              "\n",
              "  <div id=\"df-34f06145-f88b-456d-a1d1-9880ce2276ad\">\n",
              "    <div class=\"colab-df-container\">\n",
              "      <div>\n",
              "<style scoped>\n",
              "    .dataframe tbody tr th:only-of-type {\n",
              "        vertical-align: middle;\n",
              "    }\n",
              "\n",
              "    .dataframe tbody tr th {\n",
              "        vertical-align: top;\n",
              "    }\n",
              "\n",
              "    .dataframe thead th {\n",
              "        text-align: right;\n",
              "    }\n",
              "</style>\n",
              "<table border=\"1\" class=\"dataframe\">\n",
              "  <thead>\n",
              "    <tr style=\"text-align: right;\">\n",
              "      <th></th>\n",
              "      <th>user_id</th>\n",
              "      <th>month</th>\n",
              "      <th>calls_duration</th>\n",
              "      <th>calls_count</th>\n",
              "      <th>sms_count</th>\n",
              "      <th>mb_count</th>\n",
              "      <th>gb_used</th>\n",
              "    </tr>\n",
              "  </thead>\n",
              "  <tbody>\n",
              "    <tr>\n",
              "      <th>0</th>\n",
              "      <td>1000</td>\n",
              "      <td>5</td>\n",
              "      <td>159.0</td>\n",
              "      <td>22.0</td>\n",
              "      <td>22.0</td>\n",
              "      <td>2253.49</td>\n",
              "      <td>3.0</td>\n",
              "    </tr>\n",
              "  </tbody>\n",
              "</table>\n",
              "</div>\n",
              "      <button class=\"colab-df-convert\" onclick=\"convertToInteractive('df-34f06145-f88b-456d-a1d1-9880ce2276ad')\"\n",
              "              title=\"Convert this dataframe to an interactive table.\"\n",
              "              style=\"display:none;\">\n",
              "        \n",
              "  <svg xmlns=\"http://www.w3.org/2000/svg\" height=\"24px\"viewBox=\"0 0 24 24\"\n",
              "       width=\"24px\">\n",
              "    <path d=\"M0 0h24v24H0V0z\" fill=\"none\"/>\n",
              "    <path d=\"M18.56 5.44l.94 2.06.94-2.06 2.06-.94-2.06-.94-.94-2.06-.94 2.06-2.06.94zm-11 1L8.5 8.5l.94-2.06 2.06-.94-2.06-.94L8.5 2.5l-.94 2.06-2.06.94zm10 10l.94 2.06.94-2.06 2.06-.94-2.06-.94-.94-2.06-.94 2.06-2.06.94z\"/><path d=\"M17.41 7.96l-1.37-1.37c-.4-.4-.92-.59-1.43-.59-.52 0-1.04.2-1.43.59L10.3 9.45l-7.72 7.72c-.78.78-.78 2.05 0 2.83L4 21.41c.39.39.9.59 1.41.59.51 0 1.02-.2 1.41-.59l7.78-7.78 2.81-2.81c.8-.78.8-2.07 0-2.86zM5.41 20L4 18.59l7.72-7.72 1.47 1.35L5.41 20z\"/>\n",
              "  </svg>\n",
              "      </button>\n",
              "      \n",
              "  <style>\n",
              "    .colab-df-container {\n",
              "      display:flex;\n",
              "      flex-wrap:wrap;\n",
              "      gap: 12px;\n",
              "    }\n",
              "\n",
              "    .colab-df-convert {\n",
              "      background-color: #E8F0FE;\n",
              "      border: none;\n",
              "      border-radius: 50%;\n",
              "      cursor: pointer;\n",
              "      display: none;\n",
              "      fill: #1967D2;\n",
              "      height: 32px;\n",
              "      padding: 0 0 0 0;\n",
              "      width: 32px;\n",
              "    }\n",
              "\n",
              "    .colab-df-convert:hover {\n",
              "      background-color: #E2EBFA;\n",
              "      box-shadow: 0px 1px 2px rgba(60, 64, 67, 0.3), 0px 1px 3px 1px rgba(60, 64, 67, 0.15);\n",
              "      fill: #174EA6;\n",
              "    }\n",
              "\n",
              "    [theme=dark] .colab-df-convert {\n",
              "      background-color: #3B4455;\n",
              "      fill: #D2E3FC;\n",
              "    }\n",
              "\n",
              "    [theme=dark] .colab-df-convert:hover {\n",
              "      background-color: #434B5C;\n",
              "      box-shadow: 0px 1px 3px 1px rgba(0, 0, 0, 0.15);\n",
              "      filter: drop-shadow(0px 1px 2px rgba(0, 0, 0, 0.3));\n",
              "      fill: #FFFFFF;\n",
              "    }\n",
              "  </style>\n",
              "\n",
              "      <script>\n",
              "        const buttonEl =\n",
              "          document.querySelector('#df-34f06145-f88b-456d-a1d1-9880ce2276ad button.colab-df-convert');\n",
              "        buttonEl.style.display =\n",
              "          google.colab.kernel.accessAllowed ? 'block' : 'none';\n",
              "\n",
              "        async function convertToInteractive(key) {\n",
              "          const element = document.querySelector('#df-34f06145-f88b-456d-a1d1-9880ce2276ad');\n",
              "          const dataTable =\n",
              "            await google.colab.kernel.invokeFunction('convertToInteractive',\n",
              "                                                     [key], {});\n",
              "          if (!dataTable) return;\n",
              "\n",
              "          const docLinkHtml = 'Like what you see? Visit the ' +\n",
              "            '<a target=\"_blank\" href=https://colab.research.google.com/notebooks/data_table.ipynb>data table notebook</a>'\n",
              "            + ' to learn more about interactive tables.';\n",
              "          element.innerHTML = '';\n",
              "          dataTable['output_type'] = 'display_data';\n",
              "          await google.colab.output.renderOutput(dataTable, element);\n",
              "          const docLink = document.createElement('div');\n",
              "          docLink.innerHTML = docLinkHtml;\n",
              "          element.appendChild(docLink);\n",
              "        }\n",
              "      </script>\n",
              "    </div>\n",
              "  </div>\n",
              "  "
            ]
          },
          "metadata": {},
          "execution_count": 124
        }
      ],
      "source": [
        "#Заполнила пропуски нулями.\n",
        "df = df.fillna(0) \n",
        "\n",
        "df.head(1)"
      ]
    },
    {
      "cell_type": "code",
      "execution_count": null,
      "metadata": {
        "colab": {
          "base_uri": "https://localhost:8080/"
        },
        "id": "jSq668XXRXuG",
        "outputId": "422112a1-2cbe-4d68-d7a1-599d9be0c364"
      },
      "outputs": [
        {
          "output_type": "execute_result",
          "data": {
            "text/plain": [
              "498"
            ]
          },
          "metadata": {},
          "execution_count": 125
        }
      ],
      "source": [
        "df['user_id'].nunique()  #Не хватает  двух пользователей"
      ]
    },
    {
      "cell_type": "code",
      "execution_count": null,
      "metadata": {
        "colab": {
          "base_uri": "https://localhost:8080/",
          "height": 81
        },
        "id": "oaKCUluwRXuH",
        "outputId": "dc24a52b-5d15-41e8-e6d1-2562b3832596"
      },
      "outputs": [
        {
          "output_type": "execute_result",
          "data": {
            "text/plain": [
              "   user_id  month  calls_duration  calls_count  sms_count  mb_count  gb_used  \\\n",
              "0     1000    5.0           159.0         22.0       22.0   2253.49      3.0   \n",
              "\n",
              "  tariff       city  \n",
              "0  ultra  Краснодар  "
            ],
            "text/html": [
              "\n",
              "  <div id=\"df-bb9ccda2-7c16-49dd-9352-bab96ca234e8\">\n",
              "    <div class=\"colab-df-container\">\n",
              "      <div>\n",
              "<style scoped>\n",
              "    .dataframe tbody tr th:only-of-type {\n",
              "        vertical-align: middle;\n",
              "    }\n",
              "\n",
              "    .dataframe tbody tr th {\n",
              "        vertical-align: top;\n",
              "    }\n",
              "\n",
              "    .dataframe thead th {\n",
              "        text-align: right;\n",
              "    }\n",
              "</style>\n",
              "<table border=\"1\" class=\"dataframe\">\n",
              "  <thead>\n",
              "    <tr style=\"text-align: right;\">\n",
              "      <th></th>\n",
              "      <th>user_id</th>\n",
              "      <th>month</th>\n",
              "      <th>calls_duration</th>\n",
              "      <th>calls_count</th>\n",
              "      <th>sms_count</th>\n",
              "      <th>mb_count</th>\n",
              "      <th>gb_used</th>\n",
              "      <th>tariff</th>\n",
              "      <th>city</th>\n",
              "    </tr>\n",
              "  </thead>\n",
              "  <tbody>\n",
              "    <tr>\n",
              "      <th>0</th>\n",
              "      <td>1000</td>\n",
              "      <td>5.0</td>\n",
              "      <td>159.0</td>\n",
              "      <td>22.0</td>\n",
              "      <td>22.0</td>\n",
              "      <td>2253.49</td>\n",
              "      <td>3.0</td>\n",
              "      <td>ultra</td>\n",
              "      <td>Краснодар</td>\n",
              "    </tr>\n",
              "  </tbody>\n",
              "</table>\n",
              "</div>\n",
              "      <button class=\"colab-df-convert\" onclick=\"convertToInteractive('df-bb9ccda2-7c16-49dd-9352-bab96ca234e8')\"\n",
              "              title=\"Convert this dataframe to an interactive table.\"\n",
              "              style=\"display:none;\">\n",
              "        \n",
              "  <svg xmlns=\"http://www.w3.org/2000/svg\" height=\"24px\"viewBox=\"0 0 24 24\"\n",
              "       width=\"24px\">\n",
              "    <path d=\"M0 0h24v24H0V0z\" fill=\"none\"/>\n",
              "    <path d=\"M18.56 5.44l.94 2.06.94-2.06 2.06-.94-2.06-.94-.94-2.06-.94 2.06-2.06.94zm-11 1L8.5 8.5l.94-2.06 2.06-.94-2.06-.94L8.5 2.5l-.94 2.06-2.06.94zm10 10l.94 2.06.94-2.06 2.06-.94-2.06-.94-.94-2.06-.94 2.06-2.06.94z\"/><path d=\"M17.41 7.96l-1.37-1.37c-.4-.4-.92-.59-1.43-.59-.52 0-1.04.2-1.43.59L10.3 9.45l-7.72 7.72c-.78.78-.78 2.05 0 2.83L4 21.41c.39.39.9.59 1.41.59.51 0 1.02-.2 1.41-.59l7.78-7.78 2.81-2.81c.8-.78.8-2.07 0-2.86zM5.41 20L4 18.59l7.72-7.72 1.47 1.35L5.41 20z\"/>\n",
              "  </svg>\n",
              "      </button>\n",
              "      \n",
              "  <style>\n",
              "    .colab-df-container {\n",
              "      display:flex;\n",
              "      flex-wrap:wrap;\n",
              "      gap: 12px;\n",
              "    }\n",
              "\n",
              "    .colab-df-convert {\n",
              "      background-color: #E8F0FE;\n",
              "      border: none;\n",
              "      border-radius: 50%;\n",
              "      cursor: pointer;\n",
              "      display: none;\n",
              "      fill: #1967D2;\n",
              "      height: 32px;\n",
              "      padding: 0 0 0 0;\n",
              "      width: 32px;\n",
              "    }\n",
              "\n",
              "    .colab-df-convert:hover {\n",
              "      background-color: #E2EBFA;\n",
              "      box-shadow: 0px 1px 2px rgba(60, 64, 67, 0.3), 0px 1px 3px 1px rgba(60, 64, 67, 0.15);\n",
              "      fill: #174EA6;\n",
              "    }\n",
              "\n",
              "    [theme=dark] .colab-df-convert {\n",
              "      background-color: #3B4455;\n",
              "      fill: #D2E3FC;\n",
              "    }\n",
              "\n",
              "    [theme=dark] .colab-df-convert:hover {\n",
              "      background-color: #434B5C;\n",
              "      box-shadow: 0px 1px 3px 1px rgba(0, 0, 0, 0.15);\n",
              "      filter: drop-shadow(0px 1px 2px rgba(0, 0, 0, 0.3));\n",
              "      fill: #FFFFFF;\n",
              "    }\n",
              "  </style>\n",
              "\n",
              "      <script>\n",
              "        const buttonEl =\n",
              "          document.querySelector('#df-bb9ccda2-7c16-49dd-9352-bab96ca234e8 button.colab-df-convert');\n",
              "        buttonEl.style.display =\n",
              "          google.colab.kernel.accessAllowed ? 'block' : 'none';\n",
              "\n",
              "        async function convertToInteractive(key) {\n",
              "          const element = document.querySelector('#df-bb9ccda2-7c16-49dd-9352-bab96ca234e8');\n",
              "          const dataTable =\n",
              "            await google.colab.kernel.invokeFunction('convertToInteractive',\n",
              "                                                     [key], {});\n",
              "          if (!dataTable) return;\n",
              "\n",
              "          const docLinkHtml = 'Like what you see? Visit the ' +\n",
              "            '<a target=\"_blank\" href=https://colab.research.google.com/notebooks/data_table.ipynb>data table notebook</a>'\n",
              "            + ' to learn more about interactive tables.';\n",
              "          element.innerHTML = '';\n",
              "          dataTable['output_type'] = 'display_data';\n",
              "          await google.colab.output.renderOutput(dataTable, element);\n",
              "          const docLink = document.createElement('div');\n",
              "          docLink.innerHTML = docLinkHtml;\n",
              "          element.appendChild(docLink);\n",
              "        }\n",
              "      </script>\n",
              "    </div>\n",
              "  </div>\n",
              "  "
            ]
          },
          "metadata": {},
          "execution_count": 126
        }
      ],
      "source": [
        "#Объединила таблицы с users, так как мне нужны данные: кто каким  тарифом пользуется и города.\n",
        "df = df.merge(users[['user_id', 'tariff', 'city']], on='user_id', how='right')\n",
        "\n",
        "df.head(1)"
      ]
    },
    {
      "cell_type": "code",
      "execution_count": null,
      "metadata": {
        "colab": {
          "base_uri": "https://localhost:8080/",
          "height": 287
        },
        "id": "-r8ry2jPRXuH",
        "outputId": "bfde032e-a61f-4788-b4cb-9ddb0fe89ac9"
      },
      "outputs": [
        {
          "output_type": "execute_result",
          "data": {
            "text/plain": [
              "      user_id  month  calls_duration  calls_count  sms_count  mb_count  \\\n",
              "1938     1433    6.0           508.0         68.0      101.0  15385.68   \n",
              "1868     1423    4.0           224.0         29.0       46.0  16933.68   \n",
              "2425     1104    4.0           297.0         48.0       84.0  15696.86   \n",
              "718      1157    9.0           540.0         61.0        0.0  20207.38   \n",
              "678      1147   10.0           373.0         47.0       42.0  22329.16   \n",
              "\n",
              "      gb_used tariff          city  rub_monthly_fee  minutes_included  \\\n",
              "1938     16.0  smart      Подольск              550               500   \n",
              "1868     17.0  smart     Астрахань              550               500   \n",
              "2425     16.0  ultra  Нижний Тагил             1950              3000   \n",
              "718      20.0  smart        Москва              550               500   \n",
              "678      22.0  smart        Якутск              550               500   \n",
              "\n",
              "      messages_included  mb_per_month_included  rub_per_minute  \\\n",
              "1938                 50                  15360               3   \n",
              "1868                 50                  15360               3   \n",
              "2425               1000                  30720               1   \n",
              "718                  50                  15360               3   \n",
              "678                  50                  15360               3   \n",
              "\n",
              "      rub_per_message  rub_per_gb  \n",
              "1938                3         200  \n",
              "1868                3         200  \n",
              "2425                1         150  \n",
              "718                 3         200  \n",
              "678                 3         200  "
            ],
            "text/html": [
              "\n",
              "  <div id=\"df-6807ab0e-38fd-4107-8584-4b6e1df9e5c9\">\n",
              "    <div class=\"colab-df-container\">\n",
              "      <div>\n",
              "<style scoped>\n",
              "    .dataframe tbody tr th:only-of-type {\n",
              "        vertical-align: middle;\n",
              "    }\n",
              "\n",
              "    .dataframe tbody tr th {\n",
              "        vertical-align: top;\n",
              "    }\n",
              "\n",
              "    .dataframe thead th {\n",
              "        text-align: right;\n",
              "    }\n",
              "</style>\n",
              "<table border=\"1\" class=\"dataframe\">\n",
              "  <thead>\n",
              "    <tr style=\"text-align: right;\">\n",
              "      <th></th>\n",
              "      <th>user_id</th>\n",
              "      <th>month</th>\n",
              "      <th>calls_duration</th>\n",
              "      <th>calls_count</th>\n",
              "      <th>sms_count</th>\n",
              "      <th>mb_count</th>\n",
              "      <th>gb_used</th>\n",
              "      <th>tariff</th>\n",
              "      <th>city</th>\n",
              "      <th>rub_monthly_fee</th>\n",
              "      <th>minutes_included</th>\n",
              "      <th>messages_included</th>\n",
              "      <th>mb_per_month_included</th>\n",
              "      <th>rub_per_minute</th>\n",
              "      <th>rub_per_message</th>\n",
              "      <th>rub_per_gb</th>\n",
              "    </tr>\n",
              "  </thead>\n",
              "  <tbody>\n",
              "    <tr>\n",
              "      <th>1938</th>\n",
              "      <td>1433</td>\n",
              "      <td>6.0</td>\n",
              "      <td>508.0</td>\n",
              "      <td>68.0</td>\n",
              "      <td>101.0</td>\n",
              "      <td>15385.68</td>\n",
              "      <td>16.0</td>\n",
              "      <td>smart</td>\n",
              "      <td>Подольск</td>\n",
              "      <td>550</td>\n",
              "      <td>500</td>\n",
              "      <td>50</td>\n",
              "      <td>15360</td>\n",
              "      <td>3</td>\n",
              "      <td>3</td>\n",
              "      <td>200</td>\n",
              "    </tr>\n",
              "    <tr>\n",
              "      <th>1868</th>\n",
              "      <td>1423</td>\n",
              "      <td>4.0</td>\n",
              "      <td>224.0</td>\n",
              "      <td>29.0</td>\n",
              "      <td>46.0</td>\n",
              "      <td>16933.68</td>\n",
              "      <td>17.0</td>\n",
              "      <td>smart</td>\n",
              "      <td>Астрахань</td>\n",
              "      <td>550</td>\n",
              "      <td>500</td>\n",
              "      <td>50</td>\n",
              "      <td>15360</td>\n",
              "      <td>3</td>\n",
              "      <td>3</td>\n",
              "      <td>200</td>\n",
              "    </tr>\n",
              "    <tr>\n",
              "      <th>2425</th>\n",
              "      <td>1104</td>\n",
              "      <td>4.0</td>\n",
              "      <td>297.0</td>\n",
              "      <td>48.0</td>\n",
              "      <td>84.0</td>\n",
              "      <td>15696.86</td>\n",
              "      <td>16.0</td>\n",
              "      <td>ultra</td>\n",
              "      <td>Нижний Тагил</td>\n",
              "      <td>1950</td>\n",
              "      <td>3000</td>\n",
              "      <td>1000</td>\n",
              "      <td>30720</td>\n",
              "      <td>1</td>\n",
              "      <td>1</td>\n",
              "      <td>150</td>\n",
              "    </tr>\n",
              "    <tr>\n",
              "      <th>718</th>\n",
              "      <td>1157</td>\n",
              "      <td>9.0</td>\n",
              "      <td>540.0</td>\n",
              "      <td>61.0</td>\n",
              "      <td>0.0</td>\n",
              "      <td>20207.38</td>\n",
              "      <td>20.0</td>\n",
              "      <td>smart</td>\n",
              "      <td>Москва</td>\n",
              "      <td>550</td>\n",
              "      <td>500</td>\n",
              "      <td>50</td>\n",
              "      <td>15360</td>\n",
              "      <td>3</td>\n",
              "      <td>3</td>\n",
              "      <td>200</td>\n",
              "    </tr>\n",
              "    <tr>\n",
              "      <th>678</th>\n",
              "      <td>1147</td>\n",
              "      <td>10.0</td>\n",
              "      <td>373.0</td>\n",
              "      <td>47.0</td>\n",
              "      <td>42.0</td>\n",
              "      <td>22329.16</td>\n",
              "      <td>22.0</td>\n",
              "      <td>smart</td>\n",
              "      <td>Якутск</td>\n",
              "      <td>550</td>\n",
              "      <td>500</td>\n",
              "      <td>50</td>\n",
              "      <td>15360</td>\n",
              "      <td>3</td>\n",
              "      <td>3</td>\n",
              "      <td>200</td>\n",
              "    </tr>\n",
              "  </tbody>\n",
              "</table>\n",
              "</div>\n",
              "      <button class=\"colab-df-convert\" onclick=\"convertToInteractive('df-6807ab0e-38fd-4107-8584-4b6e1df9e5c9')\"\n",
              "              title=\"Convert this dataframe to an interactive table.\"\n",
              "              style=\"display:none;\">\n",
              "        \n",
              "  <svg xmlns=\"http://www.w3.org/2000/svg\" height=\"24px\"viewBox=\"0 0 24 24\"\n",
              "       width=\"24px\">\n",
              "    <path d=\"M0 0h24v24H0V0z\" fill=\"none\"/>\n",
              "    <path d=\"M18.56 5.44l.94 2.06.94-2.06 2.06-.94-2.06-.94-.94-2.06-.94 2.06-2.06.94zm-11 1L8.5 8.5l.94-2.06 2.06-.94-2.06-.94L8.5 2.5l-.94 2.06-2.06.94zm10 10l.94 2.06.94-2.06 2.06-.94-2.06-.94-.94-2.06-.94 2.06-2.06.94z\"/><path d=\"M17.41 7.96l-1.37-1.37c-.4-.4-.92-.59-1.43-.59-.52 0-1.04.2-1.43.59L10.3 9.45l-7.72 7.72c-.78.78-.78 2.05 0 2.83L4 21.41c.39.39.9.59 1.41.59.51 0 1.02-.2 1.41-.59l7.78-7.78 2.81-2.81c.8-.78.8-2.07 0-2.86zM5.41 20L4 18.59l7.72-7.72 1.47 1.35L5.41 20z\"/>\n",
              "  </svg>\n",
              "      </button>\n",
              "      \n",
              "  <style>\n",
              "    .colab-df-container {\n",
              "      display:flex;\n",
              "      flex-wrap:wrap;\n",
              "      gap: 12px;\n",
              "    }\n",
              "\n",
              "    .colab-df-convert {\n",
              "      background-color: #E8F0FE;\n",
              "      border: none;\n",
              "      border-radius: 50%;\n",
              "      cursor: pointer;\n",
              "      display: none;\n",
              "      fill: #1967D2;\n",
              "      height: 32px;\n",
              "      padding: 0 0 0 0;\n",
              "      width: 32px;\n",
              "    }\n",
              "\n",
              "    .colab-df-convert:hover {\n",
              "      background-color: #E2EBFA;\n",
              "      box-shadow: 0px 1px 2px rgba(60, 64, 67, 0.3), 0px 1px 3px 1px rgba(60, 64, 67, 0.15);\n",
              "      fill: #174EA6;\n",
              "    }\n",
              "\n",
              "    [theme=dark] .colab-df-convert {\n",
              "      background-color: #3B4455;\n",
              "      fill: #D2E3FC;\n",
              "    }\n",
              "\n",
              "    [theme=dark] .colab-df-convert:hover {\n",
              "      background-color: #434B5C;\n",
              "      box-shadow: 0px 1px 3px 1px rgba(0, 0, 0, 0.15);\n",
              "      filter: drop-shadow(0px 1px 2px rgba(0, 0, 0, 0.3));\n",
              "      fill: #FFFFFF;\n",
              "    }\n",
              "  </style>\n",
              "\n",
              "      <script>\n",
              "        const buttonEl =\n",
              "          document.querySelector('#df-6807ab0e-38fd-4107-8584-4b6e1df9e5c9 button.colab-df-convert');\n",
              "        buttonEl.style.display =\n",
              "          google.colab.kernel.accessAllowed ? 'block' : 'none';\n",
              "\n",
              "        async function convertToInteractive(key) {\n",
              "          const element = document.querySelector('#df-6807ab0e-38fd-4107-8584-4b6e1df9e5c9');\n",
              "          const dataTable =\n",
              "            await google.colab.kernel.invokeFunction('convertToInteractive',\n",
              "                                                     [key], {});\n",
              "          if (!dataTable) return;\n",
              "\n",
              "          const docLinkHtml = 'Like what you see? Visit the ' +\n",
              "            '<a target=\"_blank\" href=https://colab.research.google.com/notebooks/data_table.ipynb>data table notebook</a>'\n",
              "            + ' to learn more about interactive tables.';\n",
              "          element.innerHTML = '';\n",
              "          dataTable['output_type'] = 'display_data';\n",
              "          await google.colab.output.renderOutput(dataTable, element);\n",
              "          const docLink = document.createElement('div');\n",
              "          docLink.innerHTML = docLinkHtml;\n",
              "          element.appendChild(docLink);\n",
              "        }\n",
              "      </script>\n",
              "    </div>\n",
              "  </div>\n",
              "  "
            ]
          },
          "metadata": {},
          "execution_count": 127
        }
      ],
      "source": [
        "#Добавила информацию о тарифах для каждого пользователя. Это мне понадобится для дальнейшего анализа.\n",
        "df =  df.merge(tariffs[['tariff',\n",
        "    'rub_monthly_fee',\n",
        "    'minutes_included',\n",
        "    'messages_included',\n",
        "    'mb_per_month_included',\n",
        "    'rub_per_minute',\n",
        "    'rub_per_message',\n",
        "    'rub_per_gb']], on='tariff', how='right')\n",
        "df.sample(5)"
      ]
    },
    {
      "cell_type": "code",
      "execution_count": null,
      "metadata": {
        "id": "Wpo82zvhRXuH"
      },
      "outputs": [],
      "source": [
        "#Добавила столбец, который показывает сколько гигабайтов включено в тариф\n",
        "df['gb_per_month_included'] = (df['mb_per_month_included'] / 1024).astype('int')"
      ]
    },
    {
      "cell_type": "code",
      "execution_count": null,
      "metadata": {
        "colab": {
          "base_uri": "https://localhost:8080/"
        },
        "id": "bCqwl0mQRXuH",
        "outputId": "1efb844a-68c6-4560-8f87-13886339dec0"
      },
      "outputs": [
        {
          "output_type": "execute_result",
          "data": {
            "text/plain": [
              "500"
            ]
          },
          "metadata": {},
          "execution_count": 129
        }
      ],
      "source": [
        "len(df['user_id'].unique())   #Пользователей ровно 500 - значит таблица укомплектована корректно."
      ]
    },
    {
      "cell_type": "code",
      "execution_count": null,
      "metadata": {
        "colab": {
          "base_uri": "https://localhost:8080/"
        },
        "id": "fEB2s4gIRXuH",
        "outputId": "de2a30db-f1ee-4c39-b59e-48d4923e5e28"
      },
      "outputs": [
        {
          "output_type": "execute_result",
          "data": {
            "text/plain": [
              "user_id                  0\n",
              "month                    2\n",
              "calls_duration           2\n",
              "calls_count              2\n",
              "sms_count                2\n",
              "mb_count                 2\n",
              "gb_used                  2\n",
              "tariff                   0\n",
              "city                     0\n",
              "rub_monthly_fee          0\n",
              "minutes_included         0\n",
              "messages_included        0\n",
              "mb_per_month_included    0\n",
              "rub_per_minute           0\n",
              "rub_per_message          0\n",
              "rub_per_gb               0\n",
              "gb_per_month_included    0\n",
              "dtype: int64"
            ]
          },
          "metadata": {},
          "execution_count": 130
        }
      ],
      "source": [
        "#Проверяю новый датасет на пропуски\n",
        "df.isna().sum()"
      ]
    },
    {
      "cell_type": "code",
      "execution_count": null,
      "metadata": {
        "id": "mOxsdgOERXuI"
      },
      "outputs": [],
      "source": [
        "df['month'] = df['month'].fillna(12) #Пропущенные значения месяцев заменила на последний"
      ]
    },
    {
      "cell_type": "code",
      "execution_count": null,
      "metadata": {
        "id": "3klJJwxsRXuI"
      },
      "outputs": [],
      "source": [
        " #Пропущенные значения в звонках, сообщения и месяцах заменила на 0, потому что скорее всего, это просто не использованные тарифы\n",
        "df = df.fillna(0)  "
      ]
    },
    {
      "cell_type": "code",
      "execution_count": null,
      "metadata": {
        "colab": {
          "base_uri": "https://localhost:8080/"
        },
        "id": "R_xfeIM1RXuJ",
        "outputId": "b631aa63-3c62-42fb-a9a1-ea1062a1f0b1"
      },
      "outputs": [
        {
          "output_type": "execute_result",
          "data": {
            "text/plain": [
              "user_id                  0\n",
              "month                    0\n",
              "calls_duration           0\n",
              "calls_count              0\n",
              "sms_count                0\n",
              "mb_count                 0\n",
              "gb_used                  0\n",
              "tariff                   0\n",
              "city                     0\n",
              "rub_monthly_fee          0\n",
              "minutes_included         0\n",
              "messages_included        0\n",
              "mb_per_month_included    0\n",
              "rub_per_minute           0\n",
              "rub_per_message          0\n",
              "rub_per_gb               0\n",
              "gb_per_month_included    0\n",
              "dtype: int64"
            ]
          },
          "metadata": {},
          "execution_count": 133
        }
      ],
      "source": [
        "df.isna().sum() #перепроверила"
      ]
    },
    {
      "cell_type": "code",
      "execution_count": null,
      "metadata": {
        "colab": {
          "base_uri": "https://localhost:8080/",
          "height": 270
        },
        "id": "YnIorbiCRXuJ",
        "outputId": "11323bd2-1640-4d82-b42a-7d09669a4271"
      },
      "outputs": [
        {
          "output_type": "execute_result",
          "data": {
            "text/plain": [
              "   user_id  month  calls_duration  calls_count  sms_count  mb_count  gb_used  \\\n",
              "0     1001   11.0           430.0         59.0        0.0  18429.34     18.0   \n",
              "1     1001   12.0           414.0         63.0        0.0  14036.66     14.0   \n",
              "2     1002    6.0           117.0         15.0        4.0  10856.82     11.0   \n",
              "3     1002    7.0           214.0         26.0       11.0  17580.10     18.0   \n",
              "4     1002    8.0           289.0         42.0       13.0  20319.26     20.0   \n",
              "\n",
              "  tariff         city  rub_monthly_fee  minutes_included  messages_included  \\\n",
              "0  smart       Москва              550               500                 50   \n",
              "1  smart       Москва              550               500                 50   \n",
              "2  smart  Стерлитамак              550               500                 50   \n",
              "3  smart  Стерлитамак              550               500                 50   \n",
              "4  smart  Стерлитамак              550               500                 50   \n",
              "\n",
              "   mb_per_month_included  rub_per_minute  rub_per_message  rub_per_gb  \\\n",
              "0                  15360               3                3         200   \n",
              "1                  15360               3                3         200   \n",
              "2                  15360               3                3         200   \n",
              "3                  15360               3                3         200   \n",
              "4                  15360               3                3         200   \n",
              "\n",
              "   gb_per_month_included  \n",
              "0                     15  \n",
              "1                     15  \n",
              "2                     15  \n",
              "3                     15  \n",
              "4                     15  "
            ],
            "text/html": [
              "\n",
              "  <div id=\"df-8b6ccd2f-a77d-4961-adeb-6759825cedd6\">\n",
              "    <div class=\"colab-df-container\">\n",
              "      <div>\n",
              "<style scoped>\n",
              "    .dataframe tbody tr th:only-of-type {\n",
              "        vertical-align: middle;\n",
              "    }\n",
              "\n",
              "    .dataframe tbody tr th {\n",
              "        vertical-align: top;\n",
              "    }\n",
              "\n",
              "    .dataframe thead th {\n",
              "        text-align: right;\n",
              "    }\n",
              "</style>\n",
              "<table border=\"1\" class=\"dataframe\">\n",
              "  <thead>\n",
              "    <tr style=\"text-align: right;\">\n",
              "      <th></th>\n",
              "      <th>user_id</th>\n",
              "      <th>month</th>\n",
              "      <th>calls_duration</th>\n",
              "      <th>calls_count</th>\n",
              "      <th>sms_count</th>\n",
              "      <th>mb_count</th>\n",
              "      <th>gb_used</th>\n",
              "      <th>tariff</th>\n",
              "      <th>city</th>\n",
              "      <th>rub_monthly_fee</th>\n",
              "      <th>minutes_included</th>\n",
              "      <th>messages_included</th>\n",
              "      <th>mb_per_month_included</th>\n",
              "      <th>rub_per_minute</th>\n",
              "      <th>rub_per_message</th>\n",
              "      <th>rub_per_gb</th>\n",
              "      <th>gb_per_month_included</th>\n",
              "    </tr>\n",
              "  </thead>\n",
              "  <tbody>\n",
              "    <tr>\n",
              "      <th>0</th>\n",
              "      <td>1001</td>\n",
              "      <td>11.0</td>\n",
              "      <td>430.0</td>\n",
              "      <td>59.0</td>\n",
              "      <td>0.0</td>\n",
              "      <td>18429.34</td>\n",
              "      <td>18.0</td>\n",
              "      <td>smart</td>\n",
              "      <td>Москва</td>\n",
              "      <td>550</td>\n",
              "      <td>500</td>\n",
              "      <td>50</td>\n",
              "      <td>15360</td>\n",
              "      <td>3</td>\n",
              "      <td>3</td>\n",
              "      <td>200</td>\n",
              "      <td>15</td>\n",
              "    </tr>\n",
              "    <tr>\n",
              "      <th>1</th>\n",
              "      <td>1001</td>\n",
              "      <td>12.0</td>\n",
              "      <td>414.0</td>\n",
              "      <td>63.0</td>\n",
              "      <td>0.0</td>\n",
              "      <td>14036.66</td>\n",
              "      <td>14.0</td>\n",
              "      <td>smart</td>\n",
              "      <td>Москва</td>\n",
              "      <td>550</td>\n",
              "      <td>500</td>\n",
              "      <td>50</td>\n",
              "      <td>15360</td>\n",
              "      <td>3</td>\n",
              "      <td>3</td>\n",
              "      <td>200</td>\n",
              "      <td>15</td>\n",
              "    </tr>\n",
              "    <tr>\n",
              "      <th>2</th>\n",
              "      <td>1002</td>\n",
              "      <td>6.0</td>\n",
              "      <td>117.0</td>\n",
              "      <td>15.0</td>\n",
              "      <td>4.0</td>\n",
              "      <td>10856.82</td>\n",
              "      <td>11.0</td>\n",
              "      <td>smart</td>\n",
              "      <td>Стерлитамак</td>\n",
              "      <td>550</td>\n",
              "      <td>500</td>\n",
              "      <td>50</td>\n",
              "      <td>15360</td>\n",
              "      <td>3</td>\n",
              "      <td>3</td>\n",
              "      <td>200</td>\n",
              "      <td>15</td>\n",
              "    </tr>\n",
              "    <tr>\n",
              "      <th>3</th>\n",
              "      <td>1002</td>\n",
              "      <td>7.0</td>\n",
              "      <td>214.0</td>\n",
              "      <td>26.0</td>\n",
              "      <td>11.0</td>\n",
              "      <td>17580.10</td>\n",
              "      <td>18.0</td>\n",
              "      <td>smart</td>\n",
              "      <td>Стерлитамак</td>\n",
              "      <td>550</td>\n",
              "      <td>500</td>\n",
              "      <td>50</td>\n",
              "      <td>15360</td>\n",
              "      <td>3</td>\n",
              "      <td>3</td>\n",
              "      <td>200</td>\n",
              "      <td>15</td>\n",
              "    </tr>\n",
              "    <tr>\n",
              "      <th>4</th>\n",
              "      <td>1002</td>\n",
              "      <td>8.0</td>\n",
              "      <td>289.0</td>\n",
              "      <td>42.0</td>\n",
              "      <td>13.0</td>\n",
              "      <td>20319.26</td>\n",
              "      <td>20.0</td>\n",
              "      <td>smart</td>\n",
              "      <td>Стерлитамак</td>\n",
              "      <td>550</td>\n",
              "      <td>500</td>\n",
              "      <td>50</td>\n",
              "      <td>15360</td>\n",
              "      <td>3</td>\n",
              "      <td>3</td>\n",
              "      <td>200</td>\n",
              "      <td>15</td>\n",
              "    </tr>\n",
              "  </tbody>\n",
              "</table>\n",
              "</div>\n",
              "      <button class=\"colab-df-convert\" onclick=\"convertToInteractive('df-8b6ccd2f-a77d-4961-adeb-6759825cedd6')\"\n",
              "              title=\"Convert this dataframe to an interactive table.\"\n",
              "              style=\"display:none;\">\n",
              "        \n",
              "  <svg xmlns=\"http://www.w3.org/2000/svg\" height=\"24px\"viewBox=\"0 0 24 24\"\n",
              "       width=\"24px\">\n",
              "    <path d=\"M0 0h24v24H0V0z\" fill=\"none\"/>\n",
              "    <path d=\"M18.56 5.44l.94 2.06.94-2.06 2.06-.94-2.06-.94-.94-2.06-.94 2.06-2.06.94zm-11 1L8.5 8.5l.94-2.06 2.06-.94-2.06-.94L8.5 2.5l-.94 2.06-2.06.94zm10 10l.94 2.06.94-2.06 2.06-.94-2.06-.94-.94-2.06-.94 2.06-2.06.94z\"/><path d=\"M17.41 7.96l-1.37-1.37c-.4-.4-.92-.59-1.43-.59-.52 0-1.04.2-1.43.59L10.3 9.45l-7.72 7.72c-.78.78-.78 2.05 0 2.83L4 21.41c.39.39.9.59 1.41.59.51 0 1.02-.2 1.41-.59l7.78-7.78 2.81-2.81c.8-.78.8-2.07 0-2.86zM5.41 20L4 18.59l7.72-7.72 1.47 1.35L5.41 20z\"/>\n",
              "  </svg>\n",
              "      </button>\n",
              "      \n",
              "  <style>\n",
              "    .colab-df-container {\n",
              "      display:flex;\n",
              "      flex-wrap:wrap;\n",
              "      gap: 12px;\n",
              "    }\n",
              "\n",
              "    .colab-df-convert {\n",
              "      background-color: #E8F0FE;\n",
              "      border: none;\n",
              "      border-radius: 50%;\n",
              "      cursor: pointer;\n",
              "      display: none;\n",
              "      fill: #1967D2;\n",
              "      height: 32px;\n",
              "      padding: 0 0 0 0;\n",
              "      width: 32px;\n",
              "    }\n",
              "\n",
              "    .colab-df-convert:hover {\n",
              "      background-color: #E2EBFA;\n",
              "      box-shadow: 0px 1px 2px rgba(60, 64, 67, 0.3), 0px 1px 3px 1px rgba(60, 64, 67, 0.15);\n",
              "      fill: #174EA6;\n",
              "    }\n",
              "\n",
              "    [theme=dark] .colab-df-convert {\n",
              "      background-color: #3B4455;\n",
              "      fill: #D2E3FC;\n",
              "    }\n",
              "\n",
              "    [theme=dark] .colab-df-convert:hover {\n",
              "      background-color: #434B5C;\n",
              "      box-shadow: 0px 1px 3px 1px rgba(0, 0, 0, 0.15);\n",
              "      filter: drop-shadow(0px 1px 2px rgba(0, 0, 0, 0.3));\n",
              "      fill: #FFFFFF;\n",
              "    }\n",
              "  </style>\n",
              "\n",
              "      <script>\n",
              "        const buttonEl =\n",
              "          document.querySelector('#df-8b6ccd2f-a77d-4961-adeb-6759825cedd6 button.colab-df-convert');\n",
              "        buttonEl.style.display =\n",
              "          google.colab.kernel.accessAllowed ? 'block' : 'none';\n",
              "\n",
              "        async function convertToInteractive(key) {\n",
              "          const element = document.querySelector('#df-8b6ccd2f-a77d-4961-adeb-6759825cedd6');\n",
              "          const dataTable =\n",
              "            await google.colab.kernel.invokeFunction('convertToInteractive',\n",
              "                                                     [key], {});\n",
              "          if (!dataTable) return;\n",
              "\n",
              "          const docLinkHtml = 'Like what you see? Visit the ' +\n",
              "            '<a target=\"_blank\" href=https://colab.research.google.com/notebooks/data_table.ipynb>data table notebook</a>'\n",
              "            + ' to learn more about interactive tables.';\n",
              "          element.innerHTML = '';\n",
              "          dataTable['output_type'] = 'display_data';\n",
              "          await google.colab.output.renderOutput(dataTable, element);\n",
              "          const docLink = document.createElement('div');\n",
              "          docLink.innerHTML = docLinkHtml;\n",
              "          element.appendChild(docLink);\n",
              "        }\n",
              "      </script>\n",
              "    </div>\n",
              "  </div>\n",
              "  "
            ]
          },
          "metadata": {},
          "execution_count": 134
        }
      ],
      "source": [
        "df.head()  #Проверила как выглядит"
      ]
    },
    {
      "cell_type": "markdown",
      "metadata": {
        "id": "R_X7xE96RXuJ"
      },
      "source": [
        "### Вывод:"
      ]
    },
    {
      "cell_type": "markdown",
      "source": [
        "Получилась таблица, в которой я объединила данные с расчетами по месяцам для каждого пользователя, а также информация о тарифах для каждого пользователя. Эта таблица мне понадобится для дальнейшего анализа. Обнаружились пропуски в столбцах с смс, звонками, интернет-трафиком - предполагаю, что тарифом не пользовались, после подключения. Добавила колонку с гигабайтами включеными в тариф, т.к расчет выплаты по тарифу и сверх тарифа идет по гигабайтам, а не мегабайтам."
      ],
      "metadata": {
        "id": "t1RhcNO7T6Go"
      }
    },
    {
      "cell_type": "markdown",
      "metadata": {
        "id": "UKbTGfKZRXuJ"
      },
      "source": [
        "## Расчет выручки."
      ]
    },
    {
      "cell_type": "code",
      "execution_count": null,
      "metadata": {
        "id": "qxLMVxeSRXuK"
      },
      "outputs": [],
      "source": [
        "#Создала функцию для подсчета выручки:\n",
        "def proceeds(row):\n",
        "    fare = row.rub_monthly_fee\n",
        "    if (row.calls_duration > row.minutes_included):\n",
        "        fare += (row.calls_duration - row.minutes_included) * row.rub_per_minute\n",
        "    if (row.sms_count > row.messages_included):\n",
        "        fare += (row.sms_count - row.messages_included) * row.rub_per_message\n",
        "    if (row.gb_used > row.gb_per_month_included):\n",
        "        fare += (row.gb_used - row.gb_per_month_included) * row.rub_per_gb\n",
        "    return fare"
      ]
    },
    {
      "cell_type": "code",
      "execution_count": null,
      "metadata": {
        "id": "AjAGDgt6RXuK"
      },
      "outputs": [],
      "source": [
        "#Добавила колонку, в которой будет посчитана выручка с пользователя за месяц\n",
        "df['revenue'] = df.apply(proceeds, axis=1)"
      ]
    },
    {
      "cell_type": "code",
      "execution_count": null,
      "metadata": {
        "id": "hh1lD4xdRXuK"
      },
      "outputs": [],
      "source": [
        "#Поменяла типы данных на корректные\n",
        "df['month'] = df['month'].astype('int')\n",
        "df['calls_duration'] = df['calls_duration'].astype('int')\n",
        "df['sms_count'] = df['sms_count'].astype('int')\n",
        "df['mb_count'] = df['mb_count'].astype('int')\n",
        "df['gb_used'] = df['gb_used'].astype('int')\n",
        "df['calls_count'] = df['calls_count'].astype('int')"
      ]
    },
    {
      "cell_type": "code",
      "execution_count": null,
      "metadata": {
        "scrolled": true,
        "colab": {
          "base_uri": "https://localhost:8080/",
          "height": 444
        },
        "id": "Y9_obGjJRXuK",
        "outputId": "529512b1-66f1-4ff6-c921-d317c07adccc"
      },
      "outputs": [
        {
          "output_type": "execute_result",
          "data": {
            "text/plain": [
              "      user_id  month  calls_duration  calls_count  sms_count  mb_count  \\\n",
              "3167     1469      8             779          114          0     33038   \n",
              "2643     1240     11             383           53          0     32581   \n",
              "2512     1156     11             119           17          2      7041   \n",
              "2134     1480      9             305           58         19     13639   \n",
              "2192     1490     10             312           42         45     20664   \n",
              "1973     1441     12             182           23         38     26186   \n",
              "2332     1063      8             864          129          0     13866   \n",
              "1263     1278     12             663           85         64     22592   \n",
              "1821     1413     10             193           25          4     26911   \n",
              "666      1145     12             524           79        105     12405   \n",
              "\n",
              "      gb_used tariff              city  rub_monthly_fee  minutes_included  \\\n",
              "3167       33  ultra              Сочи             1950              3000   \n",
              "2643       32  ultra           Воронеж             1950              3000   \n",
              "2512        7  ultra  Набережные Челны             1950              3000   \n",
              "2134       14  smart       Новокузнецк              550               500   \n",
              "2192       21  smart            Москва              550               500   \n",
              "1973       26  smart            Самара              550               500   \n",
              "2332       14  ultra              Тула             1950              3000   \n",
              "1263       23  smart       Новокузнецк              550               500   \n",
              "1821       27  smart       Новосибирск              550               500   \n",
              "666        13  smart            Тюмень              550               500   \n",
              "\n",
              "      messages_included  mb_per_month_included  rub_per_minute  \\\n",
              "3167               1000                  30720               1   \n",
              "2643               1000                  30720               1   \n",
              "2512               1000                  30720               1   \n",
              "2134                 50                  15360               3   \n",
              "2192                 50                  15360               3   \n",
              "1973                 50                  15360               3   \n",
              "2332               1000                  30720               1   \n",
              "1263                 50                  15360               3   \n",
              "1821                 50                  15360               3   \n",
              "666                  50                  15360               3   \n",
              "\n",
              "      rub_per_message  rub_per_gb  gb_per_month_included  revenue  \n",
              "3167                1         150                     30   2400.0  \n",
              "2643                1         150                     30   2250.0  \n",
              "2512                1         150                     30   1950.0  \n",
              "2134                3         200                     15    550.0  \n",
              "2192                3         200                     15   1750.0  \n",
              "1973                3         200                     15   2750.0  \n",
              "2332                1         150                     30   1950.0  \n",
              "1263                3         200                     15   2681.0  \n",
              "1821                3         200                     15   2950.0  \n",
              "666                 3         200                     15    787.0  "
            ],
            "text/html": [
              "\n",
              "  <div id=\"df-d74ad39a-9db8-45c2-b5a6-bf1803460a7a\">\n",
              "    <div class=\"colab-df-container\">\n",
              "      <div>\n",
              "<style scoped>\n",
              "    .dataframe tbody tr th:only-of-type {\n",
              "        vertical-align: middle;\n",
              "    }\n",
              "\n",
              "    .dataframe tbody tr th {\n",
              "        vertical-align: top;\n",
              "    }\n",
              "\n",
              "    .dataframe thead th {\n",
              "        text-align: right;\n",
              "    }\n",
              "</style>\n",
              "<table border=\"1\" class=\"dataframe\">\n",
              "  <thead>\n",
              "    <tr style=\"text-align: right;\">\n",
              "      <th></th>\n",
              "      <th>user_id</th>\n",
              "      <th>month</th>\n",
              "      <th>calls_duration</th>\n",
              "      <th>calls_count</th>\n",
              "      <th>sms_count</th>\n",
              "      <th>mb_count</th>\n",
              "      <th>gb_used</th>\n",
              "      <th>tariff</th>\n",
              "      <th>city</th>\n",
              "      <th>rub_monthly_fee</th>\n",
              "      <th>minutes_included</th>\n",
              "      <th>messages_included</th>\n",
              "      <th>mb_per_month_included</th>\n",
              "      <th>rub_per_minute</th>\n",
              "      <th>rub_per_message</th>\n",
              "      <th>rub_per_gb</th>\n",
              "      <th>gb_per_month_included</th>\n",
              "      <th>revenue</th>\n",
              "    </tr>\n",
              "  </thead>\n",
              "  <tbody>\n",
              "    <tr>\n",
              "      <th>3167</th>\n",
              "      <td>1469</td>\n",
              "      <td>8</td>\n",
              "      <td>779</td>\n",
              "      <td>114</td>\n",
              "      <td>0</td>\n",
              "      <td>33038</td>\n",
              "      <td>33</td>\n",
              "      <td>ultra</td>\n",
              "      <td>Сочи</td>\n",
              "      <td>1950</td>\n",
              "      <td>3000</td>\n",
              "      <td>1000</td>\n",
              "      <td>30720</td>\n",
              "      <td>1</td>\n",
              "      <td>1</td>\n",
              "      <td>150</td>\n",
              "      <td>30</td>\n",
              "      <td>2400.0</td>\n",
              "    </tr>\n",
              "    <tr>\n",
              "      <th>2643</th>\n",
              "      <td>1240</td>\n",
              "      <td>11</td>\n",
              "      <td>383</td>\n",
              "      <td>53</td>\n",
              "      <td>0</td>\n",
              "      <td>32581</td>\n",
              "      <td>32</td>\n",
              "      <td>ultra</td>\n",
              "      <td>Воронеж</td>\n",
              "      <td>1950</td>\n",
              "      <td>3000</td>\n",
              "      <td>1000</td>\n",
              "      <td>30720</td>\n",
              "      <td>1</td>\n",
              "      <td>1</td>\n",
              "      <td>150</td>\n",
              "      <td>30</td>\n",
              "      <td>2250.0</td>\n",
              "    </tr>\n",
              "    <tr>\n",
              "      <th>2512</th>\n",
              "      <td>1156</td>\n",
              "      <td>11</td>\n",
              "      <td>119</td>\n",
              "      <td>17</td>\n",
              "      <td>2</td>\n",
              "      <td>7041</td>\n",
              "      <td>7</td>\n",
              "      <td>ultra</td>\n",
              "      <td>Набережные Челны</td>\n",
              "      <td>1950</td>\n",
              "      <td>3000</td>\n",
              "      <td>1000</td>\n",
              "      <td>30720</td>\n",
              "      <td>1</td>\n",
              "      <td>1</td>\n",
              "      <td>150</td>\n",
              "      <td>30</td>\n",
              "      <td>1950.0</td>\n",
              "    </tr>\n",
              "    <tr>\n",
              "      <th>2134</th>\n",
              "      <td>1480</td>\n",
              "      <td>9</td>\n",
              "      <td>305</td>\n",
              "      <td>58</td>\n",
              "      <td>19</td>\n",
              "      <td>13639</td>\n",
              "      <td>14</td>\n",
              "      <td>smart</td>\n",
              "      <td>Новокузнецк</td>\n",
              "      <td>550</td>\n",
              "      <td>500</td>\n",
              "      <td>50</td>\n",
              "      <td>15360</td>\n",
              "      <td>3</td>\n",
              "      <td>3</td>\n",
              "      <td>200</td>\n",
              "      <td>15</td>\n",
              "      <td>550.0</td>\n",
              "    </tr>\n",
              "    <tr>\n",
              "      <th>2192</th>\n",
              "      <td>1490</td>\n",
              "      <td>10</td>\n",
              "      <td>312</td>\n",
              "      <td>42</td>\n",
              "      <td>45</td>\n",
              "      <td>20664</td>\n",
              "      <td>21</td>\n",
              "      <td>smart</td>\n",
              "      <td>Москва</td>\n",
              "      <td>550</td>\n",
              "      <td>500</td>\n",
              "      <td>50</td>\n",
              "      <td>15360</td>\n",
              "      <td>3</td>\n",
              "      <td>3</td>\n",
              "      <td>200</td>\n",
              "      <td>15</td>\n",
              "      <td>1750.0</td>\n",
              "    </tr>\n",
              "    <tr>\n",
              "      <th>1973</th>\n",
              "      <td>1441</td>\n",
              "      <td>12</td>\n",
              "      <td>182</td>\n",
              "      <td>23</td>\n",
              "      <td>38</td>\n",
              "      <td>26186</td>\n",
              "      <td>26</td>\n",
              "      <td>smart</td>\n",
              "      <td>Самара</td>\n",
              "      <td>550</td>\n",
              "      <td>500</td>\n",
              "      <td>50</td>\n",
              "      <td>15360</td>\n",
              "      <td>3</td>\n",
              "      <td>3</td>\n",
              "      <td>200</td>\n",
              "      <td>15</td>\n",
              "      <td>2750.0</td>\n",
              "    </tr>\n",
              "    <tr>\n",
              "      <th>2332</th>\n",
              "      <td>1063</td>\n",
              "      <td>8</td>\n",
              "      <td>864</td>\n",
              "      <td>129</td>\n",
              "      <td>0</td>\n",
              "      <td>13866</td>\n",
              "      <td>14</td>\n",
              "      <td>ultra</td>\n",
              "      <td>Тула</td>\n",
              "      <td>1950</td>\n",
              "      <td>3000</td>\n",
              "      <td>1000</td>\n",
              "      <td>30720</td>\n",
              "      <td>1</td>\n",
              "      <td>1</td>\n",
              "      <td>150</td>\n",
              "      <td>30</td>\n",
              "      <td>1950.0</td>\n",
              "    </tr>\n",
              "    <tr>\n",
              "      <th>1263</th>\n",
              "      <td>1278</td>\n",
              "      <td>12</td>\n",
              "      <td>663</td>\n",
              "      <td>85</td>\n",
              "      <td>64</td>\n",
              "      <td>22592</td>\n",
              "      <td>23</td>\n",
              "      <td>smart</td>\n",
              "      <td>Новокузнецк</td>\n",
              "      <td>550</td>\n",
              "      <td>500</td>\n",
              "      <td>50</td>\n",
              "      <td>15360</td>\n",
              "      <td>3</td>\n",
              "      <td>3</td>\n",
              "      <td>200</td>\n",
              "      <td>15</td>\n",
              "      <td>2681.0</td>\n",
              "    </tr>\n",
              "    <tr>\n",
              "      <th>1821</th>\n",
              "      <td>1413</td>\n",
              "      <td>10</td>\n",
              "      <td>193</td>\n",
              "      <td>25</td>\n",
              "      <td>4</td>\n",
              "      <td>26911</td>\n",
              "      <td>27</td>\n",
              "      <td>smart</td>\n",
              "      <td>Новосибирск</td>\n",
              "      <td>550</td>\n",
              "      <td>500</td>\n",
              "      <td>50</td>\n",
              "      <td>15360</td>\n",
              "      <td>3</td>\n",
              "      <td>3</td>\n",
              "      <td>200</td>\n",
              "      <td>15</td>\n",
              "      <td>2950.0</td>\n",
              "    </tr>\n",
              "    <tr>\n",
              "      <th>666</th>\n",
              "      <td>1145</td>\n",
              "      <td>12</td>\n",
              "      <td>524</td>\n",
              "      <td>79</td>\n",
              "      <td>105</td>\n",
              "      <td>12405</td>\n",
              "      <td>13</td>\n",
              "      <td>smart</td>\n",
              "      <td>Тюмень</td>\n",
              "      <td>550</td>\n",
              "      <td>500</td>\n",
              "      <td>50</td>\n",
              "      <td>15360</td>\n",
              "      <td>3</td>\n",
              "      <td>3</td>\n",
              "      <td>200</td>\n",
              "      <td>15</td>\n",
              "      <td>787.0</td>\n",
              "    </tr>\n",
              "  </tbody>\n",
              "</table>\n",
              "</div>\n",
              "      <button class=\"colab-df-convert\" onclick=\"convertToInteractive('df-d74ad39a-9db8-45c2-b5a6-bf1803460a7a')\"\n",
              "              title=\"Convert this dataframe to an interactive table.\"\n",
              "              style=\"display:none;\">\n",
              "        \n",
              "  <svg xmlns=\"http://www.w3.org/2000/svg\" height=\"24px\"viewBox=\"0 0 24 24\"\n",
              "       width=\"24px\">\n",
              "    <path d=\"M0 0h24v24H0V0z\" fill=\"none\"/>\n",
              "    <path d=\"M18.56 5.44l.94 2.06.94-2.06 2.06-.94-2.06-.94-.94-2.06-.94 2.06-2.06.94zm-11 1L8.5 8.5l.94-2.06 2.06-.94-2.06-.94L8.5 2.5l-.94 2.06-2.06.94zm10 10l.94 2.06.94-2.06 2.06-.94-2.06-.94-.94-2.06-.94 2.06-2.06.94z\"/><path d=\"M17.41 7.96l-1.37-1.37c-.4-.4-.92-.59-1.43-.59-.52 0-1.04.2-1.43.59L10.3 9.45l-7.72 7.72c-.78.78-.78 2.05 0 2.83L4 21.41c.39.39.9.59 1.41.59.51 0 1.02-.2 1.41-.59l7.78-7.78 2.81-2.81c.8-.78.8-2.07 0-2.86zM5.41 20L4 18.59l7.72-7.72 1.47 1.35L5.41 20z\"/>\n",
              "  </svg>\n",
              "      </button>\n",
              "      \n",
              "  <style>\n",
              "    .colab-df-container {\n",
              "      display:flex;\n",
              "      flex-wrap:wrap;\n",
              "      gap: 12px;\n",
              "    }\n",
              "\n",
              "    .colab-df-convert {\n",
              "      background-color: #E8F0FE;\n",
              "      border: none;\n",
              "      border-radius: 50%;\n",
              "      cursor: pointer;\n",
              "      display: none;\n",
              "      fill: #1967D2;\n",
              "      height: 32px;\n",
              "      padding: 0 0 0 0;\n",
              "      width: 32px;\n",
              "    }\n",
              "\n",
              "    .colab-df-convert:hover {\n",
              "      background-color: #E2EBFA;\n",
              "      box-shadow: 0px 1px 2px rgba(60, 64, 67, 0.3), 0px 1px 3px 1px rgba(60, 64, 67, 0.15);\n",
              "      fill: #174EA6;\n",
              "    }\n",
              "\n",
              "    [theme=dark] .colab-df-convert {\n",
              "      background-color: #3B4455;\n",
              "      fill: #D2E3FC;\n",
              "    }\n",
              "\n",
              "    [theme=dark] .colab-df-convert:hover {\n",
              "      background-color: #434B5C;\n",
              "      box-shadow: 0px 1px 3px 1px rgba(0, 0, 0, 0.15);\n",
              "      filter: drop-shadow(0px 1px 2px rgba(0, 0, 0, 0.3));\n",
              "      fill: #FFFFFF;\n",
              "    }\n",
              "  </style>\n",
              "\n",
              "      <script>\n",
              "        const buttonEl =\n",
              "          document.querySelector('#df-d74ad39a-9db8-45c2-b5a6-bf1803460a7a button.colab-df-convert');\n",
              "        buttonEl.style.display =\n",
              "          google.colab.kernel.accessAllowed ? 'block' : 'none';\n",
              "\n",
              "        async function convertToInteractive(key) {\n",
              "          const element = document.querySelector('#df-d74ad39a-9db8-45c2-b5a6-bf1803460a7a');\n",
              "          const dataTable =\n",
              "            await google.colab.kernel.invokeFunction('convertToInteractive',\n",
              "                                                     [key], {});\n",
              "          if (!dataTable) return;\n",
              "\n",
              "          const docLinkHtml = 'Like what you see? Visit the ' +\n",
              "            '<a target=\"_blank\" href=https://colab.research.google.com/notebooks/data_table.ipynb>data table notebook</a>'\n",
              "            + ' to learn more about interactive tables.';\n",
              "          element.innerHTML = '';\n",
              "          dataTable['output_type'] = 'display_data';\n",
              "          await google.colab.output.renderOutput(dataTable, element);\n",
              "          const docLink = document.createElement('div');\n",
              "          docLink.innerHTML = docLinkHtml;\n",
              "          element.appendChild(docLink);\n",
              "        }\n",
              "      </script>\n",
              "    </div>\n",
              "  </div>\n",
              "  "
            ]
          },
          "metadata": {},
          "execution_count": 138
        }
      ],
      "source": [
        "df.sample(10)  #Проверила как выглядит"
      ]
    },
    {
      "cell_type": "code",
      "execution_count": null,
      "metadata": {
        "colab": {
          "base_uri": "https://localhost:8080/"
        },
        "id": "2xBZwlqrRXuL",
        "outputId": "409e0cec-4545-4792-fb39-b57367f313a7"
      },
      "outputs": [
        {
          "output_type": "stream",
          "name": "stdout",
          "text": [
            "<class 'pandas.core.frame.DataFrame'>\n",
            "Int64Index: 3216 entries, 0 to 3215\n",
            "Data columns (total 18 columns):\n",
            " #   Column                 Non-Null Count  Dtype  \n",
            "---  ------                 --------------  -----  \n",
            " 0   user_id                3216 non-null   int64  \n",
            " 1   month                  3216 non-null   int64  \n",
            " 2   calls_duration         3216 non-null   int64  \n",
            " 3   calls_count            3216 non-null   int64  \n",
            " 4   sms_count              3216 non-null   int64  \n",
            " 5   mb_count               3216 non-null   int64  \n",
            " 6   gb_used                3216 non-null   int64  \n",
            " 7   tariff                 3216 non-null   object \n",
            " 8   city                   3216 non-null   object \n",
            " 9   rub_monthly_fee        3216 non-null   int64  \n",
            " 10  minutes_included       3216 non-null   int64  \n",
            " 11  messages_included      3216 non-null   int64  \n",
            " 12  mb_per_month_included  3216 non-null   int64  \n",
            " 13  rub_per_minute         3216 non-null   int64  \n",
            " 14  rub_per_message        3216 non-null   int64  \n",
            " 15  rub_per_gb             3216 non-null   int64  \n",
            " 16  gb_per_month_included  3216 non-null   int64  \n",
            " 17  revenue                3216 non-null   float64\n",
            "dtypes: float64(1), int64(15), object(2)\n",
            "memory usage: 477.4+ KB\n"
          ]
        }
      ],
      "source": [
        "df.info()"
      ]
    },
    {
      "cell_type": "markdown",
      "metadata": {
        "id": "YEyzJRB4RXuL"
      },
      "source": [
        "### Вывод:"
      ]
    },
    {
      "cell_type": "markdown",
      "metadata": {
        "id": "x8_aLtQmRXuL"
      },
      "source": [
        "Учла подсчет перерасхода интернета - перевела мегабайты в гигабайты и округлила вверх. Тоже самое с минутами - округлила вверх.\n",
        "\n",
        "Расчеты произведены корректно. \n",
        "\n",
        "Пропуски устранены.\n",
        "\n",
        "Данные приведены к нужным типам. "
      ]
    },
    {
      "cell_type": "markdown",
      "metadata": {
        "id": "dYprNgYwRXuL"
      },
      "source": [
        "## Анализ данных"
      ]
    },
    {
      "cell_type": "code",
      "execution_count": null,
      "metadata": {
        "id": "75d_R54SRXuL"
      },
      "outputs": [],
      "source": [
        "#Пользователи тарифа Smart\n",
        "smart = df.query('tariff == \"smart\"')\n",
        "\n",
        "#Пользователи тарифа Ultra\n",
        "ultra = df.query('tariff == \"ultra\"')"
      ]
    },
    {
      "cell_type": "code",
      "execution_count": null,
      "metadata": {
        "colab": {
          "base_uri": "https://localhost:8080/",
          "height": 1000
        },
        "id": "1-rETHktRXuM",
        "outputId": "9a237cd3-7d3e-422d-889d-37a64ae19ea7"
      },
      "outputs": [
        {
          "output_type": "stream",
          "name": "stdout",
          "text": [
            "Сравнение тарифов СМАРТ и УЛЬТРА по звонкам\n"
          ]
        },
        {
          "output_type": "display_data",
          "data": {
            "text/plain": [
              "         count        mean         std  min    25%    50%     75%     max  \\\n",
              "tariff                                                                      \n",
              "smart   2230.0  417.747534  190.476754  0.0  282.0  421.5  545.00  1435.0   \n",
              "ultra    986.0  526.089249  317.887549  0.0  282.5  518.0  751.75  1673.0   \n",
              "\n",
              "                  var  \n",
              "tariff                 \n",
              "smart    36281.393836  \n",
              "ultra   101052.493549  "
            ],
            "text/html": [
              "\n",
              "  <div id=\"df-6461c8c0-abe1-460c-9a6a-ea96d962420d\">\n",
              "    <div class=\"colab-df-container\">\n",
              "      <div>\n",
              "<style scoped>\n",
              "    .dataframe tbody tr th:only-of-type {\n",
              "        vertical-align: middle;\n",
              "    }\n",
              "\n",
              "    .dataframe tbody tr th {\n",
              "        vertical-align: top;\n",
              "    }\n",
              "\n",
              "    .dataframe thead th {\n",
              "        text-align: right;\n",
              "    }\n",
              "</style>\n",
              "<table border=\"1\" class=\"dataframe\">\n",
              "  <thead>\n",
              "    <tr style=\"text-align: right;\">\n",
              "      <th></th>\n",
              "      <th>count</th>\n",
              "      <th>mean</th>\n",
              "      <th>std</th>\n",
              "      <th>min</th>\n",
              "      <th>25%</th>\n",
              "      <th>50%</th>\n",
              "      <th>75%</th>\n",
              "      <th>max</th>\n",
              "      <th>var</th>\n",
              "    </tr>\n",
              "    <tr>\n",
              "      <th>tariff</th>\n",
              "      <th></th>\n",
              "      <th></th>\n",
              "      <th></th>\n",
              "      <th></th>\n",
              "      <th></th>\n",
              "      <th></th>\n",
              "      <th></th>\n",
              "      <th></th>\n",
              "      <th></th>\n",
              "    </tr>\n",
              "  </thead>\n",
              "  <tbody>\n",
              "    <tr>\n",
              "      <th>smart</th>\n",
              "      <td>2230.0</td>\n",
              "      <td>417.747534</td>\n",
              "      <td>190.476754</td>\n",
              "      <td>0.0</td>\n",
              "      <td>282.0</td>\n",
              "      <td>421.5</td>\n",
              "      <td>545.00</td>\n",
              "      <td>1435.0</td>\n",
              "      <td>36281.393836</td>\n",
              "    </tr>\n",
              "    <tr>\n",
              "      <th>ultra</th>\n",
              "      <td>986.0</td>\n",
              "      <td>526.089249</td>\n",
              "      <td>317.887549</td>\n",
              "      <td>0.0</td>\n",
              "      <td>282.5</td>\n",
              "      <td>518.0</td>\n",
              "      <td>751.75</td>\n",
              "      <td>1673.0</td>\n",
              "      <td>101052.493549</td>\n",
              "    </tr>\n",
              "  </tbody>\n",
              "</table>\n",
              "</div>\n",
              "      <button class=\"colab-df-convert\" onclick=\"convertToInteractive('df-6461c8c0-abe1-460c-9a6a-ea96d962420d')\"\n",
              "              title=\"Convert this dataframe to an interactive table.\"\n",
              "              style=\"display:none;\">\n",
              "        \n",
              "  <svg xmlns=\"http://www.w3.org/2000/svg\" height=\"24px\"viewBox=\"0 0 24 24\"\n",
              "       width=\"24px\">\n",
              "    <path d=\"M0 0h24v24H0V0z\" fill=\"none\"/>\n",
              "    <path d=\"M18.56 5.44l.94 2.06.94-2.06 2.06-.94-2.06-.94-.94-2.06-.94 2.06-2.06.94zm-11 1L8.5 8.5l.94-2.06 2.06-.94-2.06-.94L8.5 2.5l-.94 2.06-2.06.94zm10 10l.94 2.06.94-2.06 2.06-.94-2.06-.94-.94-2.06-.94 2.06-2.06.94z\"/><path d=\"M17.41 7.96l-1.37-1.37c-.4-.4-.92-.59-1.43-.59-.52 0-1.04.2-1.43.59L10.3 9.45l-7.72 7.72c-.78.78-.78 2.05 0 2.83L4 21.41c.39.39.9.59 1.41.59.51 0 1.02-.2 1.41-.59l7.78-7.78 2.81-2.81c.8-.78.8-2.07 0-2.86zM5.41 20L4 18.59l7.72-7.72 1.47 1.35L5.41 20z\"/>\n",
              "  </svg>\n",
              "      </button>\n",
              "      \n",
              "  <style>\n",
              "    .colab-df-container {\n",
              "      display:flex;\n",
              "      flex-wrap:wrap;\n",
              "      gap: 12px;\n",
              "    }\n",
              "\n",
              "    .colab-df-convert {\n",
              "      background-color: #E8F0FE;\n",
              "      border: none;\n",
              "      border-radius: 50%;\n",
              "      cursor: pointer;\n",
              "      display: none;\n",
              "      fill: #1967D2;\n",
              "      height: 32px;\n",
              "      padding: 0 0 0 0;\n",
              "      width: 32px;\n",
              "    }\n",
              "\n",
              "    .colab-df-convert:hover {\n",
              "      background-color: #E2EBFA;\n",
              "      box-shadow: 0px 1px 2px rgba(60, 64, 67, 0.3), 0px 1px 3px 1px rgba(60, 64, 67, 0.15);\n",
              "      fill: #174EA6;\n",
              "    }\n",
              "\n",
              "    [theme=dark] .colab-df-convert {\n",
              "      background-color: #3B4455;\n",
              "      fill: #D2E3FC;\n",
              "    }\n",
              "\n",
              "    [theme=dark] .colab-df-convert:hover {\n",
              "      background-color: #434B5C;\n",
              "      box-shadow: 0px 1px 3px 1px rgba(0, 0, 0, 0.15);\n",
              "      filter: drop-shadow(0px 1px 2px rgba(0, 0, 0, 0.3));\n",
              "      fill: #FFFFFF;\n",
              "    }\n",
              "  </style>\n",
              "\n",
              "      <script>\n",
              "        const buttonEl =\n",
              "          document.querySelector('#df-6461c8c0-abe1-460c-9a6a-ea96d962420d button.colab-df-convert');\n",
              "        buttonEl.style.display =\n",
              "          google.colab.kernel.accessAllowed ? 'block' : 'none';\n",
              "\n",
              "        async function convertToInteractive(key) {\n",
              "          const element = document.querySelector('#df-6461c8c0-abe1-460c-9a6a-ea96d962420d');\n",
              "          const dataTable =\n",
              "            await google.colab.kernel.invokeFunction('convertToInteractive',\n",
              "                                                     [key], {});\n",
              "          if (!dataTable) return;\n",
              "\n",
              "          const docLinkHtml = 'Like what you see? Visit the ' +\n",
              "            '<a target=\"_blank\" href=https://colab.research.google.com/notebooks/data_table.ipynb>data table notebook</a>'\n",
              "            + ' to learn more about interactive tables.';\n",
              "          element.innerHTML = '';\n",
              "          dataTable['output_type'] = 'display_data';\n",
              "          await google.colab.output.renderOutput(dataTable, element);\n",
              "          const docLink = document.createElement('div');\n",
              "          docLink.innerHTML = docLinkHtml;\n",
              "          element.appendChild(docLink);\n",
              "        }\n",
              "      </script>\n",
              "    </div>\n",
              "  </div>\n",
              "  "
            ]
          },
          "metadata": {}
        },
        {
          "output_type": "execute_result",
          "data": {
            "text/plain": [
              "array([[<matplotlib.axes._subplots.AxesSubplot object at 0x7fd2ecdcab10>]],\n",
              "      dtype=object)"
            ]
          },
          "metadata": {},
          "execution_count": 141
        },
        {
          "output_type": "display_data",
          "data": {
            "text/plain": [
              "<Figure size 1512x432 with 2 Axes>"
            ],
            "image/png": "[encoded data removed]"
          },
          "metadata": {
            "needs_background": "light"
          }
        },
        {
          "output_type": "display_data",
          "data": {
            "text/plain": [
              "<Figure size 432x288 with 1 Axes>"
            ],
            "image/png": "[encoded data removed]"
          },
          "metadata": {
            "needs_background": "light"
          }
        },
        {
          "output_type": "display_data",
          "data": {
            "text/plain": [
              "<Figure size 432x288 with 1 Axes>"
            ],
            "image/png": "[encoded data removed]"
          },
          "metadata": {
            "needs_background": "light"
          }
        }
      ],
      "source": [
        "print('Сравнение тарифов СМАРТ и УЛЬТРА по звонкам')\n",
        "cd = df.groupby(df.tariff)['calls_duration']\n",
        "cd_tab=cd.describe()\n",
        "cd_tab['var'] = [np.var(cd.get_group('smart'), ddof=1), np.var(cd.get_group('ultra'), ddof=1)]\n",
        "display(cd_tab)\n",
        "\n",
        "fig = plt.figure(figsize=(21,6))\n",
        "smart.boxplot('calls_duration', ax=plt.subplot(1,2,1))\n",
        "ultra.boxplot('calls_duration', ax=plt.subplot(1,2,2))\n",
        "\n",
        "smart.hist('calls_duration', bins=50)\n",
        "ultra.hist('calls_duration', bins=50)"
      ]
    },
    {
      "cell_type": "markdown",
      "metadata": {
        "id": "QIxrd2a8RXuN"
      },
      "source": [
        "### Вывод между тарифами по сообщениям:"
      ]
    },
    {
      "cell_type": "markdown",
      "metadata": {
        "id": "DQ4y0cXVRXuN"
      },
      "source": [
        "1) У пользователей обоих тарифов наблюдается большой процент не использованных смс. Это можно объяснить, например, мессенджерами.\n",
        "\n",
        "2) Пользователи Смарт  часто выходят за рамки  лимита(50 смс)\n",
        "\n",
        "3) Пользователи Ультра напротив - не выходят за рамки лимита(1000 смс) и редко добираются даже до половины."
      ]
    },
    {
      "cell_type": "code",
      "execution_count": null,
      "metadata": {
        "colab": {
          "base_uri": "https://localhost:8080/",
          "height": 1000
        },
        "id": "Ua-4_bYqRXuO",
        "outputId": "a7e1b8fb-f437-47e8-9139-77a859edc2c1"
      },
      "outputs": [
        {
          "output_type": "stream",
          "name": "stdout",
          "text": [
            "Сравнение тарифов СМАРТ и УЛЬТРА по объему интеренет-трафика\n"
          ]
        },
        {
          "output_type": "display_data",
          "data": {
            "text/plain": [
              "         count       mean       std  min   25%   50%   75%   max        var\n",
              "tariff                                                                     \n",
              "smart   2230.0  16.321525  5.756167  0.0  13.0  17.0  20.0  38.0  33.133453\n",
              "ultra    986.0  19.474645  9.868057  0.0  12.0  19.0  27.0  49.0  97.378544"
            ],
            "text/html": [
              "\n",
              "  <div id=\"df-2a5bb10d-e2e7-42f1-bea8-f4e844772289\">\n",
              "    <div class=\"colab-df-container\">\n",
              "      <div>\n",
              "<style scoped>\n",
              "    .dataframe tbody tr th:only-of-type {\n",
              "        vertical-align: middle;\n",
              "    }\n",
              "\n",
              "    .dataframe tbody tr th {\n",
              "        vertical-align: top;\n",
              "    }\n",
              "\n",
              "    .dataframe thead th {\n",
              "        text-align: right;\n",
              "    }\n",
              "</style>\n",
              "<table border=\"1\" class=\"dataframe\">\n",
              "  <thead>\n",
              "    <tr style=\"text-align: right;\">\n",
              "      <th></th>\n",
              "      <th>count</th>\n",
              "      <th>mean</th>\n",
              "      <th>std</th>\n",
              "      <th>min</th>\n",
              "      <th>25%</th>\n",
              "      <th>50%</th>\n",
              "      <th>75%</th>\n",
              "      <th>max</th>\n",
              "      <th>var</th>\n",
              "    </tr>\n",
              "    <tr>\n",
              "      <th>tariff</th>\n",
              "      <th></th>\n",
              "      <th></th>\n",
              "      <th></th>\n",
              "      <th></th>\n",
              "      <th></th>\n",
              "      <th></th>\n",
              "      <th></th>\n",
              "      <th></th>\n",
              "      <th></th>\n",
              "    </tr>\n",
              "  </thead>\n",
              "  <tbody>\n",
              "    <tr>\n",
              "      <th>smart</th>\n",
              "      <td>2230.0</td>\n",
              "      <td>16.321525</td>\n",
              "      <td>5.756167</td>\n",
              "      <td>0.0</td>\n",
              "      <td>13.0</td>\n",
              "      <td>17.0</td>\n",
              "      <td>20.0</td>\n",
              "      <td>38.0</td>\n",
              "      <td>33.133453</td>\n",
              "    </tr>\n",
              "    <tr>\n",
              "      <th>ultra</th>\n",
              "      <td>986.0</td>\n",
              "      <td>19.474645</td>\n",
              "      <td>9.868057</td>\n",
              "      <td>0.0</td>\n",
              "      <td>12.0</td>\n",
              "      <td>19.0</td>\n",
              "      <td>27.0</td>\n",
              "      <td>49.0</td>\n",
              "      <td>97.378544</td>\n",
              "    </tr>\n",
              "  </tbody>\n",
              "</table>\n",
              "</div>\n",
              "      <button class=\"colab-df-convert\" onclick=\"convertToInteractive('df-2a5bb10d-e2e7-42f1-bea8-f4e844772289')\"\n",
              "              title=\"Convert this dataframe to an interactive table.\"\n",
              "              style=\"display:none;\">\n",
              "        \n",
              "  <svg xmlns=\"http://www.w3.org/2000/svg\" height=\"24px\"viewBox=\"0 0 24 24\"\n",
              "       width=\"24px\">\n",
              "    <path d=\"M0 0h24v24H0V0z\" fill=\"none\"/>\n",
              "    <path d=\"M18.56 5.44l.94 2.06.94-2.06 2.06-.94-2.06-.94-.94-2.06-.94 2.06-2.06.94zm-11 1L8.5 8.5l.94-2.06 2.06-.94-2.06-.94L8.5 2.5l-.94 2.06-2.06.94zm10 10l.94 2.06.94-2.06 2.06-.94-2.06-.94-.94-2.06-.94 2.06-2.06.94z\"/><path d=\"M17.41 7.96l-1.37-1.37c-.4-.4-.92-.59-1.43-.59-.52 0-1.04.2-1.43.59L10.3 9.45l-7.72 7.72c-.78.78-.78 2.05 0 2.83L4 21.41c.39.39.9.59 1.41.59.51 0 1.02-.2 1.41-.59l7.78-7.78 2.81-2.81c.8-.78.8-2.07 0-2.86zM5.41 20L4 18.59l7.72-7.72 1.47 1.35L5.41 20z\"/>\n",
              "  </svg>\n",
              "      </button>\n",
              "      \n",
              "  <style>\n",
              "    .colab-df-container {\n",
              "      display:flex;\n",
              "      flex-wrap:wrap;\n",
              "      gap: 12px;\n",
              "    }\n",
              "\n",
              "    .colab-df-convert {\n",
              "      background-color: #E8F0FE;\n",
              "      border: none;\n",
              "      border-radius: 50%;\n",
              "      cursor: pointer;\n",
              "      display: none;\n",
              "      fill: #1967D2;\n",
              "      height: 32px;\n",
              "      padding: 0 0 0 0;\n",
              "      width: 32px;\n",
              "    }\n",
              "\n",
              "    .colab-df-convert:hover {\n",
              "      background-color: #E2EBFA;\n",
              "      box-shadow: 0px 1px 2px rgba(60, 64, 67, 0.3), 0px 1px 3px 1px rgba(60, 64, 67, 0.15);\n",
              "      fill: #174EA6;\n",
              "    }\n",
              "\n",
              "    [theme=dark] .colab-df-convert {\n",
              "      background-color: #3B4455;\n",
              "      fill: #D2E3FC;\n",
              "    }\n",
              "\n",
              "    [theme=dark] .colab-df-convert:hover {\n",
              "      background-color: #434B5C;\n",
              "      box-shadow: 0px 1px 3px 1px rgba(0, 0, 0, 0.15);\n",
              "      filter: drop-shadow(0px 1px 2px rgba(0, 0, 0, 0.3));\n",
              "      fill: #FFFFFF;\n",
              "    }\n",
              "  </style>\n",
              "\n",
              "      <script>\n",
              "        const buttonEl =\n",
              "          document.querySelector('#df-2a5bb10d-e2e7-42f1-bea8-f4e844772289 button.colab-df-convert');\n",
              "        buttonEl.style.display =\n",
              "          google.colab.kernel.accessAllowed ? 'block' : 'none';\n",
              "\n",
              "        async function convertToInteractive(key) {\n",
              "          const element = document.querySelector('#df-2a5bb10d-e2e7-42f1-bea8-f4e844772289');\n",
              "          const dataTable =\n",
              "            await google.colab.kernel.invokeFunction('convertToInteractive',\n",
              "                                                     [key], {});\n",
              "          if (!dataTable) return;\n",
              "\n",
              "          const docLinkHtml = 'Like what you see? Visit the ' +\n",
              "            '<a target=\"_blank\" href=https://colab.research.google.com/notebooks/data_table.ipynb>data table notebook</a>'\n",
              "            + ' to learn more about interactive tables.';\n",
              "          element.innerHTML = '';\n",
              "          dataTable['output_type'] = 'display_data';\n",
              "          await google.colab.output.renderOutput(dataTable, element);\n",
              "          const docLink = document.createElement('div');\n",
              "          docLink.innerHTML = docLinkHtml;\n",
              "          element.appendChild(docLink);\n",
              "        }\n",
              "      </script>\n",
              "    </div>\n",
              "  </div>\n",
              "  "
            ]
          },
          "metadata": {}
        },
        {
          "output_type": "execute_result",
          "data": {
            "text/plain": [
              "array([[<matplotlib.axes._subplots.AxesSubplot object at 0x7fd2ecad40d0>]],\n",
              "      dtype=object)"
            ]
          },
          "metadata": {},
          "execution_count": 142
        },
        {
          "output_type": "display_data",
          "data": {
            "text/plain": [
              "<Figure size 1512x432 with 2 Axes>"
            ],
            "image/png": "[encoded data removed]"
          },
          "metadata": {
            "needs_background": "light"
          }
        },
        {
          "output_type": "display_data",
          "data": {
            "text/plain": [
              "<Figure size 432x288 with 1 Axes>"
            ],
            "image/png": "[encoded data removed]"
          },
          "metadata": {
            "needs_background": "light"
          }
        },
        {
          "output_type": "display_data",
          "data": {
            "text/plain": [
              "<Figure size 432x288 with 1 Axes>"
            ],
            "image/png": "[encoded data removed]"
          },
          "metadata": {
            "needs_background": "light"
          }
        }
      ],
      "source": [
        "print('Сравнение тарифов СМАРТ и УЛЬТРА по объему интеренет-трафика')\n",
        "gb = df.groupby(df.tariff)['gb_used']\n",
        "gb_tab = gb.describe()\n",
        "gb_tab['var'] = [np.var(gb.get_group('smart'), ddof=1), np.var(gb.get_group('ultra'), ddof=1)]\n",
        "display(gb_tab)\n",
        "\n",
        "fig = plt.figure(figsize=(21,6))\n",
        "smart.boxplot('gb_used', ax=plt.subplot(1,2,1))\n",
        "ultra.boxplot('gb_used', ax=plt.subplot(1,2,2))\n",
        "\n",
        "smart.hist('gb_used', bins=30, range=(0, 50))\n",
        "ultra.hist('gb_used', bins=30, range=(0, 50))"
      ]
    },
    {
      "cell_type": "code",
      "execution_count": null,
      "metadata": {
        "colab": {
          "base_uri": "https://localhost:8080/"
        },
        "id": "2hEgxH7MRXuO",
        "outputId": "f2841fb0-e432-4610-b793-8a2ca859e580"
      },
      "outputs": [
        {
          "output_type": "stream",
          "name": "stdout",
          "text": [
            "Пользователи SMART:\n",
            "Используют в среднем минут: 417.747533632287\n",
            "Используют в среднем сообщений: 33.36905829596412\n",
            "Используют в среднем гигабайтов: 16.32152466367713\n",
            "Пользователи ULTRA:\n",
            "Используют в среднем минут: 526.0892494929006\n",
            "Используют в среднем сообщений: 49.31338742393509\n",
            "Используют в среднем гигабайтов: 19.474645030425965\n"
          ]
        }
      ],
      "source": [
        "print('Пользователи SMART:')\n",
        "print('Используют в среднем минут:', smart['calls_duration'].mean())\n",
        "print('Используют в среднем сообщений:', smart['sms_count'].mean())\n",
        "print('Используют в среднем гигабайтов:', smart['gb_used'].mean())\n",
        "\n",
        "print('Пользователи ULTRA:')\n",
        "print('Используют в среднем минут:', ultra['calls_duration'].mean())\n",
        "print('Используют в среднем сообщений:', ultra['sms_count'].mean())\n",
        "print('Используют в среднем гигабайтов:', ultra['gb_used'].mean())"
      ]
    },
    {
      "cell_type": "markdown",
      "metadata": {
        "id": "nH6B6MXwRXuO"
      },
      "source": [
        "### Вывод между тарифами по интернет-трафику:"
      ]
    },
    {
      "cell_type": "markdown",
      "metadata": {
        "id": "yzXoBaEnRXuO"
      },
      "source": [
        "1) Пользователи Смарт часто выходят из лимита по гигабайтам (15гб) и доплачивают за перерасход. Среднее равно 16 гб.\n",
        "\n",
        "2) Пользователи Ультра выходят из лимита реже.\n",
        "\n",
        "3) Кол-во неиспользованных гигабайтов присутсвует в обоих тарифах, но все же, этот процент значительно меньше, чем в ситуации с минутами и смс. Значит пользователям зачастую больше нужен интерент, чем смс и звонки. \n"
      ]
    },
    {
      "cell_type": "code",
      "execution_count": null,
      "metadata": {
        "colab": {
          "base_uri": "https://localhost:8080/"
        },
        "id": "JCtZQNGYRXuP",
        "outputId": "89a827be-7813-40ee-97f2-d15b263909e6"
      },
      "outputs": [
        {
          "output_type": "execute_result",
          "data": {
            "text/plain": [
              "tariff\n",
              "smart    2875901.0\n",
              "ultra    2041050.0\n",
              "Name: revenue, dtype: float64"
            ]
          },
          "metadata": {},
          "execution_count": 144
        }
      ],
      "source": [
        "#Общая выручка по тарифам\n",
        "revenue = df.groupby('tariff')['revenue'].sum()\n",
        "\n",
        "revenue"
      ]
    },
    {
      "cell_type": "code",
      "execution_count": null,
      "metadata": {
        "colab": {
          "base_uri": "https://localhost:8080/"
        },
        "id": "QJ0AsFfCRXuP",
        "outputId": "46c03380-275c-4381-bbc1-f2f9b0b23266"
      },
      "outputs": [
        {
          "output_type": "execute_result",
          "data": {
            "text/plain": [
              "tariff\n",
              "smart    1289.641704\n",
              "ultra    2070.030426\n",
              "Name: revenue, dtype: float64"
            ]
          },
          "metadata": {},
          "execution_count": 145
        }
      ],
      "source": [
        "revenue = df.groupby('tariff')['revenue'].mean()\n",
        "revenue"
      ]
    },
    {
      "cell_type": "markdown",
      "metadata": {
        "id": "eq-p_YPvRXuP"
      },
      "source": [
        "## Проверка гипотез."
      ]
    },
    {
      "cell_type": "markdown",
      "metadata": {
        "id": "zQdPVYADRXuP"
      },
      "source": [
        "**Первая нулевая гипотеза:**\n",
        "Средняя выручка пользователей тарифов \"Ультра\" И \"Смарт\" равны.\n",
        "\n",
        "\n",
        "**Альтернативная гипотеза:**\n",
        "Средняя выручка пользователей тарифов \"Ультра\" и \"Смарт\" различаются.\n"
      ]
    },
    {
      "cell_type": "code",
      "execution_count": null,
      "metadata": {
        "colab": {
          "base_uri": "https://localhost:8080/"
        },
        "id": "w7QpsWItRXuQ",
        "outputId": "d45bc63d-b301-4e24-96eb-45ce78b7e0cd"
      },
      "outputs": [
        {
          "output_type": "stream",
          "name": "stdout",
          "text": [
            "cреднее Smart:  1289.6417040358745\n",
            "cреднее Ultra:  2070.030425963489\n",
            "p-value: 8.081909555489933e-161\n",
            "Принимаем альтернативную гипотезу\n"
          ]
        }
      ],
      "source": [
        "sample_1 = smart['revenue']\n",
        "sample_2 = ultra['revenue']\n",
        "print('cреднее Smart: ', sample_1.mean())\n",
        "print('cреднее Ultra: ', sample_2.mean())\n",
        "\n",
        "\n",
        "results = st.ttest_ind(sample_1, sample_2)\n",
        "alpha = 0.05\n",
        "\n",
        "print('p-value:', results.pvalue)\n",
        "if results.pvalue < alpha:\n",
        "    print('Принимаем альтернативную гипотезу')\n",
        "else:\n",
        "    print('Не получилось отвергнуть нулевую гипотезу')"
      ]
    },
    {
      "cell_type": "markdown",
      "metadata": {
        "id": "hgJw3T0gRXuQ"
      },
      "source": [
        "### Вывод:"
      ]
    },
    {
      "cell_type": "markdown",
      "metadata": {
        "id": "duXo_v8qRXuQ"
      },
      "source": [
        "Можно сказать, что средняя выручка по двум тарифам различается.\n",
        "p-value меньше статистической значимости(5%), а это значит, что вероятность случайного совпадения средних наших выборок очень мала. Поэтому принимаем альтернативную гипотезу."
      ]
    },
    {
      "cell_type": "markdown",
      "metadata": {
        "id": "UEIIDNlPRXuQ"
      },
      "source": [
        "**Вторая нулевая гипотеза:**\n",
        "Средняя выручка пользователей из Москвы равна средней выручке пользователей из регионов.\n",
        "\n",
        "**Альтернативная гипотеза**\n",
        "Средня выручка пользователей из Москвы отличается от средней выручки пользователей из регионов."
      ]
    },
    {
      "cell_type": "code",
      "execution_count": null,
      "metadata": {
        "colab": {
          "base_uri": "https://localhost:8080/"
        },
        "id": "uFeZxcSkRXuR",
        "outputId": "bfe13a06-440b-4e8c-f208-4be2b6f6dd79"
      },
      "outputs": [
        {
          "output_type": "stream",
          "name": "stdout",
          "text": [
            "Средняя выручка по Москве: 1546.7135842880523\n",
            "Средняя выручка по регионам: 1524.7251439539348\n",
            "p-value: 0.5400751614511182\n",
            "Не получилось отвергнуть нулевую гипотезу\n"
          ]
        }
      ],
      "source": [
        "moscow = df.query('city == \"Москва\"')['revenue']\n",
        "others = df.query('city != \"Москва\"')['revenue']\n",
        "\n",
        "print('Средняя выручка по Москве:', moscow.mean())\n",
        "print('Средняя выручка по регионам:', others.mean())\n",
        "\n",
        "alpha = .05\n",
        "\n",
        "results = st.ttest_ind(moscow, others)\n",
        "\n",
        "print('p-value:', results.pvalue)\n",
        "if results.pvalue < alpha:\n",
        "    print('Принимаем альтернативную гипотезу')\n",
        "else:\n",
        "    print('Не получилось отвергнуть нулевую гипотезу')"
      ]
    },
    {
      "cell_type": "markdown",
      "metadata": {
        "id": "sIQGJmkaRXuR"
      },
      "source": [
        "### Вывод:"
      ]
    },
    {
      "cell_type": "markdown",
      "metadata": {
        "id": "TTFbMZ2kRXuR"
      },
      "source": [
        "Средняя выручка по Москве достаточно близка к среднему по другим городам. p-value говорит нам о том, что вероятность совпадения средних этих выборок достаточно существенная. Поэтому мы не можем отвергать нулевую гипотезу."
      ]
    },
    {
      "cell_type": "markdown",
      "metadata": {
        "id": "ZydgvdZ0RXuR"
      },
      "source": [
        "## Итоговый вывод:"
      ]
    },
    {
      "cell_type": "markdown",
      "metadata": {
        "id": "ouRs9cOvRXuS"
      },
      "source": [
        "1) Самым прибильным сегментом является интернет, в обоих тарифах.\n",
        "\n",
        "2) Пользователи Smart чаще не укладываются в лимиты и намного превышают их.\n",
        "\n",
        "3) Пользователи Ultra практически не превышают лимитов, кроме лимита интернета.\n",
        "\n",
        "4) В двух тарифах довольно много пользователей не пользуются отправкой сообщенийи и минутами разговора. И в обоих очень маленький процент людей не пользуется интернетом.\n",
        "\n",
        "5) Пользователи Ultra чаще всего не используют весь лимит по звонкам и сообщениям.\n",
        "\n",
        "6) Среднняя выручка выше у Ultra, хотя в выборке пользователей Ultra в 2 раза меньше, чем пользователей Smart.\n",
        "\n",
        "7) Разница в средней вырчки из Москвы и других регонов - незначительная.\n",
        "\n",
        "8) В целом,  больше выручки принес тариф Smart. Средняя выручка по тарифу Smart ~1289р, а по   тарифу Ultra ~2070.  Так что делаю вывод, что тариф Ultra выгоднее.\n",
        "\n",
        "**Рекомендации:**\n",
        "Стоит существенно сократить лимиты по сообщениям и минутам в тарифе Ultra. \n",
        "Увеличить лимит по интернету, т.к это самый используемый сегмент.\n",
        "Увеличить лимит по минутам в тарифе Smart.\n"
      ]
    }
  ],
  "metadata": {
    "ExecuteTimeLog": [
      {
        "duration": 509,
        "start_time": "2022-03-30T15:15:25.634Z"
      },
      {
        "duration": 4,
        "start_time": "2022-03-30T15:15:48.610Z"
      },
      {
        "duration": 4,
        "start_time": "2022-03-30T15:16:07.495Z"
      },
      {
        "duration": 5,
        "start_time": "2022-03-30T15:16:52.214Z"
      },
      {
        "duration": 593,
        "start_time": "2022-03-30T15:18:16.982Z"
      },
      {
        "duration": 3,
        "start_time": "2022-03-30T15:18:18.884Z"
      },
      {
        "duration": 197,
        "start_time": "2022-03-30T15:33:55.030Z"
      },
      {
        "duration": 170,
        "start_time": "2022-03-30T15:34:28.407Z"
      },
      {
        "duration": 122,
        "start_time": "2022-03-30T15:35:03.262Z"
      },
      {
        "duration": 19,
        "start_time": "2022-03-30T15:35:35.047Z"
      },
      {
        "duration": 30,
        "start_time": "2022-03-30T15:36:03.070Z"
      },
      {
        "duration": 56,
        "start_time": "2022-03-30T15:36:19.974Z"
      },
      {
        "duration": 23,
        "start_time": "2022-03-30T15:36:58.644Z"
      },
      {
        "duration": 48,
        "start_time": "2022-03-30T15:38:07.698Z"
      },
      {
        "duration": 30,
        "start_time": "2022-03-30T15:39:57.542Z"
      },
      {
        "duration": 31,
        "start_time": "2022-03-30T15:40:04.415Z"
      },
      {
        "duration": 15,
        "start_time": "2022-03-30T15:40:48.014Z"
      },
      {
        "duration": 28,
        "start_time": "2022-03-30T15:42:28.827Z"
      },
      {
        "duration": 12,
        "start_time": "2022-03-30T15:42:38.091Z"
      },
      {
        "duration": 15,
        "start_time": "2022-03-30T15:43:33.586Z"
      },
      {
        "duration": 16,
        "start_time": "2022-03-30T15:43:48.861Z"
      },
      {
        "duration": 15,
        "start_time": "2022-03-30T15:45:37.072Z"
      },
      {
        "duration": 11,
        "start_time": "2022-03-30T15:45:46.883Z"
      },
      {
        "duration": 12,
        "start_time": "2022-03-30T15:45:52.165Z"
      },
      {
        "duration": 27,
        "start_time": "2022-03-30T15:50:30.866Z"
      },
      {
        "duration": 9,
        "start_time": "2022-03-30T15:50:47.128Z"
      },
      {
        "duration": 23,
        "start_time": "2022-03-30T15:51:04.319Z"
      },
      {
        "duration": 18,
        "start_time": "2022-03-30T15:51:28.638Z"
      },
      {
        "duration": 20,
        "start_time": "2022-03-30T15:51:37.430Z"
      },
      {
        "duration": 19,
        "start_time": "2022-03-30T15:51:45.049Z"
      },
      {
        "duration": 8,
        "start_time": "2022-03-30T15:52:02.953Z"
      },
      {
        "duration": 4,
        "start_time": "2022-03-30T16:07:00.928Z"
      },
      {
        "duration": 536,
        "start_time": "2022-03-30T16:07:15.329Z"
      },
      {
        "duration": 491,
        "start_time": "2022-03-30T16:07:27.603Z"
      },
      {
        "duration": 35,
        "start_time": "2022-03-30T16:07:52.636Z"
      },
      {
        "duration": 62,
        "start_time": "2022-03-30T16:08:00.214Z"
      },
      {
        "duration": 40,
        "start_time": "2022-03-30T16:08:21.265Z"
      },
      {
        "duration": 54,
        "start_time": "2022-03-30T16:08:28.054Z"
      },
      {
        "duration": 32,
        "start_time": "2022-03-30T16:08:33.042Z"
      },
      {
        "duration": 28,
        "start_time": "2022-03-30T16:08:40.828Z"
      },
      {
        "duration": 22,
        "start_time": "2022-03-30T16:08:44.738Z"
      },
      {
        "duration": 58,
        "start_time": "2022-03-30T16:08:51.972Z"
      },
      {
        "duration": 56,
        "start_time": "2022-03-30T16:09:33.829Z"
      },
      {
        "duration": 716,
        "start_time": "2022-03-30T16:10:10.763Z"
      },
      {
        "duration": 5,
        "start_time": "2022-03-30T16:10:45.816Z"
      },
      {
        "duration": 8,
        "start_time": "2022-03-30T16:11:19.599Z"
      },
      {
        "duration": 21,
        "start_time": "2022-03-30T16:11:52.034Z"
      },
      {
        "duration": 26,
        "start_time": "2022-03-30T16:12:03.432Z"
      },
      {
        "duration": 32,
        "start_time": "2022-03-30T16:12:22.266Z"
      },
      {
        "duration": 8,
        "start_time": "2022-03-30T16:12:34.692Z"
      },
      {
        "duration": 152,
        "start_time": "2022-03-30T16:43:58.000Z"
      },
      {
        "duration": 115,
        "start_time": "2022-03-30T16:45:49.539Z"
      },
      {
        "duration": 50,
        "start_time": "2022-03-30T16:46:06.437Z"
      },
      {
        "duration": 14,
        "start_time": "2022-03-30T16:46:25.773Z"
      },
      {
        "duration": 42,
        "start_time": "2022-03-30T16:46:41.325Z"
      },
      {
        "duration": 15,
        "start_time": "2022-03-30T16:46:50.848Z"
      },
      {
        "duration": 249,
        "start_time": "2022-03-30T16:48:25.256Z"
      },
      {
        "duration": 239,
        "start_time": "2022-03-30T16:48:49.059Z"
      },
      {
        "duration": 23,
        "start_time": "2022-03-30T16:52:54.908Z"
      },
      {
        "duration": 27,
        "start_time": "2022-03-30T16:53:01.786Z"
      },
      {
        "duration": 356,
        "start_time": "2022-03-30T16:53:24.349Z"
      },
      {
        "duration": 357,
        "start_time": "2022-03-30T16:53:42.966Z"
      },
      {
        "duration": 256,
        "start_time": "2022-03-30T16:54:46.798Z"
      },
      {
        "duration": 250,
        "start_time": "2022-03-30T16:55:13.295Z"
      },
      {
        "duration": 42,
        "start_time": "2022-03-30T17:27:10.298Z"
      },
      {
        "duration": 1299,
        "start_time": "2022-03-30T17:27:20.177Z"
      },
      {
        "duration": 2,
        "start_time": "2022-03-30T17:27:21.481Z"
      },
      {
        "duration": 427,
        "start_time": "2022-03-30T17:27:21.484Z"
      },
      {
        "duration": 37,
        "start_time": "2022-03-30T17:27:21.913Z"
      },
      {
        "duration": 25,
        "start_time": "2022-03-30T17:27:21.952Z"
      },
      {
        "duration": 21,
        "start_time": "2022-03-30T17:27:21.978Z"
      },
      {
        "duration": 16,
        "start_time": "2022-03-30T17:27:22.000Z"
      },
      {
        "duration": 14,
        "start_time": "2022-03-30T17:27:22.017Z"
      },
      {
        "duration": 22,
        "start_time": "2022-03-30T17:27:22.032Z"
      },
      {
        "duration": 37,
        "start_time": "2022-03-30T17:27:22.056Z"
      },
      {
        "duration": 15,
        "start_time": "2022-03-30T17:27:22.095Z"
      },
      {
        "duration": 6,
        "start_time": "2022-03-30T17:27:24.867Z"
      },
      {
        "duration": 9,
        "start_time": "2022-03-30T17:27:24.874Z"
      },
      {
        "duration": 70,
        "start_time": "2022-03-30T17:27:24.884Z"
      },
      {
        "duration": 8,
        "start_time": "2022-03-30T17:27:24.955Z"
      },
      {
        "duration": 145,
        "start_time": "2022-03-30T17:27:26.599Z"
      },
      {
        "duration": 134,
        "start_time": "2022-03-30T17:27:27.619Z"
      },
      {
        "duration": 25,
        "start_time": "2022-03-30T17:27:28.661Z"
      },
      {
        "duration": 3927,
        "start_time": "2022-03-30T17:49:09.650Z"
      },
      {
        "duration": 40,
        "start_time": "2022-03-30T17:49:39.532Z"
      },
      {
        "duration": 86,
        "start_time": "2022-03-30T17:52:41.541Z"
      },
      {
        "duration": 10,
        "start_time": "2022-03-30T17:52:54.772Z"
      },
      {
        "duration": 91,
        "start_time": "2022-03-30T17:54:36.779Z"
      },
      {
        "duration": 9,
        "start_time": "2022-03-30T17:54:37.848Z"
      },
      {
        "duration": 135,
        "start_time": "2022-03-30T17:55:42.162Z"
      },
      {
        "duration": 151,
        "start_time": "2022-03-30T17:56:09.581Z"
      },
      {
        "duration": 128,
        "start_time": "2022-03-30T17:56:18.195Z"
      },
      {
        "duration": 162,
        "start_time": "2022-03-30T17:59:07.863Z"
      },
      {
        "duration": 188,
        "start_time": "2022-03-30T18:00:53.463Z"
      },
      {
        "duration": 9,
        "start_time": "2022-03-30T18:00:55.703Z"
      },
      {
        "duration": 124,
        "start_time": "2022-03-30T18:00:56.145Z"
      },
      {
        "duration": 134,
        "start_time": "2022-03-30T18:00:56.622Z"
      },
      {
        "duration": 24,
        "start_time": "2022-03-30T18:00:57.262Z"
      },
      {
        "duration": 87,
        "start_time": "2022-03-30T18:02:37.954Z"
      },
      {
        "duration": 33,
        "start_time": "2022-03-30T18:06:35.730Z"
      },
      {
        "duration": 82,
        "start_time": "2022-03-30T18:11:27.493Z"
      },
      {
        "duration": 9,
        "start_time": "2022-03-30T18:11:28.523Z"
      },
      {
        "duration": 129,
        "start_time": "2022-03-30T18:11:29.656Z"
      },
      {
        "duration": 27,
        "start_time": "2022-03-30T18:11:30.721Z"
      },
      {
        "duration": 38,
        "start_time": "2022-03-30T18:11:58.847Z"
      },
      {
        "duration": 9,
        "start_time": "2022-03-30T18:12:13.862Z"
      },
      {
        "duration": 200,
        "start_time": "2022-03-30T18:13:02.318Z"
      },
      {
        "duration": 150,
        "start_time": "2022-03-30T18:13:15.155Z"
      },
      {
        "duration": 15,
        "start_time": "2022-03-30T18:13:41.980Z"
      },
      {
        "duration": 141,
        "start_time": "2022-03-30T18:13:58.564Z"
      },
      {
        "duration": 139,
        "start_time": "2022-03-30T18:14:36.603Z"
      },
      {
        "duration": 206,
        "start_time": "2022-03-30T18:14:47.084Z"
      },
      {
        "duration": 153,
        "start_time": "2022-03-30T18:14:53.741Z"
      },
      {
        "duration": 77,
        "start_time": "2022-03-30T18:17:15.022Z"
      },
      {
        "duration": 18,
        "start_time": "2022-03-30T18:17:29.321Z"
      },
      {
        "duration": 14,
        "start_time": "2022-03-30T18:17:40.830Z"
      },
      {
        "duration": 9,
        "start_time": "2022-03-30T18:19:34.980Z"
      },
      {
        "duration": 3,
        "start_time": "2022-03-30T18:21:25.853Z"
      },
      {
        "duration": 7,
        "start_time": "2022-03-30T18:22:33.936Z"
      },
      {
        "duration": 11,
        "start_time": "2022-03-30T18:22:49.103Z"
      },
      {
        "duration": 11,
        "start_time": "2022-03-30T18:24:01.927Z"
      },
      {
        "duration": 11,
        "start_time": "2022-03-30T18:24:32.224Z"
      },
      {
        "duration": 132,
        "start_time": "2022-03-30T18:25:19.757Z"
      },
      {
        "duration": 140,
        "start_time": "2022-03-30T18:25:30.050Z"
      },
      {
        "duration": 606,
        "start_time": "2022-03-30T18:25:36.659Z"
      },
      {
        "duration": 442,
        "start_time": "2022-03-30T18:25:48.646Z"
      },
      {
        "duration": 214,
        "start_time": "2022-03-30T18:25:54.832Z"
      },
      {
        "duration": 170,
        "start_time": "2022-03-30T18:26:04.914Z"
      },
      {
        "duration": 177,
        "start_time": "2022-03-30T18:27:29.506Z"
      },
      {
        "duration": 175,
        "start_time": "2022-03-30T18:27:40.011Z"
      },
      {
        "duration": 177,
        "start_time": "2022-03-30T18:28:53.077Z"
      },
      {
        "duration": 15,
        "start_time": "2022-03-30T18:29:11.713Z"
      },
      {
        "duration": 129,
        "start_time": "2022-03-30T18:30:37.028Z"
      },
      {
        "duration": 234,
        "start_time": "2022-03-30T18:31:07.621Z"
      },
      {
        "duration": 11,
        "start_time": "2022-03-30T18:31:34.752Z"
      },
      {
        "duration": 7,
        "start_time": "2022-03-30T18:32:05.672Z"
      },
      {
        "duration": 18,
        "start_time": "2022-03-30T18:32:18.488Z"
      },
      {
        "duration": 6,
        "start_time": "2022-03-30T18:33:01.248Z"
      },
      {
        "duration": 1361,
        "start_time": "2022-03-30T18:44:22.429Z"
      },
      {
        "duration": 3,
        "start_time": "2022-03-30T18:44:23.792Z"
      },
      {
        "duration": 397,
        "start_time": "2022-03-30T18:44:23.797Z"
      },
      {
        "duration": 39,
        "start_time": "2022-03-30T18:44:24.197Z"
      },
      {
        "duration": 27,
        "start_time": "2022-03-30T18:44:24.238Z"
      },
      {
        "duration": 23,
        "start_time": "2022-03-30T18:44:24.267Z"
      },
      {
        "duration": 18,
        "start_time": "2022-03-30T18:44:24.292Z"
      },
      {
        "duration": 43,
        "start_time": "2022-03-30T18:44:24.312Z"
      },
      {
        "duration": 31,
        "start_time": "2022-03-30T18:44:24.356Z"
      },
      {
        "duration": 19,
        "start_time": "2022-03-30T18:44:24.390Z"
      },
      {
        "duration": 41,
        "start_time": "2022-03-30T18:44:24.411Z"
      },
      {
        "duration": 5,
        "start_time": "2022-03-30T18:44:24.454Z"
      },
      {
        "duration": 6,
        "start_time": "2022-03-30T18:44:24.480Z"
      },
      {
        "duration": 187,
        "start_time": "2022-03-30T18:44:25.128Z"
      },
      {
        "duration": 11,
        "start_time": "2022-03-30T18:44:25.317Z"
      },
      {
        "duration": 178,
        "start_time": "2022-03-30T18:44:25.471Z"
      },
      {
        "duration": 186,
        "start_time": "2022-03-30T18:44:25.652Z"
      },
      {
        "duration": 31,
        "start_time": "2022-03-30T18:44:25.841Z"
      },
      {
        "duration": 118,
        "start_time": "2022-03-30T18:44:26.595Z"
      },
      {
        "duration": 11,
        "start_time": "2022-03-30T18:44:26.810Z"
      },
      {
        "duration": 159,
        "start_time": "2022-03-30T18:44:27.598Z"
      },
      {
        "duration": 35,
        "start_time": "2022-03-30T18:44:27.760Z"
      },
      {
        "duration": 89,
        "start_time": "2022-03-30T18:44:29.018Z"
      },
      {
        "duration": 9,
        "start_time": "2022-03-30T18:44:29.183Z"
      },
      {
        "duration": 26,
        "start_time": "2022-03-30T18:44:29.372Z"
      },
      {
        "duration": 14,
        "start_time": "2022-03-30T18:44:31.017Z"
      },
      {
        "duration": 12,
        "start_time": "2022-03-30T18:44:31.236Z"
      },
      {
        "duration": 218,
        "start_time": "2022-03-30T18:44:33.184Z"
      },
      {
        "duration": 7,
        "start_time": "2022-03-30T18:44:33.404Z"
      },
      {
        "duration": 18,
        "start_time": "2022-03-30T18:44:33.608Z"
      },
      {
        "duration": 9,
        "start_time": "2022-03-30T18:45:30.056Z"
      },
      {
        "duration": 7,
        "start_time": "2022-03-30T18:45:58.326Z"
      },
      {
        "duration": 24,
        "start_time": "2022-03-30T18:45:58.745Z"
      },
      {
        "duration": 189,
        "start_time": "2022-03-30T18:47:48.851Z"
      },
      {
        "duration": 196,
        "start_time": "2022-03-30T18:48:00.029Z"
      },
      {
        "duration": 4,
        "start_time": "2022-03-30T18:49:34.698Z"
      },
      {
        "duration": 17,
        "start_time": "2022-03-30T18:50:48.525Z"
      },
      {
        "duration": 17,
        "start_time": "2022-03-30T18:50:50.551Z"
      },
      {
        "duration": 161,
        "start_time": "2022-03-30T18:51:06.955Z"
      },
      {
        "duration": 1156,
        "start_time": "2022-03-30T18:51:26.412Z"
      },
      {
        "duration": 1019,
        "start_time": "2022-03-30T18:51:38.341Z"
      },
      {
        "duration": 0,
        "start_time": "2022-03-30T18:51:39.362Z"
      },
      {
        "duration": 1061,
        "start_time": "2022-03-30T18:51:49.475Z"
      },
      {
        "duration": 13,
        "start_time": "2022-03-30T18:51:55.534Z"
      },
      {
        "duration": 163,
        "start_time": "2022-03-30T18:51:57.500Z"
      },
      {
        "duration": 3,
        "start_time": "2022-03-30T18:52:10.469Z"
      },
      {
        "duration": 3,
        "start_time": "2022-03-30T18:52:10.644Z"
      },
      {
        "duration": 404,
        "start_time": "2022-03-30T18:52:10.786Z"
      },
      {
        "duration": 35,
        "start_time": "2022-03-30T18:52:11.192Z"
      },
      {
        "duration": 41,
        "start_time": "2022-03-30T18:52:11.230Z"
      },
      {
        "duration": 26,
        "start_time": "2022-03-30T18:52:11.312Z"
      },
      {
        "duration": 21,
        "start_time": "2022-03-30T18:52:11.479Z"
      },
      {
        "duration": 18,
        "start_time": "2022-03-30T18:52:11.696Z"
      },
      {
        "duration": 23,
        "start_time": "2022-03-30T18:52:11.801Z"
      },
      {
        "duration": 16,
        "start_time": "2022-03-30T18:52:11.983Z"
      },
      {
        "duration": 23,
        "start_time": "2022-03-30T18:52:12.149Z"
      },
      {
        "duration": 89,
        "start_time": "2022-03-30T18:52:12.330Z"
      },
      {
        "duration": 8,
        "start_time": "2022-03-30T18:52:12.517Z"
      },
      {
        "duration": 199,
        "start_time": "2022-03-30T18:52:13.204Z"
      },
      {
        "duration": 10,
        "start_time": "2022-03-30T18:52:13.405Z"
      },
      {
        "duration": 159,
        "start_time": "2022-03-30T18:52:13.599Z"
      },
      {
        "duration": 220,
        "start_time": "2022-03-30T18:52:13.760Z"
      },
      {
        "duration": 29,
        "start_time": "2022-03-30T18:52:13.982Z"
      },
      {
        "duration": 115,
        "start_time": "2022-03-30T18:52:14.674Z"
      },
      {
        "duration": 11,
        "start_time": "2022-03-30T18:52:14.871Z"
      },
      {
        "duration": 179,
        "start_time": "2022-03-30T18:52:15.046Z"
      },
      {
        "duration": 33,
        "start_time": "2022-03-30T18:52:15.243Z"
      },
      {
        "duration": 109,
        "start_time": "2022-03-30T18:52:16.019Z"
      },
      {
        "duration": 15,
        "start_time": "2022-03-30T18:52:16.212Z"
      },
      {
        "duration": 33,
        "start_time": "2022-03-30T18:52:16.356Z"
      },
      {
        "duration": 15,
        "start_time": "2022-03-30T18:52:17.071Z"
      },
      {
        "duration": 13,
        "start_time": "2022-03-30T18:52:17.255Z"
      },
      {
        "duration": 168,
        "start_time": "2022-03-30T18:52:17.441Z"
      },
      {
        "duration": 7,
        "start_time": "2022-03-30T18:52:17.825Z"
      },
      {
        "duration": 8,
        "start_time": "2022-03-30T18:52:26.009Z"
      },
      {
        "duration": 18,
        "start_time": "2022-03-30T18:52:26.688Z"
      },
      {
        "duration": 459,
        "start_time": "2022-03-30T18:54:13.306Z"
      },
      {
        "duration": 12,
        "start_time": "2022-03-30T18:54:45.513Z"
      },
      {
        "duration": 15,
        "start_time": "2022-03-30T19:06:05.561Z"
      },
      {
        "duration": 11,
        "start_time": "2022-03-30T19:06:25.585Z"
      },
      {
        "duration": 4,
        "start_time": "2022-03-30T19:06:33.153Z"
      },
      {
        "duration": 3,
        "start_time": "2022-03-30T19:06:33.345Z"
      },
      {
        "duration": 369,
        "start_time": "2022-03-30T19:06:33.505Z"
      },
      {
        "duration": 31,
        "start_time": "2022-03-30T19:06:33.877Z"
      },
      {
        "duration": 28,
        "start_time": "2022-03-30T19:06:33.910Z"
      },
      {
        "duration": 36,
        "start_time": "2022-03-30T19:06:34.017Z"
      },
      {
        "duration": 31,
        "start_time": "2022-03-30T19:06:34.197Z"
      },
      {
        "duration": 18,
        "start_time": "2022-03-30T19:06:34.372Z"
      },
      {
        "duration": 21,
        "start_time": "2022-03-30T19:06:34.545Z"
      },
      {
        "duration": 15,
        "start_time": "2022-03-30T19:06:34.733Z"
      },
      {
        "duration": 18,
        "start_time": "2022-03-30T19:06:34.933Z"
      },
      {
        "duration": 7,
        "start_time": "2022-03-30T19:06:35.119Z"
      },
      {
        "duration": 7,
        "start_time": "2022-03-30T19:06:35.289Z"
      },
      {
        "duration": 182,
        "start_time": "2022-03-30T19:06:37.176Z"
      },
      {
        "duration": 10,
        "start_time": "2022-03-30T19:06:38.426Z"
      },
      {
        "duration": 165,
        "start_time": "2022-03-30T19:06:39.425Z"
      },
      {
        "duration": 10,
        "start_time": "2022-03-30T19:06:43.409Z"
      },
      {
        "duration": 164,
        "start_time": "2022-03-30T19:06:44.822Z"
      },
      {
        "duration": 46,
        "start_time": "2022-03-30T19:06:45.989Z"
      },
      {
        "duration": 10,
        "start_time": "2022-03-30T19:07:25.098Z"
      },
      {
        "duration": 10,
        "start_time": "2022-03-30T19:07:41.630Z"
      },
      {
        "duration": 140,
        "start_time": "2022-03-30T19:07:45.766Z"
      },
      {
        "duration": 381,
        "start_time": "2022-03-30T19:08:11.787Z"
      },
      {
        "duration": 9,
        "start_time": "2022-03-30T19:08:38.764Z"
      },
      {
        "duration": 11,
        "start_time": "2022-03-30T19:09:25.371Z"
      },
      {
        "duration": 7,
        "start_time": "2022-03-30T19:10:48.458Z"
      },
      {
        "duration": 13,
        "start_time": "2022-03-30T19:13:07.706Z"
      },
      {
        "duration": 16,
        "start_time": "2022-03-30T19:13:24.614Z"
      },
      {
        "duration": 31,
        "start_time": "2022-03-30T19:15:47.674Z"
      },
      {
        "duration": 16,
        "start_time": "2022-03-30T19:16:08.427Z"
      },
      {
        "duration": 20,
        "start_time": "2022-03-30T19:16:25.449Z"
      },
      {
        "duration": 31,
        "start_time": "2022-03-30T19:16:34.152Z"
      },
      {
        "duration": 656,
        "start_time": "2022-03-30T19:19:47.642Z"
      },
      {
        "duration": 48,
        "start_time": "2022-03-30T19:19:55.097Z"
      },
      {
        "duration": 10,
        "start_time": "2022-03-30T19:20:10.139Z"
      },
      {
        "duration": 7,
        "start_time": "2022-03-30T19:20:21.741Z"
      },
      {
        "duration": 13,
        "start_time": "2022-03-30T19:20:30.245Z"
      },
      {
        "duration": 38,
        "start_time": "2022-03-30T19:21:56.440Z"
      },
      {
        "duration": 43,
        "start_time": "2022-03-30T19:22:04.442Z"
      },
      {
        "duration": 32,
        "start_time": "2022-03-30T19:26:12.246Z"
      },
      {
        "duration": 26,
        "start_time": "2022-03-30T19:26:19.004Z"
      },
      {
        "duration": 23,
        "start_time": "2022-03-30T19:26:22.897Z"
      },
      {
        "duration": 17,
        "start_time": "2022-03-30T19:26:28.771Z"
      },
      {
        "duration": 14,
        "start_time": "2022-03-30T19:26:35.594Z"
      },
      {
        "duration": 14,
        "start_time": "2022-03-30T19:26:36.037Z"
      },
      {
        "duration": 15,
        "start_time": "2022-03-30T19:26:36.575Z"
      },
      {
        "duration": 20,
        "start_time": "2022-03-30T19:26:37.037Z"
      },
      {
        "duration": 6,
        "start_time": "2022-03-30T19:26:37.537Z"
      },
      {
        "duration": 8,
        "start_time": "2022-03-30T19:26:37.982Z"
      },
      {
        "duration": 164,
        "start_time": "2022-03-30T19:26:40.324Z"
      },
      {
        "duration": 9,
        "start_time": "2022-03-30T19:26:41.194Z"
      },
      {
        "duration": 175,
        "start_time": "2022-03-30T19:26:42.138Z"
      },
      {
        "duration": 44,
        "start_time": "2022-03-30T19:26:44.014Z"
      },
      {
        "duration": 37,
        "start_time": "2022-03-30T19:27:04.977Z"
      },
      {
        "duration": 96,
        "start_time": "2022-03-30T19:29:26.496Z"
      },
      {
        "duration": 96,
        "start_time": "2022-03-30T19:29:36.869Z"
      },
      {
        "duration": 86,
        "start_time": "2022-03-30T19:30:36.083Z"
      },
      {
        "duration": 98,
        "start_time": "2022-03-30T19:32:14.514Z"
      },
      {
        "duration": 36,
        "start_time": "2022-03-30T19:33:54.106Z"
      },
      {
        "duration": 10,
        "start_time": "2022-03-30T19:35:02.486Z"
      },
      {
        "duration": 138,
        "start_time": "2022-03-30T19:36:28.206Z"
      },
      {
        "duration": 141,
        "start_time": "2022-03-30T19:36:53.525Z"
      },
      {
        "duration": 14,
        "start_time": "2022-03-30T19:47:40.596Z"
      },
      {
        "duration": 10,
        "start_time": "2022-03-30T19:47:49.851Z"
      },
      {
        "duration": 36,
        "start_time": "2022-03-30T19:48:01.754Z"
      },
      {
        "duration": 36,
        "start_time": "2022-03-30T19:48:20.787Z"
      },
      {
        "duration": 35,
        "start_time": "2022-03-30T19:48:45.861Z"
      },
      {
        "duration": 38,
        "start_time": "2022-03-30T19:49:15.674Z"
      },
      {
        "duration": 35,
        "start_time": "2022-03-30T19:51:39.141Z"
      },
      {
        "duration": 12,
        "start_time": "2022-03-30T19:59:42.370Z"
      },
      {
        "duration": 13,
        "start_time": "2022-03-30T20:00:40.694Z"
      },
      {
        "duration": 13,
        "start_time": "2022-03-30T20:00:58.331Z"
      },
      {
        "duration": 3,
        "start_time": "2022-03-30T20:01:27.797Z"
      },
      {
        "duration": 2,
        "start_time": "2022-03-30T20:01:27.970Z"
      },
      {
        "duration": 367,
        "start_time": "2022-03-30T20:01:28.139Z"
      },
      {
        "duration": 33,
        "start_time": "2022-03-30T20:01:28.508Z"
      },
      {
        "duration": 29,
        "start_time": "2022-03-30T20:01:28.543Z"
      },
      {
        "duration": 25,
        "start_time": "2022-03-30T20:01:28.655Z"
      },
      {
        "duration": 20,
        "start_time": "2022-03-30T20:01:28.857Z"
      },
      {
        "duration": 17,
        "start_time": "2022-03-30T20:01:29.012Z"
      },
      {
        "duration": 21,
        "start_time": "2022-03-30T20:01:29.195Z"
      },
      {
        "duration": 16,
        "start_time": "2022-03-30T20:01:29.348Z"
      },
      {
        "duration": 18,
        "start_time": "2022-03-30T20:01:29.523Z"
      },
      {
        "duration": 6,
        "start_time": "2022-03-30T20:01:29.713Z"
      },
      {
        "duration": 6,
        "start_time": "2022-03-30T20:01:29.890Z"
      },
      {
        "duration": 180,
        "start_time": "2022-03-30T20:01:30.617Z"
      },
      {
        "duration": 49,
        "start_time": "2022-03-30T20:01:30.799Z"
      },
      {
        "duration": 12,
        "start_time": "2022-03-30T20:01:30.961Z"
      },
      {
        "duration": 155,
        "start_time": "2022-03-30T20:01:31.189Z"
      },
      {
        "duration": 37,
        "start_time": "2022-03-30T20:01:31.379Z"
      },
      {
        "duration": 122,
        "start_time": "2022-03-30T20:01:32.095Z"
      },
      {
        "duration": 38,
        "start_time": "2022-03-30T20:01:32.280Z"
      },
      {
        "duration": 11,
        "start_time": "2022-03-30T20:01:32.497Z"
      },
      {
        "duration": 160,
        "start_time": "2022-03-30T20:01:34.464Z"
      },
      {
        "duration": 85,
        "start_time": "2022-03-30T20:01:36.562Z"
      },
      {
        "duration": 10,
        "start_time": "2022-03-30T20:01:37.209Z"
      },
      {
        "duration": 21,
        "start_time": "2022-03-30T20:01:37.800Z"
      },
      {
        "duration": 25,
        "start_time": "2022-03-30T20:01:38.447Z"
      },
      {
        "duration": 26,
        "start_time": "2022-03-30T20:01:57.656Z"
      },
      {
        "duration": 25,
        "start_time": "2022-03-30T20:04:39.111Z"
      },
      {
        "duration": 34,
        "start_time": "2022-03-30T20:11:03.953Z"
      },
      {
        "duration": 31,
        "start_time": "2022-03-30T20:11:27.770Z"
      },
      {
        "duration": 31,
        "start_time": "2022-03-30T20:12:55.187Z"
      },
      {
        "duration": 33,
        "start_time": "2022-03-30T20:13:13.168Z"
      },
      {
        "duration": 15,
        "start_time": "2022-03-30T20:14:28.134Z"
      },
      {
        "duration": 37,
        "start_time": "2022-03-30T20:22:19.665Z"
      },
      {
        "duration": 38,
        "start_time": "2022-03-30T20:22:57.225Z"
      },
      {
        "duration": 27,
        "start_time": "2022-03-30T20:23:15.463Z"
      },
      {
        "duration": 43,
        "start_time": "2022-03-30T20:23:45.257Z"
      },
      {
        "duration": 263,
        "start_time": "2022-03-30T20:24:14.137Z"
      },
      {
        "duration": 54,
        "start_time": "2022-03-30T20:24:21.269Z"
      },
      {
        "duration": 10,
        "start_time": "2022-03-30T20:24:25.856Z"
      },
      {
        "duration": 4,
        "start_time": "2022-03-30T20:24:44.591Z"
      },
      {
        "duration": 3,
        "start_time": "2022-03-30T20:24:45.127Z"
      },
      {
        "duration": 400,
        "start_time": "2022-03-30T20:24:45.610Z"
      },
      {
        "duration": 34,
        "start_time": "2022-03-30T20:24:46.047Z"
      },
      {
        "duration": 30,
        "start_time": "2022-03-30T20:24:46.486Z"
      },
      {
        "duration": 28,
        "start_time": "2022-03-30T20:24:46.967Z"
      },
      {
        "duration": 18,
        "start_time": "2022-03-30T20:24:48.263Z"
      },
      {
        "duration": 16,
        "start_time": "2022-03-30T20:24:49.011Z"
      },
      {
        "duration": 26,
        "start_time": "2022-03-30T20:24:51.497Z"
      },
      {
        "duration": 28,
        "start_time": "2022-03-30T20:24:52.323Z"
      },
      {
        "duration": 18,
        "start_time": "2022-03-30T20:24:53.646Z"
      },
      {
        "duration": 7,
        "start_time": "2022-03-30T20:24:54.475Z"
      },
      {
        "duration": 9,
        "start_time": "2022-03-30T20:24:55.243Z"
      },
      {
        "duration": 173,
        "start_time": "2022-03-30T20:25:01.215Z"
      },
      {
        "duration": 36,
        "start_time": "2022-03-30T20:25:03.294Z"
      },
      {
        "duration": 11,
        "start_time": "2022-03-30T20:25:07.331Z"
      },
      {
        "duration": 164,
        "start_time": "2022-03-30T20:25:12.295Z"
      },
      {
        "duration": 96,
        "start_time": "2022-03-30T20:25:57.911Z"
      },
      {
        "duration": 44,
        "start_time": "2022-03-30T20:25:58.789Z"
      },
      {
        "duration": 10,
        "start_time": "2022-03-30T20:26:00.853Z"
      },
      {
        "duration": 70,
        "start_time": "2022-03-30T20:26:21.883Z"
      },
      {
        "duration": 9,
        "start_time": "2022-03-30T20:26:22.822Z"
      },
      {
        "duration": 20,
        "start_time": "2022-03-30T20:26:24.221Z"
      },
      {
        "duration": 11,
        "start_time": "2022-03-30T20:26:37.466Z"
      },
      {
        "duration": 11,
        "start_time": "2022-03-30T20:26:38.862Z"
      },
      {
        "duration": 19,
        "start_time": "2022-03-30T20:26:45.757Z"
      },
      {
        "duration": 6,
        "start_time": "2022-03-30T20:26:51.052Z"
      },
      {
        "duration": 9,
        "start_time": "2022-03-30T20:26:51.754Z"
      },
      {
        "duration": 38,
        "start_time": "2022-03-30T20:27:02.547Z"
      },
      {
        "duration": 24,
        "start_time": "2022-03-30T20:27:08.560Z"
      },
      {
        "duration": 33,
        "start_time": "2022-03-30T20:27:32.803Z"
      },
      {
        "duration": 173,
        "start_time": "2022-03-30T20:30:29.646Z"
      },
      {
        "duration": 263,
        "start_time": "2022-03-30T20:30:48.073Z"
      },
      {
        "duration": 164,
        "start_time": "2022-03-30T20:31:03.814Z"
      },
      {
        "duration": 182,
        "start_time": "2022-03-30T20:31:10.743Z"
      },
      {
        "duration": 142,
        "start_time": "2022-03-30T20:33:00.636Z"
      },
      {
        "duration": 28,
        "start_time": "2022-03-30T20:33:17.673Z"
      },
      {
        "duration": 10,
        "start_time": "2022-03-30T20:33:30.079Z"
      },
      {
        "duration": 132,
        "start_time": "2022-03-31T14:08:01.945Z"
      },
      {
        "duration": 1958,
        "start_time": "2022-03-31T14:08:09.261Z"
      },
      {
        "duration": 5,
        "start_time": "2022-03-31T14:08:11.222Z"
      },
      {
        "duration": 806,
        "start_time": "2022-03-31T14:08:13.766Z"
      },
      {
        "duration": 83,
        "start_time": "2022-03-31T14:08:14.575Z"
      },
      {
        "duration": 64,
        "start_time": "2022-03-31T14:08:15.266Z"
      },
      {
        "duration": 53,
        "start_time": "2022-03-31T14:08:15.986Z"
      },
      {
        "duration": 36,
        "start_time": "2022-03-31T14:08:16.645Z"
      },
      {
        "duration": 26,
        "start_time": "2022-03-31T14:08:17.317Z"
      },
      {
        "duration": 28,
        "start_time": "2022-03-31T14:08:17.962Z"
      },
      {
        "duration": 21,
        "start_time": "2022-03-31T14:08:18.620Z"
      },
      {
        "duration": 22,
        "start_time": "2022-03-31T14:08:19.266Z"
      },
      {
        "duration": 9,
        "start_time": "2022-03-31T14:08:19.878Z"
      },
      {
        "duration": 11,
        "start_time": "2022-03-31T14:08:20.447Z"
      },
      {
        "duration": 305,
        "start_time": "2022-03-31T14:08:22.523Z"
      },
      {
        "duration": 69,
        "start_time": "2022-03-31T14:08:22.934Z"
      },
      {
        "duration": 17,
        "start_time": "2022-03-31T14:08:23.346Z"
      },
      {
        "duration": 399,
        "start_time": "2022-03-31T14:08:23.705Z"
      },
      {
        "duration": 161,
        "start_time": "2022-03-31T14:08:25.007Z"
      },
      {
        "duration": 44,
        "start_time": "2022-03-31T14:08:25.379Z"
      },
      {
        "duration": 13,
        "start_time": "2022-03-31T14:08:25.599Z"
      },
      {
        "duration": 112,
        "start_time": "2022-03-31T14:08:26.791Z"
      },
      {
        "duration": 11,
        "start_time": "2022-03-31T14:08:27.048Z"
      },
      {
        "duration": 34,
        "start_time": "2022-03-31T14:08:27.291Z"
      },
      {
        "duration": 20,
        "start_time": "2022-03-31T14:08:28.249Z"
      },
      {
        "duration": 22,
        "start_time": "2022-03-31T14:08:28.444Z"
      },
      {
        "duration": 25,
        "start_time": "2022-03-31T14:08:28.632Z"
      },
      {
        "duration": 8,
        "start_time": "2022-03-31T14:08:28.826Z"
      },
      {
        "duration": 54,
        "start_time": "2022-03-31T14:08:29.589Z"
      },
      {
        "duration": 52,
        "start_time": "2022-03-31T14:08:29.774Z"
      },
      {
        "duration": 77,
        "start_time": "2022-03-31T14:08:29.962Z"
      },
      {
        "duration": 37,
        "start_time": "2022-03-31T14:08:30.357Z"
      },
      {
        "duration": 30,
        "start_time": "2022-03-31T14:09:37.347Z"
      },
      {
        "duration": 33,
        "start_time": "2022-03-31T14:10:53.566Z"
      },
      {
        "duration": 25,
        "start_time": "2022-03-31T14:10:58.185Z"
      },
      {
        "duration": 27,
        "start_time": "2022-03-31T14:10:58.682Z"
      },
      {
        "duration": 5,
        "start_time": "2022-03-31T14:16:20.152Z"
      },
      {
        "duration": 19,
        "start_time": "2022-03-31T14:16:25.965Z"
      },
      {
        "duration": 21,
        "start_time": "2022-03-31T14:17:03.871Z"
      },
      {
        "duration": 144,
        "start_time": "2022-03-31T14:18:14.198Z"
      },
      {
        "duration": 8,
        "start_time": "2022-03-31T14:18:29.012Z"
      },
      {
        "duration": 6,
        "start_time": "2022-03-31T14:18:48.735Z"
      },
      {
        "duration": 15,
        "start_time": "2022-03-31T14:19:41.973Z"
      },
      {
        "duration": 9,
        "start_time": "2022-03-31T14:20:05.739Z"
      },
      {
        "duration": 6,
        "start_time": "2022-03-31T14:20:18.281Z"
      },
      {
        "duration": 6,
        "start_time": "2022-03-31T14:21:26.455Z"
      },
      {
        "duration": 9,
        "start_time": "2022-03-31T14:21:39.616Z"
      },
      {
        "duration": 6,
        "start_time": "2022-03-31T14:21:56.253Z"
      },
      {
        "duration": 7,
        "start_time": "2022-03-31T14:22:06.059Z"
      },
      {
        "duration": 5,
        "start_time": "2022-03-31T14:22:55.187Z"
      },
      {
        "duration": 6,
        "start_time": "2022-03-31T14:44:00.429Z"
      },
      {
        "duration": 11,
        "start_time": "2022-03-31T14:52:59.546Z"
      },
      {
        "duration": 62,
        "start_time": "2022-03-31T14:53:03.132Z"
      },
      {
        "duration": 6,
        "start_time": "2022-03-31T14:56:01.105Z"
      },
      {
        "duration": 18,
        "start_time": "2022-03-31T15:00:03.260Z"
      },
      {
        "duration": 27,
        "start_time": "2022-03-31T15:00:34.753Z"
      },
      {
        "duration": 25,
        "start_time": "2022-03-31T15:01:09.150Z"
      },
      {
        "duration": 5,
        "start_time": "2022-03-31T15:01:19.863Z"
      },
      {
        "duration": 53,
        "start_time": "2022-03-31T15:01:27.290Z"
      },
      {
        "duration": 55,
        "start_time": "2022-03-31T15:01:33.475Z"
      },
      {
        "duration": 5,
        "start_time": "2022-03-31T15:01:43.712Z"
      },
      {
        "duration": 4,
        "start_time": "2022-03-31T15:01:44.224Z"
      },
      {
        "duration": 474,
        "start_time": "2022-03-31T15:01:44.401Z"
      },
      {
        "duration": 41,
        "start_time": "2022-03-31T15:01:44.878Z"
      },
      {
        "duration": 37,
        "start_time": "2022-03-31T15:01:44.921Z"
      },
      {
        "duration": 31,
        "start_time": "2022-03-31T15:01:44.960Z"
      },
      {
        "duration": 27,
        "start_time": "2022-03-31T15:01:45.091Z"
      },
      {
        "duration": 24,
        "start_time": "2022-03-31T15:01:45.257Z"
      },
      {
        "duration": 27,
        "start_time": "2022-03-31T15:01:45.423Z"
      },
      {
        "duration": 18,
        "start_time": "2022-03-31T15:01:45.615Z"
      },
      {
        "duration": 22,
        "start_time": "2022-03-31T15:01:45.776Z"
      },
      {
        "duration": 9,
        "start_time": "2022-03-31T15:01:45.931Z"
      },
      {
        "duration": 8,
        "start_time": "2022-03-31T15:01:46.104Z"
      },
      {
        "duration": 187,
        "start_time": "2022-03-31T15:01:46.815Z"
      },
      {
        "duration": 51,
        "start_time": "2022-03-31T15:01:47.004Z"
      },
      {
        "duration": 12,
        "start_time": "2022-03-31T15:01:47.132Z"
      },
      {
        "duration": 235,
        "start_time": "2022-03-31T15:01:47.330Z"
      },
      {
        "duration": 142,
        "start_time": "2022-03-31T15:01:48.027Z"
      },
      {
        "duration": 43,
        "start_time": "2022-03-31T15:01:48.197Z"
      },
      {
        "duration": 14,
        "start_time": "2022-03-31T15:01:48.384Z"
      },
      {
        "duration": 101,
        "start_time": "2022-03-31T15:01:49.105Z"
      },
      {
        "duration": 12,
        "start_time": "2022-03-31T15:01:49.292Z"
      },
      {
        "duration": 26,
        "start_time": "2022-03-31T15:01:49.517Z"
      },
      {
        "duration": 16,
        "start_time": "2022-03-31T15:01:50.641Z"
      },
      {
        "duration": 16,
        "start_time": "2022-03-31T15:01:51.848Z"
      },
      {
        "duration": 23,
        "start_time": "2022-03-31T15:01:52.022Z"
      },
      {
        "duration": 7,
        "start_time": "2022-03-31T15:01:52.189Z"
      },
      {
        "duration": 51,
        "start_time": "2022-03-31T15:01:52.864Z"
      },
      {
        "duration": 35,
        "start_time": "2022-03-31T15:01:53.011Z"
      },
      {
        "duration": 31,
        "start_time": "2022-03-31T15:01:53.182Z"
      },
      {
        "duration": 24,
        "start_time": "2022-03-31T15:01:53.601Z"
      },
      {
        "duration": 26,
        "start_time": "2022-03-31T15:01:54.616Z"
      },
      {
        "duration": 19,
        "start_time": "2022-03-31T15:01:54.842Z"
      },
      {
        "duration": 5,
        "start_time": "2022-03-31T15:01:55.668Z"
      },
      {
        "duration": 5,
        "start_time": "2022-03-31T15:01:57.173Z"
      },
      {
        "duration": 22,
        "start_time": "2022-03-31T15:01:57.961Z"
      },
      {
        "duration": 20,
        "start_time": "2022-03-31T15:05:45.513Z"
      },
      {
        "duration": 13,
        "start_time": "2022-03-31T15:09:09.442Z"
      },
      {
        "duration": 6,
        "start_time": "2022-03-31T15:09:13.884Z"
      },
      {
        "duration": 12,
        "start_time": "2022-03-31T15:09:14.329Z"
      },
      {
        "duration": 16,
        "start_time": "2022-03-31T15:09:26.290Z"
      },
      {
        "duration": 11,
        "start_time": "2022-03-31T15:09:45.506Z"
      },
      {
        "duration": 12,
        "start_time": "2022-03-31T15:13:14.727Z"
      },
      {
        "duration": 11,
        "start_time": "2022-03-31T15:13:30.197Z"
      },
      {
        "duration": 27,
        "start_time": "2022-03-31T15:13:35.303Z"
      },
      {
        "duration": 30,
        "start_time": "2022-03-31T15:17:37.546Z"
      },
      {
        "duration": 209,
        "start_time": "2022-03-31T15:29:54.281Z"
      },
      {
        "duration": 188,
        "start_time": "2022-03-31T15:30:50.967Z"
      },
      {
        "duration": 13,
        "start_time": "2022-03-31T15:31:23.853Z"
      },
      {
        "duration": 12,
        "start_time": "2022-03-31T15:31:31.579Z"
      },
      {
        "duration": 20,
        "start_time": "2022-03-31T15:31:40.630Z"
      },
      {
        "duration": 10,
        "start_time": "2022-03-31T15:33:22.719Z"
      },
      {
        "duration": 4,
        "start_time": "2022-03-31T15:33:38.471Z"
      },
      {
        "duration": 20,
        "start_time": "2022-03-31T15:33:47.704Z"
      },
      {
        "duration": 20,
        "start_time": "2022-03-31T15:33:55.631Z"
      },
      {
        "duration": 18,
        "start_time": "2022-03-31T15:34:08.861Z"
      },
      {
        "duration": 19,
        "start_time": "2022-03-31T15:34:41.724Z"
      },
      {
        "duration": 12,
        "start_time": "2022-03-31T15:34:52.731Z"
      },
      {
        "duration": 46,
        "start_time": "2022-03-31T15:34:58.098Z"
      },
      {
        "duration": 9,
        "start_time": "2022-03-31T15:44:30.645Z"
      },
      {
        "duration": 34,
        "start_time": "2022-03-31T15:44:38.237Z"
      },
      {
        "duration": 19,
        "start_time": "2022-03-31T15:45:18.215Z"
      },
      {
        "duration": 18,
        "start_time": "2022-03-31T15:45:31.622Z"
      },
      {
        "duration": 5,
        "start_time": "2022-03-31T15:45:44.387Z"
      },
      {
        "duration": 4,
        "start_time": "2022-03-31T15:45:44.823Z"
      },
      {
        "duration": 510,
        "start_time": "2022-03-31T15:45:45.181Z"
      },
      {
        "duration": 40,
        "start_time": "2022-03-31T15:45:45.693Z"
      },
      {
        "duration": 37,
        "start_time": "2022-03-31T15:45:45.964Z"
      },
      {
        "duration": 31,
        "start_time": "2022-03-31T15:45:46.412Z"
      },
      {
        "duration": 27,
        "start_time": "2022-03-31T15:45:46.814Z"
      },
      {
        "duration": 23,
        "start_time": "2022-03-31T15:45:47.226Z"
      },
      {
        "duration": 5,
        "start_time": "2022-03-31T15:45:47.687Z"
      },
      {
        "duration": 26,
        "start_time": "2022-03-31T15:45:48.142Z"
      },
      {
        "duration": 19,
        "start_time": "2022-03-31T15:45:48.566Z"
      },
      {
        "duration": 22,
        "start_time": "2022-03-31T15:45:49.026Z"
      },
      {
        "duration": 9,
        "start_time": "2022-03-31T15:45:49.473Z"
      },
      {
        "duration": 8,
        "start_time": "2022-03-31T15:45:49.912Z"
      },
      {
        "duration": 278,
        "start_time": "2022-03-31T15:45:51.749Z"
      },
      {
        "duration": 57,
        "start_time": "2022-03-31T15:45:52.198Z"
      },
      {
        "duration": 17,
        "start_time": "2022-03-31T15:45:52.670Z"
      },
      {
        "duration": 388,
        "start_time": "2022-03-31T15:45:53.143Z"
      },
      {
        "duration": 135,
        "start_time": "2022-03-31T15:45:55.111Z"
      },
      {
        "duration": 42,
        "start_time": "2022-03-31T15:45:55.651Z"
      },
      {
        "duration": 14,
        "start_time": "2022-03-31T15:45:56.128Z"
      },
      {
        "duration": 99,
        "start_time": "2022-03-31T15:45:58.045Z"
      },
      {
        "duration": 12,
        "start_time": "2022-03-31T15:45:58.504Z"
      },
      {
        "duration": 26,
        "start_time": "2022-03-31T15:45:59.003Z"
      },
      {
        "duration": 17,
        "start_time": "2022-03-31T15:46:00.940Z"
      },
      {
        "duration": 16,
        "start_time": "2022-03-31T15:46:01.947Z"
      },
      {
        "duration": 24,
        "start_time": "2022-03-31T15:46:02.477Z"
      },
      {
        "duration": 7,
        "start_time": "2022-03-31T15:46:03.556Z"
      },
      {
        "duration": 52,
        "start_time": "2022-03-31T15:46:05.580Z"
      },
      {
        "duration": 34,
        "start_time": "2022-03-31T15:46:06.096Z"
      },
      {
        "duration": 31,
        "start_time": "2022-03-31T15:46:06.593Z"
      },
      {
        "duration": 24,
        "start_time": "2022-03-31T15:46:07.466Z"
      },
      {
        "duration": 26,
        "start_time": "2022-03-31T15:46:07.928Z"
      },
      {
        "duration": 20,
        "start_time": "2022-03-31T15:46:08.417Z"
      },
      {
        "duration": 6,
        "start_time": "2022-03-31T15:46:08.857Z"
      },
      {
        "duration": 19,
        "start_time": "2022-03-31T15:46:09.787Z"
      },
      {
        "duration": 29,
        "start_time": "2022-03-31T15:46:10.197Z"
      },
      {
        "duration": 35,
        "start_time": "2022-03-31T15:46:10.689Z"
      },
      {
        "duration": 19,
        "start_time": "2022-03-31T15:46:11.749Z"
      },
      {
        "duration": 6,
        "start_time": "2022-03-31T15:49:12.078Z"
      },
      {
        "duration": 21,
        "start_time": "2022-03-31T15:49:32.887Z"
      },
      {
        "duration": 257,
        "start_time": "2022-03-31T15:50:01.775Z"
      },
      {
        "duration": 16,
        "start_time": "2022-03-31T15:50:51.437Z"
      },
      {
        "duration": 17,
        "start_time": "2022-03-31T15:51:15.391Z"
      },
      {
        "duration": 12,
        "start_time": "2022-03-31T15:51:28.791Z"
      },
      {
        "duration": 13,
        "start_time": "2022-03-31T15:52:06.443Z"
      },
      {
        "duration": 13,
        "start_time": "2022-03-31T15:52:35.749Z"
      },
      {
        "duration": 18,
        "start_time": "2022-03-31T15:52:43.393Z"
      },
      {
        "duration": 14,
        "start_time": "2022-03-31T15:52:52.065Z"
      },
      {
        "duration": 17,
        "start_time": "2022-03-31T15:53:12.440Z"
      },
      {
        "duration": 11,
        "start_time": "2022-03-31T15:54:42.170Z"
      },
      {
        "duration": 13,
        "start_time": "2022-03-31T15:55:07.870Z"
      },
      {
        "duration": 13,
        "start_time": "2022-03-31T15:57:22.875Z"
      },
      {
        "duration": 17,
        "start_time": "2022-03-31T15:57:33.251Z"
      },
      {
        "duration": 14,
        "start_time": "2022-03-31T15:57:45.455Z"
      },
      {
        "duration": 15,
        "start_time": "2022-03-31T15:58:12.009Z"
      },
      {
        "duration": 9,
        "start_time": "2022-03-31T16:01:36.552Z"
      },
      {
        "duration": 6,
        "start_time": "2022-03-31T16:01:52.554Z"
      },
      {
        "duration": 191,
        "start_time": "2022-03-31T16:02:03.337Z"
      },
      {
        "duration": 166,
        "start_time": "2022-03-31T16:02:48.761Z"
      },
      {
        "duration": 172,
        "start_time": "2022-03-31T16:02:54.030Z"
      },
      {
        "duration": 6,
        "start_time": "2022-03-31T16:03:01.694Z"
      },
      {
        "duration": 29,
        "start_time": "2022-03-31T16:03:12.608Z"
      },
      {
        "duration": 5,
        "start_time": "2022-03-31T16:03:29.161Z"
      },
      {
        "duration": 6,
        "start_time": "2022-03-31T16:03:34.120Z"
      },
      {
        "duration": 5,
        "start_time": "2022-03-31T16:03:56.583Z"
      },
      {
        "duration": 16,
        "start_time": "2022-03-31T16:04:17.936Z"
      },
      {
        "duration": 9,
        "start_time": "2022-03-31T16:05:12.626Z"
      },
      {
        "duration": 4,
        "start_time": "2022-03-31T16:05:57.161Z"
      },
      {
        "duration": 2059,
        "start_time": "2022-03-31T16:06:22.767Z"
      },
      {
        "duration": 11450,
        "start_time": "2022-03-31T16:06:35.221Z"
      },
      {
        "duration": 7,
        "start_time": "2022-03-31T16:06:55.441Z"
      },
      {
        "duration": 5,
        "start_time": "2022-03-31T16:07:37.813Z"
      },
      {
        "duration": 3,
        "start_time": "2022-03-31T16:07:38.227Z"
      },
      {
        "duration": 480,
        "start_time": "2022-03-31T16:07:38.679Z"
      },
      {
        "duration": 42,
        "start_time": "2022-03-31T16:07:39.188Z"
      },
      {
        "duration": 38,
        "start_time": "2022-03-31T16:07:39.681Z"
      },
      {
        "duration": 33,
        "start_time": "2022-03-31T16:07:40.179Z"
      },
      {
        "duration": 27,
        "start_time": "2022-03-31T16:07:40.704Z"
      },
      {
        "duration": 24,
        "start_time": "2022-03-31T16:07:41.225Z"
      },
      {
        "duration": 4,
        "start_time": "2022-03-31T16:07:42.002Z"
      },
      {
        "duration": 27,
        "start_time": "2022-03-31T16:07:42.481Z"
      },
      {
        "duration": 19,
        "start_time": "2022-03-31T16:07:42.958Z"
      },
      {
        "duration": 22,
        "start_time": "2022-03-31T16:07:43.386Z"
      },
      {
        "duration": 8,
        "start_time": "2022-03-31T16:07:43.928Z"
      },
      {
        "duration": 10,
        "start_time": "2022-03-31T16:07:44.495Z"
      },
      {
        "duration": 202,
        "start_time": "2022-03-31T16:07:46.583Z"
      },
      {
        "duration": 43,
        "start_time": "2022-03-31T16:07:47.068Z"
      },
      {
        "duration": 12,
        "start_time": "2022-03-31T16:07:47.547Z"
      },
      {
        "duration": 236,
        "start_time": "2022-03-31T16:07:48.027Z"
      },
      {
        "duration": 135,
        "start_time": "2022-03-31T16:07:49.888Z"
      },
      {
        "duration": 43,
        "start_time": "2022-03-31T16:07:50.374Z"
      },
      {
        "duration": 14,
        "start_time": "2022-03-31T16:07:50.861Z"
      },
      {
        "duration": 94,
        "start_time": "2022-03-31T16:07:52.722Z"
      },
      {
        "duration": 12,
        "start_time": "2022-03-31T16:07:53.244Z"
      },
      {
        "duration": 26,
        "start_time": "2022-03-31T16:07:53.736Z"
      },
      {
        "duration": 16,
        "start_time": "2022-03-31T16:07:55.692Z"
      },
      {
        "duration": 17,
        "start_time": "2022-03-31T16:07:56.196Z"
      },
      {
        "duration": 38,
        "start_time": "2022-03-31T16:07:56.688Z"
      },
      {
        "duration": 8,
        "start_time": "2022-03-31T16:07:57.180Z"
      },
      {
        "duration": 77,
        "start_time": "2022-03-31T16:08:00.575Z"
      },
      {
        "duration": 43,
        "start_time": "2022-03-31T16:08:01.173Z"
      },
      {
        "duration": 40,
        "start_time": "2022-03-31T16:08:01.820Z"
      },
      {
        "duration": 28,
        "start_time": "2022-03-31T16:08:03.033Z"
      },
      {
        "duration": 26,
        "start_time": "2022-03-31T16:08:07.072Z"
      },
      {
        "duration": 20,
        "start_time": "2022-03-31T16:08:07.695Z"
      },
      {
        "duration": 6,
        "start_time": "2022-03-31T16:08:08.419Z"
      },
      {
        "duration": 18,
        "start_time": "2022-03-31T16:08:12.359Z"
      },
      {
        "duration": 29,
        "start_time": "2022-03-31T16:08:13.577Z"
      },
      {
        "duration": 38,
        "start_time": "2022-03-31T16:08:14.804Z"
      },
      {
        "duration": 10,
        "start_time": "2022-03-31T16:08:15.781Z"
      },
      {
        "duration": 7,
        "start_time": "2022-03-31T16:08:16.810Z"
      },
      {
        "duration": 5,
        "start_time": "2022-03-31T16:08:26.376Z"
      },
      {
        "duration": 4,
        "start_time": "2022-03-31T16:09:08.515Z"
      },
      {
        "duration": 4,
        "start_time": "2022-03-31T16:09:08.695Z"
      },
      {
        "duration": 523,
        "start_time": "2022-03-31T16:09:08.871Z"
      },
      {
        "duration": 44,
        "start_time": "2022-03-31T16:09:09.396Z"
      },
      {
        "duration": 38,
        "start_time": "2022-03-31T16:09:09.443Z"
      },
      {
        "duration": 32,
        "start_time": "2022-03-31T16:09:09.484Z"
      },
      {
        "duration": 27,
        "start_time": "2022-03-31T16:09:09.554Z"
      },
      {
        "duration": 22,
        "start_time": "2022-03-31T16:09:09.727Z"
      },
      {
        "duration": 5,
        "start_time": "2022-03-31T16:09:09.915Z"
      },
      {
        "duration": 26,
        "start_time": "2022-03-31T16:09:10.114Z"
      },
      {
        "duration": 20,
        "start_time": "2022-03-31T16:09:10.311Z"
      },
      {
        "duration": 22,
        "start_time": "2022-03-31T16:09:10.486Z"
      },
      {
        "duration": 8,
        "start_time": "2022-03-31T16:09:10.663Z"
      },
      {
        "duration": 8,
        "start_time": "2022-03-31T16:09:10.849Z"
      },
      {
        "duration": 197,
        "start_time": "2022-03-31T16:09:11.557Z"
      },
      {
        "duration": 41,
        "start_time": "2022-03-31T16:09:11.756Z"
      },
      {
        "duration": 12,
        "start_time": "2022-03-31T16:09:11.909Z"
      },
      {
        "duration": 230,
        "start_time": "2022-03-31T16:09:12.079Z"
      },
      {
        "duration": 145,
        "start_time": "2022-03-31T16:09:12.805Z"
      },
      {
        "duration": 43,
        "start_time": "2022-03-31T16:09:12.980Z"
      },
      {
        "duration": 13,
        "start_time": "2022-03-31T16:09:13.155Z"
      },
      {
        "duration": 102,
        "start_time": "2022-03-31T16:09:13.875Z"
      },
      {
        "duration": 11,
        "start_time": "2022-03-31T16:09:14.068Z"
      },
      {
        "duration": 26,
        "start_time": "2022-03-31T16:09:14.238Z"
      },
      {
        "duration": 17,
        "start_time": "2022-03-31T16:09:14.966Z"
      },
      {
        "duration": 18,
        "start_time": "2022-03-31T16:09:15.137Z"
      },
      {
        "duration": 24,
        "start_time": "2022-03-31T16:09:15.341Z"
      },
      {
        "duration": 11,
        "start_time": "2022-03-31T16:09:15.508Z"
      },
      {
        "duration": 51,
        "start_time": "2022-03-31T16:09:16.217Z"
      },
      {
        "duration": 34,
        "start_time": "2022-03-31T16:09:16.397Z"
      },
      {
        "duration": 32,
        "start_time": "2022-03-31T16:09:16.597Z"
      },
      {
        "duration": 24,
        "start_time": "2022-03-31T16:09:16.962Z"
      },
      {
        "duration": 26,
        "start_time": "2022-03-31T16:09:17.163Z"
      },
      {
        "duration": 21,
        "start_time": "2022-03-31T16:09:17.361Z"
      },
      {
        "duration": 7,
        "start_time": "2022-03-31T16:09:17.530Z"
      },
      {
        "duration": 19,
        "start_time": "2022-03-31T16:09:17.909Z"
      },
      {
        "duration": 29,
        "start_time": "2022-03-31T16:09:18.088Z"
      },
      {
        "duration": 36,
        "start_time": "2022-03-31T16:09:18.292Z"
      },
      {
        "duration": 9,
        "start_time": "2022-03-31T16:09:18.522Z"
      },
      {
        "duration": 4,
        "start_time": "2022-03-31T16:09:21.158Z"
      },
      {
        "duration": 4,
        "start_time": "2022-03-31T16:09:22.379Z"
      },
      {
        "duration": 7,
        "start_time": "2022-03-31T16:09:29.584Z"
      },
      {
        "duration": 6,
        "start_time": "2022-03-31T16:09:58.052Z"
      },
      {
        "duration": 7,
        "start_time": "2022-03-31T16:10:10.424Z"
      },
      {
        "duration": 3,
        "start_time": "2022-03-31T16:10:18.739Z"
      },
      {
        "duration": 3,
        "start_time": "2022-03-31T16:10:19.456Z"
      },
      {
        "duration": 486,
        "start_time": "2022-03-31T16:10:20.073Z"
      },
      {
        "duration": 41,
        "start_time": "2022-03-31T16:10:20.647Z"
      },
      {
        "duration": 39,
        "start_time": "2022-03-31T16:10:21.172Z"
      },
      {
        "duration": 32,
        "start_time": "2022-03-31T16:10:21.690Z"
      },
      {
        "duration": 26,
        "start_time": "2022-03-31T16:10:22.212Z"
      },
      {
        "duration": 23,
        "start_time": "2022-03-31T16:10:30.735Z"
      },
      {
        "duration": 4,
        "start_time": "2022-03-31T16:10:31.643Z"
      },
      {
        "duration": 29,
        "start_time": "2022-03-31T16:10:32.553Z"
      },
      {
        "duration": 19,
        "start_time": "2022-03-31T16:10:33.541Z"
      },
      {
        "duration": 23,
        "start_time": "2022-03-31T16:10:34.649Z"
      },
      {
        "duration": 7,
        "start_time": "2022-03-31T16:10:35.356Z"
      },
      {
        "duration": 8,
        "start_time": "2022-03-31T16:10:36.058Z"
      },
      {
        "duration": 198,
        "start_time": "2022-03-31T16:10:38.927Z"
      },
      {
        "duration": 38,
        "start_time": "2022-03-31T16:10:40.244Z"
      },
      {
        "duration": 12,
        "start_time": "2022-03-31T16:10:40.982Z"
      },
      {
        "duration": 243,
        "start_time": "2022-03-31T16:10:41.668Z"
      },
      {
        "duration": 138,
        "start_time": "2022-03-31T16:10:45.494Z"
      },
      {
        "duration": 41,
        "start_time": "2022-03-31T16:10:46.230Z"
      },
      {
        "duration": 14,
        "start_time": "2022-03-31T16:10:48.015Z"
      },
      {
        "duration": 100,
        "start_time": "2022-03-31T16:10:50.963Z"
      },
      {
        "duration": 11,
        "start_time": "2022-03-31T16:10:51.703Z"
      },
      {
        "duration": 26,
        "start_time": "2022-03-31T16:10:52.484Z"
      },
      {
        "duration": 16,
        "start_time": "2022-03-31T16:10:55.562Z"
      },
      {
        "duration": 15,
        "start_time": "2022-03-31T16:10:56.253Z"
      },
      {
        "duration": 24,
        "start_time": "2022-03-31T16:10:56.868Z"
      },
      {
        "duration": 8,
        "start_time": "2022-03-31T16:10:57.455Z"
      },
      {
        "duration": 54,
        "start_time": "2022-03-31T16:10:59.837Z"
      },
      {
        "duration": 36,
        "start_time": "2022-03-31T16:11:00.500Z"
      },
      {
        "duration": 34,
        "start_time": "2022-03-31T16:11:01.250Z"
      },
      {
        "duration": 25,
        "start_time": "2022-03-31T16:11:02.860Z"
      },
      {
        "duration": 27,
        "start_time": "2022-03-31T16:11:03.584Z"
      },
      {
        "duration": 20,
        "start_time": "2022-03-31T16:11:04.558Z"
      },
      {
        "duration": 6,
        "start_time": "2022-03-31T16:11:05.586Z"
      },
      {
        "duration": 19,
        "start_time": "2022-03-31T16:11:11.386Z"
      },
      {
        "duration": 28,
        "start_time": "2022-03-31T16:11:12.824Z"
      },
      {
        "duration": 34,
        "start_time": "2022-03-31T16:11:15.113Z"
      },
      {
        "duration": 8,
        "start_time": "2022-03-31T16:11:16.440Z"
      },
      {
        "duration": 4,
        "start_time": "2022-03-31T16:11:21.963Z"
      },
      {
        "duration": 5,
        "start_time": "2022-03-31T16:11:23.044Z"
      },
      {
        "duration": 6,
        "start_time": "2022-03-31T16:11:23.891Z"
      },
      {
        "duration": 7,
        "start_time": "2022-03-31T16:11:24.953Z"
      },
      {
        "duration": 5,
        "start_time": "2022-03-31T16:11:48.134Z"
      },
      {
        "duration": 3,
        "start_time": "2022-03-31T16:11:48.542Z"
      },
      {
        "duration": 485,
        "start_time": "2022-03-31T16:11:48.946Z"
      },
      {
        "duration": 41,
        "start_time": "2022-03-31T16:11:49.434Z"
      },
      {
        "duration": 38,
        "start_time": "2022-03-31T16:11:49.763Z"
      },
      {
        "duration": 31,
        "start_time": "2022-03-31T16:11:50.169Z"
      },
      {
        "duration": 25,
        "start_time": "2022-03-31T16:11:50.595Z"
      },
      {
        "duration": 23,
        "start_time": "2022-03-31T16:11:51.031Z"
      },
      {
        "duration": 5,
        "start_time": "2022-03-31T16:11:51.445Z"
      },
      {
        "duration": 31,
        "start_time": "2022-03-31T16:11:51.857Z"
      },
      {
        "duration": 20,
        "start_time": "2022-03-31T16:11:52.270Z"
      },
      {
        "duration": 27,
        "start_time": "2022-03-31T16:11:52.681Z"
      },
      {
        "duration": 8,
        "start_time": "2022-03-31T16:11:53.097Z"
      },
      {
        "duration": 12,
        "start_time": "2022-03-31T16:11:53.515Z"
      },
      {
        "duration": 209,
        "start_time": "2022-03-31T16:11:55.226Z"
      },
      {
        "duration": 41,
        "start_time": "2022-03-31T16:11:55.625Z"
      },
      {
        "duration": 12,
        "start_time": "2022-03-31T16:11:56.058Z"
      },
      {
        "duration": 233,
        "start_time": "2022-03-31T16:11:56.503Z"
      },
      {
        "duration": 158,
        "start_time": "2022-03-31T16:11:58.270Z"
      },
      {
        "duration": 41,
        "start_time": "2022-03-31T16:11:58.719Z"
      },
      {
        "duration": 18,
        "start_time": "2022-03-31T16:11:59.171Z"
      },
      {
        "duration": 167,
        "start_time": "2022-03-31T16:12:01.002Z"
      },
      {
        "duration": 17,
        "start_time": "2022-03-31T16:12:01.473Z"
      },
      {
        "duration": 28,
        "start_time": "2022-03-31T16:12:01.955Z"
      },
      {
        "duration": 18,
        "start_time": "2022-03-31T16:12:03.748Z"
      },
      {
        "duration": 15,
        "start_time": "2022-03-31T16:12:04.228Z"
      },
      {
        "duration": 25,
        "start_time": "2022-03-31T16:12:04.689Z"
      },
      {
        "duration": 9,
        "start_time": "2022-03-31T16:12:05.164Z"
      },
      {
        "duration": 52,
        "start_time": "2022-03-31T16:12:07.468Z"
      },
      {
        "duration": 44,
        "start_time": "2022-03-31T16:12:07.913Z"
      },
      {
        "duration": 33,
        "start_time": "2022-03-31T16:12:08.403Z"
      },
      {
        "duration": 25,
        "start_time": "2022-03-31T16:12:09.384Z"
      },
      {
        "duration": 32,
        "start_time": "2022-03-31T16:12:09.835Z"
      },
      {
        "duration": 22,
        "start_time": "2022-03-31T16:12:10.431Z"
      },
      {
        "duration": 6,
        "start_time": "2022-03-31T16:12:11.068Z"
      },
      {
        "duration": 18,
        "start_time": "2022-03-31T16:12:11.564Z"
      },
      {
        "duration": 35,
        "start_time": "2022-03-31T16:12:12.040Z"
      },
      {
        "duration": 41,
        "start_time": "2022-03-31T16:12:12.542Z"
      },
      {
        "duration": 9,
        "start_time": "2022-03-31T16:12:13.220Z"
      },
      {
        "duration": 4,
        "start_time": "2022-03-31T16:12:13.801Z"
      },
      {
        "duration": 6,
        "start_time": "2022-03-31T16:12:14.462Z"
      },
      {
        "duration": 10,
        "start_time": "2022-03-31T16:12:15.118Z"
      },
      {
        "duration": 19,
        "start_time": "2022-03-31T16:12:15.780Z"
      },
      {
        "duration": 24,
        "start_time": "2022-03-31T16:25:21.496Z"
      },
      {
        "duration": 6,
        "start_time": "2022-03-31T16:25:50.435Z"
      },
      {
        "duration": 26,
        "start_time": "2022-03-31T16:25:52.393Z"
      },
      {
        "duration": 5,
        "start_time": "2022-03-31T16:26:18.028Z"
      },
      {
        "duration": 314,
        "start_time": "2022-03-31T16:26:19.556Z"
      },
      {
        "duration": 21,
        "start_time": "2022-03-31T16:26:32.666Z"
      },
      {
        "duration": 5,
        "start_time": "2022-03-31T16:30:55.319Z"
      },
      {
        "duration": 325,
        "start_time": "2022-03-31T16:30:55.780Z"
      },
      {
        "duration": 23,
        "start_time": "2022-03-31T16:30:56.272Z"
      },
      {
        "duration": 6,
        "start_time": "2022-03-31T16:31:14.058Z"
      },
      {
        "duration": 319,
        "start_time": "2022-03-31T16:31:14.691Z"
      },
      {
        "duration": 21,
        "start_time": "2022-03-31T16:31:15.225Z"
      },
      {
        "duration": 4,
        "start_time": "2022-03-31T16:40:02.559Z"
      },
      {
        "duration": 3,
        "start_time": "2022-03-31T16:40:02.997Z"
      },
      {
        "duration": 510,
        "start_time": "2022-03-31T16:40:03.454Z"
      },
      {
        "duration": 40,
        "start_time": "2022-03-31T16:40:03.967Z"
      },
      {
        "duration": 36,
        "start_time": "2022-03-31T16:40:04.324Z"
      },
      {
        "duration": 31,
        "start_time": "2022-03-31T16:40:04.761Z"
      },
      {
        "duration": 26,
        "start_time": "2022-03-31T16:40:05.185Z"
      },
      {
        "duration": 23,
        "start_time": "2022-03-31T16:40:05.608Z"
      },
      {
        "duration": 4,
        "start_time": "2022-03-31T16:40:06.084Z"
      },
      {
        "duration": 26,
        "start_time": "2022-03-31T16:40:06.531Z"
      },
      {
        "duration": 18,
        "start_time": "2022-03-31T16:40:06.951Z"
      },
      {
        "duration": 21,
        "start_time": "2022-03-31T16:40:07.432Z"
      },
      {
        "duration": 8,
        "start_time": "2022-03-31T16:40:07.873Z"
      },
      {
        "duration": 8,
        "start_time": "2022-03-31T16:40:08.303Z"
      },
      {
        "duration": 183,
        "start_time": "2022-03-31T16:40:10.115Z"
      },
      {
        "duration": 38,
        "start_time": "2022-03-31T16:40:10.540Z"
      },
      {
        "duration": 11,
        "start_time": "2022-03-31T16:40:10.987Z"
      },
      {
        "duration": 231,
        "start_time": "2022-03-31T16:40:11.929Z"
      },
      {
        "duration": 147,
        "start_time": "2022-03-31T16:40:13.598Z"
      },
      {
        "duration": 42,
        "start_time": "2022-03-31T16:40:14.061Z"
      },
      {
        "duration": 13,
        "start_time": "2022-03-31T16:40:14.603Z"
      },
      {
        "duration": 94,
        "start_time": "2022-03-31T16:40:18.563Z"
      },
      {
        "duration": 11,
        "start_time": "2022-03-31T16:40:19.169Z"
      },
      {
        "duration": 26,
        "start_time": "2022-03-31T16:40:19.710Z"
      },
      {
        "duration": 16,
        "start_time": "2022-03-31T16:40:21.646Z"
      },
      {
        "duration": 15,
        "start_time": "2022-03-31T16:40:22.114Z"
      },
      {
        "duration": 24,
        "start_time": "2022-03-31T16:40:22.583Z"
      },
      {
        "duration": 7,
        "start_time": "2022-03-31T16:40:23.093Z"
      },
      {
        "duration": 49,
        "start_time": "2022-03-31T16:40:24.966Z"
      },
      {
        "duration": 33,
        "start_time": "2022-03-31T16:40:25.505Z"
      },
      {
        "duration": 32,
        "start_time": "2022-03-31T16:40:26.048Z"
      },
      {
        "duration": 25,
        "start_time": "2022-03-31T16:40:27.142Z"
      },
      {
        "duration": 28,
        "start_time": "2022-03-31T16:40:27.733Z"
      },
      {
        "duration": 19,
        "start_time": "2022-03-31T16:40:28.250Z"
      },
      {
        "duration": 6,
        "start_time": "2022-03-31T16:40:28.918Z"
      },
      {
        "duration": 96,
        "start_time": "2022-03-31T16:40:30.398Z"
      },
      {
        "duration": 31,
        "start_time": "2022-03-31T16:40:32.016Z"
      },
      {
        "duration": 55,
        "start_time": "2022-03-31T16:40:41.195Z"
      },
      {
        "duration": 42,
        "start_time": "2022-03-31T16:41:01.275Z"
      },
      {
        "duration": 11,
        "start_time": "2022-03-31T16:41:07.355Z"
      },
      {
        "duration": 5,
        "start_time": "2022-03-31T16:41:21.788Z"
      },
      {
        "duration": 3,
        "start_time": "2022-03-31T16:41:22.193Z"
      },
      {
        "duration": 554,
        "start_time": "2022-03-31T16:41:22.607Z"
      },
      {
        "duration": 45,
        "start_time": "2022-03-31T16:41:23.164Z"
      },
      {
        "duration": 60,
        "start_time": "2022-03-31T16:41:23.460Z"
      },
      {
        "duration": 32,
        "start_time": "2022-03-31T16:41:23.880Z"
      },
      {
        "duration": 27,
        "start_time": "2022-03-31T16:41:24.335Z"
      },
      {
        "duration": 24,
        "start_time": "2022-03-31T16:41:24.785Z"
      },
      {
        "duration": 5,
        "start_time": "2022-03-31T16:41:25.220Z"
      },
      {
        "duration": 26,
        "start_time": "2022-03-31T16:41:25.665Z"
      },
      {
        "duration": 19,
        "start_time": "2022-03-31T16:41:26.101Z"
      },
      {
        "duration": 23,
        "start_time": "2022-03-31T16:41:26.536Z"
      },
      {
        "duration": 8,
        "start_time": "2022-03-31T16:41:26.960Z"
      },
      {
        "duration": 9,
        "start_time": "2022-03-31T16:41:27.409Z"
      },
      {
        "duration": 197,
        "start_time": "2022-03-31T16:41:29.212Z"
      },
      {
        "duration": 42,
        "start_time": "2022-03-31T16:41:29.624Z"
      },
      {
        "duration": 12,
        "start_time": "2022-03-31T16:41:30.109Z"
      },
      {
        "duration": 249,
        "start_time": "2022-03-31T16:41:30.623Z"
      },
      {
        "duration": 135,
        "start_time": "2022-03-31T16:41:32.462Z"
      },
      {
        "duration": 65,
        "start_time": "2022-03-31T16:41:32.892Z"
      },
      {
        "duration": 13,
        "start_time": "2022-03-31T16:41:33.312Z"
      },
      {
        "duration": 97,
        "start_time": "2022-03-31T16:41:35.152Z"
      },
      {
        "duration": 11,
        "start_time": "2022-03-31T16:41:35.589Z"
      },
      {
        "duration": 26,
        "start_time": "2022-03-31T16:41:36.050Z"
      },
      {
        "duration": 16,
        "start_time": "2022-03-31T16:41:37.926Z"
      },
      {
        "duration": 20,
        "start_time": "2022-03-31T16:41:38.402Z"
      },
      {
        "duration": 26,
        "start_time": "2022-03-31T16:41:38.854Z"
      },
      {
        "duration": 8,
        "start_time": "2022-03-31T16:41:39.364Z"
      },
      {
        "duration": 53,
        "start_time": "2022-03-31T16:41:41.339Z"
      },
      {
        "duration": 32,
        "start_time": "2022-03-31T16:41:42.186Z"
      },
      {
        "duration": 31,
        "start_time": "2022-03-31T16:41:42.701Z"
      },
      {
        "duration": 24,
        "start_time": "2022-03-31T16:41:43.716Z"
      },
      {
        "duration": 26,
        "start_time": "2022-03-31T16:41:44.279Z"
      },
      {
        "duration": 19,
        "start_time": "2022-03-31T16:41:44.834Z"
      },
      {
        "duration": 6,
        "start_time": "2022-03-31T16:41:45.403Z"
      },
      {
        "duration": 19,
        "start_time": "2022-03-31T16:41:45.897Z"
      },
      {
        "duration": 30,
        "start_time": "2022-03-31T16:41:46.537Z"
      },
      {
        "duration": 32,
        "start_time": "2022-03-31T16:41:48.707Z"
      },
      {
        "duration": 10,
        "start_time": "2022-03-31T16:41:54.649Z"
      },
      {
        "duration": 5,
        "start_time": "2022-03-31T16:42:06.323Z"
      },
      {
        "duration": 6,
        "start_time": "2022-03-31T16:42:06.910Z"
      },
      {
        "duration": 9,
        "start_time": "2022-03-31T16:42:09.268Z"
      },
      {
        "duration": 6,
        "start_time": "2022-03-31T16:42:30.626Z"
      },
      {
        "duration": 7,
        "start_time": "2022-03-31T16:43:20.261Z"
      },
      {
        "duration": 9,
        "start_time": "2022-03-31T16:43:21.675Z"
      },
      {
        "duration": 20,
        "start_time": "2022-03-31T16:43:40.082Z"
      },
      {
        "duration": 21,
        "start_time": "2022-03-31T16:46:08.286Z"
      },
      {
        "duration": 5,
        "start_time": "2022-03-31T16:47:40.190Z"
      },
      {
        "duration": 23,
        "start_time": "2022-03-31T16:47:47.828Z"
      },
      {
        "duration": 5,
        "start_time": "2022-03-31T16:50:36.304Z"
      },
      {
        "duration": 304,
        "start_time": "2022-03-31T16:50:36.921Z"
      },
      {
        "duration": 28,
        "start_time": "2022-03-31T16:50:39.043Z"
      },
      {
        "duration": 5,
        "start_time": "2022-03-31T16:52:26.934Z"
      },
      {
        "duration": 316,
        "start_time": "2022-03-31T16:52:27.458Z"
      },
      {
        "duration": 24,
        "start_time": "2022-03-31T16:52:28.636Z"
      },
      {
        "duration": 6,
        "start_time": "2022-03-31T17:01:07.653Z"
      },
      {
        "duration": 283,
        "start_time": "2022-03-31T17:01:08.230Z"
      },
      {
        "duration": 23,
        "start_time": "2022-03-31T17:01:09.698Z"
      },
      {
        "duration": 23,
        "start_time": "2022-03-31T17:02:35.476Z"
      },
      {
        "duration": 17,
        "start_time": "2022-03-31T17:03:28.895Z"
      },
      {
        "duration": 47,
        "start_time": "2022-03-31T17:11:01.496Z"
      },
      {
        "duration": 34,
        "start_time": "2022-03-31T17:11:19.460Z"
      },
      {
        "duration": 7,
        "start_time": "2022-03-31T17:12:57.867Z"
      },
      {
        "duration": 5,
        "start_time": "2022-03-31T17:15:46.901Z"
      },
      {
        "duration": 4,
        "start_time": "2022-03-31T17:15:47.349Z"
      },
      {
        "duration": 719,
        "start_time": "2022-03-31T17:15:47.780Z"
      },
      {
        "duration": 46,
        "start_time": "2022-03-31T17:15:48.502Z"
      },
      {
        "duration": 56,
        "start_time": "2022-03-31T17:15:48.663Z"
      },
      {
        "duration": 47,
        "start_time": "2022-03-31T17:15:49.123Z"
      },
      {
        "duration": 29,
        "start_time": "2022-03-31T17:15:49.540Z"
      },
      {
        "duration": 24,
        "start_time": "2022-03-31T17:15:50.000Z"
      },
      {
        "duration": 5,
        "start_time": "2022-03-31T17:15:50.430Z"
      },
      {
        "duration": 27,
        "start_time": "2022-03-31T17:15:50.869Z"
      },
      {
        "duration": 21,
        "start_time": "2022-03-31T17:15:51.294Z"
      },
      {
        "duration": 23,
        "start_time": "2022-03-31T17:15:51.692Z"
      },
      {
        "duration": 8,
        "start_time": "2022-03-31T17:15:52.128Z"
      },
      {
        "duration": 9,
        "start_time": "2022-03-31T17:15:52.594Z"
      },
      {
        "duration": 209,
        "start_time": "2022-03-31T17:15:54.360Z"
      },
      {
        "duration": 43,
        "start_time": "2022-03-31T17:15:54.761Z"
      },
      {
        "duration": 13,
        "start_time": "2022-03-31T17:15:55.181Z"
      },
      {
        "duration": 252,
        "start_time": "2022-03-31T17:15:55.650Z"
      },
      {
        "duration": 152,
        "start_time": "2022-03-31T17:15:57.530Z"
      },
      {
        "duration": 48,
        "start_time": "2022-03-31T17:15:58.016Z"
      },
      {
        "duration": 15,
        "start_time": "2022-03-31T17:15:58.857Z"
      },
      {
        "duration": 113,
        "start_time": "2022-03-31T17:16:00.828Z"
      },
      {
        "duration": 14,
        "start_time": "2022-03-31T17:16:01.334Z"
      },
      {
        "duration": 29,
        "start_time": "2022-03-31T17:16:01.847Z"
      },
      {
        "duration": 17,
        "start_time": "2022-03-31T17:16:03.822Z"
      },
      {
        "duration": 16,
        "start_time": "2022-03-31T17:16:04.271Z"
      },
      {
        "duration": 33,
        "start_time": "2022-03-31T17:16:04.709Z"
      },
      {
        "duration": 14,
        "start_time": "2022-03-31T17:16:05.144Z"
      },
      {
        "duration": 77,
        "start_time": "2022-03-31T17:16:06.884Z"
      },
      {
        "duration": 38,
        "start_time": "2022-03-31T17:16:07.363Z"
      },
      {
        "duration": 37,
        "start_time": "2022-03-31T17:16:07.784Z"
      },
      {
        "duration": 25,
        "start_time": "2022-03-31T17:16:08.683Z"
      },
      {
        "duration": 40,
        "start_time": "2022-03-31T17:16:09.134Z"
      },
      {
        "duration": 22,
        "start_time": "2022-03-31T17:16:09.564Z"
      },
      {
        "duration": 6,
        "start_time": "2022-03-31T17:16:09.988Z"
      },
      {
        "duration": 22,
        "start_time": "2022-03-31T17:16:10.459Z"
      },
      {
        "duration": 33,
        "start_time": "2022-03-31T17:16:10.878Z"
      },
      {
        "duration": 43,
        "start_time": "2022-03-31T17:16:11.326Z"
      },
      {
        "duration": 9,
        "start_time": "2022-03-31T17:16:11.780Z"
      },
      {
        "duration": 12,
        "start_time": "2022-03-31T17:16:12.227Z"
      },
      {
        "duration": 6,
        "start_time": "2022-03-31T17:16:12.818Z"
      },
      {
        "duration": 5,
        "start_time": "2022-03-31T17:16:13.392Z"
      },
      {
        "duration": 9,
        "start_time": "2022-03-31T17:16:13.936Z"
      },
      {
        "duration": 24,
        "start_time": "2022-03-31T17:16:14.454Z"
      },
      {
        "duration": 198,
        "start_time": "2022-03-31T17:16:16.964Z"
      },
      {
        "duration": 193,
        "start_time": "2022-03-31T17:16:34.617Z"
      },
      {
        "duration": 191,
        "start_time": "2022-03-31T17:16:47.046Z"
      },
      {
        "duration": 194,
        "start_time": "2022-03-31T17:17:13.209Z"
      },
      {
        "duration": 181,
        "start_time": "2022-03-31T17:17:22.061Z"
      },
      {
        "duration": 197,
        "start_time": "2022-03-31T17:17:32.494Z"
      },
      {
        "duration": 189,
        "start_time": "2022-03-31T17:17:40.715Z"
      },
      {
        "duration": 188,
        "start_time": "2022-03-31T17:18:01.052Z"
      },
      {
        "duration": 284,
        "start_time": "2022-03-31T17:18:23.287Z"
      },
      {
        "duration": 25,
        "start_time": "2022-03-31T17:18:25.781Z"
      },
      {
        "duration": 19,
        "start_time": "2022-03-31T17:18:31.853Z"
      },
      {
        "duration": 5,
        "start_time": "2022-03-31T17:20:56.003Z"
      },
      {
        "duration": 7,
        "start_time": "2022-03-31T17:20:57.335Z"
      },
      {
        "duration": 9,
        "start_time": "2022-03-31T17:20:58.234Z"
      },
      {
        "duration": 4,
        "start_time": "2022-03-31T17:21:03.177Z"
      },
      {
        "duration": 5,
        "start_time": "2022-03-31T17:21:03.675Z"
      },
      {
        "duration": 9,
        "start_time": "2022-03-31T17:21:04.140Z"
      },
      {
        "duration": 22,
        "start_time": "2022-03-31T17:21:04.909Z"
      },
      {
        "duration": 6,
        "start_time": "2022-03-31T17:21:36.020Z"
      },
      {
        "duration": 6,
        "start_time": "2022-03-31T17:21:37.433Z"
      },
      {
        "duration": 10,
        "start_time": "2022-03-31T17:21:37.806Z"
      },
      {
        "duration": 4,
        "start_time": "2022-03-31T17:21:38.230Z"
      },
      {
        "duration": 6,
        "start_time": "2022-03-31T17:21:39.324Z"
      },
      {
        "duration": 10,
        "start_time": "2022-03-31T17:21:40.233Z"
      },
      {
        "duration": 23,
        "start_time": "2022-03-31T17:21:40.814Z"
      },
      {
        "duration": 5,
        "start_time": "2022-03-31T17:22:22.368Z"
      },
      {
        "duration": 275,
        "start_time": "2022-03-31T17:22:23.630Z"
      },
      {
        "duration": 24,
        "start_time": "2022-03-31T17:22:25.015Z"
      },
      {
        "duration": 44,
        "start_time": "2022-03-31T17:28:49.214Z"
      },
      {
        "duration": 52,
        "start_time": "2022-03-31T17:33:07.147Z"
      },
      {
        "duration": 38,
        "start_time": "2022-03-31T17:33:25.298Z"
      },
      {
        "duration": 2842,
        "start_time": "2022-03-31T17:33:29.679Z"
      },
      {
        "duration": 0,
        "start_time": "2022-03-31T17:33:32.523Z"
      },
      {
        "duration": 5,
        "start_time": "2022-03-31T17:33:51.140Z"
      },
      {
        "duration": 4,
        "start_time": "2022-03-31T17:33:51.556Z"
      },
      {
        "duration": 481,
        "start_time": "2022-03-31T17:33:51.910Z"
      },
      {
        "duration": 39,
        "start_time": "2022-03-31T17:33:52.394Z"
      },
      {
        "duration": 36,
        "start_time": "2022-03-31T17:33:52.662Z"
      },
      {
        "duration": 31,
        "start_time": "2022-03-31T17:33:53.083Z"
      },
      {
        "duration": 26,
        "start_time": "2022-03-31T17:33:53.470Z"
      },
      {
        "duration": 22,
        "start_time": "2022-03-31T17:33:53.857Z"
      },
      {
        "duration": 5,
        "start_time": "2022-03-31T17:33:54.240Z"
      },
      {
        "duration": 26,
        "start_time": "2022-03-31T17:33:54.629Z"
      },
      {
        "duration": 18,
        "start_time": "2022-03-31T17:33:55.036Z"
      },
      {
        "duration": 22,
        "start_time": "2022-03-31T17:33:55.427Z"
      },
      {
        "duration": 8,
        "start_time": "2022-03-31T17:33:55.824Z"
      },
      {
        "duration": 9,
        "start_time": "2022-03-31T17:33:56.228Z"
      },
      {
        "duration": 194,
        "start_time": "2022-03-31T17:33:57.805Z"
      },
      {
        "duration": 40,
        "start_time": "2022-03-31T17:33:58.191Z"
      },
      {
        "duration": 11,
        "start_time": "2022-03-31T17:33:58.563Z"
      },
      {
        "duration": 222,
        "start_time": "2022-03-31T17:33:58.979Z"
      },
      {
        "duration": 140,
        "start_time": "2022-03-31T17:34:00.596Z"
      },
      {
        "duration": 42,
        "start_time": "2022-03-31T17:34:00.983Z"
      },
      {
        "duration": 14,
        "start_time": "2022-03-31T17:34:01.386Z"
      },
      {
        "duration": 101,
        "start_time": "2022-03-31T17:34:02.912Z"
      },
      {
        "duration": 13,
        "start_time": "2022-03-31T17:34:03.296Z"
      },
      {
        "duration": 34,
        "start_time": "2022-03-31T17:34:03.721Z"
      },
      {
        "duration": 17,
        "start_time": "2022-03-31T17:34:05.299Z"
      },
      {
        "duration": 16,
        "start_time": "2022-03-31T17:34:05.691Z"
      },
      {
        "duration": 25,
        "start_time": "2022-03-31T17:34:06.113Z"
      },
      {
        "duration": 9,
        "start_time": "2022-03-31T17:34:06.543Z"
      },
      {
        "duration": 53,
        "start_time": "2022-03-31T17:34:08.143Z"
      },
      {
        "duration": 34,
        "start_time": "2022-03-31T17:34:10.215Z"
      },
      {
        "duration": 32,
        "start_time": "2022-03-31T17:34:10.833Z"
      },
      {
        "duration": 24,
        "start_time": "2022-03-31T17:34:12.760Z"
      },
      {
        "duration": 28,
        "start_time": "2022-03-31T17:34:18.365Z"
      },
      {
        "duration": 22,
        "start_time": "2022-03-31T17:34:20.800Z"
      },
      {
        "duration": 5,
        "start_time": "2022-03-31T17:34:21.712Z"
      },
      {
        "duration": 20,
        "start_time": "2022-03-31T17:34:25.129Z"
      },
      {
        "duration": 28,
        "start_time": "2022-03-31T17:34:26.613Z"
      },
      {
        "duration": 35,
        "start_time": "2022-03-31T17:35:23.475Z"
      },
      {
        "duration": 20,
        "start_time": "2022-03-31T17:35:30.704Z"
      },
      {
        "duration": 4,
        "start_time": "2022-03-31T17:36:01.701Z"
      },
      {
        "duration": 4,
        "start_time": "2022-03-31T17:36:02.061Z"
      },
      {
        "duration": 569,
        "start_time": "2022-03-31T17:36:02.415Z"
      },
      {
        "duration": 45,
        "start_time": "2022-03-31T17:36:02.987Z"
      },
      {
        "duration": 60,
        "start_time": "2022-03-31T17:36:03.187Z"
      },
      {
        "duration": 52,
        "start_time": "2022-03-31T17:36:03.585Z"
      },
      {
        "duration": 27,
        "start_time": "2022-03-31T17:36:03.974Z"
      },
      {
        "duration": 23,
        "start_time": "2022-03-31T17:36:04.424Z"
      },
      {
        "duration": 5,
        "start_time": "2022-03-31T17:36:04.898Z"
      },
      {
        "duration": 27,
        "start_time": "2022-03-31T17:36:05.355Z"
      },
      {
        "duration": 19,
        "start_time": "2022-03-31T17:36:06.006Z"
      },
      {
        "duration": 24,
        "start_time": "2022-03-31T17:36:06.520Z"
      },
      {
        "duration": 9,
        "start_time": "2022-03-31T17:36:07.005Z"
      },
      {
        "duration": 10,
        "start_time": "2022-03-31T17:36:07.473Z"
      },
      {
        "duration": 210,
        "start_time": "2022-03-31T17:36:09.314Z"
      },
      {
        "duration": 44,
        "start_time": "2022-03-31T17:36:09.825Z"
      },
      {
        "duration": 11,
        "start_time": "2022-03-31T17:36:10.393Z"
      },
      {
        "duration": 234,
        "start_time": "2022-03-31T17:36:10.902Z"
      },
      {
        "duration": 145,
        "start_time": "2022-03-31T17:36:12.993Z"
      },
      {
        "duration": 41,
        "start_time": "2022-03-31T17:36:13.515Z"
      },
      {
        "duration": 16,
        "start_time": "2022-03-31T17:36:14.087Z"
      },
      {
        "duration": 94,
        "start_time": "2022-03-31T17:36:16.285Z"
      },
      {
        "duration": 12,
        "start_time": "2022-03-31T17:36:17.115Z"
      },
      {
        "duration": 26,
        "start_time": "2022-03-31T17:36:17.755Z"
      },
      {
        "duration": 16,
        "start_time": "2022-03-31T17:36:20.110Z"
      },
      {
        "duration": 17,
        "start_time": "2022-03-31T17:36:20.632Z"
      },
      {
        "duration": 25,
        "start_time": "2022-03-31T17:36:21.252Z"
      },
      {
        "duration": 7,
        "start_time": "2022-03-31T17:36:21.746Z"
      },
      {
        "duration": 53,
        "start_time": "2022-03-31T17:36:23.835Z"
      },
      {
        "duration": 34,
        "start_time": "2022-03-31T17:36:24.545Z"
      },
      {
        "duration": 35,
        "start_time": "2022-03-31T17:36:26.031Z"
      },
      {
        "duration": 25,
        "start_time": "2022-03-31T17:36:28.759Z"
      },
      {
        "duration": 29,
        "start_time": "2022-03-31T17:36:49.141Z"
      },
      {
        "duration": 22,
        "start_time": "2022-03-31T17:36:50.105Z"
      },
      {
        "duration": 7,
        "start_time": "2022-03-31T17:36:53.265Z"
      },
      {
        "duration": 21,
        "start_time": "2022-03-31T17:36:57.653Z"
      },
      {
        "duration": 32,
        "start_time": "2022-03-31T17:37:06.370Z"
      },
      {
        "duration": 33,
        "start_time": "2022-03-31T17:37:12.474Z"
      },
      {
        "duration": 9,
        "start_time": "2022-03-31T17:37:18.489Z"
      },
      {
        "duration": 42,
        "start_time": "2022-03-31T17:37:46.129Z"
      },
      {
        "duration": 10,
        "start_time": "2022-03-31T17:37:53.796Z"
      },
      {
        "duration": 2991,
        "start_time": "2022-03-31T17:37:54.576Z"
      },
      {
        "duration": 6,
        "start_time": "2022-03-31T17:37:58.150Z"
      },
      {
        "duration": 48,
        "start_time": "2022-03-31T17:38:08.909Z"
      },
      {
        "duration": 39,
        "start_time": "2022-03-31T17:38:19.811Z"
      },
      {
        "duration": 5,
        "start_time": "2022-03-31T17:39:47.439Z"
      },
      {
        "duration": 4,
        "start_time": "2022-03-31T17:39:47.612Z"
      },
      {
        "duration": 474,
        "start_time": "2022-03-31T17:39:47.788Z"
      },
      {
        "duration": 40,
        "start_time": "2022-03-31T17:39:48.265Z"
      },
      {
        "duration": 45,
        "start_time": "2022-03-31T17:39:48.307Z"
      },
      {
        "duration": 31,
        "start_time": "2022-03-31T17:39:48.355Z"
      },
      {
        "duration": 28,
        "start_time": "2022-03-31T17:39:48.484Z"
      },
      {
        "duration": 23,
        "start_time": "2022-03-31T17:39:48.651Z"
      },
      {
        "duration": 4,
        "start_time": "2022-03-31T17:39:48.814Z"
      },
      {
        "duration": 26,
        "start_time": "2022-03-31T17:39:48.974Z"
      },
      {
        "duration": 18,
        "start_time": "2022-03-31T17:39:49.145Z"
      },
      {
        "duration": 462,
        "start_time": "2022-03-31T17:39:49.310Z"
      },
      {
        "duration": 8,
        "start_time": "2022-03-31T17:39:49.774Z"
      },
      {
        "duration": 9,
        "start_time": "2022-03-31T17:39:49.784Z"
      },
      {
        "duration": 210,
        "start_time": "2022-03-31T17:39:50.410Z"
      },
      {
        "duration": 52,
        "start_time": "2022-03-31T17:39:50.622Z"
      },
      {
        "duration": 16,
        "start_time": "2022-03-31T17:39:50.758Z"
      },
      {
        "duration": 240,
        "start_time": "2022-03-31T17:39:50.945Z"
      },
      {
        "duration": 140,
        "start_time": "2022-03-31T17:39:51.652Z"
      },
      {
        "duration": 41,
        "start_time": "2022-03-31T17:39:51.818Z"
      },
      {
        "duration": 14,
        "start_time": "2022-03-31T17:39:51.998Z"
      },
      {
        "duration": 137,
        "start_time": "2022-03-31T17:39:52.720Z"
      },
      {
        "duration": 18,
        "start_time": "2022-03-31T17:39:52.890Z"
      },
      {
        "duration": 37,
        "start_time": "2022-03-31T17:39:53.036Z"
      },
      {
        "duration": 16,
        "start_time": "2022-03-31T17:39:53.777Z"
      },
      {
        "duration": 16,
        "start_time": "2022-03-31T17:39:53.936Z"
      },
      {
        "duration": 23,
        "start_time": "2022-03-31T17:39:54.094Z"
      },
      {
        "duration": 7,
        "start_time": "2022-03-31T17:39:54.273Z"
      },
      {
        "duration": 49,
        "start_time": "2022-03-31T17:39:55.031Z"
      },
      {
        "duration": 35,
        "start_time": "2022-03-31T17:39:55.212Z"
      },
      {
        "duration": 35,
        "start_time": "2022-03-31T17:39:55.413Z"
      },
      {
        "duration": 26,
        "start_time": "2022-03-31T17:39:55.794Z"
      },
      {
        "duration": 29,
        "start_time": "2022-03-31T17:39:55.983Z"
      },
      {
        "duration": 22,
        "start_time": "2022-03-31T17:39:56.171Z"
      },
      {
        "duration": 5,
        "start_time": "2022-03-31T17:39:56.331Z"
      },
      {
        "duration": 19,
        "start_time": "2022-03-31T17:39:56.502Z"
      },
      {
        "duration": 31,
        "start_time": "2022-03-31T17:39:56.674Z"
      },
      {
        "duration": 33,
        "start_time": "2022-03-31T17:39:56.904Z"
      },
      {
        "duration": 7,
        "start_time": "2022-03-31T17:40:06.130Z"
      },
      {
        "duration": 6,
        "start_time": "2022-03-31T17:40:09.137Z"
      },
      {
        "duration": 10,
        "start_time": "2022-03-31T17:40:10.340Z"
      },
      {
        "duration": 5,
        "start_time": "2022-03-31T17:40:12.470Z"
      },
      {
        "duration": 6,
        "start_time": "2022-03-31T17:40:13.813Z"
      },
      {
        "duration": 11,
        "start_time": "2022-03-31T17:40:16.088Z"
      },
      {
        "duration": 23,
        "start_time": "2022-03-31T17:40:17.027Z"
      },
      {
        "duration": 5,
        "start_time": "2022-03-31T17:40:30.653Z"
      },
      {
        "duration": 279,
        "start_time": "2022-03-31T17:40:32.045Z"
      },
      {
        "duration": 7,
        "start_time": "2022-03-31T17:40:33.579Z"
      },
      {
        "duration": 22,
        "start_time": "2022-03-31T17:40:43.905Z"
      },
      {
        "duration": 9,
        "start_time": "2022-03-31T17:42:57.913Z"
      },
      {
        "duration": 19,
        "start_time": "2022-03-31T17:42:58.502Z"
      },
      {
        "duration": 18,
        "start_time": "2022-03-31T17:43:04.473Z"
      },
      {
        "duration": 9,
        "start_time": "2022-03-31T17:43:36.974Z"
      },
      {
        "duration": 18,
        "start_time": "2022-03-31T17:43:37.554Z"
      },
      {
        "duration": 19,
        "start_time": "2022-03-31T17:43:39.648Z"
      },
      {
        "duration": 8,
        "start_time": "2022-03-31T17:43:56.472Z"
      },
      {
        "duration": 280,
        "start_time": "2022-03-31T17:44:37.634Z"
      },
      {
        "duration": 9,
        "start_time": "2022-03-31T17:44:38.113Z"
      },
      {
        "duration": 18,
        "start_time": "2022-03-31T17:44:39.275Z"
      },
      {
        "duration": 19,
        "start_time": "2022-03-31T17:45:07.616Z"
      },
      {
        "duration": 10,
        "start_time": "2022-03-31T17:47:26.053Z"
      },
      {
        "duration": 23,
        "start_time": "2022-03-31T17:48:06.152Z"
      },
      {
        "duration": 21,
        "start_time": "2022-03-31T17:48:20.535Z"
      },
      {
        "duration": 29,
        "start_time": "2022-03-31T17:48:32.734Z"
      },
      {
        "duration": 28,
        "start_time": "2022-03-31T17:48:45.480Z"
      },
      {
        "duration": 31,
        "start_time": "2022-03-31T17:49:30.253Z"
      },
      {
        "duration": 28,
        "start_time": "2022-03-31T17:49:45.057Z"
      },
      {
        "duration": 305,
        "start_time": "2022-03-31T17:57:53.048Z"
      },
      {
        "duration": 235,
        "start_time": "2022-03-31T17:58:20.822Z"
      },
      {
        "duration": 248,
        "start_time": "2022-03-31T17:58:25.646Z"
      },
      {
        "duration": 289,
        "start_time": "2022-03-31T17:58:33.573Z"
      },
      {
        "duration": 307,
        "start_time": "2022-03-31T17:59:14.221Z"
      },
      {
        "duration": 318,
        "start_time": "2022-03-31T18:01:45.511Z"
      },
      {
        "duration": 634,
        "start_time": "2022-03-31T18:02:01.846Z"
      },
      {
        "duration": 266,
        "start_time": "2022-03-31T18:05:31.507Z"
      },
      {
        "duration": 341,
        "start_time": "2022-03-31T18:05:39.229Z"
      },
      {
        "duration": 304,
        "start_time": "2022-03-31T18:06:49.147Z"
      },
      {
        "duration": 311,
        "start_time": "2022-03-31T18:07:20.992Z"
      },
      {
        "duration": 11,
        "start_time": "2022-03-31T18:08:47.242Z"
      },
      {
        "duration": 159,
        "start_time": "2022-03-31T18:11:03.572Z"
      },
      {
        "duration": 491,
        "start_time": "2022-03-31T18:14:38.369Z"
      },
      {
        "duration": 566,
        "start_time": "2022-03-31T18:15:23.492Z"
      },
      {
        "duration": 15,
        "start_time": "2022-03-31T18:16:00.496Z"
      },
      {
        "duration": 12,
        "start_time": "2022-03-31T18:16:07.162Z"
      },
      {
        "duration": 658,
        "start_time": "2022-03-31T18:16:41.985Z"
      },
      {
        "duration": 693,
        "start_time": "2022-03-31T18:17:05.541Z"
      },
      {
        "duration": 486,
        "start_time": "2022-03-31T18:17:44.871Z"
      },
      {
        "duration": 472,
        "start_time": "2022-03-31T18:18:54.747Z"
      },
      {
        "duration": 508,
        "start_time": "2022-03-31T18:19:39.143Z"
      },
      {
        "duration": 656,
        "start_time": "2022-03-31T18:19:47.749Z"
      },
      {
        "duration": 5,
        "start_time": "2022-03-31T18:24:36.541Z"
      },
      {
        "duration": 8,
        "start_time": "2022-03-31T18:26:06.849Z"
      },
      {
        "duration": 7,
        "start_time": "2022-03-31T18:26:22.868Z"
      },
      {
        "duration": 9,
        "start_time": "2022-03-31T18:26:33.888Z"
      },
      {
        "duration": 7,
        "start_time": "2022-03-31T18:28:58.722Z"
      },
      {
        "duration": 7,
        "start_time": "2022-03-31T18:29:31.930Z"
      },
      {
        "duration": 7,
        "start_time": "2022-03-31T18:29:32.411Z"
      },
      {
        "duration": 13,
        "start_time": "2022-03-31T18:39:49.125Z"
      },
      {
        "duration": 525,
        "start_time": "2022-03-31T18:40:10.896Z"
      },
      {
        "duration": 178,
        "start_time": "2022-03-31T18:41:01.417Z"
      },
      {
        "duration": 338,
        "start_time": "2022-03-31T18:41:07.959Z"
      },
      {
        "duration": 1305,
        "start_time": "2022-03-31T18:41:25.411Z"
      },
      {
        "duration": 1032,
        "start_time": "2022-03-31T18:42:18.892Z"
      },
      {
        "duration": 934,
        "start_time": "2022-03-31T18:42:34.495Z"
      },
      {
        "duration": 1066,
        "start_time": "2022-03-31T18:47:10.342Z"
      },
      {
        "duration": 19,
        "start_time": "2022-03-31T18:50:08.209Z"
      },
      {
        "duration": 19,
        "start_time": "2022-03-31T18:50:28.672Z"
      },
      {
        "duration": 830,
        "start_time": "2022-03-31T18:50:38.375Z"
      },
      {
        "duration": 899,
        "start_time": "2022-03-31T18:51:23.101Z"
      },
      {
        "duration": 195,
        "start_time": "2022-03-31T18:51:41.504Z"
      },
      {
        "duration": 867,
        "start_time": "2022-03-31T18:52:17.081Z"
      },
      {
        "duration": 177,
        "start_time": "2022-03-31T18:54:15.178Z"
      },
      {
        "duration": 1303,
        "start_time": "2022-03-31T18:54:26.229Z"
      },
      {
        "duration": 1404,
        "start_time": "2022-03-31T18:55:06.145Z"
      },
      {
        "duration": 914,
        "start_time": "2022-03-31T18:56:41.495Z"
      },
      {
        "duration": 1245,
        "start_time": "2022-03-31T18:58:04.084Z"
      },
      {
        "duration": 235,
        "start_time": "2022-03-31T19:53:11.464Z"
      },
      {
        "duration": 5,
        "start_time": "2022-03-31T19:53:16.974Z"
      },
      {
        "duration": 5,
        "start_time": "2022-03-31T19:54:40.651Z"
      },
      {
        "duration": 7,
        "start_time": "2022-03-31T19:59:04.203Z"
      },
      {
        "duration": 43,
        "start_time": "2022-03-31T20:00:40.461Z"
      },
      {
        "duration": 8,
        "start_time": "2022-03-31T20:01:20.498Z"
      },
      {
        "duration": 5,
        "start_time": "2022-03-31T20:03:45.173Z"
      },
      {
        "duration": 5,
        "start_time": "2022-03-31T20:04:03.866Z"
      },
      {
        "duration": 7,
        "start_time": "2022-03-31T20:06:36.984Z"
      },
      {
        "duration": 2933,
        "start_time": "2022-03-31T20:06:38.028Z"
      },
      {
        "duration": 7,
        "start_time": "2022-03-31T20:06:47.831Z"
      },
      {
        "duration": 8,
        "start_time": "2022-03-31T20:09:14.158Z"
      },
      {
        "duration": 7,
        "start_time": "2022-03-31T20:09:35.861Z"
      },
      {
        "duration": 5,
        "start_time": "2022-03-31T20:09:49.811Z"
      },
      {
        "duration": 4,
        "start_time": "2022-03-31T20:10:15.809Z"
      },
      {
        "duration": 20,
        "start_time": "2022-03-31T20:46:27.262Z"
      },
      {
        "duration": 8,
        "start_time": "2022-03-31T20:48:02.429Z"
      },
      {
        "duration": 25,
        "start_time": "2022-03-31T20:48:28.762Z"
      },
      {
        "duration": 197,
        "start_time": "2022-03-31T20:48:37.739Z"
      },
      {
        "duration": 25,
        "start_time": "2022-03-31T20:48:41.470Z"
      },
      {
        "duration": 31,
        "start_time": "2022-03-31T20:50:24.274Z"
      },
      {
        "duration": 23,
        "start_time": "2022-03-31T20:50:32.157Z"
      },
      {
        "duration": 17,
        "start_time": "2022-03-31T20:53:35.387Z"
      },
      {
        "duration": 823,
        "start_time": "2022-03-31T20:55:24.597Z"
      },
      {
        "duration": 29,
        "start_time": "2022-03-31T20:56:46.651Z"
      },
      {
        "duration": 33,
        "start_time": "2022-03-31T20:56:52.071Z"
      },
      {
        "duration": 57,
        "start_time": "2022-03-31T20:57:12.647Z"
      },
      {
        "duration": 4,
        "start_time": "2022-03-31T20:57:49.013Z"
      },
      {
        "duration": 3,
        "start_time": "2022-03-31T20:57:49.408Z"
      },
      {
        "duration": 712,
        "start_time": "2022-03-31T20:57:49.867Z"
      },
      {
        "duration": 42,
        "start_time": "2022-03-31T20:57:50.581Z"
      },
      {
        "duration": 55,
        "start_time": "2022-03-31T20:57:50.765Z"
      },
      {
        "duration": 37,
        "start_time": "2022-03-31T20:57:51.213Z"
      },
      {
        "duration": 33,
        "start_time": "2022-03-31T20:57:51.649Z"
      },
      {
        "duration": 31,
        "start_time": "2022-03-31T20:57:52.107Z"
      },
      {
        "duration": 6,
        "start_time": "2022-03-31T20:57:52.610Z"
      },
      {
        "duration": 27,
        "start_time": "2022-03-31T20:57:53.017Z"
      },
      {
        "duration": 26,
        "start_time": "2022-03-31T20:57:53.447Z"
      },
      {
        "duration": 24,
        "start_time": "2022-03-31T20:57:53.818Z"
      },
      {
        "duration": 8,
        "start_time": "2022-03-31T20:57:54.230Z"
      },
      {
        "duration": 10,
        "start_time": "2022-03-31T20:57:54.637Z"
      },
      {
        "duration": 218,
        "start_time": "2022-03-31T20:57:56.271Z"
      },
      {
        "duration": 46,
        "start_time": "2022-03-31T20:57:56.738Z"
      },
      {
        "duration": 14,
        "start_time": "2022-03-31T20:57:57.209Z"
      },
      {
        "duration": 252,
        "start_time": "2022-03-31T20:57:57.652Z"
      },
      {
        "duration": 161,
        "start_time": "2022-03-31T20:57:59.326Z"
      },
      {
        "duration": 44,
        "start_time": "2022-03-31T20:57:59.765Z"
      },
      {
        "duration": 14,
        "start_time": "2022-03-31T20:58:00.220Z"
      },
      {
        "duration": 140,
        "start_time": "2022-03-31T20:58:02.031Z"
      },
      {
        "duration": 14,
        "start_time": "2022-03-31T20:58:02.495Z"
      },
      {
        "duration": 30,
        "start_time": "2022-03-31T20:58:02.951Z"
      },
      {
        "duration": 21,
        "start_time": "2022-03-31T20:58:04.748Z"
      },
      {
        "duration": 21,
        "start_time": "2022-03-31T20:58:05.212Z"
      },
      {
        "duration": 34,
        "start_time": "2022-03-31T20:58:05.633Z"
      },
      {
        "duration": 13,
        "start_time": "2022-03-31T20:58:06.077Z"
      },
      {
        "duration": 65,
        "start_time": "2022-03-31T20:58:07.916Z"
      },
      {
        "duration": 33,
        "start_time": "2022-03-31T20:58:08.380Z"
      },
      {
        "duration": 36,
        "start_time": "2022-03-31T20:58:08.902Z"
      },
      {
        "duration": 26,
        "start_time": "2022-03-31T20:58:09.868Z"
      },
      {
        "duration": 35,
        "start_time": "2022-03-31T20:58:10.341Z"
      },
      {
        "duration": 29,
        "start_time": "2022-03-31T20:58:10.762Z"
      },
      {
        "duration": 6,
        "start_time": "2022-03-31T20:58:11.223Z"
      },
      {
        "duration": 33,
        "start_time": "2022-03-31T20:58:11.730Z"
      },
      {
        "duration": 59,
        "start_time": "2022-03-31T20:58:12.218Z"
      },
      {
        "duration": 33,
        "start_time": "2022-03-31T20:58:12.672Z"
      },
      {
        "duration": 5,
        "start_time": "2022-03-31T20:58:13.124Z"
      },
      {
        "duration": 7,
        "start_time": "2022-03-31T20:58:13.623Z"
      },
      {
        "duration": 8,
        "start_time": "2022-03-31T20:58:14.183Z"
      },
      {
        "duration": 6,
        "start_time": "2022-03-31T20:58:15.880Z"
      },
      {
        "duration": 7,
        "start_time": "2022-03-31T20:58:16.489Z"
      },
      {
        "duration": 12,
        "start_time": "2022-03-31T20:58:17.705Z"
      },
      {
        "duration": 23,
        "start_time": "2022-03-31T20:58:18.280Z"
      },
      {
        "duration": 6,
        "start_time": "2022-03-31T20:58:20.812Z"
      },
      {
        "duration": 370,
        "start_time": "2022-03-31T20:58:21.385Z"
      },
      {
        "duration": 10,
        "start_time": "2022-03-31T20:58:21.966Z"
      },
      {
        "duration": 35,
        "start_time": "2022-03-31T20:58:23.543Z"
      },
      {
        "duration": 21,
        "start_time": "2022-03-31T20:58:27.273Z"
      },
      {
        "duration": 11,
        "start_time": "2022-03-31T20:58:29.783Z"
      },
      {
        "duration": 1062,
        "start_time": "2022-03-31T20:58:31.083Z"
      },
      {
        "duration": 938,
        "start_time": "2022-03-31T20:58:33.823Z"
      },
      {
        "duration": 1113,
        "start_time": "2022-03-31T20:58:36.482Z"
      },
      {
        "duration": 7,
        "start_time": "2022-03-31T20:58:37.640Z"
      },
      {
        "duration": 8,
        "start_time": "2022-03-31T20:58:38.671Z"
      },
      {
        "duration": 31,
        "start_time": "2022-03-31T20:58:43.023Z"
      },
      {
        "duration": 34,
        "start_time": "2022-03-31T20:58:44.034Z"
      },
      {
        "duration": 3266,
        "start_time": "2022-03-31T20:58:58.525Z"
      },
      {
        "duration": 25,
        "start_time": "2022-03-31T21:00:43.241Z"
      },
      {
        "duration": 68,
        "start_time": "2022-03-31T21:01:38.436Z"
      },
      {
        "duration": 40,
        "start_time": "2022-03-31T21:01:54.181Z"
      },
      {
        "duration": 68,
        "start_time": "2022-03-31T21:02:03.315Z"
      },
      {
        "duration": 28,
        "start_time": "2022-03-31T21:02:08.474Z"
      },
      {
        "duration": 103,
        "start_time": "2022-03-31T21:02:09.214Z"
      },
      {
        "duration": 41,
        "start_time": "2022-03-31T21:02:15.081Z"
      },
      {
        "duration": 49,
        "start_time": "2022-03-31T21:03:39.415Z"
      },
      {
        "duration": 58,
        "start_time": "2022-03-31T21:04:18.143Z"
      },
      {
        "duration": 4,
        "start_time": "2022-03-31T21:05:26.015Z"
      },
      {
        "duration": 5,
        "start_time": "2022-03-31T21:05:26.203Z"
      },
      {
        "duration": 586,
        "start_time": "2022-03-31T21:05:26.377Z"
      },
      {
        "duration": 63,
        "start_time": "2022-03-31T21:05:26.965Z"
      },
      {
        "duration": 54,
        "start_time": "2022-03-31T21:05:27.031Z"
      },
      {
        "duration": 32,
        "start_time": "2022-03-31T21:05:27.088Z"
      },
      {
        "duration": 34,
        "start_time": "2022-03-31T21:05:27.146Z"
      },
      {
        "duration": 32,
        "start_time": "2022-03-31T21:05:27.250Z"
      },
      {
        "duration": 6,
        "start_time": "2022-03-31T21:05:27.386Z"
      },
      {
        "duration": 32,
        "start_time": "2022-03-31T21:05:27.547Z"
      },
      {
        "duration": 21,
        "start_time": "2022-03-31T21:05:27.724Z"
      },
      {
        "duration": 28,
        "start_time": "2022-03-31T21:05:27.961Z"
      },
      {
        "duration": 10,
        "start_time": "2022-03-31T21:05:28.064Z"
      },
      {
        "duration": 9,
        "start_time": "2022-03-31T21:05:28.225Z"
      },
      {
        "duration": 198,
        "start_time": "2022-03-31T21:05:28.886Z"
      },
      {
        "duration": 47,
        "start_time": "2022-03-31T21:05:30.653Z"
      },
      {
        "duration": 11,
        "start_time": "2022-03-31T21:05:30.703Z"
      },
      {
        "duration": 295,
        "start_time": "2022-03-31T21:05:30.717Z"
      },
      {
        "duration": 210,
        "start_time": "2022-03-31T21:05:31.015Z"
      },
      {
        "duration": 65,
        "start_time": "2022-03-31T21:05:31.228Z"
      },
      {
        "duration": 18,
        "start_time": "2022-03-31T21:05:31.296Z"
      },
      {
        "duration": 112,
        "start_time": "2022-03-31T21:05:31.378Z"
      },
      {
        "duration": 12,
        "start_time": "2022-03-31T21:05:31.564Z"
      },
      {
        "duration": 35,
        "start_time": "2022-03-31T21:05:31.723Z"
      },
      {
        "duration": 18,
        "start_time": "2022-03-31T21:05:32.456Z"
      },
      {
        "duration": 16,
        "start_time": "2022-03-31T21:05:32.620Z"
      },
      {
        "duration": 25,
        "start_time": "2022-03-31T21:05:32.815Z"
      },
      {
        "duration": 8,
        "start_time": "2022-03-31T21:05:32.983Z"
      },
      {
        "duration": 51,
        "start_time": "2022-03-31T21:05:33.686Z"
      },
      {
        "duration": 35,
        "start_time": "2022-03-31T21:05:33.861Z"
      },
      {
        "duration": 35,
        "start_time": "2022-03-31T21:05:34.012Z"
      },
      {
        "duration": 37,
        "start_time": "2022-03-31T21:05:34.353Z"
      },
      {
        "duration": 33,
        "start_time": "2022-03-31T21:05:34.543Z"
      },
      {
        "duration": 31,
        "start_time": "2022-03-31T21:05:34.734Z"
      },
      {
        "duration": 6,
        "start_time": "2022-03-31T21:05:34.901Z"
      },
      {
        "duration": 21,
        "start_time": "2022-03-31T21:05:35.104Z"
      },
      {
        "duration": 32,
        "start_time": "2022-03-31T21:05:35.275Z"
      },
      {
        "duration": 33,
        "start_time": "2022-03-31T21:05:35.472Z"
      },
      {
        "duration": 6,
        "start_time": "2022-03-31T21:05:35.664Z"
      },
      {
        "duration": 7,
        "start_time": "2022-03-31T21:05:35.855Z"
      },
      {
        "duration": 18,
        "start_time": "2022-03-31T21:05:36.048Z"
      },
      {
        "duration": 5,
        "start_time": "2022-03-31T21:05:36.214Z"
      },
      {
        "duration": 6,
        "start_time": "2022-03-31T21:05:36.399Z"
      },
      {
        "duration": 10,
        "start_time": "2022-03-31T21:05:36.577Z"
      },
      {
        "duration": 23,
        "start_time": "2022-03-31T21:05:36.775Z"
      },
      {
        "duration": 6,
        "start_time": "2022-03-31T21:05:37.506Z"
      },
      {
        "duration": 320,
        "start_time": "2022-03-31T21:05:37.707Z"
      },
      {
        "duration": 15,
        "start_time": "2022-03-31T21:05:38.029Z"
      },
      {
        "duration": 24,
        "start_time": "2022-03-31T21:05:38.064Z"
      },
      {
        "duration": 21,
        "start_time": "2022-03-31T21:05:38.249Z"
      },
      {
        "duration": 14,
        "start_time": "2022-03-31T21:05:38.588Z"
      },
      {
        "duration": 1026,
        "start_time": "2022-03-31T21:05:38.780Z"
      },
      {
        "duration": 1019,
        "start_time": "2022-03-31T21:05:39.808Z"
      },
      {
        "duration": 924,
        "start_time": "2022-03-31T21:05:40.830Z"
      },
      {
        "duration": 11,
        "start_time": "2022-03-31T21:05:41.756Z"
      },
      {
        "duration": 10,
        "start_time": "2022-03-31T21:05:41.771Z"
      },
      {
        "duration": 31,
        "start_time": "2022-03-31T21:05:41.783Z"
      },
      {
        "duration": 68,
        "start_time": "2022-03-31T21:05:41.816Z"
      },
      {
        "duration": 19,
        "start_time": "2022-03-31T21:05:41.886Z"
      },
      {
        "duration": 25,
        "start_time": "2022-03-31T21:07:51.345Z"
      },
      {
        "duration": 44,
        "start_time": "2022-03-31T21:07:54.367Z"
      },
      {
        "duration": 3100,
        "start_time": "2022-03-31T21:08:08.342Z"
      },
      {
        "duration": 9,
        "start_time": "2022-03-31T21:14:01.832Z"
      },
      {
        "duration": 12,
        "start_time": "2022-03-31T21:15:03.190Z"
      },
      {
        "duration": 2994,
        "start_time": "2022-03-31T21:16:33.763Z"
      },
      {
        "duration": 96,
        "start_time": "2022-03-31T21:16:45.362Z"
      },
      {
        "duration": 15,
        "start_time": "2022-03-31T21:17:25.936Z"
      },
      {
        "duration": 10,
        "start_time": "2022-03-31T21:24:36.395Z"
      },
      {
        "duration": 9,
        "start_time": "2022-03-31T21:27:22.794Z"
      },
      {
        "duration": 11,
        "start_time": "2022-03-31T21:27:29.735Z"
      },
      {
        "duration": 18,
        "start_time": "2022-03-31T21:33:10.475Z"
      },
      {
        "duration": 31,
        "start_time": "2022-03-31T21:37:59.803Z"
      },
      {
        "duration": 34,
        "start_time": "2022-03-31T21:38:12.797Z"
      },
      {
        "duration": 19,
        "start_time": "2022-03-31T21:38:52.178Z"
      },
      {
        "duration": 9,
        "start_time": "2022-03-31T21:47:00.056Z"
      },
      {
        "duration": 49,
        "start_time": "2022-03-31T21:55:18.644Z"
      },
      {
        "duration": 7,
        "start_time": "2022-03-31T21:57:24.558Z"
      },
      {
        "duration": 4,
        "start_time": "2022-03-31T21:58:05.427Z"
      },
      {
        "duration": 4,
        "start_time": "2022-03-31T21:58:36.691Z"
      },
      {
        "duration": 635,
        "start_time": "2022-03-31T21:58:53.988Z"
      },
      {
        "duration": 275,
        "start_time": "2022-03-31T22:03:43.538Z"
      },
      {
        "duration": 393,
        "start_time": "2022-03-31T22:04:03.338Z"
      },
      {
        "duration": 46,
        "start_time": "2022-03-31T22:05:02.750Z"
      },
      {
        "duration": 62,
        "start_time": "2022-03-31T22:06:04.021Z"
      },
      {
        "duration": 122,
        "start_time": "2022-03-31T22:06:31.117Z"
      },
      {
        "duration": 66,
        "start_time": "2022-03-31T22:08:18.576Z"
      },
      {
        "duration": 44,
        "start_time": "2022-03-31T22:08:30.597Z"
      },
      {
        "duration": 42,
        "start_time": "2022-03-31T22:08:35.746Z"
      },
      {
        "duration": 21,
        "start_time": "2022-03-31T22:08:47.108Z"
      },
      {
        "duration": 34,
        "start_time": "2022-03-31T22:09:03.671Z"
      },
      {
        "duration": 50,
        "start_time": "2022-03-31T22:09:21.543Z"
      },
      {
        "duration": 775,
        "start_time": "2022-03-31T22:12:31.153Z"
      },
      {
        "duration": 17,
        "start_time": "2022-03-31T22:16:35.328Z"
      },
      {
        "duration": 4,
        "start_time": "2022-03-31T22:16:52.904Z"
      },
      {
        "duration": 4,
        "start_time": "2022-03-31T22:16:53.480Z"
      },
      {
        "duration": 679,
        "start_time": "2022-03-31T22:16:54.081Z"
      },
      {
        "duration": 63,
        "start_time": "2022-03-31T22:16:54.763Z"
      },
      {
        "duration": 55,
        "start_time": "2022-03-31T22:16:55.115Z"
      },
      {
        "duration": 45,
        "start_time": "2022-03-31T22:16:55.752Z"
      },
      {
        "duration": 35,
        "start_time": "2022-03-31T22:16:56.314Z"
      },
      {
        "duration": 31,
        "start_time": "2022-03-31T22:16:56.847Z"
      },
      {
        "duration": 6,
        "start_time": "2022-03-31T22:16:57.362Z"
      },
      {
        "duration": 42,
        "start_time": "2022-03-31T22:16:57.877Z"
      },
      {
        "duration": 29,
        "start_time": "2022-03-31T22:16:58.385Z"
      },
      {
        "duration": 34,
        "start_time": "2022-03-31T22:16:58.881Z"
      },
      {
        "duration": 12,
        "start_time": "2022-03-31T22:16:59.360Z"
      },
      {
        "duration": 11,
        "start_time": "2022-03-31T22:16:59.937Z"
      },
      {
        "duration": 182,
        "start_time": "2022-03-31T22:17:02.190Z"
      },
      {
        "duration": 373,
        "start_time": "2022-03-31T22:17:02.912Z"
      },
      {
        "duration": 190,
        "start_time": "2022-03-31T22:17:03.966Z"
      },
      {
        "duration": 69,
        "start_time": "2022-03-31T22:17:05.658Z"
      },
      {
        "duration": 136,
        "start_time": "2022-03-31T22:17:06.848Z"
      },
      {
        "duration": 47,
        "start_time": "2022-03-31T22:17:08.333Z"
      },
      {
        "duration": 20,
        "start_time": "2022-03-31T22:17:09.890Z"
      },
      {
        "duration": 46,
        "start_time": "2022-03-31T22:17:10.432Z"
      },
      {
        "duration": 10,
        "start_time": "2022-03-31T22:17:11.066Z"
      },
      {
        "duration": 52,
        "start_time": "2022-03-31T22:17:13.815Z"
      },
      {
        "duration": 36,
        "start_time": "2022-03-31T22:17:26.476Z"
      },
      {
        "duration": 45,
        "start_time": "2022-03-31T22:18:15.867Z"
      },
      {
        "duration": 33,
        "start_time": "2022-03-31T22:19:22.138Z"
      },
      {
        "duration": 29,
        "start_time": "2022-03-31T22:19:43.050Z"
      },
      {
        "duration": 21,
        "start_time": "2022-03-31T22:19:51.252Z"
      },
      {
        "duration": 6,
        "start_time": "2022-03-31T22:19:55.542Z"
      },
      {
        "duration": 34,
        "start_time": "2022-03-31T22:20:22.939Z"
      },
      {
        "duration": 35,
        "start_time": "2022-03-31T22:21:26.852Z"
      },
      {
        "duration": 5,
        "start_time": "2022-03-31T22:22:40.851Z"
      },
      {
        "duration": 7,
        "start_time": "2022-03-31T22:23:23.696Z"
      },
      {
        "duration": 316,
        "start_time": "2022-03-31T22:23:42.371Z"
      },
      {
        "duration": 10,
        "start_time": "2022-03-31T22:24:41.471Z"
      },
      {
        "duration": 6,
        "start_time": "2022-03-31T22:24:47.689Z"
      },
      {
        "duration": 10,
        "start_time": "2022-03-31T22:24:48.265Z"
      },
      {
        "duration": 32,
        "start_time": "2022-03-31T22:24:51.404Z"
      },
      {
        "duration": 6,
        "start_time": "2022-03-31T22:29:52.389Z"
      },
      {
        "duration": 277,
        "start_time": "2022-03-31T22:30:04.052Z"
      },
      {
        "duration": 11,
        "start_time": "2022-03-31T22:30:08.703Z"
      },
      {
        "duration": 23,
        "start_time": "2022-03-31T22:30:09.557Z"
      },
      {
        "duration": 17,
        "start_time": "2022-03-31T22:30:26.400Z"
      },
      {
        "duration": 12,
        "start_time": "2022-03-31T22:38:13.535Z"
      },
      {
        "duration": 946,
        "start_time": "2022-03-31T22:38:14.795Z"
      },
      {
        "duration": 900,
        "start_time": "2022-03-31T22:50:54.237Z"
      },
      {
        "duration": 2792,
        "start_time": "2022-03-31T22:55:39.074Z"
      },
      {
        "duration": 983,
        "start_time": "2022-03-31T22:55:50.597Z"
      },
      {
        "duration": 11,
        "start_time": "2022-03-31T22:57:45.925Z"
      },
      {
        "duration": 10,
        "start_time": "2022-03-31T23:06:13.821Z"
      },
      {
        "duration": 9,
        "start_time": "2022-03-31T23:06:45.468Z"
      },
      {
        "duration": 9,
        "start_time": "2022-03-31T23:14:30.703Z"
      },
      {
        "duration": 9,
        "start_time": "2022-03-31T23:14:33.184Z"
      },
      {
        "duration": 17,
        "start_time": "2022-03-31T23:17:39.527Z"
      },
      {
        "duration": 1535,
        "start_time": "2022-04-11T17:45:45.358Z"
      },
      {
        "duration": 3,
        "start_time": "2022-04-11T17:45:46.896Z"
      },
      {
        "duration": 573,
        "start_time": "2022-04-11T17:45:46.901Z"
      },
      {
        "duration": 53,
        "start_time": "2022-04-11T17:45:47.476Z"
      },
      {
        "duration": 51,
        "start_time": "2022-04-11T17:45:47.531Z"
      },
      {
        "duration": 37,
        "start_time": "2022-04-11T17:45:47.584Z"
      },
      {
        "duration": 24,
        "start_time": "2022-04-11T17:45:47.623Z"
      },
      {
        "duration": 42,
        "start_time": "2022-04-11T17:45:47.649Z"
      },
      {
        "duration": 5,
        "start_time": "2022-04-11T17:45:47.693Z"
      },
      {
        "duration": 38,
        "start_time": "2022-04-11T17:45:47.702Z"
      },
      {
        "duration": 41,
        "start_time": "2022-04-11T17:45:47.742Z"
      },
      {
        "duration": 16,
        "start_time": "2022-04-11T17:45:47.785Z"
      },
      {
        "duration": 5,
        "start_time": "2022-04-11T17:45:47.803Z"
      },
      {
        "duration": 6,
        "start_time": "2022-04-11T17:45:47.810Z"
      },
      {
        "duration": 164,
        "start_time": "2022-04-11T17:45:47.818Z"
      },
      {
        "duration": 185,
        "start_time": "2022-04-11T17:45:47.983Z"
      },
      {
        "duration": 86,
        "start_time": "2022-04-11T17:45:48.170Z"
      },
      {
        "duration": 46,
        "start_time": "2022-04-11T17:45:48.257Z"
      },
      {
        "duration": 64,
        "start_time": "2022-04-11T17:45:48.304Z"
      },
      {
        "duration": 30,
        "start_time": "2022-04-11T17:45:48.370Z"
      },
      {
        "duration": 10,
        "start_time": "2022-04-11T17:45:48.401Z"
      },
      {
        "duration": 24,
        "start_time": "2022-04-11T17:45:48.412Z"
      },
      {
        "duration": 5,
        "start_time": "2022-04-11T17:45:48.437Z"
      },
      {
        "duration": 59,
        "start_time": "2022-04-11T17:45:48.443Z"
      },
      {
        "duration": 22,
        "start_time": "2022-04-11T17:45:48.503Z"
      },
      {
        "duration": 22,
        "start_time": "2022-04-11T17:45:48.526Z"
      },
      {
        "duration": 40,
        "start_time": "2022-04-11T17:45:48.550Z"
      },
      {
        "duration": 17,
        "start_time": "2022-04-11T17:45:48.595Z"
      },
      {
        "duration": 14,
        "start_time": "2022-04-11T17:45:48.613Z"
      },
      {
        "duration": 4,
        "start_time": "2022-04-11T17:45:48.628Z"
      },
      {
        "duration": 49,
        "start_time": "2022-04-11T17:45:48.634Z"
      },
      {
        "duration": 20,
        "start_time": "2022-04-11T17:45:48.685Z"
      },
      {
        "duration": 4,
        "start_time": "2022-04-11T17:45:48.707Z"
      },
      {
        "duration": 10,
        "start_time": "2022-04-11T17:45:48.712Z"
      },
      {
        "duration": 7,
        "start_time": "2022-04-11T17:45:48.723Z"
      },
      {
        "duration": 3,
        "start_time": "2022-04-11T17:45:48.732Z"
      },
      {
        "duration": 5,
        "start_time": "2022-04-11T17:45:48.737Z"
      },
      {
        "duration": 40,
        "start_time": "2022-04-11T17:45:48.743Z"
      },
      {
        "duration": 14,
        "start_time": "2022-04-11T17:45:48.785Z"
      },
      {
        "duration": 6,
        "start_time": "2022-04-11T17:45:48.801Z"
      },
      {
        "duration": 166,
        "start_time": "2022-04-11T17:45:48.808Z"
      },
      {
        "duration": 9,
        "start_time": "2022-04-11T17:45:48.976Z"
      },
      {
        "duration": 19,
        "start_time": "2022-04-11T17:45:48.986Z"
      },
      {
        "duration": 13,
        "start_time": "2022-04-11T17:45:49.007Z"
      },
      {
        "duration": 10,
        "start_time": "2022-04-11T17:45:49.021Z"
      },
      {
        "duration": 543,
        "start_time": "2022-04-11T17:45:49.033Z"
      },
      {
        "duration": 521,
        "start_time": "2022-04-11T17:45:49.580Z"
      },
      {
        "duration": 542,
        "start_time": "2022-04-11T17:45:50.103Z"
      },
      {
        "duration": 7,
        "start_time": "2022-04-11T17:45:50.647Z"
      },
      {
        "duration": 9,
        "start_time": "2022-04-11T17:45:50.656Z"
      },
      {
        "duration": 25,
        "start_time": "2022-04-11T17:45:50.667Z"
      },
      {
        "duration": 1182,
        "start_time": "2022-04-11T17:53:05.048Z"
      },
      {
        "duration": 3,
        "start_time": "2022-04-11T17:53:06.232Z"
      },
      {
        "duration": 435,
        "start_time": "2022-04-11T17:53:06.237Z"
      },
      {
        "duration": 55,
        "start_time": "2022-04-11T17:53:06.674Z"
      },
      {
        "duration": 24,
        "start_time": "2022-04-11T17:53:06.732Z"
      },
      {
        "duration": 37,
        "start_time": "2022-04-11T17:53:06.757Z"
      },
      {
        "duration": 20,
        "start_time": "2022-04-11T17:53:06.795Z"
      },
      {
        "duration": 21,
        "start_time": "2022-04-11T17:53:06.817Z"
      },
      {
        "duration": 4,
        "start_time": "2022-04-11T17:53:06.840Z"
      },
      {
        "duration": 53,
        "start_time": "2022-04-11T17:53:06.846Z"
      },
      {
        "duration": 24,
        "start_time": "2022-04-11T17:53:06.901Z"
      },
      {
        "duration": 27,
        "start_time": "2022-04-11T17:53:06.927Z"
      },
      {
        "duration": 25,
        "start_time": "2022-04-11T17:53:06.956Z"
      },
      {
        "duration": 7,
        "start_time": "2022-04-11T17:53:06.986Z"
      },
      {
        "duration": 211,
        "start_time": "2022-04-11T17:53:06.995Z"
      },
      {
        "duration": 197,
        "start_time": "2022-04-11T17:53:07.207Z"
      },
      {
        "duration": 93,
        "start_time": "2022-04-11T17:53:07.406Z"
      },
      {
        "duration": 33,
        "start_time": "2022-04-11T17:53:07.501Z"
      },
      {
        "duration": 83,
        "start_time": "2022-04-11T17:53:07.535Z"
      },
      {
        "duration": 21,
        "start_time": "2022-04-11T17:53:07.620Z"
      },
      {
        "duration": 10,
        "start_time": "2022-04-11T17:53:07.643Z"
      },
      {
        "duration": 46,
        "start_time": "2022-04-11T17:53:07.654Z"
      },
      {
        "duration": 5,
        "start_time": "2022-04-11T17:53:07.702Z"
      },
      {
        "duration": 35,
        "start_time": "2022-04-11T17:53:07.708Z"
      },
      {
        "duration": 44,
        "start_time": "2022-04-11T17:53:07.745Z"
      },
      {
        "duration": 21,
        "start_time": "2022-04-11T17:53:07.790Z"
      },
      {
        "duration": 22,
        "start_time": "2022-04-11T17:53:07.812Z"
      },
      {
        "duration": 25,
        "start_time": "2022-04-11T17:53:07.836Z"
      },
      {
        "duration": 29,
        "start_time": "2022-04-11T17:53:07.863Z"
      },
      {
        "duration": 23,
        "start_time": "2022-04-11T17:53:07.893Z"
      },
      {
        "duration": 52,
        "start_time": "2022-04-11T17:53:07.918Z"
      },
      {
        "duration": 30,
        "start_time": "2022-04-11T17:53:07.972Z"
      },
      {
        "duration": 8,
        "start_time": "2022-04-11T17:53:08.004Z"
      },
      {
        "duration": 16,
        "start_time": "2022-04-11T17:53:08.014Z"
      },
      {
        "duration": 17,
        "start_time": "2022-04-11T17:53:08.032Z"
      },
      {
        "duration": 9,
        "start_time": "2022-04-11T17:53:08.050Z"
      },
      {
        "duration": 22,
        "start_time": "2022-04-11T17:53:08.060Z"
      },
      {
        "duration": 31,
        "start_time": "2022-04-11T17:53:08.083Z"
      },
      {
        "duration": 22,
        "start_time": "2022-04-11T17:53:08.116Z"
      },
      {
        "duration": 13,
        "start_time": "2022-04-11T17:53:08.140Z"
      },
      {
        "duration": 278,
        "start_time": "2022-04-11T17:53:08.158Z"
      },
      {
        "duration": 10,
        "start_time": "2022-04-11T17:53:08.438Z"
      },
      {
        "duration": 32,
        "start_time": "2022-04-11T17:53:08.450Z"
      },
      {
        "duration": 17,
        "start_time": "2022-04-11T17:53:08.484Z"
      },
      {
        "duration": 8,
        "start_time": "2022-04-11T17:53:08.503Z"
      },
      {
        "duration": 569,
        "start_time": "2022-04-11T17:53:08.513Z"
      },
      {
        "duration": 529,
        "start_time": "2022-04-11T17:53:09.083Z"
      },
      {
        "duration": 691,
        "start_time": "2022-04-11T17:53:09.613Z"
      },
      {
        "duration": 8,
        "start_time": "2022-04-11T17:53:10.306Z"
      },
      {
        "duration": 8,
        "start_time": "2022-04-11T17:53:10.316Z"
      },
      {
        "duration": 10,
        "start_time": "2022-04-11T17:53:10.326Z"
      },
      {
        "duration": 1103,
        "start_time": "2022-04-11T17:53:57.231Z"
      },
      {
        "duration": 3,
        "start_time": "2022-04-11T17:53:58.336Z"
      },
      {
        "duration": 418,
        "start_time": "2022-04-11T17:53:58.341Z"
      },
      {
        "duration": 38,
        "start_time": "2022-04-11T17:53:58.760Z"
      },
      {
        "duration": 44,
        "start_time": "2022-04-11T17:53:58.801Z"
      },
      {
        "duration": 50,
        "start_time": "2022-04-11T17:53:58.847Z"
      },
      {
        "duration": 24,
        "start_time": "2022-04-11T17:53:58.899Z"
      },
      {
        "duration": 22,
        "start_time": "2022-04-11T17:53:58.925Z"
      },
      {
        "duration": 9,
        "start_time": "2022-04-11T17:53:58.949Z"
      },
      {
        "duration": 59,
        "start_time": "2022-04-11T17:53:58.960Z"
      },
      {
        "duration": 25,
        "start_time": "2022-04-11T17:53:59.021Z"
      },
      {
        "duration": 41,
        "start_time": "2022-04-11T17:53:59.048Z"
      },
      {
        "duration": 6,
        "start_time": "2022-04-11T17:53:59.090Z"
      },
      {
        "duration": 5,
        "start_time": "2022-04-11T17:53:59.099Z"
      },
      {
        "duration": 161,
        "start_time": "2022-04-11T17:53:59.106Z"
      },
      {
        "duration": 192,
        "start_time": "2022-04-11T17:53:59.269Z"
      },
      {
        "duration": 94,
        "start_time": "2022-04-11T17:53:59.462Z"
      },
      {
        "duration": 44,
        "start_time": "2022-04-11T17:53:59.558Z"
      },
      {
        "duration": 79,
        "start_time": "2022-04-11T17:53:59.604Z"
      },
      {
        "duration": 22,
        "start_time": "2022-04-11T17:53:59.685Z"
      },
      {
        "duration": 11,
        "start_time": "2022-04-11T17:53:59.708Z"
      },
      {
        "duration": 25,
        "start_time": "2022-04-11T17:53:59.721Z"
      },
      {
        "duration": 34,
        "start_time": "2022-04-11T17:53:59.747Z"
      },
      {
        "duration": 53,
        "start_time": "2022-04-11T17:53:59.783Z"
      },
      {
        "duration": 57,
        "start_time": "2022-04-11T17:53:59.838Z"
      },
      {
        "duration": 37,
        "start_time": "2022-04-11T17:53:59.897Z"
      },
      {
        "duration": 23,
        "start_time": "2022-04-11T17:53:59.936Z"
      },
      {
        "duration": 18,
        "start_time": "2022-04-11T17:53:59.982Z"
      },
      {
        "duration": 15,
        "start_time": "2022-04-11T17:54:00.002Z"
      },
      {
        "duration": 4,
        "start_time": "2022-04-11T17:54:00.019Z"
      },
      {
        "duration": 23,
        "start_time": "2022-04-11T17:54:00.025Z"
      },
      {
        "duration": 20,
        "start_time": "2022-04-11T17:54:00.081Z"
      },
      {
        "duration": 4,
        "start_time": "2022-04-11T17:54:00.102Z"
      },
      {
        "duration": 13,
        "start_time": "2022-04-11T17:54:00.107Z"
      },
      {
        "duration": 6,
        "start_time": "2022-04-11T17:54:00.122Z"
      },
      {
        "duration": 5,
        "start_time": "2022-04-11T17:54:00.129Z"
      },
      {
        "duration": 7,
        "start_time": "2022-04-11T17:54:00.136Z"
      },
      {
        "duration": 8,
        "start_time": "2022-04-11T17:54:00.144Z"
      },
      {
        "duration": 14,
        "start_time": "2022-04-11T17:54:00.181Z"
      },
      {
        "duration": 11,
        "start_time": "2022-04-11T17:54:00.196Z"
      },
      {
        "duration": 168,
        "start_time": "2022-04-11T17:54:00.213Z"
      },
      {
        "duration": 7,
        "start_time": "2022-04-11T17:54:00.383Z"
      },
      {
        "duration": 16,
        "start_time": "2022-04-11T17:54:00.392Z"
      },
      {
        "duration": 20,
        "start_time": "2022-04-11T17:54:00.409Z"
      },
      {
        "duration": 14,
        "start_time": "2022-04-11T17:54:00.431Z"
      },
      {
        "duration": 954,
        "start_time": "2022-04-11T17:54:00.447Z"
      },
      {
        "duration": 855,
        "start_time": "2022-04-11T17:54:01.404Z"
      },
      {
        "duration": 589,
        "start_time": "2022-04-11T17:54:02.261Z"
      },
      {
        "duration": 8,
        "start_time": "2022-04-11T17:54:02.852Z"
      },
      {
        "duration": 22,
        "start_time": "2022-04-11T17:54:02.861Z"
      },
      {
        "duration": 14,
        "start_time": "2022-04-11T17:54:02.885Z"
      },
      {
        "duration": 1168,
        "start_time": "2022-04-11T17:54:32.666Z"
      },
      {
        "duration": 3,
        "start_time": "2022-04-11T17:54:33.836Z"
      },
      {
        "duration": 387,
        "start_time": "2022-04-11T17:54:33.840Z"
      },
      {
        "duration": 32,
        "start_time": "2022-04-11T17:54:34.229Z"
      },
      {
        "duration": 26,
        "start_time": "2022-04-11T17:54:34.263Z"
      },
      {
        "duration": 21,
        "start_time": "2022-04-11T17:54:34.290Z"
      },
      {
        "duration": 16,
        "start_time": "2022-04-11T17:54:34.313Z"
      },
      {
        "duration": 13,
        "start_time": "2022-04-11T17:54:34.331Z"
      },
      {
        "duration": 35,
        "start_time": "2022-04-11T17:54:34.346Z"
      },
      {
        "duration": 22,
        "start_time": "2022-04-11T17:54:34.383Z"
      },
      {
        "duration": 13,
        "start_time": "2022-04-11T17:54:34.407Z"
      },
      {
        "duration": 17,
        "start_time": "2022-04-11T17:54:34.421Z"
      },
      {
        "duration": 5,
        "start_time": "2022-04-11T17:54:34.439Z"
      },
      {
        "duration": 34,
        "start_time": "2022-04-11T17:54:34.447Z"
      },
      {
        "duration": 148,
        "start_time": "2022-04-11T17:54:34.483Z"
      },
      {
        "duration": 195,
        "start_time": "2022-04-11T17:54:34.633Z"
      },
      {
        "duration": 93,
        "start_time": "2022-04-11T17:54:34.829Z"
      },
      {
        "duration": 38,
        "start_time": "2022-04-11T17:54:34.924Z"
      },
      {
        "duration": 64,
        "start_time": "2022-04-11T17:54:34.980Z"
      },
      {
        "duration": 41,
        "start_time": "2022-04-11T17:54:35.046Z"
      },
      {
        "duration": 11,
        "start_time": "2022-04-11T17:54:35.089Z"
      },
      {
        "duration": 21,
        "start_time": "2022-04-11T17:54:35.102Z"
      },
      {
        "duration": 4,
        "start_time": "2022-04-11T17:54:35.125Z"
      },
      {
        "duration": 62,
        "start_time": "2022-04-11T17:54:35.130Z"
      },
      {
        "duration": 24,
        "start_time": "2022-04-11T17:54:35.194Z"
      },
      {
        "duration": 26,
        "start_time": "2022-04-11T17:54:35.220Z"
      },
      {
        "duration": 40,
        "start_time": "2022-04-11T17:54:35.248Z"
      },
      {
        "duration": 17,
        "start_time": "2022-04-11T17:54:35.290Z"
      },
      {
        "duration": 13,
        "start_time": "2022-04-11T17:54:35.308Z"
      },
      {
        "duration": 4,
        "start_time": "2022-04-11T17:54:35.322Z"
      },
      {
        "duration": 23,
        "start_time": "2022-04-11T17:54:35.327Z"
      },
      {
        "duration": 48,
        "start_time": "2022-04-11T17:54:35.352Z"
      },
      {
        "duration": 4,
        "start_time": "2022-04-11T17:54:35.401Z"
      },
      {
        "duration": 6,
        "start_time": "2022-04-11T17:54:35.407Z"
      },
      {
        "duration": 7,
        "start_time": "2022-04-11T17:54:35.415Z"
      },
      {
        "duration": 3,
        "start_time": "2022-04-11T17:54:35.424Z"
      },
      {
        "duration": 5,
        "start_time": "2022-04-11T17:54:35.429Z"
      },
      {
        "duration": 13,
        "start_time": "2022-04-11T17:54:35.435Z"
      },
      {
        "duration": 13,
        "start_time": "2022-04-11T17:54:35.481Z"
      },
      {
        "duration": 5,
        "start_time": "2022-04-11T17:54:35.495Z"
      },
      {
        "duration": 175,
        "start_time": "2022-04-11T17:54:35.504Z"
      },
      {
        "duration": 7,
        "start_time": "2022-04-11T17:54:35.681Z"
      },
      {
        "duration": 17,
        "start_time": "2022-04-11T17:54:35.690Z"
      },
      {
        "duration": 10,
        "start_time": "2022-04-11T17:54:35.709Z"
      },
      {
        "duration": 7,
        "start_time": "2022-04-11T17:54:35.720Z"
      },
      {
        "duration": 542,
        "start_time": "2022-04-11T17:54:35.729Z"
      },
      {
        "duration": 488,
        "start_time": "2022-04-11T17:54:36.273Z"
      },
      {
        "duration": 555,
        "start_time": "2022-04-11T17:54:36.762Z"
      },
      {
        "duration": 7,
        "start_time": "2022-04-11T17:54:37.319Z"
      },
      {
        "duration": 8,
        "start_time": "2022-04-11T17:54:37.329Z"
      },
      {
        "duration": 12,
        "start_time": "2022-04-11T17:54:37.339Z"
      },
      {
        "duration": 9,
        "start_time": "2022-04-11T17:56:55.878Z"
      },
      {
        "duration": 5,
        "start_time": "2022-04-11T18:11:48.948Z"
      },
      {
        "duration": 193,
        "start_time": "2022-04-11T18:11:51.618Z"
      },
      {
        "duration": 446,
        "start_time": "2022-04-11T18:12:01.714Z"
      },
      {
        "duration": 338,
        "start_time": "2022-04-11T18:12:14.931Z"
      },
      {
        "duration": 307,
        "start_time": "2022-04-11T18:13:30.061Z"
      },
      {
        "duration": 399,
        "start_time": "2022-04-11T18:13:39.372Z"
      },
      {
        "duration": 480,
        "start_time": "2022-04-11T18:14:00.426Z"
      },
      {
        "duration": 781,
        "start_time": "2022-04-11T18:14:15.200Z"
      },
      {
        "duration": 1583,
        "start_time": "2022-04-11T18:25:41.854Z"
      },
      {
        "duration": 3,
        "start_time": "2022-04-11T18:25:43.439Z"
      },
      {
        "duration": 388,
        "start_time": "2022-04-11T18:25:43.444Z"
      },
      {
        "duration": 32,
        "start_time": "2022-04-11T18:25:43.834Z"
      },
      {
        "duration": 25,
        "start_time": "2022-04-11T18:25:43.868Z"
      },
      {
        "duration": 21,
        "start_time": "2022-04-11T18:25:43.894Z"
      },
      {
        "duration": 16,
        "start_time": "2022-04-11T18:25:43.916Z"
      },
      {
        "duration": 16,
        "start_time": "2022-04-11T18:25:43.933Z"
      },
      {
        "duration": 30,
        "start_time": "2022-04-11T18:25:43.951Z"
      },
      {
        "duration": 27,
        "start_time": "2022-04-11T18:25:43.985Z"
      },
      {
        "duration": 12,
        "start_time": "2022-04-11T18:25:44.014Z"
      },
      {
        "duration": 15,
        "start_time": "2022-04-11T18:25:44.028Z"
      },
      {
        "duration": 4,
        "start_time": "2022-04-11T18:25:44.045Z"
      },
      {
        "duration": 33,
        "start_time": "2022-04-11T18:25:44.051Z"
      },
      {
        "duration": 161,
        "start_time": "2022-04-11T18:25:44.086Z"
      },
      {
        "duration": 313,
        "start_time": "2022-04-11T18:25:44.248Z"
      },
      {
        "duration": 243,
        "start_time": "2022-04-11T18:25:44.563Z"
      },
      {
        "duration": 50,
        "start_time": "2022-04-11T18:25:44.808Z"
      },
      {
        "duration": 122,
        "start_time": "2022-04-11T18:25:44.860Z"
      },
      {
        "duration": 32,
        "start_time": "2022-04-11T18:25:44.984Z"
      },
      {
        "duration": 14,
        "start_time": "2022-04-11T18:25:45.018Z"
      },
      {
        "duration": 51,
        "start_time": "2022-04-11T18:25:45.034Z"
      },
      {
        "duration": 6,
        "start_time": "2022-04-11T18:25:45.086Z"
      },
      {
        "duration": 33,
        "start_time": "2022-04-11T18:25:45.094Z"
      },
      {
        "duration": 22,
        "start_time": "2022-04-11T18:25:45.129Z"
      },
      {
        "duration": 55,
        "start_time": "2022-04-11T18:25:45.153Z"
      },
      {
        "duration": 23,
        "start_time": "2022-04-11T18:25:45.209Z"
      },
      {
        "duration": 47,
        "start_time": "2022-04-11T18:25:45.237Z"
      },
      {
        "duration": 19,
        "start_time": "2022-04-11T18:25:45.286Z"
      },
      {
        "duration": 4,
        "start_time": "2022-04-11T18:25:45.307Z"
      },
      {
        "duration": 29,
        "start_time": "2022-04-11T18:25:45.313Z"
      },
      {
        "duration": 47,
        "start_time": "2022-04-11T18:25:45.343Z"
      },
      {
        "duration": 3,
        "start_time": "2022-04-11T18:25:45.391Z"
      },
      {
        "duration": 6,
        "start_time": "2022-04-11T18:25:45.396Z"
      },
      {
        "duration": 6,
        "start_time": "2022-04-11T18:25:45.404Z"
      },
      {
        "duration": 3,
        "start_time": "2022-04-11T18:25:45.412Z"
      },
      {
        "duration": 6,
        "start_time": "2022-04-11T18:25:45.416Z"
      },
      {
        "duration": 6,
        "start_time": "2022-04-11T18:25:45.424Z"
      },
      {
        "duration": 16,
        "start_time": "2022-04-11T18:25:45.432Z"
      },
      {
        "duration": 5,
        "start_time": "2022-04-11T18:25:45.482Z"
      },
      {
        "duration": 175,
        "start_time": "2022-04-11T18:25:45.488Z"
      },
      {
        "duration": 8,
        "start_time": "2022-04-11T18:25:45.664Z"
      },
      {
        "duration": 16,
        "start_time": "2022-04-11T18:25:45.680Z"
      },
      {
        "duration": 12,
        "start_time": "2022-04-11T18:25:45.697Z"
      },
      {
        "duration": 12,
        "start_time": "2022-04-11T18:25:45.710Z"
      },
      {
        "duration": 542,
        "start_time": "2022-04-11T18:25:45.723Z"
      },
      {
        "duration": 483,
        "start_time": "2022-04-11T18:25:46.267Z"
      },
      {
        "duration": 545,
        "start_time": "2022-04-11T18:25:46.751Z"
      },
      {
        "duration": 7,
        "start_time": "2022-04-11T18:25:47.298Z"
      },
      {
        "duration": 8,
        "start_time": "2022-04-11T18:25:47.307Z"
      },
      {
        "duration": 15,
        "start_time": "2022-04-11T18:25:47.316Z"
      },
      {
        "duration": 1111,
        "start_time": "2022-04-11T18:25:55.119Z"
      },
      {
        "duration": 2,
        "start_time": "2022-04-11T18:25:56.232Z"
      },
      {
        "duration": 380,
        "start_time": "2022-04-11T18:25:56.236Z"
      },
      {
        "duration": 32,
        "start_time": "2022-04-11T18:25:56.617Z"
      },
      {
        "duration": 24,
        "start_time": "2022-04-11T18:25:56.650Z"
      },
      {
        "duration": 31,
        "start_time": "2022-04-11T18:25:56.675Z"
      },
      {
        "duration": 16,
        "start_time": "2022-04-11T18:25:56.707Z"
      },
      {
        "duration": 14,
        "start_time": "2022-04-11T18:25:56.724Z"
      },
      {
        "duration": 3,
        "start_time": "2022-04-11T18:25:56.739Z"
      },
      {
        "duration": 20,
        "start_time": "2022-04-11T18:25:56.744Z"
      },
      {
        "duration": 13,
        "start_time": "2022-04-11T18:25:56.781Z"
      },
      {
        "duration": 15,
        "start_time": "2022-04-11T18:25:56.795Z"
      },
      {
        "duration": 6,
        "start_time": "2022-04-11T18:25:56.811Z"
      },
      {
        "duration": 5,
        "start_time": "2022-04-11T18:25:56.821Z"
      },
      {
        "duration": 173,
        "start_time": "2022-04-11T18:25:56.827Z"
      },
      {
        "duration": 195,
        "start_time": "2022-04-11T18:25:57.002Z"
      },
      {
        "duration": 93,
        "start_time": "2022-04-11T18:25:57.199Z"
      },
      {
        "duration": 35,
        "start_time": "2022-04-11T18:25:57.294Z"
      },
      {
        "duration": 87,
        "start_time": "2022-04-11T18:25:57.330Z"
      },
      {
        "duration": 22,
        "start_time": "2022-04-11T18:25:57.419Z"
      },
      {
        "duration": 11,
        "start_time": "2022-04-11T18:25:57.443Z"
      },
      {
        "duration": 51,
        "start_time": "2022-04-11T18:25:57.455Z"
      },
      {
        "duration": 6,
        "start_time": "2022-04-11T18:25:57.509Z"
      },
      {
        "duration": 68,
        "start_time": "2022-04-11T18:25:57.517Z"
      },
      {
        "duration": 34,
        "start_time": "2022-04-11T18:25:57.587Z"
      },
      {
        "duration": 22,
        "start_time": "2022-04-11T18:25:57.623Z"
      },
      {
        "duration": 43,
        "start_time": "2022-04-11T18:25:57.647Z"
      },
      {
        "duration": 18,
        "start_time": "2022-04-11T18:25:57.692Z"
      },
      {
        "duration": 13,
        "start_time": "2022-04-11T18:25:57.712Z"
      },
      {
        "duration": 4,
        "start_time": "2022-04-11T18:25:57.727Z"
      },
      {
        "duration": 20,
        "start_time": "2022-04-11T18:25:57.732Z"
      },
      {
        "duration": 45,
        "start_time": "2022-04-11T18:25:57.753Z"
      },
      {
        "duration": 3,
        "start_time": "2022-04-11T18:25:57.800Z"
      },
      {
        "duration": 8,
        "start_time": "2022-04-11T18:25:57.805Z"
      },
      {
        "duration": 6,
        "start_time": "2022-04-11T18:25:57.815Z"
      },
      {
        "duration": 4,
        "start_time": "2022-04-11T18:25:57.822Z"
      },
      {
        "duration": 6,
        "start_time": "2022-04-11T18:25:57.827Z"
      },
      {
        "duration": 9,
        "start_time": "2022-04-11T18:25:57.834Z"
      },
      {
        "duration": 40,
        "start_time": "2022-04-11T18:25:57.844Z"
      },
      {
        "duration": 7,
        "start_time": "2022-04-11T18:25:57.885Z"
      },
      {
        "duration": 167,
        "start_time": "2022-04-11T18:25:57.896Z"
      },
      {
        "duration": 6,
        "start_time": "2022-04-11T18:25:58.065Z"
      },
      {
        "duration": 14,
        "start_time": "2022-04-11T18:25:58.080Z"
      },
      {
        "duration": 10,
        "start_time": "2022-04-11T18:25:58.095Z"
      },
      {
        "duration": 8,
        "start_time": "2022-04-11T18:25:58.107Z"
      },
      {
        "duration": 549,
        "start_time": "2022-04-11T18:25:58.116Z"
      },
      {
        "duration": 497,
        "start_time": "2022-04-11T18:25:58.667Z"
      },
      {
        "duration": 538,
        "start_time": "2022-04-11T18:25:59.166Z"
      },
      {
        "duration": 8,
        "start_time": "2022-04-11T18:25:59.706Z"
      },
      {
        "duration": 8,
        "start_time": "2022-04-11T18:25:59.715Z"
      },
      {
        "duration": 11,
        "start_time": "2022-04-11T18:25:59.725Z"
      },
      {
        "duration": 1692,
        "start_time": "2022-04-12T02:38:17.980Z"
      },
      {
        "duration": 4,
        "start_time": "2022-04-12T02:38:19.675Z"
      },
      {
        "duration": 471,
        "start_time": "2022-04-12T02:38:19.681Z"
      },
      {
        "duration": 50,
        "start_time": "2022-04-12T02:38:24.180Z"
      },
      {
        "duration": 36,
        "start_time": "2022-04-12T02:38:25.271Z"
      },
      {
        "duration": 32,
        "start_time": "2022-04-12T02:38:26.458Z"
      },
      {
        "duration": 27,
        "start_time": "2022-04-12T02:38:27.601Z"
      },
      {
        "duration": 23,
        "start_time": "2022-04-12T02:38:28.390Z"
      },
      {
        "duration": 5,
        "start_time": "2022-04-12T02:38:29.259Z"
      },
      {
        "duration": 27,
        "start_time": "2022-04-12T02:38:30.069Z"
      },
      {
        "duration": 20,
        "start_time": "2022-04-12T02:38:30.705Z"
      },
      {
        "duration": 23,
        "start_time": "2022-04-12T02:38:31.207Z"
      },
      {
        "duration": 9,
        "start_time": "2022-04-12T02:38:31.666Z"
      },
      {
        "duration": 9,
        "start_time": "2022-04-12T02:38:32.178Z"
      },
      {
        "duration": 204,
        "start_time": "2022-04-12T02:38:34.531Z"
      },
      {
        "duration": 291,
        "start_time": "2022-04-12T02:38:35.048Z"
      },
      {
        "duration": 143,
        "start_time": "2022-04-12T02:38:37.379Z"
      },
      {
        "duration": 53,
        "start_time": "2022-04-12T02:38:39.213Z"
      },
      {
        "duration": 100,
        "start_time": "2022-04-12T02:38:40.403Z"
      },
      {
        "duration": 37,
        "start_time": "2022-04-12T02:38:41.275Z"
      },
      {
        "duration": 17,
        "start_time": "2022-04-12T02:38:42.431Z"
      },
      {
        "duration": 37,
        "start_time": "2022-04-12T02:38:43.133Z"
      },
      {
        "duration": 8,
        "start_time": "2022-04-12T02:38:44.000Z"
      },
      {
        "duration": 56,
        "start_time": "2022-04-12T02:38:47.732Z"
      },
      {
        "duration": 36,
        "start_time": "2022-04-12T02:38:48.517Z"
      },
      {
        "duration": 41,
        "start_time": "2022-04-12T02:38:49.074Z"
      },
      {
        "duration": 25,
        "start_time": "2022-04-12T02:38:50.675Z"
      },
      {
        "duration": 28,
        "start_time": "2022-04-12T02:38:51.259Z"
      },
      {
        "duration": 21,
        "start_time": "2022-04-12T02:38:51.995Z"
      },
      {
        "duration": 6,
        "start_time": "2022-04-12T02:38:52.517Z"
      },
      {
        "duration": 31,
        "start_time": "2022-04-12T02:38:53.048Z"
      },
      {
        "duration": 34,
        "start_time": "2022-04-12T02:38:53.607Z"
      },
      {
        "duration": 35,
        "start_time": "2022-04-12T02:41:27.559Z"
      },
      {
        "duration": 34,
        "start_time": "2022-04-12T02:41:43.358Z"
      },
      {
        "duration": 34,
        "start_time": "2022-04-12T02:42:20.484Z"
      },
      {
        "duration": 24,
        "start_time": "2022-04-12T02:42:22.671Z"
      },
      {
        "duration": 28,
        "start_time": "2022-04-12T02:42:23.690Z"
      },
      {
        "duration": 22,
        "start_time": "2022-04-12T02:42:24.715Z"
      },
      {
        "duration": 6,
        "start_time": "2022-04-12T02:42:25.571Z"
      },
      {
        "duration": 31,
        "start_time": "2022-04-12T02:42:26.407Z"
      },
      {
        "duration": 32,
        "start_time": "2022-04-12T02:42:27.329Z"
      },
      {
        "duration": 6,
        "start_time": "2022-04-12T02:42:28.211Z"
      },
      {
        "duration": 6,
        "start_time": "2022-04-12T02:42:58.204Z"
      },
      {
        "duration": 11,
        "start_time": "2022-04-12T02:42:58.635Z"
      },
      {
        "duration": 5,
        "start_time": "2022-04-12T02:43:00.219Z"
      },
      {
        "duration": 6,
        "start_time": "2022-04-12T02:43:00.722Z"
      },
      {
        "duration": 10,
        "start_time": "2022-04-12T02:43:01.168Z"
      },
      {
        "duration": 22,
        "start_time": "2022-04-12T02:43:01.605Z"
      },
      {
        "duration": 5,
        "start_time": "2022-04-12T02:43:03.931Z"
      },
      {
        "duration": 278,
        "start_time": "2022-04-12T02:43:04.833Z"
      },
      {
        "duration": 11,
        "start_time": "2022-04-12T02:43:05.283Z"
      },
      {
        "duration": 22,
        "start_time": "2022-04-12T02:43:05.720Z"
      },
      {
        "duration": 17,
        "start_time": "2022-04-12T02:43:06.177Z"
      },
      {
        "duration": 10,
        "start_time": "2022-04-12T02:43:08.564Z"
      },
      {
        "duration": 1007,
        "start_time": "2022-04-12T02:43:09.088Z"
      },
      {
        "duration": 858,
        "start_time": "2022-04-12T02:43:11.575Z"
      },
      {
        "duration": 881,
        "start_time": "2022-04-12T02:43:13.616Z"
      },
      {
        "duration": 11,
        "start_time": "2022-04-12T02:43:14.500Z"
      },
      {
        "duration": 10,
        "start_time": "2022-04-12T02:43:18.041Z"
      },
      {
        "duration": 16,
        "start_time": "2022-04-12T02:43:21.716Z"
      },
      {
        "duration": 4,
        "start_time": "2022-04-12T02:46:44.828Z"
      },
      {
        "duration": 6,
        "start_time": "2022-04-12T02:46:51.223Z"
      },
      {
        "duration": 9,
        "start_time": "2022-04-12T02:47:02.013Z"
      },
      {
        "duration": 8,
        "start_time": "2022-04-12T02:48:52.895Z"
      },
      {
        "duration": 1415,
        "start_time": "2022-04-12T12:35:57.025Z"
      },
      {
        "duration": 2,
        "start_time": "2022-04-12T12:35:58.442Z"
      },
      {
        "duration": 521,
        "start_time": "2022-04-12T12:35:58.446Z"
      },
      {
        "duration": 37,
        "start_time": "2022-04-12T12:35:58.969Z"
      },
      {
        "duration": 29,
        "start_time": "2022-04-12T12:35:59.008Z"
      },
      {
        "duration": 23,
        "start_time": "2022-04-12T12:35:59.039Z"
      },
      {
        "duration": 17,
        "start_time": "2022-04-12T12:35:59.064Z"
      },
      {
        "duration": 46,
        "start_time": "2022-04-12T12:35:59.083Z"
      },
      {
        "duration": 13,
        "start_time": "2022-04-12T12:35:59.130Z"
      },
      {
        "duration": 43,
        "start_time": "2022-04-12T12:35:59.145Z"
      },
      {
        "duration": 35,
        "start_time": "2022-04-12T12:35:59.189Z"
      },
      {
        "duration": 28,
        "start_time": "2022-04-12T12:35:59.226Z"
      },
      {
        "duration": 15,
        "start_time": "2022-04-12T12:35:59.255Z"
      },
      {
        "duration": 13,
        "start_time": "2022-04-12T12:35:59.271Z"
      },
      {
        "duration": 163,
        "start_time": "2022-04-12T12:35:59.286Z"
      },
      {
        "duration": 204,
        "start_time": "2022-04-12T12:35:59.451Z"
      },
      {
        "duration": 98,
        "start_time": "2022-04-12T12:35:59.657Z"
      },
      {
        "duration": 40,
        "start_time": "2022-04-12T12:35:59.756Z"
      },
      {
        "duration": 87,
        "start_time": "2022-04-12T12:35:59.798Z"
      },
      {
        "duration": 41,
        "start_time": "2022-04-12T12:35:59.887Z"
      },
      {
        "duration": 11,
        "start_time": "2022-04-12T12:35:59.929Z"
      },
      {
        "duration": 34,
        "start_time": "2022-04-12T12:35:59.941Z"
      },
      {
        "duration": 5,
        "start_time": "2022-04-12T12:35:59.976Z"
      },
      {
        "duration": 63,
        "start_time": "2022-04-12T12:35:59.982Z"
      },
      {
        "duration": 28,
        "start_time": "2022-04-12T12:36:00.047Z"
      },
      {
        "duration": 50,
        "start_time": "2022-04-12T12:36:00.077Z"
      },
      {
        "duration": 16,
        "start_time": "2022-04-12T12:36:00.129Z"
      },
      {
        "duration": 22,
        "start_time": "2022-04-12T12:36:00.149Z"
      },
      {
        "duration": 14,
        "start_time": "2022-04-12T12:36:00.172Z"
      },
      {
        "duration": 9,
        "start_time": "2022-04-12T12:36:00.188Z"
      },
      {
        "duration": 42,
        "start_time": "2022-04-12T12:36:00.199Z"
      },
      {
        "duration": 22,
        "start_time": "2022-04-12T12:36:00.243Z"
      },
      {
        "duration": 4,
        "start_time": "2022-04-12T12:36:00.266Z"
      },
      {
        "duration": 23,
        "start_time": "2022-04-12T12:36:00.272Z"
      },
      {
        "duration": 10,
        "start_time": "2022-04-12T12:36:00.297Z"
      },
      {
        "duration": 13,
        "start_time": "2022-04-12T12:36:00.323Z"
      },
      {
        "duration": 10,
        "start_time": "2022-04-12T12:36:00.338Z"
      },
      {
        "duration": 21,
        "start_time": "2022-04-12T12:36:00.350Z"
      },
      {
        "duration": 26,
        "start_time": "2022-04-12T12:36:00.372Z"
      },
      {
        "duration": 13,
        "start_time": "2022-04-12T12:36:00.399Z"
      },
      {
        "duration": 213,
        "start_time": "2022-04-12T12:36:00.413Z"
      },
      {
        "duration": 7,
        "start_time": "2022-04-12T12:36:00.627Z"
      },
      {
        "duration": 43,
        "start_time": "2022-04-12T12:36:00.636Z"
      },
      {
        "duration": 16,
        "start_time": "2022-04-12T12:36:00.681Z"
      },
      {
        "duration": 29,
        "start_time": "2022-04-12T12:36:00.698Z"
      },
      {
        "duration": 571,
        "start_time": "2022-04-12T12:36:00.729Z"
      },
      {
        "duration": 549,
        "start_time": "2022-04-12T12:36:01.302Z"
      },
      {
        "duration": 585,
        "start_time": "2022-04-12T12:36:01.852Z"
      },
      {
        "duration": 7,
        "start_time": "2022-04-12T12:36:02.439Z"
      },
      {
        "duration": 26,
        "start_time": "2022-04-12T12:36:02.448Z"
      },
      {
        "duration": 7,
        "start_time": "2022-04-12T12:36:02.476Z"
      },
      {
        "duration": 12,
        "start_time": "2022-04-12T12:36:02.485Z"
      },
      {
        "duration": 1205,
        "start_time": "2022-04-12T12:46:08.043Z"
      },
      {
        "duration": 2,
        "start_time": "2022-04-12T12:46:09.251Z"
      },
      {
        "duration": 423,
        "start_time": "2022-04-12T12:46:09.255Z"
      },
      {
        "duration": 35,
        "start_time": "2022-04-12T12:46:09.681Z"
      },
      {
        "duration": 30,
        "start_time": "2022-04-12T12:46:09.718Z"
      },
      {
        "duration": 24,
        "start_time": "2022-04-12T12:46:09.750Z"
      },
      {
        "duration": 18,
        "start_time": "2022-04-12T12:46:09.775Z"
      },
      {
        "duration": 40,
        "start_time": "2022-04-12T12:46:09.795Z"
      },
      {
        "duration": 17,
        "start_time": "2022-04-12T12:46:09.837Z"
      },
      {
        "duration": 44,
        "start_time": "2022-04-12T12:46:09.858Z"
      },
      {
        "duration": 15,
        "start_time": "2022-04-12T12:46:09.904Z"
      },
      {
        "duration": 26,
        "start_time": "2022-04-12T12:46:09.921Z"
      },
      {
        "duration": 12,
        "start_time": "2022-04-12T12:46:09.950Z"
      },
      {
        "duration": 9,
        "start_time": "2022-04-12T12:46:09.964Z"
      },
      {
        "duration": 183,
        "start_time": "2022-04-12T12:46:09.974Z"
      },
      {
        "duration": 240,
        "start_time": "2022-04-12T12:46:10.159Z"
      },
      {
        "duration": 112,
        "start_time": "2022-04-12T12:46:10.400Z"
      },
      {
        "duration": 54,
        "start_time": "2022-04-12T12:46:10.514Z"
      },
      {
        "duration": 99,
        "start_time": "2022-04-12T12:46:10.570Z"
      },
      {
        "duration": 25,
        "start_time": "2022-04-12T12:46:10.671Z"
      },
      {
        "duration": 29,
        "start_time": "2022-04-12T12:46:10.698Z"
      },
      {
        "duration": 29,
        "start_time": "2022-04-12T12:46:10.729Z"
      },
      {
        "duration": 6,
        "start_time": "2022-04-12T12:46:10.760Z"
      },
      {
        "duration": 69,
        "start_time": "2022-04-12T12:46:10.768Z"
      },
      {
        "duration": 31,
        "start_time": "2022-04-12T12:46:10.839Z"
      },
      {
        "duration": 27,
        "start_time": "2022-04-12T12:46:10.872Z"
      },
      {
        "duration": 22,
        "start_time": "2022-04-12T12:46:10.922Z"
      },
      {
        "duration": 26,
        "start_time": "2022-04-12T12:46:10.948Z"
      },
      {
        "duration": 14,
        "start_time": "2022-04-12T12:46:10.976Z"
      },
      {
        "duration": 33,
        "start_time": "2022-04-12T12:46:10.991Z"
      },
      {
        "duration": 27,
        "start_time": "2022-04-12T12:46:11.026Z"
      },
      {
        "duration": 23,
        "start_time": "2022-04-12T12:46:11.055Z"
      },
      {
        "duration": 4,
        "start_time": "2022-04-12T12:46:11.079Z"
      },
      {
        "duration": 8,
        "start_time": "2022-04-12T12:46:11.085Z"
      },
      {
        "duration": 8,
        "start_time": "2022-04-12T12:46:11.124Z"
      },
      {
        "duration": 4,
        "start_time": "2022-04-12T12:46:11.134Z"
      },
      {
        "duration": 10,
        "start_time": "2022-04-12T12:46:11.140Z"
      },
      {
        "duration": 9,
        "start_time": "2022-04-12T12:46:11.152Z"
      },
      {
        "duration": 17,
        "start_time": "2022-04-12T12:46:11.163Z"
      },
      {
        "duration": 6,
        "start_time": "2022-04-12T12:46:11.182Z"
      },
      {
        "duration": 210,
        "start_time": "2022-04-12T12:46:11.190Z"
      },
      {
        "duration": 7,
        "start_time": "2022-04-12T12:46:11.402Z"
      },
      {
        "duration": 21,
        "start_time": "2022-04-12T12:46:11.411Z"
      },
      {
        "duration": 14,
        "start_time": "2022-04-12T12:46:11.434Z"
      },
      {
        "duration": 9,
        "start_time": "2022-04-12T12:46:11.450Z"
      },
      {
        "duration": 653,
        "start_time": "2022-04-12T12:46:11.461Z"
      },
      {
        "duration": 604,
        "start_time": "2022-04-12T12:46:12.115Z"
      },
      {
        "duration": 647,
        "start_time": "2022-04-12T12:46:12.722Z"
      },
      {
        "duration": 7,
        "start_time": "2022-04-12T12:46:13.371Z"
      },
      {
        "duration": 8,
        "start_time": "2022-04-12T12:46:13.379Z"
      },
      {
        "duration": 11,
        "start_time": "2022-04-12T12:46:13.389Z"
      },
      {
        "duration": 33,
        "start_time": "2022-04-12T12:46:13.401Z"
      },
      {
        "duration": 82,
        "start_time": "2022-04-12T13:17:01.720Z"
      },
      {
        "duration": 1808,
        "start_time": "2022-04-12T13:17:15.101Z"
      },
      {
        "duration": 3,
        "start_time": "2022-04-12T13:17:16.912Z"
      },
      {
        "duration": 531,
        "start_time": "2022-04-12T13:17:16.918Z"
      },
      {
        "duration": 75,
        "start_time": "2022-04-12T13:17:20.634Z"
      },
      {
        "duration": 59,
        "start_time": "2022-04-12T13:17:21.149Z"
      },
      {
        "duration": 32,
        "start_time": "2022-04-12T13:17:21.622Z"
      },
      {
        "duration": 28,
        "start_time": "2022-04-12T13:17:22.121Z"
      },
      {
        "duration": 27,
        "start_time": "2022-04-12T13:17:22.578Z"
      },
      {
        "duration": 5,
        "start_time": "2022-04-12T13:17:23.007Z"
      },
      {
        "duration": 27,
        "start_time": "2022-04-12T13:17:23.449Z"
      },
      {
        "duration": 25,
        "start_time": "2022-04-12T13:17:23.874Z"
      },
      {
        "duration": 22,
        "start_time": "2022-04-12T13:17:24.336Z"
      },
      {
        "duration": 7,
        "start_time": "2022-04-12T13:17:24.772Z"
      },
      {
        "duration": 9,
        "start_time": "2022-04-12T13:17:25.210Z"
      },
      {
        "duration": 219,
        "start_time": "2022-04-12T13:17:27.687Z"
      },
      {
        "duration": 325,
        "start_time": "2022-04-12T13:17:27.912Z"
      },
      {
        "duration": 144,
        "start_time": "2022-04-12T13:17:29.303Z"
      },
      {
        "duration": 58,
        "start_time": "2022-04-12T13:17:32.494Z"
      },
      {
        "duration": 109,
        "start_time": "2022-04-12T13:17:33.743Z"
      },
      {
        "duration": 47,
        "start_time": "2022-04-12T13:17:34.262Z"
      },
      {
        "duration": 22,
        "start_time": "2022-04-12T13:17:35.279Z"
      },
      {
        "duration": 35,
        "start_time": "2022-04-12T13:17:35.822Z"
      },
      {
        "duration": 8,
        "start_time": "2022-04-12T13:17:36.315Z"
      },
      {
        "duration": 62,
        "start_time": "2022-04-12T13:17:38.851Z"
      },
      {
        "duration": 37,
        "start_time": "2022-04-12T13:17:39.720Z"
      },
      {
        "duration": 41,
        "start_time": "2022-04-12T13:17:40.636Z"
      },
      {
        "duration": 28,
        "start_time": "2022-04-12T13:17:49.508Z"
      },
      {
        "duration": 37,
        "start_time": "2022-04-12T13:17:50.057Z"
      },
      {
        "duration": 23,
        "start_time": "2022-04-12T13:17:50.599Z"
      },
      {
        "duration": 7,
        "start_time": "2022-04-12T13:17:51.057Z"
      },
      {
        "duration": 33,
        "start_time": "2022-04-12T13:17:51.595Z"
      },
      {
        "duration": 41,
        "start_time": "2022-04-12T13:17:52.130Z"
      },
      {
        "duration": 5,
        "start_time": "2022-04-12T13:17:52.617Z"
      },
      {
        "duration": 43,
        "start_time": "2022-04-12T13:37:20.014Z"
      },
      {
        "duration": 111,
        "start_time": "2022-04-12T13:37:20.766Z"
      },
      {
        "duration": 6,
        "start_time": "2022-04-12T13:37:21.308Z"
      },
      {
        "duration": 8,
        "start_time": "2022-04-12T13:37:23.057Z"
      },
      {
        "duration": 10,
        "start_time": "2022-04-12T13:37:23.494Z"
      },
      {
        "duration": 5,
        "start_time": "2022-04-12T13:37:24.757Z"
      },
      {
        "duration": 8,
        "start_time": "2022-04-12T13:37:25.159Z"
      },
      {
        "duration": 13,
        "start_time": "2022-04-12T13:37:25.555Z"
      },
      {
        "duration": 27,
        "start_time": "2022-04-12T13:37:25.998Z"
      },
      {
        "duration": 6,
        "start_time": "2022-04-12T13:37:27.946Z"
      },
      {
        "duration": 298,
        "start_time": "2022-04-12T13:37:28.765Z"
      },
      {
        "duration": 11,
        "start_time": "2022-04-12T13:37:29.198Z"
      },
      {
        "duration": 27,
        "start_time": "2022-04-12T13:37:29.607Z"
      },
      {
        "duration": 20,
        "start_time": "2022-04-12T13:37:30.011Z"
      },
      {
        "duration": 63,
        "start_time": "2022-04-12T13:37:31.981Z"
      },
      {
        "duration": 24,
        "start_time": "2022-04-12T13:37:32.395Z"
      },
      {
        "duration": 17,
        "start_time": "2022-04-12T13:37:34.895Z"
      },
      {
        "duration": 4,
        "start_time": "2022-04-12T13:37:52.642Z"
      },
      {
        "duration": 3,
        "start_time": "2022-04-12T13:37:53.029Z"
      },
      {
        "duration": 476,
        "start_time": "2022-04-12T13:37:53.390Z"
      },
      {
        "duration": 49,
        "start_time": "2022-04-12T13:37:53.869Z"
      },
      {
        "duration": 58,
        "start_time": "2022-04-12T13:37:54.121Z"
      },
      {
        "duration": 34,
        "start_time": "2022-04-12T13:37:54.493Z"
      },
      {
        "duration": 38,
        "start_time": "2022-04-12T13:37:54.903Z"
      },
      {
        "duration": 27,
        "start_time": "2022-04-12T13:37:55.285Z"
      },
      {
        "duration": 5,
        "start_time": "2022-04-12T13:37:55.672Z"
      },
      {
        "duration": 45,
        "start_time": "2022-04-12T13:37:56.130Z"
      },
      {
        "duration": 29,
        "start_time": "2022-04-12T13:37:56.538Z"
      },
      {
        "duration": 24,
        "start_time": "2022-04-12T13:37:56.958Z"
      },
      {
        "duration": 9,
        "start_time": "2022-04-12T13:37:57.383Z"
      },
      {
        "duration": 9,
        "start_time": "2022-04-12T13:37:57.814Z"
      },
      {
        "duration": 235,
        "start_time": "2022-04-12T13:37:59.933Z"
      },
      {
        "duration": 317,
        "start_time": "2022-04-12T13:38:00.352Z"
      },
      {
        "duration": 145,
        "start_time": "2022-04-12T13:38:01.628Z"
      },
      {
        "duration": 57,
        "start_time": "2022-04-12T13:38:02.541Z"
      },
      {
        "duration": 138,
        "start_time": "2022-04-12T13:38:03.514Z"
      },
      {
        "duration": 49,
        "start_time": "2022-04-12T13:38:03.975Z"
      },
      {
        "duration": 22,
        "start_time": "2022-04-12T13:38:04.928Z"
      },
      {
        "duration": 39,
        "start_time": "2022-04-12T13:38:05.446Z"
      },
      {
        "duration": 7,
        "start_time": "2022-04-12T13:38:05.943Z"
      },
      {
        "duration": 52,
        "start_time": "2022-04-12T13:38:08.490Z"
      },
      {
        "duration": 42,
        "start_time": "2022-04-12T13:38:08.975Z"
      },
      {
        "duration": 37,
        "start_time": "2022-04-12T13:38:09.506Z"
      },
      {
        "duration": 30,
        "start_time": "2022-04-12T13:38:11.160Z"
      },
      {
        "duration": 34,
        "start_time": "2022-04-12T13:38:11.688Z"
      },
      {
        "duration": 25,
        "start_time": "2022-04-12T13:38:12.176Z"
      },
      {
        "duration": 7,
        "start_time": "2022-04-12T13:38:12.699Z"
      },
      {
        "duration": 32,
        "start_time": "2022-04-12T13:38:13.204Z"
      },
      {
        "duration": 34,
        "start_time": "2022-04-12T13:38:13.726Z"
      },
      {
        "duration": 6,
        "start_time": "2022-04-12T13:38:14.344Z"
      },
      {
        "duration": 7,
        "start_time": "2022-04-12T13:38:16.254Z"
      },
      {
        "duration": 10,
        "start_time": "2022-04-12T13:38:16.737Z"
      },
      {
        "duration": 5,
        "start_time": "2022-04-12T13:38:18.232Z"
      },
      {
        "duration": 6,
        "start_time": "2022-04-12T13:38:18.725Z"
      },
      {
        "duration": 9,
        "start_time": "2022-04-12T13:38:19.209Z"
      },
      {
        "duration": 23,
        "start_time": "2022-04-12T13:38:19.765Z"
      },
      {
        "duration": 5,
        "start_time": "2022-04-12T13:38:22.266Z"
      },
      {
        "duration": 298,
        "start_time": "2022-04-12T13:38:23.244Z"
      },
      {
        "duration": 10,
        "start_time": "2022-04-12T13:38:23.797Z"
      },
      {
        "duration": 23,
        "start_time": "2022-04-12T13:38:24.357Z"
      },
      {
        "duration": 17,
        "start_time": "2022-04-12T13:38:24.858Z"
      },
      {
        "duration": 11,
        "start_time": "2022-04-12T13:38:27.823Z"
      },
      {
        "duration": 979,
        "start_time": "2022-04-12T13:38:28.834Z"
      },
      {
        "duration": 959,
        "start_time": "2022-04-12T13:38:32.004Z"
      },
      {
        "duration": 982,
        "start_time": "2022-04-12T13:38:33.987Z"
      },
      {
        "duration": 18,
        "start_time": "2022-04-12T13:38:34.973Z"
      },
      {
        "duration": 7,
        "start_time": "2022-04-12T13:38:37.103Z"
      },
      {
        "duration": 11,
        "start_time": "2022-04-12T13:38:44.588Z"
      },
      {
        "duration": 5,
        "start_time": "2022-04-12T13:39:10.749Z"
      },
      {
        "duration": 9,
        "start_time": "2022-04-12T13:39:19.065Z"
      },
      {
        "duration": 8,
        "start_time": "2022-04-12T13:39:37.337Z"
      },
      {
        "duration": 11,
        "start_time": "2022-04-12T13:39:38.996Z"
      },
      {
        "duration": 17,
        "start_time": "2022-04-12T13:39:41.539Z"
      },
      {
        "duration": 18,
        "start_time": "2022-04-12T14:11:23.394Z"
      },
      {
        "duration": 1264,
        "start_time": "2022-04-12T14:11:29.319Z"
      },
      {
        "duration": 3,
        "start_time": "2022-04-12T14:11:30.585Z"
      },
      {
        "duration": 480,
        "start_time": "2022-04-12T14:11:30.589Z"
      },
      {
        "duration": 35,
        "start_time": "2022-04-12T14:11:31.071Z"
      },
      {
        "duration": 37,
        "start_time": "2022-04-12T14:11:31.107Z"
      },
      {
        "duration": 24,
        "start_time": "2022-04-12T14:11:31.145Z"
      },
      {
        "duration": 26,
        "start_time": "2022-04-12T14:11:31.171Z"
      },
      {
        "duration": 37,
        "start_time": "2022-04-12T14:11:31.199Z"
      },
      {
        "duration": 16,
        "start_time": "2022-04-12T14:11:31.239Z"
      },
      {
        "duration": 31,
        "start_time": "2022-04-12T14:11:31.257Z"
      },
      {
        "duration": 16,
        "start_time": "2022-04-12T14:11:31.290Z"
      },
      {
        "duration": 45,
        "start_time": "2022-04-12T14:11:31.308Z"
      },
      {
        "duration": 24,
        "start_time": "2022-04-12T14:11:31.355Z"
      },
      {
        "duration": 14,
        "start_time": "2022-04-12T14:11:31.381Z"
      },
      {
        "duration": 187,
        "start_time": "2022-04-12T14:11:31.397Z"
      },
      {
        "duration": 217,
        "start_time": "2022-04-12T14:11:31.586Z"
      },
      {
        "duration": 144,
        "start_time": "2022-04-12T14:11:31.805Z"
      },
      {
        "duration": 93,
        "start_time": "2022-04-12T14:11:31.950Z"
      },
      {
        "duration": 201,
        "start_time": "2022-04-12T14:11:32.044Z"
      },
      {
        "duration": 91,
        "start_time": "2022-04-12T14:11:32.248Z"
      },
      {
        "duration": 11,
        "start_time": "2022-04-12T14:11:32.341Z"
      },
      {
        "duration": 83,
        "start_time": "2022-04-12T14:11:32.353Z"
      },
      {
        "duration": 5,
        "start_time": "2022-04-12T14:11:32.438Z"
      },
      {
        "duration": 104,
        "start_time": "2022-04-12T14:11:32.445Z"
      },
      {
        "duration": 82,
        "start_time": "2022-04-12T14:11:32.550Z"
      },
      {
        "duration": 27,
        "start_time": "2022-04-12T14:11:32.634Z"
      },
      {
        "duration": 78,
        "start_time": "2022-04-12T14:11:32.663Z"
      },
      {
        "duration": 20,
        "start_time": "2022-04-12T14:11:32.745Z"
      },
      {
        "duration": 69,
        "start_time": "2022-04-12T14:11:32.767Z"
      },
      {
        "duration": 9,
        "start_time": "2022-04-12T14:11:32.840Z"
      },
      {
        "duration": 74,
        "start_time": "2022-04-12T14:11:32.851Z"
      },
      {
        "duration": 28,
        "start_time": "2022-04-12T14:11:32.927Z"
      },
      {
        "duration": 4,
        "start_time": "2022-04-12T14:11:32.956Z"
      },
      {
        "duration": 6,
        "start_time": "2022-04-12T14:11:32.961Z"
      },
      {
        "duration": 16,
        "start_time": "2022-04-12T14:11:33.024Z"
      },
      {
        "duration": 3,
        "start_time": "2022-04-12T14:11:33.043Z"
      },
      {
        "duration": 6,
        "start_time": "2022-04-12T14:11:33.048Z"
      },
      {
        "duration": 8,
        "start_time": "2022-04-12T14:11:33.055Z"
      },
      {
        "duration": 76,
        "start_time": "2022-04-12T14:11:33.065Z"
      },
      {
        "duration": 31,
        "start_time": "2022-04-12T14:11:33.143Z"
      },
      {
        "duration": 48,
        "start_time": "2022-04-12T14:11:33.175Z"
      },
      {
        "duration": 526,
        "start_time": "2022-04-12T14:11:33.225Z"
      },
      {
        "duration": 9,
        "start_time": "2022-04-12T14:11:33.754Z"
      },
      {
        "duration": 77,
        "start_time": "2022-04-12T14:11:33.765Z"
      },
      {
        "duration": 12,
        "start_time": "2022-04-12T14:11:33.844Z"
      },
      {
        "duration": 7,
        "start_time": "2022-04-12T14:11:33.858Z"
      },
      {
        "duration": 1631,
        "start_time": "2022-04-12T14:11:33.922Z"
      },
      {
        "duration": 1302,
        "start_time": "2022-04-12T14:11:35.554Z"
      },
      {
        "duration": 1891,
        "start_time": "2022-04-12T14:11:36.858Z"
      },
      {
        "duration": 8,
        "start_time": "2022-04-12T14:11:38.751Z"
      },
      {
        "duration": 64,
        "start_time": "2022-04-12T14:11:38.761Z"
      },
      {
        "duration": 11,
        "start_time": "2022-04-12T14:11:38.830Z"
      },
      {
        "duration": 14,
        "start_time": "2022-04-12T14:11:38.843Z"
      },
      {
        "duration": 14,
        "start_time": "2022-04-12T14:11:38.858Z"
      },
      {
        "duration": 29,
        "start_time": "2022-04-12T14:12:34.411Z"
      },
      {
        "duration": 1206,
        "start_time": "2022-04-12T14:13:40.549Z"
      },
      {
        "duration": 2,
        "start_time": "2022-04-12T14:13:41.757Z"
      },
      {
        "duration": 420,
        "start_time": "2022-04-12T14:13:41.761Z"
      },
      {
        "duration": 35,
        "start_time": "2022-04-12T14:13:42.184Z"
      },
      {
        "duration": 33,
        "start_time": "2022-04-12T14:13:42.221Z"
      },
      {
        "duration": 21,
        "start_time": "2022-04-12T14:13:42.256Z"
      },
      {
        "duration": 16,
        "start_time": "2022-04-12T14:13:42.279Z"
      },
      {
        "duration": 19,
        "start_time": "2022-04-12T14:13:42.331Z"
      },
      {
        "duration": 4,
        "start_time": "2022-04-12T14:13:42.351Z"
      },
      {
        "duration": 20,
        "start_time": "2022-04-12T14:13:42.357Z"
      },
      {
        "duration": 13,
        "start_time": "2022-04-12T14:13:42.379Z"
      },
      {
        "duration": 47,
        "start_time": "2022-04-12T14:13:42.394Z"
      },
      {
        "duration": 7,
        "start_time": "2022-04-12T14:13:42.443Z"
      },
      {
        "duration": 7,
        "start_time": "2022-04-12T14:13:42.451Z"
      },
      {
        "duration": 393,
        "start_time": "2022-04-12T14:13:42.459Z"
      },
      {
        "duration": 487,
        "start_time": "2022-04-12T14:13:42.854Z"
      },
      {
        "duration": 215,
        "start_time": "2022-04-12T14:13:43.343Z"
      },
      {
        "duration": 97,
        "start_time": "2022-04-12T14:13:43.560Z"
      },
      {
        "duration": 188,
        "start_time": "2022-04-12T14:13:43.658Z"
      },
      {
        "duration": 92,
        "start_time": "2022-04-12T14:13:43.848Z"
      },
      {
        "duration": 12,
        "start_time": "2022-04-12T14:13:43.942Z"
      },
      {
        "duration": 88,
        "start_time": "2022-04-12T14:13:43.955Z"
      },
      {
        "duration": 5,
        "start_time": "2022-04-12T14:13:44.045Z"
      },
      {
        "duration": 99,
        "start_time": "2022-04-12T14:13:44.052Z"
      },
      {
        "duration": 86,
        "start_time": "2022-04-12T14:13:44.153Z"
      },
      {
        "duration": 89,
        "start_time": "2022-04-12T14:13:44.241Z"
      },
      {
        "duration": 20,
        "start_time": "2022-04-12T14:13:44.336Z"
      },
      {
        "duration": 71,
        "start_time": "2022-04-12T14:13:44.360Z"
      },
      {
        "duration": 16,
        "start_time": "2022-04-12T14:13:44.434Z"
      },
      {
        "duration": 5,
        "start_time": "2022-04-12T14:13:44.452Z"
      },
      {
        "duration": 84,
        "start_time": "2022-04-12T14:13:44.458Z"
      },
      {
        "duration": 23,
        "start_time": "2022-04-12T14:13:44.544Z"
      },
      {
        "duration": 57,
        "start_time": "2022-04-12T14:13:44.569Z"
      },
      {
        "duration": 9,
        "start_time": "2022-04-12T14:13:44.628Z"
      },
      {
        "duration": 7,
        "start_time": "2022-04-12T14:13:44.640Z"
      },
      {
        "duration": 5,
        "start_time": "2022-04-12T14:13:44.648Z"
      },
      {
        "duration": 5,
        "start_time": "2022-04-12T14:13:44.655Z"
      },
      {
        "duration": 8,
        "start_time": "2022-04-12T14:13:44.661Z"
      },
      {
        "duration": 20,
        "start_time": "2022-04-12T14:13:44.725Z"
      },
      {
        "duration": 23,
        "start_time": "2022-04-12T14:13:44.747Z"
      },
      {
        "duration": 12,
        "start_time": "2022-04-12T14:13:44.823Z"
      },
      {
        "duration": 528,
        "start_time": "2022-04-12T14:13:44.837Z"
      },
      {
        "duration": 70,
        "start_time": "2022-04-12T14:13:45.368Z"
      },
      {
        "duration": 17,
        "start_time": "2022-04-12T14:13:45.440Z"
      },
      {
        "duration": 10,
        "start_time": "2022-04-12T14:13:45.459Z"
      },
      {
        "duration": 63,
        "start_time": "2022-04-12T14:13:45.471Z"
      },
      {
        "duration": 1623,
        "start_time": "2022-04-12T14:13:45.536Z"
      },
      {
        "duration": 1293,
        "start_time": "2022-04-12T14:13:47.160Z"
      },
      {
        "duration": 1394,
        "start_time": "2022-04-12T14:13:48.454Z"
      },
      {
        "duration": 8,
        "start_time": "2022-04-12T14:13:49.849Z"
      },
      {
        "duration": 66,
        "start_time": "2022-04-12T14:13:49.859Z"
      },
      {
        "duration": 17,
        "start_time": "2022-04-12T14:13:49.927Z"
      },
      {
        "duration": 6,
        "start_time": "2022-04-12T14:13:49.946Z"
      },
      {
        "duration": 12,
        "start_time": "2022-04-12T14:13:49.954Z"
      },
      {
        "duration": 20,
        "start_time": "2022-04-12T14:14:35.255Z"
      },
      {
        "duration": 1227,
        "start_time": "2022-04-12T14:20:10.486Z"
      },
      {
        "duration": 3,
        "start_time": "2022-04-12T14:20:11.715Z"
      },
      {
        "duration": 605,
        "start_time": "2022-04-12T14:20:11.722Z"
      },
      {
        "duration": 37,
        "start_time": "2022-04-12T14:20:12.332Z"
      },
      {
        "duration": 40,
        "start_time": "2022-04-12T14:20:12.424Z"
      },
      {
        "duration": 81,
        "start_time": "2022-04-12T14:20:12.466Z"
      },
      {
        "duration": 75,
        "start_time": "2022-04-12T14:20:12.549Z"
      },
      {
        "duration": 26,
        "start_time": "2022-04-12T14:20:12.626Z"
      },
      {
        "duration": 4,
        "start_time": "2022-04-12T14:20:12.654Z"
      },
      {
        "duration": 88,
        "start_time": "2022-04-12T14:20:12.660Z"
      },
      {
        "duration": 14,
        "start_time": "2022-04-12T14:20:12.750Z"
      },
      {
        "duration": 83,
        "start_time": "2022-04-12T14:20:12.766Z"
      },
      {
        "duration": 5,
        "start_time": "2022-04-12T14:20:12.851Z"
      },
      {
        "duration": 7,
        "start_time": "2022-04-12T14:20:12.858Z"
      },
      {
        "duration": 337,
        "start_time": "2022-04-12T14:20:12.923Z"
      },
      {
        "duration": 494,
        "start_time": "2022-04-12T14:20:13.262Z"
      },
      {
        "duration": 210,
        "start_time": "2022-04-12T14:20:13.758Z"
      },
      {
        "duration": 106,
        "start_time": "2022-04-12T14:20:14.025Z"
      },
      {
        "duration": 144,
        "start_time": "2022-04-12T14:20:14.134Z"
      },
      {
        "duration": 77,
        "start_time": "2022-04-12T14:20:14.279Z"
      },
      {
        "duration": 12,
        "start_time": "2022-04-12T14:20:14.357Z"
      },
      {
        "duration": 58,
        "start_time": "2022-04-12T14:20:14.371Z"
      },
      {
        "duration": 9,
        "start_time": "2022-04-12T14:20:14.432Z"
      },
      {
        "duration": 47,
        "start_time": "2022-04-12T14:20:14.443Z"
      },
      {
        "duration": 58,
        "start_time": "2022-04-12T14:20:14.492Z"
      },
      {
        "duration": 30,
        "start_time": "2022-04-12T14:20:14.552Z"
      },
      {
        "duration": 51,
        "start_time": "2022-04-12T14:20:14.584Z"
      },
      {
        "duration": 20,
        "start_time": "2022-04-12T14:20:14.641Z"
      },
      {
        "duration": 16,
        "start_time": "2022-04-12T14:20:14.664Z"
      },
      {
        "duration": 5,
        "start_time": "2022-04-12T14:20:14.682Z"
      },
      {
        "duration": 59,
        "start_time": "2022-04-12T14:20:14.689Z"
      },
      {
        "duration": 23,
        "start_time": "2022-04-12T14:20:14.750Z"
      },
      {
        "duration": 4,
        "start_time": "2022-04-12T14:20:14.775Z"
      },
      {
        "duration": 6,
        "start_time": "2022-04-12T14:20:14.781Z"
      },
      {
        "duration": 40,
        "start_time": "2022-04-12T14:20:14.788Z"
      },
      {
        "duration": 5,
        "start_time": "2022-04-12T14:20:14.830Z"
      },
      {
        "duration": 11,
        "start_time": "2022-04-12T14:20:14.837Z"
      },
      {
        "duration": 8,
        "start_time": "2022-04-12T14:20:14.850Z"
      },
      {
        "duration": 17,
        "start_time": "2022-04-12T14:20:14.859Z"
      },
      {
        "duration": 6,
        "start_time": "2022-04-12T14:20:14.878Z"
      },
      {
        "duration": 207,
        "start_time": "2022-04-12T14:20:14.886Z"
      },
      {
        "duration": 7,
        "start_time": "2022-04-12T14:20:15.095Z"
      },
      {
        "duration": 33,
        "start_time": "2022-04-12T14:20:15.104Z"
      },
      {
        "duration": 11,
        "start_time": "2022-04-12T14:20:15.139Z"
      },
      {
        "duration": 9,
        "start_time": "2022-04-12T14:20:15.152Z"
      },
      {
        "duration": 663,
        "start_time": "2022-04-12T14:20:15.163Z"
      },
      {
        "duration": 611,
        "start_time": "2022-04-12T14:20:15.828Z"
      },
      {
        "duration": 771,
        "start_time": "2022-04-12T14:20:16.441Z"
      },
      {
        "duration": 15,
        "start_time": "2022-04-12T14:20:17.214Z"
      },
      {
        "duration": 25,
        "start_time": "2022-04-12T14:20:17.232Z"
      },
      {
        "duration": 22,
        "start_time": "2022-04-12T14:20:17.259Z"
      },
      {
        "duration": 19,
        "start_time": "2022-04-12T14:20:17.283Z"
      },
      {
        "duration": 39,
        "start_time": "2022-04-12T14:20:17.304Z"
      },
      {
        "duration": 2220,
        "start_time": "2022-04-12T14:20:44.723Z"
      },
      {
        "duration": 3,
        "start_time": "2022-04-12T14:20:46.945Z"
      },
      {
        "duration": 832,
        "start_time": "2022-04-12T14:20:46.949Z"
      },
      {
        "duration": 45,
        "start_time": "2022-04-12T14:20:47.823Z"
      },
      {
        "duration": 34,
        "start_time": "2022-04-12T14:20:47.925Z"
      },
      {
        "duration": 83,
        "start_time": "2022-04-12T14:20:47.961Z"
      },
      {
        "duration": 81,
        "start_time": "2022-04-12T14:20:48.047Z"
      },
      {
        "duration": 25,
        "start_time": "2022-04-12T14:20:48.131Z"
      },
      {
        "duration": 5,
        "start_time": "2022-04-12T14:20:48.158Z"
      },
      {
        "duration": 86,
        "start_time": "2022-04-12T14:20:48.166Z"
      },
      {
        "duration": 72,
        "start_time": "2022-04-12T14:20:48.254Z"
      },
      {
        "duration": 27,
        "start_time": "2022-04-12T14:20:48.328Z"
      },
      {
        "duration": 8,
        "start_time": "2022-04-12T14:20:48.356Z"
      },
      {
        "duration": 6,
        "start_time": "2022-04-12T14:20:48.366Z"
      },
      {
        "duration": 384,
        "start_time": "2022-04-12T14:20:48.374Z"
      },
      {
        "duration": 496,
        "start_time": "2022-04-12T14:20:48.759Z"
      },
      {
        "duration": 277,
        "start_time": "2022-04-12T14:20:49.257Z"
      },
      {
        "duration": 117,
        "start_time": "2022-04-12T14:20:49.536Z"
      },
      {
        "duration": 133,
        "start_time": "2022-04-12T14:20:49.655Z"
      },
      {
        "duration": 34,
        "start_time": "2022-04-12T14:20:49.822Z"
      },
      {
        "duration": 11,
        "start_time": "2022-04-12T14:20:49.858Z"
      },
      {
        "duration": 25,
        "start_time": "2022-04-12T14:20:49.870Z"
      },
      {
        "duration": 36,
        "start_time": "2022-04-12T14:20:49.897Z"
      },
      {
        "duration": 47,
        "start_time": "2022-04-12T14:20:49.936Z"
      },
      {
        "duration": 48,
        "start_time": "2022-04-12T14:20:49.985Z"
      },
      {
        "duration": 30,
        "start_time": "2022-04-12T14:20:50.037Z"
      },
      {
        "duration": 19,
        "start_time": "2022-04-12T14:20:50.069Z"
      },
      {
        "duration": 48,
        "start_time": "2022-04-12T14:20:50.092Z"
      },
      {
        "duration": 16,
        "start_time": "2022-04-12T14:20:50.143Z"
      },
      {
        "duration": 4,
        "start_time": "2022-04-12T14:20:50.161Z"
      },
      {
        "duration": 22,
        "start_time": "2022-04-12T14:20:50.167Z"
      },
      {
        "duration": 57,
        "start_time": "2022-04-12T14:20:50.190Z"
      },
      {
        "duration": 4,
        "start_time": "2022-04-12T14:20:50.249Z"
      },
      {
        "duration": 7,
        "start_time": "2022-04-12T14:20:50.254Z"
      },
      {
        "duration": 9,
        "start_time": "2022-04-12T14:20:50.262Z"
      },
      {
        "duration": 3,
        "start_time": "2022-04-12T14:20:50.273Z"
      },
      {
        "duration": 6,
        "start_time": "2022-04-12T14:20:50.278Z"
      },
      {
        "duration": 8,
        "start_time": "2022-04-12T14:20:50.285Z"
      },
      {
        "duration": 24,
        "start_time": "2022-04-12T14:20:50.323Z"
      },
      {
        "duration": 4,
        "start_time": "2022-04-12T14:20:50.349Z"
      },
      {
        "duration": 188,
        "start_time": "2022-04-12T14:20:50.355Z"
      },
      {
        "duration": 8,
        "start_time": "2022-04-12T14:20:50.545Z"
      },
      {
        "duration": 28,
        "start_time": "2022-04-12T14:20:50.554Z"
      },
      {
        "duration": 10,
        "start_time": "2022-04-12T14:20:50.584Z"
      },
      {
        "duration": 10,
        "start_time": "2022-04-12T14:20:50.596Z"
      },
      {
        "duration": 608,
        "start_time": "2022-04-12T14:20:50.608Z"
      },
      {
        "duration": 558,
        "start_time": "2022-04-12T14:20:51.222Z"
      },
      {
        "duration": 629,
        "start_time": "2022-04-12T14:20:51.781Z"
      },
      {
        "duration": 17,
        "start_time": "2022-04-12T14:20:52.411Z"
      },
      {
        "duration": 11,
        "start_time": "2022-04-12T14:20:52.431Z"
      },
      {
        "duration": 6,
        "start_time": "2022-04-12T14:20:52.444Z"
      },
      {
        "duration": 7,
        "start_time": "2022-04-12T14:20:52.452Z"
      },
      {
        "duration": 12,
        "start_time": "2022-04-12T14:20:52.461Z"
      },
      {
        "duration": 1303,
        "start_time": "2022-04-12T14:23:19.562Z"
      },
      {
        "duration": 3,
        "start_time": "2022-04-12T14:23:20.867Z"
      },
      {
        "duration": 464,
        "start_time": "2022-04-12T14:23:20.872Z"
      },
      {
        "duration": 35,
        "start_time": "2022-04-12T14:23:21.339Z"
      },
      {
        "duration": 28,
        "start_time": "2022-04-12T14:23:21.376Z"
      },
      {
        "duration": 42,
        "start_time": "2022-04-12T14:23:21.405Z"
      },
      {
        "duration": 18,
        "start_time": "2022-04-12T14:23:21.449Z"
      },
      {
        "duration": 16,
        "start_time": "2022-04-12T14:23:21.468Z"
      },
      {
        "duration": 43,
        "start_time": "2022-04-12T14:23:21.486Z"
      },
      {
        "duration": 21,
        "start_time": "2022-04-12T14:23:21.535Z"
      },
      {
        "duration": 15,
        "start_time": "2022-04-12T14:23:21.558Z"
      },
      {
        "duration": 17,
        "start_time": "2022-04-12T14:23:21.574Z"
      },
      {
        "duration": 5,
        "start_time": "2022-04-12T14:23:21.593Z"
      },
      {
        "duration": 7,
        "start_time": "2022-04-12T14:23:21.628Z"
      },
      {
        "duration": 203,
        "start_time": "2022-04-12T14:23:21.637Z"
      },
      {
        "duration": 228,
        "start_time": "2022-04-12T14:23:21.841Z"
      },
      {
        "duration": 114,
        "start_time": "2022-04-12T14:23:22.071Z"
      },
      {
        "duration": 58,
        "start_time": "2022-04-12T14:23:22.187Z"
      },
      {
        "duration": 91,
        "start_time": "2022-04-12T14:23:22.246Z"
      },
      {
        "duration": 26,
        "start_time": "2022-04-12T14:23:22.339Z"
      },
      {
        "duration": 13,
        "start_time": "2022-04-12T14:23:22.367Z"
      },
      {
        "duration": 53,
        "start_time": "2022-04-12T14:23:22.382Z"
      },
      {
        "duration": 8,
        "start_time": "2022-04-12T14:23:22.436Z"
      },
      {
        "duration": 44,
        "start_time": "2022-04-12T14:23:22.446Z"
      },
      {
        "duration": 59,
        "start_time": "2022-04-12T14:23:22.492Z"
      },
      {
        "duration": 26,
        "start_time": "2022-04-12T14:23:22.553Z"
      },
      {
        "duration": 17,
        "start_time": "2022-04-12T14:23:22.581Z"
      },
      {
        "duration": 29,
        "start_time": "2022-04-12T14:23:22.622Z"
      },
      {
        "duration": 15,
        "start_time": "2022-04-12T14:23:22.652Z"
      },
      {
        "duration": 5,
        "start_time": "2022-04-12T14:23:22.669Z"
      },
      {
        "duration": 22,
        "start_time": "2022-04-12T14:23:22.676Z"
      },
      {
        "duration": 26,
        "start_time": "2022-04-12T14:23:22.728Z"
      },
      {
        "duration": 4,
        "start_time": "2022-04-12T14:23:22.755Z"
      },
      {
        "duration": 6,
        "start_time": "2022-04-12T14:23:22.761Z"
      },
      {
        "duration": 9,
        "start_time": "2022-04-12T14:23:22.768Z"
      },
      {
        "duration": 3,
        "start_time": "2022-04-12T14:23:22.779Z"
      },
      {
        "duration": 6,
        "start_time": "2022-04-12T14:23:22.783Z"
      },
      {
        "duration": 38,
        "start_time": "2022-04-12T14:23:22.790Z"
      },
      {
        "duration": 21,
        "start_time": "2022-04-12T14:23:22.830Z"
      },
      {
        "duration": 5,
        "start_time": "2022-04-12T14:23:22.854Z"
      },
      {
        "duration": 197,
        "start_time": "2022-04-12T14:23:22.861Z"
      },
      {
        "duration": 9,
        "start_time": "2022-04-12T14:23:23.059Z"
      },
      {
        "duration": 24,
        "start_time": "2022-04-12T14:23:23.070Z"
      },
      {
        "duration": 19,
        "start_time": "2022-04-12T14:23:23.096Z"
      },
      {
        "duration": 18,
        "start_time": "2022-04-12T14:23:23.122Z"
      },
      {
        "duration": 626,
        "start_time": "2022-04-12T14:23:23.142Z"
      },
      {
        "duration": 622,
        "start_time": "2022-04-12T14:23:23.770Z"
      },
      {
        "duration": 680,
        "start_time": "2022-04-12T14:23:24.394Z"
      },
      {
        "duration": 8,
        "start_time": "2022-04-12T14:23:25.075Z"
      },
      {
        "duration": 9,
        "start_time": "2022-04-12T14:23:25.085Z"
      },
      {
        "duration": 35,
        "start_time": "2022-04-12T14:23:25.096Z"
      },
      {
        "duration": 13,
        "start_time": "2022-04-12T14:23:25.133Z"
      },
      {
        "duration": 12,
        "start_time": "2022-04-12T14:23:25.148Z"
      }
    ],
    "kernelspec": {
      "display_name": "Python 3 (ipykernel)",
      "language": "python",
      "name": "python3"
    },
    "language_info": {
      "codemirror_mode": {
        "name": "ipython",
        "version": 3
      },
      "file_extension": ".py",
      "mimetype": "text/x-python",
      "name": "python",
      "nbconvert_exporter": "python",
      "pygments_lexer": "ipython3",
      "version": "3.9.5"
    },
    "toc": {
      "base_numbering": 1,
      "nav_menu": {
        "height": "213px",
        "width": "178px"
      },
      "number_sections": true,
      "sideBar": true,
      "skip_h1_title": true,
      "title_cell": "Table of Contents",
      "title_sidebar": "Contents",
      "toc_cell": false,
      "toc_position": {
        "height": "calc(100% - 180px)",
        "left": "10px",
        "top": "150px",
        "width": "255.195px"
      },
      "toc_section_display": true,
      "toc_window_display": false
    },
    "colab": {
      "provenance": [],
      "include_colab_link": true
    }
  },
  "nbformat": 4,
  "nbformat_minor": 0
}