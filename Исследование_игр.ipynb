{
  "cells": [
    {
      "cell_type": "markdown",
      "metadata": {
        "id": "view-in-github",
        "colab_type": "text"
      },
      "source": [
        "<a href=\"https://colab.research.google.com/github/Circle-vip/Yandex_practicum/blob/main/%D0%98%D1%81%D1%81%D0%BB%D0%B5%D0%B4%D0%BE%D0%B2%D0%B0%D0%BD%D0%B8%D0%B5_%D0%B8%D0%B3%D1%80.ipynb\" target=\"_parent\"><img src=\"https://colab.research.google.com/assets/colab-badge.svg\" alt=\"Open In Colab\"/></a>"
      ]
    },
    {
      "cell_type": "markdown",
      "metadata": {
        "id": "btzidoeqJtVn"
      },
      "source": [
        "# Анализ компьютерных игр"
      ]
    },
    {
      "cell_type": "code",
      "source": [
        "from google.colab import drive\n",
        "drive.mount('/content/drive')"
      ],
      "metadata": {
        "colab": {
          "base_uri": "https://localhost:8080/"
        },
        "id": "08UcYbIMQCSv",
        "outputId": "bcd264ca-e0b4-4f70-aeda-570e90516aef"
      },
      "execution_count": null,
      "outputs": [
        {
          "output_type": "stream",
          "name": "stdout",
          "text": [
            "Drive already mounted at /content/drive; to attempt to forcibly remount, call drive.mount(\"/content/drive\", force_remount=True).\n"
          ]
        }
      ]
    },
    {
      "cell_type": "markdown",
      "metadata": {
        "id": "zvSxdBQvJtVn"
      },
      "source": [
        "**Цель:** Выявить определяющие успешность игры закономерности. Определить потенциально популярный продукт.\n",
        "\n",
        "**Описание данных:** Данные взяты за 2016 год. Могут быть неполными.\n",
        "\n",
        "1) Name — название игры\n",
        "\n",
        "2) Platform — платформа\n",
        "\n",
        "3) Year_of_Release — год выпуска\n",
        "\n",
        "4) Genre — жанр игры\n",
        "\n",
        "5) NA_sales — продажи в Северной Америке (миллионы проданных копий)\n",
        "\n",
        "6) EU_sales — продажи в Европе (миллионы проданных копий)\n",
        "\n",
        "7) JP_sales — продажи в Японии (миллионы проданных копий)\n",
        "\n",
        "8) Other_sales — продажи в других странах (миллионы проданных копий)\n",
        "\n",
        "9) Critic_Score — оценка критиков (максимум 100)\n",
        "\n",
        "10) User_Score — оценка пользователей (максимум 10)\n",
        "\n",
        "11) Rating — рейтинг от организации ESRB (англ. Entertainment Software Rating Board). Эта ассоциация определяет рейтинг компьютерных игр и присваивает им подходящую возрастную категорию.\n",
        "\n",
        "**Значение рейтингов:** \n",
        "\n",
        "1) Е - «Everyone» — «Для всех»: Содержание вполне подходит для возрастной категории от 6 лет и старше.\n",
        "\n",
        "2) M -«Mature» — «От 17 лет»: Материалы игры не подходят для подростков младше 17 лет. \n",
        "\n",
        "3) T - «Teen» — «Подросткам»: Игра подходит для лиц от 13 лет и старше.\n",
        "\n",
        "4) E10+ - «Everyone 10 and older» — «Для всех старше 10 лет»: Возрастная категория — от 10 лет.\n",
        "\n",
        "5) EC - «Early childhood» — «Для детей младшего возраста»: Игра подходит для детей от 3 лет и старше.\n",
        "\n",
        "6) K-A - «Kids to Adults» — «Для детей и взрослых»: Содержание игры вполне подходит для возрастной категории от 6 лет и старше.\n",
        "\n",
        "7) AO - «Adults Only 18+» — «Только для взрослых»: Содержание игры только для взрослых от 18 лет.\n",
        "\n",
        "8) RP - «Rating Pending»“ — «Рейтинг ожидается»: Продукт был отправлен в ESRB и ожидает присвоения рейтинга. Данный логотип используется только на рекламных презентациях и в демо-версиях игр до официального релиза.\n"
      ]
    },
    {
      "cell_type": "markdown",
      "metadata": {
        "id": "6gdIGExPJtVo"
      },
      "source": [
        "## Обзор данных"
      ]
    },
    {
      "cell_type": "code",
      "execution_count": null,
      "metadata": {
        "id": "HMjrwTscJtVp"
      },
      "outputs": [],
      "source": [
        "#Импортируем библиотеки, которые возможно понадобятся\n",
        "import pandas as pd\n",
        "import numpy as np\n",
        "import warnings \n",
        "from scipy import stats as st\n",
        "import seaborn as sns\n",
        "import matplotlib.pyplot as plt"
      ]
    },
    {
      "cell_type": "code",
      "execution_count": null,
      "metadata": {
        "id": "y9caLR1dJtVr"
      },
      "outputs": [],
      "source": [
        "#Чтобы окна об ошибках не мешали\n",
        "warnings.filterwarnings('ignore')"
      ]
    },
    {
      "cell_type": "code",
      "execution_count": null,
      "metadata": {
        "colab": {
          "base_uri": "https://localhost:8080/",
          "height": 802
        },
        "id": "IRGysjkiJtVs",
        "outputId": "ff9a3f93-cf65-4d41-cfa0-86c29e57bca1"
      },
      "outputs": [
        {
          "output_type": "display_data",
          "data": {
            "text/plain": [
              "                       Name Platform  Year_of_Release         Genre  NA_sales  \\\n",
              "0                Wii Sports      Wii           2006.0        Sports     41.36   \n",
              "1         Super Mario Bros.      NES           1985.0      Platform     29.08   \n",
              "2            Mario Kart Wii      Wii           2008.0        Racing     15.68   \n",
              "3         Wii Sports Resort      Wii           2009.0        Sports     15.61   \n",
              "4  Pokemon Red/Pokemon Blue       GB           1996.0  Role-Playing     11.27   \n",
              "\n",
              "   EU_sales  JP_sales  Other_sales  Critic_Score User_Score Rating  \n",
              "0     28.96      3.77         8.45          76.0          8      E  \n",
              "1      3.58      6.81         0.77           NaN        NaN    NaN  \n",
              "2     12.76      3.79         3.29          82.0        8.3      E  \n",
              "3     10.93      3.28         2.95          80.0          8      E  \n",
              "4      8.89     10.22         1.00           NaN        NaN    NaN  "
            ],
            "text/html": [
              "\n",
              "  <div id=\"df-193e61b8-8083-4f33-be1d-7280b856c397\">\n",
              "    <div class=\"colab-df-container\">\n",
              "      <div>\n",
              "<style scoped>\n",
              "    .dataframe tbody tr th:only-of-type {\n",
              "        vertical-align: middle;\n",
              "    }\n",
              "\n",
              "    .dataframe tbody tr th {\n",
              "        vertical-align: top;\n",
              "    }\n",
              "\n",
              "    .dataframe thead th {\n",
              "        text-align: right;\n",
              "    }\n",
              "</style>\n",
              "<table border=\"1\" class=\"dataframe\">\n",
              "  <thead>\n",
              "    <tr style=\"text-align: right;\">\n",
              "      <th></th>\n",
              "      <th>Name</th>\n",
              "      <th>Platform</th>\n",
              "      <th>Year_of_Release</th>\n",
              "      <th>Genre</th>\n",
              "      <th>NA_sales</th>\n",
              "      <th>EU_sales</th>\n",
              "      <th>JP_sales</th>\n",
              "      <th>Other_sales</th>\n",
              "      <th>Critic_Score</th>\n",
              "      <th>User_Score</th>\n",
              "      <th>Rating</th>\n",
              "    </tr>\n",
              "  </thead>\n",
              "  <tbody>\n",
              "    <tr>\n",
              "      <th>0</th>\n",
              "      <td>Wii Sports</td>\n",
              "      <td>Wii</td>\n",
              "      <td>2006.0</td>\n",
              "      <td>Sports</td>\n",
              "      <td>41.36</td>\n",
              "      <td>28.96</td>\n",
              "      <td>3.77</td>\n",
              "      <td>8.45</td>\n",
              "      <td>76.0</td>\n",
              "      <td>8</td>\n",
              "      <td>E</td>\n",
              "    </tr>\n",
              "    <tr>\n",
              "      <th>1</th>\n",
              "      <td>Super Mario Bros.</td>\n",
              "      <td>NES</td>\n",
              "      <td>1985.0</td>\n",
              "      <td>Platform</td>\n",
              "      <td>29.08</td>\n",
              "      <td>3.58</td>\n",
              "      <td>6.81</td>\n",
              "      <td>0.77</td>\n",
              "      <td>NaN</td>\n",
              "      <td>NaN</td>\n",
              "      <td>NaN</td>\n",
              "    </tr>\n",
              "    <tr>\n",
              "      <th>2</th>\n",
              "      <td>Mario Kart Wii</td>\n",
              "      <td>Wii</td>\n",
              "      <td>2008.0</td>\n",
              "      <td>Racing</td>\n",
              "      <td>15.68</td>\n",
              "      <td>12.76</td>\n",
              "      <td>3.79</td>\n",
              "      <td>3.29</td>\n",
              "      <td>82.0</td>\n",
              "      <td>8.3</td>\n",
              "      <td>E</td>\n",
              "    </tr>\n",
              "    <tr>\n",
              "      <th>3</th>\n",
              "      <td>Wii Sports Resort</td>\n",
              "      <td>Wii</td>\n",
              "      <td>2009.0</td>\n",
              "      <td>Sports</td>\n",
              "      <td>15.61</td>\n",
              "      <td>10.93</td>\n",
              "      <td>3.28</td>\n",
              "      <td>2.95</td>\n",
              "      <td>80.0</td>\n",
              "      <td>8</td>\n",
              "      <td>E</td>\n",
              "    </tr>\n",
              "    <tr>\n",
              "      <th>4</th>\n",
              "      <td>Pokemon Red/Pokemon Blue</td>\n",
              "      <td>GB</td>\n",
              "      <td>1996.0</td>\n",
              "      <td>Role-Playing</td>\n",
              "      <td>11.27</td>\n",
              "      <td>8.89</td>\n",
              "      <td>10.22</td>\n",
              "      <td>1.00</td>\n",
              "      <td>NaN</td>\n",
              "      <td>NaN</td>\n",
              "      <td>NaN</td>\n",
              "    </tr>\n",
              "  </tbody>\n",
              "</table>\n",
              "</div>\n",
              "      <button class=\"colab-df-convert\" onclick=\"convertToInteractive('df-193e61b8-8083-4f33-be1d-7280b856c397')\"\n",
              "              title=\"Convert this dataframe to an interactive table.\"\n",
              "              style=\"display:none;\">\n",
              "        \n",
              "  <svg xmlns=\"http://www.w3.org/2000/svg\" height=\"24px\"viewBox=\"0 0 24 24\"\n",
              "       width=\"24px\">\n",
              "    <path d=\"M0 0h24v24H0V0z\" fill=\"none\"/>\n",
              "    <path d=\"M18.56 5.44l.94 2.06.94-2.06 2.06-.94-2.06-.94-.94-2.06-.94 2.06-2.06.94zm-11 1L8.5 8.5l.94-2.06 2.06-.94-2.06-.94L8.5 2.5l-.94 2.06-2.06.94zm10 10l.94 2.06.94-2.06 2.06-.94-2.06-.94-.94-2.06-.94 2.06-2.06.94z\"/><path d=\"M17.41 7.96l-1.37-1.37c-.4-.4-.92-.59-1.43-.59-.52 0-1.04.2-1.43.59L10.3 9.45l-7.72 7.72c-.78.78-.78 2.05 0 2.83L4 21.41c.39.39.9.59 1.41.59.51 0 1.02-.2 1.41-.59l7.78-7.78 2.81-2.81c.8-.78.8-2.07 0-2.86zM5.41 20L4 18.59l7.72-7.72 1.47 1.35L5.41 20z\"/>\n",
              "  </svg>\n",
              "      </button>\n",
              "      \n",
              "  <style>\n",
              "    .colab-df-container {\n",
              "      display:flex;\n",
              "      flex-wrap:wrap;\n",
              "      gap: 12px;\n",
              "    }\n",
              "\n",
              "    .colab-df-convert {\n",
              "      background-color: #E8F0FE;\n",
              "      border: none;\n",
              "      border-radius: 50%;\n",
              "      cursor: pointer;\n",
              "      display: none;\n",
              "      fill: #1967D2;\n",
              "      height: 32px;\n",
              "      padding: 0 0 0 0;\n",
              "      width: 32px;\n",
              "    }\n",
              "\n",
              "    .colab-df-convert:hover {\n",
              "      background-color: #E2EBFA;\n",
              "      box-shadow: 0px 1px 2px rgba(60, 64, 67, 0.3), 0px 1px 3px 1px rgba(60, 64, 67, 0.15);\n",
              "      fill: #174EA6;\n",
              "    }\n",
              "\n",
              "    [theme=dark] .colab-df-convert {\n",
              "      background-color: #3B4455;\n",
              "      fill: #D2E3FC;\n",
              "    }\n",
              "\n",
              "    [theme=dark] .colab-df-convert:hover {\n",
              "      background-color: #434B5C;\n",
              "      box-shadow: 0px 1px 3px 1px rgba(0, 0, 0, 0.15);\n",
              "      filter: drop-shadow(0px 1px 2px rgba(0, 0, 0, 0.3));\n",
              "      fill: #FFFFFF;\n",
              "    }\n",
              "  </style>\n",
              "\n",
              "      <script>\n",
              "        const buttonEl =\n",
              "          document.querySelector('#df-193e61b8-8083-4f33-be1d-7280b856c397 button.colab-df-convert');\n",
              "        buttonEl.style.display =\n",
              "          google.colab.kernel.accessAllowed ? 'block' : 'none';\n",
              "\n",
              "        async function convertToInteractive(key) {\n",
              "          const element = document.querySelector('#df-193e61b8-8083-4f33-be1d-7280b856c397');\n",
              "          const dataTable =\n",
              "            await google.colab.kernel.invokeFunction('convertToInteractive',\n",
              "                                                     [key], {});\n",
              "          if (!dataTable) return;\n",
              "\n",
              "          const docLinkHtml = 'Like what you see? Visit the ' +\n",
              "            '<a target=\"_blank\" href=https://colab.research.google.com/notebooks/data_table.ipynb>data table notebook</a>'\n",
              "            + ' to learn more about interactive tables.';\n",
              "          element.innerHTML = '';\n",
              "          dataTable['output_type'] = 'display_data';\n",
              "          await google.colab.output.renderOutput(dataTable, element);\n",
              "          const docLink = document.createElement('div');\n",
              "          docLink.innerHTML = docLinkHtml;\n",
              "          element.appendChild(docLink);\n",
              "        }\n",
              "      </script>\n",
              "    </div>\n",
              "  </div>\n",
              "  "
            ]
          },
          "metadata": {}
        },
        {
          "output_type": "stream",
          "name": "stdout",
          "text": [
            "<class 'pandas.core.frame.DataFrame'>\n",
            "RangeIndex: 16715 entries, 0 to 16714\n",
            "Data columns (total 11 columns):\n",
            " #   Column           Non-Null Count  Dtype  \n",
            "---  ------           --------------  -----  \n",
            " 0   Name             16713 non-null  object \n",
            " 1   Platform         16715 non-null  object \n",
            " 2   Year_of_Release  16446 non-null  float64\n",
            " 3   Genre            16713 non-null  object \n",
            " 4   NA_sales         16715 non-null  float64\n",
            " 5   EU_sales         16715 non-null  float64\n",
            " 6   JP_sales         16715 non-null  float64\n",
            " 7   Other_sales      16715 non-null  float64\n",
            " 8   Critic_Score     8137 non-null   float64\n",
            " 9   User_Score       10014 non-null  object \n",
            " 10  Rating           9949 non-null   object \n",
            "dtypes: float64(6), object(5)\n",
            "memory usage: 1.4+ MB\n"
          ]
        },
        {
          "output_type": "execute_result",
          "data": {
            "text/plain": [
              "       Year_of_Release      NA_sales      EU_sales      JP_sales  \\\n",
              "count     16446.000000  16715.000000  16715.000000  16715.000000   \n",
              "mean       2006.484616      0.263377      0.145060      0.077617   \n",
              "std           5.877050      0.813604      0.503339      0.308853   \n",
              "min        1980.000000      0.000000      0.000000      0.000000   \n",
              "25%        2003.000000      0.000000      0.000000      0.000000   \n",
              "50%        2007.000000      0.080000      0.020000      0.000000   \n",
              "75%        2010.000000      0.240000      0.110000      0.040000   \n",
              "max        2016.000000     41.360000     28.960000     10.220000   \n",
              "\n",
              "        Other_sales  Critic_Score  \n",
              "count  16715.000000   8137.000000  \n",
              "mean       0.047342     68.967679  \n",
              "std        0.186731     13.938165  \n",
              "min        0.000000     13.000000  \n",
              "25%        0.000000     60.000000  \n",
              "50%        0.010000     71.000000  \n",
              "75%        0.030000     79.000000  \n",
              "max       10.570000     98.000000  "
            ],
            "text/html": [
              "\n",
              "  <div id=\"df-2e05221e-859a-48a0-a826-7aad56553aef\">\n",
              "    <div class=\"colab-df-container\">\n",
              "      <div>\n",
              "<style scoped>\n",
              "    .dataframe tbody tr th:only-of-type {\n",
              "        vertical-align: middle;\n",
              "    }\n",
              "\n",
              "    .dataframe tbody tr th {\n",
              "        vertical-align: top;\n",
              "    }\n",
              "\n",
              "    .dataframe thead th {\n",
              "        text-align: right;\n",
              "    }\n",
              "</style>\n",
              "<table border=\"1\" class=\"dataframe\">\n",
              "  <thead>\n",
              "    <tr style=\"text-align: right;\">\n",
              "      <th></th>\n",
              "      <th>Year_of_Release</th>\n",
              "      <th>NA_sales</th>\n",
              "      <th>EU_sales</th>\n",
              "      <th>JP_sales</th>\n",
              "      <th>Other_sales</th>\n",
              "      <th>Critic_Score</th>\n",
              "    </tr>\n",
              "  </thead>\n",
              "  <tbody>\n",
              "    <tr>\n",
              "      <th>count</th>\n",
              "      <td>16446.000000</td>\n",
              "      <td>16715.000000</td>\n",
              "      <td>16715.000000</td>\n",
              "      <td>16715.000000</td>\n",
              "      <td>16715.000000</td>\n",
              "      <td>8137.000000</td>\n",
              "    </tr>\n",
              "    <tr>\n",
              "      <th>mean</th>\n",
              "      <td>2006.484616</td>\n",
              "      <td>0.263377</td>\n",
              "      <td>0.145060</td>\n",
              "      <td>0.077617</td>\n",
              "      <td>0.047342</td>\n",
              "      <td>68.967679</td>\n",
              "    </tr>\n",
              "    <tr>\n",
              "      <th>std</th>\n",
              "      <td>5.877050</td>\n",
              "      <td>0.813604</td>\n",
              "      <td>0.503339</td>\n",
              "      <td>0.308853</td>\n",
              "      <td>0.186731</td>\n",
              "      <td>13.938165</td>\n",
              "    </tr>\n",
              "    <tr>\n",
              "      <th>min</th>\n",
              "      <td>1980.000000</td>\n",
              "      <td>0.000000</td>\n",
              "      <td>0.000000</td>\n",
              "      <td>0.000000</td>\n",
              "      <td>0.000000</td>\n",
              "      <td>13.000000</td>\n",
              "    </tr>\n",
              "    <tr>\n",
              "      <th>25%</th>\n",
              "      <td>2003.000000</td>\n",
              "      <td>0.000000</td>\n",
              "      <td>0.000000</td>\n",
              "      <td>0.000000</td>\n",
              "      <td>0.000000</td>\n",
              "      <td>60.000000</td>\n",
              "    </tr>\n",
              "    <tr>\n",
              "      <th>50%</th>\n",
              "      <td>2007.000000</td>\n",
              "      <td>0.080000</td>\n",
              "      <td>0.020000</td>\n",
              "      <td>0.000000</td>\n",
              "      <td>0.010000</td>\n",
              "      <td>71.000000</td>\n",
              "    </tr>\n",
              "    <tr>\n",
              "      <th>75%</th>\n",
              "      <td>2010.000000</td>\n",
              "      <td>0.240000</td>\n",
              "      <td>0.110000</td>\n",
              "      <td>0.040000</td>\n",
              "      <td>0.030000</td>\n",
              "      <td>79.000000</td>\n",
              "    </tr>\n",
              "    <tr>\n",
              "      <th>max</th>\n",
              "      <td>2016.000000</td>\n",
              "      <td>41.360000</td>\n",
              "      <td>28.960000</td>\n",
              "      <td>10.220000</td>\n",
              "      <td>10.570000</td>\n",
              "      <td>98.000000</td>\n",
              "    </tr>\n",
              "  </tbody>\n",
              "</table>\n",
              "</div>\n",
              "      <button class=\"colab-df-convert\" onclick=\"convertToInteractive('df-2e05221e-859a-48a0-a826-7aad56553aef')\"\n",
              "              title=\"Convert this dataframe to an interactive table.\"\n",
              "              style=\"display:none;\">\n",
              "        \n",
              "  <svg xmlns=\"http://www.w3.org/2000/svg\" height=\"24px\"viewBox=\"0 0 24 24\"\n",
              "       width=\"24px\">\n",
              "    <path d=\"M0 0h24v24H0V0z\" fill=\"none\"/>\n",
              "    <path d=\"M18.56 5.44l.94 2.06.94-2.06 2.06-.94-2.06-.94-.94-2.06-.94 2.06-2.06.94zm-11 1L8.5 8.5l.94-2.06 2.06-.94-2.06-.94L8.5 2.5l-.94 2.06-2.06.94zm10 10l.94 2.06.94-2.06 2.06-.94-2.06-.94-.94-2.06-.94 2.06-2.06.94z\"/><path d=\"M17.41 7.96l-1.37-1.37c-.4-.4-.92-.59-1.43-.59-.52 0-1.04.2-1.43.59L10.3 9.45l-7.72 7.72c-.78.78-.78 2.05 0 2.83L4 21.41c.39.39.9.59 1.41.59.51 0 1.02-.2 1.41-.59l7.78-7.78 2.81-2.81c.8-.78.8-2.07 0-2.86zM5.41 20L4 18.59l7.72-7.72 1.47 1.35L5.41 20z\"/>\n",
              "  </svg>\n",
              "      </button>\n",
              "      \n",
              "  <style>\n",
              "    .colab-df-container {\n",
              "      display:flex;\n",
              "      flex-wrap:wrap;\n",
              "      gap: 12px;\n",
              "    }\n",
              "\n",
              "    .colab-df-convert {\n",
              "      background-color: #E8F0FE;\n",
              "      border: none;\n",
              "      border-radius: 50%;\n",
              "      cursor: pointer;\n",
              "      display: none;\n",
              "      fill: #1967D2;\n",
              "      height: 32px;\n",
              "      padding: 0 0 0 0;\n",
              "      width: 32px;\n",
              "    }\n",
              "\n",
              "    .colab-df-convert:hover {\n",
              "      background-color: #E2EBFA;\n",
              "      box-shadow: 0px 1px 2px rgba(60, 64, 67, 0.3), 0px 1px 3px 1px rgba(60, 64, 67, 0.15);\n",
              "      fill: #174EA6;\n",
              "    }\n",
              "\n",
              "    [theme=dark] .colab-df-convert {\n",
              "      background-color: #3B4455;\n",
              "      fill: #D2E3FC;\n",
              "    }\n",
              "\n",
              "    [theme=dark] .colab-df-convert:hover {\n",
              "      background-color: #434B5C;\n",
              "      box-shadow: 0px 1px 3px 1px rgba(0, 0, 0, 0.15);\n",
              "      filter: drop-shadow(0px 1px 2px rgba(0, 0, 0, 0.3));\n",
              "      fill: #FFFFFF;\n",
              "    }\n",
              "  </style>\n",
              "\n",
              "      <script>\n",
              "        const buttonEl =\n",
              "          document.querySelector('#df-2e05221e-859a-48a0-a826-7aad56553aef button.colab-df-convert');\n",
              "        buttonEl.style.display =\n",
              "          google.colab.kernel.accessAllowed ? 'block' : 'none';\n",
              "\n",
              "        async function convertToInteractive(key) {\n",
              "          const element = document.querySelector('#df-2e05221e-859a-48a0-a826-7aad56553aef');\n",
              "          const dataTable =\n",
              "            await google.colab.kernel.invokeFunction('convertToInteractive',\n",
              "                                                     [key], {});\n",
              "          if (!dataTable) return;\n",
              "\n",
              "          const docLinkHtml = 'Like what you see? Visit the ' +\n",
              "            '<a target=\"_blank\" href=https://colab.research.google.com/notebooks/data_table.ipynb>data table notebook</a>'\n",
              "            + ' to learn more about interactive tables.';\n",
              "          element.innerHTML = '';\n",
              "          dataTable['output_type'] = 'display_data';\n",
              "          await google.colab.output.renderOutput(dataTable, element);\n",
              "          const docLink = document.createElement('div');\n",
              "          docLink.innerHTML = docLinkHtml;\n",
              "          element.appendChild(docLink);\n",
              "        }\n",
              "      </script>\n",
              "    </div>\n",
              "  </div>\n",
              "  "
            ]
          },
          "metadata": {},
          "execution_count": 5
        }
      ],
      "source": [
        "data = pd.read_csv('/content/drive/MyDrive/Яндекс Практикум/Сборный проект №1/games.csv')\n",
        "display(data.head())\n",
        "data.info()\n",
        "data.describe()"
      ]
    },
    {
      "cell_type": "code",
      "execution_count": null,
      "metadata": {
        "id": "43_cWs8pJtVt",
        "outputId": "05bd5666-0442-4183-aa86-c4bbd8acd789",
        "colab": {
          "base_uri": "https://localhost:8080/"
        }
      },
      "outputs": [
        {
          "output_type": "execute_result",
          "data": {
            "text/plain": [
              "Name                  2\n",
              "Platform              0\n",
              "Year_of_Release     269\n",
              "Genre                 2\n",
              "NA_sales              0\n",
              "EU_sales              0\n",
              "JP_sales              0\n",
              "Other_sales           0\n",
              "Critic_Score       8578\n",
              "User_Score         6701\n",
              "Rating             6766\n",
              "dtype: int64"
            ]
          },
          "metadata": {},
          "execution_count": 6
        }
      ],
      "source": [
        "#Пропуски\n",
        "data.isna().sum()"
      ]
    },
    {
      "cell_type": "markdown",
      "metadata": {
        "id": "FWjD8FJGJtVt"
      },
      "source": [
        "Из первоначальных данных видно,  что надо:\n",
        "\n",
        "- Привести названия столбцов к нижнему регистру.\n",
        "\n",
        "- Разобраться в причинах пропусков и заменить их на значения\n",
        "\n",
        "- Привести данные к нужным типам"
      ]
    },
    {
      "cell_type": "markdown",
      "metadata": {
        "id": "b9S8YYr0JtVu"
      },
      "source": [
        "## Предобработка данных"
      ]
    },
    {
      "cell_type": "code",
      "execution_count": null,
      "metadata": {
        "colab": {
          "base_uri": "https://localhost:8080/",
          "height": 206
        },
        "id": "leOVe3nbJtVu",
        "outputId": "2bf8cf72-16e7-4ed0-d50a-30142938cbdc"
      },
      "outputs": [
        {
          "output_type": "execute_result",
          "data": {
            "text/plain": [
              "                       name platform  year_of_release         genre  na_sales  \\\n",
              "0                Wii Sports      Wii           2006.0        Sports     41.36   \n",
              "1         Super Mario Bros.      NES           1985.0      Platform     29.08   \n",
              "2            Mario Kart Wii      Wii           2008.0        Racing     15.68   \n",
              "3         Wii Sports Resort      Wii           2009.0        Sports     15.61   \n",
              "4  Pokemon Red/Pokemon Blue       GB           1996.0  Role-Playing     11.27   \n",
              "\n",
              "   eu_sales  jp_sales  other_sales  critic_score user_score rating  \n",
              "0     28.96      3.77         8.45          76.0          8      E  \n",
              "1      3.58      6.81         0.77           NaN        NaN    NaN  \n",
              "2     12.76      3.79         3.29          82.0        8.3      E  \n",
              "3     10.93      3.28         2.95          80.0          8      E  \n",
              "4      8.89     10.22         1.00           NaN        NaN    NaN  "
            ],
            "text/html": [
              "\n",
              "  <div id=\"df-be41521a-5bd3-4f80-95a4-5fce2616229c\">\n",
              "    <div class=\"colab-df-container\">\n",
              "      <div>\n",
              "<style scoped>\n",
              "    .dataframe tbody tr th:only-of-type {\n",
              "        vertical-align: middle;\n",
              "    }\n",
              "\n",
              "    .dataframe tbody tr th {\n",
              "        vertical-align: top;\n",
              "    }\n",
              "\n",
              "    .dataframe thead th {\n",
              "        text-align: right;\n",
              "    }\n",
              "</style>\n",
              "<table border=\"1\" class=\"dataframe\">\n",
              "  <thead>\n",
              "    <tr style=\"text-align: right;\">\n",
              "      <th></th>\n",
              "      <th>name</th>\n",
              "      <th>platform</th>\n",
              "      <th>year_of_release</th>\n",
              "      <th>genre</th>\n",
              "      <th>na_sales</th>\n",
              "      <th>eu_sales</th>\n",
              "      <th>jp_sales</th>\n",
              "      <th>other_sales</th>\n",
              "      <th>critic_score</th>\n",
              "      <th>user_score</th>\n",
              "      <th>rating</th>\n",
              "    </tr>\n",
              "  </thead>\n",
              "  <tbody>\n",
              "    <tr>\n",
              "      <th>0</th>\n",
              "      <td>Wii Sports</td>\n",
              "      <td>Wii</td>\n",
              "      <td>2006.0</td>\n",
              "      <td>Sports</td>\n",
              "      <td>41.36</td>\n",
              "      <td>28.96</td>\n",
              "      <td>3.77</td>\n",
              "      <td>8.45</td>\n",
              "      <td>76.0</td>\n",
              "      <td>8</td>\n",
              "      <td>E</td>\n",
              "    </tr>\n",
              "    <tr>\n",
              "      <th>1</th>\n",
              "      <td>Super Mario Bros.</td>\n",
              "      <td>NES</td>\n",
              "      <td>1985.0</td>\n",
              "      <td>Platform</td>\n",
              "      <td>29.08</td>\n",
              "      <td>3.58</td>\n",
              "      <td>6.81</td>\n",
              "      <td>0.77</td>\n",
              "      <td>NaN</td>\n",
              "      <td>NaN</td>\n",
              "      <td>NaN</td>\n",
              "    </tr>\n",
              "    <tr>\n",
              "      <th>2</th>\n",
              "      <td>Mario Kart Wii</td>\n",
              "      <td>Wii</td>\n",
              "      <td>2008.0</td>\n",
              "      <td>Racing</td>\n",
              "      <td>15.68</td>\n",
              "      <td>12.76</td>\n",
              "      <td>3.79</td>\n",
              "      <td>3.29</td>\n",
              "      <td>82.0</td>\n",
              "      <td>8.3</td>\n",
              "      <td>E</td>\n",
              "    </tr>\n",
              "    <tr>\n",
              "      <th>3</th>\n",
              "      <td>Wii Sports Resort</td>\n",
              "      <td>Wii</td>\n",
              "      <td>2009.0</td>\n",
              "      <td>Sports</td>\n",
              "      <td>15.61</td>\n",
              "      <td>10.93</td>\n",
              "      <td>3.28</td>\n",
              "      <td>2.95</td>\n",
              "      <td>80.0</td>\n",
              "      <td>8</td>\n",
              "      <td>E</td>\n",
              "    </tr>\n",
              "    <tr>\n",
              "      <th>4</th>\n",
              "      <td>Pokemon Red/Pokemon Blue</td>\n",
              "      <td>GB</td>\n",
              "      <td>1996.0</td>\n",
              "      <td>Role-Playing</td>\n",
              "      <td>11.27</td>\n",
              "      <td>8.89</td>\n",
              "      <td>10.22</td>\n",
              "      <td>1.00</td>\n",
              "      <td>NaN</td>\n",
              "      <td>NaN</td>\n",
              "      <td>NaN</td>\n",
              "    </tr>\n",
              "  </tbody>\n",
              "</table>\n",
              "</div>\n",
              "      <button class=\"colab-df-convert\" onclick=\"convertToInteractive('df-be41521a-5bd3-4f80-95a4-5fce2616229c')\"\n",
              "              title=\"Convert this dataframe to an interactive table.\"\n",
              "              style=\"display:none;\">\n",
              "        \n",
              "  <svg xmlns=\"http://www.w3.org/2000/svg\" height=\"24px\"viewBox=\"0 0 24 24\"\n",
              "       width=\"24px\">\n",
              "    <path d=\"M0 0h24v24H0V0z\" fill=\"none\"/>\n",
              "    <path d=\"M18.56 5.44l.94 2.06.94-2.06 2.06-.94-2.06-.94-.94-2.06-.94 2.06-2.06.94zm-11 1L8.5 8.5l.94-2.06 2.06-.94-2.06-.94L8.5 2.5l-.94 2.06-2.06.94zm10 10l.94 2.06.94-2.06 2.06-.94-2.06-.94-.94-2.06-.94 2.06-2.06.94z\"/><path d=\"M17.41 7.96l-1.37-1.37c-.4-.4-.92-.59-1.43-.59-.52 0-1.04.2-1.43.59L10.3 9.45l-7.72 7.72c-.78.78-.78 2.05 0 2.83L4 21.41c.39.39.9.59 1.41.59.51 0 1.02-.2 1.41-.59l7.78-7.78 2.81-2.81c.8-.78.8-2.07 0-2.86zM5.41 20L4 18.59l7.72-7.72 1.47 1.35L5.41 20z\"/>\n",
              "  </svg>\n",
              "      </button>\n",
              "      \n",
              "  <style>\n",
              "    .colab-df-container {\n",
              "      display:flex;\n",
              "      flex-wrap:wrap;\n",
              "      gap: 12px;\n",
              "    }\n",
              "\n",
              "    .colab-df-convert {\n",
              "      background-color: #E8F0FE;\n",
              "      border: none;\n",
              "      border-radius: 50%;\n",
              "      cursor: pointer;\n",
              "      display: none;\n",
              "      fill: #1967D2;\n",
              "      height: 32px;\n",
              "      padding: 0 0 0 0;\n",
              "      width: 32px;\n",
              "    }\n",
              "\n",
              "    .colab-df-convert:hover {\n",
              "      background-color: #E2EBFA;\n",
              "      box-shadow: 0px 1px 2px rgba(60, 64, 67, 0.3), 0px 1px 3px 1px rgba(60, 64, 67, 0.15);\n",
              "      fill: #174EA6;\n",
              "    }\n",
              "\n",
              "    [theme=dark] .colab-df-convert {\n",
              "      background-color: #3B4455;\n",
              "      fill: #D2E3FC;\n",
              "    }\n",
              "\n",
              "    [theme=dark] .colab-df-convert:hover {\n",
              "      background-color: #434B5C;\n",
              "      box-shadow: 0px 1px 3px 1px rgba(0, 0, 0, 0.15);\n",
              "      filter: drop-shadow(0px 1px 2px rgba(0, 0, 0, 0.3));\n",
              "      fill: #FFFFFF;\n",
              "    }\n",
              "  </style>\n",
              "\n",
              "      <script>\n",
              "        const buttonEl =\n",
              "          document.querySelector('#df-be41521a-5bd3-4f80-95a4-5fce2616229c button.colab-df-convert');\n",
              "        buttonEl.style.display =\n",
              "          google.colab.kernel.accessAllowed ? 'block' : 'none';\n",
              "\n",
              "        async function convertToInteractive(key) {\n",
              "          const element = document.querySelector('#df-be41521a-5bd3-4f80-95a4-5fce2616229c');\n",
              "          const dataTable =\n",
              "            await google.colab.kernel.invokeFunction('convertToInteractive',\n",
              "                                                     [key], {});\n",
              "          if (!dataTable) return;\n",
              "\n",
              "          const docLinkHtml = 'Like what you see? Visit the ' +\n",
              "            '<a target=\"_blank\" href=https://colab.research.google.com/notebooks/data_table.ipynb>data table notebook</a>'\n",
              "            + ' to learn more about interactive tables.';\n",
              "          element.innerHTML = '';\n",
              "          dataTable['output_type'] = 'display_data';\n",
              "          await google.colab.output.renderOutput(dataTable, element);\n",
              "          const docLink = document.createElement('div');\n",
              "          docLink.innerHTML = docLinkHtml;\n",
              "          element.appendChild(docLink);\n",
              "        }\n",
              "      </script>\n",
              "    </div>\n",
              "  </div>\n",
              "  "
            ]
          },
          "metadata": {},
          "execution_count": 7
        }
      ],
      "source": [
        "#Привела название столбцов к нижнему регистру.\n",
        "data.columns = data.columns.str.lower()\n",
        "data.head()"
      ]
    },
    {
      "cell_type": "code",
      "execution_count": null,
      "metadata": {
        "id": "JcjtCNo6JtVv",
        "outputId": "3fb97d7b-8686-4c8a-df42-f2fa38823bcc",
        "colab": {
          "base_uri": "https://localhost:8080/"
        }
      },
      "outputs": [
        {
          "output_type": "execute_result",
          "data": {
            "text/plain": [
              "array(['E', nan, 'M', 'T', 'E10+', 'K-A', 'AO', 'EC', 'RP'], dtype=object)"
            ]
          },
          "metadata": {},
          "execution_count": 8
        }
      ],
      "source": [
        "data['rating'].unique()"
      ]
    },
    {
      "cell_type": "code",
      "execution_count": null,
      "metadata": {
        "id": "F8EEvsVbJtVv",
        "outputId": "af057f7b-5379-4462-9aa6-f21e9ddced28",
        "colab": {
          "base_uri": "https://localhost:8080/"
        }
      },
      "outputs": [
        {
          "output_type": "execute_result",
          "data": {
            "text/plain": [
              "array(['Wii', 'NES', 'GB', 'DS', 'X360', 'PS3', 'PS2', 'SNES', 'GBA',\n",
              "       'PS4', '3DS', 'N64', 'PS', 'XB', 'PC', '2600', 'PSP', 'XOne',\n",
              "       'WiiU', 'GC', 'GEN', 'DC', 'PSV', 'SAT', 'SCD', 'WS', 'NG', 'TG16',\n",
              "       '3DO', 'GG', 'PCFX'], dtype=object)"
            ]
          },
          "metadata": {},
          "execution_count": 9
        }
      ],
      "source": [
        "data['platform'].unique()"
      ]
    },
    {
      "cell_type": "code",
      "execution_count": null,
      "metadata": {
        "id": "V8zDqgngJtVw",
        "outputId": "940322ce-c441-4790-d7fc-9bbd3f1e90a3",
        "colab": {
          "base_uri": "https://localhost:8080/"
        }
      },
      "outputs": [
        {
          "output_type": "execute_result",
          "data": {
            "text/plain": [
              "array(['Sports', 'Platform', 'Racing', 'Role-Playing', 'Puzzle', 'Misc',\n",
              "       'Shooter', 'Simulation', 'Action', 'Fighting', 'Adventure',\n",
              "       'Strategy', nan], dtype=object)"
            ]
          },
          "metadata": {},
          "execution_count": 10
        }
      ],
      "source": [
        "#Проверяю на случай неявных дубликатов\n",
        "data['genre'].unique()"
      ]
    },
    {
      "cell_type": "code",
      "execution_count": null,
      "metadata": {
        "id": "e5gACMNsJtVw"
      },
      "outputs": [],
      "source": [
        "#Удалила строки с пропусками в name, genre, year_of_release, так как данных менее 2%  и без этих данных анализ провести невозможно.\n",
        "data = data.dropna(subset = ['name', 'genre', 'year_of_release'])\n"
      ]
    },
    {
      "cell_type": "code",
      "execution_count": null,
      "metadata": {
        "id": "YFpwVk6XJtVw"
      },
      "outputs": [],
      "source": [
        "#Зменила пропуске в столбцах с оценками на значение-заглушку\n",
        "data['critic_score'] = data['critic_score'].fillna(-111)\n",
        "data['user_score'] = data['user_score'].fillna(-111)"
      ]
    },
    {
      "cell_type": "code",
      "execution_count": null,
      "metadata": {
        "id": "L0bZsppQJtVx",
        "outputId": "cc50c336-ddb1-4e3f-e9cd-a4b673f435a2",
        "colab": {
          "base_uri": "https://localhost:8080/"
        }
      },
      "outputs": [
        {
          "output_type": "execute_result",
          "data": {
            "text/plain": [
              "E       3921\n",
              "T       2905\n",
              "M       1536\n",
              "E10+    1393\n",
              "EC         8\n",
              "K-A        3\n",
              "AO         1\n",
              "RP         1\n",
              "Name: rating, dtype: int64"
            ]
          },
          "metadata": {},
          "execution_count": 13
        }
      ],
      "source": [
        "#Посмотрела  на распределине рейтингов\n",
        "data['rating'].value_counts()"
      ]
    },
    {
      "cell_type": "markdown",
      "metadata": {
        "id": "72iis6tpJtVx"
      },
      "source": [
        "Видно, что рейтинги EC, K-A, AO, RP  - совсем малый процент от общего числа, и сами эти рейтинги можно объединить с другими, так  как описание схожее."
      ]
    },
    {
      "cell_type": "code",
      "execution_count": null,
      "metadata": {
        "id": "xrwo6qVQJtVx"
      },
      "outputs": [],
      "source": [
        "#Изменила значения рейтингов с помощью loc\n",
        "data.loc[data['rating'] == 'AO', 'rating'] = 'M'\n",
        "data.loc[data['rating'] == 'RP', 'rating'] = 'Unknown'\n",
        "data.loc[data['rating'].isin(['EC', 'K-A']), 'rating'] = 'E'"
      ]
    },
    {
      "cell_type": "code",
      "execution_count": null,
      "metadata": {
        "id": "2VHf8jkzJtVx"
      },
      "outputs": [],
      "source": [
        "#Заменила пропуски на значение Unknown\n",
        "data['rating'] = data['rating'].fillna('Unknown')"
      ]
    },
    {
      "cell_type": "code",
      "execution_count": null,
      "metadata": {
        "id": "zorMOY5DJtVy",
        "outputId": "79375073-fdf3-45f9-f6ec-10c982a2da7a",
        "colab": {
          "base_uri": "https://localhost:8080/"
        }
      },
      "outputs": [
        {
          "output_type": "execute_result",
          "data": {
            "text/plain": [
              "Unknown    6677\n",
              "E          3932\n",
              "T          2905\n",
              "M          1537\n",
              "E10+       1393\n",
              "Name: rating, dtype: int64"
            ]
          },
          "metadata": {},
          "execution_count": 16
        }
      ],
      "source": [
        "data['rating'].value_counts()"
      ]
    },
    {
      "cell_type": "markdown",
      "metadata": {
        "id": "1VKA7f27JtVy"
      },
      "source": [
        "Теперь у нас 5  категорий рейтинга. \n",
        "\n",
        "- E - для всех возрастов\n",
        "\n",
        "- Т - для подростков 13+\n",
        "\n",
        "- М - для взрослых 17+\n",
        "\n",
        "- E10+ - для всех старше 10\n",
        "\n",
        "- Unknown - пропущено значение"
      ]
    },
    {
      "cell_type": "code",
      "execution_count": null,
      "metadata": {
        "id": "m81kVg59JtVy",
        "outputId": "aceaafa0-f06a-406f-8209-d973914b66c0",
        "colab": {
          "base_uri": "https://localhost:8080/"
        }
      },
      "outputs": [
        {
          "output_type": "execute_result",
          "data": {
            "text/plain": [
              "name               0\n",
              "platform           0\n",
              "year_of_release    0\n",
              "genre              0\n",
              "na_sales           0\n",
              "eu_sales           0\n",
              "jp_sales           0\n",
              "other_sales        0\n",
              "critic_score       0\n",
              "user_score         0\n",
              "rating             0\n",
              "dtype: int64"
            ]
          },
          "metadata": {},
          "execution_count": 17
        }
      ],
      "source": [
        "#Проверила на пропуски\n",
        "data.isna().sum()"
      ]
    },
    {
      "cell_type": "code",
      "execution_count": null,
      "metadata": {
        "id": "nUHXF3rlJtVy"
      },
      "outputs": [],
      "source": [
        "#Привела данных к корректному типу\n",
        "data['year_of_release'] = data['year_of_release'].astype('int')"
      ]
    },
    {
      "cell_type": "code",
      "execution_count": null,
      "metadata": {
        "id": "-1SfqO1-JtVz",
        "outputId": "fe4867fc-d0e3-482a-968b-1701abde8bc1",
        "colab": {
          "base_uri": "https://localhost:8080/"
        }
      },
      "outputs": [
        {
          "output_type": "execute_result",
          "data": {
            "text/plain": [
              "0.14449039163220628"
            ]
          },
          "metadata": {},
          "execution_count": 19
        }
      ],
      "source": [
        "len(data[data['user_score'] == 'tbd']) / len(data)"
      ]
    },
    {
      "cell_type": "markdown",
      "metadata": {
        "id": "yywKm_gyJtVz"
      },
      "source": [
        "tbd('To Be Determined') - оценка будет поставлена позже. По сути своей является пропуском. Поэтому заменю значением-заглушкой, как ранее."
      ]
    },
    {
      "cell_type": "code",
      "execution_count": null,
      "metadata": {
        "id": "Ovy06tz6JtVz"
      },
      "outputs": [],
      "source": [
        "#Заменила tbd на значения-заглушки и привела к нужному типу.\n",
        "data['user_score'] = data['user_score'].replace('tbd', -111)\n",
        "data['user_score'] = data['user_score'].astype('float')"
      ]
    },
    {
      "cell_type": "code",
      "execution_count": null,
      "metadata": {
        "id": "5kBn0ZI7JtVz",
        "outputId": "8186fc11-a4af-456c-9295-6ae014498b8f",
        "colab": {
          "base_uri": "https://localhost:8080/",
          "height": 206
        }
      },
      "outputs": [
        {
          "output_type": "execute_result",
          "data": {
            "text/plain": [
              "                      name platform  year_of_release         genre  na_sales  \\\n",
              "11335   Blacksite: Area 51      PS3             2007       Shooter      0.07   \n",
              "16402   Moto Racer Advance      GBA             2002        Racing      0.01   \n",
              "3938          Sonic Riders      PS2             2006        Racing      0.42   \n",
              "11751     Yoru no Nai Kuni      PSV             2015  Role-Playing      0.00   \n",
              "12077  Dream Dance & Cheer      Wii             2009          Misc      0.06   \n",
              "\n",
              "       eu_sales  jp_sales  other_sales  critic_score  user_score   rating  \\\n",
              "11335      0.01      0.00         0.01          56.0         6.3        T   \n",
              "16402      0.00      0.00         0.00          86.0      -111.0        E   \n",
              "3938       0.02      0.00         0.07          55.0         7.2        E   \n",
              "11751      0.00      0.08         0.00        -111.0      -111.0  Unknown   \n",
              "12077      0.00      0.00         0.00        -111.0      -111.0  Unknown   \n",
              "\n",
              "       sum_region_sales  \n",
              "11335              0.09  \n",
              "16402              0.01  \n",
              "3938               0.51  \n",
              "11751              0.08  \n",
              "12077              0.06  "
            ],
            "text/html": [
              "\n",
              "  <div id=\"df-3266d3a8-cf3e-4871-bd24-a783394b3e0e\">\n",
              "    <div class=\"colab-df-container\">\n",
              "      <div>\n",
              "<style scoped>\n",
              "    .dataframe tbody tr th:only-of-type {\n",
              "        vertical-align: middle;\n",
              "    }\n",
              "\n",
              "    .dataframe tbody tr th {\n",
              "        vertical-align: top;\n",
              "    }\n",
              "\n",
              "    .dataframe thead th {\n",
              "        text-align: right;\n",
              "    }\n",
              "</style>\n",
              "<table border=\"1\" class=\"dataframe\">\n",
              "  <thead>\n",
              "    <tr style=\"text-align: right;\">\n",
              "      <th></th>\n",
              "      <th>name</th>\n",
              "      <th>platform</th>\n",
              "      <th>year_of_release</th>\n",
              "      <th>genre</th>\n",
              "      <th>na_sales</th>\n",
              "      <th>eu_sales</th>\n",
              "      <th>jp_sales</th>\n",
              "      <th>other_sales</th>\n",
              "      <th>critic_score</th>\n",
              "      <th>user_score</th>\n",
              "      <th>rating</th>\n",
              "      <th>sum_region_sales</th>\n",
              "    </tr>\n",
              "  </thead>\n",
              "  <tbody>\n",
              "    <tr>\n",
              "      <th>11335</th>\n",
              "      <td>Blacksite: Area 51</td>\n",
              "      <td>PS3</td>\n",
              "      <td>2007</td>\n",
              "      <td>Shooter</td>\n",
              "      <td>0.07</td>\n",
              "      <td>0.01</td>\n",
              "      <td>0.00</td>\n",
              "      <td>0.01</td>\n",
              "      <td>56.0</td>\n",
              "      <td>6.3</td>\n",
              "      <td>T</td>\n",
              "      <td>0.09</td>\n",
              "    </tr>\n",
              "    <tr>\n",
              "      <th>16402</th>\n",
              "      <td>Moto Racer Advance</td>\n",
              "      <td>GBA</td>\n",
              "      <td>2002</td>\n",
              "      <td>Racing</td>\n",
              "      <td>0.01</td>\n",
              "      <td>0.00</td>\n",
              "      <td>0.00</td>\n",
              "      <td>0.00</td>\n",
              "      <td>86.0</td>\n",
              "      <td>-111.0</td>\n",
              "      <td>E</td>\n",
              "      <td>0.01</td>\n",
              "    </tr>\n",
              "    <tr>\n",
              "      <th>3938</th>\n",
              "      <td>Sonic Riders</td>\n",
              "      <td>PS2</td>\n",
              "      <td>2006</td>\n",
              "      <td>Racing</td>\n",
              "      <td>0.42</td>\n",
              "      <td>0.02</td>\n",
              "      <td>0.00</td>\n",
              "      <td>0.07</td>\n",
              "      <td>55.0</td>\n",
              "      <td>7.2</td>\n",
              "      <td>E</td>\n",
              "      <td>0.51</td>\n",
              "    </tr>\n",
              "    <tr>\n",
              "      <th>11751</th>\n",
              "      <td>Yoru no Nai Kuni</td>\n",
              "      <td>PSV</td>\n",
              "      <td>2015</td>\n",
              "      <td>Role-Playing</td>\n",
              "      <td>0.00</td>\n",
              "      <td>0.00</td>\n",
              "      <td>0.08</td>\n",
              "      <td>0.00</td>\n",
              "      <td>-111.0</td>\n",
              "      <td>-111.0</td>\n",
              "      <td>Unknown</td>\n",
              "      <td>0.08</td>\n",
              "    </tr>\n",
              "    <tr>\n",
              "      <th>12077</th>\n",
              "      <td>Dream Dance &amp; Cheer</td>\n",
              "      <td>Wii</td>\n",
              "      <td>2009</td>\n",
              "      <td>Misc</td>\n",
              "      <td>0.06</td>\n",
              "      <td>0.00</td>\n",
              "      <td>0.00</td>\n",
              "      <td>0.00</td>\n",
              "      <td>-111.0</td>\n",
              "      <td>-111.0</td>\n",
              "      <td>Unknown</td>\n",
              "      <td>0.06</td>\n",
              "    </tr>\n",
              "  </tbody>\n",
              "</table>\n",
              "</div>\n",
              "      <button class=\"colab-df-convert\" onclick=\"convertToInteractive('df-3266d3a8-cf3e-4871-bd24-a783394b3e0e')\"\n",
              "              title=\"Convert this dataframe to an interactive table.\"\n",
              "              style=\"display:none;\">\n",
              "        \n",
              "  <svg xmlns=\"http://www.w3.org/2000/svg\" height=\"24px\"viewBox=\"0 0 24 24\"\n",
              "       width=\"24px\">\n",
              "    <path d=\"M0 0h24v24H0V0z\" fill=\"none\"/>\n",
              "    <path d=\"M18.56 5.44l.94 2.06.94-2.06 2.06-.94-2.06-.94-.94-2.06-.94 2.06-2.06.94zm-11 1L8.5 8.5l.94-2.06 2.06-.94-2.06-.94L8.5 2.5l-.94 2.06-2.06.94zm10 10l.94 2.06.94-2.06 2.06-.94-2.06-.94-.94-2.06-.94 2.06-2.06.94z\"/><path d=\"M17.41 7.96l-1.37-1.37c-.4-.4-.92-.59-1.43-.59-.52 0-1.04.2-1.43.59L10.3 9.45l-7.72 7.72c-.78.78-.78 2.05 0 2.83L4 21.41c.39.39.9.59 1.41.59.51 0 1.02-.2 1.41-.59l7.78-7.78 2.81-2.81c.8-.78.8-2.07 0-2.86zM5.41 20L4 18.59l7.72-7.72 1.47 1.35L5.41 20z\"/>\n",
              "  </svg>\n",
              "      </button>\n",
              "      \n",
              "  <style>\n",
              "    .colab-df-container {\n",
              "      display:flex;\n",
              "      flex-wrap:wrap;\n",
              "      gap: 12px;\n",
              "    }\n",
              "\n",
              "    .colab-df-convert {\n",
              "      background-color: #E8F0FE;\n",
              "      border: none;\n",
              "      border-radius: 50%;\n",
              "      cursor: pointer;\n",
              "      display: none;\n",
              "      fill: #1967D2;\n",
              "      height: 32px;\n",
              "      padding: 0 0 0 0;\n",
              "      width: 32px;\n",
              "    }\n",
              "\n",
              "    .colab-df-convert:hover {\n",
              "      background-color: #E2EBFA;\n",
              "      box-shadow: 0px 1px 2px rgba(60, 64, 67, 0.3), 0px 1px 3px 1px rgba(60, 64, 67, 0.15);\n",
              "      fill: #174EA6;\n",
              "    }\n",
              "\n",
              "    [theme=dark] .colab-df-convert {\n",
              "      background-color: #3B4455;\n",
              "      fill: #D2E3FC;\n",
              "    }\n",
              "\n",
              "    [theme=dark] .colab-df-convert:hover {\n",
              "      background-color: #434B5C;\n",
              "      box-shadow: 0px 1px 3px 1px rgba(0, 0, 0, 0.15);\n",
              "      filter: drop-shadow(0px 1px 2px rgba(0, 0, 0, 0.3));\n",
              "      fill: #FFFFFF;\n",
              "    }\n",
              "  </style>\n",
              "\n",
              "      <script>\n",
              "        const buttonEl =\n",
              "          document.querySelector('#df-3266d3a8-cf3e-4871-bd24-a783394b3e0e button.colab-df-convert');\n",
              "        buttonEl.style.display =\n",
              "          google.colab.kernel.accessAllowed ? 'block' : 'none';\n",
              "\n",
              "        async function convertToInteractive(key) {\n",
              "          const element = document.querySelector('#df-3266d3a8-cf3e-4871-bd24-a783394b3e0e');\n",
              "          const dataTable =\n",
              "            await google.colab.kernel.invokeFunction('convertToInteractive',\n",
              "                                                     [key], {});\n",
              "          if (!dataTable) return;\n",
              "\n",
              "          const docLinkHtml = 'Like what you see? Visit the ' +\n",
              "            '<a target=\"_blank\" href=https://colab.research.google.com/notebooks/data_table.ipynb>data table notebook</a>'\n",
              "            + ' to learn more about interactive tables.';\n",
              "          element.innerHTML = '';\n",
              "          dataTable['output_type'] = 'display_data';\n",
              "          await google.colab.output.renderOutput(dataTable, element);\n",
              "          const docLink = document.createElement('div');\n",
              "          docLink.innerHTML = docLinkHtml;\n",
              "          element.appendChild(docLink);\n",
              "        }\n",
              "      </script>\n",
              "    </div>\n",
              "  </div>\n",
              "  "
            ]
          },
          "metadata": {},
          "execution_count": 21
        }
      ],
      "source": [
        "#Добавила столбец с суммой продаж по всем регионам\n",
        "data['sum_region_sales'] = data[['na_sales', 'eu_sales', 'jp_sales', 'other_sales']].sum(axis=1)\n",
        "\n",
        "data.sample(5)"
      ]
    },
    {
      "cell_type": "code",
      "execution_count": null,
      "metadata": {
        "colab": {
          "base_uri": "https://localhost:8080/"
        },
        "id": "fjrE6oxMJtV0",
        "outputId": "121b91a4-1272-43d2-aca1-91861e1ebfbe"
      },
      "outputs": [
        {
          "output_type": "execute_result",
          "data": {
            "text/plain": [
              "0"
            ]
          },
          "metadata": {},
          "execution_count": 22
        }
      ],
      "source": [
        "#Проверила на дубликаты\n",
        "data.duplicated().sum()"
      ]
    },
    {
      "cell_type": "code",
      "execution_count": null,
      "metadata": {
        "id": "94_0nVjfJtV0",
        "outputId": "20ffbe8e-3204-415e-d8c9-0bcd734d2a28",
        "colab": {
          "base_uri": "https://localhost:8080/"
        }
      },
      "outputs": [
        {
          "output_type": "stream",
          "name": "stdout",
          "text": [
            "<class 'pandas.core.frame.DataFrame'>\n",
            "Int64Index: 16444 entries, 0 to 16714\n",
            "Data columns (total 12 columns):\n",
            " #   Column            Non-Null Count  Dtype  \n",
            "---  ------            --------------  -----  \n",
            " 0   name              16444 non-null  object \n",
            " 1   platform          16444 non-null  object \n",
            " 2   year_of_release   16444 non-null  int64  \n",
            " 3   genre             16444 non-null  object \n",
            " 4   na_sales          16444 non-null  float64\n",
            " 5   eu_sales          16444 non-null  float64\n",
            " 6   jp_sales          16444 non-null  float64\n",
            " 7   other_sales       16444 non-null  float64\n",
            " 8   critic_score      16444 non-null  float64\n",
            " 9   user_score        16444 non-null  float64\n",
            " 10  rating            16444 non-null  object \n",
            " 11  sum_region_sales  16444 non-null  float64\n",
            "dtypes: float64(7), int64(1), object(4)\n",
            "memory usage: 1.6+ MB\n"
          ]
        }
      ],
      "source": [
        "data.info()"
      ]
    },
    {
      "cell_type": "markdown",
      "metadata": {
        "id": "EQjNG6fVJtV0"
      },
      "source": [
        "### Вывод по предобработке:\n"
      ]
    },
    {
      "cell_type": "markdown",
      "metadata": {
        "id": "f6B0zMfmJtV0"
      },
      "source": [
        "- Удалила строки с пропусками в столбцах name, genre, year_of_release, т.к их около 1.6% от общих данных и их удаление не нанесет ущерба анализу в целом.\n",
        "\n",
        "- Привела данные к нужным типам.\n",
        "\n",
        "- Обнаружила пропуски в столбцах с оценками и рейтингом. Так как их очень много - удалять нельзя, но и восстановить или заменить на медианное значение тоже не представляется возможным. Поэтому приняла решение поставить значение-зашлушку(-111), т.к с ним легче будет фильтровать данные в будущем анализе.\n",
        "\n",
        "- Дубликатов не обнаружено.\n",
        "\n",
        "- Добавила столбец с суммой продаж по всем регионам.\n",
        "\n"
      ]
    },
    {
      "cell_type": "markdown",
      "metadata": {
        "id": "mw5b6QauJtV1"
      },
      "source": [
        "## Исследовательский анализ данных."
      ]
    },
    {
      "cell_type": "markdown",
      "metadata": {
        "id": "eVz_vSqnJtV1"
      },
      "source": [
        "### Сколько игр выпускалось в разные годы. Важны ли данные за все периоды?"
      ]
    },
    {
      "cell_type": "code",
      "execution_count": null,
      "metadata": {
        "id": "8Yb2GA5mJtV1",
        "outputId": "be175316-6dab-4a37-d122-23dd30051e76",
        "colab": {
          "base_uri": "https://localhost:8080/",
          "height": 513
        }
      },
      "outputs": [
        {
          "output_type": "display_data",
          "data": {
            "text/plain": [
              "<Figure size 936x576 with 1 Axes>"
            ],
            "image/png": "[encoded data removed]"
          },
          "metadata": {
            "needs_background": "light"
          }
        }
      ],
      "source": [
        "year_sales = data.pivot_table(index = 'year_of_release', values = 'sum_region_sales', aggfunc = 'count')\n",
        "\n",
        "plt.figure(figsize=(13,8))\n",
        "(sns.lineplot(data = year_sales, x=year_sales.index, y='sum_region_sales')\n",
        "    .set(title = 'Динамика выпуска игр по годам', xlabel = 'Год', ylabel = 'Кол-во выпущенных игр'))\n",
        "plt.show()    "
      ]
    },
    {
      "cell_type": "code",
      "execution_count": null,
      "metadata": {
        "id": "xs5cPfZQJtV1",
        "outputId": "e874f8a8-53b2-4d9d-f1f1-7f25af63adbd",
        "colab": {
          "base_uri": "https://localhost:8080/"
        }
      },
      "outputs": [
        {
          "output_type": "execute_result",
          "data": {
            "text/plain": [
              "2008    1427\n",
              "2009    1426\n",
              "2010    1255\n",
              "2007    1197\n",
              "2011    1136\n",
              "2006    1006\n",
              "2005     939\n",
              "2002     829\n",
              "2003     775\n",
              "2004     762\n",
              "2012     653\n",
              "2015     606\n",
              "2014     581\n",
              "2013     544\n",
              "2016     502\n",
              "2001     482\n",
              "1998     379\n",
              "2000     350\n",
              "1999     338\n",
              "1997     289\n",
              "1996     263\n",
              "1995     219\n",
              "1994     121\n",
              "1993      60\n",
              "1981      46\n",
              "1992      43\n",
              "1991      41\n",
              "1982      36\n",
              "1986      21\n",
              "1989      17\n",
              "1983      17\n",
              "1990      16\n",
              "1987      16\n",
              "1988      15\n",
              "1985      14\n",
              "1984      14\n",
              "1980       9\n",
              "Name: year_of_release, dtype: int64"
            ]
          },
          "metadata": {},
          "execution_count": 25
        }
      ],
      "source": [
        "data['year_of_release'].value_counts()"
      ]
    },
    {
      "cell_type": "markdown",
      "metadata": {
        "id": "gqZZjucMJtV1"
      },
      "source": [
        "Из графика видно, что пик выпуска игр приходится на период с 2006 по 2011 года. "
      ]
    },
    {
      "cell_type": "markdown",
      "metadata": {
        "id": "vrwXWaCfJtV2"
      },
      "source": [
        "### Как менялись продажи по платформам."
      ]
    },
    {
      "cell_type": "code",
      "execution_count": null,
      "metadata": {
        "id": "wre7nxS7JtV2",
        "outputId": "5d04967d-14c2-4464-dd0b-12b51d4b5fc5",
        "colab": {
          "base_uri": "https://localhost:8080/",
          "height": 513
        }
      },
      "outputs": [
        {
          "output_type": "display_data",
          "data": {
            "text/plain": [
              "<Figure size 936x576 with 1 Axes>"
            ],
            "image/png": "[encoded data removed]"
          },
          "metadata": {
            "needs_background": "light"
          }
        }
      ],
      "source": [
        "platform_sales = (\n",
        "    data\n",
        "    .pivot_table(index='platform', values='sum_region_sales', aggfunc='sum')\n",
        "    .sort_values('sum_region_sales', ascending=False)\n",
        ")\n",
        "plt.figure(figsize=(13,8))\n",
        "(sns.barplot(data = platform_sales, x=platform_sales.index, y='sum_region_sales')\n",
        "    .set(title = 'Продажи по платформам', xlabel = 'Платформы', ylabel = 'Общие продажи'))\n",
        "plt.show()    "
      ]
    },
    {
      "cell_type": "markdown",
      "metadata": {
        "id": "a9dE6t_jJtV2"
      },
      "source": [
        "Из гравика видно что лидерами являются 6 платформ: PS2, X360, PS3, Wii, DS, PS."
      ]
    },
    {
      "cell_type": "code",
      "execution_count": null,
      "metadata": {
        "id": "JMpjVSRbJtV2",
        "outputId": "9e580ecd-aaf0-46e1-c8ed-32016db0712f",
        "colab": {
          "base_uri": "https://localhost:8080/",
          "height": 1000
        }
      },
      "outputs": [
        {
          "output_type": "stream",
          "name": "stdout",
          "text": [
            "PS2\n"
          ]
        },
        {
          "output_type": "display_data",
          "data": {
            "text/plain": [
              "<Figure size 432x288 with 1 Axes>"
            ],
            "image/png": "[encoded data removed]"
          },
          "metadata": {
            "needs_background": "light"
          }
        },
        {
          "output_type": "stream",
          "name": "stdout",
          "text": [
            "X360\n"
          ]
        },
        {
          "output_type": "display_data",
          "data": {
            "text/plain": [
              "<Figure size 432x288 with 1 Axes>"
            ],
            "image/png": "[encoded data removed]"
          },
          "metadata": {
            "needs_background": "light"
          }
        },
        {
          "output_type": "stream",
          "name": "stdout",
          "text": [
            "PS3\n"
          ]
        },
        {
          "output_type": "display_data",
          "data": {
            "text/plain": [
              "<Figure size 432x288 with 1 Axes>"
            ],
            "image/png": "[encoded data removed]"
          },
          "metadata": {
            "needs_background": "light"
          }
        },
        {
          "output_type": "stream",
          "name": "stdout",
          "text": [
            "Wii\n"
          ]
        },
        {
          "output_type": "display_data",
          "data": {
            "text/plain": [
              "<Figure size 432x288 with 1 Axes>"
            ],
            "image/png": "[encoded data removed]"
          },
          "metadata": {
            "needs_background": "light"
          }
        },
        {
          "output_type": "stream",
          "name": "stdout",
          "text": [
            "DS\n"
          ]
        },
        {
          "output_type": "display_data",
          "data": {
            "text/plain": [
              "<Figure size 432x288 with 1 Axes>"
            ],
            "image/png": "[encoded data removed]"
          },
          "metadata": {
            "needs_background": "light"
          }
        },
        {
          "output_type": "stream",
          "name": "stdout",
          "text": [
            "PS\n"
          ]
        },
        {
          "output_type": "display_data",
          "data": {
            "text/plain": [
              "<Figure size 432x288 with 1 Axes>"
            ],
            "image/png": "[encoded data removed]"
          },
          "metadata": {
            "needs_background": "light"
          }
        }
      ],
      "source": [
        "for platform in platform_sales.index[:6]:\n",
        "    print(platform)\n",
        "    (data\n",
        "    .query('platform == @platform')\n",
        "    .pivot_table(index='year_of_release', values='sum_region_sales', aggfunc='sum')\n",
        "    .plot(kind='bar')\n",
        ")\n",
        "    plt.show()"
      ]
    },
    {
      "cell_type": "markdown",
      "metadata": {
        "id": "tgLkMuGGJtV3"
      },
      "source": [
        "PS: Пик продаж - 1996-2000; Спад - с 2001\n",
        "\n",
        "PS2: Пик продаж - 2001-2005; Спад - с 2006\n",
        "\n",
        "PS3: Пик продаж - 2007-2013; Спад - с 2014\n",
        "\n",
        "Х360: Пик продаж - 2007-2013; Спад - с 2014\n",
        "\n",
        "Wii: Пик продаж - 2006-2009; Спад - с 2010\n",
        "\n",
        "DS: Пик продаж - 2005-2009; Спад - с 2010\n",
        "\n",
        "Построив графики для лидирующих платформ по продажам, я увидела, что популярность платформ Wii, Ds, PS2  сошла к минимуму к 2011 году. У платформ Х360 и PS3 наоборт - на 2011 пришелся пик продаж и спад  произошел начиная с 2014. Платформы меняют на новые примерно каждые 3-5 лет. Все 6 платформ не являются показательными к актуальному для нас периоду - 2014/2016гг, т.е последние 3 года. "
      ]
    },
    {
      "cell_type": "code",
      "execution_count": null,
      "metadata": {
        "id": "LyhOhOtSJtV3"
      },
      "outputs": [],
      "source": [
        "#Актуальный период:\n",
        "new_data = data.query('year_of_release >=2014')"
      ]
    },
    {
      "cell_type": "markdown",
      "metadata": {
        "id": "VkLvLmzZJtV3"
      },
      "source": [
        "### Какие платформы лидируют по продажам, растут или падают?"
      ]
    },
    {
      "cell_type": "code",
      "execution_count": null,
      "metadata": {
        "id": "mptPSWDBJtV4",
        "outputId": "ce920f58-d236-46ac-e399-da79881e01a6",
        "colab": {
          "base_uri": "https://localhost:8080/",
          "height": 513
        }
      },
      "outputs": [
        {
          "output_type": "display_data",
          "data": {
            "text/plain": [
              "<Figure size 936x576 with 1 Axes>"
            ],
            "image/png": "[encoded data removed]"
          },
          "metadata": {
            "needs_background": "light"
          }
        }
      ],
      "source": [
        "new_platform_sales = (\n",
        "    new_data\n",
        "    .pivot_table(index='platform', values='sum_region_sales', aggfunc='sum')\n",
        "    .sort_values('sum_region_sales', ascending=False)\n",
        ")\n",
        "plt.figure(figsize=(13,8))\n",
        "(sns.barplot(data = new_platform_sales, x=new_platform_sales.index, y='sum_region_sales')\n",
        "    .set(title = 'Продажи по платформам за 2014-2016гг.', xlabel = 'Платформы', ylabel = 'Общие продажи'))\n",
        "plt.show()"
      ]
    },
    {
      "cell_type": "code",
      "execution_count": null,
      "metadata": {
        "id": "hSHNI5uOJtV4",
        "outputId": "2b414d7d-d037-4093-9672-4e5aa8fab1ca",
        "colab": {
          "base_uri": "https://localhost:8080/",
          "height": 1000
        }
      },
      "outputs": [
        {
          "output_type": "stream",
          "name": "stdout",
          "text": [
            "PS4\n"
          ]
        },
        {
          "output_type": "display_data",
          "data": {
            "text/plain": [
              "<Figure size 432x288 with 1 Axes>"
            ],
            "image/png": "[encoded data removed]"
          },
          "metadata": {
            "needs_background": "light"
          }
        },
        {
          "output_type": "stream",
          "name": "stdout",
          "text": [
            "XOne\n"
          ]
        },
        {
          "output_type": "display_data",
          "data": {
            "text/plain": [
              "<Figure size 432x288 with 1 Axes>"
            ],
            "image/png": "[encoded data removed]"
          },
          "metadata": {
            "needs_background": "light"
          }
        },
        {
          "output_type": "stream",
          "name": "stdout",
          "text": [
            "3DS\n"
          ]
        },
        {
          "output_type": "display_data",
          "data": {
            "text/plain": [
              "<Figure size 432x288 with 1 Axes>"
            ],
            "image/png": "[encoded data removed]"
          },
          "metadata": {
            "needs_background": "light"
          }
        },
        {
          "output_type": "stream",
          "name": "stdout",
          "text": [
            "PS3\n"
          ]
        },
        {
          "output_type": "display_data",
          "data": {
            "text/plain": [
              "<Figure size 432x288 with 1 Axes>"
            ],
            "image/png": "[encoded data removed]"
          },
          "metadata": {
            "needs_background": "light"
          }
        },
        {
          "output_type": "stream",
          "name": "stdout",
          "text": [
            "X360\n"
          ]
        },
        {
          "output_type": "display_data",
          "data": {
            "text/plain": [
              "<Figure size 432x288 with 1 Axes>"
            ],
            "image/png": "[encoded data removed]"
          },
          "metadata": {
            "needs_background": "light"
          }
        },
        {
          "output_type": "stream",
          "name": "stdout",
          "text": [
            "WiiU\n"
          ]
        },
        {
          "output_type": "display_data",
          "data": {
            "text/plain": [
              "<Figure size 432x288 with 1 Axes>"
            ],
            "image/png": "[encoded data removed]"
          },
          "metadata": {
            "needs_background": "light"
          }
        },
        {
          "output_type": "stream",
          "name": "stdout",
          "text": [
            "PC\n"
          ]
        },
        {
          "output_type": "display_data",
          "data": {
            "text/plain": [
              "<Figure size 432x288 with 1 Axes>"
            ],
            "image/png": "[encoded data removed]"
          },
          "metadata": {
            "needs_background": "light"
          }
        },
        {
          "output_type": "stream",
          "name": "stdout",
          "text": [
            "PSV\n"
          ]
        },
        {
          "output_type": "display_data",
          "data": {
            "text/plain": [
              "<Figure size 432x288 with 1 Axes>"
            ],
            "image/png": "[encoded data removed]"
          },
          "metadata": {
            "needs_background": "light"
          }
        },
        {
          "output_type": "stream",
          "name": "stdout",
          "text": [
            "Wii\n"
          ]
        },
        {
          "output_type": "display_data",
          "data": {
            "text/plain": [
              "<Figure size 432x288 with 1 Axes>"
            ],
            "image/png": "[encoded data removed]"
          },
          "metadata": {
            "needs_background": "light"
          }
        },
        {
          "output_type": "stream",
          "name": "stdout",
          "text": [
            "PSP\n"
          ]
        },
        {
          "output_type": "display_data",
          "data": {
            "text/plain": [
              "<Figure size 432x288 with 1 Axes>"
            ],
            "image/png": "[encoded data removed]"
          },
          "metadata": {
            "needs_background": "light"
          }
        }
      ],
      "source": [
        "for platform in new_platform_sales.index:\n",
        "    print(platform)\n",
        "    (new_data\n",
        "    .query('platform == @platform')\n",
        "    .pivot_table(index='year_of_release', values='sum_region_sales', aggfunc='sum')\n",
        "    .plot(kind='bar')\n",
        ")\n",
        "    plt.show()"
      ]
    },
    {
      "cell_type": "markdown",
      "metadata": {
        "id": "j4EBUGg6JtV4"
      },
      "source": [
        "Из графиков видно, что наиболее прибыльная платформа за последние 3 года - PS4. Так же в лидеры можно включить XOne и 3DS. При этом, у PS4 и XOne наблюдается пик продаж в 2015 году и, т.к данные за 2016 год могут быть неполными, нельзя с уверенностью утверждать, что спад в 2016 году был такой резкий и был ли он вообще. У платформ Wii, X360, PS3 наблюдается сильный спад с 2015 года.  То есть, для анализа лучше взять платформы, у которых спад меньше, чем на 50% в 2015 году.\n",
        "Итак, платформы, которые берем для анализа:\n",
        "- PS4\n",
        "\n",
        "- XOne\n",
        "\n",
        "- 3DS\n",
        "\n",
        "- WiiU\n",
        "\n",
        "- PC\n",
        "\n",
        "- PSV"
      ]
    },
    {
      "cell_type": "code",
      "execution_count": null,
      "metadata": {
        "id": "y-OG6x8TJtV4",
        "outputId": "4dc3f83a-067a-4b06-9da8-afd97fa25ee8",
        "colab": {
          "base_uri": "https://localhost:8080/",
          "height": 112
        }
      },
      "outputs": [
        {
          "output_type": "execute_result",
          "data": {
            "text/plain": [
              "                         name platform  year_of_release    genre  na_sales  \\\n",
              "31  Call of Duty: Black Ops 3      PS4             2015  Shooter      6.03   \n",
              "42         Grand Theft Auto V      PS4             2014   Action      3.96   \n",
              "\n",
              "    eu_sales  jp_sales  other_sales  critic_score  user_score   rating  \\\n",
              "31      5.86      0.36         2.38        -111.0      -111.0  Unknown   \n",
              "42      6.31      0.38         1.97          97.0         8.3        M   \n",
              "\n",
              "    sum_region_sales  \n",
              "31             14.63  \n",
              "42             12.62  "
            ],
            "text/html": [
              "\n",
              "  <div id=\"df-3cef9a59-05e5-43cc-8f76-95c46c188aea\">\n",
              "    <div class=\"colab-df-container\">\n",
              "      <div>\n",
              "<style scoped>\n",
              "    .dataframe tbody tr th:only-of-type {\n",
              "        vertical-align: middle;\n",
              "    }\n",
              "\n",
              "    .dataframe tbody tr th {\n",
              "        vertical-align: top;\n",
              "    }\n",
              "\n",
              "    .dataframe thead th {\n",
              "        text-align: right;\n",
              "    }\n",
              "</style>\n",
              "<table border=\"1\" class=\"dataframe\">\n",
              "  <thead>\n",
              "    <tr style=\"text-align: right;\">\n",
              "      <th></th>\n",
              "      <th>name</th>\n",
              "      <th>platform</th>\n",
              "      <th>year_of_release</th>\n",
              "      <th>genre</th>\n",
              "      <th>na_sales</th>\n",
              "      <th>eu_sales</th>\n",
              "      <th>jp_sales</th>\n",
              "      <th>other_sales</th>\n",
              "      <th>critic_score</th>\n",
              "      <th>user_score</th>\n",
              "      <th>rating</th>\n",
              "      <th>sum_region_sales</th>\n",
              "    </tr>\n",
              "  </thead>\n",
              "  <tbody>\n",
              "    <tr>\n",
              "      <th>31</th>\n",
              "      <td>Call of Duty: Black Ops 3</td>\n",
              "      <td>PS4</td>\n",
              "      <td>2015</td>\n",
              "      <td>Shooter</td>\n",
              "      <td>6.03</td>\n",
              "      <td>5.86</td>\n",
              "      <td>0.36</td>\n",
              "      <td>2.38</td>\n",
              "      <td>-111.0</td>\n",
              "      <td>-111.0</td>\n",
              "      <td>Unknown</td>\n",
              "      <td>14.63</td>\n",
              "    </tr>\n",
              "    <tr>\n",
              "      <th>42</th>\n",
              "      <td>Grand Theft Auto V</td>\n",
              "      <td>PS4</td>\n",
              "      <td>2014</td>\n",
              "      <td>Action</td>\n",
              "      <td>3.96</td>\n",
              "      <td>6.31</td>\n",
              "      <td>0.38</td>\n",
              "      <td>1.97</td>\n",
              "      <td>97.0</td>\n",
              "      <td>8.3</td>\n",
              "      <td>M</td>\n",
              "      <td>12.62</td>\n",
              "    </tr>\n",
              "  </tbody>\n",
              "</table>\n",
              "</div>\n",
              "      <button class=\"colab-df-convert\" onclick=\"convertToInteractive('df-3cef9a59-05e5-43cc-8f76-95c46c188aea')\"\n",
              "              title=\"Convert this dataframe to an interactive table.\"\n",
              "              style=\"display:none;\">\n",
              "        \n",
              "  <svg xmlns=\"http://www.w3.org/2000/svg\" height=\"24px\"viewBox=\"0 0 24 24\"\n",
              "       width=\"24px\">\n",
              "    <path d=\"M0 0h24v24H0V0z\" fill=\"none\"/>\n",
              "    <path d=\"M18.56 5.44l.94 2.06.94-2.06 2.06-.94-2.06-.94-.94-2.06-.94 2.06-2.06.94zm-11 1L8.5 8.5l.94-2.06 2.06-.94-2.06-.94L8.5 2.5l-.94 2.06-2.06.94zm10 10l.94 2.06.94-2.06 2.06-.94-2.06-.94-.94-2.06-.94 2.06-2.06.94z\"/><path d=\"M17.41 7.96l-1.37-1.37c-.4-.4-.92-.59-1.43-.59-.52 0-1.04.2-1.43.59L10.3 9.45l-7.72 7.72c-.78.78-.78 2.05 0 2.83L4 21.41c.39.39.9.59 1.41.59.51 0 1.02-.2 1.41-.59l7.78-7.78 2.81-2.81c.8-.78.8-2.07 0-2.86zM5.41 20L4 18.59l7.72-7.72 1.47 1.35L5.41 20z\"/>\n",
              "  </svg>\n",
              "      </button>\n",
              "      \n",
              "  <style>\n",
              "    .colab-df-container {\n",
              "      display:flex;\n",
              "      flex-wrap:wrap;\n",
              "      gap: 12px;\n",
              "    }\n",
              "\n",
              "    .colab-df-convert {\n",
              "      background-color: #E8F0FE;\n",
              "      border: none;\n",
              "      border-radius: 50%;\n",
              "      cursor: pointer;\n",
              "      display: none;\n",
              "      fill: #1967D2;\n",
              "      height: 32px;\n",
              "      padding: 0 0 0 0;\n",
              "      width: 32px;\n",
              "    }\n",
              "\n",
              "    .colab-df-convert:hover {\n",
              "      background-color: #E2EBFA;\n",
              "      box-shadow: 0px 1px 2px rgba(60, 64, 67, 0.3), 0px 1px 3px 1px rgba(60, 64, 67, 0.15);\n",
              "      fill: #174EA6;\n",
              "    }\n",
              "\n",
              "    [theme=dark] .colab-df-convert {\n",
              "      background-color: #3B4455;\n",
              "      fill: #D2E3FC;\n",
              "    }\n",
              "\n",
              "    [theme=dark] .colab-df-convert:hover {\n",
              "      background-color: #434B5C;\n",
              "      box-shadow: 0px 1px 3px 1px rgba(0, 0, 0, 0.15);\n",
              "      filter: drop-shadow(0px 1px 2px rgba(0, 0, 0, 0.3));\n",
              "      fill: #FFFFFF;\n",
              "    }\n",
              "  </style>\n",
              "\n",
              "      <script>\n",
              "        const buttonEl =\n",
              "          document.querySelector('#df-3cef9a59-05e5-43cc-8f76-95c46c188aea button.colab-df-convert');\n",
              "        buttonEl.style.display =\n",
              "          google.colab.kernel.accessAllowed ? 'block' : 'none';\n",
              "\n",
              "        async function convertToInteractive(key) {\n",
              "          const element = document.querySelector('#df-3cef9a59-05e5-43cc-8f76-95c46c188aea');\n",
              "          const dataTable =\n",
              "            await google.colab.kernel.invokeFunction('convertToInteractive',\n",
              "                                                     [key], {});\n",
              "          if (!dataTable) return;\n",
              "\n",
              "          const docLinkHtml = 'Like what you see? Visit the ' +\n",
              "            '<a target=\"_blank\" href=https://colab.research.google.com/notebooks/data_table.ipynb>data table notebook</a>'\n",
              "            + ' to learn more about interactive tables.';\n",
              "          element.innerHTML = '';\n",
              "          dataTable['output_type'] = 'display_data';\n",
              "          await google.colab.output.renderOutput(dataTable, element);\n",
              "          const docLink = document.createElement('div');\n",
              "          docLink.innerHTML = docLinkHtml;\n",
              "          element.appendChild(docLink);\n",
              "        }\n",
              "      </script>\n",
              "    </div>\n",
              "  </div>\n",
              "  "
            ]
          },
          "metadata": {},
          "execution_count": 31
        }
      ],
      "source": [
        "#Срез данных по выбранным платформам за актуальный период.\n",
        "new_data = new_data.query('platform != [\"Wii\", \"X360\", \"PS3\", \"PSP\"]')\n",
        "new_data.head(2)"
      ]
    },
    {
      "cell_type": "code",
      "execution_count": null,
      "metadata": {
        "id": "a_LKbKSFJtV5",
        "outputId": "a47a2470-38e9-443a-cb10-a76724510eff",
        "colab": {
          "base_uri": "https://localhost:8080/"
        }
      },
      "outputs": [
        {
          "output_type": "execute_result",
          "data": {
            "text/plain": [
              "array(['PS4', '3DS', 'XOne', 'WiiU', 'PC', 'PSV'], dtype=object)"
            ]
          },
          "metadata": {},
          "execution_count": 32
        }
      ],
      "source": [
        "new_data['platform'].unique()"
      ]
    },
    {
      "cell_type": "markdown",
      "metadata": {
        "id": "DsAKSrZJJtV5"
      },
      "source": [
        "###  График «ящик с усами» по глобальным продажам игр в разбивке по платформам."
      ]
    },
    {
      "cell_type": "code",
      "execution_count": null,
      "metadata": {
        "id": "DLmjf5TsJtV5",
        "outputId": "de2d7792-aec5-4aa1-f27d-9a36c2f07de6",
        "colab": {
          "base_uri": "https://localhost:8080/",
          "height": 513
        }
      },
      "outputs": [
        {
          "output_type": "display_data",
          "data": {
            "text/plain": [
              "<Figure size 936x576 with 1 Axes>"
            ],
            "image/png": "[encoded data removed]"
          },
          "metadata": {
            "needs_background": "light"
          }
        }
      ],
      "source": [
        "plt.figure(figsize=(13,8))\n",
        "(sns.boxplot(data=new_data, x = 'platform', y = 'sum_region_sales')\n",
        "    .set(title='Продажи по перспективным платформам 2014/2016гг'))\n",
        "plt.show() "
      ]
    },
    {
      "cell_type": "code",
      "execution_count": null,
      "metadata": {
        "id": "T_15Cu4LJtV5",
        "outputId": "7a5b4cd6-fe9a-4605-92ea-1a7140e92a13",
        "colab": {
          "base_uri": "https://localhost:8080/",
          "height": 513
        }
      },
      "outputs": [
        {
          "output_type": "display_data",
          "data": {
            "text/plain": [
              "<Figure size 936x576 with 1 Axes>"
            ],
            "image/png": "[encoded data removed]"
          },
          "metadata": {
            "needs_background": "light"
          }
        }
      ],
      "source": [
        "#Убрала выбросы и нулевые значения, чтобы получше разглядеть диаграммы:\n",
        "new_data_filtered = new_data.query('0 < sum_region_sales <= 3')\n",
        "\n",
        "plt.figure(figsize=(13,8))\n",
        "(sns.boxplot(data=new_data_filtered, x = 'platform', y = 'sum_region_sales')\n",
        "    .set(title='Продажи по перспективным платформам 2014/2016гг'))\n",
        "plt.show() "
      ]
    },
    {
      "cell_type": "markdown",
      "metadata": {
        "id": "UBLR1Ue8JtV6"
      },
      "source": [
        "**ВЫВОД:** Из диаграмм видно, что медианное значение у всех платформ находится в промежутке от 0.1 до 0.25 млн проданных копий. Наблюдается очень много выбросов. Убрала значения больше 3 во втором графике,потому что макс.значение не превышает 1.5 и считаю, что, если в данном случае взять значение, в два раза превосходящее максимальное, может адкватно изменить данные, сильно их не искажая, но помогая лучше прочитать диаграммы. У платформ PS4, XOne, WiiU самые высокие максимальные значения, почти на одном уровне - от 1.0 до 1.5.  У платформы 3DS небольшой межквартильный размах и максимальное значение, однако  есть крупные выбросы, которые можно отдельно проанализировать. В итоге, самыми прибыльными платформами я считаю эти четыре - PS4, XOne, 3DS, WiiU."
      ]
    },
    {
      "cell_type": "markdown",
      "metadata": {
        "id": "U-NysTdiJtV6"
      },
      "source": [
        "### Как влияют на продажи внутри одной популярной платформы отзывы пользователей и критиков. "
      ]
    },
    {
      "cell_type": "code",
      "execution_count": null,
      "metadata": {
        "id": "P70Uh4UYJtV6",
        "outputId": "cd90fa53-a5bb-4ddd-8ae6-8a11c96c4040",
        "colab": {
          "base_uri": "https://localhost:8080/",
          "height": 559
        }
      },
      "outputs": [
        {
          "output_type": "execute_result",
          "data": {
            "text/plain": [
              "<matplotlib.axes._subplots.AxesSubplot at 0x7f884c6648d0>"
            ]
          },
          "metadata": {},
          "execution_count": 35
        },
        {
          "output_type": "display_data",
          "data": {
            "text/plain": [
              "<Figure size 432x288 with 1 Axes>"
            ],
            "image/png": "[encoded data removed]"
          },
          "metadata": {
            "needs_background": "light"
          }
        },
        {
          "output_type": "display_data",
          "data": {
            "text/plain": [
              "<Figure size 432x288 with 1 Axes>"
            ],
            "image/png": "[encoded data removed]"
          },
          "metadata": {
            "needs_background": "light"
          }
        }
      ],
      "source": [
        "#Выбрала, в качестве популярной платформы, PS4:\n",
        "ps4 = new_data.query('platform == \"PS4\"')\n",
        "    \n",
        "ps4[ps4['critic_score'] != -111].plot(kind='scatter', x = 'critic_score', y='sum_region_sales', alpha=0.5)\n",
        "ps4[ps4['user_score'] != -111].plot(kind='scatter', x = 'user_score', y='sum_region_sales', alpha=0.5)"
      ]
    },
    {
      "cell_type": "code",
      "execution_count": null,
      "metadata": {
        "id": "jQtT_pC7JtV6",
        "outputId": "af3e4a46-6f74-4079-fdd4-048448aa773a",
        "colab": {
          "base_uri": "https://localhost:8080/",
          "height": 86
        }
      },
      "outputs": [
        {
          "output_type": "display_data",
          "data": {
            "text/plain": [
              "critic_score        0.401903\n",
              "user_score         -0.043186\n",
              "sum_region_sales    1.000000\n",
              "Name: sum_region_sales, dtype: float64"
            ]
          },
          "metadata": {}
        }
      ],
      "source": [
        "display(ps4[(ps4['critic_score'] != -111) & (ps4['user_score'] != -111)][['critic_score', 'user_score', 'sum_region_sales']].corr()['sum_region_sales'])"
      ]
    },
    {
      "cell_type": "markdown",
      "metadata": {
        "id": "WJN-_XwbJtV7"
      },
      "source": [
        "**Вывод:** между оценками пользователей и продажами корреляции практически нет. Но есть заметная, хоть и слабая, корреляция между оценками критиков и продажами. Это говорит о том, что пользователи, хоть и не в большинстве своем, но прислушиваются к мнениям критиков и экспертов. Тут было бы полезно провести более глубокий анализ, на наличие нелинейных связей. Возможно это касается определенного региона/жанра/рейтинга."
      ]
    },
    {
      "cell_type": "code",
      "execution_count": null,
      "metadata": {
        "id": "DbCRskmjJtV7",
        "outputId": "fc38132a-bffa-4d46-e41a-54b899a8df30",
        "colab": {
          "base_uri": "https://localhost:8080/",
          "height": 1000
        }
      },
      "outputs": [
        {
          "output_type": "stream",
          "name": "stdout",
          "text": [
            "________________________________________\n",
            "3DS\n"
          ]
        },
        {
          "output_type": "display_data",
          "data": {
            "text/plain": [
              "<Figure size 432x288 with 1 Axes>"
            ],
            "image/png": "[encoded data removed]"
          },
          "metadata": {
            "needs_background": "light"
          }
        },
        {
          "output_type": "display_data",
          "data": {
            "text/plain": [
              "<Figure size 432x288 with 1 Axes>"
            ],
            "image/png": "[encoded data removed]"
          },
          "metadata": {
            "needs_background": "light"
          }
        },
        {
          "output_type": "stream",
          "name": "stdout",
          "text": [
            "critic_score        0.284686\n",
            "user_score          0.279850\n",
            "sum_region_sales    1.000000\n",
            "Name: sum_region_sales, dtype: float64\n",
            "________________________________________\n",
            "PC\n"
          ]
        },
        {
          "output_type": "display_data",
          "data": {
            "text/plain": [
              "<Figure size 432x288 with 1 Axes>"
            ],
            "image/png": "[encoded data removed]"
          },
          "metadata": {
            "needs_background": "light"
          }
        },
        {
          "output_type": "display_data",
          "data": {
            "text/plain": [
              "<Figure size 432x288 with 1 Axes>"
            ],
            "image/png": "[encoded data removed]"
          },
          "metadata": {
            "needs_background": "light"
          }
        },
        {
          "output_type": "stream",
          "name": "stdout",
          "text": [
            "critic_score        0.172061\n",
            "user_score         -0.089974\n",
            "sum_region_sales    1.000000\n",
            "Name: sum_region_sales, dtype: float64\n",
            "________________________________________\n",
            "PS4\n"
          ]
        },
        {
          "output_type": "display_data",
          "data": {
            "text/plain": [
              "<Figure size 432x288 with 1 Axes>"
            ],
            "image/png": "[encoded data removed]"
          },
          "metadata": {
            "needs_background": "light"
          }
        },
        {
          "output_type": "display_data",
          "data": {
            "text/plain": [
              "<Figure size 432x288 with 1 Axes>"
            ],
            "image/png": "[encoded data removed]"
          },
          "metadata": {
            "needs_background": "light"
          }
        },
        {
          "output_type": "stream",
          "name": "stdout",
          "text": [
            "critic_score        0.401903\n",
            "user_score         -0.043186\n",
            "sum_region_sales    1.000000\n",
            "Name: sum_region_sales, dtype: float64\n",
            "________________________________________\n",
            "PSV\n"
          ]
        },
        {
          "output_type": "display_data",
          "data": {
            "text/plain": [
              "<Figure size 432x288 with 1 Axes>"
            ],
            "image/png": "[encoded data removed]"
          },
          "metadata": {
            "needs_background": "light"
          }
        },
        {
          "output_type": "display_data",
          "data": {
            "text/plain": [
              "<Figure size 432x288 with 1 Axes>"
            ],
            "image/png": "[encoded data removed]"
          },
          "metadata": {
            "needs_background": "light"
          }
        },
        {
          "output_type": "stream",
          "name": "stdout",
          "text": [
            "critic_score        0.041029\n",
            "user_score          0.023528\n",
            "sum_region_sales    1.000000\n",
            "Name: sum_region_sales, dtype: float64\n",
            "________________________________________\n",
            "WiiU\n"
          ]
        },
        {
          "output_type": "display_data",
          "data": {
            "text/plain": [
              "<Figure size 432x288 with 1 Axes>"
            ],
            "image/png": "[encoded data removed]"
          },
          "metadata": {
            "needs_background": "light"
          }
        },
        {
          "output_type": "display_data",
          "data": {
            "text/plain": [
              "<Figure size 432x288 with 1 Axes>"
            ],
            "image/png": "[encoded data removed]"
          },
          "metadata": {
            "needs_background": "light"
          }
        },
        {
          "output_type": "stream",
          "name": "stdout",
          "text": [
            "critic_score        0.375640\n",
            "user_score          0.411451\n",
            "sum_region_sales    1.000000\n",
            "Name: sum_region_sales, dtype: float64\n",
            "________________________________________\n",
            "XOne\n"
          ]
        },
        {
          "output_type": "display_data",
          "data": {
            "text/plain": [
              "<Figure size 432x288 with 1 Axes>"
            ],
            "image/png": "[encoded data removed]"
          },
          "metadata": {
            "needs_background": "light"
          }
        },
        {
          "output_type": "display_data",
          "data": {
            "text/plain": [
              "<Figure size 432x288 with 1 Axes>"
            ],
            "image/png": "[encoded data removed]"
          },
          "metadata": {
            "needs_background": "light"
          }
        },
        {
          "output_type": "stream",
          "name": "stdout",
          "text": [
            "critic_score        0.422112\n",
            "user_score         -0.091734\n",
            "sum_region_sales    1.000000\n",
            "Name: sum_region_sales, dtype: float64\n"
          ]
        }
      ],
      "source": [
        "#Функция для просмотра корреляции на других платформах:\n",
        "for platform, games in new_data.groupby('platform'):\n",
        "    print('_'*40)\n",
        "    print(platform)\n",
        "    games[games['critic_score'] != -111].plot(kind='scatter', x = 'critic_score', y='sum_region_sales')\n",
        "    games[games['user_score'] != -111].plot(kind='scatter', x = 'user_score', y='sum_region_sales')\n",
        "    plt.show()\n",
        "    print(games[(games['critic_score'] != -111) & (games['user_score'] != -111)][['critic_score', 'user_score', 'sum_region_sales']].corr()['sum_region_sales'])"
      ]
    },
    {
      "cell_type": "markdown",
      "metadata": {
        "id": "Tvgevq-zJtV7"
      },
      "source": [
        "**ВЫВОД:** Итак видно, что на платформах PS4, WiiU, XOne - видна слабая корреляция между оценками критиков и продажами. А так же, на WiiU обнаружилась положительная корреляция между оценками пользователей и продажами и эта зависимость даже немного больше, чем зависимость между оценками критиков и продажами. На платформах 3DS, PC, PSV - линейных зависимостей считай, что нет."
      ]
    },
    {
      "cell_type": "markdown",
      "metadata": {
        "id": "rCyUniSeJtV7"
      },
      "source": [
        "### Что можно сказать о самых прибыльных жанрах? Выделяются ли жанры с высокими и низкими продажами?"
      ]
    },
    {
      "cell_type": "code",
      "execution_count": null,
      "metadata": {
        "id": "cEApI1o5JtV8",
        "outputId": "005f37c7-7b26-4078-a485-13045d25bb44",
        "colab": {
          "base_uri": "https://localhost:8080/",
          "height": 513
        }
      },
      "outputs": [
        {
          "output_type": "display_data",
          "data": {
            "text/plain": [
              "<Figure size 936x576 with 1 Axes>"
            ],
            "image/png": "[encoded data removed]"
          },
          "metadata": {
            "needs_background": "light"
          }
        }
      ],
      "source": [
        "genre_sales = (\n",
        "    new_data\n",
        "    .pivot_table(index='genre', values='sum_region_sales', aggfunc='sum')\n",
        "    .sort_values('sum_region_sales', ascending=False)\n",
        ")\n",
        "plt.figure(figsize=(13,8))\n",
        "(sns.barplot(data = genre_sales, x=genre_sales.index, y='sum_region_sales')\n",
        "    .set(title = 'Продажи по жанрам за 2014-2016гг.', xlabel = 'Жанры', ylabel = 'Общие продажи'))\n",
        "plt.show()"
      ]
    },
    {
      "cell_type": "code",
      "execution_count": null,
      "metadata": {
        "id": "H1PsCP21JtV8",
        "outputId": "c3216eb4-38ba-4f7f-eb23-349d8a05cbc0",
        "colab": {
          "base_uri": "https://localhost:8080/",
          "height": 513
        }
      },
      "outputs": [
        {
          "output_type": "display_data",
          "data": {
            "text/plain": [
              "<Figure size 936x576 with 1 Axes>"
            ],
            "image/png": "[encoded data removed]"
          },
          "metadata": {
            "needs_background": "light"
          }
        }
      ],
      "source": [
        "plt.figure(figsize=(13,8))\n",
        "(sns.boxplot(data=new_data_filtered, x = 'genre', y = 'sum_region_sales')\n",
        "    .set(title='Продажи по жанрам 2014/2016гг'))\n",
        "plt.show() "
      ]
    },
    {
      "cell_type": "markdown",
      "metadata": {
        "id": "JuaVV8R7JtV8"
      },
      "source": [
        "**ВЫВОД:** За актуальный период, можно выделить 4 самых популярных жанра:\n",
        "- Action\n",
        "- Shooter\n",
        "- Role_Playing\n",
        "- Sports\n",
        "\n",
        "У жанров Action, Music, Fighting, Role-Playing, Racing, Simulation - медианное значение практически на одном уровне ~0.2.\n",
        "\n",
        "Strategy и Puzzle можно считать самыми непопулярными жанрами."
      ]
    },
    {
      "cell_type": "markdown",
      "metadata": {
        "id": "2bmreAYJJtV8"
      },
      "source": [
        "##  Портрет пользователя каждого региона (NA, EU, JP)."
      ]
    },
    {
      "cell_type": "markdown",
      "metadata": {
        "id": "wnNXnSieJtV9"
      },
      "source": [
        "### Топ-5 популярных платформ для каждого региона."
      ]
    },
    {
      "cell_type": "code",
      "execution_count": null,
      "metadata": {
        "colab": {
          "base_uri": "https://localhost:8080/",
          "height": 326
        },
        "id": "oSttn7JaJtV9",
        "outputId": "461c662f-82c2-4464-fa69-4be274155ffd"
      },
      "outputs": [
        {
          "output_type": "display_data",
          "data": {
            "text/plain": [
              "<Figure size 1080x360 with 3 Axes>"
            ],
            "image/png": "[encoded data removed]"
          },
          "metadata": {}
        }
      ],
      "source": [
        "#Список регионов\n",
        "regions = new_data.columns[4:7]\n",
        "\n",
        "fig, axs = plt.subplots(1, 3, figsize=(15,5))\n",
        "fig.suptitle('Топ-5 платформ по регионам')\n",
        "#Функция, для определения 5 самых популярных платформ. Остальные будут выделены в сегмент Other_platforms.\n",
        "for i in range(3):\n",
        "    df = (new_data.groupby('platform')[regions[i]].sum().\n",
        "             reset_index().\n",
        "             sort_values(regions[i], ascending=False, ignore_index=True).\n",
        "             head(5))\n",
        "    df = df.append({'platform': 'Other_platforms', regions[i]: new_data[regions[i]].sum() - df[regions[i]].sum()}, ignore_index=True)\n",
        "    axs[i].pie(df[regions[i]], labels = df['platform'])\n",
        "    axs[i].set_title(df.columns[1].split('_')[0].upper())\n",
        "plt.show()"
      ]
    },
    {
      "cell_type": "code",
      "execution_count": null,
      "metadata": {
        "colab": {
          "base_uri": "https://localhost:8080/",
          "height": 269
        },
        "id": "mhdRS0BoJtV9",
        "outputId": "7a4d4c1a-dbfc-422b-fee8-fef8e596e259"
      },
      "outputs": [
        {
          "output_type": "execute_result",
          "data": {
            "text/plain": [
              "          eu_sales  jp_sales  na_sales\n",
              "platform                              \n",
              "PS4         130.04     15.02     98.61\n",
              "XOne         46.25      0.32     81.27\n",
              "PC           17.97      0.00      7.23\n",
              "3DS          16.12     44.24     22.64\n",
              "WiiU         13.15      7.31     19.36\n",
              "PSV           3.53     14.54      2.52"
            ],
            "text/html": [
              "\n",
              "  <div id=\"df-b3b4af49-2e2d-49e8-8659-a61eeace9ca7\">\n",
              "    <div class=\"colab-df-container\">\n",
              "      <div>\n",
              "<style scoped>\n",
              "    .dataframe tbody tr th:only-of-type {\n",
              "        vertical-align: middle;\n",
              "    }\n",
              "\n",
              "    .dataframe tbody tr th {\n",
              "        vertical-align: top;\n",
              "    }\n",
              "\n",
              "    .dataframe thead th {\n",
              "        text-align: right;\n",
              "    }\n",
              "</style>\n",
              "<table border=\"1\" class=\"dataframe\">\n",
              "  <thead>\n",
              "    <tr style=\"text-align: right;\">\n",
              "      <th></th>\n",
              "      <th>eu_sales</th>\n",
              "      <th>jp_sales</th>\n",
              "      <th>na_sales</th>\n",
              "    </tr>\n",
              "    <tr>\n",
              "      <th>platform</th>\n",
              "      <th></th>\n",
              "      <th></th>\n",
              "      <th></th>\n",
              "    </tr>\n",
              "  </thead>\n",
              "  <tbody>\n",
              "    <tr>\n",
              "      <th>PS4</th>\n",
              "      <td>130.04</td>\n",
              "      <td>15.02</td>\n",
              "      <td>98.61</td>\n",
              "    </tr>\n",
              "    <tr>\n",
              "      <th>XOne</th>\n",
              "      <td>46.25</td>\n",
              "      <td>0.32</td>\n",
              "      <td>81.27</td>\n",
              "    </tr>\n",
              "    <tr>\n",
              "      <th>PC</th>\n",
              "      <td>17.97</td>\n",
              "      <td>0.00</td>\n",
              "      <td>7.23</td>\n",
              "    </tr>\n",
              "    <tr>\n",
              "      <th>3DS</th>\n",
              "      <td>16.12</td>\n",
              "      <td>44.24</td>\n",
              "      <td>22.64</td>\n",
              "    </tr>\n",
              "    <tr>\n",
              "      <th>WiiU</th>\n",
              "      <td>13.15</td>\n",
              "      <td>7.31</td>\n",
              "      <td>19.36</td>\n",
              "    </tr>\n",
              "    <tr>\n",
              "      <th>PSV</th>\n",
              "      <td>3.53</td>\n",
              "      <td>14.54</td>\n",
              "      <td>2.52</td>\n",
              "    </tr>\n",
              "  </tbody>\n",
              "</table>\n",
              "</div>\n",
              "      <button class=\"colab-df-convert\" onclick=\"convertToInteractive('df-b3b4af49-2e2d-49e8-8659-a61eeace9ca7')\"\n",
              "              title=\"Convert this dataframe to an interactive table.\"\n",
              "              style=\"display:none;\">\n",
              "        \n",
              "  <svg xmlns=\"http://www.w3.org/2000/svg\" height=\"24px\"viewBox=\"0 0 24 24\"\n",
              "       width=\"24px\">\n",
              "    <path d=\"M0 0h24v24H0V0z\" fill=\"none\"/>\n",
              "    <path d=\"M18.56 5.44l.94 2.06.94-2.06 2.06-.94-2.06-.94-.94-2.06-.94 2.06-2.06.94zm-11 1L8.5 8.5l.94-2.06 2.06-.94-2.06-.94L8.5 2.5l-.94 2.06-2.06.94zm10 10l.94 2.06.94-2.06 2.06-.94-2.06-.94-.94-2.06-.94 2.06-2.06.94z\"/><path d=\"M17.41 7.96l-1.37-1.37c-.4-.4-.92-.59-1.43-.59-.52 0-1.04.2-1.43.59L10.3 9.45l-7.72 7.72c-.78.78-.78 2.05 0 2.83L4 21.41c.39.39.9.59 1.41.59.51 0 1.02-.2 1.41-.59l7.78-7.78 2.81-2.81c.8-.78.8-2.07 0-2.86zM5.41 20L4 18.59l7.72-7.72 1.47 1.35L5.41 20z\"/>\n",
              "  </svg>\n",
              "      </button>\n",
              "      \n",
              "  <style>\n",
              "    .colab-df-container {\n",
              "      display:flex;\n",
              "      flex-wrap:wrap;\n",
              "      gap: 12px;\n",
              "    }\n",
              "\n",
              "    .colab-df-convert {\n",
              "      background-color: #E8F0FE;\n",
              "      border: none;\n",
              "      border-radius: 50%;\n",
              "      cursor: pointer;\n",
              "      display: none;\n",
              "      fill: #1967D2;\n",
              "      height: 32px;\n",
              "      padding: 0 0 0 0;\n",
              "      width: 32px;\n",
              "    }\n",
              "\n",
              "    .colab-df-convert:hover {\n",
              "      background-color: #E2EBFA;\n",
              "      box-shadow: 0px 1px 2px rgba(60, 64, 67, 0.3), 0px 1px 3px 1px rgba(60, 64, 67, 0.15);\n",
              "      fill: #174EA6;\n",
              "    }\n",
              "\n",
              "    [theme=dark] .colab-df-convert {\n",
              "      background-color: #3B4455;\n",
              "      fill: #D2E3FC;\n",
              "    }\n",
              "\n",
              "    [theme=dark] .colab-df-convert:hover {\n",
              "      background-color: #434B5C;\n",
              "      box-shadow: 0px 1px 3px 1px rgba(0, 0, 0, 0.15);\n",
              "      filter: drop-shadow(0px 1px 2px rgba(0, 0, 0, 0.3));\n",
              "      fill: #FFFFFF;\n",
              "    }\n",
              "  </style>\n",
              "\n",
              "      <script>\n",
              "        const buttonEl =\n",
              "          document.querySelector('#df-b3b4af49-2e2d-49e8-8659-a61eeace9ca7 button.colab-df-convert');\n",
              "        buttonEl.style.display =\n",
              "          google.colab.kernel.accessAllowed ? 'block' : 'none';\n",
              "\n",
              "        async function convertToInteractive(key) {\n",
              "          const element = document.querySelector('#df-b3b4af49-2e2d-49e8-8659-a61eeace9ca7');\n",
              "          const dataTable =\n",
              "            await google.colab.kernel.invokeFunction('convertToInteractive',\n",
              "                                                     [key], {});\n",
              "          if (!dataTable) return;\n",
              "\n",
              "          const docLinkHtml = 'Like what you see? Visit the ' +\n",
              "            '<a target=\"_blank\" href=https://colab.research.google.com/notebooks/data_table.ipynb>data table notebook</a>'\n",
              "            + ' to learn more about interactive tables.';\n",
              "          element.innerHTML = '';\n",
              "          dataTable['output_type'] = 'display_data';\n",
              "          await google.colab.output.renderOutput(dataTable, element);\n",
              "          const docLink = document.createElement('div');\n",
              "          docLink.innerHTML = docLinkHtml;\n",
              "          element.appendChild(docLink);\n",
              "        }\n",
              "      </script>\n",
              "    </div>\n",
              "  </div>\n",
              "  "
            ]
          },
          "metadata": {},
          "execution_count": 41
        }
      ],
      "source": [
        "#Показала данные в виде таблице:\n",
        "top_platforms = (new_data.pivot_table(index = 'platform', values = ['na_sales', 'eu_sales', 'jp_sales'], aggfunc = 'sum')\n",
        "                 .sort_values('eu_sales', ascending=False))\n",
        "                \n",
        "top_platforms.head(6)"
      ]
    },
    {
      "cell_type": "markdown",
      "metadata": {
        "id": "i2M01vj6JtV9"
      },
      "source": [
        "**Вывод:** В Северной Америке и Европе самая популярная платформа - PS4 и вторая по популярности XOne, а в Японии - 3DS и вторая - PS4. Также, в Японии популярна PSV, по сравнению с другими регионами, и практически не пользуется спросом PC."
      ]
    },
    {
      "cell_type": "markdown",
      "metadata": {
        "id": "nuN5_FSGJtV9"
      },
      "source": [
        "### Топ-5 популярных жанров для каждого региона."
      ]
    },
    {
      "cell_type": "code",
      "execution_count": null,
      "metadata": {
        "id": "oIinirhdJtV-",
        "outputId": "18462e15-a671-44e8-c432-c07cee3c825c",
        "colab": {
          "base_uri": "https://localhost:8080/",
          "height": 326
        }
      },
      "outputs": [
        {
          "output_type": "display_data",
          "data": {
            "text/plain": [
              "<Figure size 1080x360 with 3 Axes>"
            ],
            "image/png": "[encoded data removed]"
          },
          "metadata": {}
        }
      ],
      "source": [
        "fig, axs = plt.subplots(1, 3, figsize=(15,5))\n",
        "fig.suptitle('Топ-5 жанров по регионам')\n",
        "#Функция, для определения 5 самых популярных жанров. Остальные будут выделены в сегмент Other_genre.\n",
        "for i in range(3):\n",
        "    df = (new_data.groupby('genre')[regions[i]].sum().\n",
        "             reset_index().\n",
        "             sort_values(regions[i], ascending=False, ignore_index=True).\n",
        "             head(5))\n",
        "    df = df.append({'genre': 'Other_genre', regions[i]: new_data[regions[i]].sum() - df[regions[i]].sum()}, ignore_index=True)\n",
        "    axs[i].pie(df[regions[i]], labels = df['genre'])\n",
        "    axs[i].set_title(df.columns[1].split('_')[0].upper())\n",
        "plt.show()"
      ]
    },
    {
      "cell_type": "code",
      "execution_count": null,
      "metadata": {
        "id": "QmmyhMdTJtV-",
        "outputId": "95e28939-2b1a-4f4c-ea00-692b890f3006",
        "colab": {
          "base_uri": "https://localhost:8080/",
          "height": 584
        }
      },
      "outputs": [
        {
          "output_type": "display_data",
          "data": {
            "text/plain": [
              "          genre  na_sales\n",
              "0       Shooter     66.29\n",
              "1        Action     60.16\n",
              "2        Sports     31.96\n",
              "3  Role-Playing     29.74\n",
              "4      Fighting     11.23"
            ],
            "text/html": [
              "\n",
              "  <div id=\"df-f8cccda3-c53b-46f6-a95b-874efa30124e\">\n",
              "    <div class=\"colab-df-container\">\n",
              "      <div>\n",
              "<style scoped>\n",
              "    .dataframe tbody tr th:only-of-type {\n",
              "        vertical-align: middle;\n",
              "    }\n",
              "\n",
              "    .dataframe tbody tr th {\n",
              "        vertical-align: top;\n",
              "    }\n",
              "\n",
              "    .dataframe thead th {\n",
              "        text-align: right;\n",
              "    }\n",
              "</style>\n",
              "<table border=\"1\" class=\"dataframe\">\n",
              "  <thead>\n",
              "    <tr style=\"text-align: right;\">\n",
              "      <th></th>\n",
              "      <th>genre</th>\n",
              "      <th>na_sales</th>\n",
              "    </tr>\n",
              "  </thead>\n",
              "  <tbody>\n",
              "    <tr>\n",
              "      <th>0</th>\n",
              "      <td>Shooter</td>\n",
              "      <td>66.29</td>\n",
              "    </tr>\n",
              "    <tr>\n",
              "      <th>1</th>\n",
              "      <td>Action</td>\n",
              "      <td>60.16</td>\n",
              "    </tr>\n",
              "    <tr>\n",
              "      <th>2</th>\n",
              "      <td>Sports</td>\n",
              "      <td>31.96</td>\n",
              "    </tr>\n",
              "    <tr>\n",
              "      <th>3</th>\n",
              "      <td>Role-Playing</td>\n",
              "      <td>29.74</td>\n",
              "    </tr>\n",
              "    <tr>\n",
              "      <th>4</th>\n",
              "      <td>Fighting</td>\n",
              "      <td>11.23</td>\n",
              "    </tr>\n",
              "  </tbody>\n",
              "</table>\n",
              "</div>\n",
              "      <button class=\"colab-df-convert\" onclick=\"convertToInteractive('df-f8cccda3-c53b-46f6-a95b-874efa30124e')\"\n",
              "              title=\"Convert this dataframe to an interactive table.\"\n",
              "              style=\"display:none;\">\n",
              "        \n",
              "  <svg xmlns=\"http://www.w3.org/2000/svg\" height=\"24px\"viewBox=\"0 0 24 24\"\n",
              "       width=\"24px\">\n",
              "    <path d=\"M0 0h24v24H0V0z\" fill=\"none\"/>\n",
              "    <path d=\"M18.56 5.44l.94 2.06.94-2.06 2.06-.94-2.06-.94-.94-2.06-.94 2.06-2.06.94zm-11 1L8.5 8.5l.94-2.06 2.06-.94-2.06-.94L8.5 2.5l-.94 2.06-2.06.94zm10 10l.94 2.06.94-2.06 2.06-.94-2.06-.94-.94-2.06-.94 2.06-2.06.94z\"/><path d=\"M17.41 7.96l-1.37-1.37c-.4-.4-.92-.59-1.43-.59-.52 0-1.04.2-1.43.59L10.3 9.45l-7.72 7.72c-.78.78-.78 2.05 0 2.83L4 21.41c.39.39.9.59 1.41.59.51 0 1.02-.2 1.41-.59l7.78-7.78 2.81-2.81c.8-.78.8-2.07 0-2.86zM5.41 20L4 18.59l7.72-7.72 1.47 1.35L5.41 20z\"/>\n",
              "  </svg>\n",
              "      </button>\n",
              "      \n",
              "  <style>\n",
              "    .colab-df-container {\n",
              "      display:flex;\n",
              "      flex-wrap:wrap;\n",
              "      gap: 12px;\n",
              "    }\n",
              "\n",
              "    .colab-df-convert {\n",
              "      background-color: #E8F0FE;\n",
              "      border: none;\n",
              "      border-radius: 50%;\n",
              "      cursor: pointer;\n",
              "      display: none;\n",
              "      fill: #1967D2;\n",
              "      height: 32px;\n",
              "      padding: 0 0 0 0;\n",
              "      width: 32px;\n",
              "    }\n",
              "\n",
              "    .colab-df-convert:hover {\n",
              "      background-color: #E2EBFA;\n",
              "      box-shadow: 0px 1px 2px rgba(60, 64, 67, 0.3), 0px 1px 3px 1px rgba(60, 64, 67, 0.15);\n",
              "      fill: #174EA6;\n",
              "    }\n",
              "\n",
              "    [theme=dark] .colab-df-convert {\n",
              "      background-color: #3B4455;\n",
              "      fill: #D2E3FC;\n",
              "    }\n",
              "\n",
              "    [theme=dark] .colab-df-convert:hover {\n",
              "      background-color: #434B5C;\n",
              "      box-shadow: 0px 1px 3px 1px rgba(0, 0, 0, 0.15);\n",
              "      filter: drop-shadow(0px 1px 2px rgba(0, 0, 0, 0.3));\n",
              "      fill: #FFFFFF;\n",
              "    }\n",
              "  </style>\n",
              "\n",
              "      <script>\n",
              "        const buttonEl =\n",
              "          document.querySelector('#df-f8cccda3-c53b-46f6-a95b-874efa30124e button.colab-df-convert');\n",
              "        buttonEl.style.display =\n",
              "          google.colab.kernel.accessAllowed ? 'block' : 'none';\n",
              "\n",
              "        async function convertToInteractive(key) {\n",
              "          const element = document.querySelector('#df-f8cccda3-c53b-46f6-a95b-874efa30124e');\n",
              "          const dataTable =\n",
              "            await google.colab.kernel.invokeFunction('convertToInteractive',\n",
              "                                                     [key], {});\n",
              "          if (!dataTable) return;\n",
              "\n",
              "          const docLinkHtml = 'Like what you see? Visit the ' +\n",
              "            '<a target=\"_blank\" href=https://colab.research.google.com/notebooks/data_table.ipynb>data table notebook</a>'\n",
              "            + ' to learn more about interactive tables.';\n",
              "          element.innerHTML = '';\n",
              "          dataTable['output_type'] = 'display_data';\n",
              "          await google.colab.output.renderOutput(dataTable, element);\n",
              "          const docLink = document.createElement('div');\n",
              "          docLink.innerHTML = docLinkHtml;\n",
              "          element.appendChild(docLink);\n",
              "        }\n",
              "      </script>\n",
              "    </div>\n",
              "  </div>\n",
              "  "
            ]
          },
          "metadata": {}
        },
        {
          "output_type": "display_data",
          "data": {
            "text/plain": [
              "          genre  eu_sales\n",
              "0        Action     63.49\n",
              "1       Shooter     56.23\n",
              "2        Sports     33.48\n",
              "3  Role-Playing     25.94\n",
              "4        Racing     12.92"
            ],
            "text/html": [
              "\n",
              "  <div id=\"df-4e2192d1-2c6a-4f96-9110-12d370715f65\">\n",
              "    <div class=\"colab-df-container\">\n",
              "      <div>\n",
              "<style scoped>\n",
              "    .dataframe tbody tr th:only-of-type {\n",
              "        vertical-align: middle;\n",
              "    }\n",
              "\n",
              "    .dataframe tbody tr th {\n",
              "        vertical-align: top;\n",
              "    }\n",
              "\n",
              "    .dataframe thead th {\n",
              "        text-align: right;\n",
              "    }\n",
              "</style>\n",
              "<table border=\"1\" class=\"dataframe\">\n",
              "  <thead>\n",
              "    <tr style=\"text-align: right;\">\n",
              "      <th></th>\n",
              "      <th>genre</th>\n",
              "      <th>eu_sales</th>\n",
              "    </tr>\n",
              "  </thead>\n",
              "  <tbody>\n",
              "    <tr>\n",
              "      <th>0</th>\n",
              "      <td>Action</td>\n",
              "      <td>63.49</td>\n",
              "    </tr>\n",
              "    <tr>\n",
              "      <th>1</th>\n",
              "      <td>Shooter</td>\n",
              "      <td>56.23</td>\n",
              "    </tr>\n",
              "    <tr>\n",
              "      <th>2</th>\n",
              "      <td>Sports</td>\n",
              "      <td>33.48</td>\n",
              "    </tr>\n",
              "    <tr>\n",
              "      <th>3</th>\n",
              "      <td>Role-Playing</td>\n",
              "      <td>25.94</td>\n",
              "    </tr>\n",
              "    <tr>\n",
              "      <th>4</th>\n",
              "      <td>Racing</td>\n",
              "      <td>12.92</td>\n",
              "    </tr>\n",
              "  </tbody>\n",
              "</table>\n",
              "</div>\n",
              "      <button class=\"colab-df-convert\" onclick=\"convertToInteractive('df-4e2192d1-2c6a-4f96-9110-12d370715f65')\"\n",
              "              title=\"Convert this dataframe to an interactive table.\"\n",
              "              style=\"display:none;\">\n",
              "        \n",
              "  <svg xmlns=\"http://www.w3.org/2000/svg\" height=\"24px\"viewBox=\"0 0 24 24\"\n",
              "       width=\"24px\">\n",
              "    <path d=\"M0 0h24v24H0V0z\" fill=\"none\"/>\n",
              "    <path d=\"M18.56 5.44l.94 2.06.94-2.06 2.06-.94-2.06-.94-.94-2.06-.94 2.06-2.06.94zm-11 1L8.5 8.5l.94-2.06 2.06-.94-2.06-.94L8.5 2.5l-.94 2.06-2.06.94zm10 10l.94 2.06.94-2.06 2.06-.94-2.06-.94-.94-2.06-.94 2.06-2.06.94z\"/><path d=\"M17.41 7.96l-1.37-1.37c-.4-.4-.92-.59-1.43-.59-.52 0-1.04.2-1.43.59L10.3 9.45l-7.72 7.72c-.78.78-.78 2.05 0 2.83L4 21.41c.39.39.9.59 1.41.59.51 0 1.02-.2 1.41-.59l7.78-7.78 2.81-2.81c.8-.78.8-2.07 0-2.86zM5.41 20L4 18.59l7.72-7.72 1.47 1.35L5.41 20z\"/>\n",
              "  </svg>\n",
              "      </button>\n",
              "      \n",
              "  <style>\n",
              "    .colab-df-container {\n",
              "      display:flex;\n",
              "      flex-wrap:wrap;\n",
              "      gap: 12px;\n",
              "    }\n",
              "\n",
              "    .colab-df-convert {\n",
              "      background-color: #E8F0FE;\n",
              "      border: none;\n",
              "      border-radius: 50%;\n",
              "      cursor: pointer;\n",
              "      display: none;\n",
              "      fill: #1967D2;\n",
              "      height: 32px;\n",
              "      padding: 0 0 0 0;\n",
              "      width: 32px;\n",
              "    }\n",
              "\n",
              "    .colab-df-convert:hover {\n",
              "      background-color: #E2EBFA;\n",
              "      box-shadow: 0px 1px 2px rgba(60, 64, 67, 0.3), 0px 1px 3px 1px rgba(60, 64, 67, 0.15);\n",
              "      fill: #174EA6;\n",
              "    }\n",
              "\n",
              "    [theme=dark] .colab-df-convert {\n",
              "      background-color: #3B4455;\n",
              "      fill: #D2E3FC;\n",
              "    }\n",
              "\n",
              "    [theme=dark] .colab-df-convert:hover {\n",
              "      background-color: #434B5C;\n",
              "      box-shadow: 0px 1px 3px 1px rgba(0, 0, 0, 0.15);\n",
              "      filter: drop-shadow(0px 1px 2px rgba(0, 0, 0, 0.3));\n",
              "      fill: #FFFFFF;\n",
              "    }\n",
              "  </style>\n",
              "\n",
              "      <script>\n",
              "        const buttonEl =\n",
              "          document.querySelector('#df-4e2192d1-2c6a-4f96-9110-12d370715f65 button.colab-df-convert');\n",
              "        buttonEl.style.display =\n",
              "          google.colab.kernel.accessAllowed ? 'block' : 'none';\n",
              "\n",
              "        async function convertToInteractive(key) {\n",
              "          const element = document.querySelector('#df-4e2192d1-2c6a-4f96-9110-12d370715f65');\n",
              "          const dataTable =\n",
              "            await google.colab.kernel.invokeFunction('convertToInteractive',\n",
              "                                                     [key], {});\n",
              "          if (!dataTable) return;\n",
              "\n",
              "          const docLinkHtml = 'Like what you see? Visit the ' +\n",
              "            '<a target=\"_blank\" href=https://colab.research.google.com/notebooks/data_table.ipynb>data table notebook</a>'\n",
              "            + ' to learn more about interactive tables.';\n",
              "          element.innerHTML = '';\n",
              "          dataTable['output_type'] = 'display_data';\n",
              "          await google.colab.output.renderOutput(dataTable, element);\n",
              "          const docLink = document.createElement('div');\n",
              "          docLink.innerHTML = docLinkHtml;\n",
              "          element.appendChild(docLink);\n",
              "        }\n",
              "      </script>\n",
              "    </div>\n",
              "  </div>\n",
              "  "
            ]
          },
          "metadata": {}
        },
        {
          "output_type": "display_data",
          "data": {
            "text/plain": [
              "          genre  jp_sales\n",
              "0  Role-Playing     28.70\n",
              "1        Action     24.71\n",
              "2          Misc      5.17\n",
              "3      Fighting      5.01\n",
              "4       Shooter      4.21"
            ],
            "text/html": [
              "\n",
              "  <div id=\"df-6f063344-db09-405a-84f1-8a1242e84533\">\n",
              "    <div class=\"colab-df-container\">\n",
              "      <div>\n",
              "<style scoped>\n",
              "    .dataframe tbody tr th:only-of-type {\n",
              "        vertical-align: middle;\n",
              "    }\n",
              "\n",
              "    .dataframe tbody tr th {\n",
              "        vertical-align: top;\n",
              "    }\n",
              "\n",
              "    .dataframe thead th {\n",
              "        text-align: right;\n",
              "    }\n",
              "</style>\n",
              "<table border=\"1\" class=\"dataframe\">\n",
              "  <thead>\n",
              "    <tr style=\"text-align: right;\">\n",
              "      <th></th>\n",
              "      <th>genre</th>\n",
              "      <th>jp_sales</th>\n",
              "    </tr>\n",
              "  </thead>\n",
              "  <tbody>\n",
              "    <tr>\n",
              "      <th>0</th>\n",
              "      <td>Role-Playing</td>\n",
              "      <td>28.70</td>\n",
              "    </tr>\n",
              "    <tr>\n",
              "      <th>1</th>\n",
              "      <td>Action</td>\n",
              "      <td>24.71</td>\n",
              "    </tr>\n",
              "    <tr>\n",
              "      <th>2</th>\n",
              "      <td>Misc</td>\n",
              "      <td>5.17</td>\n",
              "    </tr>\n",
              "    <tr>\n",
              "      <th>3</th>\n",
              "      <td>Fighting</td>\n",
              "      <td>5.01</td>\n",
              "    </tr>\n",
              "    <tr>\n",
              "      <th>4</th>\n",
              "      <td>Shooter</td>\n",
              "      <td>4.21</td>\n",
              "    </tr>\n",
              "  </tbody>\n",
              "</table>\n",
              "</div>\n",
              "      <button class=\"colab-df-convert\" onclick=\"convertToInteractive('df-6f063344-db09-405a-84f1-8a1242e84533')\"\n",
              "              title=\"Convert this dataframe to an interactive table.\"\n",
              "              style=\"display:none;\">\n",
              "        \n",
              "  <svg xmlns=\"http://www.w3.org/2000/svg\" height=\"24px\"viewBox=\"0 0 24 24\"\n",
              "       width=\"24px\">\n",
              "    <path d=\"M0 0h24v24H0V0z\" fill=\"none\"/>\n",
              "    <path d=\"M18.56 5.44l.94 2.06.94-2.06 2.06-.94-2.06-.94-.94-2.06-.94 2.06-2.06.94zm-11 1L8.5 8.5l.94-2.06 2.06-.94-2.06-.94L8.5 2.5l-.94 2.06-2.06.94zm10 10l.94 2.06.94-2.06 2.06-.94-2.06-.94-.94-2.06-.94 2.06-2.06.94z\"/><path d=\"M17.41 7.96l-1.37-1.37c-.4-.4-.92-.59-1.43-.59-.52 0-1.04.2-1.43.59L10.3 9.45l-7.72 7.72c-.78.78-.78 2.05 0 2.83L4 21.41c.39.39.9.59 1.41.59.51 0 1.02-.2 1.41-.59l7.78-7.78 2.81-2.81c.8-.78.8-2.07 0-2.86zM5.41 20L4 18.59l7.72-7.72 1.47 1.35L5.41 20z\"/>\n",
              "  </svg>\n",
              "      </button>\n",
              "      \n",
              "  <style>\n",
              "    .colab-df-container {\n",
              "      display:flex;\n",
              "      flex-wrap:wrap;\n",
              "      gap: 12px;\n",
              "    }\n",
              "\n",
              "    .colab-df-convert {\n",
              "      background-color: #E8F0FE;\n",
              "      border: none;\n",
              "      border-radius: 50%;\n",
              "      cursor: pointer;\n",
              "      display: none;\n",
              "      fill: #1967D2;\n",
              "      height: 32px;\n",
              "      padding: 0 0 0 0;\n",
              "      width: 32px;\n",
              "    }\n",
              "\n",
              "    .colab-df-convert:hover {\n",
              "      background-color: #E2EBFA;\n",
              "      box-shadow: 0px 1px 2px rgba(60, 64, 67, 0.3), 0px 1px 3px 1px rgba(60, 64, 67, 0.15);\n",
              "      fill: #174EA6;\n",
              "    }\n",
              "\n",
              "    [theme=dark] .colab-df-convert {\n",
              "      background-color: #3B4455;\n",
              "      fill: #D2E3FC;\n",
              "    }\n",
              "\n",
              "    [theme=dark] .colab-df-convert:hover {\n",
              "      background-color: #434B5C;\n",
              "      box-shadow: 0px 1px 3px 1px rgba(0, 0, 0, 0.15);\n",
              "      filter: drop-shadow(0px 1px 2px rgba(0, 0, 0, 0.3));\n",
              "      fill: #FFFFFF;\n",
              "    }\n",
              "  </style>\n",
              "\n",
              "      <script>\n",
              "        const buttonEl =\n",
              "          document.querySelector('#df-6f063344-db09-405a-84f1-8a1242e84533 button.colab-df-convert');\n",
              "        buttonEl.style.display =\n",
              "          google.colab.kernel.accessAllowed ? 'block' : 'none';\n",
              "\n",
              "        async function convertToInteractive(key) {\n",
              "          const element = document.querySelector('#df-6f063344-db09-405a-84f1-8a1242e84533');\n",
              "          const dataTable =\n",
              "            await google.colab.kernel.invokeFunction('convertToInteractive',\n",
              "                                                     [key], {});\n",
              "          if (!dataTable) return;\n",
              "\n",
              "          const docLinkHtml = 'Like what you see? Visit the ' +\n",
              "            '<a target=\"_blank\" href=https://colab.research.google.com/notebooks/data_table.ipynb>data table notebook</a>'\n",
              "            + ' to learn more about interactive tables.';\n",
              "          element.innerHTML = '';\n",
              "          dataTable['output_type'] = 'display_data';\n",
              "          await google.colab.output.renderOutput(dataTable, element);\n",
              "          const docLink = document.createElement('div');\n",
              "          docLink.innerHTML = docLinkHtml;\n",
              "          element.appendChild(docLink);\n",
              "        }\n",
              "      </script>\n",
              "    </div>\n",
              "  </div>\n",
              "  "
            ]
          },
          "metadata": {}
        }
      ],
      "source": [
        "#Данные в виде табличек:\n",
        "for i in range(3):\n",
        "    df = (new_data.groupby('genre')[regions[i]].sum().\n",
        "             reset_index().\n",
        "             sort_values(regions[i], ascending=False, ignore_index=True).\n",
        "             head(5))\n",
        "    display(df)"
      ]
    },
    {
      "cell_type": "markdown",
      "metadata": {
        "id": "9f4yp3zNJtV-"
      },
      "source": [
        "**Вывод:**  В Европе и Северной Америке топ-4 жанров одинаковые, различие только в 5 - в Европе это Racing, в Америке  - Fighting. В Японие же совсем другая картина - лидирует Role-Playing и Action, а с большим отставанием идет Music, Fighting, Shooter."
      ]
    },
    {
      "cell_type": "markdown",
      "metadata": {
        "id": "6EBLQWXnJtV-"
      },
      "source": [
        "### Влияет ли рейтинг ESRB на продажи в отдельном регионе?"
      ]
    },
    {
      "cell_type": "code",
      "execution_count": null,
      "metadata": {
        "id": "QL96vM5jJtV-",
        "outputId": "ff898ca3-98dc-43b7-b613-bf5ce1fb7f2f",
        "colab": {
          "base_uri": "https://localhost:8080/",
          "height": 326
        }
      },
      "outputs": [
        {
          "output_type": "display_data",
          "data": {
            "text/plain": [
              "<Figure size 1080x360 with 3 Axes>"
            ],
            "image/png": "[encoded data removed]"
          },
          "metadata": {}
        }
      ],
      "source": [
        "fig, axs = plt.subplots(1, 3, figsize=(15,5))\n",
        "fig.suptitle('Топ-5 жанров по регионам')\n",
        "\n",
        "for i in range(3):\n",
        "    df = (new_data.groupby('rating')[regions[i]].sum().\n",
        "             reset_index().\n",
        "             sort_values(regions[i], ascending=False, ignore_index=True))\n",
        "    axs[i].pie(df[regions[i]], labels = df['rating'])\n",
        "    axs[i].set_title(df.columns[1].split('_')[0].upper())\n",
        "plt.show()"
      ]
    },
    {
      "cell_type": "code",
      "execution_count": null,
      "metadata": {
        "id": "vMkNjqwjJtV_",
        "outputId": "6463c635-ef4e-494d-8b9e-f4d01210fb2d",
        "colab": {
          "base_uri": "https://localhost:8080/",
          "height": 237
        }
      },
      "outputs": [
        {
          "output_type": "execute_result",
          "data": {
            "text/plain": [
              "         eu_sales  jp_sales  na_sales\n",
              "rating                               \n",
              "M           82.38      6.40     82.23\n",
              "Unknown     50.80     50.43     55.76\n",
              "E           45.90      8.29     37.65\n",
              "T           30.09     11.99     32.46\n",
              "E10+        17.89      4.32     23.53"
            ],
            "text/html": [
              "\n",
              "  <div id=\"df-0bc78ce0-3e0b-477d-90b2-786d0bf593fb\">\n",
              "    <div class=\"colab-df-container\">\n",
              "      <div>\n",
              "<style scoped>\n",
              "    .dataframe tbody tr th:only-of-type {\n",
              "        vertical-align: middle;\n",
              "    }\n",
              "\n",
              "    .dataframe tbody tr th {\n",
              "        vertical-align: top;\n",
              "    }\n",
              "\n",
              "    .dataframe thead th {\n",
              "        text-align: right;\n",
              "    }\n",
              "</style>\n",
              "<table border=\"1\" class=\"dataframe\">\n",
              "  <thead>\n",
              "    <tr style=\"text-align: right;\">\n",
              "      <th></th>\n",
              "      <th>eu_sales</th>\n",
              "      <th>jp_sales</th>\n",
              "      <th>na_sales</th>\n",
              "    </tr>\n",
              "    <tr>\n",
              "      <th>rating</th>\n",
              "      <th></th>\n",
              "      <th></th>\n",
              "      <th></th>\n",
              "    </tr>\n",
              "  </thead>\n",
              "  <tbody>\n",
              "    <tr>\n",
              "      <th>M</th>\n",
              "      <td>82.38</td>\n",
              "      <td>6.40</td>\n",
              "      <td>82.23</td>\n",
              "    </tr>\n",
              "    <tr>\n",
              "      <th>Unknown</th>\n",
              "      <td>50.80</td>\n",
              "      <td>50.43</td>\n",
              "      <td>55.76</td>\n",
              "    </tr>\n",
              "    <tr>\n",
              "      <th>E</th>\n",
              "      <td>45.90</td>\n",
              "      <td>8.29</td>\n",
              "      <td>37.65</td>\n",
              "    </tr>\n",
              "    <tr>\n",
              "      <th>T</th>\n",
              "      <td>30.09</td>\n",
              "      <td>11.99</td>\n",
              "      <td>32.46</td>\n",
              "    </tr>\n",
              "    <tr>\n",
              "      <th>E10+</th>\n",
              "      <td>17.89</td>\n",
              "      <td>4.32</td>\n",
              "      <td>23.53</td>\n",
              "    </tr>\n",
              "  </tbody>\n",
              "</table>\n",
              "</div>\n",
              "      <button class=\"colab-df-convert\" onclick=\"convertToInteractive('df-0bc78ce0-3e0b-477d-90b2-786d0bf593fb')\"\n",
              "              title=\"Convert this dataframe to an interactive table.\"\n",
              "              style=\"display:none;\">\n",
              "        \n",
              "  <svg xmlns=\"http://www.w3.org/2000/svg\" height=\"24px\"viewBox=\"0 0 24 24\"\n",
              "       width=\"24px\">\n",
              "    <path d=\"M0 0h24v24H0V0z\" fill=\"none\"/>\n",
              "    <path d=\"M18.56 5.44l.94 2.06.94-2.06 2.06-.94-2.06-.94-.94-2.06-.94 2.06-2.06.94zm-11 1L8.5 8.5l.94-2.06 2.06-.94-2.06-.94L8.5 2.5l-.94 2.06-2.06.94zm10 10l.94 2.06.94-2.06 2.06-.94-2.06-.94-.94-2.06-.94 2.06-2.06.94z\"/><path d=\"M17.41 7.96l-1.37-1.37c-.4-.4-.92-.59-1.43-.59-.52 0-1.04.2-1.43.59L10.3 9.45l-7.72 7.72c-.78.78-.78 2.05 0 2.83L4 21.41c.39.39.9.59 1.41.59.51 0 1.02-.2 1.41-.59l7.78-7.78 2.81-2.81c.8-.78.8-2.07 0-2.86zM5.41 20L4 18.59l7.72-7.72 1.47 1.35L5.41 20z\"/>\n",
              "  </svg>\n",
              "      </button>\n",
              "      \n",
              "  <style>\n",
              "    .colab-df-container {\n",
              "      display:flex;\n",
              "      flex-wrap:wrap;\n",
              "      gap: 12px;\n",
              "    }\n",
              "\n",
              "    .colab-df-convert {\n",
              "      background-color: #E8F0FE;\n",
              "      border: none;\n",
              "      border-radius: 50%;\n",
              "      cursor: pointer;\n",
              "      display: none;\n",
              "      fill: #1967D2;\n",
              "      height: 32px;\n",
              "      padding: 0 0 0 0;\n",
              "      width: 32px;\n",
              "    }\n",
              "\n",
              "    .colab-df-convert:hover {\n",
              "      background-color: #E2EBFA;\n",
              "      box-shadow: 0px 1px 2px rgba(60, 64, 67, 0.3), 0px 1px 3px 1px rgba(60, 64, 67, 0.15);\n",
              "      fill: #174EA6;\n",
              "    }\n",
              "\n",
              "    [theme=dark] .colab-df-convert {\n",
              "      background-color: #3B4455;\n",
              "      fill: #D2E3FC;\n",
              "    }\n",
              "\n",
              "    [theme=dark] .colab-df-convert:hover {\n",
              "      background-color: #434B5C;\n",
              "      box-shadow: 0px 1px 3px 1px rgba(0, 0, 0, 0.15);\n",
              "      filter: drop-shadow(0px 1px 2px rgba(0, 0, 0, 0.3));\n",
              "      fill: #FFFFFF;\n",
              "    }\n",
              "  </style>\n",
              "\n",
              "      <script>\n",
              "        const buttonEl =\n",
              "          document.querySelector('#df-0bc78ce0-3e0b-477d-90b2-786d0bf593fb button.colab-df-convert');\n",
              "        buttonEl.style.display =\n",
              "          google.colab.kernel.accessAllowed ? 'block' : 'none';\n",
              "\n",
              "        async function convertToInteractive(key) {\n",
              "          const element = document.querySelector('#df-0bc78ce0-3e0b-477d-90b2-786d0bf593fb');\n",
              "          const dataTable =\n",
              "            await google.colab.kernel.invokeFunction('convertToInteractive',\n",
              "                                                     [key], {});\n",
              "          if (!dataTable) return;\n",
              "\n",
              "          const docLinkHtml = 'Like what you see? Visit the ' +\n",
              "            '<a target=\"_blank\" href=https://colab.research.google.com/notebooks/data_table.ipynb>data table notebook</a>'\n",
              "            + ' to learn more about interactive tables.';\n",
              "          element.innerHTML = '';\n",
              "          dataTable['output_type'] = 'display_data';\n",
              "          await google.colab.output.renderOutput(dataTable, element);\n",
              "          const docLink = document.createElement('div');\n",
              "          docLink.innerHTML = docLinkHtml;\n",
              "          element.appendChild(docLink);\n",
              "        }\n",
              "      </script>\n",
              "    </div>\n",
              "  </div>\n",
              "  "
            ]
          },
          "metadata": {},
          "execution_count": 45
        }
      ],
      "source": [
        "#Показала данные в виде таблице:\n",
        "top_platforms = (new_data.pivot_table(index = 'rating', values = ['na_sales', 'eu_sales', 'jp_sales'], aggfunc = 'sum')\n",
        "                 .sort_values('eu_sales', ascending=False))\n",
        "                \n",
        "top_platforms.head()"
      ]
    },
    {
      "cell_type": "markdown",
      "metadata": {
        "id": "ZADL-rQJJtV_"
      },
      "source": [
        "**Вывод:** Во всех регионах очень большой процент продаж игр с неуказанным рейтингом. По тому что мы имеем, можно сказать, что в Европе и Америке лидируют игры с рейтингом M, в Японии - с рейтингом Т. В Северной Америке игры с рейтингом E и T занимают практически одинаковые доли от продаж. В Европе же, игры с E продаются чуточку больше. И во всех регионах самая маленька доля продаж приходится на игры с рейтингом E10+."
      ]
    },
    {
      "cell_type": "markdown",
      "metadata": {
        "id": "ol7AFKd4JtV_"
      },
      "source": [
        "***ОБЩИЙ ВЫВОД ПО БЛОКУ:*** \n",
        "\n",
        "*Портрет пользователя из Европы:*\n",
        "\n",
        "- Самые популярные платформы - PS4 и Xbox One, затем идут в равных долях PC и 3DS.\n",
        "- Самые популярные жанры - Action, Shooter, Sports, Role-Playing, Racing.\n",
        "- Самый популярный рейтинг - M\n",
        "\n",
        "*Портрет пользователя из Северной Америки:*\n",
        "\n",
        "- Саммые популярные платформы - PS4 и Xone, затем в почти равных долях идут 3DS и WiiU. \n",
        "- Самые популярные жанры - Shooter, Action, Sports, Role-Playing, Fighting.\n",
        "- Самый популярный рейтинг - M. Затем E и T занимают  почти равные доли. \n",
        "\n",
        "*Портрет пользователя из Японии:*\n",
        "\n",
        "- Самая популярная платформа - 3DS. Затем почти одинаковым спросом пользуются PS4 и PSV.\n",
        "- Самые популярные жанры - Role_Playing, Action, Music, Fighting, Shooter.\n",
        "- Самые популярный рейтинг - T. Следующий по популярности E и M.\n",
        "\n",
        "\n",
        "\n"
      ]
    },
    {
      "cell_type": "markdown",
      "metadata": {
        "id": "jlxSLOGIJtV_"
      },
      "source": [
        "## Проверьте гипотезы."
      ]
    },
    {
      "cell_type": "markdown",
      "metadata": {
        "id": "vCOKlW1cJtV_"
      },
      "source": [
        "### Средние пользовательские рейтинги платформ Xbox One и PC одинаковые;"
      ]
    },
    {
      "cell_type": "markdown",
      "metadata": {
        "id": "_nsTwzq1JtWA"
      },
      "source": [
        "- Нулевая гипотеза: Средние пользовательские рейтинги платформ Xbox One и PC равны.\n",
        "- Альтернативная гипотеза: Средние пользовательские рейтинги платформ Xbox One и PC разные."
      ]
    },
    {
      "cell_type": "code",
      "execution_count": null,
      "metadata": {
        "id": "hcwlS6s9JtWA",
        "outputId": "ffb4cd6c-2f11-48a7-cddc-b7dfb777266c",
        "colab": {
          "base_uri": "https://localhost:8080/"
        }
      },
      "outputs": [
        {
          "output_type": "stream",
          "name": "stdout",
          "text": [
            "Средний пользовательский рейтинг на PC: 6.298360655737705\n",
            "Средний пользовательский рейтинг на Xbox One: 6.594545454545456\n",
            "p-value: 0.11601398086668827\n",
            "Не получилось отвергнуть нулевую гипотезу\n"
          ]
        }
      ],
      "source": [
        "score = new_data[new_data['user_score'] != -111]\n",
        "\n",
        "print('Средний пользовательский рейтинг на PC:', score.query('platform == \"PC\"')['user_score'].mean())\n",
        "print('Средний пользовательский рейтинг на Xbox One:', score.query('platform == \"XOne\"')['user_score'].mean())\n",
        "\n",
        "\n",
        "results = st.ttest_ind(\n",
        "    score.query('platform == \"PC\"')['user_score'],\n",
        "    score.query('platform == \"XOne\"')['user_score'],\n",
        "    equal_var=False\n",
        "    )\n",
        "alpha = 0.05\n",
        "\n",
        "print('p-value:', results.pvalue)\n",
        "if results.pvalue < alpha:\n",
        "    print('Принимаем альтернативную гипотезу')\n",
        "else:\n",
        "    print('Не получилось отвергнуть нулевую гипотезу')"
      ]
    },
    {
      "cell_type": "markdown",
      "metadata": {
        "id": "nX-z-tciJtWA"
      },
      "source": [
        "Не можем опровергнуть то, что средние пользовательские рейтинги на этих платформах равны."
      ]
    },
    {
      "cell_type": "markdown",
      "metadata": {
        "id": "1YIG1yPZJtWA"
      },
      "source": [
        "### Средние пользовательские рейтинги жанров Action (англ. «действие», экшен-игры) и Sports (англ. «спортивные соревнования») разные."
      ]
    },
    {
      "cell_type": "markdown",
      "metadata": {
        "id": "fUrZkeC6JtWA"
      },
      "source": [
        "- Нулевая гипотеза: Средние пользовательские рейтинги жанров Action и Sports равны.\n",
        "- Альтернативная гипотеза: Средние пользовательские рейтинги жанров Action и Sports разные."
      ]
    },
    {
      "cell_type": "code",
      "execution_count": null,
      "metadata": {
        "id": "YTibMfVxJtWB",
        "outputId": "6ab5d01a-91f5-4560-b793-329d17308f01",
        "colab": {
          "base_uri": "https://localhost:8080/"
        }
      },
      "outputs": [
        {
          "output_type": "stream",
          "name": "stdout",
          "text": [
            "Средний пользовательский рейтинг жанра Action: 6.828163265306123\n",
            "Средний пользовательский рейтинг жанра Sports: 5.6360465116279075\n",
            "p-value: 1.1664151897936176e-08\n",
            "Принимаем альтернативную гипотезу\n"
          ]
        }
      ],
      "source": [
        "score = new_data[new_data['user_score'] != -111]\n",
        "\n",
        "print('Средний пользовательский рейтинг жанра Action:', score.query('genre == \"Action\"')['user_score'].mean())\n",
        "print('Средний пользовательский рейтинг жанра Sports:', score.query('genre == \"Sports\"')['user_score'].mean())\n",
        "\n",
        "\n",
        "results = st.ttest_ind(\n",
        "    score.query('genre == \"Action\"')['user_score'],\n",
        "    score.query('genre == \"Sports\"')['user_score'],\n",
        "    equal_var=False\n",
        "    )\n",
        "alpha = 0.05\n",
        "\n",
        "print('p-value:', results.pvalue)\n",
        "if results.pvalue < alpha:\n",
        "    print('Принимаем альтернативную гипотезу')\n",
        "else:\n",
        "    print('Не получилось отвергнуть нулевую гипотезу')"
      ]
    },
    {
      "cell_type": "markdown",
      "metadata": {
        "id": "K5E-gTkGJtWB"
      },
      "source": [
        "Средние пользовательские рейтинги жанров Action и Sports различаются."
      ]
    },
    {
      "cell_type": "markdown",
      "metadata": {
        "id": "8eKP5fZCJtWB"
      },
      "source": [
        "## Общий вывод:"
      ]
    },
    {
      "cell_type": "markdown",
      "metadata": {
        "id": "k-NGN82gJtWB"
      },
      "source": [
        "1) Обнаружено очень много пропусков в столбцах с оценками критиков, пользователей и  с рейтингом. Что делает анализ по этим категориям очень приблизительным.\n",
        "\n",
        "2) Пропуски в столбцах с оценками заполнила значениями-заглушками(-111), а в столбце с рейтингом - Uknown.\n",
        "\n",
        "3) Рейтинги объединила в 5 основных категорий:\n",
        "- E\n",
        "- M\n",
        "- T\n",
        "- E10+\n",
        "- Uknown\n",
        "\n",
        "4) Строк-дубликатов не найдено.\n",
        "\n",
        "5) Удалила строки с пропусками в столбцах name, genre, year_of_release, т.к их около 1.6% от общих данных и их удаление не нанесет ущерба анализу в целом.\n",
        "\n",
        "6) В 2006-2011 года было выпущено больше всего игр, потом пошло на спад - игр стало выпускаться а разы мeньше.\n",
        "\n",
        "7) Актуальным периодом выбрала года с 2014 по 2016.\n",
        "\n",
        "8) В этот период, самыми популярнами платформами являлись - PS4, Xbox One, 3DS, WiiU, PC, PSV. Самыми прибыльными из них - PS4, Xbox One, 3DS, WiiU\n",
        "\n",
        "9) Замечена слабая корреляция между оценками критиками и продажами на платформах  PS4, Xbox One, WiiU, а также на WiiU обнаружена положительная корреляция между оценками пользователей и продажами.\n",
        "\n",
        "10) За актуальный период, можно выделить 4 самых популярных жанра:\n",
        "- Action\n",
        "- Shooter\n",
        "- Role_Playing\n",
        "- Sports\n",
        "\n",
        "В зависимости от региона распределение по популярности между этими жанрами различается. В Северной Америке и Европе самые востребованные - Action и Shooter, в Японии Role-Playing и Action.\n",
        "\n",
        "11) В Северной Америке и Европе самыми популярными платформами являются PS4 и Xbox One, а в Японии 3DS, возможно потому что это японская компания.\n",
        "\n",
        "Итак, при планировании стратегий на будущий год, стоить сделать упор на  такие жанры как Action, Shooter, Role-Playing и Sports. В Северной Америке и Европе  выгоднее всего размещать игры на платформах Xbox One и  PS4, а в Японии же на платформе 3DS и PS4. Так же было бы полезно уделить больше внимания оценкам критиков игр на этих платформах. Поощрать их оставлять комментарии, делиться мнением, потому что есть заметная, хоть и слабая, зависимость между их оценками и продажами игр. \n",
        "По имеющимся данным о рейтингах видно, что больше всего продаж игр продается с рейтингом M, т.е для взрослых, а также с рейтингом E и T (для всех и для подростков). Стоит сделать ставку на эти рейтинги.\n",
        "\n",
        "\n",
        "\n",
        "\n"
      ]
    }
  ],
  "metadata": {
    "ExecuteTimeLog": [
      {
        "duration": 1910,
        "start_time": "2022-04-13T16:24:26.715Z"
      },
      {
        "duration": 3,
        "start_time": "2022-04-13T16:24:47.773Z"
      },
      {
        "duration": 59,
        "start_time": "2022-04-13T16:25:42.908Z"
      },
      {
        "duration": 66,
        "start_time": "2022-04-13T16:26:12.837Z"
      },
      {
        "duration": 11,
        "start_time": "2022-04-13T16:29:02.262Z"
      },
      {
        "duration": 11,
        "start_time": "2022-04-13T16:29:17.629Z"
      },
      {
        "duration": 106,
        "start_time": "2022-04-13T16:30:12.724Z"
      },
      {
        "duration": 17,
        "start_time": "2022-04-13T16:30:35.762Z"
      },
      {
        "duration": 9,
        "start_time": "2022-04-13T16:38:15.414Z"
      },
      {
        "duration": 9,
        "start_time": "2022-04-13T16:38:42.744Z"
      },
      {
        "duration": 9,
        "start_time": "2022-04-13T16:38:57.392Z"
      },
      {
        "duration": 9,
        "start_time": "2022-04-13T16:45:02.764Z"
      },
      {
        "duration": 95,
        "start_time": "2022-04-13T16:45:38.354Z"
      },
      {
        "duration": 3,
        "start_time": "2022-04-13T16:48:47.419Z"
      },
      {
        "duration": 22,
        "start_time": "2022-04-13T16:48:55.197Z"
      },
      {
        "duration": 3,
        "start_time": "2022-04-13T16:49:19.693Z"
      },
      {
        "duration": 16,
        "start_time": "2022-04-13T16:49:41.791Z"
      },
      {
        "duration": 8,
        "start_time": "2022-04-13T16:50:20.339Z"
      },
      {
        "duration": 5,
        "start_time": "2022-04-13T16:50:42.938Z"
      },
      {
        "duration": 6,
        "start_time": "2022-04-13T16:51:21.617Z"
      },
      {
        "duration": 6,
        "start_time": "2022-04-13T16:52:01.108Z"
      },
      {
        "duration": 7,
        "start_time": "2022-04-13T16:57:54.022Z"
      },
      {
        "duration": 5,
        "start_time": "2022-04-13T16:58:14.302Z"
      },
      {
        "duration": 5,
        "start_time": "2022-04-13T17:05:55.968Z"
      },
      {
        "duration": 29,
        "start_time": "2022-04-13T17:06:03.660Z"
      },
      {
        "duration": 6,
        "start_time": "2022-04-13T17:06:41.999Z"
      },
      {
        "duration": 8,
        "start_time": "2022-04-13T17:06:43.871Z"
      },
      {
        "duration": 6,
        "start_time": "2022-04-13T17:06:44.296Z"
      },
      {
        "duration": 6,
        "start_time": "2022-04-13T17:06:44.703Z"
      },
      {
        "duration": 6,
        "start_time": "2022-04-13T17:07:37.895Z"
      },
      {
        "duration": 32,
        "start_time": "2022-04-13T17:08:18.655Z"
      },
      {
        "duration": 28,
        "start_time": "2022-04-13T17:08:30.378Z"
      },
      {
        "duration": 19,
        "start_time": "2022-04-13T17:12:25.138Z"
      },
      {
        "duration": 9,
        "start_time": "2022-04-13T17:12:52.453Z"
      },
      {
        "duration": 25,
        "start_time": "2022-04-13T17:13:32.382Z"
      },
      {
        "duration": 18,
        "start_time": "2022-04-13T17:14:28.492Z"
      },
      {
        "duration": 12,
        "start_time": "2022-04-13T17:15:00.710Z"
      },
      {
        "duration": 8,
        "start_time": "2022-04-13T17:15:08.900Z"
      },
      {
        "duration": 26,
        "start_time": "2022-04-13T17:19:16.988Z"
      },
      {
        "duration": 9,
        "start_time": "2022-04-13T17:23:33.102Z"
      },
      {
        "duration": 13,
        "start_time": "2022-04-13T17:24:02.303Z"
      },
      {
        "duration": 8,
        "start_time": "2022-04-13T17:24:25.730Z"
      },
      {
        "duration": 8,
        "start_time": "2022-04-13T17:24:53.082Z"
      },
      {
        "duration": 14,
        "start_time": "2022-04-13T17:24:55.355Z"
      },
      {
        "duration": 7,
        "start_time": "2022-04-13T17:29:41.462Z"
      },
      {
        "duration": 6,
        "start_time": "2022-04-13T17:29:53.397Z"
      },
      {
        "duration": 11,
        "start_time": "2022-04-13T17:30:04.054Z"
      },
      {
        "duration": 15,
        "start_time": "2022-04-13T17:30:05.804Z"
      },
      {
        "duration": 14,
        "start_time": "2022-04-13T17:30:10.298Z"
      },
      {
        "duration": 15,
        "start_time": "2022-04-13T17:30:23.816Z"
      },
      {
        "duration": 6,
        "start_time": "2022-04-13T17:30:24.345Z"
      },
      {
        "duration": 6,
        "start_time": "2022-04-13T17:30:24.771Z"
      },
      {
        "duration": 7,
        "start_time": "2022-04-13T17:30:25.245Z"
      },
      {
        "duration": 7,
        "start_time": "2022-04-13T17:30:25.701Z"
      },
      {
        "duration": 15,
        "start_time": "2022-04-13T17:30:27.268Z"
      },
      {
        "duration": 9,
        "start_time": "2022-04-13T17:30:28.580Z"
      },
      {
        "duration": 10,
        "start_time": "2022-04-13T17:30:28.604Z"
      },
      {
        "duration": 15,
        "start_time": "2022-04-13T17:31:16.509Z"
      },
      {
        "duration": 12,
        "start_time": "2022-04-13T17:31:34.267Z"
      },
      {
        "duration": 9,
        "start_time": "2022-04-13T17:34:08.665Z"
      },
      {
        "duration": 11,
        "start_time": "2022-04-13T17:34:09.948Z"
      },
      {
        "duration": 11,
        "start_time": "2022-04-13T17:34:41.979Z"
      },
      {
        "duration": 10,
        "start_time": "2022-04-13T17:34:43.565Z"
      },
      {
        "duration": 10,
        "start_time": "2022-04-13T17:37:59.755Z"
      },
      {
        "duration": 17,
        "start_time": "2022-04-13T17:38:05.751Z"
      },
      {
        "duration": 10,
        "start_time": "2022-04-13T17:38:10.953Z"
      },
      {
        "duration": 13,
        "start_time": "2022-04-13T17:38:11.425Z"
      },
      {
        "duration": 7,
        "start_time": "2022-04-13T17:40:05.388Z"
      },
      {
        "duration": 10,
        "start_time": "2022-04-13T17:40:20.562Z"
      },
      {
        "duration": 8,
        "start_time": "2022-04-13T17:46:16.191Z"
      },
      {
        "duration": 7,
        "start_time": "2022-04-13T17:46:43.223Z"
      },
      {
        "duration": 10,
        "start_time": "2022-04-13T18:02:15.739Z"
      },
      {
        "duration": 10,
        "start_time": "2022-04-13T18:02:42.651Z"
      },
      {
        "duration": 8,
        "start_time": "2022-04-13T18:03:09.773Z"
      },
      {
        "duration": 9,
        "start_time": "2022-04-13T18:03:16.703Z"
      },
      {
        "duration": 8,
        "start_time": "2022-04-13T18:03:17.278Z"
      },
      {
        "duration": 6,
        "start_time": "2022-04-13T18:04:29.426Z"
      },
      {
        "duration": 7,
        "start_time": "2022-04-13T18:04:30.250Z"
      },
      {
        "duration": 4,
        "start_time": "2022-04-13T18:04:37.473Z"
      },
      {
        "duration": 7,
        "start_time": "2022-04-13T18:04:38.105Z"
      },
      {
        "duration": 6,
        "start_time": "2022-04-13T18:04:43.018Z"
      },
      {
        "duration": 7,
        "start_time": "2022-04-13T18:04:43.488Z"
      },
      {
        "duration": 10,
        "start_time": "2022-04-13T18:04:45.935Z"
      },
      {
        "duration": 5,
        "start_time": "2022-04-13T18:04:46.402Z"
      },
      {
        "duration": 8,
        "start_time": "2022-04-13T18:04:46.833Z"
      },
      {
        "duration": 4,
        "start_time": "2022-04-13T18:05:02.208Z"
      },
      {
        "duration": 6,
        "start_time": "2022-04-13T18:05:02.659Z"
      },
      {
        "duration": 132,
        "start_time": "2022-04-13T18:05:03.206Z"
      },
      {
        "duration": 10,
        "start_time": "2022-04-13T18:05:03.704Z"
      },
      {
        "duration": 1854,
        "start_time": "2022-04-13T18:05:04.199Z"
      },
      {
        "duration": 0,
        "start_time": "2022-04-13T18:05:06.055Z"
      },
      {
        "duration": 0,
        "start_time": "2022-04-13T18:05:06.057Z"
      },
      {
        "duration": 4,
        "start_time": "2022-04-13T18:05:44.927Z"
      },
      {
        "duration": 4,
        "start_time": "2022-04-13T18:05:45.406Z"
      },
      {
        "duration": 93,
        "start_time": "2022-04-13T18:05:45.863Z"
      },
      {
        "duration": 14,
        "start_time": "2022-04-13T18:05:46.323Z"
      },
      {
        "duration": 1814,
        "start_time": "2022-04-13T18:05:46.750Z"
      },
      {
        "duration": 0,
        "start_time": "2022-04-13T18:05:48.567Z"
      },
      {
        "duration": 0,
        "start_time": "2022-04-13T18:05:48.568Z"
      },
      {
        "duration": 0,
        "start_time": "2022-04-13T18:05:48.569Z"
      },
      {
        "duration": 1380,
        "start_time": "2022-04-13T18:07:24.693Z"
      },
      {
        "duration": 3,
        "start_time": "2022-04-13T18:07:26.734Z"
      },
      {
        "duration": 145,
        "start_time": "2022-04-13T18:07:27.289Z"
      },
      {
        "duration": 14,
        "start_time": "2022-04-13T18:07:27.885Z"
      },
      {
        "duration": 2093,
        "start_time": "2022-04-13T18:07:28.607Z"
      },
      {
        "duration": 0,
        "start_time": "2022-04-13T18:07:30.702Z"
      },
      {
        "duration": 13,
        "start_time": "2022-04-13T18:08:22.217Z"
      },
      {
        "duration": 15,
        "start_time": "2022-04-13T18:10:53.900Z"
      },
      {
        "duration": 10,
        "start_time": "2022-04-13T18:10:55.919Z"
      },
      {
        "duration": 6,
        "start_time": "2022-04-13T18:10:56.777Z"
      },
      {
        "duration": 7,
        "start_time": "2022-04-13T18:10:57.296Z"
      },
      {
        "duration": 6,
        "start_time": "2022-04-13T18:10:58.370Z"
      },
      {
        "duration": 16,
        "start_time": "2022-04-13T18:11:03.585Z"
      },
      {
        "duration": 6,
        "start_time": "2022-04-13T18:11:07.195Z"
      },
      {
        "duration": 10,
        "start_time": "2022-04-13T18:11:08.035Z"
      },
      {
        "duration": 8,
        "start_time": "2022-04-13T18:11:13.344Z"
      },
      {
        "duration": 10,
        "start_time": "2022-04-13T18:11:30.252Z"
      },
      {
        "duration": 5,
        "start_time": "2022-04-13T18:11:32.117Z"
      },
      {
        "duration": 7,
        "start_time": "2022-04-13T18:11:32.696Z"
      },
      {
        "duration": 6,
        "start_time": "2022-04-13T18:11:58.668Z"
      },
      {
        "duration": 10,
        "start_time": "2022-04-13T18:11:59.675Z"
      },
      {
        "duration": 11,
        "start_time": "2022-04-13T18:15:07.488Z"
      },
      {
        "duration": 12,
        "start_time": "2022-04-13T18:15:20.429Z"
      },
      {
        "duration": 17,
        "start_time": "2022-04-13T18:15:48.219Z"
      },
      {
        "duration": 7,
        "start_time": "2022-04-13T18:15:48.764Z"
      },
      {
        "duration": 10,
        "start_time": "2022-04-13T18:15:50.409Z"
      },
      {
        "duration": 9,
        "start_time": "2022-04-13T18:15:51.929Z"
      },
      {
        "duration": 5,
        "start_time": "2022-04-13T18:15:52.569Z"
      },
      {
        "duration": 8,
        "start_time": "2022-04-13T18:15:53.167Z"
      },
      {
        "duration": 10,
        "start_time": "2022-04-13T18:15:55.645Z"
      },
      {
        "duration": 14,
        "start_time": "2022-04-13T18:16:29.093Z"
      },
      {
        "duration": 25,
        "start_time": "2022-04-13T18:20:27.074Z"
      },
      {
        "duration": 5,
        "start_time": "2022-04-13T18:24:03.742Z"
      },
      {
        "duration": 10,
        "start_time": "2022-04-13T18:25:05.035Z"
      },
      {
        "duration": 6,
        "start_time": "2022-04-13T18:28:40.291Z"
      },
      {
        "duration": 13,
        "start_time": "2022-04-13T18:29:06.522Z"
      },
      {
        "duration": 5,
        "start_time": "2022-04-13T18:30:35.287Z"
      },
      {
        "duration": 4,
        "start_time": "2022-04-13T18:30:56.054Z"
      },
      {
        "duration": 7,
        "start_time": "2022-04-13T18:30:56.488Z"
      },
      {
        "duration": 6,
        "start_time": "2022-04-13T18:33:26.973Z"
      },
      {
        "duration": 26,
        "start_time": "2022-04-13T18:33:39.514Z"
      },
      {
        "duration": 22,
        "start_time": "2022-04-13T18:34:02.419Z"
      },
      {
        "duration": 15,
        "start_time": "2022-04-13T18:34:26.289Z"
      },
      {
        "duration": 20,
        "start_time": "2022-04-13T18:34:58.953Z"
      },
      {
        "duration": 17,
        "start_time": "2022-04-13T18:34:59.345Z"
      },
      {
        "duration": 15,
        "start_time": "2022-04-13T18:41:55.252Z"
      },
      {
        "duration": 15,
        "start_time": "2022-04-13T18:42:13.388Z"
      },
      {
        "duration": 113,
        "start_time": "2022-04-13T18:56:53.467Z"
      },
      {
        "duration": 115,
        "start_time": "2022-04-13T18:57:23.536Z"
      },
      {
        "duration": 216,
        "start_time": "2022-04-13T18:57:48.192Z"
      },
      {
        "duration": 300,
        "start_time": "2022-04-13T18:59:48.697Z"
      },
      {
        "duration": 7,
        "start_time": "2022-04-13T19:02:04.330Z"
      },
      {
        "duration": 405,
        "start_time": "2022-04-13T19:22:16.137Z"
      },
      {
        "duration": 28,
        "start_time": "2022-04-13T19:37:28.600Z"
      },
      {
        "duration": 1668,
        "start_time": "2022-04-13T19:37:34.999Z"
      },
      {
        "duration": 8,
        "start_time": "2022-04-13T19:56:40.207Z"
      },
      {
        "duration": 200,
        "start_time": "2022-04-13T20:40:51.547Z"
      },
      {
        "duration": 375,
        "start_time": "2022-04-13T20:43:10.983Z"
      },
      {
        "duration": 1419,
        "start_time": "2022-04-13T20:43:22.684Z"
      },
      {
        "duration": 503,
        "start_time": "2022-04-13T20:44:29.663Z"
      },
      {
        "duration": 198,
        "start_time": "2022-04-13T20:47:19.068Z"
      },
      {
        "duration": 195,
        "start_time": "2022-04-13T20:48:19.371Z"
      },
      {
        "duration": 588,
        "start_time": "2022-04-13T20:48:29.849Z"
      },
      {
        "duration": 1380,
        "start_time": "2022-04-13T21:16:14.960Z"
      },
      {
        "duration": 106,
        "start_time": "2022-04-13T21:34:44.707Z"
      },
      {
        "duration": 116,
        "start_time": "2022-04-13T21:35:02.607Z"
      },
      {
        "duration": 905,
        "start_time": "2022-04-13T21:35:41.407Z"
      },
      {
        "duration": 7,
        "start_time": "2022-04-13T21:36:00.332Z"
      },
      {
        "duration": 26,
        "start_time": "2022-04-13T21:36:08.330Z"
      },
      {
        "duration": 25,
        "start_time": "2022-04-13T21:36:46.692Z"
      },
      {
        "duration": 27,
        "start_time": "2022-04-13T21:37:04.055Z"
      },
      {
        "duration": 5,
        "start_time": "2022-04-13T21:37:42.052Z"
      },
      {
        "duration": 26,
        "start_time": "2022-04-13T21:38:08.541Z"
      },
      {
        "duration": 5,
        "start_time": "2022-04-13T21:38:13.164Z"
      },
      {
        "duration": 26,
        "start_time": "2022-04-13T21:46:02.518Z"
      },
      {
        "duration": 1259,
        "start_time": "2022-04-13T21:46:23.887Z"
      },
      {
        "duration": 3,
        "start_time": "2022-04-13T21:46:25.148Z"
      },
      {
        "duration": 106,
        "start_time": "2022-04-13T21:46:25.153Z"
      },
      {
        "duration": 10,
        "start_time": "2022-04-13T21:46:25.990Z"
      },
      {
        "duration": 15,
        "start_time": "2022-04-13T21:46:28.195Z"
      },
      {
        "duration": 8,
        "start_time": "2022-04-13T21:46:28.847Z"
      },
      {
        "duration": 6,
        "start_time": "2022-04-13T21:46:29.379Z"
      },
      {
        "duration": 6,
        "start_time": "2022-04-13T21:46:29.971Z"
      },
      {
        "duration": 5,
        "start_time": "2022-04-13T21:46:30.600Z"
      },
      {
        "duration": 14,
        "start_time": "2022-04-13T21:46:31.293Z"
      },
      {
        "duration": 7,
        "start_time": "2022-04-13T21:46:31.828Z"
      },
      {
        "duration": 8,
        "start_time": "2022-04-13T21:46:32.371Z"
      },
      {
        "duration": 10,
        "start_time": "2022-04-13T21:46:33.512Z"
      },
      {
        "duration": 5,
        "start_time": "2022-04-13T21:46:34.006Z"
      },
      {
        "duration": 7,
        "start_time": "2022-04-13T21:46:34.525Z"
      },
      {
        "duration": 9,
        "start_time": "2022-04-13T21:46:35.708Z"
      },
      {
        "duration": 5,
        "start_time": "2022-04-13T21:46:36.219Z"
      },
      {
        "duration": 8,
        "start_time": "2022-04-13T21:46:36.724Z"
      },
      {
        "duration": 8,
        "start_time": "2022-04-13T21:46:37.733Z"
      },
      {
        "duration": 20,
        "start_time": "2022-04-13T21:46:38.192Z"
      },
      {
        "duration": 15,
        "start_time": "2022-04-13T21:46:38.704Z"
      },
      {
        "duration": 13,
        "start_time": "2022-04-13T21:46:39.213Z"
      },
      {
        "duration": 203,
        "start_time": "2022-04-13T21:46:42.146Z"
      },
      {
        "duration": 6,
        "start_time": "2022-04-13T21:46:43.235Z"
      },
      {
        "duration": 354,
        "start_time": "2022-04-13T21:46:46.144Z"
      },
      {
        "duration": 1092,
        "start_time": "2022-04-13T21:46:47.933Z"
      },
      {
        "duration": 6,
        "start_time": "2022-04-13T21:46:50.256Z"
      },
      {
        "duration": 432,
        "start_time": "2022-04-13T21:46:51.640Z"
      },
      {
        "duration": 2112,
        "start_time": "2022-04-13T21:46:52.642Z"
      },
      {
        "duration": 38,
        "start_time": "2022-04-13T21:46:56.436Z"
      },
      {
        "duration": 28,
        "start_time": "2022-04-13T21:50:05.956Z"
      },
      {
        "duration": 26,
        "start_time": "2022-04-13T21:52:50.187Z"
      },
      {
        "duration": 6,
        "start_time": "2022-04-13T21:52:56.843Z"
      },
      {
        "duration": 105,
        "start_time": "2022-04-13T21:59:13.293Z"
      },
      {
        "duration": 121,
        "start_time": "2022-04-13T21:59:25.203Z"
      },
      {
        "duration": 115,
        "start_time": "2022-04-13T22:00:11.321Z"
      },
      {
        "duration": 471,
        "start_time": "2022-04-13T22:00:36.570Z"
      },
      {
        "duration": 245,
        "start_time": "2022-04-13T22:02:01.873Z"
      },
      {
        "duration": 356,
        "start_time": "2022-04-13T22:02:23.949Z"
      },
      {
        "duration": 346,
        "start_time": "2022-04-13T22:02:39.732Z"
      },
      {
        "duration": 195,
        "start_time": "2022-04-13T22:08:59.445Z"
      },
      {
        "duration": 209,
        "start_time": "2022-04-13T22:09:16.109Z"
      },
      {
        "duration": 201,
        "start_time": "2022-04-13T22:09:55.868Z"
      },
      {
        "duration": 216,
        "start_time": "2022-04-13T22:10:10.134Z"
      },
      {
        "duration": 211,
        "start_time": "2022-04-13T22:10:42.770Z"
      },
      {
        "duration": 215,
        "start_time": "2022-04-13T22:10:53.097Z"
      },
      {
        "duration": 211,
        "start_time": "2022-04-13T22:11:08.707Z"
      },
      {
        "duration": 333,
        "start_time": "2022-04-13T22:11:20.450Z"
      },
      {
        "duration": 211,
        "start_time": "2022-04-13T22:12:02.000Z"
      },
      {
        "duration": 31,
        "start_time": "2022-04-13T22:13:47.550Z"
      },
      {
        "duration": 218,
        "start_time": "2022-04-13T22:23:42.486Z"
      },
      {
        "duration": 212,
        "start_time": "2022-04-13T22:24:00.206Z"
      },
      {
        "duration": 213,
        "start_time": "2022-04-13T22:24:14.194Z"
      },
      {
        "duration": 205,
        "start_time": "2022-04-13T22:24:22.270Z"
      },
      {
        "duration": 213,
        "start_time": "2022-04-13T22:24:49.719Z"
      },
      {
        "duration": 201,
        "start_time": "2022-04-13T22:38:27.124Z"
      },
      {
        "duration": 202,
        "start_time": "2022-04-13T22:39:00.473Z"
      },
      {
        "duration": 15,
        "start_time": "2022-04-13T23:10:00.074Z"
      },
      {
        "duration": 16,
        "start_time": "2022-04-13T23:10:14.976Z"
      },
      {
        "duration": 249,
        "start_time": "2022-04-13T23:14:28.755Z"
      },
      {
        "duration": 103,
        "start_time": "2022-04-13T23:15:24.962Z"
      },
      {
        "duration": 272,
        "start_time": "2022-04-13T23:15:29.606Z"
      },
      {
        "duration": 5,
        "start_time": "2022-04-13T23:19:49.551Z"
      },
      {
        "duration": 109,
        "start_time": "2022-04-13T23:20:02.522Z"
      },
      {
        "duration": 117,
        "start_time": "2022-04-13T23:20:15.585Z"
      },
      {
        "duration": 114,
        "start_time": "2022-04-13T23:20:34.660Z"
      },
      {
        "duration": 1708,
        "start_time": "2022-04-13T23:21:07.947Z"
      },
      {
        "duration": 9,
        "start_time": "2022-04-13T23:21:45.009Z"
      },
      {
        "duration": 5,
        "start_time": "2022-04-13T23:34:19.478Z"
      },
      {
        "duration": 1632,
        "start_time": "2022-04-13T23:34:28.709Z"
      },
      {
        "duration": 1724,
        "start_time": "2022-04-13T23:34:47.483Z"
      },
      {
        "duration": 1638,
        "start_time": "2022-04-13T23:35:31.074Z"
      },
      {
        "duration": 214,
        "start_time": "2022-04-13T23:45:45.446Z"
      },
      {
        "duration": 274,
        "start_time": "2022-04-13T23:47:25.869Z"
      },
      {
        "duration": 379,
        "start_time": "2022-04-13T23:48:02.493Z"
      },
      {
        "duration": 3,
        "start_time": "2022-04-14T00:05:53.792Z"
      },
      {
        "duration": 4,
        "start_time": "2022-04-14T00:05:58.711Z"
      },
      {
        "duration": 5,
        "start_time": "2022-04-14T00:07:02.967Z"
      },
      {
        "duration": 5,
        "start_time": "2022-04-14T00:12:37.363Z"
      },
      {
        "duration": 12,
        "start_time": "2022-04-14T00:12:38.021Z"
      },
      {
        "duration": 254,
        "start_time": "2022-04-14T00:20:22.125Z"
      },
      {
        "duration": 258,
        "start_time": "2022-04-14T00:21:05.312Z"
      },
      {
        "duration": 256,
        "start_time": "2022-04-14T00:21:11.281Z"
      },
      {
        "duration": 262,
        "start_time": "2022-04-14T00:22:13.688Z"
      },
      {
        "duration": 114,
        "start_time": "2022-04-14T00:22:43.644Z"
      },
      {
        "duration": 214,
        "start_time": "2022-04-14T00:22:49.196Z"
      },
      {
        "duration": 318,
        "start_time": "2022-04-14T00:23:18.364Z"
      },
      {
        "duration": 218,
        "start_time": "2022-04-14T00:23:54.072Z"
      },
      {
        "duration": 222,
        "start_time": "2022-04-14T00:24:55.413Z"
      },
      {
        "duration": 250,
        "start_time": "2022-04-14T00:27:27.196Z"
      },
      {
        "duration": 258,
        "start_time": "2022-04-14T00:27:52.233Z"
      },
      {
        "duration": 117,
        "start_time": "2022-04-14T00:28:27.836Z"
      },
      {
        "duration": 114,
        "start_time": "2022-04-14T00:28:40.581Z"
      },
      {
        "duration": 240,
        "start_time": "2022-04-14T00:28:45.280Z"
      },
      {
        "duration": 259,
        "start_time": "2022-04-14T00:29:42.153Z"
      },
      {
        "duration": 1230,
        "start_time": "2022-04-14T00:30:23.477Z"
      },
      {
        "duration": 100,
        "start_time": "2022-04-14T00:30:38.053Z"
      },
      {
        "duration": 10,
        "start_time": "2022-04-14T00:30:38.642Z"
      },
      {
        "duration": 14,
        "start_time": "2022-04-14T00:30:39.974Z"
      },
      {
        "duration": 8,
        "start_time": "2022-04-14T00:30:40.416Z"
      },
      {
        "duration": 5,
        "start_time": "2022-04-14T00:30:40.847Z"
      },
      {
        "duration": 6,
        "start_time": "2022-04-14T00:30:41.272Z"
      },
      {
        "duration": 5,
        "start_time": "2022-04-14T00:30:41.694Z"
      },
      {
        "duration": 14,
        "start_time": "2022-04-14T00:30:42.130Z"
      },
      {
        "duration": 5,
        "start_time": "2022-04-14T00:30:42.559Z"
      },
      {
        "duration": 7,
        "start_time": "2022-04-14T00:30:42.916Z"
      },
      {
        "duration": 8,
        "start_time": "2022-04-14T00:30:43.755Z"
      },
      {
        "duration": 5,
        "start_time": "2022-04-14T00:30:44.186Z"
      },
      {
        "duration": 7,
        "start_time": "2022-04-14T00:30:44.606Z"
      },
      {
        "duration": 10,
        "start_time": "2022-04-14T00:30:45.468Z"
      },
      {
        "duration": 4,
        "start_time": "2022-04-14T00:30:47.580Z"
      },
      {
        "duration": 7,
        "start_time": "2022-04-14T00:30:47.747Z"
      },
      {
        "duration": 7,
        "start_time": "2022-04-14T00:30:48.077Z"
      },
      {
        "duration": 20,
        "start_time": "2022-04-14T00:30:48.236Z"
      },
      {
        "duration": 16,
        "start_time": "2022-04-14T00:30:48.389Z"
      },
      {
        "duration": 14,
        "start_time": "2022-04-14T00:30:48.548Z"
      },
      {
        "duration": 194,
        "start_time": "2022-04-14T00:30:49.352Z"
      },
      {
        "duration": 6,
        "start_time": "2022-04-14T00:30:49.548Z"
      },
      {
        "duration": 310,
        "start_time": "2022-04-14T00:30:50.057Z"
      },
      {
        "duration": 1026,
        "start_time": "2022-04-14T00:30:50.387Z"
      },
      {
        "duration": 7,
        "start_time": "2022-04-14T00:30:51.415Z"
      },
      {
        "duration": 296,
        "start_time": "2022-04-14T00:30:51.424Z"
      },
      {
        "duration": 1256,
        "start_time": "2022-04-14T00:30:51.722Z"
      },
      {
        "duration": 39,
        "start_time": "2022-04-14T00:30:52.980Z"
      },
      {
        "duration": 5,
        "start_time": "2022-04-14T00:30:53.021Z"
      },
      {
        "duration": 280,
        "start_time": "2022-04-14T00:30:55.873Z"
      },
      {
        "duration": 198,
        "start_time": "2022-04-14T00:30:56.731Z"
      },
      {
        "duration": 279,
        "start_time": "2022-04-14T00:30:58.912Z"
      },
      {
        "duration": 10,
        "start_time": "2022-04-14T00:30:59.542Z"
      },
      {
        "duration": 1591,
        "start_time": "2022-04-14T00:31:00.492Z"
      },
      {
        "duration": 228,
        "start_time": "2022-04-14T00:31:02.085Z"
      },
      {
        "duration": 387,
        "start_time": "2022-04-14T00:31:02.317Z"
      },
      {
        "duration": 342,
        "start_time": "2022-04-14T00:31:02.963Z"
      },
      {
        "duration": 255,
        "start_time": "2022-04-14T00:31:10.922Z"
      },
      {
        "duration": 262,
        "start_time": "2022-04-14T00:31:43.712Z"
      },
      {
        "duration": 264,
        "start_time": "2022-04-14T00:31:50.471Z"
      },
      {
        "duration": 269,
        "start_time": "2022-04-14T00:32:05.253Z"
      },
      {
        "duration": 264,
        "start_time": "2022-04-14T00:32:16.774Z"
      },
      {
        "duration": 12,
        "start_time": "2022-04-14T00:33:15.137Z"
      },
      {
        "duration": 363,
        "start_time": "2022-04-14T00:33:48.687Z"
      },
      {
        "duration": 261,
        "start_time": "2022-04-14T00:35:37.984Z"
      },
      {
        "duration": 264,
        "start_time": "2022-04-14T00:36:29.542Z"
      },
      {
        "duration": 256,
        "start_time": "2022-04-14T00:37:27.278Z"
      },
      {
        "duration": 106,
        "start_time": "2022-04-14T00:40:40.900Z"
      },
      {
        "duration": 8,
        "start_time": "2022-04-14T00:40:59.353Z"
      },
      {
        "duration": 11,
        "start_time": "2022-04-14T00:42:17.826Z"
      },
      {
        "duration": 18,
        "start_time": "2022-04-14T00:44:32.521Z"
      },
      {
        "duration": 17,
        "start_time": "2022-04-14T00:44:43.386Z"
      },
      {
        "duration": 18,
        "start_time": "2022-04-14T00:45:06.544Z"
      },
      {
        "duration": 118,
        "start_time": "2022-04-14T00:46:36.464Z"
      },
      {
        "duration": 16,
        "start_time": "2022-04-14T00:46:43.223Z"
      },
      {
        "duration": 252,
        "start_time": "2022-04-14T00:55:01.949Z"
      },
      {
        "duration": 17,
        "start_time": "2022-04-14T00:56:03.137Z"
      },
      {
        "duration": 18,
        "start_time": "2022-04-14T00:57:16.273Z"
      },
      {
        "duration": 18,
        "start_time": "2022-04-14T01:07:46.351Z"
      },
      {
        "duration": 18,
        "start_time": "2022-04-14T01:08:52.776Z"
      },
      {
        "duration": 19,
        "start_time": "2022-04-14T01:09:41.302Z"
      },
      {
        "duration": 20,
        "start_time": "2022-04-14T01:09:52.899Z"
      },
      {
        "duration": 18,
        "start_time": "2022-04-14T01:10:45.590Z"
      },
      {
        "duration": 13,
        "start_time": "2022-04-14T01:11:46.590Z"
      },
      {
        "duration": 105,
        "start_time": "2022-04-14T01:12:11.992Z"
      },
      {
        "duration": 103,
        "start_time": "2022-04-14T01:12:16.753Z"
      },
      {
        "duration": 14,
        "start_time": "2022-04-14T01:12:40.665Z"
      },
      {
        "duration": 19,
        "start_time": "2022-04-14T01:12:45.903Z"
      },
      {
        "duration": 25,
        "start_time": "2022-04-14T01:12:56.473Z"
      },
      {
        "duration": 24,
        "start_time": "2022-04-14T01:13:46.859Z"
      },
      {
        "duration": 18,
        "start_time": "2022-04-14T01:14:14.588Z"
      },
      {
        "duration": 24,
        "start_time": "2022-04-14T01:14:40.766Z"
      },
      {
        "duration": 25,
        "start_time": "2022-04-14T01:15:30.139Z"
      },
      {
        "duration": 25,
        "start_time": "2022-04-14T01:16:46.640Z"
      },
      {
        "duration": 213,
        "start_time": "2022-04-14T01:26:23.316Z"
      },
      {
        "duration": 19,
        "start_time": "2022-04-14T01:31:19.264Z"
      },
      {
        "duration": 110,
        "start_time": "2022-04-14T01:43:53.963Z"
      },
      {
        "duration": 19,
        "start_time": "2022-04-14T01:46:20.430Z"
      },
      {
        "duration": 14,
        "start_time": "2022-04-14T01:47:01.214Z"
      },
      {
        "duration": 13,
        "start_time": "2022-04-14T01:51:36.381Z"
      },
      {
        "duration": 105,
        "start_time": "2022-04-14T01:55:21.712Z"
      },
      {
        "duration": 12,
        "start_time": "2022-04-14T01:59:22.799Z"
      },
      {
        "duration": 17,
        "start_time": "2022-04-14T02:02:28.304Z"
      },
      {
        "duration": 21,
        "start_time": "2022-04-14T02:03:45.006Z"
      },
      {
        "duration": 3,
        "start_time": "2022-04-14T02:05:28.931Z"
      },
      {
        "duration": 1359,
        "start_time": "2022-04-14T13:58:29.869Z"
      },
      {
        "duration": 3,
        "start_time": "2022-04-14T13:58:31.230Z"
      },
      {
        "duration": 97,
        "start_time": "2022-04-14T13:58:31.235Z"
      },
      {
        "duration": 8,
        "start_time": "2022-04-14T13:58:31.334Z"
      },
      {
        "duration": 21,
        "start_time": "2022-04-14T13:58:31.344Z"
      },
      {
        "duration": 15,
        "start_time": "2022-04-14T13:58:31.367Z"
      },
      {
        "duration": 5,
        "start_time": "2022-04-14T13:58:31.392Z"
      },
      {
        "duration": 5,
        "start_time": "2022-04-14T13:58:34.063Z"
      },
      {
        "duration": 5,
        "start_time": "2022-04-14T13:58:34.875Z"
      },
      {
        "duration": 11,
        "start_time": "2022-04-14T13:58:35.232Z"
      },
      {
        "duration": 6,
        "start_time": "2022-04-14T13:58:35.594Z"
      },
      {
        "duration": 5,
        "start_time": "2022-04-14T13:59:13.666Z"
      },
      {
        "duration": 5,
        "start_time": "2022-04-14T13:59:14.154Z"
      },
      {
        "duration": 5,
        "start_time": "2022-04-14T13:59:14.640Z"
      },
      {
        "duration": 10,
        "start_time": "2022-04-14T13:59:15.165Z"
      },
      {
        "duration": 4,
        "start_time": "2022-04-14T13:59:15.715Z"
      },
      {
        "duration": 6,
        "start_time": "2022-04-14T13:59:16.306Z"
      },
      {
        "duration": 8,
        "start_time": "2022-04-14T13:59:18.021Z"
      },
      {
        "duration": 5,
        "start_time": "2022-04-14T13:59:18.838Z"
      },
      {
        "duration": 7,
        "start_time": "2022-04-14T13:59:19.551Z"
      },
      {
        "duration": 9,
        "start_time": "2022-04-14T13:59:33.564Z"
      },
      {
        "duration": 4,
        "start_time": "2022-04-14T13:59:35.160Z"
      },
      {
        "duration": 8,
        "start_time": "2022-04-14T13:59:35.876Z"
      },
      {
        "duration": 7,
        "start_time": "2022-04-14T14:00:01.053Z"
      },
      {
        "duration": 18,
        "start_time": "2022-04-14T14:00:01.531Z"
      },
      {
        "duration": 13,
        "start_time": "2022-04-14T14:00:02.513Z"
      },
      {
        "duration": 12,
        "start_time": "2022-04-14T14:00:03.395Z"
      },
      {
        "duration": 168,
        "start_time": "2022-04-14T14:00:25.829Z"
      },
      {
        "duration": 6,
        "start_time": "2022-04-14T14:00:26.906Z"
      },
      {
        "duration": 285,
        "start_time": "2022-04-14T14:01:21.971Z"
      },
      {
        "duration": 1189,
        "start_time": "2022-04-14T14:01:23.905Z"
      },
      {
        "duration": 6,
        "start_time": "2022-04-14T14:01:25.593Z"
      },
      {
        "duration": 320,
        "start_time": "2022-04-14T14:01:26.942Z"
      },
      {
        "duration": 1507,
        "start_time": "2022-04-14T14:01:27.518Z"
      },
      {
        "duration": 29,
        "start_time": "2022-04-14T14:01:29.028Z"
      },
      {
        "duration": 5,
        "start_time": "2022-04-14T14:01:29.723Z"
      },
      {
        "duration": 263,
        "start_time": "2022-04-14T14:01:34.519Z"
      },
      {
        "duration": 180,
        "start_time": "2022-04-14T14:01:35.147Z"
      },
      {
        "duration": 263,
        "start_time": "2022-04-14T14:01:42.609Z"
      },
      {
        "duration": 8,
        "start_time": "2022-04-14T14:01:43.990Z"
      },
      {
        "duration": 1991,
        "start_time": "2022-04-14T14:02:00.536Z"
      },
      {
        "duration": 313,
        "start_time": "2022-04-14T14:02:06.714Z"
      },
      {
        "duration": 324,
        "start_time": "2022-04-14T14:02:07.776Z"
      },
      {
        "duration": 229,
        "start_time": "2022-04-14T14:02:46.309Z"
      },
      {
        "duration": 14,
        "start_time": "2022-04-14T14:02:46.984Z"
      },
      {
        "duration": 218,
        "start_time": "2022-04-14T14:02:50.322Z"
      },
      {
        "duration": 21,
        "start_time": "2022-04-14T14:02:52.790Z"
      },
      {
        "duration": 187,
        "start_time": "2022-04-14T14:03:20.079Z"
      },
      {
        "duration": 14,
        "start_time": "2022-04-14T14:03:21.022Z"
      },
      {
        "duration": 23,
        "start_time": "2022-04-14T14:12:25.022Z"
      },
      {
        "duration": 23,
        "start_time": "2022-04-14T14:12:35.559Z"
      },
      {
        "duration": 18,
        "start_time": "2022-04-14T14:26:29.810Z"
      },
      {
        "duration": 15,
        "start_time": "2022-04-14T14:37:24.887Z"
      },
      {
        "duration": 15,
        "start_time": "2022-04-14T14:37:27.157Z"
      },
      {
        "duration": 1457,
        "start_time": "2022-04-24T04:46:31.097Z"
      },
      {
        "duration": 3,
        "start_time": "2022-04-24T04:46:32.557Z"
      },
      {
        "duration": 136,
        "start_time": "2022-04-24T04:46:32.562Z"
      },
      {
        "duration": 11,
        "start_time": "2022-04-24T04:46:32.701Z"
      },
      {
        "duration": 25,
        "start_time": "2022-04-24T04:46:32.714Z"
      },
      {
        "duration": 12,
        "start_time": "2022-04-24T04:46:32.741Z"
      },
      {
        "duration": 38,
        "start_time": "2022-04-24T04:46:32.755Z"
      },
      {
        "duration": 6,
        "start_time": "2022-04-24T04:46:32.795Z"
      },
      {
        "duration": 18,
        "start_time": "2022-04-24T04:46:32.802Z"
      },
      {
        "duration": 7,
        "start_time": "2022-04-24T04:46:32.824Z"
      },
      {
        "duration": 14,
        "start_time": "2022-04-24T04:46:32.833Z"
      },
      {
        "duration": 11,
        "start_time": "2022-04-24T04:46:32.849Z"
      },
      {
        "duration": 35,
        "start_time": "2022-04-24T04:46:32.862Z"
      },
      {
        "duration": 11,
        "start_time": "2022-04-24T04:46:32.899Z"
      },
      {
        "duration": 15,
        "start_time": "2022-04-24T04:46:32.912Z"
      },
      {
        "duration": 4,
        "start_time": "2022-04-24T04:46:32.930Z"
      },
      {
        "duration": 10,
        "start_time": "2022-04-24T04:46:32.936Z"
      },
      {
        "duration": 50,
        "start_time": "2022-04-24T04:46:32.948Z"
      },
      {
        "duration": 30,
        "start_time": "2022-04-24T04:46:33.000Z"
      },
      {
        "duration": 23,
        "start_time": "2022-04-24T04:46:33.032Z"
      },
      {
        "duration": 42,
        "start_time": "2022-04-24T04:46:33.057Z"
      },
      {
        "duration": 325,
        "start_time": "2022-04-24T04:46:33.101Z"
      },
      {
        "duration": 7,
        "start_time": "2022-04-24T04:46:33.428Z"
      },
      {
        "duration": 526,
        "start_time": "2022-04-24T04:46:33.437Z"
      },
      {
        "duration": 1598,
        "start_time": "2022-04-24T04:46:33.966Z"
      },
      {
        "duration": 26,
        "start_time": "2022-04-24T04:46:35.567Z"
      },
      {
        "duration": 397,
        "start_time": "2022-04-24T04:46:35.596Z"
      },
      {
        "duration": 3269,
        "start_time": "2022-04-24T04:46:35.999Z"
      },
      {
        "duration": 51,
        "start_time": "2022-04-24T04:46:39.270Z"
      },
      {
        "duration": 6,
        "start_time": "2022-04-24T04:46:39.323Z"
      },
      {
        "duration": 433,
        "start_time": "2022-04-24T04:46:39.331Z"
      },
      {
        "duration": 337,
        "start_time": "2022-04-24T04:46:39.767Z"
      },
      {
        "duration": 441,
        "start_time": "2022-04-24T04:46:40.106Z"
      },
      {
        "duration": 11,
        "start_time": "2022-04-24T04:46:40.549Z"
      },
      {
        "duration": 2472,
        "start_time": "2022-04-24T04:46:40.562Z"
      },
      {
        "duration": 366,
        "start_time": "2022-04-24T04:46:43.037Z"
      },
      {
        "duration": 552,
        "start_time": "2022-04-24T04:46:43.407Z"
      },
      {
        "duration": 408,
        "start_time": "2022-04-24T04:46:43.961Z"
      },
      {
        "duration": 31,
        "start_time": "2022-04-24T04:46:44.371Z"
      },
      {
        "duration": 405,
        "start_time": "2022-04-24T04:46:44.404Z"
      },
      {
        "duration": 37,
        "start_time": "2022-04-24T04:46:44.811Z"
      },
      {
        "duration": 375,
        "start_time": "2022-04-24T04:46:44.851Z"
      },
      {
        "duration": 25,
        "start_time": "2022-04-24T04:46:45.229Z"
      },
      {
        "duration": 53,
        "start_time": "2022-04-24T04:46:45.257Z"
      },
      {
        "duration": 26,
        "start_time": "2022-04-24T04:46:45.313Z"
      },
      {
        "duration": 52,
        "start_time": "2022-05-11T15:43:04.193Z"
      }
    ],
    "kernelspec": {
      "display_name": "Python 3 (ipykernel)",
      "language": "python",
      "name": "python3"
    },
    "language_info": {
      "codemirror_mode": {
        "name": "ipython",
        "version": 3
      },
      "file_extension": ".py",
      "mimetype": "text/x-python",
      "name": "python",
      "nbconvert_exporter": "python",
      "pygments_lexer": "ipython3",
      "version": "3.9.5"
    },
    "toc": {
      "base_numbering": 1,
      "nav_menu": {},
      "number_sections": true,
      "sideBar": true,
      "skip_h1_title": true,
      "title_cell": "Table of Contents",
      "title_sidebar": "Contents",
      "toc_cell": false,
      "toc_position": {},
      "toc_section_display": true,
      "toc_window_display": false
    },
    "colab": {
      "provenance": [],
      "collapsed_sections": [],
      "include_colab_link": true
    }
  },
  "nbformat": 4,
  "nbformat_minor": 0
}